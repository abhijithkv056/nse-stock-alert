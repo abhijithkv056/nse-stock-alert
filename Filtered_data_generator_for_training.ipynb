{
 "cells": [
  {
   "cell_type": "code",
   "execution_count": 1,
   "id": "7994c04d",
   "metadata": {},
   "outputs": [
    {
     "name": "stdout",
     "output_type": "stream",
     "text": [
      "['360ONE', '3MINDIA', 'ABB', 'ACC', 'AIAENG', 'APLAPOLLO', 'AUBANK', 'AARTIDRUGS', 'AARTIIND', 'AAVAS', 'ABBOTINDIA', 'ADANIENT', 'ADANIGREEN', 'ADANIPORTS', 'ADANIPOWER', 'ATGL', 'ADANITRANS', 'AWL', 'ABCAPITAL', 'ABFRL', 'AEGISCHEM', 'AETHER', 'AFFLE', 'AJANTPHARM', 'APLLTD', 'ALKEM', 'ALKYLAMINE', 'AMARAJABAT', 'AMBER', 'AMBUJACEM', 'ANGELONE', 'ANURAS', 'APARINDS', 'APOLLOHOSP', 'APOLLOTYRE', 'APTUS', 'ACI', 'ASAHIINDIA', 'ASHOKLEY', 'ASIANPAINT', 'ASTERDM', 'ASTRAL', 'ATUL', 'AUROPHARMA', 'AVANTIFEED', 'DMART', 'AXISBANK', 'BASF', 'BEML', 'BLS', 'BSE', 'BAJAJ-AUTO', 'BAJAJELEC', 'BAJFINANCE', 'BAJAJFINSV', 'BAJAJHLDNG', 'BALAMINES', 'BALKRISIND', 'BALRAMCHIN', 'BANDHANBNK', 'BANKBARODA', 'BANKINDIA', 'MAHABANK', 'BATAINDIA', 'BAYERCROP', 'BERGEPAINT', 'BDL', 'BEL', 'BHARATFORG', 'BHEL', 'BPCL', 'BHARTIARTL', 'BIKAJI', 'BIOCON', 'BIRLACORPN', 'BSOFT', 'BLUEDART', 'BLUESTARCO', 'BBTC', 'BORORENEW', 'BOSCHLTD', 'BRIGADE', 'BCG', 'BRITANNIA', 'MAPMYINDIA', 'CCL', 'CESC', 'CGPOWER', 'CRISIL', 'CSBBANK', 'CAMPUS', 'CANFINHOME', 'CANBK', 'CGCL', 'CARBORUNIV', 'CASTROLIND', 'CEATLTD', 'CENTRALBK', 'CDSL', 'CENTURYPLY', 'CENTURYTEX', 'CERA', 'CHALET', 'CHAMBLFERT', 'CHEMPLASTS', 'CHOLAHLDNG', 'CHOLAFIN', 'CIPLA', 'CUB', 'CLEAN', 'COALINDIA', 'COCHINSHIP', 'COFORGE', 'COLPAL', 'CAMS', 'CONCOR', 'COROMANDEL', 'CRAFTSMAN', 'CREDITACC', 'CROMPTON', 'CUMMINSIND', 'CYIENT', 'DCMSHRIRAM', 'DLF', 'DABUR', 'DALBHARAT', 'DATAPATTNS', 'DEEPAKFERT', 'DEEPAKNTR', 'DELHIVERY', 'DELTACORP', 'DEVYANI', 'DIVISLAB', 'DIXON', 'LALPATHLAB', 'DRREDDY', 'EIDPARRY', 'EIHOTEL', 'EPL', 'EASEMYTRIP', 'EDELWEISS', 'EICHERMOT', 'ELGIEQUIP', 'EMAMILTD', 'ENDURANCE', 'ENGINERSIN', 'EQUITASBNK', 'ESCORTS', 'EXIDEIND', 'FDC', 'NYKAA', 'FEDERALBNK', 'FACT', 'FINEORG', 'FINCABLES', 'FINPIPE', 'FSL', 'FIVESTAR', 'FORTIS', 'GRINFRA', 'GAIL', 'GMMPFAUDLR', 'GMRINFRA', 'GALAXYSURF', 'GARFIBRES', 'GICRE', 'GLAND', 'GLAXO', 'GLENMARK', 'MEDANTA', 'GOCOLORS', 'GODFRYPHLP', 'GODREJAGRO', 'GODREJCP', 'GODREJIND', 'GODREJPROP', 'GRANULES', 'GRAPHITE', 'GRASIM', 'GESHIP', 'GREENPANEL', 'GRINDWELL', 'GUJALKALI', 'GAEL', 'FLUOROCHEM', 'GUJGASLTD', 'GNFC', 'GPPL', 'GSFC', 'GSPL', 'HEG', 'HCLTECH', 'HDFCAMC', 'HDFCBANK', 'HDFCLIFE', 'HFCL', 'HLEGLAS', 'HAPPSTMNDS', 'HAVELLS', 'HEROMOTOCO', 'HIKAL', 'HINDALCO', 'HGS', 'HAL', 'HINDCOPPER', 'HINDPETRO', 'HINDUNILVR', 'HINDZINC', 'POWERINDIA', 'HOMEFIRST', 'HONAUT', 'HUDCO', 'HDFC', 'ICICIBANK', 'ICICIGI', 'ICICIPRULI', 'ISEC', 'IDBI', 'IDFCFIRSTB', 'IDFC', 'IFBIND', 'IIFL', 'IRB', 'ITC', 'ITI', 'INDIACEM', 'IBULHSGFIN', 'IBREALEST', 'INDIAMART', 'INDIANB', 'IEX', 'INDHOTEL', 'IOC', 'IOB', 'IRCTC', 'IRFC', 'INDIGOPNTS', 'IGL', 'INDUSTOWER', 'INDUSINDBK', 'INFIBEAM', 'NAUKRI', 'INFY', 'INGERRAND', 'INTELLECT', 'INDIGO', 'IPCALAB', 'JBCHEPHARM', 'JKCEMENT', 'JBMA', 'JKLAKSHMI', 'JKPAPER', 'JMFINANCIL', 'JSWENERGY', 'JSWSTEEL', 'JAMNAAUTO', 'JSL', 'JINDALSTEL', 'JINDWORLD', 'JUBLFOOD', 'JUBLINGREA', 'JUBLPHARMA', 'JUSTDIAL', 'JYOTHYLAB', 'KPRMILL', 'KEI', 'KNRCON', 'KPITTECH', 'KRBL', 'KSB', 'KAJARIACER', 'KALPATPOWR', 'KALYANKJIL', 'KANSAINER', 'KARURVYSYA', 'KEC', 'KENNAMET', 'RUSTOMJEE', 'KFINTECH', 'KOTAKBANK', 'KIMS', 'L&TFH', 'LTTS', 'LICHSGFIN', 'LTIM', 'LAXMIMACH', 'LT', 'LATENTVIEW', 'LAURUSLABS', 'LXCHEM', 'LEMONTREE', 'LICI', 'LINDEINDIA', 'LUPIN', 'LUXIND', 'MMTC', 'MRF', 'MTARTECH', 'LODHA', 'MGL', 'M&MFIN', 'M&M', 'MAHINDCIE', 'MHRIL', 'MAHLIFE', 'MAHLOG', 'MANAPPURAM', 'MRPL', 'MARICO', 'MARUTI', 'MASTEK', 'MFSL', 'MAXHEALTH', 'MAZDOCK', 'MEDPLUS', 'MFL', 'METROBRAND', 'METROPOLIS', 'MSUMI', 'MOTILALOFS', 'MPHASIS', 'MCX', 'MUTHOOTFIN', 'NATCOPHARM', 'NBCC', 'NCC', 'NHPC', 'NLCINDIA', 'NMDC', 'NOCIL', 'NTPC', 'NH', 'NATIONALUM', 'NAVINFLUOR', 'NAZARA', 'NESTLEIND', 'NETWORK18', 'NAM-INDIA', 'NUVOCO', 'OBEROIRLTY', 'ONGC', 'OIL', 'OLECTRA', 'PAYTM', 'OFSS', 'ORIENTELEC', 'POLICYBZR', 'PCBL', 'PIIND', 'PNBHOUSING', 'PNCINFRA', 'PVR', 'PAGEIND', 'PATANJALI', 'PERSISTENT', 'PETRONET', 'PFIZER', 'PHOENIXLTD', 'PIDILITIND', 'PEL', 'PPLPHARMA', 'POLYMED', 'POLYCAB', 'POLYPLEX', 'POONAWALLA', 'PFC', 'POWERGRID', 'PRAJIND', 'PRESTIGE', 'PRINCEPIPE', 'PRSMJOHNSN', 'PGHH', 'PNB', 'QUESS', 'RBLBANK', 'RECLTD', 'RHIM', 'RITES', 'RADICO', 'RVNL', 'RAIN', 'RAINBOW', 'RAJESHEXPO', 'RALLIS', 'RCF', 'RATNAMANI', 'RTNINDIA', 'RAYMOND', 'REDINGTON', 'RELAXO', 'RELIANCE', 'RBA', 'ROSSARI', 'ROUTE', 'SBICARD', 'SBILIFE', 'SJVN', 'SKFINDIA', 'SRF', 'MOTHERSON', 'SANOFI', 'SAPPHIRE', 'SCHAEFFLER', 'SHARDACROP', 'SHOPERSTOP', 'SHREECEM', 'RENUKA', 'SHRIRAMFIN', 'SHYAMMETL', 'SIEMENS', 'SOBHA', 'SOLARINDS', 'SONACOMS', 'SONATSOFTW', 'STARHEALTH', 'SBIN', 'SAIL', 'SWSOLAR', 'STLTECH', 'SUMICHEM', 'SPARC', 'SUNPHARMA', 'SUNTV', 'SUNDARMFIN', 'SUNDRMFAST', 'SUNTECK', 'SUPRAJIT', 'SUPREMEIND', 'SUVENPHAR', 'SUZLON', 'SWANENERGY', 'SYNGENE', 'TCIEXP', 'TCNSBRANDS', 'TTKPRESTIG', 'TV18BRDCST', 'TVSMOTOR', 'TMB', 'TANLA', 'TATACHEM', 'TATACOMM', 'TCS', 'TATACONSUM', 'TATAELXSI', 'TATAINVEST', 'TATAMTRDVR', 'TATAMOTORS', 'TATAPOWER', 'TATASTEEL', 'TTML', 'TEAMLEASE', 'TECHM', 'TEJASNET', 'NIACL', 'RAMCOCEM', 'THERMAX', 'TIMKEN', 'TITAN', 'TORNTPHARM', 'TORNTPOWER', 'TCI', 'TRENT', 'TRIDENT', 'TRIVENI', 'TRITURBINE', 'TIINDIA', 'UCOBANK', 'UFLEX', 'UNOMINDA', 'UPL', 'UTIAMC', 'ULTRACEMCO', 'UNIONBANK', 'UBL', 'MCDOWELL-N', 'VGUARD', 'VMART', 'VIPIND', 'VAIBHAVGBL', 'VTL', 'VARROC', 'VBL', 'MANYAVAR', 'VEDL', 'VIJAYA', 'VINATIORGA', 'IDEA', 'VOLTAS', 'WELCORP', 'WELSPUNIND', 'WESTLIFE', 'WHIRLPOOL', 'WIPRO', 'YESBANK', 'ZFCVINDIA', 'ZEEL', 'ZENSARTECH', 'ZOMATO', 'ZYDUSLIFE', 'ZYDUSWELL', 'ECLERX']\n"
     ]
    },
    {
     "data": {
      "text/html": [
       "<div>\n",
       "<style scoped>\n",
       "    .dataframe tbody tr th:only-of-type {\n",
       "        vertical-align: middle;\n",
       "    }\n",
       "\n",
       "    .dataframe tbody tr th {\n",
       "        vertical-align: top;\n",
       "    }\n",
       "\n",
       "    .dataframe thead th {\n",
       "        text-align: right;\n",
       "    }\n",
       "</style>\n",
       "<table border=\"1\" class=\"dataframe\">\n",
       "  <thead>\n",
       "    <tr style=\"text-align: right;\">\n",
       "      <th></th>\n",
       "      <th>0</th>\n",
       "    </tr>\n",
       "  </thead>\n",
       "  <tbody>\n",
       "    <tr>\n",
       "      <th>0</th>\n",
       "      <td>360ONE</td>\n",
       "    </tr>\n",
       "    <tr>\n",
       "      <th>1</th>\n",
       "      <td>3MINDIA</td>\n",
       "    </tr>\n",
       "    <tr>\n",
       "      <th>2</th>\n",
       "      <td>ABB</td>\n",
       "    </tr>\n",
       "    <tr>\n",
       "      <th>3</th>\n",
       "      <td>ACC</td>\n",
       "    </tr>\n",
       "    <tr>\n",
       "      <th>4</th>\n",
       "      <td>AIAENG</td>\n",
       "    </tr>\n",
       "    <tr>\n",
       "      <th>...</th>\n",
       "      <td>...</td>\n",
       "    </tr>\n",
       "    <tr>\n",
       "      <th>496</th>\n",
       "      <td>ZENSARTECH</td>\n",
       "    </tr>\n",
       "    <tr>\n",
       "      <th>497</th>\n",
       "      <td>ZOMATO</td>\n",
       "    </tr>\n",
       "    <tr>\n",
       "      <th>498</th>\n",
       "      <td>ZYDUSLIFE</td>\n",
       "    </tr>\n",
       "    <tr>\n",
       "      <th>499</th>\n",
       "      <td>ZYDUSWELL</td>\n",
       "    </tr>\n",
       "    <tr>\n",
       "      <th>500</th>\n",
       "      <td>ECLERX</td>\n",
       "    </tr>\n",
       "  </tbody>\n",
       "</table>\n",
       "<p>501 rows × 1 columns</p>\n",
       "</div>"
      ],
      "text/plain": [
       "              0\n",
       "0        360ONE\n",
       "1       3MINDIA\n",
       "2           ABB\n",
       "3           ACC\n",
       "4        AIAENG\n",
       "..          ...\n",
       "496  ZENSARTECH\n",
       "497      ZOMATO\n",
       "498   ZYDUSLIFE\n",
       "499   ZYDUSWELL\n",
       "500      ECLERX\n",
       "\n",
       "[501 rows x 1 columns]"
      ]
     },
     "execution_count": 1,
     "metadata": {},
     "output_type": "execute_result"
    }
   ],
   "source": [
    "import pandas as pd\n",
    "import joblib\n",
    "\n",
    "nifty_500 = pd.read_csv('ind_nifty500list.csv')\n",
    "stocks = nifty_500['Symbol'].values.tolist()\n",
    "print(stocks)\n",
    "stocks = pd.DataFrame(stocks)\n",
    "stocks"
   ]
  },
  {
   "cell_type": "code",
   "execution_count": 2,
   "id": "dab997eb",
   "metadata": {
    "scrolled": false
   },
   "outputs": [
    {
     "name": "stdout",
     "output_type": "stream",
     "text": [
      "[*********************100%***********************]  1 of 1 completed\n",
      "360ONE.NS 542 1 out of 500 stocks imported\n",
      "[*********************100%***********************]  1 of 1 completed\n",
      "3MINDIA.NS 542 2 out of 500 stocks imported\n",
      "[*********************100%***********************]  1 of 1 completed\n",
      "ABB.NS 542 3 out of 500 stocks imported\n",
      "[*********************100%***********************]  1 of 1 completed\n",
      "ACC.NS 542 4 out of 500 stocks imported\n",
      "[*********************100%***********************]  1 of 1 completed\n",
      "AIAENG.NS 542 5 out of 500 stocks imported\n",
      "[*********************100%***********************]  1 of 1 completed\n",
      "APLAPOLLO.NS 542 6 out of 500 stocks imported\n",
      "[*********************100%***********************]  1 of 1 completed\n",
      "AUBANK.NS 542 7 out of 500 stocks imported\n",
      "[*********************100%***********************]  1 of 1 completed\n",
      "AARTIDRUGS.NS 542 8 out of 500 stocks imported\n",
      "[*********************100%***********************]  1 of 1 completed\n",
      "AARTIIND.NS 542 9 out of 500 stocks imported\n",
      "[*********************100%***********************]  1 of 1 completed\n",
      "AAVAS.NS 542 10 out of 500 stocks imported\n",
      "[*********************100%***********************]  1 of 1 completed\n",
      "ABBOTINDIA.NS 542 11 out of 500 stocks imported\n",
      "[*********************100%***********************]  1 of 1 completed\n",
      "ADANIENT.NS 542 12 out of 500 stocks imported\n",
      "[*********************100%***********************]  1 of 1 completed\n",
      "ADANIGREEN.NS 542 13 out of 500 stocks imported\n",
      "[*********************100%***********************]  1 of 1 completed\n",
      "ADANIPORTS.NS 542 14 out of 500 stocks imported\n",
      "[*********************100%***********************]  1 of 1 completed\n",
      "ADANIPOWER.NS 542 15 out of 500 stocks imported\n",
      "[*********************100%***********************]  1 of 1 completed\n",
      "ATGL.NS 542 16 out of 500 stocks imported\n",
      "[*********************100%***********************]  1 of 1 completed\n",
      "ADANITRANS.NS 542 17 out of 500 stocks imported\n",
      "[*********************100%***********************]  1 of 1 completed\n",
      "skipping AWL.NS as it has only 300 values\n",
      "[*********************100%***********************]  1 of 1 completed\n",
      "ABCAPITAL.NS 542 18 out of 500 stocks imported\n",
      "[*********************100%***********************]  1 of 1 completed\n",
      "ABFRL.NS 542 19 out of 500 stocks imported\n",
      "[*********************100%***********************]  1 of 1 completed\n",
      "AEGISCHEM.NS 542 20 out of 500 stocks imported\n",
      "[*********************100%***********************]  1 of 1 completed\n",
      "skipping AETHER.NS as it has only 222 values\n",
      "[*********************100%***********************]  1 of 1 completed\n",
      "AFFLE.NS 542 21 out of 500 stocks imported\n",
      "[*********************100%***********************]  1 of 1 completed\n",
      "AJANTPHARM.NS 542 22 out of 500 stocks imported\n",
      "[*********************100%***********************]  1 of 1 completed\n",
      "APLLTD.NS 542 23 out of 500 stocks imported\n",
      "[*********************100%***********************]  1 of 1 completed\n",
      "ALKEM.NS 542 24 out of 500 stocks imported\n",
      "[*********************100%***********************]  1 of 1 completed\n",
      "ALKYLAMINE.NS 542 25 out of 500 stocks imported\n",
      "[*********************100%***********************]  1 of 1 completed\n",
      "AMARAJABAT.NS 542 26 out of 500 stocks imported\n",
      "[*********************100%***********************]  1 of 1 completed\n",
      "AMBER.NS 542 27 out of 500 stocks imported\n",
      "[*********************100%***********************]  1 of 1 completed\n",
      "AMBUJACEM.NS 542 28 out of 500 stocks imported\n",
      "[*********************100%***********************]  1 of 1 completed\n",
      "ANGELONE.NS 542 29 out of 500 stocks imported\n",
      "[*********************100%***********************]  1 of 1 completed\n",
      "ANURAS.NS 517 30 out of 500 stocks imported\n",
      "[*********************100%***********************]  1 of 1 completed\n",
      "APARINDS.NS 542 31 out of 500 stocks imported\n",
      "[*********************100%***********************]  1 of 1 completed\n",
      "APOLLOHOSP.NS 542 32 out of 500 stocks imported\n",
      "[*********************100%***********************]  1 of 1 completed\n",
      "APOLLOTYRE.NS 542 33 out of 500 stocks imported\n",
      "[*********************100%***********************]  1 of 1 completed\n",
      "skipping APTUS.NS as it has only 415 values\n",
      "[*********************100%***********************]  1 of 1 completed\n",
      "skipping ACI.NS as it has only 107 values\n",
      "[*********************100%***********************]  1 of 1 completed\n",
      "ASAHIINDIA.NS 542 34 out of 500 stocks imported\n",
      "[*********************100%***********************]  1 of 1 completed\n",
      "ASHOKLEY.NS 542 35 out of 500 stocks imported\n",
      "[*********************100%***********************]  1 of 1 completed\n",
      "ASIANPAINT.NS 542 36 out of 500 stocks imported\n",
      "[*********************100%***********************]  1 of 1 completed\n",
      "ASTERDM.NS 542 37 out of 500 stocks imported\n",
      "[*********************100%***********************]  1 of 1 completed\n",
      "ASTRAL.NS 542 38 out of 500 stocks imported\n",
      "[*********************100%***********************]  1 of 1 completed\n",
      "ATUL.NS 542 39 out of 500 stocks imported\n",
      "[*********************100%***********************]  1 of 1 completed\n",
      "AUROPHARMA.NS 542 40 out of 500 stocks imported\n",
      "[*********************100%***********************]  1 of 1 completed\n",
      "AVANTIFEED.NS 542 41 out of 500 stocks imported\n",
      "[*********************100%***********************]  1 of 1 completed\n",
      "DMART.NS 542 42 out of 500 stocks imported\n",
      "[*********************100%***********************]  1 of 1 completed\n",
      "AXISBANK.NS 542 43 out of 500 stocks imported\n",
      "[*********************100%***********************]  1 of 1 completed\n",
      "BASF.NS 542 44 out of 500 stocks imported\n",
      "[*********************100%***********************]  1 of 1 completed\n",
      "BEML.NS 542 45 out of 500 stocks imported\n",
      "[*********************100%***********************]  1 of 1 completed\n",
      "BLS.NS 542 46 out of 500 stocks imported\n",
      "[*********************100%***********************]  1 of 1 completed\n",
      "BSE.NS 542 47 out of 500 stocks imported\n",
      "[*********************100%***********************]  1 of 1 completed\n",
      "BAJAJ-AUTO.NS 542 48 out of 500 stocks imported\n",
      "[*********************100%***********************]  1 of 1 completed\n",
      "BAJAJELEC.NS 542 49 out of 500 stocks imported\n",
      "[*********************100%***********************]  1 of 1 completed\n",
      "BAJFINANCE.NS 542 50 out of 500 stocks imported\n",
      "[*********************100%***********************]  1 of 1 completed\n",
      "BAJAJFINSV.NS 542 51 out of 500 stocks imported\n",
      "[*********************100%***********************]  1 of 1 completed\n",
      "BAJAJHLDNG.NS 542 52 out of 500 stocks imported\n",
      "[*********************100%***********************]  1 of 1 completed\n",
      "BALAMINES.NS 542 53 out of 500 stocks imported\n",
      "[*********************100%***********************]  1 of 1 completed\n",
      "BALKRISIND.NS 542 54 out of 500 stocks imported\n",
      "[*********************100%***********************]  1 of 1 completed\n",
      "BALRAMCHIN.NS 542 55 out of 500 stocks imported\n",
      "[*********************100%***********************]  1 of 1 completed\n",
      "BANDHANBNK.NS 542 56 out of 500 stocks imported\n",
      "[*********************100%***********************]  1 of 1 completed\n",
      "BANKBARODA.NS 542 57 out of 500 stocks imported\n",
      "[*********************100%***********************]  1 of 1 completed\n",
      "BANKINDIA.NS 542 58 out of 500 stocks imported\n",
      "[*********************100%***********************]  1 of 1 completed\n",
      "MAHABANK.NS 542 59 out of 500 stocks imported\n",
      "[*********************100%***********************]  1 of 1 completed\n",
      "BATAINDIA.NS 542 60 out of 500 stocks imported\n",
      "[*********************100%***********************]  1 of 1 completed\n",
      "BAYERCROP.NS 542 61 out of 500 stocks imported\n",
      "[*********************100%***********************]  1 of 1 completed\n",
      "BERGEPAINT.NS 542 62 out of 500 stocks imported\n",
      "[*********************100%***********************]  1 of 1 completed\n",
      "BDL.NS 542 63 out of 500 stocks imported\n",
      "[*********************100%***********************]  1 of 1 completed\n",
      "BEL.NS 542 64 out of 500 stocks imported\n",
      "[*********************100%***********************]  1 of 1 completed\n",
      "BHARATFORG.NS 542 65 out of 500 stocks imported\n",
      "[*********************100%***********************]  1 of 1 completed\n",
      "BHEL.NS 542 66 out of 500 stocks imported\n",
      "[*********************100%***********************]  1 of 1 completed\n",
      "BPCL.NS 542 67 out of 500 stocks imported\n",
      "[*********************100%***********************]  1 of 1 completed\n",
      "BHARTIARTL.NS 542 68 out of 500 stocks imported\n"
     ]
    },
    {
     "name": "stdout",
     "output_type": "stream",
     "text": [
      "[*********************100%***********************]  1 of 1 completed\n",
      "skipping BIKAJI.NS as it has only 110 values\n",
      "[*********************100%***********************]  1 of 1 completed\n",
      "BIOCON.NS 542 69 out of 500 stocks imported\n",
      "[*********************100%***********************]  1 of 1 completed\n",
      "BIRLACORPN.NS 542 70 out of 500 stocks imported\n",
      "[*********************100%***********************]  1 of 1 completed\n",
      "BSOFT.NS 542 71 out of 500 stocks imported\n",
      "[*********************100%***********************]  1 of 1 completed\n",
      "BLUEDART.NS 542 72 out of 500 stocks imported\n",
      "[*********************100%***********************]  1 of 1 completed\n",
      "BLUESTARCO.NS 542 73 out of 500 stocks imported\n",
      "[*********************100%***********************]  1 of 1 completed\n",
      "BBTC.NS 542 74 out of 500 stocks imported\n",
      "[*********************100%***********************]  1 of 1 completed\n",
      "BORORENEW.NS 542 75 out of 500 stocks imported\n",
      "[*********************100%***********************]  1 of 1 completed\n",
      "BOSCHLTD.NS 542 76 out of 500 stocks imported\n",
      "[*********************100%***********************]  1 of 1 completed\n",
      "BRIGADE.NS 542 77 out of 500 stocks imported\n",
      "[*********************100%***********************]  1 of 1 completed\n",
      "BCG.NS 542 78 out of 500 stocks imported\n",
      "[*********************100%***********************]  1 of 1 completed\n",
      "BRITANNIA.NS 542 79 out of 500 stocks imported\n",
      "[*********************100%***********************]  1 of 1 completed\n",
      "skipping MAPMYINDIA.NS as it has only 334 values\n",
      "[*********************100%***********************]  1 of 1 completed\n",
      "CCL.NS 542 80 out of 500 stocks imported\n",
      "[*********************100%***********************]  1 of 1 completed\n",
      "CESC.NS 542 81 out of 500 stocks imported\n",
      "[*********************100%***********************]  1 of 1 completed\n",
      "CGPOWER.NS 542 82 out of 500 stocks imported\n",
      "[*********************100%***********************]  1 of 1 completed\n",
      "CRISIL.NS 542 83 out of 500 stocks imported\n",
      "[*********************100%***********************]  1 of 1 completed\n",
      "CSBBANK.NS 542 84 out of 500 stocks imported\n",
      "[*********************100%***********************]  1 of 1 completed\n",
      "skipping CAMPUS.NS as it has only 241 values\n",
      "[*********************100%***********************]  1 of 1 completed\n",
      "CANFINHOME.NS 542 85 out of 500 stocks imported\n",
      "[*********************100%***********************]  1 of 1 completed\n",
      "CANBK.NS 542 86 out of 500 stocks imported\n",
      "[*********************100%***********************]  1 of 1 completed\n",
      "CGCL.NS 542 87 out of 500 stocks imported\n",
      "[*********************100%***********************]  1 of 1 completed\n",
      "CARBORUNIV.NS 542 88 out of 500 stocks imported\n",
      "[*********************100%***********************]  1 of 1 completed\n",
      "CASTROLIND.NS 542 89 out of 500 stocks imported\n",
      "[*********************100%***********************]  1 of 1 completed\n",
      "CEATLTD.NS 542 90 out of 500 stocks imported\n",
      "[*********************100%***********************]  1 of 1 completed\n",
      "CENTRALBK.NS 542 91 out of 500 stocks imported\n",
      "[*********************100%***********************]  1 of 1 completed\n",
      "CDSL.NS 542 92 out of 500 stocks imported\n",
      "[*********************100%***********************]  1 of 1 completed\n",
      "CENTURYPLY.NS 542 93 out of 500 stocks imported\n",
      "[*********************100%***********************]  1 of 1 completed\n",
      "CENTURYTEX.NS 542 94 out of 500 stocks imported\n",
      "[*********************100%***********************]  1 of 1 completed\n",
      "CERA.NS 542 95 out of 500 stocks imported\n",
      "[*********************100%***********************]  1 of 1 completed\n",
      "CHALET.NS 542 96 out of 500 stocks imported\n",
      "[*********************100%***********************]  1 of 1 completed\n",
      "CHAMBLFERT.NS 542 97 out of 500 stocks imported\n",
      "[*********************100%***********************]  1 of 1 completed\n",
      "skipping CHEMPLASTS.NS as it has only 415 values\n",
      "[*********************100%***********************]  1 of 1 completed\n",
      "CHOLAHLDNG.NS 542 98 out of 500 stocks imported\n",
      "[*********************100%***********************]  1 of 1 completed\n",
      "CHOLAFIN.NS 542 99 out of 500 stocks imported\n",
      "[*********************100%***********************]  1 of 1 completed\n",
      "CIPLA.NS 542 100 out of 500 stocks imported\n",
      "[*********************100%***********************]  1 of 1 completed\n",
      "CUB.NS 542 101 out of 500 stocks imported\n",
      "[*********************100%***********************]  1 of 1 completed\n",
      "skipping CLEAN.NS as it has only 439 values\n",
      "[*********************100%***********************]  1 of 1 completed\n",
      "COALINDIA.NS 542 102 out of 500 stocks imported\n",
      "[*********************100%***********************]  1 of 1 completed\n",
      "COCHINSHIP.NS 542 103 out of 500 stocks imported\n",
      "[*********************100%***********************]  1 of 1 completed\n",
      "COFORGE.NS 542 104 out of 500 stocks imported\n",
      "[*********************100%***********************]  1 of 1 completed\n",
      "COLPAL.NS 542 105 out of 500 stocks imported\n",
      "[*********************100%***********************]  1 of 1 completed\n",
      "CAMS.NS 542 106 out of 500 stocks imported\n",
      "[*********************100%***********************]  1 of 1 completed\n",
      "CONCOR.NS 542 107 out of 500 stocks imported\n",
      "[*********************100%***********************]  1 of 1 completed\n",
      "COROMANDEL.NS 542 108 out of 500 stocks imported\n",
      "[*********************100%***********************]  1 of 1 completed\n",
      "CRAFTSMAN.NS 516 109 out of 500 stocks imported\n",
      "[*********************100%***********************]  1 of 1 completed\n",
      "CREDITACC.NS 542 110 out of 500 stocks imported\n",
      "[*********************100%***********************]  1 of 1 completed\n",
      "CROMPTON.NS 542 111 out of 500 stocks imported\n",
      "[*********************100%***********************]  1 of 1 completed\n",
      "CUMMINSIND.NS 542 112 out of 500 stocks imported\n",
      "[*********************100%***********************]  1 of 1 completed\n",
      "CYIENT.NS 542 113 out of 500 stocks imported\n",
      "[*********************100%***********************]  1 of 1 completed\n",
      "DCMSHRIRAM.NS 542 114 out of 500 stocks imported\n",
      "[*********************100%***********************]  1 of 1 completed\n",
      "DLF.NS 542 115 out of 500 stocks imported\n",
      "[*********************100%***********************]  1 of 1 completed\n",
      "DABUR.NS 542 116 out of 500 stocks imported\n",
      "[*********************100%***********************]  1 of 1 completed\n",
      "DALBHARAT.NS 542 117 out of 500 stocks imported\n",
      "[*********************100%***********************]  1 of 1 completed\n",
      "skipping DATAPATTNS.NS as it has only 331 values\n",
      "[*********************100%***********************]  1 of 1 completed\n",
      "DEEPAKFERT.NS 542 118 out of 500 stocks imported\n",
      "[*********************100%***********************]  1 of 1 completed\n",
      "DEEPAKNTR.NS 542 119 out of 500 stocks imported\n",
      "[*********************100%***********************]  1 of 1 completed\n",
      "skipping DELHIVERY.NS as it has only 230 values\n",
      "[*********************100%***********************]  1 of 1 completed\n",
      "DELTACORP.NS 542 120 out of 500 stocks imported\n",
      "[*********************100%***********************]  1 of 1 completed\n",
      "skipping DEVYANI.NS as it has only 420 values\n",
      "[*********************100%***********************]  1 of 1 completed\n",
      "DIVISLAB.NS 542 121 out of 500 stocks imported\n",
      "[*********************100%***********************]  1 of 1 completed\n",
      "DIXON.NS 542 122 out of 500 stocks imported\n",
      "[*********************100%***********************]  1 of 1 completed\n",
      "LALPATHLAB.NS 542 123 out of 500 stocks imported\n",
      "[*********************100%***********************]  1 of 1 completed\n",
      "DRREDDY.NS 542 124 out of 500 stocks imported\n",
      "[*********************100%***********************]  1 of 1 completed\n",
      "EIDPARRY.NS 542 125 out of 500 stocks imported\n",
      "[*********************100%***********************]  1 of 1 completed\n",
      "EIHOTEL.NS 542 126 out of 500 stocks imported\n",
      "[*********************100%***********************]  1 of 1 completed\n",
      "EPL.NS 542 127 out of 500 stocks imported\n",
      "[*********************100%***********************]  1 of 1 completed\n",
      "EASEMYTRIP.NS 520 128 out of 500 stocks imported\n",
      "[*********************100%***********************]  1 of 1 completed\n",
      "EDELWEISS.NS 542 129 out of 500 stocks imported\n",
      "[*********************100%***********************]  1 of 1 completed\n",
      "EICHERMOT.NS 542 130 out of 500 stocks imported\n",
      "[*********************100%***********************]  1 of 1 completed\n",
      "ELGIEQUIP.NS 542 131 out of 500 stocks imported\n"
     ]
    },
    {
     "name": "stdout",
     "output_type": "stream",
     "text": [
      "[*********************100%***********************]  1 of 1 completed\n",
      "EMAMILTD.NS 542 132 out of 500 stocks imported\n",
      "[*********************100%***********************]  1 of 1 completed\n",
      "ENDURANCE.NS 542 133 out of 500 stocks imported\n",
      "[*********************100%***********************]  1 of 1 completed\n",
      "ENGINERSIN.NS 542 134 out of 500 stocks imported\n",
      "[*********************100%***********************]  1 of 1 completed\n",
      "EQUITASBNK.NS 542 135 out of 500 stocks imported\n",
      "[*********************100%***********************]  1 of 1 completed\n",
      "ESCORTS.NS 542 136 out of 500 stocks imported\n",
      "[*********************100%***********************]  1 of 1 completed\n",
      "EXIDEIND.NS 542 137 out of 500 stocks imported\n",
      "[*********************100%***********************]  1 of 1 completed\n",
      "FDC.NS 542 138 out of 500 stocks imported\n",
      "[*********************100%***********************]  1 of 1 completed\n",
      "skipping NYKAA.NS as it has only 362 values\n",
      "[*********************100%***********************]  1 of 1 completed\n",
      "FEDERALBNK.NS 542 139 out of 500 stocks imported\n",
      "[*********************100%***********************]  1 of 1 completed\n",
      "FACT.NS 542 140 out of 500 stocks imported\n",
      "[*********************100%***********************]  1 of 1 completed\n",
      "FINEORG.NS 542 141 out of 500 stocks imported\n",
      "[*********************100%***********************]  1 of 1 completed\n",
      "FINCABLES.NS 542 142 out of 500 stocks imported\n",
      "[*********************100%***********************]  1 of 1 completed\n",
      "FINPIPE.NS 542 143 out of 500 stocks imported\n",
      "[*********************100%***********************]  1 of 1 completed\n",
      "FSL.NS 542 144 out of 500 stocks imported\n",
      "[*********************100%***********************]  1 of 1 completed\n",
      "skipping FIVESTAR.NS as it has only 107 values\n",
      "[*********************100%***********************]  1 of 1 completed\n",
      "FORTIS.NS 542 145 out of 500 stocks imported\n",
      "[*********************100%***********************]  1 of 1 completed\n",
      "skipping GRINFRA.NS as it has only 439 values\n",
      "[*********************100%***********************]  1 of 1 completed\n",
      "GAIL.NS 542 146 out of 500 stocks imported\n",
      "[*********************100%***********************]  1 of 1 completed\n",
      "GMMPFAUDLR.NS 542 147 out of 500 stocks imported\n",
      "[*********************100%***********************]  1 of 1 completed\n",
      "GMRINFRA.NS 542 148 out of 500 stocks imported\n",
      "[*********************100%***********************]  1 of 1 completed\n",
      "GALAXYSURF.NS 542 149 out of 500 stocks imported\n",
      "[*********************100%***********************]  1 of 1 completed\n",
      "GARFIBRES.NS 542 150 out of 500 stocks imported\n",
      "[*********************100%***********************]  1 of 1 completed\n",
      "GICRE.NS 542 151 out of 500 stocks imported\n",
      "[*********************100%***********************]  1 of 1 completed\n",
      "GLAND.NS 542 152 out of 500 stocks imported\n",
      "[*********************100%***********************]  1 of 1 completed\n",
      "GLAXO.NS 542 153 out of 500 stocks imported\n",
      "[*********************100%***********************]  1 of 1 completed\n",
      "GLENMARK.NS 542 154 out of 500 stocks imported\n",
      "[*********************100%***********************]  1 of 1 completed\n",
      "skipping MEDANTA.NS as it has only 108 values\n",
      "[*********************100%***********************]  1 of 1 completed\n",
      "skipping GOCOLORS.NS as it has only 349 values\n",
      "[*********************100%***********************]  1 of 1 completed\n",
      "GODFRYPHLP.NS 542 155 out of 500 stocks imported\n",
      "[*********************100%***********************]  1 of 1 completed\n",
      "GODREJAGRO.NS 542 156 out of 500 stocks imported\n",
      "[*********************100%***********************]  1 of 1 completed\n",
      "GODREJCP.NS 542 157 out of 500 stocks imported\n",
      "[*********************100%***********************]  1 of 1 completed\n",
      "GODREJIND.NS 542 158 out of 500 stocks imported\n",
      "[*********************100%***********************]  1 of 1 completed\n",
      "GODREJPROP.NS 542 159 out of 500 stocks imported\n",
      "[*********************100%***********************]  1 of 1 completed\n",
      "GRANULES.NS 542 160 out of 500 stocks imported\n",
      "[*********************100%***********************]  1 of 1 completed\n",
      "GRAPHITE.NS 542 161 out of 500 stocks imported\n",
      "[*********************100%***********************]  1 of 1 completed\n",
      "GRASIM.NS 542 162 out of 500 stocks imported\n",
      "[*********************100%***********************]  1 of 1 completed\n",
      "GESHIP.NS 542 163 out of 500 stocks imported\n",
      "[*********************100%***********************]  1 of 1 completed\n",
      "GREENPANEL.NS 542 164 out of 500 stocks imported\n",
      "[*********************100%***********************]  1 of 1 completed\n",
      "GRINDWELL.NS 542 165 out of 500 stocks imported\n",
      "[*********************100%***********************]  1 of 1 completed\n",
      "GUJALKALI.NS 542 166 out of 500 stocks imported\n",
      "[*********************100%***********************]  1 of 1 completed\n",
      "GAEL.NS 542 167 out of 500 stocks imported\n",
      "[*********************100%***********************]  1 of 1 completed\n",
      "FLUOROCHEM.NS 542 168 out of 500 stocks imported\n",
      "[*********************100%***********************]  1 of 1 completed\n",
      "GUJGASLTD.NS 542 169 out of 500 stocks imported\n",
      "[*********************100%***********************]  1 of 1 completed\n",
      "GNFC.NS 542 170 out of 500 stocks imported\n",
      "[*********************100%***********************]  1 of 1 completed\n",
      "GPPL.NS 542 171 out of 500 stocks imported\n",
      "[*********************100%***********************]  1 of 1 completed\n",
      "GSFC.NS 542 172 out of 500 stocks imported\n",
      "[*********************100%***********************]  1 of 1 completed\n",
      "GSPL.NS 542 173 out of 500 stocks imported\n",
      "[*********************100%***********************]  1 of 1 completed\n",
      "HEG.NS 542 174 out of 500 stocks imported\n",
      "[*********************100%***********************]  1 of 1 completed\n",
      "HCLTECH.NS 542 175 out of 500 stocks imported\n",
      "[*********************100%***********************]  1 of 1 completed\n",
      "HDFCAMC.NS 542 176 out of 500 stocks imported\n",
      "[*********************100%***********************]  1 of 1 completed\n",
      "HDFCBANK.NS 542 177 out of 500 stocks imported\n",
      "[*********************100%***********************]  1 of 1 completed\n",
      "HDFCLIFE.NS 542 178 out of 500 stocks imported\n",
      "[*********************100%***********************]  1 of 1 completed\n",
      "HFCL.NS 542 179 out of 500 stocks imported\n",
      "[*********************100%***********************]  1 of 1 completed\n",
      "HLEGLAS.NS 538 180 out of 500 stocks imported\n",
      "[*********************100%***********************]  1 of 1 completed\n",
      "HAPPSTMNDS.NS 542 181 out of 500 stocks imported\n",
      "[*********************100%***********************]  1 of 1 completed\n",
      "HAVELLS.NS 542 182 out of 500 stocks imported\n",
      "[*********************100%***********************]  1 of 1 completed\n",
      "HEROMOTOCO.NS 542 183 out of 500 stocks imported\n",
      "[*********************100%***********************]  1 of 1 completed\n",
      "HIKAL.NS 542 184 out of 500 stocks imported\n",
      "[*********************100%***********************]  1 of 1 completed\n",
      "HINDALCO.NS 542 185 out of 500 stocks imported\n",
      "[*********************100%***********************]  1 of 1 completed\n",
      "HGS.NS 542 186 out of 500 stocks imported\n",
      "[*********************100%***********************]  1 of 1 completed\n",
      "HAL.NS 542 187 out of 500 stocks imported\n",
      "[*********************100%***********************]  1 of 1 completed\n",
      "HINDCOPPER.NS 542 188 out of 500 stocks imported\n",
      "[*********************100%***********************]  1 of 1 completed\n",
      "HINDPETRO.NS 542 189 out of 500 stocks imported\n",
      "[*********************100%***********************]  1 of 1 completed\n",
      "HINDUNILVR.NS 542 190 out of 500 stocks imported\n",
      "[*********************100%***********************]  1 of 1 completed\n",
      "HINDZINC.NS 542 191 out of 500 stocks imported\n",
      "[*********************100%***********************]  1 of 1 completed\n",
      "POWERINDIA.NS 542 192 out of 500 stocks imported\n",
      "[*********************100%***********************]  1 of 1 completed\n",
      "HOMEFIRST.NS 542 193 out of 500 stocks imported\n",
      "[*********************100%***********************]  1 of 1 completed\n",
      "HONAUT.NS 542 194 out of 500 stocks imported\n",
      "[*********************100%***********************]  1 of 1 completed\n",
      "HUDCO.NS 542 195 out of 500 stocks imported\n",
      "[*********************100%***********************]  1 of 1 completed\n",
      "HDFC.NS 542 196 out of 500 stocks imported\n",
      "[*********************100%***********************]  1 of 1 completed\n",
      "ICICIBANK.NS 542 197 out of 500 stocks imported\n"
     ]
    },
    {
     "name": "stdout",
     "output_type": "stream",
     "text": [
      "[*********************100%***********************]  1 of 1 completed\n",
      "ICICIGI.NS 542 198 out of 500 stocks imported\n",
      "[*********************100%***********************]  1 of 1 completed\n",
      "ICICIPRULI.NS 542 199 out of 500 stocks imported\n",
      "[*********************100%***********************]  1 of 1 completed\n",
      "ISEC.NS 542 200 out of 500 stocks imported\n",
      "[*********************100%***********************]  1 of 1 completed\n",
      "IDBI.NS 542 201 out of 500 stocks imported\n",
      "[*********************100%***********************]  1 of 1 completed\n",
      "IDFCFIRSTB.NS 542 202 out of 500 stocks imported\n",
      "[*********************100%***********************]  1 of 1 completed\n",
      "IDFC.NS 542 203 out of 500 stocks imported\n",
      "[*********************100%***********************]  1 of 1 completed\n",
      "IFBIND.NS 542 204 out of 500 stocks imported\n",
      "[*********************100%***********************]  1 of 1 completed\n",
      "IIFL.NS 542 205 out of 500 stocks imported\n",
      "[*********************100%***********************]  1 of 1 completed\n",
      "IRB.NS 542 206 out of 500 stocks imported\n",
      "[*********************100%***********************]  1 of 1 completed\n",
      "ITC.NS 542 207 out of 500 stocks imported\n",
      "[*********************100%***********************]  1 of 1 completed\n",
      "ITI.NS 542 208 out of 500 stocks imported\n",
      "[*********************100%***********************]  1 of 1 completed\n",
      "INDIACEM.NS 542 209 out of 500 stocks imported\n",
      "[*********************100%***********************]  1 of 1 completed\n",
      "IBULHSGFIN.NS 542 210 out of 500 stocks imported\n",
      "[*********************100%***********************]  1 of 1 completed\n",
      "IBREALEST.NS 542 211 out of 500 stocks imported\n",
      "[*********************100%***********************]  1 of 1 completed\n",
      "INDIAMART.NS 542 212 out of 500 stocks imported\n",
      "[*********************100%***********************]  1 of 1 completed\n",
      "INDIANB.NS 542 213 out of 500 stocks imported\n",
      "[*********************100%***********************]  1 of 1 completed\n",
      "IEX.NS 542 214 out of 500 stocks imported\n",
      "[*********************100%***********************]  1 of 1 completed\n",
      "INDHOTEL.NS 542 215 out of 500 stocks imported\n",
      "[*********************100%***********************]  1 of 1 completed\n",
      "IOC.NS 542 216 out of 500 stocks imported\n",
      "[*********************100%***********************]  1 of 1 completed\n",
      "IOB.NS 542 217 out of 500 stocks imported\n",
      "[*********************100%***********************]  1 of 1 completed\n",
      "IRCTC.NS 542 218 out of 500 stocks imported\n",
      "[*********************100%***********************]  1 of 1 completed\n",
      "IRFC.NS 542 219 out of 500 stocks imported\n",
      "[*********************100%***********************]  1 of 1 completed\n",
      "INDIGOPNTS.NS 542 220 out of 500 stocks imported\n",
      "[*********************100%***********************]  1 of 1 completed\n",
      "IGL.NS 542 221 out of 500 stocks imported\n",
      "[*********************100%***********************]  1 of 1 completed\n",
      "INDUSTOWER.NS 542 222 out of 500 stocks imported\n",
      "[*********************100%***********************]  1 of 1 completed\n",
      "INDUSINDBK.NS 542 223 out of 500 stocks imported\n",
      "[*********************100%***********************]  1 of 1 completed\n",
      "INFIBEAM.NS 542 224 out of 500 stocks imported\n",
      "[*********************100%***********************]  1 of 1 completed\n",
      "NAUKRI.NS 542 225 out of 500 stocks imported\n",
      "[*********************100%***********************]  1 of 1 completed\n",
      "INFY.NS 542 226 out of 500 stocks imported\n",
      "[*********************100%***********************]  1 of 1 completed\n",
      "INGERRAND.NS 542 227 out of 500 stocks imported\n",
      "[*********************100%***********************]  1 of 1 completed\n",
      "INTELLECT.NS 542 228 out of 500 stocks imported\n",
      "[*********************100%***********************]  1 of 1 completed\n",
      "INDIGO.NS 542 229 out of 500 stocks imported\n",
      "[*********************100%***********************]  1 of 1 completed\n",
      "IPCALAB.NS 542 230 out of 500 stocks imported\n",
      "[*********************100%***********************]  1 of 1 completed\n",
      "JBCHEPHARM.NS 542 231 out of 500 stocks imported\n",
      "[*********************100%***********************]  1 of 1 completed\n",
      "JKCEMENT.NS 542 232 out of 500 stocks imported\n",
      "[*********************100%***********************]  1 of 1 completed\n",
      "JBMA.NS 542 233 out of 500 stocks imported\n",
      "[*********************100%***********************]  1 of 1 completed\n",
      "JKLAKSHMI.NS 542 234 out of 500 stocks imported\n",
      "[*********************100%***********************]  1 of 1 completed\n",
      "JKPAPER.NS 542 235 out of 500 stocks imported\n",
      "[*********************100%***********************]  1 of 1 completed\n",
      "JMFINANCIL.NS 542 236 out of 500 stocks imported\n",
      "[*********************100%***********************]  1 of 1 completed\n",
      "JSWENERGY.NS 542 237 out of 500 stocks imported\n",
      "[*********************100%***********************]  1 of 1 completed\n",
      "JSWSTEEL.NS 542 238 out of 500 stocks imported\n",
      "[*********************100%***********************]  1 of 1 completed\n",
      "JAMNAAUTO.NS 542 239 out of 500 stocks imported\n",
      "[*********************100%***********************]  1 of 1 completed\n",
      "JSL.NS 542 240 out of 500 stocks imported\n",
      "[*********************100%***********************]  1 of 1 completed\n",
      "JINDALSTEL.NS 542 241 out of 500 stocks imported\n",
      "[*********************100%***********************]  1 of 1 completed\n",
      "JINDWORLD.NS 542 242 out of 500 stocks imported\n",
      "[*********************100%***********************]  1 of 1 completed\n",
      "JUBLFOOD.NS 542 243 out of 500 stocks imported\n",
      "[*********************100%***********************]  1 of 1 completed\n",
      "JUBLINGREA.NS 520 244 out of 500 stocks imported\n",
      "[*********************100%***********************]  1 of 1 completed\n",
      "JUBLPHARMA.NS 542 245 out of 500 stocks imported\n",
      "[*********************100%***********************]  1 of 1 completed\n",
      "JUSTDIAL.NS 542 246 out of 500 stocks imported\n",
      "[*********************100%***********************]  1 of 1 completed\n",
      "JYOTHYLAB.NS 542 247 out of 500 stocks imported\n",
      "[*********************100%***********************]  1 of 1 completed\n",
      "KPRMILL.NS 542 248 out of 500 stocks imported\n",
      "[*********************100%***********************]  1 of 1 completed\n",
      "KEI.NS 542 249 out of 500 stocks imported\n",
      "[*********************100%***********************]  1 of 1 completed\n",
      "KNRCON.NS 542 250 out of 500 stocks imported\n",
      "[*********************100%***********************]  1 of 1 completed\n",
      "KPITTECH.NS 542 251 out of 500 stocks imported\n",
      "[*********************100%***********************]  1 of 1 completed\n",
      "KRBL.NS 542 252 out of 500 stocks imported\n",
      "[*********************100%***********************]  1 of 1 completed\n",
      "KSB.NS 542 253 out of 500 stocks imported\n",
      "[*********************100%***********************]  1 of 1 completed\n",
      "KAJARIACER.NS 542 254 out of 500 stocks imported\n",
      "[*********************100%***********************]  1 of 1 completed\n",
      "KALPATPOWR.NS 542 255 out of 500 stocks imported\n",
      "[*********************100%***********************]  1 of 1 completed\n",
      "KALYANKJIL.NS 515 256 out of 500 stocks imported\n",
      "[*********************100%***********************]  1 of 1 completed\n",
      "KANSAINER.NS 542 257 out of 500 stocks imported\n",
      "[*********************100%***********************]  1 of 1 completed\n",
      "KARURVYSYA.NS 542 258 out of 500 stocks imported\n",
      "[*********************100%***********************]  1 of 1 completed\n",
      "KEC.NS 542 259 out of 500 stocks imported\n",
      "[*********************100%***********************]  1 of 1 completed\n",
      "KENNAMET.NS 542 260 out of 500 stocks imported\n",
      "[*********************100%***********************]  1 of 1 completed\n",
      "skipping RUSTOMJEE.NS as it has only 104 values\n",
      "[*********************100%***********************]  1 of 1 completed\n",
      "skipping KFINTECH.NS as it has only 79 values\n",
      "[*********************100%***********************]  1 of 1 completed\n",
      "KOTAKBANK.NS 542 261 out of 500 stocks imported\n",
      "[*********************100%***********************]  1 of 1 completed\n",
      "skipping KIMS.NS as it has only 454 values\n",
      "[*********************100%***********************]  1 of 1 completed\n",
      "L&TFH.NS 542 262 out of 500 stocks imported\n",
      "[*********************100%***********************]  1 of 1 completed\n",
      "LTTS.NS 542 263 out of 500 stocks imported\n",
      "[*********************100%***********************]  1 of 1 completed\n",
      "LICHSGFIN.NS 542 264 out of 500 stocks imported\n",
      "[*********************100%***********************]  1 of 1 completed\n",
      "LTIM.NS 542 265 out of 500 stocks imported\n"
     ]
    },
    {
     "name": "stdout",
     "output_type": "stream",
     "text": [
      "[*********************100%***********************]  1 of 1 completed\n",
      "LAXMIMACH.NS 542 266 out of 500 stocks imported\n",
      "[*********************100%***********************]  1 of 1 completed\n",
      "LT.NS 542 267 out of 500 stocks imported\n",
      "[*********************100%***********************]  1 of 1 completed\n",
      "skipping LATENTVIEW.NS as it has only 354 values\n",
      "[*********************100%***********************]  1 of 1 completed\n",
      "LAURUSLABS.NS 542 268 out of 500 stocks imported\n",
      "[*********************100%***********************]  1 of 1 completed\n",
      "LXCHEM.NS 516 269 out of 500 stocks imported\n",
      "[*********************100%***********************]  1 of 1 completed\n",
      "LEMONTREE.NS 542 270 out of 500 stocks imported\n",
      "[*********************100%***********************]  1 of 1 completed\n",
      "skipping LICI.NS as it has only 235 values\n",
      "[*********************100%***********************]  1 of 1 completed\n",
      "LINDEINDIA.NS 542 271 out of 500 stocks imported\n",
      "[*********************100%***********************]  1 of 1 completed\n",
      "LUPIN.NS 542 272 out of 500 stocks imported\n",
      "[*********************100%***********************]  1 of 1 completed\n",
      "LUXIND.NS 542 273 out of 500 stocks imported\n",
      "[*********************100%***********************]  1 of 1 completed\n",
      "MMTC.NS 542 274 out of 500 stocks imported\n",
      "[*********************100%***********************]  1 of 1 completed\n",
      "MRF.NS 542 275 out of 500 stocks imported\n",
      "[*********************100%***********************]  1 of 1 completed\n",
      "MTARTECH.NS 524 276 out of 500 stocks imported\n",
      "[*********************100%***********************]  1 of 1 completed\n",
      "LODHA.NS 502 277 out of 500 stocks imported\n",
      "[*********************100%***********************]  1 of 1 completed\n",
      "MGL.NS 542 278 out of 500 stocks imported\n",
      "[*********************100%***********************]  1 of 1 completed\n",
      "M&MFIN.NS 542 279 out of 500 stocks imported\n",
      "[*********************100%***********************]  1 of 1 completed\n",
      "M&M.NS 542 280 out of 500 stocks imported\n",
      "[*********************100%***********************]  1 of 1 completed\n",
      "MAHINDCIE.NS 542 281 out of 500 stocks imported\n",
      "[*********************100%***********************]  1 of 1 completed\n",
      "MHRIL.NS 542 282 out of 500 stocks imported\n",
      "[*********************100%***********************]  1 of 1 completed\n",
      "MAHLIFE.NS 542 283 out of 500 stocks imported\n",
      "[*********************100%***********************]  1 of 1 completed\n",
      "MAHLOG.NS 542 284 out of 500 stocks imported\n",
      "[*********************100%***********************]  1 of 1 completed\n",
      "MANAPPURAM.NS 542 285 out of 500 stocks imported\n",
      "[*********************100%***********************]  1 of 1 completed\n",
      "MRPL.NS 542 286 out of 500 stocks imported\n",
      "[*********************100%***********************]  1 of 1 completed\n",
      "MARICO.NS 542 287 out of 500 stocks imported\n",
      "[*********************100%***********************]  1 of 1 completed\n",
      "MARUTI.NS 542 288 out of 500 stocks imported\n",
      "[*********************100%***********************]  1 of 1 completed\n",
      "MASTEK.NS 542 289 out of 500 stocks imported\n",
      "[*********************100%***********************]  1 of 1 completed\n",
      "MFSL.NS 542 290 out of 500 stocks imported\n",
      "[*********************100%***********************]  1 of 1 completed\n",
      "MAXHEALTH.NS 542 291 out of 500 stocks imported\n",
      "[*********************100%***********************]  1 of 1 completed\n",
      "MAZDOCK.NS 542 292 out of 500 stocks imported\n",
      "[*********************100%***********************]  1 of 1 completed\n",
      "skipping MEDPLUS.NS as it has only 332 values\n",
      "[*********************100%***********************]  1 of 1 completed\n",
      "skipping MFL.NS as it has only 418 values\n",
      "[*********************100%***********************]  1 of 1 completed\n",
      "skipping METROBRAND.NS as it has only 333 values\n",
      "[*********************100%***********************]  1 of 1 completed\n",
      "METROPOLIS.NS 542 293 out of 500 stocks imported\n",
      "[*********************100%***********************]  1 of 1 completed\n",
      "skipping MSUMI.NS as it has only 268 values\n",
      "[*********************100%***********************]  1 of 1 completed\n",
      "MOTILALOFS.NS 542 294 out of 500 stocks imported\n",
      "[*********************100%***********************]  1 of 1 completed\n",
      "MPHASIS.NS 542 295 out of 500 stocks imported\n",
      "[*********************100%***********************]  1 of 1 completed\n",
      "MCX.NS 542 296 out of 500 stocks imported\n",
      "[*********************100%***********************]  1 of 1 completed\n",
      "MUTHOOTFIN.NS 542 297 out of 500 stocks imported\n",
      "[*********************100%***********************]  1 of 1 completed\n",
      "NATCOPHARM.NS 542 298 out of 500 stocks imported\n",
      "[*********************100%***********************]  1 of 1 completed\n",
      "NBCC.NS 542 299 out of 500 stocks imported\n",
      "[*********************100%***********************]  1 of 1 completed\n",
      "NCC.NS 542 300 out of 500 stocks imported\n",
      "[*********************100%***********************]  1 of 1 completed\n",
      "NHPC.NS 542 301 out of 500 stocks imported\n",
      "[*********************100%***********************]  1 of 1 completed\n",
      "NLCINDIA.NS 542 302 out of 500 stocks imported\n",
      "[*********************100%***********************]  1 of 1 completed\n",
      "NMDC.NS 542 303 out of 500 stocks imported\n",
      "[*********************100%***********************]  1 of 1 completed\n",
      "NOCIL.NS 542 304 out of 500 stocks imported\n",
      "[*********************100%***********************]  1 of 1 completed\n",
      "NTPC.NS 542 305 out of 500 stocks imported\n",
      "[*********************100%***********************]  1 of 1 completed\n",
      "NH.NS 542 306 out of 500 stocks imported\n",
      "[*********************100%***********************]  1 of 1 completed\n",
      "NATIONALUM.NS 542 307 out of 500 stocks imported\n",
      "[*********************100%***********************]  1 of 1 completed\n",
      "NAVINFLUOR.NS 542 308 out of 500 stocks imported\n",
      "[*********************100%***********************]  1 of 1 completed\n",
      "NAZARA.NS 514 309 out of 500 stocks imported\n",
      "[*********************100%***********************]  1 of 1 completed\n",
      "NESTLEIND.NS 542 310 out of 500 stocks imported\n",
      "[*********************100%***********************]  1 of 1 completed\n",
      "NETWORK18.NS 542 311 out of 500 stocks imported\n",
      "[*********************100%***********************]  1 of 1 completed\n",
      "NAM-INDIA.NS 542 312 out of 500 stocks imported\n",
      "[*********************100%***********************]  1 of 1 completed\n",
      "skipping NUVOCO.NS as it has only 416 values\n",
      "[*********************100%***********************]  1 of 1 completed\n",
      "OBEROIRLTY.NS 542 313 out of 500 stocks imported\n",
      "[*********************100%***********************]  1 of 1 completed\n",
      "ONGC.NS 542 314 out of 500 stocks imported\n",
      "[*********************100%***********************]  1 of 1 completed\n",
      "OIL.NS 542 315 out of 500 stocks imported\n",
      "[*********************100%***********************]  1 of 1 completed\n",
      "OLECTRA.NS 542 316 out of 500 stocks imported\n",
      "[*********************100%***********************]  1 of 1 completed\n",
      "skipping PAYTM.NS as it has only 356 values\n",
      "[*********************100%***********************]  1 of 1 completed\n",
      "OFSS.NS 542 317 out of 500 stocks imported\n",
      "[*********************100%***********************]  1 of 1 completed\n",
      "ORIENTELEC.NS 542 318 out of 500 stocks imported\n",
      "[*********************100%***********************]  1 of 1 completed\n",
      "skipping POLICYBZR.NS as it has only 359 values\n",
      "[*********************100%***********************]  1 of 1 completed\n",
      "PCBL.NS 542 319 out of 500 stocks imported\n",
      "[*********************100%***********************]  1 of 1 completed\n",
      "PIIND.NS 542 320 out of 500 stocks imported\n",
      "[*********************100%***********************]  1 of 1 completed\n",
      "PNBHOUSING.NS 533 321 out of 500 stocks imported\n",
      "[*********************100%***********************]  1 of 1 completed\n",
      "PNCINFRA.NS 542 322 out of 500 stocks imported\n",
      "[*********************100%***********************]  1 of 1 completed\n",
      "PVR.NS 542 323 out of 500 stocks imported\n",
      "[*********************100%***********************]  1 of 1 completed\n",
      "PAGEIND.NS 542 324 out of 500 stocks imported\n",
      "[*********************100%***********************]  1 of 1 completed\n",
      "PATANJALI.NS 542 325 out of 500 stocks imported\n",
      "[*********************100%***********************]  1 of 1 completed\n",
      "PERSISTENT.NS 542 326 out of 500 stocks imported\n",
      "[*********************100%***********************]  1 of 1 completed\n",
      "PETRONET.NS 542 327 out of 500 stocks imported\n"
     ]
    },
    {
     "name": "stdout",
     "output_type": "stream",
     "text": [
      "[*********************100%***********************]  1 of 1 completed\n",
      "PFIZER.NS 542 328 out of 500 stocks imported\n",
      "[*********************100%***********************]  1 of 1 completed\n",
      "PHOENIXLTD.NS 542 329 out of 500 stocks imported\n",
      "[*********************100%***********************]  1 of 1 completed\n",
      "PIDILITIND.NS 542 330 out of 500 stocks imported\n",
      "[*********************100%***********************]  1 of 1 completed\n",
      "PEL.NS 542 331 out of 500 stocks imported\n",
      "[*********************100%***********************]  1 of 1 completed\n",
      "skipping PPLPHARMA.NS as it has only 128 values\n",
      "[*********************100%***********************]  1 of 1 completed\n",
      "POLYMED.NS 542 332 out of 500 stocks imported\n",
      "[*********************100%***********************]  1 of 1 completed\n",
      "POLYCAB.NS 542 333 out of 500 stocks imported\n",
      "[*********************100%***********************]  1 of 1 completed\n",
      "POLYPLEX.NS 542 334 out of 500 stocks imported\n",
      "[*********************100%***********************]  1 of 1 completed\n",
      "POONAWALLA.NS 542 335 out of 500 stocks imported\n",
      "[*********************100%***********************]  1 of 1 completed\n",
      "PFC.NS 542 336 out of 500 stocks imported\n",
      "[*********************100%***********************]  1 of 1 completed\n",
      "POWERGRID.NS 542 337 out of 500 stocks imported\n",
      "[*********************100%***********************]  1 of 1 completed\n",
      "PRAJIND.NS 542 338 out of 500 stocks imported\n",
      "[*********************100%***********************]  1 of 1 completed\n",
      "PRESTIGE.NS 542 339 out of 500 stocks imported\n",
      "[*********************100%***********************]  1 of 1 completed\n",
      "PRINCEPIPE.NS 542 340 out of 500 stocks imported\n",
      "[*********************100%***********************]  1 of 1 completed\n",
      "PRSMJOHNSN.NS 542 341 out of 500 stocks imported\n",
      "[*********************100%***********************]  1 of 1 completed\n",
      "PGHH.NS 542 342 out of 500 stocks imported\n",
      "[*********************100%***********************]  1 of 1 completed\n",
      "PNB.NS 542 343 out of 500 stocks imported\n",
      "[*********************100%***********************]  1 of 1 completed\n",
      "QUESS.NS 542 344 out of 500 stocks imported\n",
      "[*********************100%***********************]  1 of 1 completed\n",
      "RBLBANK.NS 542 345 out of 500 stocks imported\n",
      "[*********************100%***********************]  1 of 1 completed\n",
      "RECLTD.NS 542 346 out of 500 stocks imported\n",
      "[*********************100%***********************]  1 of 1 completed\n",
      "RHIM.NS 542 347 out of 500 stocks imported\n",
      "[*********************100%***********************]  1 of 1 completed\n",
      "RITES.NS 542 348 out of 500 stocks imported\n",
      "[*********************100%***********************]  1 of 1 completed\n",
      "RADICO.NS 542 349 out of 500 stocks imported\n",
      "[*********************100%***********************]  1 of 1 completed\n",
      "RVNL.NS 542 350 out of 500 stocks imported\n",
      "[*********************100%***********************]  1 of 1 completed\n",
      "RAIN.NS 542 351 out of 500 stocks imported\n",
      "[*********************100%***********************]  1 of 1 completed\n",
      "skipping RAINBOW.NS as it has only 240 values\n",
      "[*********************100%***********************]  1 of 1 completed\n",
      "RAJESHEXPO.NS 542 352 out of 500 stocks imported\n",
      "[*********************100%***********************]  1 of 1 completed\n",
      "RALLIS.NS 542 353 out of 500 stocks imported\n",
      "[*********************100%***********************]  1 of 1 completed\n",
      "RCF.NS 542 354 out of 500 stocks imported\n",
      "[*********************100%***********************]  1 of 1 completed\n",
      "RATNAMANI.NS 542 355 out of 500 stocks imported\n",
      "[*********************100%***********************]  1 of 1 completed\n",
      "RTNINDIA.NS 542 356 out of 500 stocks imported\n",
      "[*********************100%***********************]  1 of 1 completed\n",
      "RAYMOND.NS 542 357 out of 500 stocks imported\n",
      "[*********************100%***********************]  1 of 1 completed\n",
      "REDINGTON.NS 542 358 out of 500 stocks imported\n",
      "[*********************100%***********************]  1 of 1 completed\n",
      "RELAXO.NS 542 359 out of 500 stocks imported\n",
      "[*********************100%***********************]  1 of 1 completed\n",
      "RELIANCE.NS 542 360 out of 500 stocks imported\n",
      "[*********************100%***********************]  1 of 1 completed\n",
      "RBA.NS 542 361 out of 500 stocks imported\n",
      "[*********************100%***********************]  1 of 1 completed\n",
      "ROSSARI.NS 542 362 out of 500 stocks imported\n",
      "[*********************100%***********************]  1 of 1 completed\n",
      "ROUTE.NS 542 363 out of 500 stocks imported\n",
      "[*********************100%***********************]  1 of 1 completed\n",
      "SBICARD.NS 542 364 out of 500 stocks imported\n",
      "[*********************100%***********************]  1 of 1 completed\n",
      "SBILIFE.NS 542 365 out of 500 stocks imported\n",
      "[*********************100%***********************]  1 of 1 completed\n",
      "SJVN.NS 542 366 out of 500 stocks imported\n",
      "[*********************100%***********************]  1 of 1 completed\n",
      "SKFINDIA.NS 542 367 out of 500 stocks imported\n",
      "[*********************100%***********************]  1 of 1 completed\n",
      "SRF.NS 542 368 out of 500 stocks imported\n",
      "[*********************100%***********************]  1 of 1 completed\n",
      "MOTHERSON.NS 542 369 out of 500 stocks imported\n",
      "[*********************100%***********************]  1 of 1 completed\n",
      "SANOFI.NS 542 370 out of 500 stocks imported\n",
      "[*********************100%***********************]  1 of 1 completed\n",
      "skipping SAPPHIRE.NS as it has only 356 values\n",
      "[*********************100%***********************]  1 of 1 completed\n",
      "SCHAEFFLER.NS 542 371 out of 500 stocks imported\n",
      "[*********************100%***********************]  1 of 1 completed\n",
      "SHARDACROP.NS 542 372 out of 500 stocks imported\n",
      "[*********************100%***********************]  1 of 1 completed\n",
      "SHOPERSTOP.NS 542 373 out of 500 stocks imported\n",
      "[*********************100%***********************]  1 of 1 completed\n",
      "SHREECEM.NS 542 374 out of 500 stocks imported\n",
      "[*********************100%***********************]  1 of 1 completed\n",
      "RENUKA.NS 542 375 out of 500 stocks imported\n",
      "[*********************100%***********************]  1 of 1 completed\n",
      "SHRIRAMFIN.NS 542 376 out of 500 stocks imported\n",
      "[*********************100%***********************]  1 of 1 completed\n",
      "skipping SHYAMMETL.NS as it has only 456 values\n",
      "[*********************100%***********************]  1 of 1 completed\n",
      "SIEMENS.NS 542 377 out of 500 stocks imported\n",
      "[*********************100%***********************]  1 of 1 completed\n",
      "SOBHA.NS 542 378 out of 500 stocks imported\n",
      "[*********************100%***********************]  1 of 1 completed\n",
      "SOLARINDS.NS 542 379 out of 500 stocks imported\n",
      "[*********************100%***********************]  1 of 1 completed\n",
      "skipping SONACOMS.NS as it has only 456 values\n",
      "[*********************100%***********************]  1 of 1 completed\n",
      "SONATSOFTW.NS 542 380 out of 500 stocks imported\n",
      "[*********************100%***********************]  1 of 1 completed\n",
      "skipping STARHEALTH.NS as it has only 341 values\n",
      "[*********************100%***********************]  1 of 1 completed\n",
      "SBIN.NS 542 381 out of 500 stocks imported\n",
      "[*********************100%***********************]  1 of 1 completed\n",
      "SAIL.NS 542 382 out of 500 stocks imported\n",
      "[*********************100%***********************]  1 of 1 completed\n",
      "SWSOLAR.NS 542 383 out of 500 stocks imported\n",
      "[*********************100%***********************]  1 of 1 completed\n",
      "STLTECH.NS 542 384 out of 500 stocks imported\n",
      "[*********************100%***********************]  1 of 1 completed\n",
      "SUMICHEM.NS 542 385 out of 500 stocks imported\n",
      "[*********************100%***********************]  1 of 1 completed\n",
      "SPARC.NS 542 386 out of 500 stocks imported\n",
      "[*********************100%***********************]  1 of 1 completed\n",
      "SUNPHARMA.NS 542 387 out of 500 stocks imported\n",
      "[*********************100%***********************]  1 of 1 completed\n",
      "SUNTV.NS 542 388 out of 500 stocks imported\n",
      "[*********************100%***********************]  1 of 1 completed\n",
      "SUNDARMFIN.NS 542 389 out of 500 stocks imported\n",
      "[*********************100%***********************]  1 of 1 completed\n",
      "SUNDRMFAST.NS 542 390 out of 500 stocks imported\n",
      "[*********************100%***********************]  1 of 1 completed\n",
      "SUNTECK.NS 542 391 out of 500 stocks imported\n",
      "[*********************100%***********************]  1 of 1 completed\n",
      "SUPRAJIT.NS 542 392 out of 500 stocks imported\n"
     ]
    },
    {
     "name": "stdout",
     "output_type": "stream",
     "text": [
      "[*********************100%***********************]  1 of 1 completed\n",
      "SUPREMEIND.NS 542 393 out of 500 stocks imported\n",
      "[*********************100%***********************]  1 of 1 completed\n",
      "SUVENPHAR.NS 542 394 out of 500 stocks imported\n",
      "[*********************100%***********************]  1 of 1 completed\n",
      "SUZLON.NS 542 395 out of 500 stocks imported\n",
      "[*********************100%***********************]  1 of 1 completed\n",
      "SWANENERGY.NS 542 396 out of 500 stocks imported\n",
      "[*********************100%***********************]  1 of 1 completed\n",
      "SYNGENE.NS 542 397 out of 500 stocks imported\n",
      "[*********************100%***********************]  1 of 1 completed\n",
      "TCIEXP.NS 542 398 out of 500 stocks imported\n",
      "[*********************100%***********************]  1 of 1 completed\n",
      "TCNSBRANDS.NS 542 399 out of 500 stocks imported\n",
      "[*********************100%***********************]  1 of 1 completed\n",
      "TTKPRESTIG.NS 542 400 out of 500 stocks imported\n",
      "[*********************100%***********************]  1 of 1 completed\n",
      "TV18BRDCST.NS 542 401 out of 500 stocks imported\n",
      "[*********************100%***********************]  1 of 1 completed\n",
      "TVSMOTOR.NS 542 402 out of 500 stocks imported\n",
      "[*********************100%***********************]  1 of 1 completed\n",
      "skipping TMB.NS as it has only 151 values\n",
      "[*********************100%***********************]  1 of 1 completed\n",
      "TANLA.NS 542 403 out of 500 stocks imported\n",
      "[*********************100%***********************]  1 of 1 completed\n",
      "TATACHEM.NS 542 404 out of 500 stocks imported\n",
      "[*********************100%***********************]  1 of 1 completed\n",
      "TATACOMM.NS 542 405 out of 500 stocks imported\n",
      "[*********************100%***********************]  1 of 1 completed\n",
      "TCS.NS 542 406 out of 500 stocks imported\n",
      "[*********************100%***********************]  1 of 1 completed\n",
      "TATACONSUM.NS 542 407 out of 500 stocks imported\n",
      "[*********************100%***********************]  1 of 1 completed\n",
      "TATAELXSI.NS 542 408 out of 500 stocks imported\n",
      "[*********************100%***********************]  1 of 1 completed\n",
      "TATAINVEST.NS 542 409 out of 500 stocks imported\n",
      "[*********************100%***********************]  1 of 1 completed\n",
      "TATAMTRDVR.NS 542 410 out of 500 stocks imported\n",
      "[*********************100%***********************]  1 of 1 completed\n",
      "TATAMOTORS.NS 542 411 out of 500 stocks imported\n",
      "[*********************100%***********************]  1 of 1 completed\n",
      "TATAPOWER.NS 542 412 out of 500 stocks imported\n",
      "[*********************100%***********************]  1 of 1 completed\n",
      "TATASTEEL.NS 542 413 out of 500 stocks imported\n",
      "[*********************100%***********************]  1 of 1 completed\n",
      "TTML.NS 542 414 out of 500 stocks imported\n",
      "[*********************100%***********************]  1 of 1 completed\n",
      "TEAMLEASE.NS 542 415 out of 500 stocks imported\n",
      "[*********************100%***********************]  1 of 1 completed\n",
      "TECHM.NS 542 416 out of 500 stocks imported\n",
      "[*********************100%***********************]  1 of 1 completed\n",
      "TEJASNET.NS 542 417 out of 500 stocks imported\n",
      "[*********************100%***********************]  1 of 1 completed\n",
      "NIACL.NS 542 418 out of 500 stocks imported\n",
      "[*********************100%***********************]  1 of 1 completed\n",
      "RAMCOCEM.NS 542 419 out of 500 stocks imported\n",
      "[*********************100%***********************]  1 of 1 completed\n",
      "THERMAX.NS 542 420 out of 500 stocks imported\n",
      "[*********************100%***********************]  1 of 1 completed\n",
      "TIMKEN.NS 542 421 out of 500 stocks imported\n",
      "[*********************100%***********************]  1 of 1 completed\n",
      "TITAN.NS 542 422 out of 500 stocks imported\n",
      "[*********************100%***********************]  1 of 1 completed\n",
      "TORNTPHARM.NS 542 423 out of 500 stocks imported\n",
      "[*********************100%***********************]  1 of 1 completed\n",
      "TORNTPOWER.NS 542 424 out of 500 stocks imported\n",
      "[*********************100%***********************]  1 of 1 completed\n",
      "TCI.NS 542 425 out of 500 stocks imported\n",
      "[*********************100%***********************]  1 of 1 completed\n",
      "TRENT.NS 542 426 out of 500 stocks imported\n",
      "[*********************100%***********************]  1 of 1 completed\n",
      "TRIDENT.NS 542 427 out of 500 stocks imported\n",
      "[*********************100%***********************]  1 of 1 completed\n",
      "TRIVENI.NS 542 428 out of 500 stocks imported\n",
      "[*********************100%***********************]  1 of 1 completed\n",
      "TRITURBINE.NS 542 429 out of 500 stocks imported\n",
      "[*********************100%***********************]  1 of 1 completed\n",
      "TIINDIA.NS 542 430 out of 500 stocks imported\n",
      "[*********************100%***********************]  1 of 1 completed\n",
      "UCOBANK.NS 542 431 out of 500 stocks imported\n",
      "[*********************100%***********************]  1 of 1 completed\n",
      "UFLEX.NS 542 432 out of 500 stocks imported\n",
      "[*********************100%***********************]  1 of 1 completed\n",
      "UNOMINDA.NS 542 433 out of 500 stocks imported\n",
      "[*********************100%***********************]  1 of 1 completed\n",
      "UPL.NS 542 434 out of 500 stocks imported\n",
      "[*********************100%***********************]  1 of 1 completed\n",
      "UTIAMC.NS 542 435 out of 500 stocks imported\n",
      "[*********************100%***********************]  1 of 1 completed\n",
      "ULTRACEMCO.NS 542 436 out of 500 stocks imported\n",
      "[*********************100%***********************]  1 of 1 completed\n",
      "UNIONBANK.NS 542 437 out of 500 stocks imported\n",
      "[*********************100%***********************]  1 of 1 completed\n",
      "UBL.NS 542 438 out of 500 stocks imported\n",
      "[*********************100%***********************]  1 of 1 completed\n",
      "MCDOWELL-N.NS 542 439 out of 500 stocks imported\n",
      "[*********************100%***********************]  1 of 1 completed\n",
      "VGUARD.NS 542 440 out of 500 stocks imported\n",
      "[*********************100%***********************]  1 of 1 completed\n",
      "VMART.NS 542 441 out of 500 stocks imported\n",
      "[*********************100%***********************]  1 of 1 completed\n",
      "VIPIND.NS 542 442 out of 500 stocks imported\n",
      "[*********************100%***********************]  1 of 1 completed\n",
      "VAIBHAVGBL.NS 542 443 out of 500 stocks imported\n",
      "[*********************100%***********************]  1 of 1 completed\n",
      "VTL.NS 542 444 out of 500 stocks imported\n",
      "[*********************100%***********************]  1 of 1 completed\n",
      "VARROC.NS 542 445 out of 500 stocks imported\n",
      "[*********************100%***********************]  1 of 1 completed\n",
      "VBL.NS 542 446 out of 500 stocks imported\n",
      "[*********************100%***********************]  1 of 1 completed\n",
      "skipping MANYAVAR.NS as it has only 294 values\n",
      "[*********************100%***********************]  1 of 1 completed\n",
      "VEDL.NS 542 447 out of 500 stocks imported\n",
      "[*********************100%***********************]  1 of 1 completed\n",
      "skipping VIJAYA.NS as it has only 401 values\n",
      "[*********************100%***********************]  1 of 1 completed\n",
      "VINATIORGA.NS 542 448 out of 500 stocks imported\n",
      "[*********************100%***********************]  1 of 1 completed\n",
      "IDEA.NS 542 449 out of 500 stocks imported\n",
      "[*********************100%***********************]  1 of 1 completed\n",
      "VOLTAS.NS 542 450 out of 500 stocks imported\n",
      "[*********************100%***********************]  1 of 1 completed\n",
      "WELCORP.NS 542 451 out of 500 stocks imported\n",
      "[*********************100%***********************]  1 of 1 completed\n",
      "WELSPUNIND.NS 542 452 out of 500 stocks imported\n",
      "[*********************100%***********************]  1 of 1 completed\n",
      "WESTLIFE.NS 542 453 out of 500 stocks imported\n",
      "[*********************100%***********************]  1 of 1 completed\n",
      "WHIRLPOOL.NS 542 454 out of 500 stocks imported\n",
      "[*********************100%***********************]  1 of 1 completed\n",
      "WIPRO.NS 542 455 out of 500 stocks imported\n",
      "[*********************100%***********************]  1 of 1 completed\n",
      "YESBANK.NS 542 456 out of 500 stocks imported\n",
      "[*********************100%***********************]  1 of 1 completed\n",
      "ZFCVINDIA.NS 542 457 out of 500 stocks imported\n",
      "[*********************100%***********************]  1 of 1 completed\n",
      "ZEEL.NS 542 458 out of 500 stocks imported\n",
      "[*********************100%***********************]  1 of 1 completed\n",
      "ZENSARTECH.NS 542 459 out of 500 stocks imported\n",
      "[*********************100%***********************]  1 of 1 completed\n",
      "skipping ZOMATO.NS as it has only 436 values\n"
     ]
    },
    {
     "name": "stdout",
     "output_type": "stream",
     "text": [
      "[*********************100%***********************]  1 of 1 completed\n",
      "ZYDUSLIFE.NS 542 460 out of 500 stocks imported\n",
      "[*********************100%***********************]  1 of 1 completed\n",
      "ZYDUSWELL.NS 542 461 out of 500 stocks imported\n",
      "[*********************100%***********************]  1 of 1 completed\n",
      "ECLERX.NS 542 462 out of 500 stocks imported\n"
     ]
    }
   ],
   "source": [
    "import yfinance as yf\n",
    "import datetime\n",
    "\n",
    "# Define the list of NSE companies to fetch data for\n",
    "nse_companies1 = stocks[0] +'.NS'\n",
    "nse_companies=[]\n",
    "# Set the start and end dates\n",
    "end_date = datetime.date.today()\n",
    "start_date = end_date - datetime.timedelta(days=800)\n",
    "\n",
    "# Create an empty dictionary to store the data for each company\n",
    "data = {}\n",
    "data_check = {}\n",
    "\n",
    "# Loop through the list of companies and fetch their data\n",
    "set1 =1 \n",
    "for company in nse_companies1:\n",
    "    \n",
    "    data_check[company] = yf.download(company, start=start_date, end=end_date)\n",
    "    \n",
    "    data_check[company] = pd.DataFrame(data_check[company])\n",
    "    df_temp = data_check[company] \n",
    "    #df_temp = df_temp.iloc[0:175]\n",
    "    \n",
    "    if df_temp.shape[0]<500:\n",
    "        print('skipping',company,'as it has only',df_temp.shape[0],'values')\n",
    "        continue\n",
    "        \n",
    "    data[company] = df_temp\n",
    "    nse_companies.append(company)\n",
    "    #print(data[company])\n",
    "    #print(data[company].head())\n",
    "    \n",
    "    print(company,len(data[company]), set1,'out of 500 stocks imported')\n",
    "    set1 = set1 +1\n",
    "    "
   ]
  },
  {
   "cell_type": "code",
   "execution_count": 3,
   "id": "00ad5da2",
   "metadata": {
    "scrolled": false
   },
   "outputs": [
    {
     "data": {
      "text/html": [
       "<div>\n",
       "<style scoped>\n",
       "    .dataframe tbody tr th:only-of-type {\n",
       "        vertical-align: middle;\n",
       "    }\n",
       "\n",
       "    .dataframe tbody tr th {\n",
       "        vertical-align: top;\n",
       "    }\n",
       "\n",
       "    .dataframe thead th {\n",
       "        text-align: right;\n",
       "    }\n",
       "</style>\n",
       "<table border=\"1\" class=\"dataframe\">\n",
       "  <thead>\n",
       "    <tr style=\"text-align: right;\">\n",
       "      <th></th>\n",
       "      <th>Open</th>\n",
       "      <th>High</th>\n",
       "      <th>Low</th>\n",
       "      <th>Close</th>\n",
       "      <th>Adj Close</th>\n",
       "      <th>Volume</th>\n",
       "    </tr>\n",
       "    <tr>\n",
       "      <th>Date</th>\n",
       "      <th></th>\n",
       "      <th></th>\n",
       "      <th></th>\n",
       "      <th></th>\n",
       "      <th></th>\n",
       "      <th></th>\n",
       "    </tr>\n",
       "  </thead>\n",
       "  <tbody>\n",
       "    <tr>\n",
       "      <th>2021-02-16</th>\n",
       "      <td>1480.800049</td>\n",
       "      <td>1515.000000</td>\n",
       "      <td>1474.000000</td>\n",
       "      <td>1500.500000</td>\n",
       "      <td>1479.856934</td>\n",
       "      <td>170927</td>\n",
       "    </tr>\n",
       "    <tr>\n",
       "      <th>2021-02-17</th>\n",
       "      <td>1480.000000</td>\n",
       "      <td>1504.750000</td>\n",
       "      <td>1480.000000</td>\n",
       "      <td>1498.949951</td>\n",
       "      <td>1478.328125</td>\n",
       "      <td>93001</td>\n",
       "    </tr>\n",
       "    <tr>\n",
       "      <th>2021-02-18</th>\n",
       "      <td>1509.800049</td>\n",
       "      <td>1570.000000</td>\n",
       "      <td>1502.000000</td>\n",
       "      <td>1532.849976</td>\n",
       "      <td>1511.761719</td>\n",
       "      <td>310358</td>\n",
       "    </tr>\n",
       "    <tr>\n",
       "      <th>2021-02-19</th>\n",
       "      <td>1542.000000</td>\n",
       "      <td>1635.000000</td>\n",
       "      <td>1510.000000</td>\n",
       "      <td>1521.599976</td>\n",
       "      <td>1500.666626</td>\n",
       "      <td>425564</td>\n",
       "    </tr>\n",
       "    <tr>\n",
       "      <th>2021-02-22</th>\n",
       "      <td>1521.599976</td>\n",
       "      <td>1529.949951</td>\n",
       "      <td>1430.000000</td>\n",
       "      <td>1456.400024</td>\n",
       "      <td>1436.363647</td>\n",
       "      <td>161553</td>\n",
       "    </tr>\n",
       "    <tr>\n",
       "      <th>...</th>\n",
       "      <td>...</td>\n",
       "      <td>...</td>\n",
       "      <td>...</td>\n",
       "      <td>...</td>\n",
       "      <td>...</td>\n",
       "      <td>...</td>\n",
       "    </tr>\n",
       "    <tr>\n",
       "      <th>2023-04-20</th>\n",
       "      <td>3212.000000</td>\n",
       "      <td>3231.750000</td>\n",
       "      <td>3178.000000</td>\n",
       "      <td>3184.300049</td>\n",
       "      <td>3179.149170</td>\n",
       "      <td>276392</td>\n",
       "    </tr>\n",
       "    <tr>\n",
       "      <th>2023-04-21</th>\n",
       "      <td>3198.000000</td>\n",
       "      <td>3212.550049</td>\n",
       "      <td>3141.149902</td>\n",
       "      <td>3153.300049</td>\n",
       "      <td>3148.199463</td>\n",
       "      <td>267054</td>\n",
       "    </tr>\n",
       "    <tr>\n",
       "      <th>2023-04-24</th>\n",
       "      <td>3164.699951</td>\n",
       "      <td>3232.000000</td>\n",
       "      <td>3160.649902</td>\n",
       "      <td>3217.399902</td>\n",
       "      <td>3212.195557</td>\n",
       "      <td>314556</td>\n",
       "    </tr>\n",
       "    <tr>\n",
       "      <th>2023-04-25</th>\n",
       "      <td>3228.000000</td>\n",
       "      <td>3355.000000</td>\n",
       "      <td>3210.050049</td>\n",
       "      <td>3336.100098</td>\n",
       "      <td>3330.703857</td>\n",
       "      <td>690245</td>\n",
       "    </tr>\n",
       "    <tr>\n",
       "      <th>2023-04-26</th>\n",
       "      <td>3345.000000</td>\n",
       "      <td>3407.000000</td>\n",
       "      <td>3330.000000</td>\n",
       "      <td>3400.149902</td>\n",
       "      <td>3394.649902</td>\n",
       "      <td>361730</td>\n",
       "    </tr>\n",
       "  </tbody>\n",
       "</table>\n",
       "<p>542 rows × 6 columns</p>\n",
       "</div>"
      ],
      "text/plain": [
       "                   Open         High          Low        Close    Adj Close  \\\n",
       "Date                                                                          \n",
       "2021-02-16  1480.800049  1515.000000  1474.000000  1500.500000  1479.856934   \n",
       "2021-02-17  1480.000000  1504.750000  1480.000000  1498.949951  1478.328125   \n",
       "2021-02-18  1509.800049  1570.000000  1502.000000  1532.849976  1511.761719   \n",
       "2021-02-19  1542.000000  1635.000000  1510.000000  1521.599976  1500.666626   \n",
       "2021-02-22  1521.599976  1529.949951  1430.000000  1456.400024  1436.363647   \n",
       "...                 ...          ...          ...          ...          ...   \n",
       "2023-04-20  3212.000000  3231.750000  3178.000000  3184.300049  3179.149170   \n",
       "2023-04-21  3198.000000  3212.550049  3141.149902  3153.300049  3148.199463   \n",
       "2023-04-24  3164.699951  3232.000000  3160.649902  3217.399902  3212.195557   \n",
       "2023-04-25  3228.000000  3355.000000  3210.050049  3336.100098  3330.703857   \n",
       "2023-04-26  3345.000000  3407.000000  3330.000000  3400.149902  3394.649902   \n",
       "\n",
       "            Volume  \n",
       "Date                \n",
       "2021-02-16  170927  \n",
       "2021-02-17   93001  \n",
       "2021-02-18  310358  \n",
       "2021-02-19  425564  \n",
       "2021-02-22  161553  \n",
       "...            ...  \n",
       "2023-04-20  276392  \n",
       "2023-04-21  267054  \n",
       "2023-04-24  314556  \n",
       "2023-04-25  690245  \n",
       "2023-04-26  361730  \n",
       "\n",
       "[542 rows x 6 columns]"
      ]
     },
     "execution_count": 3,
     "metadata": {},
     "output_type": "execute_result"
    }
   ],
   "source": [
    "data['ABB.NS']"
   ]
  },
  {
   "cell_type": "code",
   "execution_count": 4,
   "id": "eb1d9661",
   "metadata": {},
   "outputs": [],
   "source": [
    "def data_fetch():\n",
    "    return data"
   ]
  },
  {
   "cell_type": "code",
   "execution_count": 5,
   "id": "035cad6e",
   "metadata": {},
   "outputs": [],
   "source": [
    "from matplotlib import pyplot as plt\n",
    "import numpy as np\n",
    "%matplotlib inline"
   ]
  },
  {
   "cell_type": "code",
   "execution_count": 6,
   "id": "d4f5be96",
   "metadata": {
    "scrolled": true
   },
   "outputs": [
    {
     "name": "stdout",
     "output_type": "stream",
     "text": [
      "Completed 0 out of 462 steps\n",
      "the main data is of shape (542, 2)\n",
      "shape of current_data2 is (542, 59)\n"
     ]
    },
    {
     "name": "stderr",
     "output_type": "stream",
     "text": [
      "C:\\Users\\abhij\\AppData\\Local\\Temp\\ipykernel_16868\\3215059801.py:16: SettingWithCopyWarning: \n",
      "A value is trying to be set on a copy of a slice from a DataFrame.\n",
      "Try using .loc[row_indexer,col_indexer] = value instead\n",
      "\n",
      "See the caveats in the documentation: https://pandas.pydata.org/pandas-docs/stable/user_guide/indexing.html#returning-a-view-versus-a-copy\n",
      "  current_data['Date'] = current_data.index\n"
     ]
    },
    {
     "name": "stdout",
     "output_type": "stream",
     "text": [
      "shape of df4 is (482, 3541)\n",
      "Completed 1 out of 462 steps\n",
      "the main data is of shape (542, 2)\n",
      "shape of current_data2 is (542, 59)\n"
     ]
    },
    {
     "name": "stderr",
     "output_type": "stream",
     "text": [
      "C:\\Users\\abhij\\AppData\\Local\\Temp\\ipykernel_16868\\3215059801.py:16: SettingWithCopyWarning: \n",
      "A value is trying to be set on a copy of a slice from a DataFrame.\n",
      "Try using .loc[row_indexer,col_indexer] = value instead\n",
      "\n",
      "See the caveats in the documentation: https://pandas.pydata.org/pandas-docs/stable/user_guide/indexing.html#returning-a-view-versus-a-copy\n",
      "  current_data['Date'] = current_data.index\n"
     ]
    },
    {
     "name": "stdout",
     "output_type": "stream",
     "text": [
      "shape of df4 is (482, 3541)\n",
      "Completed 2 out of 462 steps\n",
      "the main data is of shape (542, 2)\n",
      "shape of current_data2 is (542, 59)\n"
     ]
    },
    {
     "name": "stderr",
     "output_type": "stream",
     "text": [
      "C:\\Users\\abhij\\AppData\\Local\\Temp\\ipykernel_16868\\3215059801.py:16: SettingWithCopyWarning: \n",
      "A value is trying to be set on a copy of a slice from a DataFrame.\n",
      "Try using .loc[row_indexer,col_indexer] = value instead\n",
      "\n",
      "See the caveats in the documentation: https://pandas.pydata.org/pandas-docs/stable/user_guide/indexing.html#returning-a-view-versus-a-copy\n",
      "  current_data['Date'] = current_data.index\n"
     ]
    },
    {
     "name": "stdout",
     "output_type": "stream",
     "text": [
      "shape of df4 is (482, 3541)\n",
      "Completed 3 out of 462 steps\n",
      "the main data is of shape (542, 2)\n",
      "shape of current_data2 is (542, 59)\n"
     ]
    },
    {
     "name": "stderr",
     "output_type": "stream",
     "text": [
      "C:\\Users\\abhij\\AppData\\Local\\Temp\\ipykernel_16868\\3215059801.py:16: SettingWithCopyWarning: \n",
      "A value is trying to be set on a copy of a slice from a DataFrame.\n",
      "Try using .loc[row_indexer,col_indexer] = value instead\n",
      "\n",
      "See the caveats in the documentation: https://pandas.pydata.org/pandas-docs/stable/user_guide/indexing.html#returning-a-view-versus-a-copy\n",
      "  current_data['Date'] = current_data.index\n"
     ]
    },
    {
     "name": "stdout",
     "output_type": "stream",
     "text": [
      "shape of df4 is (482, 3541)\n",
      "Completed 4 out of 462 steps\n",
      "the main data is of shape (542, 2)\n",
      "shape of current_data2 is (542, 59)\n"
     ]
    },
    {
     "name": "stderr",
     "output_type": "stream",
     "text": [
      "C:\\Users\\abhij\\AppData\\Local\\Temp\\ipykernel_16868\\3215059801.py:16: SettingWithCopyWarning: \n",
      "A value is trying to be set on a copy of a slice from a DataFrame.\n",
      "Try using .loc[row_indexer,col_indexer] = value instead\n",
      "\n",
      "See the caveats in the documentation: https://pandas.pydata.org/pandas-docs/stable/user_guide/indexing.html#returning-a-view-versus-a-copy\n",
      "  current_data['Date'] = current_data.index\n"
     ]
    },
    {
     "name": "stdout",
     "output_type": "stream",
     "text": [
      "shape of df4 is (482, 3541)\n",
      "Completed 5 out of 462 steps\n",
      "the main data is of shape (542, 2)\n",
      "shape of current_data2 is (542, 59)\n"
     ]
    },
    {
     "name": "stderr",
     "output_type": "stream",
     "text": [
      "C:\\Users\\abhij\\AppData\\Local\\Temp\\ipykernel_16868\\3215059801.py:16: SettingWithCopyWarning: \n",
      "A value is trying to be set on a copy of a slice from a DataFrame.\n",
      "Try using .loc[row_indexer,col_indexer] = value instead\n",
      "\n",
      "See the caveats in the documentation: https://pandas.pydata.org/pandas-docs/stable/user_guide/indexing.html#returning-a-view-versus-a-copy\n",
      "  current_data['Date'] = current_data.index\n"
     ]
    },
    {
     "name": "stdout",
     "output_type": "stream",
     "text": [
      "shape of df4 is (482, 3541)\n",
      "Completed 6 out of 462 steps\n",
      "the main data is of shape (542, 2)\n",
      "shape of current_data2 is (542, 59)\n"
     ]
    },
    {
     "name": "stderr",
     "output_type": "stream",
     "text": [
      "C:\\Users\\abhij\\AppData\\Local\\Temp\\ipykernel_16868\\3215059801.py:16: SettingWithCopyWarning: \n",
      "A value is trying to be set on a copy of a slice from a DataFrame.\n",
      "Try using .loc[row_indexer,col_indexer] = value instead\n",
      "\n",
      "See the caveats in the documentation: https://pandas.pydata.org/pandas-docs/stable/user_guide/indexing.html#returning-a-view-versus-a-copy\n",
      "  current_data['Date'] = current_data.index\n"
     ]
    },
    {
     "name": "stdout",
     "output_type": "stream",
     "text": [
      "shape of df4 is (482, 3541)\n",
      "Completed 7 out of 462 steps\n",
      "the main data is of shape (542, 2)\n",
      "shape of current_data2 is (542, 59)\n"
     ]
    },
    {
     "name": "stderr",
     "output_type": "stream",
     "text": [
      "C:\\Users\\abhij\\AppData\\Local\\Temp\\ipykernel_16868\\3215059801.py:16: SettingWithCopyWarning: \n",
      "A value is trying to be set on a copy of a slice from a DataFrame.\n",
      "Try using .loc[row_indexer,col_indexer] = value instead\n",
      "\n",
      "See the caveats in the documentation: https://pandas.pydata.org/pandas-docs/stable/user_guide/indexing.html#returning-a-view-versus-a-copy\n",
      "  current_data['Date'] = current_data.index\n"
     ]
    },
    {
     "name": "stdout",
     "output_type": "stream",
     "text": [
      "shape of df4 is (482, 3541)\n",
      "Completed 8 out of 462 steps\n",
      "the main data is of shape (542, 2)\n",
      "shape of current_data2 is (542, 59)\n"
     ]
    },
    {
     "name": "stderr",
     "output_type": "stream",
     "text": [
      "C:\\Users\\abhij\\AppData\\Local\\Temp\\ipykernel_16868\\3215059801.py:16: SettingWithCopyWarning: \n",
      "A value is trying to be set on a copy of a slice from a DataFrame.\n",
      "Try using .loc[row_indexer,col_indexer] = value instead\n",
      "\n",
      "See the caveats in the documentation: https://pandas.pydata.org/pandas-docs/stable/user_guide/indexing.html#returning-a-view-versus-a-copy\n",
      "  current_data['Date'] = current_data.index\n"
     ]
    },
    {
     "name": "stdout",
     "output_type": "stream",
     "text": [
      "shape of df4 is (482, 3541)\n",
      "Completed 9 out of 462 steps\n",
      "the main data is of shape (542, 2)\n",
      "shape of current_data2 is (542, 59)\n"
     ]
    },
    {
     "name": "stderr",
     "output_type": "stream",
     "text": [
      "C:\\Users\\abhij\\AppData\\Local\\Temp\\ipykernel_16868\\3215059801.py:16: SettingWithCopyWarning: \n",
      "A value is trying to be set on a copy of a slice from a DataFrame.\n",
      "Try using .loc[row_indexer,col_indexer] = value instead\n",
      "\n",
      "See the caveats in the documentation: https://pandas.pydata.org/pandas-docs/stable/user_guide/indexing.html#returning-a-view-versus-a-copy\n",
      "  current_data['Date'] = current_data.index\n"
     ]
    },
    {
     "name": "stdout",
     "output_type": "stream",
     "text": [
      "shape of df4 is (482, 3541)\n",
      "Completed 10 out of 462 steps\n",
      "the main data is of shape (542, 2)\n",
      "shape of current_data2 is (542, 59)\n"
     ]
    },
    {
     "name": "stderr",
     "output_type": "stream",
     "text": [
      "C:\\Users\\abhij\\AppData\\Local\\Temp\\ipykernel_16868\\3215059801.py:16: SettingWithCopyWarning: \n",
      "A value is trying to be set on a copy of a slice from a DataFrame.\n",
      "Try using .loc[row_indexer,col_indexer] = value instead\n",
      "\n",
      "See the caveats in the documentation: https://pandas.pydata.org/pandas-docs/stable/user_guide/indexing.html#returning-a-view-versus-a-copy\n",
      "  current_data['Date'] = current_data.index\n"
     ]
    },
    {
     "name": "stdout",
     "output_type": "stream",
     "text": [
      "shape of df4 is (482, 3541)\n",
      "Completed 11 out of 462 steps\n",
      "the main data is of shape (542, 2)\n",
      "shape of current_data2 is (542, 59)\n"
     ]
    },
    {
     "name": "stderr",
     "output_type": "stream",
     "text": [
      "C:\\Users\\abhij\\AppData\\Local\\Temp\\ipykernel_16868\\3215059801.py:16: SettingWithCopyWarning: \n",
      "A value is trying to be set on a copy of a slice from a DataFrame.\n",
      "Try using .loc[row_indexer,col_indexer] = value instead\n",
      "\n",
      "See the caveats in the documentation: https://pandas.pydata.org/pandas-docs/stable/user_guide/indexing.html#returning-a-view-versus-a-copy\n",
      "  current_data['Date'] = current_data.index\n"
     ]
    },
    {
     "name": "stdout",
     "output_type": "stream",
     "text": [
      "shape of df4 is (482, 3541)\n",
      "Completed 12 out of 462 steps\n",
      "the main data is of shape (542, 2)\n",
      "shape of current_data2 is (542, 59)\n"
     ]
    },
    {
     "name": "stderr",
     "output_type": "stream",
     "text": [
      "C:\\Users\\abhij\\AppData\\Local\\Temp\\ipykernel_16868\\3215059801.py:16: SettingWithCopyWarning: \n",
      "A value is trying to be set on a copy of a slice from a DataFrame.\n",
      "Try using .loc[row_indexer,col_indexer] = value instead\n",
      "\n",
      "See the caveats in the documentation: https://pandas.pydata.org/pandas-docs/stable/user_guide/indexing.html#returning-a-view-versus-a-copy\n",
      "  current_data['Date'] = current_data.index\n"
     ]
    },
    {
     "name": "stdout",
     "output_type": "stream",
     "text": [
      "shape of df4 is (482, 3541)\n",
      "Completed 13 out of 462 steps\n",
      "the main data is of shape (542, 2)\n",
      "shape of current_data2 is (542, 59)\n"
     ]
    },
    {
     "name": "stderr",
     "output_type": "stream",
     "text": [
      "C:\\Users\\abhij\\AppData\\Local\\Temp\\ipykernel_16868\\3215059801.py:16: SettingWithCopyWarning: \n",
      "A value is trying to be set on a copy of a slice from a DataFrame.\n",
      "Try using .loc[row_indexer,col_indexer] = value instead\n",
      "\n",
      "See the caveats in the documentation: https://pandas.pydata.org/pandas-docs/stable/user_guide/indexing.html#returning-a-view-versus-a-copy\n",
      "  current_data['Date'] = current_data.index\n"
     ]
    },
    {
     "name": "stdout",
     "output_type": "stream",
     "text": [
      "shape of df4 is (482, 3541)\n",
      "Completed 14 out of 462 steps\n",
      "the main data is of shape (542, 2)\n",
      "shape of current_data2 is (542, 59)\n"
     ]
    },
    {
     "name": "stderr",
     "output_type": "stream",
     "text": [
      "C:\\Users\\abhij\\AppData\\Local\\Temp\\ipykernel_16868\\3215059801.py:16: SettingWithCopyWarning: \n",
      "A value is trying to be set on a copy of a slice from a DataFrame.\n",
      "Try using .loc[row_indexer,col_indexer] = value instead\n",
      "\n",
      "See the caveats in the documentation: https://pandas.pydata.org/pandas-docs/stable/user_guide/indexing.html#returning-a-view-versus-a-copy\n",
      "  current_data['Date'] = current_data.index\n"
     ]
    },
    {
     "name": "stdout",
     "output_type": "stream",
     "text": [
      "shape of df4 is (482, 3541)\n",
      "Completed 15 out of 462 steps\n",
      "the main data is of shape (542, 2)\n",
      "shape of current_data2 is (542, 59)\n"
     ]
    },
    {
     "name": "stderr",
     "output_type": "stream",
     "text": [
      "C:\\Users\\abhij\\AppData\\Local\\Temp\\ipykernel_16868\\3215059801.py:16: SettingWithCopyWarning: \n",
      "A value is trying to be set on a copy of a slice from a DataFrame.\n",
      "Try using .loc[row_indexer,col_indexer] = value instead\n",
      "\n",
      "See the caveats in the documentation: https://pandas.pydata.org/pandas-docs/stable/user_guide/indexing.html#returning-a-view-versus-a-copy\n",
      "  current_data['Date'] = current_data.index\n"
     ]
    },
    {
     "name": "stdout",
     "output_type": "stream",
     "text": [
      "shape of df4 is (482, 3541)\n",
      "Completed 16 out of 462 steps\n",
      "the main data is of shape (542, 2)\n",
      "shape of current_data2 is (542, 59)\n"
     ]
    },
    {
     "name": "stderr",
     "output_type": "stream",
     "text": [
      "C:\\Users\\abhij\\AppData\\Local\\Temp\\ipykernel_16868\\3215059801.py:16: SettingWithCopyWarning: \n",
      "A value is trying to be set on a copy of a slice from a DataFrame.\n",
      "Try using .loc[row_indexer,col_indexer] = value instead\n",
      "\n",
      "See the caveats in the documentation: https://pandas.pydata.org/pandas-docs/stable/user_guide/indexing.html#returning-a-view-versus-a-copy\n",
      "  current_data['Date'] = current_data.index\n"
     ]
    },
    {
     "name": "stdout",
     "output_type": "stream",
     "text": [
      "shape of df4 is (482, 3541)\n",
      "Completed 17 out of 462 steps\n",
      "the main data is of shape (542, 2)\n",
      "shape of current_data2 is (542, 59)\n"
     ]
    },
    {
     "name": "stderr",
     "output_type": "stream",
     "text": [
      "C:\\Users\\abhij\\AppData\\Local\\Temp\\ipykernel_16868\\3215059801.py:16: SettingWithCopyWarning: \n",
      "A value is trying to be set on a copy of a slice from a DataFrame.\n",
      "Try using .loc[row_indexer,col_indexer] = value instead\n",
      "\n",
      "See the caveats in the documentation: https://pandas.pydata.org/pandas-docs/stable/user_guide/indexing.html#returning-a-view-versus-a-copy\n",
      "  current_data['Date'] = current_data.index\n"
     ]
    },
    {
     "name": "stdout",
     "output_type": "stream",
     "text": [
      "shape of df4 is (482, 3541)\n",
      "Completed 18 out of 462 steps\n",
      "the main data is of shape (542, 2)\n",
      "shape of current_data2 is (542, 59)\n"
     ]
    },
    {
     "name": "stderr",
     "output_type": "stream",
     "text": [
      "C:\\Users\\abhij\\AppData\\Local\\Temp\\ipykernel_16868\\3215059801.py:16: SettingWithCopyWarning: \n",
      "A value is trying to be set on a copy of a slice from a DataFrame.\n",
      "Try using .loc[row_indexer,col_indexer] = value instead\n",
      "\n",
      "See the caveats in the documentation: https://pandas.pydata.org/pandas-docs/stable/user_guide/indexing.html#returning-a-view-versus-a-copy\n",
      "  current_data['Date'] = current_data.index\n"
     ]
    },
    {
     "name": "stdout",
     "output_type": "stream",
     "text": [
      "shape of df4 is (482, 3541)\n",
      "Completed 19 out of 462 steps\n",
      "the main data is of shape (542, 2)\n",
      "shape of current_data2 is (542, 59)\n"
     ]
    },
    {
     "name": "stderr",
     "output_type": "stream",
     "text": [
      "C:\\Users\\abhij\\AppData\\Local\\Temp\\ipykernel_16868\\3215059801.py:16: SettingWithCopyWarning: \n",
      "A value is trying to be set on a copy of a slice from a DataFrame.\n",
      "Try using .loc[row_indexer,col_indexer] = value instead\n",
      "\n",
      "See the caveats in the documentation: https://pandas.pydata.org/pandas-docs/stable/user_guide/indexing.html#returning-a-view-versus-a-copy\n",
      "  current_data['Date'] = current_data.index\n"
     ]
    },
    {
     "name": "stdout",
     "output_type": "stream",
     "text": [
      "shape of df4 is (482, 3541)\n",
      "Completed 20 out of 462 steps\n",
      "the main data is of shape (542, 2)\n",
      "shape of current_data2 is (542, 59)\n"
     ]
    },
    {
     "name": "stderr",
     "output_type": "stream",
     "text": [
      "C:\\Users\\abhij\\AppData\\Local\\Temp\\ipykernel_16868\\3215059801.py:16: SettingWithCopyWarning: \n",
      "A value is trying to be set on a copy of a slice from a DataFrame.\n",
      "Try using .loc[row_indexer,col_indexer] = value instead\n",
      "\n",
      "See the caveats in the documentation: https://pandas.pydata.org/pandas-docs/stable/user_guide/indexing.html#returning-a-view-versus-a-copy\n",
      "  current_data['Date'] = current_data.index\n"
     ]
    },
    {
     "name": "stdout",
     "output_type": "stream",
     "text": [
      "shape of df4 is (482, 3541)\n",
      "Completed 21 out of 462 steps\n",
      "the main data is of shape (542, 2)\n",
      "shape of current_data2 is (542, 59)\n"
     ]
    },
    {
     "name": "stderr",
     "output_type": "stream",
     "text": [
      "C:\\Users\\abhij\\AppData\\Local\\Temp\\ipykernel_16868\\3215059801.py:16: SettingWithCopyWarning: \n",
      "A value is trying to be set on a copy of a slice from a DataFrame.\n",
      "Try using .loc[row_indexer,col_indexer] = value instead\n",
      "\n",
      "See the caveats in the documentation: https://pandas.pydata.org/pandas-docs/stable/user_guide/indexing.html#returning-a-view-versus-a-copy\n",
      "  current_data['Date'] = current_data.index\n"
     ]
    },
    {
     "name": "stdout",
     "output_type": "stream",
     "text": [
      "shape of df4 is (482, 3541)\n",
      "Completed 22 out of 462 steps\n",
      "the main data is of shape (542, 2)\n",
      "shape of current_data2 is (542, 59)\n"
     ]
    },
    {
     "name": "stderr",
     "output_type": "stream",
     "text": [
      "C:\\Users\\abhij\\AppData\\Local\\Temp\\ipykernel_16868\\3215059801.py:16: SettingWithCopyWarning: \n",
      "A value is trying to be set on a copy of a slice from a DataFrame.\n",
      "Try using .loc[row_indexer,col_indexer] = value instead\n",
      "\n",
      "See the caveats in the documentation: https://pandas.pydata.org/pandas-docs/stable/user_guide/indexing.html#returning-a-view-versus-a-copy\n",
      "  current_data['Date'] = current_data.index\n"
     ]
    },
    {
     "name": "stdout",
     "output_type": "stream",
     "text": [
      "shape of df4 is (482, 3541)\n",
      "Completed 23 out of 462 steps\n",
      "the main data is of shape (542, 2)\n",
      "shape of current_data2 is (542, 59)\n"
     ]
    },
    {
     "name": "stderr",
     "output_type": "stream",
     "text": [
      "C:\\Users\\abhij\\AppData\\Local\\Temp\\ipykernel_16868\\3215059801.py:16: SettingWithCopyWarning: \n",
      "A value is trying to be set on a copy of a slice from a DataFrame.\n",
      "Try using .loc[row_indexer,col_indexer] = value instead\n",
      "\n",
      "See the caveats in the documentation: https://pandas.pydata.org/pandas-docs/stable/user_guide/indexing.html#returning-a-view-versus-a-copy\n",
      "  current_data['Date'] = current_data.index\n"
     ]
    },
    {
     "name": "stdout",
     "output_type": "stream",
     "text": [
      "shape of df4 is (482, 3541)\n",
      "Completed 24 out of 462 steps\n",
      "the main data is of shape (542, 2)\n",
      "shape of current_data2 is (542, 59)\n"
     ]
    },
    {
     "name": "stderr",
     "output_type": "stream",
     "text": [
      "C:\\Users\\abhij\\AppData\\Local\\Temp\\ipykernel_16868\\3215059801.py:16: SettingWithCopyWarning: \n",
      "A value is trying to be set on a copy of a slice from a DataFrame.\n",
      "Try using .loc[row_indexer,col_indexer] = value instead\n",
      "\n",
      "See the caveats in the documentation: https://pandas.pydata.org/pandas-docs/stable/user_guide/indexing.html#returning-a-view-versus-a-copy\n",
      "  current_data['Date'] = current_data.index\n"
     ]
    },
    {
     "name": "stdout",
     "output_type": "stream",
     "text": [
      "shape of df4 is (482, 3541)\n",
      "Completed 25 out of 462 steps\n",
      "the main data is of shape (542, 2)\n",
      "shape of current_data2 is (542, 59)\n"
     ]
    },
    {
     "name": "stderr",
     "output_type": "stream",
     "text": [
      "C:\\Users\\abhij\\AppData\\Local\\Temp\\ipykernel_16868\\3215059801.py:16: SettingWithCopyWarning: \n",
      "A value is trying to be set on a copy of a slice from a DataFrame.\n",
      "Try using .loc[row_indexer,col_indexer] = value instead\n",
      "\n",
      "See the caveats in the documentation: https://pandas.pydata.org/pandas-docs/stable/user_guide/indexing.html#returning-a-view-versus-a-copy\n",
      "  current_data['Date'] = current_data.index\n"
     ]
    },
    {
     "name": "stdout",
     "output_type": "stream",
     "text": [
      "shape of df4 is (482, 3541)\n",
      "Completed 26 out of 462 steps\n",
      "the main data is of shape (542, 2)\n",
      "shape of current_data2 is (542, 59)\n"
     ]
    },
    {
     "name": "stderr",
     "output_type": "stream",
     "text": [
      "C:\\Users\\abhij\\AppData\\Local\\Temp\\ipykernel_16868\\3215059801.py:16: SettingWithCopyWarning: \n",
      "A value is trying to be set on a copy of a slice from a DataFrame.\n",
      "Try using .loc[row_indexer,col_indexer] = value instead\n",
      "\n",
      "See the caveats in the documentation: https://pandas.pydata.org/pandas-docs/stable/user_guide/indexing.html#returning-a-view-versus-a-copy\n",
      "  current_data['Date'] = current_data.index\n"
     ]
    },
    {
     "name": "stdout",
     "output_type": "stream",
     "text": [
      "shape of df4 is (482, 3541)\n",
      "Completed 27 out of 462 steps\n",
      "the main data is of shape (542, 2)\n",
      "shape of current_data2 is (542, 59)\n"
     ]
    },
    {
     "name": "stderr",
     "output_type": "stream",
     "text": [
      "C:\\Users\\abhij\\AppData\\Local\\Temp\\ipykernel_16868\\3215059801.py:16: SettingWithCopyWarning: \n",
      "A value is trying to be set on a copy of a slice from a DataFrame.\n",
      "Try using .loc[row_indexer,col_indexer] = value instead\n",
      "\n",
      "See the caveats in the documentation: https://pandas.pydata.org/pandas-docs/stable/user_guide/indexing.html#returning-a-view-versus-a-copy\n",
      "  current_data['Date'] = current_data.index\n"
     ]
    },
    {
     "name": "stdout",
     "output_type": "stream",
     "text": [
      "shape of df4 is (482, 3541)\n",
      "Completed 28 out of 462 steps\n",
      "the main data is of shape (542, 2)\n",
      "shape of current_data2 is (542, 59)\n"
     ]
    },
    {
     "name": "stderr",
     "output_type": "stream",
     "text": [
      "C:\\Users\\abhij\\AppData\\Local\\Temp\\ipykernel_16868\\3215059801.py:16: SettingWithCopyWarning: \n",
      "A value is trying to be set on a copy of a slice from a DataFrame.\n",
      "Try using .loc[row_indexer,col_indexer] = value instead\n",
      "\n",
      "See the caveats in the documentation: https://pandas.pydata.org/pandas-docs/stable/user_guide/indexing.html#returning-a-view-versus-a-copy\n",
      "  current_data['Date'] = current_data.index\n"
     ]
    },
    {
     "name": "stdout",
     "output_type": "stream",
     "text": [
      "shape of df4 is (482, 3541)\n",
      "Completed 29 out of 462 steps\n",
      "the main data is of shape (517, 2)\n",
      "shape of current_data2 is (517, 59)\n"
     ]
    },
    {
     "name": "stderr",
     "output_type": "stream",
     "text": [
      "C:\\Users\\abhij\\AppData\\Local\\Temp\\ipykernel_16868\\3215059801.py:16: SettingWithCopyWarning: \n",
      "A value is trying to be set on a copy of a slice from a DataFrame.\n",
      "Try using .loc[row_indexer,col_indexer] = value instead\n",
      "\n",
      "See the caveats in the documentation: https://pandas.pydata.org/pandas-docs/stable/user_guide/indexing.html#returning-a-view-versus-a-copy\n",
      "  current_data['Date'] = current_data.index\n"
     ]
    },
    {
     "name": "stdout",
     "output_type": "stream",
     "text": [
      "shape of df4 is (457, 3541)\n",
      "Completed 30 out of 462 steps\n",
      "the main data is of shape (542, 2)\n",
      "shape of current_data2 is (542, 59)\n"
     ]
    },
    {
     "name": "stderr",
     "output_type": "stream",
     "text": [
      "C:\\Users\\abhij\\AppData\\Local\\Temp\\ipykernel_16868\\3215059801.py:16: SettingWithCopyWarning: \n",
      "A value is trying to be set on a copy of a slice from a DataFrame.\n",
      "Try using .loc[row_indexer,col_indexer] = value instead\n",
      "\n",
      "See the caveats in the documentation: https://pandas.pydata.org/pandas-docs/stable/user_guide/indexing.html#returning-a-view-versus-a-copy\n",
      "  current_data['Date'] = current_data.index\n"
     ]
    },
    {
     "name": "stdout",
     "output_type": "stream",
     "text": [
      "shape of df4 is (482, 3541)\n",
      "Completed 31 out of 462 steps\n",
      "the main data is of shape (542, 2)\n",
      "shape of current_data2 is (542, 59)\n"
     ]
    },
    {
     "name": "stderr",
     "output_type": "stream",
     "text": [
      "C:\\Users\\abhij\\AppData\\Local\\Temp\\ipykernel_16868\\3215059801.py:16: SettingWithCopyWarning: \n",
      "A value is trying to be set on a copy of a slice from a DataFrame.\n",
      "Try using .loc[row_indexer,col_indexer] = value instead\n",
      "\n",
      "See the caveats in the documentation: https://pandas.pydata.org/pandas-docs/stable/user_guide/indexing.html#returning-a-view-versus-a-copy\n",
      "  current_data['Date'] = current_data.index\n"
     ]
    },
    {
     "name": "stdout",
     "output_type": "stream",
     "text": [
      "shape of df4 is (482, 3541)\n",
      "Completed 32 out of 462 steps\n",
      "the main data is of shape (542, 2)\n",
      "shape of current_data2 is (542, 59)\n"
     ]
    },
    {
     "name": "stderr",
     "output_type": "stream",
     "text": [
      "C:\\Users\\abhij\\AppData\\Local\\Temp\\ipykernel_16868\\3215059801.py:16: SettingWithCopyWarning: \n",
      "A value is trying to be set on a copy of a slice from a DataFrame.\n",
      "Try using .loc[row_indexer,col_indexer] = value instead\n",
      "\n",
      "See the caveats in the documentation: https://pandas.pydata.org/pandas-docs/stable/user_guide/indexing.html#returning-a-view-versus-a-copy\n",
      "  current_data['Date'] = current_data.index\n"
     ]
    },
    {
     "name": "stdout",
     "output_type": "stream",
     "text": [
      "shape of df4 is (482, 3541)\n",
      "Completed 33 out of 462 steps\n",
      "the main data is of shape (542, 2)\n",
      "shape of current_data2 is (542, 59)\n"
     ]
    },
    {
     "name": "stderr",
     "output_type": "stream",
     "text": [
      "C:\\Users\\abhij\\AppData\\Local\\Temp\\ipykernel_16868\\3215059801.py:16: SettingWithCopyWarning: \n",
      "A value is trying to be set on a copy of a slice from a DataFrame.\n",
      "Try using .loc[row_indexer,col_indexer] = value instead\n",
      "\n",
      "See the caveats in the documentation: https://pandas.pydata.org/pandas-docs/stable/user_guide/indexing.html#returning-a-view-versus-a-copy\n",
      "  current_data['Date'] = current_data.index\n"
     ]
    },
    {
     "name": "stdout",
     "output_type": "stream",
     "text": [
      "shape of df4 is (482, 3541)\n",
      "Completed 34 out of 462 steps\n",
      "the main data is of shape (542, 2)\n",
      "shape of current_data2 is (542, 59)\n"
     ]
    },
    {
     "name": "stderr",
     "output_type": "stream",
     "text": [
      "C:\\Users\\abhij\\AppData\\Local\\Temp\\ipykernel_16868\\3215059801.py:16: SettingWithCopyWarning: \n",
      "A value is trying to be set on a copy of a slice from a DataFrame.\n",
      "Try using .loc[row_indexer,col_indexer] = value instead\n",
      "\n",
      "See the caveats in the documentation: https://pandas.pydata.org/pandas-docs/stable/user_guide/indexing.html#returning-a-view-versus-a-copy\n",
      "  current_data['Date'] = current_data.index\n"
     ]
    },
    {
     "name": "stdout",
     "output_type": "stream",
     "text": [
      "shape of df4 is (482, 3541)\n",
      "Completed 35 out of 462 steps\n",
      "the main data is of shape (542, 2)\n",
      "shape of current_data2 is (542, 59)\n"
     ]
    },
    {
     "name": "stderr",
     "output_type": "stream",
     "text": [
      "C:\\Users\\abhij\\AppData\\Local\\Temp\\ipykernel_16868\\3215059801.py:16: SettingWithCopyWarning: \n",
      "A value is trying to be set on a copy of a slice from a DataFrame.\n",
      "Try using .loc[row_indexer,col_indexer] = value instead\n",
      "\n",
      "See the caveats in the documentation: https://pandas.pydata.org/pandas-docs/stable/user_guide/indexing.html#returning-a-view-versus-a-copy\n",
      "  current_data['Date'] = current_data.index\n"
     ]
    },
    {
     "name": "stdout",
     "output_type": "stream",
     "text": [
      "shape of df4 is (482, 3541)\n",
      "Completed 36 out of 462 steps\n",
      "the main data is of shape (542, 2)\n",
      "shape of current_data2 is (542, 59)\n"
     ]
    },
    {
     "name": "stderr",
     "output_type": "stream",
     "text": [
      "C:\\Users\\abhij\\AppData\\Local\\Temp\\ipykernel_16868\\3215059801.py:16: SettingWithCopyWarning: \n",
      "A value is trying to be set on a copy of a slice from a DataFrame.\n",
      "Try using .loc[row_indexer,col_indexer] = value instead\n",
      "\n",
      "See the caveats in the documentation: https://pandas.pydata.org/pandas-docs/stable/user_guide/indexing.html#returning-a-view-versus-a-copy\n",
      "  current_data['Date'] = current_data.index\n"
     ]
    },
    {
     "name": "stdout",
     "output_type": "stream",
     "text": [
      "shape of df4 is (482, 3541)\n",
      "Completed 37 out of 462 steps\n",
      "the main data is of shape (542, 2)\n",
      "shape of current_data2 is (542, 59)\n"
     ]
    },
    {
     "name": "stderr",
     "output_type": "stream",
     "text": [
      "C:\\Users\\abhij\\AppData\\Local\\Temp\\ipykernel_16868\\3215059801.py:16: SettingWithCopyWarning: \n",
      "A value is trying to be set on a copy of a slice from a DataFrame.\n",
      "Try using .loc[row_indexer,col_indexer] = value instead\n",
      "\n",
      "See the caveats in the documentation: https://pandas.pydata.org/pandas-docs/stable/user_guide/indexing.html#returning-a-view-versus-a-copy\n",
      "  current_data['Date'] = current_data.index\n"
     ]
    },
    {
     "name": "stdout",
     "output_type": "stream",
     "text": [
      "shape of df4 is (482, 3541)\n",
      "Completed 38 out of 462 steps\n",
      "the main data is of shape (542, 2)\n",
      "shape of current_data2 is (542, 59)\n"
     ]
    },
    {
     "name": "stderr",
     "output_type": "stream",
     "text": [
      "C:\\Users\\abhij\\AppData\\Local\\Temp\\ipykernel_16868\\3215059801.py:16: SettingWithCopyWarning: \n",
      "A value is trying to be set on a copy of a slice from a DataFrame.\n",
      "Try using .loc[row_indexer,col_indexer] = value instead\n",
      "\n",
      "See the caveats in the documentation: https://pandas.pydata.org/pandas-docs/stable/user_guide/indexing.html#returning-a-view-versus-a-copy\n",
      "  current_data['Date'] = current_data.index\n"
     ]
    },
    {
     "name": "stdout",
     "output_type": "stream",
     "text": [
      "shape of df4 is (482, 3541)\n",
      "Completed 39 out of 462 steps\n",
      "the main data is of shape (542, 2)\n",
      "shape of current_data2 is (542, 59)\n"
     ]
    },
    {
     "name": "stderr",
     "output_type": "stream",
     "text": [
      "C:\\Users\\abhij\\AppData\\Local\\Temp\\ipykernel_16868\\3215059801.py:16: SettingWithCopyWarning: \n",
      "A value is trying to be set on a copy of a slice from a DataFrame.\n",
      "Try using .loc[row_indexer,col_indexer] = value instead\n",
      "\n",
      "See the caveats in the documentation: https://pandas.pydata.org/pandas-docs/stable/user_guide/indexing.html#returning-a-view-versus-a-copy\n",
      "  current_data['Date'] = current_data.index\n"
     ]
    },
    {
     "name": "stdout",
     "output_type": "stream",
     "text": [
      "shape of df4 is (482, 3541)\n",
      "Completed 40 out of 462 steps\n",
      "the main data is of shape (542, 2)\n",
      "shape of current_data2 is (542, 59)\n"
     ]
    },
    {
     "name": "stderr",
     "output_type": "stream",
     "text": [
      "C:\\Users\\abhij\\AppData\\Local\\Temp\\ipykernel_16868\\3215059801.py:16: SettingWithCopyWarning: \n",
      "A value is trying to be set on a copy of a slice from a DataFrame.\n",
      "Try using .loc[row_indexer,col_indexer] = value instead\n",
      "\n",
      "See the caveats in the documentation: https://pandas.pydata.org/pandas-docs/stable/user_guide/indexing.html#returning-a-view-versus-a-copy\n",
      "  current_data['Date'] = current_data.index\n"
     ]
    },
    {
     "name": "stdout",
     "output_type": "stream",
     "text": [
      "shape of df4 is (482, 3541)\n",
      "Completed 41 out of 462 steps\n",
      "the main data is of shape (542, 2)\n",
      "shape of current_data2 is (542, 59)\n"
     ]
    },
    {
     "name": "stderr",
     "output_type": "stream",
     "text": [
      "C:\\Users\\abhij\\AppData\\Local\\Temp\\ipykernel_16868\\3215059801.py:16: SettingWithCopyWarning: \n",
      "A value is trying to be set on a copy of a slice from a DataFrame.\n",
      "Try using .loc[row_indexer,col_indexer] = value instead\n",
      "\n",
      "See the caveats in the documentation: https://pandas.pydata.org/pandas-docs/stable/user_guide/indexing.html#returning-a-view-versus-a-copy\n",
      "  current_data['Date'] = current_data.index\n"
     ]
    },
    {
     "name": "stdout",
     "output_type": "stream",
     "text": [
      "shape of df4 is (482, 3541)\n",
      "Completed 42 out of 462 steps\n",
      "the main data is of shape (542, 2)\n",
      "shape of current_data2 is (542, 59)\n"
     ]
    },
    {
     "name": "stderr",
     "output_type": "stream",
     "text": [
      "C:\\Users\\abhij\\AppData\\Local\\Temp\\ipykernel_16868\\3215059801.py:16: SettingWithCopyWarning: \n",
      "A value is trying to be set on a copy of a slice from a DataFrame.\n",
      "Try using .loc[row_indexer,col_indexer] = value instead\n",
      "\n",
      "See the caveats in the documentation: https://pandas.pydata.org/pandas-docs/stable/user_guide/indexing.html#returning-a-view-versus-a-copy\n",
      "  current_data['Date'] = current_data.index\n"
     ]
    },
    {
     "name": "stdout",
     "output_type": "stream",
     "text": [
      "shape of df4 is (482, 3541)\n",
      "Completed 43 out of 462 steps\n",
      "the main data is of shape (542, 2)\n",
      "shape of current_data2 is (542, 59)\n"
     ]
    },
    {
     "name": "stderr",
     "output_type": "stream",
     "text": [
      "C:\\Users\\abhij\\AppData\\Local\\Temp\\ipykernel_16868\\3215059801.py:16: SettingWithCopyWarning: \n",
      "A value is trying to be set on a copy of a slice from a DataFrame.\n",
      "Try using .loc[row_indexer,col_indexer] = value instead\n",
      "\n",
      "See the caveats in the documentation: https://pandas.pydata.org/pandas-docs/stable/user_guide/indexing.html#returning-a-view-versus-a-copy\n",
      "  current_data['Date'] = current_data.index\n"
     ]
    },
    {
     "name": "stdout",
     "output_type": "stream",
     "text": [
      "shape of df4 is (482, 3541)\n",
      "Completed 44 out of 462 steps\n",
      "the main data is of shape (542, 2)\n",
      "shape of current_data2 is (542, 59)\n"
     ]
    },
    {
     "name": "stderr",
     "output_type": "stream",
     "text": [
      "C:\\Users\\abhij\\AppData\\Local\\Temp\\ipykernel_16868\\3215059801.py:16: SettingWithCopyWarning: \n",
      "A value is trying to be set on a copy of a slice from a DataFrame.\n",
      "Try using .loc[row_indexer,col_indexer] = value instead\n",
      "\n",
      "See the caveats in the documentation: https://pandas.pydata.org/pandas-docs/stable/user_guide/indexing.html#returning-a-view-versus-a-copy\n",
      "  current_data['Date'] = current_data.index\n"
     ]
    },
    {
     "name": "stdout",
     "output_type": "stream",
     "text": [
      "shape of df4 is (482, 3541)\n",
      "Completed 45 out of 462 steps\n",
      "the main data is of shape (542, 2)\n",
      "shape of current_data2 is (542, 59)\n"
     ]
    },
    {
     "name": "stderr",
     "output_type": "stream",
     "text": [
      "C:\\Users\\abhij\\AppData\\Local\\Temp\\ipykernel_16868\\3215059801.py:16: SettingWithCopyWarning: \n",
      "A value is trying to be set on a copy of a slice from a DataFrame.\n",
      "Try using .loc[row_indexer,col_indexer] = value instead\n",
      "\n",
      "See the caveats in the documentation: https://pandas.pydata.org/pandas-docs/stable/user_guide/indexing.html#returning-a-view-versus-a-copy\n",
      "  current_data['Date'] = current_data.index\n"
     ]
    },
    {
     "name": "stdout",
     "output_type": "stream",
     "text": [
      "shape of df4 is (482, 3541)\n",
      "Completed 46 out of 462 steps\n",
      "the main data is of shape (542, 2)\n",
      "shape of current_data2 is (542, 59)\n"
     ]
    },
    {
     "name": "stderr",
     "output_type": "stream",
     "text": [
      "C:\\Users\\abhij\\AppData\\Local\\Temp\\ipykernel_16868\\3215059801.py:16: SettingWithCopyWarning: \n",
      "A value is trying to be set on a copy of a slice from a DataFrame.\n",
      "Try using .loc[row_indexer,col_indexer] = value instead\n",
      "\n",
      "See the caveats in the documentation: https://pandas.pydata.org/pandas-docs/stable/user_guide/indexing.html#returning-a-view-versus-a-copy\n",
      "  current_data['Date'] = current_data.index\n"
     ]
    },
    {
     "name": "stdout",
     "output_type": "stream",
     "text": [
      "shape of df4 is (482, 3541)\n",
      "Completed 47 out of 462 steps\n",
      "the main data is of shape (542, 2)\n",
      "shape of current_data2 is (542, 59)\n"
     ]
    },
    {
     "name": "stderr",
     "output_type": "stream",
     "text": [
      "C:\\Users\\abhij\\AppData\\Local\\Temp\\ipykernel_16868\\3215059801.py:16: SettingWithCopyWarning: \n",
      "A value is trying to be set on a copy of a slice from a DataFrame.\n",
      "Try using .loc[row_indexer,col_indexer] = value instead\n",
      "\n",
      "See the caveats in the documentation: https://pandas.pydata.org/pandas-docs/stable/user_guide/indexing.html#returning-a-view-versus-a-copy\n",
      "  current_data['Date'] = current_data.index\n"
     ]
    },
    {
     "name": "stdout",
     "output_type": "stream",
     "text": [
      "shape of df4 is (482, 3541)\n",
      "Completed 48 out of 462 steps\n",
      "the main data is of shape (542, 2)\n",
      "shape of current_data2 is (542, 59)\n"
     ]
    },
    {
     "name": "stderr",
     "output_type": "stream",
     "text": [
      "C:\\Users\\abhij\\AppData\\Local\\Temp\\ipykernel_16868\\3215059801.py:16: SettingWithCopyWarning: \n",
      "A value is trying to be set on a copy of a slice from a DataFrame.\n",
      "Try using .loc[row_indexer,col_indexer] = value instead\n",
      "\n",
      "See the caveats in the documentation: https://pandas.pydata.org/pandas-docs/stable/user_guide/indexing.html#returning-a-view-versus-a-copy\n",
      "  current_data['Date'] = current_data.index\n"
     ]
    },
    {
     "name": "stdout",
     "output_type": "stream",
     "text": [
      "shape of df4 is (482, 3541)\n",
      "Completed 49 out of 462 steps\n",
      "the main data is of shape (542, 2)\n",
      "shape of current_data2 is (542, 59)\n"
     ]
    },
    {
     "name": "stderr",
     "output_type": "stream",
     "text": [
      "C:\\Users\\abhij\\AppData\\Local\\Temp\\ipykernel_16868\\3215059801.py:16: SettingWithCopyWarning: \n",
      "A value is trying to be set on a copy of a slice from a DataFrame.\n",
      "Try using .loc[row_indexer,col_indexer] = value instead\n",
      "\n",
      "See the caveats in the documentation: https://pandas.pydata.org/pandas-docs/stable/user_guide/indexing.html#returning-a-view-versus-a-copy\n",
      "  current_data['Date'] = current_data.index\n"
     ]
    },
    {
     "name": "stdout",
     "output_type": "stream",
     "text": [
      "shape of df4 is (482, 3541)\n",
      "Completed 50 out of 462 steps\n",
      "the main data is of shape (542, 2)\n",
      "shape of current_data2 is (542, 59)\n"
     ]
    },
    {
     "name": "stderr",
     "output_type": "stream",
     "text": [
      "C:\\Users\\abhij\\AppData\\Local\\Temp\\ipykernel_16868\\3215059801.py:16: SettingWithCopyWarning: \n",
      "A value is trying to be set on a copy of a slice from a DataFrame.\n",
      "Try using .loc[row_indexer,col_indexer] = value instead\n",
      "\n",
      "See the caveats in the documentation: https://pandas.pydata.org/pandas-docs/stable/user_guide/indexing.html#returning-a-view-versus-a-copy\n",
      "  current_data['Date'] = current_data.index\n"
     ]
    },
    {
     "name": "stdout",
     "output_type": "stream",
     "text": [
      "shape of df4 is (482, 3541)\n",
      "Completed 51 out of 462 steps\n",
      "the main data is of shape (542, 2)\n",
      "shape of current_data2 is (542, 59)\n"
     ]
    },
    {
     "name": "stderr",
     "output_type": "stream",
     "text": [
      "C:\\Users\\abhij\\AppData\\Local\\Temp\\ipykernel_16868\\3215059801.py:16: SettingWithCopyWarning: \n",
      "A value is trying to be set on a copy of a slice from a DataFrame.\n",
      "Try using .loc[row_indexer,col_indexer] = value instead\n",
      "\n",
      "See the caveats in the documentation: https://pandas.pydata.org/pandas-docs/stable/user_guide/indexing.html#returning-a-view-versus-a-copy\n",
      "  current_data['Date'] = current_data.index\n"
     ]
    },
    {
     "name": "stdout",
     "output_type": "stream",
     "text": [
      "shape of df4 is (482, 3541)\n",
      "Completed 52 out of 462 steps\n",
      "the main data is of shape (542, 2)\n",
      "shape of current_data2 is (542, 59)\n"
     ]
    },
    {
     "name": "stderr",
     "output_type": "stream",
     "text": [
      "C:\\Users\\abhij\\AppData\\Local\\Temp\\ipykernel_16868\\3215059801.py:16: SettingWithCopyWarning: \n",
      "A value is trying to be set on a copy of a slice from a DataFrame.\n",
      "Try using .loc[row_indexer,col_indexer] = value instead\n",
      "\n",
      "See the caveats in the documentation: https://pandas.pydata.org/pandas-docs/stable/user_guide/indexing.html#returning-a-view-versus-a-copy\n",
      "  current_data['Date'] = current_data.index\n"
     ]
    },
    {
     "name": "stdout",
     "output_type": "stream",
     "text": [
      "shape of df4 is (482, 3541)\n",
      "Completed 53 out of 462 steps\n",
      "the main data is of shape (542, 2)\n",
      "shape of current_data2 is (542, 59)\n"
     ]
    },
    {
     "name": "stderr",
     "output_type": "stream",
     "text": [
      "C:\\Users\\abhij\\AppData\\Local\\Temp\\ipykernel_16868\\3215059801.py:16: SettingWithCopyWarning: \n",
      "A value is trying to be set on a copy of a slice from a DataFrame.\n",
      "Try using .loc[row_indexer,col_indexer] = value instead\n",
      "\n",
      "See the caveats in the documentation: https://pandas.pydata.org/pandas-docs/stable/user_guide/indexing.html#returning-a-view-versus-a-copy\n",
      "  current_data['Date'] = current_data.index\n"
     ]
    },
    {
     "name": "stdout",
     "output_type": "stream",
     "text": [
      "shape of df4 is (482, 3541)\n",
      "Completed 54 out of 462 steps\n",
      "the main data is of shape (542, 2)\n",
      "shape of current_data2 is (542, 59)\n"
     ]
    },
    {
     "name": "stderr",
     "output_type": "stream",
     "text": [
      "C:\\Users\\abhij\\AppData\\Local\\Temp\\ipykernel_16868\\3215059801.py:16: SettingWithCopyWarning: \n",
      "A value is trying to be set on a copy of a slice from a DataFrame.\n",
      "Try using .loc[row_indexer,col_indexer] = value instead\n",
      "\n",
      "See the caveats in the documentation: https://pandas.pydata.org/pandas-docs/stable/user_guide/indexing.html#returning-a-view-versus-a-copy\n",
      "  current_data['Date'] = current_data.index\n"
     ]
    },
    {
     "name": "stdout",
     "output_type": "stream",
     "text": [
      "shape of df4 is (482, 3541)\n",
      "Completed 55 out of 462 steps\n",
      "the main data is of shape (542, 2)\n",
      "shape of current_data2 is (542, 59)\n"
     ]
    },
    {
     "name": "stderr",
     "output_type": "stream",
     "text": [
      "C:\\Users\\abhij\\AppData\\Local\\Temp\\ipykernel_16868\\3215059801.py:16: SettingWithCopyWarning: \n",
      "A value is trying to be set on a copy of a slice from a DataFrame.\n",
      "Try using .loc[row_indexer,col_indexer] = value instead\n",
      "\n",
      "See the caveats in the documentation: https://pandas.pydata.org/pandas-docs/stable/user_guide/indexing.html#returning-a-view-versus-a-copy\n",
      "  current_data['Date'] = current_data.index\n"
     ]
    },
    {
     "name": "stdout",
     "output_type": "stream",
     "text": [
      "shape of df4 is (482, 3541)\n",
      "Completed 56 out of 462 steps\n",
      "the main data is of shape (542, 2)\n",
      "shape of current_data2 is (542, 59)\n"
     ]
    },
    {
     "name": "stderr",
     "output_type": "stream",
     "text": [
      "C:\\Users\\abhij\\AppData\\Local\\Temp\\ipykernel_16868\\3215059801.py:16: SettingWithCopyWarning: \n",
      "A value is trying to be set on a copy of a slice from a DataFrame.\n",
      "Try using .loc[row_indexer,col_indexer] = value instead\n",
      "\n",
      "See the caveats in the documentation: https://pandas.pydata.org/pandas-docs/stable/user_guide/indexing.html#returning-a-view-versus-a-copy\n",
      "  current_data['Date'] = current_data.index\n"
     ]
    },
    {
     "name": "stdout",
     "output_type": "stream",
     "text": [
      "shape of df4 is (482, 3541)\n",
      "Completed 57 out of 462 steps\n",
      "the main data is of shape (542, 2)\n",
      "shape of current_data2 is (542, 59)\n"
     ]
    },
    {
     "name": "stderr",
     "output_type": "stream",
     "text": [
      "C:\\Users\\abhij\\AppData\\Local\\Temp\\ipykernel_16868\\3215059801.py:16: SettingWithCopyWarning: \n",
      "A value is trying to be set on a copy of a slice from a DataFrame.\n",
      "Try using .loc[row_indexer,col_indexer] = value instead\n",
      "\n",
      "See the caveats in the documentation: https://pandas.pydata.org/pandas-docs/stable/user_guide/indexing.html#returning-a-view-versus-a-copy\n",
      "  current_data['Date'] = current_data.index\n"
     ]
    },
    {
     "name": "stdout",
     "output_type": "stream",
     "text": [
      "shape of df4 is (482, 3541)\n",
      "Completed 58 out of 462 steps\n",
      "the main data is of shape (542, 2)\n",
      "shape of current_data2 is (542, 59)\n"
     ]
    },
    {
     "name": "stderr",
     "output_type": "stream",
     "text": [
      "C:\\Users\\abhij\\AppData\\Local\\Temp\\ipykernel_16868\\3215059801.py:16: SettingWithCopyWarning: \n",
      "A value is trying to be set on a copy of a slice from a DataFrame.\n",
      "Try using .loc[row_indexer,col_indexer] = value instead\n",
      "\n",
      "See the caveats in the documentation: https://pandas.pydata.org/pandas-docs/stable/user_guide/indexing.html#returning-a-view-versus-a-copy\n",
      "  current_data['Date'] = current_data.index\n"
     ]
    },
    {
     "name": "stdout",
     "output_type": "stream",
     "text": [
      "shape of df4 is (482, 3541)\n",
      "Completed 59 out of 462 steps\n",
      "the main data is of shape (542, 2)\n",
      "shape of current_data2 is (542, 59)\n"
     ]
    },
    {
     "name": "stderr",
     "output_type": "stream",
     "text": [
      "C:\\Users\\abhij\\AppData\\Local\\Temp\\ipykernel_16868\\3215059801.py:16: SettingWithCopyWarning: \n",
      "A value is trying to be set on a copy of a slice from a DataFrame.\n",
      "Try using .loc[row_indexer,col_indexer] = value instead\n",
      "\n",
      "See the caveats in the documentation: https://pandas.pydata.org/pandas-docs/stable/user_guide/indexing.html#returning-a-view-versus-a-copy\n",
      "  current_data['Date'] = current_data.index\n"
     ]
    },
    {
     "name": "stdout",
     "output_type": "stream",
     "text": [
      "shape of df4 is (482, 3541)\n",
      "Completed 60 out of 462 steps\n",
      "the main data is of shape (542, 2)\n",
      "shape of current_data2 is (542, 59)\n"
     ]
    },
    {
     "name": "stderr",
     "output_type": "stream",
     "text": [
      "C:\\Users\\abhij\\AppData\\Local\\Temp\\ipykernel_16868\\3215059801.py:16: SettingWithCopyWarning: \n",
      "A value is trying to be set on a copy of a slice from a DataFrame.\n",
      "Try using .loc[row_indexer,col_indexer] = value instead\n",
      "\n",
      "See the caveats in the documentation: https://pandas.pydata.org/pandas-docs/stable/user_guide/indexing.html#returning-a-view-versus-a-copy\n",
      "  current_data['Date'] = current_data.index\n"
     ]
    },
    {
     "name": "stdout",
     "output_type": "stream",
     "text": [
      "shape of df4 is (482, 3541)\n",
      "Completed 61 out of 462 steps\n",
      "the main data is of shape (542, 2)\n",
      "shape of current_data2 is (542, 59)\n"
     ]
    },
    {
     "name": "stderr",
     "output_type": "stream",
     "text": [
      "C:\\Users\\abhij\\AppData\\Local\\Temp\\ipykernel_16868\\3215059801.py:16: SettingWithCopyWarning: \n",
      "A value is trying to be set on a copy of a slice from a DataFrame.\n",
      "Try using .loc[row_indexer,col_indexer] = value instead\n",
      "\n",
      "See the caveats in the documentation: https://pandas.pydata.org/pandas-docs/stable/user_guide/indexing.html#returning-a-view-versus-a-copy\n",
      "  current_data['Date'] = current_data.index\n"
     ]
    },
    {
     "name": "stdout",
     "output_type": "stream",
     "text": [
      "shape of df4 is (482, 3541)\n",
      "Completed 62 out of 462 steps\n",
      "the main data is of shape (542, 2)\n",
      "shape of current_data2 is (542, 59)\n"
     ]
    },
    {
     "name": "stderr",
     "output_type": "stream",
     "text": [
      "C:\\Users\\abhij\\AppData\\Local\\Temp\\ipykernel_16868\\3215059801.py:16: SettingWithCopyWarning: \n",
      "A value is trying to be set on a copy of a slice from a DataFrame.\n",
      "Try using .loc[row_indexer,col_indexer] = value instead\n",
      "\n",
      "See the caveats in the documentation: https://pandas.pydata.org/pandas-docs/stable/user_guide/indexing.html#returning-a-view-versus-a-copy\n",
      "  current_data['Date'] = current_data.index\n"
     ]
    },
    {
     "name": "stdout",
     "output_type": "stream",
     "text": [
      "shape of df4 is (482, 3541)\n",
      "Completed 63 out of 462 steps\n",
      "the main data is of shape (542, 2)\n",
      "shape of current_data2 is (542, 59)\n"
     ]
    },
    {
     "name": "stderr",
     "output_type": "stream",
     "text": [
      "C:\\Users\\abhij\\AppData\\Local\\Temp\\ipykernel_16868\\3215059801.py:16: SettingWithCopyWarning: \n",
      "A value is trying to be set on a copy of a slice from a DataFrame.\n",
      "Try using .loc[row_indexer,col_indexer] = value instead\n",
      "\n",
      "See the caveats in the documentation: https://pandas.pydata.org/pandas-docs/stable/user_guide/indexing.html#returning-a-view-versus-a-copy\n",
      "  current_data['Date'] = current_data.index\n"
     ]
    },
    {
     "name": "stdout",
     "output_type": "stream",
     "text": [
      "shape of df4 is (482, 3541)\n",
      "Completed 64 out of 462 steps\n",
      "the main data is of shape (542, 2)\n",
      "shape of current_data2 is (542, 59)\n"
     ]
    },
    {
     "name": "stderr",
     "output_type": "stream",
     "text": [
      "C:\\Users\\abhij\\AppData\\Local\\Temp\\ipykernel_16868\\3215059801.py:16: SettingWithCopyWarning: \n",
      "A value is trying to be set on a copy of a slice from a DataFrame.\n",
      "Try using .loc[row_indexer,col_indexer] = value instead\n",
      "\n",
      "See the caveats in the documentation: https://pandas.pydata.org/pandas-docs/stable/user_guide/indexing.html#returning-a-view-versus-a-copy\n",
      "  current_data['Date'] = current_data.index\n"
     ]
    },
    {
     "name": "stdout",
     "output_type": "stream",
     "text": [
      "shape of df4 is (482, 3541)\n",
      "Completed 65 out of 462 steps\n",
      "the main data is of shape (542, 2)\n",
      "shape of current_data2 is (542, 59)\n"
     ]
    },
    {
     "name": "stderr",
     "output_type": "stream",
     "text": [
      "C:\\Users\\abhij\\AppData\\Local\\Temp\\ipykernel_16868\\3215059801.py:16: SettingWithCopyWarning: \n",
      "A value is trying to be set on a copy of a slice from a DataFrame.\n",
      "Try using .loc[row_indexer,col_indexer] = value instead\n",
      "\n",
      "See the caveats in the documentation: https://pandas.pydata.org/pandas-docs/stable/user_guide/indexing.html#returning-a-view-versus-a-copy\n",
      "  current_data['Date'] = current_data.index\n"
     ]
    },
    {
     "name": "stdout",
     "output_type": "stream",
     "text": [
      "shape of df4 is (482, 3541)\n",
      "Completed 66 out of 462 steps\n",
      "the main data is of shape (542, 2)\n",
      "shape of current_data2 is (542, 59)\n"
     ]
    },
    {
     "name": "stderr",
     "output_type": "stream",
     "text": [
      "C:\\Users\\abhij\\AppData\\Local\\Temp\\ipykernel_16868\\3215059801.py:16: SettingWithCopyWarning: \n",
      "A value is trying to be set on a copy of a slice from a DataFrame.\n",
      "Try using .loc[row_indexer,col_indexer] = value instead\n",
      "\n",
      "See the caveats in the documentation: https://pandas.pydata.org/pandas-docs/stable/user_guide/indexing.html#returning-a-view-versus-a-copy\n",
      "  current_data['Date'] = current_data.index\n"
     ]
    },
    {
     "name": "stdout",
     "output_type": "stream",
     "text": [
      "shape of df4 is (482, 3541)\n",
      "Completed 67 out of 462 steps\n",
      "the main data is of shape (542, 2)\n",
      "shape of current_data2 is (542, 59)\n"
     ]
    },
    {
     "name": "stderr",
     "output_type": "stream",
     "text": [
      "C:\\Users\\abhij\\AppData\\Local\\Temp\\ipykernel_16868\\3215059801.py:16: SettingWithCopyWarning: \n",
      "A value is trying to be set on a copy of a slice from a DataFrame.\n",
      "Try using .loc[row_indexer,col_indexer] = value instead\n",
      "\n",
      "See the caveats in the documentation: https://pandas.pydata.org/pandas-docs/stable/user_guide/indexing.html#returning-a-view-versus-a-copy\n",
      "  current_data['Date'] = current_data.index\n"
     ]
    },
    {
     "name": "stdout",
     "output_type": "stream",
     "text": [
      "shape of df4 is (482, 3541)\n",
      "Completed 68 out of 462 steps\n",
      "the main data is of shape (542, 2)\n",
      "shape of current_data2 is (542, 59)\n"
     ]
    },
    {
     "name": "stderr",
     "output_type": "stream",
     "text": [
      "C:\\Users\\abhij\\AppData\\Local\\Temp\\ipykernel_16868\\3215059801.py:16: SettingWithCopyWarning: \n",
      "A value is trying to be set on a copy of a slice from a DataFrame.\n",
      "Try using .loc[row_indexer,col_indexer] = value instead\n",
      "\n",
      "See the caveats in the documentation: https://pandas.pydata.org/pandas-docs/stable/user_guide/indexing.html#returning-a-view-versus-a-copy\n",
      "  current_data['Date'] = current_data.index\n"
     ]
    },
    {
     "name": "stdout",
     "output_type": "stream",
     "text": [
      "shape of df4 is (482, 3541)\n",
      "Completed 69 out of 462 steps\n",
      "the main data is of shape (542, 2)\n",
      "shape of current_data2 is (542, 59)\n"
     ]
    },
    {
     "name": "stderr",
     "output_type": "stream",
     "text": [
      "C:\\Users\\abhij\\AppData\\Local\\Temp\\ipykernel_16868\\3215059801.py:16: SettingWithCopyWarning: \n",
      "A value is trying to be set on a copy of a slice from a DataFrame.\n",
      "Try using .loc[row_indexer,col_indexer] = value instead\n",
      "\n",
      "See the caveats in the documentation: https://pandas.pydata.org/pandas-docs/stable/user_guide/indexing.html#returning-a-view-versus-a-copy\n",
      "  current_data['Date'] = current_data.index\n"
     ]
    },
    {
     "name": "stdout",
     "output_type": "stream",
     "text": [
      "shape of df4 is (482, 3541)\n",
      "Completed 70 out of 462 steps\n",
      "the main data is of shape (542, 2)\n",
      "shape of current_data2 is (542, 59)\n"
     ]
    },
    {
     "name": "stderr",
     "output_type": "stream",
     "text": [
      "C:\\Users\\abhij\\AppData\\Local\\Temp\\ipykernel_16868\\3215059801.py:16: SettingWithCopyWarning: \n",
      "A value is trying to be set on a copy of a slice from a DataFrame.\n",
      "Try using .loc[row_indexer,col_indexer] = value instead\n",
      "\n",
      "See the caveats in the documentation: https://pandas.pydata.org/pandas-docs/stable/user_guide/indexing.html#returning-a-view-versus-a-copy\n",
      "  current_data['Date'] = current_data.index\n"
     ]
    },
    {
     "name": "stdout",
     "output_type": "stream",
     "text": [
      "shape of df4 is (482, 3541)\n",
      "Completed 71 out of 462 steps\n",
      "the main data is of shape (542, 2)\n",
      "shape of current_data2 is (542, 59)\n"
     ]
    },
    {
     "name": "stderr",
     "output_type": "stream",
     "text": [
      "C:\\Users\\abhij\\AppData\\Local\\Temp\\ipykernel_16868\\3215059801.py:16: SettingWithCopyWarning: \n",
      "A value is trying to be set on a copy of a slice from a DataFrame.\n",
      "Try using .loc[row_indexer,col_indexer] = value instead\n",
      "\n",
      "See the caveats in the documentation: https://pandas.pydata.org/pandas-docs/stable/user_guide/indexing.html#returning-a-view-versus-a-copy\n",
      "  current_data['Date'] = current_data.index\n"
     ]
    },
    {
     "name": "stdout",
     "output_type": "stream",
     "text": [
      "shape of df4 is (482, 3541)\n",
      "Completed 72 out of 462 steps\n",
      "the main data is of shape (542, 2)\n",
      "shape of current_data2 is (542, 59)\n"
     ]
    },
    {
     "name": "stderr",
     "output_type": "stream",
     "text": [
      "C:\\Users\\abhij\\AppData\\Local\\Temp\\ipykernel_16868\\3215059801.py:16: SettingWithCopyWarning: \n",
      "A value is trying to be set on a copy of a slice from a DataFrame.\n",
      "Try using .loc[row_indexer,col_indexer] = value instead\n",
      "\n",
      "See the caveats in the documentation: https://pandas.pydata.org/pandas-docs/stable/user_guide/indexing.html#returning-a-view-versus-a-copy\n",
      "  current_data['Date'] = current_data.index\n"
     ]
    },
    {
     "name": "stdout",
     "output_type": "stream",
     "text": [
      "shape of df4 is (482, 3541)\n",
      "Completed 73 out of 462 steps\n",
      "the main data is of shape (542, 2)\n",
      "shape of current_data2 is (542, 59)\n"
     ]
    },
    {
     "name": "stderr",
     "output_type": "stream",
     "text": [
      "C:\\Users\\abhij\\AppData\\Local\\Temp\\ipykernel_16868\\3215059801.py:16: SettingWithCopyWarning: \n",
      "A value is trying to be set on a copy of a slice from a DataFrame.\n",
      "Try using .loc[row_indexer,col_indexer] = value instead\n",
      "\n",
      "See the caveats in the documentation: https://pandas.pydata.org/pandas-docs/stable/user_guide/indexing.html#returning-a-view-versus-a-copy\n",
      "  current_data['Date'] = current_data.index\n"
     ]
    },
    {
     "name": "stdout",
     "output_type": "stream",
     "text": [
      "shape of df4 is (482, 3541)\n",
      "Completed 74 out of 462 steps\n",
      "the main data is of shape (542, 2)\n",
      "shape of current_data2 is (542, 59)\n"
     ]
    },
    {
     "name": "stderr",
     "output_type": "stream",
     "text": [
      "C:\\Users\\abhij\\AppData\\Local\\Temp\\ipykernel_16868\\3215059801.py:16: SettingWithCopyWarning: \n",
      "A value is trying to be set on a copy of a slice from a DataFrame.\n",
      "Try using .loc[row_indexer,col_indexer] = value instead\n",
      "\n",
      "See the caveats in the documentation: https://pandas.pydata.org/pandas-docs/stable/user_guide/indexing.html#returning-a-view-versus-a-copy\n",
      "  current_data['Date'] = current_data.index\n"
     ]
    },
    {
     "name": "stdout",
     "output_type": "stream",
     "text": [
      "shape of df4 is (482, 3541)\n",
      "Completed 75 out of 462 steps\n",
      "the main data is of shape (542, 2)\n",
      "shape of current_data2 is (542, 59)\n"
     ]
    },
    {
     "name": "stderr",
     "output_type": "stream",
     "text": [
      "C:\\Users\\abhij\\AppData\\Local\\Temp\\ipykernel_16868\\3215059801.py:16: SettingWithCopyWarning: \n",
      "A value is trying to be set on a copy of a slice from a DataFrame.\n",
      "Try using .loc[row_indexer,col_indexer] = value instead\n",
      "\n",
      "See the caveats in the documentation: https://pandas.pydata.org/pandas-docs/stable/user_guide/indexing.html#returning-a-view-versus-a-copy\n",
      "  current_data['Date'] = current_data.index\n"
     ]
    },
    {
     "name": "stdout",
     "output_type": "stream",
     "text": [
      "shape of df4 is (482, 3541)\n",
      "Completed 76 out of 462 steps\n",
      "the main data is of shape (542, 2)\n"
     ]
    },
    {
     "name": "stderr",
     "output_type": "stream",
     "text": [
      "C:\\Users\\abhij\\AppData\\Local\\Temp\\ipykernel_16868\\3215059801.py:16: SettingWithCopyWarning: \n",
      "A value is trying to be set on a copy of a slice from a DataFrame.\n",
      "Try using .loc[row_indexer,col_indexer] = value instead\n",
      "\n",
      "See the caveats in the documentation: https://pandas.pydata.org/pandas-docs/stable/user_guide/indexing.html#returning-a-view-versus-a-copy\n",
      "  current_data['Date'] = current_data.index\n"
     ]
    },
    {
     "name": "stdout",
     "output_type": "stream",
     "text": [
      "shape of current_data2 is (542, 59)\n",
      "shape of df4 is (482, 3541)\n",
      "Completed 77 out of 462 steps\n",
      "the main data is of shape (542, 2)\n",
      "shape of current_data2 is (542, 59)\n"
     ]
    },
    {
     "name": "stderr",
     "output_type": "stream",
     "text": [
      "C:\\Users\\abhij\\AppData\\Local\\Temp\\ipykernel_16868\\3215059801.py:16: SettingWithCopyWarning: \n",
      "A value is trying to be set on a copy of a slice from a DataFrame.\n",
      "Try using .loc[row_indexer,col_indexer] = value instead\n",
      "\n",
      "See the caveats in the documentation: https://pandas.pydata.org/pandas-docs/stable/user_guide/indexing.html#returning-a-view-versus-a-copy\n",
      "  current_data['Date'] = current_data.index\n"
     ]
    },
    {
     "name": "stdout",
     "output_type": "stream",
     "text": [
      "shape of df4 is (482, 3541)\n",
      "Completed 78 out of 462 steps\n",
      "the main data is of shape (542, 2)\n",
      "shape of current_data2 is (542, 59)\n"
     ]
    },
    {
     "name": "stderr",
     "output_type": "stream",
     "text": [
      "C:\\Users\\abhij\\AppData\\Local\\Temp\\ipykernel_16868\\3215059801.py:16: SettingWithCopyWarning: \n",
      "A value is trying to be set on a copy of a slice from a DataFrame.\n",
      "Try using .loc[row_indexer,col_indexer] = value instead\n",
      "\n",
      "See the caveats in the documentation: https://pandas.pydata.org/pandas-docs/stable/user_guide/indexing.html#returning-a-view-versus-a-copy\n",
      "  current_data['Date'] = current_data.index\n"
     ]
    },
    {
     "name": "stdout",
     "output_type": "stream",
     "text": [
      "shape of df4 is (482, 3541)\n",
      "Completed 79 out of 462 steps\n",
      "the main data is of shape (542, 2)\n",
      "shape of current_data2 is (542, 59)\n"
     ]
    },
    {
     "name": "stderr",
     "output_type": "stream",
     "text": [
      "C:\\Users\\abhij\\AppData\\Local\\Temp\\ipykernel_16868\\3215059801.py:16: SettingWithCopyWarning: \n",
      "A value is trying to be set on a copy of a slice from a DataFrame.\n",
      "Try using .loc[row_indexer,col_indexer] = value instead\n",
      "\n",
      "See the caveats in the documentation: https://pandas.pydata.org/pandas-docs/stable/user_guide/indexing.html#returning-a-view-versus-a-copy\n",
      "  current_data['Date'] = current_data.index\n"
     ]
    },
    {
     "name": "stdout",
     "output_type": "stream",
     "text": [
      "shape of df4 is (482, 3541)\n",
      "Completed 80 out of 462 steps\n",
      "the main data is of shape (542, 2)\n",
      "shape of current_data2 is (542, 59)\n"
     ]
    },
    {
     "name": "stderr",
     "output_type": "stream",
     "text": [
      "C:\\Users\\abhij\\AppData\\Local\\Temp\\ipykernel_16868\\3215059801.py:16: SettingWithCopyWarning: \n",
      "A value is trying to be set on a copy of a slice from a DataFrame.\n",
      "Try using .loc[row_indexer,col_indexer] = value instead\n",
      "\n",
      "See the caveats in the documentation: https://pandas.pydata.org/pandas-docs/stable/user_guide/indexing.html#returning-a-view-versus-a-copy\n",
      "  current_data['Date'] = current_data.index\n"
     ]
    },
    {
     "name": "stdout",
     "output_type": "stream",
     "text": [
      "shape of df4 is (482, 3541)\n",
      "Completed 81 out of 462 steps\n",
      "the main data is of shape (542, 2)\n",
      "shape of current_data2 is (542, 59)\n"
     ]
    },
    {
     "name": "stderr",
     "output_type": "stream",
     "text": [
      "C:\\Users\\abhij\\AppData\\Local\\Temp\\ipykernel_16868\\3215059801.py:16: SettingWithCopyWarning: \n",
      "A value is trying to be set on a copy of a slice from a DataFrame.\n",
      "Try using .loc[row_indexer,col_indexer] = value instead\n",
      "\n",
      "See the caveats in the documentation: https://pandas.pydata.org/pandas-docs/stable/user_guide/indexing.html#returning-a-view-versus-a-copy\n",
      "  current_data['Date'] = current_data.index\n"
     ]
    },
    {
     "name": "stdout",
     "output_type": "stream",
     "text": [
      "shape of df4 is (482, 3541)\n",
      "Completed 82 out of 462 steps\n",
      "the main data is of shape (542, 2)\n",
      "shape of current_data2 is (542, 59)\n"
     ]
    },
    {
     "name": "stderr",
     "output_type": "stream",
     "text": [
      "C:\\Users\\abhij\\AppData\\Local\\Temp\\ipykernel_16868\\3215059801.py:16: SettingWithCopyWarning: \n",
      "A value is trying to be set on a copy of a slice from a DataFrame.\n",
      "Try using .loc[row_indexer,col_indexer] = value instead\n",
      "\n",
      "See the caveats in the documentation: https://pandas.pydata.org/pandas-docs/stable/user_guide/indexing.html#returning-a-view-versus-a-copy\n",
      "  current_data['Date'] = current_data.index\n"
     ]
    },
    {
     "name": "stdout",
     "output_type": "stream",
     "text": [
      "shape of df4 is (482, 3541)\n",
      "Completed 83 out of 462 steps\n",
      "the main data is of shape (542, 2)\n",
      "shape of current_data2 is (542, 59)\n"
     ]
    },
    {
     "name": "stderr",
     "output_type": "stream",
     "text": [
      "C:\\Users\\abhij\\AppData\\Local\\Temp\\ipykernel_16868\\3215059801.py:16: SettingWithCopyWarning: \n",
      "A value is trying to be set on a copy of a slice from a DataFrame.\n",
      "Try using .loc[row_indexer,col_indexer] = value instead\n",
      "\n",
      "See the caveats in the documentation: https://pandas.pydata.org/pandas-docs/stable/user_guide/indexing.html#returning-a-view-versus-a-copy\n",
      "  current_data['Date'] = current_data.index\n"
     ]
    },
    {
     "name": "stdout",
     "output_type": "stream",
     "text": [
      "shape of df4 is (482, 3541)\n",
      "Completed 84 out of 462 steps\n",
      "the main data is of shape (542, 2)\n",
      "shape of current_data2 is (542, 59)\n"
     ]
    },
    {
     "name": "stderr",
     "output_type": "stream",
     "text": [
      "C:\\Users\\abhij\\AppData\\Local\\Temp\\ipykernel_16868\\3215059801.py:16: SettingWithCopyWarning: \n",
      "A value is trying to be set on a copy of a slice from a DataFrame.\n",
      "Try using .loc[row_indexer,col_indexer] = value instead\n",
      "\n",
      "See the caveats in the documentation: https://pandas.pydata.org/pandas-docs/stable/user_guide/indexing.html#returning-a-view-versus-a-copy\n",
      "  current_data['Date'] = current_data.index\n"
     ]
    },
    {
     "name": "stdout",
     "output_type": "stream",
     "text": [
      "shape of df4 is (482, 3541)\n",
      "Completed 85 out of 462 steps\n",
      "the main data is of shape (542, 2)\n",
      "shape of current_data2 is (542, 59)\n"
     ]
    },
    {
     "name": "stderr",
     "output_type": "stream",
     "text": [
      "C:\\Users\\abhij\\AppData\\Local\\Temp\\ipykernel_16868\\3215059801.py:16: SettingWithCopyWarning: \n",
      "A value is trying to be set on a copy of a slice from a DataFrame.\n",
      "Try using .loc[row_indexer,col_indexer] = value instead\n",
      "\n",
      "See the caveats in the documentation: https://pandas.pydata.org/pandas-docs/stable/user_guide/indexing.html#returning-a-view-versus-a-copy\n",
      "  current_data['Date'] = current_data.index\n"
     ]
    },
    {
     "name": "stdout",
     "output_type": "stream",
     "text": [
      "shape of df4 is (482, 3541)\n",
      "Completed 86 out of 462 steps\n",
      "the main data is of shape (542, 2)\n",
      "shape of current_data2 is (542, 59)\n"
     ]
    },
    {
     "name": "stderr",
     "output_type": "stream",
     "text": [
      "C:\\Users\\abhij\\AppData\\Local\\Temp\\ipykernel_16868\\3215059801.py:16: SettingWithCopyWarning: \n",
      "A value is trying to be set on a copy of a slice from a DataFrame.\n",
      "Try using .loc[row_indexer,col_indexer] = value instead\n",
      "\n",
      "See the caveats in the documentation: https://pandas.pydata.org/pandas-docs/stable/user_guide/indexing.html#returning-a-view-versus-a-copy\n",
      "  current_data['Date'] = current_data.index\n"
     ]
    },
    {
     "name": "stdout",
     "output_type": "stream",
     "text": [
      "shape of df4 is (482, 3541)\n",
      "Completed 87 out of 462 steps\n",
      "the main data is of shape (542, 2)\n",
      "shape of current_data2 is (542, 59)\n"
     ]
    },
    {
     "name": "stderr",
     "output_type": "stream",
     "text": [
      "C:\\Users\\abhij\\AppData\\Local\\Temp\\ipykernel_16868\\3215059801.py:16: SettingWithCopyWarning: \n",
      "A value is trying to be set on a copy of a slice from a DataFrame.\n",
      "Try using .loc[row_indexer,col_indexer] = value instead\n",
      "\n",
      "See the caveats in the documentation: https://pandas.pydata.org/pandas-docs/stable/user_guide/indexing.html#returning-a-view-versus-a-copy\n",
      "  current_data['Date'] = current_data.index\n"
     ]
    },
    {
     "name": "stdout",
     "output_type": "stream",
     "text": [
      "shape of df4 is (482, 3541)\n",
      "Completed 88 out of 462 steps\n",
      "the main data is of shape (542, 2)\n",
      "shape of current_data2 is (542, 59)\n"
     ]
    },
    {
     "name": "stderr",
     "output_type": "stream",
     "text": [
      "C:\\Users\\abhij\\AppData\\Local\\Temp\\ipykernel_16868\\3215059801.py:16: SettingWithCopyWarning: \n",
      "A value is trying to be set on a copy of a slice from a DataFrame.\n",
      "Try using .loc[row_indexer,col_indexer] = value instead\n",
      "\n",
      "See the caveats in the documentation: https://pandas.pydata.org/pandas-docs/stable/user_guide/indexing.html#returning-a-view-versus-a-copy\n",
      "  current_data['Date'] = current_data.index\n"
     ]
    },
    {
     "name": "stdout",
     "output_type": "stream",
     "text": [
      "shape of df4 is (482, 3541)\n",
      "Completed 89 out of 462 steps\n",
      "the main data is of shape (542, 2)\n",
      "shape of current_data2 is (542, 59)\n"
     ]
    },
    {
     "name": "stderr",
     "output_type": "stream",
     "text": [
      "C:\\Users\\abhij\\AppData\\Local\\Temp\\ipykernel_16868\\3215059801.py:16: SettingWithCopyWarning: \n",
      "A value is trying to be set on a copy of a slice from a DataFrame.\n",
      "Try using .loc[row_indexer,col_indexer] = value instead\n",
      "\n",
      "See the caveats in the documentation: https://pandas.pydata.org/pandas-docs/stable/user_guide/indexing.html#returning-a-view-versus-a-copy\n",
      "  current_data['Date'] = current_data.index\n"
     ]
    },
    {
     "name": "stdout",
     "output_type": "stream",
     "text": [
      "shape of df4 is (482, 3541)\n",
      "Completed 90 out of 462 steps\n",
      "the main data is of shape (542, 2)\n",
      "shape of current_data2 is (542, 59)\n"
     ]
    },
    {
     "name": "stderr",
     "output_type": "stream",
     "text": [
      "C:\\Users\\abhij\\AppData\\Local\\Temp\\ipykernel_16868\\3215059801.py:16: SettingWithCopyWarning: \n",
      "A value is trying to be set on a copy of a slice from a DataFrame.\n",
      "Try using .loc[row_indexer,col_indexer] = value instead\n",
      "\n",
      "See the caveats in the documentation: https://pandas.pydata.org/pandas-docs/stable/user_guide/indexing.html#returning-a-view-versus-a-copy\n",
      "  current_data['Date'] = current_data.index\n"
     ]
    },
    {
     "name": "stdout",
     "output_type": "stream",
     "text": [
      "shape of df4 is (482, 3541)\n",
      "Completed 91 out of 462 steps\n",
      "the main data is of shape (542, 2)\n",
      "shape of current_data2 is (542, 59)\n"
     ]
    },
    {
     "name": "stderr",
     "output_type": "stream",
     "text": [
      "C:\\Users\\abhij\\AppData\\Local\\Temp\\ipykernel_16868\\3215059801.py:16: SettingWithCopyWarning: \n",
      "A value is trying to be set on a copy of a slice from a DataFrame.\n",
      "Try using .loc[row_indexer,col_indexer] = value instead\n",
      "\n",
      "See the caveats in the documentation: https://pandas.pydata.org/pandas-docs/stable/user_guide/indexing.html#returning-a-view-versus-a-copy\n",
      "  current_data['Date'] = current_data.index\n"
     ]
    },
    {
     "name": "stdout",
     "output_type": "stream",
     "text": [
      "shape of df4 is (482, 3541)\n",
      "Completed 92 out of 462 steps\n",
      "the main data is of shape (542, 2)\n",
      "shape of current_data2 is (542, 59)\n"
     ]
    },
    {
     "name": "stderr",
     "output_type": "stream",
     "text": [
      "C:\\Users\\abhij\\AppData\\Local\\Temp\\ipykernel_16868\\3215059801.py:16: SettingWithCopyWarning: \n",
      "A value is trying to be set on a copy of a slice from a DataFrame.\n",
      "Try using .loc[row_indexer,col_indexer] = value instead\n",
      "\n",
      "See the caveats in the documentation: https://pandas.pydata.org/pandas-docs/stable/user_guide/indexing.html#returning-a-view-versus-a-copy\n",
      "  current_data['Date'] = current_data.index\n"
     ]
    },
    {
     "name": "stdout",
     "output_type": "stream",
     "text": [
      "shape of df4 is (482, 3541)\n",
      "Completed 93 out of 462 steps\n",
      "the main data is of shape (542, 2)\n",
      "shape of current_data2 is (542, 59)\n"
     ]
    },
    {
     "name": "stderr",
     "output_type": "stream",
     "text": [
      "C:\\Users\\abhij\\AppData\\Local\\Temp\\ipykernel_16868\\3215059801.py:16: SettingWithCopyWarning: \n",
      "A value is trying to be set on a copy of a slice from a DataFrame.\n",
      "Try using .loc[row_indexer,col_indexer] = value instead\n",
      "\n",
      "See the caveats in the documentation: https://pandas.pydata.org/pandas-docs/stable/user_guide/indexing.html#returning-a-view-versus-a-copy\n",
      "  current_data['Date'] = current_data.index\n"
     ]
    },
    {
     "name": "stdout",
     "output_type": "stream",
     "text": [
      "shape of df4 is (482, 3541)\n",
      "Completed 94 out of 462 steps\n",
      "the main data is of shape (542, 2)\n",
      "shape of current_data2 is (542, 59)\n"
     ]
    },
    {
     "name": "stderr",
     "output_type": "stream",
     "text": [
      "C:\\Users\\abhij\\AppData\\Local\\Temp\\ipykernel_16868\\3215059801.py:16: SettingWithCopyWarning: \n",
      "A value is trying to be set on a copy of a slice from a DataFrame.\n",
      "Try using .loc[row_indexer,col_indexer] = value instead\n",
      "\n",
      "See the caveats in the documentation: https://pandas.pydata.org/pandas-docs/stable/user_guide/indexing.html#returning-a-view-versus-a-copy\n",
      "  current_data['Date'] = current_data.index\n"
     ]
    },
    {
     "name": "stdout",
     "output_type": "stream",
     "text": [
      "shape of df4 is (482, 3541)\n",
      "Completed 95 out of 462 steps\n",
      "the main data is of shape (542, 2)\n",
      "shape of current_data2 is (542, 59)\n"
     ]
    },
    {
     "name": "stderr",
     "output_type": "stream",
     "text": [
      "C:\\Users\\abhij\\AppData\\Local\\Temp\\ipykernel_16868\\3215059801.py:16: SettingWithCopyWarning: \n",
      "A value is trying to be set on a copy of a slice from a DataFrame.\n",
      "Try using .loc[row_indexer,col_indexer] = value instead\n",
      "\n",
      "See the caveats in the documentation: https://pandas.pydata.org/pandas-docs/stable/user_guide/indexing.html#returning-a-view-versus-a-copy\n",
      "  current_data['Date'] = current_data.index\n"
     ]
    },
    {
     "name": "stdout",
     "output_type": "stream",
     "text": [
      "shape of df4 is (482, 3541)\n",
      "Completed 96 out of 462 steps\n",
      "the main data is of shape (542, 2)\n",
      "shape of current_data2 is (542, 59)\n"
     ]
    },
    {
     "name": "stderr",
     "output_type": "stream",
     "text": [
      "C:\\Users\\abhij\\AppData\\Local\\Temp\\ipykernel_16868\\3215059801.py:16: SettingWithCopyWarning: \n",
      "A value is trying to be set on a copy of a slice from a DataFrame.\n",
      "Try using .loc[row_indexer,col_indexer] = value instead\n",
      "\n",
      "See the caveats in the documentation: https://pandas.pydata.org/pandas-docs/stable/user_guide/indexing.html#returning-a-view-versus-a-copy\n",
      "  current_data['Date'] = current_data.index\n"
     ]
    },
    {
     "name": "stdout",
     "output_type": "stream",
     "text": [
      "shape of df4 is (482, 3541)\n",
      "Completed 97 out of 462 steps\n",
      "the main data is of shape (542, 2)\n",
      "shape of current_data2 is (542, 59)\n"
     ]
    },
    {
     "name": "stderr",
     "output_type": "stream",
     "text": [
      "C:\\Users\\abhij\\AppData\\Local\\Temp\\ipykernel_16868\\3215059801.py:16: SettingWithCopyWarning: \n",
      "A value is trying to be set on a copy of a slice from a DataFrame.\n",
      "Try using .loc[row_indexer,col_indexer] = value instead\n",
      "\n",
      "See the caveats in the documentation: https://pandas.pydata.org/pandas-docs/stable/user_guide/indexing.html#returning-a-view-versus-a-copy\n",
      "  current_data['Date'] = current_data.index\n"
     ]
    },
    {
     "name": "stdout",
     "output_type": "stream",
     "text": [
      "shape of df4 is (482, 3541)\n",
      "Completed 98 out of 462 steps\n",
      "the main data is of shape (542, 2)\n",
      "shape of current_data2 is (542, 59)\n"
     ]
    },
    {
     "name": "stderr",
     "output_type": "stream",
     "text": [
      "C:\\Users\\abhij\\AppData\\Local\\Temp\\ipykernel_16868\\3215059801.py:16: SettingWithCopyWarning: \n",
      "A value is trying to be set on a copy of a slice from a DataFrame.\n",
      "Try using .loc[row_indexer,col_indexer] = value instead\n",
      "\n",
      "See the caveats in the documentation: https://pandas.pydata.org/pandas-docs/stable/user_guide/indexing.html#returning-a-view-versus-a-copy\n",
      "  current_data['Date'] = current_data.index\n"
     ]
    },
    {
     "name": "stdout",
     "output_type": "stream",
     "text": [
      "shape of df4 is (482, 3541)\n",
      "Completed 99 out of 462 steps\n",
      "the main data is of shape (542, 2)\n"
     ]
    },
    {
     "name": "stderr",
     "output_type": "stream",
     "text": [
      "C:\\Users\\abhij\\AppData\\Local\\Temp\\ipykernel_16868\\3215059801.py:16: SettingWithCopyWarning: \n",
      "A value is trying to be set on a copy of a slice from a DataFrame.\n",
      "Try using .loc[row_indexer,col_indexer] = value instead\n",
      "\n",
      "See the caveats in the documentation: https://pandas.pydata.org/pandas-docs/stable/user_guide/indexing.html#returning-a-view-versus-a-copy\n",
      "  current_data['Date'] = current_data.index\n"
     ]
    },
    {
     "name": "stdout",
     "output_type": "stream",
     "text": [
      "shape of current_data2 is (542, 59)\n",
      "shape of df4 is (482, 3541)\n",
      "Completed 100 out of 462 steps\n",
      "the main data is of shape (542, 2)\n",
      "shape of current_data2 is (542, 59)\n"
     ]
    },
    {
     "name": "stderr",
     "output_type": "stream",
     "text": [
      "C:\\Users\\abhij\\AppData\\Local\\Temp\\ipykernel_16868\\3215059801.py:16: SettingWithCopyWarning: \n",
      "A value is trying to be set on a copy of a slice from a DataFrame.\n",
      "Try using .loc[row_indexer,col_indexer] = value instead\n",
      "\n",
      "See the caveats in the documentation: https://pandas.pydata.org/pandas-docs/stable/user_guide/indexing.html#returning-a-view-versus-a-copy\n",
      "  current_data['Date'] = current_data.index\n"
     ]
    },
    {
     "name": "stdout",
     "output_type": "stream",
     "text": [
      "shape of df4 is (482, 3541)\n",
      "Completed 101 out of 462 steps\n",
      "the main data is of shape (542, 2)\n",
      "shape of current_data2 is (542, 59)\n"
     ]
    },
    {
     "name": "stderr",
     "output_type": "stream",
     "text": [
      "C:\\Users\\abhij\\AppData\\Local\\Temp\\ipykernel_16868\\3215059801.py:16: SettingWithCopyWarning: \n",
      "A value is trying to be set on a copy of a slice from a DataFrame.\n",
      "Try using .loc[row_indexer,col_indexer] = value instead\n",
      "\n",
      "See the caveats in the documentation: https://pandas.pydata.org/pandas-docs/stable/user_guide/indexing.html#returning-a-view-versus-a-copy\n",
      "  current_data['Date'] = current_data.index\n"
     ]
    },
    {
     "name": "stdout",
     "output_type": "stream",
     "text": [
      "shape of df4 is (482, 3541)\n",
      "Completed 102 out of 462 steps\n",
      "the main data is of shape (542, 2)\n",
      "shape of current_data2 is (542, 59)\n"
     ]
    },
    {
     "name": "stderr",
     "output_type": "stream",
     "text": [
      "C:\\Users\\abhij\\AppData\\Local\\Temp\\ipykernel_16868\\3215059801.py:16: SettingWithCopyWarning: \n",
      "A value is trying to be set on a copy of a slice from a DataFrame.\n",
      "Try using .loc[row_indexer,col_indexer] = value instead\n",
      "\n",
      "See the caveats in the documentation: https://pandas.pydata.org/pandas-docs/stable/user_guide/indexing.html#returning-a-view-versus-a-copy\n",
      "  current_data['Date'] = current_data.index\n"
     ]
    },
    {
     "name": "stdout",
     "output_type": "stream",
     "text": [
      "shape of df4 is (482, 3541)\n",
      "Completed 103 out of 462 steps\n",
      "the main data is of shape (542, 2)\n",
      "shape of current_data2 is (542, 59)\n"
     ]
    },
    {
     "name": "stderr",
     "output_type": "stream",
     "text": [
      "C:\\Users\\abhij\\AppData\\Local\\Temp\\ipykernel_16868\\3215059801.py:16: SettingWithCopyWarning: \n",
      "A value is trying to be set on a copy of a slice from a DataFrame.\n",
      "Try using .loc[row_indexer,col_indexer] = value instead\n",
      "\n",
      "See the caveats in the documentation: https://pandas.pydata.org/pandas-docs/stable/user_guide/indexing.html#returning-a-view-versus-a-copy\n",
      "  current_data['Date'] = current_data.index\n"
     ]
    },
    {
     "name": "stdout",
     "output_type": "stream",
     "text": [
      "shape of df4 is (482, 3541)\n",
      "Completed 104 out of 462 steps\n",
      "the main data is of shape (542, 2)\n",
      "shape of current_data2 is (542, 59)\n"
     ]
    },
    {
     "name": "stderr",
     "output_type": "stream",
     "text": [
      "C:\\Users\\abhij\\AppData\\Local\\Temp\\ipykernel_16868\\3215059801.py:16: SettingWithCopyWarning: \n",
      "A value is trying to be set on a copy of a slice from a DataFrame.\n",
      "Try using .loc[row_indexer,col_indexer] = value instead\n",
      "\n",
      "See the caveats in the documentation: https://pandas.pydata.org/pandas-docs/stable/user_guide/indexing.html#returning-a-view-versus-a-copy\n",
      "  current_data['Date'] = current_data.index\n"
     ]
    },
    {
     "name": "stdout",
     "output_type": "stream",
     "text": [
      "shape of df4 is (482, 3541)\n",
      "Completed 105 out of 462 steps\n",
      "the main data is of shape (542, 2)\n",
      "shape of current_data2 is (542, 59)\n"
     ]
    },
    {
     "name": "stderr",
     "output_type": "stream",
     "text": [
      "C:\\Users\\abhij\\AppData\\Local\\Temp\\ipykernel_16868\\3215059801.py:16: SettingWithCopyWarning: \n",
      "A value is trying to be set on a copy of a slice from a DataFrame.\n",
      "Try using .loc[row_indexer,col_indexer] = value instead\n",
      "\n",
      "See the caveats in the documentation: https://pandas.pydata.org/pandas-docs/stable/user_guide/indexing.html#returning-a-view-versus-a-copy\n",
      "  current_data['Date'] = current_data.index\n"
     ]
    },
    {
     "name": "stdout",
     "output_type": "stream",
     "text": [
      "shape of df4 is (482, 3541)\n",
      "Completed 106 out of 462 steps\n",
      "the main data is of shape (542, 2)\n"
     ]
    },
    {
     "name": "stderr",
     "output_type": "stream",
     "text": [
      "C:\\Users\\abhij\\AppData\\Local\\Temp\\ipykernel_16868\\3215059801.py:16: SettingWithCopyWarning: \n",
      "A value is trying to be set on a copy of a slice from a DataFrame.\n",
      "Try using .loc[row_indexer,col_indexer] = value instead\n",
      "\n",
      "See the caveats in the documentation: https://pandas.pydata.org/pandas-docs/stable/user_guide/indexing.html#returning-a-view-versus-a-copy\n",
      "  current_data['Date'] = current_data.index\n"
     ]
    },
    {
     "name": "stdout",
     "output_type": "stream",
     "text": [
      "shape of current_data2 is (542, 59)\n",
      "shape of df4 is (482, 3541)\n",
      "Completed 107 out of 462 steps\n",
      "the main data is of shape (542, 2)\n"
     ]
    },
    {
     "name": "stderr",
     "output_type": "stream",
     "text": [
      "C:\\Users\\abhij\\AppData\\Local\\Temp\\ipykernel_16868\\3215059801.py:16: SettingWithCopyWarning: \n",
      "A value is trying to be set on a copy of a slice from a DataFrame.\n",
      "Try using .loc[row_indexer,col_indexer] = value instead\n",
      "\n",
      "See the caveats in the documentation: https://pandas.pydata.org/pandas-docs/stable/user_guide/indexing.html#returning-a-view-versus-a-copy\n",
      "  current_data['Date'] = current_data.index\n"
     ]
    },
    {
     "name": "stdout",
     "output_type": "stream",
     "text": [
      "shape of current_data2 is (542, 59)\n",
      "shape of df4 is (482, 3541)\n",
      "Completed 108 out of 462 steps\n",
      "the main data is of shape (516, 2)\n",
      "shape of current_data2 is (516, 59)\n"
     ]
    },
    {
     "name": "stderr",
     "output_type": "stream",
     "text": [
      "C:\\Users\\abhij\\AppData\\Local\\Temp\\ipykernel_16868\\3215059801.py:16: SettingWithCopyWarning: \n",
      "A value is trying to be set on a copy of a slice from a DataFrame.\n",
      "Try using .loc[row_indexer,col_indexer] = value instead\n",
      "\n",
      "See the caveats in the documentation: https://pandas.pydata.org/pandas-docs/stable/user_guide/indexing.html#returning-a-view-versus-a-copy\n",
      "  current_data['Date'] = current_data.index\n"
     ]
    },
    {
     "name": "stdout",
     "output_type": "stream",
     "text": [
      "shape of df4 is (456, 3541)\n",
      "Completed 109 out of 462 steps\n",
      "the main data is of shape (542, 2)\n",
      "shape of current_data2 is (542, 59)\n"
     ]
    },
    {
     "name": "stderr",
     "output_type": "stream",
     "text": [
      "C:\\Users\\abhij\\AppData\\Local\\Temp\\ipykernel_16868\\3215059801.py:16: SettingWithCopyWarning: \n",
      "A value is trying to be set on a copy of a slice from a DataFrame.\n",
      "Try using .loc[row_indexer,col_indexer] = value instead\n",
      "\n",
      "See the caveats in the documentation: https://pandas.pydata.org/pandas-docs/stable/user_guide/indexing.html#returning-a-view-versus-a-copy\n",
      "  current_data['Date'] = current_data.index\n"
     ]
    },
    {
     "name": "stdout",
     "output_type": "stream",
     "text": [
      "shape of df4 is (482, 3541)\n",
      "Completed 110 out of 462 steps\n",
      "the main data is of shape (542, 2)\n"
     ]
    },
    {
     "name": "stderr",
     "output_type": "stream",
     "text": [
      "C:\\Users\\abhij\\AppData\\Local\\Temp\\ipykernel_16868\\3215059801.py:16: SettingWithCopyWarning: \n",
      "A value is trying to be set on a copy of a slice from a DataFrame.\n",
      "Try using .loc[row_indexer,col_indexer] = value instead\n",
      "\n",
      "See the caveats in the documentation: https://pandas.pydata.org/pandas-docs/stable/user_guide/indexing.html#returning-a-view-versus-a-copy\n",
      "  current_data['Date'] = current_data.index\n"
     ]
    },
    {
     "name": "stdout",
     "output_type": "stream",
     "text": [
      "shape of current_data2 is (542, 59)\n",
      "shape of df4 is (482, 3541)\n",
      "Completed 111 out of 462 steps\n",
      "the main data is of shape (542, 2)\n",
      "shape of current_data2 is (542, 59)\n"
     ]
    },
    {
     "name": "stderr",
     "output_type": "stream",
     "text": [
      "C:\\Users\\abhij\\AppData\\Local\\Temp\\ipykernel_16868\\3215059801.py:16: SettingWithCopyWarning: \n",
      "A value is trying to be set on a copy of a slice from a DataFrame.\n",
      "Try using .loc[row_indexer,col_indexer] = value instead\n",
      "\n",
      "See the caveats in the documentation: https://pandas.pydata.org/pandas-docs/stable/user_guide/indexing.html#returning-a-view-versus-a-copy\n",
      "  current_data['Date'] = current_data.index\n"
     ]
    },
    {
     "name": "stdout",
     "output_type": "stream",
     "text": [
      "shape of df4 is (482, 3541)\n",
      "Completed 112 out of 462 steps\n",
      "the main data is of shape (542, 2)\n",
      "shape of current_data2 is (542, 59)\n"
     ]
    },
    {
     "name": "stderr",
     "output_type": "stream",
     "text": [
      "C:\\Users\\abhij\\AppData\\Local\\Temp\\ipykernel_16868\\3215059801.py:16: SettingWithCopyWarning: \n",
      "A value is trying to be set on a copy of a slice from a DataFrame.\n",
      "Try using .loc[row_indexer,col_indexer] = value instead\n",
      "\n",
      "See the caveats in the documentation: https://pandas.pydata.org/pandas-docs/stable/user_guide/indexing.html#returning-a-view-versus-a-copy\n",
      "  current_data['Date'] = current_data.index\n"
     ]
    },
    {
     "name": "stdout",
     "output_type": "stream",
     "text": [
      "shape of df4 is (482, 3541)\n",
      "Completed 113 out of 462 steps\n",
      "the main data is of shape (542, 2)\n",
      "shape of current_data2 is (542, 59)\n"
     ]
    },
    {
     "name": "stderr",
     "output_type": "stream",
     "text": [
      "C:\\Users\\abhij\\AppData\\Local\\Temp\\ipykernel_16868\\3215059801.py:16: SettingWithCopyWarning: \n",
      "A value is trying to be set on a copy of a slice from a DataFrame.\n",
      "Try using .loc[row_indexer,col_indexer] = value instead\n",
      "\n",
      "See the caveats in the documentation: https://pandas.pydata.org/pandas-docs/stable/user_guide/indexing.html#returning-a-view-versus-a-copy\n",
      "  current_data['Date'] = current_data.index\n"
     ]
    },
    {
     "name": "stdout",
     "output_type": "stream",
     "text": [
      "shape of df4 is (482, 3541)\n",
      "Completed 114 out of 462 steps\n"
     ]
    },
    {
     "name": "stderr",
     "output_type": "stream",
     "text": [
      "C:\\Users\\abhij\\AppData\\Local\\Temp\\ipykernel_16868\\3215059801.py:16: SettingWithCopyWarning: \n",
      "A value is trying to be set on a copy of a slice from a DataFrame.\n",
      "Try using .loc[row_indexer,col_indexer] = value instead\n",
      "\n",
      "See the caveats in the documentation: https://pandas.pydata.org/pandas-docs/stable/user_guide/indexing.html#returning-a-view-versus-a-copy\n",
      "  current_data['Date'] = current_data.index\n"
     ]
    },
    {
     "name": "stdout",
     "output_type": "stream",
     "text": [
      "the main data is of shape (542, 2)\n",
      "shape of current_data2 is (542, 59)\n",
      "shape of df4 is (482, 3541)\n",
      "Completed 115 out of 462 steps\n",
      "the main data is of shape (542, 2)\n"
     ]
    },
    {
     "name": "stderr",
     "output_type": "stream",
     "text": [
      "C:\\Users\\abhij\\AppData\\Local\\Temp\\ipykernel_16868\\3215059801.py:16: SettingWithCopyWarning: \n",
      "A value is trying to be set on a copy of a slice from a DataFrame.\n",
      "Try using .loc[row_indexer,col_indexer] = value instead\n",
      "\n",
      "See the caveats in the documentation: https://pandas.pydata.org/pandas-docs/stable/user_guide/indexing.html#returning-a-view-versus-a-copy\n",
      "  current_data['Date'] = current_data.index\n"
     ]
    },
    {
     "name": "stdout",
     "output_type": "stream",
     "text": [
      "shape of current_data2 is (542, 59)\n",
      "shape of df4 is (482, 3541)\n",
      "Completed 116 out of 462 steps\n",
      "the main data is of shape (542, 2)\n",
      "shape of current_data2 is (542, 59)\n"
     ]
    },
    {
     "name": "stderr",
     "output_type": "stream",
     "text": [
      "C:\\Users\\abhij\\AppData\\Local\\Temp\\ipykernel_16868\\3215059801.py:16: SettingWithCopyWarning: \n",
      "A value is trying to be set on a copy of a slice from a DataFrame.\n",
      "Try using .loc[row_indexer,col_indexer] = value instead\n",
      "\n",
      "See the caveats in the documentation: https://pandas.pydata.org/pandas-docs/stable/user_guide/indexing.html#returning-a-view-versus-a-copy\n",
      "  current_data['Date'] = current_data.index\n"
     ]
    },
    {
     "name": "stdout",
     "output_type": "stream",
     "text": [
      "shape of df4 is (482, 3541)\n",
      "Completed 117 out of 462 steps\n",
      "the main data is of shape (542, 2)\n",
      "shape of current_data2 is (542, 59)\n"
     ]
    },
    {
     "name": "stderr",
     "output_type": "stream",
     "text": [
      "C:\\Users\\abhij\\AppData\\Local\\Temp\\ipykernel_16868\\3215059801.py:16: SettingWithCopyWarning: \n",
      "A value is trying to be set on a copy of a slice from a DataFrame.\n",
      "Try using .loc[row_indexer,col_indexer] = value instead\n",
      "\n",
      "See the caveats in the documentation: https://pandas.pydata.org/pandas-docs/stable/user_guide/indexing.html#returning-a-view-versus-a-copy\n",
      "  current_data['Date'] = current_data.index\n"
     ]
    },
    {
     "name": "stdout",
     "output_type": "stream",
     "text": [
      "shape of df4 is (482, 3541)\n",
      "Completed 118 out of 462 steps\n"
     ]
    },
    {
     "name": "stderr",
     "output_type": "stream",
     "text": [
      "C:\\Users\\abhij\\AppData\\Local\\Temp\\ipykernel_16868\\3215059801.py:16: SettingWithCopyWarning: \n",
      "A value is trying to be set on a copy of a slice from a DataFrame.\n",
      "Try using .loc[row_indexer,col_indexer] = value instead\n",
      "\n",
      "See the caveats in the documentation: https://pandas.pydata.org/pandas-docs/stable/user_guide/indexing.html#returning-a-view-versus-a-copy\n",
      "  current_data['Date'] = current_data.index\n"
     ]
    },
    {
     "name": "stdout",
     "output_type": "stream",
     "text": [
      "the main data is of shape (542, 2)\n",
      "shape of current_data2 is (542, 59)\n",
      "shape of df4 is (482, 3541)\n",
      "Completed 119 out of 462 steps\n",
      "the main data is of shape (542, 2)\n"
     ]
    },
    {
     "name": "stderr",
     "output_type": "stream",
     "text": [
      "C:\\Users\\abhij\\AppData\\Local\\Temp\\ipykernel_16868\\3215059801.py:16: SettingWithCopyWarning: \n",
      "A value is trying to be set on a copy of a slice from a DataFrame.\n",
      "Try using .loc[row_indexer,col_indexer] = value instead\n",
      "\n",
      "See the caveats in the documentation: https://pandas.pydata.org/pandas-docs/stable/user_guide/indexing.html#returning-a-view-versus-a-copy\n",
      "  current_data['Date'] = current_data.index\n"
     ]
    },
    {
     "name": "stdout",
     "output_type": "stream",
     "text": [
      "shape of current_data2 is (542, 59)\n",
      "shape of df4 is (482, 3541)\n",
      "Completed 120 out of 462 steps\n",
      "the main data is of shape (542, 2)\n"
     ]
    },
    {
     "name": "stderr",
     "output_type": "stream",
     "text": [
      "C:\\Users\\abhij\\AppData\\Local\\Temp\\ipykernel_16868\\3215059801.py:16: SettingWithCopyWarning: \n",
      "A value is trying to be set on a copy of a slice from a DataFrame.\n",
      "Try using .loc[row_indexer,col_indexer] = value instead\n",
      "\n",
      "See the caveats in the documentation: https://pandas.pydata.org/pandas-docs/stable/user_guide/indexing.html#returning-a-view-versus-a-copy\n",
      "  current_data['Date'] = current_data.index\n"
     ]
    },
    {
     "name": "stdout",
     "output_type": "stream",
     "text": [
      "shape of current_data2 is (542, 59)\n",
      "shape of df4 is (482, 3541)\n",
      "Completed 121 out of 462 steps\n",
      "the main data is of shape (542, 2)\n"
     ]
    },
    {
     "name": "stderr",
     "output_type": "stream",
     "text": [
      "C:\\Users\\abhij\\AppData\\Local\\Temp\\ipykernel_16868\\3215059801.py:16: SettingWithCopyWarning: \n",
      "A value is trying to be set on a copy of a slice from a DataFrame.\n",
      "Try using .loc[row_indexer,col_indexer] = value instead\n",
      "\n",
      "See the caveats in the documentation: https://pandas.pydata.org/pandas-docs/stable/user_guide/indexing.html#returning-a-view-versus-a-copy\n",
      "  current_data['Date'] = current_data.index\n"
     ]
    },
    {
     "name": "stdout",
     "output_type": "stream",
     "text": [
      "shape of current_data2 is (542, 59)\n",
      "shape of df4 is (482, 3541)\n",
      "Completed 122 out of 462 steps\n"
     ]
    },
    {
     "name": "stderr",
     "output_type": "stream",
     "text": [
      "C:\\Users\\abhij\\AppData\\Local\\Temp\\ipykernel_16868\\3215059801.py:16: SettingWithCopyWarning: \n",
      "A value is trying to be set on a copy of a slice from a DataFrame.\n",
      "Try using .loc[row_indexer,col_indexer] = value instead\n",
      "\n",
      "See the caveats in the documentation: https://pandas.pydata.org/pandas-docs/stable/user_guide/indexing.html#returning-a-view-versus-a-copy\n",
      "  current_data['Date'] = current_data.index\n"
     ]
    },
    {
     "name": "stdout",
     "output_type": "stream",
     "text": [
      "the main data is of shape (542, 2)\n",
      "shape of current_data2 is (542, 59)\n",
      "shape of df4 is (482, 3541)\n",
      "Completed 123 out of 462 steps\n",
      "the main data is of shape (542, 2)\n"
     ]
    },
    {
     "name": "stderr",
     "output_type": "stream",
     "text": [
      "C:\\Users\\abhij\\AppData\\Local\\Temp\\ipykernel_16868\\3215059801.py:16: SettingWithCopyWarning: \n",
      "A value is trying to be set on a copy of a slice from a DataFrame.\n",
      "Try using .loc[row_indexer,col_indexer] = value instead\n",
      "\n",
      "See the caveats in the documentation: https://pandas.pydata.org/pandas-docs/stable/user_guide/indexing.html#returning-a-view-versus-a-copy\n",
      "  current_data['Date'] = current_data.index\n"
     ]
    },
    {
     "name": "stdout",
     "output_type": "stream",
     "text": [
      "shape of current_data2 is (542, 59)\n",
      "shape of df4 is (482, 3541)\n",
      "Completed 124 out of 462 steps\n"
     ]
    },
    {
     "name": "stderr",
     "output_type": "stream",
     "text": [
      "C:\\Users\\abhij\\AppData\\Local\\Temp\\ipykernel_16868\\3215059801.py:16: SettingWithCopyWarning: \n",
      "A value is trying to be set on a copy of a slice from a DataFrame.\n",
      "Try using .loc[row_indexer,col_indexer] = value instead\n",
      "\n",
      "See the caveats in the documentation: https://pandas.pydata.org/pandas-docs/stable/user_guide/indexing.html#returning-a-view-versus-a-copy\n",
      "  current_data['Date'] = current_data.index\n"
     ]
    },
    {
     "name": "stdout",
     "output_type": "stream",
     "text": [
      "the main data is of shape (542, 2)\n",
      "shape of current_data2 is (542, 59)\n",
      "shape of df4 is (482, 3541)\n",
      "Completed 125 out of 462 steps\n",
      "the main data is of shape (542, 2)\n"
     ]
    },
    {
     "name": "stderr",
     "output_type": "stream",
     "text": [
      "C:\\Users\\abhij\\AppData\\Local\\Temp\\ipykernel_16868\\3215059801.py:16: SettingWithCopyWarning: \n",
      "A value is trying to be set on a copy of a slice from a DataFrame.\n",
      "Try using .loc[row_indexer,col_indexer] = value instead\n",
      "\n",
      "See the caveats in the documentation: https://pandas.pydata.org/pandas-docs/stable/user_guide/indexing.html#returning-a-view-versus-a-copy\n",
      "  current_data['Date'] = current_data.index\n"
     ]
    },
    {
     "name": "stdout",
     "output_type": "stream",
     "text": [
      "shape of current_data2 is (542, 59)\n",
      "shape of df4 is (482, 3541)\n",
      "Completed 126 out of 462 steps\n"
     ]
    },
    {
     "name": "stderr",
     "output_type": "stream",
     "text": [
      "C:\\Users\\abhij\\AppData\\Local\\Temp\\ipykernel_16868\\3215059801.py:16: SettingWithCopyWarning: \n",
      "A value is trying to be set on a copy of a slice from a DataFrame.\n",
      "Try using .loc[row_indexer,col_indexer] = value instead\n",
      "\n",
      "See the caveats in the documentation: https://pandas.pydata.org/pandas-docs/stable/user_guide/indexing.html#returning-a-view-versus-a-copy\n",
      "  current_data['Date'] = current_data.index\n"
     ]
    },
    {
     "name": "stdout",
     "output_type": "stream",
     "text": [
      "the main data is of shape (542, 2)\n",
      "shape of current_data2 is (542, 59)\n",
      "shape of df4 is (482, 3541)\n",
      "Completed 127 out of 462 steps\n",
      "the main data is of shape (520, 2)\n"
     ]
    },
    {
     "name": "stderr",
     "output_type": "stream",
     "text": [
      "C:\\Users\\abhij\\AppData\\Local\\Temp\\ipykernel_16868\\3215059801.py:16: SettingWithCopyWarning: \n",
      "A value is trying to be set on a copy of a slice from a DataFrame.\n",
      "Try using .loc[row_indexer,col_indexer] = value instead\n",
      "\n",
      "See the caveats in the documentation: https://pandas.pydata.org/pandas-docs/stable/user_guide/indexing.html#returning-a-view-versus-a-copy\n",
      "  current_data['Date'] = current_data.index\n"
     ]
    },
    {
     "name": "stdout",
     "output_type": "stream",
     "text": [
      "shape of current_data2 is (520, 59)\n",
      "shape of df4 is (460, 3541)\n",
      "Completed 128 out of 462 steps\n",
      "the main data is of shape (542, 2)\n"
     ]
    },
    {
     "name": "stderr",
     "output_type": "stream",
     "text": [
      "C:\\Users\\abhij\\AppData\\Local\\Temp\\ipykernel_16868\\3215059801.py:16: SettingWithCopyWarning: \n",
      "A value is trying to be set on a copy of a slice from a DataFrame.\n",
      "Try using .loc[row_indexer,col_indexer] = value instead\n",
      "\n",
      "See the caveats in the documentation: https://pandas.pydata.org/pandas-docs/stable/user_guide/indexing.html#returning-a-view-versus-a-copy\n",
      "  current_data['Date'] = current_data.index\n"
     ]
    },
    {
     "name": "stdout",
     "output_type": "stream",
     "text": [
      "shape of current_data2 is (542, 59)\n",
      "shape of df4 is (482, 3541)\n",
      "Completed 129 out of 462 steps\n"
     ]
    },
    {
     "name": "stderr",
     "output_type": "stream",
     "text": [
      "C:\\Users\\abhij\\AppData\\Local\\Temp\\ipykernel_16868\\3215059801.py:16: SettingWithCopyWarning: \n",
      "A value is trying to be set on a copy of a slice from a DataFrame.\n",
      "Try using .loc[row_indexer,col_indexer] = value instead\n",
      "\n",
      "See the caveats in the documentation: https://pandas.pydata.org/pandas-docs/stable/user_guide/indexing.html#returning-a-view-versus-a-copy\n",
      "  current_data['Date'] = current_data.index\n"
     ]
    },
    {
     "name": "stdout",
     "output_type": "stream",
     "text": [
      "the main data is of shape (542, 2)\n",
      "shape of current_data2 is (542, 59)\n",
      "shape of df4 is (482, 3541)\n",
      "Completed 130 out of 462 steps\n",
      "the main data is of shape (542, 2)\n"
     ]
    },
    {
     "name": "stderr",
     "output_type": "stream",
     "text": [
      "C:\\Users\\abhij\\AppData\\Local\\Temp\\ipykernel_16868\\3215059801.py:16: SettingWithCopyWarning: \n",
      "A value is trying to be set on a copy of a slice from a DataFrame.\n",
      "Try using .loc[row_indexer,col_indexer] = value instead\n",
      "\n",
      "See the caveats in the documentation: https://pandas.pydata.org/pandas-docs/stable/user_guide/indexing.html#returning-a-view-versus-a-copy\n",
      "  current_data['Date'] = current_data.index\n"
     ]
    },
    {
     "name": "stdout",
     "output_type": "stream",
     "text": [
      "shape of current_data2 is (542, 59)\n",
      "shape of df4 is (482, 3541)\n",
      "Completed 131 out of 462 steps\n",
      "the main data is of shape (542, 2)\n"
     ]
    },
    {
     "name": "stderr",
     "output_type": "stream",
     "text": [
      "C:\\Users\\abhij\\AppData\\Local\\Temp\\ipykernel_16868\\3215059801.py:16: SettingWithCopyWarning: \n",
      "A value is trying to be set on a copy of a slice from a DataFrame.\n",
      "Try using .loc[row_indexer,col_indexer] = value instead\n",
      "\n",
      "See the caveats in the documentation: https://pandas.pydata.org/pandas-docs/stable/user_guide/indexing.html#returning-a-view-versus-a-copy\n",
      "  current_data['Date'] = current_data.index\n"
     ]
    },
    {
     "name": "stdout",
     "output_type": "stream",
     "text": [
      "shape of current_data2 is (542, 59)\n",
      "shape of df4 is (482, 3541)\n",
      "Completed 132 out of 462 steps\n",
      "the main data is of shape (542, 2)\n"
     ]
    },
    {
     "name": "stderr",
     "output_type": "stream",
     "text": [
      "C:\\Users\\abhij\\AppData\\Local\\Temp\\ipykernel_16868\\3215059801.py:16: SettingWithCopyWarning: \n",
      "A value is trying to be set on a copy of a slice from a DataFrame.\n",
      "Try using .loc[row_indexer,col_indexer] = value instead\n",
      "\n",
      "See the caveats in the documentation: https://pandas.pydata.org/pandas-docs/stable/user_guide/indexing.html#returning-a-view-versus-a-copy\n",
      "  current_data['Date'] = current_data.index\n"
     ]
    },
    {
     "name": "stdout",
     "output_type": "stream",
     "text": [
      "shape of current_data2 is (542, 59)\n",
      "shape of df4 is (482, 3541)\n",
      "Completed 133 out of 462 steps\n"
     ]
    },
    {
     "name": "stderr",
     "output_type": "stream",
     "text": [
      "C:\\Users\\abhij\\AppData\\Local\\Temp\\ipykernel_16868\\3215059801.py:16: SettingWithCopyWarning: \n",
      "A value is trying to be set on a copy of a slice from a DataFrame.\n",
      "Try using .loc[row_indexer,col_indexer] = value instead\n",
      "\n",
      "See the caveats in the documentation: https://pandas.pydata.org/pandas-docs/stable/user_guide/indexing.html#returning-a-view-versus-a-copy\n",
      "  current_data['Date'] = current_data.index\n"
     ]
    },
    {
     "name": "stdout",
     "output_type": "stream",
     "text": [
      "the main data is of shape (542, 2)\n",
      "shape of current_data2 is (542, 59)\n",
      "shape of df4 is (482, 3541)\n",
      "Completed 134 out of 462 steps\n",
      "the main data is of shape (542, 2)\n"
     ]
    },
    {
     "name": "stderr",
     "output_type": "stream",
     "text": [
      "C:\\Users\\abhij\\AppData\\Local\\Temp\\ipykernel_16868\\3215059801.py:16: SettingWithCopyWarning: \n",
      "A value is trying to be set on a copy of a slice from a DataFrame.\n",
      "Try using .loc[row_indexer,col_indexer] = value instead\n",
      "\n",
      "See the caveats in the documentation: https://pandas.pydata.org/pandas-docs/stable/user_guide/indexing.html#returning-a-view-versus-a-copy\n",
      "  current_data['Date'] = current_data.index\n"
     ]
    },
    {
     "name": "stdout",
     "output_type": "stream",
     "text": [
      "shape of current_data2 is (542, 59)\n",
      "shape of df4 is (482, 3541)\n",
      "Completed 135 out of 462 steps\n",
      "the main data is of shape (542, 2)\n"
     ]
    },
    {
     "name": "stderr",
     "output_type": "stream",
     "text": [
      "C:\\Users\\abhij\\AppData\\Local\\Temp\\ipykernel_16868\\3215059801.py:16: SettingWithCopyWarning: \n",
      "A value is trying to be set on a copy of a slice from a DataFrame.\n",
      "Try using .loc[row_indexer,col_indexer] = value instead\n",
      "\n",
      "See the caveats in the documentation: https://pandas.pydata.org/pandas-docs/stable/user_guide/indexing.html#returning-a-view-versus-a-copy\n",
      "  current_data['Date'] = current_data.index\n"
     ]
    },
    {
     "name": "stdout",
     "output_type": "stream",
     "text": [
      "shape of current_data2 is (542, 59)\n",
      "shape of df4 is (482, 3541)\n",
      "Completed 136 out of 462 steps\n",
      "the main data is of shape (542, 2)\n"
     ]
    },
    {
     "name": "stderr",
     "output_type": "stream",
     "text": [
      "C:\\Users\\abhij\\AppData\\Local\\Temp\\ipykernel_16868\\3215059801.py:16: SettingWithCopyWarning: \n",
      "A value is trying to be set on a copy of a slice from a DataFrame.\n",
      "Try using .loc[row_indexer,col_indexer] = value instead\n",
      "\n",
      "See the caveats in the documentation: https://pandas.pydata.org/pandas-docs/stable/user_guide/indexing.html#returning-a-view-versus-a-copy\n",
      "  current_data['Date'] = current_data.index\n"
     ]
    },
    {
     "name": "stdout",
     "output_type": "stream",
     "text": [
      "shape of current_data2 is (542, 59)\n",
      "shape of df4 is (482, 3541)\n",
      "Completed 137 out of 462 steps\n",
      "the main data is of shape (542, 2)\n"
     ]
    },
    {
     "name": "stderr",
     "output_type": "stream",
     "text": [
      "C:\\Users\\abhij\\AppData\\Local\\Temp\\ipykernel_16868\\3215059801.py:16: SettingWithCopyWarning: \n",
      "A value is trying to be set on a copy of a slice from a DataFrame.\n",
      "Try using .loc[row_indexer,col_indexer] = value instead\n",
      "\n",
      "See the caveats in the documentation: https://pandas.pydata.org/pandas-docs/stable/user_guide/indexing.html#returning-a-view-versus-a-copy\n",
      "  current_data['Date'] = current_data.index\n"
     ]
    },
    {
     "name": "stdout",
     "output_type": "stream",
     "text": [
      "shape of current_data2 is (542, 59)\n",
      "shape of df4 is (482, 3541)\n",
      "Completed 138 out of 462 steps\n",
      "the main data is of shape (542, 2)\n"
     ]
    },
    {
     "name": "stderr",
     "output_type": "stream",
     "text": [
      "C:\\Users\\abhij\\AppData\\Local\\Temp\\ipykernel_16868\\3215059801.py:16: SettingWithCopyWarning: \n",
      "A value is trying to be set on a copy of a slice from a DataFrame.\n",
      "Try using .loc[row_indexer,col_indexer] = value instead\n",
      "\n",
      "See the caveats in the documentation: https://pandas.pydata.org/pandas-docs/stable/user_guide/indexing.html#returning-a-view-versus-a-copy\n",
      "  current_data['Date'] = current_data.index\n"
     ]
    },
    {
     "name": "stdout",
     "output_type": "stream",
     "text": [
      "shape of current_data2 is (542, 59)\n",
      "shape of df4 is (482, 3541)\n",
      "Completed 139 out of 462 steps\n"
     ]
    },
    {
     "name": "stderr",
     "output_type": "stream",
     "text": [
      "C:\\Users\\abhij\\AppData\\Local\\Temp\\ipykernel_16868\\3215059801.py:16: SettingWithCopyWarning: \n",
      "A value is trying to be set on a copy of a slice from a DataFrame.\n",
      "Try using .loc[row_indexer,col_indexer] = value instead\n",
      "\n",
      "See the caveats in the documentation: https://pandas.pydata.org/pandas-docs/stable/user_guide/indexing.html#returning-a-view-versus-a-copy\n",
      "  current_data['Date'] = current_data.index\n"
     ]
    },
    {
     "name": "stdout",
     "output_type": "stream",
     "text": [
      "the main data is of shape (542, 2)\n",
      "shape of current_data2 is (542, 59)\n",
      "shape of df4 is (482, 3541)\n",
      "Completed 140 out of 462 steps\n",
      "the main data is of shape (542, 2)\n"
     ]
    },
    {
     "name": "stderr",
     "output_type": "stream",
     "text": [
      "C:\\Users\\abhij\\AppData\\Local\\Temp\\ipykernel_16868\\3215059801.py:16: SettingWithCopyWarning: \n",
      "A value is trying to be set on a copy of a slice from a DataFrame.\n",
      "Try using .loc[row_indexer,col_indexer] = value instead\n",
      "\n",
      "See the caveats in the documentation: https://pandas.pydata.org/pandas-docs/stable/user_guide/indexing.html#returning-a-view-versus-a-copy\n",
      "  current_data['Date'] = current_data.index\n"
     ]
    },
    {
     "name": "stdout",
     "output_type": "stream",
     "text": [
      "shape of current_data2 is (542, 59)\n",
      "shape of df4 is (482, 3541)\n",
      "Completed 141 out of 462 steps\n",
      "the main data is of shape (542, 2)\n"
     ]
    },
    {
     "name": "stderr",
     "output_type": "stream",
     "text": [
      "C:\\Users\\abhij\\AppData\\Local\\Temp\\ipykernel_16868\\3215059801.py:16: SettingWithCopyWarning: \n",
      "A value is trying to be set on a copy of a slice from a DataFrame.\n",
      "Try using .loc[row_indexer,col_indexer] = value instead\n",
      "\n",
      "See the caveats in the documentation: https://pandas.pydata.org/pandas-docs/stable/user_guide/indexing.html#returning-a-view-versus-a-copy\n",
      "  current_data['Date'] = current_data.index\n"
     ]
    },
    {
     "name": "stdout",
     "output_type": "stream",
     "text": [
      "shape of current_data2 is (542, 59)\n",
      "shape of df4 is (482, 3541)\n",
      "Completed 142 out of 462 steps\n",
      "the main data is of shape (542, 2)\n"
     ]
    },
    {
     "name": "stderr",
     "output_type": "stream",
     "text": [
      "C:\\Users\\abhij\\AppData\\Local\\Temp\\ipykernel_16868\\3215059801.py:16: SettingWithCopyWarning: \n",
      "A value is trying to be set on a copy of a slice from a DataFrame.\n",
      "Try using .loc[row_indexer,col_indexer] = value instead\n",
      "\n",
      "See the caveats in the documentation: https://pandas.pydata.org/pandas-docs/stable/user_guide/indexing.html#returning-a-view-versus-a-copy\n",
      "  current_data['Date'] = current_data.index\n"
     ]
    },
    {
     "name": "stdout",
     "output_type": "stream",
     "text": [
      "shape of current_data2 is (542, 59)\n",
      "shape of df4 is (482, 3541)\n",
      "Completed 143 out of 462 steps\n"
     ]
    },
    {
     "name": "stderr",
     "output_type": "stream",
     "text": [
      "C:\\Users\\abhij\\AppData\\Local\\Temp\\ipykernel_16868\\3215059801.py:16: SettingWithCopyWarning: \n",
      "A value is trying to be set on a copy of a slice from a DataFrame.\n",
      "Try using .loc[row_indexer,col_indexer] = value instead\n",
      "\n",
      "See the caveats in the documentation: https://pandas.pydata.org/pandas-docs/stable/user_guide/indexing.html#returning-a-view-versus-a-copy\n",
      "  current_data['Date'] = current_data.index\n"
     ]
    },
    {
     "name": "stdout",
     "output_type": "stream",
     "text": [
      "the main data is of shape (542, 2)\n",
      "shape of current_data2 is (542, 59)\n",
      "shape of df4 is (482, 3541)\n",
      "Completed 144 out of 462 steps\n"
     ]
    },
    {
     "name": "stderr",
     "output_type": "stream",
     "text": [
      "C:\\Users\\abhij\\AppData\\Local\\Temp\\ipykernel_16868\\3215059801.py:16: SettingWithCopyWarning: \n",
      "A value is trying to be set on a copy of a slice from a DataFrame.\n",
      "Try using .loc[row_indexer,col_indexer] = value instead\n",
      "\n",
      "See the caveats in the documentation: https://pandas.pydata.org/pandas-docs/stable/user_guide/indexing.html#returning-a-view-versus-a-copy\n",
      "  current_data['Date'] = current_data.index\n"
     ]
    },
    {
     "name": "stdout",
     "output_type": "stream",
     "text": [
      "the main data is of shape (542, 2)\n",
      "shape of current_data2 is (542, 59)\n",
      "shape of df4 is (482, 3541)\n",
      "Completed 145 out of 462 steps\n",
      "the main data is of shape (542, 2)\n",
      "shape of current_data2 is (542, 59)\n"
     ]
    },
    {
     "name": "stderr",
     "output_type": "stream",
     "text": [
      "C:\\Users\\abhij\\AppData\\Local\\Temp\\ipykernel_16868\\3215059801.py:16: SettingWithCopyWarning: \n",
      "A value is trying to be set on a copy of a slice from a DataFrame.\n",
      "Try using .loc[row_indexer,col_indexer] = value instead\n",
      "\n",
      "See the caveats in the documentation: https://pandas.pydata.org/pandas-docs/stable/user_guide/indexing.html#returning-a-view-versus-a-copy\n",
      "  current_data['Date'] = current_data.index\n"
     ]
    },
    {
     "name": "stdout",
     "output_type": "stream",
     "text": [
      "shape of df4 is (482, 3541)\n",
      "Completed 146 out of 462 steps\n",
      "the main data is of shape (542, 2)\n"
     ]
    },
    {
     "name": "stderr",
     "output_type": "stream",
     "text": [
      "C:\\Users\\abhij\\AppData\\Local\\Temp\\ipykernel_16868\\3215059801.py:16: SettingWithCopyWarning: \n",
      "A value is trying to be set on a copy of a slice from a DataFrame.\n",
      "Try using .loc[row_indexer,col_indexer] = value instead\n",
      "\n",
      "See the caveats in the documentation: https://pandas.pydata.org/pandas-docs/stable/user_guide/indexing.html#returning-a-view-versus-a-copy\n",
      "  current_data['Date'] = current_data.index\n"
     ]
    },
    {
     "name": "stdout",
     "output_type": "stream",
     "text": [
      "shape of current_data2 is (542, 59)\n",
      "shape of df4 is (482, 3541)\n",
      "Completed 147 out of 462 steps\n",
      "the main data is of shape (542, 2)\n"
     ]
    },
    {
     "name": "stderr",
     "output_type": "stream",
     "text": [
      "C:\\Users\\abhij\\AppData\\Local\\Temp\\ipykernel_16868\\3215059801.py:16: SettingWithCopyWarning: \n",
      "A value is trying to be set on a copy of a slice from a DataFrame.\n",
      "Try using .loc[row_indexer,col_indexer] = value instead\n",
      "\n",
      "See the caveats in the documentation: https://pandas.pydata.org/pandas-docs/stable/user_guide/indexing.html#returning-a-view-versus-a-copy\n",
      "  current_data['Date'] = current_data.index\n"
     ]
    },
    {
     "name": "stdout",
     "output_type": "stream",
     "text": [
      "shape of current_data2 is (542, 59)\n",
      "shape of df4 is (482, 3541)\n",
      "Completed 148 out of 462 steps\n",
      "the main data is of shape (542, 2)\n",
      "shape of current_data2 is (542, 59)\n"
     ]
    },
    {
     "name": "stderr",
     "output_type": "stream",
     "text": [
      "C:\\Users\\abhij\\AppData\\Local\\Temp\\ipykernel_16868\\3215059801.py:16: SettingWithCopyWarning: \n",
      "A value is trying to be set on a copy of a slice from a DataFrame.\n",
      "Try using .loc[row_indexer,col_indexer] = value instead\n",
      "\n",
      "See the caveats in the documentation: https://pandas.pydata.org/pandas-docs/stable/user_guide/indexing.html#returning-a-view-versus-a-copy\n",
      "  current_data['Date'] = current_data.index\n"
     ]
    },
    {
     "name": "stdout",
     "output_type": "stream",
     "text": [
      "shape of df4 is (482, 3541)\n",
      "Completed 149 out of 462 steps\n",
      "the main data is of shape (542, 2)\n"
     ]
    },
    {
     "name": "stderr",
     "output_type": "stream",
     "text": [
      "C:\\Users\\abhij\\AppData\\Local\\Temp\\ipykernel_16868\\3215059801.py:16: SettingWithCopyWarning: \n",
      "A value is trying to be set on a copy of a slice from a DataFrame.\n",
      "Try using .loc[row_indexer,col_indexer] = value instead\n",
      "\n",
      "See the caveats in the documentation: https://pandas.pydata.org/pandas-docs/stable/user_guide/indexing.html#returning-a-view-versus-a-copy\n",
      "  current_data['Date'] = current_data.index\n"
     ]
    },
    {
     "name": "stdout",
     "output_type": "stream",
     "text": [
      "shape of current_data2 is (542, 59)\n",
      "shape of df4 is (482, 3541)\n",
      "Completed 150 out of 462 steps\n",
      "the main data is of shape (542, 2)\n",
      "shape of current_data2 is (542, 59)\n"
     ]
    },
    {
     "name": "stderr",
     "output_type": "stream",
     "text": [
      "C:\\Users\\abhij\\AppData\\Local\\Temp\\ipykernel_16868\\3215059801.py:16: SettingWithCopyWarning: \n",
      "A value is trying to be set on a copy of a slice from a DataFrame.\n",
      "Try using .loc[row_indexer,col_indexer] = value instead\n",
      "\n",
      "See the caveats in the documentation: https://pandas.pydata.org/pandas-docs/stable/user_guide/indexing.html#returning-a-view-versus-a-copy\n",
      "  current_data['Date'] = current_data.index\n"
     ]
    },
    {
     "name": "stdout",
     "output_type": "stream",
     "text": [
      "shape of df4 is (482, 3541)\n",
      "Completed 151 out of 462 steps\n"
     ]
    },
    {
     "name": "stderr",
     "output_type": "stream",
     "text": [
      "C:\\Users\\abhij\\AppData\\Local\\Temp\\ipykernel_16868\\3215059801.py:16: SettingWithCopyWarning: \n",
      "A value is trying to be set on a copy of a slice from a DataFrame.\n",
      "Try using .loc[row_indexer,col_indexer] = value instead\n",
      "\n",
      "See the caveats in the documentation: https://pandas.pydata.org/pandas-docs/stable/user_guide/indexing.html#returning-a-view-versus-a-copy\n",
      "  current_data['Date'] = current_data.index\n"
     ]
    },
    {
     "name": "stdout",
     "output_type": "stream",
     "text": [
      "the main data is of shape (542, 2)\n",
      "shape of current_data2 is (542, 59)\n",
      "shape of df4 is (482, 3541)\n",
      "Completed 152 out of 462 steps\n",
      "the main data is of shape (542, 2)\n",
      "shape of current_data2 is (542, 59)\n"
     ]
    },
    {
     "name": "stderr",
     "output_type": "stream",
     "text": [
      "C:\\Users\\abhij\\AppData\\Local\\Temp\\ipykernel_16868\\3215059801.py:16: SettingWithCopyWarning: \n",
      "A value is trying to be set on a copy of a slice from a DataFrame.\n",
      "Try using .loc[row_indexer,col_indexer] = value instead\n",
      "\n",
      "See the caveats in the documentation: https://pandas.pydata.org/pandas-docs/stable/user_guide/indexing.html#returning-a-view-versus-a-copy\n",
      "  current_data['Date'] = current_data.index\n"
     ]
    },
    {
     "name": "stdout",
     "output_type": "stream",
     "text": [
      "shape of df4 is (482, 3541)\n",
      "Completed 153 out of 462 steps\n",
      "the main data is of shape (542, 2)\n",
      "shape of current_data2 is (542, 59)\n"
     ]
    },
    {
     "name": "stderr",
     "output_type": "stream",
     "text": [
      "C:\\Users\\abhij\\AppData\\Local\\Temp\\ipykernel_16868\\3215059801.py:16: SettingWithCopyWarning: \n",
      "A value is trying to be set on a copy of a slice from a DataFrame.\n",
      "Try using .loc[row_indexer,col_indexer] = value instead\n",
      "\n",
      "See the caveats in the documentation: https://pandas.pydata.org/pandas-docs/stable/user_guide/indexing.html#returning-a-view-versus-a-copy\n",
      "  current_data['Date'] = current_data.index\n"
     ]
    },
    {
     "name": "stdout",
     "output_type": "stream",
     "text": [
      "shape of df4 is (482, 3541)\n",
      "Completed 154 out of 462 steps\n",
      "the main data is of shape (542, 2)\n",
      "shape of current_data2 is (542, 59)\n"
     ]
    },
    {
     "name": "stderr",
     "output_type": "stream",
     "text": [
      "C:\\Users\\abhij\\AppData\\Local\\Temp\\ipykernel_16868\\3215059801.py:16: SettingWithCopyWarning: \n",
      "A value is trying to be set on a copy of a slice from a DataFrame.\n",
      "Try using .loc[row_indexer,col_indexer] = value instead\n",
      "\n",
      "See the caveats in the documentation: https://pandas.pydata.org/pandas-docs/stable/user_guide/indexing.html#returning-a-view-versus-a-copy\n",
      "  current_data['Date'] = current_data.index\n"
     ]
    },
    {
     "name": "stdout",
     "output_type": "stream",
     "text": [
      "shape of df4 is (482, 3541)\n",
      "Completed 155 out of 462 steps\n",
      "the main data is of shape (542, 2)\n",
      "shape of current_data2 is (542, 59)\n"
     ]
    },
    {
     "name": "stderr",
     "output_type": "stream",
     "text": [
      "C:\\Users\\abhij\\AppData\\Local\\Temp\\ipykernel_16868\\3215059801.py:16: SettingWithCopyWarning: \n",
      "A value is trying to be set on a copy of a slice from a DataFrame.\n",
      "Try using .loc[row_indexer,col_indexer] = value instead\n",
      "\n",
      "See the caveats in the documentation: https://pandas.pydata.org/pandas-docs/stable/user_guide/indexing.html#returning-a-view-versus-a-copy\n",
      "  current_data['Date'] = current_data.index\n"
     ]
    },
    {
     "name": "stdout",
     "output_type": "stream",
     "text": [
      "shape of df4 is (482, 3541)\n",
      "Completed 156 out of 462 steps\n",
      "the main data is of shape (542, 2)\n",
      "shape of current_data2 is (542, 59)\n"
     ]
    },
    {
     "name": "stderr",
     "output_type": "stream",
     "text": [
      "C:\\Users\\abhij\\AppData\\Local\\Temp\\ipykernel_16868\\3215059801.py:16: SettingWithCopyWarning: \n",
      "A value is trying to be set on a copy of a slice from a DataFrame.\n",
      "Try using .loc[row_indexer,col_indexer] = value instead\n",
      "\n",
      "See the caveats in the documentation: https://pandas.pydata.org/pandas-docs/stable/user_guide/indexing.html#returning-a-view-versus-a-copy\n",
      "  current_data['Date'] = current_data.index\n"
     ]
    },
    {
     "name": "stdout",
     "output_type": "stream",
     "text": [
      "shape of df4 is (482, 3541)\n",
      "Completed 157 out of 462 steps\n",
      "the main data is of shape (542, 2)\n",
      "shape of current_data2 is (542, 59)\n"
     ]
    },
    {
     "name": "stderr",
     "output_type": "stream",
     "text": [
      "C:\\Users\\abhij\\AppData\\Local\\Temp\\ipykernel_16868\\3215059801.py:16: SettingWithCopyWarning: \n",
      "A value is trying to be set on a copy of a slice from a DataFrame.\n",
      "Try using .loc[row_indexer,col_indexer] = value instead\n",
      "\n",
      "See the caveats in the documentation: https://pandas.pydata.org/pandas-docs/stable/user_guide/indexing.html#returning-a-view-versus-a-copy\n",
      "  current_data['Date'] = current_data.index\n"
     ]
    },
    {
     "name": "stdout",
     "output_type": "stream",
     "text": [
      "shape of df4 is (482, 3541)\n",
      "Completed 158 out of 462 steps\n",
      "the main data is of shape (542, 2)\n",
      "shape of current_data2 is (542, 59)\n"
     ]
    },
    {
     "name": "stderr",
     "output_type": "stream",
     "text": [
      "C:\\Users\\abhij\\AppData\\Local\\Temp\\ipykernel_16868\\3215059801.py:16: SettingWithCopyWarning: \n",
      "A value is trying to be set on a copy of a slice from a DataFrame.\n",
      "Try using .loc[row_indexer,col_indexer] = value instead\n",
      "\n",
      "See the caveats in the documentation: https://pandas.pydata.org/pandas-docs/stable/user_guide/indexing.html#returning-a-view-versus-a-copy\n",
      "  current_data['Date'] = current_data.index\n"
     ]
    },
    {
     "name": "stdout",
     "output_type": "stream",
     "text": [
      "shape of df4 is (482, 3541)\n",
      "Completed 159 out of 462 steps\n",
      "the main data is of shape (542, 2)\n",
      "shape of current_data2 is (542, 59)\n"
     ]
    },
    {
     "name": "stderr",
     "output_type": "stream",
     "text": [
      "C:\\Users\\abhij\\AppData\\Local\\Temp\\ipykernel_16868\\3215059801.py:16: SettingWithCopyWarning: \n",
      "A value is trying to be set on a copy of a slice from a DataFrame.\n",
      "Try using .loc[row_indexer,col_indexer] = value instead\n",
      "\n",
      "See the caveats in the documentation: https://pandas.pydata.org/pandas-docs/stable/user_guide/indexing.html#returning-a-view-versus-a-copy\n",
      "  current_data['Date'] = current_data.index\n"
     ]
    },
    {
     "name": "stdout",
     "output_type": "stream",
     "text": [
      "shape of df4 is (482, 3541)\n",
      "Completed 160 out of 462 steps\n",
      "the main data is of shape (542, 2)\n",
      "shape of current_data2 is (542, 59)\n"
     ]
    },
    {
     "name": "stderr",
     "output_type": "stream",
     "text": [
      "C:\\Users\\abhij\\AppData\\Local\\Temp\\ipykernel_16868\\3215059801.py:16: SettingWithCopyWarning: \n",
      "A value is trying to be set on a copy of a slice from a DataFrame.\n",
      "Try using .loc[row_indexer,col_indexer] = value instead\n",
      "\n",
      "See the caveats in the documentation: https://pandas.pydata.org/pandas-docs/stable/user_guide/indexing.html#returning-a-view-versus-a-copy\n",
      "  current_data['Date'] = current_data.index\n"
     ]
    },
    {
     "name": "stdout",
     "output_type": "stream",
     "text": [
      "shape of df4 is (482, 3541)\n",
      "Completed 161 out of 462 steps\n",
      "the main data is of shape (542, 2)\n",
      "shape of current_data2 is (542, 59)\n"
     ]
    },
    {
     "name": "stderr",
     "output_type": "stream",
     "text": [
      "C:\\Users\\abhij\\AppData\\Local\\Temp\\ipykernel_16868\\3215059801.py:16: SettingWithCopyWarning: \n",
      "A value is trying to be set on a copy of a slice from a DataFrame.\n",
      "Try using .loc[row_indexer,col_indexer] = value instead\n",
      "\n",
      "See the caveats in the documentation: https://pandas.pydata.org/pandas-docs/stable/user_guide/indexing.html#returning-a-view-versus-a-copy\n",
      "  current_data['Date'] = current_data.index\n"
     ]
    },
    {
     "name": "stdout",
     "output_type": "stream",
     "text": [
      "shape of df4 is (482, 3541)\n",
      "Completed 162 out of 462 steps\n",
      "the main data is of shape (542, 2)\n",
      "shape of current_data2 is (542, 59)\n"
     ]
    },
    {
     "name": "stderr",
     "output_type": "stream",
     "text": [
      "C:\\Users\\abhij\\AppData\\Local\\Temp\\ipykernel_16868\\3215059801.py:16: SettingWithCopyWarning: \n",
      "A value is trying to be set on a copy of a slice from a DataFrame.\n",
      "Try using .loc[row_indexer,col_indexer] = value instead\n",
      "\n",
      "See the caveats in the documentation: https://pandas.pydata.org/pandas-docs/stable/user_guide/indexing.html#returning-a-view-versus-a-copy\n",
      "  current_data['Date'] = current_data.index\n"
     ]
    },
    {
     "name": "stdout",
     "output_type": "stream",
     "text": [
      "shape of df4 is (482, 3541)\n",
      "Completed 163 out of 462 steps\n",
      "the main data is of shape (542, 2)\n",
      "shape of current_data2 is (542, 59)\n"
     ]
    },
    {
     "name": "stderr",
     "output_type": "stream",
     "text": [
      "C:\\Users\\abhij\\AppData\\Local\\Temp\\ipykernel_16868\\3215059801.py:16: SettingWithCopyWarning: \n",
      "A value is trying to be set on a copy of a slice from a DataFrame.\n",
      "Try using .loc[row_indexer,col_indexer] = value instead\n",
      "\n",
      "See the caveats in the documentation: https://pandas.pydata.org/pandas-docs/stable/user_guide/indexing.html#returning-a-view-versus-a-copy\n",
      "  current_data['Date'] = current_data.index\n"
     ]
    },
    {
     "name": "stdout",
     "output_type": "stream",
     "text": [
      "shape of df4 is (482, 3541)\n",
      "Completed 164 out of 462 steps\n",
      "the main data is of shape (542, 2)\n",
      "shape of current_data2 is (542, 59)\n"
     ]
    },
    {
     "name": "stderr",
     "output_type": "stream",
     "text": [
      "C:\\Users\\abhij\\AppData\\Local\\Temp\\ipykernel_16868\\3215059801.py:16: SettingWithCopyWarning: \n",
      "A value is trying to be set on a copy of a slice from a DataFrame.\n",
      "Try using .loc[row_indexer,col_indexer] = value instead\n",
      "\n",
      "See the caveats in the documentation: https://pandas.pydata.org/pandas-docs/stable/user_guide/indexing.html#returning-a-view-versus-a-copy\n",
      "  current_data['Date'] = current_data.index\n"
     ]
    },
    {
     "name": "stdout",
     "output_type": "stream",
     "text": [
      "shape of df4 is (482, 3541)\n",
      "Completed 165 out of 462 steps\n",
      "the main data is of shape (542, 2)\n",
      "shape of current_data2 is (542, 59)\n"
     ]
    },
    {
     "name": "stderr",
     "output_type": "stream",
     "text": [
      "C:\\Users\\abhij\\AppData\\Local\\Temp\\ipykernel_16868\\3215059801.py:16: SettingWithCopyWarning: \n",
      "A value is trying to be set on a copy of a slice from a DataFrame.\n",
      "Try using .loc[row_indexer,col_indexer] = value instead\n",
      "\n",
      "See the caveats in the documentation: https://pandas.pydata.org/pandas-docs/stable/user_guide/indexing.html#returning-a-view-versus-a-copy\n",
      "  current_data['Date'] = current_data.index\n"
     ]
    },
    {
     "name": "stdout",
     "output_type": "stream",
     "text": [
      "shape of df4 is (482, 3541)\n",
      "Completed 166 out of 462 steps\n",
      "the main data is of shape (542, 2)\n",
      "shape of current_data2 is (542, 59)\n"
     ]
    },
    {
     "name": "stderr",
     "output_type": "stream",
     "text": [
      "C:\\Users\\abhij\\AppData\\Local\\Temp\\ipykernel_16868\\3215059801.py:16: SettingWithCopyWarning: \n",
      "A value is trying to be set on a copy of a slice from a DataFrame.\n",
      "Try using .loc[row_indexer,col_indexer] = value instead\n",
      "\n",
      "See the caveats in the documentation: https://pandas.pydata.org/pandas-docs/stable/user_guide/indexing.html#returning-a-view-versus-a-copy\n",
      "  current_data['Date'] = current_data.index\n"
     ]
    },
    {
     "name": "stdout",
     "output_type": "stream",
     "text": [
      "shape of df4 is (482, 3541)\n",
      "Completed 167 out of 462 steps\n",
      "the main data is of shape (542, 2)\n",
      "shape of current_data2 is (542, 59)\n"
     ]
    },
    {
     "name": "stderr",
     "output_type": "stream",
     "text": [
      "C:\\Users\\abhij\\AppData\\Local\\Temp\\ipykernel_16868\\3215059801.py:16: SettingWithCopyWarning: \n",
      "A value is trying to be set on a copy of a slice from a DataFrame.\n",
      "Try using .loc[row_indexer,col_indexer] = value instead\n",
      "\n",
      "See the caveats in the documentation: https://pandas.pydata.org/pandas-docs/stable/user_guide/indexing.html#returning-a-view-versus-a-copy\n",
      "  current_data['Date'] = current_data.index\n"
     ]
    },
    {
     "name": "stdout",
     "output_type": "stream",
     "text": [
      "shape of df4 is (482, 3541)\n",
      "Completed 168 out of 462 steps\n",
      "the main data is of shape (542, 2)\n",
      "shape of current_data2 is (542, 59)\n"
     ]
    },
    {
     "name": "stderr",
     "output_type": "stream",
     "text": [
      "C:\\Users\\abhij\\AppData\\Local\\Temp\\ipykernel_16868\\3215059801.py:16: SettingWithCopyWarning: \n",
      "A value is trying to be set on a copy of a slice from a DataFrame.\n",
      "Try using .loc[row_indexer,col_indexer] = value instead\n",
      "\n",
      "See the caveats in the documentation: https://pandas.pydata.org/pandas-docs/stable/user_guide/indexing.html#returning-a-view-versus-a-copy\n",
      "  current_data['Date'] = current_data.index\n"
     ]
    },
    {
     "name": "stdout",
     "output_type": "stream",
     "text": [
      "shape of df4 is (482, 3541)\n",
      "Completed 169 out of 462 steps\n",
      "the main data is of shape (542, 2)\n",
      "shape of current_data2 is (542, 59)\n"
     ]
    },
    {
     "name": "stderr",
     "output_type": "stream",
     "text": [
      "C:\\Users\\abhij\\AppData\\Local\\Temp\\ipykernel_16868\\3215059801.py:16: SettingWithCopyWarning: \n",
      "A value is trying to be set on a copy of a slice from a DataFrame.\n",
      "Try using .loc[row_indexer,col_indexer] = value instead\n",
      "\n",
      "See the caveats in the documentation: https://pandas.pydata.org/pandas-docs/stable/user_guide/indexing.html#returning-a-view-versus-a-copy\n",
      "  current_data['Date'] = current_data.index\n"
     ]
    },
    {
     "name": "stdout",
     "output_type": "stream",
     "text": [
      "shape of df4 is (482, 3541)\n",
      "Completed 170 out of 462 steps\n",
      "the main data is of shape (542, 2)\n",
      "shape of current_data2 is (542, 59)\n"
     ]
    },
    {
     "name": "stderr",
     "output_type": "stream",
     "text": [
      "C:\\Users\\abhij\\AppData\\Local\\Temp\\ipykernel_16868\\3215059801.py:16: SettingWithCopyWarning: \n",
      "A value is trying to be set on a copy of a slice from a DataFrame.\n",
      "Try using .loc[row_indexer,col_indexer] = value instead\n",
      "\n",
      "See the caveats in the documentation: https://pandas.pydata.org/pandas-docs/stable/user_guide/indexing.html#returning-a-view-versus-a-copy\n",
      "  current_data['Date'] = current_data.index\n"
     ]
    },
    {
     "name": "stdout",
     "output_type": "stream",
     "text": [
      "shape of df4 is (482, 3541)\n",
      "Completed 171 out of 462 steps\n",
      "the main data is of shape (542, 2)\n",
      "shape of current_data2 is (542, 59)\n"
     ]
    },
    {
     "name": "stderr",
     "output_type": "stream",
     "text": [
      "C:\\Users\\abhij\\AppData\\Local\\Temp\\ipykernel_16868\\3215059801.py:16: SettingWithCopyWarning: \n",
      "A value is trying to be set on a copy of a slice from a DataFrame.\n",
      "Try using .loc[row_indexer,col_indexer] = value instead\n",
      "\n",
      "See the caveats in the documentation: https://pandas.pydata.org/pandas-docs/stable/user_guide/indexing.html#returning-a-view-versus-a-copy\n",
      "  current_data['Date'] = current_data.index\n"
     ]
    },
    {
     "name": "stdout",
     "output_type": "stream",
     "text": [
      "shape of df4 is (482, 3541)\n",
      "Completed 172 out of 462 steps\n",
      "the main data is of shape (542, 2)\n",
      "shape of current_data2 is (542, 59)\n"
     ]
    },
    {
     "name": "stderr",
     "output_type": "stream",
     "text": [
      "C:\\Users\\abhij\\AppData\\Local\\Temp\\ipykernel_16868\\3215059801.py:16: SettingWithCopyWarning: \n",
      "A value is trying to be set on a copy of a slice from a DataFrame.\n",
      "Try using .loc[row_indexer,col_indexer] = value instead\n",
      "\n",
      "See the caveats in the documentation: https://pandas.pydata.org/pandas-docs/stable/user_guide/indexing.html#returning-a-view-versus-a-copy\n",
      "  current_data['Date'] = current_data.index\n"
     ]
    },
    {
     "name": "stdout",
     "output_type": "stream",
     "text": [
      "shape of df4 is (482, 3541)\n",
      "Completed 173 out of 462 steps\n",
      "the main data is of shape (542, 2)\n",
      "shape of current_data2 is (542, 59)\n"
     ]
    },
    {
     "name": "stderr",
     "output_type": "stream",
     "text": [
      "C:\\Users\\abhij\\AppData\\Local\\Temp\\ipykernel_16868\\3215059801.py:16: SettingWithCopyWarning: \n",
      "A value is trying to be set on a copy of a slice from a DataFrame.\n",
      "Try using .loc[row_indexer,col_indexer] = value instead\n",
      "\n",
      "See the caveats in the documentation: https://pandas.pydata.org/pandas-docs/stable/user_guide/indexing.html#returning-a-view-versus-a-copy\n",
      "  current_data['Date'] = current_data.index\n"
     ]
    },
    {
     "name": "stdout",
     "output_type": "stream",
     "text": [
      "shape of df4 is (482, 3541)\n",
      "Completed 174 out of 462 steps\n",
      "the main data is of shape (542, 2)\n",
      "shape of current_data2 is (542, 59)\n"
     ]
    },
    {
     "name": "stderr",
     "output_type": "stream",
     "text": [
      "C:\\Users\\abhij\\AppData\\Local\\Temp\\ipykernel_16868\\3215059801.py:16: SettingWithCopyWarning: \n",
      "A value is trying to be set on a copy of a slice from a DataFrame.\n",
      "Try using .loc[row_indexer,col_indexer] = value instead\n",
      "\n",
      "See the caveats in the documentation: https://pandas.pydata.org/pandas-docs/stable/user_guide/indexing.html#returning-a-view-versus-a-copy\n",
      "  current_data['Date'] = current_data.index\n"
     ]
    },
    {
     "name": "stdout",
     "output_type": "stream",
     "text": [
      "shape of df4 is (482, 3541)\n",
      "Completed 175 out of 462 steps\n",
      "the main data is of shape (542, 2)\n",
      "shape of current_data2 is (542, 59)\n"
     ]
    },
    {
     "name": "stderr",
     "output_type": "stream",
     "text": [
      "C:\\Users\\abhij\\AppData\\Local\\Temp\\ipykernel_16868\\3215059801.py:16: SettingWithCopyWarning: \n",
      "A value is trying to be set on a copy of a slice from a DataFrame.\n",
      "Try using .loc[row_indexer,col_indexer] = value instead\n",
      "\n",
      "See the caveats in the documentation: https://pandas.pydata.org/pandas-docs/stable/user_guide/indexing.html#returning-a-view-versus-a-copy\n",
      "  current_data['Date'] = current_data.index\n"
     ]
    },
    {
     "name": "stdout",
     "output_type": "stream",
     "text": [
      "shape of df4 is (482, 3541)\n",
      "Completed 176 out of 462 steps\n",
      "the main data is of shape (542, 2)\n",
      "shape of current_data2 is (542, 59)\n"
     ]
    },
    {
     "name": "stderr",
     "output_type": "stream",
     "text": [
      "C:\\Users\\abhij\\AppData\\Local\\Temp\\ipykernel_16868\\3215059801.py:16: SettingWithCopyWarning: \n",
      "A value is trying to be set on a copy of a slice from a DataFrame.\n",
      "Try using .loc[row_indexer,col_indexer] = value instead\n",
      "\n",
      "See the caveats in the documentation: https://pandas.pydata.org/pandas-docs/stable/user_guide/indexing.html#returning-a-view-versus-a-copy\n",
      "  current_data['Date'] = current_data.index\n"
     ]
    },
    {
     "name": "stdout",
     "output_type": "stream",
     "text": [
      "shape of df4 is (482, 3541)\n",
      "Completed 177 out of 462 steps\n",
      "the main data is of shape (542, 2)\n",
      "shape of current_data2 is (542, 59)\n"
     ]
    },
    {
     "name": "stderr",
     "output_type": "stream",
     "text": [
      "C:\\Users\\abhij\\AppData\\Local\\Temp\\ipykernel_16868\\3215059801.py:16: SettingWithCopyWarning: \n",
      "A value is trying to be set on a copy of a slice from a DataFrame.\n",
      "Try using .loc[row_indexer,col_indexer] = value instead\n",
      "\n",
      "See the caveats in the documentation: https://pandas.pydata.org/pandas-docs/stable/user_guide/indexing.html#returning-a-view-versus-a-copy\n",
      "  current_data['Date'] = current_data.index\n"
     ]
    },
    {
     "name": "stdout",
     "output_type": "stream",
     "text": [
      "shape of df4 is (482, 3541)\n",
      "Completed 178 out of 462 steps\n",
      "the main data is of shape (542, 2)\n",
      "shape of current_data2 is (542, 59)\n"
     ]
    },
    {
     "name": "stderr",
     "output_type": "stream",
     "text": [
      "C:\\Users\\abhij\\AppData\\Local\\Temp\\ipykernel_16868\\3215059801.py:16: SettingWithCopyWarning: \n",
      "A value is trying to be set on a copy of a slice from a DataFrame.\n",
      "Try using .loc[row_indexer,col_indexer] = value instead\n",
      "\n",
      "See the caveats in the documentation: https://pandas.pydata.org/pandas-docs/stable/user_guide/indexing.html#returning-a-view-versus-a-copy\n",
      "  current_data['Date'] = current_data.index\n"
     ]
    },
    {
     "name": "stdout",
     "output_type": "stream",
     "text": [
      "shape of df4 is (482, 3541)\n",
      "Completed 179 out of 462 steps\n",
      "the main data is of shape (538, 2)\n",
      "shape of current_data2 is (538, 59)\n"
     ]
    },
    {
     "name": "stderr",
     "output_type": "stream",
     "text": [
      "C:\\Users\\abhij\\AppData\\Local\\Temp\\ipykernel_16868\\3215059801.py:16: SettingWithCopyWarning: \n",
      "A value is trying to be set on a copy of a slice from a DataFrame.\n",
      "Try using .loc[row_indexer,col_indexer] = value instead\n",
      "\n",
      "See the caveats in the documentation: https://pandas.pydata.org/pandas-docs/stable/user_guide/indexing.html#returning-a-view-versus-a-copy\n",
      "  current_data['Date'] = current_data.index\n"
     ]
    },
    {
     "name": "stdout",
     "output_type": "stream",
     "text": [
      "shape of df4 is (478, 3541)\n",
      "Completed 180 out of 462 steps\n",
      "the main data is of shape (542, 2)\n",
      "shape of current_data2 is (542, 59)\n"
     ]
    },
    {
     "name": "stderr",
     "output_type": "stream",
     "text": [
      "C:\\Users\\abhij\\AppData\\Local\\Temp\\ipykernel_16868\\3215059801.py:16: SettingWithCopyWarning: \n",
      "A value is trying to be set on a copy of a slice from a DataFrame.\n",
      "Try using .loc[row_indexer,col_indexer] = value instead\n",
      "\n",
      "See the caveats in the documentation: https://pandas.pydata.org/pandas-docs/stable/user_guide/indexing.html#returning-a-view-versus-a-copy\n",
      "  current_data['Date'] = current_data.index\n"
     ]
    },
    {
     "name": "stdout",
     "output_type": "stream",
     "text": [
      "shape of df4 is (482, 3541)\n",
      "Completed 181 out of 462 steps\n",
      "the main data is of shape (542, 2)\n",
      "shape of current_data2 is (542, 59)\n"
     ]
    },
    {
     "name": "stderr",
     "output_type": "stream",
     "text": [
      "C:\\Users\\abhij\\AppData\\Local\\Temp\\ipykernel_16868\\3215059801.py:16: SettingWithCopyWarning: \n",
      "A value is trying to be set on a copy of a slice from a DataFrame.\n",
      "Try using .loc[row_indexer,col_indexer] = value instead\n",
      "\n",
      "See the caveats in the documentation: https://pandas.pydata.org/pandas-docs/stable/user_guide/indexing.html#returning-a-view-versus-a-copy\n",
      "  current_data['Date'] = current_data.index\n"
     ]
    },
    {
     "name": "stdout",
     "output_type": "stream",
     "text": [
      "shape of df4 is (482, 3541)\n",
      "Completed 182 out of 462 steps\n",
      "the main data is of shape (542, 2)\n",
      "shape of current_data2 is (542, 59)\n"
     ]
    },
    {
     "name": "stderr",
     "output_type": "stream",
     "text": [
      "C:\\Users\\abhij\\AppData\\Local\\Temp\\ipykernel_16868\\3215059801.py:16: SettingWithCopyWarning: \n",
      "A value is trying to be set on a copy of a slice from a DataFrame.\n",
      "Try using .loc[row_indexer,col_indexer] = value instead\n",
      "\n",
      "See the caveats in the documentation: https://pandas.pydata.org/pandas-docs/stable/user_guide/indexing.html#returning-a-view-versus-a-copy\n",
      "  current_data['Date'] = current_data.index\n"
     ]
    },
    {
     "name": "stdout",
     "output_type": "stream",
     "text": [
      "shape of df4 is (482, 3541)\n",
      "Completed 183 out of 462 steps\n",
      "the main data is of shape (542, 2)\n",
      "shape of current_data2 is (542, 59)\n"
     ]
    },
    {
     "name": "stderr",
     "output_type": "stream",
     "text": [
      "C:\\Users\\abhij\\AppData\\Local\\Temp\\ipykernel_16868\\3215059801.py:16: SettingWithCopyWarning: \n",
      "A value is trying to be set on a copy of a slice from a DataFrame.\n",
      "Try using .loc[row_indexer,col_indexer] = value instead\n",
      "\n",
      "See the caveats in the documentation: https://pandas.pydata.org/pandas-docs/stable/user_guide/indexing.html#returning-a-view-versus-a-copy\n",
      "  current_data['Date'] = current_data.index\n"
     ]
    },
    {
     "name": "stdout",
     "output_type": "stream",
     "text": [
      "shape of df4 is (482, 3541)\n",
      "Completed 184 out of 462 steps\n",
      "the main data is of shape (542, 2)\n",
      "shape of current_data2 is (542, 59)\n"
     ]
    },
    {
     "name": "stderr",
     "output_type": "stream",
     "text": [
      "C:\\Users\\abhij\\AppData\\Local\\Temp\\ipykernel_16868\\3215059801.py:16: SettingWithCopyWarning: \n",
      "A value is trying to be set on a copy of a slice from a DataFrame.\n",
      "Try using .loc[row_indexer,col_indexer] = value instead\n",
      "\n",
      "See the caveats in the documentation: https://pandas.pydata.org/pandas-docs/stable/user_guide/indexing.html#returning-a-view-versus-a-copy\n",
      "  current_data['Date'] = current_data.index\n"
     ]
    },
    {
     "name": "stdout",
     "output_type": "stream",
     "text": [
      "shape of df4 is (482, 3541)\n",
      "Completed 185 out of 462 steps\n",
      "the main data is of shape (542, 2)\n",
      "shape of current_data2 is (542, 59)\n"
     ]
    },
    {
     "name": "stderr",
     "output_type": "stream",
     "text": [
      "C:\\Users\\abhij\\AppData\\Local\\Temp\\ipykernel_16868\\3215059801.py:16: SettingWithCopyWarning: \n",
      "A value is trying to be set on a copy of a slice from a DataFrame.\n",
      "Try using .loc[row_indexer,col_indexer] = value instead\n",
      "\n",
      "See the caveats in the documentation: https://pandas.pydata.org/pandas-docs/stable/user_guide/indexing.html#returning-a-view-versus-a-copy\n",
      "  current_data['Date'] = current_data.index\n"
     ]
    },
    {
     "name": "stdout",
     "output_type": "stream",
     "text": [
      "shape of df4 is (482, 3541)\n",
      "Completed 186 out of 462 steps\n",
      "the main data is of shape (542, 2)\n",
      "shape of current_data2 is (542, 59)\n"
     ]
    },
    {
     "name": "stderr",
     "output_type": "stream",
     "text": [
      "C:\\Users\\abhij\\AppData\\Local\\Temp\\ipykernel_16868\\3215059801.py:16: SettingWithCopyWarning: \n",
      "A value is trying to be set on a copy of a slice from a DataFrame.\n",
      "Try using .loc[row_indexer,col_indexer] = value instead\n",
      "\n",
      "See the caveats in the documentation: https://pandas.pydata.org/pandas-docs/stable/user_guide/indexing.html#returning-a-view-versus-a-copy\n",
      "  current_data['Date'] = current_data.index\n"
     ]
    },
    {
     "name": "stdout",
     "output_type": "stream",
     "text": [
      "shape of df4 is (482, 3541)\n",
      "Completed 187 out of 462 steps\n",
      "the main data is of shape (542, 2)\n",
      "shape of current_data2 is (542, 59)\n"
     ]
    },
    {
     "name": "stderr",
     "output_type": "stream",
     "text": [
      "C:\\Users\\abhij\\AppData\\Local\\Temp\\ipykernel_16868\\3215059801.py:16: SettingWithCopyWarning: \n",
      "A value is trying to be set on a copy of a slice from a DataFrame.\n",
      "Try using .loc[row_indexer,col_indexer] = value instead\n",
      "\n",
      "See the caveats in the documentation: https://pandas.pydata.org/pandas-docs/stable/user_guide/indexing.html#returning-a-view-versus-a-copy\n",
      "  current_data['Date'] = current_data.index\n"
     ]
    },
    {
     "name": "stdout",
     "output_type": "stream",
     "text": [
      "shape of df4 is (482, 3541)\n",
      "Completed 188 out of 462 steps\n",
      "the main data is of shape (542, 2)\n",
      "shape of current_data2 is (542, 59)\n"
     ]
    },
    {
     "name": "stderr",
     "output_type": "stream",
     "text": [
      "C:\\Users\\abhij\\AppData\\Local\\Temp\\ipykernel_16868\\3215059801.py:16: SettingWithCopyWarning: \n",
      "A value is trying to be set on a copy of a slice from a DataFrame.\n",
      "Try using .loc[row_indexer,col_indexer] = value instead\n",
      "\n",
      "See the caveats in the documentation: https://pandas.pydata.org/pandas-docs/stable/user_guide/indexing.html#returning-a-view-versus-a-copy\n",
      "  current_data['Date'] = current_data.index\n"
     ]
    },
    {
     "name": "stdout",
     "output_type": "stream",
     "text": [
      "shape of df4 is (482, 3541)\n",
      "Completed 189 out of 462 steps\n",
      "the main data is of shape (542, 2)\n",
      "shape of current_data2 is (542, 59)\n"
     ]
    },
    {
     "name": "stderr",
     "output_type": "stream",
     "text": [
      "C:\\Users\\abhij\\AppData\\Local\\Temp\\ipykernel_16868\\3215059801.py:16: SettingWithCopyWarning: \n",
      "A value is trying to be set on a copy of a slice from a DataFrame.\n",
      "Try using .loc[row_indexer,col_indexer] = value instead\n",
      "\n",
      "See the caveats in the documentation: https://pandas.pydata.org/pandas-docs/stable/user_guide/indexing.html#returning-a-view-versus-a-copy\n",
      "  current_data['Date'] = current_data.index\n"
     ]
    },
    {
     "name": "stdout",
     "output_type": "stream",
     "text": [
      "shape of df4 is (482, 3541)\n",
      "Completed 190 out of 462 steps\n",
      "the main data is of shape (542, 2)\n",
      "shape of current_data2 is (542, 59)\n"
     ]
    },
    {
     "name": "stderr",
     "output_type": "stream",
     "text": [
      "C:\\Users\\abhij\\AppData\\Local\\Temp\\ipykernel_16868\\3215059801.py:16: SettingWithCopyWarning: \n",
      "A value is trying to be set on a copy of a slice from a DataFrame.\n",
      "Try using .loc[row_indexer,col_indexer] = value instead\n",
      "\n",
      "See the caveats in the documentation: https://pandas.pydata.org/pandas-docs/stable/user_guide/indexing.html#returning-a-view-versus-a-copy\n",
      "  current_data['Date'] = current_data.index\n"
     ]
    },
    {
     "name": "stdout",
     "output_type": "stream",
     "text": [
      "shape of df4 is (482, 3541)\n",
      "Completed 191 out of 462 steps\n",
      "the main data is of shape (542, 2)\n",
      "shape of current_data2 is (542, 59)\n"
     ]
    },
    {
     "name": "stderr",
     "output_type": "stream",
     "text": [
      "C:\\Users\\abhij\\AppData\\Local\\Temp\\ipykernel_16868\\3215059801.py:16: SettingWithCopyWarning: \n",
      "A value is trying to be set on a copy of a slice from a DataFrame.\n",
      "Try using .loc[row_indexer,col_indexer] = value instead\n",
      "\n",
      "See the caveats in the documentation: https://pandas.pydata.org/pandas-docs/stable/user_guide/indexing.html#returning-a-view-versus-a-copy\n",
      "  current_data['Date'] = current_data.index\n"
     ]
    },
    {
     "name": "stdout",
     "output_type": "stream",
     "text": [
      "shape of df4 is (482, 3541)\n",
      "Completed 192 out of 462 steps\n",
      "the main data is of shape (542, 2)\n",
      "shape of current_data2 is (542, 59)\n"
     ]
    },
    {
     "name": "stderr",
     "output_type": "stream",
     "text": [
      "C:\\Users\\abhij\\AppData\\Local\\Temp\\ipykernel_16868\\3215059801.py:16: SettingWithCopyWarning: \n",
      "A value is trying to be set on a copy of a slice from a DataFrame.\n",
      "Try using .loc[row_indexer,col_indexer] = value instead\n",
      "\n",
      "See the caveats in the documentation: https://pandas.pydata.org/pandas-docs/stable/user_guide/indexing.html#returning-a-view-versus-a-copy\n",
      "  current_data['Date'] = current_data.index\n"
     ]
    },
    {
     "name": "stdout",
     "output_type": "stream",
     "text": [
      "shape of df4 is (482, 3541)\n",
      "Completed 193 out of 462 steps\n",
      "the main data is of shape (542, 2)\n",
      "shape of current_data2 is (542, 59)\n"
     ]
    },
    {
     "name": "stderr",
     "output_type": "stream",
     "text": [
      "C:\\Users\\abhij\\AppData\\Local\\Temp\\ipykernel_16868\\3215059801.py:16: SettingWithCopyWarning: \n",
      "A value is trying to be set on a copy of a slice from a DataFrame.\n",
      "Try using .loc[row_indexer,col_indexer] = value instead\n",
      "\n",
      "See the caveats in the documentation: https://pandas.pydata.org/pandas-docs/stable/user_guide/indexing.html#returning-a-view-versus-a-copy\n",
      "  current_data['Date'] = current_data.index\n"
     ]
    },
    {
     "name": "stdout",
     "output_type": "stream",
     "text": [
      "shape of df4 is (482, 3541)\n",
      "Completed 194 out of 462 steps\n",
      "the main data is of shape (542, 2)\n",
      "shape of current_data2 is (542, 59)\n"
     ]
    },
    {
     "name": "stderr",
     "output_type": "stream",
     "text": [
      "C:\\Users\\abhij\\AppData\\Local\\Temp\\ipykernel_16868\\3215059801.py:16: SettingWithCopyWarning: \n",
      "A value is trying to be set on a copy of a slice from a DataFrame.\n",
      "Try using .loc[row_indexer,col_indexer] = value instead\n",
      "\n",
      "See the caveats in the documentation: https://pandas.pydata.org/pandas-docs/stable/user_guide/indexing.html#returning-a-view-versus-a-copy\n",
      "  current_data['Date'] = current_data.index\n"
     ]
    },
    {
     "name": "stdout",
     "output_type": "stream",
     "text": [
      "shape of df4 is (482, 3541)\n",
      "Completed 195 out of 462 steps\n",
      "the main data is of shape (542, 2)\n",
      "shape of current_data2 is (542, 59)\n"
     ]
    },
    {
     "name": "stderr",
     "output_type": "stream",
     "text": [
      "C:\\Users\\abhij\\AppData\\Local\\Temp\\ipykernel_16868\\3215059801.py:16: SettingWithCopyWarning: \n",
      "A value is trying to be set on a copy of a slice from a DataFrame.\n",
      "Try using .loc[row_indexer,col_indexer] = value instead\n",
      "\n",
      "See the caveats in the documentation: https://pandas.pydata.org/pandas-docs/stable/user_guide/indexing.html#returning-a-view-versus-a-copy\n",
      "  current_data['Date'] = current_data.index\n"
     ]
    },
    {
     "name": "stdout",
     "output_type": "stream",
     "text": [
      "shape of df4 is (482, 3541)\n",
      "Completed 196 out of 462 steps\n",
      "the main data is of shape (542, 2)\n",
      "shape of current_data2 is (542, 59)\n"
     ]
    },
    {
     "name": "stderr",
     "output_type": "stream",
     "text": [
      "C:\\Users\\abhij\\AppData\\Local\\Temp\\ipykernel_16868\\3215059801.py:16: SettingWithCopyWarning: \n",
      "A value is trying to be set on a copy of a slice from a DataFrame.\n",
      "Try using .loc[row_indexer,col_indexer] = value instead\n",
      "\n",
      "See the caveats in the documentation: https://pandas.pydata.org/pandas-docs/stable/user_guide/indexing.html#returning-a-view-versus-a-copy\n",
      "  current_data['Date'] = current_data.index\n"
     ]
    },
    {
     "name": "stdout",
     "output_type": "stream",
     "text": [
      "shape of df4 is (482, 3541)\n",
      "Completed 197 out of 462 steps\n",
      "the main data is of shape (542, 2)\n",
      "shape of current_data2 is (542, 59)\n"
     ]
    },
    {
     "name": "stderr",
     "output_type": "stream",
     "text": [
      "C:\\Users\\abhij\\AppData\\Local\\Temp\\ipykernel_16868\\3215059801.py:16: SettingWithCopyWarning: \n",
      "A value is trying to be set on a copy of a slice from a DataFrame.\n",
      "Try using .loc[row_indexer,col_indexer] = value instead\n",
      "\n",
      "See the caveats in the documentation: https://pandas.pydata.org/pandas-docs/stable/user_guide/indexing.html#returning-a-view-versus-a-copy\n",
      "  current_data['Date'] = current_data.index\n"
     ]
    },
    {
     "name": "stdout",
     "output_type": "stream",
     "text": [
      "shape of df4 is (482, 3541)\n",
      "Completed 198 out of 462 steps\n",
      "the main data is of shape (542, 2)\n",
      "shape of current_data2 is (542, 59)\n"
     ]
    },
    {
     "name": "stderr",
     "output_type": "stream",
     "text": [
      "C:\\Users\\abhij\\AppData\\Local\\Temp\\ipykernel_16868\\3215059801.py:16: SettingWithCopyWarning: \n",
      "A value is trying to be set on a copy of a slice from a DataFrame.\n",
      "Try using .loc[row_indexer,col_indexer] = value instead\n",
      "\n",
      "See the caveats in the documentation: https://pandas.pydata.org/pandas-docs/stable/user_guide/indexing.html#returning-a-view-versus-a-copy\n",
      "  current_data['Date'] = current_data.index\n"
     ]
    },
    {
     "name": "stdout",
     "output_type": "stream",
     "text": [
      "shape of df4 is (482, 3541)\n",
      "Completed 199 out of 462 steps\n",
      "the main data is of shape (542, 2)\n",
      "shape of current_data2 is (542, 59)\n"
     ]
    },
    {
     "name": "stderr",
     "output_type": "stream",
     "text": [
      "C:\\Users\\abhij\\AppData\\Local\\Temp\\ipykernel_16868\\3215059801.py:16: SettingWithCopyWarning: \n",
      "A value is trying to be set on a copy of a slice from a DataFrame.\n",
      "Try using .loc[row_indexer,col_indexer] = value instead\n",
      "\n",
      "See the caveats in the documentation: https://pandas.pydata.org/pandas-docs/stable/user_guide/indexing.html#returning-a-view-versus-a-copy\n",
      "  current_data['Date'] = current_data.index\n"
     ]
    },
    {
     "name": "stdout",
     "output_type": "stream",
     "text": [
      "shape of df4 is (482, 3541)\n",
      "Completed 200 out of 462 steps\n",
      "the main data is of shape (542, 2)\n",
      "shape of current_data2 is (542, 59)\n"
     ]
    },
    {
     "name": "stderr",
     "output_type": "stream",
     "text": [
      "C:\\Users\\abhij\\AppData\\Local\\Temp\\ipykernel_16868\\3215059801.py:16: SettingWithCopyWarning: \n",
      "A value is trying to be set on a copy of a slice from a DataFrame.\n",
      "Try using .loc[row_indexer,col_indexer] = value instead\n",
      "\n",
      "See the caveats in the documentation: https://pandas.pydata.org/pandas-docs/stable/user_guide/indexing.html#returning-a-view-versus-a-copy\n",
      "  current_data['Date'] = current_data.index\n"
     ]
    },
    {
     "name": "stdout",
     "output_type": "stream",
     "text": [
      "shape of df4 is (482, 3541)\n",
      "Completed 201 out of 462 steps\n",
      "the main data is of shape (542, 2)\n",
      "shape of current_data2 is (542, 59)\n"
     ]
    },
    {
     "name": "stderr",
     "output_type": "stream",
     "text": [
      "C:\\Users\\abhij\\AppData\\Local\\Temp\\ipykernel_16868\\3215059801.py:16: SettingWithCopyWarning: \n",
      "A value is trying to be set on a copy of a slice from a DataFrame.\n",
      "Try using .loc[row_indexer,col_indexer] = value instead\n",
      "\n",
      "See the caveats in the documentation: https://pandas.pydata.org/pandas-docs/stable/user_guide/indexing.html#returning-a-view-versus-a-copy\n",
      "  current_data['Date'] = current_data.index\n"
     ]
    },
    {
     "name": "stdout",
     "output_type": "stream",
     "text": [
      "shape of df4 is (482, 3541)\n",
      "Completed 202 out of 462 steps\n",
      "the main data is of shape (542, 2)\n",
      "shape of current_data2 is (542, 59)\n"
     ]
    },
    {
     "name": "stderr",
     "output_type": "stream",
     "text": [
      "C:\\Users\\abhij\\AppData\\Local\\Temp\\ipykernel_16868\\3215059801.py:16: SettingWithCopyWarning: \n",
      "A value is trying to be set on a copy of a slice from a DataFrame.\n",
      "Try using .loc[row_indexer,col_indexer] = value instead\n",
      "\n",
      "See the caveats in the documentation: https://pandas.pydata.org/pandas-docs/stable/user_guide/indexing.html#returning-a-view-versus-a-copy\n",
      "  current_data['Date'] = current_data.index\n"
     ]
    },
    {
     "name": "stdout",
     "output_type": "stream",
     "text": [
      "shape of df4 is (482, 3541)\n",
      "Completed 203 out of 462 steps\n",
      "the main data is of shape (542, 2)\n",
      "shape of current_data2 is (542, 59)\n"
     ]
    },
    {
     "name": "stderr",
     "output_type": "stream",
     "text": [
      "C:\\Users\\abhij\\AppData\\Local\\Temp\\ipykernel_16868\\3215059801.py:16: SettingWithCopyWarning: \n",
      "A value is trying to be set on a copy of a slice from a DataFrame.\n",
      "Try using .loc[row_indexer,col_indexer] = value instead\n",
      "\n",
      "See the caveats in the documentation: https://pandas.pydata.org/pandas-docs/stable/user_guide/indexing.html#returning-a-view-versus-a-copy\n",
      "  current_data['Date'] = current_data.index\n"
     ]
    },
    {
     "name": "stdout",
     "output_type": "stream",
     "text": [
      "shape of df4 is (482, 3541)\n",
      "Completed 204 out of 462 steps\n",
      "the main data is of shape (542, 2)\n",
      "shape of current_data2 is (542, 59)\n"
     ]
    },
    {
     "name": "stderr",
     "output_type": "stream",
     "text": [
      "C:\\Users\\abhij\\AppData\\Local\\Temp\\ipykernel_16868\\3215059801.py:16: SettingWithCopyWarning: \n",
      "A value is trying to be set on a copy of a slice from a DataFrame.\n",
      "Try using .loc[row_indexer,col_indexer] = value instead\n",
      "\n",
      "See the caveats in the documentation: https://pandas.pydata.org/pandas-docs/stable/user_guide/indexing.html#returning-a-view-versus-a-copy\n",
      "  current_data['Date'] = current_data.index\n"
     ]
    },
    {
     "name": "stdout",
     "output_type": "stream",
     "text": [
      "shape of df4 is (482, 3541)\n",
      "Completed 205 out of 462 steps\n",
      "the main data is of shape (542, 2)\n",
      "shape of current_data2 is (542, 59)\n"
     ]
    },
    {
     "name": "stderr",
     "output_type": "stream",
     "text": [
      "C:\\Users\\abhij\\AppData\\Local\\Temp\\ipykernel_16868\\3215059801.py:16: SettingWithCopyWarning: \n",
      "A value is trying to be set on a copy of a slice from a DataFrame.\n",
      "Try using .loc[row_indexer,col_indexer] = value instead\n",
      "\n",
      "See the caveats in the documentation: https://pandas.pydata.org/pandas-docs/stable/user_guide/indexing.html#returning-a-view-versus-a-copy\n",
      "  current_data['Date'] = current_data.index\n"
     ]
    },
    {
     "name": "stdout",
     "output_type": "stream",
     "text": [
      "shape of df4 is (482, 3541)\n",
      "Completed 206 out of 462 steps\n",
      "the main data is of shape (542, 2)\n",
      "shape of current_data2 is (542, 59)\n"
     ]
    },
    {
     "name": "stderr",
     "output_type": "stream",
     "text": [
      "C:\\Users\\abhij\\AppData\\Local\\Temp\\ipykernel_16868\\3215059801.py:16: SettingWithCopyWarning: \n",
      "A value is trying to be set on a copy of a slice from a DataFrame.\n",
      "Try using .loc[row_indexer,col_indexer] = value instead\n",
      "\n",
      "See the caveats in the documentation: https://pandas.pydata.org/pandas-docs/stable/user_guide/indexing.html#returning-a-view-versus-a-copy\n",
      "  current_data['Date'] = current_data.index\n"
     ]
    },
    {
     "name": "stdout",
     "output_type": "stream",
     "text": [
      "shape of df4 is (482, 3541)\n",
      "Completed 207 out of 462 steps\n",
      "the main data is of shape (542, 2)\n",
      "shape of current_data2 is (542, 59)\n"
     ]
    },
    {
     "name": "stderr",
     "output_type": "stream",
     "text": [
      "C:\\Users\\abhij\\AppData\\Local\\Temp\\ipykernel_16868\\3215059801.py:16: SettingWithCopyWarning: \n",
      "A value is trying to be set on a copy of a slice from a DataFrame.\n",
      "Try using .loc[row_indexer,col_indexer] = value instead\n",
      "\n",
      "See the caveats in the documentation: https://pandas.pydata.org/pandas-docs/stable/user_guide/indexing.html#returning-a-view-versus-a-copy\n",
      "  current_data['Date'] = current_data.index\n"
     ]
    },
    {
     "name": "stdout",
     "output_type": "stream",
     "text": [
      "shape of df4 is (482, 3541)\n",
      "Completed 208 out of 462 steps\n",
      "the main data is of shape (542, 2)\n",
      "shape of current_data2 is (542, 59)\n"
     ]
    },
    {
     "name": "stderr",
     "output_type": "stream",
     "text": [
      "C:\\Users\\abhij\\AppData\\Local\\Temp\\ipykernel_16868\\3215059801.py:16: SettingWithCopyWarning: \n",
      "A value is trying to be set on a copy of a slice from a DataFrame.\n",
      "Try using .loc[row_indexer,col_indexer] = value instead\n",
      "\n",
      "See the caveats in the documentation: https://pandas.pydata.org/pandas-docs/stable/user_guide/indexing.html#returning-a-view-versus-a-copy\n",
      "  current_data['Date'] = current_data.index\n"
     ]
    },
    {
     "name": "stdout",
     "output_type": "stream",
     "text": [
      "shape of df4 is (482, 3541)\n",
      "Completed 209 out of 462 steps\n",
      "the main data is of shape (542, 2)\n",
      "shape of current_data2 is (542, 59)\n"
     ]
    },
    {
     "name": "stderr",
     "output_type": "stream",
     "text": [
      "C:\\Users\\abhij\\AppData\\Local\\Temp\\ipykernel_16868\\3215059801.py:16: SettingWithCopyWarning: \n",
      "A value is trying to be set on a copy of a slice from a DataFrame.\n",
      "Try using .loc[row_indexer,col_indexer] = value instead\n",
      "\n",
      "See the caveats in the documentation: https://pandas.pydata.org/pandas-docs/stable/user_guide/indexing.html#returning-a-view-versus-a-copy\n",
      "  current_data['Date'] = current_data.index\n"
     ]
    },
    {
     "name": "stdout",
     "output_type": "stream",
     "text": [
      "shape of df4 is (482, 3541)\n",
      "Completed 210 out of 462 steps\n",
      "the main data is of shape (542, 2)\n",
      "shape of current_data2 is (542, 59)\n"
     ]
    },
    {
     "name": "stderr",
     "output_type": "stream",
     "text": [
      "C:\\Users\\abhij\\AppData\\Local\\Temp\\ipykernel_16868\\3215059801.py:16: SettingWithCopyWarning: \n",
      "A value is trying to be set on a copy of a slice from a DataFrame.\n",
      "Try using .loc[row_indexer,col_indexer] = value instead\n",
      "\n",
      "See the caveats in the documentation: https://pandas.pydata.org/pandas-docs/stable/user_guide/indexing.html#returning-a-view-versus-a-copy\n",
      "  current_data['Date'] = current_data.index\n"
     ]
    },
    {
     "name": "stdout",
     "output_type": "stream",
     "text": [
      "shape of df4 is (482, 3541)\n",
      "Completed 211 out of 462 steps\n",
      "the main data is of shape (542, 2)\n",
      "shape of current_data2 is (542, 59)\n"
     ]
    },
    {
     "name": "stderr",
     "output_type": "stream",
     "text": [
      "C:\\Users\\abhij\\AppData\\Local\\Temp\\ipykernel_16868\\3215059801.py:16: SettingWithCopyWarning: \n",
      "A value is trying to be set on a copy of a slice from a DataFrame.\n",
      "Try using .loc[row_indexer,col_indexer] = value instead\n",
      "\n",
      "See the caveats in the documentation: https://pandas.pydata.org/pandas-docs/stable/user_guide/indexing.html#returning-a-view-versus-a-copy\n",
      "  current_data['Date'] = current_data.index\n"
     ]
    },
    {
     "name": "stdout",
     "output_type": "stream",
     "text": [
      "shape of df4 is (482, 3541)\n",
      "Completed 212 out of 462 steps\n",
      "the main data is of shape (542, 2)\n",
      "shape of current_data2 is (542, 59)\n"
     ]
    },
    {
     "name": "stderr",
     "output_type": "stream",
     "text": [
      "C:\\Users\\abhij\\AppData\\Local\\Temp\\ipykernel_16868\\3215059801.py:16: SettingWithCopyWarning: \n",
      "A value is trying to be set on a copy of a slice from a DataFrame.\n",
      "Try using .loc[row_indexer,col_indexer] = value instead\n",
      "\n",
      "See the caveats in the documentation: https://pandas.pydata.org/pandas-docs/stable/user_guide/indexing.html#returning-a-view-versus-a-copy\n",
      "  current_data['Date'] = current_data.index\n"
     ]
    },
    {
     "name": "stdout",
     "output_type": "stream",
     "text": [
      "shape of df4 is (482, 3541)\n",
      "Completed 213 out of 462 steps\n",
      "the main data is of shape (542, 2)\n",
      "shape of current_data2 is (542, 59)\n"
     ]
    },
    {
     "name": "stderr",
     "output_type": "stream",
     "text": [
      "C:\\Users\\abhij\\AppData\\Local\\Temp\\ipykernel_16868\\3215059801.py:16: SettingWithCopyWarning: \n",
      "A value is trying to be set on a copy of a slice from a DataFrame.\n",
      "Try using .loc[row_indexer,col_indexer] = value instead\n",
      "\n",
      "See the caveats in the documentation: https://pandas.pydata.org/pandas-docs/stable/user_guide/indexing.html#returning-a-view-versus-a-copy\n",
      "  current_data['Date'] = current_data.index\n"
     ]
    },
    {
     "name": "stdout",
     "output_type": "stream",
     "text": [
      "shape of df4 is (482, 3541)\n",
      "Completed 214 out of 462 steps\n",
      "the main data is of shape (542, 2)\n",
      "shape of current_data2 is (542, 59)\n"
     ]
    },
    {
     "name": "stderr",
     "output_type": "stream",
     "text": [
      "C:\\Users\\abhij\\AppData\\Local\\Temp\\ipykernel_16868\\3215059801.py:16: SettingWithCopyWarning: \n",
      "A value is trying to be set on a copy of a slice from a DataFrame.\n",
      "Try using .loc[row_indexer,col_indexer] = value instead\n",
      "\n",
      "See the caveats in the documentation: https://pandas.pydata.org/pandas-docs/stable/user_guide/indexing.html#returning-a-view-versus-a-copy\n",
      "  current_data['Date'] = current_data.index\n"
     ]
    },
    {
     "name": "stdout",
     "output_type": "stream",
     "text": [
      "shape of df4 is (482, 3541)\n",
      "Completed 215 out of 462 steps\n",
      "the main data is of shape (542, 2)\n",
      "shape of current_data2 is (542, 59)\n"
     ]
    },
    {
     "name": "stderr",
     "output_type": "stream",
     "text": [
      "C:\\Users\\abhij\\AppData\\Local\\Temp\\ipykernel_16868\\3215059801.py:16: SettingWithCopyWarning: \n",
      "A value is trying to be set on a copy of a slice from a DataFrame.\n",
      "Try using .loc[row_indexer,col_indexer] = value instead\n",
      "\n",
      "See the caveats in the documentation: https://pandas.pydata.org/pandas-docs/stable/user_guide/indexing.html#returning-a-view-versus-a-copy\n",
      "  current_data['Date'] = current_data.index\n"
     ]
    },
    {
     "name": "stdout",
     "output_type": "stream",
     "text": [
      "shape of df4 is (482, 3541)\n",
      "Completed 216 out of 462 steps\n",
      "the main data is of shape (542, 2)\n",
      "shape of current_data2 is (542, 59)\n"
     ]
    },
    {
     "name": "stderr",
     "output_type": "stream",
     "text": [
      "C:\\Users\\abhij\\AppData\\Local\\Temp\\ipykernel_16868\\3215059801.py:16: SettingWithCopyWarning: \n",
      "A value is trying to be set on a copy of a slice from a DataFrame.\n",
      "Try using .loc[row_indexer,col_indexer] = value instead\n",
      "\n",
      "See the caveats in the documentation: https://pandas.pydata.org/pandas-docs/stable/user_guide/indexing.html#returning-a-view-versus-a-copy\n",
      "  current_data['Date'] = current_data.index\n"
     ]
    },
    {
     "name": "stdout",
     "output_type": "stream",
     "text": [
      "shape of df4 is (482, 3541)\n",
      "Completed 217 out of 462 steps\n",
      "the main data is of shape (542, 2)\n",
      "shape of current_data2 is (542, 59)\n"
     ]
    },
    {
     "name": "stderr",
     "output_type": "stream",
     "text": [
      "C:\\Users\\abhij\\AppData\\Local\\Temp\\ipykernel_16868\\3215059801.py:16: SettingWithCopyWarning: \n",
      "A value is trying to be set on a copy of a slice from a DataFrame.\n",
      "Try using .loc[row_indexer,col_indexer] = value instead\n",
      "\n",
      "See the caveats in the documentation: https://pandas.pydata.org/pandas-docs/stable/user_guide/indexing.html#returning-a-view-versus-a-copy\n",
      "  current_data['Date'] = current_data.index\n"
     ]
    },
    {
     "name": "stdout",
     "output_type": "stream",
     "text": [
      "shape of df4 is (482, 3541)\n",
      "Completed 218 out of 462 steps\n",
      "the main data is of shape (542, 2)\n",
      "shape of current_data2 is (542, 59)\n"
     ]
    },
    {
     "name": "stderr",
     "output_type": "stream",
     "text": [
      "C:\\Users\\abhij\\AppData\\Local\\Temp\\ipykernel_16868\\3215059801.py:16: SettingWithCopyWarning: \n",
      "A value is trying to be set on a copy of a slice from a DataFrame.\n",
      "Try using .loc[row_indexer,col_indexer] = value instead\n",
      "\n",
      "See the caveats in the documentation: https://pandas.pydata.org/pandas-docs/stable/user_guide/indexing.html#returning-a-view-versus-a-copy\n",
      "  current_data['Date'] = current_data.index\n"
     ]
    },
    {
     "name": "stdout",
     "output_type": "stream",
     "text": [
      "shape of df4 is (482, 3541)\n",
      "Completed 219 out of 462 steps\n",
      "the main data is of shape (542, 2)\n",
      "shape of current_data2 is (542, 59)\n"
     ]
    },
    {
     "name": "stderr",
     "output_type": "stream",
     "text": [
      "C:\\Users\\abhij\\AppData\\Local\\Temp\\ipykernel_16868\\3215059801.py:16: SettingWithCopyWarning: \n",
      "A value is trying to be set on a copy of a slice from a DataFrame.\n",
      "Try using .loc[row_indexer,col_indexer] = value instead\n",
      "\n",
      "See the caveats in the documentation: https://pandas.pydata.org/pandas-docs/stable/user_guide/indexing.html#returning-a-view-versus-a-copy\n",
      "  current_data['Date'] = current_data.index\n"
     ]
    },
    {
     "name": "stdout",
     "output_type": "stream",
     "text": [
      "shape of df4 is (482, 3541)\n",
      "Completed 220 out of 462 steps\n",
      "the main data is of shape (542, 2)\n",
      "shape of current_data2 is (542, 59)\n"
     ]
    },
    {
     "name": "stderr",
     "output_type": "stream",
     "text": [
      "C:\\Users\\abhij\\AppData\\Local\\Temp\\ipykernel_16868\\3215059801.py:16: SettingWithCopyWarning: \n",
      "A value is trying to be set on a copy of a slice from a DataFrame.\n",
      "Try using .loc[row_indexer,col_indexer] = value instead\n",
      "\n",
      "See the caveats in the documentation: https://pandas.pydata.org/pandas-docs/stable/user_guide/indexing.html#returning-a-view-versus-a-copy\n",
      "  current_data['Date'] = current_data.index\n"
     ]
    },
    {
     "name": "stdout",
     "output_type": "stream",
     "text": [
      "shape of df4 is (482, 3541)\n",
      "Completed 221 out of 462 steps\n",
      "the main data is of shape (542, 2)\n",
      "shape of current_data2 is (542, 59)\n"
     ]
    },
    {
     "name": "stderr",
     "output_type": "stream",
     "text": [
      "C:\\Users\\abhij\\AppData\\Local\\Temp\\ipykernel_16868\\3215059801.py:16: SettingWithCopyWarning: \n",
      "A value is trying to be set on a copy of a slice from a DataFrame.\n",
      "Try using .loc[row_indexer,col_indexer] = value instead\n",
      "\n",
      "See the caveats in the documentation: https://pandas.pydata.org/pandas-docs/stable/user_guide/indexing.html#returning-a-view-versus-a-copy\n",
      "  current_data['Date'] = current_data.index\n"
     ]
    },
    {
     "name": "stdout",
     "output_type": "stream",
     "text": [
      "shape of df4 is (482, 3541)\n",
      "Completed 222 out of 462 steps\n",
      "the main data is of shape (542, 2)\n",
      "shape of current_data2 is (542, 59)\n"
     ]
    },
    {
     "name": "stderr",
     "output_type": "stream",
     "text": [
      "C:\\Users\\abhij\\AppData\\Local\\Temp\\ipykernel_16868\\3215059801.py:16: SettingWithCopyWarning: \n",
      "A value is trying to be set on a copy of a slice from a DataFrame.\n",
      "Try using .loc[row_indexer,col_indexer] = value instead\n",
      "\n",
      "See the caveats in the documentation: https://pandas.pydata.org/pandas-docs/stable/user_guide/indexing.html#returning-a-view-versus-a-copy\n",
      "  current_data['Date'] = current_data.index\n"
     ]
    },
    {
     "name": "stdout",
     "output_type": "stream",
     "text": [
      "shape of df4 is (482, 3541)\n",
      "Completed 223 out of 462 steps\n",
      "the main data is of shape (542, 2)\n",
      "shape of current_data2 is (542, 59)\n"
     ]
    },
    {
     "name": "stderr",
     "output_type": "stream",
     "text": [
      "C:\\Users\\abhij\\AppData\\Local\\Temp\\ipykernel_16868\\3215059801.py:16: SettingWithCopyWarning: \n",
      "A value is trying to be set on a copy of a slice from a DataFrame.\n",
      "Try using .loc[row_indexer,col_indexer] = value instead\n",
      "\n",
      "See the caveats in the documentation: https://pandas.pydata.org/pandas-docs/stable/user_guide/indexing.html#returning-a-view-versus-a-copy\n",
      "  current_data['Date'] = current_data.index\n"
     ]
    },
    {
     "name": "stdout",
     "output_type": "stream",
     "text": [
      "shape of df4 is (482, 3541)\n",
      "Completed 224 out of 462 steps\n",
      "the main data is of shape (542, 2)\n",
      "shape of current_data2 is (542, 59)\n"
     ]
    },
    {
     "name": "stderr",
     "output_type": "stream",
     "text": [
      "C:\\Users\\abhij\\AppData\\Local\\Temp\\ipykernel_16868\\3215059801.py:16: SettingWithCopyWarning: \n",
      "A value is trying to be set on a copy of a slice from a DataFrame.\n",
      "Try using .loc[row_indexer,col_indexer] = value instead\n",
      "\n",
      "See the caveats in the documentation: https://pandas.pydata.org/pandas-docs/stable/user_guide/indexing.html#returning-a-view-versus-a-copy\n",
      "  current_data['Date'] = current_data.index\n"
     ]
    },
    {
     "name": "stdout",
     "output_type": "stream",
     "text": [
      "shape of df4 is (482, 3541)\n",
      "Completed 225 out of 462 steps\n",
      "the main data is of shape (542, 2)\n",
      "shape of current_data2 is (542, 59)\n"
     ]
    },
    {
     "name": "stderr",
     "output_type": "stream",
     "text": [
      "C:\\Users\\abhij\\AppData\\Local\\Temp\\ipykernel_16868\\3215059801.py:16: SettingWithCopyWarning: \n",
      "A value is trying to be set on a copy of a slice from a DataFrame.\n",
      "Try using .loc[row_indexer,col_indexer] = value instead\n",
      "\n",
      "See the caveats in the documentation: https://pandas.pydata.org/pandas-docs/stable/user_guide/indexing.html#returning-a-view-versus-a-copy\n",
      "  current_data['Date'] = current_data.index\n"
     ]
    },
    {
     "name": "stdout",
     "output_type": "stream",
     "text": [
      "shape of df4 is (482, 3541)\n",
      "Completed 226 out of 462 steps\n",
      "the main data is of shape (542, 2)\n",
      "shape of current_data2 is (542, 59)\n"
     ]
    },
    {
     "name": "stderr",
     "output_type": "stream",
     "text": [
      "C:\\Users\\abhij\\AppData\\Local\\Temp\\ipykernel_16868\\3215059801.py:16: SettingWithCopyWarning: \n",
      "A value is trying to be set on a copy of a slice from a DataFrame.\n",
      "Try using .loc[row_indexer,col_indexer] = value instead\n",
      "\n",
      "See the caveats in the documentation: https://pandas.pydata.org/pandas-docs/stable/user_guide/indexing.html#returning-a-view-versus-a-copy\n",
      "  current_data['Date'] = current_data.index\n"
     ]
    },
    {
     "name": "stdout",
     "output_type": "stream",
     "text": [
      "shape of df4 is (482, 3541)\n",
      "Completed 227 out of 462 steps\n",
      "the main data is of shape (542, 2)\n",
      "shape of current_data2 is (542, 59)\n"
     ]
    },
    {
     "name": "stderr",
     "output_type": "stream",
     "text": [
      "C:\\Users\\abhij\\AppData\\Local\\Temp\\ipykernel_16868\\3215059801.py:16: SettingWithCopyWarning: \n",
      "A value is trying to be set on a copy of a slice from a DataFrame.\n",
      "Try using .loc[row_indexer,col_indexer] = value instead\n",
      "\n",
      "See the caveats in the documentation: https://pandas.pydata.org/pandas-docs/stable/user_guide/indexing.html#returning-a-view-versus-a-copy\n",
      "  current_data['Date'] = current_data.index\n"
     ]
    },
    {
     "name": "stdout",
     "output_type": "stream",
     "text": [
      "shape of df4 is (482, 3541)\n",
      "Completed 228 out of 462 steps\n",
      "the main data is of shape (542, 2)\n",
      "shape of current_data2 is (542, 59)\n"
     ]
    },
    {
     "name": "stderr",
     "output_type": "stream",
     "text": [
      "C:\\Users\\abhij\\AppData\\Local\\Temp\\ipykernel_16868\\3215059801.py:16: SettingWithCopyWarning: \n",
      "A value is trying to be set on a copy of a slice from a DataFrame.\n",
      "Try using .loc[row_indexer,col_indexer] = value instead\n",
      "\n",
      "See the caveats in the documentation: https://pandas.pydata.org/pandas-docs/stable/user_guide/indexing.html#returning-a-view-versus-a-copy\n",
      "  current_data['Date'] = current_data.index\n"
     ]
    },
    {
     "name": "stdout",
     "output_type": "stream",
     "text": [
      "shape of df4 is (482, 3541)\n",
      "Completed 229 out of 462 steps\n",
      "the main data is of shape (542, 2)\n",
      "shape of current_data2 is (542, 59)\n"
     ]
    },
    {
     "name": "stderr",
     "output_type": "stream",
     "text": [
      "C:\\Users\\abhij\\AppData\\Local\\Temp\\ipykernel_16868\\3215059801.py:16: SettingWithCopyWarning: \n",
      "A value is trying to be set on a copy of a slice from a DataFrame.\n",
      "Try using .loc[row_indexer,col_indexer] = value instead\n",
      "\n",
      "See the caveats in the documentation: https://pandas.pydata.org/pandas-docs/stable/user_guide/indexing.html#returning-a-view-versus-a-copy\n",
      "  current_data['Date'] = current_data.index\n"
     ]
    },
    {
     "name": "stdout",
     "output_type": "stream",
     "text": [
      "shape of df4 is (482, 3541)\n",
      "Completed 230 out of 462 steps\n",
      "the main data is of shape (542, 2)\n",
      "shape of current_data2 is (542, 59)\n"
     ]
    },
    {
     "name": "stderr",
     "output_type": "stream",
     "text": [
      "C:\\Users\\abhij\\AppData\\Local\\Temp\\ipykernel_16868\\3215059801.py:16: SettingWithCopyWarning: \n",
      "A value is trying to be set on a copy of a slice from a DataFrame.\n",
      "Try using .loc[row_indexer,col_indexer] = value instead\n",
      "\n",
      "See the caveats in the documentation: https://pandas.pydata.org/pandas-docs/stable/user_guide/indexing.html#returning-a-view-versus-a-copy\n",
      "  current_data['Date'] = current_data.index\n"
     ]
    },
    {
     "name": "stdout",
     "output_type": "stream",
     "text": [
      "shape of df4 is (482, 3541)\n",
      "Completed 231 out of 462 steps\n",
      "the main data is of shape (542, 2)\n",
      "shape of current_data2 is (542, 59)\n"
     ]
    },
    {
     "name": "stderr",
     "output_type": "stream",
     "text": [
      "C:\\Users\\abhij\\AppData\\Local\\Temp\\ipykernel_16868\\3215059801.py:16: SettingWithCopyWarning: \n",
      "A value is trying to be set on a copy of a slice from a DataFrame.\n",
      "Try using .loc[row_indexer,col_indexer] = value instead\n",
      "\n",
      "See the caveats in the documentation: https://pandas.pydata.org/pandas-docs/stable/user_guide/indexing.html#returning-a-view-versus-a-copy\n",
      "  current_data['Date'] = current_data.index\n"
     ]
    },
    {
     "name": "stdout",
     "output_type": "stream",
     "text": [
      "shape of df4 is (482, 3541)\n",
      "Completed 232 out of 462 steps\n",
      "the main data is of shape (542, 2)\n",
      "shape of current_data2 is (542, 59)\n"
     ]
    },
    {
     "name": "stderr",
     "output_type": "stream",
     "text": [
      "C:\\Users\\abhij\\AppData\\Local\\Temp\\ipykernel_16868\\3215059801.py:16: SettingWithCopyWarning: \n",
      "A value is trying to be set on a copy of a slice from a DataFrame.\n",
      "Try using .loc[row_indexer,col_indexer] = value instead\n",
      "\n",
      "See the caveats in the documentation: https://pandas.pydata.org/pandas-docs/stable/user_guide/indexing.html#returning-a-view-versus-a-copy\n",
      "  current_data['Date'] = current_data.index\n"
     ]
    },
    {
     "name": "stdout",
     "output_type": "stream",
     "text": [
      "shape of df4 is (482, 3541)\n",
      "Completed 233 out of 462 steps\n",
      "the main data is of shape (542, 2)\n",
      "shape of current_data2 is (542, 59)\n"
     ]
    },
    {
     "name": "stderr",
     "output_type": "stream",
     "text": [
      "C:\\Users\\abhij\\AppData\\Local\\Temp\\ipykernel_16868\\3215059801.py:16: SettingWithCopyWarning: \n",
      "A value is trying to be set on a copy of a slice from a DataFrame.\n",
      "Try using .loc[row_indexer,col_indexer] = value instead\n",
      "\n",
      "See the caveats in the documentation: https://pandas.pydata.org/pandas-docs/stable/user_guide/indexing.html#returning-a-view-versus-a-copy\n",
      "  current_data['Date'] = current_data.index\n"
     ]
    },
    {
     "name": "stdout",
     "output_type": "stream",
     "text": [
      "shape of df4 is (482, 3541)\n",
      "Completed 234 out of 462 steps\n",
      "the main data is of shape (542, 2)\n",
      "shape of current_data2 is (542, 59)\n"
     ]
    },
    {
     "name": "stderr",
     "output_type": "stream",
     "text": [
      "C:\\Users\\abhij\\AppData\\Local\\Temp\\ipykernel_16868\\3215059801.py:16: SettingWithCopyWarning: \n",
      "A value is trying to be set on a copy of a slice from a DataFrame.\n",
      "Try using .loc[row_indexer,col_indexer] = value instead\n",
      "\n",
      "See the caveats in the documentation: https://pandas.pydata.org/pandas-docs/stable/user_guide/indexing.html#returning-a-view-versus-a-copy\n",
      "  current_data['Date'] = current_data.index\n"
     ]
    },
    {
     "name": "stdout",
     "output_type": "stream",
     "text": [
      "shape of df4 is (482, 3541)\n",
      "Completed 235 out of 462 steps\n",
      "the main data is of shape (542, 2)\n",
      "shape of current_data2 is (542, 59)\n"
     ]
    },
    {
     "name": "stderr",
     "output_type": "stream",
     "text": [
      "C:\\Users\\abhij\\AppData\\Local\\Temp\\ipykernel_16868\\3215059801.py:16: SettingWithCopyWarning: \n",
      "A value is trying to be set on a copy of a slice from a DataFrame.\n",
      "Try using .loc[row_indexer,col_indexer] = value instead\n",
      "\n",
      "See the caveats in the documentation: https://pandas.pydata.org/pandas-docs/stable/user_guide/indexing.html#returning-a-view-versus-a-copy\n",
      "  current_data['Date'] = current_data.index\n"
     ]
    },
    {
     "name": "stdout",
     "output_type": "stream",
     "text": [
      "shape of df4 is (482, 3541)\n",
      "Completed 236 out of 462 steps\n",
      "the main data is of shape (542, 2)\n",
      "shape of current_data2 is (542, 59)\n"
     ]
    },
    {
     "name": "stderr",
     "output_type": "stream",
     "text": [
      "C:\\Users\\abhij\\AppData\\Local\\Temp\\ipykernel_16868\\3215059801.py:16: SettingWithCopyWarning: \n",
      "A value is trying to be set on a copy of a slice from a DataFrame.\n",
      "Try using .loc[row_indexer,col_indexer] = value instead\n",
      "\n",
      "See the caveats in the documentation: https://pandas.pydata.org/pandas-docs/stable/user_guide/indexing.html#returning-a-view-versus-a-copy\n",
      "  current_data['Date'] = current_data.index\n"
     ]
    },
    {
     "name": "stdout",
     "output_type": "stream",
     "text": [
      "shape of df4 is (482, 3541)\n",
      "Completed 237 out of 462 steps\n",
      "the main data is of shape (542, 2)\n",
      "shape of current_data2 is (542, 59)\n"
     ]
    },
    {
     "name": "stderr",
     "output_type": "stream",
     "text": [
      "C:\\Users\\abhij\\AppData\\Local\\Temp\\ipykernel_16868\\3215059801.py:16: SettingWithCopyWarning: \n",
      "A value is trying to be set on a copy of a slice from a DataFrame.\n",
      "Try using .loc[row_indexer,col_indexer] = value instead\n",
      "\n",
      "See the caveats in the documentation: https://pandas.pydata.org/pandas-docs/stable/user_guide/indexing.html#returning-a-view-versus-a-copy\n",
      "  current_data['Date'] = current_data.index\n"
     ]
    },
    {
     "name": "stdout",
     "output_type": "stream",
     "text": [
      "shape of df4 is (482, 3541)\n",
      "Completed 238 out of 462 steps\n",
      "the main data is of shape (542, 2)\n",
      "shape of current_data2 is (542, 59)\n"
     ]
    },
    {
     "name": "stderr",
     "output_type": "stream",
     "text": [
      "C:\\Users\\abhij\\AppData\\Local\\Temp\\ipykernel_16868\\3215059801.py:16: SettingWithCopyWarning: \n",
      "A value is trying to be set on a copy of a slice from a DataFrame.\n",
      "Try using .loc[row_indexer,col_indexer] = value instead\n",
      "\n",
      "See the caveats in the documentation: https://pandas.pydata.org/pandas-docs/stable/user_guide/indexing.html#returning-a-view-versus-a-copy\n",
      "  current_data['Date'] = current_data.index\n"
     ]
    },
    {
     "name": "stdout",
     "output_type": "stream",
     "text": [
      "shape of df4 is (482, 3541)\n",
      "Completed 239 out of 462 steps\n",
      "the main data is of shape (542, 2)\n",
      "shape of current_data2 is (542, 59)\n"
     ]
    },
    {
     "name": "stderr",
     "output_type": "stream",
     "text": [
      "C:\\Users\\abhij\\AppData\\Local\\Temp\\ipykernel_16868\\3215059801.py:16: SettingWithCopyWarning: \n",
      "A value is trying to be set on a copy of a slice from a DataFrame.\n",
      "Try using .loc[row_indexer,col_indexer] = value instead\n",
      "\n",
      "See the caveats in the documentation: https://pandas.pydata.org/pandas-docs/stable/user_guide/indexing.html#returning-a-view-versus-a-copy\n",
      "  current_data['Date'] = current_data.index\n"
     ]
    },
    {
     "name": "stdout",
     "output_type": "stream",
     "text": [
      "shape of df4 is (482, 3541)\n",
      "Completed 240 out of 462 steps\n",
      "the main data is of shape (542, 2)\n",
      "shape of current_data2 is (542, 59)\n"
     ]
    },
    {
     "name": "stderr",
     "output_type": "stream",
     "text": [
      "C:\\Users\\abhij\\AppData\\Local\\Temp\\ipykernel_16868\\3215059801.py:16: SettingWithCopyWarning: \n",
      "A value is trying to be set on a copy of a slice from a DataFrame.\n",
      "Try using .loc[row_indexer,col_indexer] = value instead\n",
      "\n",
      "See the caveats in the documentation: https://pandas.pydata.org/pandas-docs/stable/user_guide/indexing.html#returning-a-view-versus-a-copy\n",
      "  current_data['Date'] = current_data.index\n"
     ]
    },
    {
     "name": "stdout",
     "output_type": "stream",
     "text": [
      "shape of df4 is (482, 3541)\n",
      "Completed 241 out of 462 steps\n",
      "the main data is of shape (542, 2)\n",
      "shape of current_data2 is (542, 59)\n"
     ]
    },
    {
     "name": "stderr",
     "output_type": "stream",
     "text": [
      "C:\\Users\\abhij\\AppData\\Local\\Temp\\ipykernel_16868\\3215059801.py:16: SettingWithCopyWarning: \n",
      "A value is trying to be set on a copy of a slice from a DataFrame.\n",
      "Try using .loc[row_indexer,col_indexer] = value instead\n",
      "\n",
      "See the caveats in the documentation: https://pandas.pydata.org/pandas-docs/stable/user_guide/indexing.html#returning-a-view-versus-a-copy\n",
      "  current_data['Date'] = current_data.index\n"
     ]
    },
    {
     "name": "stdout",
     "output_type": "stream",
     "text": [
      "shape of df4 is (482, 3541)\n",
      "Completed 242 out of 462 steps\n",
      "the main data is of shape (542, 2)\n",
      "shape of current_data2 is (542, 59)\n"
     ]
    },
    {
     "name": "stderr",
     "output_type": "stream",
     "text": [
      "C:\\Users\\abhij\\AppData\\Local\\Temp\\ipykernel_16868\\3215059801.py:16: SettingWithCopyWarning: \n",
      "A value is trying to be set on a copy of a slice from a DataFrame.\n",
      "Try using .loc[row_indexer,col_indexer] = value instead\n",
      "\n",
      "See the caveats in the documentation: https://pandas.pydata.org/pandas-docs/stable/user_guide/indexing.html#returning-a-view-versus-a-copy\n",
      "  current_data['Date'] = current_data.index\n"
     ]
    },
    {
     "name": "stdout",
     "output_type": "stream",
     "text": [
      "shape of df4 is (482, 3541)\n",
      "Completed 243 out of 462 steps\n",
      "the main data is of shape (520, 2)\n",
      "shape of current_data2 is (520, 59)\n"
     ]
    },
    {
     "name": "stderr",
     "output_type": "stream",
     "text": [
      "C:\\Users\\abhij\\AppData\\Local\\Temp\\ipykernel_16868\\3215059801.py:16: SettingWithCopyWarning: \n",
      "A value is trying to be set on a copy of a slice from a DataFrame.\n",
      "Try using .loc[row_indexer,col_indexer] = value instead\n",
      "\n",
      "See the caveats in the documentation: https://pandas.pydata.org/pandas-docs/stable/user_guide/indexing.html#returning-a-view-versus-a-copy\n",
      "  current_data['Date'] = current_data.index\n"
     ]
    },
    {
     "name": "stdout",
     "output_type": "stream",
     "text": [
      "shape of df4 is (460, 3541)\n",
      "Completed 244 out of 462 steps\n",
      "the main data is of shape (542, 2)\n",
      "shape of current_data2 is (542, 59)\n"
     ]
    },
    {
     "name": "stderr",
     "output_type": "stream",
     "text": [
      "C:\\Users\\abhij\\AppData\\Local\\Temp\\ipykernel_16868\\3215059801.py:16: SettingWithCopyWarning: \n",
      "A value is trying to be set on a copy of a slice from a DataFrame.\n",
      "Try using .loc[row_indexer,col_indexer] = value instead\n",
      "\n",
      "See the caveats in the documentation: https://pandas.pydata.org/pandas-docs/stable/user_guide/indexing.html#returning-a-view-versus-a-copy\n",
      "  current_data['Date'] = current_data.index\n"
     ]
    },
    {
     "name": "stdout",
     "output_type": "stream",
     "text": [
      "shape of df4 is (482, 3541)\n",
      "Completed 245 out of 462 steps\n",
      "the main data is of shape (542, 2)\n",
      "shape of current_data2 is (542, 59)\n"
     ]
    },
    {
     "name": "stderr",
     "output_type": "stream",
     "text": [
      "C:\\Users\\abhij\\AppData\\Local\\Temp\\ipykernel_16868\\3215059801.py:16: SettingWithCopyWarning: \n",
      "A value is trying to be set on a copy of a slice from a DataFrame.\n",
      "Try using .loc[row_indexer,col_indexer] = value instead\n",
      "\n",
      "See the caveats in the documentation: https://pandas.pydata.org/pandas-docs/stable/user_guide/indexing.html#returning-a-view-versus-a-copy\n",
      "  current_data['Date'] = current_data.index\n"
     ]
    },
    {
     "name": "stdout",
     "output_type": "stream",
     "text": [
      "shape of df4 is (482, 3541)\n",
      "Completed 246 out of 462 steps\n",
      "the main data is of shape (542, 2)\n",
      "shape of current_data2 is (542, 59)\n"
     ]
    },
    {
     "name": "stderr",
     "output_type": "stream",
     "text": [
      "C:\\Users\\abhij\\AppData\\Local\\Temp\\ipykernel_16868\\3215059801.py:16: SettingWithCopyWarning: \n",
      "A value is trying to be set on a copy of a slice from a DataFrame.\n",
      "Try using .loc[row_indexer,col_indexer] = value instead\n",
      "\n",
      "See the caveats in the documentation: https://pandas.pydata.org/pandas-docs/stable/user_guide/indexing.html#returning-a-view-versus-a-copy\n",
      "  current_data['Date'] = current_data.index\n"
     ]
    },
    {
     "name": "stdout",
     "output_type": "stream",
     "text": [
      "shape of df4 is (482, 3541)\n",
      "Completed 247 out of 462 steps\n",
      "the main data is of shape (542, 2)\n",
      "shape of current_data2 is (542, 59)\n"
     ]
    },
    {
     "name": "stderr",
     "output_type": "stream",
     "text": [
      "C:\\Users\\abhij\\AppData\\Local\\Temp\\ipykernel_16868\\3215059801.py:16: SettingWithCopyWarning: \n",
      "A value is trying to be set on a copy of a slice from a DataFrame.\n",
      "Try using .loc[row_indexer,col_indexer] = value instead\n",
      "\n",
      "See the caveats in the documentation: https://pandas.pydata.org/pandas-docs/stable/user_guide/indexing.html#returning-a-view-versus-a-copy\n",
      "  current_data['Date'] = current_data.index\n"
     ]
    },
    {
     "name": "stdout",
     "output_type": "stream",
     "text": [
      "shape of df4 is (482, 3541)\n",
      "Completed 248 out of 462 steps\n",
      "the main data is of shape (542, 2)\n",
      "shape of current_data2 is (542, 59)\n"
     ]
    },
    {
     "name": "stderr",
     "output_type": "stream",
     "text": [
      "C:\\Users\\abhij\\AppData\\Local\\Temp\\ipykernel_16868\\3215059801.py:16: SettingWithCopyWarning: \n",
      "A value is trying to be set on a copy of a slice from a DataFrame.\n",
      "Try using .loc[row_indexer,col_indexer] = value instead\n",
      "\n",
      "See the caveats in the documentation: https://pandas.pydata.org/pandas-docs/stable/user_guide/indexing.html#returning-a-view-versus-a-copy\n",
      "  current_data['Date'] = current_data.index\n"
     ]
    },
    {
     "name": "stdout",
     "output_type": "stream",
     "text": [
      "shape of df4 is (482, 3541)\n",
      "Completed 249 out of 462 steps\n",
      "the main data is of shape (542, 2)\n",
      "shape of current_data2 is (542, 59)\n"
     ]
    },
    {
     "name": "stderr",
     "output_type": "stream",
     "text": [
      "C:\\Users\\abhij\\AppData\\Local\\Temp\\ipykernel_16868\\3215059801.py:16: SettingWithCopyWarning: \n",
      "A value is trying to be set on a copy of a slice from a DataFrame.\n",
      "Try using .loc[row_indexer,col_indexer] = value instead\n",
      "\n",
      "See the caveats in the documentation: https://pandas.pydata.org/pandas-docs/stable/user_guide/indexing.html#returning-a-view-versus-a-copy\n",
      "  current_data['Date'] = current_data.index\n"
     ]
    },
    {
     "name": "stdout",
     "output_type": "stream",
     "text": [
      "shape of df4 is (482, 3541)\n",
      "Completed 250 out of 462 steps\n",
      "the main data is of shape (542, 2)\n",
      "shape of current_data2 is (542, 59)\n"
     ]
    },
    {
     "name": "stderr",
     "output_type": "stream",
     "text": [
      "C:\\Users\\abhij\\AppData\\Local\\Temp\\ipykernel_16868\\3215059801.py:16: SettingWithCopyWarning: \n",
      "A value is trying to be set on a copy of a slice from a DataFrame.\n",
      "Try using .loc[row_indexer,col_indexer] = value instead\n",
      "\n",
      "See the caveats in the documentation: https://pandas.pydata.org/pandas-docs/stable/user_guide/indexing.html#returning-a-view-versus-a-copy\n",
      "  current_data['Date'] = current_data.index\n"
     ]
    },
    {
     "name": "stdout",
     "output_type": "stream",
     "text": [
      "shape of df4 is (482, 3541)\n",
      "Completed 251 out of 462 steps\n",
      "the main data is of shape (542, 2)\n",
      "shape of current_data2 is (542, 59)\n"
     ]
    },
    {
     "name": "stderr",
     "output_type": "stream",
     "text": [
      "C:\\Users\\abhij\\AppData\\Local\\Temp\\ipykernel_16868\\3215059801.py:16: SettingWithCopyWarning: \n",
      "A value is trying to be set on a copy of a slice from a DataFrame.\n",
      "Try using .loc[row_indexer,col_indexer] = value instead\n",
      "\n",
      "See the caveats in the documentation: https://pandas.pydata.org/pandas-docs/stable/user_guide/indexing.html#returning-a-view-versus-a-copy\n",
      "  current_data['Date'] = current_data.index\n"
     ]
    },
    {
     "name": "stdout",
     "output_type": "stream",
     "text": [
      "shape of df4 is (482, 3541)\n",
      "Completed 252 out of 462 steps\n",
      "the main data is of shape (542, 2)\n",
      "shape of current_data2 is (542, 59)\n"
     ]
    },
    {
     "name": "stderr",
     "output_type": "stream",
     "text": [
      "C:\\Users\\abhij\\AppData\\Local\\Temp\\ipykernel_16868\\3215059801.py:16: SettingWithCopyWarning: \n",
      "A value is trying to be set on a copy of a slice from a DataFrame.\n",
      "Try using .loc[row_indexer,col_indexer] = value instead\n",
      "\n",
      "See the caveats in the documentation: https://pandas.pydata.org/pandas-docs/stable/user_guide/indexing.html#returning-a-view-versus-a-copy\n",
      "  current_data['Date'] = current_data.index\n"
     ]
    },
    {
     "name": "stdout",
     "output_type": "stream",
     "text": [
      "shape of df4 is (482, 3541)\n",
      "Completed 253 out of 462 steps\n",
      "the main data is of shape (542, 2)\n",
      "shape of current_data2 is (542, 59)\n"
     ]
    },
    {
     "name": "stderr",
     "output_type": "stream",
     "text": [
      "C:\\Users\\abhij\\AppData\\Local\\Temp\\ipykernel_16868\\3215059801.py:16: SettingWithCopyWarning: \n",
      "A value is trying to be set on a copy of a slice from a DataFrame.\n",
      "Try using .loc[row_indexer,col_indexer] = value instead\n",
      "\n",
      "See the caveats in the documentation: https://pandas.pydata.org/pandas-docs/stable/user_guide/indexing.html#returning-a-view-versus-a-copy\n",
      "  current_data['Date'] = current_data.index\n"
     ]
    },
    {
     "name": "stdout",
     "output_type": "stream",
     "text": [
      "shape of df4 is (482, 3541)\n",
      "Completed 254 out of 462 steps\n",
      "the main data is of shape (542, 2)\n",
      "shape of current_data2 is (542, 59)\n"
     ]
    },
    {
     "name": "stderr",
     "output_type": "stream",
     "text": [
      "C:\\Users\\abhij\\AppData\\Local\\Temp\\ipykernel_16868\\3215059801.py:16: SettingWithCopyWarning: \n",
      "A value is trying to be set on a copy of a slice from a DataFrame.\n",
      "Try using .loc[row_indexer,col_indexer] = value instead\n",
      "\n",
      "See the caveats in the documentation: https://pandas.pydata.org/pandas-docs/stable/user_guide/indexing.html#returning-a-view-versus-a-copy\n",
      "  current_data['Date'] = current_data.index\n"
     ]
    },
    {
     "name": "stdout",
     "output_type": "stream",
     "text": [
      "shape of df4 is (482, 3541)\n",
      "Completed 255 out of 462 steps\n",
      "the main data is of shape (515, 2)\n",
      "shape of current_data2 is (515, 59)\n"
     ]
    },
    {
     "name": "stderr",
     "output_type": "stream",
     "text": [
      "C:\\Users\\abhij\\AppData\\Local\\Temp\\ipykernel_16868\\3215059801.py:16: SettingWithCopyWarning: \n",
      "A value is trying to be set on a copy of a slice from a DataFrame.\n",
      "Try using .loc[row_indexer,col_indexer] = value instead\n",
      "\n",
      "See the caveats in the documentation: https://pandas.pydata.org/pandas-docs/stable/user_guide/indexing.html#returning-a-view-versus-a-copy\n",
      "  current_data['Date'] = current_data.index\n"
     ]
    },
    {
     "name": "stdout",
     "output_type": "stream",
     "text": [
      "shape of df4 is (455, 3541)\n",
      "Completed 256 out of 462 steps\n",
      "the main data is of shape (542, 2)\n",
      "shape of current_data2 is (542, 59)\n"
     ]
    },
    {
     "name": "stderr",
     "output_type": "stream",
     "text": [
      "C:\\Users\\abhij\\AppData\\Local\\Temp\\ipykernel_16868\\3215059801.py:16: SettingWithCopyWarning: \n",
      "A value is trying to be set on a copy of a slice from a DataFrame.\n",
      "Try using .loc[row_indexer,col_indexer] = value instead\n",
      "\n",
      "See the caveats in the documentation: https://pandas.pydata.org/pandas-docs/stable/user_guide/indexing.html#returning-a-view-versus-a-copy\n",
      "  current_data['Date'] = current_data.index\n"
     ]
    },
    {
     "name": "stdout",
     "output_type": "stream",
     "text": [
      "shape of df4 is (482, 3541)\n",
      "Completed 257 out of 462 steps\n",
      "the main data is of shape (542, 2)\n",
      "shape of current_data2 is (542, 59)\n"
     ]
    },
    {
     "name": "stderr",
     "output_type": "stream",
     "text": [
      "C:\\Users\\abhij\\AppData\\Local\\Temp\\ipykernel_16868\\3215059801.py:16: SettingWithCopyWarning: \n",
      "A value is trying to be set on a copy of a slice from a DataFrame.\n",
      "Try using .loc[row_indexer,col_indexer] = value instead\n",
      "\n",
      "See the caveats in the documentation: https://pandas.pydata.org/pandas-docs/stable/user_guide/indexing.html#returning-a-view-versus-a-copy\n",
      "  current_data['Date'] = current_data.index\n"
     ]
    },
    {
     "name": "stdout",
     "output_type": "stream",
     "text": [
      "shape of df4 is (482, 3541)\n",
      "Completed 258 out of 462 steps\n",
      "the main data is of shape (542, 2)\n",
      "shape of current_data2 is (542, 59)\n"
     ]
    },
    {
     "name": "stderr",
     "output_type": "stream",
     "text": [
      "C:\\Users\\abhij\\AppData\\Local\\Temp\\ipykernel_16868\\3215059801.py:16: SettingWithCopyWarning: \n",
      "A value is trying to be set on a copy of a slice from a DataFrame.\n",
      "Try using .loc[row_indexer,col_indexer] = value instead\n",
      "\n",
      "See the caveats in the documentation: https://pandas.pydata.org/pandas-docs/stable/user_guide/indexing.html#returning-a-view-versus-a-copy\n",
      "  current_data['Date'] = current_data.index\n"
     ]
    },
    {
     "name": "stdout",
     "output_type": "stream",
     "text": [
      "shape of df4 is (482, 3541)\n",
      "Completed 259 out of 462 steps\n",
      "the main data is of shape (542, 2)\n",
      "shape of current_data2 is (542, 59)\n"
     ]
    },
    {
     "name": "stderr",
     "output_type": "stream",
     "text": [
      "C:\\Users\\abhij\\AppData\\Local\\Temp\\ipykernel_16868\\3215059801.py:16: SettingWithCopyWarning: \n",
      "A value is trying to be set on a copy of a slice from a DataFrame.\n",
      "Try using .loc[row_indexer,col_indexer] = value instead\n",
      "\n",
      "See the caveats in the documentation: https://pandas.pydata.org/pandas-docs/stable/user_guide/indexing.html#returning-a-view-versus-a-copy\n",
      "  current_data['Date'] = current_data.index\n"
     ]
    },
    {
     "name": "stdout",
     "output_type": "stream",
     "text": [
      "shape of df4 is (482, 3541)\n",
      "Completed 260 out of 462 steps\n",
      "the main data is of shape (542, 2)\n",
      "shape of current_data2 is (542, 59)\n"
     ]
    },
    {
     "name": "stderr",
     "output_type": "stream",
     "text": [
      "C:\\Users\\abhij\\AppData\\Local\\Temp\\ipykernel_16868\\3215059801.py:16: SettingWithCopyWarning: \n",
      "A value is trying to be set on a copy of a slice from a DataFrame.\n",
      "Try using .loc[row_indexer,col_indexer] = value instead\n",
      "\n",
      "See the caveats in the documentation: https://pandas.pydata.org/pandas-docs/stable/user_guide/indexing.html#returning-a-view-versus-a-copy\n",
      "  current_data['Date'] = current_data.index\n"
     ]
    },
    {
     "name": "stdout",
     "output_type": "stream",
     "text": [
      "shape of df4 is (482, 3541)\n",
      "Completed 261 out of 462 steps\n",
      "the main data is of shape (542, 2)\n",
      "shape of current_data2 is (542, 59)\n"
     ]
    },
    {
     "name": "stderr",
     "output_type": "stream",
     "text": [
      "C:\\Users\\abhij\\AppData\\Local\\Temp\\ipykernel_16868\\3215059801.py:16: SettingWithCopyWarning: \n",
      "A value is trying to be set on a copy of a slice from a DataFrame.\n",
      "Try using .loc[row_indexer,col_indexer] = value instead\n",
      "\n",
      "See the caveats in the documentation: https://pandas.pydata.org/pandas-docs/stable/user_guide/indexing.html#returning-a-view-versus-a-copy\n",
      "  current_data['Date'] = current_data.index\n"
     ]
    },
    {
     "name": "stdout",
     "output_type": "stream",
     "text": [
      "shape of df4 is (482, 3541)\n",
      "Completed 262 out of 462 steps\n",
      "the main data is of shape (542, 2)\n",
      "shape of current_data2 is (542, 59)\n"
     ]
    },
    {
     "name": "stderr",
     "output_type": "stream",
     "text": [
      "C:\\Users\\abhij\\AppData\\Local\\Temp\\ipykernel_16868\\3215059801.py:16: SettingWithCopyWarning: \n",
      "A value is trying to be set on a copy of a slice from a DataFrame.\n",
      "Try using .loc[row_indexer,col_indexer] = value instead\n",
      "\n",
      "See the caveats in the documentation: https://pandas.pydata.org/pandas-docs/stable/user_guide/indexing.html#returning-a-view-versus-a-copy\n",
      "  current_data['Date'] = current_data.index\n"
     ]
    },
    {
     "name": "stdout",
     "output_type": "stream",
     "text": [
      "shape of df4 is (482, 3541)\n",
      "Completed 263 out of 462 steps\n",
      "the main data is of shape (542, 2)\n",
      "shape of current_data2 is (542, 59)\n"
     ]
    },
    {
     "name": "stderr",
     "output_type": "stream",
     "text": [
      "C:\\Users\\abhij\\AppData\\Local\\Temp\\ipykernel_16868\\3215059801.py:16: SettingWithCopyWarning: \n",
      "A value is trying to be set on a copy of a slice from a DataFrame.\n",
      "Try using .loc[row_indexer,col_indexer] = value instead\n",
      "\n",
      "See the caveats in the documentation: https://pandas.pydata.org/pandas-docs/stable/user_guide/indexing.html#returning-a-view-versus-a-copy\n",
      "  current_data['Date'] = current_data.index\n"
     ]
    },
    {
     "name": "stdout",
     "output_type": "stream",
     "text": [
      "shape of df4 is (482, 3541)\n",
      "Completed 264 out of 462 steps\n",
      "the main data is of shape (542, 2)\n",
      "shape of current_data2 is (542, 59)\n"
     ]
    },
    {
     "name": "stderr",
     "output_type": "stream",
     "text": [
      "C:\\Users\\abhij\\AppData\\Local\\Temp\\ipykernel_16868\\3215059801.py:16: SettingWithCopyWarning: \n",
      "A value is trying to be set on a copy of a slice from a DataFrame.\n",
      "Try using .loc[row_indexer,col_indexer] = value instead\n",
      "\n",
      "See the caveats in the documentation: https://pandas.pydata.org/pandas-docs/stable/user_guide/indexing.html#returning-a-view-versus-a-copy\n",
      "  current_data['Date'] = current_data.index\n"
     ]
    },
    {
     "name": "stdout",
     "output_type": "stream",
     "text": [
      "shape of df4 is (482, 3541)\n",
      "Completed 265 out of 462 steps\n",
      "the main data is of shape (542, 2)\n",
      "shape of current_data2 is (542, 59)\n"
     ]
    },
    {
     "name": "stderr",
     "output_type": "stream",
     "text": [
      "C:\\Users\\abhij\\AppData\\Local\\Temp\\ipykernel_16868\\3215059801.py:16: SettingWithCopyWarning: \n",
      "A value is trying to be set on a copy of a slice from a DataFrame.\n",
      "Try using .loc[row_indexer,col_indexer] = value instead\n",
      "\n",
      "See the caveats in the documentation: https://pandas.pydata.org/pandas-docs/stable/user_guide/indexing.html#returning-a-view-versus-a-copy\n",
      "  current_data['Date'] = current_data.index\n"
     ]
    },
    {
     "name": "stdout",
     "output_type": "stream",
     "text": [
      "shape of df4 is (482, 3541)\n",
      "Completed 266 out of 462 steps\n",
      "the main data is of shape (542, 2)\n",
      "shape of current_data2 is (542, 59)\n"
     ]
    },
    {
     "name": "stderr",
     "output_type": "stream",
     "text": [
      "C:\\Users\\abhij\\AppData\\Local\\Temp\\ipykernel_16868\\3215059801.py:16: SettingWithCopyWarning: \n",
      "A value is trying to be set on a copy of a slice from a DataFrame.\n",
      "Try using .loc[row_indexer,col_indexer] = value instead\n",
      "\n",
      "See the caveats in the documentation: https://pandas.pydata.org/pandas-docs/stable/user_guide/indexing.html#returning-a-view-versus-a-copy\n",
      "  current_data['Date'] = current_data.index\n"
     ]
    },
    {
     "name": "stdout",
     "output_type": "stream",
     "text": [
      "shape of df4 is (482, 3541)\n",
      "Completed 267 out of 462 steps\n",
      "the main data is of shape (542, 2)\n",
      "shape of current_data2 is (542, 59)\n"
     ]
    },
    {
     "name": "stderr",
     "output_type": "stream",
     "text": [
      "C:\\Users\\abhij\\AppData\\Local\\Temp\\ipykernel_16868\\3215059801.py:16: SettingWithCopyWarning: \n",
      "A value is trying to be set on a copy of a slice from a DataFrame.\n",
      "Try using .loc[row_indexer,col_indexer] = value instead\n",
      "\n",
      "See the caveats in the documentation: https://pandas.pydata.org/pandas-docs/stable/user_guide/indexing.html#returning-a-view-versus-a-copy\n",
      "  current_data['Date'] = current_data.index\n"
     ]
    },
    {
     "name": "stdout",
     "output_type": "stream",
     "text": [
      "shape of df4 is (482, 3541)\n",
      "Completed 268 out of 462 steps\n",
      "the main data is of shape (516, 2)\n",
      "shape of current_data2 is (516, 59)\n"
     ]
    },
    {
     "name": "stderr",
     "output_type": "stream",
     "text": [
      "C:\\Users\\abhij\\AppData\\Local\\Temp\\ipykernel_16868\\3215059801.py:16: SettingWithCopyWarning: \n",
      "A value is trying to be set on a copy of a slice from a DataFrame.\n",
      "Try using .loc[row_indexer,col_indexer] = value instead\n",
      "\n",
      "See the caveats in the documentation: https://pandas.pydata.org/pandas-docs/stable/user_guide/indexing.html#returning-a-view-versus-a-copy\n",
      "  current_data['Date'] = current_data.index\n"
     ]
    },
    {
     "name": "stdout",
     "output_type": "stream",
     "text": [
      "shape of df4 is (456, 3541)\n",
      "Completed 269 out of 462 steps\n",
      "the main data is of shape (542, 2)\n",
      "shape of current_data2 is (542, 59)\n"
     ]
    },
    {
     "name": "stderr",
     "output_type": "stream",
     "text": [
      "C:\\Users\\abhij\\AppData\\Local\\Temp\\ipykernel_16868\\3215059801.py:16: SettingWithCopyWarning: \n",
      "A value is trying to be set on a copy of a slice from a DataFrame.\n",
      "Try using .loc[row_indexer,col_indexer] = value instead\n",
      "\n",
      "See the caveats in the documentation: https://pandas.pydata.org/pandas-docs/stable/user_guide/indexing.html#returning-a-view-versus-a-copy\n",
      "  current_data['Date'] = current_data.index\n"
     ]
    },
    {
     "name": "stdout",
     "output_type": "stream",
     "text": [
      "shape of df4 is (482, 3541)\n",
      "Completed 270 out of 462 steps\n",
      "the main data is of shape (542, 2)\n",
      "shape of current_data2 is (542, 59)\n"
     ]
    },
    {
     "name": "stderr",
     "output_type": "stream",
     "text": [
      "C:\\Users\\abhij\\AppData\\Local\\Temp\\ipykernel_16868\\3215059801.py:16: SettingWithCopyWarning: \n",
      "A value is trying to be set on a copy of a slice from a DataFrame.\n",
      "Try using .loc[row_indexer,col_indexer] = value instead\n",
      "\n",
      "See the caveats in the documentation: https://pandas.pydata.org/pandas-docs/stable/user_guide/indexing.html#returning-a-view-versus-a-copy\n",
      "  current_data['Date'] = current_data.index\n"
     ]
    },
    {
     "name": "stdout",
     "output_type": "stream",
     "text": [
      "shape of df4 is (482, 3541)\n",
      "Completed 271 out of 462 steps\n",
      "the main data is of shape (542, 2)\n",
      "shape of current_data2 is (542, 59)\n"
     ]
    },
    {
     "name": "stderr",
     "output_type": "stream",
     "text": [
      "C:\\Users\\abhij\\AppData\\Local\\Temp\\ipykernel_16868\\3215059801.py:16: SettingWithCopyWarning: \n",
      "A value is trying to be set on a copy of a slice from a DataFrame.\n",
      "Try using .loc[row_indexer,col_indexer] = value instead\n",
      "\n",
      "See the caveats in the documentation: https://pandas.pydata.org/pandas-docs/stable/user_guide/indexing.html#returning-a-view-versus-a-copy\n",
      "  current_data['Date'] = current_data.index\n"
     ]
    },
    {
     "name": "stdout",
     "output_type": "stream",
     "text": [
      "shape of df4 is (482, 3541)\n",
      "Completed 272 out of 462 steps\n",
      "the main data is of shape (542, 2)\n",
      "shape of current_data2 is (542, 59)\n"
     ]
    },
    {
     "name": "stderr",
     "output_type": "stream",
     "text": [
      "C:\\Users\\abhij\\AppData\\Local\\Temp\\ipykernel_16868\\3215059801.py:16: SettingWithCopyWarning: \n",
      "A value is trying to be set on a copy of a slice from a DataFrame.\n",
      "Try using .loc[row_indexer,col_indexer] = value instead\n",
      "\n",
      "See the caveats in the documentation: https://pandas.pydata.org/pandas-docs/stable/user_guide/indexing.html#returning-a-view-versus-a-copy\n",
      "  current_data['Date'] = current_data.index\n"
     ]
    },
    {
     "name": "stdout",
     "output_type": "stream",
     "text": [
      "shape of df4 is (482, 3541)\n",
      "Completed 273 out of 462 steps\n",
      "the main data is of shape (542, 2)\n",
      "shape of current_data2 is (542, 59)\n"
     ]
    },
    {
     "name": "stderr",
     "output_type": "stream",
     "text": [
      "C:\\Users\\abhij\\AppData\\Local\\Temp\\ipykernel_16868\\3215059801.py:16: SettingWithCopyWarning: \n",
      "A value is trying to be set on a copy of a slice from a DataFrame.\n",
      "Try using .loc[row_indexer,col_indexer] = value instead\n",
      "\n",
      "See the caveats in the documentation: https://pandas.pydata.org/pandas-docs/stable/user_guide/indexing.html#returning-a-view-versus-a-copy\n",
      "  current_data['Date'] = current_data.index\n"
     ]
    },
    {
     "name": "stdout",
     "output_type": "stream",
     "text": [
      "shape of df4 is (482, 3541)\n",
      "Completed 274 out of 462 steps\n",
      "the main data is of shape (542, 2)\n",
      "shape of current_data2 is (542, 59)\n"
     ]
    },
    {
     "name": "stderr",
     "output_type": "stream",
     "text": [
      "C:\\Users\\abhij\\AppData\\Local\\Temp\\ipykernel_16868\\3215059801.py:16: SettingWithCopyWarning: \n",
      "A value is trying to be set on a copy of a slice from a DataFrame.\n",
      "Try using .loc[row_indexer,col_indexer] = value instead\n",
      "\n",
      "See the caveats in the documentation: https://pandas.pydata.org/pandas-docs/stable/user_guide/indexing.html#returning-a-view-versus-a-copy\n",
      "  current_data['Date'] = current_data.index\n"
     ]
    },
    {
     "name": "stdout",
     "output_type": "stream",
     "text": [
      "shape of df4 is (482, 3541)\n",
      "Completed 275 out of 462 steps\n",
      "the main data is of shape (524, 2)\n",
      "shape of current_data2 is (524, 59)\n"
     ]
    },
    {
     "name": "stderr",
     "output_type": "stream",
     "text": [
      "C:\\Users\\abhij\\AppData\\Local\\Temp\\ipykernel_16868\\3215059801.py:16: SettingWithCopyWarning: \n",
      "A value is trying to be set on a copy of a slice from a DataFrame.\n",
      "Try using .loc[row_indexer,col_indexer] = value instead\n",
      "\n",
      "See the caveats in the documentation: https://pandas.pydata.org/pandas-docs/stable/user_guide/indexing.html#returning-a-view-versus-a-copy\n",
      "  current_data['Date'] = current_data.index\n"
     ]
    },
    {
     "name": "stdout",
     "output_type": "stream",
     "text": [
      "shape of df4 is (464, 3541)\n",
      "Completed 276 out of 462 steps\n",
      "the main data is of shape (502, 2)\n",
      "shape of current_data2 is (502, 59)\n"
     ]
    },
    {
     "name": "stderr",
     "output_type": "stream",
     "text": [
      "C:\\Users\\abhij\\AppData\\Local\\Temp\\ipykernel_16868\\3215059801.py:16: SettingWithCopyWarning: \n",
      "A value is trying to be set on a copy of a slice from a DataFrame.\n",
      "Try using .loc[row_indexer,col_indexer] = value instead\n",
      "\n",
      "See the caveats in the documentation: https://pandas.pydata.org/pandas-docs/stable/user_guide/indexing.html#returning-a-view-versus-a-copy\n",
      "  current_data['Date'] = current_data.index\n"
     ]
    },
    {
     "name": "stdout",
     "output_type": "stream",
     "text": [
      "shape of df4 is (442, 3541)\n",
      "Completed 277 out of 462 steps\n",
      "the main data is of shape (542, 2)\n",
      "shape of current_data2 is (542, 59)\n"
     ]
    },
    {
     "name": "stderr",
     "output_type": "stream",
     "text": [
      "C:\\Users\\abhij\\AppData\\Local\\Temp\\ipykernel_16868\\3215059801.py:16: SettingWithCopyWarning: \n",
      "A value is trying to be set on a copy of a slice from a DataFrame.\n",
      "Try using .loc[row_indexer,col_indexer] = value instead\n",
      "\n",
      "See the caveats in the documentation: https://pandas.pydata.org/pandas-docs/stable/user_guide/indexing.html#returning-a-view-versus-a-copy\n",
      "  current_data['Date'] = current_data.index\n"
     ]
    },
    {
     "name": "stdout",
     "output_type": "stream",
     "text": [
      "shape of df4 is (482, 3541)\n",
      "Completed 278 out of 462 steps\n",
      "the main data is of shape (542, 2)\n",
      "shape of current_data2 is (542, 59)\n"
     ]
    },
    {
     "name": "stderr",
     "output_type": "stream",
     "text": [
      "C:\\Users\\abhij\\AppData\\Local\\Temp\\ipykernel_16868\\3215059801.py:16: SettingWithCopyWarning: \n",
      "A value is trying to be set on a copy of a slice from a DataFrame.\n",
      "Try using .loc[row_indexer,col_indexer] = value instead\n",
      "\n",
      "See the caveats in the documentation: https://pandas.pydata.org/pandas-docs/stable/user_guide/indexing.html#returning-a-view-versus-a-copy\n",
      "  current_data['Date'] = current_data.index\n"
     ]
    },
    {
     "name": "stdout",
     "output_type": "stream",
     "text": [
      "shape of df4 is (482, 3541)\n",
      "Completed 279 out of 462 steps\n",
      "the main data is of shape (542, 2)\n",
      "shape of current_data2 is (542, 59)\n"
     ]
    },
    {
     "name": "stderr",
     "output_type": "stream",
     "text": [
      "C:\\Users\\abhij\\AppData\\Local\\Temp\\ipykernel_16868\\3215059801.py:16: SettingWithCopyWarning: \n",
      "A value is trying to be set on a copy of a slice from a DataFrame.\n",
      "Try using .loc[row_indexer,col_indexer] = value instead\n",
      "\n",
      "See the caveats in the documentation: https://pandas.pydata.org/pandas-docs/stable/user_guide/indexing.html#returning-a-view-versus-a-copy\n",
      "  current_data['Date'] = current_data.index\n"
     ]
    },
    {
     "name": "stdout",
     "output_type": "stream",
     "text": [
      "shape of df4 is (482, 3541)\n",
      "Completed 280 out of 462 steps\n",
      "the main data is of shape (542, 2)\n",
      "shape of current_data2 is (542, 59)\n"
     ]
    },
    {
     "name": "stderr",
     "output_type": "stream",
     "text": [
      "C:\\Users\\abhij\\AppData\\Local\\Temp\\ipykernel_16868\\3215059801.py:16: SettingWithCopyWarning: \n",
      "A value is trying to be set on a copy of a slice from a DataFrame.\n",
      "Try using .loc[row_indexer,col_indexer] = value instead\n",
      "\n",
      "See the caveats in the documentation: https://pandas.pydata.org/pandas-docs/stable/user_guide/indexing.html#returning-a-view-versus-a-copy\n",
      "  current_data['Date'] = current_data.index\n"
     ]
    },
    {
     "name": "stdout",
     "output_type": "stream",
     "text": [
      "shape of df4 is (482, 3541)\n",
      "Completed 281 out of 462 steps\n",
      "the main data is of shape (542, 2)\n",
      "shape of current_data2 is (542, 59)\n"
     ]
    },
    {
     "name": "stderr",
     "output_type": "stream",
     "text": [
      "C:\\Users\\abhij\\AppData\\Local\\Temp\\ipykernel_16868\\3215059801.py:16: SettingWithCopyWarning: \n",
      "A value is trying to be set on a copy of a slice from a DataFrame.\n",
      "Try using .loc[row_indexer,col_indexer] = value instead\n",
      "\n",
      "See the caveats in the documentation: https://pandas.pydata.org/pandas-docs/stable/user_guide/indexing.html#returning-a-view-versus-a-copy\n",
      "  current_data['Date'] = current_data.index\n"
     ]
    },
    {
     "name": "stdout",
     "output_type": "stream",
     "text": [
      "shape of df4 is (482, 3541)\n",
      "Completed 282 out of 462 steps\n",
      "the main data is of shape (542, 2)\n",
      "shape of current_data2 is (542, 59)\n"
     ]
    },
    {
     "name": "stderr",
     "output_type": "stream",
     "text": [
      "C:\\Users\\abhij\\AppData\\Local\\Temp\\ipykernel_16868\\3215059801.py:16: SettingWithCopyWarning: \n",
      "A value is trying to be set on a copy of a slice from a DataFrame.\n",
      "Try using .loc[row_indexer,col_indexer] = value instead\n",
      "\n",
      "See the caveats in the documentation: https://pandas.pydata.org/pandas-docs/stable/user_guide/indexing.html#returning-a-view-versus-a-copy\n",
      "  current_data['Date'] = current_data.index\n"
     ]
    },
    {
     "name": "stdout",
     "output_type": "stream",
     "text": [
      "shape of df4 is (482, 3541)\n",
      "Completed 283 out of 462 steps\n",
      "the main data is of shape (542, 2)\n",
      "shape of current_data2 is (542, 59)\n"
     ]
    },
    {
     "name": "stderr",
     "output_type": "stream",
     "text": [
      "C:\\Users\\abhij\\AppData\\Local\\Temp\\ipykernel_16868\\3215059801.py:16: SettingWithCopyWarning: \n",
      "A value is trying to be set on a copy of a slice from a DataFrame.\n",
      "Try using .loc[row_indexer,col_indexer] = value instead\n",
      "\n",
      "See the caveats in the documentation: https://pandas.pydata.org/pandas-docs/stable/user_guide/indexing.html#returning-a-view-versus-a-copy\n",
      "  current_data['Date'] = current_data.index\n"
     ]
    },
    {
     "name": "stdout",
     "output_type": "stream",
     "text": [
      "shape of df4 is (482, 3541)\n",
      "Completed 284 out of 462 steps\n",
      "the main data is of shape (542, 2)\n",
      "shape of current_data2 is (542, 59)\n"
     ]
    },
    {
     "name": "stderr",
     "output_type": "stream",
     "text": [
      "C:\\Users\\abhij\\AppData\\Local\\Temp\\ipykernel_16868\\3215059801.py:16: SettingWithCopyWarning: \n",
      "A value is trying to be set on a copy of a slice from a DataFrame.\n",
      "Try using .loc[row_indexer,col_indexer] = value instead\n",
      "\n",
      "See the caveats in the documentation: https://pandas.pydata.org/pandas-docs/stable/user_guide/indexing.html#returning-a-view-versus-a-copy\n",
      "  current_data['Date'] = current_data.index\n"
     ]
    },
    {
     "name": "stdout",
     "output_type": "stream",
     "text": [
      "shape of df4 is (482, 3541)\n",
      "Completed 285 out of 462 steps\n",
      "the main data is of shape (542, 2)\n",
      "shape of current_data2 is (542, 59)\n"
     ]
    },
    {
     "name": "stderr",
     "output_type": "stream",
     "text": [
      "C:\\Users\\abhij\\AppData\\Local\\Temp\\ipykernel_16868\\3215059801.py:16: SettingWithCopyWarning: \n",
      "A value is trying to be set on a copy of a slice from a DataFrame.\n",
      "Try using .loc[row_indexer,col_indexer] = value instead\n",
      "\n",
      "See the caveats in the documentation: https://pandas.pydata.org/pandas-docs/stable/user_guide/indexing.html#returning-a-view-versus-a-copy\n",
      "  current_data['Date'] = current_data.index\n"
     ]
    },
    {
     "name": "stdout",
     "output_type": "stream",
     "text": [
      "shape of df4 is (482, 3541)\n",
      "Completed 286 out of 462 steps\n",
      "the main data is of shape (542, 2)\n",
      "shape of current_data2 is (542, 59)\n"
     ]
    },
    {
     "name": "stderr",
     "output_type": "stream",
     "text": [
      "C:\\Users\\abhij\\AppData\\Local\\Temp\\ipykernel_16868\\3215059801.py:16: SettingWithCopyWarning: \n",
      "A value is trying to be set on a copy of a slice from a DataFrame.\n",
      "Try using .loc[row_indexer,col_indexer] = value instead\n",
      "\n",
      "See the caveats in the documentation: https://pandas.pydata.org/pandas-docs/stable/user_guide/indexing.html#returning-a-view-versus-a-copy\n",
      "  current_data['Date'] = current_data.index\n"
     ]
    },
    {
     "name": "stdout",
     "output_type": "stream",
     "text": [
      "shape of df4 is (482, 3541)\n",
      "Completed 287 out of 462 steps\n",
      "the main data is of shape (542, 2)\n",
      "shape of current_data2 is (542, 59)\n"
     ]
    },
    {
     "name": "stderr",
     "output_type": "stream",
     "text": [
      "C:\\Users\\abhij\\AppData\\Local\\Temp\\ipykernel_16868\\3215059801.py:16: SettingWithCopyWarning: \n",
      "A value is trying to be set on a copy of a slice from a DataFrame.\n",
      "Try using .loc[row_indexer,col_indexer] = value instead\n",
      "\n",
      "See the caveats in the documentation: https://pandas.pydata.org/pandas-docs/stable/user_guide/indexing.html#returning-a-view-versus-a-copy\n",
      "  current_data['Date'] = current_data.index\n"
     ]
    },
    {
     "name": "stdout",
     "output_type": "stream",
     "text": [
      "shape of df4 is (482, 3541)\n",
      "Completed 288 out of 462 steps\n",
      "the main data is of shape (542, 2)\n",
      "shape of current_data2 is (542, 59)\n"
     ]
    },
    {
     "name": "stderr",
     "output_type": "stream",
     "text": [
      "C:\\Users\\abhij\\AppData\\Local\\Temp\\ipykernel_16868\\3215059801.py:16: SettingWithCopyWarning: \n",
      "A value is trying to be set on a copy of a slice from a DataFrame.\n",
      "Try using .loc[row_indexer,col_indexer] = value instead\n",
      "\n",
      "See the caveats in the documentation: https://pandas.pydata.org/pandas-docs/stable/user_guide/indexing.html#returning-a-view-versus-a-copy\n",
      "  current_data['Date'] = current_data.index\n"
     ]
    },
    {
     "name": "stdout",
     "output_type": "stream",
     "text": [
      "shape of df4 is (482, 3541)\n",
      "Completed 289 out of 462 steps\n",
      "the main data is of shape (542, 2)\n",
      "shape of current_data2 is (542, 59)\n"
     ]
    },
    {
     "name": "stderr",
     "output_type": "stream",
     "text": [
      "C:\\Users\\abhij\\AppData\\Local\\Temp\\ipykernel_16868\\3215059801.py:16: SettingWithCopyWarning: \n",
      "A value is trying to be set on a copy of a slice from a DataFrame.\n",
      "Try using .loc[row_indexer,col_indexer] = value instead\n",
      "\n",
      "See the caveats in the documentation: https://pandas.pydata.org/pandas-docs/stable/user_guide/indexing.html#returning-a-view-versus-a-copy\n",
      "  current_data['Date'] = current_data.index\n"
     ]
    },
    {
     "name": "stdout",
     "output_type": "stream",
     "text": [
      "shape of df4 is (482, 3541)\n",
      "Completed 290 out of 462 steps\n",
      "the main data is of shape (542, 2)\n",
      "shape of current_data2 is (542, 59)\n"
     ]
    },
    {
     "name": "stderr",
     "output_type": "stream",
     "text": [
      "C:\\Users\\abhij\\AppData\\Local\\Temp\\ipykernel_16868\\3215059801.py:16: SettingWithCopyWarning: \n",
      "A value is trying to be set on a copy of a slice from a DataFrame.\n",
      "Try using .loc[row_indexer,col_indexer] = value instead\n",
      "\n",
      "See the caveats in the documentation: https://pandas.pydata.org/pandas-docs/stable/user_guide/indexing.html#returning-a-view-versus-a-copy\n",
      "  current_data['Date'] = current_data.index\n"
     ]
    },
    {
     "name": "stdout",
     "output_type": "stream",
     "text": [
      "shape of df4 is (482, 3541)\n",
      "Completed 291 out of 462 steps\n",
      "the main data is of shape (542, 2)\n",
      "shape of current_data2 is (542, 59)\n"
     ]
    },
    {
     "name": "stderr",
     "output_type": "stream",
     "text": [
      "C:\\Users\\abhij\\AppData\\Local\\Temp\\ipykernel_16868\\3215059801.py:16: SettingWithCopyWarning: \n",
      "A value is trying to be set on a copy of a slice from a DataFrame.\n",
      "Try using .loc[row_indexer,col_indexer] = value instead\n",
      "\n",
      "See the caveats in the documentation: https://pandas.pydata.org/pandas-docs/stable/user_guide/indexing.html#returning-a-view-versus-a-copy\n",
      "  current_data['Date'] = current_data.index\n"
     ]
    },
    {
     "name": "stdout",
     "output_type": "stream",
     "text": [
      "shape of df4 is (482, 3541)\n",
      "Completed 292 out of 462 steps\n",
      "the main data is of shape (542, 2)\n",
      "shape of current_data2 is (542, 59)\n"
     ]
    },
    {
     "name": "stderr",
     "output_type": "stream",
     "text": [
      "C:\\Users\\abhij\\AppData\\Local\\Temp\\ipykernel_16868\\3215059801.py:16: SettingWithCopyWarning: \n",
      "A value is trying to be set on a copy of a slice from a DataFrame.\n",
      "Try using .loc[row_indexer,col_indexer] = value instead\n",
      "\n",
      "See the caveats in the documentation: https://pandas.pydata.org/pandas-docs/stable/user_guide/indexing.html#returning-a-view-versus-a-copy\n",
      "  current_data['Date'] = current_data.index\n"
     ]
    },
    {
     "name": "stdout",
     "output_type": "stream",
     "text": [
      "shape of df4 is (482, 3541)\n",
      "Completed 293 out of 462 steps\n",
      "the main data is of shape (542, 2)\n",
      "shape of current_data2 is (542, 59)\n"
     ]
    },
    {
     "name": "stderr",
     "output_type": "stream",
     "text": [
      "C:\\Users\\abhij\\AppData\\Local\\Temp\\ipykernel_16868\\3215059801.py:16: SettingWithCopyWarning: \n",
      "A value is trying to be set on a copy of a slice from a DataFrame.\n",
      "Try using .loc[row_indexer,col_indexer] = value instead\n",
      "\n",
      "See the caveats in the documentation: https://pandas.pydata.org/pandas-docs/stable/user_guide/indexing.html#returning-a-view-versus-a-copy\n",
      "  current_data['Date'] = current_data.index\n"
     ]
    },
    {
     "name": "stdout",
     "output_type": "stream",
     "text": [
      "shape of df4 is (482, 3541)\n",
      "Completed 294 out of 462 steps\n",
      "the main data is of shape (542, 2)\n",
      "shape of current_data2 is (542, 59)\n"
     ]
    },
    {
     "name": "stderr",
     "output_type": "stream",
     "text": [
      "C:\\Users\\abhij\\AppData\\Local\\Temp\\ipykernel_16868\\3215059801.py:16: SettingWithCopyWarning: \n",
      "A value is trying to be set on a copy of a slice from a DataFrame.\n",
      "Try using .loc[row_indexer,col_indexer] = value instead\n",
      "\n",
      "See the caveats in the documentation: https://pandas.pydata.org/pandas-docs/stable/user_guide/indexing.html#returning-a-view-versus-a-copy\n",
      "  current_data['Date'] = current_data.index\n"
     ]
    },
    {
     "name": "stdout",
     "output_type": "stream",
     "text": [
      "shape of df4 is (482, 3541)\n",
      "Completed 295 out of 462 steps\n",
      "the main data is of shape (542, 2)\n",
      "shape of current_data2 is (542, 59)\n"
     ]
    },
    {
     "name": "stderr",
     "output_type": "stream",
     "text": [
      "C:\\Users\\abhij\\AppData\\Local\\Temp\\ipykernel_16868\\3215059801.py:16: SettingWithCopyWarning: \n",
      "A value is trying to be set on a copy of a slice from a DataFrame.\n",
      "Try using .loc[row_indexer,col_indexer] = value instead\n",
      "\n",
      "See the caveats in the documentation: https://pandas.pydata.org/pandas-docs/stable/user_guide/indexing.html#returning-a-view-versus-a-copy\n",
      "  current_data['Date'] = current_data.index\n"
     ]
    },
    {
     "name": "stdout",
     "output_type": "stream",
     "text": [
      "shape of df4 is (482, 3541)\n",
      "Completed 296 out of 462 steps\n",
      "the main data is of shape (542, 2)\n",
      "shape of current_data2 is (542, 59)\n"
     ]
    },
    {
     "name": "stderr",
     "output_type": "stream",
     "text": [
      "C:\\Users\\abhij\\AppData\\Local\\Temp\\ipykernel_16868\\3215059801.py:16: SettingWithCopyWarning: \n",
      "A value is trying to be set on a copy of a slice from a DataFrame.\n",
      "Try using .loc[row_indexer,col_indexer] = value instead\n",
      "\n",
      "See the caveats in the documentation: https://pandas.pydata.org/pandas-docs/stable/user_guide/indexing.html#returning-a-view-versus-a-copy\n",
      "  current_data['Date'] = current_data.index\n"
     ]
    },
    {
     "name": "stdout",
     "output_type": "stream",
     "text": [
      "shape of df4 is (482, 3541)\n",
      "Completed 297 out of 462 steps\n",
      "the main data is of shape (542, 2)\n",
      "shape of current_data2 is (542, 59)\n"
     ]
    },
    {
     "name": "stderr",
     "output_type": "stream",
     "text": [
      "C:\\Users\\abhij\\AppData\\Local\\Temp\\ipykernel_16868\\3215059801.py:16: SettingWithCopyWarning: \n",
      "A value is trying to be set on a copy of a slice from a DataFrame.\n",
      "Try using .loc[row_indexer,col_indexer] = value instead\n",
      "\n",
      "See the caveats in the documentation: https://pandas.pydata.org/pandas-docs/stable/user_guide/indexing.html#returning-a-view-versus-a-copy\n",
      "  current_data['Date'] = current_data.index\n"
     ]
    },
    {
     "name": "stdout",
     "output_type": "stream",
     "text": [
      "shape of df4 is (482, 3541)\n",
      "Completed 298 out of 462 steps\n",
      "the main data is of shape (542, 2)\n",
      "shape of current_data2 is (542, 59)\n"
     ]
    },
    {
     "name": "stderr",
     "output_type": "stream",
     "text": [
      "C:\\Users\\abhij\\AppData\\Local\\Temp\\ipykernel_16868\\3215059801.py:16: SettingWithCopyWarning: \n",
      "A value is trying to be set on a copy of a slice from a DataFrame.\n",
      "Try using .loc[row_indexer,col_indexer] = value instead\n",
      "\n",
      "See the caveats in the documentation: https://pandas.pydata.org/pandas-docs/stable/user_guide/indexing.html#returning-a-view-versus-a-copy\n",
      "  current_data['Date'] = current_data.index\n"
     ]
    },
    {
     "name": "stdout",
     "output_type": "stream",
     "text": [
      "shape of df4 is (482, 3541)\n",
      "Completed 299 out of 462 steps\n",
      "the main data is of shape (542, 2)\n",
      "shape of current_data2 is (542, 59)\n"
     ]
    },
    {
     "name": "stderr",
     "output_type": "stream",
     "text": [
      "C:\\Users\\abhij\\AppData\\Local\\Temp\\ipykernel_16868\\3215059801.py:16: SettingWithCopyWarning: \n",
      "A value is trying to be set on a copy of a slice from a DataFrame.\n",
      "Try using .loc[row_indexer,col_indexer] = value instead\n",
      "\n",
      "See the caveats in the documentation: https://pandas.pydata.org/pandas-docs/stable/user_guide/indexing.html#returning-a-view-versus-a-copy\n",
      "  current_data['Date'] = current_data.index\n"
     ]
    },
    {
     "name": "stdout",
     "output_type": "stream",
     "text": [
      "shape of df4 is (482, 3541)\n",
      "Completed 300 out of 462 steps\n",
      "the main data is of shape (542, 2)\n",
      "shape of current_data2 is (542, 59)\n"
     ]
    },
    {
     "name": "stderr",
     "output_type": "stream",
     "text": [
      "C:\\Users\\abhij\\AppData\\Local\\Temp\\ipykernel_16868\\3215059801.py:16: SettingWithCopyWarning: \n",
      "A value is trying to be set on a copy of a slice from a DataFrame.\n",
      "Try using .loc[row_indexer,col_indexer] = value instead\n",
      "\n",
      "See the caveats in the documentation: https://pandas.pydata.org/pandas-docs/stable/user_guide/indexing.html#returning-a-view-versus-a-copy\n",
      "  current_data['Date'] = current_data.index\n"
     ]
    },
    {
     "name": "stdout",
     "output_type": "stream",
     "text": [
      "shape of df4 is (482, 3541)\n",
      "Completed 301 out of 462 steps\n",
      "the main data is of shape (542, 2)\n",
      "shape of current_data2 is (542, 59)\n"
     ]
    },
    {
     "name": "stderr",
     "output_type": "stream",
     "text": [
      "C:\\Users\\abhij\\AppData\\Local\\Temp\\ipykernel_16868\\3215059801.py:16: SettingWithCopyWarning: \n",
      "A value is trying to be set on a copy of a slice from a DataFrame.\n",
      "Try using .loc[row_indexer,col_indexer] = value instead\n",
      "\n",
      "See the caveats in the documentation: https://pandas.pydata.org/pandas-docs/stable/user_guide/indexing.html#returning-a-view-versus-a-copy\n",
      "  current_data['Date'] = current_data.index\n"
     ]
    },
    {
     "name": "stdout",
     "output_type": "stream",
     "text": [
      "shape of df4 is (482, 3541)\n",
      "Completed 302 out of 462 steps\n",
      "the main data is of shape (542, 2)\n",
      "shape of current_data2 is (542, 59)\n"
     ]
    },
    {
     "name": "stderr",
     "output_type": "stream",
     "text": [
      "C:\\Users\\abhij\\AppData\\Local\\Temp\\ipykernel_16868\\3215059801.py:16: SettingWithCopyWarning: \n",
      "A value is trying to be set on a copy of a slice from a DataFrame.\n",
      "Try using .loc[row_indexer,col_indexer] = value instead\n",
      "\n",
      "See the caveats in the documentation: https://pandas.pydata.org/pandas-docs/stable/user_guide/indexing.html#returning-a-view-versus-a-copy\n",
      "  current_data['Date'] = current_data.index\n"
     ]
    },
    {
     "name": "stdout",
     "output_type": "stream",
     "text": [
      "shape of df4 is (482, 3541)\n",
      "Completed 303 out of 462 steps\n",
      "the main data is of shape (542, 2)\n",
      "shape of current_data2 is (542, 59)\n"
     ]
    },
    {
     "name": "stderr",
     "output_type": "stream",
     "text": [
      "C:\\Users\\abhij\\AppData\\Local\\Temp\\ipykernel_16868\\3215059801.py:16: SettingWithCopyWarning: \n",
      "A value is trying to be set on a copy of a slice from a DataFrame.\n",
      "Try using .loc[row_indexer,col_indexer] = value instead\n",
      "\n",
      "See the caveats in the documentation: https://pandas.pydata.org/pandas-docs/stable/user_guide/indexing.html#returning-a-view-versus-a-copy\n",
      "  current_data['Date'] = current_data.index\n"
     ]
    },
    {
     "name": "stdout",
     "output_type": "stream",
     "text": [
      "shape of df4 is (482, 3541)\n",
      "Completed 304 out of 462 steps\n",
      "the main data is of shape (542, 2)\n",
      "shape of current_data2 is (542, 59)\n"
     ]
    },
    {
     "name": "stderr",
     "output_type": "stream",
     "text": [
      "C:\\Users\\abhij\\AppData\\Local\\Temp\\ipykernel_16868\\3215059801.py:16: SettingWithCopyWarning: \n",
      "A value is trying to be set on a copy of a slice from a DataFrame.\n",
      "Try using .loc[row_indexer,col_indexer] = value instead\n",
      "\n",
      "See the caveats in the documentation: https://pandas.pydata.org/pandas-docs/stable/user_guide/indexing.html#returning-a-view-versus-a-copy\n",
      "  current_data['Date'] = current_data.index\n"
     ]
    },
    {
     "name": "stdout",
     "output_type": "stream",
     "text": [
      "shape of df4 is (482, 3541)\n",
      "Completed 305 out of 462 steps\n",
      "the main data is of shape (542, 2)\n",
      "shape of current_data2 is (542, 59)\n"
     ]
    },
    {
     "name": "stderr",
     "output_type": "stream",
     "text": [
      "C:\\Users\\abhij\\AppData\\Local\\Temp\\ipykernel_16868\\3215059801.py:16: SettingWithCopyWarning: \n",
      "A value is trying to be set on a copy of a slice from a DataFrame.\n",
      "Try using .loc[row_indexer,col_indexer] = value instead\n",
      "\n",
      "See the caveats in the documentation: https://pandas.pydata.org/pandas-docs/stable/user_guide/indexing.html#returning-a-view-versus-a-copy\n",
      "  current_data['Date'] = current_data.index\n"
     ]
    },
    {
     "name": "stdout",
     "output_type": "stream",
     "text": [
      "shape of df4 is (482, 3541)\n",
      "Completed 306 out of 462 steps\n",
      "the main data is of shape (542, 2)\n",
      "shape of current_data2 is (542, 59)\n"
     ]
    },
    {
     "name": "stderr",
     "output_type": "stream",
     "text": [
      "C:\\Users\\abhij\\AppData\\Local\\Temp\\ipykernel_16868\\3215059801.py:16: SettingWithCopyWarning: \n",
      "A value is trying to be set on a copy of a slice from a DataFrame.\n",
      "Try using .loc[row_indexer,col_indexer] = value instead\n",
      "\n",
      "See the caveats in the documentation: https://pandas.pydata.org/pandas-docs/stable/user_guide/indexing.html#returning-a-view-versus-a-copy\n",
      "  current_data['Date'] = current_data.index\n"
     ]
    },
    {
     "name": "stdout",
     "output_type": "stream",
     "text": [
      "shape of df4 is (482, 3541)\n",
      "Completed 307 out of 462 steps\n",
      "the main data is of shape (542, 2)\n",
      "shape of current_data2 is (542, 59)\n"
     ]
    },
    {
     "name": "stderr",
     "output_type": "stream",
     "text": [
      "C:\\Users\\abhij\\AppData\\Local\\Temp\\ipykernel_16868\\3215059801.py:16: SettingWithCopyWarning: \n",
      "A value is trying to be set on a copy of a slice from a DataFrame.\n",
      "Try using .loc[row_indexer,col_indexer] = value instead\n",
      "\n",
      "See the caveats in the documentation: https://pandas.pydata.org/pandas-docs/stable/user_guide/indexing.html#returning-a-view-versus-a-copy\n",
      "  current_data['Date'] = current_data.index\n"
     ]
    },
    {
     "name": "stdout",
     "output_type": "stream",
     "text": [
      "shape of df4 is (482, 3541)\n",
      "Completed 308 out of 462 steps\n",
      "the main data is of shape (514, 2)\n",
      "shape of current_data2 is (514, 59)\n"
     ]
    },
    {
     "name": "stderr",
     "output_type": "stream",
     "text": [
      "C:\\Users\\abhij\\AppData\\Local\\Temp\\ipykernel_16868\\3215059801.py:16: SettingWithCopyWarning: \n",
      "A value is trying to be set on a copy of a slice from a DataFrame.\n",
      "Try using .loc[row_indexer,col_indexer] = value instead\n",
      "\n",
      "See the caveats in the documentation: https://pandas.pydata.org/pandas-docs/stable/user_guide/indexing.html#returning-a-view-versus-a-copy\n",
      "  current_data['Date'] = current_data.index\n"
     ]
    },
    {
     "name": "stdout",
     "output_type": "stream",
     "text": [
      "shape of df4 is (454, 3541)\n",
      "Completed 309 out of 462 steps\n",
      "the main data is of shape (542, 2)\n",
      "shape of current_data2 is (542, 59)\n"
     ]
    },
    {
     "name": "stderr",
     "output_type": "stream",
     "text": [
      "C:\\Users\\abhij\\AppData\\Local\\Temp\\ipykernel_16868\\3215059801.py:16: SettingWithCopyWarning: \n",
      "A value is trying to be set on a copy of a slice from a DataFrame.\n",
      "Try using .loc[row_indexer,col_indexer] = value instead\n",
      "\n",
      "See the caveats in the documentation: https://pandas.pydata.org/pandas-docs/stable/user_guide/indexing.html#returning-a-view-versus-a-copy\n",
      "  current_data['Date'] = current_data.index\n"
     ]
    },
    {
     "name": "stdout",
     "output_type": "stream",
     "text": [
      "shape of df4 is (482, 3541)\n",
      "Completed 310 out of 462 steps\n",
      "the main data is of shape (542, 2)\n",
      "shape of current_data2 is (542, 59)\n"
     ]
    },
    {
     "name": "stderr",
     "output_type": "stream",
     "text": [
      "C:\\Users\\abhij\\AppData\\Local\\Temp\\ipykernel_16868\\3215059801.py:16: SettingWithCopyWarning: \n",
      "A value is trying to be set on a copy of a slice from a DataFrame.\n",
      "Try using .loc[row_indexer,col_indexer] = value instead\n",
      "\n",
      "See the caveats in the documentation: https://pandas.pydata.org/pandas-docs/stable/user_guide/indexing.html#returning-a-view-versus-a-copy\n",
      "  current_data['Date'] = current_data.index\n"
     ]
    },
    {
     "name": "stdout",
     "output_type": "stream",
     "text": [
      "shape of df4 is (482, 3541)\n",
      "Completed 311 out of 462 steps\n",
      "the main data is of shape (542, 2)\n",
      "shape of current_data2 is (542, 59)\n"
     ]
    },
    {
     "name": "stderr",
     "output_type": "stream",
     "text": [
      "C:\\Users\\abhij\\AppData\\Local\\Temp\\ipykernel_16868\\3215059801.py:16: SettingWithCopyWarning: \n",
      "A value is trying to be set on a copy of a slice from a DataFrame.\n",
      "Try using .loc[row_indexer,col_indexer] = value instead\n",
      "\n",
      "See the caveats in the documentation: https://pandas.pydata.org/pandas-docs/stable/user_guide/indexing.html#returning-a-view-versus-a-copy\n",
      "  current_data['Date'] = current_data.index\n"
     ]
    },
    {
     "name": "stdout",
     "output_type": "stream",
     "text": [
      "shape of df4 is (482, 3541)\n",
      "Completed 312 out of 462 steps\n",
      "the main data is of shape (542, 2)\n",
      "shape of current_data2 is (542, 59)\n"
     ]
    },
    {
     "name": "stderr",
     "output_type": "stream",
     "text": [
      "C:\\Users\\abhij\\AppData\\Local\\Temp\\ipykernel_16868\\3215059801.py:16: SettingWithCopyWarning: \n",
      "A value is trying to be set on a copy of a slice from a DataFrame.\n",
      "Try using .loc[row_indexer,col_indexer] = value instead\n",
      "\n",
      "See the caveats in the documentation: https://pandas.pydata.org/pandas-docs/stable/user_guide/indexing.html#returning-a-view-versus-a-copy\n",
      "  current_data['Date'] = current_data.index\n"
     ]
    },
    {
     "name": "stdout",
     "output_type": "stream",
     "text": [
      "shape of df4 is (482, 3541)\n",
      "Completed 313 out of 462 steps\n",
      "the main data is of shape (542, 2)\n",
      "shape of current_data2 is (542, 59)\n"
     ]
    },
    {
     "name": "stderr",
     "output_type": "stream",
     "text": [
      "C:\\Users\\abhij\\AppData\\Local\\Temp\\ipykernel_16868\\3215059801.py:16: SettingWithCopyWarning: \n",
      "A value is trying to be set on a copy of a slice from a DataFrame.\n",
      "Try using .loc[row_indexer,col_indexer] = value instead\n",
      "\n",
      "See the caveats in the documentation: https://pandas.pydata.org/pandas-docs/stable/user_guide/indexing.html#returning-a-view-versus-a-copy\n",
      "  current_data['Date'] = current_data.index\n"
     ]
    },
    {
     "name": "stdout",
     "output_type": "stream",
     "text": [
      "shape of df4 is (482, 3541)\n",
      "Completed 314 out of 462 steps\n",
      "the main data is of shape (542, 2)\n",
      "shape of current_data2 is (542, 59)\n"
     ]
    },
    {
     "name": "stderr",
     "output_type": "stream",
     "text": [
      "C:\\Users\\abhij\\AppData\\Local\\Temp\\ipykernel_16868\\3215059801.py:16: SettingWithCopyWarning: \n",
      "A value is trying to be set on a copy of a slice from a DataFrame.\n",
      "Try using .loc[row_indexer,col_indexer] = value instead\n",
      "\n",
      "See the caveats in the documentation: https://pandas.pydata.org/pandas-docs/stable/user_guide/indexing.html#returning-a-view-versus-a-copy\n",
      "  current_data['Date'] = current_data.index\n"
     ]
    },
    {
     "name": "stdout",
     "output_type": "stream",
     "text": [
      "shape of df4 is (482, 3541)\n",
      "Completed 315 out of 462 steps\n",
      "the main data is of shape (542, 2)\n",
      "shape of current_data2 is (542, 59)\n"
     ]
    },
    {
     "name": "stderr",
     "output_type": "stream",
     "text": [
      "C:\\Users\\abhij\\AppData\\Local\\Temp\\ipykernel_16868\\3215059801.py:16: SettingWithCopyWarning: \n",
      "A value is trying to be set on a copy of a slice from a DataFrame.\n",
      "Try using .loc[row_indexer,col_indexer] = value instead\n",
      "\n",
      "See the caveats in the documentation: https://pandas.pydata.org/pandas-docs/stable/user_guide/indexing.html#returning-a-view-versus-a-copy\n",
      "  current_data['Date'] = current_data.index\n"
     ]
    },
    {
     "name": "stdout",
     "output_type": "stream",
     "text": [
      "shape of df4 is (482, 3541)\n",
      "Completed 316 out of 462 steps\n",
      "the main data is of shape (542, 2)\n",
      "shape of current_data2 is (542, 59)\n"
     ]
    },
    {
     "name": "stderr",
     "output_type": "stream",
     "text": [
      "C:\\Users\\abhij\\AppData\\Local\\Temp\\ipykernel_16868\\3215059801.py:16: SettingWithCopyWarning: \n",
      "A value is trying to be set on a copy of a slice from a DataFrame.\n",
      "Try using .loc[row_indexer,col_indexer] = value instead\n",
      "\n",
      "See the caveats in the documentation: https://pandas.pydata.org/pandas-docs/stable/user_guide/indexing.html#returning-a-view-versus-a-copy\n",
      "  current_data['Date'] = current_data.index\n"
     ]
    },
    {
     "name": "stdout",
     "output_type": "stream",
     "text": [
      "shape of df4 is (482, 3541)\n",
      "Completed 317 out of 462 steps\n",
      "the main data is of shape (542, 2)\n",
      "shape of current_data2 is (542, 59)\n"
     ]
    },
    {
     "name": "stderr",
     "output_type": "stream",
     "text": [
      "C:\\Users\\abhij\\AppData\\Local\\Temp\\ipykernel_16868\\3215059801.py:16: SettingWithCopyWarning: \n",
      "A value is trying to be set on a copy of a slice from a DataFrame.\n",
      "Try using .loc[row_indexer,col_indexer] = value instead\n",
      "\n",
      "See the caveats in the documentation: https://pandas.pydata.org/pandas-docs/stable/user_guide/indexing.html#returning-a-view-versus-a-copy\n",
      "  current_data['Date'] = current_data.index\n"
     ]
    },
    {
     "name": "stdout",
     "output_type": "stream",
     "text": [
      "shape of df4 is (482, 3541)\n",
      "Completed 318 out of 462 steps\n",
      "the main data is of shape (542, 2)\n",
      "shape of current_data2 is (542, 59)\n"
     ]
    },
    {
     "name": "stderr",
     "output_type": "stream",
     "text": [
      "C:\\Users\\abhij\\AppData\\Local\\Temp\\ipykernel_16868\\3215059801.py:16: SettingWithCopyWarning: \n",
      "A value is trying to be set on a copy of a slice from a DataFrame.\n",
      "Try using .loc[row_indexer,col_indexer] = value instead\n",
      "\n",
      "See the caveats in the documentation: https://pandas.pydata.org/pandas-docs/stable/user_guide/indexing.html#returning-a-view-versus-a-copy\n",
      "  current_data['Date'] = current_data.index\n"
     ]
    },
    {
     "name": "stdout",
     "output_type": "stream",
     "text": [
      "shape of df4 is (482, 3541)\n",
      "Completed 319 out of 462 steps\n",
      "the main data is of shape (542, 2)\n",
      "shape of current_data2 is (542, 59)\n"
     ]
    },
    {
     "name": "stderr",
     "output_type": "stream",
     "text": [
      "C:\\Users\\abhij\\AppData\\Local\\Temp\\ipykernel_16868\\3215059801.py:16: SettingWithCopyWarning: \n",
      "A value is trying to be set on a copy of a slice from a DataFrame.\n",
      "Try using .loc[row_indexer,col_indexer] = value instead\n",
      "\n",
      "See the caveats in the documentation: https://pandas.pydata.org/pandas-docs/stable/user_guide/indexing.html#returning-a-view-versus-a-copy\n",
      "  current_data['Date'] = current_data.index\n"
     ]
    },
    {
     "name": "stdout",
     "output_type": "stream",
     "text": [
      "shape of df4 is (482, 3541)\n",
      "Completed 320 out of 462 steps\n",
      "the main data is of shape (533, 2)\n",
      "shape of current_data2 is (533, 59)\n"
     ]
    },
    {
     "name": "stderr",
     "output_type": "stream",
     "text": [
      "C:\\Users\\abhij\\AppData\\Local\\Temp\\ipykernel_16868\\3215059801.py:16: SettingWithCopyWarning: \n",
      "A value is trying to be set on a copy of a slice from a DataFrame.\n",
      "Try using .loc[row_indexer,col_indexer] = value instead\n",
      "\n",
      "See the caveats in the documentation: https://pandas.pydata.org/pandas-docs/stable/user_guide/indexing.html#returning-a-view-versus-a-copy\n",
      "  current_data['Date'] = current_data.index\n"
     ]
    },
    {
     "name": "stdout",
     "output_type": "stream",
     "text": [
      "shape of df4 is (473, 3541)\n",
      "Completed 321 out of 462 steps\n",
      "the main data is of shape (542, 2)\n",
      "shape of current_data2 is (542, 59)\n"
     ]
    },
    {
     "name": "stderr",
     "output_type": "stream",
     "text": [
      "C:\\Users\\abhij\\AppData\\Local\\Temp\\ipykernel_16868\\3215059801.py:16: SettingWithCopyWarning: \n",
      "A value is trying to be set on a copy of a slice from a DataFrame.\n",
      "Try using .loc[row_indexer,col_indexer] = value instead\n",
      "\n",
      "See the caveats in the documentation: https://pandas.pydata.org/pandas-docs/stable/user_guide/indexing.html#returning-a-view-versus-a-copy\n",
      "  current_data['Date'] = current_data.index\n"
     ]
    },
    {
     "name": "stdout",
     "output_type": "stream",
     "text": [
      "shape of df4 is (482, 3541)\n",
      "Completed 322 out of 462 steps\n",
      "the main data is of shape (542, 2)\n",
      "shape of current_data2 is (542, 59)\n"
     ]
    },
    {
     "name": "stderr",
     "output_type": "stream",
     "text": [
      "C:\\Users\\abhij\\AppData\\Local\\Temp\\ipykernel_16868\\3215059801.py:16: SettingWithCopyWarning: \n",
      "A value is trying to be set on a copy of a slice from a DataFrame.\n",
      "Try using .loc[row_indexer,col_indexer] = value instead\n",
      "\n",
      "See the caveats in the documentation: https://pandas.pydata.org/pandas-docs/stable/user_guide/indexing.html#returning-a-view-versus-a-copy\n",
      "  current_data['Date'] = current_data.index\n"
     ]
    },
    {
     "name": "stdout",
     "output_type": "stream",
     "text": [
      "shape of df4 is (482, 3541)\n",
      "Completed 323 out of 462 steps\n",
      "the main data is of shape (542, 2)\n",
      "shape of current_data2 is (542, 59)\n"
     ]
    },
    {
     "name": "stderr",
     "output_type": "stream",
     "text": [
      "C:\\Users\\abhij\\AppData\\Local\\Temp\\ipykernel_16868\\3215059801.py:16: SettingWithCopyWarning: \n",
      "A value is trying to be set on a copy of a slice from a DataFrame.\n",
      "Try using .loc[row_indexer,col_indexer] = value instead\n",
      "\n",
      "See the caveats in the documentation: https://pandas.pydata.org/pandas-docs/stable/user_guide/indexing.html#returning-a-view-versus-a-copy\n",
      "  current_data['Date'] = current_data.index\n"
     ]
    },
    {
     "name": "stdout",
     "output_type": "stream",
     "text": [
      "shape of df4 is (482, 3541)\n",
      "Completed 324 out of 462 steps\n",
      "the main data is of shape (542, 2)\n",
      "shape of current_data2 is (542, 59)\n"
     ]
    },
    {
     "name": "stderr",
     "output_type": "stream",
     "text": [
      "C:\\Users\\abhij\\AppData\\Local\\Temp\\ipykernel_16868\\3215059801.py:16: SettingWithCopyWarning: \n",
      "A value is trying to be set on a copy of a slice from a DataFrame.\n",
      "Try using .loc[row_indexer,col_indexer] = value instead\n",
      "\n",
      "See the caveats in the documentation: https://pandas.pydata.org/pandas-docs/stable/user_guide/indexing.html#returning-a-view-versus-a-copy\n",
      "  current_data['Date'] = current_data.index\n"
     ]
    },
    {
     "name": "stdout",
     "output_type": "stream",
     "text": [
      "shape of df4 is (482, 3541)\n",
      "Completed 325 out of 462 steps\n",
      "the main data is of shape (542, 2)\n",
      "shape of current_data2 is (542, 59)\n"
     ]
    },
    {
     "name": "stderr",
     "output_type": "stream",
     "text": [
      "C:\\Users\\abhij\\AppData\\Local\\Temp\\ipykernel_16868\\3215059801.py:16: SettingWithCopyWarning: \n",
      "A value is trying to be set on a copy of a slice from a DataFrame.\n",
      "Try using .loc[row_indexer,col_indexer] = value instead\n",
      "\n",
      "See the caveats in the documentation: https://pandas.pydata.org/pandas-docs/stable/user_guide/indexing.html#returning-a-view-versus-a-copy\n",
      "  current_data['Date'] = current_data.index\n"
     ]
    },
    {
     "name": "stdout",
     "output_type": "stream",
     "text": [
      "shape of df4 is (482, 3541)\n",
      "Completed 326 out of 462 steps\n",
      "the main data is of shape (542, 2)\n",
      "shape of current_data2 is (542, 59)\n"
     ]
    },
    {
     "name": "stderr",
     "output_type": "stream",
     "text": [
      "C:\\Users\\abhij\\AppData\\Local\\Temp\\ipykernel_16868\\3215059801.py:16: SettingWithCopyWarning: \n",
      "A value is trying to be set on a copy of a slice from a DataFrame.\n",
      "Try using .loc[row_indexer,col_indexer] = value instead\n",
      "\n",
      "See the caveats in the documentation: https://pandas.pydata.org/pandas-docs/stable/user_guide/indexing.html#returning-a-view-versus-a-copy\n",
      "  current_data['Date'] = current_data.index\n"
     ]
    },
    {
     "name": "stdout",
     "output_type": "stream",
     "text": [
      "shape of df4 is (482, 3541)\n",
      "Completed 327 out of 462 steps\n",
      "the main data is of shape (542, 2)\n",
      "shape of current_data2 is (542, 59)\n"
     ]
    },
    {
     "name": "stderr",
     "output_type": "stream",
     "text": [
      "C:\\Users\\abhij\\AppData\\Local\\Temp\\ipykernel_16868\\3215059801.py:16: SettingWithCopyWarning: \n",
      "A value is trying to be set on a copy of a slice from a DataFrame.\n",
      "Try using .loc[row_indexer,col_indexer] = value instead\n",
      "\n",
      "See the caveats in the documentation: https://pandas.pydata.org/pandas-docs/stable/user_guide/indexing.html#returning-a-view-versus-a-copy\n",
      "  current_data['Date'] = current_data.index\n"
     ]
    },
    {
     "name": "stdout",
     "output_type": "stream",
     "text": [
      "shape of df4 is (482, 3541)\n",
      "Completed 328 out of 462 steps\n",
      "the main data is of shape (542, 2)\n",
      "shape of current_data2 is (542, 59)\n"
     ]
    },
    {
     "name": "stderr",
     "output_type": "stream",
     "text": [
      "C:\\Users\\abhij\\AppData\\Local\\Temp\\ipykernel_16868\\3215059801.py:16: SettingWithCopyWarning: \n",
      "A value is trying to be set on a copy of a slice from a DataFrame.\n",
      "Try using .loc[row_indexer,col_indexer] = value instead\n",
      "\n",
      "See the caveats in the documentation: https://pandas.pydata.org/pandas-docs/stable/user_guide/indexing.html#returning-a-view-versus-a-copy\n",
      "  current_data['Date'] = current_data.index\n"
     ]
    },
    {
     "name": "stdout",
     "output_type": "stream",
     "text": [
      "shape of df4 is (482, 3541)\n",
      "Completed 329 out of 462 steps\n",
      "the main data is of shape (542, 2)\n",
      "shape of current_data2 is (542, 59)\n"
     ]
    },
    {
     "name": "stderr",
     "output_type": "stream",
     "text": [
      "C:\\Users\\abhij\\AppData\\Local\\Temp\\ipykernel_16868\\3215059801.py:16: SettingWithCopyWarning: \n",
      "A value is trying to be set on a copy of a slice from a DataFrame.\n",
      "Try using .loc[row_indexer,col_indexer] = value instead\n",
      "\n",
      "See the caveats in the documentation: https://pandas.pydata.org/pandas-docs/stable/user_guide/indexing.html#returning-a-view-versus-a-copy\n",
      "  current_data['Date'] = current_data.index\n"
     ]
    },
    {
     "name": "stdout",
     "output_type": "stream",
     "text": [
      "shape of df4 is (482, 3541)\n",
      "Completed 330 out of 462 steps\n",
      "the main data is of shape (542, 2)\n",
      "shape of current_data2 is (542, 59)\n"
     ]
    },
    {
     "name": "stderr",
     "output_type": "stream",
     "text": [
      "C:\\Users\\abhij\\AppData\\Local\\Temp\\ipykernel_16868\\3215059801.py:16: SettingWithCopyWarning: \n",
      "A value is trying to be set on a copy of a slice from a DataFrame.\n",
      "Try using .loc[row_indexer,col_indexer] = value instead\n",
      "\n",
      "See the caveats in the documentation: https://pandas.pydata.org/pandas-docs/stable/user_guide/indexing.html#returning-a-view-versus-a-copy\n",
      "  current_data['Date'] = current_data.index\n"
     ]
    },
    {
     "name": "stdout",
     "output_type": "stream",
     "text": [
      "shape of df4 is (482, 3541)\n",
      "Completed 331 out of 462 steps\n",
      "the main data is of shape (542, 2)\n",
      "shape of current_data2 is (542, 59)\n"
     ]
    },
    {
     "name": "stderr",
     "output_type": "stream",
     "text": [
      "C:\\Users\\abhij\\AppData\\Local\\Temp\\ipykernel_16868\\3215059801.py:16: SettingWithCopyWarning: \n",
      "A value is trying to be set on a copy of a slice from a DataFrame.\n",
      "Try using .loc[row_indexer,col_indexer] = value instead\n",
      "\n",
      "See the caveats in the documentation: https://pandas.pydata.org/pandas-docs/stable/user_guide/indexing.html#returning-a-view-versus-a-copy\n",
      "  current_data['Date'] = current_data.index\n"
     ]
    },
    {
     "name": "stdout",
     "output_type": "stream",
     "text": [
      "shape of df4 is (482, 3541)\n",
      "Completed 332 out of 462 steps\n",
      "the main data is of shape (542, 2)\n",
      "shape of current_data2 is (542, 59)\n"
     ]
    },
    {
     "name": "stderr",
     "output_type": "stream",
     "text": [
      "C:\\Users\\abhij\\AppData\\Local\\Temp\\ipykernel_16868\\3215059801.py:16: SettingWithCopyWarning: \n",
      "A value is trying to be set on a copy of a slice from a DataFrame.\n",
      "Try using .loc[row_indexer,col_indexer] = value instead\n",
      "\n",
      "See the caveats in the documentation: https://pandas.pydata.org/pandas-docs/stable/user_guide/indexing.html#returning-a-view-versus-a-copy\n",
      "  current_data['Date'] = current_data.index\n"
     ]
    },
    {
     "name": "stdout",
     "output_type": "stream",
     "text": [
      "shape of df4 is (482, 3541)\n",
      "Completed 333 out of 462 steps\n",
      "the main data is of shape (542, 2)\n",
      "shape of current_data2 is (542, 59)\n"
     ]
    },
    {
     "name": "stderr",
     "output_type": "stream",
     "text": [
      "C:\\Users\\abhij\\AppData\\Local\\Temp\\ipykernel_16868\\3215059801.py:16: SettingWithCopyWarning: \n",
      "A value is trying to be set on a copy of a slice from a DataFrame.\n",
      "Try using .loc[row_indexer,col_indexer] = value instead\n",
      "\n",
      "See the caveats in the documentation: https://pandas.pydata.org/pandas-docs/stable/user_guide/indexing.html#returning-a-view-versus-a-copy\n",
      "  current_data['Date'] = current_data.index\n"
     ]
    },
    {
     "name": "stdout",
     "output_type": "stream",
     "text": [
      "shape of df4 is (482, 3541)\n",
      "Completed 334 out of 462 steps\n",
      "the main data is of shape (542, 2)\n",
      "shape of current_data2 is (542, 59)\n"
     ]
    },
    {
     "name": "stderr",
     "output_type": "stream",
     "text": [
      "C:\\Users\\abhij\\AppData\\Local\\Temp\\ipykernel_16868\\3215059801.py:16: SettingWithCopyWarning: \n",
      "A value is trying to be set on a copy of a slice from a DataFrame.\n",
      "Try using .loc[row_indexer,col_indexer] = value instead\n",
      "\n",
      "See the caveats in the documentation: https://pandas.pydata.org/pandas-docs/stable/user_guide/indexing.html#returning-a-view-versus-a-copy\n",
      "  current_data['Date'] = current_data.index\n"
     ]
    },
    {
     "name": "stdout",
     "output_type": "stream",
     "text": [
      "shape of df4 is (482, 3541)\n",
      "Completed 335 out of 462 steps\n",
      "the main data is of shape (542, 2)\n",
      "shape of current_data2 is (542, 59)\n"
     ]
    },
    {
     "name": "stderr",
     "output_type": "stream",
     "text": [
      "C:\\Users\\abhij\\AppData\\Local\\Temp\\ipykernel_16868\\3215059801.py:16: SettingWithCopyWarning: \n",
      "A value is trying to be set on a copy of a slice from a DataFrame.\n",
      "Try using .loc[row_indexer,col_indexer] = value instead\n",
      "\n",
      "See the caveats in the documentation: https://pandas.pydata.org/pandas-docs/stable/user_guide/indexing.html#returning-a-view-versus-a-copy\n",
      "  current_data['Date'] = current_data.index\n"
     ]
    },
    {
     "name": "stdout",
     "output_type": "stream",
     "text": [
      "shape of df4 is (482, 3541)\n",
      "Completed 336 out of 462 steps\n",
      "the main data is of shape (542, 2)\n",
      "shape of current_data2 is (542, 59)\n"
     ]
    },
    {
     "name": "stderr",
     "output_type": "stream",
     "text": [
      "C:\\Users\\abhij\\AppData\\Local\\Temp\\ipykernel_16868\\3215059801.py:16: SettingWithCopyWarning: \n",
      "A value is trying to be set on a copy of a slice from a DataFrame.\n",
      "Try using .loc[row_indexer,col_indexer] = value instead\n",
      "\n",
      "See the caveats in the documentation: https://pandas.pydata.org/pandas-docs/stable/user_guide/indexing.html#returning-a-view-versus-a-copy\n",
      "  current_data['Date'] = current_data.index\n"
     ]
    },
    {
     "name": "stdout",
     "output_type": "stream",
     "text": [
      "shape of df4 is (482, 3541)\n",
      "Completed 337 out of 462 steps\n",
      "the main data is of shape (542, 2)\n",
      "shape of current_data2 is (542, 59)\n"
     ]
    },
    {
     "name": "stderr",
     "output_type": "stream",
     "text": [
      "C:\\Users\\abhij\\AppData\\Local\\Temp\\ipykernel_16868\\3215059801.py:16: SettingWithCopyWarning: \n",
      "A value is trying to be set on a copy of a slice from a DataFrame.\n",
      "Try using .loc[row_indexer,col_indexer] = value instead\n",
      "\n",
      "See the caveats in the documentation: https://pandas.pydata.org/pandas-docs/stable/user_guide/indexing.html#returning-a-view-versus-a-copy\n",
      "  current_data['Date'] = current_data.index\n"
     ]
    },
    {
     "name": "stdout",
     "output_type": "stream",
     "text": [
      "shape of df4 is (482, 3541)\n",
      "Completed 338 out of 462 steps\n",
      "the main data is of shape (542, 2)\n",
      "shape of current_data2 is (542, 59)\n"
     ]
    },
    {
     "name": "stderr",
     "output_type": "stream",
     "text": [
      "C:\\Users\\abhij\\AppData\\Local\\Temp\\ipykernel_16868\\3215059801.py:16: SettingWithCopyWarning: \n",
      "A value is trying to be set on a copy of a slice from a DataFrame.\n",
      "Try using .loc[row_indexer,col_indexer] = value instead\n",
      "\n",
      "See the caveats in the documentation: https://pandas.pydata.org/pandas-docs/stable/user_guide/indexing.html#returning-a-view-versus-a-copy\n",
      "  current_data['Date'] = current_data.index\n"
     ]
    },
    {
     "name": "stdout",
     "output_type": "stream",
     "text": [
      "shape of df4 is (482, 3541)\n",
      "Completed 339 out of 462 steps\n",
      "the main data is of shape (542, 2)\n",
      "shape of current_data2 is (542, 59)\n"
     ]
    },
    {
     "name": "stderr",
     "output_type": "stream",
     "text": [
      "C:\\Users\\abhij\\AppData\\Local\\Temp\\ipykernel_16868\\3215059801.py:16: SettingWithCopyWarning: \n",
      "A value is trying to be set on a copy of a slice from a DataFrame.\n",
      "Try using .loc[row_indexer,col_indexer] = value instead\n",
      "\n",
      "See the caveats in the documentation: https://pandas.pydata.org/pandas-docs/stable/user_guide/indexing.html#returning-a-view-versus-a-copy\n",
      "  current_data['Date'] = current_data.index\n"
     ]
    },
    {
     "name": "stdout",
     "output_type": "stream",
     "text": [
      "shape of df4 is (482, 3541)\n",
      "Completed 340 out of 462 steps\n",
      "the main data is of shape (542, 2)\n",
      "shape of current_data2 is (542, 59)\n"
     ]
    },
    {
     "name": "stderr",
     "output_type": "stream",
     "text": [
      "C:\\Users\\abhij\\AppData\\Local\\Temp\\ipykernel_16868\\3215059801.py:16: SettingWithCopyWarning: \n",
      "A value is trying to be set on a copy of a slice from a DataFrame.\n",
      "Try using .loc[row_indexer,col_indexer] = value instead\n",
      "\n",
      "See the caveats in the documentation: https://pandas.pydata.org/pandas-docs/stable/user_guide/indexing.html#returning-a-view-versus-a-copy\n",
      "  current_data['Date'] = current_data.index\n"
     ]
    },
    {
     "name": "stdout",
     "output_type": "stream",
     "text": [
      "shape of df4 is (482, 3541)\n",
      "Completed 341 out of 462 steps\n",
      "the main data is of shape (542, 2)\n",
      "shape of current_data2 is (542, 59)\n"
     ]
    },
    {
     "name": "stderr",
     "output_type": "stream",
     "text": [
      "C:\\Users\\abhij\\AppData\\Local\\Temp\\ipykernel_16868\\3215059801.py:16: SettingWithCopyWarning: \n",
      "A value is trying to be set on a copy of a slice from a DataFrame.\n",
      "Try using .loc[row_indexer,col_indexer] = value instead\n",
      "\n",
      "See the caveats in the documentation: https://pandas.pydata.org/pandas-docs/stable/user_guide/indexing.html#returning-a-view-versus-a-copy\n",
      "  current_data['Date'] = current_data.index\n"
     ]
    },
    {
     "name": "stdout",
     "output_type": "stream",
     "text": [
      "shape of df4 is (482, 3541)\n",
      "Completed 342 out of 462 steps\n",
      "the main data is of shape (542, 2)\n",
      "shape of current_data2 is (542, 59)\n"
     ]
    },
    {
     "name": "stderr",
     "output_type": "stream",
     "text": [
      "C:\\Users\\abhij\\AppData\\Local\\Temp\\ipykernel_16868\\3215059801.py:16: SettingWithCopyWarning: \n",
      "A value is trying to be set on a copy of a slice from a DataFrame.\n",
      "Try using .loc[row_indexer,col_indexer] = value instead\n",
      "\n",
      "See the caveats in the documentation: https://pandas.pydata.org/pandas-docs/stable/user_guide/indexing.html#returning-a-view-versus-a-copy\n",
      "  current_data['Date'] = current_data.index\n"
     ]
    },
    {
     "name": "stdout",
     "output_type": "stream",
     "text": [
      "shape of df4 is (482, 3541)\n",
      "Completed 343 out of 462 steps\n",
      "the main data is of shape (542, 2)\n",
      "shape of current_data2 is (542, 59)\n"
     ]
    },
    {
     "name": "stderr",
     "output_type": "stream",
     "text": [
      "C:\\Users\\abhij\\AppData\\Local\\Temp\\ipykernel_16868\\3215059801.py:16: SettingWithCopyWarning: \n",
      "A value is trying to be set on a copy of a slice from a DataFrame.\n",
      "Try using .loc[row_indexer,col_indexer] = value instead\n",
      "\n",
      "See the caveats in the documentation: https://pandas.pydata.org/pandas-docs/stable/user_guide/indexing.html#returning-a-view-versus-a-copy\n",
      "  current_data['Date'] = current_data.index\n"
     ]
    },
    {
     "name": "stdout",
     "output_type": "stream",
     "text": [
      "shape of df4 is (482, 3541)\n",
      "Completed 344 out of 462 steps\n",
      "the main data is of shape (542, 2)\n",
      "shape of current_data2 is (542, 59)\n"
     ]
    },
    {
     "name": "stderr",
     "output_type": "stream",
     "text": [
      "C:\\Users\\abhij\\AppData\\Local\\Temp\\ipykernel_16868\\3215059801.py:16: SettingWithCopyWarning: \n",
      "A value is trying to be set on a copy of a slice from a DataFrame.\n",
      "Try using .loc[row_indexer,col_indexer] = value instead\n",
      "\n",
      "See the caveats in the documentation: https://pandas.pydata.org/pandas-docs/stable/user_guide/indexing.html#returning-a-view-versus-a-copy\n",
      "  current_data['Date'] = current_data.index\n"
     ]
    },
    {
     "name": "stdout",
     "output_type": "stream",
     "text": [
      "shape of df4 is (482, 3541)\n",
      "Completed 345 out of 462 steps\n",
      "the main data is of shape (542, 2)\n",
      "shape of current_data2 is (542, 59)\n"
     ]
    },
    {
     "name": "stderr",
     "output_type": "stream",
     "text": [
      "C:\\Users\\abhij\\AppData\\Local\\Temp\\ipykernel_16868\\3215059801.py:16: SettingWithCopyWarning: \n",
      "A value is trying to be set on a copy of a slice from a DataFrame.\n",
      "Try using .loc[row_indexer,col_indexer] = value instead\n",
      "\n",
      "See the caveats in the documentation: https://pandas.pydata.org/pandas-docs/stable/user_guide/indexing.html#returning-a-view-versus-a-copy\n",
      "  current_data['Date'] = current_data.index\n"
     ]
    },
    {
     "name": "stdout",
     "output_type": "stream",
     "text": [
      "shape of df4 is (482, 3541)\n",
      "Completed 346 out of 462 steps\n",
      "the main data is of shape (542, 2)\n",
      "shape of current_data2 is (542, 59)\n"
     ]
    },
    {
     "name": "stderr",
     "output_type": "stream",
     "text": [
      "C:\\Users\\abhij\\AppData\\Local\\Temp\\ipykernel_16868\\3215059801.py:16: SettingWithCopyWarning: \n",
      "A value is trying to be set on a copy of a slice from a DataFrame.\n",
      "Try using .loc[row_indexer,col_indexer] = value instead\n",
      "\n",
      "See the caveats in the documentation: https://pandas.pydata.org/pandas-docs/stable/user_guide/indexing.html#returning-a-view-versus-a-copy\n",
      "  current_data['Date'] = current_data.index\n"
     ]
    },
    {
     "name": "stdout",
     "output_type": "stream",
     "text": [
      "shape of df4 is (482, 3541)\n",
      "Completed 347 out of 462 steps\n",
      "the main data is of shape (542, 2)\n",
      "shape of current_data2 is (542, 59)\n"
     ]
    },
    {
     "name": "stderr",
     "output_type": "stream",
     "text": [
      "C:\\Users\\abhij\\AppData\\Local\\Temp\\ipykernel_16868\\3215059801.py:16: SettingWithCopyWarning: \n",
      "A value is trying to be set on a copy of a slice from a DataFrame.\n",
      "Try using .loc[row_indexer,col_indexer] = value instead\n",
      "\n",
      "See the caveats in the documentation: https://pandas.pydata.org/pandas-docs/stable/user_guide/indexing.html#returning-a-view-versus-a-copy\n",
      "  current_data['Date'] = current_data.index\n"
     ]
    },
    {
     "name": "stdout",
     "output_type": "stream",
     "text": [
      "shape of df4 is (482, 3541)\n",
      "Completed 348 out of 462 steps\n",
      "the main data is of shape (542, 2)\n",
      "shape of current_data2 is (542, 59)\n"
     ]
    },
    {
     "name": "stderr",
     "output_type": "stream",
     "text": [
      "C:\\Users\\abhij\\AppData\\Local\\Temp\\ipykernel_16868\\3215059801.py:16: SettingWithCopyWarning: \n",
      "A value is trying to be set on a copy of a slice from a DataFrame.\n",
      "Try using .loc[row_indexer,col_indexer] = value instead\n",
      "\n",
      "See the caveats in the documentation: https://pandas.pydata.org/pandas-docs/stable/user_guide/indexing.html#returning-a-view-versus-a-copy\n",
      "  current_data['Date'] = current_data.index\n"
     ]
    },
    {
     "name": "stdout",
     "output_type": "stream",
     "text": [
      "shape of df4 is (482, 3541)\n",
      "Completed 349 out of 462 steps\n",
      "the main data is of shape (542, 2)\n",
      "shape of current_data2 is (542, 59)\n"
     ]
    },
    {
     "name": "stderr",
     "output_type": "stream",
     "text": [
      "C:\\Users\\abhij\\AppData\\Local\\Temp\\ipykernel_16868\\3215059801.py:16: SettingWithCopyWarning: \n",
      "A value is trying to be set on a copy of a slice from a DataFrame.\n",
      "Try using .loc[row_indexer,col_indexer] = value instead\n",
      "\n",
      "See the caveats in the documentation: https://pandas.pydata.org/pandas-docs/stable/user_guide/indexing.html#returning-a-view-versus-a-copy\n",
      "  current_data['Date'] = current_data.index\n"
     ]
    },
    {
     "name": "stdout",
     "output_type": "stream",
     "text": [
      "shape of df4 is (482, 3541)\n",
      "Completed 350 out of 462 steps\n",
      "the main data is of shape (542, 2)\n",
      "shape of current_data2 is (542, 59)\n"
     ]
    },
    {
     "name": "stderr",
     "output_type": "stream",
     "text": [
      "C:\\Users\\abhij\\AppData\\Local\\Temp\\ipykernel_16868\\3215059801.py:16: SettingWithCopyWarning: \n",
      "A value is trying to be set on a copy of a slice from a DataFrame.\n",
      "Try using .loc[row_indexer,col_indexer] = value instead\n",
      "\n",
      "See the caveats in the documentation: https://pandas.pydata.org/pandas-docs/stable/user_guide/indexing.html#returning-a-view-versus-a-copy\n",
      "  current_data['Date'] = current_data.index\n"
     ]
    },
    {
     "name": "stdout",
     "output_type": "stream",
     "text": [
      "shape of df4 is (482, 3541)\n",
      "Completed 351 out of 462 steps\n",
      "the main data is of shape (542, 2)\n",
      "shape of current_data2 is (542, 59)\n"
     ]
    },
    {
     "name": "stderr",
     "output_type": "stream",
     "text": [
      "C:\\Users\\abhij\\AppData\\Local\\Temp\\ipykernel_16868\\3215059801.py:16: SettingWithCopyWarning: \n",
      "A value is trying to be set on a copy of a slice from a DataFrame.\n",
      "Try using .loc[row_indexer,col_indexer] = value instead\n",
      "\n",
      "See the caveats in the documentation: https://pandas.pydata.org/pandas-docs/stable/user_guide/indexing.html#returning-a-view-versus-a-copy\n",
      "  current_data['Date'] = current_data.index\n"
     ]
    },
    {
     "name": "stdout",
     "output_type": "stream",
     "text": [
      "shape of df4 is (482, 3541)\n",
      "Completed 352 out of 462 steps\n",
      "the main data is of shape (542, 2)\n",
      "shape of current_data2 is (542, 59)\n"
     ]
    },
    {
     "name": "stderr",
     "output_type": "stream",
     "text": [
      "C:\\Users\\abhij\\AppData\\Local\\Temp\\ipykernel_16868\\3215059801.py:16: SettingWithCopyWarning: \n",
      "A value is trying to be set on a copy of a slice from a DataFrame.\n",
      "Try using .loc[row_indexer,col_indexer] = value instead\n",
      "\n",
      "See the caveats in the documentation: https://pandas.pydata.org/pandas-docs/stable/user_guide/indexing.html#returning-a-view-versus-a-copy\n",
      "  current_data['Date'] = current_data.index\n"
     ]
    },
    {
     "name": "stdout",
     "output_type": "stream",
     "text": [
      "shape of df4 is (482, 3541)\n",
      "Completed 353 out of 462 steps\n",
      "the main data is of shape (542, 2)\n",
      "shape of current_data2 is (542, 59)\n"
     ]
    },
    {
     "name": "stderr",
     "output_type": "stream",
     "text": [
      "C:\\Users\\abhij\\AppData\\Local\\Temp\\ipykernel_16868\\3215059801.py:16: SettingWithCopyWarning: \n",
      "A value is trying to be set on a copy of a slice from a DataFrame.\n",
      "Try using .loc[row_indexer,col_indexer] = value instead\n",
      "\n",
      "See the caveats in the documentation: https://pandas.pydata.org/pandas-docs/stable/user_guide/indexing.html#returning-a-view-versus-a-copy\n",
      "  current_data['Date'] = current_data.index\n"
     ]
    },
    {
     "name": "stdout",
     "output_type": "stream",
     "text": [
      "shape of df4 is (482, 3541)\n",
      "Completed 354 out of 462 steps\n",
      "the main data is of shape (542, 2)\n",
      "shape of current_data2 is (542, 59)\n"
     ]
    },
    {
     "name": "stderr",
     "output_type": "stream",
     "text": [
      "C:\\Users\\abhij\\AppData\\Local\\Temp\\ipykernel_16868\\3215059801.py:16: SettingWithCopyWarning: \n",
      "A value is trying to be set on a copy of a slice from a DataFrame.\n",
      "Try using .loc[row_indexer,col_indexer] = value instead\n",
      "\n",
      "See the caveats in the documentation: https://pandas.pydata.org/pandas-docs/stable/user_guide/indexing.html#returning-a-view-versus-a-copy\n",
      "  current_data['Date'] = current_data.index\n"
     ]
    },
    {
     "name": "stdout",
     "output_type": "stream",
     "text": [
      "shape of df4 is (482, 3541)\n",
      "Completed 355 out of 462 steps\n",
      "the main data is of shape (542, 2)\n",
      "shape of current_data2 is (542, 59)\n"
     ]
    },
    {
     "name": "stderr",
     "output_type": "stream",
     "text": [
      "C:\\Users\\abhij\\AppData\\Local\\Temp\\ipykernel_16868\\3215059801.py:16: SettingWithCopyWarning: \n",
      "A value is trying to be set on a copy of a slice from a DataFrame.\n",
      "Try using .loc[row_indexer,col_indexer] = value instead\n",
      "\n",
      "See the caveats in the documentation: https://pandas.pydata.org/pandas-docs/stable/user_guide/indexing.html#returning-a-view-versus-a-copy\n",
      "  current_data['Date'] = current_data.index\n"
     ]
    },
    {
     "name": "stdout",
     "output_type": "stream",
     "text": [
      "shape of df4 is (482, 3541)\n",
      "Completed 356 out of 462 steps\n",
      "the main data is of shape (542, 2)\n",
      "shape of current_data2 is (542, 59)\n"
     ]
    },
    {
     "name": "stderr",
     "output_type": "stream",
     "text": [
      "C:\\Users\\abhij\\AppData\\Local\\Temp\\ipykernel_16868\\3215059801.py:16: SettingWithCopyWarning: \n",
      "A value is trying to be set on a copy of a slice from a DataFrame.\n",
      "Try using .loc[row_indexer,col_indexer] = value instead\n",
      "\n",
      "See the caveats in the documentation: https://pandas.pydata.org/pandas-docs/stable/user_guide/indexing.html#returning-a-view-versus-a-copy\n",
      "  current_data['Date'] = current_data.index\n"
     ]
    },
    {
     "name": "stdout",
     "output_type": "stream",
     "text": [
      "shape of df4 is (482, 3541)\n",
      "Completed 357 out of 462 steps\n",
      "the main data is of shape (542, 2)\n",
      "shape of current_data2 is (542, 59)\n"
     ]
    },
    {
     "name": "stderr",
     "output_type": "stream",
     "text": [
      "C:\\Users\\abhij\\AppData\\Local\\Temp\\ipykernel_16868\\3215059801.py:16: SettingWithCopyWarning: \n",
      "A value is trying to be set on a copy of a slice from a DataFrame.\n",
      "Try using .loc[row_indexer,col_indexer] = value instead\n",
      "\n",
      "See the caveats in the documentation: https://pandas.pydata.org/pandas-docs/stable/user_guide/indexing.html#returning-a-view-versus-a-copy\n",
      "  current_data['Date'] = current_data.index\n"
     ]
    },
    {
     "name": "stdout",
     "output_type": "stream",
     "text": [
      "shape of df4 is (482, 3541)\n",
      "Completed 358 out of 462 steps\n",
      "the main data is of shape (542, 2)\n",
      "shape of current_data2 is (542, 59)\n"
     ]
    },
    {
     "name": "stderr",
     "output_type": "stream",
     "text": [
      "C:\\Users\\abhij\\AppData\\Local\\Temp\\ipykernel_16868\\3215059801.py:16: SettingWithCopyWarning: \n",
      "A value is trying to be set on a copy of a slice from a DataFrame.\n",
      "Try using .loc[row_indexer,col_indexer] = value instead\n",
      "\n",
      "See the caveats in the documentation: https://pandas.pydata.org/pandas-docs/stable/user_guide/indexing.html#returning-a-view-versus-a-copy\n",
      "  current_data['Date'] = current_data.index\n"
     ]
    },
    {
     "name": "stdout",
     "output_type": "stream",
     "text": [
      "shape of df4 is (482, 3541)\n",
      "Completed 359 out of 462 steps\n",
      "the main data is of shape (542, 2)\n",
      "shape of current_data2 is (542, 59)\n"
     ]
    },
    {
     "name": "stderr",
     "output_type": "stream",
     "text": [
      "C:\\Users\\abhij\\AppData\\Local\\Temp\\ipykernel_16868\\3215059801.py:16: SettingWithCopyWarning: \n",
      "A value is trying to be set on a copy of a slice from a DataFrame.\n",
      "Try using .loc[row_indexer,col_indexer] = value instead\n",
      "\n",
      "See the caveats in the documentation: https://pandas.pydata.org/pandas-docs/stable/user_guide/indexing.html#returning-a-view-versus-a-copy\n",
      "  current_data['Date'] = current_data.index\n"
     ]
    },
    {
     "name": "stdout",
     "output_type": "stream",
     "text": [
      "shape of df4 is (482, 3541)\n",
      "Completed 360 out of 462 steps\n",
      "the main data is of shape (542, 2)\n",
      "shape of current_data2 is (542, 59)\n"
     ]
    },
    {
     "name": "stderr",
     "output_type": "stream",
     "text": [
      "C:\\Users\\abhij\\AppData\\Local\\Temp\\ipykernel_16868\\3215059801.py:16: SettingWithCopyWarning: \n",
      "A value is trying to be set on a copy of a slice from a DataFrame.\n",
      "Try using .loc[row_indexer,col_indexer] = value instead\n",
      "\n",
      "See the caveats in the documentation: https://pandas.pydata.org/pandas-docs/stable/user_guide/indexing.html#returning-a-view-versus-a-copy\n",
      "  current_data['Date'] = current_data.index\n"
     ]
    },
    {
     "name": "stdout",
     "output_type": "stream",
     "text": [
      "shape of df4 is (482, 3541)\n",
      "Completed 361 out of 462 steps\n",
      "the main data is of shape (542, 2)\n",
      "shape of current_data2 is (542, 59)\n"
     ]
    },
    {
     "name": "stderr",
     "output_type": "stream",
     "text": [
      "C:\\Users\\abhij\\AppData\\Local\\Temp\\ipykernel_16868\\3215059801.py:16: SettingWithCopyWarning: \n",
      "A value is trying to be set on a copy of a slice from a DataFrame.\n",
      "Try using .loc[row_indexer,col_indexer] = value instead\n",
      "\n",
      "See the caveats in the documentation: https://pandas.pydata.org/pandas-docs/stable/user_guide/indexing.html#returning-a-view-versus-a-copy\n",
      "  current_data['Date'] = current_data.index\n"
     ]
    },
    {
     "name": "stdout",
     "output_type": "stream",
     "text": [
      "shape of df4 is (482, 3541)\n",
      "Completed 362 out of 462 steps\n",
      "the main data is of shape (542, 2)\n",
      "shape of current_data2 is (542, 59)\n"
     ]
    },
    {
     "name": "stderr",
     "output_type": "stream",
     "text": [
      "C:\\Users\\abhij\\AppData\\Local\\Temp\\ipykernel_16868\\3215059801.py:16: SettingWithCopyWarning: \n",
      "A value is trying to be set on a copy of a slice from a DataFrame.\n",
      "Try using .loc[row_indexer,col_indexer] = value instead\n",
      "\n",
      "See the caveats in the documentation: https://pandas.pydata.org/pandas-docs/stable/user_guide/indexing.html#returning-a-view-versus-a-copy\n",
      "  current_data['Date'] = current_data.index\n"
     ]
    },
    {
     "name": "stdout",
     "output_type": "stream",
     "text": [
      "shape of df4 is (482, 3541)\n",
      "Completed 363 out of 462 steps\n",
      "the main data is of shape (542, 2)\n",
      "shape of current_data2 is (542, 59)\n"
     ]
    },
    {
     "name": "stderr",
     "output_type": "stream",
     "text": [
      "C:\\Users\\abhij\\AppData\\Local\\Temp\\ipykernel_16868\\3215059801.py:16: SettingWithCopyWarning: \n",
      "A value is trying to be set on a copy of a slice from a DataFrame.\n",
      "Try using .loc[row_indexer,col_indexer] = value instead\n",
      "\n",
      "See the caveats in the documentation: https://pandas.pydata.org/pandas-docs/stable/user_guide/indexing.html#returning-a-view-versus-a-copy\n",
      "  current_data['Date'] = current_data.index\n"
     ]
    },
    {
     "name": "stdout",
     "output_type": "stream",
     "text": [
      "shape of df4 is (482, 3541)\n",
      "Completed 364 out of 462 steps\n",
      "the main data is of shape (542, 2)\n",
      "shape of current_data2 is (542, 59)\n"
     ]
    },
    {
     "name": "stderr",
     "output_type": "stream",
     "text": [
      "C:\\Users\\abhij\\AppData\\Local\\Temp\\ipykernel_16868\\3215059801.py:16: SettingWithCopyWarning: \n",
      "A value is trying to be set on a copy of a slice from a DataFrame.\n",
      "Try using .loc[row_indexer,col_indexer] = value instead\n",
      "\n",
      "See the caveats in the documentation: https://pandas.pydata.org/pandas-docs/stable/user_guide/indexing.html#returning-a-view-versus-a-copy\n",
      "  current_data['Date'] = current_data.index\n"
     ]
    },
    {
     "name": "stdout",
     "output_type": "stream",
     "text": [
      "shape of df4 is (482, 3541)\n",
      "Completed 365 out of 462 steps\n",
      "the main data is of shape (542, 2)\n",
      "shape of current_data2 is (542, 59)\n"
     ]
    },
    {
     "name": "stderr",
     "output_type": "stream",
     "text": [
      "C:\\Users\\abhij\\AppData\\Local\\Temp\\ipykernel_16868\\3215059801.py:16: SettingWithCopyWarning: \n",
      "A value is trying to be set on a copy of a slice from a DataFrame.\n",
      "Try using .loc[row_indexer,col_indexer] = value instead\n",
      "\n",
      "See the caveats in the documentation: https://pandas.pydata.org/pandas-docs/stable/user_guide/indexing.html#returning-a-view-versus-a-copy\n",
      "  current_data['Date'] = current_data.index\n"
     ]
    },
    {
     "name": "stdout",
     "output_type": "stream",
     "text": [
      "shape of df4 is (482, 3541)\n",
      "Completed 366 out of 462 steps\n",
      "the main data is of shape (542, 2)\n",
      "shape of current_data2 is (542, 59)\n"
     ]
    },
    {
     "name": "stderr",
     "output_type": "stream",
     "text": [
      "C:\\Users\\abhij\\AppData\\Local\\Temp\\ipykernel_16868\\3215059801.py:16: SettingWithCopyWarning: \n",
      "A value is trying to be set on a copy of a slice from a DataFrame.\n",
      "Try using .loc[row_indexer,col_indexer] = value instead\n",
      "\n",
      "See the caveats in the documentation: https://pandas.pydata.org/pandas-docs/stable/user_guide/indexing.html#returning-a-view-versus-a-copy\n",
      "  current_data['Date'] = current_data.index\n"
     ]
    },
    {
     "name": "stdout",
     "output_type": "stream",
     "text": [
      "shape of df4 is (482, 3541)\n",
      "Completed 367 out of 462 steps\n",
      "the main data is of shape (542, 2)\n",
      "shape of current_data2 is (542, 59)\n"
     ]
    },
    {
     "name": "stderr",
     "output_type": "stream",
     "text": [
      "C:\\Users\\abhij\\AppData\\Local\\Temp\\ipykernel_16868\\3215059801.py:16: SettingWithCopyWarning: \n",
      "A value is trying to be set on a copy of a slice from a DataFrame.\n",
      "Try using .loc[row_indexer,col_indexer] = value instead\n",
      "\n",
      "See the caveats in the documentation: https://pandas.pydata.org/pandas-docs/stable/user_guide/indexing.html#returning-a-view-versus-a-copy\n",
      "  current_data['Date'] = current_data.index\n"
     ]
    },
    {
     "name": "stdout",
     "output_type": "stream",
     "text": [
      "shape of df4 is (482, 3541)\n",
      "Completed 368 out of 462 steps\n",
      "the main data is of shape (542, 2)\n",
      "shape of current_data2 is (542, 59)\n"
     ]
    },
    {
     "name": "stderr",
     "output_type": "stream",
     "text": [
      "C:\\Users\\abhij\\AppData\\Local\\Temp\\ipykernel_16868\\3215059801.py:16: SettingWithCopyWarning: \n",
      "A value is trying to be set on a copy of a slice from a DataFrame.\n",
      "Try using .loc[row_indexer,col_indexer] = value instead\n",
      "\n",
      "See the caveats in the documentation: https://pandas.pydata.org/pandas-docs/stable/user_guide/indexing.html#returning-a-view-versus-a-copy\n",
      "  current_data['Date'] = current_data.index\n"
     ]
    },
    {
     "name": "stdout",
     "output_type": "stream",
     "text": [
      "shape of df4 is (482, 3541)\n",
      "Completed 369 out of 462 steps\n",
      "the main data is of shape (542, 2)\n",
      "shape of current_data2 is (542, 59)\n"
     ]
    },
    {
     "name": "stderr",
     "output_type": "stream",
     "text": [
      "C:\\Users\\abhij\\AppData\\Local\\Temp\\ipykernel_16868\\3215059801.py:16: SettingWithCopyWarning: \n",
      "A value is trying to be set on a copy of a slice from a DataFrame.\n",
      "Try using .loc[row_indexer,col_indexer] = value instead\n",
      "\n",
      "See the caveats in the documentation: https://pandas.pydata.org/pandas-docs/stable/user_guide/indexing.html#returning-a-view-versus-a-copy\n",
      "  current_data['Date'] = current_data.index\n"
     ]
    },
    {
     "name": "stdout",
     "output_type": "stream",
     "text": [
      "shape of df4 is (482, 3541)\n",
      "Completed 370 out of 462 steps\n",
      "the main data is of shape (542, 2)\n",
      "shape of current_data2 is (542, 59)\n"
     ]
    },
    {
     "name": "stderr",
     "output_type": "stream",
     "text": [
      "C:\\Users\\abhij\\AppData\\Local\\Temp\\ipykernel_16868\\3215059801.py:16: SettingWithCopyWarning: \n",
      "A value is trying to be set on a copy of a slice from a DataFrame.\n",
      "Try using .loc[row_indexer,col_indexer] = value instead\n",
      "\n",
      "See the caveats in the documentation: https://pandas.pydata.org/pandas-docs/stable/user_guide/indexing.html#returning-a-view-versus-a-copy\n",
      "  current_data['Date'] = current_data.index\n"
     ]
    },
    {
     "name": "stdout",
     "output_type": "stream",
     "text": [
      "shape of df4 is (482, 3541)\n",
      "Completed 371 out of 462 steps\n",
      "the main data is of shape (542, 2)\n",
      "shape of current_data2 is (542, 59)\n"
     ]
    },
    {
     "name": "stderr",
     "output_type": "stream",
     "text": [
      "C:\\Users\\abhij\\AppData\\Local\\Temp\\ipykernel_16868\\3215059801.py:16: SettingWithCopyWarning: \n",
      "A value is trying to be set on a copy of a slice from a DataFrame.\n",
      "Try using .loc[row_indexer,col_indexer] = value instead\n",
      "\n",
      "See the caveats in the documentation: https://pandas.pydata.org/pandas-docs/stable/user_guide/indexing.html#returning-a-view-versus-a-copy\n",
      "  current_data['Date'] = current_data.index\n"
     ]
    },
    {
     "name": "stdout",
     "output_type": "stream",
     "text": [
      "shape of df4 is (482, 3541)\n",
      "Completed 372 out of 462 steps\n",
      "the main data is of shape (542, 2)\n",
      "shape of current_data2 is (542, 59)\n"
     ]
    },
    {
     "name": "stderr",
     "output_type": "stream",
     "text": [
      "C:\\Users\\abhij\\AppData\\Local\\Temp\\ipykernel_16868\\3215059801.py:16: SettingWithCopyWarning: \n",
      "A value is trying to be set on a copy of a slice from a DataFrame.\n",
      "Try using .loc[row_indexer,col_indexer] = value instead\n",
      "\n",
      "See the caveats in the documentation: https://pandas.pydata.org/pandas-docs/stable/user_guide/indexing.html#returning-a-view-versus-a-copy\n",
      "  current_data['Date'] = current_data.index\n"
     ]
    },
    {
     "name": "stdout",
     "output_type": "stream",
     "text": [
      "shape of df4 is (482, 3541)\n",
      "Completed 373 out of 462 steps\n",
      "the main data is of shape (542, 2)\n",
      "shape of current_data2 is (542, 59)\n"
     ]
    },
    {
     "name": "stderr",
     "output_type": "stream",
     "text": [
      "C:\\Users\\abhij\\AppData\\Local\\Temp\\ipykernel_16868\\3215059801.py:16: SettingWithCopyWarning: \n",
      "A value is trying to be set on a copy of a slice from a DataFrame.\n",
      "Try using .loc[row_indexer,col_indexer] = value instead\n",
      "\n",
      "See the caveats in the documentation: https://pandas.pydata.org/pandas-docs/stable/user_guide/indexing.html#returning-a-view-versus-a-copy\n",
      "  current_data['Date'] = current_data.index\n"
     ]
    },
    {
     "name": "stdout",
     "output_type": "stream",
     "text": [
      "shape of df4 is (482, 3541)\n",
      "Completed 374 out of 462 steps\n",
      "the main data is of shape (542, 2)\n",
      "shape of current_data2 is (542, 59)\n"
     ]
    },
    {
     "name": "stderr",
     "output_type": "stream",
     "text": [
      "C:\\Users\\abhij\\AppData\\Local\\Temp\\ipykernel_16868\\3215059801.py:16: SettingWithCopyWarning: \n",
      "A value is trying to be set on a copy of a slice from a DataFrame.\n",
      "Try using .loc[row_indexer,col_indexer] = value instead\n",
      "\n",
      "See the caveats in the documentation: https://pandas.pydata.org/pandas-docs/stable/user_guide/indexing.html#returning-a-view-versus-a-copy\n",
      "  current_data['Date'] = current_data.index\n"
     ]
    },
    {
     "name": "stdout",
     "output_type": "stream",
     "text": [
      "shape of df4 is (482, 3541)\n",
      "Completed 375 out of 462 steps\n",
      "the main data is of shape (542, 2)\n",
      "shape of current_data2 is (542, 59)\n"
     ]
    },
    {
     "name": "stderr",
     "output_type": "stream",
     "text": [
      "C:\\Users\\abhij\\AppData\\Local\\Temp\\ipykernel_16868\\3215059801.py:16: SettingWithCopyWarning: \n",
      "A value is trying to be set on a copy of a slice from a DataFrame.\n",
      "Try using .loc[row_indexer,col_indexer] = value instead\n",
      "\n",
      "See the caveats in the documentation: https://pandas.pydata.org/pandas-docs/stable/user_guide/indexing.html#returning-a-view-versus-a-copy\n",
      "  current_data['Date'] = current_data.index\n"
     ]
    },
    {
     "name": "stdout",
     "output_type": "stream",
     "text": [
      "shape of df4 is (482, 3541)\n",
      "Completed 376 out of 462 steps\n",
      "the main data is of shape (542, 2)\n",
      "shape of current_data2 is (542, 59)\n"
     ]
    },
    {
     "name": "stderr",
     "output_type": "stream",
     "text": [
      "C:\\Users\\abhij\\AppData\\Local\\Temp\\ipykernel_16868\\3215059801.py:16: SettingWithCopyWarning: \n",
      "A value is trying to be set on a copy of a slice from a DataFrame.\n",
      "Try using .loc[row_indexer,col_indexer] = value instead\n",
      "\n",
      "See the caveats in the documentation: https://pandas.pydata.org/pandas-docs/stable/user_guide/indexing.html#returning-a-view-versus-a-copy\n",
      "  current_data['Date'] = current_data.index\n"
     ]
    },
    {
     "name": "stdout",
     "output_type": "stream",
     "text": [
      "shape of df4 is (482, 3541)\n",
      "Completed 377 out of 462 steps\n",
      "the main data is of shape (542, 2)\n",
      "shape of current_data2 is (542, 59)\n"
     ]
    },
    {
     "name": "stderr",
     "output_type": "stream",
     "text": [
      "C:\\Users\\abhij\\AppData\\Local\\Temp\\ipykernel_16868\\3215059801.py:16: SettingWithCopyWarning: \n",
      "A value is trying to be set on a copy of a slice from a DataFrame.\n",
      "Try using .loc[row_indexer,col_indexer] = value instead\n",
      "\n",
      "See the caveats in the documentation: https://pandas.pydata.org/pandas-docs/stable/user_guide/indexing.html#returning-a-view-versus-a-copy\n",
      "  current_data['Date'] = current_data.index\n"
     ]
    },
    {
     "name": "stdout",
     "output_type": "stream",
     "text": [
      "shape of df4 is (482, 3541)\n",
      "Completed 378 out of 462 steps\n",
      "the main data is of shape (542, 2)\n",
      "shape of current_data2 is (542, 59)\n"
     ]
    },
    {
     "name": "stderr",
     "output_type": "stream",
     "text": [
      "C:\\Users\\abhij\\AppData\\Local\\Temp\\ipykernel_16868\\3215059801.py:16: SettingWithCopyWarning: \n",
      "A value is trying to be set on a copy of a slice from a DataFrame.\n",
      "Try using .loc[row_indexer,col_indexer] = value instead\n",
      "\n",
      "See the caveats in the documentation: https://pandas.pydata.org/pandas-docs/stable/user_guide/indexing.html#returning-a-view-versus-a-copy\n",
      "  current_data['Date'] = current_data.index\n"
     ]
    },
    {
     "name": "stdout",
     "output_type": "stream",
     "text": [
      "shape of df4 is (482, 3541)\n",
      "Completed 379 out of 462 steps\n",
      "the main data is of shape (542, 2)\n",
      "shape of current_data2 is (542, 59)\n"
     ]
    },
    {
     "name": "stderr",
     "output_type": "stream",
     "text": [
      "C:\\Users\\abhij\\AppData\\Local\\Temp\\ipykernel_16868\\3215059801.py:16: SettingWithCopyWarning: \n",
      "A value is trying to be set on a copy of a slice from a DataFrame.\n",
      "Try using .loc[row_indexer,col_indexer] = value instead\n",
      "\n",
      "See the caveats in the documentation: https://pandas.pydata.org/pandas-docs/stable/user_guide/indexing.html#returning-a-view-versus-a-copy\n",
      "  current_data['Date'] = current_data.index\n"
     ]
    },
    {
     "name": "stdout",
     "output_type": "stream",
     "text": [
      "shape of df4 is (482, 3541)\n",
      "Completed 380 out of 462 steps\n",
      "the main data is of shape (542, 2)\n",
      "shape of current_data2 is (542, 59)\n"
     ]
    },
    {
     "name": "stderr",
     "output_type": "stream",
     "text": [
      "C:\\Users\\abhij\\AppData\\Local\\Temp\\ipykernel_16868\\3215059801.py:16: SettingWithCopyWarning: \n",
      "A value is trying to be set on a copy of a slice from a DataFrame.\n",
      "Try using .loc[row_indexer,col_indexer] = value instead\n",
      "\n",
      "See the caveats in the documentation: https://pandas.pydata.org/pandas-docs/stable/user_guide/indexing.html#returning-a-view-versus-a-copy\n",
      "  current_data['Date'] = current_data.index\n"
     ]
    },
    {
     "name": "stdout",
     "output_type": "stream",
     "text": [
      "shape of df4 is (482, 3541)\n",
      "Completed 381 out of 462 steps\n",
      "the main data is of shape (542, 2)\n",
      "shape of current_data2 is (542, 59)\n"
     ]
    },
    {
     "name": "stderr",
     "output_type": "stream",
     "text": [
      "C:\\Users\\abhij\\AppData\\Local\\Temp\\ipykernel_16868\\3215059801.py:16: SettingWithCopyWarning: \n",
      "A value is trying to be set on a copy of a slice from a DataFrame.\n",
      "Try using .loc[row_indexer,col_indexer] = value instead\n",
      "\n",
      "See the caveats in the documentation: https://pandas.pydata.org/pandas-docs/stable/user_guide/indexing.html#returning-a-view-versus-a-copy\n",
      "  current_data['Date'] = current_data.index\n"
     ]
    },
    {
     "name": "stdout",
     "output_type": "stream",
     "text": [
      "shape of df4 is (482, 3541)\n",
      "Completed 382 out of 462 steps\n",
      "the main data is of shape (542, 2)\n",
      "shape of current_data2 is (542, 59)\n"
     ]
    },
    {
     "name": "stderr",
     "output_type": "stream",
     "text": [
      "C:\\Users\\abhij\\AppData\\Local\\Temp\\ipykernel_16868\\3215059801.py:16: SettingWithCopyWarning: \n",
      "A value is trying to be set on a copy of a slice from a DataFrame.\n",
      "Try using .loc[row_indexer,col_indexer] = value instead\n",
      "\n",
      "See the caveats in the documentation: https://pandas.pydata.org/pandas-docs/stable/user_guide/indexing.html#returning-a-view-versus-a-copy\n",
      "  current_data['Date'] = current_data.index\n"
     ]
    },
    {
     "name": "stdout",
     "output_type": "stream",
     "text": [
      "shape of df4 is (482, 3541)\n",
      "Completed 383 out of 462 steps\n",
      "the main data is of shape (542, 2)\n",
      "shape of current_data2 is (542, 59)\n"
     ]
    },
    {
     "name": "stderr",
     "output_type": "stream",
     "text": [
      "C:\\Users\\abhij\\AppData\\Local\\Temp\\ipykernel_16868\\3215059801.py:16: SettingWithCopyWarning: \n",
      "A value is trying to be set on a copy of a slice from a DataFrame.\n",
      "Try using .loc[row_indexer,col_indexer] = value instead\n",
      "\n",
      "See the caveats in the documentation: https://pandas.pydata.org/pandas-docs/stable/user_guide/indexing.html#returning-a-view-versus-a-copy\n",
      "  current_data['Date'] = current_data.index\n"
     ]
    },
    {
     "name": "stdout",
     "output_type": "stream",
     "text": [
      "shape of df4 is (482, 3541)\n",
      "Completed 384 out of 462 steps\n",
      "the main data is of shape (542, 2)\n",
      "shape of current_data2 is (542, 59)\n"
     ]
    },
    {
     "name": "stderr",
     "output_type": "stream",
     "text": [
      "C:\\Users\\abhij\\AppData\\Local\\Temp\\ipykernel_16868\\3215059801.py:16: SettingWithCopyWarning: \n",
      "A value is trying to be set on a copy of a slice from a DataFrame.\n",
      "Try using .loc[row_indexer,col_indexer] = value instead\n",
      "\n",
      "See the caveats in the documentation: https://pandas.pydata.org/pandas-docs/stable/user_guide/indexing.html#returning-a-view-versus-a-copy\n",
      "  current_data['Date'] = current_data.index\n"
     ]
    },
    {
     "name": "stdout",
     "output_type": "stream",
     "text": [
      "shape of df4 is (482, 3541)\n",
      "Completed 385 out of 462 steps\n",
      "the main data is of shape (542, 2)\n",
      "shape of current_data2 is (542, 59)\n"
     ]
    },
    {
     "name": "stderr",
     "output_type": "stream",
     "text": [
      "C:\\Users\\abhij\\AppData\\Local\\Temp\\ipykernel_16868\\3215059801.py:16: SettingWithCopyWarning: \n",
      "A value is trying to be set on a copy of a slice from a DataFrame.\n",
      "Try using .loc[row_indexer,col_indexer] = value instead\n",
      "\n",
      "See the caveats in the documentation: https://pandas.pydata.org/pandas-docs/stable/user_guide/indexing.html#returning-a-view-versus-a-copy\n",
      "  current_data['Date'] = current_data.index\n"
     ]
    },
    {
     "name": "stdout",
     "output_type": "stream",
     "text": [
      "shape of df4 is (482, 3541)\n",
      "Completed 386 out of 462 steps\n",
      "the main data is of shape (542, 2)\n",
      "shape of current_data2 is (542, 59)\n"
     ]
    },
    {
     "name": "stderr",
     "output_type": "stream",
     "text": [
      "C:\\Users\\abhij\\AppData\\Local\\Temp\\ipykernel_16868\\3215059801.py:16: SettingWithCopyWarning: \n",
      "A value is trying to be set on a copy of a slice from a DataFrame.\n",
      "Try using .loc[row_indexer,col_indexer] = value instead\n",
      "\n",
      "See the caveats in the documentation: https://pandas.pydata.org/pandas-docs/stable/user_guide/indexing.html#returning-a-view-versus-a-copy\n",
      "  current_data['Date'] = current_data.index\n"
     ]
    },
    {
     "name": "stdout",
     "output_type": "stream",
     "text": [
      "shape of df4 is (482, 3541)\n",
      "Completed 387 out of 462 steps\n",
      "the main data is of shape (542, 2)\n",
      "shape of current_data2 is (542, 59)\n"
     ]
    },
    {
     "name": "stderr",
     "output_type": "stream",
     "text": [
      "C:\\Users\\abhij\\AppData\\Local\\Temp\\ipykernel_16868\\3215059801.py:16: SettingWithCopyWarning: \n",
      "A value is trying to be set on a copy of a slice from a DataFrame.\n",
      "Try using .loc[row_indexer,col_indexer] = value instead\n",
      "\n",
      "See the caveats in the documentation: https://pandas.pydata.org/pandas-docs/stable/user_guide/indexing.html#returning-a-view-versus-a-copy\n",
      "  current_data['Date'] = current_data.index\n"
     ]
    },
    {
     "name": "stdout",
     "output_type": "stream",
     "text": [
      "shape of df4 is (482, 3541)\n",
      "Completed 388 out of 462 steps\n",
      "the main data is of shape (542, 2)\n",
      "shape of current_data2 is (542, 59)\n"
     ]
    },
    {
     "name": "stderr",
     "output_type": "stream",
     "text": [
      "C:\\Users\\abhij\\AppData\\Local\\Temp\\ipykernel_16868\\3215059801.py:16: SettingWithCopyWarning: \n",
      "A value is trying to be set on a copy of a slice from a DataFrame.\n",
      "Try using .loc[row_indexer,col_indexer] = value instead\n",
      "\n",
      "See the caveats in the documentation: https://pandas.pydata.org/pandas-docs/stable/user_guide/indexing.html#returning-a-view-versus-a-copy\n",
      "  current_data['Date'] = current_data.index\n"
     ]
    },
    {
     "name": "stdout",
     "output_type": "stream",
     "text": [
      "shape of df4 is (482, 3541)\n",
      "Completed 389 out of 462 steps\n",
      "the main data is of shape (542, 2)\n",
      "shape of current_data2 is (542, 59)\n"
     ]
    },
    {
     "name": "stderr",
     "output_type": "stream",
     "text": [
      "C:\\Users\\abhij\\AppData\\Local\\Temp\\ipykernel_16868\\3215059801.py:16: SettingWithCopyWarning: \n",
      "A value is trying to be set on a copy of a slice from a DataFrame.\n",
      "Try using .loc[row_indexer,col_indexer] = value instead\n",
      "\n",
      "See the caveats in the documentation: https://pandas.pydata.org/pandas-docs/stable/user_guide/indexing.html#returning-a-view-versus-a-copy\n",
      "  current_data['Date'] = current_data.index\n"
     ]
    },
    {
     "name": "stdout",
     "output_type": "stream",
     "text": [
      "shape of df4 is (482, 3541)\n",
      "Completed 390 out of 462 steps\n",
      "the main data is of shape (542, 2)\n",
      "shape of current_data2 is (542, 59)\n"
     ]
    },
    {
     "name": "stderr",
     "output_type": "stream",
     "text": [
      "C:\\Users\\abhij\\AppData\\Local\\Temp\\ipykernel_16868\\3215059801.py:16: SettingWithCopyWarning: \n",
      "A value is trying to be set on a copy of a slice from a DataFrame.\n",
      "Try using .loc[row_indexer,col_indexer] = value instead\n",
      "\n",
      "See the caveats in the documentation: https://pandas.pydata.org/pandas-docs/stable/user_guide/indexing.html#returning-a-view-versus-a-copy\n",
      "  current_data['Date'] = current_data.index\n"
     ]
    },
    {
     "name": "stdout",
     "output_type": "stream",
     "text": [
      "shape of df4 is (482, 3541)\n",
      "Completed 391 out of 462 steps\n",
      "the main data is of shape (542, 2)\n",
      "shape of current_data2 is (542, 59)\n"
     ]
    },
    {
     "name": "stderr",
     "output_type": "stream",
     "text": [
      "C:\\Users\\abhij\\AppData\\Local\\Temp\\ipykernel_16868\\3215059801.py:16: SettingWithCopyWarning: \n",
      "A value is trying to be set on a copy of a slice from a DataFrame.\n",
      "Try using .loc[row_indexer,col_indexer] = value instead\n",
      "\n",
      "See the caveats in the documentation: https://pandas.pydata.org/pandas-docs/stable/user_guide/indexing.html#returning-a-view-versus-a-copy\n",
      "  current_data['Date'] = current_data.index\n"
     ]
    },
    {
     "name": "stdout",
     "output_type": "stream",
     "text": [
      "shape of df4 is (482, 3541)\n",
      "Completed 392 out of 462 steps\n",
      "the main data is of shape (542, 2)\n",
      "shape of current_data2 is (542, 59)\n"
     ]
    },
    {
     "name": "stderr",
     "output_type": "stream",
     "text": [
      "C:\\Users\\abhij\\AppData\\Local\\Temp\\ipykernel_16868\\3215059801.py:16: SettingWithCopyWarning: \n",
      "A value is trying to be set on a copy of a slice from a DataFrame.\n",
      "Try using .loc[row_indexer,col_indexer] = value instead\n",
      "\n",
      "See the caveats in the documentation: https://pandas.pydata.org/pandas-docs/stable/user_guide/indexing.html#returning-a-view-versus-a-copy\n",
      "  current_data['Date'] = current_data.index\n"
     ]
    },
    {
     "name": "stdout",
     "output_type": "stream",
     "text": [
      "shape of df4 is (482, 3541)\n",
      "Completed 393 out of 462 steps\n",
      "the main data is of shape (542, 2)\n",
      "shape of current_data2 is (542, 59)\n"
     ]
    },
    {
     "name": "stderr",
     "output_type": "stream",
     "text": [
      "C:\\Users\\abhij\\AppData\\Local\\Temp\\ipykernel_16868\\3215059801.py:16: SettingWithCopyWarning: \n",
      "A value is trying to be set on a copy of a slice from a DataFrame.\n",
      "Try using .loc[row_indexer,col_indexer] = value instead\n",
      "\n",
      "See the caveats in the documentation: https://pandas.pydata.org/pandas-docs/stable/user_guide/indexing.html#returning-a-view-versus-a-copy\n",
      "  current_data['Date'] = current_data.index\n"
     ]
    },
    {
     "name": "stdout",
     "output_type": "stream",
     "text": [
      "shape of df4 is (482, 3541)\n",
      "Completed 394 out of 462 steps\n",
      "the main data is of shape (542, 2)\n",
      "shape of current_data2 is (542, 59)\n"
     ]
    },
    {
     "name": "stderr",
     "output_type": "stream",
     "text": [
      "C:\\Users\\abhij\\AppData\\Local\\Temp\\ipykernel_16868\\3215059801.py:16: SettingWithCopyWarning: \n",
      "A value is trying to be set on a copy of a slice from a DataFrame.\n",
      "Try using .loc[row_indexer,col_indexer] = value instead\n",
      "\n",
      "See the caveats in the documentation: https://pandas.pydata.org/pandas-docs/stable/user_guide/indexing.html#returning-a-view-versus-a-copy\n",
      "  current_data['Date'] = current_data.index\n"
     ]
    },
    {
     "name": "stdout",
     "output_type": "stream",
     "text": [
      "shape of df4 is (482, 3541)\n",
      "Completed 395 out of 462 steps\n",
      "the main data is of shape (542, 2)\n",
      "shape of current_data2 is (542, 59)\n"
     ]
    },
    {
     "name": "stderr",
     "output_type": "stream",
     "text": [
      "C:\\Users\\abhij\\AppData\\Local\\Temp\\ipykernel_16868\\3215059801.py:16: SettingWithCopyWarning: \n",
      "A value is trying to be set on a copy of a slice from a DataFrame.\n",
      "Try using .loc[row_indexer,col_indexer] = value instead\n",
      "\n",
      "See the caveats in the documentation: https://pandas.pydata.org/pandas-docs/stable/user_guide/indexing.html#returning-a-view-versus-a-copy\n",
      "  current_data['Date'] = current_data.index\n"
     ]
    },
    {
     "name": "stdout",
     "output_type": "stream",
     "text": [
      "shape of df4 is (482, 3541)\n",
      "Completed 396 out of 462 steps\n",
      "the main data is of shape (542, 2)\n",
      "shape of current_data2 is (542, 59)\n"
     ]
    },
    {
     "name": "stderr",
     "output_type": "stream",
     "text": [
      "C:\\Users\\abhij\\AppData\\Local\\Temp\\ipykernel_16868\\3215059801.py:16: SettingWithCopyWarning: \n",
      "A value is trying to be set on a copy of a slice from a DataFrame.\n",
      "Try using .loc[row_indexer,col_indexer] = value instead\n",
      "\n",
      "See the caveats in the documentation: https://pandas.pydata.org/pandas-docs/stable/user_guide/indexing.html#returning-a-view-versus-a-copy\n",
      "  current_data['Date'] = current_data.index\n"
     ]
    },
    {
     "name": "stdout",
     "output_type": "stream",
     "text": [
      "shape of df4 is (482, 3541)\n",
      "Completed 397 out of 462 steps\n",
      "the main data is of shape (542, 2)\n",
      "shape of current_data2 is (542, 59)\n"
     ]
    },
    {
     "name": "stderr",
     "output_type": "stream",
     "text": [
      "C:\\Users\\abhij\\AppData\\Local\\Temp\\ipykernel_16868\\3215059801.py:16: SettingWithCopyWarning: \n",
      "A value is trying to be set on a copy of a slice from a DataFrame.\n",
      "Try using .loc[row_indexer,col_indexer] = value instead\n",
      "\n",
      "See the caveats in the documentation: https://pandas.pydata.org/pandas-docs/stable/user_guide/indexing.html#returning-a-view-versus-a-copy\n",
      "  current_data['Date'] = current_data.index\n"
     ]
    },
    {
     "name": "stdout",
     "output_type": "stream",
     "text": [
      "shape of df4 is (482, 3541)\n",
      "Completed 398 out of 462 steps\n",
      "the main data is of shape (542, 2)\n",
      "shape of current_data2 is (542, 59)\n"
     ]
    },
    {
     "name": "stderr",
     "output_type": "stream",
     "text": [
      "C:\\Users\\abhij\\AppData\\Local\\Temp\\ipykernel_16868\\3215059801.py:16: SettingWithCopyWarning: \n",
      "A value is trying to be set on a copy of a slice from a DataFrame.\n",
      "Try using .loc[row_indexer,col_indexer] = value instead\n",
      "\n",
      "See the caveats in the documentation: https://pandas.pydata.org/pandas-docs/stable/user_guide/indexing.html#returning-a-view-versus-a-copy\n",
      "  current_data['Date'] = current_data.index\n"
     ]
    },
    {
     "name": "stdout",
     "output_type": "stream",
     "text": [
      "shape of df4 is (482, 3541)\n",
      "Completed 399 out of 462 steps\n",
      "the main data is of shape (542, 2)\n",
      "shape of current_data2 is (542, 59)\n"
     ]
    },
    {
     "name": "stderr",
     "output_type": "stream",
     "text": [
      "C:\\Users\\abhij\\AppData\\Local\\Temp\\ipykernel_16868\\3215059801.py:16: SettingWithCopyWarning: \n",
      "A value is trying to be set on a copy of a slice from a DataFrame.\n",
      "Try using .loc[row_indexer,col_indexer] = value instead\n",
      "\n",
      "See the caveats in the documentation: https://pandas.pydata.org/pandas-docs/stable/user_guide/indexing.html#returning-a-view-versus-a-copy\n",
      "  current_data['Date'] = current_data.index\n"
     ]
    },
    {
     "name": "stdout",
     "output_type": "stream",
     "text": [
      "shape of df4 is (482, 3541)\n",
      "Completed 400 out of 462 steps\n",
      "the main data is of shape (542, 2)\n",
      "shape of current_data2 is (542, 59)\n"
     ]
    },
    {
     "name": "stderr",
     "output_type": "stream",
     "text": [
      "C:\\Users\\abhij\\AppData\\Local\\Temp\\ipykernel_16868\\3215059801.py:16: SettingWithCopyWarning: \n",
      "A value is trying to be set on a copy of a slice from a DataFrame.\n",
      "Try using .loc[row_indexer,col_indexer] = value instead\n",
      "\n",
      "See the caveats in the documentation: https://pandas.pydata.org/pandas-docs/stable/user_guide/indexing.html#returning-a-view-versus-a-copy\n",
      "  current_data['Date'] = current_data.index\n"
     ]
    },
    {
     "name": "stdout",
     "output_type": "stream",
     "text": [
      "shape of df4 is (482, 3541)\n",
      "Completed 401 out of 462 steps\n",
      "the main data is of shape (542, 2)\n",
      "shape of current_data2 is (542, 59)\n"
     ]
    },
    {
     "name": "stderr",
     "output_type": "stream",
     "text": [
      "C:\\Users\\abhij\\AppData\\Local\\Temp\\ipykernel_16868\\3215059801.py:16: SettingWithCopyWarning: \n",
      "A value is trying to be set on a copy of a slice from a DataFrame.\n",
      "Try using .loc[row_indexer,col_indexer] = value instead\n",
      "\n",
      "See the caveats in the documentation: https://pandas.pydata.org/pandas-docs/stable/user_guide/indexing.html#returning-a-view-versus-a-copy\n",
      "  current_data['Date'] = current_data.index\n"
     ]
    },
    {
     "name": "stdout",
     "output_type": "stream",
     "text": [
      "shape of df4 is (482, 3541)\n",
      "Completed 402 out of 462 steps\n",
      "the main data is of shape (542, 2)\n",
      "shape of current_data2 is (542, 59)\n"
     ]
    },
    {
     "name": "stderr",
     "output_type": "stream",
     "text": [
      "C:\\Users\\abhij\\AppData\\Local\\Temp\\ipykernel_16868\\3215059801.py:16: SettingWithCopyWarning: \n",
      "A value is trying to be set on a copy of a slice from a DataFrame.\n",
      "Try using .loc[row_indexer,col_indexer] = value instead\n",
      "\n",
      "See the caveats in the documentation: https://pandas.pydata.org/pandas-docs/stable/user_guide/indexing.html#returning-a-view-versus-a-copy\n",
      "  current_data['Date'] = current_data.index\n"
     ]
    },
    {
     "name": "stdout",
     "output_type": "stream",
     "text": [
      "shape of df4 is (482, 3541)\n",
      "Completed 403 out of 462 steps\n",
      "the main data is of shape (542, 2)\n",
      "shape of current_data2 is (542, 59)\n"
     ]
    },
    {
     "name": "stderr",
     "output_type": "stream",
     "text": [
      "C:\\Users\\abhij\\AppData\\Local\\Temp\\ipykernel_16868\\3215059801.py:16: SettingWithCopyWarning: \n",
      "A value is trying to be set on a copy of a slice from a DataFrame.\n",
      "Try using .loc[row_indexer,col_indexer] = value instead\n",
      "\n",
      "See the caveats in the documentation: https://pandas.pydata.org/pandas-docs/stable/user_guide/indexing.html#returning-a-view-versus-a-copy\n",
      "  current_data['Date'] = current_data.index\n"
     ]
    },
    {
     "name": "stdout",
     "output_type": "stream",
     "text": [
      "shape of df4 is (482, 3541)\n",
      "Completed 404 out of 462 steps\n",
      "the main data is of shape (542, 2)\n",
      "shape of current_data2 is (542, 59)\n"
     ]
    },
    {
     "name": "stderr",
     "output_type": "stream",
     "text": [
      "C:\\Users\\abhij\\AppData\\Local\\Temp\\ipykernel_16868\\3215059801.py:16: SettingWithCopyWarning: \n",
      "A value is trying to be set on a copy of a slice from a DataFrame.\n",
      "Try using .loc[row_indexer,col_indexer] = value instead\n",
      "\n",
      "See the caveats in the documentation: https://pandas.pydata.org/pandas-docs/stable/user_guide/indexing.html#returning-a-view-versus-a-copy\n",
      "  current_data['Date'] = current_data.index\n"
     ]
    },
    {
     "name": "stdout",
     "output_type": "stream",
     "text": [
      "shape of df4 is (482, 3541)\n",
      "Completed 405 out of 462 steps\n",
      "the main data is of shape (542, 2)\n",
      "shape of current_data2 is (542, 59)\n"
     ]
    },
    {
     "name": "stderr",
     "output_type": "stream",
     "text": [
      "C:\\Users\\abhij\\AppData\\Local\\Temp\\ipykernel_16868\\3215059801.py:16: SettingWithCopyWarning: \n",
      "A value is trying to be set on a copy of a slice from a DataFrame.\n",
      "Try using .loc[row_indexer,col_indexer] = value instead\n",
      "\n",
      "See the caveats in the documentation: https://pandas.pydata.org/pandas-docs/stable/user_guide/indexing.html#returning-a-view-versus-a-copy\n",
      "  current_data['Date'] = current_data.index\n"
     ]
    },
    {
     "name": "stdout",
     "output_type": "stream",
     "text": [
      "shape of df4 is (482, 3541)\n",
      "Completed 406 out of 462 steps\n",
      "the main data is of shape (542, 2)\n",
      "shape of current_data2 is (542, 59)\n"
     ]
    },
    {
     "name": "stderr",
     "output_type": "stream",
     "text": [
      "C:\\Users\\abhij\\AppData\\Local\\Temp\\ipykernel_16868\\3215059801.py:16: SettingWithCopyWarning: \n",
      "A value is trying to be set on a copy of a slice from a DataFrame.\n",
      "Try using .loc[row_indexer,col_indexer] = value instead\n",
      "\n",
      "See the caveats in the documentation: https://pandas.pydata.org/pandas-docs/stable/user_guide/indexing.html#returning-a-view-versus-a-copy\n",
      "  current_data['Date'] = current_data.index\n"
     ]
    },
    {
     "name": "stdout",
     "output_type": "stream",
     "text": [
      "shape of df4 is (482, 3541)\n",
      "Completed 407 out of 462 steps\n",
      "the main data is of shape (542, 2)\n",
      "shape of current_data2 is (542, 59)\n"
     ]
    },
    {
     "name": "stderr",
     "output_type": "stream",
     "text": [
      "C:\\Users\\abhij\\AppData\\Local\\Temp\\ipykernel_16868\\3215059801.py:16: SettingWithCopyWarning: \n",
      "A value is trying to be set on a copy of a slice from a DataFrame.\n",
      "Try using .loc[row_indexer,col_indexer] = value instead\n",
      "\n",
      "See the caveats in the documentation: https://pandas.pydata.org/pandas-docs/stable/user_guide/indexing.html#returning-a-view-versus-a-copy\n",
      "  current_data['Date'] = current_data.index\n"
     ]
    },
    {
     "name": "stdout",
     "output_type": "stream",
     "text": [
      "shape of df4 is (482, 3541)\n",
      "Completed 408 out of 462 steps\n",
      "the main data is of shape (542, 2)\n",
      "shape of current_data2 is (542, 59)\n"
     ]
    },
    {
     "name": "stderr",
     "output_type": "stream",
     "text": [
      "C:\\Users\\abhij\\AppData\\Local\\Temp\\ipykernel_16868\\3215059801.py:16: SettingWithCopyWarning: \n",
      "A value is trying to be set on a copy of a slice from a DataFrame.\n",
      "Try using .loc[row_indexer,col_indexer] = value instead\n",
      "\n",
      "See the caveats in the documentation: https://pandas.pydata.org/pandas-docs/stable/user_guide/indexing.html#returning-a-view-versus-a-copy\n",
      "  current_data['Date'] = current_data.index\n"
     ]
    },
    {
     "name": "stdout",
     "output_type": "stream",
     "text": [
      "shape of df4 is (482, 3541)\n",
      "Completed 409 out of 462 steps\n",
      "the main data is of shape (542, 2)\n",
      "shape of current_data2 is (542, 59)\n"
     ]
    },
    {
     "name": "stderr",
     "output_type": "stream",
     "text": [
      "C:\\Users\\abhij\\AppData\\Local\\Temp\\ipykernel_16868\\3215059801.py:16: SettingWithCopyWarning: \n",
      "A value is trying to be set on a copy of a slice from a DataFrame.\n",
      "Try using .loc[row_indexer,col_indexer] = value instead\n",
      "\n",
      "See the caveats in the documentation: https://pandas.pydata.org/pandas-docs/stable/user_guide/indexing.html#returning-a-view-versus-a-copy\n",
      "  current_data['Date'] = current_data.index\n"
     ]
    },
    {
     "name": "stdout",
     "output_type": "stream",
     "text": [
      "shape of df4 is (482, 3541)\n",
      "Completed 410 out of 462 steps\n",
      "the main data is of shape (542, 2)\n",
      "shape of current_data2 is (542, 59)\n"
     ]
    },
    {
     "name": "stderr",
     "output_type": "stream",
     "text": [
      "C:\\Users\\abhij\\AppData\\Local\\Temp\\ipykernel_16868\\3215059801.py:16: SettingWithCopyWarning: \n",
      "A value is trying to be set on a copy of a slice from a DataFrame.\n",
      "Try using .loc[row_indexer,col_indexer] = value instead\n",
      "\n",
      "See the caveats in the documentation: https://pandas.pydata.org/pandas-docs/stable/user_guide/indexing.html#returning-a-view-versus-a-copy\n",
      "  current_data['Date'] = current_data.index\n"
     ]
    },
    {
     "name": "stdout",
     "output_type": "stream",
     "text": [
      "shape of df4 is (482, 3541)\n",
      "Completed 411 out of 462 steps\n",
      "the main data is of shape (542, 2)\n",
      "shape of current_data2 is (542, 59)\n"
     ]
    },
    {
     "name": "stderr",
     "output_type": "stream",
     "text": [
      "C:\\Users\\abhij\\AppData\\Local\\Temp\\ipykernel_16868\\3215059801.py:16: SettingWithCopyWarning: \n",
      "A value is trying to be set on a copy of a slice from a DataFrame.\n",
      "Try using .loc[row_indexer,col_indexer] = value instead\n",
      "\n",
      "See the caveats in the documentation: https://pandas.pydata.org/pandas-docs/stable/user_guide/indexing.html#returning-a-view-versus-a-copy\n",
      "  current_data['Date'] = current_data.index\n"
     ]
    },
    {
     "name": "stdout",
     "output_type": "stream",
     "text": [
      "shape of df4 is (482, 3541)\n",
      "Completed 412 out of 462 steps\n",
      "the main data is of shape (542, 2)\n",
      "shape of current_data2 is (542, 59)\n"
     ]
    },
    {
     "name": "stderr",
     "output_type": "stream",
     "text": [
      "C:\\Users\\abhij\\AppData\\Local\\Temp\\ipykernel_16868\\3215059801.py:16: SettingWithCopyWarning: \n",
      "A value is trying to be set on a copy of a slice from a DataFrame.\n",
      "Try using .loc[row_indexer,col_indexer] = value instead\n",
      "\n",
      "See the caveats in the documentation: https://pandas.pydata.org/pandas-docs/stable/user_guide/indexing.html#returning-a-view-versus-a-copy\n",
      "  current_data['Date'] = current_data.index\n"
     ]
    },
    {
     "name": "stdout",
     "output_type": "stream",
     "text": [
      "shape of df4 is (482, 3541)\n",
      "Completed 413 out of 462 steps\n",
      "the main data is of shape (542, 2)\n",
      "shape of current_data2 is (542, 59)\n"
     ]
    },
    {
     "name": "stderr",
     "output_type": "stream",
     "text": [
      "C:\\Users\\abhij\\AppData\\Local\\Temp\\ipykernel_16868\\3215059801.py:16: SettingWithCopyWarning: \n",
      "A value is trying to be set on a copy of a slice from a DataFrame.\n",
      "Try using .loc[row_indexer,col_indexer] = value instead\n",
      "\n",
      "See the caveats in the documentation: https://pandas.pydata.org/pandas-docs/stable/user_guide/indexing.html#returning-a-view-versus-a-copy\n",
      "  current_data['Date'] = current_data.index\n"
     ]
    },
    {
     "name": "stdout",
     "output_type": "stream",
     "text": [
      "shape of df4 is (482, 3541)\n",
      "Completed 414 out of 462 steps\n",
      "the main data is of shape (542, 2)\n",
      "shape of current_data2 is (542, 59)\n"
     ]
    },
    {
     "name": "stderr",
     "output_type": "stream",
     "text": [
      "C:\\Users\\abhij\\AppData\\Local\\Temp\\ipykernel_16868\\3215059801.py:16: SettingWithCopyWarning: \n",
      "A value is trying to be set on a copy of a slice from a DataFrame.\n",
      "Try using .loc[row_indexer,col_indexer] = value instead\n",
      "\n",
      "See the caveats in the documentation: https://pandas.pydata.org/pandas-docs/stable/user_guide/indexing.html#returning-a-view-versus-a-copy\n",
      "  current_data['Date'] = current_data.index\n"
     ]
    },
    {
     "name": "stdout",
     "output_type": "stream",
     "text": [
      "shape of df4 is (482, 3541)\n",
      "Completed 415 out of 462 steps\n",
      "the main data is of shape (542, 2)\n",
      "shape of current_data2 is (542, 59)\n"
     ]
    },
    {
     "name": "stderr",
     "output_type": "stream",
     "text": [
      "C:\\Users\\abhij\\AppData\\Local\\Temp\\ipykernel_16868\\3215059801.py:16: SettingWithCopyWarning: \n",
      "A value is trying to be set on a copy of a slice from a DataFrame.\n",
      "Try using .loc[row_indexer,col_indexer] = value instead\n",
      "\n",
      "See the caveats in the documentation: https://pandas.pydata.org/pandas-docs/stable/user_guide/indexing.html#returning-a-view-versus-a-copy\n",
      "  current_data['Date'] = current_data.index\n"
     ]
    },
    {
     "name": "stdout",
     "output_type": "stream",
     "text": [
      "shape of df4 is (482, 3541)\n",
      "Completed 416 out of 462 steps\n",
      "the main data is of shape (542, 2)\n",
      "shape of current_data2 is (542, 59)\n"
     ]
    },
    {
     "name": "stderr",
     "output_type": "stream",
     "text": [
      "C:\\Users\\abhij\\AppData\\Local\\Temp\\ipykernel_16868\\3215059801.py:16: SettingWithCopyWarning: \n",
      "A value is trying to be set on a copy of a slice from a DataFrame.\n",
      "Try using .loc[row_indexer,col_indexer] = value instead\n",
      "\n",
      "See the caveats in the documentation: https://pandas.pydata.org/pandas-docs/stable/user_guide/indexing.html#returning-a-view-versus-a-copy\n",
      "  current_data['Date'] = current_data.index\n"
     ]
    },
    {
     "name": "stdout",
     "output_type": "stream",
     "text": [
      "shape of df4 is (482, 3541)\n",
      "Completed 417 out of 462 steps\n",
      "the main data is of shape (542, 2)\n",
      "shape of current_data2 is (542, 59)\n"
     ]
    },
    {
     "name": "stderr",
     "output_type": "stream",
     "text": [
      "C:\\Users\\abhij\\AppData\\Local\\Temp\\ipykernel_16868\\3215059801.py:16: SettingWithCopyWarning: \n",
      "A value is trying to be set on a copy of a slice from a DataFrame.\n",
      "Try using .loc[row_indexer,col_indexer] = value instead\n",
      "\n",
      "See the caveats in the documentation: https://pandas.pydata.org/pandas-docs/stable/user_guide/indexing.html#returning-a-view-versus-a-copy\n",
      "  current_data['Date'] = current_data.index\n"
     ]
    },
    {
     "name": "stdout",
     "output_type": "stream",
     "text": [
      "shape of df4 is (482, 3541)\n",
      "Completed 418 out of 462 steps\n",
      "the main data is of shape (542, 2)\n",
      "shape of current_data2 is (542, 59)\n"
     ]
    },
    {
     "name": "stderr",
     "output_type": "stream",
     "text": [
      "C:\\Users\\abhij\\AppData\\Local\\Temp\\ipykernel_16868\\3215059801.py:16: SettingWithCopyWarning: \n",
      "A value is trying to be set on a copy of a slice from a DataFrame.\n",
      "Try using .loc[row_indexer,col_indexer] = value instead\n",
      "\n",
      "See the caveats in the documentation: https://pandas.pydata.org/pandas-docs/stable/user_guide/indexing.html#returning-a-view-versus-a-copy\n",
      "  current_data['Date'] = current_data.index\n"
     ]
    },
    {
     "name": "stdout",
     "output_type": "stream",
     "text": [
      "shape of df4 is (482, 3541)\n",
      "Completed 419 out of 462 steps\n",
      "the main data is of shape (542, 2)\n",
      "shape of current_data2 is (542, 59)\n"
     ]
    },
    {
     "name": "stderr",
     "output_type": "stream",
     "text": [
      "C:\\Users\\abhij\\AppData\\Local\\Temp\\ipykernel_16868\\3215059801.py:16: SettingWithCopyWarning: \n",
      "A value is trying to be set on a copy of a slice from a DataFrame.\n",
      "Try using .loc[row_indexer,col_indexer] = value instead\n",
      "\n",
      "See the caveats in the documentation: https://pandas.pydata.org/pandas-docs/stable/user_guide/indexing.html#returning-a-view-versus-a-copy\n",
      "  current_data['Date'] = current_data.index\n"
     ]
    },
    {
     "name": "stdout",
     "output_type": "stream",
     "text": [
      "shape of df4 is (482, 3541)\n",
      "Completed 420 out of 462 steps\n",
      "the main data is of shape (542, 2)\n",
      "shape of current_data2 is (542, 59)\n"
     ]
    },
    {
     "name": "stderr",
     "output_type": "stream",
     "text": [
      "C:\\Users\\abhij\\AppData\\Local\\Temp\\ipykernel_16868\\3215059801.py:16: SettingWithCopyWarning: \n",
      "A value is trying to be set on a copy of a slice from a DataFrame.\n",
      "Try using .loc[row_indexer,col_indexer] = value instead\n",
      "\n",
      "See the caveats in the documentation: https://pandas.pydata.org/pandas-docs/stable/user_guide/indexing.html#returning-a-view-versus-a-copy\n",
      "  current_data['Date'] = current_data.index\n"
     ]
    },
    {
     "name": "stdout",
     "output_type": "stream",
     "text": [
      "shape of df4 is (482, 3541)\n",
      "Completed 421 out of 462 steps\n",
      "the main data is of shape (542, 2)\n",
      "shape of current_data2 is (542, 59)\n"
     ]
    },
    {
     "name": "stderr",
     "output_type": "stream",
     "text": [
      "C:\\Users\\abhij\\AppData\\Local\\Temp\\ipykernel_16868\\3215059801.py:16: SettingWithCopyWarning: \n",
      "A value is trying to be set on a copy of a slice from a DataFrame.\n",
      "Try using .loc[row_indexer,col_indexer] = value instead\n",
      "\n",
      "See the caveats in the documentation: https://pandas.pydata.org/pandas-docs/stable/user_guide/indexing.html#returning-a-view-versus-a-copy\n",
      "  current_data['Date'] = current_data.index\n"
     ]
    },
    {
     "name": "stdout",
     "output_type": "stream",
     "text": [
      "shape of df4 is (482, 3541)\n",
      "Completed 422 out of 462 steps\n",
      "the main data is of shape (542, 2)\n",
      "shape of current_data2 is (542, 59)\n"
     ]
    },
    {
     "name": "stderr",
     "output_type": "stream",
     "text": [
      "C:\\Users\\abhij\\AppData\\Local\\Temp\\ipykernel_16868\\3215059801.py:16: SettingWithCopyWarning: \n",
      "A value is trying to be set on a copy of a slice from a DataFrame.\n",
      "Try using .loc[row_indexer,col_indexer] = value instead\n",
      "\n",
      "See the caveats in the documentation: https://pandas.pydata.org/pandas-docs/stable/user_guide/indexing.html#returning-a-view-versus-a-copy\n",
      "  current_data['Date'] = current_data.index\n"
     ]
    },
    {
     "name": "stdout",
     "output_type": "stream",
     "text": [
      "shape of df4 is (482, 3541)\n",
      "Completed 423 out of 462 steps\n",
      "the main data is of shape (542, 2)\n",
      "shape of current_data2 is (542, 59)\n"
     ]
    },
    {
     "name": "stderr",
     "output_type": "stream",
     "text": [
      "C:\\Users\\abhij\\AppData\\Local\\Temp\\ipykernel_16868\\3215059801.py:16: SettingWithCopyWarning: \n",
      "A value is trying to be set on a copy of a slice from a DataFrame.\n",
      "Try using .loc[row_indexer,col_indexer] = value instead\n",
      "\n",
      "See the caveats in the documentation: https://pandas.pydata.org/pandas-docs/stable/user_guide/indexing.html#returning-a-view-versus-a-copy\n",
      "  current_data['Date'] = current_data.index\n"
     ]
    },
    {
     "name": "stdout",
     "output_type": "stream",
     "text": [
      "shape of df4 is (482, 3541)\n",
      "Completed 424 out of 462 steps\n",
      "the main data is of shape (542, 2)\n",
      "shape of current_data2 is (542, 59)\n"
     ]
    },
    {
     "name": "stderr",
     "output_type": "stream",
     "text": [
      "C:\\Users\\abhij\\AppData\\Local\\Temp\\ipykernel_16868\\3215059801.py:16: SettingWithCopyWarning: \n",
      "A value is trying to be set on a copy of a slice from a DataFrame.\n",
      "Try using .loc[row_indexer,col_indexer] = value instead\n",
      "\n",
      "See the caveats in the documentation: https://pandas.pydata.org/pandas-docs/stable/user_guide/indexing.html#returning-a-view-versus-a-copy\n",
      "  current_data['Date'] = current_data.index\n"
     ]
    },
    {
     "name": "stdout",
     "output_type": "stream",
     "text": [
      "shape of df4 is (482, 3541)\n",
      "Completed 425 out of 462 steps\n",
      "the main data is of shape (542, 2)\n",
      "shape of current_data2 is (542, 59)\n"
     ]
    },
    {
     "name": "stderr",
     "output_type": "stream",
     "text": [
      "C:\\Users\\abhij\\AppData\\Local\\Temp\\ipykernel_16868\\3215059801.py:16: SettingWithCopyWarning: \n",
      "A value is trying to be set on a copy of a slice from a DataFrame.\n",
      "Try using .loc[row_indexer,col_indexer] = value instead\n",
      "\n",
      "See the caveats in the documentation: https://pandas.pydata.org/pandas-docs/stable/user_guide/indexing.html#returning-a-view-versus-a-copy\n",
      "  current_data['Date'] = current_data.index\n"
     ]
    },
    {
     "name": "stdout",
     "output_type": "stream",
     "text": [
      "shape of df4 is (482, 3541)\n",
      "Completed 426 out of 462 steps\n",
      "the main data is of shape (542, 2)\n",
      "shape of current_data2 is (542, 59)\n"
     ]
    },
    {
     "name": "stderr",
     "output_type": "stream",
     "text": [
      "C:\\Users\\abhij\\AppData\\Local\\Temp\\ipykernel_16868\\3215059801.py:16: SettingWithCopyWarning: \n",
      "A value is trying to be set on a copy of a slice from a DataFrame.\n",
      "Try using .loc[row_indexer,col_indexer] = value instead\n",
      "\n",
      "See the caveats in the documentation: https://pandas.pydata.org/pandas-docs/stable/user_guide/indexing.html#returning-a-view-versus-a-copy\n",
      "  current_data['Date'] = current_data.index\n"
     ]
    },
    {
     "name": "stdout",
     "output_type": "stream",
     "text": [
      "shape of df4 is (482, 3541)\n",
      "Completed 427 out of 462 steps\n",
      "the main data is of shape (542, 2)\n",
      "shape of current_data2 is (542, 59)\n"
     ]
    },
    {
     "name": "stderr",
     "output_type": "stream",
     "text": [
      "C:\\Users\\abhij\\AppData\\Local\\Temp\\ipykernel_16868\\3215059801.py:16: SettingWithCopyWarning: \n",
      "A value is trying to be set on a copy of a slice from a DataFrame.\n",
      "Try using .loc[row_indexer,col_indexer] = value instead\n",
      "\n",
      "See the caveats in the documentation: https://pandas.pydata.org/pandas-docs/stable/user_guide/indexing.html#returning-a-view-versus-a-copy\n",
      "  current_data['Date'] = current_data.index\n"
     ]
    },
    {
     "name": "stdout",
     "output_type": "stream",
     "text": [
      "shape of df4 is (482, 3541)\n",
      "Completed 428 out of 462 steps\n",
      "the main data is of shape (542, 2)\n",
      "shape of current_data2 is (542, 59)\n"
     ]
    },
    {
     "name": "stderr",
     "output_type": "stream",
     "text": [
      "C:\\Users\\abhij\\AppData\\Local\\Temp\\ipykernel_16868\\3215059801.py:16: SettingWithCopyWarning: \n",
      "A value is trying to be set on a copy of a slice from a DataFrame.\n",
      "Try using .loc[row_indexer,col_indexer] = value instead\n",
      "\n",
      "See the caveats in the documentation: https://pandas.pydata.org/pandas-docs/stable/user_guide/indexing.html#returning-a-view-versus-a-copy\n",
      "  current_data['Date'] = current_data.index\n"
     ]
    },
    {
     "name": "stdout",
     "output_type": "stream",
     "text": [
      "shape of df4 is (482, 3541)\n",
      "Completed 429 out of 462 steps\n",
      "the main data is of shape (542, 2)\n",
      "shape of current_data2 is (542, 59)\n"
     ]
    },
    {
     "name": "stderr",
     "output_type": "stream",
     "text": [
      "C:\\Users\\abhij\\AppData\\Local\\Temp\\ipykernel_16868\\3215059801.py:16: SettingWithCopyWarning: \n",
      "A value is trying to be set on a copy of a slice from a DataFrame.\n",
      "Try using .loc[row_indexer,col_indexer] = value instead\n",
      "\n",
      "See the caveats in the documentation: https://pandas.pydata.org/pandas-docs/stable/user_guide/indexing.html#returning-a-view-versus-a-copy\n",
      "  current_data['Date'] = current_data.index\n"
     ]
    },
    {
     "name": "stdout",
     "output_type": "stream",
     "text": [
      "shape of df4 is (482, 3541)\n",
      "Completed 430 out of 462 steps\n",
      "the main data is of shape (542, 2)\n",
      "shape of current_data2 is (542, 59)\n"
     ]
    },
    {
     "name": "stderr",
     "output_type": "stream",
     "text": [
      "C:\\Users\\abhij\\AppData\\Local\\Temp\\ipykernel_16868\\3215059801.py:16: SettingWithCopyWarning: \n",
      "A value is trying to be set on a copy of a slice from a DataFrame.\n",
      "Try using .loc[row_indexer,col_indexer] = value instead\n",
      "\n",
      "See the caveats in the documentation: https://pandas.pydata.org/pandas-docs/stable/user_guide/indexing.html#returning-a-view-versus-a-copy\n",
      "  current_data['Date'] = current_data.index\n"
     ]
    },
    {
     "name": "stdout",
     "output_type": "stream",
     "text": [
      "shape of df4 is (482, 3541)\n",
      "Completed 431 out of 462 steps\n",
      "the main data is of shape (542, 2)\n",
      "shape of current_data2 is (542, 59)\n"
     ]
    },
    {
     "name": "stderr",
     "output_type": "stream",
     "text": [
      "C:\\Users\\abhij\\AppData\\Local\\Temp\\ipykernel_16868\\3215059801.py:16: SettingWithCopyWarning: \n",
      "A value is trying to be set on a copy of a slice from a DataFrame.\n",
      "Try using .loc[row_indexer,col_indexer] = value instead\n",
      "\n",
      "See the caveats in the documentation: https://pandas.pydata.org/pandas-docs/stable/user_guide/indexing.html#returning-a-view-versus-a-copy\n",
      "  current_data['Date'] = current_data.index\n"
     ]
    },
    {
     "name": "stdout",
     "output_type": "stream",
     "text": [
      "shape of df4 is (482, 3541)\n",
      "Completed 432 out of 462 steps\n",
      "the main data is of shape (542, 2)\n",
      "shape of current_data2 is (542, 59)\n"
     ]
    },
    {
     "name": "stderr",
     "output_type": "stream",
     "text": [
      "C:\\Users\\abhij\\AppData\\Local\\Temp\\ipykernel_16868\\3215059801.py:16: SettingWithCopyWarning: \n",
      "A value is trying to be set on a copy of a slice from a DataFrame.\n",
      "Try using .loc[row_indexer,col_indexer] = value instead\n",
      "\n",
      "See the caveats in the documentation: https://pandas.pydata.org/pandas-docs/stable/user_guide/indexing.html#returning-a-view-versus-a-copy\n",
      "  current_data['Date'] = current_data.index\n"
     ]
    },
    {
     "name": "stdout",
     "output_type": "stream",
     "text": [
      "shape of df4 is (482, 3541)\n",
      "Completed 433 out of 462 steps\n",
      "the main data is of shape (542, 2)\n",
      "shape of current_data2 is (542, 59)\n"
     ]
    },
    {
     "name": "stderr",
     "output_type": "stream",
     "text": [
      "C:\\Users\\abhij\\AppData\\Local\\Temp\\ipykernel_16868\\3215059801.py:16: SettingWithCopyWarning: \n",
      "A value is trying to be set on a copy of a slice from a DataFrame.\n",
      "Try using .loc[row_indexer,col_indexer] = value instead\n",
      "\n",
      "See the caveats in the documentation: https://pandas.pydata.org/pandas-docs/stable/user_guide/indexing.html#returning-a-view-versus-a-copy\n",
      "  current_data['Date'] = current_data.index\n"
     ]
    },
    {
     "name": "stdout",
     "output_type": "stream",
     "text": [
      "shape of df4 is (482, 3541)\n",
      "Completed 434 out of 462 steps\n",
      "the main data is of shape (542, 2)\n",
      "shape of current_data2 is (542, 59)\n"
     ]
    },
    {
     "name": "stderr",
     "output_type": "stream",
     "text": [
      "C:\\Users\\abhij\\AppData\\Local\\Temp\\ipykernel_16868\\3215059801.py:16: SettingWithCopyWarning: \n",
      "A value is trying to be set on a copy of a slice from a DataFrame.\n",
      "Try using .loc[row_indexer,col_indexer] = value instead\n",
      "\n",
      "See the caveats in the documentation: https://pandas.pydata.org/pandas-docs/stable/user_guide/indexing.html#returning-a-view-versus-a-copy\n",
      "  current_data['Date'] = current_data.index\n"
     ]
    },
    {
     "name": "stdout",
     "output_type": "stream",
     "text": [
      "shape of df4 is (482, 3541)\n",
      "Completed 435 out of 462 steps\n",
      "the main data is of shape (542, 2)\n",
      "shape of current_data2 is (542, 59)\n"
     ]
    },
    {
     "name": "stderr",
     "output_type": "stream",
     "text": [
      "C:\\Users\\abhij\\AppData\\Local\\Temp\\ipykernel_16868\\3215059801.py:16: SettingWithCopyWarning: \n",
      "A value is trying to be set on a copy of a slice from a DataFrame.\n",
      "Try using .loc[row_indexer,col_indexer] = value instead\n",
      "\n",
      "See the caveats in the documentation: https://pandas.pydata.org/pandas-docs/stable/user_guide/indexing.html#returning-a-view-versus-a-copy\n",
      "  current_data['Date'] = current_data.index\n"
     ]
    },
    {
     "name": "stdout",
     "output_type": "stream",
     "text": [
      "shape of df4 is (482, 3541)\n",
      "Completed 436 out of 462 steps\n",
      "the main data is of shape (542, 2)\n",
      "shape of current_data2 is (542, 59)\n"
     ]
    },
    {
     "name": "stderr",
     "output_type": "stream",
     "text": [
      "C:\\Users\\abhij\\AppData\\Local\\Temp\\ipykernel_16868\\3215059801.py:16: SettingWithCopyWarning: \n",
      "A value is trying to be set on a copy of a slice from a DataFrame.\n",
      "Try using .loc[row_indexer,col_indexer] = value instead\n",
      "\n",
      "See the caveats in the documentation: https://pandas.pydata.org/pandas-docs/stable/user_guide/indexing.html#returning-a-view-versus-a-copy\n",
      "  current_data['Date'] = current_data.index\n"
     ]
    },
    {
     "name": "stdout",
     "output_type": "stream",
     "text": [
      "shape of df4 is (482, 3541)\n",
      "Completed 437 out of 462 steps\n",
      "the main data is of shape (542, 2)\n",
      "shape of current_data2 is (542, 59)\n"
     ]
    },
    {
     "name": "stderr",
     "output_type": "stream",
     "text": [
      "C:\\Users\\abhij\\AppData\\Local\\Temp\\ipykernel_16868\\3215059801.py:16: SettingWithCopyWarning: \n",
      "A value is trying to be set on a copy of a slice from a DataFrame.\n",
      "Try using .loc[row_indexer,col_indexer] = value instead\n",
      "\n",
      "See the caveats in the documentation: https://pandas.pydata.org/pandas-docs/stable/user_guide/indexing.html#returning-a-view-versus-a-copy\n",
      "  current_data['Date'] = current_data.index\n"
     ]
    },
    {
     "name": "stdout",
     "output_type": "stream",
     "text": [
      "shape of df4 is (482, 3541)\n",
      "Completed 438 out of 462 steps\n",
      "the main data is of shape (542, 2)\n",
      "shape of current_data2 is (542, 59)\n"
     ]
    },
    {
     "name": "stderr",
     "output_type": "stream",
     "text": [
      "C:\\Users\\abhij\\AppData\\Local\\Temp\\ipykernel_16868\\3215059801.py:16: SettingWithCopyWarning: \n",
      "A value is trying to be set on a copy of a slice from a DataFrame.\n",
      "Try using .loc[row_indexer,col_indexer] = value instead\n",
      "\n",
      "See the caveats in the documentation: https://pandas.pydata.org/pandas-docs/stable/user_guide/indexing.html#returning-a-view-versus-a-copy\n",
      "  current_data['Date'] = current_data.index\n"
     ]
    },
    {
     "name": "stdout",
     "output_type": "stream",
     "text": [
      "shape of df4 is (482, 3541)\n",
      "Completed 439 out of 462 steps\n",
      "the main data is of shape (542, 2)\n",
      "shape of current_data2 is (542, 59)\n"
     ]
    },
    {
     "name": "stderr",
     "output_type": "stream",
     "text": [
      "C:\\Users\\abhij\\AppData\\Local\\Temp\\ipykernel_16868\\3215059801.py:16: SettingWithCopyWarning: \n",
      "A value is trying to be set on a copy of a slice from a DataFrame.\n",
      "Try using .loc[row_indexer,col_indexer] = value instead\n",
      "\n",
      "See the caveats in the documentation: https://pandas.pydata.org/pandas-docs/stable/user_guide/indexing.html#returning-a-view-versus-a-copy\n",
      "  current_data['Date'] = current_data.index\n"
     ]
    },
    {
     "name": "stdout",
     "output_type": "stream",
     "text": [
      "shape of df4 is (482, 3541)\n",
      "Completed 440 out of 462 steps\n",
      "the main data is of shape (542, 2)\n",
      "shape of current_data2 is (542, 59)\n"
     ]
    },
    {
     "name": "stderr",
     "output_type": "stream",
     "text": [
      "C:\\Users\\abhij\\AppData\\Local\\Temp\\ipykernel_16868\\3215059801.py:16: SettingWithCopyWarning: \n",
      "A value is trying to be set on a copy of a slice from a DataFrame.\n",
      "Try using .loc[row_indexer,col_indexer] = value instead\n",
      "\n",
      "See the caveats in the documentation: https://pandas.pydata.org/pandas-docs/stable/user_guide/indexing.html#returning-a-view-versus-a-copy\n",
      "  current_data['Date'] = current_data.index\n"
     ]
    },
    {
     "name": "stdout",
     "output_type": "stream",
     "text": [
      "shape of df4 is (482, 3541)\n",
      "Completed 441 out of 462 steps\n",
      "the main data is of shape (542, 2)\n",
      "shape of current_data2 is (542, 59)\n"
     ]
    },
    {
     "name": "stderr",
     "output_type": "stream",
     "text": [
      "C:\\Users\\abhij\\AppData\\Local\\Temp\\ipykernel_16868\\3215059801.py:16: SettingWithCopyWarning: \n",
      "A value is trying to be set on a copy of a slice from a DataFrame.\n",
      "Try using .loc[row_indexer,col_indexer] = value instead\n",
      "\n",
      "See the caveats in the documentation: https://pandas.pydata.org/pandas-docs/stable/user_guide/indexing.html#returning-a-view-versus-a-copy\n",
      "  current_data['Date'] = current_data.index\n"
     ]
    },
    {
     "name": "stdout",
     "output_type": "stream",
     "text": [
      "shape of df4 is (482, 3541)\n",
      "Completed 442 out of 462 steps\n",
      "the main data is of shape (542, 2)\n",
      "shape of current_data2 is (542, 59)\n"
     ]
    },
    {
     "name": "stderr",
     "output_type": "stream",
     "text": [
      "C:\\Users\\abhij\\AppData\\Local\\Temp\\ipykernel_16868\\3215059801.py:16: SettingWithCopyWarning: \n",
      "A value is trying to be set on a copy of a slice from a DataFrame.\n",
      "Try using .loc[row_indexer,col_indexer] = value instead\n",
      "\n",
      "See the caveats in the documentation: https://pandas.pydata.org/pandas-docs/stable/user_guide/indexing.html#returning-a-view-versus-a-copy\n",
      "  current_data['Date'] = current_data.index\n"
     ]
    },
    {
     "name": "stdout",
     "output_type": "stream",
     "text": [
      "shape of df4 is (482, 3541)\n",
      "Completed 443 out of 462 steps\n",
      "the main data is of shape (542, 2)\n",
      "shape of current_data2 is (542, 59)\n"
     ]
    },
    {
     "name": "stderr",
     "output_type": "stream",
     "text": [
      "C:\\Users\\abhij\\AppData\\Local\\Temp\\ipykernel_16868\\3215059801.py:16: SettingWithCopyWarning: \n",
      "A value is trying to be set on a copy of a slice from a DataFrame.\n",
      "Try using .loc[row_indexer,col_indexer] = value instead\n",
      "\n",
      "See the caveats in the documentation: https://pandas.pydata.org/pandas-docs/stable/user_guide/indexing.html#returning-a-view-versus-a-copy\n",
      "  current_data['Date'] = current_data.index\n"
     ]
    },
    {
     "name": "stdout",
     "output_type": "stream",
     "text": [
      "shape of df4 is (482, 3541)\n",
      "Completed 444 out of 462 steps\n",
      "the main data is of shape (542, 2)\n",
      "shape of current_data2 is (542, 59)\n"
     ]
    },
    {
     "name": "stderr",
     "output_type": "stream",
     "text": [
      "C:\\Users\\abhij\\AppData\\Local\\Temp\\ipykernel_16868\\3215059801.py:16: SettingWithCopyWarning: \n",
      "A value is trying to be set on a copy of a slice from a DataFrame.\n",
      "Try using .loc[row_indexer,col_indexer] = value instead\n",
      "\n",
      "See the caveats in the documentation: https://pandas.pydata.org/pandas-docs/stable/user_guide/indexing.html#returning-a-view-versus-a-copy\n",
      "  current_data['Date'] = current_data.index\n"
     ]
    },
    {
     "name": "stdout",
     "output_type": "stream",
     "text": [
      "shape of df4 is (482, 3541)\n",
      "Completed 445 out of 462 steps\n",
      "the main data is of shape (542, 2)\n",
      "shape of current_data2 is (542, 59)\n"
     ]
    },
    {
     "name": "stderr",
     "output_type": "stream",
     "text": [
      "C:\\Users\\abhij\\AppData\\Local\\Temp\\ipykernel_16868\\3215059801.py:16: SettingWithCopyWarning: \n",
      "A value is trying to be set on a copy of a slice from a DataFrame.\n",
      "Try using .loc[row_indexer,col_indexer] = value instead\n",
      "\n",
      "See the caveats in the documentation: https://pandas.pydata.org/pandas-docs/stable/user_guide/indexing.html#returning-a-view-versus-a-copy\n",
      "  current_data['Date'] = current_data.index\n"
     ]
    },
    {
     "name": "stdout",
     "output_type": "stream",
     "text": [
      "shape of df4 is (482, 3541)\n",
      "Completed 446 out of 462 steps\n",
      "the main data is of shape (542, 2)\n",
      "shape of current_data2 is (542, 59)\n"
     ]
    },
    {
     "name": "stderr",
     "output_type": "stream",
     "text": [
      "C:\\Users\\abhij\\AppData\\Local\\Temp\\ipykernel_16868\\3215059801.py:16: SettingWithCopyWarning: \n",
      "A value is trying to be set on a copy of a slice from a DataFrame.\n",
      "Try using .loc[row_indexer,col_indexer] = value instead\n",
      "\n",
      "See the caveats in the documentation: https://pandas.pydata.org/pandas-docs/stable/user_guide/indexing.html#returning-a-view-versus-a-copy\n",
      "  current_data['Date'] = current_data.index\n"
     ]
    },
    {
     "name": "stdout",
     "output_type": "stream",
     "text": [
      "shape of df4 is (482, 3541)\n",
      "Completed 447 out of 462 steps\n",
      "the main data is of shape (542, 2)\n",
      "shape of current_data2 is (542, 59)\n"
     ]
    },
    {
     "name": "stderr",
     "output_type": "stream",
     "text": [
      "C:\\Users\\abhij\\AppData\\Local\\Temp\\ipykernel_16868\\3215059801.py:16: SettingWithCopyWarning: \n",
      "A value is trying to be set on a copy of a slice from a DataFrame.\n",
      "Try using .loc[row_indexer,col_indexer] = value instead\n",
      "\n",
      "See the caveats in the documentation: https://pandas.pydata.org/pandas-docs/stable/user_guide/indexing.html#returning-a-view-versus-a-copy\n",
      "  current_data['Date'] = current_data.index\n"
     ]
    },
    {
     "name": "stdout",
     "output_type": "stream",
     "text": [
      "shape of df4 is (482, 3541)\n",
      "Completed 448 out of 462 steps\n",
      "the main data is of shape (542, 2)\n",
      "shape of current_data2 is (542, 59)\n"
     ]
    },
    {
     "name": "stderr",
     "output_type": "stream",
     "text": [
      "C:\\Users\\abhij\\AppData\\Local\\Temp\\ipykernel_16868\\3215059801.py:16: SettingWithCopyWarning: \n",
      "A value is trying to be set on a copy of a slice from a DataFrame.\n",
      "Try using .loc[row_indexer,col_indexer] = value instead\n",
      "\n",
      "See the caveats in the documentation: https://pandas.pydata.org/pandas-docs/stable/user_guide/indexing.html#returning-a-view-versus-a-copy\n",
      "  current_data['Date'] = current_data.index\n"
     ]
    },
    {
     "name": "stdout",
     "output_type": "stream",
     "text": [
      "shape of df4 is (482, 3541)\n",
      "Completed 449 out of 462 steps\n",
      "the main data is of shape (542, 2)\n",
      "shape of current_data2 is (542, 59)\n"
     ]
    },
    {
     "name": "stderr",
     "output_type": "stream",
     "text": [
      "C:\\Users\\abhij\\AppData\\Local\\Temp\\ipykernel_16868\\3215059801.py:16: SettingWithCopyWarning: \n",
      "A value is trying to be set on a copy of a slice from a DataFrame.\n",
      "Try using .loc[row_indexer,col_indexer] = value instead\n",
      "\n",
      "See the caveats in the documentation: https://pandas.pydata.org/pandas-docs/stable/user_guide/indexing.html#returning-a-view-versus-a-copy\n",
      "  current_data['Date'] = current_data.index\n"
     ]
    },
    {
     "name": "stdout",
     "output_type": "stream",
     "text": [
      "shape of df4 is (482, 3541)\n",
      "Completed 450 out of 462 steps\n",
      "the main data is of shape (542, 2)\n",
      "shape of current_data2 is (542, 59)\n"
     ]
    },
    {
     "name": "stderr",
     "output_type": "stream",
     "text": [
      "C:\\Users\\abhij\\AppData\\Local\\Temp\\ipykernel_16868\\3215059801.py:16: SettingWithCopyWarning: \n",
      "A value is trying to be set on a copy of a slice from a DataFrame.\n",
      "Try using .loc[row_indexer,col_indexer] = value instead\n",
      "\n",
      "See the caveats in the documentation: https://pandas.pydata.org/pandas-docs/stable/user_guide/indexing.html#returning-a-view-versus-a-copy\n",
      "  current_data['Date'] = current_data.index\n"
     ]
    },
    {
     "name": "stdout",
     "output_type": "stream",
     "text": [
      "shape of df4 is (482, 3541)\n",
      "Completed 451 out of 462 steps\n",
      "the main data is of shape (542, 2)\n",
      "shape of current_data2 is (542, 59)\n"
     ]
    },
    {
     "name": "stderr",
     "output_type": "stream",
     "text": [
      "C:\\Users\\abhij\\AppData\\Local\\Temp\\ipykernel_16868\\3215059801.py:16: SettingWithCopyWarning: \n",
      "A value is trying to be set on a copy of a slice from a DataFrame.\n",
      "Try using .loc[row_indexer,col_indexer] = value instead\n",
      "\n",
      "See the caveats in the documentation: https://pandas.pydata.org/pandas-docs/stable/user_guide/indexing.html#returning-a-view-versus-a-copy\n",
      "  current_data['Date'] = current_data.index\n"
     ]
    },
    {
     "name": "stdout",
     "output_type": "stream",
     "text": [
      "shape of df4 is (482, 3541)\n",
      "Completed 452 out of 462 steps\n",
      "the main data is of shape (542, 2)\n",
      "shape of current_data2 is (542, 59)\n"
     ]
    },
    {
     "name": "stderr",
     "output_type": "stream",
     "text": [
      "C:\\Users\\abhij\\AppData\\Local\\Temp\\ipykernel_16868\\3215059801.py:16: SettingWithCopyWarning: \n",
      "A value is trying to be set on a copy of a slice from a DataFrame.\n",
      "Try using .loc[row_indexer,col_indexer] = value instead\n",
      "\n",
      "See the caveats in the documentation: https://pandas.pydata.org/pandas-docs/stable/user_guide/indexing.html#returning-a-view-versus-a-copy\n",
      "  current_data['Date'] = current_data.index\n"
     ]
    },
    {
     "name": "stdout",
     "output_type": "stream",
     "text": [
      "shape of df4 is (482, 3541)\n",
      "Completed 453 out of 462 steps\n",
      "the main data is of shape (542, 2)\n",
      "shape of current_data2 is (542, 59)\n"
     ]
    },
    {
     "name": "stderr",
     "output_type": "stream",
     "text": [
      "C:\\Users\\abhij\\AppData\\Local\\Temp\\ipykernel_16868\\3215059801.py:16: SettingWithCopyWarning: \n",
      "A value is trying to be set on a copy of a slice from a DataFrame.\n",
      "Try using .loc[row_indexer,col_indexer] = value instead\n",
      "\n",
      "See the caveats in the documentation: https://pandas.pydata.org/pandas-docs/stable/user_guide/indexing.html#returning-a-view-versus-a-copy\n",
      "  current_data['Date'] = current_data.index\n"
     ]
    },
    {
     "name": "stdout",
     "output_type": "stream",
     "text": [
      "shape of df4 is (482, 3541)\n",
      "Completed 454 out of 462 steps\n",
      "the main data is of shape (542, 2)\n",
      "shape of current_data2 is (542, 59)\n"
     ]
    },
    {
     "name": "stderr",
     "output_type": "stream",
     "text": [
      "C:\\Users\\abhij\\AppData\\Local\\Temp\\ipykernel_16868\\3215059801.py:16: SettingWithCopyWarning: \n",
      "A value is trying to be set on a copy of a slice from a DataFrame.\n",
      "Try using .loc[row_indexer,col_indexer] = value instead\n",
      "\n",
      "See the caveats in the documentation: https://pandas.pydata.org/pandas-docs/stable/user_guide/indexing.html#returning-a-view-versus-a-copy\n",
      "  current_data['Date'] = current_data.index\n"
     ]
    },
    {
     "name": "stdout",
     "output_type": "stream",
     "text": [
      "shape of df4 is (482, 3541)\n",
      "Completed 455 out of 462 steps\n",
      "the main data is of shape (542, 2)\n",
      "shape of current_data2 is (542, 59)\n"
     ]
    },
    {
     "name": "stderr",
     "output_type": "stream",
     "text": [
      "C:\\Users\\abhij\\AppData\\Local\\Temp\\ipykernel_16868\\3215059801.py:16: SettingWithCopyWarning: \n",
      "A value is trying to be set on a copy of a slice from a DataFrame.\n",
      "Try using .loc[row_indexer,col_indexer] = value instead\n",
      "\n",
      "See the caveats in the documentation: https://pandas.pydata.org/pandas-docs/stable/user_guide/indexing.html#returning-a-view-versus-a-copy\n",
      "  current_data['Date'] = current_data.index\n"
     ]
    },
    {
     "name": "stdout",
     "output_type": "stream",
     "text": [
      "shape of df4 is (482, 3541)\n",
      "Completed 456 out of 462 steps\n",
      "the main data is of shape (542, 2)\n",
      "shape of current_data2 is (542, 59)\n"
     ]
    },
    {
     "name": "stderr",
     "output_type": "stream",
     "text": [
      "C:\\Users\\abhij\\AppData\\Local\\Temp\\ipykernel_16868\\3215059801.py:16: SettingWithCopyWarning: \n",
      "A value is trying to be set on a copy of a slice from a DataFrame.\n",
      "Try using .loc[row_indexer,col_indexer] = value instead\n",
      "\n",
      "See the caveats in the documentation: https://pandas.pydata.org/pandas-docs/stable/user_guide/indexing.html#returning-a-view-versus-a-copy\n",
      "  current_data['Date'] = current_data.index\n"
     ]
    },
    {
     "name": "stdout",
     "output_type": "stream",
     "text": [
      "shape of df4 is (482, 3541)\n",
      "Completed 457 out of 462 steps\n",
      "the main data is of shape (542, 2)\n",
      "shape of current_data2 is (542, 59)\n"
     ]
    },
    {
     "name": "stderr",
     "output_type": "stream",
     "text": [
      "C:\\Users\\abhij\\AppData\\Local\\Temp\\ipykernel_16868\\3215059801.py:16: SettingWithCopyWarning: \n",
      "A value is trying to be set on a copy of a slice from a DataFrame.\n",
      "Try using .loc[row_indexer,col_indexer] = value instead\n",
      "\n",
      "See the caveats in the documentation: https://pandas.pydata.org/pandas-docs/stable/user_guide/indexing.html#returning-a-view-versus-a-copy\n",
      "  current_data['Date'] = current_data.index\n"
     ]
    },
    {
     "name": "stdout",
     "output_type": "stream",
     "text": [
      "shape of df4 is (482, 3541)\n",
      "Completed 458 out of 462 steps\n",
      "the main data is of shape (542, 2)\n",
      "shape of current_data2 is (542, 59)\n"
     ]
    },
    {
     "name": "stderr",
     "output_type": "stream",
     "text": [
      "C:\\Users\\abhij\\AppData\\Local\\Temp\\ipykernel_16868\\3215059801.py:16: SettingWithCopyWarning: \n",
      "A value is trying to be set on a copy of a slice from a DataFrame.\n",
      "Try using .loc[row_indexer,col_indexer] = value instead\n",
      "\n",
      "See the caveats in the documentation: https://pandas.pydata.org/pandas-docs/stable/user_guide/indexing.html#returning-a-view-versus-a-copy\n",
      "  current_data['Date'] = current_data.index\n"
     ]
    },
    {
     "name": "stdout",
     "output_type": "stream",
     "text": [
      "shape of df4 is (482, 3541)\n",
      "Completed 459 out of 462 steps\n",
      "the main data is of shape (542, 2)\n",
      "shape of current_data2 is (542, 59)\n"
     ]
    },
    {
     "name": "stderr",
     "output_type": "stream",
     "text": [
      "C:\\Users\\abhij\\AppData\\Local\\Temp\\ipykernel_16868\\3215059801.py:16: SettingWithCopyWarning: \n",
      "A value is trying to be set on a copy of a slice from a DataFrame.\n",
      "Try using .loc[row_indexer,col_indexer] = value instead\n",
      "\n",
      "See the caveats in the documentation: https://pandas.pydata.org/pandas-docs/stable/user_guide/indexing.html#returning-a-view-versus-a-copy\n",
      "  current_data['Date'] = current_data.index\n"
     ]
    },
    {
     "name": "stdout",
     "output_type": "stream",
     "text": [
      "shape of df4 is (482, 3541)\n",
      "Completed 460 out of 462 steps\n",
      "the main data is of shape (542, 2)\n",
      "shape of current_data2 is (542, 59)\n"
     ]
    },
    {
     "name": "stderr",
     "output_type": "stream",
     "text": [
      "C:\\Users\\abhij\\AppData\\Local\\Temp\\ipykernel_16868\\3215059801.py:16: SettingWithCopyWarning: \n",
      "A value is trying to be set on a copy of a slice from a DataFrame.\n",
      "Try using .loc[row_indexer,col_indexer] = value instead\n",
      "\n",
      "See the caveats in the documentation: https://pandas.pydata.org/pandas-docs/stable/user_guide/indexing.html#returning-a-view-versus-a-copy\n",
      "  current_data['Date'] = current_data.index\n"
     ]
    },
    {
     "name": "stdout",
     "output_type": "stream",
     "text": [
      "shape of df4 is (482, 3541)\n",
      "Completed 461 out of 462 steps\n",
      "the main data is of shape (542, 2)\n",
      "shape of current_data2 is (542, 59)\n"
     ]
    },
    {
     "name": "stderr",
     "output_type": "stream",
     "text": [
      "C:\\Users\\abhij\\AppData\\Local\\Temp\\ipykernel_16868\\3215059801.py:16: SettingWithCopyWarning: \n",
      "A value is trying to be set on a copy of a slice from a DataFrame.\n",
      "Try using .loc[row_indexer,col_indexer] = value instead\n",
      "\n",
      "See the caveats in the documentation: https://pandas.pydata.org/pandas-docs/stable/user_guide/indexing.html#returning-a-view-versus-a-copy\n",
      "  current_data['Date'] = current_data.index\n"
     ]
    },
    {
     "name": "stdout",
     "output_type": "stream",
     "text": [
      "shape of df4 is (482, 3541)\n"
     ]
    }
   ],
   "source": [
    "y_all =[]\n",
    "count = 0 \n",
    "days_shape = 60\n",
    "pred_days = 15\n",
    "reward = 10\n",
    "#X_big =[]\n",
    "\n",
    "for company in nse_companies:\n",
    "    \n",
    "    print('Completed',count,'out of',len(nse_companies),'steps')\n",
    "    count = count+1\n",
    "    \n",
    "    current_data = data[company]\n",
    "    current_data = current_data.iloc[::-1]  #reversing rows to get current date first\n",
    "    \n",
    "    current_data['Date'] = current_data.index\n",
    "    current_data = current_data.reset_index(drop=True)\n",
    "    current_data = current_data[['Date','Close']]\n",
    "    print('the main data is of shape',current_data.shape) \n",
    "    \n",
    "    current_data_05 = current_data\n",
    "    current_data_05['Xth'] = current_data['Close']\n",
    "    \n",
    "    c1 = []\n",
    "    for i in range(1,days_shape):\n",
    "        current_data_05['temp'] = current_data_05.loc[:,'Xth'] - current_data_05.loc[:,'Xth'].shift(-1*i)\n",
    "        current_data_05['temp'] = current_data_05.loc[:,'temp']/current_data_05.loc[:,'Xth']*100\n",
    "        c1.append(current_data_05['temp'].to_numpy())\n",
    "    #print('the lenth of concatenated stuff is',len(c1[0]))\n",
    "    \n",
    "    current_data1 = pd.DataFrame(c1)\n",
    "    current_data2 = current_data1.transpose()    \n",
    "    print('shape of current_data2 is',current_data2.shape )   \n",
    "\n",
    "    \n",
    "    c2 =current_data2.to_numpy()\n",
    "    \n",
    "    c3 =[]\n",
    "\n",
    "    for i in range(int(len(c2)-days_shape)):\n",
    "        c6 = np.concatenate((c2[i:i+days_shape]))\n",
    "        c3.append(c6)\n",
    "\n",
    "    aes = current_data.shape[0]\n",
    "    \n",
    "    df4 = pd.DataFrame(c3)\n",
    "    df4['Xth'] = current_data_05.iloc[:aes]['Xth']\n",
    "    print('shape of df4 is',df4.shape )\n",
    "    #### y value % is what i am coding next\n",
    "    df4['Pred_Xth_%'] = df4['Xth'].shift(pred_days)\n",
    "    df4['Pred_Xth_%']  = (df4['Pred_Xth_%']-df4['Xth']) /df4['Xth']*100\n",
    "    \n",
    "     \n",
    "    df5 = df4.dropna()\n",
    "    \n",
    "    df6 = df5#.copy()\n",
    "    \n",
    "\n",
    " ####################################################           \n",
    "            \n",
    "    df7 = df6.drop('Xth',axis=1)     \n",
    "\n",
    "    \n",
    "    X1 = df7\n",
    "\n",
    "    import numpy as np\n",
    "     \n",
    "        \n",
    "    X_1 = np.asarray(X1).astype(np.float32)\n",
    "    \n",
    "    if count == 1:\n",
    "        X_big = X_1\n",
    "        #print(X_big)\n",
    "    else:\n",
    "        X_big = np.concatenate((X_big, X_1), 0)\n",
    "        \n",
    "    #X_big.append(X_1)\n"
   ]
  },
  {
   "cell_type": "code",
   "execution_count": 7,
   "id": "190b9ef8",
   "metadata": {
    "scrolled": true
   },
   "outputs": [
    {
     "data": {
      "text/plain": [
       "188711"
      ]
     },
     "execution_count": 7,
     "metadata": {},
     "output_type": "execute_result"
    }
   ],
   "source": [
    "len(X_big)"
   ]
  },
  {
   "cell_type": "code",
   "execution_count": 8,
   "id": "71fe271e",
   "metadata": {},
   "outputs": [],
   "source": [
    "X_big_one = pd.DataFrame(X_big)"
   ]
  },
  {
   "cell_type": "code",
   "execution_count": 9,
   "id": "f8f667d9",
   "metadata": {},
   "outputs": [
    {
     "data": {
      "text/html": [
       "<div>\n",
       "<style scoped>\n",
       "    .dataframe tbody tr th:only-of-type {\n",
       "        vertical-align: middle;\n",
       "    }\n",
       "\n",
       "    .dataframe tbody tr th {\n",
       "        vertical-align: top;\n",
       "    }\n",
       "\n",
       "    .dataframe thead th {\n",
       "        text-align: right;\n",
       "    }\n",
       "</style>\n",
       "<table border=\"1\" class=\"dataframe\">\n",
       "  <thead>\n",
       "    <tr style=\"text-align: right;\">\n",
       "      <th></th>\n",
       "      <th>0</th>\n",
       "      <th>1</th>\n",
       "      <th>2</th>\n",
       "      <th>3</th>\n",
       "      <th>4</th>\n",
       "      <th>5</th>\n",
       "      <th>6</th>\n",
       "      <th>7</th>\n",
       "      <th>8</th>\n",
       "      <th>9</th>\n",
       "      <th>...</th>\n",
       "      <th>3531</th>\n",
       "      <th>3532</th>\n",
       "      <th>3533</th>\n",
       "      <th>3534</th>\n",
       "      <th>3535</th>\n",
       "      <th>3536</th>\n",
       "      <th>3537</th>\n",
       "      <th>3538</th>\n",
       "      <th>3539</th>\n",
       "      <th>3540</th>\n",
       "    </tr>\n",
       "  </thead>\n",
       "  <tbody>\n",
       "    <tr>\n",
       "      <th>0</th>\n",
       "      <td>-1.834222</td>\n",
       "      <td>-1.218946</td>\n",
       "      <td>0.475974</td>\n",
       "      <td>0.371490</td>\n",
       "      <td>0.255400</td>\n",
       "      <td>0.464360</td>\n",
       "      <td>6.791270</td>\n",
       "      <td>2.960297</td>\n",
       "      <td>1.462739</td>\n",
       "      <td>-0.557231</td>\n",
       "      <td>...</td>\n",
       "      <td>1.675195</td>\n",
       "      <td>-1.666762</td>\n",
       "      <td>-6.515264</td>\n",
       "      <td>-5.927818</td>\n",
       "      <td>-5.832256</td>\n",
       "      <td>-1.641461</td>\n",
       "      <td>0.958460</td>\n",
       "      <td>-1.292934</td>\n",
       "      <td>-1.745457</td>\n",
       "      <td>-4.562346</td>\n",
       "    </tr>\n",
       "    <tr>\n",
       "      <th>1</th>\n",
       "      <td>0.604194</td>\n",
       "      <td>2.268584</td>\n",
       "      <td>2.165983</td>\n",
       "      <td>2.051984</td>\n",
       "      <td>2.257180</td>\n",
       "      <td>8.470131</td>\n",
       "      <td>4.708161</td>\n",
       "      <td>3.237577</td>\n",
       "      <td>1.253990</td>\n",
       "      <td>1.436393</td>\n",
       "      <td>...</td>\n",
       "      <td>-1.884405</td>\n",
       "      <td>-6.743286</td>\n",
       "      <td>-6.154583</td>\n",
       "      <td>-6.058816</td>\n",
       "      <td>-1.859050</td>\n",
       "      <td>0.746437</td>\n",
       "      <td>-1.509777</td>\n",
       "      <td>-1.963268</td>\n",
       "      <td>-0.414060</td>\n",
       "      <td>-5.175561</td>\n",
       "    </tr>\n",
       "    <tr>\n",
       "      <th>2</th>\n",
       "      <td>1.674508</td>\n",
       "      <td>1.571283</td>\n",
       "      <td>1.456590</td>\n",
       "      <td>1.663035</td>\n",
       "      <td>7.913751</td>\n",
       "      <td>4.128914</td>\n",
       "      <td>2.649390</td>\n",
       "      <td>0.653746</td>\n",
       "      <td>0.837258</td>\n",
       "      <td>2.821429</td>\n",
       "      <td>...</td>\n",
       "      <td>-6.252453</td>\n",
       "      <td>-5.666457</td>\n",
       "      <td>-5.571131</td>\n",
       "      <td>-1.390676</td>\n",
       "      <td>1.202830</td>\n",
       "      <td>-1.043009</td>\n",
       "      <td>-1.494415</td>\n",
       "      <td>0.047670</td>\n",
       "      <td>-2.652382</td>\n",
       "      <td>-4.587682</td>\n",
       "    </tr>\n",
       "    <tr>\n",
       "      <th>3</th>\n",
       "      <td>-0.104984</td>\n",
       "      <td>-0.221629</td>\n",
       "      <td>-0.011669</td>\n",
       "      <td>6.345499</td>\n",
       "      <td>2.496205</td>\n",
       "      <td>0.991485</td>\n",
       "      <td>-1.038146</td>\n",
       "      <td>-0.851509</td>\n",
       "      <td>1.166453</td>\n",
       "      <td>-0.361605</td>\n",
       "      <td>...</td>\n",
       "      <td>-6.070925</td>\n",
       "      <td>-5.975234</td>\n",
       "      <td>-1.778777</td>\n",
       "      <td>0.824657</td>\n",
       "      <td>-1.429779</td>\n",
       "      <td>-1.882913</td>\n",
       "      <td>-0.334925</td>\n",
       "      <td>-3.045312</td>\n",
       "      <td>-1.885730</td>\n",
       "      <td>-5.050739</td>\n",
       "    </tr>\n",
       "    <tr>\n",
       "      <th>4</th>\n",
       "      <td>-0.116523</td>\n",
       "      <td>0.093217</td>\n",
       "      <td>6.443718</td>\n",
       "      <td>2.598460</td>\n",
       "      <td>1.095319</td>\n",
       "      <td>-0.932184</td>\n",
       "      <td>-0.745743</td>\n",
       "      <td>1.270103</td>\n",
       "      <td>-0.256352</td>\n",
       "      <td>-3.099508</td>\n",
       "      <td>...</td>\n",
       "      <td>-7.084355</td>\n",
       "      <td>-2.843979</td>\n",
       "      <td>-0.213298</td>\n",
       "      <td>-2.491329</td>\n",
       "      <td>-2.949205</td>\n",
       "      <td>-1.385017</td>\n",
       "      <td>-4.123770</td>\n",
       "      <td>-2.952052</td>\n",
       "      <td>-5.011090</td>\n",
       "      <td>-4.486134</td>\n",
       "    </tr>\n",
       "    <tr>\n",
       "      <th>...</th>\n",
       "      <td>...</td>\n",
       "      <td>...</td>\n",
       "      <td>...</td>\n",
       "      <td>...</td>\n",
       "      <td>...</td>\n",
       "      <td>...</td>\n",
       "      <td>...</td>\n",
       "      <td>...</td>\n",
       "      <td>...</td>\n",
       "      <td>...</td>\n",
       "      <td>...</td>\n",
       "      <td>...</td>\n",
       "      <td>...</td>\n",
       "      <td>...</td>\n",
       "      <td>...</td>\n",
       "      <td>...</td>\n",
       "      <td>...</td>\n",
       "      <td>...</td>\n",
       "      <td>...</td>\n",
       "      <td>...</td>\n",
       "      <td>...</td>\n",
       "    </tr>\n",
       "    <tr>\n",
       "      <th>188706</th>\n",
       "      <td>4.761071</td>\n",
       "      <td>6.966083</td>\n",
       "      <td>10.031157</td>\n",
       "      <td>7.984118</td>\n",
       "      <td>8.166227</td>\n",
       "      <td>7.095531</td>\n",
       "      <td>6.349555</td>\n",
       "      <td>2.661373</td>\n",
       "      <td>-1.327392</td>\n",
       "      <td>-1.333973</td>\n",
       "      <td>...</td>\n",
       "      <td>14.816234</td>\n",
       "      <td>15.715866</td>\n",
       "      <td>18.146154</td>\n",
       "      <td>20.218298</td>\n",
       "      <td>20.789631</td>\n",
       "      <td>21.215994</td>\n",
       "      <td>20.056278</td>\n",
       "      <td>20.107447</td>\n",
       "      <td>19.348513</td>\n",
       "      <td>-4.280581</td>\n",
       "    </tr>\n",
       "    <tr>\n",
       "      <th>188707</th>\n",
       "      <td>2.315241</td>\n",
       "      <td>5.533541</td>\n",
       "      <td>3.384169</td>\n",
       "      <td>3.575382</td>\n",
       "      <td>2.451162</td>\n",
       "      <td>1.667893</td>\n",
       "      <td>-2.204664</td>\n",
       "      <td>-6.392831</td>\n",
       "      <td>-6.399740</td>\n",
       "      <td>-3.448675</td>\n",
       "      <td>...</td>\n",
       "      <td>17.247150</td>\n",
       "      <td>19.633286</td>\n",
       "      <td>21.667782</td>\n",
       "      <td>22.228735</td>\n",
       "      <td>22.647352</td>\n",
       "      <td>21.508707</td>\n",
       "      <td>21.558945</td>\n",
       "      <td>20.813799</td>\n",
       "      <td>18.691391</td>\n",
       "      <td>1.801510</td>\n",
       "    </tr>\n",
       "    <tr>\n",
       "      <th>188708</th>\n",
       "      <td>3.294577</td>\n",
       "      <td>1.094263</td>\n",
       "      <td>1.290008</td>\n",
       "      <td>0.139142</td>\n",
       "      <td>-0.662691</td>\n",
       "      <td>-4.627033</td>\n",
       "      <td>-8.914463</td>\n",
       "      <td>-8.921536</td>\n",
       "      <td>-5.900527</td>\n",
       "      <td>-2.940829</td>\n",
       "      <td>...</td>\n",
       "      <td>20.682529</td>\n",
       "      <td>22.690462</td>\n",
       "      <td>23.244091</td>\n",
       "      <td>23.657244</td>\n",
       "      <td>22.533464</td>\n",
       "      <td>22.583046</td>\n",
       "      <td>21.847628</td>\n",
       "      <td>19.752930</td>\n",
       "      <td>19.728140</td>\n",
       "      <td>5.650546</td>\n",
       "    </tr>\n",
       "    <tr>\n",
       "      <th>188709</th>\n",
       "      <td>-2.275275</td>\n",
       "      <td>-2.072861</td>\n",
       "      <td>-3.262935</td>\n",
       "      <td>-4.092085</td>\n",
       "      <td>-8.191484</td>\n",
       "      <td>-12.624980</td>\n",
       "      <td>-12.632295</td>\n",
       "      <td>-9.508365</td>\n",
       "      <td>-6.447834</td>\n",
       "      <td>-2.094813</td>\n",
       "      <td>...</td>\n",
       "      <td>20.715225</td>\n",
       "      <td>21.282999</td>\n",
       "      <td>21.706707</td>\n",
       "      <td>20.554214</td>\n",
       "      <td>20.605064</td>\n",
       "      <td>19.850857</td>\n",
       "      <td>17.702639</td>\n",
       "      <td>17.677216</td>\n",
       "      <td>18.973772</td>\n",
       "      <td>7.079447</td>\n",
       "    </tr>\n",
       "    <tr>\n",
       "      <th>188710</th>\n",
       "      <td>0.197911</td>\n",
       "      <td>-0.965688</td>\n",
       "      <td>-1.776392</td>\n",
       "      <td>-5.784594</td>\n",
       "      <td>-10.119460</td>\n",
       "      <td>-10.126612</td>\n",
       "      <td>-7.072178</td>\n",
       "      <td>-4.079734</td>\n",
       "      <td>0.176447</td>\n",
       "      <td>-1.235123</td>\n",
       "      <td>...</td>\n",
       "      <td>22.241758</td>\n",
       "      <td>22.660305</td>\n",
       "      <td>21.521851</td>\n",
       "      <td>21.572081</td>\n",
       "      <td>20.827059</td>\n",
       "      <td>18.705006</td>\n",
       "      <td>18.679892</td>\n",
       "      <td>19.960657</td>\n",
       "      <td>22.873768</td>\n",
       "      <td>4.873743</td>\n",
       "    </tr>\n",
       "  </tbody>\n",
       "</table>\n",
       "<p>188711 rows × 3541 columns</p>\n",
       "</div>"
      ],
      "text/plain": [
       "            0         1          2         3          4          5     \\\n",
       "0      -1.834222 -1.218946   0.475974  0.371490   0.255400   0.464360   \n",
       "1       0.604194  2.268584   2.165983  2.051984   2.257180   8.470131   \n",
       "2       1.674508  1.571283   1.456590  1.663035   7.913751   4.128914   \n",
       "3      -0.104984 -0.221629  -0.011669  6.345499   2.496205   0.991485   \n",
       "4      -0.116523  0.093217   6.443718  2.598460   1.095319  -0.932184   \n",
       "...          ...       ...        ...       ...        ...        ...   \n",
       "188706  4.761071  6.966083  10.031157  7.984118   8.166227   7.095531   \n",
       "188707  2.315241  5.533541   3.384169  3.575382   2.451162   1.667893   \n",
       "188708  3.294577  1.094263   1.290008  0.139142  -0.662691  -4.627033   \n",
       "188709 -2.275275 -2.072861  -3.262935 -4.092085  -8.191484 -12.624980   \n",
       "188710  0.197911 -0.965688  -1.776392 -5.784594 -10.119460 -10.126612   \n",
       "\n",
       "             6         7         8         9     ...       3531       3532  \\\n",
       "0        6.791270  2.960297  1.462739 -0.557231  ...   1.675195  -1.666762   \n",
       "1        4.708161  3.237577  1.253990  1.436393  ...  -1.884405  -6.743286   \n",
       "2        2.649390  0.653746  0.837258  2.821429  ...  -6.252453  -5.666457   \n",
       "3       -1.038146 -0.851509  1.166453 -0.361605  ...  -6.070925  -5.975234   \n",
       "4       -0.745743  1.270103 -0.256352 -3.099508  ...  -7.084355  -2.843979   \n",
       "...           ...       ...       ...       ...  ...        ...        ...   \n",
       "188706   6.349555  2.661373 -1.327392 -1.333973  ...  14.816234  15.715866   \n",
       "188707  -2.204664 -6.392831 -6.399740 -3.448675  ...  17.247150  19.633286   \n",
       "188708  -8.914463 -8.921536 -5.900527 -2.940829  ...  20.682529  22.690462   \n",
       "188709 -12.632295 -9.508365 -6.447834 -2.094813  ...  20.715225  21.282999   \n",
       "188710  -7.072178 -4.079734  0.176447 -1.235123  ...  22.241758  22.660305   \n",
       "\n",
       "             3533       3534       3535       3536       3537       3538  \\\n",
       "0       -6.515264  -5.927818  -5.832256  -1.641461   0.958460  -1.292934   \n",
       "1       -6.154583  -6.058816  -1.859050   0.746437  -1.509777  -1.963268   \n",
       "2       -5.571131  -1.390676   1.202830  -1.043009  -1.494415   0.047670   \n",
       "3       -1.778777   0.824657  -1.429779  -1.882913  -0.334925  -3.045312   \n",
       "4       -0.213298  -2.491329  -2.949205  -1.385017  -4.123770  -2.952052   \n",
       "...           ...        ...        ...        ...        ...        ...   \n",
       "188706  18.146154  20.218298  20.789631  21.215994  20.056278  20.107447   \n",
       "188707  21.667782  22.228735  22.647352  21.508707  21.558945  20.813799   \n",
       "188708  23.244091  23.657244  22.533464  22.583046  21.847628  19.752930   \n",
       "188709  21.706707  20.554214  20.605064  19.850857  17.702639  17.677216   \n",
       "188710  21.521851  21.572081  20.827059  18.705006  18.679892  19.960657   \n",
       "\n",
       "             3539      3540  \n",
       "0       -1.745457 -4.562346  \n",
       "1       -0.414060 -5.175561  \n",
       "2       -2.652382 -4.587682  \n",
       "3       -1.885730 -5.050739  \n",
       "4       -5.011090 -4.486134  \n",
       "...           ...       ...  \n",
       "188706  19.348513 -4.280581  \n",
       "188707  18.691391  1.801510  \n",
       "188708  19.728140  5.650546  \n",
       "188709  18.973772  7.079447  \n",
       "188710  22.873768  4.873743  \n",
       "\n",
       "[188711 rows x 3541 columns]"
      ]
     },
     "execution_count": 9,
     "metadata": {},
     "output_type": "execute_result"
    }
   ],
   "source": [
    "X_big_one"
   ]
  },
  {
   "cell_type": "code",
   "execution_count": 10,
   "id": "aed3e6e3",
   "metadata": {
    "scrolled": true
   },
   "outputs": [
    {
     "data": {
      "text/plain": [
       "0        -4.562346\n",
       "1        -5.175561\n",
       "2        -4.587682\n",
       "3        -5.050739\n",
       "4        -4.486134\n",
       "            ...   \n",
       "188706   -4.280581\n",
       "188707    1.801510\n",
       "188708    5.650546\n",
       "188709    7.079447\n",
       "188710    4.873743\n",
       "Name: 3540, Length: 188711, dtype: float32"
      ]
     },
     "execution_count": 10,
     "metadata": {},
     "output_type": "execute_result"
    }
   ],
   "source": [
    "reward = 10\n",
    "X_big_one[3540]"
   ]
  },
  {
   "cell_type": "code",
   "execution_count": 11,
   "id": "6d32a8c7",
   "metadata": {
    "scrolled": true
   },
   "outputs": [
    {
     "data": {
      "text/plain": [
       "False    165162\n",
       "True      23549\n",
       "Name: result, dtype: int64"
      ]
     },
     "execution_count": 11,
     "metadata": {},
     "output_type": "execute_result"
    }
   ],
   "source": [
    "X_big_one = X_big_one.assign(result = lambda x: (x[3540]>reward))\n",
    "    \n",
    "X_big_one['result'].value_counts()  "
   ]
  },
  {
   "cell_type": "code",
   "execution_count": 12,
   "id": "5d4792cb",
   "metadata": {},
   "outputs": [],
   "source": [
    "X_big_one03 = X_big_one.copy()\n",
    "X_big_one03 = X_big_one03.drop(3540,axis=1)\n"
   ]
  },
  {
   "cell_type": "code",
   "execution_count": 13,
   "id": "941c6b25",
   "metadata": {
    "scrolled": true
   },
   "outputs": [
    {
     "data": {
      "text/html": [
       "<div>\n",
       "<style scoped>\n",
       "    .dataframe tbody tr th:only-of-type {\n",
       "        vertical-align: middle;\n",
       "    }\n",
       "\n",
       "    .dataframe tbody tr th {\n",
       "        vertical-align: top;\n",
       "    }\n",
       "\n",
       "    .dataframe thead th {\n",
       "        text-align: right;\n",
       "    }\n",
       "</style>\n",
       "<table border=\"1\" class=\"dataframe\">\n",
       "  <thead>\n",
       "    <tr style=\"text-align: right;\">\n",
       "      <th></th>\n",
       "      <th>0</th>\n",
       "      <th>1</th>\n",
       "      <th>2</th>\n",
       "      <th>3</th>\n",
       "      <th>4</th>\n",
       "      <th>5</th>\n",
       "      <th>6</th>\n",
       "      <th>7</th>\n",
       "      <th>8</th>\n",
       "      <th>9</th>\n",
       "      <th>...</th>\n",
       "      <th>3531</th>\n",
       "      <th>3532</th>\n",
       "      <th>3533</th>\n",
       "      <th>3534</th>\n",
       "      <th>3535</th>\n",
       "      <th>3536</th>\n",
       "      <th>3537</th>\n",
       "      <th>3538</th>\n",
       "      <th>3539</th>\n",
       "      <th>result</th>\n",
       "    </tr>\n",
       "  </thead>\n",
       "  <tbody>\n",
       "    <tr>\n",
       "      <th>0</th>\n",
       "      <td>-1.834222</td>\n",
       "      <td>-1.218946</td>\n",
       "      <td>0.475974</td>\n",
       "      <td>0.371490</td>\n",
       "      <td>0.255400</td>\n",
       "      <td>0.464360</td>\n",
       "      <td>6.791270</td>\n",
       "      <td>2.960297</td>\n",
       "      <td>1.462739</td>\n",
       "      <td>-0.557231</td>\n",
       "      <td>...</td>\n",
       "      <td>1.675195</td>\n",
       "      <td>-1.666762</td>\n",
       "      <td>-6.515264</td>\n",
       "      <td>-5.927818</td>\n",
       "      <td>-5.832256</td>\n",
       "      <td>-1.641461</td>\n",
       "      <td>0.958460</td>\n",
       "      <td>-1.292934</td>\n",
       "      <td>-1.745457</td>\n",
       "      <td>False</td>\n",
       "    </tr>\n",
       "    <tr>\n",
       "      <th>1</th>\n",
       "      <td>0.604194</td>\n",
       "      <td>2.268584</td>\n",
       "      <td>2.165983</td>\n",
       "      <td>2.051984</td>\n",
       "      <td>2.257180</td>\n",
       "      <td>8.470131</td>\n",
       "      <td>4.708161</td>\n",
       "      <td>3.237577</td>\n",
       "      <td>1.253990</td>\n",
       "      <td>1.436393</td>\n",
       "      <td>...</td>\n",
       "      <td>-1.884405</td>\n",
       "      <td>-6.743286</td>\n",
       "      <td>-6.154583</td>\n",
       "      <td>-6.058816</td>\n",
       "      <td>-1.859050</td>\n",
       "      <td>0.746437</td>\n",
       "      <td>-1.509777</td>\n",
       "      <td>-1.963268</td>\n",
       "      <td>-0.414060</td>\n",
       "      <td>False</td>\n",
       "    </tr>\n",
       "    <tr>\n",
       "      <th>2</th>\n",
       "      <td>1.674508</td>\n",
       "      <td>1.571283</td>\n",
       "      <td>1.456590</td>\n",
       "      <td>1.663035</td>\n",
       "      <td>7.913751</td>\n",
       "      <td>4.128914</td>\n",
       "      <td>2.649390</td>\n",
       "      <td>0.653746</td>\n",
       "      <td>0.837258</td>\n",
       "      <td>2.821429</td>\n",
       "      <td>...</td>\n",
       "      <td>-6.252453</td>\n",
       "      <td>-5.666457</td>\n",
       "      <td>-5.571131</td>\n",
       "      <td>-1.390676</td>\n",
       "      <td>1.202830</td>\n",
       "      <td>-1.043009</td>\n",
       "      <td>-1.494415</td>\n",
       "      <td>0.047670</td>\n",
       "      <td>-2.652382</td>\n",
       "      <td>False</td>\n",
       "    </tr>\n",
       "    <tr>\n",
       "      <th>3</th>\n",
       "      <td>-0.104984</td>\n",
       "      <td>-0.221629</td>\n",
       "      <td>-0.011669</td>\n",
       "      <td>6.345499</td>\n",
       "      <td>2.496205</td>\n",
       "      <td>0.991485</td>\n",
       "      <td>-1.038146</td>\n",
       "      <td>-0.851509</td>\n",
       "      <td>1.166453</td>\n",
       "      <td>-0.361605</td>\n",
       "      <td>...</td>\n",
       "      <td>-6.070925</td>\n",
       "      <td>-5.975234</td>\n",
       "      <td>-1.778777</td>\n",
       "      <td>0.824657</td>\n",
       "      <td>-1.429779</td>\n",
       "      <td>-1.882913</td>\n",
       "      <td>-0.334925</td>\n",
       "      <td>-3.045312</td>\n",
       "      <td>-1.885730</td>\n",
       "      <td>False</td>\n",
       "    </tr>\n",
       "    <tr>\n",
       "      <th>4</th>\n",
       "      <td>-0.116523</td>\n",
       "      <td>0.093217</td>\n",
       "      <td>6.443718</td>\n",
       "      <td>2.598460</td>\n",
       "      <td>1.095319</td>\n",
       "      <td>-0.932184</td>\n",
       "      <td>-0.745743</td>\n",
       "      <td>1.270103</td>\n",
       "      <td>-0.256352</td>\n",
       "      <td>-3.099508</td>\n",
       "      <td>...</td>\n",
       "      <td>-7.084355</td>\n",
       "      <td>-2.843979</td>\n",
       "      <td>-0.213298</td>\n",
       "      <td>-2.491329</td>\n",
       "      <td>-2.949205</td>\n",
       "      <td>-1.385017</td>\n",
       "      <td>-4.123770</td>\n",
       "      <td>-2.952052</td>\n",
       "      <td>-5.011090</td>\n",
       "      <td>False</td>\n",
       "    </tr>\n",
       "    <tr>\n",
       "      <th>...</th>\n",
       "      <td>...</td>\n",
       "      <td>...</td>\n",
       "      <td>...</td>\n",
       "      <td>...</td>\n",
       "      <td>...</td>\n",
       "      <td>...</td>\n",
       "      <td>...</td>\n",
       "      <td>...</td>\n",
       "      <td>...</td>\n",
       "      <td>...</td>\n",
       "      <td>...</td>\n",
       "      <td>...</td>\n",
       "      <td>...</td>\n",
       "      <td>...</td>\n",
       "      <td>...</td>\n",
       "      <td>...</td>\n",
       "      <td>...</td>\n",
       "      <td>...</td>\n",
       "      <td>...</td>\n",
       "      <td>...</td>\n",
       "      <td>...</td>\n",
       "    </tr>\n",
       "    <tr>\n",
       "      <th>188706</th>\n",
       "      <td>4.761071</td>\n",
       "      <td>6.966083</td>\n",
       "      <td>10.031157</td>\n",
       "      <td>7.984118</td>\n",
       "      <td>8.166227</td>\n",
       "      <td>7.095531</td>\n",
       "      <td>6.349555</td>\n",
       "      <td>2.661373</td>\n",
       "      <td>-1.327392</td>\n",
       "      <td>-1.333973</td>\n",
       "      <td>...</td>\n",
       "      <td>14.816234</td>\n",
       "      <td>15.715866</td>\n",
       "      <td>18.146154</td>\n",
       "      <td>20.218298</td>\n",
       "      <td>20.789631</td>\n",
       "      <td>21.215994</td>\n",
       "      <td>20.056278</td>\n",
       "      <td>20.107447</td>\n",
       "      <td>19.348513</td>\n",
       "      <td>False</td>\n",
       "    </tr>\n",
       "    <tr>\n",
       "      <th>188707</th>\n",
       "      <td>2.315241</td>\n",
       "      <td>5.533541</td>\n",
       "      <td>3.384169</td>\n",
       "      <td>3.575382</td>\n",
       "      <td>2.451162</td>\n",
       "      <td>1.667893</td>\n",
       "      <td>-2.204664</td>\n",
       "      <td>-6.392831</td>\n",
       "      <td>-6.399740</td>\n",
       "      <td>-3.448675</td>\n",
       "      <td>...</td>\n",
       "      <td>17.247150</td>\n",
       "      <td>19.633286</td>\n",
       "      <td>21.667782</td>\n",
       "      <td>22.228735</td>\n",
       "      <td>22.647352</td>\n",
       "      <td>21.508707</td>\n",
       "      <td>21.558945</td>\n",
       "      <td>20.813799</td>\n",
       "      <td>18.691391</td>\n",
       "      <td>False</td>\n",
       "    </tr>\n",
       "    <tr>\n",
       "      <th>188708</th>\n",
       "      <td>3.294577</td>\n",
       "      <td>1.094263</td>\n",
       "      <td>1.290008</td>\n",
       "      <td>0.139142</td>\n",
       "      <td>-0.662691</td>\n",
       "      <td>-4.627033</td>\n",
       "      <td>-8.914463</td>\n",
       "      <td>-8.921536</td>\n",
       "      <td>-5.900527</td>\n",
       "      <td>-2.940829</td>\n",
       "      <td>...</td>\n",
       "      <td>20.682529</td>\n",
       "      <td>22.690462</td>\n",
       "      <td>23.244091</td>\n",
       "      <td>23.657244</td>\n",
       "      <td>22.533464</td>\n",
       "      <td>22.583046</td>\n",
       "      <td>21.847628</td>\n",
       "      <td>19.752930</td>\n",
       "      <td>19.728140</td>\n",
       "      <td>False</td>\n",
       "    </tr>\n",
       "    <tr>\n",
       "      <th>188709</th>\n",
       "      <td>-2.275275</td>\n",
       "      <td>-2.072861</td>\n",
       "      <td>-3.262935</td>\n",
       "      <td>-4.092085</td>\n",
       "      <td>-8.191484</td>\n",
       "      <td>-12.624980</td>\n",
       "      <td>-12.632295</td>\n",
       "      <td>-9.508365</td>\n",
       "      <td>-6.447834</td>\n",
       "      <td>-2.094813</td>\n",
       "      <td>...</td>\n",
       "      <td>20.715225</td>\n",
       "      <td>21.282999</td>\n",
       "      <td>21.706707</td>\n",
       "      <td>20.554214</td>\n",
       "      <td>20.605064</td>\n",
       "      <td>19.850857</td>\n",
       "      <td>17.702639</td>\n",
       "      <td>17.677216</td>\n",
       "      <td>18.973772</td>\n",
       "      <td>False</td>\n",
       "    </tr>\n",
       "    <tr>\n",
       "      <th>188710</th>\n",
       "      <td>0.197911</td>\n",
       "      <td>-0.965688</td>\n",
       "      <td>-1.776392</td>\n",
       "      <td>-5.784594</td>\n",
       "      <td>-10.119460</td>\n",
       "      <td>-10.126612</td>\n",
       "      <td>-7.072178</td>\n",
       "      <td>-4.079734</td>\n",
       "      <td>0.176447</td>\n",
       "      <td>-1.235123</td>\n",
       "      <td>...</td>\n",
       "      <td>22.241758</td>\n",
       "      <td>22.660305</td>\n",
       "      <td>21.521851</td>\n",
       "      <td>21.572081</td>\n",
       "      <td>20.827059</td>\n",
       "      <td>18.705006</td>\n",
       "      <td>18.679892</td>\n",
       "      <td>19.960657</td>\n",
       "      <td>22.873768</td>\n",
       "      <td>False</td>\n",
       "    </tr>\n",
       "  </tbody>\n",
       "</table>\n",
       "<p>188711 rows × 3541 columns</p>\n",
       "</div>"
      ],
      "text/plain": [
       "               0         1          2         3          4          5  \\\n",
       "0      -1.834222 -1.218946   0.475974  0.371490   0.255400   0.464360   \n",
       "1       0.604194  2.268584   2.165983  2.051984   2.257180   8.470131   \n",
       "2       1.674508  1.571283   1.456590  1.663035   7.913751   4.128914   \n",
       "3      -0.104984 -0.221629  -0.011669  6.345499   2.496205   0.991485   \n",
       "4      -0.116523  0.093217   6.443718  2.598460   1.095319  -0.932184   \n",
       "...          ...       ...        ...       ...        ...        ...   \n",
       "188706  4.761071  6.966083  10.031157  7.984118   8.166227   7.095531   \n",
       "188707  2.315241  5.533541   3.384169  3.575382   2.451162   1.667893   \n",
       "188708  3.294577  1.094263   1.290008  0.139142  -0.662691  -4.627033   \n",
       "188709 -2.275275 -2.072861  -3.262935 -4.092085  -8.191484 -12.624980   \n",
       "188710  0.197911 -0.965688  -1.776392 -5.784594 -10.119460 -10.126612   \n",
       "\n",
       "                6         7         8         9  ...       3531       3532  \\\n",
       "0        6.791270  2.960297  1.462739 -0.557231  ...   1.675195  -1.666762   \n",
       "1        4.708161  3.237577  1.253990  1.436393  ...  -1.884405  -6.743286   \n",
       "2        2.649390  0.653746  0.837258  2.821429  ...  -6.252453  -5.666457   \n",
       "3       -1.038146 -0.851509  1.166453 -0.361605  ...  -6.070925  -5.975234   \n",
       "4       -0.745743  1.270103 -0.256352 -3.099508  ...  -7.084355  -2.843979   \n",
       "...           ...       ...       ...       ...  ...        ...        ...   \n",
       "188706   6.349555  2.661373 -1.327392 -1.333973  ...  14.816234  15.715866   \n",
       "188707  -2.204664 -6.392831 -6.399740 -3.448675  ...  17.247150  19.633286   \n",
       "188708  -8.914463 -8.921536 -5.900527 -2.940829  ...  20.682529  22.690462   \n",
       "188709 -12.632295 -9.508365 -6.447834 -2.094813  ...  20.715225  21.282999   \n",
       "188710  -7.072178 -4.079734  0.176447 -1.235123  ...  22.241758  22.660305   \n",
       "\n",
       "             3533       3534       3535       3536       3537       3538  \\\n",
       "0       -6.515264  -5.927818  -5.832256  -1.641461   0.958460  -1.292934   \n",
       "1       -6.154583  -6.058816  -1.859050   0.746437  -1.509777  -1.963268   \n",
       "2       -5.571131  -1.390676   1.202830  -1.043009  -1.494415   0.047670   \n",
       "3       -1.778777   0.824657  -1.429779  -1.882913  -0.334925  -3.045312   \n",
       "4       -0.213298  -2.491329  -2.949205  -1.385017  -4.123770  -2.952052   \n",
       "...           ...        ...        ...        ...        ...        ...   \n",
       "188706  18.146154  20.218298  20.789631  21.215994  20.056278  20.107447   \n",
       "188707  21.667782  22.228735  22.647352  21.508707  21.558945  20.813799   \n",
       "188708  23.244091  23.657244  22.533464  22.583046  21.847628  19.752930   \n",
       "188709  21.706707  20.554214  20.605064  19.850857  17.702639  17.677216   \n",
       "188710  21.521851  21.572081  20.827059  18.705006  18.679892  19.960657   \n",
       "\n",
       "             3539  result  \n",
       "0       -1.745457   False  \n",
       "1       -0.414060   False  \n",
       "2       -2.652382   False  \n",
       "3       -1.885730   False  \n",
       "4       -5.011090   False  \n",
       "...           ...     ...  \n",
       "188706  19.348513   False  \n",
       "188707  18.691391   False  \n",
       "188708  19.728140   False  \n",
       "188709  18.973772   False  \n",
       "188710  22.873768   False  \n",
       "\n",
       "[188711 rows x 3541 columns]"
      ]
     },
     "execution_count": 13,
     "metadata": {},
     "output_type": "execute_result"
    }
   ],
   "source": [
    "X_big_one03"
   ]
  },
  {
   "cell_type": "code",
   "execution_count": 14,
   "id": "a39e466e",
   "metadata": {},
   "outputs": [
    {
     "name": "stderr",
     "output_type": "stream",
     "text": [
      "C:\\Users\\abhij\\AppData\\Local\\Temp\\ipykernel_16868\\3911959229.py:3: SettingWithCopyWarning: \n",
      "A value is trying to be set on a copy of a slice from a DataFrame\n",
      "\n",
      "See the caveats in the documentation: https://pandas.pydata.org/pandas-docs/stable/user_guide/indexing.html#returning-a-view-versus-a-copy\n",
      "  X_big_one03['result'][i] = 0\n"
     ]
    }
   ],
   "source": [
    "for i in range(len(X_big_one03.result)):\n",
    "    if X_big_one03['result'][i] == False:\n",
    "       X_big_one03['result'][i] = 0\n",
    "    else:\n",
    "       X_big_one03['result'][i] = 1\n",
    "        "
   ]
  },
  {
   "cell_type": "code",
   "execution_count": 15,
   "id": "3f02a374",
   "metadata": {
    "scrolled": true
   },
   "outputs": [
    {
     "data": {
      "text/html": [
       "<div>\n",
       "<style scoped>\n",
       "    .dataframe tbody tr th:only-of-type {\n",
       "        vertical-align: middle;\n",
       "    }\n",
       "\n",
       "    .dataframe tbody tr th {\n",
       "        vertical-align: top;\n",
       "    }\n",
       "\n",
       "    .dataframe thead th {\n",
       "        text-align: right;\n",
       "    }\n",
       "</style>\n",
       "<table border=\"1\" class=\"dataframe\">\n",
       "  <thead>\n",
       "    <tr style=\"text-align: right;\">\n",
       "      <th></th>\n",
       "      <th>0</th>\n",
       "      <th>1</th>\n",
       "      <th>2</th>\n",
       "      <th>3</th>\n",
       "      <th>4</th>\n",
       "      <th>5</th>\n",
       "      <th>6</th>\n",
       "      <th>7</th>\n",
       "      <th>8</th>\n",
       "      <th>9</th>\n",
       "      <th>...</th>\n",
       "      <th>3531</th>\n",
       "      <th>3532</th>\n",
       "      <th>3533</th>\n",
       "      <th>3534</th>\n",
       "      <th>3535</th>\n",
       "      <th>3536</th>\n",
       "      <th>3537</th>\n",
       "      <th>3538</th>\n",
       "      <th>3539</th>\n",
       "      <th>result</th>\n",
       "    </tr>\n",
       "  </thead>\n",
       "  <tbody>\n",
       "    <tr>\n",
       "      <th>0</th>\n",
       "      <td>-1.834222</td>\n",
       "      <td>-1.218946</td>\n",
       "      <td>0.475974</td>\n",
       "      <td>0.371490</td>\n",
       "      <td>0.255400</td>\n",
       "      <td>0.464360</td>\n",
       "      <td>6.791270</td>\n",
       "      <td>2.960297</td>\n",
       "      <td>1.462739</td>\n",
       "      <td>-0.557231</td>\n",
       "      <td>...</td>\n",
       "      <td>1.675195</td>\n",
       "      <td>-1.666762</td>\n",
       "      <td>-6.515264</td>\n",
       "      <td>-5.927818</td>\n",
       "      <td>-5.832256</td>\n",
       "      <td>-1.641461</td>\n",
       "      <td>0.958460</td>\n",
       "      <td>-1.292934</td>\n",
       "      <td>-1.745457</td>\n",
       "      <td>0</td>\n",
       "    </tr>\n",
       "    <tr>\n",
       "      <th>1</th>\n",
       "      <td>0.604194</td>\n",
       "      <td>2.268584</td>\n",
       "      <td>2.165983</td>\n",
       "      <td>2.051984</td>\n",
       "      <td>2.257180</td>\n",
       "      <td>8.470131</td>\n",
       "      <td>4.708161</td>\n",
       "      <td>3.237577</td>\n",
       "      <td>1.253990</td>\n",
       "      <td>1.436393</td>\n",
       "      <td>...</td>\n",
       "      <td>-1.884405</td>\n",
       "      <td>-6.743286</td>\n",
       "      <td>-6.154583</td>\n",
       "      <td>-6.058816</td>\n",
       "      <td>-1.859050</td>\n",
       "      <td>0.746437</td>\n",
       "      <td>-1.509777</td>\n",
       "      <td>-1.963268</td>\n",
       "      <td>-0.414060</td>\n",
       "      <td>0</td>\n",
       "    </tr>\n",
       "    <tr>\n",
       "      <th>2</th>\n",
       "      <td>1.674508</td>\n",
       "      <td>1.571283</td>\n",
       "      <td>1.456590</td>\n",
       "      <td>1.663035</td>\n",
       "      <td>7.913751</td>\n",
       "      <td>4.128914</td>\n",
       "      <td>2.649390</td>\n",
       "      <td>0.653746</td>\n",
       "      <td>0.837258</td>\n",
       "      <td>2.821429</td>\n",
       "      <td>...</td>\n",
       "      <td>-6.252453</td>\n",
       "      <td>-5.666457</td>\n",
       "      <td>-5.571131</td>\n",
       "      <td>-1.390676</td>\n",
       "      <td>1.202830</td>\n",
       "      <td>-1.043009</td>\n",
       "      <td>-1.494415</td>\n",
       "      <td>0.047670</td>\n",
       "      <td>-2.652382</td>\n",
       "      <td>0</td>\n",
       "    </tr>\n",
       "    <tr>\n",
       "      <th>3</th>\n",
       "      <td>-0.104984</td>\n",
       "      <td>-0.221629</td>\n",
       "      <td>-0.011669</td>\n",
       "      <td>6.345499</td>\n",
       "      <td>2.496205</td>\n",
       "      <td>0.991485</td>\n",
       "      <td>-1.038146</td>\n",
       "      <td>-0.851509</td>\n",
       "      <td>1.166453</td>\n",
       "      <td>-0.361605</td>\n",
       "      <td>...</td>\n",
       "      <td>-6.070925</td>\n",
       "      <td>-5.975234</td>\n",
       "      <td>-1.778777</td>\n",
       "      <td>0.824657</td>\n",
       "      <td>-1.429779</td>\n",
       "      <td>-1.882913</td>\n",
       "      <td>-0.334925</td>\n",
       "      <td>-3.045312</td>\n",
       "      <td>-1.885730</td>\n",
       "      <td>0</td>\n",
       "    </tr>\n",
       "    <tr>\n",
       "      <th>4</th>\n",
       "      <td>-0.116523</td>\n",
       "      <td>0.093217</td>\n",
       "      <td>6.443718</td>\n",
       "      <td>2.598460</td>\n",
       "      <td>1.095319</td>\n",
       "      <td>-0.932184</td>\n",
       "      <td>-0.745743</td>\n",
       "      <td>1.270103</td>\n",
       "      <td>-0.256352</td>\n",
       "      <td>-3.099508</td>\n",
       "      <td>...</td>\n",
       "      <td>-7.084355</td>\n",
       "      <td>-2.843979</td>\n",
       "      <td>-0.213298</td>\n",
       "      <td>-2.491329</td>\n",
       "      <td>-2.949205</td>\n",
       "      <td>-1.385017</td>\n",
       "      <td>-4.123770</td>\n",
       "      <td>-2.952052</td>\n",
       "      <td>-5.011090</td>\n",
       "      <td>0</td>\n",
       "    </tr>\n",
       "    <tr>\n",
       "      <th>...</th>\n",
       "      <td>...</td>\n",
       "      <td>...</td>\n",
       "      <td>...</td>\n",
       "      <td>...</td>\n",
       "      <td>...</td>\n",
       "      <td>...</td>\n",
       "      <td>...</td>\n",
       "      <td>...</td>\n",
       "      <td>...</td>\n",
       "      <td>...</td>\n",
       "      <td>...</td>\n",
       "      <td>...</td>\n",
       "      <td>...</td>\n",
       "      <td>...</td>\n",
       "      <td>...</td>\n",
       "      <td>...</td>\n",
       "      <td>...</td>\n",
       "      <td>...</td>\n",
       "      <td>...</td>\n",
       "      <td>...</td>\n",
       "      <td>...</td>\n",
       "    </tr>\n",
       "    <tr>\n",
       "      <th>188706</th>\n",
       "      <td>4.761071</td>\n",
       "      <td>6.966083</td>\n",
       "      <td>10.031157</td>\n",
       "      <td>7.984118</td>\n",
       "      <td>8.166227</td>\n",
       "      <td>7.095531</td>\n",
       "      <td>6.349555</td>\n",
       "      <td>2.661373</td>\n",
       "      <td>-1.327392</td>\n",
       "      <td>-1.333973</td>\n",
       "      <td>...</td>\n",
       "      <td>14.816234</td>\n",
       "      <td>15.715866</td>\n",
       "      <td>18.146154</td>\n",
       "      <td>20.218298</td>\n",
       "      <td>20.789631</td>\n",
       "      <td>21.215994</td>\n",
       "      <td>20.056278</td>\n",
       "      <td>20.107447</td>\n",
       "      <td>19.348513</td>\n",
       "      <td>0</td>\n",
       "    </tr>\n",
       "    <tr>\n",
       "      <th>188707</th>\n",
       "      <td>2.315241</td>\n",
       "      <td>5.533541</td>\n",
       "      <td>3.384169</td>\n",
       "      <td>3.575382</td>\n",
       "      <td>2.451162</td>\n",
       "      <td>1.667893</td>\n",
       "      <td>-2.204664</td>\n",
       "      <td>-6.392831</td>\n",
       "      <td>-6.399740</td>\n",
       "      <td>-3.448675</td>\n",
       "      <td>...</td>\n",
       "      <td>17.247150</td>\n",
       "      <td>19.633286</td>\n",
       "      <td>21.667782</td>\n",
       "      <td>22.228735</td>\n",
       "      <td>22.647352</td>\n",
       "      <td>21.508707</td>\n",
       "      <td>21.558945</td>\n",
       "      <td>20.813799</td>\n",
       "      <td>18.691391</td>\n",
       "      <td>0</td>\n",
       "    </tr>\n",
       "    <tr>\n",
       "      <th>188708</th>\n",
       "      <td>3.294577</td>\n",
       "      <td>1.094263</td>\n",
       "      <td>1.290008</td>\n",
       "      <td>0.139142</td>\n",
       "      <td>-0.662691</td>\n",
       "      <td>-4.627033</td>\n",
       "      <td>-8.914463</td>\n",
       "      <td>-8.921536</td>\n",
       "      <td>-5.900527</td>\n",
       "      <td>-2.940829</td>\n",
       "      <td>...</td>\n",
       "      <td>20.682529</td>\n",
       "      <td>22.690462</td>\n",
       "      <td>23.244091</td>\n",
       "      <td>23.657244</td>\n",
       "      <td>22.533464</td>\n",
       "      <td>22.583046</td>\n",
       "      <td>21.847628</td>\n",
       "      <td>19.752930</td>\n",
       "      <td>19.728140</td>\n",
       "      <td>0</td>\n",
       "    </tr>\n",
       "    <tr>\n",
       "      <th>188709</th>\n",
       "      <td>-2.275275</td>\n",
       "      <td>-2.072861</td>\n",
       "      <td>-3.262935</td>\n",
       "      <td>-4.092085</td>\n",
       "      <td>-8.191484</td>\n",
       "      <td>-12.624980</td>\n",
       "      <td>-12.632295</td>\n",
       "      <td>-9.508365</td>\n",
       "      <td>-6.447834</td>\n",
       "      <td>-2.094813</td>\n",
       "      <td>...</td>\n",
       "      <td>20.715225</td>\n",
       "      <td>21.282999</td>\n",
       "      <td>21.706707</td>\n",
       "      <td>20.554214</td>\n",
       "      <td>20.605064</td>\n",
       "      <td>19.850857</td>\n",
       "      <td>17.702639</td>\n",
       "      <td>17.677216</td>\n",
       "      <td>18.973772</td>\n",
       "      <td>0</td>\n",
       "    </tr>\n",
       "    <tr>\n",
       "      <th>188710</th>\n",
       "      <td>0.197911</td>\n",
       "      <td>-0.965688</td>\n",
       "      <td>-1.776392</td>\n",
       "      <td>-5.784594</td>\n",
       "      <td>-10.119460</td>\n",
       "      <td>-10.126612</td>\n",
       "      <td>-7.072178</td>\n",
       "      <td>-4.079734</td>\n",
       "      <td>0.176447</td>\n",
       "      <td>-1.235123</td>\n",
       "      <td>...</td>\n",
       "      <td>22.241758</td>\n",
       "      <td>22.660305</td>\n",
       "      <td>21.521851</td>\n",
       "      <td>21.572081</td>\n",
       "      <td>20.827059</td>\n",
       "      <td>18.705006</td>\n",
       "      <td>18.679892</td>\n",
       "      <td>19.960657</td>\n",
       "      <td>22.873768</td>\n",
       "      <td>0</td>\n",
       "    </tr>\n",
       "  </tbody>\n",
       "</table>\n",
       "<p>188711 rows × 3541 columns</p>\n",
       "</div>"
      ],
      "text/plain": [
       "               0         1          2         3          4          5  \\\n",
       "0      -1.834222 -1.218946   0.475974  0.371490   0.255400   0.464360   \n",
       "1       0.604194  2.268584   2.165983  2.051984   2.257180   8.470131   \n",
       "2       1.674508  1.571283   1.456590  1.663035   7.913751   4.128914   \n",
       "3      -0.104984 -0.221629  -0.011669  6.345499   2.496205   0.991485   \n",
       "4      -0.116523  0.093217   6.443718  2.598460   1.095319  -0.932184   \n",
       "...          ...       ...        ...       ...        ...        ...   \n",
       "188706  4.761071  6.966083  10.031157  7.984118   8.166227   7.095531   \n",
       "188707  2.315241  5.533541   3.384169  3.575382   2.451162   1.667893   \n",
       "188708  3.294577  1.094263   1.290008  0.139142  -0.662691  -4.627033   \n",
       "188709 -2.275275 -2.072861  -3.262935 -4.092085  -8.191484 -12.624980   \n",
       "188710  0.197911 -0.965688  -1.776392 -5.784594 -10.119460 -10.126612   \n",
       "\n",
       "                6         7         8         9  ...       3531       3532  \\\n",
       "0        6.791270  2.960297  1.462739 -0.557231  ...   1.675195  -1.666762   \n",
       "1        4.708161  3.237577  1.253990  1.436393  ...  -1.884405  -6.743286   \n",
       "2        2.649390  0.653746  0.837258  2.821429  ...  -6.252453  -5.666457   \n",
       "3       -1.038146 -0.851509  1.166453 -0.361605  ...  -6.070925  -5.975234   \n",
       "4       -0.745743  1.270103 -0.256352 -3.099508  ...  -7.084355  -2.843979   \n",
       "...           ...       ...       ...       ...  ...        ...        ...   \n",
       "188706   6.349555  2.661373 -1.327392 -1.333973  ...  14.816234  15.715866   \n",
       "188707  -2.204664 -6.392831 -6.399740 -3.448675  ...  17.247150  19.633286   \n",
       "188708  -8.914463 -8.921536 -5.900527 -2.940829  ...  20.682529  22.690462   \n",
       "188709 -12.632295 -9.508365 -6.447834 -2.094813  ...  20.715225  21.282999   \n",
       "188710  -7.072178 -4.079734  0.176447 -1.235123  ...  22.241758  22.660305   \n",
       "\n",
       "             3533       3534       3535       3536       3537       3538  \\\n",
       "0       -6.515264  -5.927818  -5.832256  -1.641461   0.958460  -1.292934   \n",
       "1       -6.154583  -6.058816  -1.859050   0.746437  -1.509777  -1.963268   \n",
       "2       -5.571131  -1.390676   1.202830  -1.043009  -1.494415   0.047670   \n",
       "3       -1.778777   0.824657  -1.429779  -1.882913  -0.334925  -3.045312   \n",
       "4       -0.213298  -2.491329  -2.949205  -1.385017  -4.123770  -2.952052   \n",
       "...           ...        ...        ...        ...        ...        ...   \n",
       "188706  18.146154  20.218298  20.789631  21.215994  20.056278  20.107447   \n",
       "188707  21.667782  22.228735  22.647352  21.508707  21.558945  20.813799   \n",
       "188708  23.244091  23.657244  22.533464  22.583046  21.847628  19.752930   \n",
       "188709  21.706707  20.554214  20.605064  19.850857  17.702639  17.677216   \n",
       "188710  21.521851  21.572081  20.827059  18.705006  18.679892  19.960657   \n",
       "\n",
       "             3539  result  \n",
       "0       -1.745457       0  \n",
       "1       -0.414060       0  \n",
       "2       -2.652382       0  \n",
       "3       -1.885730       0  \n",
       "4       -5.011090       0  \n",
       "...           ...     ...  \n",
       "188706  19.348513       0  \n",
       "188707  18.691391       0  \n",
       "188708  19.728140       0  \n",
       "188709  18.973772       0  \n",
       "188710  22.873768       0  \n",
       "\n",
       "[188711 rows x 3541 columns]"
      ]
     },
     "execution_count": 15,
     "metadata": {},
     "output_type": "execute_result"
    }
   ],
   "source": [
    "X_big_one03"
   ]
  },
  {
   "cell_type": "code",
   "execution_count": 16,
   "id": "eafd4a3b",
   "metadata": {
    "scrolled": false
   },
   "outputs": [
    {
     "data": {
      "text/plain": [
       "0    165162\n",
       "1     23549\n",
       "Name: result, dtype: int64"
      ]
     },
     "execution_count": 16,
     "metadata": {},
     "output_type": "execute_result"
    }
   ],
   "source": [
    "X_big_one03['result'].value_counts()  "
   ]
  },
  {
   "cell_type": "code",
   "execution_count": 17,
   "id": "475d3a06",
   "metadata": {},
   "outputs": [],
   "source": [
    "X_result_ones = X_big_one03['result'].value_counts()[1]  "
   ]
  },
  {
   "cell_type": "code",
   "execution_count": 18,
   "id": "73c75608",
   "metadata": {},
   "outputs": [],
   "source": [
    "X_big_ones_04 = X_big_one03[X_big_one03['result'] ==1]\n",
    "X_big_ones_05 = X_big_one03[X_big_one03['result'] ==0]\n",
    "X_big_ones_05 = X_big_ones_05.iloc[0:X_result_ones,:]\n",
    "\n",
    "X_big_ones_06  = pd.concat([X_big_ones_04,X_big_ones_05])"
   ]
  },
  {
   "cell_type": "code",
   "execution_count": 19,
   "id": "e34dd905",
   "metadata": {
    "scrolled": true
   },
   "outputs": [
    {
     "data": {
      "text/html": [
       "<div>\n",
       "<style scoped>\n",
       "    .dataframe tbody tr th:only-of-type {\n",
       "        vertical-align: middle;\n",
       "    }\n",
       "\n",
       "    .dataframe tbody tr th {\n",
       "        vertical-align: top;\n",
       "    }\n",
       "\n",
       "    .dataframe thead th {\n",
       "        text-align: right;\n",
       "    }\n",
       "</style>\n",
       "<table border=\"1\" class=\"dataframe\">\n",
       "  <thead>\n",
       "    <tr style=\"text-align: right;\">\n",
       "      <th></th>\n",
       "      <th>0</th>\n",
       "      <th>1</th>\n",
       "      <th>2</th>\n",
       "      <th>3</th>\n",
       "      <th>4</th>\n",
       "      <th>5</th>\n",
       "      <th>6</th>\n",
       "      <th>7</th>\n",
       "      <th>8</th>\n",
       "      <th>9</th>\n",
       "      <th>...</th>\n",
       "      <th>3531</th>\n",
       "      <th>3532</th>\n",
       "      <th>3533</th>\n",
       "      <th>3534</th>\n",
       "      <th>3535</th>\n",
       "      <th>3536</th>\n",
       "      <th>3537</th>\n",
       "      <th>3538</th>\n",
       "      <th>3539</th>\n",
       "      <th>result</th>\n",
       "    </tr>\n",
       "  </thead>\n",
       "  <tbody>\n",
       "    <tr>\n",
       "      <th>63</th>\n",
       "      <td>0.284398</td>\n",
       "      <td>-0.307151</td>\n",
       "      <td>0.230358</td>\n",
       "      <td>0.517603</td>\n",
       "      <td>-0.861727</td>\n",
       "      <td>-0.861727</td>\n",
       "      <td>-1.803087</td>\n",
       "      <td>-3.697173</td>\n",
       "      <td>-4.877425</td>\n",
       "      <td>-3.540754</td>\n",
       "      <td>...</td>\n",
       "      <td>12.634060</td>\n",
       "      <td>13.579242</td>\n",
       "      <td>13.191958</td>\n",
       "      <td>15.529193</td>\n",
       "      <td>15.374823</td>\n",
       "      <td>14.096523</td>\n",
       "      <td>13.562989</td>\n",
       "      <td>14.881920</td>\n",
       "      <td>15.098581</td>\n",
       "      <td>1</td>\n",
       "    </tr>\n",
       "    <tr>\n",
       "      <th>145</th>\n",
       "      <td>0.035762</td>\n",
       "      <td>0.548260</td>\n",
       "      <td>0.640625</td>\n",
       "      <td>1.460028</td>\n",
       "      <td>-0.154940</td>\n",
       "      <td>-0.005958</td>\n",
       "      <td>-0.089389</td>\n",
       "      <td>-0.339677</td>\n",
       "      <td>0.342660</td>\n",
       "      <td>1.141207</td>\n",
       "      <td>...</td>\n",
       "      <td>-4.969207</td>\n",
       "      <td>-3.970124</td>\n",
       "      <td>-3.691691</td>\n",
       "      <td>-1.811453</td>\n",
       "      <td>1.641119</td>\n",
       "      <td>1.634570</td>\n",
       "      <td>4.713710</td>\n",
       "      <td>1.965409</td>\n",
       "      <td>1.293894</td>\n",
       "      <td>1</td>\n",
       "    </tr>\n",
       "    <tr>\n",
       "      <th>146</th>\n",
       "      <td>0.512681</td>\n",
       "      <td>0.605079</td>\n",
       "      <td>1.424776</td>\n",
       "      <td>-0.190770</td>\n",
       "      <td>-0.041734</td>\n",
       "      <td>-0.125196</td>\n",
       "      <td>-0.375573</td>\n",
       "      <td>0.307008</td>\n",
       "      <td>1.105841</td>\n",
       "      <td>1.064114</td>\n",
       "      <td>...</td>\n",
       "      <td>-4.058752</td>\n",
       "      <td>-3.780082</td>\n",
       "      <td>-1.898241</td>\n",
       "      <td>1.557275</td>\n",
       "      <td>1.550720</td>\n",
       "      <td>4.632485</td>\n",
       "      <td>1.881841</td>\n",
       "      <td>1.209754</td>\n",
       "      <td>2.753918</td>\n",
       "      <td>1</td>\n",
       "    </tr>\n",
       "    <tr>\n",
       "      <th>147</th>\n",
       "      <td>0.092874</td>\n",
       "      <td>0.916795</td>\n",
       "      <td>-0.707077</td>\n",
       "      <td>-0.557273</td>\n",
       "      <td>-0.641164</td>\n",
       "      <td>-0.892832</td>\n",
       "      <td>-0.206734</td>\n",
       "      <td>0.596216</td>\n",
       "      <td>0.554274</td>\n",
       "      <td>0.734038</td>\n",
       "      <td>...</td>\n",
       "      <td>-2.963183</td>\n",
       "      <td>-1.096155</td>\n",
       "      <td>2.332161</td>\n",
       "      <td>2.325657</td>\n",
       "      <td>5.383164</td>\n",
       "      <td>2.654172</td>\n",
       "      <td>1.987375</td>\n",
       "      <td>3.519384</td>\n",
       "      <td>3.968254</td>\n",
       "      <td>1</td>\n",
       "    </tr>\n",
       "    <tr>\n",
       "      <th>149</th>\n",
       "      <td>-1.638897</td>\n",
       "      <td>-1.487707</td>\n",
       "      <td>-1.572375</td>\n",
       "      <td>-1.826371</td>\n",
       "      <td>-1.133924</td>\n",
       "      <td>-0.323545</td>\n",
       "      <td>-0.365875</td>\n",
       "      <td>-0.184447</td>\n",
       "      <td>-0.157236</td>\n",
       "      <td>-0.202593</td>\n",
       "      <td>...</td>\n",
       "      <td>4.920685</td>\n",
       "      <td>4.914353</td>\n",
       "      <td>7.890826</td>\n",
       "      <td>5.234161</td>\n",
       "      <td>4.585037</td>\n",
       "      <td>6.076443</td>\n",
       "      <td>6.513416</td>\n",
       "      <td>6.263261</td>\n",
       "      <td>5.098002</td>\n",
       "      <td>1</td>\n",
       "    </tr>\n",
       "    <tr>\n",
       "      <th>...</th>\n",
       "      <td>...</td>\n",
       "      <td>...</td>\n",
       "      <td>...</td>\n",
       "      <td>...</td>\n",
       "      <td>...</td>\n",
       "      <td>...</td>\n",
       "      <td>...</td>\n",
       "      <td>...</td>\n",
       "      <td>...</td>\n",
       "      <td>...</td>\n",
       "      <td>...</td>\n",
       "      <td>...</td>\n",
       "      <td>...</td>\n",
       "      <td>...</td>\n",
       "      <td>...</td>\n",
       "      <td>...</td>\n",
       "      <td>...</td>\n",
       "      <td>...</td>\n",
       "      <td>...</td>\n",
       "      <td>...</td>\n",
       "      <td>...</td>\n",
       "    </tr>\n",
       "    <tr>\n",
       "      <th>27258</th>\n",
       "      <td>-4.804007</td>\n",
       "      <td>-0.963440</td>\n",
       "      <td>-0.884257</td>\n",
       "      <td>-0.976635</td>\n",
       "      <td>1.517751</td>\n",
       "      <td>-0.752278</td>\n",
       "      <td>-3.748180</td>\n",
       "      <td>-4.091329</td>\n",
       "      <td>-5.081167</td>\n",
       "      <td>-5.727856</td>\n",
       "      <td>...</td>\n",
       "      <td>-5.709321</td>\n",
       "      <td>-4.620732</td>\n",
       "      <td>-5.431387</td>\n",
       "      <td>-7.353793</td>\n",
       "      <td>-7.701216</td>\n",
       "      <td>-7.469601</td>\n",
       "      <td>-5.361898</td>\n",
       "      <td>-3.798493</td>\n",
       "      <td>-4.226983</td>\n",
       "      <td>0</td>\n",
       "    </tr>\n",
       "    <tr>\n",
       "      <th>27259</th>\n",
       "      <td>3.664523</td>\n",
       "      <td>3.740077</td>\n",
       "      <td>3.651933</td>\n",
       "      <td>6.031981</td>\n",
       "      <td>3.866006</td>\n",
       "      <td>1.007430</td>\n",
       "      <td>0.680010</td>\n",
       "      <td>-0.264455</td>\n",
       "      <td>-0.881501</td>\n",
       "      <td>-0.352607</td>\n",
       "      <td>...</td>\n",
       "      <td>-7.611677</td>\n",
       "      <td>-8.445506</td>\n",
       "      <td>-10.422871</td>\n",
       "      <td>-10.780227</td>\n",
       "      <td>-10.541989</td>\n",
       "      <td>-8.374031</td>\n",
       "      <td>-6.765931</td>\n",
       "      <td>-7.206671</td>\n",
       "      <td>-5.944017</td>\n",
       "      <td>0</td>\n",
       "    </tr>\n",
       "    <tr>\n",
       "      <th>27260</th>\n",
       "      <td>0.078428</td>\n",
       "      <td>-0.013069</td>\n",
       "      <td>2.457515</td>\n",
       "      <td>0.209147</td>\n",
       "      <td>-2.758167</td>\n",
       "      <td>-3.098041</td>\n",
       "      <td>-4.078433</td>\n",
       "      <td>-4.718951</td>\n",
       "      <td>-4.169938</td>\n",
       "      <td>-3.137255</td>\n",
       "      <td>...</td>\n",
       "      <td>-9.713188</td>\n",
       "      <td>-11.713668</td>\n",
       "      <td>-12.075200</td>\n",
       "      <td>-11.834179</td>\n",
       "      <td>-9.640878</td>\n",
       "      <td>-8.013979</td>\n",
       "      <td>-8.459871</td>\n",
       "      <td>-7.182458</td>\n",
       "      <td>-9.062427</td>\n",
       "      <td>0</td>\n",
       "    </tr>\n",
       "    <tr>\n",
       "      <th>27261</th>\n",
       "      <td>-0.091569</td>\n",
       "      <td>2.380954</td>\n",
       "      <td>0.130822</td>\n",
       "      <td>-2.838821</td>\n",
       "      <td>-3.178962</td>\n",
       "      <td>-4.160124</td>\n",
       "      <td>-4.801145</td>\n",
       "      <td>-4.251700</td>\n",
       "      <td>-3.218207</td>\n",
       "      <td>-1.700680</td>\n",
       "      <td>...</td>\n",
       "      <td>-11.378111</td>\n",
       "      <td>-11.738558</td>\n",
       "      <td>-11.498260</td>\n",
       "      <td>-9.311546</td>\n",
       "      <td>-7.689535</td>\n",
       "      <td>-8.134088</td>\n",
       "      <td>-6.860511</td>\n",
       "      <td>-8.734833</td>\n",
       "      <td>-9.479758</td>\n",
       "      <td>0</td>\n",
       "    </tr>\n",
       "    <tr>\n",
       "      <th>27262</th>\n",
       "      <td>2.470261</td>\n",
       "      <td>0.222187</td>\n",
       "      <td>-2.744739</td>\n",
       "      <td>-3.084569</td>\n",
       "      <td>-4.064833</td>\n",
       "      <td>-4.705267</td>\n",
       "      <td>-4.156326</td>\n",
       "      <td>-3.123778</td>\n",
       "      <td>-1.607639</td>\n",
       "      <td>-2.248074</td>\n",
       "      <td>...</td>\n",
       "      <td>-10.281040</td>\n",
       "      <td>-10.043877</td>\n",
       "      <td>-7.885687</td>\n",
       "      <td>-6.284833</td>\n",
       "      <td>-6.723588</td>\n",
       "      <td>-5.466624</td>\n",
       "      <td>-7.316496</td>\n",
       "      <td>-8.051704</td>\n",
       "      <td>-7.553660</td>\n",
       "      <td>0</td>\n",
       "    </tr>\n",
       "  </tbody>\n",
       "</table>\n",
       "<p>47098 rows × 3541 columns</p>\n",
       "</div>"
      ],
      "text/plain": [
       "              0         1         2         3         4         5         6  \\\n",
       "63     0.284398 -0.307151  0.230358  0.517603 -0.861727 -0.861727 -1.803087   \n",
       "145    0.035762  0.548260  0.640625  1.460028 -0.154940 -0.005958 -0.089389   \n",
       "146    0.512681  0.605079  1.424776 -0.190770 -0.041734 -0.125196 -0.375573   \n",
       "147    0.092874  0.916795 -0.707077 -0.557273 -0.641164 -0.892832 -0.206734   \n",
       "149   -1.638897 -1.487707 -1.572375 -1.826371 -1.133924 -0.323545 -0.365875   \n",
       "...         ...       ...       ...       ...       ...       ...       ...   \n",
       "27258 -4.804007 -0.963440 -0.884257 -0.976635  1.517751 -0.752278 -3.748180   \n",
       "27259  3.664523  3.740077  3.651933  6.031981  3.866006  1.007430  0.680010   \n",
       "27260  0.078428 -0.013069  2.457515  0.209147 -2.758167 -3.098041 -4.078433   \n",
       "27261 -0.091569  2.380954  0.130822 -2.838821 -3.178962 -4.160124 -4.801145   \n",
       "27262  2.470261  0.222187 -2.744739 -3.084569 -4.064833 -4.705267 -4.156326   \n",
       "\n",
       "              7         8         9  ...       3531       3532       3533  \\\n",
       "63    -3.697173 -4.877425 -3.540754  ...  12.634060  13.579242  13.191958   \n",
       "145   -0.339677  0.342660  1.141207  ...  -4.969207  -3.970124  -3.691691   \n",
       "146    0.307008  1.105841  1.064114  ...  -4.058752  -3.780082  -1.898241   \n",
       "147    0.596216  0.554274  0.734038  ...  -2.963183  -1.096155   2.332161   \n",
       "149   -0.184447 -0.157236 -0.202593  ...   4.920685   4.914353   7.890826   \n",
       "...         ...       ...       ...  ...        ...        ...        ...   \n",
       "27258 -4.091329 -5.081167 -5.727856  ...  -5.709321  -4.620732  -5.431387   \n",
       "27259 -0.264455 -0.881501 -0.352607  ...  -7.611677  -8.445506 -10.422871   \n",
       "27260 -4.718951 -4.169938 -3.137255  ...  -9.713188 -11.713668 -12.075200   \n",
       "27261 -4.251700 -3.218207 -1.700680  ... -11.378111 -11.738558 -11.498260   \n",
       "27262 -3.123778 -1.607639 -2.248074  ... -10.281040 -10.043877  -7.885687   \n",
       "\n",
       "            3534       3535       3536       3537       3538       3539  \\\n",
       "63     15.529193  15.374823  14.096523  13.562989  14.881920  15.098581   \n",
       "145    -1.811453   1.641119   1.634570   4.713710   1.965409   1.293894   \n",
       "146     1.557275   1.550720   4.632485   1.881841   1.209754   2.753918   \n",
       "147     2.325657   5.383164   2.654172   1.987375   3.519384   3.968254   \n",
       "149     5.234161   4.585037   6.076443   6.513416   6.263261   5.098002   \n",
       "...          ...        ...        ...        ...        ...        ...   \n",
       "27258  -7.353793  -7.701216  -7.469601  -5.361898  -3.798493  -4.226983   \n",
       "27259 -10.780227 -10.541989  -8.374031  -6.765931  -7.206671  -5.944017   \n",
       "27260 -11.834179  -9.640878  -8.013979  -8.459871  -7.182458  -9.062427   \n",
       "27261  -9.311546  -7.689535  -8.134088  -6.860511  -8.734833  -9.479758   \n",
       "27262  -6.284833  -6.723588  -5.466624  -7.316496  -8.051704  -7.553660   \n",
       "\n",
       "       result  \n",
       "63          1  \n",
       "145         1  \n",
       "146         1  \n",
       "147         1  \n",
       "149         1  \n",
       "...       ...  \n",
       "27258       0  \n",
       "27259       0  \n",
       "27260       0  \n",
       "27261       0  \n",
       "27262       0  \n",
       "\n",
       "[47098 rows x 3541 columns]"
      ]
     },
     "execution_count": 19,
     "metadata": {},
     "output_type": "execute_result"
    }
   ],
   "source": [
    "X_big_ones_06\n",
    "#X_big_one06.to_csv('X_big_one06.csv')"
   ]
  },
  {
   "cell_type": "code",
   "execution_count": 20,
   "id": "152affde",
   "metadata": {
    "scrolled": true
   },
   "outputs": [
    {
     "data": {
      "text/plain": [
       "1    23549\n",
       "0    23549\n",
       "Name: result, dtype: int64"
      ]
     },
     "execution_count": 20,
     "metadata": {},
     "output_type": "execute_result"
    }
   ],
   "source": [
    "X_big_ones_06['result'].value_counts()"
   ]
  },
  {
   "cell_type": "code",
   "execution_count": null,
   "id": "584078cd",
   "metadata": {},
   "outputs": [],
   "source": [
    "X_big_ones_06.to_csv('X_big_ones_06.csv')"
   ]
  }
 ],
 "metadata": {
  "kernelspec": {
   "display_name": "tensorflow",
   "language": "python",
   "name": "tensorflow"
  },
  "language_info": {
   "codemirror_mode": {
    "name": "ipython",
    "version": 3
   },
   "file_extension": ".py",
   "mimetype": "text/x-python",
   "name": "python",
   "nbconvert_exporter": "python",
   "pygments_lexer": "ipython3",
   "version": "3.10.0"
  }
 },
 "nbformat": 4,
 "nbformat_minor": 5
}
