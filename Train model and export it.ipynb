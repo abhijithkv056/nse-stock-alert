{
 "cells": [
  {
   "cell_type": "code",
   "execution_count": 1,
   "id": "2839481b",
   "metadata": {
    "id": "2839481b"
   },
   "outputs": [],
   "source": [
    "import pandas as pd\n",
    "import numpy as np"
   ]
  },
  {
   "cell_type": "code",
   "execution_count": 2,
   "id": "730c9f55",
   "metadata": {
    "colab": {
     "base_uri": "https://localhost:8080/",
     "height": 354
    },
    "id": "730c9f55",
    "outputId": "f8b896f1-83a1-4368-d248-ad2849ea1c1a"
   },
   "outputs": [],
   "source": [
    "df = pd.read_csv(\"INFY.csv\")\n",
    "df.head(5)"
   ]
  },
  {
   "cell_type": "code",
   "execution_count": 3,
   "id": "f6129a7c-8e06-4219-89b4-c8d514fdbe46",
   "metadata": {
    "colab": {
     "base_uri": "https://localhost:8080/"
    },
    "id": "f6129a7c-8e06-4219-89b4-c8d514fdbe46",
    "outputId": "0d482e73-4877-40a2-f33f-a30ca2d3af73"
   },
   "outputs": [],
   "source": [
    "df.columns"
   ]
  },
  {
   "cell_type": "code",
   "execution_count": 4,
   "id": "971b0ab3-ba91-4e75-9fdc-c0b6e1d1e532",
   "metadata": {
    "colab": {
     "base_uri": "https://localhost:8080/"
    },
    "id": "971b0ab3-ba91-4e75-9fdc-c0b6e1d1e532",
    "outputId": "07235476-7c93-40ef-e2ec-def456cc1c47"
   },
   "outputs": [],
   "source": [
    "df.dtypes"
   ]
  },
  {
   "cell_type": "code",
   "execution_count": 5,
   "id": "d9eda3ec-8ecd-4369-a585-986138415993",
   "metadata": {
    "colab": {
     "base_uri": "https://localhost:8080/"
    },
    "id": "d9eda3ec-8ecd-4369-a585-986138415993",
    "outputId": "f2d90bdc-fefb-4e45-bd2b-29eba3d75142"
   },
   "outputs": [],
   "source": [
    "#df.info()"
   ]
  },
  {
   "cell_type": "code",
   "execution_count": 6,
   "id": "ea23ece4-5c28-4ec8-a223-a29261977f1f",
   "metadata": {
    "colab": {
     "base_uri": "https://localhost:8080/"
    },
    "id": "ea23ece4-5c28-4ec8-a223-a29261977f1f",
    "outputId": "06ea08b0-8dde-462d-e417-c611a9419b06"
   },
   "outputs": [],
   "source": [
    "df1 = df[['Date','Close']]\n",
    "df1.shape"
   ]
  },
  {
   "cell_type": "code",
   "execution_count": 7,
   "id": "0ecfac7d-8fa0-4b47-97a0-d78a531d58de",
   "metadata": {
    "colab": {
     "base_uri": "https://localhost:8080/"
    },
    "id": "0ecfac7d-8fa0-4b47-97a0-d78a531d58de",
    "outputId": "f629f426-9932-4f7f-d692-47137b9a19a2"
   },
   "outputs": [],
   "source": [
    "pred_days = 15\n",
    "reward = 15\n",
    "risk =1\n",
    "days_shape = 90\n",
    "eps = 1000\n",
    "\n",
    "\n",
    "df1['Xth'] = df1['Close'].shift(-1* pred_days)\n",
    "print(len(df1.Close))"
   ]
  },
  {
   "cell_type": "code",
   "execution_count": 8,
   "id": "7bc9583c-a755-4b0c-a166-2ed557e8ad38",
   "metadata": {
    "colab": {
     "base_uri": "https://localhost:8080/",
     "height": 1000
    },
    "id": "7bc9583c-a755-4b0c-a166-2ed557e8ad38",
    "outputId": "1239918d-8fb3-4862-e5b6-133fb6d40cf5",
    "scrolled": true
   },
   "outputs": [],
   "source": [
    "\n",
    "\n",
    "c1 = []\n",
    "for i in range(1,days_shape):\n",
    "    df1['temp'] = df1['Xth'] - df1['Xth'].shift(-1*i)\n",
    "    df1['temp'] = df1['temp']/df1['Xth']*100\n",
    "    c1.append(df1['temp'].to_numpy())\n",
    "\n",
    "print(c1)    \n",
    "df2 = pd.DataFrame(c1)\n",
    "df3 = df2.transpose()\n",
    "df3.head(10)"
   ]
  },
  {
   "cell_type": "code",
   "execution_count": 9,
   "id": "c9f40cf7-dd88-407e-b8e4-46d3d9347d38",
   "metadata": {
    "colab": {
     "base_uri": "https://localhost:8080/"
    },
    "id": "c9f40cf7-dd88-407e-b8e4-46d3d9347d38",
    "outputId": "c1375cf0-f6b7-47d6-f6f2-35987bc4632a"
   },
   "outputs": [],
   "source": [
    "df3.shape\n"
   ]
  },
  {
   "cell_type": "code",
   "execution_count": 10,
   "id": "fa913eaa-d634-4a7e-bf4b-d8a235d30bf1",
   "metadata": {
    "colab": {
     "base_uri": "https://localhost:8080/"
    },
    "id": "fa913eaa-d634-4a7e-bf4b-d8a235d30bf1",
    "outputId": "1a074627-6ace-4fe6-e627-094a387348b1"
   },
   "outputs": [],
   "source": [
    "c2 =df3.to_numpy()\n",
    "c2"
   ]
  },
  {
   "cell_type": "code",
   "execution_count": 11,
   "id": "880304ee-74c8-4bb5-82a1-ca7a0472b028",
   "metadata": {
    "colab": {
     "base_uri": "https://localhost:8080/"
    },
    "id": "880304ee-74c8-4bb5-82a1-ca7a0472b028",
    "outputId": "73b71715-819e-4c42-d28a-57e573368bdd"
   },
   "outputs": [],
   "source": [
    "len(c2)\n"
   ]
  },
  {
   "cell_type": "code",
   "execution_count": 12,
   "id": "829fed7d-8de6-4b65-b88c-ebb9fe12337d",
   "metadata": {
    "id": "829fed7d-8de6-4b65-b88c-ebb9fe12337d"
   },
   "outputs": [],
   "source": [
    "c3 =[]\n",
    "\n",
    "for i in range(int(len(c2)-days_shape)):\n",
    "      \n",
    "    c6 = np.concatenate((c2[i:i+days_shape]))\n",
    "    \n",
    "    c3.append(c6)\n",
    "    \n",
    "                "
   ]
  },
  {
   "cell_type": "code",
   "execution_count": 13,
   "id": "ff0b48d2-7d70-44cc-b835-d6ec671befd8",
   "metadata": {
    "colab": {
     "base_uri": "https://localhost:8080/"
    },
    "id": "ff0b48d2-7d70-44cc-b835-d6ec671befd8",
    "outputId": "6155793c-8028-409e-a3fb-7a75989ac987"
   },
   "outputs": [],
   "source": [
    "c3[1:3]"
   ]
  },
  {
   "cell_type": "code",
   "execution_count": 14,
   "id": "80e6c0b3-2c32-4bbe-96a1-018ad6741f2c",
   "metadata": {
    "colab": {
     "base_uri": "https://localhost:8080/",
     "height": 456
    },
    "id": "80e6c0b3-2c32-4bbe-96a1-018ad6741f2c",
    "outputId": "2f5f8ca0-2b72-4f93-8a78-750aca710a5a",
    "scrolled": true
   },
   "outputs": [],
   "source": [
    "df4 = pd.DataFrame(c3)\n",
    "df4.head(10)"
   ]
  },
  {
   "cell_type": "code",
   "execution_count": 15,
   "id": "079e25aa",
   "metadata": {
    "colab": {
     "base_uri": "https://localhost:8080/"
    },
    "id": "079e25aa",
    "outputId": "de5df3bf-5eeb-43ea-ba2a-519d1f20b14c"
   },
   "outputs": [],
   "source": [
    "df4.shape"
   ]
  },
  {
   "cell_type": "code",
   "execution_count": 16,
   "id": "8e10c159",
   "metadata": {
    "colab": {
     "base_uri": "https://localhost:8080/"
    },
    "id": "8e10c159",
    "outputId": "867af6c5-9b49-4543-bb30-35684f534f91"
   },
   "outputs": [],
   "source": [
    "df1.shape"
   ]
  },
  {
   "cell_type": "code",
   "execution_count": 17,
   "id": "0eZjVvVrXTT6",
   "metadata": {
    "id": "0eZjVvVrXTT6"
   },
   "outputs": [],
   "source": [
    "aes = df1.shape[0]"
   ]
  },
  {
   "cell_type": "code",
   "execution_count": 18,
   "id": "03fda546",
   "metadata": {
    "colab": {
     "base_uri": "https://localhost:8080/"
    },
    "id": "03fda546",
    "outputId": "45128f1e-6e0c-41fa-ca52-f892599cf426"
   },
   "outputs": [],
   "source": [
    "df4['Close'] = df1.iloc[:aes]['Close']\n",
    "\n",
    "df4['Xth'] = df1.iloc[:aes]['Xth']\n",
    "df4.shape"
   ]
  },
  {
   "cell_type": "code",
   "execution_count": 19,
   "id": "a77df552-f1e7-468e-b7b3-1e4de33ddf96",
   "metadata": {
    "colab": {
     "base_uri": "https://localhost:8080/",
     "height": 299
    },
    "id": "a77df552-f1e7-468e-b7b3-1e4de33ddf96",
    "outputId": "a9d23c5c-3236-4446-fa75-e10ec0689964"
   },
   "outputs": [],
   "source": [
    "df3.head(5)"
   ]
  },
  {
   "cell_type": "code",
   "execution_count": 20,
   "id": "db71c2a8-3753-4466-9b4d-2fee0f741c70",
   "metadata": {
    "colab": {
     "base_uri": "https://localhost:8080/"
    },
    "id": "db71c2a8-3753-4466-9b4d-2fee0f741c70",
    "outputId": "b9750366-f531-4514-a4b0-c6cfa6b40b1e"
   },
   "outputs": [],
   "source": [
    "df4.shape"
   ]
  },
  {
   "cell_type": "code",
   "execution_count": 21,
   "id": "92d00432-3400-4f75-afc9-50fa4c44d3a7",
   "metadata": {
    "id": "92d00432-3400-4f75-afc9-50fa4c44d3a7"
   },
   "outputs": [],
   "source": [
    "df5 = df4.dropna()\n"
   ]
  },
  {
   "cell_type": "code",
   "execution_count": 22,
   "id": "f397ea72-2124-4b30-b27e-e69b6ecbd722",
   "metadata": {
    "colab": {
     "base_uri": "https://localhost:8080/"
    },
    "id": "f397ea72-2124-4b30-b27e-e69b6ecbd722",
    "outputId": "3e945a34-cb52-4377-81e7-127cbf1201af"
   },
   "outputs": [],
   "source": [
    "df5.shape\n",
    "        "
   ]
  },
  {
   "cell_type": "code",
   "execution_count": 23,
   "id": "9acc2505",
   "metadata": {
    "colab": {
     "base_uri": "https://localhost:8080/"
    },
    "id": "9acc2505",
    "outputId": "d3118e62-6c83-4b84-fc48-5911c52c3e7a"
   },
   "outputs": [],
   "source": [
    "len(df5[df5[7]>6])"
   ]
  },
  {
   "cell_type": "code",
   "execution_count": 24,
   "id": "49f637b2",
   "metadata": {
    "colab": {
     "base_uri": "https://localhost:8080/"
    },
    "id": "49f637b2",
    "outputId": "b3c41e15-64c0-4f05-8b97-5a1cdd281255"
   },
   "outputs": [],
   "source": [
    "len(df5[df5[7]<2])"
   ]
  },
  {
   "cell_type": "code",
   "execution_count": 25,
   "id": "8ea8a02f",
   "metadata": {
    "colab": {
     "base_uri": "https://localhost:8080/"
    },
    "id": "8ea8a02f",
    "outputId": "cb7e946a-c9e5-43a3-bde8-2f89e78a9f60"
   },
   "outputs": [],
   "source": [
    "df6 = df5\n",
    "df6 = df6.assign(result = lambda x: ((x['Close'] - x['Xth'])/x['Xth']*100)>reward)\n",
    "    \n",
    "df6['result'].value_counts()  "
   ]
  },
  {
   "cell_type": "code",
   "execution_count": null,
   "id": "d220015a",
   "metadata": {
    "id": "d220015a"
   },
   "outputs": [],
   "source": []
  },
  {
   "cell_type": "code",
   "execution_count": 26,
   "id": "f7255de8",
   "metadata": {
    "colab": {
     "base_uri": "https://localhost:8080/"
    },
    "id": "f7255de8",
    "outputId": "50d28c0b-54d2-4f96-d4db-94ff3ccfb706"
   },
   "outputs": [],
   "source": [
    "for i in range(len(df6.result)):\n",
    "    if df6['result'][i] == False:\n",
    "       df6['result'][i] = 0\n",
    "    else:\n",
    "       df6['result'][i] = 1\n",
    "        "
   ]
  },
  {
   "cell_type": "code",
   "execution_count": 27,
   "id": "ac826d73",
   "metadata": {
    "colab": {
     "base_uri": "https://localhost:8080/"
    },
    "id": "ac826d73",
    "outputId": "87a14330-4c52-4047-b0f5-8f29b9e534a9"
   },
   "outputs": [],
   "source": [
    "df6.result.describe()"
   ]
  },
  {
   "cell_type": "code",
   "execution_count": 28,
   "id": "0032577c",
   "metadata": {
    "colab": {
     "base_uri": "https://localhost:8080/",
     "height": 299
    },
    "id": "0032577c",
    "outputId": "94251d5f-62d3-42a3-b92e-0f2e2d400642"
   },
   "outputs": [],
   "source": [
    "df6.head()"
   ]
  },
  {
   "cell_type": "code",
   "execution_count": 29,
   "id": "e326d2d9",
   "metadata": {
    "colab": {
     "base_uri": "https://localhost:8080/",
     "height": 299
    },
    "id": "e326d2d9",
    "outputId": "0bf59cc3-5a3a-4ab8-a839-fba1cd654cc7"
   },
   "outputs": [],
   "source": [
    "df7 = df6.drop(['Close','Xth'],axis=1)\n",
    "df7.head()"
   ]
  },
  {
   "cell_type": "code",
   "execution_count": 30,
   "id": "0069ff48",
   "metadata": {
    "id": "0069ff48"
   },
   "outputs": [],
   "source": [
    "import pandas as pd\n",
    "from matplotlib import pyplot as plt\n",
    "import numpy as np\n",
    "%matplotlib inline"
   ]
  },
  {
   "cell_type": "code",
   "execution_count": 31,
   "id": "3bee952a",
   "metadata": {
    "id": "3bee952a"
   },
   "outputs": [],
   "source": [
    "X = df7.drop('result',axis='columns')\n",
    "y = df7[\"result\"]\n",
    "\n",
    "from sklearn.model_selection import train_test_split\n",
    "X_train, X_test, y_train, y_test = train_test_split(X,y,test_size=0.2,random_state=5)"
   ]
  },
  {
   "cell_type": "code",
   "execution_count": 32,
   "id": "98a31311",
   "metadata": {
    "colab": {
     "base_uri": "https://localhost:8080/"
    },
    "id": "98a31311",
    "outputId": "3f34572d-8d8a-491d-e6ae-0947ffc38a0e"
   },
   "outputs": [],
   "source": [
    "X_train.shape"
   ]
  },
  {
   "cell_type": "code",
   "execution_count": 33,
   "id": "338f935c",
   "metadata": {
    "colab": {
     "base_uri": "https://localhost:8080/"
    },
    "id": "338f935c",
    "outputId": "188b129a-7c02-4f86-c67a-ebabbd806989"
   },
   "outputs": [],
   "source": [
    "X_test.shape"
   ]
  },
  {
   "cell_type": "code",
   "execution_count": 34,
   "id": "ed063454",
   "metadata": {},
   "outputs": [],
   "source": [
    "X_test.iloc[0].shape"
   ]
  },
  {
   "cell_type": "code",
   "execution_count": 35,
   "id": "LTzxOZpGcERP",
   "metadata": {
    "id": "LTzxOZpGcERP"
   },
   "outputs": [],
   "source": [
    "aess = X_test.shape[1]"
   ]
  },
  {
   "cell_type": "code",
   "execution_count": 36,
   "id": "222e8eff",
   "metadata": {
    "id": "222e8eff"
   },
   "outputs": [],
   "source": [
    "import numpy as np\n",
    "\n",
    "X_train1 = np.asarray(X_train).astype(np.float32)\n",
    "X_test1 = np.asarray(X_test).astype(np.float32)\n",
    "y_train1 = np.asarray(y_train).astype(np.float32)\n",
    "y_test1 = np.asarray(y_test).astype(np.float32)"
   ]
  },
  {
   "cell_type": "code",
   "execution_count": null,
   "id": "71dfd58f",
   "metadata": {
    "colab": {
     "base_uri": "https://localhost:8080/"
    },
    "id": "71dfd58f",
    "outputId": "f00ac31b-a311-468b-80bf-069d97e12fb6"
   },
   "outputs": [],
   "source": [
    "import tensorflow as tf\n",
    "from tensorflow import keras\n",
    "\n",
    "\n",
    "model = keras.Sequential([\n",
    "    keras.layers.Dense(aess, input_shape=(aess,), activation='sigmoid'),\n",
    "    keras.layers.Dense(800, activation='relu'),\n",
    "    keras.layers.Dense(240, activation='relu'),\n",
    "    keras.layers.Dense(65, activation='relu'),\n",
    "    keras.layers.Dense(15, activation='relu'),\n",
    "    keras.layers.Dense(1, activation='sigmoid')\n",
    "])\n",
    "\n",
    "# opt = keras.optimizers.Adam(learning_rate=0.01)\n",
    "\n",
    "model.compile(optimizer='adam',\n",
    "              loss='binary_crossentropy',\n",
    "              metrics=['accuracy'])\n",
    "\n",
    "model.fit(X_train1, y_train1, epochs=eps)"
   ]
  },
  {
   "cell_type": "code",
   "execution_count": null,
   "id": "JnEWToraP2KN",
   "metadata": {
    "colab": {
     "base_uri": "https://localhost:8080/"
    },
    "id": "JnEWToraP2KN",
    "outputId": "c3755ada-40d6-4d9f-d434-0112bb3f7ef9"
   },
   "outputs": [],
   "source": [
    "model.evaluate(X_test1, y_test1)"
   ]
  },
  {
   "cell_type": "code",
   "execution_count": null,
   "id": "kQTxKoplQpru",
   "metadata": {
    "colab": {
     "base_uri": "https://localhost:8080/"
    },
    "id": "kQTxKoplQpru",
    "outputId": "81c4c0fb-83c0-4245-d07e-1a642154489d"
   },
   "outputs": [],
   "source": [
    "yp = model.predict(X_test)\n",
    "yp[:5]"
   ]
  },
  {
   "cell_type": "code",
   "execution_count": null,
   "id": "dTNySgZmQiJn",
   "metadata": {
    "id": "dTNySgZmQiJn"
   },
   "outputs": [],
   "source": [
    "y_pred = []\n",
    "for element in yp:\n",
    "    if element > 0.5:\n",
    "        y_pred.append(1)\n",
    "    else:\n",
    "        y_pred.append(0)"
   ]
  },
  {
   "cell_type": "code",
   "execution_count": null,
   "id": "_Pv0vQW_QboG",
   "metadata": {
    "colab": {
     "base_uri": "https://localhost:8080/"
    },
    "id": "_Pv0vQW_QboG",
    "outputId": "b0e60373-32fa-43b8-d28c-a5b6b5692042"
   },
   "outputs": [],
   "source": [
    "from sklearn.metrics import confusion_matrix , classification_report\n",
    "\n",
    "print(classification_report(y_test1,y_pred))"
   ]
  },
  {
   "cell_type": "code",
   "execution_count": null,
   "id": "KdNpNDi1QweS",
   "metadata": {
    "colab": {
     "base_uri": "https://localhost:8080/",
     "height": 459
    },
    "id": "KdNpNDi1QweS",
    "outputId": "1532d126-8738-43bd-e0c3-cc0c6b096b70",
    "scrolled": true
   },
   "outputs": [],
   "source": [
    "import seaborn as sn\n",
    "cm = tf.math.confusion_matrix(labels=y_test1,predictions=y_pred)\n",
    "\n",
    "plt.figure(figsize = (10,7))\n",
    "sn.heatmap(cm, annot=True, fmt='d')\n",
    "plt.xlabel('Predicted')\n",
    "plt.ylabel('Truth')"
   ]
  },
  {
   "cell_type": "code",
   "execution_count": null,
   "id": "7c45bb3b",
   "metadata": {},
   "outputs": [],
   "source": [
    "#import joblib"
   ]
  },
  {
   "cell_type": "code",
   "execution_count": null,
   "id": "ee1ccdb9",
   "metadata": {},
   "outputs": [],
   "source": [
    "#joblib.dump(model, 'model33.pkl')"
   ]
  }
 ],
 "metadata": {
  "colab": {
   "provenance": []
  },
  "kernelspec": {
   "display_name": "tensorflow",
   "language": "python",
   "name": "tensorflow"
  },
  "language_info": {
   "codemirror_mode": {
    "name": "ipython",
    "version": 3
   },
   "file_extension": ".py",
   "mimetype": "text/x-python",
   "name": "python",
   "nbconvert_exporter": "python",
   "pygments_lexer": "ipython3",
   "version": "3.10.0"
  }
 },
 "nbformat": 4,
 "nbformat_minor": 5
}
