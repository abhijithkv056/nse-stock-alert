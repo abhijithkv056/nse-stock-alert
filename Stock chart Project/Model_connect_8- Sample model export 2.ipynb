{
 "cells": [
  {
   "cell_type": "code",
   "execution_count": 1,
   "id": "2839481b",
   "metadata": {
    "id": "2839481b"
   },
   "outputs": [],
   "source": [
    "import pandas as pd\n",
    "import numpy as np"
   ]
  },
  {
   "cell_type": "code",
   "execution_count": 2,
   "id": "730c9f55",
   "metadata": {
    "colab": {
     "base_uri": "https://localhost:8080/",
     "height": 354
    },
    "id": "730c9f55",
    "outputId": "f8b896f1-83a1-4368-d248-ad2849ea1c1a"
   },
   "outputs": [
    {
     "data": {
      "text/html": [
       "<div>\n",
       "<style scoped>\n",
       "    .dataframe tbody tr th:only-of-type {\n",
       "        vertical-align: middle;\n",
       "    }\n",
       "\n",
       "    .dataframe tbody tr th {\n",
       "        vertical-align: top;\n",
       "    }\n",
       "\n",
       "    .dataframe thead th {\n",
       "        text-align: right;\n",
       "    }\n",
       "</style>\n",
       "<table border=\"1\" class=\"dataframe\">\n",
       "  <thead>\n",
       "    <tr style=\"text-align: right;\">\n",
       "      <th></th>\n",
       "      <th>Date</th>\n",
       "      <th>Symbol</th>\n",
       "      <th>Series</th>\n",
       "      <th>Prev Close</th>\n",
       "      <th>Open</th>\n",
       "      <th>High</th>\n",
       "      <th>Low</th>\n",
       "      <th>Last</th>\n",
       "      <th>Close</th>\n",
       "      <th>VWAP</th>\n",
       "      <th>Volume</th>\n",
       "      <th>Turnover</th>\n",
       "      <th>Trades</th>\n",
       "      <th>Deliverable Volume</th>\n",
       "      <th>%Deliverble</th>\n",
       "    </tr>\n",
       "  </thead>\n",
       "  <tbody>\n",
       "    <tr>\n",
       "      <th>0</th>\n",
       "      <td>1996-01-01</td>\n",
       "      <td>INFOSYSTCH</td>\n",
       "      <td>EQ</td>\n",
       "      <td>408.00</td>\n",
       "      <td>407.0</td>\n",
       "      <td>407.9</td>\n",
       "      <td>405.00</td>\n",
       "      <td>NaN</td>\n",
       "      <td>407.90</td>\n",
       "      <td>406.48</td>\n",
       "      <td>400</td>\n",
       "      <td>1.625900e+10</td>\n",
       "      <td>NaN</td>\n",
       "      <td>NaN</td>\n",
       "      <td>NaN</td>\n",
       "    </tr>\n",
       "    <tr>\n",
       "      <th>1</th>\n",
       "      <td>1996-01-02</td>\n",
       "      <td>INFOSYSTCH</td>\n",
       "      <td>EQ</td>\n",
       "      <td>407.90</td>\n",
       "      <td>407.0</td>\n",
       "      <td>409.0</td>\n",
       "      <td>406.25</td>\n",
       "      <td>NaN</td>\n",
       "      <td>406.25</td>\n",
       "      <td>407.58</td>\n",
       "      <td>400</td>\n",
       "      <td>1.630300e+10</td>\n",
       "      <td>NaN</td>\n",
       "      <td>NaN</td>\n",
       "      <td>NaN</td>\n",
       "    </tr>\n",
       "    <tr>\n",
       "      <th>2</th>\n",
       "      <td>1996-01-03</td>\n",
       "      <td>INFOSYSTCH</td>\n",
       "      <td>EQ</td>\n",
       "      <td>406.25</td>\n",
       "      <td>409.0</td>\n",
       "      <td>409.0</td>\n",
       "      <td>409.00</td>\n",
       "      <td>NaN</td>\n",
       "      <td>409.00</td>\n",
       "      <td>409.00</td>\n",
       "      <td>200</td>\n",
       "      <td>8.180000e+09</td>\n",
       "      <td>NaN</td>\n",
       "      <td>NaN</td>\n",
       "      <td>NaN</td>\n",
       "    </tr>\n",
       "    <tr>\n",
       "      <th>3</th>\n",
       "      <td>1996-01-04</td>\n",
       "      <td>INFOSYSTCH</td>\n",
       "      <td>EQ</td>\n",
       "      <td>409.00</td>\n",
       "      <td>405.0</td>\n",
       "      <td>407.0</td>\n",
       "      <td>405.00</td>\n",
       "      <td>NaN</td>\n",
       "      <td>406.30</td>\n",
       "      <td>405.65</td>\n",
       "      <td>600</td>\n",
       "      <td>2.433900e+10</td>\n",
       "      <td>NaN</td>\n",
       "      <td>NaN</td>\n",
       "      <td>NaN</td>\n",
       "    </tr>\n",
       "    <tr>\n",
       "      <th>4</th>\n",
       "      <td>1996-01-05</td>\n",
       "      <td>INFOSYSTCH</td>\n",
       "      <td>EQ</td>\n",
       "      <td>406.30</td>\n",
       "      <td>401.5</td>\n",
       "      <td>401.5</td>\n",
       "      <td>401.50</td>\n",
       "      <td>NaN</td>\n",
       "      <td>401.50</td>\n",
       "      <td>401.50</td>\n",
       "      <td>100</td>\n",
       "      <td>4.015000e+09</td>\n",
       "      <td>NaN</td>\n",
       "      <td>NaN</td>\n",
       "      <td>NaN</td>\n",
       "    </tr>\n",
       "  </tbody>\n",
       "</table>\n",
       "</div>"
      ],
      "text/plain": [
       "         Date      Symbol Series  Prev Close   Open   High     Low  Last  \\\n",
       "0  1996-01-01  INFOSYSTCH     EQ      408.00  407.0  407.9  405.00   NaN   \n",
       "1  1996-01-02  INFOSYSTCH     EQ      407.90  407.0  409.0  406.25   NaN   \n",
       "2  1996-01-03  INFOSYSTCH     EQ      406.25  409.0  409.0  409.00   NaN   \n",
       "3  1996-01-04  INFOSYSTCH     EQ      409.00  405.0  407.0  405.00   NaN   \n",
       "4  1996-01-05  INFOSYSTCH     EQ      406.30  401.5  401.5  401.50   NaN   \n",
       "\n",
       "    Close    VWAP  Volume      Turnover  Trades  Deliverable Volume  \\\n",
       "0  407.90  406.48     400  1.625900e+10     NaN                 NaN   \n",
       "1  406.25  407.58     400  1.630300e+10     NaN                 NaN   \n",
       "2  409.00  409.00     200  8.180000e+09     NaN                 NaN   \n",
       "3  406.30  405.65     600  2.433900e+10     NaN                 NaN   \n",
       "4  401.50  401.50     100  4.015000e+09     NaN                 NaN   \n",
       "\n",
       "   %Deliverble  \n",
       "0          NaN  \n",
       "1          NaN  \n",
       "2          NaN  \n",
       "3          NaN  \n",
       "4          NaN  "
      ]
     },
     "execution_count": 2,
     "metadata": {},
     "output_type": "execute_result"
    }
   ],
   "source": [
    "df = pd.read_csv(\"INFY.csv\")\n",
    "df.head(5)"
   ]
  },
  {
   "cell_type": "code",
   "execution_count": 3,
   "id": "f6129a7c-8e06-4219-89b4-c8d514fdbe46",
   "metadata": {
    "colab": {
     "base_uri": "https://localhost:8080/"
    },
    "id": "f6129a7c-8e06-4219-89b4-c8d514fdbe46",
    "outputId": "0d482e73-4877-40a2-f33f-a30ca2d3af73"
   },
   "outputs": [
    {
     "data": {
      "text/plain": [
       "Index(['Date', 'Symbol', 'Series', 'Prev Close', 'Open', 'High', 'Low', 'Last',\n",
       "       'Close', 'VWAP', 'Volume', 'Turnover', 'Trades', 'Deliverable Volume',\n",
       "       '%Deliverble'],\n",
       "      dtype='object')"
      ]
     },
     "execution_count": 3,
     "metadata": {},
     "output_type": "execute_result"
    }
   ],
   "source": [
    "df.columns"
   ]
  },
  {
   "cell_type": "code",
   "execution_count": 4,
   "id": "971b0ab3-ba91-4e75-9fdc-c0b6e1d1e532",
   "metadata": {
    "colab": {
     "base_uri": "https://localhost:8080/"
    },
    "id": "971b0ab3-ba91-4e75-9fdc-c0b6e1d1e532",
    "outputId": "07235476-7c93-40ef-e2ec-def456cc1c47"
   },
   "outputs": [
    {
     "data": {
      "text/plain": [
       "Date                   object\n",
       "Symbol                 object\n",
       "Series                 object\n",
       "Prev Close            float64\n",
       "Open                  float64\n",
       "High                  float64\n",
       "Low                   float64\n",
       "Last                  float64\n",
       "Close                 float64\n",
       "VWAP                  float64\n",
       "Volume                  int64\n",
       "Turnover              float64\n",
       "Trades                float64\n",
       "Deliverable Volume    float64\n",
       "%Deliverble           float64\n",
       "dtype: object"
      ]
     },
     "execution_count": 4,
     "metadata": {},
     "output_type": "execute_result"
    }
   ],
   "source": [
    "df.dtypes"
   ]
  },
  {
   "cell_type": "code",
   "execution_count": 5,
   "id": "d9eda3ec-8ecd-4369-a585-986138415993",
   "metadata": {
    "colab": {
     "base_uri": "https://localhost:8080/"
    },
    "id": "d9eda3ec-8ecd-4369-a585-986138415993",
    "outputId": "f2d90bdc-fefb-4e45-bd2b-29eba3d75142"
   },
   "outputs": [
    {
     "name": "stdout",
     "output_type": "stream",
     "text": [
      "<class 'pandas.core.frame.DataFrame'>\n",
      "RangeIndex: 6348 entries, 0 to 6347\n",
      "Data columns (total 15 columns):\n",
      " #   Column              Non-Null Count  Dtype  \n",
      "---  ------              --------------  -----  \n",
      " 0   Date                6348 non-null   object \n",
      " 1   Symbol              6348 non-null   object \n",
      " 2   Series              6348 non-null   object \n",
      " 3   Prev Close          6348 non-null   float64\n",
      " 4   Open                6348 non-null   float64\n",
      " 5   High                6348 non-null   float64\n",
      " 6   Low                 6348 non-null   float64\n",
      " 7   Last                5802 non-null   float64\n",
      " 8   Close               6348 non-null   float64\n",
      " 9   VWAP                6348 non-null   float64\n",
      " 10  Volume              6348 non-null   int64  \n",
      " 11  Turnover            6348 non-null   float64\n",
      " 12  Trades              2501 non-null   float64\n",
      " 13  Deliverable Volume  4843 non-null   float64\n",
      " 14  %Deliverble         4843 non-null   float64\n",
      "dtypes: float64(11), int64(1), object(3)\n",
      "memory usage: 744.0+ KB\n"
     ]
    }
   ],
   "source": [
    "df.info()"
   ]
  },
  {
   "cell_type": "code",
   "execution_count": 45,
   "id": "ea23ece4-5c28-4ec8-a223-a29261977f1f",
   "metadata": {
    "colab": {
     "base_uri": "https://localhost:8080/"
    },
    "id": "ea23ece4-5c28-4ec8-a223-a29261977f1f",
    "outputId": "06ea08b0-8dde-462d-e417-c611a9419b06"
   },
   "outputs": [
    {
     "data": {
      "text/plain": [
       "(6348, 2)"
      ]
     },
     "execution_count": 45,
     "metadata": {},
     "output_type": "execute_result"
    }
   ],
   "source": [
    "df1 = df[['Date','Close']]\n",
    "df1.shape"
   ]
  },
  {
   "cell_type": "code",
   "execution_count": 7,
   "id": "0ecfac7d-8fa0-4b47-97a0-d78a531d58de",
   "metadata": {
    "colab": {
     "base_uri": "https://localhost:8080/"
    },
    "id": "0ecfac7d-8fa0-4b47-97a0-d78a531d58de",
    "outputId": "f629f426-9932-4f7f-d692-47137b9a19a2"
   },
   "outputs": [
    {
     "name": "stdout",
     "output_type": "stream",
     "text": [
      "6348\n"
     ]
    },
    {
     "name": "stderr",
     "output_type": "stream",
     "text": [
      "C:\\Users\\abhij\\AppData\\Local\\Temp\\ipykernel_13172\\3757992879.py:8: SettingWithCopyWarning: \n",
      "A value is trying to be set on a copy of a slice from a DataFrame.\n",
      "Try using .loc[row_indexer,col_indexer] = value instead\n",
      "\n",
      "See the caveats in the documentation: https://pandas.pydata.org/pandas-docs/stable/user_guide/indexing.html#returning-a-view-versus-a-copy\n",
      "  df1['Xth'] = df1['Close'].shift(-1* pred_days)\n"
     ]
    }
   ],
   "source": [
    "pred_days = 15\n",
    "reward = 15\n",
    "risk =1\n",
    "days_shape = 60\n",
    "eps = 1\n",
    "\n",
    "\n",
    "df1['Xth'] = df1['Close'].shift(-1* pred_days)\n",
    "print(len(df1.Close))"
   ]
  },
  {
   "cell_type": "code",
   "execution_count": 8,
   "id": "7bc9583c-a755-4b0c-a166-2ed557e8ad38",
   "metadata": {
    "colab": {
     "base_uri": "https://localhost:8080/",
     "height": 1000
    },
    "id": "7bc9583c-a755-4b0c-a166-2ed557e8ad38",
    "outputId": "1239918d-8fb3-4862-e5b6-133fb6d40cf5",
    "scrolled": true
   },
   "outputs": [
    {
     "name": "stdout",
     "output_type": "stream",
     "text": [
      "[array([0.31446541, 0.44164038, 0.38022814, ...,        nan,        nan,\n",
      "              nan]), array([0.75471698, 0.82018927, 0.95057034, ...,        nan,        nan,\n",
      "              nan]), array([ 1.13207547,  1.38801262, -0.25348542, ...,         nan,\n",
      "               nan,         nan]), array([ 1.69811321,  0.18927445, -1.39416984, ...,         nan,\n",
      "               nan,         nan]), array([ 0.50314465, -0.94637224, -5.1964512 , ...,         nan,\n",
      "               nan,         nan]), array([-0.62893082, -4.7318612 , -8.9860583 , ...,         nan,\n",
      "               nan,         nan]), array([-4.40251572, -8.50473186, -8.99873257, ...,         nan,\n",
      "               nan,         nan]), array([ -8.16352201,  -8.51735016, -11.53358682, ...,          nan,\n",
      "                nan,          nan]), array([ -8.17610063, -11.04100946,  -8.56780735, ...,          nan,\n",
      "                nan,          nan]), array([-10.6918239 ,  -8.08832808, -15.33586819, ...,          nan,\n",
      "                nan,          nan]), array([ -7.74842767, -14.82649842, -19.7338403 , ...,          nan,\n",
      "                nan,          nan]), array([-14.46540881, -19.20504732, -18.37769328, ...,          nan,\n",
      "                nan,          nan]), array([-18.83018868, -17.85488959, -24.20785805, ...,          nan,\n",
      "                nan,          nan]), array([-17.48427673, -23.65930599, -28.8973384 , ...,          nan,\n",
      "                nan,          nan]), array([-23.27044025, -28.32807571, -30.11406844, ...,          nan,\n",
      "                nan,          nan]), array([-27.9245283 , -29.53943218, -30.48162231, ...,          nan,\n",
      "                nan,          nan]), array([-29.13207547, -29.90536278, -27.78200253, ...,          nan,\n",
      "                nan,          nan]), array([-29.49685535, -27.21766562, -25.75411914, ...,          nan,\n",
      "                nan,          nan]), array([-26.81761006, -25.19873817, -24.77820025, ...,          nan,\n",
      "                nan,          nan]), array([-24.80503145, -24.22712934, -25.98225602, ...,          nan,\n",
      "                nan,          nan]), array([-23.83647799, -25.42586751, -26.74271229, ...,          nan,\n",
      "                nan,          nan]), array([-25.03144654, -26.1829653 , -20.40557668, ...,          nan,\n",
      "                nan,          nan]), array([-25.78616352, -19.87381703, -20.6590621 , ...,          nan,\n",
      "                nan,          nan]), array([-19.49685535, -20.12618297, -18.88466413, ...,          nan,\n",
      "                nan,          nan]), array([-19.74842767, -18.35962145, -19.77186312, ...,          nan,\n",
      "                nan,          nan]), array([-17.98742138, -19.24290221, -21.6730038 , ...,          nan,\n",
      "                nan,          nan]), array([-18.86792453, -21.13564669, -18.25095057, ...,          nan,\n",
      "                nan,          nan]), array([-20.75471698, -17.72870662, -21.6730038 , ...,          nan,\n",
      "                nan,          nan]), array([-17.35849057, -21.13564669, -22.67427123, ...,          nan,\n",
      "                nan,          nan]), array([-20.75471698, -22.13249211, -21.41951838, ...,          nan,\n",
      "                nan,          nan]), array([-21.74842767, -20.88328076, -21.6730038 , ...,          nan,\n",
      "                nan,          nan]), array([-20.50314465, -21.13564669, -18.75792142, ...,          nan,\n",
      "                nan,          nan]), array([-20.75471698, -18.23343849, -21.6730038 , ...,          nan,\n",
      "                nan,          nan]), array([-17.86163522, -21.13564669, -21.16603295, ...,          nan,\n",
      "                nan,          nan]), array([-20.75471698, -20.63091483, -21.34347275, ...,          nan,\n",
      "                nan,          nan]), array([-20.25157233, -20.80757098, -21.6730038 , ...,          nan,\n",
      "                nan,          nan]), array([-20.42767296, -21.13564669, -21.29277567, ...,          nan,\n",
      "                nan,          nan]), array([-20.75471698, -20.75709779, -22.8643853 , ...,          nan,\n",
      "                nan,          nan]), array([-20.37735849, -22.32176656, -21.41951838, ...,          nan,\n",
      "                nan,          nan]), array([-21.93710692, -20.88328076, -19.79721166, ...,          nan,\n",
      "                nan,          nan]), array([-20.50314465, -19.2681388 , -20.6590621 , ...,          nan,\n",
      "                nan,          nan]), array([-18.89308176, -20.12618297, -23.20659062, ...,          nan,\n",
      "                nan,          nan]), array([-19.74842767, -22.66246057, -27.4904943 , ...,          nan,\n",
      "                nan,          nan]), array([-22.27672956, -26.92744479, -28.01013942, ...,          nan,\n",
      "                nan,          nan]), array([-26.52830189, -27.44479495, -26.99619772, ...,          nan,\n",
      "                nan,          nan]), array([-27.04402516, -26.43533123, -26.74271229, ...,          nan,\n",
      "                nan,          nan]), array([-26.03773585, -26.1829653 , -27.47782003, ...,          nan,\n",
      "                nan,          nan]), array([-25.78616352, -26.9148265 , -33.96704689, ...,          nan,\n",
      "                nan,          nan]), array([-26.51572327, -33.37539432, -41.31812421, ...,          nan,\n",
      "                nan,          nan]), array([-32.95597484, -40.69400631, -39.67046895, ...,          nan,\n",
      "                nan,          nan]), array([-40.25157233, -39.05362776, -41.79974651, ...,          nan,\n",
      "                nan,          nan]), array([-38.6163522 , -41.17350158, -50.57034221, ...,          nan,\n",
      "                nan,          nan]), array([-40.72955975, -49.90536278, -56.60329531, ...,          nan,\n",
      "                nan,          nan]), array([-49.43396226, -55.91167192, -64.28390368, ...,          nan,\n",
      "                nan,          nan]), array([-55.42138365, -63.55835962, -62.45880862, ...,          nan,\n",
      "                nan,          nan]), array([-63.04402516, -61.74132492, -61.21673004, ...,          nan,\n",
      "                nan,          nan]), array([-61.2327044 , -60.50473186, -57.41444867, ...,          nan,\n",
      "                nan,          nan]), array([-60.        , -56.7192429 , -58.07351077, ...,          nan,\n",
      "                nan,          nan]), array([-56.22641509, -57.37539432, -61.22940431, ...,          nan,\n",
      "                nan,          nan])]\n"
     ]
    },
    {
     "name": "stderr",
     "output_type": "stream",
     "text": [
      "C:\\Users\\abhij\\AppData\\Local\\Temp\\ipykernel_13172\\308277172.py:3: SettingWithCopyWarning: \n",
      "A value is trying to be set on a copy of a slice from a DataFrame.\n",
      "Try using .loc[row_indexer,col_indexer] = value instead\n",
      "\n",
      "See the caveats in the documentation: https://pandas.pydata.org/pandas-docs/stable/user_guide/indexing.html#returning-a-view-versus-a-copy\n",
      "  df1['temp'] = df1['Xth'] - df1['Xth'].shift(-1*i)\n",
      "C:\\Users\\abhij\\AppData\\Local\\Temp\\ipykernel_13172\\308277172.py:4: SettingWithCopyWarning: \n",
      "A value is trying to be set on a copy of a slice from a DataFrame.\n",
      "Try using .loc[row_indexer,col_indexer] = value instead\n",
      "\n",
      "See the caveats in the documentation: https://pandas.pydata.org/pandas-docs/stable/user_guide/indexing.html#returning-a-view-versus-a-copy\n",
      "  df1['temp'] = df1['temp']/df1['Xth']*100\n"
     ]
    },
    {
     "data": {
      "text/html": [
       "<div>\n",
       "<style scoped>\n",
       "    .dataframe tbody tr th:only-of-type {\n",
       "        vertical-align: middle;\n",
       "    }\n",
       "\n",
       "    .dataframe tbody tr th {\n",
       "        vertical-align: top;\n",
       "    }\n",
       "\n",
       "    .dataframe thead th {\n",
       "        text-align: right;\n",
       "    }\n",
       "</style>\n",
       "<table border=\"1\" class=\"dataframe\">\n",
       "  <thead>\n",
       "    <tr style=\"text-align: right;\">\n",
       "      <th></th>\n",
       "      <th>0</th>\n",
       "      <th>1</th>\n",
       "      <th>2</th>\n",
       "      <th>3</th>\n",
       "      <th>4</th>\n",
       "      <th>5</th>\n",
       "      <th>6</th>\n",
       "      <th>7</th>\n",
       "      <th>8</th>\n",
       "      <th>9</th>\n",
       "      <th>...</th>\n",
       "      <th>49</th>\n",
       "      <th>50</th>\n",
       "      <th>51</th>\n",
       "      <th>52</th>\n",
       "      <th>53</th>\n",
       "      <th>54</th>\n",
       "      <th>55</th>\n",
       "      <th>56</th>\n",
       "      <th>57</th>\n",
       "      <th>58</th>\n",
       "    </tr>\n",
       "  </thead>\n",
       "  <tbody>\n",
       "    <tr>\n",
       "      <th>0</th>\n",
       "      <td>0.314465</td>\n",
       "      <td>0.754717</td>\n",
       "      <td>1.132075</td>\n",
       "      <td>1.698113</td>\n",
       "      <td>0.503145</td>\n",
       "      <td>-0.628931</td>\n",
       "      <td>-4.402516</td>\n",
       "      <td>-8.163522</td>\n",
       "      <td>-8.176101</td>\n",
       "      <td>-10.691824</td>\n",
       "      <td>...</td>\n",
       "      <td>-32.955975</td>\n",
       "      <td>-40.251572</td>\n",
       "      <td>-38.616352</td>\n",
       "      <td>-40.729560</td>\n",
       "      <td>-49.433962</td>\n",
       "      <td>-55.421384</td>\n",
       "      <td>-63.044025</td>\n",
       "      <td>-61.232704</td>\n",
       "      <td>-60.000000</td>\n",
       "      <td>-56.226415</td>\n",
       "    </tr>\n",
       "    <tr>\n",
       "      <th>1</th>\n",
       "      <td>0.441640</td>\n",
       "      <td>0.820189</td>\n",
       "      <td>1.388013</td>\n",
       "      <td>0.189274</td>\n",
       "      <td>-0.946372</td>\n",
       "      <td>-4.731861</td>\n",
       "      <td>-8.504732</td>\n",
       "      <td>-8.517350</td>\n",
       "      <td>-11.041009</td>\n",
       "      <td>-8.088328</td>\n",
       "      <td>...</td>\n",
       "      <td>-40.694006</td>\n",
       "      <td>-39.053628</td>\n",
       "      <td>-41.173502</td>\n",
       "      <td>-49.905363</td>\n",
       "      <td>-55.911672</td>\n",
       "      <td>-63.558360</td>\n",
       "      <td>-61.741325</td>\n",
       "      <td>-60.504732</td>\n",
       "      <td>-56.719243</td>\n",
       "      <td>-57.375394</td>\n",
       "    </tr>\n",
       "    <tr>\n",
       "      <th>2</th>\n",
       "      <td>0.380228</td>\n",
       "      <td>0.950570</td>\n",
       "      <td>-0.253485</td>\n",
       "      <td>-1.394170</td>\n",
       "      <td>-5.196451</td>\n",
       "      <td>-8.986058</td>\n",
       "      <td>-8.998733</td>\n",
       "      <td>-11.533587</td>\n",
       "      <td>-8.567807</td>\n",
       "      <td>-15.335868</td>\n",
       "      <td>...</td>\n",
       "      <td>-39.670469</td>\n",
       "      <td>-41.799747</td>\n",
       "      <td>-50.570342</td>\n",
       "      <td>-56.603295</td>\n",
       "      <td>-64.283904</td>\n",
       "      <td>-62.458809</td>\n",
       "      <td>-61.216730</td>\n",
       "      <td>-57.414449</td>\n",
       "      <td>-58.073511</td>\n",
       "      <td>-61.229404</td>\n",
       "    </tr>\n",
       "    <tr>\n",
       "      <th>3</th>\n",
       "      <td>0.572519</td>\n",
       "      <td>-0.636132</td>\n",
       "      <td>-1.781170</td>\n",
       "      <td>-5.597964</td>\n",
       "      <td>-9.402036</td>\n",
       "      <td>-9.414758</td>\n",
       "      <td>-11.959288</td>\n",
       "      <td>-8.982188</td>\n",
       "      <td>-15.776081</td>\n",
       "      <td>-20.190840</td>\n",
       "      <td>...</td>\n",
       "      <td>-42.340967</td>\n",
       "      <td>-51.145038</td>\n",
       "      <td>-57.201018</td>\n",
       "      <td>-64.910941</td>\n",
       "      <td>-63.078880</td>\n",
       "      <td>-61.832061</td>\n",
       "      <td>-58.015267</td>\n",
       "      <td>-58.676845</td>\n",
       "      <td>-61.844784</td>\n",
       "      <td>-61.603053</td>\n",
       "    </tr>\n",
       "    <tr>\n",
       "      <th>4</th>\n",
       "      <td>-1.215611</td>\n",
       "      <td>-2.367242</td>\n",
       "      <td>-6.206014</td>\n",
       "      <td>-10.031990</td>\n",
       "      <td>-10.044786</td>\n",
       "      <td>-12.603967</td>\n",
       "      <td>-9.609725</td>\n",
       "      <td>-16.442738</td>\n",
       "      <td>-20.882917</td>\n",
       "      <td>-19.513756</td>\n",
       "      <td>...</td>\n",
       "      <td>-52.015355</td>\n",
       "      <td>-58.106206</td>\n",
       "      <td>-65.860525</td>\n",
       "      <td>-64.017914</td>\n",
       "      <td>-62.763916</td>\n",
       "      <td>-58.925144</td>\n",
       "      <td>-59.590531</td>\n",
       "      <td>-62.776711</td>\n",
       "      <td>-62.533589</td>\n",
       "      <td>-62.136916</td>\n",
       "    </tr>\n",
       "    <tr>\n",
       "      <th>5</th>\n",
       "      <td>-1.137800</td>\n",
       "      <td>-4.930468</td>\n",
       "      <td>-8.710493</td>\n",
       "      <td>-8.723135</td>\n",
       "      <td>-11.251580</td>\n",
       "      <td>-8.293300</td>\n",
       "      <td>-15.044248</td>\n",
       "      <td>-19.431100</td>\n",
       "      <td>-18.078382</td>\n",
       "      <td>-23.893805</td>\n",
       "      <td>...</td>\n",
       "      <td>-56.207332</td>\n",
       "      <td>-63.868521</td>\n",
       "      <td>-62.048040</td>\n",
       "      <td>-60.809102</td>\n",
       "      <td>-57.016435</td>\n",
       "      <td>-57.673831</td>\n",
       "      <td>-60.821745</td>\n",
       "      <td>-60.581542</td>\n",
       "      <td>-60.189633</td>\n",
       "      <td>-59.039191</td>\n",
       "    </tr>\n",
       "    <tr>\n",
       "      <th>6</th>\n",
       "      <td>-3.750000</td>\n",
       "      <td>-7.487500</td>\n",
       "      <td>-7.500000</td>\n",
       "      <td>-10.000000</td>\n",
       "      <td>-7.075000</td>\n",
       "      <td>-13.750000</td>\n",
       "      <td>-18.087500</td>\n",
       "      <td>-16.750000</td>\n",
       "      <td>-22.500000</td>\n",
       "      <td>-27.125000</td>\n",
       "      <td>...</td>\n",
       "      <td>-62.025000</td>\n",
       "      <td>-60.225000</td>\n",
       "      <td>-59.000000</td>\n",
       "      <td>-55.250000</td>\n",
       "      <td>-55.900000</td>\n",
       "      <td>-59.012500</td>\n",
       "      <td>-58.775000</td>\n",
       "      <td>-58.387500</td>\n",
       "      <td>-57.250000</td>\n",
       "      <td>-57.625000</td>\n",
       "    </tr>\n",
       "    <tr>\n",
       "      <th>7</th>\n",
       "      <td>-3.602410</td>\n",
       "      <td>-3.614458</td>\n",
       "      <td>-6.024096</td>\n",
       "      <td>-3.204819</td>\n",
       "      <td>-9.638554</td>\n",
       "      <td>-13.819277</td>\n",
       "      <td>-12.530120</td>\n",
       "      <td>-18.072289</td>\n",
       "      <td>-22.530120</td>\n",
       "      <td>-23.686747</td>\n",
       "      <td>...</td>\n",
       "      <td>-54.433735</td>\n",
       "      <td>-53.253012</td>\n",
       "      <td>-49.638554</td>\n",
       "      <td>-50.265060</td>\n",
       "      <td>-53.265060</td>\n",
       "      <td>-53.036145</td>\n",
       "      <td>-52.662651</td>\n",
       "      <td>-51.566265</td>\n",
       "      <td>-51.927711</td>\n",
       "      <td>-51.927711</td>\n",
       "    </tr>\n",
       "    <tr>\n",
       "      <th>8</th>\n",
       "      <td>-0.011629</td>\n",
       "      <td>-2.337481</td>\n",
       "      <td>0.383766</td>\n",
       "      <td>-5.826259</td>\n",
       "      <td>-9.861612</td>\n",
       "      <td>-8.617281</td>\n",
       "      <td>-13.966740</td>\n",
       "      <td>-18.269566</td>\n",
       "      <td>-19.385975</td>\n",
       "      <td>-19.723224</td>\n",
       "      <td>...</td>\n",
       "      <td>-47.924177</td>\n",
       "      <td>-44.435399</td>\n",
       "      <td>-45.040121</td>\n",
       "      <td>-47.935806</td>\n",
       "      <td>-47.714851</td>\n",
       "      <td>-47.354344</td>\n",
       "      <td>-46.296081</td>\n",
       "      <td>-46.644959</td>\n",
       "      <td>-46.644959</td>\n",
       "      <td>-49.319688</td>\n",
       "    </tr>\n",
       "    <tr>\n",
       "      <th>9</th>\n",
       "      <td>-2.325581</td>\n",
       "      <td>0.395349</td>\n",
       "      <td>-5.813953</td>\n",
       "      <td>-9.848837</td>\n",
       "      <td>-8.604651</td>\n",
       "      <td>-13.953488</td>\n",
       "      <td>-18.255814</td>\n",
       "      <td>-19.372093</td>\n",
       "      <td>-19.709302</td>\n",
       "      <td>-17.232558</td>\n",
       "      <td>...</td>\n",
       "      <td>-44.418605</td>\n",
       "      <td>-45.023256</td>\n",
       "      <td>-47.918605</td>\n",
       "      <td>-47.697674</td>\n",
       "      <td>-47.337209</td>\n",
       "      <td>-46.279070</td>\n",
       "      <td>-46.627907</td>\n",
       "      <td>-46.627907</td>\n",
       "      <td>-49.302326</td>\n",
       "      <td>-49.360465</td>\n",
       "    </tr>\n",
       "  </tbody>\n",
       "</table>\n",
       "<p>10 rows × 59 columns</p>\n",
       "</div>"
      ],
      "text/plain": [
       "         0         1         2          3          4          5          6   \\\n",
       "0  0.314465  0.754717  1.132075   1.698113   0.503145  -0.628931  -4.402516   \n",
       "1  0.441640  0.820189  1.388013   0.189274  -0.946372  -4.731861  -8.504732   \n",
       "2  0.380228  0.950570 -0.253485  -1.394170  -5.196451  -8.986058  -8.998733   \n",
       "3  0.572519 -0.636132 -1.781170  -5.597964  -9.402036  -9.414758 -11.959288   \n",
       "4 -1.215611 -2.367242 -6.206014 -10.031990 -10.044786 -12.603967  -9.609725   \n",
       "5 -1.137800 -4.930468 -8.710493  -8.723135 -11.251580  -8.293300 -15.044248   \n",
       "6 -3.750000 -7.487500 -7.500000 -10.000000  -7.075000 -13.750000 -18.087500   \n",
       "7 -3.602410 -3.614458 -6.024096  -3.204819  -9.638554 -13.819277 -12.530120   \n",
       "8 -0.011629 -2.337481  0.383766  -5.826259  -9.861612  -8.617281 -13.966740   \n",
       "9 -2.325581  0.395349 -5.813953  -9.848837  -8.604651 -13.953488 -18.255814   \n",
       "\n",
       "          7          8          9   ...         49         50         51  \\\n",
       "0  -8.163522  -8.176101 -10.691824  ... -32.955975 -40.251572 -38.616352   \n",
       "1  -8.517350 -11.041009  -8.088328  ... -40.694006 -39.053628 -41.173502   \n",
       "2 -11.533587  -8.567807 -15.335868  ... -39.670469 -41.799747 -50.570342   \n",
       "3  -8.982188 -15.776081 -20.190840  ... -42.340967 -51.145038 -57.201018   \n",
       "4 -16.442738 -20.882917 -19.513756  ... -52.015355 -58.106206 -65.860525   \n",
       "5 -19.431100 -18.078382 -23.893805  ... -56.207332 -63.868521 -62.048040   \n",
       "6 -16.750000 -22.500000 -27.125000  ... -62.025000 -60.225000 -59.000000   \n",
       "7 -18.072289 -22.530120 -23.686747  ... -54.433735 -53.253012 -49.638554   \n",
       "8 -18.269566 -19.385975 -19.723224  ... -47.924177 -44.435399 -45.040121   \n",
       "9 -19.372093 -19.709302 -17.232558  ... -44.418605 -45.023256 -47.918605   \n",
       "\n",
       "          52         53         54         55         56         57         58  \n",
       "0 -40.729560 -49.433962 -55.421384 -63.044025 -61.232704 -60.000000 -56.226415  \n",
       "1 -49.905363 -55.911672 -63.558360 -61.741325 -60.504732 -56.719243 -57.375394  \n",
       "2 -56.603295 -64.283904 -62.458809 -61.216730 -57.414449 -58.073511 -61.229404  \n",
       "3 -64.910941 -63.078880 -61.832061 -58.015267 -58.676845 -61.844784 -61.603053  \n",
       "4 -64.017914 -62.763916 -58.925144 -59.590531 -62.776711 -62.533589 -62.136916  \n",
       "5 -60.809102 -57.016435 -57.673831 -60.821745 -60.581542 -60.189633 -59.039191  \n",
       "6 -55.250000 -55.900000 -59.012500 -58.775000 -58.387500 -57.250000 -57.625000  \n",
       "7 -50.265060 -53.265060 -53.036145 -52.662651 -51.566265 -51.927711 -51.927711  \n",
       "8 -47.935806 -47.714851 -47.354344 -46.296081 -46.644959 -46.644959 -49.319688  \n",
       "9 -47.697674 -47.337209 -46.279070 -46.627907 -46.627907 -49.302326 -49.360465  \n",
       "\n",
       "[10 rows x 59 columns]"
      ]
     },
     "execution_count": 8,
     "metadata": {},
     "output_type": "execute_result"
    }
   ],
   "source": [
    "\n",
    "\n",
    "c1 = []\n",
    "for i in range(1,days_shape):\n",
    "    df1['temp'] = df1['Xth'] - df1['Xth'].shift(-1*i)\n",
    "    df1['temp'] = df1['temp']/df1['Xth']*100\n",
    "    c1.append(df1['temp'].to_numpy())\n",
    "\n",
    "print(c1)    \n",
    "df2 = pd.DataFrame(c1)\n",
    "df3 = df2.transpose()\n",
    "df3.head(10)"
   ]
  },
  {
   "cell_type": "code",
   "execution_count": 9,
   "id": "c9f40cf7-dd88-407e-b8e4-46d3d9347d38",
   "metadata": {
    "colab": {
     "base_uri": "https://localhost:8080/"
    },
    "id": "c9f40cf7-dd88-407e-b8e4-46d3d9347d38",
    "outputId": "c1375cf0-f6b7-47d6-f6f2-35987bc4632a"
   },
   "outputs": [
    {
     "data": {
      "text/plain": [
       "(6348, 59)"
      ]
     },
     "execution_count": 9,
     "metadata": {},
     "output_type": "execute_result"
    }
   ],
   "source": [
    "df3.shape\n"
   ]
  },
  {
   "cell_type": "code",
   "execution_count": 10,
   "id": "fa913eaa-d634-4a7e-bf4b-d8a235d30bf1",
   "metadata": {
    "colab": {
     "base_uri": "https://localhost:8080/"
    },
    "id": "fa913eaa-d634-4a7e-bf4b-d8a235d30bf1",
    "outputId": "1a074627-6ace-4fe6-e627-094a387348b1"
   },
   "outputs": [
    {
     "data": {
      "text/plain": [
       "array([[  0.31446541,   0.75471698,   1.13207547, ..., -61.2327044 ,\n",
       "        -60.        , -56.22641509],\n",
       "       [  0.44164038,   0.82018927,   1.38801262, ..., -60.50473186,\n",
       "        -56.7192429 , -57.37539432],\n",
       "       [  0.38022814,   0.95057034,  -0.25348542, ..., -57.41444867,\n",
       "        -58.07351077, -61.22940431],\n",
       "       ...,\n",
       "       [         nan,          nan,          nan, ...,          nan,\n",
       "                 nan,          nan],\n",
       "       [         nan,          nan,          nan, ...,          nan,\n",
       "                 nan,          nan],\n",
       "       [         nan,          nan,          nan, ...,          nan,\n",
       "                 nan,          nan]])"
      ]
     },
     "execution_count": 10,
     "metadata": {},
     "output_type": "execute_result"
    }
   ],
   "source": [
    "c2 =df3.to_numpy()\n",
    "c2"
   ]
  },
  {
   "cell_type": "code",
   "execution_count": 11,
   "id": "880304ee-74c8-4bb5-82a1-ca7a0472b028",
   "metadata": {
    "colab": {
     "base_uri": "https://localhost:8080/"
    },
    "id": "880304ee-74c8-4bb5-82a1-ca7a0472b028",
    "outputId": "73b71715-819e-4c42-d28a-57e573368bdd"
   },
   "outputs": [
    {
     "data": {
      "text/plain": [
       "6348"
      ]
     },
     "execution_count": 11,
     "metadata": {},
     "output_type": "execute_result"
    }
   ],
   "source": [
    "len(c2)\n"
   ]
  },
  {
   "cell_type": "code",
   "execution_count": 12,
   "id": "829fed7d-8de6-4b65-b88c-ebb9fe12337d",
   "metadata": {
    "id": "829fed7d-8de6-4b65-b88c-ebb9fe12337d"
   },
   "outputs": [],
   "source": [
    "c3 =[]\n",
    "\n",
    "for i in range(int(len(c2)-days_shape)):\n",
    "      \n",
    "    c6 = np.concatenate((c2[i:i+days_shape]))\n",
    "    \n",
    "    c3.append(c6)\n",
    "    \n",
    "                "
   ]
  },
  {
   "cell_type": "code",
   "execution_count": 13,
   "id": "ff0b48d2-7d70-44cc-b835-d6ec671befd8",
   "metadata": {
    "colab": {
     "base_uri": "https://localhost:8080/"
    },
    "id": "ff0b48d2-7d70-44cc-b835-d6ec671befd8",
    "outputId": "6155793c-8028-409e-a3fb-7a75989ac987"
   },
   "outputs": [
    {
     "data": {
      "text/plain": [
       "[array([  0.44164038,   0.82018927,   1.38801262, ..., -13.2456703 ,\n",
       "        -13.67864015, -12.73252085]),\n",
       " array([  0.38022814,   0.95057034,  -0.25348542, ..., -11.45350208,\n",
       "        -10.52590205,  -8.74931216])]"
      ]
     },
     "execution_count": 13,
     "metadata": {},
     "output_type": "execute_result"
    }
   ],
   "source": [
    "c3[1:3]"
   ]
  },
  {
   "cell_type": "code",
   "execution_count": 14,
   "id": "80e6c0b3-2c32-4bbe-96a1-018ad6741f2c",
   "metadata": {
    "colab": {
     "base_uri": "https://localhost:8080/",
     "height": 456
    },
    "id": "80e6c0b3-2c32-4bbe-96a1-018ad6741f2c",
    "outputId": "2f5f8ca0-2b72-4f93-8a78-750aca710a5a",
    "scrolled": true
   },
   "outputs": [
    {
     "data": {
      "text/html": [
       "<div>\n",
       "<style scoped>\n",
       "    .dataframe tbody tr th:only-of-type {\n",
       "        vertical-align: middle;\n",
       "    }\n",
       "\n",
       "    .dataframe tbody tr th {\n",
       "        vertical-align: top;\n",
       "    }\n",
       "\n",
       "    .dataframe thead th {\n",
       "        text-align: right;\n",
       "    }\n",
       "</style>\n",
       "<table border=\"1\" class=\"dataframe\">\n",
       "  <thead>\n",
       "    <tr style=\"text-align: right;\">\n",
       "      <th></th>\n",
       "      <th>0</th>\n",
       "      <th>1</th>\n",
       "      <th>2</th>\n",
       "      <th>3</th>\n",
       "      <th>4</th>\n",
       "      <th>5</th>\n",
       "      <th>6</th>\n",
       "      <th>7</th>\n",
       "      <th>8</th>\n",
       "      <th>9</th>\n",
       "      <th>...</th>\n",
       "      <th>3530</th>\n",
       "      <th>3531</th>\n",
       "      <th>3532</th>\n",
       "      <th>3533</th>\n",
       "      <th>3534</th>\n",
       "      <th>3535</th>\n",
       "      <th>3536</th>\n",
       "      <th>3537</th>\n",
       "      <th>3538</th>\n",
       "      <th>3539</th>\n",
       "    </tr>\n",
       "  </thead>\n",
       "  <tbody>\n",
       "    <tr>\n",
       "      <th>0</th>\n",
       "      <td>0.314465</td>\n",
       "      <td>0.754717</td>\n",
       "      <td>1.132075</td>\n",
       "      <td>1.698113</td>\n",
       "      <td>0.503145</td>\n",
       "      <td>-0.628931</td>\n",
       "      <td>-4.402516</td>\n",
       "      <td>-8.163522</td>\n",
       "      <td>-8.176101</td>\n",
       "      <td>-10.691824</td>\n",
       "      <td>...</td>\n",
       "      <td>-14.009662</td>\n",
       "      <td>-13.800322</td>\n",
       "      <td>-13.172303</td>\n",
       "      <td>-12.721417</td>\n",
       "      <td>-12.399356</td>\n",
       "      <td>-11.714976</td>\n",
       "      <td>-11.916264</td>\n",
       "      <td>-14.331723</td>\n",
       "      <td>-13.719807</td>\n",
       "      <td>-14.154589</td>\n",
       "    </tr>\n",
       "    <tr>\n",
       "      <th>1</th>\n",
       "      <td>0.441640</td>\n",
       "      <td>0.820189</td>\n",
       "      <td>1.388013</td>\n",
       "      <td>0.189274</td>\n",
       "      <td>-0.946372</td>\n",
       "      <td>-4.731861</td>\n",
       "      <td>-8.504732</td>\n",
       "      <td>-8.517350</td>\n",
       "      <td>-11.041009</td>\n",
       "      <td>-8.088328</td>\n",
       "      <td>...</td>\n",
       "      <td>-13.325850</td>\n",
       "      <td>-12.700449</td>\n",
       "      <td>-12.251443</td>\n",
       "      <td>-11.930725</td>\n",
       "      <td>-11.249198</td>\n",
       "      <td>-11.449647</td>\n",
       "      <td>-13.855035</td>\n",
       "      <td>-13.245670</td>\n",
       "      <td>-13.678640</td>\n",
       "      <td>-12.732521</td>\n",
       "    </tr>\n",
       "    <tr>\n",
       "      <th>2</th>\n",
       "      <td>0.380228</td>\n",
       "      <td>0.950570</td>\n",
       "      <td>-0.253485</td>\n",
       "      <td>-1.394170</td>\n",
       "      <td>-5.196451</td>\n",
       "      <td>-8.986058</td>\n",
       "      <td>-8.998733</td>\n",
       "      <td>-11.533587</td>\n",
       "      <td>-8.567807</td>\n",
       "      <td>-15.335868</td>\n",
       "      <td>...</td>\n",
       "      <td>-10.494458</td>\n",
       "      <td>-10.054241</td>\n",
       "      <td>-9.739800</td>\n",
       "      <td>-9.071614</td>\n",
       "      <td>-9.268139</td>\n",
       "      <td>-11.626444</td>\n",
       "      <td>-11.029007</td>\n",
       "      <td>-11.453502</td>\n",
       "      <td>-10.525902</td>\n",
       "      <td>-8.749312</td>\n",
       "    </tr>\n",
       "    <tr>\n",
       "      <th>3</th>\n",
       "      <td>0.572519</td>\n",
       "      <td>-0.636132</td>\n",
       "      <td>-1.781170</td>\n",
       "      <td>-5.597964</td>\n",
       "      <td>-9.402036</td>\n",
       "      <td>-9.414758</td>\n",
       "      <td>-11.959288</td>\n",
       "      <td>-8.982188</td>\n",
       "      <td>-15.776081</td>\n",
       "      <td>-20.190840</td>\n",
       "      <td>...</td>\n",
       "      <td>-10.218863</td>\n",
       "      <td>-9.903952</td>\n",
       "      <td>-9.234766</td>\n",
       "      <td>-9.431586</td>\n",
       "      <td>-11.793418</td>\n",
       "      <td>-11.195087</td>\n",
       "      <td>-11.620217</td>\n",
       "      <td>-10.691230</td>\n",
       "      <td>-8.911982</td>\n",
       "      <td>-9.470949</td>\n",
       "    </tr>\n",
       "    <tr>\n",
       "      <th>4</th>\n",
       "      <td>-1.215611</td>\n",
       "      <td>-2.367242</td>\n",
       "      <td>-6.206014</td>\n",
       "      <td>-10.031990</td>\n",
       "      <td>-10.044786</td>\n",
       "      <td>-12.603967</td>\n",
       "      <td>-9.609725</td>\n",
       "      <td>-16.442738</td>\n",
       "      <td>-20.882917</td>\n",
       "      <td>-19.513756</td>\n",
       "      <td>...</td>\n",
       "      <td>-10.172836</td>\n",
       "      <td>-9.502012</td>\n",
       "      <td>-9.699313</td>\n",
       "      <td>-12.066924</td>\n",
       "      <td>-11.467130</td>\n",
       "      <td>-11.893300</td>\n",
       "      <td>-10.962039</td>\n",
       "      <td>-9.178439</td>\n",
       "      <td>-9.738774</td>\n",
       "      <td>-10.212296</td>\n",
       "    </tr>\n",
       "    <tr>\n",
       "      <th>5</th>\n",
       "      <td>-1.137800</td>\n",
       "      <td>-4.930468</td>\n",
       "      <td>-8.710493</td>\n",
       "      <td>-8.723135</td>\n",
       "      <td>-11.251580</td>\n",
       "      <td>-8.293300</td>\n",
       "      <td>-15.044248</td>\n",
       "      <td>-19.431100</td>\n",
       "      <td>-18.078382</td>\n",
       "      <td>-23.893805</td>\n",
       "      <td>...</td>\n",
       "      <td>-10.294118</td>\n",
       "      <td>-10.492846</td>\n",
       "      <td>-12.877583</td>\n",
       "      <td>-12.273450</td>\n",
       "      <td>-12.702703</td>\n",
       "      <td>-11.764706</td>\n",
       "      <td>-9.968203</td>\n",
       "      <td>-10.532591</td>\n",
       "      <td>-11.009539</td>\n",
       "      <td>-11.287758</td>\n",
       "    </tr>\n",
       "    <tr>\n",
       "      <th>6</th>\n",
       "      <td>-3.750000</td>\n",
       "      <td>-7.487500</td>\n",
       "      <td>-7.500000</td>\n",
       "      <td>-10.000000</td>\n",
       "      <td>-7.075000</td>\n",
       "      <td>-13.750000</td>\n",
       "      <td>-18.087500</td>\n",
       "      <td>-16.750000</td>\n",
       "      <td>-22.500000</td>\n",
       "      <td>-27.125000</td>\n",
       "      <td>...</td>\n",
       "      <td>-10.229976</td>\n",
       "      <td>-12.609040</td>\n",
       "      <td>-12.006344</td>\n",
       "      <td>-12.434576</td>\n",
       "      <td>-11.498810</td>\n",
       "      <td>-9.706582</td>\n",
       "      <td>-10.269627</td>\n",
       "      <td>-10.745440</td>\n",
       "      <td>-11.022998</td>\n",
       "      <td>-10.063442</td>\n",
       "    </tr>\n",
       "    <tr>\n",
       "      <th>7</th>\n",
       "      <td>-3.602410</td>\n",
       "      <td>-3.614458</td>\n",
       "      <td>-6.024096</td>\n",
       "      <td>-3.204819</td>\n",
       "      <td>-9.638554</td>\n",
       "      <td>-13.819277</td>\n",
       "      <td>-12.530120</td>\n",
       "      <td>-18.072289</td>\n",
       "      <td>-22.530120</td>\n",
       "      <td>-23.686747</td>\n",
       "      <td>...</td>\n",
       "      <td>-12.609040</td>\n",
       "      <td>-12.006344</td>\n",
       "      <td>-12.434576</td>\n",
       "      <td>-11.498810</td>\n",
       "      <td>-9.706582</td>\n",
       "      <td>-10.269627</td>\n",
       "      <td>-10.745440</td>\n",
       "      <td>-11.022998</td>\n",
       "      <td>-10.063442</td>\n",
       "      <td>-8.643933</td>\n",
       "    </tr>\n",
       "    <tr>\n",
       "      <th>8</th>\n",
       "      <td>-0.011629</td>\n",
       "      <td>-2.337481</td>\n",
       "      <td>0.383766</td>\n",
       "      <td>-5.826259</td>\n",
       "      <td>-9.861612</td>\n",
       "      <td>-8.617281</td>\n",
       "      <td>-13.966740</td>\n",
       "      <td>-18.269566</td>\n",
       "      <td>-19.385975</td>\n",
       "      <td>-19.723224</td>\n",
       "      <td>...</td>\n",
       "      <td>-10.000000</td>\n",
       "      <td>-10.420561</td>\n",
       "      <td>-9.501558</td>\n",
       "      <td>-7.741433</td>\n",
       "      <td>-8.294393</td>\n",
       "      <td>-8.761682</td>\n",
       "      <td>-9.034268</td>\n",
       "      <td>-8.091900</td>\n",
       "      <td>-6.697819</td>\n",
       "      <td>-8.271028</td>\n",
       "    </tr>\n",
       "    <tr>\n",
       "      <th>9</th>\n",
       "      <td>-2.325581</td>\n",
       "      <td>0.395349</td>\n",
       "      <td>-5.813953</td>\n",
       "      <td>-9.848837</td>\n",
       "      <td>-8.604651</td>\n",
       "      <td>-13.953488</td>\n",
       "      <td>-18.255814</td>\n",
       "      <td>-19.372093</td>\n",
       "      <td>-19.709302</td>\n",
       "      <td>-17.232558</td>\n",
       "      <td>...</td>\n",
       "      <td>-10.377579</td>\n",
       "      <td>-9.458933</td>\n",
       "      <td>-7.699494</td>\n",
       "      <td>-8.252238</td>\n",
       "      <td>-8.719346</td>\n",
       "      <td>-8.991826</td>\n",
       "      <td>-8.049825</td>\n",
       "      <td>-6.656286</td>\n",
       "      <td>-8.228883</td>\n",
       "      <td>-6.811989</td>\n",
       "    </tr>\n",
       "  </tbody>\n",
       "</table>\n",
       "<p>10 rows × 3540 columns</p>\n",
       "</div>"
      ],
      "text/plain": [
       "       0         1         2          3          4          5          6     \\\n",
       "0  0.314465  0.754717  1.132075   1.698113   0.503145  -0.628931  -4.402516   \n",
       "1  0.441640  0.820189  1.388013   0.189274  -0.946372  -4.731861  -8.504732   \n",
       "2  0.380228  0.950570 -0.253485  -1.394170  -5.196451  -8.986058  -8.998733   \n",
       "3  0.572519 -0.636132 -1.781170  -5.597964  -9.402036  -9.414758 -11.959288   \n",
       "4 -1.215611 -2.367242 -6.206014 -10.031990 -10.044786 -12.603967  -9.609725   \n",
       "5 -1.137800 -4.930468 -8.710493  -8.723135 -11.251580  -8.293300 -15.044248   \n",
       "6 -3.750000 -7.487500 -7.500000 -10.000000  -7.075000 -13.750000 -18.087500   \n",
       "7 -3.602410 -3.614458 -6.024096  -3.204819  -9.638554 -13.819277 -12.530120   \n",
       "8 -0.011629 -2.337481  0.383766  -5.826259  -9.861612  -8.617281 -13.966740   \n",
       "9 -2.325581  0.395349 -5.813953  -9.848837  -8.604651 -13.953488 -18.255814   \n",
       "\n",
       "        7          8          9     ...       3530       3531       3532  \\\n",
       "0  -8.163522  -8.176101 -10.691824  ... -14.009662 -13.800322 -13.172303   \n",
       "1  -8.517350 -11.041009  -8.088328  ... -13.325850 -12.700449 -12.251443   \n",
       "2 -11.533587  -8.567807 -15.335868  ... -10.494458 -10.054241  -9.739800   \n",
       "3  -8.982188 -15.776081 -20.190840  ... -10.218863  -9.903952  -9.234766   \n",
       "4 -16.442738 -20.882917 -19.513756  ... -10.172836  -9.502012  -9.699313   \n",
       "5 -19.431100 -18.078382 -23.893805  ... -10.294118 -10.492846 -12.877583   \n",
       "6 -16.750000 -22.500000 -27.125000  ... -10.229976 -12.609040 -12.006344   \n",
       "7 -18.072289 -22.530120 -23.686747  ... -12.609040 -12.006344 -12.434576   \n",
       "8 -18.269566 -19.385975 -19.723224  ... -10.000000 -10.420561  -9.501558   \n",
       "9 -19.372093 -19.709302 -17.232558  ... -10.377579  -9.458933  -7.699494   \n",
       "\n",
       "        3533       3534       3535       3536       3537       3538       3539  \n",
       "0 -12.721417 -12.399356 -11.714976 -11.916264 -14.331723 -13.719807 -14.154589  \n",
       "1 -11.930725 -11.249198 -11.449647 -13.855035 -13.245670 -13.678640 -12.732521  \n",
       "2  -9.071614  -9.268139 -11.626444 -11.029007 -11.453502 -10.525902  -8.749312  \n",
       "3  -9.431586 -11.793418 -11.195087 -11.620217 -10.691230  -8.911982  -9.470949  \n",
       "4 -12.066924 -11.467130 -11.893300 -10.962039  -9.178439  -9.738774 -10.212296  \n",
       "5 -12.273450 -12.702703 -11.764706  -9.968203 -10.532591 -11.009539 -11.287758  \n",
       "6 -12.434576 -11.498810  -9.706582 -10.269627 -10.745440 -11.022998 -10.063442  \n",
       "7 -11.498810  -9.706582 -10.269627 -10.745440 -11.022998 -10.063442  -8.643933  \n",
       "8  -7.741433  -8.294393  -8.761682  -9.034268  -8.091900  -6.697819  -8.271028  \n",
       "9  -8.252238  -8.719346  -8.991826  -8.049825  -6.656286  -8.228883  -6.811989  \n",
       "\n",
       "[10 rows x 3540 columns]"
      ]
     },
     "execution_count": 14,
     "metadata": {},
     "output_type": "execute_result"
    }
   ],
   "source": [
    "df4 = pd.DataFrame(c3)\n",
    "df4.head(10)"
   ]
  },
  {
   "cell_type": "code",
   "execution_count": 15,
   "id": "079e25aa",
   "metadata": {
    "colab": {
     "base_uri": "https://localhost:8080/"
    },
    "id": "079e25aa",
    "outputId": "de5df3bf-5eeb-43ea-ba2a-519d1f20b14c",
    "scrolled": false
   },
   "outputs": [
    {
     "data": {
      "text/plain": [
       "(6288, 3540)"
      ]
     },
     "execution_count": 15,
     "metadata": {},
     "output_type": "execute_result"
    }
   ],
   "source": [
    "df4.shape"
   ]
  },
  {
   "cell_type": "code",
   "execution_count": 16,
   "id": "8e10c159",
   "metadata": {
    "colab": {
     "base_uri": "https://localhost:8080/"
    },
    "id": "8e10c159",
    "outputId": "867af6c5-9b49-4543-bb30-35684f534f91"
   },
   "outputs": [
    {
     "data": {
      "text/plain": [
       "(6348, 4)"
      ]
     },
     "execution_count": 16,
     "metadata": {},
     "output_type": "execute_result"
    }
   ],
   "source": [
    "df1.shape"
   ]
  },
  {
   "cell_type": "code",
   "execution_count": 17,
   "id": "0eZjVvVrXTT6",
   "metadata": {
    "id": "0eZjVvVrXTT6"
   },
   "outputs": [],
   "source": [
    "aes = df1.shape[0]"
   ]
  },
  {
   "cell_type": "code",
   "execution_count": 18,
   "id": "03fda546",
   "metadata": {
    "colab": {
     "base_uri": "https://localhost:8080/"
    },
    "id": "03fda546",
    "outputId": "45128f1e-6e0c-41fa-ca52-f892599cf426"
   },
   "outputs": [
    {
     "data": {
      "text/plain": [
       "(6288, 3542)"
      ]
     },
     "execution_count": 18,
     "metadata": {},
     "output_type": "execute_result"
    }
   ],
   "source": [
    "df4['Close'] = df1.iloc[:aes]['Close']\n",
    "\n",
    "df4['Xth'] = df1.iloc[:aes]['Xth']\n",
    "df4.shape"
   ]
  },
  {
   "cell_type": "code",
   "execution_count": 19,
   "id": "a77df552-f1e7-468e-b7b3-1e4de33ddf96",
   "metadata": {
    "colab": {
     "base_uri": "https://localhost:8080/",
     "height": 299
    },
    "id": "a77df552-f1e7-468e-b7b3-1e4de33ddf96",
    "outputId": "a9d23c5c-3236-4446-fa75-e10ec0689964"
   },
   "outputs": [
    {
     "data": {
      "text/html": [
       "<div>\n",
       "<style scoped>\n",
       "    .dataframe tbody tr th:only-of-type {\n",
       "        vertical-align: middle;\n",
       "    }\n",
       "\n",
       "    .dataframe tbody tr th {\n",
       "        vertical-align: top;\n",
       "    }\n",
       "\n",
       "    .dataframe thead th {\n",
       "        text-align: right;\n",
       "    }\n",
       "</style>\n",
       "<table border=\"1\" class=\"dataframe\">\n",
       "  <thead>\n",
       "    <tr style=\"text-align: right;\">\n",
       "      <th></th>\n",
       "      <th>0</th>\n",
       "      <th>1</th>\n",
       "      <th>2</th>\n",
       "      <th>3</th>\n",
       "      <th>4</th>\n",
       "      <th>5</th>\n",
       "      <th>6</th>\n",
       "      <th>7</th>\n",
       "      <th>8</th>\n",
       "      <th>9</th>\n",
       "      <th>...</th>\n",
       "      <th>49</th>\n",
       "      <th>50</th>\n",
       "      <th>51</th>\n",
       "      <th>52</th>\n",
       "      <th>53</th>\n",
       "      <th>54</th>\n",
       "      <th>55</th>\n",
       "      <th>56</th>\n",
       "      <th>57</th>\n",
       "      <th>58</th>\n",
       "    </tr>\n",
       "  </thead>\n",
       "  <tbody>\n",
       "    <tr>\n",
       "      <th>0</th>\n",
       "      <td>0.314465</td>\n",
       "      <td>0.754717</td>\n",
       "      <td>1.132075</td>\n",
       "      <td>1.698113</td>\n",
       "      <td>0.503145</td>\n",
       "      <td>-0.628931</td>\n",
       "      <td>-4.402516</td>\n",
       "      <td>-8.163522</td>\n",
       "      <td>-8.176101</td>\n",
       "      <td>-10.691824</td>\n",
       "      <td>...</td>\n",
       "      <td>-32.955975</td>\n",
       "      <td>-40.251572</td>\n",
       "      <td>-38.616352</td>\n",
       "      <td>-40.729560</td>\n",
       "      <td>-49.433962</td>\n",
       "      <td>-55.421384</td>\n",
       "      <td>-63.044025</td>\n",
       "      <td>-61.232704</td>\n",
       "      <td>-60.000000</td>\n",
       "      <td>-56.226415</td>\n",
       "    </tr>\n",
       "    <tr>\n",
       "      <th>1</th>\n",
       "      <td>0.441640</td>\n",
       "      <td>0.820189</td>\n",
       "      <td>1.388013</td>\n",
       "      <td>0.189274</td>\n",
       "      <td>-0.946372</td>\n",
       "      <td>-4.731861</td>\n",
       "      <td>-8.504732</td>\n",
       "      <td>-8.517350</td>\n",
       "      <td>-11.041009</td>\n",
       "      <td>-8.088328</td>\n",
       "      <td>...</td>\n",
       "      <td>-40.694006</td>\n",
       "      <td>-39.053628</td>\n",
       "      <td>-41.173502</td>\n",
       "      <td>-49.905363</td>\n",
       "      <td>-55.911672</td>\n",
       "      <td>-63.558360</td>\n",
       "      <td>-61.741325</td>\n",
       "      <td>-60.504732</td>\n",
       "      <td>-56.719243</td>\n",
       "      <td>-57.375394</td>\n",
       "    </tr>\n",
       "    <tr>\n",
       "      <th>2</th>\n",
       "      <td>0.380228</td>\n",
       "      <td>0.950570</td>\n",
       "      <td>-0.253485</td>\n",
       "      <td>-1.394170</td>\n",
       "      <td>-5.196451</td>\n",
       "      <td>-8.986058</td>\n",
       "      <td>-8.998733</td>\n",
       "      <td>-11.533587</td>\n",
       "      <td>-8.567807</td>\n",
       "      <td>-15.335868</td>\n",
       "      <td>...</td>\n",
       "      <td>-39.670469</td>\n",
       "      <td>-41.799747</td>\n",
       "      <td>-50.570342</td>\n",
       "      <td>-56.603295</td>\n",
       "      <td>-64.283904</td>\n",
       "      <td>-62.458809</td>\n",
       "      <td>-61.216730</td>\n",
       "      <td>-57.414449</td>\n",
       "      <td>-58.073511</td>\n",
       "      <td>-61.229404</td>\n",
       "    </tr>\n",
       "    <tr>\n",
       "      <th>3</th>\n",
       "      <td>0.572519</td>\n",
       "      <td>-0.636132</td>\n",
       "      <td>-1.781170</td>\n",
       "      <td>-5.597964</td>\n",
       "      <td>-9.402036</td>\n",
       "      <td>-9.414758</td>\n",
       "      <td>-11.959288</td>\n",
       "      <td>-8.982188</td>\n",
       "      <td>-15.776081</td>\n",
       "      <td>-20.190840</td>\n",
       "      <td>...</td>\n",
       "      <td>-42.340967</td>\n",
       "      <td>-51.145038</td>\n",
       "      <td>-57.201018</td>\n",
       "      <td>-64.910941</td>\n",
       "      <td>-63.078880</td>\n",
       "      <td>-61.832061</td>\n",
       "      <td>-58.015267</td>\n",
       "      <td>-58.676845</td>\n",
       "      <td>-61.844784</td>\n",
       "      <td>-61.603053</td>\n",
       "    </tr>\n",
       "    <tr>\n",
       "      <th>4</th>\n",
       "      <td>-1.215611</td>\n",
       "      <td>-2.367242</td>\n",
       "      <td>-6.206014</td>\n",
       "      <td>-10.031990</td>\n",
       "      <td>-10.044786</td>\n",
       "      <td>-12.603967</td>\n",
       "      <td>-9.609725</td>\n",
       "      <td>-16.442738</td>\n",
       "      <td>-20.882917</td>\n",
       "      <td>-19.513756</td>\n",
       "      <td>...</td>\n",
       "      <td>-52.015355</td>\n",
       "      <td>-58.106206</td>\n",
       "      <td>-65.860525</td>\n",
       "      <td>-64.017914</td>\n",
       "      <td>-62.763916</td>\n",
       "      <td>-58.925144</td>\n",
       "      <td>-59.590531</td>\n",
       "      <td>-62.776711</td>\n",
       "      <td>-62.533589</td>\n",
       "      <td>-62.136916</td>\n",
       "    </tr>\n",
       "  </tbody>\n",
       "</table>\n",
       "<p>5 rows × 59 columns</p>\n",
       "</div>"
      ],
      "text/plain": [
       "         0         1         2          3          4          5          6   \\\n",
       "0  0.314465  0.754717  1.132075   1.698113   0.503145  -0.628931  -4.402516   \n",
       "1  0.441640  0.820189  1.388013   0.189274  -0.946372  -4.731861  -8.504732   \n",
       "2  0.380228  0.950570 -0.253485  -1.394170  -5.196451  -8.986058  -8.998733   \n",
       "3  0.572519 -0.636132 -1.781170  -5.597964  -9.402036  -9.414758 -11.959288   \n",
       "4 -1.215611 -2.367242 -6.206014 -10.031990 -10.044786 -12.603967  -9.609725   \n",
       "\n",
       "          7          8          9   ...         49         50         51  \\\n",
       "0  -8.163522  -8.176101 -10.691824  ... -32.955975 -40.251572 -38.616352   \n",
       "1  -8.517350 -11.041009  -8.088328  ... -40.694006 -39.053628 -41.173502   \n",
       "2 -11.533587  -8.567807 -15.335868  ... -39.670469 -41.799747 -50.570342   \n",
       "3  -8.982188 -15.776081 -20.190840  ... -42.340967 -51.145038 -57.201018   \n",
       "4 -16.442738 -20.882917 -19.513756  ... -52.015355 -58.106206 -65.860525   \n",
       "\n",
       "          52         53         54         55         56         57         58  \n",
       "0 -40.729560 -49.433962 -55.421384 -63.044025 -61.232704 -60.000000 -56.226415  \n",
       "1 -49.905363 -55.911672 -63.558360 -61.741325 -60.504732 -56.719243 -57.375394  \n",
       "2 -56.603295 -64.283904 -62.458809 -61.216730 -57.414449 -58.073511 -61.229404  \n",
       "3 -64.910941 -63.078880 -61.832061 -58.015267 -58.676845 -61.844784 -61.603053  \n",
       "4 -64.017914 -62.763916 -58.925144 -59.590531 -62.776711 -62.533589 -62.136916  \n",
       "\n",
       "[5 rows x 59 columns]"
      ]
     },
     "execution_count": 19,
     "metadata": {},
     "output_type": "execute_result"
    }
   ],
   "source": [
    "df3.head(5)"
   ]
  },
  {
   "cell_type": "code",
   "execution_count": 20,
   "id": "db71c2a8-3753-4466-9b4d-2fee0f741c70",
   "metadata": {
    "colab": {
     "base_uri": "https://localhost:8080/"
    },
    "id": "db71c2a8-3753-4466-9b4d-2fee0f741c70",
    "outputId": "b9750366-f531-4514-a4b0-c6cfa6b40b1e"
   },
   "outputs": [
    {
     "data": {
      "text/plain": [
       "(6288, 3542)"
      ]
     },
     "execution_count": 20,
     "metadata": {},
     "output_type": "execute_result"
    }
   ],
   "source": [
    "df4.shape"
   ]
  },
  {
   "cell_type": "code",
   "execution_count": 21,
   "id": "92d00432-3400-4f75-afc9-50fa4c44d3a7",
   "metadata": {
    "id": "92d00432-3400-4f75-afc9-50fa4c44d3a7"
   },
   "outputs": [],
   "source": [
    "df5 = df4.dropna()\n"
   ]
  },
  {
   "cell_type": "code",
   "execution_count": 22,
   "id": "f397ea72-2124-4b30-b27e-e69b6ecbd722",
   "metadata": {
    "colab": {
     "base_uri": "https://localhost:8080/"
    },
    "id": "f397ea72-2124-4b30-b27e-e69b6ecbd722",
    "outputId": "3e945a34-cb52-4377-81e7-127cbf1201af"
   },
   "outputs": [
    {
     "data": {
      "text/plain": [
       "(6215, 3542)"
      ]
     },
     "execution_count": 22,
     "metadata": {},
     "output_type": "execute_result"
    }
   ],
   "source": [
    "df5.shape\n",
    "        "
   ]
  },
  {
   "cell_type": "code",
   "execution_count": 23,
   "id": "9acc2505",
   "metadata": {
    "colab": {
     "base_uri": "https://localhost:8080/"
    },
    "id": "9acc2505",
    "outputId": "d3118e62-6c83-4b84-fc48-5911c52c3e7a"
   },
   "outputs": [
    {
     "data": {
      "text/plain": [
       "730"
      ]
     },
     "execution_count": 23,
     "metadata": {},
     "output_type": "execute_result"
    }
   ],
   "source": [
    "len(df5[df5[7]>6])"
   ]
  },
  {
   "cell_type": "code",
   "execution_count": 24,
   "id": "49f637b2",
   "metadata": {
    "colab": {
     "base_uri": "https://localhost:8080/"
    },
    "id": "49f637b2",
    "outputId": "b3c41e15-64c0-4f05-8b97-5a1cdd281255"
   },
   "outputs": [
    {
     "data": {
      "text/plain": [
       "4539"
      ]
     },
     "execution_count": 24,
     "metadata": {},
     "output_type": "execute_result"
    }
   ],
   "source": [
    "len(df5[df5[7]<2])"
   ]
  },
  {
   "cell_type": "code",
   "execution_count": 25,
   "id": "8ea8a02f",
   "metadata": {
    "colab": {
     "base_uri": "https://localhost:8080/"
    },
    "id": "8ea8a02f",
    "outputId": "cb7e946a-c9e5-43a3-bde8-2f89e78a9f60"
   },
   "outputs": [
    {
     "data": {
      "text/plain": [
       "False    5792\n",
       "True      423\n",
       "Name: result, dtype: int64"
      ]
     },
     "execution_count": 25,
     "metadata": {},
     "output_type": "execute_result"
    }
   ],
   "source": [
    "df6 = df5\n",
    "df6 = df6.assign(result = lambda x: ((x['Close'] - x['Xth'])/x['Xth']*100)>reward)\n",
    "    \n",
    "df6['result'].value_counts()  "
   ]
  },
  {
   "cell_type": "code",
   "execution_count": null,
   "id": "d220015a",
   "metadata": {
    "id": "d220015a"
   },
   "outputs": [],
   "source": []
  },
  {
   "cell_type": "code",
   "execution_count": 26,
   "id": "f7255de8",
   "metadata": {
    "colab": {
     "base_uri": "https://localhost:8080/"
    },
    "id": "f7255de8",
    "outputId": "50d28c0b-54d2-4f96-d4db-94ff3ccfb706"
   },
   "outputs": [
    {
     "name": "stderr",
     "output_type": "stream",
     "text": [
      "C:\\Users\\abhij\\AppData\\Local\\Temp\\ipykernel_13172\\4073025108.py:3: SettingWithCopyWarning: \n",
      "A value is trying to be set on a copy of a slice from a DataFrame\n",
      "\n",
      "See the caveats in the documentation: https://pandas.pydata.org/pandas-docs/stable/user_guide/indexing.html#returning-a-view-versus-a-copy\n",
      "  df6['result'][i] = 0\n"
     ]
    }
   ],
   "source": [
    "for i in range(len(df6.result)):\n",
    "    if df6['result'][i] == False:\n",
    "       df6['result'][i] = 0\n",
    "    else:\n",
    "       df6['result'][i] = 1\n",
    "        "
   ]
  },
  {
   "cell_type": "code",
   "execution_count": 27,
   "id": "ac826d73",
   "metadata": {
    "colab": {
     "base_uri": "https://localhost:8080/"
    },
    "id": "ac826d73",
    "outputId": "87a14330-4c52-4047-b0f5-8f29b9e534a9"
   },
   "outputs": [
    {
     "data": {
      "text/plain": [
       "count     6215\n",
       "unique       2\n",
       "top          0\n",
       "freq      5792\n",
       "Name: result, dtype: int64"
      ]
     },
     "execution_count": 27,
     "metadata": {},
     "output_type": "execute_result"
    }
   ],
   "source": [
    "df6.result.describe()"
   ]
  },
  {
   "cell_type": "code",
   "execution_count": 28,
   "id": "0032577c",
   "metadata": {
    "colab": {
     "base_uri": "https://localhost:8080/",
     "height": 299
    },
    "id": "0032577c",
    "outputId": "94251d5f-62d3-42a3-b92e-0f2e2d400642"
   },
   "outputs": [
    {
     "data": {
      "text/html": [
       "<div>\n",
       "<style scoped>\n",
       "    .dataframe tbody tr th:only-of-type {\n",
       "        vertical-align: middle;\n",
       "    }\n",
       "\n",
       "    .dataframe tbody tr th {\n",
       "        vertical-align: top;\n",
       "    }\n",
       "\n",
       "    .dataframe thead th {\n",
       "        text-align: right;\n",
       "    }\n",
       "</style>\n",
       "<table border=\"1\" class=\"dataframe\">\n",
       "  <thead>\n",
       "    <tr style=\"text-align: right;\">\n",
       "      <th></th>\n",
       "      <th>0</th>\n",
       "      <th>1</th>\n",
       "      <th>2</th>\n",
       "      <th>3</th>\n",
       "      <th>4</th>\n",
       "      <th>5</th>\n",
       "      <th>6</th>\n",
       "      <th>7</th>\n",
       "      <th>8</th>\n",
       "      <th>9</th>\n",
       "      <th>...</th>\n",
       "      <th>3533</th>\n",
       "      <th>3534</th>\n",
       "      <th>3535</th>\n",
       "      <th>3536</th>\n",
       "      <th>3537</th>\n",
       "      <th>3538</th>\n",
       "      <th>3539</th>\n",
       "      <th>Close</th>\n",
       "      <th>Xth</th>\n",
       "      <th>result</th>\n",
       "    </tr>\n",
       "  </thead>\n",
       "  <tbody>\n",
       "    <tr>\n",
       "      <th>0</th>\n",
       "      <td>0.314465</td>\n",
       "      <td>0.754717</td>\n",
       "      <td>1.132075</td>\n",
       "      <td>1.698113</td>\n",
       "      <td>0.503145</td>\n",
       "      <td>-0.628931</td>\n",
       "      <td>-4.402516</td>\n",
       "      <td>-8.163522</td>\n",
       "      <td>-8.176101</td>\n",
       "      <td>-10.691824</td>\n",
       "      <td>...</td>\n",
       "      <td>-12.721417</td>\n",
       "      <td>-12.399356</td>\n",
       "      <td>-11.714976</td>\n",
       "      <td>-11.916264</td>\n",
       "      <td>-14.331723</td>\n",
       "      <td>-13.719807</td>\n",
       "      <td>-14.154589</td>\n",
       "      <td>407.90</td>\n",
       "      <td>397.50</td>\n",
       "      <td>0</td>\n",
       "    </tr>\n",
       "    <tr>\n",
       "      <th>1</th>\n",
       "      <td>0.441640</td>\n",
       "      <td>0.820189</td>\n",
       "      <td>1.388013</td>\n",
       "      <td>0.189274</td>\n",
       "      <td>-0.946372</td>\n",
       "      <td>-4.731861</td>\n",
       "      <td>-8.504732</td>\n",
       "      <td>-8.517350</td>\n",
       "      <td>-11.041009</td>\n",
       "      <td>-8.088328</td>\n",
       "      <td>...</td>\n",
       "      <td>-11.930725</td>\n",
       "      <td>-11.249198</td>\n",
       "      <td>-11.449647</td>\n",
       "      <td>-13.855035</td>\n",
       "      <td>-13.245670</td>\n",
       "      <td>-13.678640</td>\n",
       "      <td>-12.732521</td>\n",
       "      <td>406.25</td>\n",
       "      <td>396.25</td>\n",
       "      <td>0</td>\n",
       "    </tr>\n",
       "    <tr>\n",
       "      <th>2</th>\n",
       "      <td>0.380228</td>\n",
       "      <td>0.950570</td>\n",
       "      <td>-0.253485</td>\n",
       "      <td>-1.394170</td>\n",
       "      <td>-5.196451</td>\n",
       "      <td>-8.986058</td>\n",
       "      <td>-8.998733</td>\n",
       "      <td>-11.533587</td>\n",
       "      <td>-8.567807</td>\n",
       "      <td>-15.335868</td>\n",
       "      <td>...</td>\n",
       "      <td>-9.071614</td>\n",
       "      <td>-9.268139</td>\n",
       "      <td>-11.626444</td>\n",
       "      <td>-11.029007</td>\n",
       "      <td>-11.453502</td>\n",
       "      <td>-10.525902</td>\n",
       "      <td>-8.749312</td>\n",
       "      <td>409.00</td>\n",
       "      <td>394.50</td>\n",
       "      <td>0</td>\n",
       "    </tr>\n",
       "    <tr>\n",
       "      <th>3</th>\n",
       "      <td>0.572519</td>\n",
       "      <td>-0.636132</td>\n",
       "      <td>-1.781170</td>\n",
       "      <td>-5.597964</td>\n",
       "      <td>-9.402036</td>\n",
       "      <td>-9.414758</td>\n",
       "      <td>-11.959288</td>\n",
       "      <td>-8.982188</td>\n",
       "      <td>-15.776081</td>\n",
       "      <td>-20.190840</td>\n",
       "      <td>...</td>\n",
       "      <td>-9.431586</td>\n",
       "      <td>-11.793418</td>\n",
       "      <td>-11.195087</td>\n",
       "      <td>-11.620217</td>\n",
       "      <td>-10.691230</td>\n",
       "      <td>-8.911982</td>\n",
       "      <td>-9.470949</td>\n",
       "      <td>406.30</td>\n",
       "      <td>393.00</td>\n",
       "      <td>0</td>\n",
       "    </tr>\n",
       "    <tr>\n",
       "      <th>4</th>\n",
       "      <td>-1.215611</td>\n",
       "      <td>-2.367242</td>\n",
       "      <td>-6.206014</td>\n",
       "      <td>-10.031990</td>\n",
       "      <td>-10.044786</td>\n",
       "      <td>-12.603967</td>\n",
       "      <td>-9.609725</td>\n",
       "      <td>-16.442738</td>\n",
       "      <td>-20.882917</td>\n",
       "      <td>-19.513756</td>\n",
       "      <td>...</td>\n",
       "      <td>-12.066924</td>\n",
       "      <td>-11.467130</td>\n",
       "      <td>-11.893300</td>\n",
       "      <td>-10.962039</td>\n",
       "      <td>-9.178439</td>\n",
       "      <td>-9.738774</td>\n",
       "      <td>-10.212296</td>\n",
       "      <td>401.50</td>\n",
       "      <td>390.75</td>\n",
       "      <td>0</td>\n",
       "    </tr>\n",
       "  </tbody>\n",
       "</table>\n",
       "<p>5 rows × 3543 columns</p>\n",
       "</div>"
      ],
      "text/plain": [
       "          0         1         2          3          4          5          6  \\\n",
       "0  0.314465  0.754717  1.132075   1.698113   0.503145  -0.628931  -4.402516   \n",
       "1  0.441640  0.820189  1.388013   0.189274  -0.946372  -4.731861  -8.504732   \n",
       "2  0.380228  0.950570 -0.253485  -1.394170  -5.196451  -8.986058  -8.998733   \n",
       "3  0.572519 -0.636132 -1.781170  -5.597964  -9.402036  -9.414758 -11.959288   \n",
       "4 -1.215611 -2.367242 -6.206014 -10.031990 -10.044786 -12.603967  -9.609725   \n",
       "\n",
       "           7          8          9  ...       3533       3534       3535  \\\n",
       "0  -8.163522  -8.176101 -10.691824  ... -12.721417 -12.399356 -11.714976   \n",
       "1  -8.517350 -11.041009  -8.088328  ... -11.930725 -11.249198 -11.449647   \n",
       "2 -11.533587  -8.567807 -15.335868  ...  -9.071614  -9.268139 -11.626444   \n",
       "3  -8.982188 -15.776081 -20.190840  ...  -9.431586 -11.793418 -11.195087   \n",
       "4 -16.442738 -20.882917 -19.513756  ... -12.066924 -11.467130 -11.893300   \n",
       "\n",
       "        3536       3537       3538       3539   Close     Xth  result  \n",
       "0 -11.916264 -14.331723 -13.719807 -14.154589  407.90  397.50       0  \n",
       "1 -13.855035 -13.245670 -13.678640 -12.732521  406.25  396.25       0  \n",
       "2 -11.029007 -11.453502 -10.525902  -8.749312  409.00  394.50       0  \n",
       "3 -11.620217 -10.691230  -8.911982  -9.470949  406.30  393.00       0  \n",
       "4 -10.962039  -9.178439  -9.738774 -10.212296  401.50  390.75       0  \n",
       "\n",
       "[5 rows x 3543 columns]"
      ]
     },
     "execution_count": 28,
     "metadata": {},
     "output_type": "execute_result"
    }
   ],
   "source": [
    "df6.head()"
   ]
  },
  {
   "cell_type": "code",
   "execution_count": 29,
   "id": "e326d2d9",
   "metadata": {
    "colab": {
     "base_uri": "https://localhost:8080/",
     "height": 299
    },
    "id": "e326d2d9",
    "outputId": "0bf59cc3-5a3a-4ab8-a839-fba1cd654cc7"
   },
   "outputs": [
    {
     "data": {
      "text/html": [
       "<div>\n",
       "<style scoped>\n",
       "    .dataframe tbody tr th:only-of-type {\n",
       "        vertical-align: middle;\n",
       "    }\n",
       "\n",
       "    .dataframe tbody tr th {\n",
       "        vertical-align: top;\n",
       "    }\n",
       "\n",
       "    .dataframe thead th {\n",
       "        text-align: right;\n",
       "    }\n",
       "</style>\n",
       "<table border=\"1\" class=\"dataframe\">\n",
       "  <thead>\n",
       "    <tr style=\"text-align: right;\">\n",
       "      <th></th>\n",
       "      <th>0</th>\n",
       "      <th>1</th>\n",
       "      <th>2</th>\n",
       "      <th>3</th>\n",
       "      <th>4</th>\n",
       "      <th>5</th>\n",
       "      <th>6</th>\n",
       "      <th>7</th>\n",
       "      <th>8</th>\n",
       "      <th>9</th>\n",
       "      <th>...</th>\n",
       "      <th>3531</th>\n",
       "      <th>3532</th>\n",
       "      <th>3533</th>\n",
       "      <th>3534</th>\n",
       "      <th>3535</th>\n",
       "      <th>3536</th>\n",
       "      <th>3537</th>\n",
       "      <th>3538</th>\n",
       "      <th>3539</th>\n",
       "      <th>result</th>\n",
       "    </tr>\n",
       "  </thead>\n",
       "  <tbody>\n",
       "    <tr>\n",
       "      <th>0</th>\n",
       "      <td>0.314465</td>\n",
       "      <td>0.754717</td>\n",
       "      <td>1.132075</td>\n",
       "      <td>1.698113</td>\n",
       "      <td>0.503145</td>\n",
       "      <td>-0.628931</td>\n",
       "      <td>-4.402516</td>\n",
       "      <td>-8.163522</td>\n",
       "      <td>-8.176101</td>\n",
       "      <td>-10.691824</td>\n",
       "      <td>...</td>\n",
       "      <td>-13.800322</td>\n",
       "      <td>-13.172303</td>\n",
       "      <td>-12.721417</td>\n",
       "      <td>-12.399356</td>\n",
       "      <td>-11.714976</td>\n",
       "      <td>-11.916264</td>\n",
       "      <td>-14.331723</td>\n",
       "      <td>-13.719807</td>\n",
       "      <td>-14.154589</td>\n",
       "      <td>0</td>\n",
       "    </tr>\n",
       "    <tr>\n",
       "      <th>1</th>\n",
       "      <td>0.441640</td>\n",
       "      <td>0.820189</td>\n",
       "      <td>1.388013</td>\n",
       "      <td>0.189274</td>\n",
       "      <td>-0.946372</td>\n",
       "      <td>-4.731861</td>\n",
       "      <td>-8.504732</td>\n",
       "      <td>-8.517350</td>\n",
       "      <td>-11.041009</td>\n",
       "      <td>-8.088328</td>\n",
       "      <td>...</td>\n",
       "      <td>-12.700449</td>\n",
       "      <td>-12.251443</td>\n",
       "      <td>-11.930725</td>\n",
       "      <td>-11.249198</td>\n",
       "      <td>-11.449647</td>\n",
       "      <td>-13.855035</td>\n",
       "      <td>-13.245670</td>\n",
       "      <td>-13.678640</td>\n",
       "      <td>-12.732521</td>\n",
       "      <td>0</td>\n",
       "    </tr>\n",
       "    <tr>\n",
       "      <th>2</th>\n",
       "      <td>0.380228</td>\n",
       "      <td>0.950570</td>\n",
       "      <td>-0.253485</td>\n",
       "      <td>-1.394170</td>\n",
       "      <td>-5.196451</td>\n",
       "      <td>-8.986058</td>\n",
       "      <td>-8.998733</td>\n",
       "      <td>-11.533587</td>\n",
       "      <td>-8.567807</td>\n",
       "      <td>-15.335868</td>\n",
       "      <td>...</td>\n",
       "      <td>-10.054241</td>\n",
       "      <td>-9.739800</td>\n",
       "      <td>-9.071614</td>\n",
       "      <td>-9.268139</td>\n",
       "      <td>-11.626444</td>\n",
       "      <td>-11.029007</td>\n",
       "      <td>-11.453502</td>\n",
       "      <td>-10.525902</td>\n",
       "      <td>-8.749312</td>\n",
       "      <td>0</td>\n",
       "    </tr>\n",
       "    <tr>\n",
       "      <th>3</th>\n",
       "      <td>0.572519</td>\n",
       "      <td>-0.636132</td>\n",
       "      <td>-1.781170</td>\n",
       "      <td>-5.597964</td>\n",
       "      <td>-9.402036</td>\n",
       "      <td>-9.414758</td>\n",
       "      <td>-11.959288</td>\n",
       "      <td>-8.982188</td>\n",
       "      <td>-15.776081</td>\n",
       "      <td>-20.190840</td>\n",
       "      <td>...</td>\n",
       "      <td>-9.903952</td>\n",
       "      <td>-9.234766</td>\n",
       "      <td>-9.431586</td>\n",
       "      <td>-11.793418</td>\n",
       "      <td>-11.195087</td>\n",
       "      <td>-11.620217</td>\n",
       "      <td>-10.691230</td>\n",
       "      <td>-8.911982</td>\n",
       "      <td>-9.470949</td>\n",
       "      <td>0</td>\n",
       "    </tr>\n",
       "    <tr>\n",
       "      <th>4</th>\n",
       "      <td>-1.215611</td>\n",
       "      <td>-2.367242</td>\n",
       "      <td>-6.206014</td>\n",
       "      <td>-10.031990</td>\n",
       "      <td>-10.044786</td>\n",
       "      <td>-12.603967</td>\n",
       "      <td>-9.609725</td>\n",
       "      <td>-16.442738</td>\n",
       "      <td>-20.882917</td>\n",
       "      <td>-19.513756</td>\n",
       "      <td>...</td>\n",
       "      <td>-9.502012</td>\n",
       "      <td>-9.699313</td>\n",
       "      <td>-12.066924</td>\n",
       "      <td>-11.467130</td>\n",
       "      <td>-11.893300</td>\n",
       "      <td>-10.962039</td>\n",
       "      <td>-9.178439</td>\n",
       "      <td>-9.738774</td>\n",
       "      <td>-10.212296</td>\n",
       "      <td>0</td>\n",
       "    </tr>\n",
       "  </tbody>\n",
       "</table>\n",
       "<p>5 rows × 3541 columns</p>\n",
       "</div>"
      ],
      "text/plain": [
       "          0         1         2          3          4          5          6  \\\n",
       "0  0.314465  0.754717  1.132075   1.698113   0.503145  -0.628931  -4.402516   \n",
       "1  0.441640  0.820189  1.388013   0.189274  -0.946372  -4.731861  -8.504732   \n",
       "2  0.380228  0.950570 -0.253485  -1.394170  -5.196451  -8.986058  -8.998733   \n",
       "3  0.572519 -0.636132 -1.781170  -5.597964  -9.402036  -9.414758 -11.959288   \n",
       "4 -1.215611 -2.367242 -6.206014 -10.031990 -10.044786 -12.603967  -9.609725   \n",
       "\n",
       "           7          8          9  ...       3531       3532       3533  \\\n",
       "0  -8.163522  -8.176101 -10.691824  ... -13.800322 -13.172303 -12.721417   \n",
       "1  -8.517350 -11.041009  -8.088328  ... -12.700449 -12.251443 -11.930725   \n",
       "2 -11.533587  -8.567807 -15.335868  ... -10.054241  -9.739800  -9.071614   \n",
       "3  -8.982188 -15.776081 -20.190840  ...  -9.903952  -9.234766  -9.431586   \n",
       "4 -16.442738 -20.882917 -19.513756  ...  -9.502012  -9.699313 -12.066924   \n",
       "\n",
       "        3534       3535       3536       3537       3538       3539  result  \n",
       "0 -12.399356 -11.714976 -11.916264 -14.331723 -13.719807 -14.154589       0  \n",
       "1 -11.249198 -11.449647 -13.855035 -13.245670 -13.678640 -12.732521       0  \n",
       "2  -9.268139 -11.626444 -11.029007 -11.453502 -10.525902  -8.749312       0  \n",
       "3 -11.793418 -11.195087 -11.620217 -10.691230  -8.911982  -9.470949       0  \n",
       "4 -11.467130 -11.893300 -10.962039  -9.178439  -9.738774 -10.212296       0  \n",
       "\n",
       "[5 rows x 3541 columns]"
      ]
     },
     "execution_count": 29,
     "metadata": {},
     "output_type": "execute_result"
    }
   ],
   "source": [
    "df7 = df6.drop(['Close','Xth'],axis=1)\n",
    "df7.head()"
   ]
  },
  {
   "cell_type": "code",
   "execution_count": 30,
   "id": "0069ff48",
   "metadata": {
    "id": "0069ff48"
   },
   "outputs": [],
   "source": [
    "import pandas as pd\n",
    "from matplotlib import pyplot as plt\n",
    "import numpy as np\n",
    "%matplotlib inline"
   ]
  },
  {
   "cell_type": "code",
   "execution_count": 31,
   "id": "3bee952a",
   "metadata": {
    "id": "3bee952a"
   },
   "outputs": [],
   "source": [
    "X = df7.drop('result',axis='columns')\n",
    "y = df7[\"result\"]\n",
    "\n",
    "from sklearn.model_selection import train_test_split\n",
    "X_train, X_test, y_train, y_test = train_test_split(X,y,test_size=0.2,random_state=5)"
   ]
  },
  {
   "cell_type": "code",
   "execution_count": 32,
   "id": "98a31311",
   "metadata": {
    "colab": {
     "base_uri": "https://localhost:8080/"
    },
    "id": "98a31311",
    "outputId": "3f34572d-8d8a-491d-e6ae-0947ffc38a0e"
   },
   "outputs": [
    {
     "data": {
      "text/plain": [
       "(4972, 3540)"
      ]
     },
     "execution_count": 32,
     "metadata": {},
     "output_type": "execute_result"
    }
   ],
   "source": [
    "X_train.shape"
   ]
  },
  {
   "cell_type": "code",
   "execution_count": 33,
   "id": "338f935c",
   "metadata": {
    "colab": {
     "base_uri": "https://localhost:8080/"
    },
    "id": "338f935c",
    "outputId": "188b129a-7c02-4f86-c67a-ebabbd806989"
   },
   "outputs": [
    {
     "data": {
      "text/plain": [
       "(1243, 3540)"
      ]
     },
     "execution_count": 33,
     "metadata": {},
     "output_type": "execute_result"
    }
   ],
   "source": [
    "X_test.shape"
   ]
  },
  {
   "cell_type": "code",
   "execution_count": 50,
   "id": "ed063454",
   "metadata": {},
   "outputs": [
    {
     "data": {
      "text/plain": [
       "(3540,)"
      ]
     },
     "execution_count": 50,
     "metadata": {},
     "output_type": "execute_result"
    }
   ],
   "source": [
    "X_test.iloc[0].shape"
   ]
  },
  {
   "cell_type": "code",
   "execution_count": 46,
   "id": "LTzxOZpGcERP",
   "metadata": {
    "id": "LTzxOZpGcERP"
   },
   "outputs": [],
   "source": [
    "aess = X_test.shape[1]"
   ]
  },
  {
   "cell_type": "code",
   "execution_count": 35,
   "id": "222e8eff",
   "metadata": {
    "id": "222e8eff"
   },
   "outputs": [],
   "source": [
    "import numpy as np\n",
    "\n",
    "X_train1 = np.asarray(X_train).astype(np.float32)\n",
    "X_test1 = np.asarray(X_test).astype(np.float32)\n",
    "y_train1 = np.asarray(y_train).astype(np.float32)\n",
    "y_test1 = np.asarray(y_test).astype(np.float32)"
   ]
  },
  {
   "cell_type": "code",
   "execution_count": 36,
   "id": "71dfd58f",
   "metadata": {
    "colab": {
     "base_uri": "https://localhost:8080/"
    },
    "id": "71dfd58f",
    "outputId": "f00ac31b-a311-468b-80bf-069d97e12fb6"
   },
   "outputs": [
    {
     "name": "stdout",
     "output_type": "stream",
     "text": [
      "156/156 [==============================] - 14s 86ms/step - loss: 0.2656 - accuracy: 0.9274\n"
     ]
    },
    {
     "data": {
      "text/plain": [
       "<keras.callbacks.History at 0x1b5661b0fd0>"
      ]
     },
     "execution_count": 36,
     "metadata": {},
     "output_type": "execute_result"
    }
   ],
   "source": [
    "import tensorflow as tf\n",
    "from tensorflow import keras\n",
    "\n",
    "\n",
    "model = keras.Sequential([\n",
    "    keras.layers.Dense(aess, input_shape=(aess,), activation='sigmoid'),\n",
    "    keras.layers.Dense(800, activation='relu'),\n",
    "    keras.layers.Dense(240, activation='relu'),\n",
    "    keras.layers.Dense(65, activation='relu'),\n",
    "    keras.layers.Dense(15, activation='relu'),\n",
    "    keras.layers.Dense(1, activation='sigmoid')\n",
    "])\n",
    "\n",
    "# opt = keras.optimizers.Adam(learning_rate=0.01)\n",
    "\n",
    "model.compile(optimizer='adam',\n",
    "              loss='binary_crossentropy',\n",
    "              metrics=['accuracy'])\n",
    "\n",
    "model.fit(X_train1, y_train1, epochs=eps)"
   ]
  },
  {
   "cell_type": "code",
   "execution_count": 37,
   "id": "JnEWToraP2KN",
   "metadata": {
    "colab": {
     "base_uri": "https://localhost:8080/"
    },
    "id": "JnEWToraP2KN",
    "outputId": "c3755ada-40d6-4d9f-d434-0112bb3f7ef9"
   },
   "outputs": [
    {
     "name": "stdout",
     "output_type": "stream",
     "text": [
      "39/39 [==============================] - 0s 9ms/step - loss: 0.2771 - accuracy: 0.9348\n"
     ]
    },
    {
     "data": {
      "text/plain": [
       "[0.27708691358566284, 0.9348350763320923]"
      ]
     },
     "execution_count": 37,
     "metadata": {},
     "output_type": "execute_result"
    }
   ],
   "source": [
    "model.evaluate(X_test1, y_test1)"
   ]
  },
  {
   "cell_type": "code",
   "execution_count": 38,
   "id": "kQTxKoplQpru",
   "metadata": {
    "colab": {
     "base_uri": "https://localhost:8080/"
    },
    "id": "kQTxKoplQpru",
    "outputId": "81c4c0fb-83c0-4245-d07e-1a642154489d"
   },
   "outputs": [
    {
     "name": "stdout",
     "output_type": "stream",
     "text": [
      "39/39 [==============================] - 0s 10ms/step\n"
     ]
    },
    {
     "data": {
      "text/plain": [
       "array([[0.02088815],\n",
       "       [0.00796301],\n",
       "       [0.02078326],\n",
       "       [0.01405675],\n",
       "       [0.01053896]], dtype=float32)"
      ]
     },
     "execution_count": 38,
     "metadata": {},
     "output_type": "execute_result"
    }
   ],
   "source": [
    "yp = model.predict(X_test)\n",
    "yp[:5]"
   ]
  },
  {
   "cell_type": "code",
   "execution_count": 39,
   "id": "dTNySgZmQiJn",
   "metadata": {
    "id": "dTNySgZmQiJn"
   },
   "outputs": [],
   "source": [
    "y_pred = []\n",
    "for element in yp:\n",
    "    if element > 0.5:\n",
    "        y_pred.append(1)\n",
    "    else:\n",
    "        y_pred.append(0)"
   ]
  },
  {
   "cell_type": "code",
   "execution_count": 40,
   "id": "_Pv0vQW_QboG",
   "metadata": {
    "colab": {
     "base_uri": "https://localhost:8080/"
    },
    "id": "_Pv0vQW_QboG",
    "outputId": "b0e60373-32fa-43b8-d28c-a5b6b5692042"
   },
   "outputs": [
    {
     "name": "stdout",
     "output_type": "stream",
     "text": [
      "              precision    recall  f1-score   support\n",
      "\n",
      "         0.0       0.93      1.00      0.97      1162\n",
      "         1.0       0.00      0.00      0.00        81\n",
      "\n",
      "    accuracy                           0.93      1243\n",
      "   macro avg       0.47      0.50      0.48      1243\n",
      "weighted avg       0.87      0.93      0.90      1243\n",
      "\n"
     ]
    },
    {
     "name": "stderr",
     "output_type": "stream",
     "text": [
      "C:\\Users\\abhij\\anaconda3\\lib\\site-packages\\sklearn\\metrics\\_classification.py:1318: UndefinedMetricWarning: Precision and F-score are ill-defined and being set to 0.0 in labels with no predicted samples. Use `zero_division` parameter to control this behavior.\n",
      "  _warn_prf(average, modifier, msg_start, len(result))\n",
      "C:\\Users\\abhij\\anaconda3\\lib\\site-packages\\sklearn\\metrics\\_classification.py:1318: UndefinedMetricWarning: Precision and F-score are ill-defined and being set to 0.0 in labels with no predicted samples. Use `zero_division` parameter to control this behavior.\n",
      "  _warn_prf(average, modifier, msg_start, len(result))\n",
      "C:\\Users\\abhij\\anaconda3\\lib\\site-packages\\sklearn\\metrics\\_classification.py:1318: UndefinedMetricWarning: Precision and F-score are ill-defined and being set to 0.0 in labels with no predicted samples. Use `zero_division` parameter to control this behavior.\n",
      "  _warn_prf(average, modifier, msg_start, len(result))\n"
     ]
    }
   ],
   "source": [
    "from sklearn.metrics import confusion_matrix , classification_report\n",
    "\n",
    "print(classification_report(y_test1,y_pred))"
   ]
  },
  {
   "cell_type": "code",
   "execution_count": 41,
   "id": "KdNpNDi1QweS",
   "metadata": {
    "colab": {
     "base_uri": "https://localhost:8080/",
     "height": 459
    },
    "id": "KdNpNDi1QweS",
    "outputId": "1532d126-8738-43bd-e0c3-cc0c6b096b70",
    "scrolled": true
   },
   "outputs": [
    {
     "data": {
      "text/plain": [
       "Text(95.72222222222221, 0.5, 'Truth')"
      ]
     },
     "execution_count": 41,
     "metadata": {},
     "output_type": "execute_result"
    },
    {
     "data": {
      "image/png": "[encoded data removed]",
      "text/plain": [
       "<Figure size 1000x700 with 2 Axes>"
      ]
     },
     "metadata": {},
     "output_type": "display_data"
    }
   ],
   "source": [
    "import seaborn as sn\n",
    "cm = tf.math.confusion_matrix(labels=y_test1,predictions=y_pred)\n",
    "\n",
    "plt.figure(figsize = (10,7))\n",
    "sn.heatmap(cm, annot=True, fmt='d')\n",
    "plt.xlabel('Predicted')\n",
    "plt.ylabel('Truth')"
   ]
  },
  {
   "cell_type": "code",
   "execution_count": 42,
   "id": "7c45bb3b",
   "metadata": {},
   "outputs": [],
   "source": [
    "import joblib"
   ]
  },
  {
   "cell_type": "code",
   "execution_count": 43,
   "id": "ee1ccdb9",
   "metadata": {},
   "outputs": [
    {
     "data": {
      "text/plain": [
       "['model33.pkl']"
      ]
     },
     "execution_count": 43,
     "metadata": {},
     "output_type": "execute_result"
    }
   ],
   "source": [
    "joblib.dump(model, 'model33.pkl')"
   ]
  }
 ],
 "metadata": {
  "colab": {
   "provenance": []
  },
  "kernelspec": {
   "display_name": "Python 3 (ipykernel)",
   "language": "python",
   "name": "python3"
  },
  "language_info": {
   "codemirror_mode": {
    "name": "ipython",
    "version": 3
   },
   "file_extension": ".py",
   "mimetype": "text/x-python",
   "name": "python",
   "nbconvert_exporter": "python",
   "pygments_lexer": "ipython3",
   "version": "3.9.13"
  }
 },
 "nbformat": 4,
 "nbformat_minor": 5
}
