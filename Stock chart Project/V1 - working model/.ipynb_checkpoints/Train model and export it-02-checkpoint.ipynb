{
 "cells": [
  {
   "cell_type": "code",
   "execution_count": 1,
   "id": "2839481b",
   "metadata": {
    "id": "2839481b"
   },
   "outputs": [],
   "source": [
    "import pandas as pd\n",
    "import numpy as np"
   ]
  },
  {
   "cell_type": "code",
   "execution_count": 2,
   "id": "730c9f55",
   "metadata": {
    "colab": {
     "base_uri": "https://localhost:8080/",
     "height": 354
    },
    "id": "730c9f55",
    "outputId": "f8b896f1-83a1-4368-d248-ad2849ea1c1a"
   },
   "outputs": [
    {
     "data": {
      "text/html": [
       "<div>\n",
       "<style scoped>\n",
       "    .dataframe tbody tr th:only-of-type {\n",
       "        vertical-align: middle;\n",
       "    }\n",
       "\n",
       "    .dataframe tbody tr th {\n",
       "        vertical-align: top;\n",
       "    }\n",
       "\n",
       "    .dataframe thead th {\n",
       "        text-align: right;\n",
       "    }\n",
       "</style>\n",
       "<table border=\"1\" class=\"dataframe\">\n",
       "  <thead>\n",
       "    <tr style=\"text-align: right;\">\n",
       "      <th></th>\n",
       "      <th>Date</th>\n",
       "      <th>Symbol</th>\n",
       "      <th>Series</th>\n",
       "      <th>Prev Close</th>\n",
       "      <th>Open</th>\n",
       "      <th>High</th>\n",
       "      <th>Low</th>\n",
       "      <th>Last</th>\n",
       "      <th>Close</th>\n",
       "      <th>VWAP</th>\n",
       "      <th>Volume</th>\n",
       "      <th>Turnover</th>\n",
       "      <th>Trades</th>\n",
       "      <th>Deliverable Volume</th>\n",
       "      <th>%Deliverble</th>\n",
       "    </tr>\n",
       "  </thead>\n",
       "  <tbody>\n",
       "    <tr>\n",
       "      <th>0</th>\n",
       "      <td>1996-01-01</td>\n",
       "      <td>INFOSYSTCH</td>\n",
       "      <td>EQ</td>\n",
       "      <td>408.00</td>\n",
       "      <td>407.0</td>\n",
       "      <td>407.9</td>\n",
       "      <td>405.00</td>\n",
       "      <td>NaN</td>\n",
       "      <td>407.90</td>\n",
       "      <td>406.48</td>\n",
       "      <td>400</td>\n",
       "      <td>1.625900e+10</td>\n",
       "      <td>NaN</td>\n",
       "      <td>NaN</td>\n",
       "      <td>NaN</td>\n",
       "    </tr>\n",
       "    <tr>\n",
       "      <th>1</th>\n",
       "      <td>1996-01-02</td>\n",
       "      <td>INFOSYSTCH</td>\n",
       "      <td>EQ</td>\n",
       "      <td>407.90</td>\n",
       "      <td>407.0</td>\n",
       "      <td>409.0</td>\n",
       "      <td>406.25</td>\n",
       "      <td>NaN</td>\n",
       "      <td>406.25</td>\n",
       "      <td>407.58</td>\n",
       "      <td>400</td>\n",
       "      <td>1.630300e+10</td>\n",
       "      <td>NaN</td>\n",
       "      <td>NaN</td>\n",
       "      <td>NaN</td>\n",
       "    </tr>\n",
       "    <tr>\n",
       "      <th>2</th>\n",
       "      <td>1996-01-03</td>\n",
       "      <td>INFOSYSTCH</td>\n",
       "      <td>EQ</td>\n",
       "      <td>406.25</td>\n",
       "      <td>409.0</td>\n",
       "      <td>409.0</td>\n",
       "      <td>409.00</td>\n",
       "      <td>NaN</td>\n",
       "      <td>409.00</td>\n",
       "      <td>409.00</td>\n",
       "      <td>200</td>\n",
       "      <td>8.180000e+09</td>\n",
       "      <td>NaN</td>\n",
       "      <td>NaN</td>\n",
       "      <td>NaN</td>\n",
       "    </tr>\n",
       "    <tr>\n",
       "      <th>3</th>\n",
       "      <td>1996-01-04</td>\n",
       "      <td>INFOSYSTCH</td>\n",
       "      <td>EQ</td>\n",
       "      <td>409.00</td>\n",
       "      <td>405.0</td>\n",
       "      <td>407.0</td>\n",
       "      <td>405.00</td>\n",
       "      <td>NaN</td>\n",
       "      <td>406.30</td>\n",
       "      <td>405.65</td>\n",
       "      <td>600</td>\n",
       "      <td>2.433900e+10</td>\n",
       "      <td>NaN</td>\n",
       "      <td>NaN</td>\n",
       "      <td>NaN</td>\n",
       "    </tr>\n",
       "    <tr>\n",
       "      <th>4</th>\n",
       "      <td>1996-01-05</td>\n",
       "      <td>INFOSYSTCH</td>\n",
       "      <td>EQ</td>\n",
       "      <td>406.30</td>\n",
       "      <td>401.5</td>\n",
       "      <td>401.5</td>\n",
       "      <td>401.50</td>\n",
       "      <td>NaN</td>\n",
       "      <td>401.50</td>\n",
       "      <td>401.50</td>\n",
       "      <td>100</td>\n",
       "      <td>4.015000e+09</td>\n",
       "      <td>NaN</td>\n",
       "      <td>NaN</td>\n",
       "      <td>NaN</td>\n",
       "    </tr>\n",
       "  </tbody>\n",
       "</table>\n",
       "</div>"
      ],
      "text/plain": [
       "         Date      Symbol Series  Prev Close   Open   High     Low  Last  \\\n",
       "0  1996-01-01  INFOSYSTCH     EQ      408.00  407.0  407.9  405.00   NaN   \n",
       "1  1996-01-02  INFOSYSTCH     EQ      407.90  407.0  409.0  406.25   NaN   \n",
       "2  1996-01-03  INFOSYSTCH     EQ      406.25  409.0  409.0  409.00   NaN   \n",
       "3  1996-01-04  INFOSYSTCH     EQ      409.00  405.0  407.0  405.00   NaN   \n",
       "4  1996-01-05  INFOSYSTCH     EQ      406.30  401.5  401.5  401.50   NaN   \n",
       "\n",
       "    Close    VWAP  Volume      Turnover  Trades  Deliverable Volume  \\\n",
       "0  407.90  406.48     400  1.625900e+10     NaN                 NaN   \n",
       "1  406.25  407.58     400  1.630300e+10     NaN                 NaN   \n",
       "2  409.00  409.00     200  8.180000e+09     NaN                 NaN   \n",
       "3  406.30  405.65     600  2.433900e+10     NaN                 NaN   \n",
       "4  401.50  401.50     100  4.015000e+09     NaN                 NaN   \n",
       "\n",
       "   %Deliverble  \n",
       "0          NaN  \n",
       "1          NaN  \n",
       "2          NaN  \n",
       "3          NaN  \n",
       "4          NaN  "
      ]
     },
     "execution_count": 2,
     "metadata": {},
     "output_type": "execute_result"
    }
   ],
   "source": [
    "df = pd.read_csv(\"INFY.csv\")\n",
    "df.head(5)"
   ]
  },
  {
   "cell_type": "code",
   "execution_count": 3,
   "id": "f6129a7c-8e06-4219-89b4-c8d514fdbe46",
   "metadata": {
    "colab": {
     "base_uri": "https://localhost:8080/"
    },
    "id": "f6129a7c-8e06-4219-89b4-c8d514fdbe46",
    "outputId": "0d482e73-4877-40a2-f33f-a30ca2d3af73"
   },
   "outputs": [
    {
     "data": {
      "text/plain": [
       "Index(['Date', 'Symbol', 'Series', 'Prev Close', 'Open', 'High', 'Low', 'Last',\n",
       "       'Close', 'VWAP', 'Volume', 'Turnover', 'Trades', 'Deliverable Volume',\n",
       "       '%Deliverble'],\n",
       "      dtype='object')"
      ]
     },
     "execution_count": 3,
     "metadata": {},
     "output_type": "execute_result"
    }
   ],
   "source": [
    "df.columns"
   ]
  },
  {
   "cell_type": "code",
   "execution_count": 4,
   "id": "971b0ab3-ba91-4e75-9fdc-c0b6e1d1e532",
   "metadata": {
    "colab": {
     "base_uri": "https://localhost:8080/"
    },
    "id": "971b0ab3-ba91-4e75-9fdc-c0b6e1d1e532",
    "outputId": "07235476-7c93-40ef-e2ec-def456cc1c47"
   },
   "outputs": [
    {
     "data": {
      "text/plain": [
       "Date                   object\n",
       "Symbol                 object\n",
       "Series                 object\n",
       "Prev Close            float64\n",
       "Open                  float64\n",
       "High                  float64\n",
       "Low                   float64\n",
       "Last                  float64\n",
       "Close                 float64\n",
       "VWAP                  float64\n",
       "Volume                  int64\n",
       "Turnover              float64\n",
       "Trades                float64\n",
       "Deliverable Volume    float64\n",
       "%Deliverble           float64\n",
       "dtype: object"
      ]
     },
     "execution_count": 4,
     "metadata": {},
     "output_type": "execute_result"
    }
   ],
   "source": [
    "df.dtypes"
   ]
  },
  {
   "cell_type": "code",
   "execution_count": 5,
   "id": "d9eda3ec-8ecd-4369-a585-986138415993",
   "metadata": {
    "colab": {
     "base_uri": "https://localhost:8080/"
    },
    "id": "d9eda3ec-8ecd-4369-a585-986138415993",
    "outputId": "f2d90bdc-fefb-4e45-bd2b-29eba3d75142"
   },
   "outputs": [],
   "source": [
    "#df.info()"
   ]
  },
  {
   "cell_type": "code",
   "execution_count": 6,
   "id": "ea23ece4-5c28-4ec8-a223-a29261977f1f",
   "metadata": {
    "colab": {
     "base_uri": "https://localhost:8080/"
    },
    "id": "ea23ece4-5c28-4ec8-a223-a29261977f1f",
    "outputId": "06ea08b0-8dde-462d-e417-c611a9419b06"
   },
   "outputs": [
    {
     "data": {
      "text/plain": [
       "(6348, 2)"
      ]
     },
     "execution_count": 6,
     "metadata": {},
     "output_type": "execute_result"
    }
   ],
   "source": [
    "df1 = df[['Date','Close']]\n",
    "df1.shape"
   ]
  },
  {
   "cell_type": "code",
   "execution_count": 7,
   "id": "0ecfac7d-8fa0-4b47-97a0-d78a531d58de",
   "metadata": {
    "colab": {
     "base_uri": "https://localhost:8080/"
    },
    "id": "0ecfac7d-8fa0-4b47-97a0-d78a531d58de",
    "outputId": "f629f426-9932-4f7f-d692-47137b9a19a2",
    "scrolled": true
   },
   "outputs": [
    {
     "name": "stdout",
     "output_type": "stream",
     "text": [
      "6348\n"
     ]
    }
   ],
   "source": [
    "pred_days = 15\n",
    "reward = 10\n",
    "risk =1\n",
    "days_shape = 60\n",
    "eps = 100\n",
    "\n",
    "df1 = df1.iloc[::-1] \n",
    "df1['Xth'] = df1['Close'].shift(-1* pred_days)\n",
    "print(len(df1.Close))"
   ]
  },
  {
   "cell_type": "code",
   "execution_count": 8,
   "id": "c3bcea87",
   "metadata": {},
   "outputs": [
    {
     "data": {
      "text/html": [
       "<div>\n",
       "<style scoped>\n",
       "    .dataframe tbody tr th:only-of-type {\n",
       "        vertical-align: middle;\n",
       "    }\n",
       "\n",
       "    .dataframe tbody tr th {\n",
       "        vertical-align: top;\n",
       "    }\n",
       "\n",
       "    .dataframe thead th {\n",
       "        text-align: right;\n",
       "    }\n",
       "</style>\n",
       "<table border=\"1\" class=\"dataframe\">\n",
       "  <thead>\n",
       "    <tr style=\"text-align: right;\">\n",
       "      <th></th>\n",
       "      <th>Date</th>\n",
       "      <th>Close</th>\n",
       "      <th>Xth</th>\n",
       "    </tr>\n",
       "  </thead>\n",
       "  <tbody>\n",
       "    <tr>\n",
       "      <th>0</th>\n",
       "      <td>2021-07-01</td>\n",
       "      <td>1560.40</td>\n",
       "      <td>1424.30</td>\n",
       "    </tr>\n",
       "    <tr>\n",
       "      <th>1</th>\n",
       "      <td>2021-06-30</td>\n",
       "      <td>1580.80</td>\n",
       "      <td>1415.30</td>\n",
       "    </tr>\n",
       "    <tr>\n",
       "      <th>2</th>\n",
       "      <td>2021-06-29</td>\n",
       "      <td>1563.05</td>\n",
       "      <td>1412.95</td>\n",
       "    </tr>\n",
       "    <tr>\n",
       "      <th>3</th>\n",
       "      <td>2021-06-28</td>\n",
       "      <td>1571.80</td>\n",
       "      <td>1389.65</td>\n",
       "    </tr>\n",
       "    <tr>\n",
       "      <th>4</th>\n",
       "      <td>2021-06-25</td>\n",
       "      <td>1574.20</td>\n",
       "      <td>1385.65</td>\n",
       "    </tr>\n",
       "    <tr>\n",
       "      <th>...</th>\n",
       "      <td>...</td>\n",
       "      <td>...</td>\n",
       "      <td>...</td>\n",
       "    </tr>\n",
       "    <tr>\n",
       "      <th>6343</th>\n",
       "      <td>1996-01-05</td>\n",
       "      <td>401.50</td>\n",
       "      <td>NaN</td>\n",
       "    </tr>\n",
       "    <tr>\n",
       "      <th>6344</th>\n",
       "      <td>1996-01-04</td>\n",
       "      <td>406.30</td>\n",
       "      <td>NaN</td>\n",
       "    </tr>\n",
       "    <tr>\n",
       "      <th>6345</th>\n",
       "      <td>1996-01-03</td>\n",
       "      <td>409.00</td>\n",
       "      <td>NaN</td>\n",
       "    </tr>\n",
       "    <tr>\n",
       "      <th>6346</th>\n",
       "      <td>1996-01-02</td>\n",
       "      <td>406.25</td>\n",
       "      <td>NaN</td>\n",
       "    </tr>\n",
       "    <tr>\n",
       "      <th>6347</th>\n",
       "      <td>1996-01-01</td>\n",
       "      <td>407.90</td>\n",
       "      <td>NaN</td>\n",
       "    </tr>\n",
       "  </tbody>\n",
       "</table>\n",
       "<p>6348 rows × 3 columns</p>\n",
       "</div>"
      ],
      "text/plain": [
       "            Date    Close      Xth\n",
       "0     2021-07-01  1560.40  1424.30\n",
       "1     2021-06-30  1580.80  1415.30\n",
       "2     2021-06-29  1563.05  1412.95\n",
       "3     2021-06-28  1571.80  1389.65\n",
       "4     2021-06-25  1574.20  1385.65\n",
       "...          ...      ...      ...\n",
       "6343  1996-01-05   401.50      NaN\n",
       "6344  1996-01-04   406.30      NaN\n",
       "6345  1996-01-03   409.00      NaN\n",
       "6346  1996-01-02   406.25      NaN\n",
       "6347  1996-01-01   407.90      NaN\n",
       "\n",
       "[6348 rows x 3 columns]"
      ]
     },
     "execution_count": 8,
     "metadata": {},
     "output_type": "execute_result"
    }
   ],
   "source": [
    "\n",
    "df1 = df1.reset_index(drop=True)\n",
    "df1"
   ]
  },
  {
   "cell_type": "code",
   "execution_count": 9,
   "id": "7bc9583c-a755-4b0c-a166-2ed557e8ad38",
   "metadata": {
    "colab": {
     "base_uri": "https://localhost:8080/",
     "height": 1000
    },
    "id": "7bc9583c-a755-4b0c-a166-2ed557e8ad38",
    "outputId": "1239918d-8fb3-4862-e5b6-133fb6d40cf5",
    "scrolled": true
   },
   "outputs": [
    {
     "name": "stdout",
     "output_type": "stream",
     "text": [
      "[array([0.63188935, 0.16604254, 1.64903217, ...,        nan,        nan,\n",
      "              nan]), array([0.79688268, 1.81233661, 1.93212782, ...,        nan,        nan,\n",
      "              nan]), array([2.43277399, 2.0949622 , 1.64903217, ...,        nan,        nan,\n",
      "              nan]), array([2.7136137 , 1.81233661, 2.42754521, ...,        nan,        nan,\n",
      "              nan]), array([2.43277399, 2.58955698, 1.82242825, ...,        nan,        nan,\n",
      "              nan]), array([3.2050832 , 1.98544478, 1.35885912, ...,        nan,        nan,\n",
      "              nan]), array([2.60478832, 1.52264538, 0.55911391, ...,        nan,        nan,\n",
      "              nan]), array([2.14491329, 0.72422808, 0.75728087, ...,        nan,        nan,\n",
      "              nan]), array([1.35154111, 0.92206599, 1.11115043, ...,        nan,        nan,\n",
      "              nan]), array([1.54812891, 1.27534798, 3.63424042, ...,        nan,        nan,\n",
      "              nan]), array([1.89917854, 3.79424857, 4.59322694, ...,        nan,        nan,\n",
      "              nan]), array([4.40216247, 4.75164276, 4.1367352 , ...,        nan,        nan,\n",
      "              nan]), array([5.35350699, 4.29590899, 5.21249867, ...,        nan,        nan,\n",
      "              nan]), array([4.90065295, 5.36988624, 5.37527867, ...,        nan,        nan,\n",
      "              nan]), array([5.96784385, 5.53239596, 5.16295693, ...,        nan,        nan,\n",
      "              nan]), array([6.12932669, 5.32042676, 5.91316041, ...,        nan,        nan,\n",
      "              nan]), array([5.9186969 , 6.06938458, 6.83322127, ...,        nan,        nan,\n",
      "              nan]), array([6.66292214, 6.98791776, 6.0830178 , ...,        nan,        nan,\n",
      "              nan]), array([7.5756512 , 6.23895994, 5.82469302, ...,        nan,        nan,\n",
      "              nan]), array([6.83142596, 5.98106409, 5.19480519, ...,        nan,        nan,\n",
      "              nan]), array([6.57515973, 5.35222214, 4.27474433, ...,        nan,        nan,\n",
      "              nan]), array([5.95029137, 4.43368897, 3.63424042, ...,        nan,        nan,\n",
      "              nan]), array([5.03756231, 3.79424857, 5.05679606, ...,        nan,        nan,\n",
      "              nan]), array([4.40216247, 5.21444217, 5.91316041, ...,        nan,        nan,\n",
      "              nan]), array([5.81338201, 6.06938458, 4.31013129, ...,        nan,        nan,\n",
      "              nan]), array([6.66292214, 4.46901717, 4.14735129, ...,        nan,        nan,\n",
      "              nan]), array([5.07266728, 4.30650745, 4.00580346, ...,        nan,        nan,\n",
      "              nan]), array([4.91118444, 4.16519466, 4.03057433, ...,        nan,        nan,\n",
      "              nan]), array([4.77076459, 4.1899244 , 4.56137868, ...,        nan,        nan,\n",
      "              nan]), array([4.79533806, 4.71984738, 4.91170954, ...,        nan,        nan,\n",
      "              nan]), array([5.32191252, 5.06959655, 5.60175519, ...,        nan,        nan,\n",
      "              nan]), array([5.66945166, 5.75849643, 4.3773665 , ...,        nan,        nan,\n",
      "              nan]), array([6.35399846, 4.53614075, 4.35967302, ...,        nan,        nan,\n",
      "              nan]), array([5.13936671, 4.51847665, 3.5670052 , ...,        nan,        nan,\n",
      "              nan]), array([5.12181422, 3.72712499, 4.18981563, ...,        nan,        nan,\n",
      "              nan]), array([4.33546303, 4.34890129, 3.69439824, ...,        nan,        nan,\n",
      "              nan]), array([4.9533104 , 3.85430651, 1.11822782, ...,        nan,        nan,\n",
      "              nan]), array([ 4.4618409 ,  1.28241362, -0.90590608, ...,         nan,\n",
      "               nan,         nan]), array([ 1.90619954, -0.73835936, -1.98874695, ...,         nan,\n",
      "               nan,         nan]), array([-0.1018044 , -1.81940225, -1.90381825, ...,         nan,\n",
      "               nan,         nan]), array([-1.17601629, -1.73461457, -1.22084999, ...,         nan,\n",
      "               nan,         nan]), array([-1.09176438, -1.05278033,  0.13447043, ...,         nan,\n",
      "               nan,         nan]), array([-0.41423857,  0.30028969,  0.21586043, ...,         nan,\n",
      "               nan,         nan]), array([0.93028154, 0.38154455, 1.96397608, ...,        nan,        nan,\n",
      "              nan]), array([1.01102296, 2.12675758, 3.17774868, ...,        nan,        nan,\n",
      "              nan]), array([2.74520817, 3.3385148 , 1.95689869, ...,        nan,        nan,\n",
      "              nan]), array([3.94930843, 2.11969194, 5.4318978 , ...,        nan,        nan,\n",
      "              nan]), array([2.73818718, 5.58892108, 5.60175519, ...,        nan,        nan,\n",
      "              nan]), array([6.18549463, 5.75849643, 4.18981563, ...,        nan,        nan,\n",
      "              nan]), array([6.35399846, 4.34890129, 2.93003999, ...,        nan,        nan,\n",
      "              nan]), array([4.9533104 , 3.09121741, 2.98312042, ...,        nan,        nan,\n",
      "              nan]), array([3.70357369, 3.14420971, 4.84801302, ...,        nan,        nan,\n",
      "              nan]), array([3.75623113, 5.00600579, 5.36820128, ...,        nan,        nan,\n",
      "              nan]), array([5.60626273, 5.52533032, 1.83658304, ...,        nan,        nan,\n",
      "              nan]), array([6.12230569, 1.99957606, 2.04890477, ...,        nan,        nan,\n",
      "              nan]), array([2.6188303 , 2.21154526, 2.78495347, ...,        nan,        nan,\n",
      "              nan]), array([2.82946009, 2.94637179, 2.69648608, ...,        nan,        nan,\n",
      "              nan]), array([3.55964333, 2.8580513 , 3.17067129, ...,        nan,        nan,\n",
      "              nan]), array([3.47188092, 3.33144916, 4.77016172, ...,        nan,        nan,\n",
      "              nan])]\n"
     ]
    },
    {
     "data": {
      "text/html": [
       "<div>\n",
       "<style scoped>\n",
       "    .dataframe tbody tr th:only-of-type {\n",
       "        vertical-align: middle;\n",
       "    }\n",
       "\n",
       "    .dataframe tbody tr th {\n",
       "        vertical-align: top;\n",
       "    }\n",
       "\n",
       "    .dataframe thead th {\n",
       "        text-align: right;\n",
       "    }\n",
       "</style>\n",
       "<table border=\"1\" class=\"dataframe\">\n",
       "  <thead>\n",
       "    <tr style=\"text-align: right;\">\n",
       "      <th></th>\n",
       "      <th>0</th>\n",
       "      <th>1</th>\n",
       "      <th>2</th>\n",
       "      <th>3</th>\n",
       "      <th>4</th>\n",
       "      <th>5</th>\n",
       "      <th>6</th>\n",
       "      <th>7</th>\n",
       "      <th>8</th>\n",
       "      <th>9</th>\n",
       "      <th>...</th>\n",
       "      <th>49</th>\n",
       "      <th>50</th>\n",
       "      <th>51</th>\n",
       "      <th>52</th>\n",
       "      <th>53</th>\n",
       "      <th>54</th>\n",
       "      <th>55</th>\n",
       "      <th>56</th>\n",
       "      <th>57</th>\n",
       "      <th>58</th>\n",
       "    </tr>\n",
       "  </thead>\n",
       "  <tbody>\n",
       "    <tr>\n",
       "      <th>0</th>\n",
       "      <td>0.631889</td>\n",
       "      <td>0.796883</td>\n",
       "      <td>2.432774</td>\n",
       "      <td>2.713614</td>\n",
       "      <td>2.432774</td>\n",
       "      <td>3.205083</td>\n",
       "      <td>2.604788</td>\n",
       "      <td>2.144913</td>\n",
       "      <td>1.351541</td>\n",
       "      <td>1.548129</td>\n",
       "      <td>...</td>\n",
       "      <td>6.353998</td>\n",
       "      <td>4.953310</td>\n",
       "      <td>3.703574</td>\n",
       "      <td>3.756231</td>\n",
       "      <td>5.606263</td>\n",
       "      <td>6.122306</td>\n",
       "      <td>2.618830</td>\n",
       "      <td>2.829460</td>\n",
       "      <td>3.559643</td>\n",
       "      <td>3.471881</td>\n",
       "    </tr>\n",
       "    <tr>\n",
       "      <th>1</th>\n",
       "      <td>0.166043</td>\n",
       "      <td>1.812337</td>\n",
       "      <td>2.094962</td>\n",
       "      <td>1.812337</td>\n",
       "      <td>2.589557</td>\n",
       "      <td>1.985445</td>\n",
       "      <td>1.522645</td>\n",
       "      <td>0.724228</td>\n",
       "      <td>0.922066</td>\n",
       "      <td>1.275348</td>\n",
       "      <td>...</td>\n",
       "      <td>4.348901</td>\n",
       "      <td>3.091217</td>\n",
       "      <td>3.144210</td>\n",
       "      <td>5.006006</td>\n",
       "      <td>5.525330</td>\n",
       "      <td>1.999576</td>\n",
       "      <td>2.211545</td>\n",
       "      <td>2.946372</td>\n",
       "      <td>2.858051</td>\n",
       "      <td>3.331449</td>\n",
       "    </tr>\n",
       "    <tr>\n",
       "      <th>2</th>\n",
       "      <td>1.649032</td>\n",
       "      <td>1.932128</td>\n",
       "      <td>1.649032</td>\n",
       "      <td>2.427545</td>\n",
       "      <td>1.822428</td>\n",
       "      <td>1.358859</td>\n",
       "      <td>0.559114</td>\n",
       "      <td>0.757281</td>\n",
       "      <td>1.111150</td>\n",
       "      <td>3.634240</td>\n",
       "      <td>...</td>\n",
       "      <td>2.930040</td>\n",
       "      <td>2.983120</td>\n",
       "      <td>4.848013</td>\n",
       "      <td>5.368201</td>\n",
       "      <td>1.836583</td>\n",
       "      <td>2.048905</td>\n",
       "      <td>2.784953</td>\n",
       "      <td>2.696486</td>\n",
       "      <td>3.170671</td>\n",
       "      <td>4.770162</td>\n",
       "    </tr>\n",
       "    <tr>\n",
       "      <th>3</th>\n",
       "      <td>0.287842</td>\n",
       "      <td>0.000000</td>\n",
       "      <td>0.791566</td>\n",
       "      <td>0.176303</td>\n",
       "      <td>-0.295038</td>\n",
       "      <td>-1.108193</td>\n",
       "      <td>-0.906703</td>\n",
       "      <td>-0.546900</td>\n",
       "      <td>2.018494</td>\n",
       "      <td>2.993560</td>\n",
       "      <td>...</td>\n",
       "      <td>1.356457</td>\n",
       "      <td>3.252618</td>\n",
       "      <td>3.781528</td>\n",
       "      <td>0.190695</td>\n",
       "      <td>0.406577</td>\n",
       "      <td>1.154967</td>\n",
       "      <td>1.065016</td>\n",
       "      <td>1.547152</td>\n",
       "      <td>3.173461</td>\n",
       "      <td>3.878674</td>\n",
       "    </tr>\n",
       "    <tr>\n",
       "      <th>4</th>\n",
       "      <td>-0.288673</td>\n",
       "      <td>0.505178</td>\n",
       "      <td>-0.111861</td>\n",
       "      <td>-0.584563</td>\n",
       "      <td>-1.400065</td>\n",
       "      <td>-1.197994</td>\n",
       "      <td>-0.837152</td>\n",
       "      <td>1.735648</td>\n",
       "      <td>2.713528</td>\n",
       "      <td>2.248042</td>\n",
       "      <td>...</td>\n",
       "      <td>2.973334</td>\n",
       "      <td>3.503771</td>\n",
       "      <td>-0.097427</td>\n",
       "      <td>0.119078</td>\n",
       "      <td>0.869628</td>\n",
       "      <td>0.779418</td>\n",
       "      <td>1.262945</td>\n",
       "      <td>2.893949</td>\n",
       "      <td>3.601198</td>\n",
       "      <td>4.976004</td>\n",
       "    </tr>\n",
       "    <tr>\n",
       "      <th>5</th>\n",
       "      <td>0.791566</td>\n",
       "      <td>0.176303</td>\n",
       "      <td>-0.295038</td>\n",
       "      <td>-1.108193</td>\n",
       "      <td>-0.906703</td>\n",
       "      <td>-0.546900</td>\n",
       "      <td>2.018494</td>\n",
       "      <td>2.993560</td>\n",
       "      <td>2.529414</td>\n",
       "      <td>3.623214</td>\n",
       "      <td>...</td>\n",
       "      <td>3.781528</td>\n",
       "      <td>0.190695</td>\n",
       "      <td>0.406577</td>\n",
       "      <td>1.154967</td>\n",
       "      <td>1.065016</td>\n",
       "      <td>1.547152</td>\n",
       "      <td>3.173461</td>\n",
       "      <td>3.878674</td>\n",
       "      <td>5.249523</td>\n",
       "      <td>4.267262</td>\n",
       "    </tr>\n",
       "    <tr>\n",
       "      <th>6</th>\n",
       "      <td>-0.620172</td>\n",
       "      <td>-1.095274</td>\n",
       "      <td>-1.914917</td>\n",
       "      <td>-1.711820</td>\n",
       "      <td>-1.349146</td>\n",
       "      <td>1.236717</td>\n",
       "      <td>2.219563</td>\n",
       "      <td>1.751714</td>\n",
       "      <td>2.854241</td>\n",
       "      <td>3.021071</td>\n",
       "      <td>...</td>\n",
       "      <td>-0.605665</td>\n",
       "      <td>-0.388061</td>\n",
       "      <td>0.366300</td>\n",
       "      <td>0.275632</td>\n",
       "      <td>0.761615</td>\n",
       "      <td>2.400899</td>\n",
       "      <td>3.111740</td>\n",
       "      <td>4.493526</td>\n",
       "      <td>3.503427</td>\n",
       "      <td>2.545969</td>\n",
       "    </tr>\n",
       "    <tr>\n",
       "      <th>7</th>\n",
       "      <td>-0.472174</td>\n",
       "      <td>-1.286765</td>\n",
       "      <td>-1.084919</td>\n",
       "      <td>-0.724481</td>\n",
       "      <td>1.845444</td>\n",
       "      <td>2.822232</td>\n",
       "      <td>2.357266</td>\n",
       "      <td>3.452999</td>\n",
       "      <td>3.618800</td>\n",
       "      <td>3.402537</td>\n",
       "      <td>...</td>\n",
       "      <td>0.230681</td>\n",
       "      <td>0.980392</td>\n",
       "      <td>0.890283</td>\n",
       "      <td>1.373270</td>\n",
       "      <td>3.002451</td>\n",
       "      <td>3.708910</td>\n",
       "      <td>5.082180</td>\n",
       "      <td>4.098183</td>\n",
       "      <td>3.146626</td>\n",
       "      <td>5.961649</td>\n",
       "    </tr>\n",
       "    <tr>\n",
       "      <th>8</th>\n",
       "      <td>-0.810762</td>\n",
       "      <td>-0.609865</td>\n",
       "      <td>-0.251121</td>\n",
       "      <td>2.306726</td>\n",
       "      <td>3.278924</td>\n",
       "      <td>2.816143</td>\n",
       "      <td>3.906726</td>\n",
       "      <td>4.071749</td>\n",
       "      <td>3.856502</td>\n",
       "      <td>4.617040</td>\n",
       "      <td>...</td>\n",
       "      <td>1.445740</td>\n",
       "      <td>1.356054</td>\n",
       "      <td>1.836771</td>\n",
       "      <td>3.458296</td>\n",
       "      <td>4.161435</td>\n",
       "      <td>5.528251</td>\n",
       "      <td>4.548879</td>\n",
       "      <td>3.601794</td>\n",
       "      <td>6.403587</td>\n",
       "      <td>9.094170</td>\n",
       "    </tr>\n",
       "    <tr>\n",
       "      <th>9</th>\n",
       "      <td>0.199281</td>\n",
       "      <td>0.555140</td>\n",
       "      <td>3.092417</td>\n",
       "      <td>4.056795</td>\n",
       "      <td>3.597737</td>\n",
       "      <td>4.679549</td>\n",
       "      <td>4.843244</td>\n",
       "      <td>4.629728</td>\n",
       "      <td>5.384150</td>\n",
       "      <td>6.309384</td>\n",
       "      <td>...</td>\n",
       "      <td>2.149390</td>\n",
       "      <td>2.626241</td>\n",
       "      <td>4.234725</td>\n",
       "      <td>4.932209</td>\n",
       "      <td>6.288032</td>\n",
       "      <td>5.316537</td>\n",
       "      <td>4.377068</td>\n",
       "      <td>7.156329</td>\n",
       "      <td>9.825273</td>\n",
       "      <td>10.800327</td>\n",
       "    </tr>\n",
       "  </tbody>\n",
       "</table>\n",
       "<p>10 rows × 59 columns</p>\n",
       "</div>"
      ],
      "text/plain": [
       "         0         1         2         3         4         5         6   \\\n",
       "0  0.631889  0.796883  2.432774  2.713614  2.432774  3.205083  2.604788   \n",
       "1  0.166043  1.812337  2.094962  1.812337  2.589557  1.985445  1.522645   \n",
       "2  1.649032  1.932128  1.649032  2.427545  1.822428  1.358859  0.559114   \n",
       "3  0.287842  0.000000  0.791566  0.176303 -0.295038 -1.108193 -0.906703   \n",
       "4 -0.288673  0.505178 -0.111861 -0.584563 -1.400065 -1.197994 -0.837152   \n",
       "5  0.791566  0.176303 -0.295038 -1.108193 -0.906703 -0.546900  2.018494   \n",
       "6 -0.620172 -1.095274 -1.914917 -1.711820 -1.349146  1.236717  2.219563   \n",
       "7 -0.472174 -1.286765 -1.084919 -0.724481  1.845444  2.822232  2.357266   \n",
       "8 -0.810762 -0.609865 -0.251121  2.306726  3.278924  2.816143  3.906726   \n",
       "9  0.199281  0.555140  3.092417  4.056795  3.597737  4.679549  4.843244   \n",
       "\n",
       "         7         8         9   ...        49        50        51        52  \\\n",
       "0  2.144913  1.351541  1.548129  ...  6.353998  4.953310  3.703574  3.756231   \n",
       "1  0.724228  0.922066  1.275348  ...  4.348901  3.091217  3.144210  5.006006   \n",
       "2  0.757281  1.111150  3.634240  ...  2.930040  2.983120  4.848013  5.368201   \n",
       "3 -0.546900  2.018494  2.993560  ...  1.356457  3.252618  3.781528  0.190695   \n",
       "4  1.735648  2.713528  2.248042  ...  2.973334  3.503771 -0.097427  0.119078   \n",
       "5  2.993560  2.529414  3.623214  ...  3.781528  0.190695  0.406577  1.154967   \n",
       "6  1.751714  2.854241  3.021071  ... -0.605665 -0.388061  0.366300  0.275632   \n",
       "7  3.452999  3.618800  3.402537  ...  0.230681  0.980392  0.890283  1.373270   \n",
       "8  4.071749  3.856502  4.617040  ...  1.445740  1.356054  1.836771  3.458296   \n",
       "9  4.629728  5.384150  6.309384  ...  2.149390  2.626241  4.234725  4.932209   \n",
       "\n",
       "         53        54        55        56        57         58  \n",
       "0  5.606263  6.122306  2.618830  2.829460  3.559643   3.471881  \n",
       "1  5.525330  1.999576  2.211545  2.946372  2.858051   3.331449  \n",
       "2  1.836583  2.048905  2.784953  2.696486  3.170671   4.770162  \n",
       "3  0.406577  1.154967  1.065016  1.547152  3.173461   3.878674  \n",
       "4  0.869628  0.779418  1.262945  2.893949  3.601198   4.976004  \n",
       "5  1.065016  1.547152  3.173461  3.878674  5.249523   4.267262  \n",
       "6  0.761615  2.400899  3.111740  4.493526  3.503427   2.545969  \n",
       "7  3.002451  3.708910  5.082180  4.098183  3.146626   5.961649  \n",
       "8  4.161435  5.528251  4.548879  3.601794  6.403587   9.094170  \n",
       "9  6.288032  5.316537  4.377068  7.156329  9.825273  10.800327  \n",
       "\n",
       "[10 rows x 59 columns]"
      ]
     },
     "execution_count": 9,
     "metadata": {},
     "output_type": "execute_result"
    }
   ],
   "source": [
    "\n",
    "\n",
    "c1 = []\n",
    "for i in range(1,days_shape):\n",
    "    df1['temp'] = df1['Xth'] - df1['Xth'].shift(-1*i)\n",
    "    df1['temp'] = df1['temp']/df1['Xth']*100\n",
    "    c1.append(df1['temp'].to_numpy())\n",
    "\n",
    "print(c1)    \n",
    "df2 = pd.DataFrame(c1)\n",
    "df3 = df2.transpose()\n",
    "df3.head(10)"
   ]
  },
  {
   "cell_type": "code",
   "execution_count": 10,
   "id": "c9f40cf7-dd88-407e-b8e4-46d3d9347d38",
   "metadata": {
    "colab": {
     "base_uri": "https://localhost:8080/"
    },
    "id": "c9f40cf7-dd88-407e-b8e4-46d3d9347d38",
    "outputId": "c1375cf0-f6b7-47d6-f6f2-35987bc4632a"
   },
   "outputs": [
    {
     "data": {
      "text/plain": [
       "(6348, 59)"
      ]
     },
     "execution_count": 10,
     "metadata": {},
     "output_type": "execute_result"
    }
   ],
   "source": [
    "df3.shape\n"
   ]
  },
  {
   "cell_type": "code",
   "execution_count": 11,
   "id": "fa913eaa-d634-4a7e-bf4b-d8a235d30bf1",
   "metadata": {
    "colab": {
     "base_uri": "https://localhost:8080/"
    },
    "id": "fa913eaa-d634-4a7e-bf4b-d8a235d30bf1",
    "outputId": "1a074627-6ace-4fe6-e627-094a387348b1"
   },
   "outputs": [
    {
     "data": {
      "text/plain": [
       "array([[0.63188935, 0.79688268, 2.43277399, ..., 2.82946009, 3.55964333,\n",
       "        3.47188092],\n",
       "       [0.16604254, 1.81233661, 2.0949622 , ..., 2.94637179, 2.8580513 ,\n",
       "        3.33144916],\n",
       "       [1.64903217, 1.93212782, 1.64903217, ..., 2.69648608, 3.17067129,\n",
       "        4.77016172],\n",
       "       ...,\n",
       "       [       nan,        nan,        nan, ...,        nan,        nan,\n",
       "               nan],\n",
       "       [       nan,        nan,        nan, ...,        nan,        nan,\n",
       "               nan],\n",
       "       [       nan,        nan,        nan, ...,        nan,        nan,\n",
       "               nan]])"
      ]
     },
     "execution_count": 11,
     "metadata": {},
     "output_type": "execute_result"
    }
   ],
   "source": [
    "c2 =df3.to_numpy()\n",
    "c2"
   ]
  },
  {
   "cell_type": "code",
   "execution_count": 12,
   "id": "880304ee-74c8-4bb5-82a1-ca7a0472b028",
   "metadata": {
    "colab": {
     "base_uri": "https://localhost:8080/"
    },
    "id": "880304ee-74c8-4bb5-82a1-ca7a0472b028",
    "outputId": "73b71715-819e-4c42-d28a-57e573368bdd"
   },
   "outputs": [
    {
     "data": {
      "text/plain": [
       "6348"
      ]
     },
     "execution_count": 12,
     "metadata": {},
     "output_type": "execute_result"
    }
   ],
   "source": [
    "len(c2)\n"
   ]
  },
  {
   "cell_type": "code",
   "execution_count": 13,
   "id": "829fed7d-8de6-4b65-b88c-ebb9fe12337d",
   "metadata": {
    "id": "829fed7d-8de6-4b65-b88c-ebb9fe12337d"
   },
   "outputs": [],
   "source": [
    "c3 =[]\n",
    "\n",
    "for i in range(int(len(c2)-days_shape)):\n",
    "      \n",
    "    c6 = np.concatenate((c2[i:i+days_shape]))\n",
    "    \n",
    "    c3.append(c6)\n",
    "    \n",
    "                "
   ]
  },
  {
   "cell_type": "code",
   "execution_count": 14,
   "id": "ff0b48d2-7d70-44cc-b835-d6ec671befd8",
   "metadata": {
    "colab": {
     "base_uri": "https://localhost:8080/"
    },
    "id": "ff0b48d2-7d70-44cc-b835-d6ec671befd8",
    "outputId": "6155793c-8028-409e-a3fb-7a75989ac987"
   },
   "outputs": [
    {
     "data": {
      "text/plain": [
       "[array([ 0.16604254,  1.81233661,  2.0949622 , ..., 15.2724482 ,\n",
       "        14.79735409, 15.60866864]),\n",
       " array([ 1.64903217,  1.93212782,  1.64903217, ..., 13.36628145,\n",
       "        14.19122292, 13.45174836])]"
      ]
     },
     "execution_count": 14,
     "metadata": {},
     "output_type": "execute_result"
    }
   ],
   "source": [
    "c3[1:3]"
   ]
  },
  {
   "cell_type": "code",
   "execution_count": 15,
   "id": "80e6c0b3-2c32-4bbe-96a1-018ad6741f2c",
   "metadata": {
    "colab": {
     "base_uri": "https://localhost:8080/",
     "height": 456
    },
    "id": "80e6c0b3-2c32-4bbe-96a1-018ad6741f2c",
    "outputId": "2f5f8ca0-2b72-4f93-8a78-750aca710a5a",
    "scrolled": true
   },
   "outputs": [
    {
     "data": {
      "text/html": [
       "<div>\n",
       "<style scoped>\n",
       "    .dataframe tbody tr th:only-of-type {\n",
       "        vertical-align: middle;\n",
       "    }\n",
       "\n",
       "    .dataframe tbody tr th {\n",
       "        vertical-align: top;\n",
       "    }\n",
       "\n",
       "    .dataframe thead th {\n",
       "        text-align: right;\n",
       "    }\n",
       "</style>\n",
       "<table border=\"1\" class=\"dataframe\">\n",
       "  <thead>\n",
       "    <tr style=\"text-align: right;\">\n",
       "      <th></th>\n",
       "      <th>0</th>\n",
       "      <th>1</th>\n",
       "      <th>2</th>\n",
       "      <th>3</th>\n",
       "      <th>4</th>\n",
       "      <th>5</th>\n",
       "      <th>6</th>\n",
       "      <th>7</th>\n",
       "      <th>8</th>\n",
       "      <th>9</th>\n",
       "      <th>...</th>\n",
       "      <th>3530</th>\n",
       "      <th>3531</th>\n",
       "      <th>3532</th>\n",
       "      <th>3533</th>\n",
       "      <th>3534</th>\n",
       "      <th>3535</th>\n",
       "      <th>3536</th>\n",
       "      <th>3537</th>\n",
       "      <th>3538</th>\n",
       "      <th>3539</th>\n",
       "    </tr>\n",
       "  </thead>\n",
       "  <tbody>\n",
       "    <tr>\n",
       "      <th>0</th>\n",
       "      <td>0.631889</td>\n",
       "      <td>0.796883</td>\n",
       "      <td>2.432774</td>\n",
       "      <td>2.713614</td>\n",
       "      <td>2.432774</td>\n",
       "      <td>3.205083</td>\n",
       "      <td>2.604788</td>\n",
       "      <td>2.144913</td>\n",
       "      <td>1.351541</td>\n",
       "      <td>1.548129</td>\n",
       "      <td>...</td>\n",
       "      <td>9.313743</td>\n",
       "      <td>9.059170</td>\n",
       "      <td>9.786522</td>\n",
       "      <td>10.095647</td>\n",
       "      <td>8.859148</td>\n",
       "      <td>11.226679</td>\n",
       "      <td>14.368840</td>\n",
       "      <td>13.459650</td>\n",
       "      <td>15.685347</td>\n",
       "      <td>15.212569</td>\n",
       "    </tr>\n",
       "    <tr>\n",
       "      <th>1</th>\n",
       "      <td>0.166043</td>\n",
       "      <td>1.812337</td>\n",
       "      <td>2.094962</td>\n",
       "      <td>1.812337</td>\n",
       "      <td>2.589557</td>\n",
       "      <td>1.985445</td>\n",
       "      <td>1.522645</td>\n",
       "      <td>0.724228</td>\n",
       "      <td>0.922066</td>\n",
       "      <td>1.275348</td>\n",
       "      <td>...</td>\n",
       "      <td>8.613822</td>\n",
       "      <td>9.344736</td>\n",
       "      <td>9.655374</td>\n",
       "      <td>8.412820</td>\n",
       "      <td>10.791945</td>\n",
       "      <td>13.949494</td>\n",
       "      <td>13.035851</td>\n",
       "      <td>15.272448</td>\n",
       "      <td>14.797354</td>\n",
       "      <td>15.608669</td>\n",
       "    </tr>\n",
       "    <tr>\n",
       "      <th>2</th>\n",
       "      <td>1.649032</td>\n",
       "      <td>1.932128</td>\n",
       "      <td>1.649032</td>\n",
       "      <td>2.427545</td>\n",
       "      <td>1.822428</td>\n",
       "      <td>1.358859</td>\n",
       "      <td>0.559114</td>\n",
       "      <td>0.757281</td>\n",
       "      <td>1.111150</td>\n",
       "      <td>3.634240</td>\n",
       "      <td>...</td>\n",
       "      <td>7.822080</td>\n",
       "      <td>8.137936</td>\n",
       "      <td>6.874512</td>\n",
       "      <td>9.293597</td>\n",
       "      <td>12.504180</td>\n",
       "      <td>11.575192</td>\n",
       "      <td>13.849355</td>\n",
       "      <td>13.366281</td>\n",
       "      <td>14.191223</td>\n",
       "      <td>13.451748</td>\n",
       "    </tr>\n",
       "    <tr>\n",
       "      <th>3</th>\n",
       "      <td>0.287842</td>\n",
       "      <td>0.000000</td>\n",
       "      <td>0.791566</td>\n",
       "      <td>0.176303</td>\n",
       "      <td>-0.295038</td>\n",
       "      <td>-1.108193</td>\n",
       "      <td>-0.906703</td>\n",
       "      <td>-0.546900</td>\n",
       "      <td>2.018494</td>\n",
       "      <td>2.993560</td>\n",
       "      <td>...</td>\n",
       "      <td>7.463972</td>\n",
       "      <td>6.191278</td>\n",
       "      <td>8.628112</td>\n",
       "      <td>11.862250</td>\n",
       "      <td>10.926446</td>\n",
       "      <td>13.217294</td>\n",
       "      <td>12.730676</td>\n",
       "      <td>13.561669</td>\n",
       "      <td>12.816770</td>\n",
       "      <td>12.917836</td>\n",
       "    </tr>\n",
       "    <tr>\n",
       "      <th>4</th>\n",
       "      <td>-0.288673</td>\n",
       "      <td>0.505178</td>\n",
       "      <td>-0.111861</td>\n",
       "      <td>-0.584563</td>\n",
       "      <td>-1.400065</td>\n",
       "      <td>-1.197994</td>\n",
       "      <td>-0.837152</td>\n",
       "      <td>1.735648</td>\n",
       "      <td>2.713528</td>\n",
       "      <td>2.248042</td>\n",
       "      <td>...</td>\n",
       "      <td>4.834055</td>\n",
       "      <td>7.306144</td>\n",
       "      <td>10.587074</td>\n",
       "      <td>9.637731</td>\n",
       "      <td>11.961722</td>\n",
       "      <td>11.468064</td>\n",
       "      <td>12.311081</td>\n",
       "      <td>11.555404</td>\n",
       "      <td>11.657933</td>\n",
       "      <td>11.312372</td>\n",
       "    </tr>\n",
       "    <tr>\n",
       "      <th>5</th>\n",
       "      <td>0.791566</td>\n",
       "      <td>0.176303</td>\n",
       "      <td>-0.295038</td>\n",
       "      <td>-1.108193</td>\n",
       "      <td>-0.906703</td>\n",
       "      <td>-0.546900</td>\n",
       "      <td>2.018494</td>\n",
       "      <td>2.993560</td>\n",
       "      <td>2.529414</td>\n",
       "      <td>3.623214</td>\n",
       "      <td>...</td>\n",
       "      <td>8.257226</td>\n",
       "      <td>11.504491</td>\n",
       "      <td>10.564889</td>\n",
       "      <td>12.865036</td>\n",
       "      <td>12.376442</td>\n",
       "      <td>13.210809</td>\n",
       "      <td>12.462886</td>\n",
       "      <td>12.564363</td>\n",
       "      <td>12.222348</td>\n",
       "      <td>11.662344</td>\n",
       "    </tr>\n",
       "    <tr>\n",
       "      <th>6</th>\n",
       "      <td>-0.620172</td>\n",
       "      <td>-1.095274</td>\n",
       "      <td>-1.914917</td>\n",
       "      <td>-1.711820</td>\n",
       "      <td>-1.349146</td>\n",
       "      <td>1.236717</td>\n",
       "      <td>2.219563</td>\n",
       "      <td>1.751714</td>\n",
       "      <td>2.854241</td>\n",
       "      <td>3.021071</td>\n",
       "      <td>...</td>\n",
       "      <td>12.373935</td>\n",
       "      <td>11.443564</td>\n",
       "      <td>13.721112</td>\n",
       "      <td>13.237319</td>\n",
       "      <td>14.063489</td>\n",
       "      <td>13.322913</td>\n",
       "      <td>13.423393</td>\n",
       "      <td>13.084738</td>\n",
       "      <td>12.530237</td>\n",
       "      <td>14.156526</td>\n",
       "    </tr>\n",
       "    <tr>\n",
       "      <th>7</th>\n",
       "      <td>-0.472174</td>\n",
       "      <td>-1.286765</td>\n",
       "      <td>-1.084919</td>\n",
       "      <td>-0.724481</td>\n",
       "      <td>1.845444</td>\n",
       "      <td>2.822232</td>\n",
       "      <td>2.357266</td>\n",
       "      <td>3.452999</td>\n",
       "      <td>3.618800</td>\n",
       "      <td>3.402537</td>\n",
       "      <td>...</td>\n",
       "      <td>8.792641</td>\n",
       "      <td>11.138367</td>\n",
       "      <td>10.640092</td>\n",
       "      <td>11.490993</td>\n",
       "      <td>10.728248</td>\n",
       "      <td>10.831736</td>\n",
       "      <td>10.482944</td>\n",
       "      <td>9.911844</td>\n",
       "      <td>11.586815</td>\n",
       "      <td>12.341893</td>\n",
       "    </tr>\n",
       "    <tr>\n",
       "      <th>8</th>\n",
       "      <td>-0.810762</td>\n",
       "      <td>-0.609865</td>\n",
       "      <td>-0.251121</td>\n",
       "      <td>2.306726</td>\n",
       "      <td>3.278924</td>\n",
       "      <td>2.816143</td>\n",
       "      <td>3.906726</td>\n",
       "      <td>4.071749</td>\n",
       "      <td>3.856502</td>\n",
       "      <td>4.617040</td>\n",
       "      <td>...</td>\n",
       "      <td>8.508287</td>\n",
       "      <td>7.995264</td>\n",
       "      <td>8.871350</td>\n",
       "      <td>8.086030</td>\n",
       "      <td>8.192581</td>\n",
       "      <td>7.833465</td>\n",
       "      <td>7.245462</td>\n",
       "      <td>8.970008</td>\n",
       "      <td>9.747435</td>\n",
       "      <td>10.445935</td>\n",
       "    </tr>\n",
       "    <tr>\n",
       "      <th>9</th>\n",
       "      <td>0.199281</td>\n",
       "      <td>0.555140</td>\n",
       "      <td>3.092417</td>\n",
       "      <td>4.056795</td>\n",
       "      <td>3.597737</td>\n",
       "      <td>4.679549</td>\n",
       "      <td>4.843244</td>\n",
       "      <td>4.629728</td>\n",
       "      <td>5.384150</td>\n",
       "      <td>6.309384</td>\n",
       "      <td>...</td>\n",
       "      <td>6.989548</td>\n",
       "      <td>7.875209</td>\n",
       "      <td>7.081305</td>\n",
       "      <td>7.189021</td>\n",
       "      <td>6.825979</td>\n",
       "      <td>6.231549</td>\n",
       "      <td>7.974946</td>\n",
       "      <td>8.760871</td>\n",
       "      <td>9.467007</td>\n",
       "      <td>10.121280</td>\n",
       "    </tr>\n",
       "  </tbody>\n",
       "</table>\n",
       "<p>10 rows × 3540 columns</p>\n",
       "</div>"
      ],
      "text/plain": [
       "       0         1         2         3         4         5         6     \\\n",
       "0  0.631889  0.796883  2.432774  2.713614  2.432774  3.205083  2.604788   \n",
       "1  0.166043  1.812337  2.094962  1.812337  2.589557  1.985445  1.522645   \n",
       "2  1.649032  1.932128  1.649032  2.427545  1.822428  1.358859  0.559114   \n",
       "3  0.287842  0.000000  0.791566  0.176303 -0.295038 -1.108193 -0.906703   \n",
       "4 -0.288673  0.505178 -0.111861 -0.584563 -1.400065 -1.197994 -0.837152   \n",
       "5  0.791566  0.176303 -0.295038 -1.108193 -0.906703 -0.546900  2.018494   \n",
       "6 -0.620172 -1.095274 -1.914917 -1.711820 -1.349146  1.236717  2.219563   \n",
       "7 -0.472174 -1.286765 -1.084919 -0.724481  1.845444  2.822232  2.357266   \n",
       "8 -0.810762 -0.609865 -0.251121  2.306726  3.278924  2.816143  3.906726   \n",
       "9  0.199281  0.555140  3.092417  4.056795  3.597737  4.679549  4.843244   \n",
       "\n",
       "       7         8         9     ...       3530       3531       3532  \\\n",
       "0  2.144913  1.351541  1.548129  ...   9.313743   9.059170   9.786522   \n",
       "1  0.724228  0.922066  1.275348  ...   8.613822   9.344736   9.655374   \n",
       "2  0.757281  1.111150  3.634240  ...   7.822080   8.137936   6.874512   \n",
       "3 -0.546900  2.018494  2.993560  ...   7.463972   6.191278   8.628112   \n",
       "4  1.735648  2.713528  2.248042  ...   4.834055   7.306144  10.587074   \n",
       "5  2.993560  2.529414  3.623214  ...   8.257226  11.504491  10.564889   \n",
       "6  1.751714  2.854241  3.021071  ...  12.373935  11.443564  13.721112   \n",
       "7  3.452999  3.618800  3.402537  ...   8.792641  11.138367  10.640092   \n",
       "8  4.071749  3.856502  4.617040  ...   8.508287   7.995264   8.871350   \n",
       "9  4.629728  5.384150  6.309384  ...   6.989548   7.875209   7.081305   \n",
       "\n",
       "        3533       3534       3535       3536       3537       3538       3539  \n",
       "0  10.095647   8.859148  11.226679  14.368840  13.459650  15.685347  15.212569  \n",
       "1   8.412820  10.791945  13.949494  13.035851  15.272448  14.797354  15.608669  \n",
       "2   9.293597  12.504180  11.575192  13.849355  13.366281  14.191223  13.451748  \n",
       "3  11.862250  10.926446  13.217294  12.730676  13.561669  12.816770  12.917836  \n",
       "4   9.637731  11.961722  11.468064  12.311081  11.555404  11.657933  11.312372  \n",
       "5  12.865036  12.376442  13.210809  12.462886  12.564363  12.222348  11.662344  \n",
       "6  13.237319  14.063489  13.322913  13.423393  13.084738  12.530237  14.156526  \n",
       "7  11.490993  10.728248  10.831736  10.482944   9.911844  11.586815  12.341893  \n",
       "8   8.086030   8.192581   7.833465   7.245462   8.970008   9.747435  10.445935  \n",
       "9   7.189021   6.825979   6.231549   7.974946   8.760871   9.467007  10.121280  \n",
       "\n",
       "[10 rows x 3540 columns]"
      ]
     },
     "execution_count": 15,
     "metadata": {},
     "output_type": "execute_result"
    }
   ],
   "source": [
    "df4 = pd.DataFrame(c3)\n",
    "df4.head(10)"
   ]
  },
  {
   "cell_type": "code",
   "execution_count": 16,
   "id": "079e25aa",
   "metadata": {
    "colab": {
     "base_uri": "https://localhost:8080/"
    },
    "id": "079e25aa",
    "outputId": "de5df3bf-5eeb-43ea-ba2a-519d1f20b14c"
   },
   "outputs": [
    {
     "data": {
      "text/plain": [
       "(6288, 3540)"
      ]
     },
     "execution_count": 16,
     "metadata": {},
     "output_type": "execute_result"
    }
   ],
   "source": [
    "df4.shape"
   ]
  },
  {
   "cell_type": "code",
   "execution_count": 17,
   "id": "8e10c159",
   "metadata": {
    "colab": {
     "base_uri": "https://localhost:8080/"
    },
    "id": "8e10c159",
    "outputId": "867af6c5-9b49-4543-bb30-35684f534f91"
   },
   "outputs": [
    {
     "data": {
      "text/plain": [
       "(6348, 4)"
      ]
     },
     "execution_count": 17,
     "metadata": {},
     "output_type": "execute_result"
    }
   ],
   "source": [
    "df1.shape"
   ]
  },
  {
   "cell_type": "code",
   "execution_count": 18,
   "id": "0eZjVvVrXTT6",
   "metadata": {
    "id": "0eZjVvVrXTT6"
   },
   "outputs": [],
   "source": [
    "aes = df1.shape[0]"
   ]
  },
  {
   "cell_type": "code",
   "execution_count": 19,
   "id": "03fda546",
   "metadata": {
    "colab": {
     "base_uri": "https://localhost:8080/"
    },
    "id": "03fda546",
    "outputId": "45128f1e-6e0c-41fa-ca52-f892599cf426"
   },
   "outputs": [
    {
     "data": {
      "text/plain": [
       "(6288, 3542)"
      ]
     },
     "execution_count": 19,
     "metadata": {},
     "output_type": "execute_result"
    }
   ],
   "source": [
    "df4['Close'] = df1.iloc[:aes]['Close']\n",
    "\n",
    "df4['Xth'] = df1.iloc[:aes]['Xth']\n",
    "df4.shape"
   ]
  },
  {
   "cell_type": "code",
   "execution_count": 20,
   "id": "a77df552-f1e7-468e-b7b3-1e4de33ddf96",
   "metadata": {
    "colab": {
     "base_uri": "https://localhost:8080/",
     "height": 299
    },
    "id": "a77df552-f1e7-468e-b7b3-1e4de33ddf96",
    "outputId": "a9d23c5c-3236-4446-fa75-e10ec0689964"
   },
   "outputs": [
    {
     "data": {
      "text/html": [
       "<div>\n",
       "<style scoped>\n",
       "    .dataframe tbody tr th:only-of-type {\n",
       "        vertical-align: middle;\n",
       "    }\n",
       "\n",
       "    .dataframe tbody tr th {\n",
       "        vertical-align: top;\n",
       "    }\n",
       "\n",
       "    .dataframe thead th {\n",
       "        text-align: right;\n",
       "    }\n",
       "</style>\n",
       "<table border=\"1\" class=\"dataframe\">\n",
       "  <thead>\n",
       "    <tr style=\"text-align: right;\">\n",
       "      <th></th>\n",
       "      <th>0</th>\n",
       "      <th>1</th>\n",
       "      <th>2</th>\n",
       "      <th>3</th>\n",
       "      <th>4</th>\n",
       "      <th>5</th>\n",
       "      <th>6</th>\n",
       "      <th>7</th>\n",
       "      <th>8</th>\n",
       "      <th>9</th>\n",
       "      <th>...</th>\n",
       "      <th>49</th>\n",
       "      <th>50</th>\n",
       "      <th>51</th>\n",
       "      <th>52</th>\n",
       "      <th>53</th>\n",
       "      <th>54</th>\n",
       "      <th>55</th>\n",
       "      <th>56</th>\n",
       "      <th>57</th>\n",
       "      <th>58</th>\n",
       "    </tr>\n",
       "  </thead>\n",
       "  <tbody>\n",
       "    <tr>\n",
       "      <th>0</th>\n",
       "      <td>0.631889</td>\n",
       "      <td>0.796883</td>\n",
       "      <td>2.432774</td>\n",
       "      <td>2.713614</td>\n",
       "      <td>2.432774</td>\n",
       "      <td>3.205083</td>\n",
       "      <td>2.604788</td>\n",
       "      <td>2.144913</td>\n",
       "      <td>1.351541</td>\n",
       "      <td>1.548129</td>\n",
       "      <td>...</td>\n",
       "      <td>6.353998</td>\n",
       "      <td>4.953310</td>\n",
       "      <td>3.703574</td>\n",
       "      <td>3.756231</td>\n",
       "      <td>5.606263</td>\n",
       "      <td>6.122306</td>\n",
       "      <td>2.618830</td>\n",
       "      <td>2.829460</td>\n",
       "      <td>3.559643</td>\n",
       "      <td>3.471881</td>\n",
       "    </tr>\n",
       "    <tr>\n",
       "      <th>1</th>\n",
       "      <td>0.166043</td>\n",
       "      <td>1.812337</td>\n",
       "      <td>2.094962</td>\n",
       "      <td>1.812337</td>\n",
       "      <td>2.589557</td>\n",
       "      <td>1.985445</td>\n",
       "      <td>1.522645</td>\n",
       "      <td>0.724228</td>\n",
       "      <td>0.922066</td>\n",
       "      <td>1.275348</td>\n",
       "      <td>...</td>\n",
       "      <td>4.348901</td>\n",
       "      <td>3.091217</td>\n",
       "      <td>3.144210</td>\n",
       "      <td>5.006006</td>\n",
       "      <td>5.525330</td>\n",
       "      <td>1.999576</td>\n",
       "      <td>2.211545</td>\n",
       "      <td>2.946372</td>\n",
       "      <td>2.858051</td>\n",
       "      <td>3.331449</td>\n",
       "    </tr>\n",
       "    <tr>\n",
       "      <th>2</th>\n",
       "      <td>1.649032</td>\n",
       "      <td>1.932128</td>\n",
       "      <td>1.649032</td>\n",
       "      <td>2.427545</td>\n",
       "      <td>1.822428</td>\n",
       "      <td>1.358859</td>\n",
       "      <td>0.559114</td>\n",
       "      <td>0.757281</td>\n",
       "      <td>1.111150</td>\n",
       "      <td>3.634240</td>\n",
       "      <td>...</td>\n",
       "      <td>2.930040</td>\n",
       "      <td>2.983120</td>\n",
       "      <td>4.848013</td>\n",
       "      <td>5.368201</td>\n",
       "      <td>1.836583</td>\n",
       "      <td>2.048905</td>\n",
       "      <td>2.784953</td>\n",
       "      <td>2.696486</td>\n",
       "      <td>3.170671</td>\n",
       "      <td>4.770162</td>\n",
       "    </tr>\n",
       "    <tr>\n",
       "      <th>3</th>\n",
       "      <td>0.287842</td>\n",
       "      <td>0.000000</td>\n",
       "      <td>0.791566</td>\n",
       "      <td>0.176303</td>\n",
       "      <td>-0.295038</td>\n",
       "      <td>-1.108193</td>\n",
       "      <td>-0.906703</td>\n",
       "      <td>-0.546900</td>\n",
       "      <td>2.018494</td>\n",
       "      <td>2.993560</td>\n",
       "      <td>...</td>\n",
       "      <td>1.356457</td>\n",
       "      <td>3.252618</td>\n",
       "      <td>3.781528</td>\n",
       "      <td>0.190695</td>\n",
       "      <td>0.406577</td>\n",
       "      <td>1.154967</td>\n",
       "      <td>1.065016</td>\n",
       "      <td>1.547152</td>\n",
       "      <td>3.173461</td>\n",
       "      <td>3.878674</td>\n",
       "    </tr>\n",
       "    <tr>\n",
       "      <th>4</th>\n",
       "      <td>-0.288673</td>\n",
       "      <td>0.505178</td>\n",
       "      <td>-0.111861</td>\n",
       "      <td>-0.584563</td>\n",
       "      <td>-1.400065</td>\n",
       "      <td>-1.197994</td>\n",
       "      <td>-0.837152</td>\n",
       "      <td>1.735648</td>\n",
       "      <td>2.713528</td>\n",
       "      <td>2.248042</td>\n",
       "      <td>...</td>\n",
       "      <td>2.973334</td>\n",
       "      <td>3.503771</td>\n",
       "      <td>-0.097427</td>\n",
       "      <td>0.119078</td>\n",
       "      <td>0.869628</td>\n",
       "      <td>0.779418</td>\n",
       "      <td>1.262945</td>\n",
       "      <td>2.893949</td>\n",
       "      <td>3.601198</td>\n",
       "      <td>4.976004</td>\n",
       "    </tr>\n",
       "  </tbody>\n",
       "</table>\n",
       "<p>5 rows × 59 columns</p>\n",
       "</div>"
      ],
      "text/plain": [
       "         0         1         2         3         4         5         6   \\\n",
       "0  0.631889  0.796883  2.432774  2.713614  2.432774  3.205083  2.604788   \n",
       "1  0.166043  1.812337  2.094962  1.812337  2.589557  1.985445  1.522645   \n",
       "2  1.649032  1.932128  1.649032  2.427545  1.822428  1.358859  0.559114   \n",
       "3  0.287842  0.000000  0.791566  0.176303 -0.295038 -1.108193 -0.906703   \n",
       "4 -0.288673  0.505178 -0.111861 -0.584563 -1.400065 -1.197994 -0.837152   \n",
       "\n",
       "         7         8         9   ...        49        50        51        52  \\\n",
       "0  2.144913  1.351541  1.548129  ...  6.353998  4.953310  3.703574  3.756231   \n",
       "1  0.724228  0.922066  1.275348  ...  4.348901  3.091217  3.144210  5.006006   \n",
       "2  0.757281  1.111150  3.634240  ...  2.930040  2.983120  4.848013  5.368201   \n",
       "3 -0.546900  2.018494  2.993560  ...  1.356457  3.252618  3.781528  0.190695   \n",
       "4  1.735648  2.713528  2.248042  ...  2.973334  3.503771 -0.097427  0.119078   \n",
       "\n",
       "         53        54        55        56        57        58  \n",
       "0  5.606263  6.122306  2.618830  2.829460  3.559643  3.471881  \n",
       "1  5.525330  1.999576  2.211545  2.946372  2.858051  3.331449  \n",
       "2  1.836583  2.048905  2.784953  2.696486  3.170671  4.770162  \n",
       "3  0.406577  1.154967  1.065016  1.547152  3.173461  3.878674  \n",
       "4  0.869628  0.779418  1.262945  2.893949  3.601198  4.976004  \n",
       "\n",
       "[5 rows x 59 columns]"
      ]
     },
     "execution_count": 20,
     "metadata": {},
     "output_type": "execute_result"
    }
   ],
   "source": [
    "df3.head(5)"
   ]
  },
  {
   "cell_type": "code",
   "execution_count": 21,
   "id": "db71c2a8-3753-4466-9b4d-2fee0f741c70",
   "metadata": {
    "colab": {
     "base_uri": "https://localhost:8080/"
    },
    "id": "db71c2a8-3753-4466-9b4d-2fee0f741c70",
    "outputId": "b9750366-f531-4514-a4b0-c6cfa6b40b1e"
   },
   "outputs": [
    {
     "data": {
      "text/plain": [
       "(6288, 3542)"
      ]
     },
     "execution_count": 21,
     "metadata": {},
     "output_type": "execute_result"
    }
   ],
   "source": [
    "df4.shape"
   ]
  },
  {
   "cell_type": "code",
   "execution_count": 22,
   "id": "92d00432-3400-4f75-afc9-50fa4c44d3a7",
   "metadata": {
    "id": "92d00432-3400-4f75-afc9-50fa4c44d3a7"
   },
   "outputs": [],
   "source": [
    "df5 = df4.dropna()\n"
   ]
  },
  {
   "cell_type": "code",
   "execution_count": 23,
   "id": "f397ea72-2124-4b30-b27e-e69b6ecbd722",
   "metadata": {
    "colab": {
     "base_uri": "https://localhost:8080/"
    },
    "id": "f397ea72-2124-4b30-b27e-e69b6ecbd722",
    "outputId": "3e945a34-cb52-4377-81e7-127cbf1201af"
   },
   "outputs": [
    {
     "data": {
      "text/plain": [
       "(6215, 3542)"
      ]
     },
     "execution_count": 23,
     "metadata": {},
     "output_type": "execute_result"
    }
   ],
   "source": [
    "df5.shape\n",
    "        "
   ]
  },
  {
   "cell_type": "code",
   "execution_count": 24,
   "id": "9acc2505",
   "metadata": {
    "colab": {
     "base_uri": "https://localhost:8080/"
    },
    "id": "9acc2505",
    "outputId": "d3118e62-6c83-4b84-fc48-5911c52c3e7a"
   },
   "outputs": [
    {
     "data": {
      "text/plain": [
       "933"
      ]
     },
     "execution_count": 24,
     "metadata": {},
     "output_type": "execute_result"
    }
   ],
   "source": [
    "len(df5[df5[7]>6])"
   ]
  },
  {
   "cell_type": "code",
   "execution_count": 25,
   "id": "49f637b2",
   "metadata": {
    "colab": {
     "base_uri": "https://localhost:8080/"
    },
    "id": "49f637b2",
    "outputId": "b3c41e15-64c0-4f05-8b97-5a1cdd281255"
   },
   "outputs": [
    {
     "data": {
      "text/plain": [
       "3744"
      ]
     },
     "execution_count": 25,
     "metadata": {},
     "output_type": "execute_result"
    }
   ],
   "source": [
    "len(df5[df5[7]<2])"
   ]
  },
  {
   "cell_type": "code",
   "execution_count": 26,
   "id": "8ea8a02f",
   "metadata": {
    "colab": {
     "base_uri": "https://localhost:8080/"
    },
    "id": "8ea8a02f",
    "outputId": "cb7e946a-c9e5-43a3-bde8-2f89e78a9f60"
   },
   "outputs": [
    {
     "data": {
      "text/plain": [
       "False    5341\n",
       "True      874\n",
       "Name: result, dtype: int64"
      ]
     },
     "execution_count": 26,
     "metadata": {},
     "output_type": "execute_result"
    }
   ],
   "source": [
    "df6 = df5\n",
    "df6 = df6.assign(result = lambda x: ((x['Close'] - x['Xth'])/x['Xth']*100)>reward)\n",
    "    \n",
    "df6['result'].value_counts()  "
   ]
  },
  {
   "cell_type": "code",
   "execution_count": null,
   "id": "d220015a",
   "metadata": {
    "id": "d220015a"
   },
   "outputs": [],
   "source": []
  },
  {
   "cell_type": "code",
   "execution_count": 27,
   "id": "f7255de8",
   "metadata": {
    "colab": {
     "base_uri": "https://localhost:8080/"
    },
    "id": "f7255de8",
    "outputId": "50d28c0b-54d2-4f96-d4db-94ff3ccfb706"
   },
   "outputs": [
    {
     "name": "stderr",
     "output_type": "stream",
     "text": [
      "C:\\Users\\abhij\\AppData\\Local\\Temp\\ipykernel_20264\\4073025108.py:3: SettingWithCopyWarning: \n",
      "A value is trying to be set on a copy of a slice from a DataFrame\n",
      "\n",
      "See the caveats in the documentation: https://pandas.pydata.org/pandas-docs/stable/user_guide/indexing.html#returning-a-view-versus-a-copy\n",
      "  df6['result'][i] = 0\n"
     ]
    }
   ],
   "source": [
    "for i in range(len(df6.result)):\n",
    "    if df6['result'][i] == False:\n",
    "       df6['result'][i] = 0\n",
    "    else:\n",
    "       df6['result'][i] = 1\n",
    "        "
   ]
  },
  {
   "cell_type": "code",
   "execution_count": 28,
   "id": "ac826d73",
   "metadata": {
    "colab": {
     "base_uri": "https://localhost:8080/"
    },
    "id": "ac826d73",
    "outputId": "87a14330-4c52-4047-b0f5-8f29b9e534a9"
   },
   "outputs": [
    {
     "data": {
      "text/plain": [
       "count     6215\n",
       "unique       2\n",
       "top          0\n",
       "freq      5341\n",
       "Name: result, dtype: int64"
      ]
     },
     "execution_count": 28,
     "metadata": {},
     "output_type": "execute_result"
    }
   ],
   "source": [
    "df6.result.describe()"
   ]
  },
  {
   "cell_type": "code",
   "execution_count": 29,
   "id": "0032577c",
   "metadata": {
    "colab": {
     "base_uri": "https://localhost:8080/",
     "height": 299
    },
    "id": "0032577c",
    "outputId": "94251d5f-62d3-42a3-b92e-0f2e2d400642"
   },
   "outputs": [
    {
     "data": {
      "text/html": [
       "<div>\n",
       "<style scoped>\n",
       "    .dataframe tbody tr th:only-of-type {\n",
       "        vertical-align: middle;\n",
       "    }\n",
       "\n",
       "    .dataframe tbody tr th {\n",
       "        vertical-align: top;\n",
       "    }\n",
       "\n",
       "    .dataframe thead th {\n",
       "        text-align: right;\n",
       "    }\n",
       "</style>\n",
       "<table border=\"1\" class=\"dataframe\">\n",
       "  <thead>\n",
       "    <tr style=\"text-align: right;\">\n",
       "      <th></th>\n",
       "      <th>0</th>\n",
       "      <th>1</th>\n",
       "      <th>2</th>\n",
       "      <th>3</th>\n",
       "      <th>4</th>\n",
       "      <th>5</th>\n",
       "      <th>6</th>\n",
       "      <th>7</th>\n",
       "      <th>8</th>\n",
       "      <th>9</th>\n",
       "      <th>...</th>\n",
       "      <th>3533</th>\n",
       "      <th>3534</th>\n",
       "      <th>3535</th>\n",
       "      <th>3536</th>\n",
       "      <th>3537</th>\n",
       "      <th>3538</th>\n",
       "      <th>3539</th>\n",
       "      <th>Close</th>\n",
       "      <th>Xth</th>\n",
       "      <th>result</th>\n",
       "    </tr>\n",
       "  </thead>\n",
       "  <tbody>\n",
       "    <tr>\n",
       "      <th>0</th>\n",
       "      <td>0.631889</td>\n",
       "      <td>0.796883</td>\n",
       "      <td>2.432774</td>\n",
       "      <td>2.713614</td>\n",
       "      <td>2.432774</td>\n",
       "      <td>3.205083</td>\n",
       "      <td>2.604788</td>\n",
       "      <td>2.144913</td>\n",
       "      <td>1.351541</td>\n",
       "      <td>1.548129</td>\n",
       "      <td>...</td>\n",
       "      <td>10.095647</td>\n",
       "      <td>8.859148</td>\n",
       "      <td>11.226679</td>\n",
       "      <td>14.368840</td>\n",
       "      <td>13.459650</td>\n",
       "      <td>15.685347</td>\n",
       "      <td>15.212569</td>\n",
       "      <td>1560.40</td>\n",
       "      <td>1424.30</td>\n",
       "      <td>0</td>\n",
       "    </tr>\n",
       "    <tr>\n",
       "      <th>1</th>\n",
       "      <td>0.166043</td>\n",
       "      <td>1.812337</td>\n",
       "      <td>2.094962</td>\n",
       "      <td>1.812337</td>\n",
       "      <td>2.589557</td>\n",
       "      <td>1.985445</td>\n",
       "      <td>1.522645</td>\n",
       "      <td>0.724228</td>\n",
       "      <td>0.922066</td>\n",
       "      <td>1.275348</td>\n",
       "      <td>...</td>\n",
       "      <td>8.412820</td>\n",
       "      <td>10.791945</td>\n",
       "      <td>13.949494</td>\n",
       "      <td>13.035851</td>\n",
       "      <td>15.272448</td>\n",
       "      <td>14.797354</td>\n",
       "      <td>15.608669</td>\n",
       "      <td>1580.80</td>\n",
       "      <td>1415.30</td>\n",
       "      <td>1</td>\n",
       "    </tr>\n",
       "    <tr>\n",
       "      <th>2</th>\n",
       "      <td>1.649032</td>\n",
       "      <td>1.932128</td>\n",
       "      <td>1.649032</td>\n",
       "      <td>2.427545</td>\n",
       "      <td>1.822428</td>\n",
       "      <td>1.358859</td>\n",
       "      <td>0.559114</td>\n",
       "      <td>0.757281</td>\n",
       "      <td>1.111150</td>\n",
       "      <td>3.634240</td>\n",
       "      <td>...</td>\n",
       "      <td>9.293597</td>\n",
       "      <td>12.504180</td>\n",
       "      <td>11.575192</td>\n",
       "      <td>13.849355</td>\n",
       "      <td>13.366281</td>\n",
       "      <td>14.191223</td>\n",
       "      <td>13.451748</td>\n",
       "      <td>1563.05</td>\n",
       "      <td>1412.95</td>\n",
       "      <td>1</td>\n",
       "    </tr>\n",
       "    <tr>\n",
       "      <th>3</th>\n",
       "      <td>0.287842</td>\n",
       "      <td>0.000000</td>\n",
       "      <td>0.791566</td>\n",
       "      <td>0.176303</td>\n",
       "      <td>-0.295038</td>\n",
       "      <td>-1.108193</td>\n",
       "      <td>-0.906703</td>\n",
       "      <td>-0.546900</td>\n",
       "      <td>2.018494</td>\n",
       "      <td>2.993560</td>\n",
       "      <td>...</td>\n",
       "      <td>11.862250</td>\n",
       "      <td>10.926446</td>\n",
       "      <td>13.217294</td>\n",
       "      <td>12.730676</td>\n",
       "      <td>13.561669</td>\n",
       "      <td>12.816770</td>\n",
       "      <td>12.917836</td>\n",
       "      <td>1571.80</td>\n",
       "      <td>1389.65</td>\n",
       "      <td>1</td>\n",
       "    </tr>\n",
       "    <tr>\n",
       "      <th>4</th>\n",
       "      <td>-0.288673</td>\n",
       "      <td>0.505178</td>\n",
       "      <td>-0.111861</td>\n",
       "      <td>-0.584563</td>\n",
       "      <td>-1.400065</td>\n",
       "      <td>-1.197994</td>\n",
       "      <td>-0.837152</td>\n",
       "      <td>1.735648</td>\n",
       "      <td>2.713528</td>\n",
       "      <td>2.248042</td>\n",
       "      <td>...</td>\n",
       "      <td>9.637731</td>\n",
       "      <td>11.961722</td>\n",
       "      <td>11.468064</td>\n",
       "      <td>12.311081</td>\n",
       "      <td>11.555404</td>\n",
       "      <td>11.657933</td>\n",
       "      <td>11.312372</td>\n",
       "      <td>1574.20</td>\n",
       "      <td>1385.65</td>\n",
       "      <td>1</td>\n",
       "    </tr>\n",
       "  </tbody>\n",
       "</table>\n",
       "<p>5 rows × 3543 columns</p>\n",
       "</div>"
      ],
      "text/plain": [
       "          0         1         2         3         4         5         6  \\\n",
       "0  0.631889  0.796883  2.432774  2.713614  2.432774  3.205083  2.604788   \n",
       "1  0.166043  1.812337  2.094962  1.812337  2.589557  1.985445  1.522645   \n",
       "2  1.649032  1.932128  1.649032  2.427545  1.822428  1.358859  0.559114   \n",
       "3  0.287842  0.000000  0.791566  0.176303 -0.295038 -1.108193 -0.906703   \n",
       "4 -0.288673  0.505178 -0.111861 -0.584563 -1.400065 -1.197994 -0.837152   \n",
       "\n",
       "          7         8         9  ...       3533       3534       3535  \\\n",
       "0  2.144913  1.351541  1.548129  ...  10.095647   8.859148  11.226679   \n",
       "1  0.724228  0.922066  1.275348  ...   8.412820  10.791945  13.949494   \n",
       "2  0.757281  1.111150  3.634240  ...   9.293597  12.504180  11.575192   \n",
       "3 -0.546900  2.018494  2.993560  ...  11.862250  10.926446  13.217294   \n",
       "4  1.735648  2.713528  2.248042  ...   9.637731  11.961722  11.468064   \n",
       "\n",
       "        3536       3537       3538       3539    Close      Xth  result  \n",
       "0  14.368840  13.459650  15.685347  15.212569  1560.40  1424.30       0  \n",
       "1  13.035851  15.272448  14.797354  15.608669  1580.80  1415.30       1  \n",
       "2  13.849355  13.366281  14.191223  13.451748  1563.05  1412.95       1  \n",
       "3  12.730676  13.561669  12.816770  12.917836  1571.80  1389.65       1  \n",
       "4  12.311081  11.555404  11.657933  11.312372  1574.20  1385.65       1  \n",
       "\n",
       "[5 rows x 3543 columns]"
      ]
     },
     "execution_count": 29,
     "metadata": {},
     "output_type": "execute_result"
    }
   ],
   "source": [
    "df6.head()"
   ]
  },
  {
   "cell_type": "code",
   "execution_count": 30,
   "id": "e326d2d9",
   "metadata": {
    "colab": {
     "base_uri": "https://localhost:8080/",
     "height": 299
    },
    "id": "e326d2d9",
    "outputId": "0bf59cc3-5a3a-4ab8-a839-fba1cd654cc7"
   },
   "outputs": [
    {
     "data": {
      "text/html": [
       "<div>\n",
       "<style scoped>\n",
       "    .dataframe tbody tr th:only-of-type {\n",
       "        vertical-align: middle;\n",
       "    }\n",
       "\n",
       "    .dataframe tbody tr th {\n",
       "        vertical-align: top;\n",
       "    }\n",
       "\n",
       "    .dataframe thead th {\n",
       "        text-align: right;\n",
       "    }\n",
       "</style>\n",
       "<table border=\"1\" class=\"dataframe\">\n",
       "  <thead>\n",
       "    <tr style=\"text-align: right;\">\n",
       "      <th></th>\n",
       "      <th>0</th>\n",
       "      <th>1</th>\n",
       "      <th>2</th>\n",
       "      <th>3</th>\n",
       "      <th>4</th>\n",
       "      <th>5</th>\n",
       "      <th>6</th>\n",
       "      <th>7</th>\n",
       "      <th>8</th>\n",
       "      <th>9</th>\n",
       "      <th>...</th>\n",
       "      <th>3531</th>\n",
       "      <th>3532</th>\n",
       "      <th>3533</th>\n",
       "      <th>3534</th>\n",
       "      <th>3535</th>\n",
       "      <th>3536</th>\n",
       "      <th>3537</th>\n",
       "      <th>3538</th>\n",
       "      <th>3539</th>\n",
       "      <th>result</th>\n",
       "    </tr>\n",
       "  </thead>\n",
       "  <tbody>\n",
       "    <tr>\n",
       "      <th>0</th>\n",
       "      <td>0.631889</td>\n",
       "      <td>0.796883</td>\n",
       "      <td>2.432774</td>\n",
       "      <td>2.713614</td>\n",
       "      <td>2.432774</td>\n",
       "      <td>3.205083</td>\n",
       "      <td>2.604788</td>\n",
       "      <td>2.144913</td>\n",
       "      <td>1.351541</td>\n",
       "      <td>1.548129</td>\n",
       "      <td>...</td>\n",
       "      <td>9.059170</td>\n",
       "      <td>9.786522</td>\n",
       "      <td>10.095647</td>\n",
       "      <td>8.859148</td>\n",
       "      <td>11.226679</td>\n",
       "      <td>14.368840</td>\n",
       "      <td>13.459650</td>\n",
       "      <td>15.685347</td>\n",
       "      <td>15.212569</td>\n",
       "      <td>0</td>\n",
       "    </tr>\n",
       "    <tr>\n",
       "      <th>1</th>\n",
       "      <td>0.166043</td>\n",
       "      <td>1.812337</td>\n",
       "      <td>2.094962</td>\n",
       "      <td>1.812337</td>\n",
       "      <td>2.589557</td>\n",
       "      <td>1.985445</td>\n",
       "      <td>1.522645</td>\n",
       "      <td>0.724228</td>\n",
       "      <td>0.922066</td>\n",
       "      <td>1.275348</td>\n",
       "      <td>...</td>\n",
       "      <td>9.344736</td>\n",
       "      <td>9.655374</td>\n",
       "      <td>8.412820</td>\n",
       "      <td>10.791945</td>\n",
       "      <td>13.949494</td>\n",
       "      <td>13.035851</td>\n",
       "      <td>15.272448</td>\n",
       "      <td>14.797354</td>\n",
       "      <td>15.608669</td>\n",
       "      <td>1</td>\n",
       "    </tr>\n",
       "    <tr>\n",
       "      <th>2</th>\n",
       "      <td>1.649032</td>\n",
       "      <td>1.932128</td>\n",
       "      <td>1.649032</td>\n",
       "      <td>2.427545</td>\n",
       "      <td>1.822428</td>\n",
       "      <td>1.358859</td>\n",
       "      <td>0.559114</td>\n",
       "      <td>0.757281</td>\n",
       "      <td>1.111150</td>\n",
       "      <td>3.634240</td>\n",
       "      <td>...</td>\n",
       "      <td>8.137936</td>\n",
       "      <td>6.874512</td>\n",
       "      <td>9.293597</td>\n",
       "      <td>12.504180</td>\n",
       "      <td>11.575192</td>\n",
       "      <td>13.849355</td>\n",
       "      <td>13.366281</td>\n",
       "      <td>14.191223</td>\n",
       "      <td>13.451748</td>\n",
       "      <td>1</td>\n",
       "    </tr>\n",
       "    <tr>\n",
       "      <th>3</th>\n",
       "      <td>0.287842</td>\n",
       "      <td>0.000000</td>\n",
       "      <td>0.791566</td>\n",
       "      <td>0.176303</td>\n",
       "      <td>-0.295038</td>\n",
       "      <td>-1.108193</td>\n",
       "      <td>-0.906703</td>\n",
       "      <td>-0.546900</td>\n",
       "      <td>2.018494</td>\n",
       "      <td>2.993560</td>\n",
       "      <td>...</td>\n",
       "      <td>6.191278</td>\n",
       "      <td>8.628112</td>\n",
       "      <td>11.862250</td>\n",
       "      <td>10.926446</td>\n",
       "      <td>13.217294</td>\n",
       "      <td>12.730676</td>\n",
       "      <td>13.561669</td>\n",
       "      <td>12.816770</td>\n",
       "      <td>12.917836</td>\n",
       "      <td>1</td>\n",
       "    </tr>\n",
       "    <tr>\n",
       "      <th>4</th>\n",
       "      <td>-0.288673</td>\n",
       "      <td>0.505178</td>\n",
       "      <td>-0.111861</td>\n",
       "      <td>-0.584563</td>\n",
       "      <td>-1.400065</td>\n",
       "      <td>-1.197994</td>\n",
       "      <td>-0.837152</td>\n",
       "      <td>1.735648</td>\n",
       "      <td>2.713528</td>\n",
       "      <td>2.248042</td>\n",
       "      <td>...</td>\n",
       "      <td>7.306144</td>\n",
       "      <td>10.587074</td>\n",
       "      <td>9.637731</td>\n",
       "      <td>11.961722</td>\n",
       "      <td>11.468064</td>\n",
       "      <td>12.311081</td>\n",
       "      <td>11.555404</td>\n",
       "      <td>11.657933</td>\n",
       "      <td>11.312372</td>\n",
       "      <td>1</td>\n",
       "    </tr>\n",
       "  </tbody>\n",
       "</table>\n",
       "<p>5 rows × 3541 columns</p>\n",
       "</div>"
      ],
      "text/plain": [
       "          0         1         2         3         4         5         6  \\\n",
       "0  0.631889  0.796883  2.432774  2.713614  2.432774  3.205083  2.604788   \n",
       "1  0.166043  1.812337  2.094962  1.812337  2.589557  1.985445  1.522645   \n",
       "2  1.649032  1.932128  1.649032  2.427545  1.822428  1.358859  0.559114   \n",
       "3  0.287842  0.000000  0.791566  0.176303 -0.295038 -1.108193 -0.906703   \n",
       "4 -0.288673  0.505178 -0.111861 -0.584563 -1.400065 -1.197994 -0.837152   \n",
       "\n",
       "          7         8         9  ...      3531       3532       3533  \\\n",
       "0  2.144913  1.351541  1.548129  ...  9.059170   9.786522  10.095647   \n",
       "1  0.724228  0.922066  1.275348  ...  9.344736   9.655374   8.412820   \n",
       "2  0.757281  1.111150  3.634240  ...  8.137936   6.874512   9.293597   \n",
       "3 -0.546900  2.018494  2.993560  ...  6.191278   8.628112  11.862250   \n",
       "4  1.735648  2.713528  2.248042  ...  7.306144  10.587074   9.637731   \n",
       "\n",
       "        3534       3535       3536       3537       3538       3539  result  \n",
       "0   8.859148  11.226679  14.368840  13.459650  15.685347  15.212569       0  \n",
       "1  10.791945  13.949494  13.035851  15.272448  14.797354  15.608669       1  \n",
       "2  12.504180  11.575192  13.849355  13.366281  14.191223  13.451748       1  \n",
       "3  10.926446  13.217294  12.730676  13.561669  12.816770  12.917836       1  \n",
       "4  11.961722  11.468064  12.311081  11.555404  11.657933  11.312372       1  \n",
       "\n",
       "[5 rows x 3541 columns]"
      ]
     },
     "execution_count": 30,
     "metadata": {},
     "output_type": "execute_result"
    }
   ],
   "source": [
    "df7 = df6.drop(['Close','Xth'],axis=1)\n",
    "df7.head()"
   ]
  },
  {
   "cell_type": "code",
   "execution_count": 31,
   "id": "0069ff48",
   "metadata": {
    "id": "0069ff48"
   },
   "outputs": [],
   "source": [
    "import pandas as pd\n",
    "from matplotlib import pyplot as plt\n",
    "import numpy as np\n",
    "%matplotlib inline"
   ]
  },
  {
   "cell_type": "code",
   "execution_count": 32,
   "id": "7d523686",
   "metadata": {},
   "outputs": [],
   "source": [
    "mass_data = pd.read_csv('X_big_one03.csv')"
   ]
  },
  {
   "cell_type": "code",
   "execution_count": 33,
   "id": "3bee952a",
   "metadata": {
    "id": "3bee952a"
   },
   "outputs": [],
   "source": [
    "X = mass_data.drop('result',axis='columns')\n",
    "y = mass_data[\"result\"]\n",
    "\n",
    "from sklearn.model_selection import train_test_split\n",
    "X_train, X_test, y_train, y_test = train_test_split(X,y,test_size=0.2,random_state=5)"
   ]
  },
  {
   "cell_type": "code",
   "execution_count": 34,
   "id": "98a31311",
   "metadata": {
    "colab": {
     "base_uri": "https://localhost:8080/"
    },
    "id": "98a31311",
    "outputId": "3f34572d-8d8a-491d-e6ae-0947ffc38a0e"
   },
   "outputs": [
    {
     "data": {
      "text/plain": [
       "(59336, 3541)"
      ]
     },
     "execution_count": 34,
     "metadata": {},
     "output_type": "execute_result"
    }
   ],
   "source": [
    "X_train.shape"
   ]
  },
  {
   "cell_type": "code",
   "execution_count": 35,
   "id": "338f935c",
   "metadata": {
    "colab": {
     "base_uri": "https://localhost:8080/"
    },
    "id": "338f935c",
    "outputId": "188b129a-7c02-4f86-c67a-ebabbd806989"
   },
   "outputs": [
    {
     "data": {
      "text/plain": [
       "(14835, 3541)"
      ]
     },
     "execution_count": 35,
     "metadata": {},
     "output_type": "execute_result"
    }
   ],
   "source": [
    "X_test.shape"
   ]
  },
  {
   "cell_type": "code",
   "execution_count": 36,
   "id": "ed063454",
   "metadata": {},
   "outputs": [
    {
     "data": {
      "text/plain": [
       "(3541,)"
      ]
     },
     "execution_count": 36,
     "metadata": {},
     "output_type": "execute_result"
    }
   ],
   "source": [
    "X_test.iloc[0].shape"
   ]
  },
  {
   "cell_type": "code",
   "execution_count": 37,
   "id": "LTzxOZpGcERP",
   "metadata": {
    "id": "LTzxOZpGcERP"
   },
   "outputs": [],
   "source": [
    "aess = X_test.shape[1]"
   ]
  },
  {
   "cell_type": "code",
   "execution_count": 38,
   "id": "222e8eff",
   "metadata": {
    "id": "222e8eff"
   },
   "outputs": [],
   "source": [
    "import numpy as np\n",
    "\n",
    "X_train1 = np.asarray(X_train).astype(np.float32)\n",
    "X_test1 = np.asarray(X_test).astype(np.float32)\n",
    "y_train1 = np.asarray(y_train).astype(np.float32)\n",
    "y_test1 = np.asarray(y_test).astype(np.float32)"
   ]
  },
  {
   "cell_type": "code",
   "execution_count": 39,
   "id": "71dfd58f",
   "metadata": {
    "colab": {
     "base_uri": "https://localhost:8080/"
    },
    "id": "71dfd58f",
    "outputId": "f00ac31b-a311-468b-80bf-069d97e12fb6"
   },
   "outputs": [
    {
     "name": "stdout",
     "output_type": "stream",
     "text": [
      "Epoch 1/100\n",
      "1855/1855 [==============================] - 12s 6ms/step - loss: 0.2598 - accuracy: 0.9123\n",
      "Epoch 2/100\n",
      "1855/1855 [==============================] - 11s 6ms/step - loss: 0.2152 - accuracy: 0.9175\n",
      "Epoch 3/100\n",
      "1855/1855 [==============================] - 11s 6ms/step - loss: 0.2058 - accuracy: 0.9188\n",
      "Epoch 4/100\n",
      "1855/1855 [==============================] - 11s 6ms/step - loss: 0.2006 - accuracy: 0.9201\n",
      "Epoch 5/100\n",
      "1855/1855 [==============================] - 11s 6ms/step - loss: 0.1920 - accuracy: 0.9228\n",
      "Epoch 6/100\n",
      "1855/1855 [==============================] - 11s 6ms/step - loss: 0.1878 - accuracy: 0.9236\n",
      "Epoch 7/100\n",
      "1855/1855 [==============================] - 11s 6ms/step - loss: 0.1891 - accuracy: 0.9239\n",
      "Epoch 8/100\n",
      "1855/1855 [==============================] - 11s 6ms/step - loss: 0.1868 - accuracy: 0.9250\n",
      "Epoch 9/100\n",
      "1855/1855 [==============================] - 11s 6ms/step - loss: 0.1860 - accuracy: 0.9251\n",
      "Epoch 10/100\n",
      "1855/1855 [==============================] - 11s 6ms/step - loss: 0.1840 - accuracy: 0.9250\n",
      "Epoch 11/100\n",
      "1855/1855 [==============================] - 11s 6ms/step - loss: 0.1841 - accuracy: 0.9251\n",
      "Epoch 12/100\n",
      "1855/1855 [==============================] - 11s 6ms/step - loss: 0.1831 - accuracy: 0.9255\n",
      "Epoch 13/100\n",
      "1855/1855 [==============================] - 10s 6ms/step - loss: 0.1822 - accuracy: 0.9260\n",
      "Epoch 14/100\n",
      "1855/1855 [==============================] - 10s 5ms/step - loss: 0.1830 - accuracy: 0.9266\n",
      "Epoch 15/100\n",
      "1855/1855 [==============================] - 10s 6ms/step - loss: 0.1817 - accuracy: 0.9254\n",
      "Epoch 16/100\n",
      "1855/1855 [==============================] - 10s 6ms/step - loss: 0.1815 - accuracy: 0.9271\n",
      "Epoch 17/100\n",
      "1855/1855 [==============================] - 10s 6ms/step - loss: 0.1780 - accuracy: 0.9280\n",
      "Epoch 18/100\n",
      "1855/1855 [==============================] - 10s 6ms/step - loss: 0.1790 - accuracy: 0.9278\n",
      "Epoch 19/100\n",
      "1855/1855 [==============================] - 10s 6ms/step - loss: 0.1783 - accuracy: 0.9270\n",
      "Epoch 20/100\n",
      "1855/1855 [==============================] - 10s 6ms/step - loss: 0.1782 - accuracy: 0.9272\n",
      "Epoch 21/100\n",
      "1855/1855 [==============================] - 10s 6ms/step - loss: 0.1775 - accuracy: 0.9275\n",
      "Epoch 22/100\n",
      "1855/1855 [==============================] - 10s 5ms/step - loss: 0.1795 - accuracy: 0.9279\n",
      "Epoch 23/100\n",
      "1855/1855 [==============================] - 10s 5ms/step - loss: 0.1803 - accuracy: 0.9276\n",
      "Epoch 24/100\n",
      "1855/1855 [==============================] - 10s 5ms/step - loss: 0.1781 - accuracy: 0.9290\n",
      "Epoch 25/100\n",
      "1855/1855 [==============================] - 10s 5ms/step - loss: 0.1782 - accuracy: 0.9273\n",
      "Epoch 26/100\n",
      "1855/1855 [==============================] - 10s 5ms/step - loss: 0.1795 - accuracy: 0.9266\n",
      "Epoch 27/100\n",
      "1855/1855 [==============================] - 10s 5ms/step - loss: 0.1797 - accuracy: 0.9264\n",
      "Epoch 28/100\n",
      "1855/1855 [==============================] - 10s 5ms/step - loss: 0.1770 - accuracy: 0.9282\n",
      "Epoch 29/100\n",
      "1855/1855 [==============================] - 10s 5ms/step - loss: 0.1786 - accuracy: 0.9286\n",
      "Epoch 30/100\n",
      "1855/1855 [==============================] - 10s 5ms/step - loss: 0.1798 - accuracy: 0.9280\n",
      "Epoch 31/100\n",
      "1855/1855 [==============================] - 10s 5ms/step - loss: 0.1804 - accuracy: 0.9278\n",
      "Epoch 32/100\n",
      "1855/1855 [==============================] - 10s 5ms/step - loss: 0.1777 - accuracy: 0.9279\n",
      "Epoch 33/100\n",
      "1855/1855 [==============================] - 10s 5ms/step - loss: 0.1812 - accuracy: 0.9279\n",
      "Epoch 34/100\n",
      "1855/1855 [==============================] - 10s 5ms/step - loss: 0.1778 - accuracy: 0.9279\n",
      "Epoch 35/100\n",
      "1855/1855 [==============================] - 10s 5ms/step - loss: 0.1787 - accuracy: 0.9284\n",
      "Epoch 36/100\n",
      "1855/1855 [==============================] - 10s 6ms/step - loss: 0.1792 - accuracy: 0.9282\n",
      "Epoch 37/100\n",
      "1855/1855 [==============================] - 10s 6ms/step - loss: 0.1788 - accuracy: 0.9278\n",
      "Epoch 38/100\n",
      "1855/1855 [==============================] - 10s 6ms/step - loss: 0.1775 - accuracy: 0.9284\n",
      "Epoch 39/100\n",
      "1855/1855 [==============================] - 10s 6ms/step - loss: 0.1757 - accuracy: 0.9292\n",
      "Epoch 40/100\n",
      "1855/1855 [==============================] - 10s 6ms/step - loss: 0.1759 - accuracy: 0.9280\n",
      "Epoch 41/100\n",
      "1855/1855 [==============================] - 10s 6ms/step - loss: 0.1780 - accuracy: 0.9291\n",
      "Epoch 42/100\n",
      "1855/1855 [==============================] - 10s 5ms/step - loss: 0.1766 - accuracy: 0.9286\n",
      "Epoch 43/100\n",
      "1855/1855 [==============================] - 10s 6ms/step - loss: 0.1757 - accuracy: 0.9290\n",
      "Epoch 44/100\n",
      "1855/1855 [==============================] - 10s 6ms/step - loss: 0.1731 - accuracy: 0.9304\n",
      "Epoch 45/100\n",
      "1855/1855 [==============================] - 10s 5ms/step - loss: 0.1721 - accuracy: 0.9303\n",
      "Epoch 46/100\n",
      "1855/1855 [==============================] - 10s 5ms/step - loss: 0.1744 - accuracy: 0.9291\n",
      "Epoch 47/100\n",
      "1855/1855 [==============================] - 10s 5ms/step - loss: 0.1746 - accuracy: 0.9297\n",
      "Epoch 48/100\n",
      "1855/1855 [==============================] - 10s 5ms/step - loss: 0.1745 - accuracy: 0.9298\n",
      "Epoch 49/100\n",
      "1855/1855 [==============================] - 10s 5ms/step - loss: 0.1767 - accuracy: 0.9293\n",
      "Epoch 50/100\n",
      "1855/1855 [==============================] - 10s 6ms/step - loss: 0.1759 - accuracy: 0.9294\n",
      "Epoch 51/100\n",
      "1855/1855 [==============================] - 10s 5ms/step - loss: 0.1725 - accuracy: 0.9310\n",
      "Epoch 52/100\n",
      "1855/1855 [==============================] - 10s 5ms/step - loss: 0.1752 - accuracy: 0.9302\n",
      "Epoch 53/100\n",
      "1855/1855 [==============================] - 10s 5ms/step - loss: 0.1750 - accuracy: 0.9292\n",
      "Epoch 54/100\n",
      "1855/1855 [==============================] - 10s 5ms/step - loss: 0.1747 - accuracy: 0.9308\n",
      "Epoch 55/100\n",
      "1855/1855 [==============================] - 10s 5ms/step - loss: 0.1738 - accuracy: 0.9305\n",
      "Epoch 56/100\n",
      "1855/1855 [==============================] - 10s 5ms/step - loss: 0.1775 - accuracy: 0.9306\n",
      "Epoch 57/100\n",
      "1855/1855 [==============================] - 10s 5ms/step - loss: 0.1741 - accuracy: 0.9293\n",
      "Epoch 58/100\n",
      "1855/1855 [==============================] - 10s 6ms/step - loss: 0.1779 - accuracy: 0.9293\n",
      "Epoch 59/100\n",
      "1855/1855 [==============================] - 10s 5ms/step - loss: 0.1788 - accuracy: 0.9301\n",
      "Epoch 60/100\n",
      "1855/1855 [==============================] - 10s 6ms/step - loss: 0.1764 - accuracy: 0.9305\n",
      "Epoch 61/100\n",
      "1855/1855 [==============================] - 10s 5ms/step - loss: 0.1788 - accuracy: 0.9294\n",
      "Epoch 62/100\n",
      "1855/1855 [==============================] - 10s 5ms/step - loss: 0.1766 - accuracy: 0.9294\n",
      "Epoch 63/100\n",
      "1855/1855 [==============================] - 10s 5ms/step - loss: 0.1732 - accuracy: 0.9302\n",
      "Epoch 64/100\n",
      "1855/1855 [==============================] - 10s 5ms/step - loss: 0.1744 - accuracy: 0.9312\n",
      "Epoch 65/100\n",
      "1855/1855 [==============================] - 10s 5ms/step - loss: 0.1749 - accuracy: 0.9308\n",
      "Epoch 66/100\n",
      "1855/1855 [==============================] - 10s 6ms/step - loss: 0.1750 - accuracy: 0.9302\n",
      "Epoch 67/100\n",
      "1855/1855 [==============================] - 10s 5ms/step - loss: 0.1761 - accuracy: 0.9296\n",
      "Epoch 68/100\n",
      "1855/1855 [==============================] - 10s 5ms/step - loss: 0.1754 - accuracy: 0.9300\n",
      "Epoch 69/100\n",
      "1855/1855 [==============================] - 10s 5ms/step - loss: 0.1741 - accuracy: 0.9316\n",
      "Epoch 70/100\n",
      "1855/1855 [==============================] - 10s 5ms/step - loss: 0.1744 - accuracy: 0.9308\n",
      "Epoch 71/100\n",
      "1855/1855 [==============================] - 10s 5ms/step - loss: 0.1749 - accuracy: 0.9314\n",
      "Epoch 72/100\n",
      "1855/1855 [==============================] - 10s 5ms/step - loss: 0.1732 - accuracy: 0.9311\n",
      "Epoch 73/100\n",
      "1855/1855 [==============================] - 10s 5ms/step - loss: 0.1735 - accuracy: 0.9301\n",
      "Epoch 74/100\n",
      "1855/1855 [==============================] - 10s 5ms/step - loss: 0.1717 - accuracy: 0.9323\n",
      "Epoch 75/100\n",
      "1855/1855 [==============================] - 10s 5ms/step - loss: 0.1729 - accuracy: 0.9315\n",
      "Epoch 76/100\n",
      "1855/1855 [==============================] - 10s 5ms/step - loss: 0.1744 - accuracy: 0.9310\n",
      "Epoch 77/100\n",
      "1855/1855 [==============================] - 10s 5ms/step - loss: 0.1746 - accuracy: 0.9312\n",
      "Epoch 78/100\n",
      "1855/1855 [==============================] - 10s 5ms/step - loss: 0.1722 - accuracy: 0.9318\n",
      "Epoch 79/100\n"
     ]
    },
    {
     "name": "stdout",
     "output_type": "stream",
     "text": [
      "1855/1855 [==============================] - 10s 5ms/step - loss: 0.1745 - accuracy: 0.9317\n",
      "Epoch 80/100\n",
      "1855/1855 [==============================] - 10s 5ms/step - loss: 0.1713 - accuracy: 0.9316\n",
      "Epoch 81/100\n",
      "1855/1855 [==============================] - 10s 5ms/step - loss: 0.1709 - accuracy: 0.9312\n",
      "Epoch 82/100\n",
      "1855/1855 [==============================] - 10s 5ms/step - loss: 0.1725 - accuracy: 0.9304\n",
      "Epoch 83/100\n",
      "1855/1855 [==============================] - 10s 5ms/step - loss: 0.1714 - accuracy: 0.9320\n",
      "Epoch 84/100\n",
      "1855/1855 [==============================] - 10s 5ms/step - loss: 0.1687 - accuracy: 0.9327\n",
      "Epoch 85/100\n",
      "1855/1855 [==============================] - 10s 5ms/step - loss: 0.1680 - accuracy: 0.9317\n",
      "Epoch 86/100\n",
      "1855/1855 [==============================] - 10s 6ms/step - loss: 0.1666 - accuracy: 0.9321\n",
      "Epoch 87/100\n",
      "1855/1855 [==============================] - 10s 6ms/step - loss: 0.1676 - accuracy: 0.9330\n",
      "Epoch 88/100\n",
      "1855/1855 [==============================] - 10s 5ms/step - loss: 0.1688 - accuracy: 0.9330\n",
      "Epoch 89/100\n",
      "1855/1855 [==============================] - 10s 5ms/step - loss: 0.1726 - accuracy: 0.9323\n",
      "Epoch 90/100\n",
      "1855/1855 [==============================] - 10s 5ms/step - loss: 0.1733 - accuracy: 0.9311\n",
      "Epoch 91/100\n",
      "1855/1855 [==============================] - 10s 5ms/step - loss: 0.1704 - accuracy: 0.9324\n",
      "Epoch 92/100\n",
      "1855/1855 [==============================] - 10s 5ms/step - loss: 0.1690 - accuracy: 0.9330\n",
      "Epoch 93/100\n",
      "1855/1855 [==============================] - 10s 5ms/step - loss: 0.1689 - accuracy: 0.9322\n",
      "Epoch 94/100\n",
      "1855/1855 [==============================] - 10s 5ms/step - loss: 0.1692 - accuracy: 0.9324\n",
      "Epoch 95/100\n",
      "1855/1855 [==============================] - 10s 5ms/step - loss: 0.1719 - accuracy: 0.9332\n",
      "Epoch 96/100\n",
      "1855/1855 [==============================] - 10s 5ms/step - loss: 0.1659 - accuracy: 0.9331\n",
      "Epoch 97/100\n",
      "1855/1855 [==============================] - 10s 5ms/step - loss: 0.1729 - accuracy: 0.9319\n",
      "Epoch 98/100\n",
      "1855/1855 [==============================] - 10s 5ms/step - loss: 0.1721 - accuracy: 0.9323\n",
      "Epoch 99/100\n",
      "1855/1855 [==============================] - 10s 5ms/step - loss: 0.1727 - accuracy: 0.9315\n",
      "Epoch 100/100\n",
      "1855/1855 [==============================] - 10s 5ms/step - loss: 0.1700 - accuracy: 0.9316\n"
     ]
    },
    {
     "data": {
      "text/plain": [
       "<keras.callbacks.History at 0x1d7ee262470>"
      ]
     },
     "execution_count": 39,
     "metadata": {},
     "output_type": "execute_result"
    }
   ],
   "source": [
    "import tensorflow as tf\n",
    "from tensorflow import keras\n",
    "\n",
    "\n",
    "model = keras.Sequential([\n",
    "    keras.layers.Dense(aess, input_shape=(aess,), activation='sigmoid'),\n",
    "    keras.layers.Dense(800, activation='relu'),\n",
    "    keras.layers.Dense(240, activation='relu'),\n",
    "    keras.layers.Dense(65, activation='relu'),\n",
    "    keras.layers.Dense(15, activation='relu'),\n",
    "    keras.layers.Dense(1, activation='sigmoid')\n",
    "])\n",
    "\n",
    "# opt = keras.optimizers.Adam(learning_rate=0.01)\n",
    "\n",
    "model.compile(optimizer='adam',\n",
    "              loss='binary_crossentropy',\n",
    "              metrics=['accuracy'])\n",
    "\n",
    "model.fit(X_train1, y_train1, epochs=eps)"
   ]
  },
  {
   "cell_type": "code",
   "execution_count": 40,
   "id": "JnEWToraP2KN",
   "metadata": {
    "colab": {
     "base_uri": "https://localhost:8080/"
    },
    "id": "JnEWToraP2KN",
    "outputId": "c3755ada-40d6-4d9f-d434-0112bb3f7ef9"
   },
   "outputs": [
    {
     "name": "stdout",
     "output_type": "stream",
     "text": [
      "464/464 [==============================] - 1s 2ms/step - loss: 0.1678 - accuracy: 0.9321\n"
     ]
    },
    {
     "data": {
      "text/plain": [
       "[0.16784583032131195, 0.9321199655532837]"
      ]
     },
     "execution_count": 40,
     "metadata": {},
     "output_type": "execute_result"
    }
   ],
   "source": [
    "model.evaluate(X_test1, y_test1)"
   ]
  },
  {
   "cell_type": "code",
   "execution_count": 41,
   "id": "kQTxKoplQpru",
   "metadata": {
    "colab": {
     "base_uri": "https://localhost:8080/"
    },
    "id": "kQTxKoplQpru",
    "outputId": "81c4c0fb-83c0-4245-d07e-1a642154489d"
   },
   "outputs": [
    {
     "name": "stdout",
     "output_type": "stream",
     "text": [
      "464/464 [==============================] - 1s 2ms/step\n"
     ]
    },
    {
     "data": {
      "text/plain": [
       "array([[1.0662631e-03],\n",
       "       [5.3356506e-02],\n",
       "       [1.0421473e-01],\n",
       "       [4.4417158e-03],\n",
       "       [3.0809806e-05]], dtype=float32)"
      ]
     },
     "execution_count": 41,
     "metadata": {},
     "output_type": "execute_result"
    }
   ],
   "source": [
    "yp = model.predict(X_test)\n",
    "yp[:5]"
   ]
  },
  {
   "cell_type": "code",
   "execution_count": 42,
   "id": "dTNySgZmQiJn",
   "metadata": {
    "id": "dTNySgZmQiJn"
   },
   "outputs": [],
   "source": [
    "y_pred = []\n",
    "for element in yp:\n",
    "    if element > 0.5:\n",
    "        y_pred.append(1)\n",
    "    else:\n",
    "        y_pred.append(0)"
   ]
  },
  {
   "cell_type": "code",
   "execution_count": 43,
   "id": "_Pv0vQW_QboG",
   "metadata": {
    "colab": {
     "base_uri": "https://localhost:8080/"
    },
    "id": "_Pv0vQW_QboG",
    "outputId": "b0e60373-32fa-43b8-d28c-a5b6b5692042"
   },
   "outputs": [
    {
     "name": "stdout",
     "output_type": "stream",
     "text": [
      "              precision    recall  f1-score   support\n",
      "\n",
      "         0.0       0.94      0.99      0.96     13488\n",
      "         1.0       0.75      0.37      0.50      1347\n",
      "\n",
      "    accuracy                           0.93     14835\n",
      "   macro avg       0.85      0.68      0.73     14835\n",
      "weighted avg       0.92      0.93      0.92     14835\n",
      "\n"
     ]
    }
   ],
   "source": [
    "from sklearn.metrics import confusion_matrix , classification_report\n",
    "\n",
    "print(classification_report(y_test1,y_pred))"
   ]
  },
  {
   "cell_type": "code",
   "execution_count": 44,
   "id": "KdNpNDi1QweS",
   "metadata": {
    "colab": {
     "base_uri": "https://localhost:8080/",
     "height": 459
    },
    "id": "KdNpNDi1QweS",
    "outputId": "1532d126-8738-43bd-e0c3-cc0c6b096b70",
    "scrolled": true
   },
   "outputs": [
    {
     "data": {
      "text/plain": [
       "Text(95.72222222222221, 0.5, 'Truth')"
      ]
     },
     "execution_count": 44,
     "metadata": {},
     "output_type": "execute_result"
    },
    {
     "data": {
      "image/png": "[encoded data removed]",
      "text/plain": [
       "<Figure size 1000x700 with 2 Axes>"
      ]
     },
     "metadata": {},
     "output_type": "display_data"
    }
   ],
   "source": [
    "import seaborn as sn\n",
    "cm = tf.math.confusion_matrix(labels=y_test1,predictions=y_pred)\n",
    "\n",
    "plt.figure(figsize = (10,7))\n",
    "sn.heatmap(cm, annot=True, fmt='d')\n",
    "plt.xlabel('Predicted')\n",
    "plt.ylabel('Truth')"
   ]
  },
  {
   "cell_type": "code",
   "execution_count": 45,
   "id": "7c45bb3b",
   "metadata": {},
   "outputs": [],
   "source": [
    "#import joblib"
   ]
  },
  {
   "cell_type": "code",
   "execution_count": 46,
   "id": "ee1ccdb9",
   "metadata": {},
   "outputs": [],
   "source": [
    "#joblib.dump(model, 'model33.pkl')"
   ]
  },
  {
   "cell_type": "code",
   "execution_count": null,
   "id": "ed694bab",
   "metadata": {},
   "outputs": [],
   "source": []
  }
 ],
 "metadata": {
  "colab": {
   "provenance": []
  },
  "kernelspec": {
   "display_name": "tensorflow",
   "language": "python",
   "name": "tensorflow"
  },
  "language_info": {
   "codemirror_mode": {
    "name": "ipython",
    "version": 3
   },
   "file_extension": ".py",
   "mimetype": "text/x-python",
   "name": "python",
   "nbconvert_exporter": "python",
   "pygments_lexer": "ipython3",
   "version": "3.10.0"
  }
 },
 "nbformat": 4,
 "nbformat_minor": 5
}
