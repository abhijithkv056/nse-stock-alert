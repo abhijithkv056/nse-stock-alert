{
 "cells": [
  {
   "cell_type": "code",
   "execution_count": 1,
   "id": "7994c04d",
   "metadata": {},
   "outputs": [
    {
     "name": "stdout",
     "output_type": "stream",
     "text": [
      "['360ONE', '3MINDIA', 'ABB', 'ACC', 'AIAENG', 'APLAPOLLO', 'AUBANK', 'AARTIDRUGS', 'AARTIIND', 'AAVAS', 'ABBOTINDIA', 'ADANIENT', 'ADANIGREEN', 'ADANIPORTS', 'ADANIPOWER', 'ATGL', 'ADANITRANS', 'AWL', 'ABCAPITAL', 'ABFRL', 'AEGISCHEM', 'AETHER', 'AFFLE', 'AJANTPHARM', 'APLLTD', 'ALKEM', 'ALKYLAMINE', 'AMARAJABAT', 'AMBER', 'AMBUJACEM', 'ANGELONE', 'ANURAS', 'APARINDS', 'APOLLOHOSP', 'APOLLOTYRE', 'APTUS', 'ACI', 'ASAHIINDIA', 'ASHOKLEY', 'ASIANPAINT', 'ASTERDM', 'ASTRAL', 'ATUL', 'AUROPHARMA', 'AVANTIFEED', 'DMART', 'AXISBANK', 'BASF', 'BEML', 'BLS', 'BSE', 'BAJAJ-AUTO', 'BAJAJELEC', 'BAJFINANCE', 'BAJAJFINSV', 'BAJAJHLDNG', 'BALAMINES', 'BALKRISIND', 'BALRAMCHIN', 'BANDHANBNK', 'BANKBARODA', 'BANKINDIA', 'MAHABANK', 'BATAINDIA', 'BAYERCROP', 'BERGEPAINT', 'BDL', 'BEL', 'BHARATFORG', 'BHEL', 'BPCL', 'BHARTIARTL', 'BIKAJI', 'BIOCON', 'BIRLACORPN', 'BSOFT', 'BLUEDART', 'BLUESTARCO', 'BBTC', 'BORORENEW', 'BOSCHLTD', 'BRIGADE', 'BCG', 'BRITANNIA', 'MAPMYINDIA', 'CCL', 'CESC', 'CGPOWER', 'CRISIL', 'CSBBANK', 'CAMPUS', 'CANFINHOME', 'CANBK', 'CGCL', 'CARBORUNIV', 'CASTROLIND', 'CEATLTD', 'CENTRALBK', 'CDSL', 'CENTURYPLY', 'CENTURYTEX', 'CERA', 'CHALET', 'CHAMBLFERT', 'CHEMPLASTS', 'CHOLAHLDNG', 'CHOLAFIN', 'CIPLA', 'CUB', 'CLEAN', 'COALINDIA', 'COCHINSHIP', 'COFORGE', 'COLPAL', 'CAMS', 'CONCOR', 'COROMANDEL', 'CRAFTSMAN', 'CREDITACC', 'CROMPTON', 'CUMMINSIND', 'CYIENT', 'DCMSHRIRAM', 'DLF', 'DABUR', 'DALBHARAT', 'DATAPATTNS', 'DEEPAKFERT', 'DEEPAKNTR', 'DELHIVERY', 'DELTACORP', 'DEVYANI', 'DIVISLAB', 'DIXON', 'LALPATHLAB', 'DRREDDY', 'EIDPARRY', 'EIHOTEL', 'EPL', 'EASEMYTRIP', 'EDELWEISS', 'EICHERMOT', 'ELGIEQUIP', 'EMAMILTD', 'ENDURANCE', 'ENGINERSIN', 'EQUITASBNK', 'ESCORTS', 'EXIDEIND', 'FDC', 'NYKAA', 'FEDERALBNK', 'FACT', 'FINEORG', 'FINCABLES', 'FINPIPE', 'FSL', 'FIVESTAR', 'FORTIS', 'GRINFRA', 'GAIL', 'GMMPFAUDLR', 'GMRINFRA', 'GALAXYSURF', 'GARFIBRES', 'GICRE', 'GLAND', 'GLAXO', 'GLENMARK', 'MEDANTA', 'GOCOLORS', 'GODFRYPHLP', 'GODREJAGRO', 'GODREJCP', 'GODREJIND', 'GODREJPROP', 'GRANULES', 'GRAPHITE', 'GRASIM', 'GESHIP', 'GREENPANEL', 'GRINDWELL', 'GUJALKALI', 'GAEL', 'FLUOROCHEM', 'GUJGASLTD', 'GNFC', 'GPPL', 'GSFC', 'GSPL', 'HEG', 'HCLTECH', 'HDFCAMC', 'HDFCBANK', 'HDFCLIFE', 'HFCL', 'HLEGLAS', 'HAPPSTMNDS', 'HAVELLS', 'HEROMOTOCO', 'HIKAL', 'HINDALCO', 'HGS', 'HAL', 'HINDCOPPER', 'HINDPETRO', 'HINDUNILVR', 'HINDZINC', 'POWERINDIA', 'HOMEFIRST', 'HONAUT', 'HUDCO', 'HDFC', 'ICICIBANK', 'ICICIGI', 'ICICIPRULI', 'ISEC', 'IDBI', 'IDFCFIRSTB', 'IDFC', 'IFBIND', 'IIFL', 'IRB', 'ITC', 'ITI', 'INDIACEM', 'IBULHSGFIN', 'IBREALEST', 'INDIAMART', 'INDIANB', 'IEX', 'INDHOTEL', 'IOC', 'IOB', 'IRCTC', 'IRFC', 'INDIGOPNTS', 'IGL', 'INDUSTOWER', 'INDUSINDBK', 'INFIBEAM', 'NAUKRI', 'INFY', 'INGERRAND', 'INTELLECT', 'INDIGO', 'IPCALAB', 'JBCHEPHARM', 'JKCEMENT', 'JBMA', 'JKLAKSHMI', 'JKPAPER', 'JMFINANCIL', 'JSWENERGY', 'JSWSTEEL', 'JAMNAAUTO', 'JSL', 'JINDALSTEL', 'JINDWORLD', 'JUBLFOOD', 'JUBLINGREA', 'JUBLPHARMA', 'JUSTDIAL', 'JYOTHYLAB', 'KPRMILL', 'KEI', 'KNRCON', 'KPITTECH', 'KRBL', 'KSB', 'KAJARIACER', 'KALPATPOWR', 'KALYANKJIL', 'KANSAINER', 'KARURVYSYA', 'KEC', 'KENNAMET', 'RUSTOMJEE', 'KFINTECH', 'KOTAKBANK', 'KIMS', 'L&TFH', 'LTTS', 'LICHSGFIN', 'LTIM', 'LAXMIMACH', 'LT', 'LATENTVIEW', 'LAURUSLABS', 'LXCHEM', 'LEMONTREE', 'LICI', 'LINDEINDIA', 'LUPIN', 'LUXIND', 'MMTC', 'MRF', 'MTARTECH', 'LODHA', 'MGL', 'M&MFIN', 'M&M', 'MAHINDCIE', 'MHRIL', 'MAHLIFE', 'MAHLOG', 'MANAPPURAM', 'MRPL', 'MARICO', 'MARUTI', 'MASTEK', 'MFSL', 'MAXHEALTH', 'MAZDOCK', 'MEDPLUS', 'MFL', 'METROBRAND', 'METROPOLIS', 'MSUMI', 'MOTILALOFS', 'MPHASIS', 'MCX', 'MUTHOOTFIN', 'NATCOPHARM', 'NBCC', 'NCC', 'NHPC', 'NLCINDIA', 'NMDC', 'NOCIL', 'NTPC', 'NH', 'NATIONALUM', 'NAVINFLUOR', 'NAZARA', 'NESTLEIND', 'NETWORK18', 'NAM-INDIA', 'NUVOCO', 'OBEROIRLTY', 'ONGC', 'OIL', 'OLECTRA', 'PAYTM', 'OFSS', 'ORIENTELEC', 'POLICYBZR', 'PCBL', 'PIIND', 'PNBHOUSING', 'PNCINFRA', 'PVR', 'PAGEIND', 'PATANJALI', 'PERSISTENT', 'PETRONET', 'PFIZER', 'PHOENIXLTD', 'PIDILITIND', 'PEL', 'PPLPHARMA', 'POLYMED', 'POLYCAB', 'POLYPLEX', 'POONAWALLA', 'PFC', 'POWERGRID', 'PRAJIND', 'PRESTIGE', 'PRINCEPIPE', 'PRSMJOHNSN', 'PGHH', 'PNB', 'QUESS', 'RBLBANK', 'RECLTD', 'RHIM', 'RITES', 'RADICO', 'RVNL', 'RAIN', 'RAINBOW', 'RAJESHEXPO', 'RALLIS', 'RCF', 'RATNAMANI', 'RTNINDIA', 'RAYMOND', 'REDINGTON', 'RELAXO', 'RELIANCE', 'RBA', 'ROSSARI', 'ROUTE', 'SBICARD', 'SBILIFE', 'SJVN', 'SKFINDIA', 'SRF', 'MOTHERSON', 'SANOFI', 'SAPPHIRE', 'SCHAEFFLER', 'SHARDACROP', 'SHOPERSTOP', 'SHREECEM', 'RENUKA', 'SHRIRAMFIN', 'SHYAMMETL', 'SIEMENS', 'SOBHA', 'SOLARINDS', 'SONACOMS', 'SONATSOFTW', 'STARHEALTH', 'SBIN', 'SAIL', 'SWSOLAR', 'STLTECH', 'SUMICHEM', 'SPARC', 'SUNPHARMA', 'SUNTV', 'SUNDARMFIN', 'SUNDRMFAST', 'SUNTECK', 'SUPRAJIT', 'SUPREMEIND', 'SUVENPHAR', 'SUZLON', 'SWANENERGY', 'SYNGENE', 'TCIEXP', 'TCNSBRANDS', 'TTKPRESTIG', 'TV18BRDCST', 'TVSMOTOR', 'TMB', 'TANLA', 'TATACHEM', 'TATACOMM', 'TCS', 'TATACONSUM', 'TATAELXSI', 'TATAINVEST', 'TATAMTRDVR', 'TATAMOTORS', 'TATAPOWER', 'TATASTEEL', 'TTML', 'TEAMLEASE', 'TECHM', 'TEJASNET', 'NIACL', 'RAMCOCEM', 'THERMAX', 'TIMKEN', 'TITAN', 'TORNTPHARM', 'TORNTPOWER', 'TCI', 'TRENT', 'TRIDENT', 'TRIVENI', 'TRITURBINE', 'TIINDIA', 'UCOBANK', 'UFLEX', 'UNOMINDA', 'UPL', 'UTIAMC', 'ULTRACEMCO', 'UNIONBANK', 'UBL', 'MCDOWELL-N', 'VGUARD', 'VMART', 'VIPIND', 'VAIBHAVGBL', 'VTL', 'VARROC', 'VBL', 'MANYAVAR', 'VEDL', 'VIJAYA', 'VINATIORGA', 'IDEA', 'VOLTAS', 'WELCORP', 'WELSPUNIND', 'WESTLIFE', 'WHIRLPOOL', 'WIPRO', 'YESBANK', 'ZFCVINDIA', 'ZEEL', 'ZENSARTECH', 'ZOMATO', 'ZYDUSLIFE', 'ZYDUSWELL', 'ECLERX']\n"
     ]
    },
    {
     "data": {
      "text/html": [
       "<div>\n",
       "<style scoped>\n",
       "    .dataframe tbody tr th:only-of-type {\n",
       "        vertical-align: middle;\n",
       "    }\n",
       "\n",
       "    .dataframe tbody tr th {\n",
       "        vertical-align: top;\n",
       "    }\n",
       "\n",
       "    .dataframe thead th {\n",
       "        text-align: right;\n",
       "    }\n",
       "</style>\n",
       "<table border=\"1\" class=\"dataframe\">\n",
       "  <thead>\n",
       "    <tr style=\"text-align: right;\">\n",
       "      <th></th>\n",
       "      <th>0</th>\n",
       "    </tr>\n",
       "  </thead>\n",
       "  <tbody>\n",
       "    <tr>\n",
       "      <th>0</th>\n",
       "      <td>360ONE</td>\n",
       "    </tr>\n",
       "    <tr>\n",
       "      <th>1</th>\n",
       "      <td>3MINDIA</td>\n",
       "    </tr>\n",
       "    <tr>\n",
       "      <th>2</th>\n",
       "      <td>ABB</td>\n",
       "    </tr>\n",
       "    <tr>\n",
       "      <th>3</th>\n",
       "      <td>ACC</td>\n",
       "    </tr>\n",
       "    <tr>\n",
       "      <th>4</th>\n",
       "      <td>AIAENG</td>\n",
       "    </tr>\n",
       "    <tr>\n",
       "      <th>...</th>\n",
       "      <td>...</td>\n",
       "    </tr>\n",
       "    <tr>\n",
       "      <th>496</th>\n",
       "      <td>ZENSARTECH</td>\n",
       "    </tr>\n",
       "    <tr>\n",
       "      <th>497</th>\n",
       "      <td>ZOMATO</td>\n",
       "    </tr>\n",
       "    <tr>\n",
       "      <th>498</th>\n",
       "      <td>ZYDUSLIFE</td>\n",
       "    </tr>\n",
       "    <tr>\n",
       "      <th>499</th>\n",
       "      <td>ZYDUSWELL</td>\n",
       "    </tr>\n",
       "    <tr>\n",
       "      <th>500</th>\n",
       "      <td>ECLERX</td>\n",
       "    </tr>\n",
       "  </tbody>\n",
       "</table>\n",
       "<p>501 rows × 1 columns</p>\n",
       "</div>"
      ],
      "text/plain": [
       "              0\n",
       "0        360ONE\n",
       "1       3MINDIA\n",
       "2           ABB\n",
       "3           ACC\n",
       "4        AIAENG\n",
       "..          ...\n",
       "496  ZENSARTECH\n",
       "497      ZOMATO\n",
       "498   ZYDUSLIFE\n",
       "499   ZYDUSWELL\n",
       "500      ECLERX\n",
       "\n",
       "[501 rows x 1 columns]"
      ]
     },
     "execution_count": 1,
     "metadata": {},
     "output_type": "execute_result"
    }
   ],
   "source": [
    "import pandas as pd\n",
    "import joblib\n",
    "\n",
    "nifty_500 = pd.read_csv('ind_nifty500list.csv')\n",
    "stocks = nifty_500['Symbol'].values.tolist()\n",
    "print(stocks)\n",
    "stocks = pd.DataFrame(stocks)\n",
    "stocks"
   ]
  },
  {
   "cell_type": "code",
   "execution_count": 2,
   "id": "dab997eb",
   "metadata": {},
   "outputs": [
    {
     "name": "stdout",
     "output_type": "stream",
     "text": [
      "[*********************100%***********************]  1 of 1 completed\n",
      "360ONE.NS 541 1 out of 500 stocks imported\n",
      "[*********************100%***********************]  1 of 1 completed\n",
      "3MINDIA.NS 541 2 out of 500 stocks imported\n",
      "[*********************100%***********************]  1 of 1 completed\n",
      "ABB.NS 541 3 out of 500 stocks imported\n",
      "[*********************100%***********************]  1 of 1 completed\n",
      "ACC.NS 541 4 out of 500 stocks imported\n",
      "[*********************100%***********************]  1 of 1 completed\n",
      "AIAENG.NS 541 5 out of 500 stocks imported\n",
      "[*********************100%***********************]  1 of 1 completed\n",
      "APLAPOLLO.NS 541 6 out of 500 stocks imported\n",
      "[*********************100%***********************]  1 of 1 completed\n",
      "AUBANK.NS 541 7 out of 500 stocks imported\n",
      "[*********************100%***********************]  1 of 1 completed\n",
      "AARTIDRUGS.NS 541 8 out of 500 stocks imported\n",
      "[*********************100%***********************]  1 of 1 completed\n",
      "AARTIIND.NS 541 9 out of 500 stocks imported\n",
      "[*********************100%***********************]  1 of 1 completed\n",
      "AAVAS.NS 541 10 out of 500 stocks imported\n",
      "[*********************100%***********************]  1 of 1 completed\n",
      "ABBOTINDIA.NS 541 11 out of 500 stocks imported\n",
      "[*********************100%***********************]  1 of 1 completed\n",
      "ADANIENT.NS 541 12 out of 500 stocks imported\n",
      "[*********************100%***********************]  1 of 1 completed\n",
      "ADANIGREEN.NS 541 13 out of 500 stocks imported\n",
      "[*********************100%***********************]  1 of 1 completed\n",
      "ADANIPORTS.NS 541 14 out of 500 stocks imported\n",
      "[*********************100%***********************]  1 of 1 completed\n",
      "ADANIPOWER.NS 541 15 out of 500 stocks imported\n",
      "[*********************100%***********************]  1 of 1 completed\n",
      "ATGL.NS 541 16 out of 500 stocks imported\n",
      "[*********************100%***********************]  1 of 1 completed\n",
      "ADANITRANS.NS 541 17 out of 500 stocks imported\n",
      "[*********************100%***********************]  1 of 1 completed\n",
      "skipping AWL.NS as it has only 296 values\n",
      "[*********************100%***********************]  1 of 1 completed\n",
      "ABCAPITAL.NS 541 18 out of 500 stocks imported\n",
      "[*********************100%***********************]  1 of 1 completed\n",
      "ABFRL.NS 541 19 out of 500 stocks imported\n",
      "[*********************100%***********************]  1 of 1 completed\n",
      "AEGISCHEM.NS 541 20 out of 500 stocks imported\n",
      "[*********************100%***********************]  1 of 1 completed\n",
      "skipping AETHER.NS as it has only 218 values\n",
      "[*********************100%***********************]  1 of 1 completed\n",
      "AFFLE.NS 541 21 out of 500 stocks imported\n",
      "[*********************100%***********************]  1 of 1 completed\n",
      "AJANTPHARM.NS 541 22 out of 500 stocks imported\n",
      "[*********************100%***********************]  1 of 1 completed\n",
      "APLLTD.NS 541 23 out of 500 stocks imported\n",
      "[*********************100%***********************]  1 of 1 completed\n",
      "ALKEM.NS 541 24 out of 500 stocks imported\n",
      "[*********************100%***********************]  1 of 1 completed\n",
      "ALKYLAMINE.NS 541 25 out of 500 stocks imported\n",
      "[*********************100%***********************]  1 of 1 completed\n",
      "AMARAJABAT.NS 541 26 out of 500 stocks imported\n",
      "[*********************100%***********************]  1 of 1 completed\n",
      "AMBER.NS 541 27 out of 500 stocks imported\n",
      "[*********************100%***********************]  1 of 1 completed\n",
      "AMBUJACEM.NS 541 28 out of 500 stocks imported\n",
      "[*********************100%***********************]  1 of 1 completed\n",
      "ANGELONE.NS 541 29 out of 500 stocks imported\n",
      "[*********************100%***********************]  1 of 1 completed\n",
      "ANURAS.NS 513 30 out of 500 stocks imported\n",
      "[*********************100%***********************]  1 of 1 completed\n",
      "APARINDS.NS 541 31 out of 500 stocks imported\n",
      "[*********************100%***********************]  1 of 1 completed\n",
      "APOLLOHOSP.NS 541 32 out of 500 stocks imported\n",
      "[*********************100%***********************]  1 of 1 completed\n",
      "APOLLOTYRE.NS 541 33 out of 500 stocks imported\n",
      "[*********************100%***********************]  1 of 1 completed\n",
      "skipping APTUS.NS as it has only 411 values\n",
      "[*********************100%***********************]  1 of 1 completed\n",
      "skipping ACI.NS as it has only 103 values\n",
      "[*********************100%***********************]  1 of 1 completed\n",
      "ASAHIINDIA.NS 541 34 out of 500 stocks imported\n",
      "[*********************100%***********************]  1 of 1 completed\n",
      "ASHOKLEY.NS 541 35 out of 500 stocks imported\n",
      "[*********************100%***********************]  1 of 1 completed\n",
      "ASIANPAINT.NS 541 36 out of 500 stocks imported\n",
      "[*********************100%***********************]  1 of 1 completed\n",
      "ASTERDM.NS 541 37 out of 500 stocks imported\n",
      "[*********************100%***********************]  1 of 1 completed\n",
      "ASTRAL.NS 541 38 out of 500 stocks imported\n",
      "[*********************100%***********************]  1 of 1 completed\n",
      "ATUL.NS 541 39 out of 500 stocks imported\n",
      "[*********************100%***********************]  1 of 1 completed\n",
      "AUROPHARMA.NS 541 40 out of 500 stocks imported\n",
      "[*********************100%***********************]  1 of 1 completed\n",
      "AVANTIFEED.NS 541 41 out of 500 stocks imported\n",
      "[*********************100%***********************]  1 of 1 completed\n",
      "DMART.NS 541 42 out of 500 stocks imported\n",
      "[*********************100%***********************]  1 of 1 completed\n",
      "AXISBANK.NS 541 43 out of 500 stocks imported\n",
      "[*********************100%***********************]  1 of 1 completed\n",
      "BASF.NS 541 44 out of 500 stocks imported\n",
      "[*********************100%***********************]  1 of 1 completed\n",
      "BEML.NS 541 45 out of 500 stocks imported\n",
      "[*********************100%***********************]  1 of 1 completed\n",
      "BLS.NS 541 46 out of 500 stocks imported\n",
      "[*********************100%***********************]  1 of 1 completed\n",
      "BSE.NS 541 47 out of 500 stocks imported\n",
      "[*********************100%***********************]  1 of 1 completed\n",
      "BAJAJ-AUTO.NS 541 48 out of 500 stocks imported\n",
      "[*********************100%***********************]  1 of 1 completed\n",
      "BAJAJELEC.NS 541 49 out of 500 stocks imported\n",
      "[*********************100%***********************]  1 of 1 completed\n",
      "BAJFINANCE.NS 541 50 out of 500 stocks imported\n",
      "[*********************100%***********************]  1 of 1 completed\n",
      "BAJAJFINSV.NS 541 51 out of 500 stocks imported\n",
      "[*********************100%***********************]  1 of 1 completed\n",
      "BAJAJHLDNG.NS 541 52 out of 500 stocks imported\n",
      "[*********************100%***********************]  1 of 1 completed\n",
      "BALAMINES.NS 541 53 out of 500 stocks imported\n",
      "[*********************100%***********************]  1 of 1 completed\n",
      "BALKRISIND.NS 541 54 out of 500 stocks imported\n",
      "[*********************100%***********************]  1 of 1 completed\n",
      "BALRAMCHIN.NS 541 55 out of 500 stocks imported\n",
      "[*********************100%***********************]  1 of 1 completed\n",
      "BANDHANBNK.NS 541 56 out of 500 stocks imported\n",
      "[*********************100%***********************]  1 of 1 completed\n",
      "BANKBARODA.NS 541 57 out of 500 stocks imported\n",
      "[*********************100%***********************]  1 of 1 completed\n",
      "BANKINDIA.NS 541 58 out of 500 stocks imported\n",
      "[*********************100%***********************]  1 of 1 completed\n",
      "MAHABANK.NS 541 59 out of 500 stocks imported\n",
      "[*********************100%***********************]  1 of 1 completed\n",
      "BATAINDIA.NS 541 60 out of 500 stocks imported\n",
      "[*********************100%***********************]  1 of 1 completed\n",
      "BAYERCROP.NS 541 61 out of 500 stocks imported\n",
      "[*********************100%***********************]  1 of 1 completed\n",
      "BERGEPAINT.NS 541 62 out of 500 stocks imported\n",
      "[*********************100%***********************]  1 of 1 completed\n",
      "BDL.NS 541 63 out of 500 stocks imported\n",
      "[*********************100%***********************]  1 of 1 completed\n",
      "BEL.NS 541 64 out of 500 stocks imported\n",
      "[*********************100%***********************]  1 of 1 completed\n",
      "BHARATFORG.NS 541 65 out of 500 stocks imported\n",
      "[*********************100%***********************]  1 of 1 completed\n",
      "BHEL.NS 541 66 out of 500 stocks imported\n",
      "[*********************100%***********************]  1 of 1 completed\n",
      "BPCL.NS 541 67 out of 500 stocks imported\n",
      "[*********************100%***********************]  1 of 1 completed\n",
      "BHARTIARTL.NS 541 68 out of 500 stocks imported\n"
     ]
    },
    {
     "name": "stdout",
     "output_type": "stream",
     "text": [
      "[*********************100%***********************]  1 of 1 completed\n",
      "skipping BIKAJI.NS as it has only 106 values\n",
      "[*********************100%***********************]  1 of 1 completed\n",
      "BIOCON.NS 541 69 out of 500 stocks imported\n",
      "[*********************100%***********************]  1 of 1 completed\n",
      "BIRLACORPN.NS 541 70 out of 500 stocks imported\n",
      "[*********************100%***********************]  1 of 1 completed\n",
      "BSOFT.NS 541 71 out of 500 stocks imported\n",
      "[*********************100%***********************]  1 of 1 completed\n",
      "BLUEDART.NS 541 72 out of 500 stocks imported\n",
      "[*********************100%***********************]  1 of 1 completed\n",
      "BLUESTARCO.NS 541 73 out of 500 stocks imported\n",
      "[*********************100%***********************]  1 of 1 completed\n",
      "BBTC.NS 541 74 out of 500 stocks imported\n",
      "[*********************100%***********************]  1 of 1 completed\n",
      "BORORENEW.NS 541 75 out of 500 stocks imported\n",
      "[*********************100%***********************]  1 of 1 completed\n",
      "BOSCHLTD.NS 541 76 out of 500 stocks imported\n",
      "[*********************100%***********************]  1 of 1 completed\n",
      "BRIGADE.NS 541 77 out of 500 stocks imported\n",
      "[*********************100%***********************]  1 of 1 completed\n",
      "BCG.NS 541 78 out of 500 stocks imported\n",
      "[*********************100%***********************]  1 of 1 completed\n",
      "BRITANNIA.NS 541 79 out of 500 stocks imported\n",
      "[*********************100%***********************]  1 of 1 completed\n",
      "skipping MAPMYINDIA.NS as it has only 330 values\n",
      "[*********************100%***********************]  1 of 1 completed\n",
      "CCL.NS 541 80 out of 500 stocks imported\n",
      "[*********************100%***********************]  1 of 1 completed\n",
      "CESC.NS 541 81 out of 500 stocks imported\n",
      "[*********************100%***********************]  1 of 1 completed\n",
      "CGPOWER.NS 541 82 out of 500 stocks imported\n",
      "[*********************100%***********************]  1 of 1 completed\n",
      "CRISIL.NS 541 83 out of 500 stocks imported\n",
      "[*********************100%***********************]  1 of 1 completed\n",
      "CSBBANK.NS 541 84 out of 500 stocks imported\n",
      "[*********************100%***********************]  1 of 1 completed\n",
      "skipping CAMPUS.NS as it has only 237 values\n",
      "[*********************100%***********************]  1 of 1 completed\n",
      "CANFINHOME.NS 541 85 out of 500 stocks imported\n",
      "[*********************100%***********************]  1 of 1 completed\n",
      "CANBK.NS 541 86 out of 500 stocks imported\n",
      "[*********************100%***********************]  1 of 1 completed\n",
      "CGCL.NS 541 87 out of 500 stocks imported\n",
      "[*********************100%***********************]  1 of 1 completed\n",
      "CARBORUNIV.NS 541 88 out of 500 stocks imported\n",
      "[*********************100%***********************]  1 of 1 completed\n",
      "CASTROLIND.NS 541 89 out of 500 stocks imported\n",
      "[*********************100%***********************]  1 of 1 completed\n",
      "CEATLTD.NS 541 90 out of 500 stocks imported\n",
      "[*********************100%***********************]  1 of 1 completed\n",
      "CENTRALBK.NS 541 91 out of 500 stocks imported\n",
      "[*********************100%***********************]  1 of 1 completed\n",
      "CDSL.NS 541 92 out of 500 stocks imported\n",
      "[*********************100%***********************]  1 of 1 completed\n",
      "CENTURYPLY.NS 541 93 out of 500 stocks imported\n",
      "[*********************100%***********************]  1 of 1 completed\n",
      "CENTURYTEX.NS 541 94 out of 500 stocks imported\n",
      "[*********************100%***********************]  1 of 1 completed\n",
      "CERA.NS 541 95 out of 500 stocks imported\n",
      "[*********************100%***********************]  1 of 1 completed\n",
      "CHALET.NS 541 96 out of 500 stocks imported\n",
      "[*********************100%***********************]  1 of 1 completed\n",
      "CHAMBLFERT.NS 541 97 out of 500 stocks imported\n",
      "[*********************100%***********************]  1 of 1 completed\n",
      "skipping CHEMPLASTS.NS as it has only 411 values\n",
      "[*********************100%***********************]  1 of 1 completed\n",
      "CHOLAHLDNG.NS 541 98 out of 500 stocks imported\n",
      "[*********************100%***********************]  1 of 1 completed\n",
      "CHOLAFIN.NS 541 99 out of 500 stocks imported\n",
      "[*********************100%***********************]  1 of 1 completed\n",
      "CIPLA.NS 541 100 out of 500 stocks imported\n",
      "[*********************100%***********************]  1 of 1 completed\n",
      "CUB.NS 541 101 out of 500 stocks imported\n",
      "[*********************100%***********************]  1 of 1 completed\n",
      "skipping CLEAN.NS as it has only 435 values\n",
      "[*********************100%***********************]  1 of 1 completed\n",
      "COALINDIA.NS 541 102 out of 500 stocks imported\n",
      "[*********************100%***********************]  1 of 1 completed\n",
      "COCHINSHIP.NS 541 103 out of 500 stocks imported\n",
      "[*********************100%***********************]  1 of 1 completed\n",
      "COFORGE.NS 541 104 out of 500 stocks imported\n",
      "[*********************100%***********************]  1 of 1 completed\n",
      "COLPAL.NS 541 105 out of 500 stocks imported\n",
      "[*********************100%***********************]  1 of 1 completed\n",
      "CAMS.NS 541 106 out of 500 stocks imported\n",
      "[*********************100%***********************]  1 of 1 completed\n",
      "CONCOR.NS 541 107 out of 500 stocks imported\n",
      "[*********************100%***********************]  1 of 1 completed\n",
      "COROMANDEL.NS 541 108 out of 500 stocks imported\n",
      "[*********************100%***********************]  1 of 1 completed\n",
      "CRAFTSMAN.NS 512 109 out of 500 stocks imported\n",
      "[*********************100%***********************]  1 of 1 completed\n",
      "CREDITACC.NS 541 110 out of 500 stocks imported\n",
      "[*********************100%***********************]  1 of 1 completed\n",
      "CROMPTON.NS 541 111 out of 500 stocks imported\n",
      "[*********************100%***********************]  1 of 1 completed\n",
      "CUMMINSIND.NS 541 112 out of 500 stocks imported\n",
      "[*********************100%***********************]  1 of 1 completed\n",
      "CYIENT.NS 541 113 out of 500 stocks imported\n",
      "[*********************100%***********************]  1 of 1 completed\n",
      "DCMSHRIRAM.NS 541 114 out of 500 stocks imported\n",
      "[*********************100%***********************]  1 of 1 completed\n",
      "DLF.NS 541 115 out of 500 stocks imported\n",
      "[*********************100%***********************]  1 of 1 completed\n",
      "DABUR.NS 541 116 out of 500 stocks imported\n",
      "[*********************100%***********************]  1 of 1 completed\n",
      "DALBHARAT.NS 541 117 out of 500 stocks imported\n",
      "[*********************100%***********************]  1 of 1 completed\n",
      "skipping DATAPATTNS.NS as it has only 327 values\n",
      "[*********************100%***********************]  1 of 1 completed\n",
      "DEEPAKFERT.NS 541 118 out of 500 stocks imported\n",
      "[*********************100%***********************]  1 of 1 completed\n",
      "DEEPAKNTR.NS 541 119 out of 500 stocks imported\n",
      "[*********************100%***********************]  1 of 1 completed\n",
      "skipping DELHIVERY.NS as it has only 226 values\n",
      "[*********************100%***********************]  1 of 1 completed\n",
      "DELTACORP.NS 541 120 out of 500 stocks imported\n",
      "[*********************100%***********************]  1 of 1 completed\n",
      "skipping DEVYANI.NS as it has only 416 values\n",
      "[*********************100%***********************]  1 of 1 completed\n",
      "DIVISLAB.NS 541 121 out of 500 stocks imported\n",
      "[*********************100%***********************]  1 of 1 completed\n",
      "DIXON.NS 541 122 out of 500 stocks imported\n",
      "[*********************100%***********************]  1 of 1 completed\n",
      "LALPATHLAB.NS 541 123 out of 500 stocks imported\n",
      "[*********************100%***********************]  1 of 1 completed\n",
      "DRREDDY.NS 541 124 out of 500 stocks imported\n",
      "[*********************100%***********************]  1 of 1 completed\n",
      "EIDPARRY.NS 541 125 out of 500 stocks imported\n",
      "[*********************100%***********************]  1 of 1 completed\n",
      "EIHOTEL.NS 541 126 out of 500 stocks imported\n",
      "[*********************100%***********************]  1 of 1 completed\n",
      "EPL.NS 541 127 out of 500 stocks imported\n",
      "[*********************100%***********************]  1 of 1 completed\n",
      "EASEMYTRIP.NS 516 128 out of 500 stocks imported\n",
      "[*********************100%***********************]  1 of 1 completed\n",
      "EDELWEISS.NS 541 129 out of 500 stocks imported\n",
      "[*********************100%***********************]  1 of 1 completed\n",
      "EICHERMOT.NS 541 130 out of 500 stocks imported\n",
      "[*********************100%***********************]  1 of 1 completed\n",
      "ELGIEQUIP.NS 541 131 out of 500 stocks imported\n"
     ]
    },
    {
     "name": "stdout",
     "output_type": "stream",
     "text": [
      "[*********************100%***********************]  1 of 1 completed\n",
      "EMAMILTD.NS 541 132 out of 500 stocks imported\n",
      "[*********************100%***********************]  1 of 1 completed\n",
      "ENDURANCE.NS 541 133 out of 500 stocks imported\n",
      "[*********************100%***********************]  1 of 1 completed\n",
      "ENGINERSIN.NS 541 134 out of 500 stocks imported\n",
      "[*********************100%***********************]  1 of 1 completed\n",
      "EQUITASBNK.NS 541 135 out of 500 stocks imported\n",
      "[*********************100%***********************]  1 of 1 completed\n",
      "ESCORTS.NS 541 136 out of 500 stocks imported\n",
      "[*********************100%***********************]  1 of 1 completed\n",
      "EXIDEIND.NS 541 137 out of 500 stocks imported\n",
      "[*********************100%***********************]  1 of 1 completed\n",
      "FDC.NS 541 138 out of 500 stocks imported\n",
      "[*********************100%***********************]  1 of 1 completed\n",
      "skipping NYKAA.NS as it has only 358 values\n",
      "[*********************100%***********************]  1 of 1 completed\n",
      "FEDERALBNK.NS 541 139 out of 500 stocks imported\n",
      "[*********************100%***********************]  1 of 1 completed\n",
      "FACT.NS 541 140 out of 500 stocks imported\n",
      "[*********************100%***********************]  1 of 1 completed\n",
      "FINEORG.NS 541 141 out of 500 stocks imported\n",
      "[*********************100%***********************]  1 of 1 completed\n",
      "FINCABLES.NS 541 142 out of 500 stocks imported\n",
      "[*********************100%***********************]  1 of 1 completed\n",
      "FINPIPE.NS 541 143 out of 500 stocks imported\n",
      "[*********************100%***********************]  1 of 1 completed\n",
      "FSL.NS 541 144 out of 500 stocks imported\n",
      "[*********************100%***********************]  1 of 1 completed\n",
      "skipping FIVESTAR.NS as it has only 103 values\n",
      "[*********************100%***********************]  1 of 1 completed\n",
      "FORTIS.NS 541 145 out of 500 stocks imported\n",
      "[*********************100%***********************]  1 of 1 completed\n",
      "skipping GRINFRA.NS as it has only 435 values\n",
      "[*********************100%***********************]  1 of 1 completed\n",
      "GAIL.NS 541 146 out of 500 stocks imported\n",
      "[*********************100%***********************]  1 of 1 completed\n",
      "GMMPFAUDLR.NS 541 147 out of 500 stocks imported\n",
      "[*********************100%***********************]  1 of 1 completed\n",
      "GMRINFRA.NS 541 148 out of 500 stocks imported\n",
      "[*********************100%***********************]  1 of 1 completed\n",
      "GALAXYSURF.NS 541 149 out of 500 stocks imported\n",
      "[*********************100%***********************]  1 of 1 completed\n",
      "GARFIBRES.NS 541 150 out of 500 stocks imported\n",
      "[*********************100%***********************]  1 of 1 completed\n",
      "GICRE.NS 541 151 out of 500 stocks imported\n",
      "[*********************100%***********************]  1 of 1 completed\n",
      "GLAND.NS 541 152 out of 500 stocks imported\n",
      "[*********************100%***********************]  1 of 1 completed\n",
      "GLAXO.NS 541 153 out of 500 stocks imported\n",
      "[*********************100%***********************]  1 of 1 completed\n",
      "GLENMARK.NS 541 154 out of 500 stocks imported\n",
      "[*********************100%***********************]  1 of 1 completed\n",
      "skipping MEDANTA.NS as it has only 104 values\n",
      "[*********************100%***********************]  1 of 1 completed\n",
      "skipping GOCOLORS.NS as it has only 345 values\n",
      "[*********************100%***********************]  1 of 1 completed\n",
      "GODFRYPHLP.NS 541 155 out of 500 stocks imported\n",
      "[*********************100%***********************]  1 of 1 completed\n",
      "GODREJAGRO.NS 541 156 out of 500 stocks imported\n",
      "[*********************100%***********************]  1 of 1 completed\n",
      "GODREJCP.NS 541 157 out of 500 stocks imported\n",
      "[*********************100%***********************]  1 of 1 completed\n",
      "GODREJIND.NS 541 158 out of 500 stocks imported\n",
      "[*********************100%***********************]  1 of 1 completed\n",
      "GODREJPROP.NS 541 159 out of 500 stocks imported\n",
      "[*********************100%***********************]  1 of 1 completed\n",
      "GRANULES.NS 541 160 out of 500 stocks imported\n",
      "[*********************100%***********************]  1 of 1 completed\n",
      "GRAPHITE.NS 541 161 out of 500 stocks imported\n",
      "[*********************100%***********************]  1 of 1 completed\n",
      "GRASIM.NS 541 162 out of 500 stocks imported\n",
      "[*********************100%***********************]  1 of 1 completed\n",
      "GESHIP.NS 541 163 out of 500 stocks imported\n",
      "[*********************100%***********************]  1 of 1 completed\n",
      "GREENPANEL.NS 541 164 out of 500 stocks imported\n",
      "[*********************100%***********************]  1 of 1 completed\n",
      "GRINDWELL.NS 541 165 out of 500 stocks imported\n",
      "[*********************100%***********************]  1 of 1 completed\n",
      "GUJALKALI.NS 541 166 out of 500 stocks imported\n",
      "[*********************100%***********************]  1 of 1 completed\n",
      "GAEL.NS 541 167 out of 500 stocks imported\n",
      "[*********************100%***********************]  1 of 1 completed\n",
      "FLUOROCHEM.NS 541 168 out of 500 stocks imported\n",
      "[*********************100%***********************]  1 of 1 completed\n",
      "GUJGASLTD.NS 541 169 out of 500 stocks imported\n",
      "[*********************100%***********************]  1 of 1 completed\n",
      "GNFC.NS 541 170 out of 500 stocks imported\n",
      "[*********************100%***********************]  1 of 1 completed\n",
      "GPPL.NS 541 171 out of 500 stocks imported\n",
      "[*********************100%***********************]  1 of 1 completed\n",
      "GSFC.NS 541 172 out of 500 stocks imported\n",
      "[*********************100%***********************]  1 of 1 completed\n",
      "GSPL.NS 541 173 out of 500 stocks imported\n",
      "[*********************100%***********************]  1 of 1 completed\n",
      "HEG.NS 541 174 out of 500 stocks imported\n",
      "[*********************100%***********************]  1 of 1 completed\n",
      "HCLTECH.NS 541 175 out of 500 stocks imported\n",
      "[*********************100%***********************]  1 of 1 completed\n",
      "HDFCAMC.NS 541 176 out of 500 stocks imported\n",
      "[*********************100%***********************]  1 of 1 completed\n",
      "HDFCBANK.NS 541 177 out of 500 stocks imported\n",
      "[*********************100%***********************]  1 of 1 completed\n",
      "HDFCLIFE.NS 541 178 out of 500 stocks imported\n",
      "[*********************100%***********************]  1 of 1 completed\n",
      "HFCL.NS 541 179 out of 500 stocks imported\n",
      "[*********************100%***********************]  1 of 1 completed\n",
      "HLEGLAS.NS 534 180 out of 500 stocks imported\n",
      "[*********************100%***********************]  1 of 1 completed\n",
      "HAPPSTMNDS.NS 541 181 out of 500 stocks imported\n",
      "[*********************100%***********************]  1 of 1 completed\n",
      "HAVELLS.NS 541 182 out of 500 stocks imported\n",
      "[*********************100%***********************]  1 of 1 completed\n",
      "HEROMOTOCO.NS 541 183 out of 500 stocks imported\n",
      "[*********************100%***********************]  1 of 1 completed\n",
      "HIKAL.NS 541 184 out of 500 stocks imported\n",
      "[*********************100%***********************]  1 of 1 completed\n",
      "HINDALCO.NS 541 185 out of 500 stocks imported\n",
      "[*********************100%***********************]  1 of 1 completed\n",
      "HGS.NS 541 186 out of 500 stocks imported\n",
      "[*********************100%***********************]  1 of 1 completed\n",
      "HAL.NS 541 187 out of 500 stocks imported\n",
      "[*********************100%***********************]  1 of 1 completed\n",
      "HINDCOPPER.NS 541 188 out of 500 stocks imported\n",
      "[*********************100%***********************]  1 of 1 completed\n",
      "HINDPETRO.NS 541 189 out of 500 stocks imported\n",
      "[*********************100%***********************]  1 of 1 completed\n",
      "HINDUNILVR.NS 541 190 out of 500 stocks imported\n",
      "[*********************100%***********************]  1 of 1 completed\n",
      "HINDZINC.NS 541 191 out of 500 stocks imported\n",
      "[*********************100%***********************]  1 of 1 completed\n",
      "POWERINDIA.NS 541 192 out of 500 stocks imported\n",
      "[*********************100%***********************]  1 of 1 completed\n",
      "HOMEFIRST.NS 541 193 out of 500 stocks imported\n",
      "[*********************100%***********************]  1 of 1 completed\n",
      "HONAUT.NS 541 194 out of 500 stocks imported\n",
      "[*********************100%***********************]  1 of 1 completed\n",
      "HUDCO.NS 541 195 out of 500 stocks imported\n",
      "[*********************100%***********************]  1 of 1 completed\n",
      "HDFC.NS 541 196 out of 500 stocks imported\n",
      "[*********************100%***********************]  1 of 1 completed\n",
      "ICICIBANK.NS 541 197 out of 500 stocks imported\n"
     ]
    },
    {
     "name": "stdout",
     "output_type": "stream",
     "text": [
      "[*********************100%***********************]  1 of 1 completed\n",
      "ICICIGI.NS 541 198 out of 500 stocks imported\n",
      "[*********************100%***********************]  1 of 1 completed\n",
      "ICICIPRULI.NS 541 199 out of 500 stocks imported\n",
      "[*********************100%***********************]  1 of 1 completed\n",
      "ISEC.NS 541 200 out of 500 stocks imported\n",
      "[*********************100%***********************]  1 of 1 completed\n",
      "IDBI.NS 541 201 out of 500 stocks imported\n",
      "[*********************100%***********************]  1 of 1 completed\n",
      "IDFCFIRSTB.NS 541 202 out of 500 stocks imported\n",
      "[*********************100%***********************]  1 of 1 completed\n",
      "IDFC.NS 541 203 out of 500 stocks imported\n",
      "[*********************100%***********************]  1 of 1 completed\n",
      "IFBIND.NS 541 204 out of 500 stocks imported\n",
      "[*********************100%***********************]  1 of 1 completed\n",
      "IIFL.NS 541 205 out of 500 stocks imported\n",
      "[*********************100%***********************]  1 of 1 completed\n",
      "IRB.NS 541 206 out of 500 stocks imported\n",
      "[*********************100%***********************]  1 of 1 completed\n",
      "ITC.NS 541 207 out of 500 stocks imported\n",
      "[*********************100%***********************]  1 of 1 completed\n",
      "ITI.NS 541 208 out of 500 stocks imported\n",
      "[*********************100%***********************]  1 of 1 completed\n",
      "INDIACEM.NS 541 209 out of 500 stocks imported\n",
      "[*********************100%***********************]  1 of 1 completed\n",
      "IBULHSGFIN.NS 541 210 out of 500 stocks imported\n",
      "[*********************100%***********************]  1 of 1 completed\n",
      "IBREALEST.NS 541 211 out of 500 stocks imported\n",
      "[*********************100%***********************]  1 of 1 completed\n",
      "INDIAMART.NS 541 212 out of 500 stocks imported\n",
      "[*********************100%***********************]  1 of 1 completed\n",
      "INDIANB.NS 541 213 out of 500 stocks imported\n",
      "[*********************100%***********************]  1 of 1 completed\n",
      "IEX.NS 541 214 out of 500 stocks imported\n",
      "[*********************100%***********************]  1 of 1 completed\n",
      "INDHOTEL.NS 541 215 out of 500 stocks imported\n",
      "[*********************100%***********************]  1 of 1 completed\n",
      "IOC.NS 541 216 out of 500 stocks imported\n",
      "[*********************100%***********************]  1 of 1 completed\n",
      "IOB.NS 541 217 out of 500 stocks imported\n",
      "[*********************100%***********************]  1 of 1 completed\n",
      "IRCTC.NS 541 218 out of 500 stocks imported\n",
      "[*********************100%***********************]  1 of 1 completed\n",
      "IRFC.NS 541 219 out of 500 stocks imported\n",
      "[*********************100%***********************]  1 of 1 completed\n",
      "INDIGOPNTS.NS 541 220 out of 500 stocks imported\n",
      "[*********************100%***********************]  1 of 1 completed\n",
      "IGL.NS 541 221 out of 500 stocks imported\n",
      "[*********************100%***********************]  1 of 1 completed\n",
      "INDUSTOWER.NS 541 222 out of 500 stocks imported\n",
      "[*********************100%***********************]  1 of 1 completed\n",
      "INDUSINDBK.NS 541 223 out of 500 stocks imported\n",
      "[*********************100%***********************]  1 of 1 completed\n",
      "INFIBEAM.NS 541 224 out of 500 stocks imported\n",
      "[*********************100%***********************]  1 of 1 completed\n",
      "NAUKRI.NS 541 225 out of 500 stocks imported\n",
      "[*********************100%***********************]  1 of 1 completed\n",
      "INFY.NS 541 226 out of 500 stocks imported\n",
      "[*********************100%***********************]  1 of 1 completed\n",
      "INGERRAND.NS 541 227 out of 500 stocks imported\n",
      "[*********************100%***********************]  1 of 1 completed\n",
      "INTELLECT.NS 541 228 out of 500 stocks imported\n",
      "[*********************100%***********************]  1 of 1 completed\n",
      "INDIGO.NS 541 229 out of 500 stocks imported\n",
      "[*********************100%***********************]  1 of 1 completed\n",
      "IPCALAB.NS 541 230 out of 500 stocks imported\n",
      "[*********************100%***********************]  1 of 1 completed\n",
      "JBCHEPHARM.NS 541 231 out of 500 stocks imported\n",
      "[*********************100%***********************]  1 of 1 completed\n",
      "JKCEMENT.NS 541 232 out of 500 stocks imported\n",
      "[*********************100%***********************]  1 of 1 completed\n",
      "JBMA.NS 541 233 out of 500 stocks imported\n",
      "[*********************100%***********************]  1 of 1 completed\n",
      "JKLAKSHMI.NS 541 234 out of 500 stocks imported\n",
      "[*********************100%***********************]  1 of 1 completed\n",
      "JKPAPER.NS 541 235 out of 500 stocks imported\n",
      "[*********************100%***********************]  1 of 1 completed\n",
      "JMFINANCIL.NS 541 236 out of 500 stocks imported\n",
      "[*********************100%***********************]  1 of 1 completed\n",
      "JSWENERGY.NS 541 237 out of 500 stocks imported\n",
      "[*********************100%***********************]  1 of 1 completed\n",
      "JSWSTEEL.NS 541 238 out of 500 stocks imported\n",
      "[*********************100%***********************]  1 of 1 completed\n",
      "JAMNAAUTO.NS 541 239 out of 500 stocks imported\n",
      "[*********************100%***********************]  1 of 1 completed\n",
      "JSL.NS 541 240 out of 500 stocks imported\n",
      "[*********************100%***********************]  1 of 1 completed\n",
      "JINDALSTEL.NS 541 241 out of 500 stocks imported\n",
      "[*********************100%***********************]  1 of 1 completed\n",
      "JINDWORLD.NS 541 242 out of 500 stocks imported\n",
      "[*********************100%***********************]  1 of 1 completed\n",
      "JUBLFOOD.NS 541 243 out of 500 stocks imported\n",
      "[*********************100%***********************]  1 of 1 completed\n",
      "JUBLINGREA.NS 516 244 out of 500 stocks imported\n",
      "[*********************100%***********************]  1 of 1 completed\n",
      "JUBLPHARMA.NS 541 245 out of 500 stocks imported\n",
      "[*********************100%***********************]  1 of 1 completed\n",
      "JUSTDIAL.NS 541 246 out of 500 stocks imported\n",
      "[*********************100%***********************]  1 of 1 completed\n",
      "JYOTHYLAB.NS 541 247 out of 500 stocks imported\n",
      "[*********************100%***********************]  1 of 1 completed\n",
      "KPRMILL.NS 541 248 out of 500 stocks imported\n",
      "[*********************100%***********************]  1 of 1 completed\n",
      "KEI.NS 541 249 out of 500 stocks imported\n",
      "[*********************100%***********************]  1 of 1 completed\n",
      "KNRCON.NS 541 250 out of 500 stocks imported\n",
      "[*********************100%***********************]  1 of 1 completed\n",
      "KPITTECH.NS 541 251 out of 500 stocks imported\n",
      "[*********************100%***********************]  1 of 1 completed\n",
      "KRBL.NS 541 252 out of 500 stocks imported\n",
      "[*********************100%***********************]  1 of 1 completed\n",
      "KSB.NS 541 253 out of 500 stocks imported\n",
      "[*********************100%***********************]  1 of 1 completed\n",
      "KAJARIACER.NS 541 254 out of 500 stocks imported\n",
      "[*********************100%***********************]  1 of 1 completed\n",
      "KALPATPOWR.NS 541 255 out of 500 stocks imported\n",
      "[*********************100%***********************]  1 of 1 completed\n",
      "KALYANKJIL.NS 511 256 out of 500 stocks imported\n",
      "[*********************100%***********************]  1 of 1 completed\n",
      "KANSAINER.NS 541 257 out of 500 stocks imported\n",
      "[*********************100%***********************]  1 of 1 completed\n",
      "KARURVYSYA.NS 541 258 out of 500 stocks imported\n",
      "[*********************100%***********************]  1 of 1 completed\n",
      "KEC.NS 541 259 out of 500 stocks imported\n",
      "[*********************100%***********************]  1 of 1 completed\n",
      "KENNAMET.NS 541 260 out of 500 stocks imported\n",
      "[*********************100%***********************]  1 of 1 completed\n",
      "skipping RUSTOMJEE.NS as it has only 100 values\n",
      "[*********************100%***********************]  1 of 1 completed\n",
      "skipping KFINTECH.NS as it has only 75 values\n",
      "[*********************100%***********************]  1 of 1 completed\n",
      "KOTAKBANK.NS 541 261 out of 500 stocks imported\n",
      "[*********************100%***********************]  1 of 1 completed\n",
      "skipping KIMS.NS as it has only 450 values\n",
      "[*********************100%***********************]  1 of 1 completed\n",
      "L&TFH.NS 541 262 out of 500 stocks imported\n",
      "[*********************100%***********************]  1 of 1 completed\n",
      "LTTS.NS 541 263 out of 500 stocks imported\n",
      "[*********************100%***********************]  1 of 1 completed\n",
      "LICHSGFIN.NS 541 264 out of 500 stocks imported\n",
      "[*********************100%***********************]  1 of 1 completed\n",
      "LTIM.NS 541 265 out of 500 stocks imported\n"
     ]
    },
    {
     "name": "stdout",
     "output_type": "stream",
     "text": [
      "[*********************100%***********************]  1 of 1 completed\n",
      "LAXMIMACH.NS 541 266 out of 500 stocks imported\n",
      "[*********************100%***********************]  1 of 1 completed\n",
      "LT.NS 541 267 out of 500 stocks imported\n",
      "[*********************100%***********************]  1 of 1 completed\n",
      "skipping LATENTVIEW.NS as it has only 350 values\n",
      "[*********************100%***********************]  1 of 1 completed\n",
      "LAURUSLABS.NS 541 268 out of 500 stocks imported\n",
      "[*********************100%***********************]  1 of 1 completed\n",
      "LXCHEM.NS 512 269 out of 500 stocks imported\n",
      "[*********************100%***********************]  1 of 1 completed\n",
      "LEMONTREE.NS 541 270 out of 500 stocks imported\n",
      "[*********************100%***********************]  1 of 1 completed\n",
      "skipping LICI.NS as it has only 231 values\n",
      "[*********************100%***********************]  1 of 1 completed\n",
      "LINDEINDIA.NS 541 271 out of 500 stocks imported\n",
      "[*********************100%***********************]  1 of 1 completed\n",
      "LUPIN.NS 541 272 out of 500 stocks imported\n",
      "[*********************100%***********************]  1 of 1 completed\n",
      "LUXIND.NS 541 273 out of 500 stocks imported\n",
      "[*********************100%***********************]  1 of 1 completed\n",
      "MMTC.NS 541 274 out of 500 stocks imported\n",
      "[*********************100%***********************]  1 of 1 completed\n",
      "MRF.NS 541 275 out of 500 stocks imported\n",
      "[*********************100%***********************]  1 of 1 completed\n",
      "MTARTECH.NS 520 276 out of 500 stocks imported\n",
      "[*********************100%***********************]  1 of 1 completed\n",
      "skipping LODHA.NS as it has only 498 values\n",
      "[*********************100%***********************]  1 of 1 completed\n",
      "MGL.NS 541 277 out of 500 stocks imported\n",
      "[*********************100%***********************]  1 of 1 completed\n",
      "M&MFIN.NS 541 278 out of 500 stocks imported\n",
      "[*********************100%***********************]  1 of 1 completed\n",
      "M&M.NS 541 279 out of 500 stocks imported\n",
      "[*********************100%***********************]  1 of 1 completed\n",
      "MAHINDCIE.NS 541 280 out of 500 stocks imported\n",
      "[*********************100%***********************]  1 of 1 completed\n",
      "MHRIL.NS 541 281 out of 500 stocks imported\n",
      "[*********************100%***********************]  1 of 1 completed\n",
      "MAHLIFE.NS 541 282 out of 500 stocks imported\n",
      "[*********************100%***********************]  1 of 1 completed\n",
      "MAHLOG.NS 541 283 out of 500 stocks imported\n",
      "[*********************100%***********************]  1 of 1 completed\n",
      "MANAPPURAM.NS 541 284 out of 500 stocks imported\n",
      "[*********************100%***********************]  1 of 1 completed\n",
      "MRPL.NS 541 285 out of 500 stocks imported\n",
      "[*********************100%***********************]  1 of 1 completed\n",
      "MARICO.NS 541 286 out of 500 stocks imported\n",
      "[*********************100%***********************]  1 of 1 completed\n",
      "MARUTI.NS 541 287 out of 500 stocks imported\n",
      "[*********************100%***********************]  1 of 1 completed\n",
      "MASTEK.NS 541 288 out of 500 stocks imported\n",
      "[*********************100%***********************]  1 of 1 completed\n",
      "MFSL.NS 541 289 out of 500 stocks imported\n",
      "[*********************100%***********************]  1 of 1 completed\n",
      "MAXHEALTH.NS 541 290 out of 500 stocks imported\n",
      "[*********************100%***********************]  1 of 1 completed\n",
      "MAZDOCK.NS 541 291 out of 500 stocks imported\n",
      "[*********************100%***********************]  1 of 1 completed\n",
      "skipping MEDPLUS.NS as it has only 328 values\n",
      "[*********************100%***********************]  1 of 1 completed\n",
      "skipping MFL.NS as it has only 414 values\n",
      "[*********************100%***********************]  1 of 1 completed\n",
      "skipping METROBRAND.NS as it has only 329 values\n",
      "[*********************100%***********************]  1 of 1 completed\n",
      "METROPOLIS.NS 541 292 out of 500 stocks imported\n",
      "[*********************100%***********************]  1 of 1 completed\n",
      "skipping MSUMI.NS as it has only 264 values\n",
      "[*********************100%***********************]  1 of 1 completed\n",
      "MOTILALOFS.NS 541 293 out of 500 stocks imported\n",
      "[*********************100%***********************]  1 of 1 completed\n",
      "MPHASIS.NS 541 294 out of 500 stocks imported\n",
      "[*********************100%***********************]  1 of 1 completed\n",
      "MCX.NS 541 295 out of 500 stocks imported\n",
      "[*********************100%***********************]  1 of 1 completed\n",
      "MUTHOOTFIN.NS 541 296 out of 500 stocks imported\n",
      "[*********************100%***********************]  1 of 1 completed\n",
      "NATCOPHARM.NS 541 297 out of 500 stocks imported\n",
      "[*********************100%***********************]  1 of 1 completed\n",
      "NBCC.NS 541 298 out of 500 stocks imported\n",
      "[*********************100%***********************]  1 of 1 completed\n",
      "NCC.NS 541 299 out of 500 stocks imported\n",
      "[*********************100%***********************]  1 of 1 completed\n",
      "NHPC.NS 541 300 out of 500 stocks imported\n",
      "[*********************100%***********************]  1 of 1 completed\n",
      "NLCINDIA.NS 541 301 out of 500 stocks imported\n",
      "[*********************100%***********************]  1 of 1 completed\n",
      "NMDC.NS 541 302 out of 500 stocks imported\n",
      "[*********************100%***********************]  1 of 1 completed\n",
      "NOCIL.NS 541 303 out of 500 stocks imported\n",
      "[*********************100%***********************]  1 of 1 completed\n",
      "NTPC.NS 541 304 out of 500 stocks imported\n",
      "[*********************100%***********************]  1 of 1 completed\n",
      "NH.NS 541 305 out of 500 stocks imported\n",
      "[*********************100%***********************]  1 of 1 completed\n",
      "NATIONALUM.NS 541 306 out of 500 stocks imported\n",
      "[*********************100%***********************]  1 of 1 completed\n",
      "NAVINFLUOR.NS 541 307 out of 500 stocks imported\n",
      "[*********************100%***********************]  1 of 1 completed\n",
      "NAZARA.NS 510 308 out of 500 stocks imported\n",
      "[*********************100%***********************]  1 of 1 completed\n",
      "NESTLEIND.NS 541 309 out of 500 stocks imported\n",
      "[*********************100%***********************]  1 of 1 completed\n",
      "NETWORK18.NS 541 310 out of 500 stocks imported\n",
      "[*********************100%***********************]  1 of 1 completed\n",
      "NAM-INDIA.NS 541 311 out of 500 stocks imported\n",
      "[*********************100%***********************]  1 of 1 completed\n",
      "skipping NUVOCO.NS as it has only 412 values\n",
      "[*********************100%***********************]  1 of 1 completed\n",
      "OBEROIRLTY.NS 541 312 out of 500 stocks imported\n",
      "[*********************100%***********************]  1 of 1 completed\n",
      "ONGC.NS 541 313 out of 500 stocks imported\n",
      "[*********************100%***********************]  1 of 1 completed\n",
      "OIL.NS 541 314 out of 500 stocks imported\n",
      "[*********************100%***********************]  1 of 1 completed\n",
      "OLECTRA.NS 541 315 out of 500 stocks imported\n",
      "[*********************100%***********************]  1 of 1 completed\n",
      "skipping PAYTM.NS as it has only 352 values\n",
      "[*********************100%***********************]  1 of 1 completed\n",
      "OFSS.NS 541 316 out of 500 stocks imported\n",
      "[*********************100%***********************]  1 of 1 completed\n",
      "ORIENTELEC.NS 541 317 out of 500 stocks imported\n",
      "[*********************100%***********************]  1 of 1 completed\n",
      "skipping POLICYBZR.NS as it has only 355 values\n",
      "[*********************100%***********************]  1 of 1 completed\n",
      "PCBL.NS 541 318 out of 500 stocks imported\n",
      "[*********************100%***********************]  1 of 1 completed\n",
      "PIIND.NS 541 319 out of 500 stocks imported\n",
      "[*********************100%***********************]  1 of 1 completed\n",
      "PNBHOUSING.NS 532 320 out of 500 stocks imported\n",
      "[*********************100%***********************]  1 of 1 completed\n",
      "PNCINFRA.NS 541 321 out of 500 stocks imported\n",
      "[*********************100%***********************]  1 of 1 completed\n",
      "PVR.NS 541 322 out of 500 stocks imported\n",
      "[*********************100%***********************]  1 of 1 completed\n",
      "PAGEIND.NS 541 323 out of 500 stocks imported\n",
      "[*********************100%***********************]  1 of 1 completed\n",
      "PATANJALI.NS 541 324 out of 500 stocks imported\n",
      "[*********************100%***********************]  1 of 1 completed\n",
      "PERSISTENT.NS 541 325 out of 500 stocks imported\n",
      "[*********************100%***********************]  1 of 1 completed\n",
      "PETRONET.NS 541 326 out of 500 stocks imported\n"
     ]
    },
    {
     "name": "stdout",
     "output_type": "stream",
     "text": [
      "[*********************100%***********************]  1 of 1 completed\n",
      "PFIZER.NS 541 327 out of 500 stocks imported\n",
      "[*********************100%***********************]  1 of 1 completed\n",
      "PHOENIXLTD.NS 541 328 out of 500 stocks imported\n",
      "[*********************100%***********************]  1 of 1 completed\n",
      "PIDILITIND.NS 541 329 out of 500 stocks imported\n",
      "[*********************100%***********************]  1 of 1 completed\n",
      "PEL.NS 541 330 out of 500 stocks imported\n",
      "[*********************100%***********************]  1 of 1 completed\n",
      "skipping PPLPHARMA.NS as it has only 124 values\n",
      "[*********************100%***********************]  1 of 1 completed\n",
      "POLYMED.NS 541 331 out of 500 stocks imported\n",
      "[*********************100%***********************]  1 of 1 completed\n",
      "POLYCAB.NS 541 332 out of 500 stocks imported\n",
      "[*********************100%***********************]  1 of 1 completed\n",
      "POLYPLEX.NS 541 333 out of 500 stocks imported\n",
      "[*********************100%***********************]  1 of 1 completed\n",
      "POONAWALLA.NS 541 334 out of 500 stocks imported\n",
      "[*********************100%***********************]  1 of 1 completed\n",
      "PFC.NS 541 335 out of 500 stocks imported\n",
      "[*********************100%***********************]  1 of 1 completed\n",
      "POWERGRID.NS 541 336 out of 500 stocks imported\n",
      "[*********************100%***********************]  1 of 1 completed\n",
      "PRAJIND.NS 541 337 out of 500 stocks imported\n",
      "[*********************100%***********************]  1 of 1 completed\n",
      "PRESTIGE.NS 541 338 out of 500 stocks imported\n",
      "[*********************100%***********************]  1 of 1 completed\n",
      "PRINCEPIPE.NS 541 339 out of 500 stocks imported\n",
      "[*********************100%***********************]  1 of 1 completed\n",
      "PRSMJOHNSN.NS 541 340 out of 500 stocks imported\n",
      "[*********************100%***********************]  1 of 1 completed\n",
      "PGHH.NS 541 341 out of 500 stocks imported\n",
      "[*********************100%***********************]  1 of 1 completed\n",
      "PNB.NS 541 342 out of 500 stocks imported\n",
      "[*********************100%***********************]  1 of 1 completed\n",
      "QUESS.NS 541 343 out of 500 stocks imported\n",
      "[*********************100%***********************]  1 of 1 completed\n",
      "RBLBANK.NS 541 344 out of 500 stocks imported\n",
      "[*********************100%***********************]  1 of 1 completed\n",
      "RECLTD.NS 541 345 out of 500 stocks imported\n",
      "[*********************100%***********************]  1 of 1 completed\n",
      "RHIM.NS 541 346 out of 500 stocks imported\n",
      "[*********************100%***********************]  1 of 1 completed\n",
      "RITES.NS 541 347 out of 500 stocks imported\n",
      "[*********************100%***********************]  1 of 1 completed\n",
      "RADICO.NS 541 348 out of 500 stocks imported\n",
      "[*********************100%***********************]  1 of 1 completed\n",
      "RVNL.NS 541 349 out of 500 stocks imported\n",
      "[*********************100%***********************]  1 of 1 completed\n",
      "RAIN.NS 541 350 out of 500 stocks imported\n",
      "[*********************100%***********************]  1 of 1 completed\n",
      "skipping RAINBOW.NS as it has only 236 values\n",
      "[*********************100%***********************]  1 of 1 completed\n",
      "RAJESHEXPO.NS 541 351 out of 500 stocks imported\n",
      "[*********************100%***********************]  1 of 1 completed\n",
      "RALLIS.NS 541 352 out of 500 stocks imported\n",
      "[*********************100%***********************]  1 of 1 completed\n",
      "RCF.NS 541 353 out of 500 stocks imported\n",
      "[*********************100%***********************]  1 of 1 completed\n",
      "RATNAMANI.NS 541 354 out of 500 stocks imported\n",
      "[*********************100%***********************]  1 of 1 completed\n",
      "RTNINDIA.NS 541 355 out of 500 stocks imported\n",
      "[*********************100%***********************]  1 of 1 completed\n",
      "RAYMOND.NS 541 356 out of 500 stocks imported\n",
      "[*********************100%***********************]  1 of 1 completed\n",
      "REDINGTON.NS 541 357 out of 500 stocks imported\n",
      "[*********************100%***********************]  1 of 1 completed\n",
      "RELAXO.NS 541 358 out of 500 stocks imported\n",
      "[*********************100%***********************]  1 of 1 completed\n",
      "RELIANCE.NS 541 359 out of 500 stocks imported\n",
      "[*********************100%***********************]  1 of 1 completed\n",
      "RBA.NS 541 360 out of 500 stocks imported\n",
      "[*********************100%***********************]  1 of 1 completed\n",
      "ROSSARI.NS 541 361 out of 500 stocks imported\n",
      "[*********************100%***********************]  1 of 1 completed\n",
      "ROUTE.NS 541 362 out of 500 stocks imported\n",
      "[*********************100%***********************]  1 of 1 completed\n",
      "SBICARD.NS 541 363 out of 500 stocks imported\n",
      "[*********************100%***********************]  1 of 1 completed\n",
      "SBILIFE.NS 541 364 out of 500 stocks imported\n",
      "[*********************100%***********************]  1 of 1 completed\n",
      "SJVN.NS 541 365 out of 500 stocks imported\n",
      "[*********************100%***********************]  1 of 1 completed\n",
      "SKFINDIA.NS 541 366 out of 500 stocks imported\n",
      "[*********************100%***********************]  1 of 1 completed\n",
      "SRF.NS 541 367 out of 500 stocks imported\n",
      "[*********************100%***********************]  1 of 1 completed\n",
      "MOTHERSON.NS 541 368 out of 500 stocks imported\n",
      "[*********************100%***********************]  1 of 1 completed\n",
      "SANOFI.NS 541 369 out of 500 stocks imported\n",
      "[*********************100%***********************]  1 of 1 completed\n",
      "skipping SAPPHIRE.NS as it has only 352 values\n",
      "[*********************100%***********************]  1 of 1 completed\n",
      "SCHAEFFLER.NS 541 370 out of 500 stocks imported\n",
      "[*********************100%***********************]  1 of 1 completed\n",
      "SHARDACROP.NS 541 371 out of 500 stocks imported\n",
      "[*********************100%***********************]  1 of 1 completed\n",
      "SHOPERSTOP.NS 541 372 out of 500 stocks imported\n",
      "[*********************100%***********************]  1 of 1 completed\n",
      "SHREECEM.NS 541 373 out of 500 stocks imported\n",
      "[*********************100%***********************]  1 of 1 completed\n",
      "RENUKA.NS 541 374 out of 500 stocks imported\n",
      "[*********************100%***********************]  1 of 1 completed\n",
      "SHRIRAMFIN.NS 541 375 out of 500 stocks imported\n",
      "[*********************100%***********************]  1 of 1 completed\n",
      "skipping SHYAMMETL.NS as it has only 452 values\n",
      "[*********************100%***********************]  1 of 1 completed\n",
      "SIEMENS.NS 541 376 out of 500 stocks imported\n",
      "[*********************100%***********************]  1 of 1 completed\n",
      "SOBHA.NS 541 377 out of 500 stocks imported\n",
      "[*********************100%***********************]  1 of 1 completed\n",
      "SOLARINDS.NS 541 378 out of 500 stocks imported\n",
      "[*********************100%***********************]  1 of 1 completed\n",
      "skipping SONACOMS.NS as it has only 452 values\n",
      "[*********************100%***********************]  1 of 1 completed\n",
      "SONATSOFTW.NS 541 379 out of 500 stocks imported\n",
      "[*********************100%***********************]  1 of 1 completed\n",
      "skipping STARHEALTH.NS as it has only 337 values\n",
      "[*********************100%***********************]  1 of 1 completed\n",
      "SBIN.NS 541 380 out of 500 stocks imported\n",
      "[*********************100%***********************]  1 of 1 completed\n",
      "SAIL.NS 541 381 out of 500 stocks imported\n",
      "[*********************100%***********************]  1 of 1 completed\n",
      "SWSOLAR.NS 541 382 out of 500 stocks imported\n",
      "[*********************100%***********************]  1 of 1 completed\n",
      "STLTECH.NS 541 383 out of 500 stocks imported\n",
      "[*********************100%***********************]  1 of 1 completed\n",
      "SUMICHEM.NS 541 384 out of 500 stocks imported\n",
      "[*********************100%***********************]  1 of 1 completed\n",
      "SPARC.NS 541 385 out of 500 stocks imported\n",
      "[*********************100%***********************]  1 of 1 completed\n",
      "SUNPHARMA.NS 541 386 out of 500 stocks imported\n",
      "[*********************100%***********************]  1 of 1 completed\n",
      "SUNTV.NS 541 387 out of 500 stocks imported\n",
      "[*********************100%***********************]  1 of 1 completed\n",
      "SUNDARMFIN.NS 541 388 out of 500 stocks imported\n",
      "[*********************100%***********************]  1 of 1 completed\n",
      "SUNDRMFAST.NS 541 389 out of 500 stocks imported\n",
      "[*********************100%***********************]  1 of 1 completed\n",
      "SUNTECK.NS 541 390 out of 500 stocks imported\n",
      "[*********************100%***********************]  1 of 1 completed\n",
      "SUPRAJIT.NS 541 391 out of 500 stocks imported\n"
     ]
    },
    {
     "name": "stdout",
     "output_type": "stream",
     "text": [
      "[*********************100%***********************]  1 of 1 completed\n",
      "SUPREMEIND.NS 541 392 out of 500 stocks imported\n",
      "[*********************100%***********************]  1 of 1 completed\n",
      "SUVENPHAR.NS 541 393 out of 500 stocks imported\n",
      "[*********************100%***********************]  1 of 1 completed\n",
      "SUZLON.NS 541 394 out of 500 stocks imported\n",
      "[*********************100%***********************]  1 of 1 completed\n",
      "SWANENERGY.NS 541 395 out of 500 stocks imported\n",
      "[*********************100%***********************]  1 of 1 completed\n",
      "SYNGENE.NS 541 396 out of 500 stocks imported\n",
      "[*********************100%***********************]  1 of 1 completed\n",
      "TCIEXP.NS 541 397 out of 500 stocks imported\n",
      "[*********************100%***********************]  1 of 1 completed\n",
      "TCNSBRANDS.NS 541 398 out of 500 stocks imported\n",
      "[*********************100%***********************]  1 of 1 completed\n",
      "TTKPRESTIG.NS 541 399 out of 500 stocks imported\n",
      "[*********************100%***********************]  1 of 1 completed\n",
      "TV18BRDCST.NS 541 400 out of 500 stocks imported\n",
      "[*********************100%***********************]  1 of 1 completed\n",
      "TVSMOTOR.NS 541 401 out of 500 stocks imported\n",
      "[*********************100%***********************]  1 of 1 completed\n",
      "skipping TMB.NS as it has only 147 values\n",
      "[*********************100%***********************]  1 of 1 completed\n",
      "TANLA.NS 541 402 out of 500 stocks imported\n",
      "[*********************100%***********************]  1 of 1 completed\n",
      "TATACHEM.NS 541 403 out of 500 stocks imported\n",
      "[*********************100%***********************]  1 of 1 completed\n",
      "TATACOMM.NS 541 404 out of 500 stocks imported\n",
      "[*********************100%***********************]  1 of 1 completed\n",
      "TCS.NS 541 405 out of 500 stocks imported\n",
      "[*********************100%***********************]  1 of 1 completed\n",
      "TATACONSUM.NS 541 406 out of 500 stocks imported\n",
      "[*********************100%***********************]  1 of 1 completed\n",
      "TATAELXSI.NS 541 407 out of 500 stocks imported\n",
      "[*********************100%***********************]  1 of 1 completed\n",
      "TATAINVEST.NS 541 408 out of 500 stocks imported\n",
      "[*********************100%***********************]  1 of 1 completed\n",
      "TATAMTRDVR.NS 541 409 out of 500 stocks imported\n",
      "[*********************100%***********************]  1 of 1 completed\n",
      "TATAMOTORS.NS 541 410 out of 500 stocks imported\n",
      "[*********************100%***********************]  1 of 1 completed\n",
      "TATAPOWER.NS 541 411 out of 500 stocks imported\n",
      "[*********************100%***********************]  1 of 1 completed\n",
      "TATASTEEL.NS 541 412 out of 500 stocks imported\n",
      "[*********************100%***********************]  1 of 1 completed\n",
      "TTML.NS 541 413 out of 500 stocks imported\n",
      "[*********************100%***********************]  1 of 1 completed\n",
      "TEAMLEASE.NS 541 414 out of 500 stocks imported\n",
      "[*********************100%***********************]  1 of 1 completed\n",
      "TECHM.NS 541 415 out of 500 stocks imported\n",
      "[*********************100%***********************]  1 of 1 completed\n",
      "TEJASNET.NS 541 416 out of 500 stocks imported\n",
      "[*********************100%***********************]  1 of 1 completed\n",
      "NIACL.NS 541 417 out of 500 stocks imported\n",
      "[*********************100%***********************]  1 of 1 completed\n",
      "RAMCOCEM.NS 541 418 out of 500 stocks imported\n",
      "[*********************100%***********************]  1 of 1 completed\n",
      "THERMAX.NS 541 419 out of 500 stocks imported\n",
      "[*********************100%***********************]  1 of 1 completed\n",
      "TIMKEN.NS 541 420 out of 500 stocks imported\n",
      "[*********************100%***********************]  1 of 1 completed\n",
      "TITAN.NS 541 421 out of 500 stocks imported\n",
      "[*********************100%***********************]  1 of 1 completed\n",
      "TORNTPHARM.NS 541 422 out of 500 stocks imported\n",
      "[*********************100%***********************]  1 of 1 completed\n",
      "TORNTPOWER.NS 541 423 out of 500 stocks imported\n",
      "[*********************100%***********************]  1 of 1 completed\n",
      "TCI.NS 541 424 out of 500 stocks imported\n",
      "[*********************100%***********************]  1 of 1 completed\n",
      "TRENT.NS 541 425 out of 500 stocks imported\n",
      "[*********************100%***********************]  1 of 1 completed\n",
      "TRIDENT.NS 541 426 out of 500 stocks imported\n",
      "[*********************100%***********************]  1 of 1 completed\n",
      "TRIVENI.NS 541 427 out of 500 stocks imported\n",
      "[*********************100%***********************]  1 of 1 completed\n",
      "TRITURBINE.NS 541 428 out of 500 stocks imported\n",
      "[*********************100%***********************]  1 of 1 completed\n",
      "TIINDIA.NS 541 429 out of 500 stocks imported\n",
      "[*********************100%***********************]  1 of 1 completed\n",
      "UCOBANK.NS 541 430 out of 500 stocks imported\n",
      "[*********************100%***********************]  1 of 1 completed\n",
      "UFLEX.NS 541 431 out of 500 stocks imported\n",
      "[*********************100%***********************]  1 of 1 completed\n",
      "UNOMINDA.NS 541 432 out of 500 stocks imported\n",
      "[*********************100%***********************]  1 of 1 completed\n",
      "UPL.NS 541 433 out of 500 stocks imported\n",
      "[*********************100%***********************]  1 of 1 completed\n",
      "UTIAMC.NS 541 434 out of 500 stocks imported\n",
      "[*********************100%***********************]  1 of 1 completed\n",
      "ULTRACEMCO.NS 541 435 out of 500 stocks imported\n",
      "[*********************100%***********************]  1 of 1 completed\n",
      "UNIONBANK.NS 541 436 out of 500 stocks imported\n",
      "[*********************100%***********************]  1 of 1 completed\n",
      "UBL.NS 541 437 out of 500 stocks imported\n",
      "[*********************100%***********************]  1 of 1 completed\n",
      "MCDOWELL-N.NS 541 438 out of 500 stocks imported\n",
      "[*********************100%***********************]  1 of 1 completed\n",
      "VGUARD.NS 541 439 out of 500 stocks imported\n",
      "[*********************100%***********************]  1 of 1 completed\n",
      "VMART.NS 541 440 out of 500 stocks imported\n",
      "[*********************100%***********************]  1 of 1 completed\n",
      "VIPIND.NS 541 441 out of 500 stocks imported\n",
      "[*********************100%***********************]  1 of 1 completed\n",
      "VAIBHAVGBL.NS 541 442 out of 500 stocks imported\n",
      "[*********************100%***********************]  1 of 1 completed\n",
      "VTL.NS 541 443 out of 500 stocks imported\n",
      "[*********************100%***********************]  1 of 1 completed\n",
      "VARROC.NS 541 444 out of 500 stocks imported\n",
      "[*********************100%***********************]  1 of 1 completed\n",
      "VBL.NS 541 445 out of 500 stocks imported\n",
      "[*********************100%***********************]  1 of 1 completed\n",
      "skipping MANYAVAR.NS as it has only 290 values\n",
      "[*********************100%***********************]  1 of 1 completed\n",
      "VEDL.NS 541 446 out of 500 stocks imported\n",
      "[*********************100%***********************]  1 of 1 completed\n",
      "skipping VIJAYA.NS as it has only 397 values\n",
      "[*********************100%***********************]  1 of 1 completed\n",
      "VINATIORGA.NS 541 447 out of 500 stocks imported\n",
      "[*********************100%***********************]  1 of 1 completed\n",
      "IDEA.NS 541 448 out of 500 stocks imported\n",
      "[*********************100%***********************]  1 of 1 completed\n",
      "VOLTAS.NS 541 449 out of 500 stocks imported\n",
      "[*********************100%***********************]  1 of 1 completed\n",
      "WELCORP.NS 541 450 out of 500 stocks imported\n",
      "[*********************100%***********************]  1 of 1 completed\n",
      "WELSPUNIND.NS 541 451 out of 500 stocks imported\n",
      "[*********************100%***********************]  1 of 1 completed\n",
      "WESTLIFE.NS 541 452 out of 500 stocks imported\n",
      "[*********************100%***********************]  1 of 1 completed\n",
      "WHIRLPOOL.NS 541 453 out of 500 stocks imported\n",
      "[*********************100%***********************]  1 of 1 completed\n",
      "WIPRO.NS 541 454 out of 500 stocks imported\n",
      "[*********************100%***********************]  1 of 1 completed\n",
      "YESBANK.NS 541 455 out of 500 stocks imported\n",
      "[*********************100%***********************]  1 of 1 completed\n",
      "ZFCVINDIA.NS 541 456 out of 500 stocks imported\n",
      "[*********************100%***********************]  1 of 1 completed\n",
      "ZEEL.NS 541 457 out of 500 stocks imported\n",
      "[*********************100%***********************]  1 of 1 completed\n",
      "ZENSARTECH.NS 541 458 out of 500 stocks imported\n",
      "[*********************100%***********************]  1 of 1 completed\n",
      "skipping ZOMATO.NS as it has only 432 values\n"
     ]
    },
    {
     "name": "stdout",
     "output_type": "stream",
     "text": [
      "[*********************100%***********************]  1 of 1 completed\n",
      "ZYDUSLIFE.NS 541 459 out of 500 stocks imported\n",
      "[*********************100%***********************]  1 of 1 completed\n",
      "ZYDUSWELL.NS 541 460 out of 500 stocks imported\n",
      "[*********************100%***********************]  1 of 1 completed\n",
      "ECLERX.NS 541 461 out of 500 stocks imported\n"
     ]
    }
   ],
   "source": [
    "import yfinance as yf\n",
    "import datetime\n",
    "\n",
    "# Define the list of NSE companies to fetch data for\n",
    "nse_companies1 = stocks[0] +'.NS'\n",
    "nse_companies=[]\n",
    "# Set the start and end dates\n",
    "end_date = datetime.date.today()\n",
    "start_date = end_date - datetime.timedelta(days=800)\n",
    "\n",
    "# Create an empty dictionary to store the data for each company\n",
    "data = {}\n",
    "data_check = {}\n",
    "\n",
    "# Loop through the list of companies and fetch their data\n",
    "set1 =1 \n",
    "for company in nse_companies1:\n",
    "    \n",
    "    data_check[company] = yf.download(company, start=start_date, end=end_date)\n",
    "    \n",
    "    data_check[company] = pd.DataFrame(data_check[company])\n",
    "    df_temp = data_check[company] \n",
    "    #df_temp = df_temp.iloc[0:175]\n",
    "    \n",
    "    if df_temp.shape[0]<500:\n",
    "        print('skipping',company,'as it has only',df_temp.shape[0],'values')\n",
    "        continue\n",
    "        \n",
    "    data[company] = df_temp\n",
    "    nse_companies.append(company)\n",
    "    #print(data[company])\n",
    "    #print(data[company].head())\n",
    "    \n",
    "    print(company,len(data[company]), set1,'out of 500 stocks imported')\n",
    "    set1 = set1 +1\n",
    "    "
   ]
  },
  {
   "cell_type": "code",
   "execution_count": 3,
   "id": "00ad5da2",
   "metadata": {
    "scrolled": true
   },
   "outputs": [
    {
     "data": {
      "text/html": [
       "<div>\n",
       "<style scoped>\n",
       "    .dataframe tbody tr th:only-of-type {\n",
       "        vertical-align: middle;\n",
       "    }\n",
       "\n",
       "    .dataframe tbody tr th {\n",
       "        vertical-align: top;\n",
       "    }\n",
       "\n",
       "    .dataframe thead th {\n",
       "        text-align: right;\n",
       "    }\n",
       "</style>\n",
       "<table border=\"1\" class=\"dataframe\">\n",
       "  <thead>\n",
       "    <tr style=\"text-align: right;\">\n",
       "      <th></th>\n",
       "      <th>Open</th>\n",
       "      <th>High</th>\n",
       "      <th>Low</th>\n",
       "      <th>Close</th>\n",
       "      <th>Adj Close</th>\n",
       "      <th>Volume</th>\n",
       "    </tr>\n",
       "    <tr>\n",
       "      <th>Date</th>\n",
       "      <th></th>\n",
       "      <th></th>\n",
       "      <th></th>\n",
       "      <th></th>\n",
       "      <th></th>\n",
       "      <th></th>\n",
       "    </tr>\n",
       "  </thead>\n",
       "  <tbody>\n",
       "    <tr>\n",
       "      <th>2021-02-11</th>\n",
       "      <td>1445.000000</td>\n",
       "      <td>1460.000000</td>\n",
       "      <td>1405.000000</td>\n",
       "      <td>1423.349976</td>\n",
       "      <td>1406.042603</td>\n",
       "      <td>299192</td>\n",
       "    </tr>\n",
       "    <tr>\n",
       "      <th>2021-02-12</th>\n",
       "      <td>1429.000000</td>\n",
       "      <td>1480.000000</td>\n",
       "      <td>1425.599976</td>\n",
       "      <td>1466.849976</td>\n",
       "      <td>1449.013672</td>\n",
       "      <td>224960</td>\n",
       "    </tr>\n",
       "    <tr>\n",
       "      <th>2021-02-15</th>\n",
       "      <td>1475.000000</td>\n",
       "      <td>1503.750000</td>\n",
       "      <td>1465.000000</td>\n",
       "      <td>1474.150024</td>\n",
       "      <td>1456.224976</td>\n",
       "      <td>139523</td>\n",
       "    </tr>\n",
       "    <tr>\n",
       "      <th>2021-02-16</th>\n",
       "      <td>1480.800049</td>\n",
       "      <td>1515.000000</td>\n",
       "      <td>1474.000000</td>\n",
       "      <td>1500.500000</td>\n",
       "      <td>1482.254517</td>\n",
       "      <td>170927</td>\n",
       "    </tr>\n",
       "    <tr>\n",
       "      <th>2021-02-17</th>\n",
       "      <td>1480.000000</td>\n",
       "      <td>1504.750000</td>\n",
       "      <td>1480.000000</td>\n",
       "      <td>1498.949951</td>\n",
       "      <td>1480.723267</td>\n",
       "      <td>93001</td>\n",
       "    </tr>\n",
       "    <tr>\n",
       "      <th>...</th>\n",
       "      <td>...</td>\n",
       "      <td>...</td>\n",
       "      <td>...</td>\n",
       "      <td>...</td>\n",
       "      <td>...</td>\n",
       "      <td>...</td>\n",
       "    </tr>\n",
       "    <tr>\n",
       "      <th>2023-04-13</th>\n",
       "      <td>3216.800049</td>\n",
       "      <td>3256.649902</td>\n",
       "      <td>3173.000000</td>\n",
       "      <td>3230.000000</td>\n",
       "      <td>3230.000000</td>\n",
       "      <td>402975</td>\n",
       "    </tr>\n",
       "    <tr>\n",
       "      <th>2023-04-17</th>\n",
       "      <td>3250.000000</td>\n",
       "      <td>3270.000000</td>\n",
       "      <td>3213.000000</td>\n",
       "      <td>3229.000000</td>\n",
       "      <td>3229.000000</td>\n",
       "      <td>286059</td>\n",
       "    </tr>\n",
       "    <tr>\n",
       "      <th>2023-04-18</th>\n",
       "      <td>3240.000000</td>\n",
       "      <td>3259.850098</td>\n",
       "      <td>3202.899902</td>\n",
       "      <td>3207.699951</td>\n",
       "      <td>3207.699951</td>\n",
       "      <td>277893</td>\n",
       "    </tr>\n",
       "    <tr>\n",
       "      <th>2023-04-19</th>\n",
       "      <td>3213.000000</td>\n",
       "      <td>3243.000000</td>\n",
       "      <td>3186.050049</td>\n",
       "      <td>3201.050049</td>\n",
       "      <td>3201.050049</td>\n",
       "      <td>266982</td>\n",
       "    </tr>\n",
       "    <tr>\n",
       "      <th>2023-04-21</th>\n",
       "      <td>3198.000000</td>\n",
       "      <td>3212.550049</td>\n",
       "      <td>3141.149902</td>\n",
       "      <td>3153.300049</td>\n",
       "      <td>3153.300049</td>\n",
       "      <td>266957</td>\n",
       "    </tr>\n",
       "  </tbody>\n",
       "</table>\n",
       "<p>541 rows × 6 columns</p>\n",
       "</div>"
      ],
      "text/plain": [
       "                   Open         High          Low        Close    Adj Close  \\\n",
       "Date                                                                          \n",
       "2021-02-11  1445.000000  1460.000000  1405.000000  1423.349976  1406.042603   \n",
       "2021-02-12  1429.000000  1480.000000  1425.599976  1466.849976  1449.013672   \n",
       "2021-02-15  1475.000000  1503.750000  1465.000000  1474.150024  1456.224976   \n",
       "2021-02-16  1480.800049  1515.000000  1474.000000  1500.500000  1482.254517   \n",
       "2021-02-17  1480.000000  1504.750000  1480.000000  1498.949951  1480.723267   \n",
       "...                 ...          ...          ...          ...          ...   \n",
       "2023-04-13  3216.800049  3256.649902  3173.000000  3230.000000  3230.000000   \n",
       "2023-04-17  3250.000000  3270.000000  3213.000000  3229.000000  3229.000000   \n",
       "2023-04-18  3240.000000  3259.850098  3202.899902  3207.699951  3207.699951   \n",
       "2023-04-19  3213.000000  3243.000000  3186.050049  3201.050049  3201.050049   \n",
       "2023-04-21  3198.000000  3212.550049  3141.149902  3153.300049  3153.300049   \n",
       "\n",
       "            Volume  \n",
       "Date                \n",
       "2021-02-11  299192  \n",
       "2021-02-12  224960  \n",
       "2021-02-15  139523  \n",
       "2021-02-16  170927  \n",
       "2021-02-17   93001  \n",
       "...            ...  \n",
       "2023-04-13  402975  \n",
       "2023-04-17  286059  \n",
       "2023-04-18  277893  \n",
       "2023-04-19  266982  \n",
       "2023-04-21  266957  \n",
       "\n",
       "[541 rows x 6 columns]"
      ]
     },
     "execution_count": 3,
     "metadata": {},
     "output_type": "execute_result"
    }
   ],
   "source": [
    "data['ABB.NS']"
   ]
  },
  {
   "cell_type": "code",
   "execution_count": 4,
   "id": "035cad6e",
   "metadata": {},
   "outputs": [],
   "source": [
    "from matplotlib import pyplot as plt\n",
    "import numpy as np\n",
    "%matplotlib inline"
   ]
  },
  {
   "cell_type": "code",
   "execution_count": 5,
   "id": "d4f5be96",
   "metadata": {
    "scrolled": false
   },
   "outputs": [
    {
     "name": "stdout",
     "output_type": "stream",
     "text": [
      "Completed 0 out of 461 steps\n",
      "the main data is of shape (541, 2)\n",
      "shape of current_data2 is (541, 59)\n"
     ]
    },
    {
     "name": "stderr",
     "output_type": "stream",
     "text": [
      "C:\\Users\\abhij\\AppData\\Local\\Temp\\ipykernel_28124\\3248937819.py:14: SettingWithCopyWarning: \n",
      "A value is trying to be set on a copy of a slice from a DataFrame.\n",
      "Try using .loc[row_indexer,col_indexer] = value instead\n",
      "\n",
      "See the caveats in the documentation: https://pandas.pydata.org/pandas-docs/stable/user_guide/indexing.html#returning-a-view-versus-a-copy\n",
      "  current_data['Date'] = current_data.index\n"
     ]
    },
    {
     "name": "stdout",
     "output_type": "stream",
     "text": [
      "Completed 1 out of 461 steps\n",
      "the main data is of shape (541, 2)\n",
      "shape of current_data2 is (541, 59)\n"
     ]
    },
    {
     "name": "stderr",
     "output_type": "stream",
     "text": [
      "C:\\Users\\abhij\\AppData\\Local\\Temp\\ipykernel_28124\\3248937819.py:14: SettingWithCopyWarning: \n",
      "A value is trying to be set on a copy of a slice from a DataFrame.\n",
      "Try using .loc[row_indexer,col_indexer] = value instead\n",
      "\n",
      "See the caveats in the documentation: https://pandas.pydata.org/pandas-docs/stable/user_guide/indexing.html#returning-a-view-versus-a-copy\n",
      "  current_data['Date'] = current_data.index\n"
     ]
    },
    {
     "name": "stdout",
     "output_type": "stream",
     "text": [
      "Completed 2 out of 461 steps\n",
      "the main data is of shape (541, 2)\n",
      "shape of current_data2 is (541, 59)\n"
     ]
    },
    {
     "name": "stderr",
     "output_type": "stream",
     "text": [
      "C:\\Users\\abhij\\AppData\\Local\\Temp\\ipykernel_28124\\3248937819.py:14: SettingWithCopyWarning: \n",
      "A value is trying to be set on a copy of a slice from a DataFrame.\n",
      "Try using .loc[row_indexer,col_indexer] = value instead\n",
      "\n",
      "See the caveats in the documentation: https://pandas.pydata.org/pandas-docs/stable/user_guide/indexing.html#returning-a-view-versus-a-copy\n",
      "  current_data['Date'] = current_data.index\n"
     ]
    },
    {
     "name": "stdout",
     "output_type": "stream",
     "text": [
      "Completed 3 out of 461 steps\n",
      "the main data is of shape (541, 2)\n",
      "shape of current_data2 is (541, 59)\n"
     ]
    },
    {
     "name": "stderr",
     "output_type": "stream",
     "text": [
      "C:\\Users\\abhij\\AppData\\Local\\Temp\\ipykernel_28124\\3248937819.py:14: SettingWithCopyWarning: \n",
      "A value is trying to be set on a copy of a slice from a DataFrame.\n",
      "Try using .loc[row_indexer,col_indexer] = value instead\n",
      "\n",
      "See the caveats in the documentation: https://pandas.pydata.org/pandas-docs/stable/user_guide/indexing.html#returning-a-view-versus-a-copy\n",
      "  current_data['Date'] = current_data.index\n"
     ]
    },
    {
     "name": "stdout",
     "output_type": "stream",
     "text": [
      "Completed 4 out of 461 steps\n",
      "the main data is of shape (541, 2)\n",
      "shape of current_data2 is (541, 59)\n"
     ]
    },
    {
     "name": "stderr",
     "output_type": "stream",
     "text": [
      "C:\\Users\\abhij\\AppData\\Local\\Temp\\ipykernel_28124\\3248937819.py:14: SettingWithCopyWarning: \n",
      "A value is trying to be set on a copy of a slice from a DataFrame.\n",
      "Try using .loc[row_indexer,col_indexer] = value instead\n",
      "\n",
      "See the caveats in the documentation: https://pandas.pydata.org/pandas-docs/stable/user_guide/indexing.html#returning-a-view-versus-a-copy\n",
      "  current_data['Date'] = current_data.index\n"
     ]
    },
    {
     "name": "stdout",
     "output_type": "stream",
     "text": [
      "Completed 5 out of 461 steps\n",
      "the main data is of shape (541, 2)\n",
      "shape of current_data2 is (541, 59)\n"
     ]
    },
    {
     "name": "stderr",
     "output_type": "stream",
     "text": [
      "C:\\Users\\abhij\\AppData\\Local\\Temp\\ipykernel_28124\\3248937819.py:14: SettingWithCopyWarning: \n",
      "A value is trying to be set on a copy of a slice from a DataFrame.\n",
      "Try using .loc[row_indexer,col_indexer] = value instead\n",
      "\n",
      "See the caveats in the documentation: https://pandas.pydata.org/pandas-docs/stable/user_guide/indexing.html#returning-a-view-versus-a-copy\n",
      "  current_data['Date'] = current_data.index\n"
     ]
    },
    {
     "name": "stdout",
     "output_type": "stream",
     "text": [
      "Completed 6 out of 461 steps\n",
      "the main data is of shape (541, 2)\n",
      "shape of current_data2 is (541, 59)\n"
     ]
    },
    {
     "name": "stderr",
     "output_type": "stream",
     "text": [
      "C:\\Users\\abhij\\AppData\\Local\\Temp\\ipykernel_28124\\3248937819.py:14: SettingWithCopyWarning: \n",
      "A value is trying to be set on a copy of a slice from a DataFrame.\n",
      "Try using .loc[row_indexer,col_indexer] = value instead\n",
      "\n",
      "See the caveats in the documentation: https://pandas.pydata.org/pandas-docs/stable/user_guide/indexing.html#returning-a-view-versus-a-copy\n",
      "  current_data['Date'] = current_data.index\n"
     ]
    },
    {
     "name": "stdout",
     "output_type": "stream",
     "text": [
      "Completed 7 out of 461 steps\n",
      "the main data is of shape (541, 2)\n",
      "shape of current_data2 is (541, 59)\n"
     ]
    },
    {
     "name": "stderr",
     "output_type": "stream",
     "text": [
      "C:\\Users\\abhij\\AppData\\Local\\Temp\\ipykernel_28124\\3248937819.py:14: SettingWithCopyWarning: \n",
      "A value is trying to be set on a copy of a slice from a DataFrame.\n",
      "Try using .loc[row_indexer,col_indexer] = value instead\n",
      "\n",
      "See the caveats in the documentation: https://pandas.pydata.org/pandas-docs/stable/user_guide/indexing.html#returning-a-view-versus-a-copy\n",
      "  current_data['Date'] = current_data.index\n"
     ]
    },
    {
     "name": "stdout",
     "output_type": "stream",
     "text": [
      "Completed 8 out of 461 steps\n",
      "the main data is of shape (541, 2)\n",
      "shape of current_data2 is (541, 59)\n"
     ]
    },
    {
     "name": "stderr",
     "output_type": "stream",
     "text": [
      "C:\\Users\\abhij\\AppData\\Local\\Temp\\ipykernel_28124\\3248937819.py:14: SettingWithCopyWarning: \n",
      "A value is trying to be set on a copy of a slice from a DataFrame.\n",
      "Try using .loc[row_indexer,col_indexer] = value instead\n",
      "\n",
      "See the caveats in the documentation: https://pandas.pydata.org/pandas-docs/stable/user_guide/indexing.html#returning-a-view-versus-a-copy\n",
      "  current_data['Date'] = current_data.index\n"
     ]
    },
    {
     "name": "stdout",
     "output_type": "stream",
     "text": [
      "Completed 9 out of 461 steps\n",
      "the main data is of shape (541, 2)\n",
      "shape of current_data2 is (541, 59)\n"
     ]
    },
    {
     "name": "stderr",
     "output_type": "stream",
     "text": [
      "C:\\Users\\abhij\\AppData\\Local\\Temp\\ipykernel_28124\\3248937819.py:14: SettingWithCopyWarning: \n",
      "A value is trying to be set on a copy of a slice from a DataFrame.\n",
      "Try using .loc[row_indexer,col_indexer] = value instead\n",
      "\n",
      "See the caveats in the documentation: https://pandas.pydata.org/pandas-docs/stable/user_guide/indexing.html#returning-a-view-versus-a-copy\n",
      "  current_data['Date'] = current_data.index\n"
     ]
    },
    {
     "name": "stdout",
     "output_type": "stream",
     "text": [
      "Completed 10 out of 461 steps\n",
      "the main data is of shape (541, 2)\n",
      "shape of current_data2 is (541, 59)\n"
     ]
    },
    {
     "name": "stderr",
     "output_type": "stream",
     "text": [
      "C:\\Users\\abhij\\AppData\\Local\\Temp\\ipykernel_28124\\3248937819.py:14: SettingWithCopyWarning: \n",
      "A value is trying to be set on a copy of a slice from a DataFrame.\n",
      "Try using .loc[row_indexer,col_indexer] = value instead\n",
      "\n",
      "See the caveats in the documentation: https://pandas.pydata.org/pandas-docs/stable/user_guide/indexing.html#returning-a-view-versus-a-copy\n",
      "  current_data['Date'] = current_data.index\n"
     ]
    },
    {
     "name": "stdout",
     "output_type": "stream",
     "text": [
      "Completed 11 out of 461 steps\n",
      "the main data is of shape (541, 2)\n",
      "shape of current_data2 is (541, 59)\n"
     ]
    },
    {
     "name": "stderr",
     "output_type": "stream",
     "text": [
      "C:\\Users\\abhij\\AppData\\Local\\Temp\\ipykernel_28124\\3248937819.py:14: SettingWithCopyWarning: \n",
      "A value is trying to be set on a copy of a slice from a DataFrame.\n",
      "Try using .loc[row_indexer,col_indexer] = value instead\n",
      "\n",
      "See the caveats in the documentation: https://pandas.pydata.org/pandas-docs/stable/user_guide/indexing.html#returning-a-view-versus-a-copy\n",
      "  current_data['Date'] = current_data.index\n"
     ]
    },
    {
     "name": "stdout",
     "output_type": "stream",
     "text": [
      "Completed 12 out of 461 steps\n",
      "the main data is of shape (541, 2)\n",
      "shape of current_data2 is (541, 59)\n"
     ]
    },
    {
     "name": "stderr",
     "output_type": "stream",
     "text": [
      "C:\\Users\\abhij\\AppData\\Local\\Temp\\ipykernel_28124\\3248937819.py:14: SettingWithCopyWarning: \n",
      "A value is trying to be set on a copy of a slice from a DataFrame.\n",
      "Try using .loc[row_indexer,col_indexer] = value instead\n",
      "\n",
      "See the caveats in the documentation: https://pandas.pydata.org/pandas-docs/stable/user_guide/indexing.html#returning-a-view-versus-a-copy\n",
      "  current_data['Date'] = current_data.index\n"
     ]
    },
    {
     "name": "stdout",
     "output_type": "stream",
     "text": [
      "Completed 13 out of 461 steps\n",
      "the main data is of shape (541, 2)\n",
      "shape of current_data2 is (541, 59)\n"
     ]
    },
    {
     "name": "stderr",
     "output_type": "stream",
     "text": [
      "C:\\Users\\abhij\\AppData\\Local\\Temp\\ipykernel_28124\\3248937819.py:14: SettingWithCopyWarning: \n",
      "A value is trying to be set on a copy of a slice from a DataFrame.\n",
      "Try using .loc[row_indexer,col_indexer] = value instead\n",
      "\n",
      "See the caveats in the documentation: https://pandas.pydata.org/pandas-docs/stable/user_guide/indexing.html#returning-a-view-versus-a-copy\n",
      "  current_data['Date'] = current_data.index\n"
     ]
    },
    {
     "name": "stdout",
     "output_type": "stream",
     "text": [
      "Completed 14 out of 461 steps\n",
      "the main data is of shape (541, 2)\n",
      "shape of current_data2 is (541, 59)\n"
     ]
    },
    {
     "name": "stderr",
     "output_type": "stream",
     "text": [
      "C:\\Users\\abhij\\AppData\\Local\\Temp\\ipykernel_28124\\3248937819.py:14: SettingWithCopyWarning: \n",
      "A value is trying to be set on a copy of a slice from a DataFrame.\n",
      "Try using .loc[row_indexer,col_indexer] = value instead\n",
      "\n",
      "See the caveats in the documentation: https://pandas.pydata.org/pandas-docs/stable/user_guide/indexing.html#returning-a-view-versus-a-copy\n",
      "  current_data['Date'] = current_data.index\n"
     ]
    },
    {
     "name": "stdout",
     "output_type": "stream",
     "text": [
      "Completed 15 out of 461 steps\n",
      "the main data is of shape (541, 2)\n",
      "shape of current_data2 is (541, 59)\n"
     ]
    },
    {
     "name": "stderr",
     "output_type": "stream",
     "text": [
      "C:\\Users\\abhij\\AppData\\Local\\Temp\\ipykernel_28124\\3248937819.py:14: SettingWithCopyWarning: \n",
      "A value is trying to be set on a copy of a slice from a DataFrame.\n",
      "Try using .loc[row_indexer,col_indexer] = value instead\n",
      "\n",
      "See the caveats in the documentation: https://pandas.pydata.org/pandas-docs/stable/user_guide/indexing.html#returning-a-view-versus-a-copy\n",
      "  current_data['Date'] = current_data.index\n"
     ]
    },
    {
     "name": "stdout",
     "output_type": "stream",
     "text": [
      "Completed 16 out of 461 steps\n",
      "the main data is of shape (541, 2)\n",
      "shape of current_data2 is (541, 59)\n"
     ]
    },
    {
     "name": "stderr",
     "output_type": "stream",
     "text": [
      "C:\\Users\\abhij\\AppData\\Local\\Temp\\ipykernel_28124\\3248937819.py:14: SettingWithCopyWarning: \n",
      "A value is trying to be set on a copy of a slice from a DataFrame.\n",
      "Try using .loc[row_indexer,col_indexer] = value instead\n",
      "\n",
      "See the caveats in the documentation: https://pandas.pydata.org/pandas-docs/stable/user_guide/indexing.html#returning-a-view-versus-a-copy\n",
      "  current_data['Date'] = current_data.index\n"
     ]
    },
    {
     "name": "stdout",
     "output_type": "stream",
     "text": [
      "Completed 17 out of 461 steps\n",
      "the main data is of shape (541, 2)\n",
      "shape of current_data2 is (541, 59)\n"
     ]
    },
    {
     "name": "stderr",
     "output_type": "stream",
     "text": [
      "C:\\Users\\abhij\\AppData\\Local\\Temp\\ipykernel_28124\\3248937819.py:14: SettingWithCopyWarning: \n",
      "A value is trying to be set on a copy of a slice from a DataFrame.\n",
      "Try using .loc[row_indexer,col_indexer] = value instead\n",
      "\n",
      "See the caveats in the documentation: https://pandas.pydata.org/pandas-docs/stable/user_guide/indexing.html#returning-a-view-versus-a-copy\n",
      "  current_data['Date'] = current_data.index\n"
     ]
    },
    {
     "name": "stdout",
     "output_type": "stream",
     "text": [
      "Completed 18 out of 461 steps\n",
      "the main data is of shape (541, 2)\n",
      "shape of current_data2 is (541, 59)\n"
     ]
    },
    {
     "name": "stderr",
     "output_type": "stream",
     "text": [
      "C:\\Users\\abhij\\AppData\\Local\\Temp\\ipykernel_28124\\3248937819.py:14: SettingWithCopyWarning: \n",
      "A value is trying to be set on a copy of a slice from a DataFrame.\n",
      "Try using .loc[row_indexer,col_indexer] = value instead\n",
      "\n",
      "See the caveats in the documentation: https://pandas.pydata.org/pandas-docs/stable/user_guide/indexing.html#returning-a-view-versus-a-copy\n",
      "  current_data['Date'] = current_data.index\n"
     ]
    },
    {
     "name": "stdout",
     "output_type": "stream",
     "text": [
      "Completed 19 out of 461 steps\n",
      "the main data is of shape (541, 2)\n",
      "shape of current_data2 is (541, 59)\n"
     ]
    },
    {
     "name": "stderr",
     "output_type": "stream",
     "text": [
      "C:\\Users\\abhij\\AppData\\Local\\Temp\\ipykernel_28124\\3248937819.py:14: SettingWithCopyWarning: \n",
      "A value is trying to be set on a copy of a slice from a DataFrame.\n",
      "Try using .loc[row_indexer,col_indexer] = value instead\n",
      "\n",
      "See the caveats in the documentation: https://pandas.pydata.org/pandas-docs/stable/user_guide/indexing.html#returning-a-view-versus-a-copy\n",
      "  current_data['Date'] = current_data.index\n"
     ]
    },
    {
     "name": "stdout",
     "output_type": "stream",
     "text": [
      "Completed 20 out of 461 steps\n",
      "the main data is of shape (541, 2)\n",
      "shape of current_data2 is (541, 59)\n"
     ]
    },
    {
     "name": "stderr",
     "output_type": "stream",
     "text": [
      "C:\\Users\\abhij\\AppData\\Local\\Temp\\ipykernel_28124\\3248937819.py:14: SettingWithCopyWarning: \n",
      "A value is trying to be set on a copy of a slice from a DataFrame.\n",
      "Try using .loc[row_indexer,col_indexer] = value instead\n",
      "\n",
      "See the caveats in the documentation: https://pandas.pydata.org/pandas-docs/stable/user_guide/indexing.html#returning-a-view-versus-a-copy\n",
      "  current_data['Date'] = current_data.index\n"
     ]
    },
    {
     "name": "stdout",
     "output_type": "stream",
     "text": [
      "Completed 21 out of 461 steps\n",
      "the main data is of shape (541, 2)\n",
      "shape of current_data2 is (541, 59)\n"
     ]
    },
    {
     "name": "stderr",
     "output_type": "stream",
     "text": [
      "C:\\Users\\abhij\\AppData\\Local\\Temp\\ipykernel_28124\\3248937819.py:14: SettingWithCopyWarning: \n",
      "A value is trying to be set on a copy of a slice from a DataFrame.\n",
      "Try using .loc[row_indexer,col_indexer] = value instead\n",
      "\n",
      "See the caveats in the documentation: https://pandas.pydata.org/pandas-docs/stable/user_guide/indexing.html#returning-a-view-versus-a-copy\n",
      "  current_data['Date'] = current_data.index\n"
     ]
    },
    {
     "name": "stdout",
     "output_type": "stream",
     "text": [
      "Completed 22 out of 461 steps\n",
      "the main data is of shape (541, 2)\n",
      "shape of current_data2 is (541, 59)\n"
     ]
    },
    {
     "name": "stderr",
     "output_type": "stream",
     "text": [
      "C:\\Users\\abhij\\AppData\\Local\\Temp\\ipykernel_28124\\3248937819.py:14: SettingWithCopyWarning: \n",
      "A value is trying to be set on a copy of a slice from a DataFrame.\n",
      "Try using .loc[row_indexer,col_indexer] = value instead\n",
      "\n",
      "See the caveats in the documentation: https://pandas.pydata.org/pandas-docs/stable/user_guide/indexing.html#returning-a-view-versus-a-copy\n",
      "  current_data['Date'] = current_data.index\n"
     ]
    },
    {
     "name": "stdout",
     "output_type": "stream",
     "text": [
      "Completed 23 out of 461 steps\n",
      "the main data is of shape (541, 2)\n",
      "shape of current_data2 is (541, 59)\n"
     ]
    },
    {
     "name": "stderr",
     "output_type": "stream",
     "text": [
      "C:\\Users\\abhij\\AppData\\Local\\Temp\\ipykernel_28124\\3248937819.py:14: SettingWithCopyWarning: \n",
      "A value is trying to be set on a copy of a slice from a DataFrame.\n",
      "Try using .loc[row_indexer,col_indexer] = value instead\n",
      "\n",
      "See the caveats in the documentation: https://pandas.pydata.org/pandas-docs/stable/user_guide/indexing.html#returning-a-view-versus-a-copy\n",
      "  current_data['Date'] = current_data.index\n"
     ]
    },
    {
     "name": "stdout",
     "output_type": "stream",
     "text": [
      "Completed 24 out of 461 steps\n",
      "the main data is of shape (541, 2)\n",
      "shape of current_data2 is (541, 59)\n"
     ]
    },
    {
     "name": "stderr",
     "output_type": "stream",
     "text": [
      "C:\\Users\\abhij\\AppData\\Local\\Temp\\ipykernel_28124\\3248937819.py:14: SettingWithCopyWarning: \n",
      "A value is trying to be set on a copy of a slice from a DataFrame.\n",
      "Try using .loc[row_indexer,col_indexer] = value instead\n",
      "\n",
      "See the caveats in the documentation: https://pandas.pydata.org/pandas-docs/stable/user_guide/indexing.html#returning-a-view-versus-a-copy\n",
      "  current_data['Date'] = current_data.index\n"
     ]
    },
    {
     "name": "stdout",
     "output_type": "stream",
     "text": [
      "Completed 25 out of 461 steps\n",
      "the main data is of shape (541, 2)\n",
      "shape of current_data2 is (541, 59)\n"
     ]
    },
    {
     "name": "stderr",
     "output_type": "stream",
     "text": [
      "C:\\Users\\abhij\\AppData\\Local\\Temp\\ipykernel_28124\\3248937819.py:14: SettingWithCopyWarning: \n",
      "A value is trying to be set on a copy of a slice from a DataFrame.\n",
      "Try using .loc[row_indexer,col_indexer] = value instead\n",
      "\n",
      "See the caveats in the documentation: https://pandas.pydata.org/pandas-docs/stable/user_guide/indexing.html#returning-a-view-versus-a-copy\n",
      "  current_data['Date'] = current_data.index\n"
     ]
    },
    {
     "name": "stdout",
     "output_type": "stream",
     "text": [
      "Completed 26 out of 461 steps\n",
      "the main data is of shape (541, 2)\n",
      "shape of current_data2 is (541, 59)\n"
     ]
    },
    {
     "name": "stderr",
     "output_type": "stream",
     "text": [
      "C:\\Users\\abhij\\AppData\\Local\\Temp\\ipykernel_28124\\3248937819.py:14: SettingWithCopyWarning: \n",
      "A value is trying to be set on a copy of a slice from a DataFrame.\n",
      "Try using .loc[row_indexer,col_indexer] = value instead\n",
      "\n",
      "See the caveats in the documentation: https://pandas.pydata.org/pandas-docs/stable/user_guide/indexing.html#returning-a-view-versus-a-copy\n",
      "  current_data['Date'] = current_data.index\n"
     ]
    },
    {
     "name": "stdout",
     "output_type": "stream",
     "text": [
      "Completed 27 out of 461 steps\n",
      "the main data is of shape (541, 2)\n",
      "shape of current_data2 is (541, 59)\n"
     ]
    },
    {
     "name": "stderr",
     "output_type": "stream",
     "text": [
      "C:\\Users\\abhij\\AppData\\Local\\Temp\\ipykernel_28124\\3248937819.py:14: SettingWithCopyWarning: \n",
      "A value is trying to be set on a copy of a slice from a DataFrame.\n",
      "Try using .loc[row_indexer,col_indexer] = value instead\n",
      "\n",
      "See the caveats in the documentation: https://pandas.pydata.org/pandas-docs/stable/user_guide/indexing.html#returning-a-view-versus-a-copy\n",
      "  current_data['Date'] = current_data.index\n"
     ]
    },
    {
     "name": "stdout",
     "output_type": "stream",
     "text": [
      "Completed 28 out of 461 steps\n",
      "the main data is of shape (541, 2)\n",
      "shape of current_data2 is (541, 59)\n"
     ]
    },
    {
     "name": "stderr",
     "output_type": "stream",
     "text": [
      "C:\\Users\\abhij\\AppData\\Local\\Temp\\ipykernel_28124\\3248937819.py:14: SettingWithCopyWarning: \n",
      "A value is trying to be set on a copy of a slice from a DataFrame.\n",
      "Try using .loc[row_indexer,col_indexer] = value instead\n",
      "\n",
      "See the caveats in the documentation: https://pandas.pydata.org/pandas-docs/stable/user_guide/indexing.html#returning-a-view-versus-a-copy\n",
      "  current_data['Date'] = current_data.index\n"
     ]
    },
    {
     "name": "stdout",
     "output_type": "stream",
     "text": [
      "Completed 29 out of 461 steps\n",
      "the main data is of shape (513, 2)\n",
      "shape of current_data2 is (513, 59)\n"
     ]
    },
    {
     "name": "stderr",
     "output_type": "stream",
     "text": [
      "C:\\Users\\abhij\\AppData\\Local\\Temp\\ipykernel_28124\\3248937819.py:14: SettingWithCopyWarning: \n",
      "A value is trying to be set on a copy of a slice from a DataFrame.\n",
      "Try using .loc[row_indexer,col_indexer] = value instead\n",
      "\n",
      "See the caveats in the documentation: https://pandas.pydata.org/pandas-docs/stable/user_guide/indexing.html#returning-a-view-versus-a-copy\n",
      "  current_data['Date'] = current_data.index\n"
     ]
    },
    {
     "name": "stdout",
     "output_type": "stream",
     "text": [
      "Completed 30 out of 461 steps\n",
      "the main data is of shape (541, 2)\n",
      "shape of current_data2 is (541, 59)\n"
     ]
    },
    {
     "name": "stderr",
     "output_type": "stream",
     "text": [
      "C:\\Users\\abhij\\AppData\\Local\\Temp\\ipykernel_28124\\3248937819.py:14: SettingWithCopyWarning: \n",
      "A value is trying to be set on a copy of a slice from a DataFrame.\n",
      "Try using .loc[row_indexer,col_indexer] = value instead\n",
      "\n",
      "See the caveats in the documentation: https://pandas.pydata.org/pandas-docs/stable/user_guide/indexing.html#returning-a-view-versus-a-copy\n",
      "  current_data['Date'] = current_data.index\n"
     ]
    },
    {
     "name": "stdout",
     "output_type": "stream",
     "text": [
      "Completed 31 out of 461 steps\n",
      "the main data is of shape (541, 2)\n",
      "shape of current_data2 is (541, 59)\n"
     ]
    },
    {
     "name": "stderr",
     "output_type": "stream",
     "text": [
      "C:\\Users\\abhij\\AppData\\Local\\Temp\\ipykernel_28124\\3248937819.py:14: SettingWithCopyWarning: \n",
      "A value is trying to be set on a copy of a slice from a DataFrame.\n",
      "Try using .loc[row_indexer,col_indexer] = value instead\n",
      "\n",
      "See the caveats in the documentation: https://pandas.pydata.org/pandas-docs/stable/user_guide/indexing.html#returning-a-view-versus-a-copy\n",
      "  current_data['Date'] = current_data.index\n"
     ]
    },
    {
     "name": "stdout",
     "output_type": "stream",
     "text": [
      "Completed 32 out of 461 steps\n",
      "the main data is of shape (541, 2)\n",
      "shape of current_data2 is (541, 59)\n"
     ]
    },
    {
     "name": "stderr",
     "output_type": "stream",
     "text": [
      "C:\\Users\\abhij\\AppData\\Local\\Temp\\ipykernel_28124\\3248937819.py:14: SettingWithCopyWarning: \n",
      "A value is trying to be set on a copy of a slice from a DataFrame.\n",
      "Try using .loc[row_indexer,col_indexer] = value instead\n",
      "\n",
      "See the caveats in the documentation: https://pandas.pydata.org/pandas-docs/stable/user_guide/indexing.html#returning-a-view-versus-a-copy\n",
      "  current_data['Date'] = current_data.index\n"
     ]
    },
    {
     "name": "stdout",
     "output_type": "stream",
     "text": [
      "Completed 33 out of 461 steps\n",
      "the main data is of shape (541, 2)\n",
      "shape of current_data2 is (541, 59)\n"
     ]
    },
    {
     "name": "stderr",
     "output_type": "stream",
     "text": [
      "C:\\Users\\abhij\\AppData\\Local\\Temp\\ipykernel_28124\\3248937819.py:14: SettingWithCopyWarning: \n",
      "A value is trying to be set on a copy of a slice from a DataFrame.\n",
      "Try using .loc[row_indexer,col_indexer] = value instead\n",
      "\n",
      "See the caveats in the documentation: https://pandas.pydata.org/pandas-docs/stable/user_guide/indexing.html#returning-a-view-versus-a-copy\n",
      "  current_data['Date'] = current_data.index\n"
     ]
    },
    {
     "name": "stdout",
     "output_type": "stream",
     "text": [
      "Completed 34 out of 461 steps\n",
      "the main data is of shape (541, 2)\n",
      "shape of current_data2 is (541, 59)\n"
     ]
    },
    {
     "name": "stderr",
     "output_type": "stream",
     "text": [
      "C:\\Users\\abhij\\AppData\\Local\\Temp\\ipykernel_28124\\3248937819.py:14: SettingWithCopyWarning: \n",
      "A value is trying to be set on a copy of a slice from a DataFrame.\n",
      "Try using .loc[row_indexer,col_indexer] = value instead\n",
      "\n",
      "See the caveats in the documentation: https://pandas.pydata.org/pandas-docs/stable/user_guide/indexing.html#returning-a-view-versus-a-copy\n",
      "  current_data['Date'] = current_data.index\n"
     ]
    },
    {
     "name": "stdout",
     "output_type": "stream",
     "text": [
      "Completed 35 out of 461 steps\n",
      "the main data is of shape (541, 2)\n",
      "shape of current_data2 is (541, 59)\n"
     ]
    },
    {
     "name": "stderr",
     "output_type": "stream",
     "text": [
      "C:\\Users\\abhij\\AppData\\Local\\Temp\\ipykernel_28124\\3248937819.py:14: SettingWithCopyWarning: \n",
      "A value is trying to be set on a copy of a slice from a DataFrame.\n",
      "Try using .loc[row_indexer,col_indexer] = value instead\n",
      "\n",
      "See the caveats in the documentation: https://pandas.pydata.org/pandas-docs/stable/user_guide/indexing.html#returning-a-view-versus-a-copy\n",
      "  current_data['Date'] = current_data.index\n"
     ]
    },
    {
     "name": "stdout",
     "output_type": "stream",
     "text": [
      "Completed 36 out of 461 steps\n",
      "the main data is of shape (541, 2)\n",
      "shape of current_data2 is (541, 59)\n"
     ]
    },
    {
     "name": "stderr",
     "output_type": "stream",
     "text": [
      "C:\\Users\\abhij\\AppData\\Local\\Temp\\ipykernel_28124\\3248937819.py:14: SettingWithCopyWarning: \n",
      "A value is trying to be set on a copy of a slice from a DataFrame.\n",
      "Try using .loc[row_indexer,col_indexer] = value instead\n",
      "\n",
      "See the caveats in the documentation: https://pandas.pydata.org/pandas-docs/stable/user_guide/indexing.html#returning-a-view-versus-a-copy\n",
      "  current_data['Date'] = current_data.index\n"
     ]
    },
    {
     "name": "stdout",
     "output_type": "stream",
     "text": [
      "Completed 37 out of 461 steps\n",
      "the main data is of shape (541, 2)\n",
      "shape of current_data2 is (541, 59)\n"
     ]
    },
    {
     "name": "stderr",
     "output_type": "stream",
     "text": [
      "C:\\Users\\abhij\\AppData\\Local\\Temp\\ipykernel_28124\\3248937819.py:14: SettingWithCopyWarning: \n",
      "A value is trying to be set on a copy of a slice from a DataFrame.\n",
      "Try using .loc[row_indexer,col_indexer] = value instead\n",
      "\n",
      "See the caveats in the documentation: https://pandas.pydata.org/pandas-docs/stable/user_guide/indexing.html#returning-a-view-versus-a-copy\n",
      "  current_data['Date'] = current_data.index\n"
     ]
    },
    {
     "name": "stdout",
     "output_type": "stream",
     "text": [
      "Completed 38 out of 461 steps\n",
      "the main data is of shape (541, 2)\n",
      "shape of current_data2 is (541, 59)\n"
     ]
    },
    {
     "name": "stderr",
     "output_type": "stream",
     "text": [
      "C:\\Users\\abhij\\AppData\\Local\\Temp\\ipykernel_28124\\3248937819.py:14: SettingWithCopyWarning: \n",
      "A value is trying to be set on a copy of a slice from a DataFrame.\n",
      "Try using .loc[row_indexer,col_indexer] = value instead\n",
      "\n",
      "See the caveats in the documentation: https://pandas.pydata.org/pandas-docs/stable/user_guide/indexing.html#returning-a-view-versus-a-copy\n",
      "  current_data['Date'] = current_data.index\n"
     ]
    },
    {
     "name": "stdout",
     "output_type": "stream",
     "text": [
      "Completed 39 out of 461 steps\n",
      "the main data is of shape (541, 2)\n",
      "shape of current_data2 is (541, 59)\n"
     ]
    },
    {
     "name": "stderr",
     "output_type": "stream",
     "text": [
      "C:\\Users\\abhij\\AppData\\Local\\Temp\\ipykernel_28124\\3248937819.py:14: SettingWithCopyWarning: \n",
      "A value is trying to be set on a copy of a slice from a DataFrame.\n",
      "Try using .loc[row_indexer,col_indexer] = value instead\n",
      "\n",
      "See the caveats in the documentation: https://pandas.pydata.org/pandas-docs/stable/user_guide/indexing.html#returning-a-view-versus-a-copy\n",
      "  current_data['Date'] = current_data.index\n"
     ]
    },
    {
     "name": "stdout",
     "output_type": "stream",
     "text": [
      "Completed 40 out of 461 steps\n",
      "the main data is of shape (541, 2)\n",
      "shape of current_data2 is (541, 59)\n"
     ]
    },
    {
     "name": "stderr",
     "output_type": "stream",
     "text": [
      "C:\\Users\\abhij\\AppData\\Local\\Temp\\ipykernel_28124\\3248937819.py:14: SettingWithCopyWarning: \n",
      "A value is trying to be set on a copy of a slice from a DataFrame.\n",
      "Try using .loc[row_indexer,col_indexer] = value instead\n",
      "\n",
      "See the caveats in the documentation: https://pandas.pydata.org/pandas-docs/stable/user_guide/indexing.html#returning-a-view-versus-a-copy\n",
      "  current_data['Date'] = current_data.index\n"
     ]
    },
    {
     "name": "stdout",
     "output_type": "stream",
     "text": [
      "Completed 41 out of 461 steps\n",
      "the main data is of shape (541, 2)\n",
      "shape of current_data2 is (541, 59)\n"
     ]
    },
    {
     "name": "stderr",
     "output_type": "stream",
     "text": [
      "C:\\Users\\abhij\\AppData\\Local\\Temp\\ipykernel_28124\\3248937819.py:14: SettingWithCopyWarning: \n",
      "A value is trying to be set on a copy of a slice from a DataFrame.\n",
      "Try using .loc[row_indexer,col_indexer] = value instead\n",
      "\n",
      "See the caveats in the documentation: https://pandas.pydata.org/pandas-docs/stable/user_guide/indexing.html#returning-a-view-versus-a-copy\n",
      "  current_data['Date'] = current_data.index\n"
     ]
    },
    {
     "name": "stdout",
     "output_type": "stream",
     "text": [
      "Completed 42 out of 461 steps\n",
      "the main data is of shape (541, 2)\n",
      "shape of current_data2 is (541, 59)\n"
     ]
    },
    {
     "name": "stderr",
     "output_type": "stream",
     "text": [
      "C:\\Users\\abhij\\AppData\\Local\\Temp\\ipykernel_28124\\3248937819.py:14: SettingWithCopyWarning: \n",
      "A value is trying to be set on a copy of a slice from a DataFrame.\n",
      "Try using .loc[row_indexer,col_indexer] = value instead\n",
      "\n",
      "See the caveats in the documentation: https://pandas.pydata.org/pandas-docs/stable/user_guide/indexing.html#returning-a-view-versus-a-copy\n",
      "  current_data['Date'] = current_data.index\n"
     ]
    },
    {
     "name": "stdout",
     "output_type": "stream",
     "text": [
      "Completed 43 out of 461 steps\n",
      "the main data is of shape (541, 2)\n",
      "shape of current_data2 is (541, 59)\n"
     ]
    },
    {
     "name": "stderr",
     "output_type": "stream",
     "text": [
      "C:\\Users\\abhij\\AppData\\Local\\Temp\\ipykernel_28124\\3248937819.py:14: SettingWithCopyWarning: \n",
      "A value is trying to be set on a copy of a slice from a DataFrame.\n",
      "Try using .loc[row_indexer,col_indexer] = value instead\n",
      "\n",
      "See the caveats in the documentation: https://pandas.pydata.org/pandas-docs/stable/user_guide/indexing.html#returning-a-view-versus-a-copy\n",
      "  current_data['Date'] = current_data.index\n"
     ]
    },
    {
     "name": "stdout",
     "output_type": "stream",
     "text": [
      "Completed 44 out of 461 steps\n",
      "the main data is of shape (541, 2)\n",
      "shape of current_data2 is (541, 59)\n"
     ]
    },
    {
     "name": "stderr",
     "output_type": "stream",
     "text": [
      "C:\\Users\\abhij\\AppData\\Local\\Temp\\ipykernel_28124\\3248937819.py:14: SettingWithCopyWarning: \n",
      "A value is trying to be set on a copy of a slice from a DataFrame.\n",
      "Try using .loc[row_indexer,col_indexer] = value instead\n",
      "\n",
      "See the caveats in the documentation: https://pandas.pydata.org/pandas-docs/stable/user_guide/indexing.html#returning-a-view-versus-a-copy\n",
      "  current_data['Date'] = current_data.index\n"
     ]
    },
    {
     "name": "stdout",
     "output_type": "stream",
     "text": [
      "Completed 45 out of 461 steps\n",
      "the main data is of shape (541, 2)\n",
      "shape of current_data2 is (541, 59)\n"
     ]
    },
    {
     "name": "stderr",
     "output_type": "stream",
     "text": [
      "C:\\Users\\abhij\\AppData\\Local\\Temp\\ipykernel_28124\\3248937819.py:14: SettingWithCopyWarning: \n",
      "A value is trying to be set on a copy of a slice from a DataFrame.\n",
      "Try using .loc[row_indexer,col_indexer] = value instead\n",
      "\n",
      "See the caveats in the documentation: https://pandas.pydata.org/pandas-docs/stable/user_guide/indexing.html#returning-a-view-versus-a-copy\n",
      "  current_data['Date'] = current_data.index\n"
     ]
    },
    {
     "name": "stdout",
     "output_type": "stream",
     "text": [
      "Completed 46 out of 461 steps\n",
      "the main data is of shape (541, 2)\n",
      "shape of current_data2 is (541, 59)\n"
     ]
    },
    {
     "name": "stderr",
     "output_type": "stream",
     "text": [
      "C:\\Users\\abhij\\AppData\\Local\\Temp\\ipykernel_28124\\3248937819.py:14: SettingWithCopyWarning: \n",
      "A value is trying to be set on a copy of a slice from a DataFrame.\n",
      "Try using .loc[row_indexer,col_indexer] = value instead\n",
      "\n",
      "See the caveats in the documentation: https://pandas.pydata.org/pandas-docs/stable/user_guide/indexing.html#returning-a-view-versus-a-copy\n",
      "  current_data['Date'] = current_data.index\n"
     ]
    },
    {
     "name": "stdout",
     "output_type": "stream",
     "text": [
      "Completed 47 out of 461 steps\n",
      "the main data is of shape (541, 2)\n",
      "shape of current_data2 is (541, 59)\n"
     ]
    },
    {
     "name": "stderr",
     "output_type": "stream",
     "text": [
      "C:\\Users\\abhij\\AppData\\Local\\Temp\\ipykernel_28124\\3248937819.py:14: SettingWithCopyWarning: \n",
      "A value is trying to be set on a copy of a slice from a DataFrame.\n",
      "Try using .loc[row_indexer,col_indexer] = value instead\n",
      "\n",
      "See the caveats in the documentation: https://pandas.pydata.org/pandas-docs/stable/user_guide/indexing.html#returning-a-view-versus-a-copy\n",
      "  current_data['Date'] = current_data.index\n"
     ]
    },
    {
     "name": "stdout",
     "output_type": "stream",
     "text": [
      "Completed 48 out of 461 steps\n",
      "the main data is of shape (541, 2)\n",
      "shape of current_data2 is (541, 59)\n"
     ]
    },
    {
     "name": "stderr",
     "output_type": "stream",
     "text": [
      "C:\\Users\\abhij\\AppData\\Local\\Temp\\ipykernel_28124\\3248937819.py:14: SettingWithCopyWarning: \n",
      "A value is trying to be set on a copy of a slice from a DataFrame.\n",
      "Try using .loc[row_indexer,col_indexer] = value instead\n",
      "\n",
      "See the caveats in the documentation: https://pandas.pydata.org/pandas-docs/stable/user_guide/indexing.html#returning-a-view-versus-a-copy\n",
      "  current_data['Date'] = current_data.index\n"
     ]
    },
    {
     "name": "stdout",
     "output_type": "stream",
     "text": [
      "Completed 49 out of 461 steps\n",
      "the main data is of shape (541, 2)\n",
      "shape of current_data2 is (541, 59)\n"
     ]
    },
    {
     "name": "stderr",
     "output_type": "stream",
     "text": [
      "C:\\Users\\abhij\\AppData\\Local\\Temp\\ipykernel_28124\\3248937819.py:14: SettingWithCopyWarning: \n",
      "A value is trying to be set on a copy of a slice from a DataFrame.\n",
      "Try using .loc[row_indexer,col_indexer] = value instead\n",
      "\n",
      "See the caveats in the documentation: https://pandas.pydata.org/pandas-docs/stable/user_guide/indexing.html#returning-a-view-versus-a-copy\n",
      "  current_data['Date'] = current_data.index\n"
     ]
    },
    {
     "name": "stdout",
     "output_type": "stream",
     "text": [
      "Completed 50 out of 461 steps\n",
      "the main data is of shape (541, 2)\n",
      "shape of current_data2 is (541, 59)\n"
     ]
    },
    {
     "name": "stderr",
     "output_type": "stream",
     "text": [
      "C:\\Users\\abhij\\AppData\\Local\\Temp\\ipykernel_28124\\3248937819.py:14: SettingWithCopyWarning: \n",
      "A value is trying to be set on a copy of a slice from a DataFrame.\n",
      "Try using .loc[row_indexer,col_indexer] = value instead\n",
      "\n",
      "See the caveats in the documentation: https://pandas.pydata.org/pandas-docs/stable/user_guide/indexing.html#returning-a-view-versus-a-copy\n",
      "  current_data['Date'] = current_data.index\n"
     ]
    },
    {
     "name": "stdout",
     "output_type": "stream",
     "text": [
      "Completed 51 out of 461 steps\n",
      "the main data is of shape (541, 2)\n",
      "shape of current_data2 is (541, 59)\n"
     ]
    },
    {
     "name": "stderr",
     "output_type": "stream",
     "text": [
      "C:\\Users\\abhij\\AppData\\Local\\Temp\\ipykernel_28124\\3248937819.py:14: SettingWithCopyWarning: \n",
      "A value is trying to be set on a copy of a slice from a DataFrame.\n",
      "Try using .loc[row_indexer,col_indexer] = value instead\n",
      "\n",
      "See the caveats in the documentation: https://pandas.pydata.org/pandas-docs/stable/user_guide/indexing.html#returning-a-view-versus-a-copy\n",
      "  current_data['Date'] = current_data.index\n"
     ]
    },
    {
     "name": "stdout",
     "output_type": "stream",
     "text": [
      "Completed 52 out of 461 steps\n",
      "the main data is of shape (541, 2)\n",
      "shape of current_data2 is (541, 59)\n"
     ]
    },
    {
     "name": "stderr",
     "output_type": "stream",
     "text": [
      "C:\\Users\\abhij\\AppData\\Local\\Temp\\ipykernel_28124\\3248937819.py:14: SettingWithCopyWarning: \n",
      "A value is trying to be set on a copy of a slice from a DataFrame.\n",
      "Try using .loc[row_indexer,col_indexer] = value instead\n",
      "\n",
      "See the caveats in the documentation: https://pandas.pydata.org/pandas-docs/stable/user_guide/indexing.html#returning-a-view-versus-a-copy\n",
      "  current_data['Date'] = current_data.index\n"
     ]
    },
    {
     "name": "stdout",
     "output_type": "stream",
     "text": [
      "Completed 53 out of 461 steps\n",
      "the main data is of shape (541, 2)\n",
      "shape of current_data2 is (541, 59)\n"
     ]
    },
    {
     "name": "stderr",
     "output_type": "stream",
     "text": [
      "C:\\Users\\abhij\\AppData\\Local\\Temp\\ipykernel_28124\\3248937819.py:14: SettingWithCopyWarning: \n",
      "A value is trying to be set on a copy of a slice from a DataFrame.\n",
      "Try using .loc[row_indexer,col_indexer] = value instead\n",
      "\n",
      "See the caveats in the documentation: https://pandas.pydata.org/pandas-docs/stable/user_guide/indexing.html#returning-a-view-versus-a-copy\n",
      "  current_data['Date'] = current_data.index\n"
     ]
    },
    {
     "name": "stdout",
     "output_type": "stream",
     "text": [
      "Completed 54 out of 461 steps\n",
      "the main data is of shape (541, 2)\n",
      "shape of current_data2 is (541, 59)\n"
     ]
    },
    {
     "name": "stderr",
     "output_type": "stream",
     "text": [
      "C:\\Users\\abhij\\AppData\\Local\\Temp\\ipykernel_28124\\3248937819.py:14: SettingWithCopyWarning: \n",
      "A value is trying to be set on a copy of a slice from a DataFrame.\n",
      "Try using .loc[row_indexer,col_indexer] = value instead\n",
      "\n",
      "See the caveats in the documentation: https://pandas.pydata.org/pandas-docs/stable/user_guide/indexing.html#returning-a-view-versus-a-copy\n",
      "  current_data['Date'] = current_data.index\n"
     ]
    },
    {
     "name": "stdout",
     "output_type": "stream",
     "text": [
      "Completed 55 out of 461 steps\n",
      "the main data is of shape (541, 2)\n",
      "shape of current_data2 is (541, 59)\n"
     ]
    },
    {
     "name": "stderr",
     "output_type": "stream",
     "text": [
      "C:\\Users\\abhij\\AppData\\Local\\Temp\\ipykernel_28124\\3248937819.py:14: SettingWithCopyWarning: \n",
      "A value is trying to be set on a copy of a slice from a DataFrame.\n",
      "Try using .loc[row_indexer,col_indexer] = value instead\n",
      "\n",
      "See the caveats in the documentation: https://pandas.pydata.org/pandas-docs/stable/user_guide/indexing.html#returning-a-view-versus-a-copy\n",
      "  current_data['Date'] = current_data.index\n"
     ]
    },
    {
     "name": "stdout",
     "output_type": "stream",
     "text": [
      "Completed 56 out of 461 steps\n",
      "the main data is of shape (541, 2)\n",
      "shape of current_data2 is (541, 59)\n"
     ]
    },
    {
     "name": "stderr",
     "output_type": "stream",
     "text": [
      "C:\\Users\\abhij\\AppData\\Local\\Temp\\ipykernel_28124\\3248937819.py:14: SettingWithCopyWarning: \n",
      "A value is trying to be set on a copy of a slice from a DataFrame.\n",
      "Try using .loc[row_indexer,col_indexer] = value instead\n",
      "\n",
      "See the caveats in the documentation: https://pandas.pydata.org/pandas-docs/stable/user_guide/indexing.html#returning-a-view-versus-a-copy\n",
      "  current_data['Date'] = current_data.index\n"
     ]
    },
    {
     "name": "stdout",
     "output_type": "stream",
     "text": [
      "Completed 57 out of 461 steps\n",
      "the main data is of shape (541, 2)\n",
      "shape of current_data2 is (541, 59)\n"
     ]
    },
    {
     "name": "stderr",
     "output_type": "stream",
     "text": [
      "C:\\Users\\abhij\\AppData\\Local\\Temp\\ipykernel_28124\\3248937819.py:14: SettingWithCopyWarning: \n",
      "A value is trying to be set on a copy of a slice from a DataFrame.\n",
      "Try using .loc[row_indexer,col_indexer] = value instead\n",
      "\n",
      "See the caveats in the documentation: https://pandas.pydata.org/pandas-docs/stable/user_guide/indexing.html#returning-a-view-versus-a-copy\n",
      "  current_data['Date'] = current_data.index\n"
     ]
    },
    {
     "name": "stdout",
     "output_type": "stream",
     "text": [
      "Completed 58 out of 461 steps\n",
      "the main data is of shape (541, 2)\n",
      "shape of current_data2 is (541, 59)\n"
     ]
    },
    {
     "name": "stderr",
     "output_type": "stream",
     "text": [
      "C:\\Users\\abhij\\AppData\\Local\\Temp\\ipykernel_28124\\3248937819.py:14: SettingWithCopyWarning: \n",
      "A value is trying to be set on a copy of a slice from a DataFrame.\n",
      "Try using .loc[row_indexer,col_indexer] = value instead\n",
      "\n",
      "See the caveats in the documentation: https://pandas.pydata.org/pandas-docs/stable/user_guide/indexing.html#returning-a-view-versus-a-copy\n",
      "  current_data['Date'] = current_data.index\n"
     ]
    },
    {
     "name": "stdout",
     "output_type": "stream",
     "text": [
      "Completed 59 out of 461 steps\n",
      "the main data is of shape (541, 2)\n",
      "shape of current_data2 is (541, 59)\n"
     ]
    },
    {
     "name": "stderr",
     "output_type": "stream",
     "text": [
      "C:\\Users\\abhij\\AppData\\Local\\Temp\\ipykernel_28124\\3248937819.py:14: SettingWithCopyWarning: \n",
      "A value is trying to be set on a copy of a slice from a DataFrame.\n",
      "Try using .loc[row_indexer,col_indexer] = value instead\n",
      "\n",
      "See the caveats in the documentation: https://pandas.pydata.org/pandas-docs/stable/user_guide/indexing.html#returning-a-view-versus-a-copy\n",
      "  current_data['Date'] = current_data.index\n"
     ]
    },
    {
     "name": "stdout",
     "output_type": "stream",
     "text": [
      "Completed 60 out of 461 steps\n",
      "the main data is of shape (541, 2)\n",
      "shape of current_data2 is (541, 59)\n"
     ]
    },
    {
     "name": "stderr",
     "output_type": "stream",
     "text": [
      "C:\\Users\\abhij\\AppData\\Local\\Temp\\ipykernel_28124\\3248937819.py:14: SettingWithCopyWarning: \n",
      "A value is trying to be set on a copy of a slice from a DataFrame.\n",
      "Try using .loc[row_indexer,col_indexer] = value instead\n",
      "\n",
      "See the caveats in the documentation: https://pandas.pydata.org/pandas-docs/stable/user_guide/indexing.html#returning-a-view-versus-a-copy\n",
      "  current_data['Date'] = current_data.index\n"
     ]
    },
    {
     "name": "stdout",
     "output_type": "stream",
     "text": [
      "Completed 61 out of 461 steps\n",
      "the main data is of shape (541, 2)\n",
      "shape of current_data2 is (541, 59)\n"
     ]
    },
    {
     "name": "stderr",
     "output_type": "stream",
     "text": [
      "C:\\Users\\abhij\\AppData\\Local\\Temp\\ipykernel_28124\\3248937819.py:14: SettingWithCopyWarning: \n",
      "A value is trying to be set on a copy of a slice from a DataFrame.\n",
      "Try using .loc[row_indexer,col_indexer] = value instead\n",
      "\n",
      "See the caveats in the documentation: https://pandas.pydata.org/pandas-docs/stable/user_guide/indexing.html#returning-a-view-versus-a-copy\n",
      "  current_data['Date'] = current_data.index\n"
     ]
    },
    {
     "name": "stdout",
     "output_type": "stream",
     "text": [
      "Completed 62 out of 461 steps\n",
      "the main data is of shape (541, 2)\n",
      "shape of current_data2 is (541, 59)\n"
     ]
    },
    {
     "name": "stderr",
     "output_type": "stream",
     "text": [
      "C:\\Users\\abhij\\AppData\\Local\\Temp\\ipykernel_28124\\3248937819.py:14: SettingWithCopyWarning: \n",
      "A value is trying to be set on a copy of a slice from a DataFrame.\n",
      "Try using .loc[row_indexer,col_indexer] = value instead\n",
      "\n",
      "See the caveats in the documentation: https://pandas.pydata.org/pandas-docs/stable/user_guide/indexing.html#returning-a-view-versus-a-copy\n",
      "  current_data['Date'] = current_data.index\n"
     ]
    },
    {
     "name": "stdout",
     "output_type": "stream",
     "text": [
      "Completed 63 out of 461 steps\n",
      "the main data is of shape (541, 2)\n",
      "shape of current_data2 is (541, 59)\n"
     ]
    },
    {
     "name": "stderr",
     "output_type": "stream",
     "text": [
      "C:\\Users\\abhij\\AppData\\Local\\Temp\\ipykernel_28124\\3248937819.py:14: SettingWithCopyWarning: \n",
      "A value is trying to be set on a copy of a slice from a DataFrame.\n",
      "Try using .loc[row_indexer,col_indexer] = value instead\n",
      "\n",
      "See the caveats in the documentation: https://pandas.pydata.org/pandas-docs/stable/user_guide/indexing.html#returning-a-view-versus-a-copy\n",
      "  current_data['Date'] = current_data.index\n"
     ]
    },
    {
     "name": "stdout",
     "output_type": "stream",
     "text": [
      "Completed 64 out of 461 steps\n",
      "the main data is of shape (541, 2)\n",
      "shape of current_data2 is (541, 59)\n"
     ]
    },
    {
     "name": "stderr",
     "output_type": "stream",
     "text": [
      "C:\\Users\\abhij\\AppData\\Local\\Temp\\ipykernel_28124\\3248937819.py:14: SettingWithCopyWarning: \n",
      "A value is trying to be set on a copy of a slice from a DataFrame.\n",
      "Try using .loc[row_indexer,col_indexer] = value instead\n",
      "\n",
      "See the caveats in the documentation: https://pandas.pydata.org/pandas-docs/stable/user_guide/indexing.html#returning-a-view-versus-a-copy\n",
      "  current_data['Date'] = current_data.index\n"
     ]
    },
    {
     "name": "stdout",
     "output_type": "stream",
     "text": [
      "Completed 65 out of 461 steps\n",
      "the main data is of shape (541, 2)\n",
      "shape of current_data2 is (541, 59)\n"
     ]
    },
    {
     "name": "stderr",
     "output_type": "stream",
     "text": [
      "C:\\Users\\abhij\\AppData\\Local\\Temp\\ipykernel_28124\\3248937819.py:14: SettingWithCopyWarning: \n",
      "A value is trying to be set on a copy of a slice from a DataFrame.\n",
      "Try using .loc[row_indexer,col_indexer] = value instead\n",
      "\n",
      "See the caveats in the documentation: https://pandas.pydata.org/pandas-docs/stable/user_guide/indexing.html#returning-a-view-versus-a-copy\n",
      "  current_data['Date'] = current_data.index\n"
     ]
    },
    {
     "name": "stdout",
     "output_type": "stream",
     "text": [
      "Completed 66 out of 461 steps\n",
      "the main data is of shape (541, 2)\n",
      "shape of current_data2 is (541, 59)\n"
     ]
    },
    {
     "name": "stderr",
     "output_type": "stream",
     "text": [
      "C:\\Users\\abhij\\AppData\\Local\\Temp\\ipykernel_28124\\3248937819.py:14: SettingWithCopyWarning: \n",
      "A value is trying to be set on a copy of a slice from a DataFrame.\n",
      "Try using .loc[row_indexer,col_indexer] = value instead\n",
      "\n",
      "See the caveats in the documentation: https://pandas.pydata.org/pandas-docs/stable/user_guide/indexing.html#returning-a-view-versus-a-copy\n",
      "  current_data['Date'] = current_data.index\n"
     ]
    },
    {
     "name": "stdout",
     "output_type": "stream",
     "text": [
      "Completed 67 out of 461 steps\n",
      "the main data is of shape (541, 2)\n",
      "shape of current_data2 is (541, 59)\n"
     ]
    },
    {
     "name": "stderr",
     "output_type": "stream",
     "text": [
      "C:\\Users\\abhij\\AppData\\Local\\Temp\\ipykernel_28124\\3248937819.py:14: SettingWithCopyWarning: \n",
      "A value is trying to be set on a copy of a slice from a DataFrame.\n",
      "Try using .loc[row_indexer,col_indexer] = value instead\n",
      "\n",
      "See the caveats in the documentation: https://pandas.pydata.org/pandas-docs/stable/user_guide/indexing.html#returning-a-view-versus-a-copy\n",
      "  current_data['Date'] = current_data.index\n"
     ]
    },
    {
     "name": "stdout",
     "output_type": "stream",
     "text": [
      "Completed 68 out of 461 steps\n",
      "the main data is of shape (541, 2)\n",
      "shape of current_data2 is (541, 59)\n"
     ]
    },
    {
     "name": "stderr",
     "output_type": "stream",
     "text": [
      "C:\\Users\\abhij\\AppData\\Local\\Temp\\ipykernel_28124\\3248937819.py:14: SettingWithCopyWarning: \n",
      "A value is trying to be set on a copy of a slice from a DataFrame.\n",
      "Try using .loc[row_indexer,col_indexer] = value instead\n",
      "\n",
      "See the caveats in the documentation: https://pandas.pydata.org/pandas-docs/stable/user_guide/indexing.html#returning-a-view-versus-a-copy\n",
      "  current_data['Date'] = current_data.index\n"
     ]
    },
    {
     "name": "stdout",
     "output_type": "stream",
     "text": [
      "Completed 69 out of 461 steps\n",
      "the main data is of shape (541, 2)\n"
     ]
    },
    {
     "name": "stderr",
     "output_type": "stream",
     "text": [
      "C:\\Users\\abhij\\AppData\\Local\\Temp\\ipykernel_28124\\3248937819.py:14: SettingWithCopyWarning: \n",
      "A value is trying to be set on a copy of a slice from a DataFrame.\n",
      "Try using .loc[row_indexer,col_indexer] = value instead\n",
      "\n",
      "See the caveats in the documentation: https://pandas.pydata.org/pandas-docs/stable/user_guide/indexing.html#returning-a-view-versus-a-copy\n",
      "  current_data['Date'] = current_data.index\n"
     ]
    },
    {
     "ename": "KeyboardInterrupt",
     "evalue": "",
     "output_type": "error",
     "traceback": [
      "\u001b[1;31m---------------------------------------------------------------------------\u001b[0m",
      "\u001b[1;31mKeyboardInterrupt\u001b[0m                         Traceback (most recent call last)",
      "Cell \u001b[1;32mIn[5], line 24\u001b[0m\n\u001b[0;32m     22\u001b[0m c1 \u001b[38;5;241m=\u001b[39m []\n\u001b[0;32m     23\u001b[0m \u001b[38;5;28;01mfor\u001b[39;00m i \u001b[38;5;129;01min\u001b[39;00m \u001b[38;5;28mrange\u001b[39m(\u001b[38;5;241m1\u001b[39m,days_shape):\n\u001b[1;32m---> 24\u001b[0m     current_data_05[\u001b[38;5;124m'\u001b[39m\u001b[38;5;124mtemp\u001b[39m\u001b[38;5;124m'\u001b[39m] \u001b[38;5;241m=\u001b[39m current_data_05\u001b[38;5;241m.\u001b[39mloc[:,\u001b[38;5;124m'\u001b[39m\u001b[38;5;124mXth\u001b[39m\u001b[38;5;124m'\u001b[39m] \u001b[38;5;241m-\u001b[39m \u001b[43mcurrent_data_05\u001b[49m\u001b[38;5;241;43m.\u001b[39;49m\u001b[43mloc\u001b[49m\u001b[43m[\u001b[49m\u001b[43m:\u001b[49m\u001b[43m,\u001b[49m\u001b[38;5;124;43m'\u001b[39;49m\u001b[38;5;124;43mXth\u001b[39;49m\u001b[38;5;124;43m'\u001b[39;49m\u001b[43m]\u001b[49m\u001b[38;5;241;43m.\u001b[39;49m\u001b[43mshift\u001b[49m\u001b[43m(\u001b[49m\u001b[38;5;241;43m-\u001b[39;49m\u001b[38;5;241;43m1\u001b[39;49m\u001b[38;5;241;43m*\u001b[39;49m\u001b[43mi\u001b[49m\u001b[43m)\u001b[49m\n\u001b[0;32m     25\u001b[0m     current_data_05[\u001b[38;5;124m'\u001b[39m\u001b[38;5;124mtemp\u001b[39m\u001b[38;5;124m'\u001b[39m] \u001b[38;5;241m=\u001b[39m current_data_05\u001b[38;5;241m.\u001b[39mloc[:,\u001b[38;5;124m'\u001b[39m\u001b[38;5;124mtemp\u001b[39m\u001b[38;5;124m'\u001b[39m]\u001b[38;5;241m/\u001b[39mcurrent_data_05\u001b[38;5;241m.\u001b[39mloc[:,\u001b[38;5;124m'\u001b[39m\u001b[38;5;124mXth\u001b[39m\u001b[38;5;124m'\u001b[39m]\u001b[38;5;241m*\u001b[39m\u001b[38;5;241m100\u001b[39m\n\u001b[0;32m     26\u001b[0m     c1\u001b[38;5;241m.\u001b[39mappend(current_data_05[\u001b[38;5;124m'\u001b[39m\u001b[38;5;124mtemp\u001b[39m\u001b[38;5;124m'\u001b[39m]\u001b[38;5;241m.\u001b[39mto_numpy())\n",
      "File \u001b[1;32m~\\anaconda3\\envs\\tensorflow\\lib\\site-packages\\pandas\\core\\series.py:5432\u001b[0m, in \u001b[0;36mSeries.shift\u001b[1;34m(self, periods, freq, axis, fill_value)\u001b[0m\n\u001b[0;32m   5428\u001b[0m \u001b[38;5;129m@doc\u001b[39m(NDFrame\u001b[38;5;241m.\u001b[39mshift, klass\u001b[38;5;241m=\u001b[39m_shared_doc_kwargs[\u001b[38;5;124m\"\u001b[39m\u001b[38;5;124mklass\u001b[39m\u001b[38;5;124m\"\u001b[39m])  \u001b[38;5;66;03m# type: ignore[has-type]\u001b[39;00m\n\u001b[0;32m   5429\u001b[0m \u001b[38;5;28;01mdef\u001b[39;00m \u001b[38;5;21mshift\u001b[39m(\n\u001b[0;32m   5430\u001b[0m     \u001b[38;5;28mself\u001b[39m, periods: \u001b[38;5;28mint\u001b[39m \u001b[38;5;241m=\u001b[39m \u001b[38;5;241m1\u001b[39m, freq\u001b[38;5;241m=\u001b[39m\u001b[38;5;28;01mNone\u001b[39;00m, axis: Axis \u001b[38;5;241m=\u001b[39m \u001b[38;5;241m0\u001b[39m, fill_value: Hashable \u001b[38;5;241m=\u001b[39m \u001b[38;5;28;01mNone\u001b[39;00m\n\u001b[0;32m   5431\u001b[0m ) \u001b[38;5;241m-\u001b[39m\u001b[38;5;241m>\u001b[39m Series:\n\u001b[1;32m-> 5432\u001b[0m     \u001b[38;5;28;01mreturn\u001b[39;00m \u001b[38;5;28;43msuper\u001b[39;49m\u001b[43m(\u001b[49m\u001b[43m)\u001b[49m\u001b[38;5;241;43m.\u001b[39;49m\u001b[43mshift\u001b[49m\u001b[43m(\u001b[49m\n\u001b[0;32m   5433\u001b[0m \u001b[43m        \u001b[49m\u001b[43mperiods\u001b[49m\u001b[38;5;241;43m=\u001b[39;49m\u001b[43mperiods\u001b[49m\u001b[43m,\u001b[49m\u001b[43m \u001b[49m\u001b[43mfreq\u001b[49m\u001b[38;5;241;43m=\u001b[39;49m\u001b[43mfreq\u001b[49m\u001b[43m,\u001b[49m\u001b[43m \u001b[49m\u001b[43maxis\u001b[49m\u001b[38;5;241;43m=\u001b[39;49m\u001b[43maxis\u001b[49m\u001b[43m,\u001b[49m\u001b[43m \u001b[49m\u001b[43mfill_value\u001b[49m\u001b[38;5;241;43m=\u001b[39;49m\u001b[43mfill_value\u001b[49m\n\u001b[0;32m   5434\u001b[0m \u001b[43m    \u001b[49m\u001b[43m)\u001b[49m\n",
      "File \u001b[1;32m~\\anaconda3\\envs\\tensorflow\\lib\\site-packages\\pandas\\core\\generic.py:10172\u001b[0m, in \u001b[0;36mNDFrame.shift\u001b[1;34m(self, periods, freq, axis, fill_value)\u001b[0m\n\u001b[0;32m  10169\u001b[0m \u001b[38;5;28;01mif\u001b[39;00m freq \u001b[38;5;129;01mis\u001b[39;00m \u001b[38;5;28;01mNone\u001b[39;00m:\n\u001b[0;32m  10170\u001b[0m     \u001b[38;5;66;03m# when freq is None, data is shifted, index is not\u001b[39;00m\n\u001b[0;32m  10171\u001b[0m     axis \u001b[38;5;241m=\u001b[39m \u001b[38;5;28mself\u001b[39m\u001b[38;5;241m.\u001b[39m_get_axis_number(axis)\n\u001b[1;32m> 10172\u001b[0m     new_data \u001b[38;5;241m=\u001b[39m \u001b[38;5;28;43mself\u001b[39;49m\u001b[38;5;241;43m.\u001b[39;49m\u001b[43m_mgr\u001b[49m\u001b[38;5;241;43m.\u001b[39;49m\u001b[43mshift\u001b[49m\u001b[43m(\u001b[49m\n\u001b[0;32m  10173\u001b[0m \u001b[43m        \u001b[49m\u001b[43mperiods\u001b[49m\u001b[38;5;241;43m=\u001b[39;49m\u001b[43mperiods\u001b[49m\u001b[43m,\u001b[49m\u001b[43m \u001b[49m\u001b[43maxis\u001b[49m\u001b[38;5;241;43m=\u001b[39;49m\u001b[43maxis\u001b[49m\u001b[43m,\u001b[49m\u001b[43m \u001b[49m\u001b[43mfill_value\u001b[49m\u001b[38;5;241;43m=\u001b[39;49m\u001b[43mfill_value\u001b[49m\n\u001b[0;32m  10174\u001b[0m \u001b[43m    \u001b[49m\u001b[43m)\u001b[49m\n\u001b[0;32m  10175\u001b[0m     \u001b[38;5;28;01mreturn\u001b[39;00m \u001b[38;5;28mself\u001b[39m\u001b[38;5;241m.\u001b[39m_constructor(new_data)\u001b[38;5;241m.\u001b[39m__finalize__(\u001b[38;5;28mself\u001b[39m, method\u001b[38;5;241m=\u001b[39m\u001b[38;5;124m\"\u001b[39m\u001b[38;5;124mshift\u001b[39m\u001b[38;5;124m\"\u001b[39m)\n\u001b[0;32m  10177\u001b[0m \u001b[38;5;66;03m# when freq is given, index is shifted, data is not\u001b[39;00m\n",
      "File \u001b[1;32m~\\anaconda3\\envs\\tensorflow\\lib\\site-packages\\pandas\\core\\internals\\managers.py:429\u001b[0m, in \u001b[0;36mBaseBlockManager.shift\u001b[1;34m(self, periods, axis, fill_value)\u001b[0m\n\u001b[0;32m    426\u001b[0m \u001b[38;5;28;01mif\u001b[39;00m fill_value \u001b[38;5;129;01mis\u001b[39;00m lib\u001b[38;5;241m.\u001b[39mno_default:\n\u001b[0;32m    427\u001b[0m     fill_value \u001b[38;5;241m=\u001b[39m \u001b[38;5;28;01mNone\u001b[39;00m\n\u001b[1;32m--> 429\u001b[0m \u001b[38;5;28;01mreturn\u001b[39;00m \u001b[38;5;28;43mself\u001b[39;49m\u001b[38;5;241;43m.\u001b[39;49m\u001b[43mapply\u001b[49m\u001b[43m(\u001b[49m\u001b[38;5;124;43m\"\u001b[39;49m\u001b[38;5;124;43mshift\u001b[39;49m\u001b[38;5;124;43m\"\u001b[39;49m\u001b[43m,\u001b[49m\u001b[43m \u001b[49m\u001b[43mperiods\u001b[49m\u001b[38;5;241;43m=\u001b[39;49m\u001b[43mperiods\u001b[49m\u001b[43m,\u001b[49m\u001b[43m \u001b[49m\u001b[43maxis\u001b[49m\u001b[38;5;241;43m=\u001b[39;49m\u001b[43maxis\u001b[49m\u001b[43m,\u001b[49m\u001b[43m \u001b[49m\u001b[43mfill_value\u001b[49m\u001b[38;5;241;43m=\u001b[39;49m\u001b[43mfill_value\u001b[49m\u001b[43m)\u001b[49m\n",
      "File \u001b[1;32m~\\anaconda3\\envs\\tensorflow\\lib\\site-packages\\pandas\\core\\internals\\managers.py:352\u001b[0m, in \u001b[0;36mBaseBlockManager.apply\u001b[1;34m(self, f, align_keys, ignore_failures, **kwargs)\u001b[0m\n\u001b[0;32m    350\u001b[0m         applied \u001b[38;5;241m=\u001b[39m b\u001b[38;5;241m.\u001b[39mapply(f, \u001b[38;5;241m*\u001b[39m\u001b[38;5;241m*\u001b[39mkwargs)\n\u001b[0;32m    351\u001b[0m     \u001b[38;5;28;01melse\u001b[39;00m:\n\u001b[1;32m--> 352\u001b[0m         applied \u001b[38;5;241m=\u001b[39m \u001b[38;5;28mgetattr\u001b[39m(b, f)(\u001b[38;5;241m*\u001b[39m\u001b[38;5;241m*\u001b[39mkwargs)\n\u001b[0;32m    353\u001b[0m \u001b[38;5;28;01mexcept\u001b[39;00m (\u001b[38;5;167;01mTypeError\u001b[39;00m, \u001b[38;5;167;01mNotImplementedError\u001b[39;00m):\n\u001b[0;32m    354\u001b[0m     \u001b[38;5;28;01mif\u001b[39;00m \u001b[38;5;129;01mnot\u001b[39;00m ignore_failures:\n",
      "File \u001b[1;32m~\\anaconda3\\envs\\tensorflow\\lib\\site-packages\\pandas\\core\\internals\\blocks.py:1307\u001b[0m, in \u001b[0;36mBlock.shift\u001b[1;34m(self, periods, axis, fill_value)\u001b[0m\n\u001b[0;32m   1305\u001b[0m \u001b[38;5;28;01melse\u001b[39;00m:\n\u001b[0;32m   1306\u001b[0m     values \u001b[38;5;241m=\u001b[39m cast(np\u001b[38;5;241m.\u001b[39mndarray, \u001b[38;5;28mself\u001b[39m\u001b[38;5;241m.\u001b[39mvalues)\n\u001b[1;32m-> 1307\u001b[0m     new_values \u001b[38;5;241m=\u001b[39m \u001b[43mshift\u001b[49m\u001b[43m(\u001b[49m\u001b[43mvalues\u001b[49m\u001b[43m,\u001b[49m\u001b[43m \u001b[49m\u001b[43mperiods\u001b[49m\u001b[43m,\u001b[49m\u001b[43m \u001b[49m\u001b[43maxis\u001b[49m\u001b[43m,\u001b[49m\u001b[43m \u001b[49m\u001b[43mcasted\u001b[49m\u001b[43m)\u001b[49m\n\u001b[0;32m   1308\u001b[0m     \u001b[38;5;28;01mreturn\u001b[39;00m [\u001b[38;5;28mself\u001b[39m\u001b[38;5;241m.\u001b[39mmake_block(new_values)]\n",
      "File \u001b[1;32m~\\anaconda3\\envs\\tensorflow\\lib\\site-packages\\pandas\\core\\array_algos\\transforms.py:23\u001b[0m, in \u001b[0;36mshift\u001b[1;34m(values, periods, axis, fill_value)\u001b[0m\n\u001b[0;32m     20\u001b[0m     axis \u001b[38;5;241m=\u001b[39m new_values\u001b[38;5;241m.\u001b[39mndim \u001b[38;5;241m-\u001b[39m axis \u001b[38;5;241m-\u001b[39m \u001b[38;5;241m1\u001b[39m\n\u001b[0;32m     22\u001b[0m \u001b[38;5;28;01mif\u001b[39;00m new_values\u001b[38;5;241m.\u001b[39msize:\n\u001b[1;32m---> 23\u001b[0m     new_values \u001b[38;5;241m=\u001b[39m \u001b[43mnp\u001b[49m\u001b[38;5;241;43m.\u001b[39;49m\u001b[43mroll\u001b[49m\u001b[43m(\u001b[49m\n\u001b[0;32m     24\u001b[0m \u001b[43m        \u001b[49m\u001b[43mnew_values\u001b[49m\u001b[43m,\u001b[49m\n\u001b[0;32m     25\u001b[0m \u001b[43m        \u001b[49m\u001b[43mnp\u001b[49m\u001b[38;5;241;43m.\u001b[39;49m\u001b[43mintp\u001b[49m\u001b[43m(\u001b[49m\u001b[43mperiods\u001b[49m\u001b[43m)\u001b[49m\u001b[43m,\u001b[49m\n\u001b[0;32m     26\u001b[0m \u001b[43m        \u001b[49m\u001b[43maxis\u001b[49m\u001b[38;5;241;43m=\u001b[39;49m\u001b[43maxis\u001b[49m\u001b[43m,\u001b[49m\n\u001b[0;32m     27\u001b[0m \u001b[43m    \u001b[49m\u001b[43m)\u001b[49m\n\u001b[0;32m     29\u001b[0m axis_indexer \u001b[38;5;241m=\u001b[39m [\u001b[38;5;28mslice\u001b[39m(\u001b[38;5;28;01mNone\u001b[39;00m)] \u001b[38;5;241m*\u001b[39m values\u001b[38;5;241m.\u001b[39mndim\n\u001b[0;32m     30\u001b[0m \u001b[38;5;28;01mif\u001b[39;00m periods \u001b[38;5;241m>\u001b[39m \u001b[38;5;241m0\u001b[39m:\n",
      "File \u001b[1;32m<__array_function__ internals>:180\u001b[0m, in \u001b[0;36mroll\u001b[1;34m(*args, **kwargs)\u001b[0m\n",
      "File \u001b[1;32m~\\anaconda3\\envs\\tensorflow\\lib\\site-packages\\numpy\\core\\numeric.py:1248\u001b[0m, in \u001b[0;36mroll\u001b[1;34m(a, shift, axis)\u001b[0m\n\u001b[0;32m   1246\u001b[0m \u001b[38;5;28;01mfor\u001b[39;00m indices \u001b[38;5;129;01min\u001b[39;00m itertools\u001b[38;5;241m.\u001b[39mproduct(\u001b[38;5;241m*\u001b[39mrolls):\n\u001b[0;32m   1247\u001b[0m     arr_index, res_index \u001b[38;5;241m=\u001b[39m \u001b[38;5;28mzip\u001b[39m(\u001b[38;5;241m*\u001b[39mindices)\n\u001b[1;32m-> 1248\u001b[0m     result[res_index] \u001b[38;5;241m=\u001b[39m a[arr_index]\n\u001b[0;32m   1250\u001b[0m \u001b[38;5;28;01mreturn\u001b[39;00m result\n",
      "\u001b[1;31mKeyboardInterrupt\u001b[0m: "
     ]
    }
   ],
   "source": [
    "y_all =[]\n",
    "count = 0 \n",
    "days_shape = 60\n",
    "pred_days = 15\n",
    "X_big =[]\n",
    "for company in nse_companies:\n",
    "    \n",
    "    print('Completed',count,'out of',len(nse_companies),'steps')\n",
    "    count = count+1\n",
    "    \n",
    "    current_data = data[company]\n",
    "    current_data = current_data.iloc[::-1]  #reversing rows to get current date first\n",
    "    \n",
    "    current_data['Date'] = current_data.index\n",
    "    current_data = current_data.reset_index(drop=True)\n",
    "    current_data = current_data[['Date','Close']]\n",
    "    print('the main data is of shape',current_data.shape) \n",
    "    \n",
    "    current_data_05 = current_data\n",
    "    current_data_05['Xth'] = current_data['Close']\n",
    "    \n",
    "    c1 = []\n",
    "    for i in range(1,days_shape):\n",
    "        current_data_05['temp'] = current_data_05.loc[:,'Xth'] - current_data_05.loc[:,'Xth'].shift(-1*i)\n",
    "        current_data_05['temp'] = current_data_05.loc[:,'temp']/current_data_05.loc[:,'Xth']*100\n",
    "        c1.append(current_data_05['temp'].to_numpy())\n",
    "    #print('the lenth of concatenated stuff is',len(c1[0]))\n",
    "    \n",
    "    current_data1 = pd.DataFrame(c1)\n",
    "    current_data2 = current_data1.transpose()    \n",
    "    print('shape of current_data2 is',current_data2.shape )   \n",
    "\n",
    "    \n",
    "    c2 =current_data2.to_numpy()\n",
    "    \n",
    "    c3 =[]\n",
    "\n",
    "    for i in range(int(len(c2)-days_shape)):\n",
    "        c6 = np.concatenate((c2[i:i+days_shape]))\n",
    "        c3.append(c6)\n",
    "\n",
    "    aes = current_data.shape[0]\n",
    "    \n",
    "    df4 = pd.DataFrame(c3)\n",
    "    df4['Xth'] = current_data_05.iloc[:aes]['Xth']\n",
    "    \n",
    "    #### y value % is what i am coding next\n",
    "    df4['Pred_Xth_%'] = df4['Xth'].shift(-1*pred_days)\n",
    "    df4['Pred_Xth_%']  = (df4['Pred_Xth_%']-df4['Xth']) /df4['Xth']*100\n",
    "    \n",
    "     \n",
    "    df5 = df4.dropna()\n",
    "    \n",
    "    df6 = df5\n",
    "    \n",
    "\n",
    " ####################################################           \n",
    "            \n",
    "    df7 = df6.drop(['Xth'],axis=1)     \n",
    "\n",
    "    \n",
    "    X1 = df7\n",
    "\n",
    "    import numpy as np\n",
    "     \n",
    "        \n",
    "    X_1 = np.asarray(X1).astype(np.float32)\n",
    "    X_big.append(X_1)\n"
   ]
  },
  {
   "cell_type": "code",
   "execution_count": null,
   "id": "190b9ef8",
   "metadata": {
    "scrolled": true
   },
   "outputs": [],
   "source": [
    "len(X_big[0])"
   ]
  },
  {
   "cell_type": "code",
   "execution_count": null,
   "id": "71fe271e",
   "metadata": {},
   "outputs": [],
   "source": [
    "X_big_one = pd.DataFrame(X_big[0])"
   ]
  },
  {
   "cell_type": "code",
   "execution_count": null,
   "id": "f8f667d9",
   "metadata": {},
   "outputs": [],
   "source": [
    "X_big_one"
   ]
  }
 ],
 "metadata": {
  "kernelspec": {
   "display_name": "tensorflow",
   "language": "python",
   "name": "tensorflow"
  },
  "language_info": {
   "codemirror_mode": {
    "name": "ipython",
    "version": 3
   },
   "file_extension": ".py",
   "mimetype": "text/x-python",
   "name": "python",
   "nbconvert_exporter": "python",
   "pygments_lexer": "ipython3",
   "version": "3.10.0"
  }
 },
 "nbformat": 4,
 "nbformat_minor": 5
}
