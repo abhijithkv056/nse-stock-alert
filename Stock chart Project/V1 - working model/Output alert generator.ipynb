{
 "cells": [
  {
   "cell_type": "code",
   "execution_count": null,
   "id": "d412e46c",
   "metadata": {},
   "outputs": [],
   "source": [
    "import pandas as pd\n",
    "import joblib\n",
    "\n",
    "nifty_500 = pd.read_csv('ind_nifty500list.csv')\n",
    "stocks = nifty_500['Symbol'].values.tolist()\n",
    "print(stocks)\n",
    "stocks = pd.DataFrame(stocks)\n",
    "stocks"
   ]
  },
  {
   "cell_type": "code",
   "execution_count": null,
   "id": "8b92b41d",
   "metadata": {},
   "outputs": [],
   "source": [
    "pip install yfinance"
   ]
  },
  {
   "cell_type": "code",
   "execution_count": null,
   "id": "7136acca",
   "metadata": {},
   "outputs": [],
   "source": [
    "import joblib"
   ]
  },
  {
   "cell_type": "code",
   "execution_count": null,
   "id": "fe66116c",
   "metadata": {
    "scrolled": true
   },
   "outputs": [],
   "source": [
    "import yfinance as yf\n",
    "import datetime\n",
    "\n",
    "# Define the list of NSE companies to fetch data for\n",
    "nse_companies1 = stocks[0] +'.NS'\n",
    "nse_companies=[]\n",
    "# Set the start and end dates\n",
    "end_date = datetime.date.today()\n",
    "start_date = end_date - datetime.timedelta(days=290)\n",
    "\n",
    "# Create an empty dictionary to store the data for each company\n",
    "data = {}\n",
    "data_check = {}\n",
    "\n",
    "# Loop through the list of companies and fetch their data\n",
    "set1 =1 \n",
    "for company in nse_companies1:\n",
    "    \n",
    "    data_check[company] = yf.download(company, start=start_date, end=end_date)\n",
    "    \n",
    "    data_check[company] = pd.DataFrame(data_check[company])\n",
    "    df_temp = data_check[company] \n",
    "    df_temp = df_temp.iloc[0:175]\n",
    "    \n",
    "    if df_temp.shape[0]<175:\n",
    "        print('skipping',company,'as it has only',df_temp.shape[0],'values')\n",
    "        continue\n",
    "        \n",
    "    data[company] = df_temp\n",
    "    nse_companies.append(company)\n",
    "    #print(data[company])\n",
    "    #print(data[company].head())\n",
    "    \n",
    "    print(company,len(data[company]), set1,'out of 500 stocks imported')\n",
    "    set1 = set1 +1\n",
    "    \n",
    "# Print the data for each company\n",
    "#for company in data:\n",
    "    #print(company)\n",
    "    #print(len(data[company]))"
   ]
  },
  {
   "cell_type": "code",
   "execution_count": null,
   "id": "dbd758cb",
   "metadata": {},
   "outputs": [],
   "source": [
    "nifty_500.head()"
   ]
  },
  {
   "cell_type": "code",
   "execution_count": null,
   "id": "6ed042bc",
   "metadata": {},
   "outputs": [],
   "source": [
    "data_dump = pd.DataFrame(data['ABB.NS'])\n",
    "\n",
    "data_dump.head()"
   ]
  },
  {
   "cell_type": "code",
   "execution_count": null,
   "id": "66d8086f",
   "metadata": {},
   "outputs": [],
   "source": [
    "data"
   ]
  },
  {
   "cell_type": "code",
   "execution_count": null,
   "id": "bf3887d2",
   "metadata": {},
   "outputs": [],
   "source": [
    "data['360ONE.NS'].shape"
   ]
  },
  {
   "cell_type": "code",
   "execution_count": null,
   "id": "cc83f3f0",
   "metadata": {},
   "outputs": [],
   "source": [
    "data['360ONE.NS'].head()"
   ]
  },
  {
   "cell_type": "code",
   "execution_count": null,
   "id": "16a49e7a",
   "metadata": {},
   "outputs": [],
   "source": [
    "nse_companies"
   ]
  },
  {
   "cell_type": "code",
   "execution_count": null,
   "id": "2ea4490c",
   "metadata": {},
   "outputs": [],
   "source": [
    "len(nse_companies)"
   ]
  },
  {
   "cell_type": "code",
   "execution_count": null,
   "id": "b401d79e",
   "metadata": {},
   "outputs": [],
   "source": [
    "days_shape = 60"
   ]
  },
  {
   "cell_type": "code",
   "execution_count": null,
   "id": "a7db2118",
   "metadata": {},
   "outputs": [],
   "source": [
    "import pandas as pd\n",
    "from matplotlib import pyplot as plt\n",
    "import numpy as np\n",
    "%matplotlib inline"
   ]
  },
  {
   "cell_type": "code",
   "execution_count": null,
   "id": "7ab03630",
   "metadata": {},
   "outputs": [],
   "source": [
    "    model11 = joblib.load('model12.pkl')\n",
    "    #model12 = joblib.load('model12.pkl')\n",
    "    #model13 = joblib.load('model13.pkl')\n",
    "    #model21 = joblib.load('model21.pkl')\n",
    "    #model22 = joblib.load('model22.pkl')\n",
    "    #model23 = joblib.load('model23.pkl')    \n",
    "    #model31 = joblib.load('model31.pkl')\n",
    "    #model32 = joblib.load('model32.pkl')\n",
    "    #model33 = joblib.load('model33.pkl') "
   ]
  },
  {
   "cell_type": "code",
   "execution_count": null,
   "id": "8a76bc73",
   "metadata": {},
   "outputs": [],
   "source": [
    "y_all =[]\n",
    "count = 0 \n",
    "for company in nse_companies:\n",
    "    \n",
    "    print('Completed',count,'out of',len(nse_companies),'steps')\n",
    "    count = count+1\n",
    "    \n",
    "    current_data = data[company]\n",
    "    current_data = current_data.iloc[::-1]  #reversing rows to get current date first\n",
    "    \n",
    "    current_data['Date'] = current_data.index\n",
    "    current_data = current_data.reset_index(drop=True)\n",
    "    current_data = current_data[['Date','Close']]\n",
    "    print('the main data is of shape',current_data.shape) \n",
    "    \n",
    "    current_data_05 = current_data\n",
    "    current_data_05['Xth'] = current_data['Close']\n",
    "    \n",
    "    c1 = []\n",
    "    for i in range(1,days_shape):\n",
    "        current_data_05['temp'] = current_data_05.loc[:,'Xth'] - current_data_05.loc[:,'Xth'].shift(-1*i)\n",
    "        current_data_05['temp'] = current_data_05.loc[:,'temp']/current_data_05.loc[:,'Xth']*100\n",
    "        c1.append(current_data_05['temp'].to_numpy())\n",
    "    #print('the lenth of concatenated stuff is',len(c1[0]))\n",
    "    \n",
    "    current_data1 = pd.DataFrame(c1)\n",
    "    current_data2 = current_data1.transpose()    \n",
    "    print('shape of current_data2 is',current_data2.shape )   \n",
    "\n",
    "    \n",
    "    c2 =current_data2.to_numpy()\n",
    "    \n",
    "    c3 =[]\n",
    "\n",
    "    for i in range(int(len(c2)-days_shape)):\n",
    "        c6 = np.concatenate((c2[i:i+days_shape]))\n",
    "        c3.append(c6)\n",
    "\n",
    "    aes = current_data.shape[0]\n",
    "    \n",
    "    df4 = pd.DataFrame(c3)\n",
    "    df4['Xth'] = current_data_05.iloc[:aes]['Xth']\n",
    "    \n",
    "     \n",
    "    df5 = df4.dropna()\n",
    "    \n",
    "    df6 = df5\n",
    "    \n",
    "\n",
    " ####################################################           \n",
    "            \n",
    "    df7 = df6.drop('Xth',axis=1)     \n",
    "\n",
    "    \n",
    "    X1 = df7\n",
    "\n",
    "    import numpy as np\n",
    "     \n",
    "        \n",
    "    X_1 = np.asarray(X1).astype(np.float32)\n",
    "\n",
    "    print('shape of X_1 is',X_1.shape)\n",
    "\n",
    "    yp11 = model11.predict(X_1)\n",
    "    #yp12 = model12.predict(X_1)\n",
    "    #yp13 = model13.predict(X_1)\n",
    "    #yp21 = model21.predict(X_1)\n",
    "    #yp22 = model22.predict(X_1)\n",
    "    #yp23 = model23.predict(X_1)\n",
    "    #yp31 = model31.predict(X_1)\n",
    "    #yp32 = model32.predict(X_1)\n",
    "    #yp33 = model33.predict(X_1)\n",
    "    \n",
    "    #y_single =[]\n",
    "    #y_single.append(yp11[0])\n",
    "    #y_single.append(yp12[0])\n",
    "    #y_single.append(yp13[0])\n",
    "    #y_single.append(yp21[0])\n",
    "    #y_single.append(yp22[0])\n",
    "    #y_single.append(yp23[0])\n",
    "    #y_single.append(yp31[0])\n",
    "    #y_single.append(yp32[0])\n",
    "    #y_single.append(yp33[0])     \n",
    "    \n",
    "    y_all.append(yp11[0])"
   ]
  },
  {
   "cell_type": "code",
   "execution_count": null,
   "id": "aa82b35c",
   "metadata": {},
   "outputs": [],
   "source": [
    "print(len(X_1[0]))"
   ]
  },
  {
   "cell_type": "code",
   "execution_count": null,
   "id": "24a50264",
   "metadata": {},
   "outputs": [],
   "source": [
    "nse_companies[36]"
   ]
  },
  {
   "cell_type": "code",
   "execution_count": null,
   "id": "a5f26331",
   "metadata": {},
   "outputs": [],
   "source": [
    "data[nse_companies[36]]"
   ]
  },
  {
   "cell_type": "code",
   "execution_count": null,
   "id": "9c103fb4",
   "metadata": {},
   "outputs": [],
   "source": [
    "y_all"
   ]
  },
  {
   "cell_type": "code",
   "execution_count": null,
   "id": "32549e78",
   "metadata": {},
   "outputs": [],
   "source": [
    "len(y_all)"
   ]
  },
  {
   "cell_type": "code",
   "execution_count": null,
   "id": "3e1d69bc",
   "metadata": {},
   "outputs": [],
   "source": [
    "len(nse_companies)"
   ]
  },
  {
   "cell_type": "code",
   "execution_count": null,
   "id": "dff0dc3c",
   "metadata": {},
   "outputs": [],
   "source": [
    "i=0\n",
    "for company in nse_companies:\n",
    "    #print(i)\n",
    "    for prob in y_all:\n",
    "        if prob[i] >= 0.5:\n",
    "            print(company)\n",
    "            continue\n",
    "    i = i+1    "
   ]
  },
  {
   "cell_type": "code",
   "execution_count": null,
   "id": "fc93a651",
   "metadata": {},
   "outputs": [],
   "source": [
    "import tensorflow as tf\n",
    "print(tf.__version__)"
   ]
  },
  {
   "cell_type": "code",
   "execution_count": null,
   "id": "c98a7f41",
   "metadata": {},
   "outputs": [],
   "source": [
    "\n",
    "\n",
    "# Check that the GPU is visible to TensorFlow\n",
    "print(\"Num GPUs Available: \", len(tf.config.list_physical_devices('GPU')))"
   ]
  },
  {
   "cell_type": "code",
   "execution_count": null,
   "id": "8b265b1c",
   "metadata": {},
   "outputs": [],
   "source": [
    "print(tf.config.list_physical_devices('GPU'))"
   ]
  },
  {
   "cell_type": "code",
   "execution_count": null,
   "id": "23af9d9c",
   "metadata": {},
   "outputs": [],
   "source": []
  }
 ],
 "metadata": {
  "kernelspec": {
   "display_name": "tensorflow",
   "language": "python",
   "name": "tensorflow"
  },
  "language_info": {
   "codemirror_mode": {
    "name": "ipython",
    "version": 3
   },
   "file_extension": ".py",
   "mimetype": "text/x-python",
   "name": "python",
   "nbconvert_exporter": "python",
   "pygments_lexer": "ipython3",
   "version": "3.10.0"
  }
 },
 "nbformat": 4,
 "nbformat_minor": 5
}
