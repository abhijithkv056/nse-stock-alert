{
 "cells": [
  {
   "cell_type": "code",
   "execution_count": 1,
   "id": "7994c04d",
   "metadata": {},
   "outputs": [
    {
     "name": "stdout",
     "output_type": "stream",
     "text": [
      "['360ONE', '3MINDIA', 'ABB', 'ACC', 'AIAENG', 'APLAPOLLO', 'AUBANK', 'AARTIDRUGS', 'AARTIIND', 'AAVAS', 'ABBOTINDIA', 'ADANIENT', 'ADANIGREEN', 'ADANIPORTS', 'ADANIPOWER', 'ATGL', 'ADANITRANS', 'AWL', 'ABCAPITAL', 'ABFRL', 'AEGISCHEM', 'AETHER', 'AFFLE', 'AJANTPHARM', 'APLLTD', 'ALKEM', 'ALKYLAMINE', 'AMARAJABAT', 'AMBER', 'AMBUJACEM', 'ANGELONE', 'ANURAS', 'APARINDS', 'APOLLOHOSP', 'APOLLOTYRE', 'APTUS', 'ACI', 'ASAHIINDIA', 'ASHOKLEY', 'ASIANPAINT', 'ASTERDM', 'ASTRAL', 'ATUL', 'AUROPHARMA', 'AVANTIFEED', 'DMART', 'AXISBANK', 'BASF', 'BEML', 'BLS', 'BSE', 'BAJAJ-AUTO', 'BAJAJELEC', 'BAJFINANCE', 'BAJAJFINSV', 'BAJAJHLDNG', 'BALAMINES', 'BALKRISIND', 'BALRAMCHIN', 'BANDHANBNK', 'BANKBARODA', 'BANKINDIA', 'MAHABANK', 'BATAINDIA', 'BAYERCROP', 'BERGEPAINT', 'BDL', 'BEL', 'BHARATFORG', 'BHEL', 'BPCL', 'BHARTIARTL', 'BIKAJI', 'BIOCON', 'BIRLACORPN', 'BSOFT', 'BLUEDART', 'BLUESTARCO', 'BBTC', 'BORORENEW', 'BOSCHLTD', 'BRIGADE', 'BCG', 'BRITANNIA', 'MAPMYINDIA', 'CCL', 'CESC', 'CGPOWER', 'CRISIL', 'CSBBANK', 'CAMPUS', 'CANFINHOME', 'CANBK', 'CGCL', 'CARBORUNIV', 'CASTROLIND', 'CEATLTD', 'CENTRALBK', 'CDSL', 'CENTURYPLY', 'CENTURYTEX', 'CERA', 'CHALET', 'CHAMBLFERT', 'CHEMPLASTS', 'CHOLAHLDNG', 'CHOLAFIN', 'CIPLA', 'CUB', 'CLEAN', 'COALINDIA', 'COCHINSHIP', 'COFORGE', 'COLPAL', 'CAMS', 'CONCOR', 'COROMANDEL', 'CRAFTSMAN', 'CREDITACC', 'CROMPTON', 'CUMMINSIND', 'CYIENT', 'DCMSHRIRAM', 'DLF', 'DABUR', 'DALBHARAT', 'DATAPATTNS', 'DEEPAKFERT', 'DEEPAKNTR', 'DELHIVERY', 'DELTACORP', 'DEVYANI', 'DIVISLAB', 'DIXON', 'LALPATHLAB', 'DRREDDY', 'EIDPARRY', 'EIHOTEL', 'EPL', 'EASEMYTRIP', 'EDELWEISS', 'EICHERMOT', 'ELGIEQUIP', 'EMAMILTD', 'ENDURANCE', 'ENGINERSIN', 'EQUITASBNK', 'ESCORTS', 'EXIDEIND', 'FDC', 'NYKAA', 'FEDERALBNK', 'FACT', 'FINEORG', 'FINCABLES', 'FINPIPE', 'FSL', 'FIVESTAR', 'FORTIS', 'GRINFRA', 'GAIL', 'GMMPFAUDLR', 'GMRINFRA', 'GALAXYSURF', 'GARFIBRES', 'GICRE', 'GLAND', 'GLAXO', 'GLENMARK', 'MEDANTA', 'GOCOLORS', 'GODFRYPHLP', 'GODREJAGRO', 'GODREJCP', 'GODREJIND', 'GODREJPROP', 'GRANULES', 'GRAPHITE', 'GRASIM', 'GESHIP', 'GREENPANEL', 'GRINDWELL', 'GUJALKALI', 'GAEL', 'FLUOROCHEM', 'GUJGASLTD', 'GNFC', 'GPPL', 'GSFC', 'GSPL', 'HEG', 'HCLTECH', 'HDFCAMC', 'HDFCBANK', 'HDFCLIFE', 'HFCL', 'HLEGLAS', 'HAPPSTMNDS', 'HAVELLS', 'HEROMOTOCO', 'HIKAL', 'HINDALCO', 'HGS', 'HAL', 'HINDCOPPER', 'HINDPETRO', 'HINDUNILVR', 'HINDZINC', 'POWERINDIA', 'HOMEFIRST', 'HONAUT', 'HUDCO', 'HDFC', 'ICICIBANK', 'ICICIGI', 'ICICIPRULI', 'ISEC', 'IDBI', 'IDFCFIRSTB', 'IDFC', 'IFBIND', 'IIFL', 'IRB', 'ITC', 'ITI', 'INDIACEM', 'IBULHSGFIN', 'IBREALEST', 'INDIAMART', 'INDIANB', 'IEX', 'INDHOTEL', 'IOC', 'IOB', 'IRCTC', 'IRFC', 'INDIGOPNTS', 'IGL', 'INDUSTOWER', 'INDUSINDBK', 'INFIBEAM', 'NAUKRI', 'INFY', 'INGERRAND', 'INTELLECT', 'INDIGO', 'IPCALAB', 'JBCHEPHARM', 'JKCEMENT', 'JBMA', 'JKLAKSHMI', 'JKPAPER', 'JMFINANCIL', 'JSWENERGY', 'JSWSTEEL', 'JAMNAAUTO', 'JSL', 'JINDALSTEL', 'JINDWORLD', 'JUBLFOOD', 'JUBLINGREA', 'JUBLPHARMA', 'JUSTDIAL', 'JYOTHYLAB', 'KPRMILL', 'KEI', 'KNRCON', 'KPITTECH', 'KRBL', 'KSB', 'KAJARIACER', 'KALPATPOWR', 'KALYANKJIL', 'KANSAINER', 'KARURVYSYA', 'KEC', 'KENNAMET', 'RUSTOMJEE', 'KFINTECH', 'KOTAKBANK', 'KIMS', 'L&TFH', 'LTTS', 'LICHSGFIN', 'LTIM', 'LAXMIMACH', 'LT', 'LATENTVIEW', 'LAURUSLABS', 'LXCHEM', 'LEMONTREE', 'LICI', 'LINDEINDIA', 'LUPIN', 'LUXIND', 'MMTC', 'MRF', 'MTARTECH', 'LODHA', 'MGL', 'M&MFIN', 'M&M', 'MAHINDCIE', 'MHRIL', 'MAHLIFE', 'MAHLOG', 'MANAPPURAM', 'MRPL', 'MARICO', 'MARUTI', 'MASTEK', 'MFSL', 'MAXHEALTH', 'MAZDOCK', 'MEDPLUS', 'MFL', 'METROBRAND', 'METROPOLIS', 'MSUMI', 'MOTILALOFS', 'MPHASIS', 'MCX', 'MUTHOOTFIN', 'NATCOPHARM', 'NBCC', 'NCC', 'NHPC', 'NLCINDIA', 'NMDC', 'NOCIL', 'NTPC', 'NH', 'NATIONALUM', 'NAVINFLUOR', 'NAZARA', 'NESTLEIND', 'NETWORK18', 'NAM-INDIA', 'NUVOCO', 'OBEROIRLTY', 'ONGC', 'OIL', 'OLECTRA', 'PAYTM', 'OFSS', 'ORIENTELEC', 'POLICYBZR', 'PCBL', 'PIIND', 'PNBHOUSING', 'PNCINFRA', 'PVR', 'PAGEIND', 'PATANJALI', 'PERSISTENT', 'PETRONET', 'PFIZER', 'PHOENIXLTD', 'PIDILITIND', 'PEL', 'PPLPHARMA', 'POLYMED', 'POLYCAB', 'POLYPLEX', 'POONAWALLA', 'PFC', 'POWERGRID', 'PRAJIND', 'PRESTIGE', 'PRINCEPIPE', 'PRSMJOHNSN', 'PGHH', 'PNB', 'QUESS', 'RBLBANK', 'RECLTD', 'RHIM', 'RITES', 'RADICO', 'RVNL', 'RAIN', 'RAINBOW', 'RAJESHEXPO', 'RALLIS', 'RCF', 'RATNAMANI', 'RTNINDIA', 'RAYMOND', 'REDINGTON', 'RELAXO', 'RELIANCE', 'RBA', 'ROSSARI', 'ROUTE', 'SBICARD', 'SBILIFE', 'SJVN', 'SKFINDIA', 'SRF', 'MOTHERSON', 'SANOFI', 'SAPPHIRE', 'SCHAEFFLER', 'SHARDACROP', 'SHOPERSTOP', 'SHREECEM', 'RENUKA', 'SHRIRAMFIN', 'SHYAMMETL', 'SIEMENS', 'SOBHA', 'SOLARINDS', 'SONACOMS', 'SONATSOFTW', 'STARHEALTH', 'SBIN', 'SAIL', 'SWSOLAR', 'STLTECH', 'SUMICHEM', 'SPARC', 'SUNPHARMA', 'SUNTV', 'SUNDARMFIN', 'SUNDRMFAST', 'SUNTECK', 'SUPRAJIT', 'SUPREMEIND', 'SUVENPHAR', 'SUZLON', 'SWANENERGY', 'SYNGENE', 'TCIEXP', 'TCNSBRANDS', 'TTKPRESTIG', 'TV18BRDCST', 'TVSMOTOR', 'TMB', 'TANLA', 'TATACHEM', 'TATACOMM', 'TCS', 'TATACONSUM', 'TATAELXSI', 'TATAINVEST', 'TATAMTRDVR', 'TATAMOTORS', 'TATAPOWER', 'TATASTEEL', 'TTML', 'TEAMLEASE', 'TECHM', 'TEJASNET', 'NIACL', 'RAMCOCEM', 'THERMAX', 'TIMKEN', 'TITAN', 'TORNTPHARM', 'TORNTPOWER', 'TCI', 'TRENT', 'TRIDENT', 'TRIVENI', 'TRITURBINE', 'TIINDIA', 'UCOBANK', 'UFLEX', 'UNOMINDA', 'UPL', 'UTIAMC', 'ULTRACEMCO', 'UNIONBANK', 'UBL', 'MCDOWELL-N', 'VGUARD', 'VMART', 'VIPIND', 'VAIBHAVGBL', 'VTL', 'VARROC', 'VBL', 'MANYAVAR', 'VEDL', 'VIJAYA', 'VINATIORGA', 'IDEA', 'VOLTAS', 'WELCORP', 'WELSPUNIND', 'WESTLIFE', 'WHIRLPOOL', 'WIPRO', 'YESBANK', 'ZFCVINDIA', 'ZEEL', 'ZENSARTECH', 'ZOMATO', 'ZYDUSLIFE', 'ZYDUSWELL', 'ECLERX']\n"
     ]
    },
    {
     "data": {
      "text/html": [
       "<div>\n",
       "<style scoped>\n",
       "    .dataframe tbody tr th:only-of-type {\n",
       "        vertical-align: middle;\n",
       "    }\n",
       "\n",
       "    .dataframe tbody tr th {\n",
       "        vertical-align: top;\n",
       "    }\n",
       "\n",
       "    .dataframe thead th {\n",
       "        text-align: right;\n",
       "    }\n",
       "</style>\n",
       "<table border=\"1\" class=\"dataframe\">\n",
       "  <thead>\n",
       "    <tr style=\"text-align: right;\">\n",
       "      <th></th>\n",
       "      <th>0</th>\n",
       "    </tr>\n",
       "  </thead>\n",
       "  <tbody>\n",
       "    <tr>\n",
       "      <th>0</th>\n",
       "      <td>360ONE</td>\n",
       "    </tr>\n",
       "    <tr>\n",
       "      <th>1</th>\n",
       "      <td>3MINDIA</td>\n",
       "    </tr>\n",
       "    <tr>\n",
       "      <th>2</th>\n",
       "      <td>ABB</td>\n",
       "    </tr>\n",
       "    <tr>\n",
       "      <th>3</th>\n",
       "      <td>ACC</td>\n",
       "    </tr>\n",
       "    <tr>\n",
       "      <th>4</th>\n",
       "      <td>AIAENG</td>\n",
       "    </tr>\n",
       "    <tr>\n",
       "      <th>...</th>\n",
       "      <td>...</td>\n",
       "    </tr>\n",
       "    <tr>\n",
       "      <th>496</th>\n",
       "      <td>ZENSARTECH</td>\n",
       "    </tr>\n",
       "    <tr>\n",
       "      <th>497</th>\n",
       "      <td>ZOMATO</td>\n",
       "    </tr>\n",
       "    <tr>\n",
       "      <th>498</th>\n",
       "      <td>ZYDUSLIFE</td>\n",
       "    </tr>\n",
       "    <tr>\n",
       "      <th>499</th>\n",
       "      <td>ZYDUSWELL</td>\n",
       "    </tr>\n",
       "    <tr>\n",
       "      <th>500</th>\n",
       "      <td>ECLERX</td>\n",
       "    </tr>\n",
       "  </tbody>\n",
       "</table>\n",
       "<p>501 rows × 1 columns</p>\n",
       "</div>"
      ],
      "text/plain": [
       "              0\n",
       "0        360ONE\n",
       "1       3MINDIA\n",
       "2           ABB\n",
       "3           ACC\n",
       "4        AIAENG\n",
       "..          ...\n",
       "496  ZENSARTECH\n",
       "497      ZOMATO\n",
       "498   ZYDUSLIFE\n",
       "499   ZYDUSWELL\n",
       "500      ECLERX\n",
       "\n",
       "[501 rows x 1 columns]"
      ]
     },
     "execution_count": 1,
     "metadata": {},
     "output_type": "execute_result"
    }
   ],
   "source": [
    "import pandas as pd\n",
    "import joblib\n",
    "\n",
    "nifty_500 = pd.read_csv('ind_nifty500list.csv')\n",
    "stocks = nifty_500['Symbol'].values.tolist()\n",
    "print(stocks)\n",
    "stocks = pd.DataFrame(stocks)\n",
    "stocks"
   ]
  },
  {
   "cell_type": "code",
   "execution_count": 2,
   "id": "dab997eb",
   "metadata": {},
   "outputs": [
    {
     "name": "stdout",
     "output_type": "stream",
     "text": [
      "[*********************100%***********************]  1 of 1 completed\n",
      "360ONE.NS 270 1 out of 500 stocks imported\n",
      "[*********************100%***********************]  1 of 1 completed\n",
      "3MINDIA.NS 270 2 out of 500 stocks imported\n",
      "[*********************100%***********************]  1 of 1 completed\n",
      "ABB.NS 270 3 out of 500 stocks imported\n",
      "[*********************100%***********************]  1 of 1 completed\n",
      "ACC.NS 270 4 out of 500 stocks imported\n",
      "[*********************100%***********************]  1 of 1 completed\n",
      "AIAENG.NS 270 5 out of 500 stocks imported\n",
      "[*********************100%***********************]  1 of 1 completed\n",
      "APLAPOLLO.NS 270 6 out of 500 stocks imported\n",
      "[*********************100%***********************]  1 of 1 completed\n",
      "AUBANK.NS 270 7 out of 500 stocks imported\n",
      "[*********************100%***********************]  1 of 1 completed\n",
      "AARTIDRUGS.NS 270 8 out of 500 stocks imported\n",
      "[*********************100%***********************]  1 of 1 completed\n",
      "AARTIIND.NS 270 9 out of 500 stocks imported\n",
      "[*********************100%***********************]  1 of 1 completed\n",
      "AAVAS.NS 270 10 out of 500 stocks imported\n",
      "[*********************100%***********************]  1 of 1 completed\n",
      "ABBOTINDIA.NS 270 11 out of 500 stocks imported\n",
      "[*********************100%***********************]  1 of 1 completed\n",
      "ADANIENT.NS 270 12 out of 500 stocks imported\n",
      "[*********************100%***********************]  1 of 1 completed\n",
      "ADANIGREEN.NS 270 13 out of 500 stocks imported\n",
      "[*********************100%***********************]  1 of 1 completed\n",
      "ADANIPORTS.NS 270 14 out of 500 stocks imported\n",
      "[*********************100%***********************]  1 of 1 completed\n",
      "ADANIPOWER.NS 270 15 out of 500 stocks imported\n",
      "[*********************100%***********************]  1 of 1 completed\n",
      "ATGL.NS 270 16 out of 500 stocks imported\n",
      "[*********************100%***********************]  1 of 1 completed\n",
      "ADANITRANS.NS 270 17 out of 500 stocks imported\n",
      "[*********************100%***********************]  1 of 1 completed\n",
      "AWL.NS 270 18 out of 500 stocks imported\n",
      "[*********************100%***********************]  1 of 1 completed\n",
      "ABCAPITAL.NS 270 19 out of 500 stocks imported\n",
      "[*********************100%***********************]  1 of 1 completed\n",
      "ABFRL.NS 270 20 out of 500 stocks imported\n",
      "[*********************100%***********************]  1 of 1 completed\n",
      "AEGISCHEM.NS 270 21 out of 500 stocks imported\n",
      "[*********************100%***********************]  1 of 1 completed\n",
      "skipping AETHER.NS as it has only 219 values\n",
      "[*********************100%***********************]  1 of 1 completed\n",
      "AFFLE.NS 270 22 out of 500 stocks imported\n",
      "[*********************100%***********************]  1 of 1 completed\n",
      "AJANTPHARM.NS 270 23 out of 500 stocks imported\n",
      "[*********************100%***********************]  1 of 1 completed\n",
      "APLLTD.NS 270 24 out of 500 stocks imported\n",
      "[*********************100%***********************]  1 of 1 completed\n",
      "ALKEM.NS 270 25 out of 500 stocks imported\n",
      "[*********************100%***********************]  1 of 1 completed\n",
      "ALKYLAMINE.NS 270 26 out of 500 stocks imported\n",
      "[*********************100%***********************]  1 of 1 completed\n",
      "AMARAJABAT.NS 270 27 out of 500 stocks imported\n",
      "[*********************100%***********************]  1 of 1 completed\n",
      "AMBER.NS 270 28 out of 500 stocks imported\n",
      "[*********************100%***********************]  1 of 1 completed\n",
      "AMBUJACEM.NS 270 29 out of 500 stocks imported\n",
      "[*********************100%***********************]  1 of 1 completed\n",
      "ANGELONE.NS 270 30 out of 500 stocks imported\n",
      "[*********************100%***********************]  1 of 1 completed\n",
      "ANURAS.NS 270 31 out of 500 stocks imported\n",
      "[*********************100%***********************]  1 of 1 completed\n",
      "APARINDS.NS 270 32 out of 500 stocks imported\n",
      "[*********************100%***********************]  1 of 1 completed\n",
      "APOLLOHOSP.NS 270 33 out of 500 stocks imported\n",
      "[*********************100%***********************]  1 of 1 completed\n",
      "APOLLOTYRE.NS 270 34 out of 500 stocks imported\n",
      "[*********************100%***********************]  1 of 1 completed\n",
      "APTUS.NS 270 35 out of 500 stocks imported\n",
      "[*********************100%***********************]  1 of 1 completed\n",
      "skipping ACI.NS as it has only 104 values\n",
      "[*********************100%***********************]  1 of 1 completed\n",
      "ASAHIINDIA.NS 270 36 out of 500 stocks imported\n",
      "[*********************100%***********************]  1 of 1 completed\n",
      "ASHOKLEY.NS 270 37 out of 500 stocks imported\n",
      "[*********************100%***********************]  1 of 1 completed\n",
      "ASIANPAINT.NS 270 38 out of 500 stocks imported\n",
      "[*********************100%***********************]  1 of 1 completed\n",
      "ASTERDM.NS 270 39 out of 500 stocks imported\n",
      "[*********************100%***********************]  1 of 1 completed\n",
      "ASTRAL.NS 270 40 out of 500 stocks imported\n",
      "[*********************100%***********************]  1 of 1 completed\n",
      "ATUL.NS 270 41 out of 500 stocks imported\n",
      "[*********************100%***********************]  1 of 1 completed\n",
      "AUROPHARMA.NS 270 42 out of 500 stocks imported\n",
      "[*********************100%***********************]  1 of 1 completed\n",
      "AVANTIFEED.NS 270 43 out of 500 stocks imported\n",
      "[*********************100%***********************]  1 of 1 completed\n",
      "DMART.NS 270 44 out of 500 stocks imported\n",
      "[*********************100%***********************]  1 of 1 completed\n",
      "AXISBANK.NS 270 45 out of 500 stocks imported\n",
      "[*********************100%***********************]  1 of 1 completed\n",
      "BASF.NS 270 46 out of 500 stocks imported\n",
      "[*********************100%***********************]  1 of 1 completed\n",
      "BEML.NS 270 47 out of 500 stocks imported\n",
      "[*********************100%***********************]  1 of 1 completed\n",
      "BLS.NS 270 48 out of 500 stocks imported\n",
      "[*********************100%***********************]  1 of 1 completed\n",
      "BSE.NS 270 49 out of 500 stocks imported\n",
      "[*********************100%***********************]  1 of 1 completed\n",
      "BAJAJ-AUTO.NS 270 50 out of 500 stocks imported\n",
      "[*********************100%***********************]  1 of 1 completed\n",
      "BAJAJELEC.NS 270 51 out of 500 stocks imported\n",
      "[*********************100%***********************]  1 of 1 completed\n",
      "BAJFINANCE.NS 270 52 out of 500 stocks imported\n",
      "[*********************100%***********************]  1 of 1 completed\n",
      "BAJAJFINSV.NS 270 53 out of 500 stocks imported\n",
      "[*********************100%***********************]  1 of 1 completed\n",
      "BAJAJHLDNG.NS 270 54 out of 500 stocks imported\n",
      "[*********************100%***********************]  1 of 1 completed\n",
      "BALAMINES.NS 270 55 out of 500 stocks imported\n",
      "[*********************100%***********************]  1 of 1 completed\n",
      "BALKRISIND.NS 270 56 out of 500 stocks imported\n",
      "[*********************100%***********************]  1 of 1 completed\n",
      "BALRAMCHIN.NS 270 57 out of 500 stocks imported\n",
      "[*********************100%***********************]  1 of 1 completed\n",
      "BANDHANBNK.NS 270 58 out of 500 stocks imported\n",
      "[*********************100%***********************]  1 of 1 completed\n",
      "BANKBARODA.NS 270 59 out of 500 stocks imported\n",
      "[*********************100%***********************]  1 of 1 completed\n",
      "BANKINDIA.NS 270 60 out of 500 stocks imported\n",
      "[*********************100%***********************]  1 of 1 completed\n",
      "MAHABANK.NS 270 61 out of 500 stocks imported\n",
      "[*********************100%***********************]  1 of 1 completed\n",
      "BATAINDIA.NS 270 62 out of 500 stocks imported\n",
      "[*********************100%***********************]  1 of 1 completed\n",
      "BAYERCROP.NS 270 63 out of 500 stocks imported\n",
      "[*********************100%***********************]  1 of 1 completed\n",
      "BERGEPAINT.NS 270 64 out of 500 stocks imported\n",
      "[*********************100%***********************]  1 of 1 completed\n",
      "BDL.NS 270 65 out of 500 stocks imported\n",
      "[*********************100%***********************]  1 of 1 completed\n",
      "BEL.NS 270 66 out of 500 stocks imported\n",
      "[*********************100%***********************]  1 of 1 completed\n",
      "BHARATFORG.NS 270 67 out of 500 stocks imported\n",
      "[*********************100%***********************]  1 of 1 completed\n",
      "BHEL.NS 270 68 out of 500 stocks imported\n",
      "[*********************100%***********************]  1 of 1 completed\n",
      "BPCL.NS 270 69 out of 500 stocks imported\n",
      "[*********************100%***********************]  1 of 1 completed\n",
      "BHARTIARTL.NS 270 70 out of 500 stocks imported\n"
     ]
    },
    {
     "name": "stdout",
     "output_type": "stream",
     "text": [
      "[*********************100%***********************]  1 of 1 completed\n",
      "skipping BIKAJI.NS as it has only 107 values\n",
      "[*********************100%***********************]  1 of 1 completed\n",
      "BIOCON.NS 270 71 out of 500 stocks imported\n",
      "[*********************100%***********************]  1 of 1 completed\n",
      "BIRLACORPN.NS 270 72 out of 500 stocks imported\n",
      "[*********************100%***********************]  1 of 1 completed\n",
      "BSOFT.NS 270 73 out of 500 stocks imported\n",
      "[*********************100%***********************]  1 of 1 completed\n",
      "BLUEDART.NS 270 74 out of 500 stocks imported\n",
      "[*********************100%***********************]  1 of 1 completed\n",
      "BLUESTARCO.NS 270 75 out of 500 stocks imported\n",
      "[*********************100%***********************]  1 of 1 completed\n",
      "BBTC.NS 270 76 out of 500 stocks imported\n",
      "[*********************100%***********************]  1 of 1 completed\n",
      "BORORENEW.NS 270 77 out of 500 stocks imported\n",
      "[*********************100%***********************]  1 of 1 completed\n",
      "BOSCHLTD.NS 270 78 out of 500 stocks imported\n",
      "[*********************100%***********************]  1 of 1 completed\n",
      "BRIGADE.NS 270 79 out of 500 stocks imported\n",
      "[*********************100%***********************]  1 of 1 completed\n",
      "BCG.NS 270 80 out of 500 stocks imported\n",
      "[*********************100%***********************]  1 of 1 completed\n",
      "BRITANNIA.NS 270 81 out of 500 stocks imported\n",
      "[*********************100%***********************]  1 of 1 completed\n",
      "MAPMYINDIA.NS 270 82 out of 500 stocks imported\n",
      "[*********************100%***********************]  1 of 1 completed\n",
      "CCL.NS 270 83 out of 500 stocks imported\n",
      "[*********************100%***********************]  1 of 1 completed\n",
      "CESC.NS 270 84 out of 500 stocks imported\n",
      "[*********************100%***********************]  1 of 1 completed\n",
      "CGPOWER.NS 270 85 out of 500 stocks imported\n",
      "[*********************100%***********************]  1 of 1 completed\n",
      "CRISIL.NS 270 86 out of 500 stocks imported\n",
      "[*********************100%***********************]  1 of 1 completed\n",
      "CSBBANK.NS 270 87 out of 500 stocks imported\n",
      "[*********************100%***********************]  1 of 1 completed\n",
      "skipping CAMPUS.NS as it has only 238 values\n",
      "[*********************100%***********************]  1 of 1 completed\n",
      "CANFINHOME.NS 270 88 out of 500 stocks imported\n",
      "[*********************100%***********************]  1 of 1 completed\n",
      "CANBK.NS 270 89 out of 500 stocks imported\n",
      "[*********************100%***********************]  1 of 1 completed\n",
      "CGCL.NS 270 90 out of 500 stocks imported\n",
      "[*********************100%***********************]  1 of 1 completed\n",
      "CARBORUNIV.NS 270 91 out of 500 stocks imported\n",
      "[*********************100%***********************]  1 of 1 completed\n",
      "CASTROLIND.NS 270 92 out of 500 stocks imported\n",
      "[*********************100%***********************]  1 of 1 completed\n",
      "CEATLTD.NS 270 93 out of 500 stocks imported\n",
      "[*********************100%***********************]  1 of 1 completed\n",
      "CENTRALBK.NS 270 94 out of 500 stocks imported\n",
      "[*********************100%***********************]  1 of 1 completed\n",
      "CDSL.NS 270 95 out of 500 stocks imported\n",
      "[*********************100%***********************]  1 of 1 completed\n",
      "CENTURYPLY.NS 270 96 out of 500 stocks imported\n",
      "[*********************100%***********************]  1 of 1 completed\n",
      "CENTURYTEX.NS 270 97 out of 500 stocks imported\n",
      "[*********************100%***********************]  1 of 1 completed\n",
      "CERA.NS 270 98 out of 500 stocks imported\n",
      "[*********************100%***********************]  1 of 1 completed\n",
      "CHALET.NS 270 99 out of 500 stocks imported\n",
      "[*********************100%***********************]  1 of 1 completed\n",
      "CHAMBLFERT.NS 270 100 out of 500 stocks imported\n",
      "[*********************100%***********************]  1 of 1 completed\n",
      "CHEMPLASTS.NS 270 101 out of 500 stocks imported\n",
      "[*********************100%***********************]  1 of 1 completed\n",
      "CHOLAHLDNG.NS 270 102 out of 500 stocks imported\n",
      "[*********************100%***********************]  1 of 1 completed\n",
      "CHOLAFIN.NS 270 103 out of 500 stocks imported\n",
      "[*********************100%***********************]  1 of 1 completed\n",
      "CIPLA.NS 270 104 out of 500 stocks imported\n",
      "[*********************100%***********************]  1 of 1 completed\n",
      "CUB.NS 270 105 out of 500 stocks imported\n",
      "[*********************100%***********************]  1 of 1 completed\n",
      "CLEAN.NS 270 106 out of 500 stocks imported\n",
      "[*********************100%***********************]  1 of 1 completed\n",
      "COALINDIA.NS 270 107 out of 500 stocks imported\n",
      "[*********************100%***********************]  1 of 1 completed\n",
      "COCHINSHIP.NS 270 108 out of 500 stocks imported\n",
      "[*********************100%***********************]  1 of 1 completed\n",
      "COFORGE.NS 270 109 out of 500 stocks imported\n",
      "[*********************100%***********************]  1 of 1 completed\n",
      "COLPAL.NS 270 110 out of 500 stocks imported\n",
      "[*********************100%***********************]  1 of 1 completed\n",
      "CAMS.NS 270 111 out of 500 stocks imported\n",
      "[*********************100%***********************]  1 of 1 completed\n",
      "CONCOR.NS 270 112 out of 500 stocks imported\n",
      "[*********************100%***********************]  1 of 1 completed\n",
      "COROMANDEL.NS 270 113 out of 500 stocks imported\n",
      "[*********************100%***********************]  1 of 1 completed\n",
      "CRAFTSMAN.NS 270 114 out of 500 stocks imported\n",
      "[*********************100%***********************]  1 of 1 completed\n",
      "CREDITACC.NS 270 115 out of 500 stocks imported\n",
      "[*********************100%***********************]  1 of 1 completed\n",
      "CROMPTON.NS 270 116 out of 500 stocks imported\n",
      "[*********************100%***********************]  1 of 1 completed\n",
      "CUMMINSIND.NS 270 117 out of 500 stocks imported\n",
      "[*********************100%***********************]  1 of 1 completed\n",
      "CYIENT.NS 270 118 out of 500 stocks imported\n",
      "[*********************100%***********************]  1 of 1 completed\n",
      "DCMSHRIRAM.NS 270 119 out of 500 stocks imported\n",
      "[*********************100%***********************]  1 of 1 completed\n",
      "DLF.NS 270 120 out of 500 stocks imported\n",
      "[*********************100%***********************]  1 of 1 completed\n",
      "DABUR.NS 270 121 out of 500 stocks imported\n",
      "[*********************100%***********************]  1 of 1 completed\n",
      "DALBHARAT.NS 270 122 out of 500 stocks imported\n",
      "[*********************100%***********************]  1 of 1 completed\n",
      "DATAPATTNS.NS 270 123 out of 500 stocks imported\n",
      "[*********************100%***********************]  1 of 1 completed\n",
      "DEEPAKFERT.NS 270 124 out of 500 stocks imported\n",
      "[*********************100%***********************]  1 of 1 completed\n",
      "DEEPAKNTR.NS 270 125 out of 500 stocks imported\n",
      "[*********************100%***********************]  1 of 1 completed\n",
      "skipping DELHIVERY.NS as it has only 227 values\n",
      "[*********************100%***********************]  1 of 1 completed\n",
      "DELTACORP.NS 270 126 out of 500 stocks imported\n",
      "[*********************100%***********************]  1 of 1 completed\n",
      "DEVYANI.NS 270 127 out of 500 stocks imported\n",
      "[*********************100%***********************]  1 of 1 completed\n",
      "DIVISLAB.NS 270 128 out of 500 stocks imported\n",
      "[*********************100%***********************]  1 of 1 completed\n",
      "DIXON.NS 270 129 out of 500 stocks imported\n",
      "[*********************100%***********************]  1 of 1 completed\n",
      "LALPATHLAB.NS 270 130 out of 500 stocks imported\n",
      "[*********************100%***********************]  1 of 1 completed\n",
      "DRREDDY.NS 270 131 out of 500 stocks imported\n",
      "[*********************100%***********************]  1 of 1 completed\n",
      "EIDPARRY.NS 270 132 out of 500 stocks imported\n",
      "[*********************100%***********************]  1 of 1 completed\n",
      "EIHOTEL.NS 270 133 out of 500 stocks imported\n",
      "[*********************100%***********************]  1 of 1 completed\n",
      "EPL.NS 270 134 out of 500 stocks imported\n",
      "[*********************100%***********************]  1 of 1 completed\n",
      "EASEMYTRIP.NS 270 135 out of 500 stocks imported\n",
      "[*********************100%***********************]  1 of 1 completed\n",
      "EDELWEISS.NS 270 136 out of 500 stocks imported\n",
      "[*********************100%***********************]  1 of 1 completed\n",
      "EICHERMOT.NS 270 137 out of 500 stocks imported\n",
      "[*********************100%***********************]  1 of 1 completed\n",
      "ELGIEQUIP.NS 270 138 out of 500 stocks imported\n"
     ]
    },
    {
     "name": "stdout",
     "output_type": "stream",
     "text": [
      "[*********************100%***********************]  1 of 1 completed\n",
      "EMAMILTD.NS 270 139 out of 500 stocks imported\n",
      "[*********************100%***********************]  1 of 1 completed\n",
      "ENDURANCE.NS 270 140 out of 500 stocks imported\n",
      "[*********************100%***********************]  1 of 1 completed\n",
      "ENGINERSIN.NS 270 141 out of 500 stocks imported\n",
      "[*********************100%***********************]  1 of 1 completed\n",
      "EQUITASBNK.NS 270 142 out of 500 stocks imported\n",
      "[*********************100%***********************]  1 of 1 completed\n",
      "ESCORTS.NS 270 143 out of 500 stocks imported\n",
      "[*********************100%***********************]  1 of 1 completed\n",
      "EXIDEIND.NS 270 144 out of 500 stocks imported\n",
      "[*********************100%***********************]  1 of 1 completed\n",
      "FDC.NS 270 145 out of 500 stocks imported\n",
      "[*********************100%***********************]  1 of 1 completed\n",
      "NYKAA.NS 270 146 out of 500 stocks imported\n",
      "[*********************100%***********************]  1 of 1 completed\n",
      "FEDERALBNK.NS 270 147 out of 500 stocks imported\n",
      "[*********************100%***********************]  1 of 1 completed\n",
      "FACT.NS 270 148 out of 500 stocks imported\n",
      "[*********************100%***********************]  1 of 1 completed\n",
      "FINEORG.NS 270 149 out of 500 stocks imported\n",
      "[*********************100%***********************]  1 of 1 completed\n",
      "FINCABLES.NS 270 150 out of 500 stocks imported\n",
      "[*********************100%***********************]  1 of 1 completed\n",
      "FINPIPE.NS 270 151 out of 500 stocks imported\n",
      "[*********************100%***********************]  1 of 1 completed\n",
      "FSL.NS 270 152 out of 500 stocks imported\n",
      "[*********************100%***********************]  1 of 1 completed\n",
      "skipping FIVESTAR.NS as it has only 104 values\n",
      "[*********************100%***********************]  1 of 1 completed\n",
      "FORTIS.NS 270 153 out of 500 stocks imported\n",
      "[*********************100%***********************]  1 of 1 completed\n",
      "GRINFRA.NS 270 154 out of 500 stocks imported\n",
      "[*********************100%***********************]  1 of 1 completed\n",
      "GAIL.NS 270 155 out of 500 stocks imported\n",
      "[*********************100%***********************]  1 of 1 completed\n",
      "GMMPFAUDLR.NS 270 156 out of 500 stocks imported\n",
      "[*********************100%***********************]  1 of 1 completed\n",
      "GMRINFRA.NS 270 157 out of 500 stocks imported\n",
      "[*********************100%***********************]  1 of 1 completed\n",
      "GALAXYSURF.NS 270 158 out of 500 stocks imported\n",
      "[*********************100%***********************]  1 of 1 completed\n",
      "GARFIBRES.NS 270 159 out of 500 stocks imported\n",
      "[*********************100%***********************]  1 of 1 completed\n",
      "GICRE.NS 270 160 out of 500 stocks imported\n",
      "[*********************100%***********************]  1 of 1 completed\n",
      "GLAND.NS 270 161 out of 500 stocks imported\n",
      "[*********************100%***********************]  1 of 1 completed\n",
      "GLAXO.NS 270 162 out of 500 stocks imported\n",
      "[*********************100%***********************]  1 of 1 completed\n",
      "GLENMARK.NS 270 163 out of 500 stocks imported\n",
      "[*********************100%***********************]  1 of 1 completed\n",
      "skipping MEDANTA.NS as it has only 105 values\n",
      "[*********************100%***********************]  1 of 1 completed\n",
      "GOCOLORS.NS 270 164 out of 500 stocks imported\n",
      "[*********************100%***********************]  1 of 1 completed\n",
      "GODFRYPHLP.NS 270 165 out of 500 stocks imported\n",
      "[*********************100%***********************]  1 of 1 completed\n",
      "GODREJAGRO.NS 270 166 out of 500 stocks imported\n",
      "[*********************100%***********************]  1 of 1 completed\n",
      "GODREJCP.NS 270 167 out of 500 stocks imported\n",
      "[*********************100%***********************]  1 of 1 completed\n",
      "GODREJIND.NS 270 168 out of 500 stocks imported\n",
      "[*********************100%***********************]  1 of 1 completed\n",
      "GODREJPROP.NS 270 169 out of 500 stocks imported\n",
      "[*********************100%***********************]  1 of 1 completed\n",
      "GRANULES.NS 270 170 out of 500 stocks imported\n",
      "[*********************100%***********************]  1 of 1 completed\n",
      "GRAPHITE.NS 270 171 out of 500 stocks imported\n",
      "[*********************100%***********************]  1 of 1 completed\n",
      "GRASIM.NS 270 172 out of 500 stocks imported\n",
      "[*********************100%***********************]  1 of 1 completed\n",
      "GESHIP.NS 270 173 out of 500 stocks imported\n",
      "[*********************100%***********************]  1 of 1 completed\n",
      "GREENPANEL.NS 270 174 out of 500 stocks imported\n",
      "[*********************100%***********************]  1 of 1 completed\n",
      "GRINDWELL.NS 270 175 out of 500 stocks imported\n",
      "[*********************100%***********************]  1 of 1 completed\n",
      "GUJALKALI.NS 270 176 out of 500 stocks imported\n",
      "[*********************100%***********************]  1 of 1 completed\n",
      "GAEL.NS 270 177 out of 500 stocks imported\n",
      "[*********************100%***********************]  1 of 1 completed\n",
      "FLUOROCHEM.NS 270 178 out of 500 stocks imported\n",
      "[*********************100%***********************]  1 of 1 completed\n",
      "GUJGASLTD.NS 270 179 out of 500 stocks imported\n",
      "[*********************100%***********************]  1 of 1 completed\n",
      "GNFC.NS 270 180 out of 500 stocks imported\n",
      "[*********************100%***********************]  1 of 1 completed\n",
      "GPPL.NS 270 181 out of 500 stocks imported\n",
      "[*********************100%***********************]  1 of 1 completed\n",
      "GSFC.NS 270 182 out of 500 stocks imported\n",
      "[*********************100%***********************]  1 of 1 completed\n",
      "GSPL.NS 270 183 out of 500 stocks imported\n",
      "[*********************100%***********************]  1 of 1 completed\n",
      "HEG.NS 270 184 out of 500 stocks imported\n",
      "[*********************100%***********************]  1 of 1 completed\n",
      "HCLTECH.NS 270 185 out of 500 stocks imported\n",
      "[*********************100%***********************]  1 of 1 completed\n",
      "HDFCAMC.NS 270 186 out of 500 stocks imported\n",
      "[*********************100%***********************]  1 of 1 completed\n",
      "HDFCBANK.NS 270 187 out of 500 stocks imported\n",
      "[*********************100%***********************]  1 of 1 completed\n",
      "HDFCLIFE.NS 270 188 out of 500 stocks imported\n",
      "[*********************100%***********************]  1 of 1 completed\n",
      "HFCL.NS 270 189 out of 500 stocks imported\n",
      "[*********************100%***********************]  1 of 1 completed\n",
      "HLEGLAS.NS 270 190 out of 500 stocks imported\n",
      "[*********************100%***********************]  1 of 1 completed\n",
      "HAPPSTMNDS.NS 270 191 out of 500 stocks imported\n",
      "[*********************100%***********************]  1 of 1 completed\n",
      "HAVELLS.NS 270 192 out of 500 stocks imported\n",
      "[*********************100%***********************]  1 of 1 completed\n",
      "HEROMOTOCO.NS 270 193 out of 500 stocks imported\n",
      "[*********************100%***********************]  1 of 1 completed\n",
      "HIKAL.NS 270 194 out of 500 stocks imported\n",
      "[*********************100%***********************]  1 of 1 completed\n",
      "HINDALCO.NS 270 195 out of 500 stocks imported\n",
      "[*********************100%***********************]  1 of 1 completed\n",
      "HGS.NS 270 196 out of 500 stocks imported\n",
      "[*********************100%***********************]  1 of 1 completed\n",
      "HAL.NS 270 197 out of 500 stocks imported\n",
      "[*********************100%***********************]  1 of 1 completed\n",
      "HINDCOPPER.NS 270 198 out of 500 stocks imported\n",
      "[*********************100%***********************]  1 of 1 completed\n",
      "HINDPETRO.NS 270 199 out of 500 stocks imported\n",
      "[*********************100%***********************]  1 of 1 completed\n",
      "HINDUNILVR.NS 270 200 out of 500 stocks imported\n",
      "[*********************100%***********************]  1 of 1 completed\n",
      "HINDZINC.NS 270 201 out of 500 stocks imported\n",
      "[*********************100%***********************]  1 of 1 completed\n",
      "POWERINDIA.NS 270 202 out of 500 stocks imported\n",
      "[*********************100%***********************]  1 of 1 completed\n",
      "HOMEFIRST.NS 270 203 out of 500 stocks imported\n",
      "[*********************100%***********************]  1 of 1 completed\n",
      "HONAUT.NS 270 204 out of 500 stocks imported\n",
      "[*********************100%***********************]  1 of 1 completed\n",
      "HUDCO.NS 270 205 out of 500 stocks imported\n",
      "[*********************100%***********************]  1 of 1 completed\n",
      "HDFC.NS 270 206 out of 500 stocks imported\n",
      "[*********************100%***********************]  1 of 1 completed\n",
      "ICICIBANK.NS 270 207 out of 500 stocks imported\n"
     ]
    },
    {
     "name": "stdout",
     "output_type": "stream",
     "text": [
      "[*********************100%***********************]  1 of 1 completed\n",
      "ICICIGI.NS 270 208 out of 500 stocks imported\n",
      "[*********************100%***********************]  1 of 1 completed\n",
      "ICICIPRULI.NS 270 209 out of 500 stocks imported\n",
      "[*********************100%***********************]  1 of 1 completed\n",
      "ISEC.NS 270 210 out of 500 stocks imported\n",
      "[*********************100%***********************]  1 of 1 completed\n",
      "IDBI.NS 270 211 out of 500 stocks imported\n",
      "[*********************100%***********************]  1 of 1 completed\n",
      "IDFCFIRSTB.NS 270 212 out of 500 stocks imported\n",
      "[*********************100%***********************]  1 of 1 completed\n",
      "IDFC.NS 270 213 out of 500 stocks imported\n",
      "[*********************100%***********************]  1 of 1 completed\n",
      "IFBIND.NS 270 214 out of 500 stocks imported\n",
      "[*********************100%***********************]  1 of 1 completed\n",
      "IIFL.NS 270 215 out of 500 stocks imported\n",
      "[*********************100%***********************]  1 of 1 completed\n",
      "IRB.NS 270 216 out of 500 stocks imported\n",
      "[*********************100%***********************]  1 of 1 completed\n",
      "ITC.NS 270 217 out of 500 stocks imported\n",
      "[*********************100%***********************]  1 of 1 completed\n",
      "ITI.NS 270 218 out of 500 stocks imported\n",
      "[*********************100%***********************]  1 of 1 completed\n",
      "INDIACEM.NS 270 219 out of 500 stocks imported\n",
      "[*********************100%***********************]  1 of 1 completed\n",
      "IBULHSGFIN.NS 270 220 out of 500 stocks imported\n",
      "[*********************100%***********************]  1 of 1 completed\n",
      "IBREALEST.NS 270 221 out of 500 stocks imported\n",
      "[*********************100%***********************]  1 of 1 completed\n",
      "INDIAMART.NS 270 222 out of 500 stocks imported\n",
      "[*********************100%***********************]  1 of 1 completed\n",
      "INDIANB.NS 270 223 out of 500 stocks imported\n",
      "[*********************100%***********************]  1 of 1 completed\n",
      "IEX.NS 270 224 out of 500 stocks imported\n",
      "[*********************100%***********************]  1 of 1 completed\n",
      "INDHOTEL.NS 270 225 out of 500 stocks imported\n",
      "[*********************100%***********************]  1 of 1 completed\n",
      "IOC.NS 270 226 out of 500 stocks imported\n",
      "[*********************100%***********************]  1 of 1 completed\n",
      "IOB.NS 270 227 out of 500 stocks imported\n",
      "[*********************100%***********************]  1 of 1 completed\n",
      "IRCTC.NS 270 228 out of 500 stocks imported\n",
      "[*********************100%***********************]  1 of 1 completed\n",
      "IRFC.NS 270 229 out of 500 stocks imported\n",
      "[*********************100%***********************]  1 of 1 completed\n",
      "INDIGOPNTS.NS 270 230 out of 500 stocks imported\n",
      "[*********************100%***********************]  1 of 1 completed\n",
      "IGL.NS 270 231 out of 500 stocks imported\n",
      "[*********************100%***********************]  1 of 1 completed\n",
      "INDUSTOWER.NS 270 232 out of 500 stocks imported\n",
      "[*********************100%***********************]  1 of 1 completed\n",
      "INDUSINDBK.NS 270 233 out of 500 stocks imported\n",
      "[*********************100%***********************]  1 of 1 completed\n",
      "INFIBEAM.NS 270 234 out of 500 stocks imported\n",
      "[*********************100%***********************]  1 of 1 completed\n",
      "NAUKRI.NS 270 235 out of 500 stocks imported\n",
      "[*********************100%***********************]  1 of 1 completed\n",
      "INFY.NS 270 236 out of 500 stocks imported\n",
      "[*********************100%***********************]  1 of 1 completed\n",
      "INGERRAND.NS 270 237 out of 500 stocks imported\n",
      "[*********************100%***********************]  1 of 1 completed\n",
      "INTELLECT.NS 270 238 out of 500 stocks imported\n",
      "[*********************100%***********************]  1 of 1 completed\n",
      "INDIGO.NS 270 239 out of 500 stocks imported\n",
      "[*********************100%***********************]  1 of 1 completed\n",
      "IPCALAB.NS 270 240 out of 500 stocks imported\n",
      "[*********************100%***********************]  1 of 1 completed\n",
      "JBCHEPHARM.NS 270 241 out of 500 stocks imported\n",
      "[*********************100%***********************]  1 of 1 completed\n",
      "JKCEMENT.NS 270 242 out of 500 stocks imported\n",
      "[*********************100%***********************]  1 of 1 completed\n",
      "JBMA.NS 270 243 out of 500 stocks imported\n",
      "[*********************100%***********************]  1 of 1 completed\n",
      "JKLAKSHMI.NS 270 244 out of 500 stocks imported\n",
      "[*********************100%***********************]  1 of 1 completed\n",
      "JKPAPER.NS 270 245 out of 500 stocks imported\n",
      "[*********************100%***********************]  1 of 1 completed\n",
      "JMFINANCIL.NS 270 246 out of 500 stocks imported\n",
      "[*********************100%***********************]  1 of 1 completed\n",
      "JSWENERGY.NS 270 247 out of 500 stocks imported\n",
      "[*********************100%***********************]  1 of 1 completed\n",
      "JSWSTEEL.NS 270 248 out of 500 stocks imported\n",
      "[*********************100%***********************]  1 of 1 completed\n",
      "JAMNAAUTO.NS 270 249 out of 500 stocks imported\n",
      "[*********************100%***********************]  1 of 1 completed\n",
      "JSL.NS 270 250 out of 500 stocks imported\n",
      "[*********************100%***********************]  1 of 1 completed\n",
      "JINDALSTEL.NS 270 251 out of 500 stocks imported\n",
      "[*********************100%***********************]  1 of 1 completed\n",
      "JINDWORLD.NS 270 252 out of 500 stocks imported\n",
      "[*********************100%***********************]  1 of 1 completed\n",
      "JUBLFOOD.NS 270 253 out of 500 stocks imported\n",
      "[*********************100%***********************]  1 of 1 completed\n",
      "JUBLINGREA.NS 270 254 out of 500 stocks imported\n",
      "[*********************100%***********************]  1 of 1 completed\n",
      "JUBLPHARMA.NS 270 255 out of 500 stocks imported\n",
      "[*********************100%***********************]  1 of 1 completed\n",
      "JUSTDIAL.NS 270 256 out of 500 stocks imported\n",
      "[*********************100%***********************]  1 of 1 completed\n",
      "JYOTHYLAB.NS 270 257 out of 500 stocks imported\n",
      "[*********************100%***********************]  1 of 1 completed\n",
      "KPRMILL.NS 270 258 out of 500 stocks imported\n",
      "[*********************100%***********************]  1 of 1 completed\n",
      "KEI.NS 270 259 out of 500 stocks imported\n",
      "[*********************100%***********************]  1 of 1 completed\n",
      "KNRCON.NS 270 260 out of 500 stocks imported\n",
      "[*********************100%***********************]  1 of 1 completed\n",
      "KPITTECH.NS 270 261 out of 500 stocks imported\n",
      "[*********************100%***********************]  1 of 1 completed\n",
      "KRBL.NS 270 262 out of 500 stocks imported\n",
      "[*********************100%***********************]  1 of 1 completed\n",
      "KSB.NS 270 263 out of 500 stocks imported\n",
      "[*********************100%***********************]  1 of 1 completed\n",
      "KAJARIACER.NS 270 264 out of 500 stocks imported\n",
      "[*********************100%***********************]  1 of 1 completed\n",
      "KALPATPOWR.NS 270 265 out of 500 stocks imported\n",
      "[*********************100%***********************]  1 of 1 completed\n",
      "KALYANKJIL.NS 270 266 out of 500 stocks imported\n",
      "[*********************100%***********************]  1 of 1 completed\n",
      "KANSAINER.NS 270 267 out of 500 stocks imported\n",
      "[*********************100%***********************]  1 of 1 completed\n",
      "KARURVYSYA.NS 270 268 out of 500 stocks imported\n",
      "[*********************100%***********************]  1 of 1 completed\n",
      "KEC.NS 270 269 out of 500 stocks imported\n",
      "[*********************100%***********************]  1 of 1 completed\n",
      "KENNAMET.NS 270 270 out of 500 stocks imported\n",
      "[*********************100%***********************]  1 of 1 completed\n",
      "skipping RUSTOMJEE.NS as it has only 101 values\n",
      "[*********************100%***********************]  1 of 1 completed\n",
      "skipping KFINTECH.NS as it has only 76 values\n",
      "[*********************100%***********************]  1 of 1 completed\n",
      "KOTAKBANK.NS 270 271 out of 500 stocks imported\n",
      "[*********************100%***********************]  1 of 1 completed\n",
      "KIMS.NS 270 272 out of 500 stocks imported\n",
      "[*********************100%***********************]  1 of 1 completed\n",
      "L&TFH.NS 270 273 out of 500 stocks imported\n",
      "[*********************100%***********************]  1 of 1 completed\n",
      "LTTS.NS 270 274 out of 500 stocks imported\n",
      "[*********************100%***********************]  1 of 1 completed\n",
      "LICHSGFIN.NS 270 275 out of 500 stocks imported\n",
      "[*********************100%***********************]  1 of 1 completed\n",
      "LTIM.NS 270 276 out of 500 stocks imported\n"
     ]
    },
    {
     "name": "stdout",
     "output_type": "stream",
     "text": [
      "[*********************100%***********************]  1 of 1 completed\n",
      "LAXMIMACH.NS 270 277 out of 500 stocks imported\n",
      "[*********************100%***********************]  1 of 1 completed\n",
      "LT.NS 270 278 out of 500 stocks imported\n",
      "[*********************100%***********************]  1 of 1 completed\n",
      "LATENTVIEW.NS 270 279 out of 500 stocks imported\n",
      "[*********************100%***********************]  1 of 1 completed\n",
      "LAURUSLABS.NS 270 280 out of 500 stocks imported\n",
      "[*********************100%***********************]  1 of 1 completed\n",
      "LXCHEM.NS 270 281 out of 500 stocks imported\n",
      "[*********************100%***********************]  1 of 1 completed\n",
      "LEMONTREE.NS 270 282 out of 500 stocks imported\n",
      "[*********************100%***********************]  1 of 1 completed\n",
      "skipping LICI.NS as it has only 232 values\n",
      "[*********************100%***********************]  1 of 1 completed\n",
      "LINDEINDIA.NS 270 283 out of 500 stocks imported\n",
      "[*********************100%***********************]  1 of 1 completed\n",
      "LUPIN.NS 270 284 out of 500 stocks imported\n",
      "[*********************100%***********************]  1 of 1 completed\n",
      "LUXIND.NS 270 285 out of 500 stocks imported\n",
      "[*********************100%***********************]  1 of 1 completed\n",
      "MMTC.NS 270 286 out of 500 stocks imported\n",
      "[*********************100%***********************]  1 of 1 completed\n",
      "MRF.NS 270 287 out of 500 stocks imported\n",
      "[*********************100%***********************]  1 of 1 completed\n",
      "MTARTECH.NS 270 288 out of 500 stocks imported\n",
      "[*********************100%***********************]  1 of 1 completed\n",
      "LODHA.NS 270 289 out of 500 stocks imported\n",
      "[*********************100%***********************]  1 of 1 completed\n",
      "MGL.NS 270 290 out of 500 stocks imported\n",
      "[*********************100%***********************]  1 of 1 completed\n",
      "M&MFIN.NS 270 291 out of 500 stocks imported\n",
      "[*********************100%***********************]  1 of 1 completed\n",
      "M&M.NS 270 292 out of 500 stocks imported\n",
      "[*********************100%***********************]  1 of 1 completed\n",
      "MAHINDCIE.NS 270 293 out of 500 stocks imported\n",
      "[*********************100%***********************]  1 of 1 completed\n",
      "MHRIL.NS 270 294 out of 500 stocks imported\n",
      "[*********************100%***********************]  1 of 1 completed\n",
      "MAHLIFE.NS 270 295 out of 500 stocks imported\n",
      "[*********************100%***********************]  1 of 1 completed\n",
      "MAHLOG.NS 270 296 out of 500 stocks imported\n",
      "[*********************100%***********************]  1 of 1 completed\n",
      "MANAPPURAM.NS 270 297 out of 500 stocks imported\n",
      "[*********************100%***********************]  1 of 1 completed\n",
      "MRPL.NS 270 298 out of 500 stocks imported\n",
      "[*********************100%***********************]  1 of 1 completed\n",
      "MARICO.NS 270 299 out of 500 stocks imported\n",
      "[*********************100%***********************]  1 of 1 completed\n",
      "MARUTI.NS 270 300 out of 500 stocks imported\n",
      "[*********************100%***********************]  1 of 1 completed\n",
      "MASTEK.NS 270 301 out of 500 stocks imported\n",
      "[*********************100%***********************]  1 of 1 completed\n",
      "MFSL.NS 270 302 out of 500 stocks imported\n",
      "[*********************100%***********************]  1 of 1 completed\n",
      "MAXHEALTH.NS 270 303 out of 500 stocks imported\n",
      "[*********************100%***********************]  1 of 1 completed\n",
      "MAZDOCK.NS 270 304 out of 500 stocks imported\n",
      "[*********************100%***********************]  1 of 1 completed\n",
      "MEDPLUS.NS 270 305 out of 500 stocks imported\n",
      "[*********************100%***********************]  1 of 1 completed\n",
      "MFL.NS 270 306 out of 500 stocks imported\n",
      "[*********************100%***********************]  1 of 1 completed\n",
      "METROBRAND.NS 270 307 out of 500 stocks imported\n",
      "[*********************100%***********************]  1 of 1 completed\n",
      "METROPOLIS.NS 270 308 out of 500 stocks imported\n",
      "[*********************100%***********************]  1 of 1 completed\n",
      "MSUMI.NS 265 309 out of 500 stocks imported\n",
      "[*********************100%***********************]  1 of 1 completed\n",
      "MOTILALOFS.NS 270 310 out of 500 stocks imported\n",
      "[*********************100%***********************]  1 of 1 completed\n",
      "MPHASIS.NS 270 311 out of 500 stocks imported\n",
      "[*********************100%***********************]  1 of 1 completed\n",
      "MCX.NS 270 312 out of 500 stocks imported\n",
      "[*********************100%***********************]  1 of 1 completed\n",
      "MUTHOOTFIN.NS 270 313 out of 500 stocks imported\n",
      "[*********************100%***********************]  1 of 1 completed\n",
      "NATCOPHARM.NS 270 314 out of 500 stocks imported\n",
      "[*********************100%***********************]  1 of 1 completed\n",
      "NBCC.NS 270 315 out of 500 stocks imported\n",
      "[*********************100%***********************]  1 of 1 completed\n",
      "NCC.NS 270 316 out of 500 stocks imported\n",
      "[*********************100%***********************]  1 of 1 completed\n",
      "NHPC.NS 270 317 out of 500 stocks imported\n",
      "[*********************100%***********************]  1 of 1 completed\n",
      "NLCINDIA.NS 270 318 out of 500 stocks imported\n",
      "[*********************100%***********************]  1 of 1 completed\n",
      "NMDC.NS 270 319 out of 500 stocks imported\n",
      "[*********************100%***********************]  1 of 1 completed\n",
      "NOCIL.NS 270 320 out of 500 stocks imported\n",
      "[*********************100%***********************]  1 of 1 completed\n",
      "NTPC.NS 270 321 out of 500 stocks imported\n",
      "[*********************100%***********************]  1 of 1 completed\n",
      "NH.NS 270 322 out of 500 stocks imported\n",
      "[*********************100%***********************]  1 of 1 completed\n",
      "NATIONALUM.NS 270 323 out of 500 stocks imported\n",
      "[*********************100%***********************]  1 of 1 completed\n",
      "NAVINFLUOR.NS 270 324 out of 500 stocks imported\n",
      "[*********************100%***********************]  1 of 1 completed\n",
      "NAZARA.NS 270 325 out of 500 stocks imported\n",
      "[*********************100%***********************]  1 of 1 completed\n",
      "NESTLEIND.NS 270 326 out of 500 stocks imported\n",
      "[*********************100%***********************]  1 of 1 completed\n",
      "NETWORK18.NS 270 327 out of 500 stocks imported\n",
      "[*********************100%***********************]  1 of 1 completed\n",
      "NAM-INDIA.NS 270 328 out of 500 stocks imported\n",
      "[*********************100%***********************]  1 of 1 completed\n",
      "NUVOCO.NS 270 329 out of 500 stocks imported\n",
      "[*********************100%***********************]  1 of 1 completed\n",
      "OBEROIRLTY.NS 270 330 out of 500 stocks imported\n",
      "[*********************100%***********************]  1 of 1 completed\n",
      "ONGC.NS 270 331 out of 500 stocks imported\n",
      "[*********************100%***********************]  1 of 1 completed\n",
      "OIL.NS 270 332 out of 500 stocks imported\n",
      "[*********************100%***********************]  1 of 1 completed\n",
      "OLECTRA.NS 270 333 out of 500 stocks imported\n",
      "[*********************100%***********************]  1 of 1 completed\n",
      "PAYTM.NS 270 334 out of 500 stocks imported\n",
      "[*********************100%***********************]  1 of 1 completed\n",
      "OFSS.NS 270 335 out of 500 stocks imported\n",
      "[*********************100%***********************]  1 of 1 completed\n",
      "ORIENTELEC.NS 270 336 out of 500 stocks imported\n",
      "[*********************100%***********************]  1 of 1 completed\n",
      "POLICYBZR.NS 270 337 out of 500 stocks imported\n",
      "[*********************100%***********************]  1 of 1 completed\n",
      "PCBL.NS 270 338 out of 500 stocks imported\n",
      "[*********************100%***********************]  1 of 1 completed\n",
      "PIIND.NS 270 339 out of 500 stocks imported\n",
      "[*********************100%***********************]  1 of 1 completed\n",
      "PNBHOUSING.NS 270 340 out of 500 stocks imported\n",
      "[*********************100%***********************]  1 of 1 completed\n",
      "PNCINFRA.NS 270 341 out of 500 stocks imported\n",
      "[*********************100%***********************]  1 of 1 completed\n",
      "PVR.NS 270 342 out of 500 stocks imported\n",
      "[*********************100%***********************]  1 of 1 completed\n",
      "PAGEIND.NS 270 343 out of 500 stocks imported\n",
      "[*********************100%***********************]  1 of 1 completed\n",
      "PATANJALI.NS 270 344 out of 500 stocks imported\n",
      "[*********************100%***********************]  1 of 1 completed\n",
      "PERSISTENT.NS 270 345 out of 500 stocks imported\n",
      "[*********************100%***********************]  1 of 1 completed\n",
      "PETRONET.NS 270 346 out of 500 stocks imported\n"
     ]
    },
    {
     "name": "stdout",
     "output_type": "stream",
     "text": [
      "[*********************100%***********************]  1 of 1 completed\n",
      "PFIZER.NS 270 347 out of 500 stocks imported\n",
      "[*********************100%***********************]  1 of 1 completed\n",
      "PHOENIXLTD.NS 270 348 out of 500 stocks imported\n",
      "[*********************100%***********************]  1 of 1 completed\n",
      "PIDILITIND.NS 270 349 out of 500 stocks imported\n",
      "[*********************100%***********************]  1 of 1 completed\n",
      "PEL.NS 270 350 out of 500 stocks imported\n",
      "[*********************100%***********************]  1 of 1 completed\n",
      "skipping PPLPHARMA.NS as it has only 125 values\n",
      "[*********************100%***********************]  1 of 1 completed\n",
      "POLYMED.NS 270 351 out of 500 stocks imported\n",
      "[*********************100%***********************]  1 of 1 completed\n",
      "POLYCAB.NS 270 352 out of 500 stocks imported\n",
      "[*********************100%***********************]  1 of 1 completed\n",
      "POLYPLEX.NS 270 353 out of 500 stocks imported\n",
      "[*********************100%***********************]  1 of 1 completed\n",
      "POONAWALLA.NS 270 354 out of 500 stocks imported\n",
      "[*********************100%***********************]  1 of 1 completed\n",
      "PFC.NS 270 355 out of 500 stocks imported\n",
      "[*********************100%***********************]  1 of 1 completed\n",
      "POWERGRID.NS 270 356 out of 500 stocks imported\n",
      "[*********************100%***********************]  1 of 1 completed\n",
      "PRAJIND.NS 270 357 out of 500 stocks imported\n",
      "[*********************100%***********************]  1 of 1 completed\n",
      "PRESTIGE.NS 270 358 out of 500 stocks imported\n",
      "[*********************100%***********************]  1 of 1 completed\n",
      "PRINCEPIPE.NS 270 359 out of 500 stocks imported\n",
      "[*********************100%***********************]  1 of 1 completed\n",
      "PRSMJOHNSN.NS 270 360 out of 500 stocks imported\n",
      "[*********************100%***********************]  1 of 1 completed\n",
      "PGHH.NS 270 361 out of 500 stocks imported\n",
      "[*********************100%***********************]  1 of 1 completed\n",
      "PNB.NS 270 362 out of 500 stocks imported\n",
      "[*********************100%***********************]  1 of 1 completed\n",
      "QUESS.NS 270 363 out of 500 stocks imported\n",
      "[*********************100%***********************]  1 of 1 completed\n",
      "RBLBANK.NS 270 364 out of 500 stocks imported\n",
      "[*********************100%***********************]  1 of 1 completed\n",
      "RECLTD.NS 270 365 out of 500 stocks imported\n",
      "[*********************100%***********************]  1 of 1 completed\n",
      "RHIM.NS 270 366 out of 500 stocks imported\n",
      "[*********************100%***********************]  1 of 1 completed\n",
      "RITES.NS 270 367 out of 500 stocks imported\n",
      "[*********************100%***********************]  1 of 1 completed\n",
      "RADICO.NS 270 368 out of 500 stocks imported\n",
      "[*********************100%***********************]  1 of 1 completed\n",
      "RVNL.NS 270 369 out of 500 stocks imported\n",
      "[*********************100%***********************]  1 of 1 completed\n",
      "RAIN.NS 270 370 out of 500 stocks imported\n",
      "[*********************100%***********************]  1 of 1 completed\n",
      "skipping RAINBOW.NS as it has only 237 values\n",
      "[*********************100%***********************]  1 of 1 completed\n",
      "RAJESHEXPO.NS 270 371 out of 500 stocks imported\n",
      "[*********************100%***********************]  1 of 1 completed\n",
      "RALLIS.NS 270 372 out of 500 stocks imported\n",
      "[*********************100%***********************]  1 of 1 completed\n",
      "RCF.NS 270 373 out of 500 stocks imported\n",
      "[*********************100%***********************]  1 of 1 completed\n",
      "RATNAMANI.NS 270 374 out of 500 stocks imported\n",
      "[*********************100%***********************]  1 of 1 completed\n",
      "RTNINDIA.NS 270 375 out of 500 stocks imported\n",
      "[*********************100%***********************]  1 of 1 completed\n",
      "RAYMOND.NS 270 376 out of 500 stocks imported\n",
      "[*********************100%***********************]  1 of 1 completed\n",
      "REDINGTON.NS 270 377 out of 500 stocks imported\n",
      "[*********************100%***********************]  1 of 1 completed\n",
      "RELAXO.NS 270 378 out of 500 stocks imported\n",
      "[*********************100%***********************]  1 of 1 completed\n",
      "RELIANCE.NS 270 379 out of 500 stocks imported\n",
      "[*********************100%***********************]  1 of 1 completed\n",
      "RBA.NS 270 380 out of 500 stocks imported\n",
      "[*********************100%***********************]  1 of 1 completed\n",
      "ROSSARI.NS 270 381 out of 500 stocks imported\n",
      "[*********************100%***********************]  1 of 1 completed\n",
      "ROUTE.NS 270 382 out of 500 stocks imported\n",
      "[*********************100%***********************]  1 of 1 completed\n",
      "SBICARD.NS 270 383 out of 500 stocks imported\n",
      "[*********************100%***********************]  1 of 1 completed\n",
      "SBILIFE.NS 270 384 out of 500 stocks imported\n",
      "[*********************100%***********************]  1 of 1 completed\n",
      "SJVN.NS 270 385 out of 500 stocks imported\n",
      "[*********************100%***********************]  1 of 1 completed\n",
      "SKFINDIA.NS 270 386 out of 500 stocks imported\n",
      "[*********************100%***********************]  1 of 1 completed\n",
      "SRF.NS 270 387 out of 500 stocks imported\n",
      "[*********************100%***********************]  1 of 1 completed\n",
      "MOTHERSON.NS 270 388 out of 500 stocks imported\n",
      "[*********************100%***********************]  1 of 1 completed\n",
      "SANOFI.NS 270 389 out of 500 stocks imported\n",
      "[*********************100%***********************]  1 of 1 completed\n",
      "SAPPHIRE.NS 270 390 out of 500 stocks imported\n",
      "[*********************100%***********************]  1 of 1 completed\n",
      "SCHAEFFLER.NS 270 391 out of 500 stocks imported\n",
      "[*********************100%***********************]  1 of 1 completed\n",
      "SHARDACROP.NS 270 392 out of 500 stocks imported\n",
      "[*********************100%***********************]  1 of 1 completed\n",
      "SHOPERSTOP.NS 270 393 out of 500 stocks imported\n",
      "[*********************100%***********************]  1 of 1 completed\n",
      "SHREECEM.NS 270 394 out of 500 stocks imported\n",
      "[*********************100%***********************]  1 of 1 completed\n",
      "RENUKA.NS 270 395 out of 500 stocks imported\n",
      "[*********************100%***********************]  1 of 1 completed\n",
      "SHRIRAMFIN.NS 270 396 out of 500 stocks imported\n",
      "[*********************100%***********************]  1 of 1 completed\n",
      "SHYAMMETL.NS 270 397 out of 500 stocks imported\n",
      "[*********************100%***********************]  1 of 1 completed\n",
      "SIEMENS.NS 270 398 out of 500 stocks imported\n",
      "[*********************100%***********************]  1 of 1 completed\n",
      "SOBHA.NS 270 399 out of 500 stocks imported\n",
      "[*********************100%***********************]  1 of 1 completed\n",
      "SOLARINDS.NS 270 400 out of 500 stocks imported\n",
      "[*********************100%***********************]  1 of 1 completed\n",
      "SONACOMS.NS 270 401 out of 500 stocks imported\n",
      "[*********************100%***********************]  1 of 1 completed\n",
      "SONATSOFTW.NS 270 402 out of 500 stocks imported\n",
      "[*********************100%***********************]  1 of 1 completed\n",
      "STARHEALTH.NS 270 403 out of 500 stocks imported\n",
      "[*********************100%***********************]  1 of 1 completed\n",
      "SBIN.NS 270 404 out of 500 stocks imported\n",
      "[*********************100%***********************]  1 of 1 completed\n",
      "SAIL.NS 270 405 out of 500 stocks imported\n",
      "[*********************100%***********************]  1 of 1 completed\n",
      "SWSOLAR.NS 270 406 out of 500 stocks imported\n",
      "[*********************100%***********************]  1 of 1 completed\n",
      "STLTECH.NS 270 407 out of 500 stocks imported\n",
      "[*********************100%***********************]  1 of 1 completed\n",
      "SUMICHEM.NS 270 408 out of 500 stocks imported\n",
      "[*********************100%***********************]  1 of 1 completed\n",
      "SPARC.NS 270 409 out of 500 stocks imported\n",
      "[*********************100%***********************]  1 of 1 completed\n",
      "SUNPHARMA.NS 270 410 out of 500 stocks imported\n",
      "[*********************100%***********************]  1 of 1 completed\n",
      "SUNTV.NS 270 411 out of 500 stocks imported\n",
      "[*********************100%***********************]  1 of 1 completed\n",
      "SUNDARMFIN.NS 270 412 out of 500 stocks imported\n",
      "[*********************100%***********************]  1 of 1 completed\n",
      "SUNDRMFAST.NS 270 413 out of 500 stocks imported\n",
      "[*********************100%***********************]  1 of 1 completed\n",
      "SUNTECK.NS 270 414 out of 500 stocks imported\n",
      "[*********************100%***********************]  1 of 1 completed\n",
      "SUPRAJIT.NS 270 415 out of 500 stocks imported\n"
     ]
    },
    {
     "name": "stdout",
     "output_type": "stream",
     "text": [
      "[*********************100%***********************]  1 of 1 completed\n",
      "SUPREMEIND.NS 270 416 out of 500 stocks imported\n",
      "[*********************100%***********************]  1 of 1 completed\n",
      "SUVENPHAR.NS 270 417 out of 500 stocks imported\n",
      "[*********************100%***********************]  1 of 1 completed\n",
      "SUZLON.NS 270 418 out of 500 stocks imported\n",
      "[*********************100%***********************]  1 of 1 completed\n",
      "SWANENERGY.NS 270 419 out of 500 stocks imported\n",
      "[*********************100%***********************]  1 of 1 completed\n",
      "SYNGENE.NS 270 420 out of 500 stocks imported\n",
      "[*********************100%***********************]  1 of 1 completed\n",
      "TCIEXP.NS 270 421 out of 500 stocks imported\n",
      "[*********************100%***********************]  1 of 1 completed\n",
      "TCNSBRANDS.NS 270 422 out of 500 stocks imported\n",
      "[*********************100%***********************]  1 of 1 completed\n",
      "TTKPRESTIG.NS 270 423 out of 500 stocks imported\n",
      "[*********************100%***********************]  1 of 1 completed\n",
      "TV18BRDCST.NS 270 424 out of 500 stocks imported\n",
      "[*********************100%***********************]  1 of 1 completed\n",
      "TVSMOTOR.NS 270 425 out of 500 stocks imported\n",
      "[*********************100%***********************]  1 of 1 completed\n",
      "skipping TMB.NS as it has only 148 values\n",
      "[*********************100%***********************]  1 of 1 completed\n",
      "TANLA.NS 270 426 out of 500 stocks imported\n",
      "[*********************100%***********************]  1 of 1 completed\n",
      "TATACHEM.NS 270 427 out of 500 stocks imported\n",
      "[*********************100%***********************]  1 of 1 completed\n",
      "TATACOMM.NS 270 428 out of 500 stocks imported\n",
      "[*********************100%***********************]  1 of 1 completed\n",
      "TCS.NS 270 429 out of 500 stocks imported\n",
      "[*********************100%***********************]  1 of 1 completed\n",
      "TATACONSUM.NS 270 430 out of 500 stocks imported\n",
      "[*********************100%***********************]  1 of 1 completed\n",
      "TATAELXSI.NS 270 431 out of 500 stocks imported\n",
      "[*********************100%***********************]  1 of 1 completed\n",
      "TATAINVEST.NS 270 432 out of 500 stocks imported\n",
      "[*********************100%***********************]  1 of 1 completed\n",
      "TATAMTRDVR.NS 270 433 out of 500 stocks imported\n",
      "[*********************100%***********************]  1 of 1 completed\n",
      "TATAMOTORS.NS 270 434 out of 500 stocks imported\n",
      "[*********************100%***********************]  1 of 1 completed\n",
      "TATAPOWER.NS 270 435 out of 500 stocks imported\n",
      "[*********************100%***********************]  1 of 1 completed\n",
      "TATASTEEL.NS 270 436 out of 500 stocks imported\n",
      "[*********************100%***********************]  1 of 1 completed\n",
      "TTML.NS 270 437 out of 500 stocks imported\n",
      "[*********************100%***********************]  1 of 1 completed\n",
      "TEAMLEASE.NS 270 438 out of 500 stocks imported\n",
      "[*********************100%***********************]  1 of 1 completed\n",
      "TECHM.NS 270 439 out of 500 stocks imported\n",
      "[*********************100%***********************]  1 of 1 completed\n",
      "TEJASNET.NS 270 440 out of 500 stocks imported\n",
      "[*********************100%***********************]  1 of 1 completed\n",
      "NIACL.NS 270 441 out of 500 stocks imported\n",
      "[*********************100%***********************]  1 of 1 completed\n",
      "RAMCOCEM.NS 270 442 out of 500 stocks imported\n",
      "[*********************100%***********************]  1 of 1 completed\n",
      "THERMAX.NS 270 443 out of 500 stocks imported\n",
      "[*********************100%***********************]  1 of 1 completed\n",
      "TIMKEN.NS 270 444 out of 500 stocks imported\n",
      "[*********************100%***********************]  1 of 1 completed\n",
      "TITAN.NS 270 445 out of 500 stocks imported\n",
      "[*********************100%***********************]  1 of 1 completed\n",
      "TORNTPHARM.NS 270 446 out of 500 stocks imported\n",
      "[*********************100%***********************]  1 of 1 completed\n",
      "TORNTPOWER.NS 270 447 out of 500 stocks imported\n",
      "[*********************100%***********************]  1 of 1 completed\n",
      "TCI.NS 270 448 out of 500 stocks imported\n",
      "[*********************100%***********************]  1 of 1 completed\n",
      "TRENT.NS 270 449 out of 500 stocks imported\n",
      "[*********************100%***********************]  1 of 1 completed\n",
      "TRIDENT.NS 270 450 out of 500 stocks imported\n",
      "[*********************100%***********************]  1 of 1 completed\n",
      "TRIVENI.NS 270 451 out of 500 stocks imported\n",
      "[*********************100%***********************]  1 of 1 completed\n",
      "TRITURBINE.NS 270 452 out of 500 stocks imported\n",
      "[*********************100%***********************]  1 of 1 completed\n",
      "TIINDIA.NS 270 453 out of 500 stocks imported\n",
      "[*********************100%***********************]  1 of 1 completed\n",
      "UCOBANK.NS 270 454 out of 500 stocks imported\n",
      "[*********************100%***********************]  1 of 1 completed\n",
      "UFLEX.NS 270 455 out of 500 stocks imported\n",
      "[*********************100%***********************]  1 of 1 completed\n",
      "UNOMINDA.NS 270 456 out of 500 stocks imported\n",
      "[*********************100%***********************]  1 of 1 completed\n",
      "UPL.NS 270 457 out of 500 stocks imported\n",
      "[*********************100%***********************]  1 of 1 completed\n",
      "UTIAMC.NS 270 458 out of 500 stocks imported\n",
      "[*********************100%***********************]  1 of 1 completed\n",
      "ULTRACEMCO.NS 270 459 out of 500 stocks imported\n",
      "[*********************100%***********************]  1 of 1 completed\n",
      "UNIONBANK.NS 270 460 out of 500 stocks imported\n",
      "[*********************100%***********************]  1 of 1 completed\n",
      "UBL.NS 270 461 out of 500 stocks imported\n",
      "[*********************100%***********************]  1 of 1 completed\n",
      "MCDOWELL-N.NS 270 462 out of 500 stocks imported\n",
      "[*********************100%***********************]  1 of 1 completed\n",
      "VGUARD.NS 270 463 out of 500 stocks imported\n",
      "[*********************100%***********************]  1 of 1 completed\n",
      "VMART.NS 270 464 out of 500 stocks imported\n",
      "[*********************100%***********************]  1 of 1 completed\n",
      "VIPIND.NS 270 465 out of 500 stocks imported\n",
      "[*********************100%***********************]  1 of 1 completed\n",
      "VAIBHAVGBL.NS 270 466 out of 500 stocks imported\n",
      "[*********************100%***********************]  1 of 1 completed\n",
      "VTL.NS 270 467 out of 500 stocks imported\n",
      "[*********************100%***********************]  1 of 1 completed\n",
      "VARROC.NS 270 468 out of 500 stocks imported\n",
      "[*********************100%***********************]  1 of 1 completed\n",
      "VBL.NS 270 469 out of 500 stocks imported\n",
      "[*********************100%***********************]  1 of 1 completed\n",
      "MANYAVAR.NS 270 470 out of 500 stocks imported\n",
      "[*********************100%***********************]  1 of 1 completed\n",
      "VEDL.NS 270 471 out of 500 stocks imported\n",
      "[*********************100%***********************]  1 of 1 completed\n",
      "VIJAYA.NS 270 472 out of 500 stocks imported\n",
      "[*********************100%***********************]  1 of 1 completed\n",
      "VINATIORGA.NS 270 473 out of 500 stocks imported\n",
      "[*********************100%***********************]  1 of 1 completed\n",
      "IDEA.NS 270 474 out of 500 stocks imported\n",
      "[*********************100%***********************]  1 of 1 completed\n",
      "VOLTAS.NS 270 475 out of 500 stocks imported\n",
      "[*********************100%***********************]  1 of 1 completed\n",
      "WELCORP.NS 270 476 out of 500 stocks imported\n",
      "[*********************100%***********************]  1 of 1 completed\n",
      "WELSPUNIND.NS 270 477 out of 500 stocks imported\n",
      "[*********************100%***********************]  1 of 1 completed\n",
      "WESTLIFE.NS 270 478 out of 500 stocks imported\n",
      "[*********************100%***********************]  1 of 1 completed\n",
      "WHIRLPOOL.NS 270 479 out of 500 stocks imported\n",
      "[*********************100%***********************]  1 of 1 completed\n",
      "WIPRO.NS 270 480 out of 500 stocks imported\n",
      "[*********************100%***********************]  1 of 1 completed\n",
      "YESBANK.NS 270 481 out of 500 stocks imported\n",
      "[*********************100%***********************]  1 of 1 completed\n",
      "ZFCVINDIA.NS 270 482 out of 500 stocks imported\n",
      "[*********************100%***********************]  1 of 1 completed\n",
      "ZEEL.NS 270 483 out of 500 stocks imported\n",
      "[*********************100%***********************]  1 of 1 completed\n",
      "ZENSARTECH.NS 270 484 out of 500 stocks imported\n",
      "[*********************100%***********************]  1 of 1 completed\n",
      "ZOMATO.NS 270 485 out of 500 stocks imported\n"
     ]
    },
    {
     "name": "stdout",
     "output_type": "stream",
     "text": [
      "[*********************100%***********************]  1 of 1 completed\n",
      "ZYDUSLIFE.NS 270 486 out of 500 stocks imported\n",
      "[*********************100%***********************]  1 of 1 completed\n",
      "ZYDUSWELL.NS 270 487 out of 500 stocks imported\n",
      "[*********************100%***********************]  1 of 1 completed\n",
      "ECLERX.NS 270 488 out of 500 stocks imported\n"
     ]
    }
   ],
   "source": [
    "import yfinance as yf\n",
    "import datetime\n",
    "\n",
    "# Define the list of NSE companies to fetch data for\n",
    "nse_companies1 = stocks[0] +'.NS'\n",
    "nse_companies=[]\n",
    "# Set the start and end dates\n",
    "end_date = datetime.date.today()\n",
    "start_date = end_date - datetime.timedelta(days=400)\n",
    "\n",
    "# Create an empty dictionary to store the data for each company\n",
    "data = {}\n",
    "data_check = {}\n",
    "\n",
    "# Loop through the list of companies and fetch their data\n",
    "set1 =1 \n",
    "for company in nse_companies1:\n",
    "    \n",
    "    data_check[company] = yf.download(company, start=start_date, end=end_date)\n",
    "    \n",
    "    data_check[company] = pd.DataFrame(data_check[company])\n",
    "    df_temp = data_check[company] \n",
    "    #df_temp = df_temp.iloc[0:175]\n",
    "    \n",
    "    if df_temp.shape[0]<250:\n",
    "        print('skipping',company,'as it has only',df_temp.shape[0],'values')\n",
    "        continue\n",
    "        \n",
    "    data[company] = df_temp\n",
    "    nse_companies.append(company)\n",
    "    #print(data[company])\n",
    "    #print(data[company].head())\n",
    "    \n",
    "    print(company,len(data[company]), set1,'out of 500 stocks imported')\n",
    "    set1 = set1 +1\n",
    "    "
   ]
  },
  {
   "cell_type": "code",
   "execution_count": 3,
   "id": "00ad5da2",
   "metadata": {
    "scrolled": true
   },
   "outputs": [
    {
     "data": {
      "text/html": [
       "<div>\n",
       "<style scoped>\n",
       "    .dataframe tbody tr th:only-of-type {\n",
       "        vertical-align: middle;\n",
       "    }\n",
       "\n",
       "    .dataframe tbody tr th {\n",
       "        vertical-align: top;\n",
       "    }\n",
       "\n",
       "    .dataframe thead th {\n",
       "        text-align: right;\n",
       "    }\n",
       "</style>\n",
       "<table border=\"1\" class=\"dataframe\">\n",
       "  <thead>\n",
       "    <tr style=\"text-align: right;\">\n",
       "      <th></th>\n",
       "      <th>Open</th>\n",
       "      <th>High</th>\n",
       "      <th>Low</th>\n",
       "      <th>Close</th>\n",
       "      <th>Adj Close</th>\n",
       "      <th>Volume</th>\n",
       "    </tr>\n",
       "    <tr>\n",
       "      <th>Date</th>\n",
       "      <th></th>\n",
       "      <th></th>\n",
       "      <th></th>\n",
       "      <th></th>\n",
       "      <th></th>\n",
       "      <th></th>\n",
       "    </tr>\n",
       "  </thead>\n",
       "  <tbody>\n",
       "    <tr>\n",
       "      <th>2022-03-21</th>\n",
       "      <td>2120.300049</td>\n",
       "      <td>2124.850098</td>\n",
       "      <td>2079.399902</td>\n",
       "      <td>2091.449951</td>\n",
       "      <td>2081.037109</td>\n",
       "      <td>208149</td>\n",
       "    </tr>\n",
       "    <tr>\n",
       "      <th>2022-03-22</th>\n",
       "      <td>2100.000000</td>\n",
       "      <td>2101.149902</td>\n",
       "      <td>2058.000000</td>\n",
       "      <td>2077.149902</td>\n",
       "      <td>2066.808350</td>\n",
       "      <td>96849</td>\n",
       "    </tr>\n",
       "    <tr>\n",
       "      <th>2022-03-23</th>\n",
       "      <td>2089.949951</td>\n",
       "      <td>2096.300049</td>\n",
       "      <td>2029.349976</td>\n",
       "      <td>2050.800049</td>\n",
       "      <td>2040.589600</td>\n",
       "      <td>512732</td>\n",
       "    </tr>\n",
       "    <tr>\n",
       "      <th>2022-03-24</th>\n",
       "      <td>1991.250000</td>\n",
       "      <td>2054.000000</td>\n",
       "      <td>1982.000000</td>\n",
       "      <td>2038.650024</td>\n",
       "      <td>2028.500122</td>\n",
       "      <td>251286</td>\n",
       "    </tr>\n",
       "    <tr>\n",
       "      <th>2022-03-25</th>\n",
       "      <td>2049.399902</td>\n",
       "      <td>2054.850098</td>\n",
       "      <td>1983.000000</td>\n",
       "      <td>1989.300049</td>\n",
       "      <td>1979.395752</td>\n",
       "      <td>100470</td>\n",
       "    </tr>\n",
       "    <tr>\n",
       "      <th>...</th>\n",
       "      <td>...</td>\n",
       "      <td>...</td>\n",
       "      <td>...</td>\n",
       "      <td>...</td>\n",
       "      <td>...</td>\n",
       "      <td>...</td>\n",
       "    </tr>\n",
       "    <tr>\n",
       "      <th>2023-04-17</th>\n",
       "      <td>3250.000000</td>\n",
       "      <td>3270.000000</td>\n",
       "      <td>3213.000000</td>\n",
       "      <td>3229.000000</td>\n",
       "      <td>3229.000000</td>\n",
       "      <td>286059</td>\n",
       "    </tr>\n",
       "    <tr>\n",
       "      <th>2023-04-18</th>\n",
       "      <td>3240.000000</td>\n",
       "      <td>3259.850098</td>\n",
       "      <td>3202.899902</td>\n",
       "      <td>3207.699951</td>\n",
       "      <td>3207.699951</td>\n",
       "      <td>277893</td>\n",
       "    </tr>\n",
       "    <tr>\n",
       "      <th>2023-04-19</th>\n",
       "      <td>3213.000000</td>\n",
       "      <td>3243.000000</td>\n",
       "      <td>3186.050049</td>\n",
       "      <td>3201.050049</td>\n",
       "      <td>3201.050049</td>\n",
       "      <td>266982</td>\n",
       "    </tr>\n",
       "    <tr>\n",
       "      <th>2023-04-20</th>\n",
       "      <td>3212.000000</td>\n",
       "      <td>3231.750000</td>\n",
       "      <td>3178.000000</td>\n",
       "      <td>3184.300049</td>\n",
       "      <td>3184.300049</td>\n",
       "      <td>276392</td>\n",
       "    </tr>\n",
       "    <tr>\n",
       "      <th>2023-04-21</th>\n",
       "      <td>3198.000000</td>\n",
       "      <td>3212.550049</td>\n",
       "      <td>3141.149902</td>\n",
       "      <td>3153.300049</td>\n",
       "      <td>3153.300049</td>\n",
       "      <td>267054</td>\n",
       "    </tr>\n",
       "  </tbody>\n",
       "</table>\n",
       "<p>270 rows × 6 columns</p>\n",
       "</div>"
      ],
      "text/plain": [
       "                   Open         High          Low        Close    Adj Close  \\\n",
       "Date                                                                          \n",
       "2022-03-21  2120.300049  2124.850098  2079.399902  2091.449951  2081.037109   \n",
       "2022-03-22  2100.000000  2101.149902  2058.000000  2077.149902  2066.808350   \n",
       "2022-03-23  2089.949951  2096.300049  2029.349976  2050.800049  2040.589600   \n",
       "2022-03-24  1991.250000  2054.000000  1982.000000  2038.650024  2028.500122   \n",
       "2022-03-25  2049.399902  2054.850098  1983.000000  1989.300049  1979.395752   \n",
       "...                 ...          ...          ...          ...          ...   \n",
       "2023-04-17  3250.000000  3270.000000  3213.000000  3229.000000  3229.000000   \n",
       "2023-04-18  3240.000000  3259.850098  3202.899902  3207.699951  3207.699951   \n",
       "2023-04-19  3213.000000  3243.000000  3186.050049  3201.050049  3201.050049   \n",
       "2023-04-20  3212.000000  3231.750000  3178.000000  3184.300049  3184.300049   \n",
       "2023-04-21  3198.000000  3212.550049  3141.149902  3153.300049  3153.300049   \n",
       "\n",
       "            Volume  \n",
       "Date                \n",
       "2022-03-21  208149  \n",
       "2022-03-22   96849  \n",
       "2022-03-23  512732  \n",
       "2022-03-24  251286  \n",
       "2022-03-25  100470  \n",
       "...            ...  \n",
       "2023-04-17  286059  \n",
       "2023-04-18  277893  \n",
       "2023-04-19  266982  \n",
       "2023-04-20  276392  \n",
       "2023-04-21  267054  \n",
       "\n",
       "[270 rows x 6 columns]"
      ]
     },
     "execution_count": 3,
     "metadata": {},
     "output_type": "execute_result"
    }
   ],
   "source": [
    "data['ABB.NS']"
   ]
  },
  {
   "cell_type": "code",
   "execution_count": 4,
   "id": "035cad6e",
   "metadata": {},
   "outputs": [],
   "source": [
    "from matplotlib import pyplot as plt\n",
    "import numpy as np\n",
    "%matplotlib inline"
   ]
  },
  {
   "cell_type": "code",
   "execution_count": 5,
   "id": "d4f5be96",
   "metadata": {
    "scrolled": true
   },
   "outputs": [
    {
     "name": "stdout",
     "output_type": "stream",
     "text": [
      "Completed 0 out of 488 steps\n",
      "the main data is of shape (270, 2)\n",
      "shape of current_data2 is (270, 59)\n",
      "shape of df4 is (210, 3541)\n",
      "Completed 1 out of 488 steps\n",
      "the main data is of shape (270, 2)\n",
      "shape of current_data2 is (270, 59)\n"
     ]
    },
    {
     "name": "stderr",
     "output_type": "stream",
     "text": [
      "C:\\Users\\abhij\\AppData\\Local\\Temp\\ipykernel_18656\\146205851.py:16: SettingWithCopyWarning: \n",
      "A value is trying to be set on a copy of a slice from a DataFrame.\n",
      "Try using .loc[row_indexer,col_indexer] = value instead\n",
      "\n",
      "See the caveats in the documentation: https://pandas.pydata.org/pandas-docs/stable/user_guide/indexing.html#returning-a-view-versus-a-copy\n",
      "  current_data['Date'] = current_data.index\n",
      "C:\\Users\\abhij\\AppData\\Local\\Temp\\ipykernel_18656\\146205851.py:16: SettingWithCopyWarning: \n",
      "A value is trying to be set on a copy of a slice from a DataFrame.\n",
      "Try using .loc[row_indexer,col_indexer] = value instead\n",
      "\n",
      "See the caveats in the documentation: https://pandas.pydata.org/pandas-docs/stable/user_guide/indexing.html#returning-a-view-versus-a-copy\n",
      "  current_data['Date'] = current_data.index\n"
     ]
    },
    {
     "name": "stdout",
     "output_type": "stream",
     "text": [
      "shape of df4 is (210, 3541)\n",
      "Completed 2 out of 488 steps\n",
      "the main data is of shape (270, 2)\n",
      "shape of current_data2 is (270, 59)\n",
      "shape of df4 is (210, 3541)\n",
      "Completed 3 out of 488 steps\n",
      "the main data is of shape (270, 2)\n"
     ]
    },
    {
     "name": "stderr",
     "output_type": "stream",
     "text": [
      "C:\\Users\\abhij\\AppData\\Local\\Temp\\ipykernel_18656\\146205851.py:16: SettingWithCopyWarning: \n",
      "A value is trying to be set on a copy of a slice from a DataFrame.\n",
      "Try using .loc[row_indexer,col_indexer] = value instead\n",
      "\n",
      "See the caveats in the documentation: https://pandas.pydata.org/pandas-docs/stable/user_guide/indexing.html#returning-a-view-versus-a-copy\n",
      "  current_data['Date'] = current_data.index\n",
      "C:\\Users\\abhij\\AppData\\Local\\Temp\\ipykernel_18656\\146205851.py:16: SettingWithCopyWarning: \n",
      "A value is trying to be set on a copy of a slice from a DataFrame.\n",
      "Try using .loc[row_indexer,col_indexer] = value instead\n",
      "\n",
      "See the caveats in the documentation: https://pandas.pydata.org/pandas-docs/stable/user_guide/indexing.html#returning-a-view-versus-a-copy\n",
      "  current_data['Date'] = current_data.index\n"
     ]
    },
    {
     "name": "stdout",
     "output_type": "stream",
     "text": [
      "shape of current_data2 is (270, 59)\n",
      "shape of df4 is (210, 3541)\n",
      "Completed 4 out of 488 steps\n",
      "the main data is of shape (270, 2)\n",
      "shape of current_data2 is (270, 59)\n"
     ]
    },
    {
     "name": "stderr",
     "output_type": "stream",
     "text": [
      "C:\\Users\\abhij\\AppData\\Local\\Temp\\ipykernel_18656\\146205851.py:16: SettingWithCopyWarning: \n",
      "A value is trying to be set on a copy of a slice from a DataFrame.\n",
      "Try using .loc[row_indexer,col_indexer] = value instead\n",
      "\n",
      "See the caveats in the documentation: https://pandas.pydata.org/pandas-docs/stable/user_guide/indexing.html#returning-a-view-versus-a-copy\n",
      "  current_data['Date'] = current_data.index\n",
      "C:\\Users\\abhij\\AppData\\Local\\Temp\\ipykernel_18656\\146205851.py:16: SettingWithCopyWarning: \n",
      "A value is trying to be set on a copy of a slice from a DataFrame.\n",
      "Try using .loc[row_indexer,col_indexer] = value instead\n",
      "\n",
      "See the caveats in the documentation: https://pandas.pydata.org/pandas-docs/stable/user_guide/indexing.html#returning-a-view-versus-a-copy\n",
      "  current_data['Date'] = current_data.index\n"
     ]
    },
    {
     "name": "stdout",
     "output_type": "stream",
     "text": [
      "shape of df4 is (210, 3541)\n",
      "Completed 5 out of 488 steps\n",
      "the main data is of shape (270, 2)\n",
      "shape of current_data2 is (270, 59)\n",
      "shape of df4 is (210, 3541)\n",
      "Completed 6 out of 488 steps\n",
      "the main data is of shape (270, 2)\n"
     ]
    },
    {
     "name": "stderr",
     "output_type": "stream",
     "text": [
      "C:\\Users\\abhij\\AppData\\Local\\Temp\\ipykernel_18656\\146205851.py:16: SettingWithCopyWarning: \n",
      "A value is trying to be set on a copy of a slice from a DataFrame.\n",
      "Try using .loc[row_indexer,col_indexer] = value instead\n",
      "\n",
      "See the caveats in the documentation: https://pandas.pydata.org/pandas-docs/stable/user_guide/indexing.html#returning-a-view-versus-a-copy\n",
      "  current_data['Date'] = current_data.index\n",
      "C:\\Users\\abhij\\AppData\\Local\\Temp\\ipykernel_18656\\146205851.py:16: SettingWithCopyWarning: \n",
      "A value is trying to be set on a copy of a slice from a DataFrame.\n",
      "Try using .loc[row_indexer,col_indexer] = value instead\n",
      "\n",
      "See the caveats in the documentation: https://pandas.pydata.org/pandas-docs/stable/user_guide/indexing.html#returning-a-view-versus-a-copy\n",
      "  current_data['Date'] = current_data.index\n"
     ]
    },
    {
     "name": "stdout",
     "output_type": "stream",
     "text": [
      "shape of current_data2 is (270, 59)\n",
      "shape of df4 is (210, 3541)\n",
      "Completed 7 out of 488 steps\n",
      "the main data is of shape (270, 2)\n",
      "shape of current_data2 is (270, 59)\n",
      "shape of df4 is (210, 3541)\n",
      "Completed 8 out of 488 steps\n",
      "the main data is of shape (270, 2)\n",
      "shape of current_data2 is (270, 59)\n",
      "shape of df4 is (210, 3541)\n",
      "Completed 9 out of 488 steps\n",
      "the main data is of shape (270, 2)\n"
     ]
    },
    {
     "name": "stderr",
     "output_type": "stream",
     "text": [
      "C:\\Users\\abhij\\AppData\\Local\\Temp\\ipykernel_18656\\146205851.py:16: SettingWithCopyWarning: \n",
      "A value is trying to be set on a copy of a slice from a DataFrame.\n",
      "Try using .loc[row_indexer,col_indexer] = value instead\n",
      "\n",
      "See the caveats in the documentation: https://pandas.pydata.org/pandas-docs/stable/user_guide/indexing.html#returning-a-view-versus-a-copy\n",
      "  current_data['Date'] = current_data.index\n",
      "C:\\Users\\abhij\\AppData\\Local\\Temp\\ipykernel_18656\\146205851.py:16: SettingWithCopyWarning: \n",
      "A value is trying to be set on a copy of a slice from a DataFrame.\n",
      "Try using .loc[row_indexer,col_indexer] = value instead\n",
      "\n",
      "See the caveats in the documentation: https://pandas.pydata.org/pandas-docs/stable/user_guide/indexing.html#returning-a-view-versus-a-copy\n",
      "  current_data['Date'] = current_data.index\n"
     ]
    },
    {
     "name": "stdout",
     "output_type": "stream",
     "text": [
      "shape of current_data2 is (270, 59)\n",
      "shape of df4 is (210, 3541)\n",
      "Completed 10 out of 488 steps\n",
      "the main data is of shape (270, 2)\n",
      "shape of current_data2 is (270, 59)\n"
     ]
    },
    {
     "name": "stderr",
     "output_type": "stream",
     "text": [
      "C:\\Users\\abhij\\AppData\\Local\\Temp\\ipykernel_18656\\146205851.py:16: SettingWithCopyWarning: \n",
      "A value is trying to be set on a copy of a slice from a DataFrame.\n",
      "Try using .loc[row_indexer,col_indexer] = value instead\n",
      "\n",
      "See the caveats in the documentation: https://pandas.pydata.org/pandas-docs/stable/user_guide/indexing.html#returning-a-view-versus-a-copy\n",
      "  current_data['Date'] = current_data.index\n",
      "C:\\Users\\abhij\\AppData\\Local\\Temp\\ipykernel_18656\\146205851.py:16: SettingWithCopyWarning: \n",
      "A value is trying to be set on a copy of a slice from a DataFrame.\n",
      "Try using .loc[row_indexer,col_indexer] = value instead\n",
      "\n",
      "See the caveats in the documentation: https://pandas.pydata.org/pandas-docs/stable/user_guide/indexing.html#returning-a-view-versus-a-copy\n",
      "  current_data['Date'] = current_data.index\n"
     ]
    },
    {
     "name": "stdout",
     "output_type": "stream",
     "text": [
      "shape of df4 is (210, 3541)\n",
      "Completed 11 out of 488 steps\n",
      "the main data is of shape (270, 2)\n",
      "shape of current_data2 is (270, 59)\n",
      "shape of df4 is (210, 3541)\n",
      "Completed 12 out of 488 steps\n",
      "the main data is of shape (270, 2)\n"
     ]
    },
    {
     "name": "stderr",
     "output_type": "stream",
     "text": [
      "C:\\Users\\abhij\\AppData\\Local\\Temp\\ipykernel_18656\\146205851.py:16: SettingWithCopyWarning: \n",
      "A value is trying to be set on a copy of a slice from a DataFrame.\n",
      "Try using .loc[row_indexer,col_indexer] = value instead\n",
      "\n",
      "See the caveats in the documentation: https://pandas.pydata.org/pandas-docs/stable/user_guide/indexing.html#returning-a-view-versus-a-copy\n",
      "  current_data['Date'] = current_data.index\n",
      "C:\\Users\\abhij\\AppData\\Local\\Temp\\ipykernel_18656\\146205851.py:16: SettingWithCopyWarning: \n",
      "A value is trying to be set on a copy of a slice from a DataFrame.\n",
      "Try using .loc[row_indexer,col_indexer] = value instead\n",
      "\n",
      "See the caveats in the documentation: https://pandas.pydata.org/pandas-docs/stable/user_guide/indexing.html#returning-a-view-versus-a-copy\n",
      "  current_data['Date'] = current_data.index\n"
     ]
    },
    {
     "name": "stdout",
     "output_type": "stream",
     "text": [
      "shape of current_data2 is (270, 59)\n",
      "shape of df4 is (210, 3541)\n",
      "Completed 13 out of 488 steps\n",
      "the main data is of shape (270, 2)\n",
      "shape of current_data2 is (270, 59)\n",
      "shape of df4 is (210, 3541)\n",
      "Completed 14 out of 488 steps\n",
      "the main data is of shape (270, 2)\n",
      "shape of current_data2 is (270, 59)\n",
      "shape of df4 is (210, 3541)\n",
      "Completed 15 out of 488 steps\n",
      "the main data is of shape (270, 2)\n"
     ]
    },
    {
     "name": "stderr",
     "output_type": "stream",
     "text": [
      "C:\\Users\\abhij\\AppData\\Local\\Temp\\ipykernel_18656\\146205851.py:16: SettingWithCopyWarning: \n",
      "A value is trying to be set on a copy of a slice from a DataFrame.\n",
      "Try using .loc[row_indexer,col_indexer] = value instead\n",
      "\n",
      "See the caveats in the documentation: https://pandas.pydata.org/pandas-docs/stable/user_guide/indexing.html#returning-a-view-versus-a-copy\n",
      "  current_data['Date'] = current_data.index\n",
      "C:\\Users\\abhij\\AppData\\Local\\Temp\\ipykernel_18656\\146205851.py:16: SettingWithCopyWarning: \n",
      "A value is trying to be set on a copy of a slice from a DataFrame.\n",
      "Try using .loc[row_indexer,col_indexer] = value instead\n",
      "\n",
      "See the caveats in the documentation: https://pandas.pydata.org/pandas-docs/stable/user_guide/indexing.html#returning-a-view-versus-a-copy\n",
      "  current_data['Date'] = current_data.index\n"
     ]
    },
    {
     "name": "stdout",
     "output_type": "stream",
     "text": [
      "shape of current_data2 is (270, 59)\n",
      "shape of df4 is (210, 3541)\n",
      "Completed 16 out of 488 steps\n",
      "the main data is of shape (270, 2)\n",
      "shape of current_data2 is (270, 59)\n"
     ]
    },
    {
     "name": "stderr",
     "output_type": "stream",
     "text": [
      "C:\\Users\\abhij\\AppData\\Local\\Temp\\ipykernel_18656\\146205851.py:16: SettingWithCopyWarning: \n",
      "A value is trying to be set on a copy of a slice from a DataFrame.\n",
      "Try using .loc[row_indexer,col_indexer] = value instead\n",
      "\n",
      "See the caveats in the documentation: https://pandas.pydata.org/pandas-docs/stable/user_guide/indexing.html#returning-a-view-versus-a-copy\n",
      "  current_data['Date'] = current_data.index\n",
      "C:\\Users\\abhij\\AppData\\Local\\Temp\\ipykernel_18656\\146205851.py:16: SettingWithCopyWarning: \n",
      "A value is trying to be set on a copy of a slice from a DataFrame.\n",
      "Try using .loc[row_indexer,col_indexer] = value instead\n",
      "\n",
      "See the caveats in the documentation: https://pandas.pydata.org/pandas-docs/stable/user_guide/indexing.html#returning-a-view-versus-a-copy\n",
      "  current_data['Date'] = current_data.index\n"
     ]
    },
    {
     "name": "stdout",
     "output_type": "stream",
     "text": [
      "shape of df4 is (210, 3541)\n",
      "Completed 17 out of 488 steps\n",
      "the main data is of shape (270, 2)\n",
      "shape of current_data2 is (270, 59)\n",
      "shape of df4 is (210, 3541)\n",
      "Completed 18 out of 488 steps\n",
      "the main data is of shape (270, 2)\n"
     ]
    },
    {
     "name": "stderr",
     "output_type": "stream",
     "text": [
      "C:\\Users\\abhij\\AppData\\Local\\Temp\\ipykernel_18656\\146205851.py:16: SettingWithCopyWarning: \n",
      "A value is trying to be set on a copy of a slice from a DataFrame.\n",
      "Try using .loc[row_indexer,col_indexer] = value instead\n",
      "\n",
      "See the caveats in the documentation: https://pandas.pydata.org/pandas-docs/stable/user_guide/indexing.html#returning-a-view-versus-a-copy\n",
      "  current_data['Date'] = current_data.index\n",
      "C:\\Users\\abhij\\AppData\\Local\\Temp\\ipykernel_18656\\146205851.py:16: SettingWithCopyWarning: \n",
      "A value is trying to be set on a copy of a slice from a DataFrame.\n",
      "Try using .loc[row_indexer,col_indexer] = value instead\n",
      "\n",
      "See the caveats in the documentation: https://pandas.pydata.org/pandas-docs/stable/user_guide/indexing.html#returning-a-view-versus-a-copy\n",
      "  current_data['Date'] = current_data.index\n"
     ]
    },
    {
     "name": "stdout",
     "output_type": "stream",
     "text": [
      "shape of current_data2 is (270, 59)\n",
      "shape of df4 is (210, 3541)\n",
      "Completed 19 out of 488 steps\n",
      "the main data is of shape (270, 2)\n",
      "shape of current_data2 is (270, 59)\n",
      "shape of df4 is (210, 3541)\n",
      "Completed 20 out of 488 steps\n",
      "the main data is of shape (270, 2)\n",
      "shape of current_data2 is (270, 59)\n",
      "shape of df4 is (210, 3541)\n",
      "Completed 21 out of 488 steps\n",
      "the main data is of shape (270, 2)\n"
     ]
    },
    {
     "name": "stderr",
     "output_type": "stream",
     "text": [
      "C:\\Users\\abhij\\AppData\\Local\\Temp\\ipykernel_18656\\146205851.py:16: SettingWithCopyWarning: \n",
      "A value is trying to be set on a copy of a slice from a DataFrame.\n",
      "Try using .loc[row_indexer,col_indexer] = value instead\n",
      "\n",
      "See the caveats in the documentation: https://pandas.pydata.org/pandas-docs/stable/user_guide/indexing.html#returning-a-view-versus-a-copy\n",
      "  current_data['Date'] = current_data.index\n",
      "C:\\Users\\abhij\\AppData\\Local\\Temp\\ipykernel_18656\\146205851.py:16: SettingWithCopyWarning: \n",
      "A value is trying to be set on a copy of a slice from a DataFrame.\n",
      "Try using .loc[row_indexer,col_indexer] = value instead\n",
      "\n",
      "See the caveats in the documentation: https://pandas.pydata.org/pandas-docs/stable/user_guide/indexing.html#returning-a-view-versus-a-copy\n",
      "  current_data['Date'] = current_data.index\n"
     ]
    },
    {
     "name": "stdout",
     "output_type": "stream",
     "text": [
      "shape of current_data2 is (270, 59)\n",
      "shape of df4 is (210, 3541)\n",
      "Completed 22 out of 488 steps\n",
      "the main data is of shape (270, 2)\n",
      "shape of current_data2 is (270, 59)\n"
     ]
    },
    {
     "name": "stderr",
     "output_type": "stream",
     "text": [
      "C:\\Users\\abhij\\AppData\\Local\\Temp\\ipykernel_18656\\146205851.py:16: SettingWithCopyWarning: \n",
      "A value is trying to be set on a copy of a slice from a DataFrame.\n",
      "Try using .loc[row_indexer,col_indexer] = value instead\n",
      "\n",
      "See the caveats in the documentation: https://pandas.pydata.org/pandas-docs/stable/user_guide/indexing.html#returning-a-view-versus-a-copy\n",
      "  current_data['Date'] = current_data.index\n",
      "C:\\Users\\abhij\\AppData\\Local\\Temp\\ipykernel_18656\\146205851.py:16: SettingWithCopyWarning: \n",
      "A value is trying to be set on a copy of a slice from a DataFrame.\n",
      "Try using .loc[row_indexer,col_indexer] = value instead\n",
      "\n",
      "See the caveats in the documentation: https://pandas.pydata.org/pandas-docs/stable/user_guide/indexing.html#returning-a-view-versus-a-copy\n",
      "  current_data['Date'] = current_data.index\n"
     ]
    },
    {
     "name": "stdout",
     "output_type": "stream",
     "text": [
      "shape of df4 is (210, 3541)\n",
      "Completed 23 out of 488 steps\n",
      "the main data is of shape (270, 2)\n",
      "shape of current_data2 is (270, 59)\n",
      "shape of df4 is (210, 3541)\n",
      "Completed 24 out of 488 steps\n",
      "the main data is of shape (270, 2)\n"
     ]
    },
    {
     "name": "stderr",
     "output_type": "stream",
     "text": [
      "C:\\Users\\abhij\\AppData\\Local\\Temp\\ipykernel_18656\\146205851.py:16: SettingWithCopyWarning: \n",
      "A value is trying to be set on a copy of a slice from a DataFrame.\n",
      "Try using .loc[row_indexer,col_indexer] = value instead\n",
      "\n",
      "See the caveats in the documentation: https://pandas.pydata.org/pandas-docs/stable/user_guide/indexing.html#returning-a-view-versus-a-copy\n",
      "  current_data['Date'] = current_data.index\n",
      "C:\\Users\\abhij\\AppData\\Local\\Temp\\ipykernel_18656\\146205851.py:16: SettingWithCopyWarning: \n",
      "A value is trying to be set on a copy of a slice from a DataFrame.\n",
      "Try using .loc[row_indexer,col_indexer] = value instead\n",
      "\n",
      "See the caveats in the documentation: https://pandas.pydata.org/pandas-docs/stable/user_guide/indexing.html#returning-a-view-versus-a-copy\n",
      "  current_data['Date'] = current_data.index\n"
     ]
    },
    {
     "name": "stdout",
     "output_type": "stream",
     "text": [
      "shape of current_data2 is (270, 59)\n",
      "shape of df4 is (210, 3541)\n",
      "Completed 25 out of 488 steps\n",
      "the main data is of shape (270, 2)\n",
      "shape of current_data2 is (270, 59)\n",
      "shape of df4 is (210, 3541)\n",
      "Completed 26 out of 488 steps\n",
      "the main data is of shape (270, 2)\n",
      "shape of current_data2 is (270, 59)\n",
      "shape of df4 is (210, 3541)\n",
      "Completed 27 out of 488 steps\n",
      "the main data is of shape (270, 2)\n"
     ]
    },
    {
     "name": "stderr",
     "output_type": "stream",
     "text": [
      "C:\\Users\\abhij\\AppData\\Local\\Temp\\ipykernel_18656\\146205851.py:16: SettingWithCopyWarning: \n",
      "A value is trying to be set on a copy of a slice from a DataFrame.\n",
      "Try using .loc[row_indexer,col_indexer] = value instead\n",
      "\n",
      "See the caveats in the documentation: https://pandas.pydata.org/pandas-docs/stable/user_guide/indexing.html#returning-a-view-versus-a-copy\n",
      "  current_data['Date'] = current_data.index\n",
      "C:\\Users\\abhij\\AppData\\Local\\Temp\\ipykernel_18656\\146205851.py:16: SettingWithCopyWarning: \n",
      "A value is trying to be set on a copy of a slice from a DataFrame.\n",
      "Try using .loc[row_indexer,col_indexer] = value instead\n",
      "\n",
      "See the caveats in the documentation: https://pandas.pydata.org/pandas-docs/stable/user_guide/indexing.html#returning-a-view-versus-a-copy\n",
      "  current_data['Date'] = current_data.index\n"
     ]
    },
    {
     "name": "stdout",
     "output_type": "stream",
     "text": [
      "shape of current_data2 is (270, 59)\n",
      "shape of df4 is (210, 3541)\n",
      "Completed 28 out of 488 steps\n",
      "the main data is of shape (270, 2)\n",
      "shape of current_data2 is (270, 59)\n"
     ]
    },
    {
     "name": "stderr",
     "output_type": "stream",
     "text": [
      "C:\\Users\\abhij\\AppData\\Local\\Temp\\ipykernel_18656\\146205851.py:16: SettingWithCopyWarning: \n",
      "A value is trying to be set on a copy of a slice from a DataFrame.\n",
      "Try using .loc[row_indexer,col_indexer] = value instead\n",
      "\n",
      "See the caveats in the documentation: https://pandas.pydata.org/pandas-docs/stable/user_guide/indexing.html#returning-a-view-versus-a-copy\n",
      "  current_data['Date'] = current_data.index\n",
      "C:\\Users\\abhij\\AppData\\Local\\Temp\\ipykernel_18656\\146205851.py:16: SettingWithCopyWarning: \n",
      "A value is trying to be set on a copy of a slice from a DataFrame.\n",
      "Try using .loc[row_indexer,col_indexer] = value instead\n",
      "\n",
      "See the caveats in the documentation: https://pandas.pydata.org/pandas-docs/stable/user_guide/indexing.html#returning-a-view-versus-a-copy\n",
      "  current_data['Date'] = current_data.index\n"
     ]
    },
    {
     "name": "stdout",
     "output_type": "stream",
     "text": [
      "shape of df4 is (210, 3541)\n",
      "Completed 29 out of 488 steps\n",
      "the main data is of shape (270, 2)\n",
      "shape of current_data2 is (270, 59)\n",
      "shape of df4 is (210, 3541)\n",
      "Completed 30 out of 488 steps\n",
      "the main data is of shape (270, 2)\n"
     ]
    },
    {
     "name": "stderr",
     "output_type": "stream",
     "text": [
      "C:\\Users\\abhij\\AppData\\Local\\Temp\\ipykernel_18656\\146205851.py:16: SettingWithCopyWarning: \n",
      "A value is trying to be set on a copy of a slice from a DataFrame.\n",
      "Try using .loc[row_indexer,col_indexer] = value instead\n",
      "\n",
      "See the caveats in the documentation: https://pandas.pydata.org/pandas-docs/stable/user_guide/indexing.html#returning-a-view-versus-a-copy\n",
      "  current_data['Date'] = current_data.index\n",
      "C:\\Users\\abhij\\AppData\\Local\\Temp\\ipykernel_18656\\146205851.py:16: SettingWithCopyWarning: \n",
      "A value is trying to be set on a copy of a slice from a DataFrame.\n",
      "Try using .loc[row_indexer,col_indexer] = value instead\n",
      "\n",
      "See the caveats in the documentation: https://pandas.pydata.org/pandas-docs/stable/user_guide/indexing.html#returning-a-view-versus-a-copy\n",
      "  current_data['Date'] = current_data.index\n"
     ]
    },
    {
     "name": "stdout",
     "output_type": "stream",
     "text": [
      "shape of current_data2 is (270, 59)\n",
      "shape of df4 is (210, 3541)\n",
      "Completed 31 out of 488 steps\n",
      "the main data is of shape (270, 2)\n",
      "shape of current_data2 is (270, 59)\n",
      "shape of df4 is (210, 3541)\n",
      "Completed 32 out of 488 steps\n",
      "the main data is of shape (270, 2)\n",
      "shape of current_data2 is (270, 59)\n",
      "shape of df4 is (210, 3541)\n"
     ]
    },
    {
     "name": "stderr",
     "output_type": "stream",
     "text": [
      "C:\\Users\\abhij\\AppData\\Local\\Temp\\ipykernel_18656\\146205851.py:16: SettingWithCopyWarning: \n",
      "A value is trying to be set on a copy of a slice from a DataFrame.\n",
      "Try using .loc[row_indexer,col_indexer] = value instead\n",
      "\n",
      "See the caveats in the documentation: https://pandas.pydata.org/pandas-docs/stable/user_guide/indexing.html#returning-a-view-versus-a-copy\n",
      "  current_data['Date'] = current_data.index\n",
      "C:\\Users\\abhij\\AppData\\Local\\Temp\\ipykernel_18656\\146205851.py:16: SettingWithCopyWarning: \n",
      "A value is trying to be set on a copy of a slice from a DataFrame.\n",
      "Try using .loc[row_indexer,col_indexer] = value instead\n",
      "\n",
      "See the caveats in the documentation: https://pandas.pydata.org/pandas-docs/stable/user_guide/indexing.html#returning-a-view-versus-a-copy\n",
      "  current_data['Date'] = current_data.index\n"
     ]
    },
    {
     "name": "stdout",
     "output_type": "stream",
     "text": [
      "Completed 33 out of 488 steps\n",
      "the main data is of shape (270, 2)\n",
      "shape of current_data2 is (270, 59)\n",
      "shape of df4 is (210, 3541)\n",
      "Completed 34 out of 488 steps\n",
      "the main data is of shape (270, 2)\n"
     ]
    },
    {
     "name": "stderr",
     "output_type": "stream",
     "text": [
      "C:\\Users\\abhij\\AppData\\Local\\Temp\\ipykernel_18656\\146205851.py:16: SettingWithCopyWarning: \n",
      "A value is trying to be set on a copy of a slice from a DataFrame.\n",
      "Try using .loc[row_indexer,col_indexer] = value instead\n",
      "\n",
      "See the caveats in the documentation: https://pandas.pydata.org/pandas-docs/stable/user_guide/indexing.html#returning-a-view-versus-a-copy\n",
      "  current_data['Date'] = current_data.index\n",
      "C:\\Users\\abhij\\AppData\\Local\\Temp\\ipykernel_18656\\146205851.py:16: SettingWithCopyWarning: \n",
      "A value is trying to be set on a copy of a slice from a DataFrame.\n",
      "Try using .loc[row_indexer,col_indexer] = value instead\n",
      "\n",
      "See the caveats in the documentation: https://pandas.pydata.org/pandas-docs/stable/user_guide/indexing.html#returning-a-view-versus-a-copy\n",
      "  current_data['Date'] = current_data.index\n"
     ]
    },
    {
     "name": "stdout",
     "output_type": "stream",
     "text": [
      "shape of current_data2 is (270, 59)\n",
      "shape of df4 is (210, 3541)\n",
      "Completed 35 out of 488 steps\n",
      "the main data is of shape (270, 2)\n",
      "shape of current_data2 is (270, 59)\n",
      "shape of df4 is (210, 3541)\n",
      "Completed 36 out of 488 steps\n",
      "the main data is of shape (270, 2)\n",
      "shape of current_data2 is (270, 59)\n",
      "shape of df4 is (210, 3541)\n"
     ]
    },
    {
     "name": "stderr",
     "output_type": "stream",
     "text": [
      "C:\\Users\\abhij\\AppData\\Local\\Temp\\ipykernel_18656\\146205851.py:16: SettingWithCopyWarning: \n",
      "A value is trying to be set on a copy of a slice from a DataFrame.\n",
      "Try using .loc[row_indexer,col_indexer] = value instead\n",
      "\n",
      "See the caveats in the documentation: https://pandas.pydata.org/pandas-docs/stable/user_guide/indexing.html#returning-a-view-versus-a-copy\n",
      "  current_data['Date'] = current_data.index\n",
      "C:\\Users\\abhij\\AppData\\Local\\Temp\\ipykernel_18656\\146205851.py:16: SettingWithCopyWarning: \n",
      "A value is trying to be set on a copy of a slice from a DataFrame.\n",
      "Try using .loc[row_indexer,col_indexer] = value instead\n",
      "\n",
      "See the caveats in the documentation: https://pandas.pydata.org/pandas-docs/stable/user_guide/indexing.html#returning-a-view-versus-a-copy\n",
      "  current_data['Date'] = current_data.index\n"
     ]
    },
    {
     "name": "stdout",
     "output_type": "stream",
     "text": [
      "Completed 37 out of 488 steps\n",
      "the main data is of shape (270, 2)\n",
      "shape of current_data2 is (270, 59)\n",
      "shape of df4 is (210, 3541)\n",
      "Completed 38 out of 488 steps\n",
      "the main data is of shape (270, 2)\n",
      "shape of current_data2 is (270, 59)\n",
      "shape of df4 is (210, 3541)\n",
      "Completed 39 out of 488 steps\n",
      "the main data is of shape (270, 2)\n",
      "shape of current_data2 is (270, 59)\n"
     ]
    },
    {
     "name": "stderr",
     "output_type": "stream",
     "text": [
      "C:\\Users\\abhij\\AppData\\Local\\Temp\\ipykernel_18656\\146205851.py:16: SettingWithCopyWarning: \n",
      "A value is trying to be set on a copy of a slice from a DataFrame.\n",
      "Try using .loc[row_indexer,col_indexer] = value instead\n",
      "\n",
      "See the caveats in the documentation: https://pandas.pydata.org/pandas-docs/stable/user_guide/indexing.html#returning-a-view-versus-a-copy\n",
      "  current_data['Date'] = current_data.index\n",
      "C:\\Users\\abhij\\AppData\\Local\\Temp\\ipykernel_18656\\146205851.py:16: SettingWithCopyWarning: \n",
      "A value is trying to be set on a copy of a slice from a DataFrame.\n",
      "Try using .loc[row_indexer,col_indexer] = value instead\n",
      "\n",
      "See the caveats in the documentation: https://pandas.pydata.org/pandas-docs/stable/user_guide/indexing.html#returning-a-view-versus-a-copy\n",
      "  current_data['Date'] = current_data.index\n"
     ]
    },
    {
     "name": "stdout",
     "output_type": "stream",
     "text": [
      "shape of df4 is (210, 3541)\n",
      "Completed 40 out of 488 steps\n",
      "the main data is of shape (270, 2)\n",
      "shape of current_data2 is (270, 59)\n",
      "shape of df4 is (210, 3541)\n",
      "Completed 41 out of 488 steps\n",
      "the main data is of shape (270, 2)\n"
     ]
    },
    {
     "name": "stderr",
     "output_type": "stream",
     "text": [
      "C:\\Users\\abhij\\AppData\\Local\\Temp\\ipykernel_18656\\146205851.py:16: SettingWithCopyWarning: \n",
      "A value is trying to be set on a copy of a slice from a DataFrame.\n",
      "Try using .loc[row_indexer,col_indexer] = value instead\n",
      "\n",
      "See the caveats in the documentation: https://pandas.pydata.org/pandas-docs/stable/user_guide/indexing.html#returning-a-view-versus-a-copy\n",
      "  current_data['Date'] = current_data.index\n",
      "C:\\Users\\abhij\\AppData\\Local\\Temp\\ipykernel_18656\\146205851.py:16: SettingWithCopyWarning: \n",
      "A value is trying to be set on a copy of a slice from a DataFrame.\n",
      "Try using .loc[row_indexer,col_indexer] = value instead\n",
      "\n",
      "See the caveats in the documentation: https://pandas.pydata.org/pandas-docs/stable/user_guide/indexing.html#returning-a-view-versus-a-copy\n",
      "  current_data['Date'] = current_data.index\n"
     ]
    },
    {
     "name": "stdout",
     "output_type": "stream",
     "text": [
      "shape of current_data2 is (270, 59)\n",
      "shape of df4 is (210, 3541)\n",
      "Completed 42 out of 488 steps\n",
      "the main data is of shape (270, 2)\n",
      "shape of current_data2 is (270, 59)\n"
     ]
    },
    {
     "name": "stderr",
     "output_type": "stream",
     "text": [
      "C:\\Users\\abhij\\AppData\\Local\\Temp\\ipykernel_18656\\146205851.py:16: SettingWithCopyWarning: \n",
      "A value is trying to be set on a copy of a slice from a DataFrame.\n",
      "Try using .loc[row_indexer,col_indexer] = value instead\n",
      "\n",
      "See the caveats in the documentation: https://pandas.pydata.org/pandas-docs/stable/user_guide/indexing.html#returning-a-view-versus-a-copy\n",
      "  current_data['Date'] = current_data.index\n",
      "C:\\Users\\abhij\\AppData\\Local\\Temp\\ipykernel_18656\\146205851.py:16: SettingWithCopyWarning: \n",
      "A value is trying to be set on a copy of a slice from a DataFrame.\n",
      "Try using .loc[row_indexer,col_indexer] = value instead\n",
      "\n",
      "See the caveats in the documentation: https://pandas.pydata.org/pandas-docs/stable/user_guide/indexing.html#returning-a-view-versus-a-copy\n",
      "  current_data['Date'] = current_data.index\n"
     ]
    },
    {
     "name": "stdout",
     "output_type": "stream",
     "text": [
      "shape of df4 is (210, 3541)\n",
      "Completed 43 out of 488 steps\n",
      "the main data is of shape (270, 2)\n",
      "shape of current_data2 is (270, 59)\n",
      "shape of df4 is (210, 3541)\n",
      "Completed 44 out of 488 steps\n",
      "the main data is of shape (270, 2)\n",
      "shape of current_data2 is (270, 59)\n",
      "shape of df4 is (210, 3541)\n",
      "Completed 45 out of 488 steps\n",
      "the main data is of shape (270, 2)\n"
     ]
    },
    {
     "name": "stderr",
     "output_type": "stream",
     "text": [
      "C:\\Users\\abhij\\AppData\\Local\\Temp\\ipykernel_18656\\146205851.py:16: SettingWithCopyWarning: \n",
      "A value is trying to be set on a copy of a slice from a DataFrame.\n",
      "Try using .loc[row_indexer,col_indexer] = value instead\n",
      "\n",
      "See the caveats in the documentation: https://pandas.pydata.org/pandas-docs/stable/user_guide/indexing.html#returning-a-view-versus-a-copy\n",
      "  current_data['Date'] = current_data.index\n",
      "C:\\Users\\abhij\\AppData\\Local\\Temp\\ipykernel_18656\\146205851.py:16: SettingWithCopyWarning: \n",
      "A value is trying to be set on a copy of a slice from a DataFrame.\n",
      "Try using .loc[row_indexer,col_indexer] = value instead\n",
      "\n",
      "See the caveats in the documentation: https://pandas.pydata.org/pandas-docs/stable/user_guide/indexing.html#returning-a-view-versus-a-copy\n",
      "  current_data['Date'] = current_data.index\n"
     ]
    },
    {
     "name": "stdout",
     "output_type": "stream",
     "text": [
      "shape of current_data2 is (270, 59)\n",
      "shape of df4 is (210, 3541)\n",
      "Completed 46 out of 488 steps\n",
      "the main data is of shape (270, 2)\n"
     ]
    },
    {
     "name": "stderr",
     "output_type": "stream",
     "text": [
      "C:\\Users\\abhij\\AppData\\Local\\Temp\\ipykernel_18656\\146205851.py:16: SettingWithCopyWarning: \n",
      "A value is trying to be set on a copy of a slice from a DataFrame.\n",
      "Try using .loc[row_indexer,col_indexer] = value instead\n",
      "\n",
      "See the caveats in the documentation: https://pandas.pydata.org/pandas-docs/stable/user_guide/indexing.html#returning-a-view-versus-a-copy\n",
      "  current_data['Date'] = current_data.index\n",
      "C:\\Users\\abhij\\AppData\\Local\\Temp\\ipykernel_18656\\146205851.py:16: SettingWithCopyWarning: \n",
      "A value is trying to be set on a copy of a slice from a DataFrame.\n",
      "Try using .loc[row_indexer,col_indexer] = value instead\n",
      "\n",
      "See the caveats in the documentation: https://pandas.pydata.org/pandas-docs/stable/user_guide/indexing.html#returning-a-view-versus-a-copy\n",
      "  current_data['Date'] = current_data.index\n"
     ]
    },
    {
     "name": "stdout",
     "output_type": "stream",
     "text": [
      "shape of current_data2 is (270, 59)\n",
      "shape of df4 is (210, 3541)\n",
      "Completed 47 out of 488 steps\n",
      "the main data is of shape (270, 2)\n",
      "shape of current_data2 is (270, 59)\n",
      "shape of df4 is (210, 3541)\n",
      "Completed 48 out of 488 steps\n",
      "the main data is of shape (270, 2)\n",
      "shape of current_data2 is (270, 59)\n",
      "shape of df4 is (210, 3541)\n"
     ]
    },
    {
     "name": "stderr",
     "output_type": "stream",
     "text": [
      "C:\\Users\\abhij\\AppData\\Local\\Temp\\ipykernel_18656\\146205851.py:16: SettingWithCopyWarning: \n",
      "A value is trying to be set on a copy of a slice from a DataFrame.\n",
      "Try using .loc[row_indexer,col_indexer] = value instead\n",
      "\n",
      "See the caveats in the documentation: https://pandas.pydata.org/pandas-docs/stable/user_guide/indexing.html#returning-a-view-versus-a-copy\n",
      "  current_data['Date'] = current_data.index\n",
      "C:\\Users\\abhij\\AppData\\Local\\Temp\\ipykernel_18656\\146205851.py:16: SettingWithCopyWarning: \n",
      "A value is trying to be set on a copy of a slice from a DataFrame.\n",
      "Try using .loc[row_indexer,col_indexer] = value instead\n",
      "\n",
      "See the caveats in the documentation: https://pandas.pydata.org/pandas-docs/stable/user_guide/indexing.html#returning-a-view-versus-a-copy\n",
      "  current_data['Date'] = current_data.index\n"
     ]
    },
    {
     "name": "stdout",
     "output_type": "stream",
     "text": [
      "Completed 49 out of 488 steps\n",
      "the main data is of shape (270, 2)\n",
      "shape of current_data2 is (270, 59)\n",
      "shape of df4 is (210, 3541)\n",
      "Completed 50 out of 488 steps\n",
      "the main data is of shape (270, 2)\n"
     ]
    },
    {
     "name": "stderr",
     "output_type": "stream",
     "text": [
      "C:\\Users\\abhij\\AppData\\Local\\Temp\\ipykernel_18656\\146205851.py:16: SettingWithCopyWarning: \n",
      "A value is trying to be set on a copy of a slice from a DataFrame.\n",
      "Try using .loc[row_indexer,col_indexer] = value instead\n",
      "\n",
      "See the caveats in the documentation: https://pandas.pydata.org/pandas-docs/stable/user_guide/indexing.html#returning-a-view-versus-a-copy\n",
      "  current_data['Date'] = current_data.index\n",
      "C:\\Users\\abhij\\AppData\\Local\\Temp\\ipykernel_18656\\146205851.py:16: SettingWithCopyWarning: \n",
      "A value is trying to be set on a copy of a slice from a DataFrame.\n",
      "Try using .loc[row_indexer,col_indexer] = value instead\n",
      "\n",
      "See the caveats in the documentation: https://pandas.pydata.org/pandas-docs/stable/user_guide/indexing.html#returning-a-view-versus-a-copy\n",
      "  current_data['Date'] = current_data.index\n"
     ]
    },
    {
     "name": "stdout",
     "output_type": "stream",
     "text": [
      "shape of current_data2 is (270, 59)\n",
      "shape of df4 is (210, 3541)\n",
      "Completed 51 out of 488 steps\n",
      "the main data is of shape (270, 2)\n",
      "shape of current_data2 is (270, 59)\n",
      "shape of df4 is (210, 3541)\n",
      "Completed 52 out of 488 steps\n",
      "the main data is of shape (270, 2)\n",
      "shape of current_data2 is (270, 59)\n",
      "shape of df4 is (210, 3541)\n"
     ]
    },
    {
     "name": "stderr",
     "output_type": "stream",
     "text": [
      "C:\\Users\\abhij\\AppData\\Local\\Temp\\ipykernel_18656\\146205851.py:16: SettingWithCopyWarning: \n",
      "A value is trying to be set on a copy of a slice from a DataFrame.\n",
      "Try using .loc[row_indexer,col_indexer] = value instead\n",
      "\n",
      "See the caveats in the documentation: https://pandas.pydata.org/pandas-docs/stable/user_guide/indexing.html#returning-a-view-versus-a-copy\n",
      "  current_data['Date'] = current_data.index\n",
      "C:\\Users\\abhij\\AppData\\Local\\Temp\\ipykernel_18656\\146205851.py:16: SettingWithCopyWarning: \n",
      "A value is trying to be set on a copy of a slice from a DataFrame.\n",
      "Try using .loc[row_indexer,col_indexer] = value instead\n",
      "\n",
      "See the caveats in the documentation: https://pandas.pydata.org/pandas-docs/stable/user_guide/indexing.html#returning-a-view-versus-a-copy\n",
      "  current_data['Date'] = current_data.index\n"
     ]
    },
    {
     "name": "stdout",
     "output_type": "stream",
     "text": [
      "Completed 53 out of 488 steps\n",
      "the main data is of shape (270, 2)\n",
      "shape of current_data2 is (270, 59)\n",
      "shape of df4 is (210, 3541)\n",
      "Completed 54 out of 488 steps\n",
      "the main data is of shape (270, 2)\n"
     ]
    },
    {
     "name": "stderr",
     "output_type": "stream",
     "text": [
      "C:\\Users\\abhij\\AppData\\Local\\Temp\\ipykernel_18656\\146205851.py:16: SettingWithCopyWarning: \n",
      "A value is trying to be set on a copy of a slice from a DataFrame.\n",
      "Try using .loc[row_indexer,col_indexer] = value instead\n",
      "\n",
      "See the caveats in the documentation: https://pandas.pydata.org/pandas-docs/stable/user_guide/indexing.html#returning-a-view-versus-a-copy\n",
      "  current_data['Date'] = current_data.index\n",
      "C:\\Users\\abhij\\AppData\\Local\\Temp\\ipykernel_18656\\146205851.py:16: SettingWithCopyWarning: \n",
      "A value is trying to be set on a copy of a slice from a DataFrame.\n",
      "Try using .loc[row_indexer,col_indexer] = value instead\n",
      "\n",
      "See the caveats in the documentation: https://pandas.pydata.org/pandas-docs/stable/user_guide/indexing.html#returning-a-view-versus-a-copy\n",
      "  current_data['Date'] = current_data.index\n"
     ]
    },
    {
     "name": "stdout",
     "output_type": "stream",
     "text": [
      "shape of current_data2 is (270, 59)\n",
      "shape of df4 is (210, 3541)\n",
      "Completed 55 out of 488 steps\n",
      "the main data is of shape (270, 2)\n",
      "shape of current_data2 is (270, 59)\n",
      "shape of df4 is (210, 3541)\n",
      "Completed 56 out of 488 steps\n",
      "the main data is of shape (270, 2)\n",
      "shape of current_data2 is (270, 59)\n",
      "shape of df4 is (210, 3541)\n"
     ]
    },
    {
     "name": "stderr",
     "output_type": "stream",
     "text": [
      "C:\\Users\\abhij\\AppData\\Local\\Temp\\ipykernel_18656\\146205851.py:16: SettingWithCopyWarning: \n",
      "A value is trying to be set on a copy of a slice from a DataFrame.\n",
      "Try using .loc[row_indexer,col_indexer] = value instead\n",
      "\n",
      "See the caveats in the documentation: https://pandas.pydata.org/pandas-docs/stable/user_guide/indexing.html#returning-a-view-versus-a-copy\n",
      "  current_data['Date'] = current_data.index\n",
      "C:\\Users\\abhij\\AppData\\Local\\Temp\\ipykernel_18656\\146205851.py:16: SettingWithCopyWarning: \n",
      "A value is trying to be set on a copy of a slice from a DataFrame.\n",
      "Try using .loc[row_indexer,col_indexer] = value instead\n",
      "\n",
      "See the caveats in the documentation: https://pandas.pydata.org/pandas-docs/stable/user_guide/indexing.html#returning-a-view-versus-a-copy\n",
      "  current_data['Date'] = current_data.index\n"
     ]
    },
    {
     "name": "stdout",
     "output_type": "stream",
     "text": [
      "Completed 57 out of 488 steps\n",
      "the main data is of shape (270, 2)\n",
      "shape of current_data2 is (270, 59)\n",
      "shape of df4 is (210, 3541)\n",
      "Completed 58 out of 488 steps\n",
      "the main data is of shape (270, 2)\n",
      "shape of current_data2 is (270, 59)\n"
     ]
    },
    {
     "name": "stderr",
     "output_type": "stream",
     "text": [
      "C:\\Users\\abhij\\AppData\\Local\\Temp\\ipykernel_18656\\146205851.py:16: SettingWithCopyWarning: \n",
      "A value is trying to be set on a copy of a slice from a DataFrame.\n",
      "Try using .loc[row_indexer,col_indexer] = value instead\n",
      "\n",
      "See the caveats in the documentation: https://pandas.pydata.org/pandas-docs/stable/user_guide/indexing.html#returning-a-view-versus-a-copy\n",
      "  current_data['Date'] = current_data.index\n",
      "C:\\Users\\abhij\\AppData\\Local\\Temp\\ipykernel_18656\\146205851.py:16: SettingWithCopyWarning: \n",
      "A value is trying to be set on a copy of a slice from a DataFrame.\n",
      "Try using .loc[row_indexer,col_indexer] = value instead\n",
      "\n",
      "See the caveats in the documentation: https://pandas.pydata.org/pandas-docs/stable/user_guide/indexing.html#returning-a-view-versus-a-copy\n",
      "  current_data['Date'] = current_data.index\n"
     ]
    },
    {
     "name": "stdout",
     "output_type": "stream",
     "text": [
      "shape of df4 is (210, 3541)\n",
      "Completed 59 out of 488 steps\n",
      "the main data is of shape (270, 2)\n",
      "shape of current_data2 is (270, 59)\n",
      "shape of df4 is (210, 3541)\n",
      "Completed 60 out of 488 steps\n",
      "the main data is of shape (270, 2)\n",
      "shape of current_data2 is (270, 59)\n",
      "shape of df4 is (210, 3541)\n",
      "Completed 61 out of 488 steps\n",
      "the main data is of shape (270, 2)\n",
      "shape of current_data2 is (270, 59)\n"
     ]
    },
    {
     "name": "stderr",
     "output_type": "stream",
     "text": [
      "C:\\Users\\abhij\\AppData\\Local\\Temp\\ipykernel_18656\\146205851.py:16: SettingWithCopyWarning: \n",
      "A value is trying to be set on a copy of a slice from a DataFrame.\n",
      "Try using .loc[row_indexer,col_indexer] = value instead\n",
      "\n",
      "See the caveats in the documentation: https://pandas.pydata.org/pandas-docs/stable/user_guide/indexing.html#returning-a-view-versus-a-copy\n",
      "  current_data['Date'] = current_data.index\n",
      "C:\\Users\\abhij\\AppData\\Local\\Temp\\ipykernel_18656\\146205851.py:16: SettingWithCopyWarning: \n",
      "A value is trying to be set on a copy of a slice from a DataFrame.\n",
      "Try using .loc[row_indexer,col_indexer] = value instead\n",
      "\n",
      "See the caveats in the documentation: https://pandas.pydata.org/pandas-docs/stable/user_guide/indexing.html#returning-a-view-versus-a-copy\n",
      "  current_data['Date'] = current_data.index\n"
     ]
    },
    {
     "name": "stdout",
     "output_type": "stream",
     "text": [
      "shape of df4 is (210, 3541)\n",
      "Completed 62 out of 488 steps\n",
      "the main data is of shape (270, 2)\n",
      "shape of current_data2 is (270, 59)\n"
     ]
    },
    {
     "name": "stderr",
     "output_type": "stream",
     "text": [
      "C:\\Users\\abhij\\AppData\\Local\\Temp\\ipykernel_18656\\146205851.py:16: SettingWithCopyWarning: \n",
      "A value is trying to be set on a copy of a slice from a DataFrame.\n",
      "Try using .loc[row_indexer,col_indexer] = value instead\n",
      "\n",
      "See the caveats in the documentation: https://pandas.pydata.org/pandas-docs/stable/user_guide/indexing.html#returning-a-view-versus-a-copy\n",
      "  current_data['Date'] = current_data.index\n",
      "C:\\Users\\abhij\\AppData\\Local\\Temp\\ipykernel_18656\\146205851.py:16: SettingWithCopyWarning: \n",
      "A value is trying to be set on a copy of a slice from a DataFrame.\n",
      "Try using .loc[row_indexer,col_indexer] = value instead\n",
      "\n",
      "See the caveats in the documentation: https://pandas.pydata.org/pandas-docs/stable/user_guide/indexing.html#returning-a-view-versus-a-copy\n",
      "  current_data['Date'] = current_data.index\n"
     ]
    },
    {
     "name": "stdout",
     "output_type": "stream",
     "text": [
      "shape of df4 is (210, 3541)\n",
      "Completed 63 out of 488 steps\n",
      "the main data is of shape (270, 2)\n",
      "shape of current_data2 is (270, 59)\n",
      "shape of df4 is (210, 3541)\n",
      "Completed 64 out of 488 steps\n",
      "the main data is of shape (270, 2)\n",
      "shape of current_data2 is (270, 59)\n",
      "shape of df4 is (210, 3541)\n",
      "Completed 65 out of 488 steps\n",
      "the main data is of shape (270, 2)\n",
      "shape of current_data2 is (270, 59)\n"
     ]
    },
    {
     "name": "stderr",
     "output_type": "stream",
     "text": [
      "C:\\Users\\abhij\\AppData\\Local\\Temp\\ipykernel_18656\\146205851.py:16: SettingWithCopyWarning: \n",
      "A value is trying to be set on a copy of a slice from a DataFrame.\n",
      "Try using .loc[row_indexer,col_indexer] = value instead\n",
      "\n",
      "See the caveats in the documentation: https://pandas.pydata.org/pandas-docs/stable/user_guide/indexing.html#returning-a-view-versus-a-copy\n",
      "  current_data['Date'] = current_data.index\n",
      "C:\\Users\\abhij\\AppData\\Local\\Temp\\ipykernel_18656\\146205851.py:16: SettingWithCopyWarning: \n",
      "A value is trying to be set on a copy of a slice from a DataFrame.\n",
      "Try using .loc[row_indexer,col_indexer] = value instead\n",
      "\n",
      "See the caveats in the documentation: https://pandas.pydata.org/pandas-docs/stable/user_guide/indexing.html#returning-a-view-versus-a-copy\n",
      "  current_data['Date'] = current_data.index\n"
     ]
    },
    {
     "name": "stdout",
     "output_type": "stream",
     "text": [
      "shape of df4 is (210, 3541)\n",
      "Completed 66 out of 488 steps\n",
      "the main data is of shape (270, 2)\n",
      "shape of current_data2 is (270, 59)\n",
      "shape of df4 is (210, 3541)\n"
     ]
    },
    {
     "name": "stderr",
     "output_type": "stream",
     "text": [
      "C:\\Users\\abhij\\AppData\\Local\\Temp\\ipykernel_18656\\146205851.py:16: SettingWithCopyWarning: \n",
      "A value is trying to be set on a copy of a slice from a DataFrame.\n",
      "Try using .loc[row_indexer,col_indexer] = value instead\n",
      "\n",
      "See the caveats in the documentation: https://pandas.pydata.org/pandas-docs/stable/user_guide/indexing.html#returning-a-view-versus-a-copy\n",
      "  current_data['Date'] = current_data.index\n",
      "C:\\Users\\abhij\\AppData\\Local\\Temp\\ipykernel_18656\\146205851.py:16: SettingWithCopyWarning: \n",
      "A value is trying to be set on a copy of a slice from a DataFrame.\n",
      "Try using .loc[row_indexer,col_indexer] = value instead\n",
      "\n",
      "See the caveats in the documentation: https://pandas.pydata.org/pandas-docs/stable/user_guide/indexing.html#returning-a-view-versus-a-copy\n",
      "  current_data['Date'] = current_data.index\n"
     ]
    },
    {
     "name": "stdout",
     "output_type": "stream",
     "text": [
      "Completed 67 out of 488 steps\n",
      "the main data is of shape (270, 2)\n",
      "shape of current_data2 is (270, 59)\n",
      "shape of df4 is (210, 3541)\n",
      "Completed 68 out of 488 steps\n",
      "the main data is of shape (270, 2)\n"
     ]
    },
    {
     "name": "stderr",
     "output_type": "stream",
     "text": [
      "C:\\Users\\abhij\\AppData\\Local\\Temp\\ipykernel_18656\\146205851.py:16: SettingWithCopyWarning: \n",
      "A value is trying to be set on a copy of a slice from a DataFrame.\n",
      "Try using .loc[row_indexer,col_indexer] = value instead\n",
      "\n",
      "See the caveats in the documentation: https://pandas.pydata.org/pandas-docs/stable/user_guide/indexing.html#returning-a-view-versus-a-copy\n",
      "  current_data['Date'] = current_data.index\n",
      "C:\\Users\\abhij\\AppData\\Local\\Temp\\ipykernel_18656\\146205851.py:16: SettingWithCopyWarning: \n",
      "A value is trying to be set on a copy of a slice from a DataFrame.\n",
      "Try using .loc[row_indexer,col_indexer] = value instead\n",
      "\n",
      "See the caveats in the documentation: https://pandas.pydata.org/pandas-docs/stable/user_guide/indexing.html#returning-a-view-versus-a-copy\n",
      "  current_data['Date'] = current_data.index\n"
     ]
    },
    {
     "name": "stdout",
     "output_type": "stream",
     "text": [
      "shape of current_data2 is (270, 59)\n",
      "shape of df4 is (210, 3541)\n",
      "Completed 69 out of 488 steps\n",
      "the main data is of shape (270, 2)\n",
      "shape of current_data2 is (270, 59)\n",
      "shape of df4 is (210, 3541)\n",
      "Completed 70 out of 488 steps\n",
      "the main data is of shape (270, 2)\n",
      "shape of current_data2 is (270, 59)\n",
      "shape of df4 is (210, 3541)\n"
     ]
    },
    {
     "name": "stderr",
     "output_type": "stream",
     "text": [
      "C:\\Users\\abhij\\AppData\\Local\\Temp\\ipykernel_18656\\146205851.py:16: SettingWithCopyWarning: \n",
      "A value is trying to be set on a copy of a slice from a DataFrame.\n",
      "Try using .loc[row_indexer,col_indexer] = value instead\n",
      "\n",
      "See the caveats in the documentation: https://pandas.pydata.org/pandas-docs/stable/user_guide/indexing.html#returning-a-view-versus-a-copy\n",
      "  current_data['Date'] = current_data.index\n",
      "C:\\Users\\abhij\\AppData\\Local\\Temp\\ipykernel_18656\\146205851.py:16: SettingWithCopyWarning: \n",
      "A value is trying to be set on a copy of a slice from a DataFrame.\n",
      "Try using .loc[row_indexer,col_indexer] = value instead\n",
      "\n",
      "See the caveats in the documentation: https://pandas.pydata.org/pandas-docs/stable/user_guide/indexing.html#returning-a-view-versus-a-copy\n",
      "  current_data['Date'] = current_data.index\n"
     ]
    },
    {
     "name": "stdout",
     "output_type": "stream",
     "text": [
      "Completed 71 out of 488 steps\n",
      "the main data is of shape (270, 2)\n",
      "shape of current_data2 is (270, 59)\n",
      "shape of df4 is (210, 3541)\n",
      "Completed 72 out of 488 steps\n",
      "the main data is of shape (270, 2)\n"
     ]
    },
    {
     "name": "stderr",
     "output_type": "stream",
     "text": [
      "C:\\Users\\abhij\\AppData\\Local\\Temp\\ipykernel_18656\\146205851.py:16: SettingWithCopyWarning: \n",
      "A value is trying to be set on a copy of a slice from a DataFrame.\n",
      "Try using .loc[row_indexer,col_indexer] = value instead\n",
      "\n",
      "See the caveats in the documentation: https://pandas.pydata.org/pandas-docs/stable/user_guide/indexing.html#returning-a-view-versus-a-copy\n",
      "  current_data['Date'] = current_data.index\n",
      "C:\\Users\\abhij\\AppData\\Local\\Temp\\ipykernel_18656\\146205851.py:16: SettingWithCopyWarning: \n",
      "A value is trying to be set on a copy of a slice from a DataFrame.\n",
      "Try using .loc[row_indexer,col_indexer] = value instead\n",
      "\n",
      "See the caveats in the documentation: https://pandas.pydata.org/pandas-docs/stable/user_guide/indexing.html#returning-a-view-versus-a-copy\n",
      "  current_data['Date'] = current_data.index\n"
     ]
    },
    {
     "name": "stdout",
     "output_type": "stream",
     "text": [
      "shape of current_data2 is (270, 59)\n",
      "shape of df4 is (210, 3541)\n",
      "Completed 73 out of 488 steps\n",
      "the main data is of shape (270, 2)\n",
      "shape of current_data2 is (270, 59)\n",
      "shape of df4 is (210, 3541)\n",
      "Completed 74 out of 488 steps\n",
      "the main data is of shape (270, 2)\n"
     ]
    },
    {
     "name": "stderr",
     "output_type": "stream",
     "text": [
      "C:\\Users\\abhij\\AppData\\Local\\Temp\\ipykernel_18656\\146205851.py:16: SettingWithCopyWarning: \n",
      "A value is trying to be set on a copy of a slice from a DataFrame.\n",
      "Try using .loc[row_indexer,col_indexer] = value instead\n",
      "\n",
      "See the caveats in the documentation: https://pandas.pydata.org/pandas-docs/stable/user_guide/indexing.html#returning-a-view-versus-a-copy\n",
      "  current_data['Date'] = current_data.index\n",
      "C:\\Users\\abhij\\AppData\\Local\\Temp\\ipykernel_18656\\146205851.py:16: SettingWithCopyWarning: \n",
      "A value is trying to be set on a copy of a slice from a DataFrame.\n",
      "Try using .loc[row_indexer,col_indexer] = value instead\n",
      "\n",
      "See the caveats in the documentation: https://pandas.pydata.org/pandas-docs/stable/user_guide/indexing.html#returning-a-view-versus-a-copy\n",
      "  current_data['Date'] = current_data.index\n"
     ]
    },
    {
     "name": "stdout",
     "output_type": "stream",
     "text": [
      "shape of current_data2 is (270, 59)\n",
      "shape of df4 is (210, 3541)\n",
      "Completed 75 out of 488 steps\n",
      "the main data is of shape (270, 2)\n",
      "shape of current_data2 is (270, 59)\n",
      "shape of df4 is (210, 3541)\n",
      "Completed 76 out of 488 steps\n",
      "the main data is of shape (270, 2)\n"
     ]
    },
    {
     "name": "stderr",
     "output_type": "stream",
     "text": [
      "C:\\Users\\abhij\\AppData\\Local\\Temp\\ipykernel_18656\\146205851.py:16: SettingWithCopyWarning: \n",
      "A value is trying to be set on a copy of a slice from a DataFrame.\n",
      "Try using .loc[row_indexer,col_indexer] = value instead\n",
      "\n",
      "See the caveats in the documentation: https://pandas.pydata.org/pandas-docs/stable/user_guide/indexing.html#returning-a-view-versus-a-copy\n",
      "  current_data['Date'] = current_data.index\n",
      "C:\\Users\\abhij\\AppData\\Local\\Temp\\ipykernel_18656\\146205851.py:16: SettingWithCopyWarning: \n",
      "A value is trying to be set on a copy of a slice from a DataFrame.\n",
      "Try using .loc[row_indexer,col_indexer] = value instead\n",
      "\n",
      "See the caveats in the documentation: https://pandas.pydata.org/pandas-docs/stable/user_guide/indexing.html#returning-a-view-versus-a-copy\n",
      "  current_data['Date'] = current_data.index\n"
     ]
    },
    {
     "name": "stdout",
     "output_type": "stream",
     "text": [
      "shape of current_data2 is (270, 59)\n",
      "shape of df4 is (210, 3541)\n",
      "Completed 77 out of 488 steps\n",
      "the main data is of shape (270, 2)\n",
      "shape of current_data2 is (270, 59)\n",
      "shape of df4 is (210, 3541)\n",
      "Completed 78 out of 488 steps\n",
      "the main data is of shape (270, 2)\n"
     ]
    },
    {
     "name": "stderr",
     "output_type": "stream",
     "text": [
      "C:\\Users\\abhij\\AppData\\Local\\Temp\\ipykernel_18656\\146205851.py:16: SettingWithCopyWarning: \n",
      "A value is trying to be set on a copy of a slice from a DataFrame.\n",
      "Try using .loc[row_indexer,col_indexer] = value instead\n",
      "\n",
      "See the caveats in the documentation: https://pandas.pydata.org/pandas-docs/stable/user_guide/indexing.html#returning-a-view-versus-a-copy\n",
      "  current_data['Date'] = current_data.index\n",
      "C:\\Users\\abhij\\AppData\\Local\\Temp\\ipykernel_18656\\146205851.py:16: SettingWithCopyWarning: \n",
      "A value is trying to be set on a copy of a slice from a DataFrame.\n",
      "Try using .loc[row_indexer,col_indexer] = value instead\n",
      "\n",
      "See the caveats in the documentation: https://pandas.pydata.org/pandas-docs/stable/user_guide/indexing.html#returning-a-view-versus-a-copy\n",
      "  current_data['Date'] = current_data.index\n"
     ]
    },
    {
     "name": "stdout",
     "output_type": "stream",
     "text": [
      "shape of current_data2 is (270, 59)\n",
      "shape of df4 is (210, 3541)\n",
      "Completed 79 out of 488 steps\n",
      "the main data is of shape (270, 2)\n",
      "shape of current_data2 is (270, 59)\n",
      "shape of df4 is (210, 3541)\n",
      "Completed 80 out of 488 steps\n"
     ]
    },
    {
     "name": "stderr",
     "output_type": "stream",
     "text": [
      "C:\\Users\\abhij\\AppData\\Local\\Temp\\ipykernel_18656\\146205851.py:16: SettingWithCopyWarning: \n",
      "A value is trying to be set on a copy of a slice from a DataFrame.\n",
      "Try using .loc[row_indexer,col_indexer] = value instead\n",
      "\n",
      "See the caveats in the documentation: https://pandas.pydata.org/pandas-docs/stable/user_guide/indexing.html#returning-a-view-versus-a-copy\n",
      "  current_data['Date'] = current_data.index\n",
      "C:\\Users\\abhij\\AppData\\Local\\Temp\\ipykernel_18656\\146205851.py:16: SettingWithCopyWarning: \n",
      "A value is trying to be set on a copy of a slice from a DataFrame.\n",
      "Try using .loc[row_indexer,col_indexer] = value instead\n",
      "\n",
      "See the caveats in the documentation: https://pandas.pydata.org/pandas-docs/stable/user_guide/indexing.html#returning-a-view-versus-a-copy\n",
      "  current_data['Date'] = current_data.index\n"
     ]
    },
    {
     "name": "stdout",
     "output_type": "stream",
     "text": [
      "the main data is of shape (270, 2)\n",
      "shape of current_data2 is (270, 59)\n",
      "shape of df4 is (210, 3541)\n",
      "Completed 81 out of 488 steps\n",
      "the main data is of shape (270, 2)\n",
      "shape of current_data2 is (270, 59)\n",
      "shape of df4 is (210, 3541)\n",
      "Completed 82 out of 488 steps\n",
      "the main data is of shape (270, 2)\n"
     ]
    },
    {
     "name": "stderr",
     "output_type": "stream",
     "text": [
      "C:\\Users\\abhij\\AppData\\Local\\Temp\\ipykernel_18656\\146205851.py:16: SettingWithCopyWarning: \n",
      "A value is trying to be set on a copy of a slice from a DataFrame.\n",
      "Try using .loc[row_indexer,col_indexer] = value instead\n",
      "\n",
      "See the caveats in the documentation: https://pandas.pydata.org/pandas-docs/stable/user_guide/indexing.html#returning-a-view-versus-a-copy\n",
      "  current_data['Date'] = current_data.index\n",
      "C:\\Users\\abhij\\AppData\\Local\\Temp\\ipykernel_18656\\146205851.py:16: SettingWithCopyWarning: \n",
      "A value is trying to be set on a copy of a slice from a DataFrame.\n",
      "Try using .loc[row_indexer,col_indexer] = value instead\n",
      "\n",
      "See the caveats in the documentation: https://pandas.pydata.org/pandas-docs/stable/user_guide/indexing.html#returning-a-view-versus-a-copy\n",
      "  current_data['Date'] = current_data.index\n"
     ]
    },
    {
     "name": "stdout",
     "output_type": "stream",
     "text": [
      "shape of current_data2 is (270, 59)\n",
      "shape of df4 is (210, 3541)\n",
      "Completed 83 out of 488 steps\n",
      "the main data is of shape (270, 2)\n",
      "shape of current_data2 is (270, 59)\n",
      "shape of df4 is (210, 3541)\n",
      "Completed 84 out of 488 steps\n"
     ]
    },
    {
     "name": "stderr",
     "output_type": "stream",
     "text": [
      "C:\\Users\\abhij\\AppData\\Local\\Temp\\ipykernel_18656\\146205851.py:16: SettingWithCopyWarning: \n",
      "A value is trying to be set on a copy of a slice from a DataFrame.\n",
      "Try using .loc[row_indexer,col_indexer] = value instead\n",
      "\n",
      "See the caveats in the documentation: https://pandas.pydata.org/pandas-docs/stable/user_guide/indexing.html#returning-a-view-versus-a-copy\n",
      "  current_data['Date'] = current_data.index\n"
     ]
    },
    {
     "name": "stdout",
     "output_type": "stream",
     "text": [
      "the main data is of shape (270, 2)\n",
      "shape of current_data2 is (270, 59)\n",
      "shape of df4 is (210, 3541)\n",
      "Completed 85 out of 488 steps\n"
     ]
    },
    {
     "name": "stderr",
     "output_type": "stream",
     "text": [
      "C:\\Users\\abhij\\AppData\\Local\\Temp\\ipykernel_18656\\146205851.py:16: SettingWithCopyWarning: \n",
      "A value is trying to be set on a copy of a slice from a DataFrame.\n",
      "Try using .loc[row_indexer,col_indexer] = value instead\n",
      "\n",
      "See the caveats in the documentation: https://pandas.pydata.org/pandas-docs/stable/user_guide/indexing.html#returning-a-view-versus-a-copy\n",
      "  current_data['Date'] = current_data.index\n"
     ]
    },
    {
     "name": "stdout",
     "output_type": "stream",
     "text": [
      "the main data is of shape (270, 2)\n",
      "shape of current_data2 is (270, 59)\n",
      "shape of df4 is (210, 3541)\n",
      "Completed 86 out of 488 steps\n",
      "the main data is of shape (270, 2)\n",
      "shape of current_data2 is (270, 59)\n",
      "shape of df4 is (210, 3541)\n",
      "Completed 87 out of 488 steps\n",
      "the main data is of shape (270, 2)\n"
     ]
    },
    {
     "name": "stderr",
     "output_type": "stream",
     "text": [
      "C:\\Users\\abhij\\AppData\\Local\\Temp\\ipykernel_18656\\146205851.py:16: SettingWithCopyWarning: \n",
      "A value is trying to be set on a copy of a slice from a DataFrame.\n",
      "Try using .loc[row_indexer,col_indexer] = value instead\n",
      "\n",
      "See the caveats in the documentation: https://pandas.pydata.org/pandas-docs/stable/user_guide/indexing.html#returning-a-view-versus-a-copy\n",
      "  current_data['Date'] = current_data.index\n",
      "C:\\Users\\abhij\\AppData\\Local\\Temp\\ipykernel_18656\\146205851.py:16: SettingWithCopyWarning: \n",
      "A value is trying to be set on a copy of a slice from a DataFrame.\n",
      "Try using .loc[row_indexer,col_indexer] = value instead\n",
      "\n",
      "See the caveats in the documentation: https://pandas.pydata.org/pandas-docs/stable/user_guide/indexing.html#returning-a-view-versus-a-copy\n",
      "  current_data['Date'] = current_data.index\n"
     ]
    },
    {
     "name": "stdout",
     "output_type": "stream",
     "text": [
      "shape of current_data2 is (270, 59)\n",
      "shape of df4 is (210, 3541)\n",
      "Completed 88 out of 488 steps\n",
      "the main data is of shape (270, 2)\n"
     ]
    },
    {
     "name": "stderr",
     "output_type": "stream",
     "text": [
      "C:\\Users\\abhij\\AppData\\Local\\Temp\\ipykernel_18656\\146205851.py:16: SettingWithCopyWarning: \n",
      "A value is trying to be set on a copy of a slice from a DataFrame.\n",
      "Try using .loc[row_indexer,col_indexer] = value instead\n",
      "\n",
      "See the caveats in the documentation: https://pandas.pydata.org/pandas-docs/stable/user_guide/indexing.html#returning-a-view-versus-a-copy\n",
      "  current_data['Date'] = current_data.index\n"
     ]
    },
    {
     "name": "stdout",
     "output_type": "stream",
     "text": [
      "shape of current_data2 is (270, 59)\n",
      "shape of df4 is (210, 3541)\n",
      "Completed 89 out of 488 steps\n"
     ]
    },
    {
     "name": "stderr",
     "output_type": "stream",
     "text": [
      "C:\\Users\\abhij\\AppData\\Local\\Temp\\ipykernel_18656\\146205851.py:16: SettingWithCopyWarning: \n",
      "A value is trying to be set on a copy of a slice from a DataFrame.\n",
      "Try using .loc[row_indexer,col_indexer] = value instead\n",
      "\n",
      "See the caveats in the documentation: https://pandas.pydata.org/pandas-docs/stable/user_guide/indexing.html#returning-a-view-versus-a-copy\n",
      "  current_data['Date'] = current_data.index\n"
     ]
    },
    {
     "name": "stdout",
     "output_type": "stream",
     "text": [
      "the main data is of shape (270, 2)\n",
      "shape of current_data2 is (270, 59)\n",
      "shape of df4 is (210, 3541)\n",
      "Completed 90 out of 488 steps\n",
      "the main data is of shape (270, 2)\n"
     ]
    },
    {
     "name": "stderr",
     "output_type": "stream",
     "text": [
      "C:\\Users\\abhij\\AppData\\Local\\Temp\\ipykernel_18656\\146205851.py:16: SettingWithCopyWarning: \n",
      "A value is trying to be set on a copy of a slice from a DataFrame.\n",
      "Try using .loc[row_indexer,col_indexer] = value instead\n",
      "\n",
      "See the caveats in the documentation: https://pandas.pydata.org/pandas-docs/stable/user_guide/indexing.html#returning-a-view-versus-a-copy\n",
      "  current_data['Date'] = current_data.index\n",
      "C:\\Users\\abhij\\AppData\\Local\\Temp\\ipykernel_18656\\146205851.py:16: SettingWithCopyWarning: \n",
      "A value is trying to be set on a copy of a slice from a DataFrame.\n",
      "Try using .loc[row_indexer,col_indexer] = value instead\n",
      "\n",
      "See the caveats in the documentation: https://pandas.pydata.org/pandas-docs/stable/user_guide/indexing.html#returning-a-view-versus-a-copy\n",
      "  current_data['Date'] = current_data.index\n"
     ]
    },
    {
     "name": "stdout",
     "output_type": "stream",
     "text": [
      "shape of current_data2 is (270, 59)\n",
      "shape of df4 is (210, 3541)\n",
      "Completed 91 out of 488 steps\n",
      "the main data is of shape (270, 2)\n",
      "shape of current_data2 is (270, 59)\n",
      "shape of df4 is (210, 3541)\n",
      "Completed 92 out of 488 steps\n",
      "the main data is of shape (270, 2)\n",
      "shape of current_data2 is (270, 59)\n"
     ]
    },
    {
     "name": "stderr",
     "output_type": "stream",
     "text": [
      "C:\\Users\\abhij\\AppData\\Local\\Temp\\ipykernel_18656\\146205851.py:16: SettingWithCopyWarning: \n",
      "A value is trying to be set on a copy of a slice from a DataFrame.\n",
      "Try using .loc[row_indexer,col_indexer] = value instead\n",
      "\n",
      "See the caveats in the documentation: https://pandas.pydata.org/pandas-docs/stable/user_guide/indexing.html#returning-a-view-versus-a-copy\n",
      "  current_data['Date'] = current_data.index\n",
      "C:\\Users\\abhij\\AppData\\Local\\Temp\\ipykernel_18656\\146205851.py:16: SettingWithCopyWarning: \n",
      "A value is trying to be set on a copy of a slice from a DataFrame.\n",
      "Try using .loc[row_indexer,col_indexer] = value instead\n",
      "\n",
      "See the caveats in the documentation: https://pandas.pydata.org/pandas-docs/stable/user_guide/indexing.html#returning-a-view-versus-a-copy\n",
      "  current_data['Date'] = current_data.index\n"
     ]
    },
    {
     "name": "stdout",
     "output_type": "stream",
     "text": [
      "shape of df4 is (210, 3541)\n",
      "Completed 93 out of 488 steps\n",
      "the main data is of shape (270, 2)\n",
      "shape of current_data2 is (270, 59)\n",
      "shape of df4 is (210, 3541)\n",
      "Completed 94 out of 488 steps\n",
      "the main data is of shape (270, 2)\n",
      "shape of current_data2 is (270, 59)\n"
     ]
    },
    {
     "name": "stderr",
     "output_type": "stream",
     "text": [
      "C:\\Users\\abhij\\AppData\\Local\\Temp\\ipykernel_18656\\146205851.py:16: SettingWithCopyWarning: \n",
      "A value is trying to be set on a copy of a slice from a DataFrame.\n",
      "Try using .loc[row_indexer,col_indexer] = value instead\n",
      "\n",
      "See the caveats in the documentation: https://pandas.pydata.org/pandas-docs/stable/user_guide/indexing.html#returning-a-view-versus-a-copy\n",
      "  current_data['Date'] = current_data.index\n",
      "C:\\Users\\abhij\\AppData\\Local\\Temp\\ipykernel_18656\\146205851.py:16: SettingWithCopyWarning: \n",
      "A value is trying to be set on a copy of a slice from a DataFrame.\n",
      "Try using .loc[row_indexer,col_indexer] = value instead\n",
      "\n",
      "See the caveats in the documentation: https://pandas.pydata.org/pandas-docs/stable/user_guide/indexing.html#returning-a-view-versus-a-copy\n",
      "  current_data['Date'] = current_data.index\n"
     ]
    },
    {
     "name": "stdout",
     "output_type": "stream",
     "text": [
      "shape of df4 is (210, 3541)\n",
      "Completed 95 out of 488 steps\n",
      "the main data is of shape (270, 2)\n",
      "shape of current_data2 is (270, 59)\n",
      "shape of df4 is (210, 3541)\n",
      "Completed 96 out of 488 steps\n",
      "the main data is of shape (270, 2)\n",
      "shape of current_data2 is (270, 59)\n"
     ]
    },
    {
     "name": "stderr",
     "output_type": "stream",
     "text": [
      "C:\\Users\\abhij\\AppData\\Local\\Temp\\ipykernel_18656\\146205851.py:16: SettingWithCopyWarning: \n",
      "A value is trying to be set on a copy of a slice from a DataFrame.\n",
      "Try using .loc[row_indexer,col_indexer] = value instead\n",
      "\n",
      "See the caveats in the documentation: https://pandas.pydata.org/pandas-docs/stable/user_guide/indexing.html#returning-a-view-versus-a-copy\n",
      "  current_data['Date'] = current_data.index\n",
      "C:\\Users\\abhij\\AppData\\Local\\Temp\\ipykernel_18656\\146205851.py:16: SettingWithCopyWarning: \n",
      "A value is trying to be set on a copy of a slice from a DataFrame.\n",
      "Try using .loc[row_indexer,col_indexer] = value instead\n",
      "\n",
      "See the caveats in the documentation: https://pandas.pydata.org/pandas-docs/stable/user_guide/indexing.html#returning-a-view-versus-a-copy\n",
      "  current_data['Date'] = current_data.index\n"
     ]
    },
    {
     "name": "stdout",
     "output_type": "stream",
     "text": [
      "shape of df4 is (210, 3541)\n",
      "Completed 97 out of 488 steps\n",
      "the main data is of shape (270, 2)\n",
      "shape of current_data2 is (270, 59)\n",
      "shape of df4 is (210, 3541)\n",
      "Completed 98 out of 488 steps\n",
      "the main data is of shape (270, 2)\n",
      "shape of current_data2 is (270, 59)\n"
     ]
    },
    {
     "name": "stderr",
     "output_type": "stream",
     "text": [
      "C:\\Users\\abhij\\AppData\\Local\\Temp\\ipykernel_18656\\146205851.py:16: SettingWithCopyWarning: \n",
      "A value is trying to be set on a copy of a slice from a DataFrame.\n",
      "Try using .loc[row_indexer,col_indexer] = value instead\n",
      "\n",
      "See the caveats in the documentation: https://pandas.pydata.org/pandas-docs/stable/user_guide/indexing.html#returning-a-view-versus-a-copy\n",
      "  current_data['Date'] = current_data.index\n",
      "C:\\Users\\abhij\\AppData\\Local\\Temp\\ipykernel_18656\\146205851.py:16: SettingWithCopyWarning: \n",
      "A value is trying to be set on a copy of a slice from a DataFrame.\n",
      "Try using .loc[row_indexer,col_indexer] = value instead\n",
      "\n",
      "See the caveats in the documentation: https://pandas.pydata.org/pandas-docs/stable/user_guide/indexing.html#returning-a-view-versus-a-copy\n",
      "  current_data['Date'] = current_data.index\n"
     ]
    },
    {
     "name": "stdout",
     "output_type": "stream",
     "text": [
      "shape of df4 is (210, 3541)\n",
      "Completed 99 out of 488 steps\n",
      "the main data is of shape (270, 2)\n",
      "shape of current_data2 is (270, 59)\n",
      "shape of df4 is (210, 3541)\n",
      "Completed 100 out of 488 steps\n",
      "the main data is of shape (270, 2)\n",
      "shape of current_data2 is (270, 59)\n"
     ]
    },
    {
     "name": "stderr",
     "output_type": "stream",
     "text": [
      "C:\\Users\\abhij\\AppData\\Local\\Temp\\ipykernel_18656\\146205851.py:16: SettingWithCopyWarning: \n",
      "A value is trying to be set on a copy of a slice from a DataFrame.\n",
      "Try using .loc[row_indexer,col_indexer] = value instead\n",
      "\n",
      "See the caveats in the documentation: https://pandas.pydata.org/pandas-docs/stable/user_guide/indexing.html#returning-a-view-versus-a-copy\n",
      "  current_data['Date'] = current_data.index\n",
      "C:\\Users\\abhij\\AppData\\Local\\Temp\\ipykernel_18656\\146205851.py:16: SettingWithCopyWarning: \n",
      "A value is trying to be set on a copy of a slice from a DataFrame.\n",
      "Try using .loc[row_indexer,col_indexer] = value instead\n",
      "\n",
      "See the caveats in the documentation: https://pandas.pydata.org/pandas-docs/stable/user_guide/indexing.html#returning-a-view-versus-a-copy\n",
      "  current_data['Date'] = current_data.index\n"
     ]
    },
    {
     "name": "stdout",
     "output_type": "stream",
     "text": [
      "shape of df4 is (210, 3541)\n",
      "Completed 101 out of 488 steps\n",
      "the main data is of shape (270, 2)\n",
      "shape of current_data2 is (270, 59)\n",
      "shape of df4 is (210, 3541)\n",
      "Completed 102 out of 488 steps\n",
      "the main data is of shape (270, 2)\n",
      "shape of current_data2 is (270, 59)\n"
     ]
    },
    {
     "name": "stderr",
     "output_type": "stream",
     "text": [
      "C:\\Users\\abhij\\AppData\\Local\\Temp\\ipykernel_18656\\146205851.py:16: SettingWithCopyWarning: \n",
      "A value is trying to be set on a copy of a slice from a DataFrame.\n",
      "Try using .loc[row_indexer,col_indexer] = value instead\n",
      "\n",
      "See the caveats in the documentation: https://pandas.pydata.org/pandas-docs/stable/user_guide/indexing.html#returning-a-view-versus-a-copy\n",
      "  current_data['Date'] = current_data.index\n"
     ]
    },
    {
     "name": "stdout",
     "output_type": "stream",
     "text": [
      "shape of df4 is (210, 3541)\n",
      "Completed 103 out of 488 steps\n",
      "the main data is of shape (270, 2)\n",
      "shape of current_data2 is (270, 59)\n"
     ]
    },
    {
     "name": "stderr",
     "output_type": "stream",
     "text": [
      "C:\\Users\\abhij\\AppData\\Local\\Temp\\ipykernel_18656\\146205851.py:16: SettingWithCopyWarning: \n",
      "A value is trying to be set on a copy of a slice from a DataFrame.\n",
      "Try using .loc[row_indexer,col_indexer] = value instead\n",
      "\n",
      "See the caveats in the documentation: https://pandas.pydata.org/pandas-docs/stable/user_guide/indexing.html#returning-a-view-versus-a-copy\n",
      "  current_data['Date'] = current_data.index\n"
     ]
    },
    {
     "name": "stdout",
     "output_type": "stream",
     "text": [
      "shape of df4 is (210, 3541)\n",
      "Completed 104 out of 488 steps\n",
      "the main data is of shape (270, 2)\n",
      "shape of current_data2 is (270, 59)\n"
     ]
    },
    {
     "name": "stderr",
     "output_type": "stream",
     "text": [
      "C:\\Users\\abhij\\AppData\\Local\\Temp\\ipykernel_18656\\146205851.py:16: SettingWithCopyWarning: \n",
      "A value is trying to be set on a copy of a slice from a DataFrame.\n",
      "Try using .loc[row_indexer,col_indexer] = value instead\n",
      "\n",
      "See the caveats in the documentation: https://pandas.pydata.org/pandas-docs/stable/user_guide/indexing.html#returning-a-view-versus-a-copy\n",
      "  current_data['Date'] = current_data.index\n",
      "C:\\Users\\abhij\\AppData\\Local\\Temp\\ipykernel_18656\\146205851.py:16: SettingWithCopyWarning: \n",
      "A value is trying to be set on a copy of a slice from a DataFrame.\n",
      "Try using .loc[row_indexer,col_indexer] = value instead\n",
      "\n",
      "See the caveats in the documentation: https://pandas.pydata.org/pandas-docs/stable/user_guide/indexing.html#returning-a-view-versus-a-copy\n",
      "  current_data['Date'] = current_data.index\n"
     ]
    },
    {
     "name": "stdout",
     "output_type": "stream",
     "text": [
      "shape of df4 is (210, 3541)\n",
      "Completed 105 out of 488 steps\n",
      "the main data is of shape (270, 2)\n",
      "shape of current_data2 is (270, 59)\n",
      "shape of df4 is (210, 3541)\n",
      "Completed 106 out of 488 steps\n",
      "the main data is of shape (270, 2)\n",
      "shape of current_data2 is (270, 59)\n"
     ]
    },
    {
     "name": "stderr",
     "output_type": "stream",
     "text": [
      "C:\\Users\\abhij\\AppData\\Local\\Temp\\ipykernel_18656\\146205851.py:16: SettingWithCopyWarning: \n",
      "A value is trying to be set on a copy of a slice from a DataFrame.\n",
      "Try using .loc[row_indexer,col_indexer] = value instead\n",
      "\n",
      "See the caveats in the documentation: https://pandas.pydata.org/pandas-docs/stable/user_guide/indexing.html#returning-a-view-versus-a-copy\n",
      "  current_data['Date'] = current_data.index\n",
      "C:\\Users\\abhij\\AppData\\Local\\Temp\\ipykernel_18656\\146205851.py:16: SettingWithCopyWarning: \n",
      "A value is trying to be set on a copy of a slice from a DataFrame.\n",
      "Try using .loc[row_indexer,col_indexer] = value instead\n",
      "\n",
      "See the caveats in the documentation: https://pandas.pydata.org/pandas-docs/stable/user_guide/indexing.html#returning-a-view-versus-a-copy\n",
      "  current_data['Date'] = current_data.index\n"
     ]
    },
    {
     "name": "stdout",
     "output_type": "stream",
     "text": [
      "shape of df4 is (210, 3541)\n",
      "Completed 107 out of 488 steps\n",
      "the main data is of shape (270, 2)\n",
      "shape of current_data2 is (270, 59)\n",
      "shape of df4 is (210, 3541)\n",
      "Completed 108 out of 488 steps\n",
      "the main data is of shape (270, 2)\n",
      "shape of current_data2 is (270, 59)\n",
      "shape of df4 is (210, 3541)\n"
     ]
    },
    {
     "name": "stderr",
     "output_type": "stream",
     "text": [
      "C:\\Users\\abhij\\AppData\\Local\\Temp\\ipykernel_18656\\146205851.py:16: SettingWithCopyWarning: \n",
      "A value is trying to be set on a copy of a slice from a DataFrame.\n",
      "Try using .loc[row_indexer,col_indexer] = value instead\n",
      "\n",
      "See the caveats in the documentation: https://pandas.pydata.org/pandas-docs/stable/user_guide/indexing.html#returning-a-view-versus-a-copy\n",
      "  current_data['Date'] = current_data.index\n",
      "C:\\Users\\abhij\\AppData\\Local\\Temp\\ipykernel_18656\\146205851.py:16: SettingWithCopyWarning: \n",
      "A value is trying to be set on a copy of a slice from a DataFrame.\n",
      "Try using .loc[row_indexer,col_indexer] = value instead\n",
      "\n",
      "See the caveats in the documentation: https://pandas.pydata.org/pandas-docs/stable/user_guide/indexing.html#returning-a-view-versus-a-copy\n",
      "  current_data['Date'] = current_data.index\n"
     ]
    },
    {
     "name": "stdout",
     "output_type": "stream",
     "text": [
      "Completed 109 out of 488 steps\n",
      "the main data is of shape (270, 2)\n",
      "shape of current_data2 is (270, 59)\n",
      "shape of df4 is (210, 3541)\n",
      "Completed 110 out of 488 steps\n"
     ]
    },
    {
     "name": "stderr",
     "output_type": "stream",
     "text": [
      "C:\\Users\\abhij\\AppData\\Local\\Temp\\ipykernel_18656\\146205851.py:16: SettingWithCopyWarning: \n",
      "A value is trying to be set on a copy of a slice from a DataFrame.\n",
      "Try using .loc[row_indexer,col_indexer] = value instead\n",
      "\n",
      "See the caveats in the documentation: https://pandas.pydata.org/pandas-docs/stable/user_guide/indexing.html#returning-a-view-versus-a-copy\n",
      "  current_data['Date'] = current_data.index\n"
     ]
    },
    {
     "name": "stdout",
     "output_type": "stream",
     "text": [
      "the main data is of shape (270, 2)\n",
      "shape of current_data2 is (270, 59)\n",
      "shape of df4 is (210, 3541)\n",
      "Completed 111 out of 488 steps\n",
      "the main data is of shape (270, 2)\n"
     ]
    },
    {
     "name": "stderr",
     "output_type": "stream",
     "text": [
      "C:\\Users\\abhij\\AppData\\Local\\Temp\\ipykernel_18656\\146205851.py:16: SettingWithCopyWarning: \n",
      "A value is trying to be set on a copy of a slice from a DataFrame.\n",
      "Try using .loc[row_indexer,col_indexer] = value instead\n",
      "\n",
      "See the caveats in the documentation: https://pandas.pydata.org/pandas-docs/stable/user_guide/indexing.html#returning-a-view-versus-a-copy\n",
      "  current_data['Date'] = current_data.index\n",
      "C:\\Users\\abhij\\AppData\\Local\\Temp\\ipykernel_18656\\146205851.py:16: SettingWithCopyWarning: \n",
      "A value is trying to be set on a copy of a slice from a DataFrame.\n",
      "Try using .loc[row_indexer,col_indexer] = value instead\n",
      "\n",
      "See the caveats in the documentation: https://pandas.pydata.org/pandas-docs/stable/user_guide/indexing.html#returning-a-view-versus-a-copy\n",
      "  current_data['Date'] = current_data.index\n"
     ]
    },
    {
     "name": "stdout",
     "output_type": "stream",
     "text": [
      "shape of current_data2 is (270, 59)\n",
      "shape of df4 is (210, 3541)\n",
      "Completed 112 out of 488 steps\n",
      "the main data is of shape (270, 2)\n",
      "shape of current_data2 is (270, 59)\n",
      "shape of df4 is (210, 3541)\n",
      "Completed 113 out of 488 steps\n"
     ]
    },
    {
     "name": "stderr",
     "output_type": "stream",
     "text": [
      "C:\\Users\\abhij\\AppData\\Local\\Temp\\ipykernel_18656\\146205851.py:16: SettingWithCopyWarning: \n",
      "A value is trying to be set on a copy of a slice from a DataFrame.\n",
      "Try using .loc[row_indexer,col_indexer] = value instead\n",
      "\n",
      "See the caveats in the documentation: https://pandas.pydata.org/pandas-docs/stable/user_guide/indexing.html#returning-a-view-versus-a-copy\n",
      "  current_data['Date'] = current_data.index\n"
     ]
    },
    {
     "name": "stdout",
     "output_type": "stream",
     "text": [
      "the main data is of shape (270, 2)\n",
      "shape of current_data2 is (270, 59)\n",
      "shape of df4 is (210, 3541)\n",
      "Completed 114 out of 488 steps\n"
     ]
    },
    {
     "name": "stderr",
     "output_type": "stream",
     "text": [
      "C:\\Users\\abhij\\AppData\\Local\\Temp\\ipykernel_18656\\146205851.py:16: SettingWithCopyWarning: \n",
      "A value is trying to be set on a copy of a slice from a DataFrame.\n",
      "Try using .loc[row_indexer,col_indexer] = value instead\n",
      "\n",
      "See the caveats in the documentation: https://pandas.pydata.org/pandas-docs/stable/user_guide/indexing.html#returning-a-view-versus-a-copy\n",
      "  current_data['Date'] = current_data.index\n"
     ]
    },
    {
     "name": "stdout",
     "output_type": "stream",
     "text": [
      "the main data is of shape (270, 2)\n",
      "shape of current_data2 is (270, 59)\n",
      "shape of df4 is (210, 3541)\n",
      "Completed 115 out of 488 steps\n"
     ]
    },
    {
     "name": "stderr",
     "output_type": "stream",
     "text": [
      "C:\\Users\\abhij\\AppData\\Local\\Temp\\ipykernel_18656\\146205851.py:16: SettingWithCopyWarning: \n",
      "A value is trying to be set on a copy of a slice from a DataFrame.\n",
      "Try using .loc[row_indexer,col_indexer] = value instead\n",
      "\n",
      "See the caveats in the documentation: https://pandas.pydata.org/pandas-docs/stable/user_guide/indexing.html#returning-a-view-versus-a-copy\n",
      "  current_data['Date'] = current_data.index\n",
      "C:\\Users\\abhij\\AppData\\Local\\Temp\\ipykernel_18656\\146205851.py:16: SettingWithCopyWarning: \n",
      "A value is trying to be set on a copy of a slice from a DataFrame.\n",
      "Try using .loc[row_indexer,col_indexer] = value instead\n",
      "\n",
      "See the caveats in the documentation: https://pandas.pydata.org/pandas-docs/stable/user_guide/indexing.html#returning-a-view-versus-a-copy\n",
      "  current_data['Date'] = current_data.index\n"
     ]
    },
    {
     "name": "stdout",
     "output_type": "stream",
     "text": [
      "the main data is of shape (270, 2)\n",
      "shape of current_data2 is (270, 59)\n",
      "shape of df4 is (210, 3541)\n",
      "Completed 116 out of 488 steps\n",
      "the main data is of shape (270, 2)\n",
      "shape of current_data2 is (270, 59)\n",
      "shape of df4 is (210, 3541)\n",
      "Completed 117 out of 488 steps\n",
      "the main data is of shape (270, 2)\n"
     ]
    },
    {
     "name": "stderr",
     "output_type": "stream",
     "text": [
      "C:\\Users\\abhij\\AppData\\Local\\Temp\\ipykernel_18656\\146205851.py:16: SettingWithCopyWarning: \n",
      "A value is trying to be set on a copy of a slice from a DataFrame.\n",
      "Try using .loc[row_indexer,col_indexer] = value instead\n",
      "\n",
      "See the caveats in the documentation: https://pandas.pydata.org/pandas-docs/stable/user_guide/indexing.html#returning-a-view-versus-a-copy\n",
      "  current_data['Date'] = current_data.index\n",
      "C:\\Users\\abhij\\AppData\\Local\\Temp\\ipykernel_18656\\146205851.py:16: SettingWithCopyWarning: \n",
      "A value is trying to be set on a copy of a slice from a DataFrame.\n",
      "Try using .loc[row_indexer,col_indexer] = value instead\n",
      "\n",
      "See the caveats in the documentation: https://pandas.pydata.org/pandas-docs/stable/user_guide/indexing.html#returning-a-view-versus-a-copy\n",
      "  current_data['Date'] = current_data.index\n"
     ]
    },
    {
     "name": "stdout",
     "output_type": "stream",
     "text": [
      "shape of current_data2 is (270, 59)\n",
      "shape of df4 is (210, 3541)\n",
      "Completed 118 out of 488 steps\n",
      "the main data is of shape (270, 2)\n",
      "shape of current_data2 is (270, 59)\n",
      "shape of df4 is (210, 3541)\n",
      "Completed 119 out of 488 steps\n",
      "the main data is of shape (270, 2)\n"
     ]
    },
    {
     "name": "stderr",
     "output_type": "stream",
     "text": [
      "C:\\Users\\abhij\\AppData\\Local\\Temp\\ipykernel_18656\\146205851.py:16: SettingWithCopyWarning: \n",
      "A value is trying to be set on a copy of a slice from a DataFrame.\n",
      "Try using .loc[row_indexer,col_indexer] = value instead\n",
      "\n",
      "See the caveats in the documentation: https://pandas.pydata.org/pandas-docs/stable/user_guide/indexing.html#returning-a-view-versus-a-copy\n",
      "  current_data['Date'] = current_data.index\n"
     ]
    },
    {
     "name": "stdout",
     "output_type": "stream",
     "text": [
      "shape of current_data2 is (270, 59)\n",
      "shape of df4 is (210, 3541)\n",
      "Completed 120 out of 488 steps\n"
     ]
    },
    {
     "name": "stderr",
     "output_type": "stream",
     "text": [
      "C:\\Users\\abhij\\AppData\\Local\\Temp\\ipykernel_18656\\146205851.py:16: SettingWithCopyWarning: \n",
      "A value is trying to be set on a copy of a slice from a DataFrame.\n",
      "Try using .loc[row_indexer,col_indexer] = value instead\n",
      "\n",
      "See the caveats in the documentation: https://pandas.pydata.org/pandas-docs/stable/user_guide/indexing.html#returning-a-view-versus-a-copy\n",
      "  current_data['Date'] = current_data.index\n",
      "C:\\Users\\abhij\\AppData\\Local\\Temp\\ipykernel_18656\\146205851.py:16: SettingWithCopyWarning: \n",
      "A value is trying to be set on a copy of a slice from a DataFrame.\n",
      "Try using .loc[row_indexer,col_indexer] = value instead\n",
      "\n",
      "See the caveats in the documentation: https://pandas.pydata.org/pandas-docs/stable/user_guide/indexing.html#returning-a-view-versus-a-copy\n",
      "  current_data['Date'] = current_data.index\n"
     ]
    },
    {
     "name": "stdout",
     "output_type": "stream",
     "text": [
      "the main data is of shape (270, 2)\n",
      "shape of current_data2 is (270, 59)\n",
      "shape of df4 is (210, 3541)\n",
      "Completed 121 out of 488 steps\n",
      "the main data is of shape (270, 2)\n",
      "shape of current_data2 is (270, 59)\n",
      "shape of df4 is (210, 3541)\n",
      "Completed 122 out of 488 steps\n",
      "the main data is of shape (270, 2)\n"
     ]
    },
    {
     "name": "stderr",
     "output_type": "stream",
     "text": [
      "C:\\Users\\abhij\\AppData\\Local\\Temp\\ipykernel_18656\\146205851.py:16: SettingWithCopyWarning: \n",
      "A value is trying to be set on a copy of a slice from a DataFrame.\n",
      "Try using .loc[row_indexer,col_indexer] = value instead\n",
      "\n",
      "See the caveats in the documentation: https://pandas.pydata.org/pandas-docs/stable/user_guide/indexing.html#returning-a-view-versus-a-copy\n",
      "  current_data['Date'] = current_data.index\n"
     ]
    },
    {
     "name": "stdout",
     "output_type": "stream",
     "text": [
      "shape of current_data2 is (270, 59)\n",
      "shape of df4 is (210, 3541)\n",
      "Completed 123 out of 488 steps\n"
     ]
    },
    {
     "name": "stderr",
     "output_type": "stream",
     "text": [
      "C:\\Users\\abhij\\AppData\\Local\\Temp\\ipykernel_18656\\146205851.py:16: SettingWithCopyWarning: \n",
      "A value is trying to be set on a copy of a slice from a DataFrame.\n",
      "Try using .loc[row_indexer,col_indexer] = value instead\n",
      "\n",
      "See the caveats in the documentation: https://pandas.pydata.org/pandas-docs/stable/user_guide/indexing.html#returning-a-view-versus-a-copy\n",
      "  current_data['Date'] = current_data.index\n",
      "C:\\Users\\abhij\\AppData\\Local\\Temp\\ipykernel_18656\\146205851.py:16: SettingWithCopyWarning: \n",
      "A value is trying to be set on a copy of a slice from a DataFrame.\n",
      "Try using .loc[row_indexer,col_indexer] = value instead\n",
      "\n",
      "See the caveats in the documentation: https://pandas.pydata.org/pandas-docs/stable/user_guide/indexing.html#returning-a-view-versus-a-copy\n",
      "  current_data['Date'] = current_data.index\n"
     ]
    },
    {
     "name": "stdout",
     "output_type": "stream",
     "text": [
      "the main data is of shape (270, 2)\n",
      "shape of current_data2 is (270, 59)\n",
      "shape of df4 is (210, 3541)\n",
      "Completed 124 out of 488 steps\n",
      "the main data is of shape (270, 2)\n",
      "shape of current_data2 is (270, 59)\n",
      "shape of df4 is (210, 3541)\n",
      "Completed 125 out of 488 steps\n"
     ]
    },
    {
     "name": "stderr",
     "output_type": "stream",
     "text": [
      "C:\\Users\\abhij\\AppData\\Local\\Temp\\ipykernel_18656\\146205851.py:16: SettingWithCopyWarning: \n",
      "A value is trying to be set on a copy of a slice from a DataFrame.\n",
      "Try using .loc[row_indexer,col_indexer] = value instead\n",
      "\n",
      "See the caveats in the documentation: https://pandas.pydata.org/pandas-docs/stable/user_guide/indexing.html#returning-a-view-versus-a-copy\n",
      "  current_data['Date'] = current_data.index\n"
     ]
    },
    {
     "name": "stdout",
     "output_type": "stream",
     "text": [
      "the main data is of shape (270, 2)\n",
      "shape of current_data2 is (270, 59)\n",
      "shape of df4 is (210, 3541)\n",
      "Completed 126 out of 488 steps\n",
      "the main data is of shape (270, 2)\n"
     ]
    },
    {
     "name": "stderr",
     "output_type": "stream",
     "text": [
      "C:\\Users\\abhij\\AppData\\Local\\Temp\\ipykernel_18656\\146205851.py:16: SettingWithCopyWarning: \n",
      "A value is trying to be set on a copy of a slice from a DataFrame.\n",
      "Try using .loc[row_indexer,col_indexer] = value instead\n",
      "\n",
      "See the caveats in the documentation: https://pandas.pydata.org/pandas-docs/stable/user_guide/indexing.html#returning-a-view-versus-a-copy\n",
      "  current_data['Date'] = current_data.index\n",
      "C:\\Users\\abhij\\AppData\\Local\\Temp\\ipykernel_18656\\146205851.py:16: SettingWithCopyWarning: \n",
      "A value is trying to be set on a copy of a slice from a DataFrame.\n",
      "Try using .loc[row_indexer,col_indexer] = value instead\n",
      "\n",
      "See the caveats in the documentation: https://pandas.pydata.org/pandas-docs/stable/user_guide/indexing.html#returning-a-view-versus-a-copy\n",
      "  current_data['Date'] = current_data.index\n"
     ]
    },
    {
     "name": "stdout",
     "output_type": "stream",
     "text": [
      "shape of current_data2 is (270, 59)\n",
      "shape of df4 is (210, 3541)\n",
      "Completed 127 out of 488 steps\n",
      "the main data is of shape (270, 2)\n",
      "shape of current_data2 is (270, 59)\n",
      "shape of df4 is (210, 3541)\n",
      "Completed 128 out of 488 steps\n",
      "the main data is of shape (270, 2)\n",
      "shape of current_data2 is (270, 59)\n"
     ]
    },
    {
     "name": "stderr",
     "output_type": "stream",
     "text": [
      "C:\\Users\\abhij\\AppData\\Local\\Temp\\ipykernel_18656\\146205851.py:16: SettingWithCopyWarning: \n",
      "A value is trying to be set on a copy of a slice from a DataFrame.\n",
      "Try using .loc[row_indexer,col_indexer] = value instead\n",
      "\n",
      "See the caveats in the documentation: https://pandas.pydata.org/pandas-docs/stable/user_guide/indexing.html#returning-a-view-versus-a-copy\n",
      "  current_data['Date'] = current_data.index\n",
      "C:\\Users\\abhij\\AppData\\Local\\Temp\\ipykernel_18656\\146205851.py:16: SettingWithCopyWarning: \n",
      "A value is trying to be set on a copy of a slice from a DataFrame.\n",
      "Try using .loc[row_indexer,col_indexer] = value instead\n",
      "\n",
      "See the caveats in the documentation: https://pandas.pydata.org/pandas-docs/stable/user_guide/indexing.html#returning-a-view-versus-a-copy\n",
      "  current_data['Date'] = current_data.index\n"
     ]
    },
    {
     "name": "stdout",
     "output_type": "stream",
     "text": [
      "shape of df4 is (210, 3541)\n",
      "Completed 129 out of 488 steps\n",
      "the main data is of shape (270, 2)\n",
      "shape of current_data2 is (270, 59)\n",
      "shape of df4 is (210, 3541)\n",
      "Completed 130 out of 488 steps\n",
      "the main data is of shape (270, 2)\n",
      "shape of current_data2 is (270, 59)\n"
     ]
    },
    {
     "name": "stderr",
     "output_type": "stream",
     "text": [
      "C:\\Users\\abhij\\AppData\\Local\\Temp\\ipykernel_18656\\146205851.py:16: SettingWithCopyWarning: \n",
      "A value is trying to be set on a copy of a slice from a DataFrame.\n",
      "Try using .loc[row_indexer,col_indexer] = value instead\n",
      "\n",
      "See the caveats in the documentation: https://pandas.pydata.org/pandas-docs/stable/user_guide/indexing.html#returning-a-view-versus-a-copy\n",
      "  current_data['Date'] = current_data.index\n",
      "C:\\Users\\abhij\\AppData\\Local\\Temp\\ipykernel_18656\\146205851.py:16: SettingWithCopyWarning: \n",
      "A value is trying to be set on a copy of a slice from a DataFrame.\n",
      "Try using .loc[row_indexer,col_indexer] = value instead\n",
      "\n",
      "See the caveats in the documentation: https://pandas.pydata.org/pandas-docs/stable/user_guide/indexing.html#returning-a-view-versus-a-copy\n",
      "  current_data['Date'] = current_data.index\n"
     ]
    },
    {
     "name": "stdout",
     "output_type": "stream",
     "text": [
      "shape of df4 is (210, 3541)\n",
      "Completed 131 out of 488 steps\n",
      "the main data is of shape (270, 2)\n",
      "shape of current_data2 is (270, 59)\n",
      "shape of df4 is (210, 3541)\n",
      "Completed 132 out of 488 steps\n",
      "the main data is of shape (270, 2)\n",
      "shape of current_data2 is (270, 59)\n"
     ]
    },
    {
     "name": "stderr",
     "output_type": "stream",
     "text": [
      "C:\\Users\\abhij\\AppData\\Local\\Temp\\ipykernel_18656\\146205851.py:16: SettingWithCopyWarning: \n",
      "A value is trying to be set on a copy of a slice from a DataFrame.\n",
      "Try using .loc[row_indexer,col_indexer] = value instead\n",
      "\n",
      "See the caveats in the documentation: https://pandas.pydata.org/pandas-docs/stable/user_guide/indexing.html#returning-a-view-versus-a-copy\n",
      "  current_data['Date'] = current_data.index\n"
     ]
    },
    {
     "name": "stdout",
     "output_type": "stream",
     "text": [
      "shape of df4 is (210, 3541)\n",
      "Completed 133 out of 488 steps\n",
      "the main data is of shape (270, 2)\n",
      "shape of current_data2 is (270, 59)\n"
     ]
    },
    {
     "name": "stderr",
     "output_type": "stream",
     "text": [
      "C:\\Users\\abhij\\AppData\\Local\\Temp\\ipykernel_18656\\146205851.py:16: SettingWithCopyWarning: \n",
      "A value is trying to be set on a copy of a slice from a DataFrame.\n",
      "Try using .loc[row_indexer,col_indexer] = value instead\n",
      "\n",
      "See the caveats in the documentation: https://pandas.pydata.org/pandas-docs/stable/user_guide/indexing.html#returning-a-view-versus-a-copy\n",
      "  current_data['Date'] = current_data.index\n"
     ]
    },
    {
     "name": "stdout",
     "output_type": "stream",
     "text": [
      "shape of df4 is (210, 3541)\n",
      "Completed 134 out of 488 steps\n",
      "the main data is of shape (270, 2)\n",
      "shape of current_data2 is (270, 59)\n"
     ]
    },
    {
     "name": "stderr",
     "output_type": "stream",
     "text": [
      "C:\\Users\\abhij\\AppData\\Local\\Temp\\ipykernel_18656\\146205851.py:16: SettingWithCopyWarning: \n",
      "A value is trying to be set on a copy of a slice from a DataFrame.\n",
      "Try using .loc[row_indexer,col_indexer] = value instead\n",
      "\n",
      "See the caveats in the documentation: https://pandas.pydata.org/pandas-docs/stable/user_guide/indexing.html#returning-a-view-versus-a-copy\n",
      "  current_data['Date'] = current_data.index\n",
      "C:\\Users\\abhij\\AppData\\Local\\Temp\\ipykernel_18656\\146205851.py:16: SettingWithCopyWarning: \n",
      "A value is trying to be set on a copy of a slice from a DataFrame.\n",
      "Try using .loc[row_indexer,col_indexer] = value instead\n",
      "\n",
      "See the caveats in the documentation: https://pandas.pydata.org/pandas-docs/stable/user_guide/indexing.html#returning-a-view-versus-a-copy\n",
      "  current_data['Date'] = current_data.index\n"
     ]
    },
    {
     "name": "stdout",
     "output_type": "stream",
     "text": [
      "shape of df4 is (210, 3541)\n",
      "Completed 135 out of 488 steps\n",
      "the main data is of shape (270, 2)\n",
      "shape of current_data2 is (270, 59)\n",
      "shape of df4 is (210, 3541)\n",
      "Completed 136 out of 488 steps\n",
      "the main data is of shape (270, 2)\n",
      "shape of current_data2 is (270, 59)\n"
     ]
    },
    {
     "name": "stderr",
     "output_type": "stream",
     "text": [
      "C:\\Users\\abhij\\AppData\\Local\\Temp\\ipykernel_18656\\146205851.py:16: SettingWithCopyWarning: \n",
      "A value is trying to be set on a copy of a slice from a DataFrame.\n",
      "Try using .loc[row_indexer,col_indexer] = value instead\n",
      "\n",
      "See the caveats in the documentation: https://pandas.pydata.org/pandas-docs/stable/user_guide/indexing.html#returning-a-view-versus-a-copy\n",
      "  current_data['Date'] = current_data.index\n",
      "C:\\Users\\abhij\\AppData\\Local\\Temp\\ipykernel_18656\\146205851.py:16: SettingWithCopyWarning: \n",
      "A value is trying to be set on a copy of a slice from a DataFrame.\n",
      "Try using .loc[row_indexer,col_indexer] = value instead\n",
      "\n",
      "See the caveats in the documentation: https://pandas.pydata.org/pandas-docs/stable/user_guide/indexing.html#returning-a-view-versus-a-copy\n",
      "  current_data['Date'] = current_data.index\n"
     ]
    },
    {
     "name": "stdout",
     "output_type": "stream",
     "text": [
      "shape of df4 is (210, 3541)\n",
      "Completed 137 out of 488 steps\n",
      "the main data is of shape (270, 2)\n",
      "shape of current_data2 is (270, 59)\n",
      "shape of df4 is (210, 3541)\n",
      "Completed 138 out of 488 steps\n",
      "the main data is of shape (270, 2)\n",
      "shape of current_data2 is (270, 59)\n"
     ]
    },
    {
     "name": "stderr",
     "output_type": "stream",
     "text": [
      "C:\\Users\\abhij\\AppData\\Local\\Temp\\ipykernel_18656\\146205851.py:16: SettingWithCopyWarning: \n",
      "A value is trying to be set on a copy of a slice from a DataFrame.\n",
      "Try using .loc[row_indexer,col_indexer] = value instead\n",
      "\n",
      "See the caveats in the documentation: https://pandas.pydata.org/pandas-docs/stable/user_guide/indexing.html#returning-a-view-versus-a-copy\n",
      "  current_data['Date'] = current_data.index\n"
     ]
    },
    {
     "name": "stdout",
     "output_type": "stream",
     "text": [
      "shape of df4 is (210, 3541)\n",
      "Completed 139 out of 488 steps\n",
      "the main data is of shape (270, 2)\n",
      "shape of current_data2 is (270, 59)\n"
     ]
    },
    {
     "name": "stderr",
     "output_type": "stream",
     "text": [
      "C:\\Users\\abhij\\AppData\\Local\\Temp\\ipykernel_18656\\146205851.py:16: SettingWithCopyWarning: \n",
      "A value is trying to be set on a copy of a slice from a DataFrame.\n",
      "Try using .loc[row_indexer,col_indexer] = value instead\n",
      "\n",
      "See the caveats in the documentation: https://pandas.pydata.org/pandas-docs/stable/user_guide/indexing.html#returning-a-view-versus-a-copy\n",
      "  current_data['Date'] = current_data.index\n"
     ]
    },
    {
     "name": "stdout",
     "output_type": "stream",
     "text": [
      "shape of df4 is (210, 3541)\n",
      "Completed 140 out of 488 steps\n",
      "the main data is of shape (270, 2)\n",
      "shape of current_data2 is (270, 59)\n"
     ]
    },
    {
     "name": "stderr",
     "output_type": "stream",
     "text": [
      "C:\\Users\\abhij\\AppData\\Local\\Temp\\ipykernel_18656\\146205851.py:16: SettingWithCopyWarning: \n",
      "A value is trying to be set on a copy of a slice from a DataFrame.\n",
      "Try using .loc[row_indexer,col_indexer] = value instead\n",
      "\n",
      "See the caveats in the documentation: https://pandas.pydata.org/pandas-docs/stable/user_guide/indexing.html#returning-a-view-versus-a-copy\n",
      "  current_data['Date'] = current_data.index\n"
     ]
    },
    {
     "name": "stdout",
     "output_type": "stream",
     "text": [
      "shape of df4 is (210, 3541)\n",
      "Completed 141 out of 488 steps\n",
      "the main data is of shape (270, 2)\n",
      "shape of current_data2 is (270, 59)\n"
     ]
    },
    {
     "name": "stderr",
     "output_type": "stream",
     "text": [
      "C:\\Users\\abhij\\AppData\\Local\\Temp\\ipykernel_18656\\146205851.py:16: SettingWithCopyWarning: \n",
      "A value is trying to be set on a copy of a slice from a DataFrame.\n",
      "Try using .loc[row_indexer,col_indexer] = value instead\n",
      "\n",
      "See the caveats in the documentation: https://pandas.pydata.org/pandas-docs/stable/user_guide/indexing.html#returning-a-view-versus-a-copy\n",
      "  current_data['Date'] = current_data.index\n",
      "C:\\Users\\abhij\\AppData\\Local\\Temp\\ipykernel_18656\\146205851.py:16: SettingWithCopyWarning: \n",
      "A value is trying to be set on a copy of a slice from a DataFrame.\n",
      "Try using .loc[row_indexer,col_indexer] = value instead\n",
      "\n",
      "See the caveats in the documentation: https://pandas.pydata.org/pandas-docs/stable/user_guide/indexing.html#returning-a-view-versus-a-copy\n",
      "  current_data['Date'] = current_data.index\n"
     ]
    },
    {
     "name": "stdout",
     "output_type": "stream",
     "text": [
      "shape of df4 is (210, 3541)\n",
      "Completed 142 out of 488 steps\n",
      "the main data is of shape (270, 2)\n",
      "shape of current_data2 is (270, 59)\n",
      "shape of df4 is (210, 3541)\n",
      "Completed 143 out of 488 steps\n",
      "the main data is of shape (270, 2)\n",
      "shape of current_data2 is (270, 59)\n"
     ]
    },
    {
     "name": "stderr",
     "output_type": "stream",
     "text": [
      "C:\\Users\\abhij\\AppData\\Local\\Temp\\ipykernel_18656\\146205851.py:16: SettingWithCopyWarning: \n",
      "A value is trying to be set on a copy of a slice from a DataFrame.\n",
      "Try using .loc[row_indexer,col_indexer] = value instead\n",
      "\n",
      "See the caveats in the documentation: https://pandas.pydata.org/pandas-docs/stable/user_guide/indexing.html#returning-a-view-versus-a-copy\n",
      "  current_data['Date'] = current_data.index\n"
     ]
    },
    {
     "name": "stdout",
     "output_type": "stream",
     "text": [
      "shape of df4 is (210, 3541)\n",
      "Completed 144 out of 488 steps\n",
      "the main data is of shape (270, 2)\n",
      "shape of current_data2 is (270, 59)\n"
     ]
    },
    {
     "name": "stderr",
     "output_type": "stream",
     "text": [
      "C:\\Users\\abhij\\AppData\\Local\\Temp\\ipykernel_18656\\146205851.py:16: SettingWithCopyWarning: \n",
      "A value is trying to be set on a copy of a slice from a DataFrame.\n",
      "Try using .loc[row_indexer,col_indexer] = value instead\n",
      "\n",
      "See the caveats in the documentation: https://pandas.pydata.org/pandas-docs/stable/user_guide/indexing.html#returning-a-view-versus-a-copy\n",
      "  current_data['Date'] = current_data.index\n"
     ]
    },
    {
     "name": "stdout",
     "output_type": "stream",
     "text": [
      "shape of df4 is (210, 3541)\n",
      "Completed 145 out of 488 steps\n",
      "the main data is of shape (270, 2)\n",
      "shape of current_data2 is (270, 59)\n"
     ]
    },
    {
     "name": "stderr",
     "output_type": "stream",
     "text": [
      "C:\\Users\\abhij\\AppData\\Local\\Temp\\ipykernel_18656\\146205851.py:16: SettingWithCopyWarning: \n",
      "A value is trying to be set on a copy of a slice from a DataFrame.\n",
      "Try using .loc[row_indexer,col_indexer] = value instead\n",
      "\n",
      "See the caveats in the documentation: https://pandas.pydata.org/pandas-docs/stable/user_guide/indexing.html#returning-a-view-versus-a-copy\n",
      "  current_data['Date'] = current_data.index\n"
     ]
    },
    {
     "name": "stdout",
     "output_type": "stream",
     "text": [
      "shape of df4 is (210, 3541)\n",
      "Completed 146 out of 488 steps\n",
      "the main data is of shape (270, 2)\n",
      "shape of current_data2 is (270, 59)\n"
     ]
    },
    {
     "name": "stderr",
     "output_type": "stream",
     "text": [
      "C:\\Users\\abhij\\AppData\\Local\\Temp\\ipykernel_18656\\146205851.py:16: SettingWithCopyWarning: \n",
      "A value is trying to be set on a copy of a slice from a DataFrame.\n",
      "Try using .loc[row_indexer,col_indexer] = value instead\n",
      "\n",
      "See the caveats in the documentation: https://pandas.pydata.org/pandas-docs/stable/user_guide/indexing.html#returning-a-view-versus-a-copy\n",
      "  current_data['Date'] = current_data.index\n"
     ]
    },
    {
     "name": "stdout",
     "output_type": "stream",
     "text": [
      "shape of df4 is (210, 3541)\n",
      "Completed 147 out of 488 steps\n",
      "the main data is of shape (270, 2)\n",
      "shape of current_data2 is (270, 59)\n"
     ]
    },
    {
     "name": "stderr",
     "output_type": "stream",
     "text": [
      "C:\\Users\\abhij\\AppData\\Local\\Temp\\ipykernel_18656\\146205851.py:16: SettingWithCopyWarning: \n",
      "A value is trying to be set on a copy of a slice from a DataFrame.\n",
      "Try using .loc[row_indexer,col_indexer] = value instead\n",
      "\n",
      "See the caveats in the documentation: https://pandas.pydata.org/pandas-docs/stable/user_guide/indexing.html#returning-a-view-versus-a-copy\n",
      "  current_data['Date'] = current_data.index\n"
     ]
    },
    {
     "name": "stdout",
     "output_type": "stream",
     "text": [
      "shape of df4 is (210, 3541)\n",
      "Completed 148 out of 488 steps\n",
      "the main data is of shape (270, 2)\n",
      "shape of current_data2 is (270, 59)\n"
     ]
    },
    {
     "name": "stderr",
     "output_type": "stream",
     "text": [
      "C:\\Users\\abhij\\AppData\\Local\\Temp\\ipykernel_18656\\146205851.py:16: SettingWithCopyWarning: \n",
      "A value is trying to be set on a copy of a slice from a DataFrame.\n",
      "Try using .loc[row_indexer,col_indexer] = value instead\n",
      "\n",
      "See the caveats in the documentation: https://pandas.pydata.org/pandas-docs/stable/user_guide/indexing.html#returning-a-view-versus-a-copy\n",
      "  current_data['Date'] = current_data.index\n"
     ]
    },
    {
     "name": "stdout",
     "output_type": "stream",
     "text": [
      "shape of df4 is (210, 3541)\n",
      "Completed 149 out of 488 steps\n",
      "the main data is of shape (270, 2)\n",
      "shape of current_data2 is (270, 59)\n"
     ]
    },
    {
     "name": "stderr",
     "output_type": "stream",
     "text": [
      "C:\\Users\\abhij\\AppData\\Local\\Temp\\ipykernel_18656\\146205851.py:16: SettingWithCopyWarning: \n",
      "A value is trying to be set on a copy of a slice from a DataFrame.\n",
      "Try using .loc[row_indexer,col_indexer] = value instead\n",
      "\n",
      "See the caveats in the documentation: https://pandas.pydata.org/pandas-docs/stable/user_guide/indexing.html#returning-a-view-versus-a-copy\n",
      "  current_data['Date'] = current_data.index\n"
     ]
    },
    {
     "name": "stdout",
     "output_type": "stream",
     "text": [
      "shape of df4 is (210, 3541)\n",
      "Completed 150 out of 488 steps\n",
      "the main data is of shape (270, 2)\n",
      "shape of current_data2 is (270, 59)\n"
     ]
    },
    {
     "name": "stderr",
     "output_type": "stream",
     "text": [
      "C:\\Users\\abhij\\AppData\\Local\\Temp\\ipykernel_18656\\146205851.py:16: SettingWithCopyWarning: \n",
      "A value is trying to be set on a copy of a slice from a DataFrame.\n",
      "Try using .loc[row_indexer,col_indexer] = value instead\n",
      "\n",
      "See the caveats in the documentation: https://pandas.pydata.org/pandas-docs/stable/user_guide/indexing.html#returning-a-view-versus-a-copy\n",
      "  current_data['Date'] = current_data.index\n"
     ]
    },
    {
     "name": "stdout",
     "output_type": "stream",
     "text": [
      "shape of df4 is (210, 3541)\n",
      "Completed 151 out of 488 steps\n",
      "the main data is of shape (270, 2)\n",
      "shape of current_data2 is (270, 59)\n"
     ]
    },
    {
     "name": "stderr",
     "output_type": "stream",
     "text": [
      "C:\\Users\\abhij\\AppData\\Local\\Temp\\ipykernel_18656\\146205851.py:16: SettingWithCopyWarning: \n",
      "A value is trying to be set on a copy of a slice from a DataFrame.\n",
      "Try using .loc[row_indexer,col_indexer] = value instead\n",
      "\n",
      "See the caveats in the documentation: https://pandas.pydata.org/pandas-docs/stable/user_guide/indexing.html#returning-a-view-versus-a-copy\n",
      "  current_data['Date'] = current_data.index\n",
      "C:\\Users\\abhij\\AppData\\Local\\Temp\\ipykernel_18656\\146205851.py:16: SettingWithCopyWarning: \n",
      "A value is trying to be set on a copy of a slice from a DataFrame.\n",
      "Try using .loc[row_indexer,col_indexer] = value instead\n",
      "\n",
      "See the caveats in the documentation: https://pandas.pydata.org/pandas-docs/stable/user_guide/indexing.html#returning-a-view-versus-a-copy\n",
      "  current_data['Date'] = current_data.index\n"
     ]
    },
    {
     "name": "stdout",
     "output_type": "stream",
     "text": [
      "shape of df4 is (210, 3541)\n",
      "Completed 152 out of 488 steps\n",
      "the main data is of shape (270, 2)\n",
      "shape of current_data2 is (270, 59)\n",
      "shape of df4 is (210, 3541)\n",
      "Completed 153 out of 488 steps\n",
      "the main data is of shape (270, 2)\n",
      "shape of current_data2 is (270, 59)\n"
     ]
    },
    {
     "name": "stderr",
     "output_type": "stream",
     "text": [
      "C:\\Users\\abhij\\AppData\\Local\\Temp\\ipykernel_18656\\146205851.py:16: SettingWithCopyWarning: \n",
      "A value is trying to be set on a copy of a slice from a DataFrame.\n",
      "Try using .loc[row_indexer,col_indexer] = value instead\n",
      "\n",
      "See the caveats in the documentation: https://pandas.pydata.org/pandas-docs/stable/user_guide/indexing.html#returning-a-view-versus-a-copy\n",
      "  current_data['Date'] = current_data.index\n"
     ]
    },
    {
     "name": "stdout",
     "output_type": "stream",
     "text": [
      "shape of df4 is (210, 3541)\n",
      "Completed 154 out of 488 steps\n",
      "the main data is of shape (270, 2)\n",
      "shape of current_data2 is (270, 59)\n"
     ]
    },
    {
     "name": "stderr",
     "output_type": "stream",
     "text": [
      "C:\\Users\\abhij\\AppData\\Local\\Temp\\ipykernel_18656\\146205851.py:16: SettingWithCopyWarning: \n",
      "A value is trying to be set on a copy of a slice from a DataFrame.\n",
      "Try using .loc[row_indexer,col_indexer] = value instead\n",
      "\n",
      "See the caveats in the documentation: https://pandas.pydata.org/pandas-docs/stable/user_guide/indexing.html#returning-a-view-versus-a-copy\n",
      "  current_data['Date'] = current_data.index\n"
     ]
    },
    {
     "name": "stdout",
     "output_type": "stream",
     "text": [
      "shape of df4 is (210, 3541)\n",
      "Completed 155 out of 488 steps\n",
      "the main data is of shape (270, 2)\n",
      "shape of current_data2 is (270, 59)\n"
     ]
    },
    {
     "name": "stderr",
     "output_type": "stream",
     "text": [
      "C:\\Users\\abhij\\AppData\\Local\\Temp\\ipykernel_18656\\146205851.py:16: SettingWithCopyWarning: \n",
      "A value is trying to be set on a copy of a slice from a DataFrame.\n",
      "Try using .loc[row_indexer,col_indexer] = value instead\n",
      "\n",
      "See the caveats in the documentation: https://pandas.pydata.org/pandas-docs/stable/user_guide/indexing.html#returning-a-view-versus-a-copy\n",
      "  current_data['Date'] = current_data.index\n"
     ]
    },
    {
     "name": "stdout",
     "output_type": "stream",
     "text": [
      "shape of df4 is (210, 3541)\n",
      "Completed 156 out of 488 steps\n",
      "the main data is of shape (270, 2)\n",
      "shape of current_data2 is (270, 59)\n"
     ]
    },
    {
     "name": "stderr",
     "output_type": "stream",
     "text": [
      "C:\\Users\\abhij\\AppData\\Local\\Temp\\ipykernel_18656\\146205851.py:16: SettingWithCopyWarning: \n",
      "A value is trying to be set on a copy of a slice from a DataFrame.\n",
      "Try using .loc[row_indexer,col_indexer] = value instead\n",
      "\n",
      "See the caveats in the documentation: https://pandas.pydata.org/pandas-docs/stable/user_guide/indexing.html#returning-a-view-versus-a-copy\n",
      "  current_data['Date'] = current_data.index\n",
      "C:\\Users\\abhij\\AppData\\Local\\Temp\\ipykernel_18656\\146205851.py:16: SettingWithCopyWarning: \n",
      "A value is trying to be set on a copy of a slice from a DataFrame.\n",
      "Try using .loc[row_indexer,col_indexer] = value instead\n",
      "\n",
      "See the caveats in the documentation: https://pandas.pydata.org/pandas-docs/stable/user_guide/indexing.html#returning-a-view-versus-a-copy\n",
      "  current_data['Date'] = current_data.index\n"
     ]
    },
    {
     "name": "stdout",
     "output_type": "stream",
     "text": [
      "shape of df4 is (210, 3541)\n",
      "Completed 157 out of 488 steps\n",
      "the main data is of shape (270, 2)\n",
      "shape of current_data2 is (270, 59)\n",
      "shape of df4 is (210, 3541)\n",
      "Completed 158 out of 488 steps\n",
      "the main data is of shape (270, 2)\n",
      "shape of current_data2 is (270, 59)\n"
     ]
    },
    {
     "name": "stderr",
     "output_type": "stream",
     "text": [
      "C:\\Users\\abhij\\AppData\\Local\\Temp\\ipykernel_18656\\146205851.py:16: SettingWithCopyWarning: \n",
      "A value is trying to be set on a copy of a slice from a DataFrame.\n",
      "Try using .loc[row_indexer,col_indexer] = value instead\n",
      "\n",
      "See the caveats in the documentation: https://pandas.pydata.org/pandas-docs/stable/user_guide/indexing.html#returning-a-view-versus-a-copy\n",
      "  current_data['Date'] = current_data.index\n"
     ]
    },
    {
     "name": "stdout",
     "output_type": "stream",
     "text": [
      "shape of df4 is (210, 3541)\n",
      "Completed 159 out of 488 steps\n",
      "the main data is of shape (270, 2)\n",
      "shape of current_data2 is (270, 59)\n"
     ]
    },
    {
     "name": "stderr",
     "output_type": "stream",
     "text": [
      "C:\\Users\\abhij\\AppData\\Local\\Temp\\ipykernel_18656\\146205851.py:16: SettingWithCopyWarning: \n",
      "A value is trying to be set on a copy of a slice from a DataFrame.\n",
      "Try using .loc[row_indexer,col_indexer] = value instead\n",
      "\n",
      "See the caveats in the documentation: https://pandas.pydata.org/pandas-docs/stable/user_guide/indexing.html#returning-a-view-versus-a-copy\n",
      "  current_data['Date'] = current_data.index\n",
      "C:\\Users\\abhij\\AppData\\Local\\Temp\\ipykernel_18656\\146205851.py:16: SettingWithCopyWarning: \n",
      "A value is trying to be set on a copy of a slice from a DataFrame.\n",
      "Try using .loc[row_indexer,col_indexer] = value instead\n",
      "\n",
      "See the caveats in the documentation: https://pandas.pydata.org/pandas-docs/stable/user_guide/indexing.html#returning-a-view-versus-a-copy\n",
      "  current_data['Date'] = current_data.index\n"
     ]
    },
    {
     "name": "stdout",
     "output_type": "stream",
     "text": [
      "shape of df4 is (210, 3541)\n",
      "Completed 160 out of 488 steps\n",
      "the main data is of shape (270, 2)\n",
      "shape of current_data2 is (270, 59)\n",
      "shape of df4 is (210, 3541)\n",
      "Completed 161 out of 488 steps\n",
      "the main data is of shape (270, 2)\n",
      "shape of current_data2 is (270, 59)\n"
     ]
    },
    {
     "name": "stderr",
     "output_type": "stream",
     "text": [
      "C:\\Users\\abhij\\AppData\\Local\\Temp\\ipykernel_18656\\146205851.py:16: SettingWithCopyWarning: \n",
      "A value is trying to be set on a copy of a slice from a DataFrame.\n",
      "Try using .loc[row_indexer,col_indexer] = value instead\n",
      "\n",
      "See the caveats in the documentation: https://pandas.pydata.org/pandas-docs/stable/user_guide/indexing.html#returning-a-view-versus-a-copy\n",
      "  current_data['Date'] = current_data.index\n"
     ]
    },
    {
     "name": "stdout",
     "output_type": "stream",
     "text": [
      "shape of df4 is (210, 3541)\n",
      "Completed 162 out of 488 steps\n",
      "the main data is of shape (270, 2)\n",
      "shape of current_data2 is (270, 59)\n"
     ]
    },
    {
     "name": "stderr",
     "output_type": "stream",
     "text": [
      "C:\\Users\\abhij\\AppData\\Local\\Temp\\ipykernel_18656\\146205851.py:16: SettingWithCopyWarning: \n",
      "A value is trying to be set on a copy of a slice from a DataFrame.\n",
      "Try using .loc[row_indexer,col_indexer] = value instead\n",
      "\n",
      "See the caveats in the documentation: https://pandas.pydata.org/pandas-docs/stable/user_guide/indexing.html#returning-a-view-versus-a-copy\n",
      "  current_data['Date'] = current_data.index\n"
     ]
    },
    {
     "name": "stdout",
     "output_type": "stream",
     "text": [
      "shape of df4 is (210, 3541)\n",
      "Completed 163 out of 488 steps\n",
      "the main data is of shape (270, 2)\n",
      "shape of current_data2 is (270, 59)\n"
     ]
    },
    {
     "name": "stderr",
     "output_type": "stream",
     "text": [
      "C:\\Users\\abhij\\AppData\\Local\\Temp\\ipykernel_18656\\146205851.py:16: SettingWithCopyWarning: \n",
      "A value is trying to be set on a copy of a slice from a DataFrame.\n",
      "Try using .loc[row_indexer,col_indexer] = value instead\n",
      "\n",
      "See the caveats in the documentation: https://pandas.pydata.org/pandas-docs/stable/user_guide/indexing.html#returning-a-view-versus-a-copy\n",
      "  current_data['Date'] = current_data.index\n"
     ]
    },
    {
     "name": "stdout",
     "output_type": "stream",
     "text": [
      "shape of df4 is (210, 3541)\n",
      "Completed 164 out of 488 steps\n",
      "the main data is of shape (270, 2)\n",
      "shape of current_data2 is (270, 59)\n"
     ]
    },
    {
     "name": "stderr",
     "output_type": "stream",
     "text": [
      "C:\\Users\\abhij\\AppData\\Local\\Temp\\ipykernel_18656\\146205851.py:16: SettingWithCopyWarning: \n",
      "A value is trying to be set on a copy of a slice from a DataFrame.\n",
      "Try using .loc[row_indexer,col_indexer] = value instead\n",
      "\n",
      "See the caveats in the documentation: https://pandas.pydata.org/pandas-docs/stable/user_guide/indexing.html#returning-a-view-versus-a-copy\n",
      "  current_data['Date'] = current_data.index\n"
     ]
    },
    {
     "name": "stdout",
     "output_type": "stream",
     "text": [
      "shape of df4 is (210, 3541)\n",
      "Completed 165 out of 488 steps\n",
      "the main data is of shape (270, 2)\n",
      "shape of current_data2 is (270, 59)\n"
     ]
    },
    {
     "name": "stderr",
     "output_type": "stream",
     "text": [
      "C:\\Users\\abhij\\AppData\\Local\\Temp\\ipykernel_18656\\146205851.py:16: SettingWithCopyWarning: \n",
      "A value is trying to be set on a copy of a slice from a DataFrame.\n",
      "Try using .loc[row_indexer,col_indexer] = value instead\n",
      "\n",
      "See the caveats in the documentation: https://pandas.pydata.org/pandas-docs/stable/user_guide/indexing.html#returning-a-view-versus-a-copy\n",
      "  current_data['Date'] = current_data.index\n"
     ]
    },
    {
     "name": "stdout",
     "output_type": "stream",
     "text": [
      "shape of df4 is (210, 3541)\n",
      "Completed 166 out of 488 steps\n",
      "the main data is of shape (270, 2)\n",
      "shape of current_data2 is (270, 59)\n"
     ]
    },
    {
     "name": "stderr",
     "output_type": "stream",
     "text": [
      "C:\\Users\\abhij\\AppData\\Local\\Temp\\ipykernel_18656\\146205851.py:16: SettingWithCopyWarning: \n",
      "A value is trying to be set on a copy of a slice from a DataFrame.\n",
      "Try using .loc[row_indexer,col_indexer] = value instead\n",
      "\n",
      "See the caveats in the documentation: https://pandas.pydata.org/pandas-docs/stable/user_guide/indexing.html#returning-a-view-versus-a-copy\n",
      "  current_data['Date'] = current_data.index\n"
     ]
    },
    {
     "name": "stdout",
     "output_type": "stream",
     "text": [
      "shape of df4 is (210, 3541)\n",
      "Completed 167 out of 488 steps\n",
      "the main data is of shape (270, 2)\n",
      "shape of current_data2 is (270, 59)\n"
     ]
    },
    {
     "name": "stderr",
     "output_type": "stream",
     "text": [
      "C:\\Users\\abhij\\AppData\\Local\\Temp\\ipykernel_18656\\146205851.py:16: SettingWithCopyWarning: \n",
      "A value is trying to be set on a copy of a slice from a DataFrame.\n",
      "Try using .loc[row_indexer,col_indexer] = value instead\n",
      "\n",
      "See the caveats in the documentation: https://pandas.pydata.org/pandas-docs/stable/user_guide/indexing.html#returning-a-view-versus-a-copy\n",
      "  current_data['Date'] = current_data.index\n"
     ]
    },
    {
     "name": "stdout",
     "output_type": "stream",
     "text": [
      "shape of df4 is (210, 3541)\n",
      "Completed 168 out of 488 steps\n",
      "the main data is of shape (270, 2)\n",
      "shape of current_data2 is (270, 59)\n"
     ]
    },
    {
     "name": "stderr",
     "output_type": "stream",
     "text": [
      "C:\\Users\\abhij\\AppData\\Local\\Temp\\ipykernel_18656\\146205851.py:16: SettingWithCopyWarning: \n",
      "A value is trying to be set on a copy of a slice from a DataFrame.\n",
      "Try using .loc[row_indexer,col_indexer] = value instead\n",
      "\n",
      "See the caveats in the documentation: https://pandas.pydata.org/pandas-docs/stable/user_guide/indexing.html#returning-a-view-versus-a-copy\n",
      "  current_data['Date'] = current_data.index\n"
     ]
    },
    {
     "name": "stdout",
     "output_type": "stream",
     "text": [
      "shape of df4 is (210, 3541)\n",
      "Completed 169 out of 488 steps\n",
      "the main data is of shape (270, 2)\n",
      "shape of current_data2 is (270, 59)\n"
     ]
    },
    {
     "name": "stderr",
     "output_type": "stream",
     "text": [
      "C:\\Users\\abhij\\AppData\\Local\\Temp\\ipykernel_18656\\146205851.py:16: SettingWithCopyWarning: \n",
      "A value is trying to be set on a copy of a slice from a DataFrame.\n",
      "Try using .loc[row_indexer,col_indexer] = value instead\n",
      "\n",
      "See the caveats in the documentation: https://pandas.pydata.org/pandas-docs/stable/user_guide/indexing.html#returning-a-view-versus-a-copy\n",
      "  current_data['Date'] = current_data.index\n"
     ]
    },
    {
     "name": "stdout",
     "output_type": "stream",
     "text": [
      "shape of df4 is (210, 3541)\n",
      "Completed 170 out of 488 steps\n",
      "the main data is of shape (270, 2)\n",
      "shape of current_data2 is (270, 59)\n"
     ]
    },
    {
     "name": "stderr",
     "output_type": "stream",
     "text": [
      "C:\\Users\\abhij\\AppData\\Local\\Temp\\ipykernel_18656\\146205851.py:16: SettingWithCopyWarning: \n",
      "A value is trying to be set on a copy of a slice from a DataFrame.\n",
      "Try using .loc[row_indexer,col_indexer] = value instead\n",
      "\n",
      "See the caveats in the documentation: https://pandas.pydata.org/pandas-docs/stable/user_guide/indexing.html#returning-a-view-versus-a-copy\n",
      "  current_data['Date'] = current_data.index\n"
     ]
    },
    {
     "name": "stdout",
     "output_type": "stream",
     "text": [
      "shape of df4 is (210, 3541)\n",
      "Completed 171 out of 488 steps\n",
      "the main data is of shape (270, 2)\n",
      "shape of current_data2 is (270, 59)\n"
     ]
    },
    {
     "name": "stderr",
     "output_type": "stream",
     "text": [
      "C:\\Users\\abhij\\AppData\\Local\\Temp\\ipykernel_18656\\146205851.py:16: SettingWithCopyWarning: \n",
      "A value is trying to be set on a copy of a slice from a DataFrame.\n",
      "Try using .loc[row_indexer,col_indexer] = value instead\n",
      "\n",
      "See the caveats in the documentation: https://pandas.pydata.org/pandas-docs/stable/user_guide/indexing.html#returning-a-view-versus-a-copy\n",
      "  current_data['Date'] = current_data.index\n"
     ]
    },
    {
     "name": "stdout",
     "output_type": "stream",
     "text": [
      "shape of df4 is (210, 3541)\n",
      "Completed 172 out of 488 steps\n",
      "the main data is of shape (270, 2)\n",
      "shape of current_data2 is (270, 59)\n"
     ]
    },
    {
     "name": "stderr",
     "output_type": "stream",
     "text": [
      "C:\\Users\\abhij\\AppData\\Local\\Temp\\ipykernel_18656\\146205851.py:16: SettingWithCopyWarning: \n",
      "A value is trying to be set on a copy of a slice from a DataFrame.\n",
      "Try using .loc[row_indexer,col_indexer] = value instead\n",
      "\n",
      "See the caveats in the documentation: https://pandas.pydata.org/pandas-docs/stable/user_guide/indexing.html#returning-a-view-versus-a-copy\n",
      "  current_data['Date'] = current_data.index\n"
     ]
    },
    {
     "name": "stdout",
     "output_type": "stream",
     "text": [
      "shape of df4 is (210, 3541)\n",
      "Completed 173 out of 488 steps\n",
      "the main data is of shape (270, 2)\n",
      "shape of current_data2 is (270, 59)\n"
     ]
    },
    {
     "name": "stderr",
     "output_type": "stream",
     "text": [
      "C:\\Users\\abhij\\AppData\\Local\\Temp\\ipykernel_18656\\146205851.py:16: SettingWithCopyWarning: \n",
      "A value is trying to be set on a copy of a slice from a DataFrame.\n",
      "Try using .loc[row_indexer,col_indexer] = value instead\n",
      "\n",
      "See the caveats in the documentation: https://pandas.pydata.org/pandas-docs/stable/user_guide/indexing.html#returning-a-view-versus-a-copy\n",
      "  current_data['Date'] = current_data.index\n"
     ]
    },
    {
     "name": "stdout",
     "output_type": "stream",
     "text": [
      "shape of df4 is (210, 3541)\n",
      "Completed 174 out of 488 steps\n",
      "the main data is of shape (270, 2)\n",
      "shape of current_data2 is (270, 59)\n"
     ]
    },
    {
     "name": "stderr",
     "output_type": "stream",
     "text": [
      "C:\\Users\\abhij\\AppData\\Local\\Temp\\ipykernel_18656\\146205851.py:16: SettingWithCopyWarning: \n",
      "A value is trying to be set on a copy of a slice from a DataFrame.\n",
      "Try using .loc[row_indexer,col_indexer] = value instead\n",
      "\n",
      "See the caveats in the documentation: https://pandas.pydata.org/pandas-docs/stable/user_guide/indexing.html#returning-a-view-versus-a-copy\n",
      "  current_data['Date'] = current_data.index\n"
     ]
    },
    {
     "name": "stdout",
     "output_type": "stream",
     "text": [
      "shape of df4 is (210, 3541)\n",
      "Completed 175 out of 488 steps\n",
      "the main data is of shape (270, 2)\n",
      "shape of current_data2 is (270, 59)\n"
     ]
    },
    {
     "name": "stderr",
     "output_type": "stream",
     "text": [
      "C:\\Users\\abhij\\AppData\\Local\\Temp\\ipykernel_18656\\146205851.py:16: SettingWithCopyWarning: \n",
      "A value is trying to be set on a copy of a slice from a DataFrame.\n",
      "Try using .loc[row_indexer,col_indexer] = value instead\n",
      "\n",
      "See the caveats in the documentation: https://pandas.pydata.org/pandas-docs/stable/user_guide/indexing.html#returning-a-view-versus-a-copy\n",
      "  current_data['Date'] = current_data.index\n"
     ]
    },
    {
     "name": "stdout",
     "output_type": "stream",
     "text": [
      "shape of df4 is (210, 3541)\n",
      "Completed 176 out of 488 steps\n",
      "the main data is of shape (270, 2)\n",
      "shape of current_data2 is (270, 59)\n"
     ]
    },
    {
     "name": "stderr",
     "output_type": "stream",
     "text": [
      "C:\\Users\\abhij\\AppData\\Local\\Temp\\ipykernel_18656\\146205851.py:16: SettingWithCopyWarning: \n",
      "A value is trying to be set on a copy of a slice from a DataFrame.\n",
      "Try using .loc[row_indexer,col_indexer] = value instead\n",
      "\n",
      "See the caveats in the documentation: https://pandas.pydata.org/pandas-docs/stable/user_guide/indexing.html#returning-a-view-versus-a-copy\n",
      "  current_data['Date'] = current_data.index\n"
     ]
    },
    {
     "name": "stdout",
     "output_type": "stream",
     "text": [
      "shape of df4 is (210, 3541)\n",
      "Completed 177 out of 488 steps\n",
      "the main data is of shape (270, 2)\n",
      "shape of current_data2 is (270, 59)\n"
     ]
    },
    {
     "name": "stderr",
     "output_type": "stream",
     "text": [
      "C:\\Users\\abhij\\AppData\\Local\\Temp\\ipykernel_18656\\146205851.py:16: SettingWithCopyWarning: \n",
      "A value is trying to be set on a copy of a slice from a DataFrame.\n",
      "Try using .loc[row_indexer,col_indexer] = value instead\n",
      "\n",
      "See the caveats in the documentation: https://pandas.pydata.org/pandas-docs/stable/user_guide/indexing.html#returning-a-view-versus-a-copy\n",
      "  current_data['Date'] = current_data.index\n"
     ]
    },
    {
     "name": "stdout",
     "output_type": "stream",
     "text": [
      "shape of df4 is (210, 3541)\n",
      "Completed 178 out of 488 steps\n",
      "the main data is of shape (270, 2)\n",
      "shape of current_data2 is (270, 59)\n"
     ]
    },
    {
     "name": "stderr",
     "output_type": "stream",
     "text": [
      "C:\\Users\\abhij\\AppData\\Local\\Temp\\ipykernel_18656\\146205851.py:16: SettingWithCopyWarning: \n",
      "A value is trying to be set on a copy of a slice from a DataFrame.\n",
      "Try using .loc[row_indexer,col_indexer] = value instead\n",
      "\n",
      "See the caveats in the documentation: https://pandas.pydata.org/pandas-docs/stable/user_guide/indexing.html#returning-a-view-versus-a-copy\n",
      "  current_data['Date'] = current_data.index\n"
     ]
    },
    {
     "name": "stdout",
     "output_type": "stream",
     "text": [
      "shape of df4 is (210, 3541)\n",
      "Completed 179 out of 488 steps\n",
      "the main data is of shape (270, 2)\n",
      "shape of current_data2 is (270, 59)\n"
     ]
    },
    {
     "name": "stderr",
     "output_type": "stream",
     "text": [
      "C:\\Users\\abhij\\AppData\\Local\\Temp\\ipykernel_18656\\146205851.py:16: SettingWithCopyWarning: \n",
      "A value is trying to be set on a copy of a slice from a DataFrame.\n",
      "Try using .loc[row_indexer,col_indexer] = value instead\n",
      "\n",
      "See the caveats in the documentation: https://pandas.pydata.org/pandas-docs/stable/user_guide/indexing.html#returning-a-view-versus-a-copy\n",
      "  current_data['Date'] = current_data.index\n"
     ]
    },
    {
     "name": "stdout",
     "output_type": "stream",
     "text": [
      "shape of df4 is (210, 3541)\n",
      "Completed 180 out of 488 steps\n",
      "the main data is of shape (270, 2)\n",
      "shape of current_data2 is (270, 59)\n"
     ]
    },
    {
     "name": "stderr",
     "output_type": "stream",
     "text": [
      "C:\\Users\\abhij\\AppData\\Local\\Temp\\ipykernel_18656\\146205851.py:16: SettingWithCopyWarning: \n",
      "A value is trying to be set on a copy of a slice from a DataFrame.\n",
      "Try using .loc[row_indexer,col_indexer] = value instead\n",
      "\n",
      "See the caveats in the documentation: https://pandas.pydata.org/pandas-docs/stable/user_guide/indexing.html#returning-a-view-versus-a-copy\n",
      "  current_data['Date'] = current_data.index\n"
     ]
    },
    {
     "name": "stdout",
     "output_type": "stream",
     "text": [
      "shape of df4 is (210, 3541)\n",
      "Completed 181 out of 488 steps\n",
      "the main data is of shape (270, 2)\n",
      "shape of current_data2 is (270, 59)\n"
     ]
    },
    {
     "name": "stderr",
     "output_type": "stream",
     "text": [
      "C:\\Users\\abhij\\AppData\\Local\\Temp\\ipykernel_18656\\146205851.py:16: SettingWithCopyWarning: \n",
      "A value is trying to be set on a copy of a slice from a DataFrame.\n",
      "Try using .loc[row_indexer,col_indexer] = value instead\n",
      "\n",
      "See the caveats in the documentation: https://pandas.pydata.org/pandas-docs/stable/user_guide/indexing.html#returning-a-view-versus-a-copy\n",
      "  current_data['Date'] = current_data.index\n"
     ]
    },
    {
     "name": "stdout",
     "output_type": "stream",
     "text": [
      "shape of df4 is (210, 3541)\n",
      "Completed 182 out of 488 steps\n",
      "the main data is of shape (270, 2)\n",
      "shape of current_data2 is (270, 59)\n"
     ]
    },
    {
     "name": "stderr",
     "output_type": "stream",
     "text": [
      "C:\\Users\\abhij\\AppData\\Local\\Temp\\ipykernel_18656\\146205851.py:16: SettingWithCopyWarning: \n",
      "A value is trying to be set on a copy of a slice from a DataFrame.\n",
      "Try using .loc[row_indexer,col_indexer] = value instead\n",
      "\n",
      "See the caveats in the documentation: https://pandas.pydata.org/pandas-docs/stable/user_guide/indexing.html#returning-a-view-versus-a-copy\n",
      "  current_data['Date'] = current_data.index\n"
     ]
    },
    {
     "name": "stdout",
     "output_type": "stream",
     "text": [
      "shape of df4 is (210, 3541)\n",
      "Completed 183 out of 488 steps\n",
      "the main data is of shape (270, 2)\n",
      "shape of current_data2 is (270, 59)\n"
     ]
    },
    {
     "name": "stderr",
     "output_type": "stream",
     "text": [
      "C:\\Users\\abhij\\AppData\\Local\\Temp\\ipykernel_18656\\146205851.py:16: SettingWithCopyWarning: \n",
      "A value is trying to be set on a copy of a slice from a DataFrame.\n",
      "Try using .loc[row_indexer,col_indexer] = value instead\n",
      "\n",
      "See the caveats in the documentation: https://pandas.pydata.org/pandas-docs/stable/user_guide/indexing.html#returning-a-view-versus-a-copy\n",
      "  current_data['Date'] = current_data.index\n"
     ]
    },
    {
     "name": "stdout",
     "output_type": "stream",
     "text": [
      "shape of df4 is (210, 3541)\n",
      "Completed 184 out of 488 steps\n",
      "the main data is of shape (270, 2)\n",
      "shape of current_data2 is (270, 59)\n"
     ]
    },
    {
     "name": "stderr",
     "output_type": "stream",
     "text": [
      "C:\\Users\\abhij\\AppData\\Local\\Temp\\ipykernel_18656\\146205851.py:16: SettingWithCopyWarning: \n",
      "A value is trying to be set on a copy of a slice from a DataFrame.\n",
      "Try using .loc[row_indexer,col_indexer] = value instead\n",
      "\n",
      "See the caveats in the documentation: https://pandas.pydata.org/pandas-docs/stable/user_guide/indexing.html#returning-a-view-versus-a-copy\n",
      "  current_data['Date'] = current_data.index\n",
      "C:\\Users\\abhij\\AppData\\Local\\Temp\\ipykernel_18656\\146205851.py:16: SettingWithCopyWarning: \n",
      "A value is trying to be set on a copy of a slice from a DataFrame.\n",
      "Try using .loc[row_indexer,col_indexer] = value instead\n",
      "\n",
      "See the caveats in the documentation: https://pandas.pydata.org/pandas-docs/stable/user_guide/indexing.html#returning-a-view-versus-a-copy\n",
      "  current_data['Date'] = current_data.index\n"
     ]
    },
    {
     "name": "stdout",
     "output_type": "stream",
     "text": [
      "shape of df4 is (210, 3541)\n",
      "Completed 185 out of 488 steps\n",
      "the main data is of shape (270, 2)\n",
      "shape of current_data2 is (270, 59)\n",
      "shape of df4 is (210, 3541)\n",
      "Completed 186 out of 488 steps\n",
      "the main data is of shape (270, 2)\n",
      "shape of current_data2 is (270, 59)\n"
     ]
    },
    {
     "name": "stderr",
     "output_type": "stream",
     "text": [
      "C:\\Users\\abhij\\AppData\\Local\\Temp\\ipykernel_18656\\146205851.py:16: SettingWithCopyWarning: \n",
      "A value is trying to be set on a copy of a slice from a DataFrame.\n",
      "Try using .loc[row_indexer,col_indexer] = value instead\n",
      "\n",
      "See the caveats in the documentation: https://pandas.pydata.org/pandas-docs/stable/user_guide/indexing.html#returning-a-view-versus-a-copy\n",
      "  current_data['Date'] = current_data.index\n"
     ]
    },
    {
     "name": "stdout",
     "output_type": "stream",
     "text": [
      "shape of df4 is (210, 3541)\n",
      "Completed 187 out of 488 steps\n",
      "the main data is of shape (270, 2)\n",
      "shape of current_data2 is (270, 59)\n"
     ]
    },
    {
     "name": "stderr",
     "output_type": "stream",
     "text": [
      "C:\\Users\\abhij\\AppData\\Local\\Temp\\ipykernel_18656\\146205851.py:16: SettingWithCopyWarning: \n",
      "A value is trying to be set on a copy of a slice from a DataFrame.\n",
      "Try using .loc[row_indexer,col_indexer] = value instead\n",
      "\n",
      "See the caveats in the documentation: https://pandas.pydata.org/pandas-docs/stable/user_guide/indexing.html#returning-a-view-versus-a-copy\n",
      "  current_data['Date'] = current_data.index\n"
     ]
    },
    {
     "name": "stdout",
     "output_type": "stream",
     "text": [
      "shape of df4 is (210, 3541)\n",
      "Completed 188 out of 488 steps\n",
      "the main data is of shape (270, 2)\n",
      "shape of current_data2 is (270, 59)\n"
     ]
    },
    {
     "name": "stderr",
     "output_type": "stream",
     "text": [
      "C:\\Users\\abhij\\AppData\\Local\\Temp\\ipykernel_18656\\146205851.py:16: SettingWithCopyWarning: \n",
      "A value is trying to be set on a copy of a slice from a DataFrame.\n",
      "Try using .loc[row_indexer,col_indexer] = value instead\n",
      "\n",
      "See the caveats in the documentation: https://pandas.pydata.org/pandas-docs/stable/user_guide/indexing.html#returning-a-view-versus-a-copy\n",
      "  current_data['Date'] = current_data.index\n"
     ]
    },
    {
     "name": "stdout",
     "output_type": "stream",
     "text": [
      "shape of df4 is (210, 3541)\n",
      "Completed 189 out of 488 steps\n",
      "the main data is of shape (270, 2)\n",
      "shape of current_data2 is (270, 59)\n"
     ]
    },
    {
     "name": "stderr",
     "output_type": "stream",
     "text": [
      "C:\\Users\\abhij\\AppData\\Local\\Temp\\ipykernel_18656\\146205851.py:16: SettingWithCopyWarning: \n",
      "A value is trying to be set on a copy of a slice from a DataFrame.\n",
      "Try using .loc[row_indexer,col_indexer] = value instead\n",
      "\n",
      "See the caveats in the documentation: https://pandas.pydata.org/pandas-docs/stable/user_guide/indexing.html#returning-a-view-versus-a-copy\n",
      "  current_data['Date'] = current_data.index\n"
     ]
    },
    {
     "name": "stdout",
     "output_type": "stream",
     "text": [
      "shape of df4 is (210, 3541)\n",
      "Completed 190 out of 488 steps\n",
      "the main data is of shape (270, 2)\n",
      "shape of current_data2 is (270, 59)\n"
     ]
    },
    {
     "name": "stderr",
     "output_type": "stream",
     "text": [
      "C:\\Users\\abhij\\AppData\\Local\\Temp\\ipykernel_18656\\146205851.py:16: SettingWithCopyWarning: \n",
      "A value is trying to be set on a copy of a slice from a DataFrame.\n",
      "Try using .loc[row_indexer,col_indexer] = value instead\n",
      "\n",
      "See the caveats in the documentation: https://pandas.pydata.org/pandas-docs/stable/user_guide/indexing.html#returning-a-view-versus-a-copy\n",
      "  current_data['Date'] = current_data.index\n"
     ]
    },
    {
     "name": "stdout",
     "output_type": "stream",
     "text": [
      "shape of df4 is (210, 3541)\n",
      "Completed 191 out of 488 steps\n",
      "the main data is of shape (270, 2)\n",
      "shape of current_data2 is (270, 59)\n"
     ]
    },
    {
     "name": "stderr",
     "output_type": "stream",
     "text": [
      "C:\\Users\\abhij\\AppData\\Local\\Temp\\ipykernel_18656\\146205851.py:16: SettingWithCopyWarning: \n",
      "A value is trying to be set on a copy of a slice from a DataFrame.\n",
      "Try using .loc[row_indexer,col_indexer] = value instead\n",
      "\n",
      "See the caveats in the documentation: https://pandas.pydata.org/pandas-docs/stable/user_guide/indexing.html#returning-a-view-versus-a-copy\n",
      "  current_data['Date'] = current_data.index\n"
     ]
    },
    {
     "name": "stdout",
     "output_type": "stream",
     "text": [
      "shape of df4 is (210, 3541)\n",
      "Completed 192 out of 488 steps\n",
      "the main data is of shape (270, 2)\n",
      "shape of current_data2 is (270, 59)\n"
     ]
    },
    {
     "name": "stderr",
     "output_type": "stream",
     "text": [
      "C:\\Users\\abhij\\AppData\\Local\\Temp\\ipykernel_18656\\146205851.py:16: SettingWithCopyWarning: \n",
      "A value is trying to be set on a copy of a slice from a DataFrame.\n",
      "Try using .loc[row_indexer,col_indexer] = value instead\n",
      "\n",
      "See the caveats in the documentation: https://pandas.pydata.org/pandas-docs/stable/user_guide/indexing.html#returning-a-view-versus-a-copy\n",
      "  current_data['Date'] = current_data.index\n"
     ]
    },
    {
     "name": "stdout",
     "output_type": "stream",
     "text": [
      "shape of df4 is (210, 3541)\n",
      "Completed 193 out of 488 steps\n",
      "the main data is of shape (270, 2)\n",
      "shape of current_data2 is (270, 59)\n"
     ]
    },
    {
     "name": "stderr",
     "output_type": "stream",
     "text": [
      "C:\\Users\\abhij\\AppData\\Local\\Temp\\ipykernel_18656\\146205851.py:16: SettingWithCopyWarning: \n",
      "A value is trying to be set on a copy of a slice from a DataFrame.\n",
      "Try using .loc[row_indexer,col_indexer] = value instead\n",
      "\n",
      "See the caveats in the documentation: https://pandas.pydata.org/pandas-docs/stable/user_guide/indexing.html#returning-a-view-versus-a-copy\n",
      "  current_data['Date'] = current_data.index\n"
     ]
    },
    {
     "name": "stdout",
     "output_type": "stream",
     "text": [
      "shape of df4 is (210, 3541)\n",
      "Completed 194 out of 488 steps\n",
      "the main data is of shape (270, 2)\n",
      "shape of current_data2 is (270, 59)\n"
     ]
    },
    {
     "name": "stderr",
     "output_type": "stream",
     "text": [
      "C:\\Users\\abhij\\AppData\\Local\\Temp\\ipykernel_18656\\146205851.py:16: SettingWithCopyWarning: \n",
      "A value is trying to be set on a copy of a slice from a DataFrame.\n",
      "Try using .loc[row_indexer,col_indexer] = value instead\n",
      "\n",
      "See the caveats in the documentation: https://pandas.pydata.org/pandas-docs/stable/user_guide/indexing.html#returning-a-view-versus-a-copy\n",
      "  current_data['Date'] = current_data.index\n"
     ]
    },
    {
     "name": "stdout",
     "output_type": "stream",
     "text": [
      "shape of df4 is (210, 3541)\n",
      "Completed 195 out of 488 steps\n",
      "the main data is of shape (270, 2)\n",
      "shape of current_data2 is (270, 59)\n"
     ]
    },
    {
     "name": "stderr",
     "output_type": "stream",
     "text": [
      "C:\\Users\\abhij\\AppData\\Local\\Temp\\ipykernel_18656\\146205851.py:16: SettingWithCopyWarning: \n",
      "A value is trying to be set on a copy of a slice from a DataFrame.\n",
      "Try using .loc[row_indexer,col_indexer] = value instead\n",
      "\n",
      "See the caveats in the documentation: https://pandas.pydata.org/pandas-docs/stable/user_guide/indexing.html#returning-a-view-versus-a-copy\n",
      "  current_data['Date'] = current_data.index\n"
     ]
    },
    {
     "name": "stdout",
     "output_type": "stream",
     "text": [
      "shape of df4 is (210, 3541)\n",
      "Completed 196 out of 488 steps\n",
      "the main data is of shape (270, 2)\n",
      "shape of current_data2 is (270, 59)\n"
     ]
    },
    {
     "name": "stderr",
     "output_type": "stream",
     "text": [
      "C:\\Users\\abhij\\AppData\\Local\\Temp\\ipykernel_18656\\146205851.py:16: SettingWithCopyWarning: \n",
      "A value is trying to be set on a copy of a slice from a DataFrame.\n",
      "Try using .loc[row_indexer,col_indexer] = value instead\n",
      "\n",
      "See the caveats in the documentation: https://pandas.pydata.org/pandas-docs/stable/user_guide/indexing.html#returning-a-view-versus-a-copy\n",
      "  current_data['Date'] = current_data.index\n"
     ]
    },
    {
     "name": "stdout",
     "output_type": "stream",
     "text": [
      "shape of df4 is (210, 3541)\n",
      "Completed 197 out of 488 steps\n",
      "the main data is of shape (270, 2)\n",
      "shape of current_data2 is (270, 59)\n"
     ]
    },
    {
     "name": "stderr",
     "output_type": "stream",
     "text": [
      "C:\\Users\\abhij\\AppData\\Local\\Temp\\ipykernel_18656\\146205851.py:16: SettingWithCopyWarning: \n",
      "A value is trying to be set on a copy of a slice from a DataFrame.\n",
      "Try using .loc[row_indexer,col_indexer] = value instead\n",
      "\n",
      "See the caveats in the documentation: https://pandas.pydata.org/pandas-docs/stable/user_guide/indexing.html#returning-a-view-versus-a-copy\n",
      "  current_data['Date'] = current_data.index\n"
     ]
    },
    {
     "name": "stdout",
     "output_type": "stream",
     "text": [
      "shape of df4 is (210, 3541)\n",
      "Completed 198 out of 488 steps\n",
      "the main data is of shape (270, 2)\n",
      "shape of current_data2 is (270, 59)\n"
     ]
    },
    {
     "name": "stderr",
     "output_type": "stream",
     "text": [
      "C:\\Users\\abhij\\AppData\\Local\\Temp\\ipykernel_18656\\146205851.py:16: SettingWithCopyWarning: \n",
      "A value is trying to be set on a copy of a slice from a DataFrame.\n",
      "Try using .loc[row_indexer,col_indexer] = value instead\n",
      "\n",
      "See the caveats in the documentation: https://pandas.pydata.org/pandas-docs/stable/user_guide/indexing.html#returning-a-view-versus-a-copy\n",
      "  current_data['Date'] = current_data.index\n"
     ]
    },
    {
     "name": "stdout",
     "output_type": "stream",
     "text": [
      "shape of df4 is (210, 3541)\n",
      "Completed 199 out of 488 steps\n",
      "the main data is of shape (270, 2)\n",
      "shape of current_data2 is (270, 59)\n"
     ]
    },
    {
     "name": "stderr",
     "output_type": "stream",
     "text": [
      "C:\\Users\\abhij\\AppData\\Local\\Temp\\ipykernel_18656\\146205851.py:16: SettingWithCopyWarning: \n",
      "A value is trying to be set on a copy of a slice from a DataFrame.\n",
      "Try using .loc[row_indexer,col_indexer] = value instead\n",
      "\n",
      "See the caveats in the documentation: https://pandas.pydata.org/pandas-docs/stable/user_guide/indexing.html#returning-a-view-versus-a-copy\n",
      "  current_data['Date'] = current_data.index\n"
     ]
    },
    {
     "name": "stdout",
     "output_type": "stream",
     "text": [
      "shape of df4 is (210, 3541)\n",
      "Completed 200 out of 488 steps\n",
      "the main data is of shape (270, 2)\n",
      "shape of current_data2 is (270, 59)\n"
     ]
    },
    {
     "name": "stderr",
     "output_type": "stream",
     "text": [
      "C:\\Users\\abhij\\AppData\\Local\\Temp\\ipykernel_18656\\146205851.py:16: SettingWithCopyWarning: \n",
      "A value is trying to be set on a copy of a slice from a DataFrame.\n",
      "Try using .loc[row_indexer,col_indexer] = value instead\n",
      "\n",
      "See the caveats in the documentation: https://pandas.pydata.org/pandas-docs/stable/user_guide/indexing.html#returning-a-view-versus-a-copy\n",
      "  current_data['Date'] = current_data.index\n"
     ]
    },
    {
     "name": "stdout",
     "output_type": "stream",
     "text": [
      "shape of df4 is (210, 3541)\n",
      "Completed 201 out of 488 steps\n",
      "the main data is of shape (270, 2)\n",
      "shape of current_data2 is (270, 59)\n"
     ]
    },
    {
     "name": "stderr",
     "output_type": "stream",
     "text": [
      "C:\\Users\\abhij\\AppData\\Local\\Temp\\ipykernel_18656\\146205851.py:16: SettingWithCopyWarning: \n",
      "A value is trying to be set on a copy of a slice from a DataFrame.\n",
      "Try using .loc[row_indexer,col_indexer] = value instead\n",
      "\n",
      "See the caveats in the documentation: https://pandas.pydata.org/pandas-docs/stable/user_guide/indexing.html#returning-a-view-versus-a-copy\n",
      "  current_data['Date'] = current_data.index\n"
     ]
    },
    {
     "name": "stdout",
     "output_type": "stream",
     "text": [
      "shape of df4 is (210, 3541)\n",
      "Completed 202 out of 488 steps\n",
      "the main data is of shape (270, 2)\n",
      "shape of current_data2 is (270, 59)\n"
     ]
    },
    {
     "name": "stderr",
     "output_type": "stream",
     "text": [
      "C:\\Users\\abhij\\AppData\\Local\\Temp\\ipykernel_18656\\146205851.py:16: SettingWithCopyWarning: \n",
      "A value is trying to be set on a copy of a slice from a DataFrame.\n",
      "Try using .loc[row_indexer,col_indexer] = value instead\n",
      "\n",
      "See the caveats in the documentation: https://pandas.pydata.org/pandas-docs/stable/user_guide/indexing.html#returning-a-view-versus-a-copy\n",
      "  current_data['Date'] = current_data.index\n"
     ]
    },
    {
     "name": "stdout",
     "output_type": "stream",
     "text": [
      "shape of df4 is (210, 3541)\n",
      "Completed 203 out of 488 steps\n",
      "the main data is of shape (270, 2)\n",
      "shape of current_data2 is (270, 59)\n"
     ]
    },
    {
     "name": "stderr",
     "output_type": "stream",
     "text": [
      "C:\\Users\\abhij\\AppData\\Local\\Temp\\ipykernel_18656\\146205851.py:16: SettingWithCopyWarning: \n",
      "A value is trying to be set on a copy of a slice from a DataFrame.\n",
      "Try using .loc[row_indexer,col_indexer] = value instead\n",
      "\n",
      "See the caveats in the documentation: https://pandas.pydata.org/pandas-docs/stable/user_guide/indexing.html#returning-a-view-versus-a-copy\n",
      "  current_data['Date'] = current_data.index\n"
     ]
    },
    {
     "name": "stdout",
     "output_type": "stream",
     "text": [
      "shape of df4 is (210, 3541)\n",
      "Completed 204 out of 488 steps\n",
      "the main data is of shape (270, 2)\n",
      "shape of current_data2 is (270, 59)\n"
     ]
    },
    {
     "name": "stderr",
     "output_type": "stream",
     "text": [
      "C:\\Users\\abhij\\AppData\\Local\\Temp\\ipykernel_18656\\146205851.py:16: SettingWithCopyWarning: \n",
      "A value is trying to be set on a copy of a slice from a DataFrame.\n",
      "Try using .loc[row_indexer,col_indexer] = value instead\n",
      "\n",
      "See the caveats in the documentation: https://pandas.pydata.org/pandas-docs/stable/user_guide/indexing.html#returning-a-view-versus-a-copy\n",
      "  current_data['Date'] = current_data.index\n"
     ]
    },
    {
     "name": "stdout",
     "output_type": "stream",
     "text": [
      "shape of df4 is (210, 3541)\n",
      "Completed 205 out of 488 steps\n",
      "the main data is of shape (270, 2)\n",
      "shape of current_data2 is (270, 59)\n"
     ]
    },
    {
     "name": "stderr",
     "output_type": "stream",
     "text": [
      "C:\\Users\\abhij\\AppData\\Local\\Temp\\ipykernel_18656\\146205851.py:16: SettingWithCopyWarning: \n",
      "A value is trying to be set on a copy of a slice from a DataFrame.\n",
      "Try using .loc[row_indexer,col_indexer] = value instead\n",
      "\n",
      "See the caveats in the documentation: https://pandas.pydata.org/pandas-docs/stable/user_guide/indexing.html#returning-a-view-versus-a-copy\n",
      "  current_data['Date'] = current_data.index\n"
     ]
    },
    {
     "name": "stdout",
     "output_type": "stream",
     "text": [
      "shape of df4 is (210, 3541)\n",
      "Completed 206 out of 488 steps\n",
      "the main data is of shape (270, 2)\n",
      "shape of current_data2 is (270, 59)\n"
     ]
    },
    {
     "name": "stderr",
     "output_type": "stream",
     "text": [
      "C:\\Users\\abhij\\AppData\\Local\\Temp\\ipykernel_18656\\146205851.py:16: SettingWithCopyWarning: \n",
      "A value is trying to be set on a copy of a slice from a DataFrame.\n",
      "Try using .loc[row_indexer,col_indexer] = value instead\n",
      "\n",
      "See the caveats in the documentation: https://pandas.pydata.org/pandas-docs/stable/user_guide/indexing.html#returning-a-view-versus-a-copy\n",
      "  current_data['Date'] = current_data.index\n"
     ]
    },
    {
     "name": "stdout",
     "output_type": "stream",
     "text": [
      "shape of df4 is (210, 3541)\n",
      "Completed 207 out of 488 steps\n",
      "the main data is of shape (270, 2)\n",
      "shape of current_data2 is (270, 59)\n"
     ]
    },
    {
     "name": "stderr",
     "output_type": "stream",
     "text": [
      "C:\\Users\\abhij\\AppData\\Local\\Temp\\ipykernel_18656\\146205851.py:16: SettingWithCopyWarning: \n",
      "A value is trying to be set on a copy of a slice from a DataFrame.\n",
      "Try using .loc[row_indexer,col_indexer] = value instead\n",
      "\n",
      "See the caveats in the documentation: https://pandas.pydata.org/pandas-docs/stable/user_guide/indexing.html#returning-a-view-versus-a-copy\n",
      "  current_data['Date'] = current_data.index\n"
     ]
    },
    {
     "name": "stdout",
     "output_type": "stream",
     "text": [
      "shape of df4 is (210, 3541)\n",
      "Completed 208 out of 488 steps\n",
      "the main data is of shape (270, 2)\n",
      "shape of current_data2 is (270, 59)\n"
     ]
    },
    {
     "name": "stderr",
     "output_type": "stream",
     "text": [
      "C:\\Users\\abhij\\AppData\\Local\\Temp\\ipykernel_18656\\146205851.py:16: SettingWithCopyWarning: \n",
      "A value is trying to be set on a copy of a slice from a DataFrame.\n",
      "Try using .loc[row_indexer,col_indexer] = value instead\n",
      "\n",
      "See the caveats in the documentation: https://pandas.pydata.org/pandas-docs/stable/user_guide/indexing.html#returning-a-view-versus-a-copy\n",
      "  current_data['Date'] = current_data.index\n"
     ]
    },
    {
     "name": "stdout",
     "output_type": "stream",
     "text": [
      "shape of df4 is (210, 3541)\n",
      "Completed 209 out of 488 steps\n",
      "the main data is of shape (270, 2)\n",
      "shape of current_data2 is (270, 59)\n"
     ]
    },
    {
     "name": "stderr",
     "output_type": "stream",
     "text": [
      "C:\\Users\\abhij\\AppData\\Local\\Temp\\ipykernel_18656\\146205851.py:16: SettingWithCopyWarning: \n",
      "A value is trying to be set on a copy of a slice from a DataFrame.\n",
      "Try using .loc[row_indexer,col_indexer] = value instead\n",
      "\n",
      "See the caveats in the documentation: https://pandas.pydata.org/pandas-docs/stable/user_guide/indexing.html#returning-a-view-versus-a-copy\n",
      "  current_data['Date'] = current_data.index\n"
     ]
    },
    {
     "name": "stdout",
     "output_type": "stream",
     "text": [
      "shape of df4 is (210, 3541)\n",
      "Completed 210 out of 488 steps\n",
      "the main data is of shape (270, 2)\n",
      "shape of current_data2 is (270, 59)\n"
     ]
    },
    {
     "name": "stderr",
     "output_type": "stream",
     "text": [
      "C:\\Users\\abhij\\AppData\\Local\\Temp\\ipykernel_18656\\146205851.py:16: SettingWithCopyWarning: \n",
      "A value is trying to be set on a copy of a slice from a DataFrame.\n",
      "Try using .loc[row_indexer,col_indexer] = value instead\n",
      "\n",
      "See the caveats in the documentation: https://pandas.pydata.org/pandas-docs/stable/user_guide/indexing.html#returning-a-view-versus-a-copy\n",
      "  current_data['Date'] = current_data.index\n"
     ]
    },
    {
     "name": "stdout",
     "output_type": "stream",
     "text": [
      "shape of df4 is (210, 3541)\n",
      "Completed 211 out of 488 steps\n",
      "the main data is of shape (270, 2)\n",
      "shape of current_data2 is (270, 59)\n"
     ]
    },
    {
     "name": "stderr",
     "output_type": "stream",
     "text": [
      "C:\\Users\\abhij\\AppData\\Local\\Temp\\ipykernel_18656\\146205851.py:16: SettingWithCopyWarning: \n",
      "A value is trying to be set on a copy of a slice from a DataFrame.\n",
      "Try using .loc[row_indexer,col_indexer] = value instead\n",
      "\n",
      "See the caveats in the documentation: https://pandas.pydata.org/pandas-docs/stable/user_guide/indexing.html#returning-a-view-versus-a-copy\n",
      "  current_data['Date'] = current_data.index\n"
     ]
    },
    {
     "name": "stdout",
     "output_type": "stream",
     "text": [
      "shape of df4 is (210, 3541)\n",
      "Completed 212 out of 488 steps\n",
      "the main data is of shape (270, 2)\n",
      "shape of current_data2 is (270, 59)\n"
     ]
    },
    {
     "name": "stderr",
     "output_type": "stream",
     "text": [
      "C:\\Users\\abhij\\AppData\\Local\\Temp\\ipykernel_18656\\146205851.py:16: SettingWithCopyWarning: \n",
      "A value is trying to be set on a copy of a slice from a DataFrame.\n",
      "Try using .loc[row_indexer,col_indexer] = value instead\n",
      "\n",
      "See the caveats in the documentation: https://pandas.pydata.org/pandas-docs/stable/user_guide/indexing.html#returning-a-view-versus-a-copy\n",
      "  current_data['Date'] = current_data.index\n"
     ]
    },
    {
     "name": "stdout",
     "output_type": "stream",
     "text": [
      "shape of df4 is (210, 3541)\n",
      "Completed 213 out of 488 steps\n",
      "the main data is of shape (270, 2)\n",
      "shape of current_data2 is (270, 59)\n"
     ]
    },
    {
     "name": "stderr",
     "output_type": "stream",
     "text": [
      "C:\\Users\\abhij\\AppData\\Local\\Temp\\ipykernel_18656\\146205851.py:16: SettingWithCopyWarning: \n",
      "A value is trying to be set on a copy of a slice from a DataFrame.\n",
      "Try using .loc[row_indexer,col_indexer] = value instead\n",
      "\n",
      "See the caveats in the documentation: https://pandas.pydata.org/pandas-docs/stable/user_guide/indexing.html#returning-a-view-versus-a-copy\n",
      "  current_data['Date'] = current_data.index\n"
     ]
    },
    {
     "name": "stdout",
     "output_type": "stream",
     "text": [
      "shape of df4 is (210, 3541)\n",
      "Completed 214 out of 488 steps\n",
      "the main data is of shape (270, 2)\n",
      "shape of current_data2 is (270, 59)\n"
     ]
    },
    {
     "name": "stderr",
     "output_type": "stream",
     "text": [
      "C:\\Users\\abhij\\AppData\\Local\\Temp\\ipykernel_18656\\146205851.py:16: SettingWithCopyWarning: \n",
      "A value is trying to be set on a copy of a slice from a DataFrame.\n",
      "Try using .loc[row_indexer,col_indexer] = value instead\n",
      "\n",
      "See the caveats in the documentation: https://pandas.pydata.org/pandas-docs/stable/user_guide/indexing.html#returning-a-view-versus-a-copy\n",
      "  current_data['Date'] = current_data.index\n"
     ]
    },
    {
     "name": "stdout",
     "output_type": "stream",
     "text": [
      "shape of df4 is (210, 3541)\n",
      "Completed 215 out of 488 steps\n",
      "the main data is of shape (270, 2)\n",
      "shape of current_data2 is (270, 59)\n"
     ]
    },
    {
     "name": "stderr",
     "output_type": "stream",
     "text": [
      "C:\\Users\\abhij\\AppData\\Local\\Temp\\ipykernel_18656\\146205851.py:16: SettingWithCopyWarning: \n",
      "A value is trying to be set on a copy of a slice from a DataFrame.\n",
      "Try using .loc[row_indexer,col_indexer] = value instead\n",
      "\n",
      "See the caveats in the documentation: https://pandas.pydata.org/pandas-docs/stable/user_guide/indexing.html#returning-a-view-versus-a-copy\n",
      "  current_data['Date'] = current_data.index\n"
     ]
    },
    {
     "name": "stdout",
     "output_type": "stream",
     "text": [
      "shape of df4 is (210, 3541)\n",
      "Completed 216 out of 488 steps\n",
      "the main data is of shape (270, 2)\n",
      "shape of current_data2 is (270, 59)\n"
     ]
    },
    {
     "name": "stderr",
     "output_type": "stream",
     "text": [
      "C:\\Users\\abhij\\AppData\\Local\\Temp\\ipykernel_18656\\146205851.py:16: SettingWithCopyWarning: \n",
      "A value is trying to be set on a copy of a slice from a DataFrame.\n",
      "Try using .loc[row_indexer,col_indexer] = value instead\n",
      "\n",
      "See the caveats in the documentation: https://pandas.pydata.org/pandas-docs/stable/user_guide/indexing.html#returning-a-view-versus-a-copy\n",
      "  current_data['Date'] = current_data.index\n"
     ]
    },
    {
     "name": "stdout",
     "output_type": "stream",
     "text": [
      "shape of df4 is (210, 3541)\n",
      "Completed 217 out of 488 steps\n",
      "the main data is of shape (270, 2)\n",
      "shape of current_data2 is (270, 59)\n"
     ]
    },
    {
     "name": "stderr",
     "output_type": "stream",
     "text": [
      "C:\\Users\\abhij\\AppData\\Local\\Temp\\ipykernel_18656\\146205851.py:16: SettingWithCopyWarning: \n",
      "A value is trying to be set on a copy of a slice from a DataFrame.\n",
      "Try using .loc[row_indexer,col_indexer] = value instead\n",
      "\n",
      "See the caveats in the documentation: https://pandas.pydata.org/pandas-docs/stable/user_guide/indexing.html#returning-a-view-versus-a-copy\n",
      "  current_data['Date'] = current_data.index\n"
     ]
    },
    {
     "name": "stdout",
     "output_type": "stream",
     "text": [
      "shape of df4 is (210, 3541)\n",
      "Completed 218 out of 488 steps\n",
      "the main data is of shape (270, 2)\n",
      "shape of current_data2 is (270, 59)\n"
     ]
    },
    {
     "name": "stderr",
     "output_type": "stream",
     "text": [
      "C:\\Users\\abhij\\AppData\\Local\\Temp\\ipykernel_18656\\146205851.py:16: SettingWithCopyWarning: \n",
      "A value is trying to be set on a copy of a slice from a DataFrame.\n",
      "Try using .loc[row_indexer,col_indexer] = value instead\n",
      "\n",
      "See the caveats in the documentation: https://pandas.pydata.org/pandas-docs/stable/user_guide/indexing.html#returning-a-view-versus-a-copy\n",
      "  current_data['Date'] = current_data.index\n"
     ]
    },
    {
     "name": "stdout",
     "output_type": "stream",
     "text": [
      "shape of df4 is (210, 3541)\n",
      "Completed 219 out of 488 steps\n",
      "the main data is of shape (270, 2)\n",
      "shape of current_data2 is (270, 59)\n"
     ]
    },
    {
     "name": "stderr",
     "output_type": "stream",
     "text": [
      "C:\\Users\\abhij\\AppData\\Local\\Temp\\ipykernel_18656\\146205851.py:16: SettingWithCopyWarning: \n",
      "A value is trying to be set on a copy of a slice from a DataFrame.\n",
      "Try using .loc[row_indexer,col_indexer] = value instead\n",
      "\n",
      "See the caveats in the documentation: https://pandas.pydata.org/pandas-docs/stable/user_guide/indexing.html#returning-a-view-versus-a-copy\n",
      "  current_data['Date'] = current_data.index\n"
     ]
    },
    {
     "name": "stdout",
     "output_type": "stream",
     "text": [
      "shape of df4 is (210, 3541)\n",
      "Completed 220 out of 488 steps\n",
      "the main data is of shape (270, 2)\n",
      "shape of current_data2 is (270, 59)\n"
     ]
    },
    {
     "name": "stderr",
     "output_type": "stream",
     "text": [
      "C:\\Users\\abhij\\AppData\\Local\\Temp\\ipykernel_18656\\146205851.py:16: SettingWithCopyWarning: \n",
      "A value is trying to be set on a copy of a slice from a DataFrame.\n",
      "Try using .loc[row_indexer,col_indexer] = value instead\n",
      "\n",
      "See the caveats in the documentation: https://pandas.pydata.org/pandas-docs/stable/user_guide/indexing.html#returning-a-view-versus-a-copy\n",
      "  current_data['Date'] = current_data.index\n"
     ]
    },
    {
     "name": "stdout",
     "output_type": "stream",
     "text": [
      "shape of df4 is (210, 3541)\n",
      "Completed 221 out of 488 steps\n",
      "the main data is of shape (270, 2)\n",
      "shape of current_data2 is (270, 59)\n"
     ]
    },
    {
     "name": "stderr",
     "output_type": "stream",
     "text": [
      "C:\\Users\\abhij\\AppData\\Local\\Temp\\ipykernel_18656\\146205851.py:16: SettingWithCopyWarning: \n",
      "A value is trying to be set on a copy of a slice from a DataFrame.\n",
      "Try using .loc[row_indexer,col_indexer] = value instead\n",
      "\n",
      "See the caveats in the documentation: https://pandas.pydata.org/pandas-docs/stable/user_guide/indexing.html#returning-a-view-versus-a-copy\n",
      "  current_data['Date'] = current_data.index\n"
     ]
    },
    {
     "name": "stdout",
     "output_type": "stream",
     "text": [
      "shape of df4 is (210, 3541)\n",
      "Completed 222 out of 488 steps\n",
      "the main data is of shape (270, 2)\n",
      "shape of current_data2 is (270, 59)\n"
     ]
    },
    {
     "name": "stderr",
     "output_type": "stream",
     "text": [
      "C:\\Users\\abhij\\AppData\\Local\\Temp\\ipykernel_18656\\146205851.py:16: SettingWithCopyWarning: \n",
      "A value is trying to be set on a copy of a slice from a DataFrame.\n",
      "Try using .loc[row_indexer,col_indexer] = value instead\n",
      "\n",
      "See the caveats in the documentation: https://pandas.pydata.org/pandas-docs/stable/user_guide/indexing.html#returning-a-view-versus-a-copy\n",
      "  current_data['Date'] = current_data.index\n"
     ]
    },
    {
     "name": "stdout",
     "output_type": "stream",
     "text": [
      "shape of df4 is (210, 3541)\n",
      "Completed 223 out of 488 steps\n",
      "the main data is of shape (270, 2)\n",
      "shape of current_data2 is (270, 59)\n"
     ]
    },
    {
     "name": "stderr",
     "output_type": "stream",
     "text": [
      "C:\\Users\\abhij\\AppData\\Local\\Temp\\ipykernel_18656\\146205851.py:16: SettingWithCopyWarning: \n",
      "A value is trying to be set on a copy of a slice from a DataFrame.\n",
      "Try using .loc[row_indexer,col_indexer] = value instead\n",
      "\n",
      "See the caveats in the documentation: https://pandas.pydata.org/pandas-docs/stable/user_guide/indexing.html#returning-a-view-versus-a-copy\n",
      "  current_data['Date'] = current_data.index\n"
     ]
    },
    {
     "name": "stdout",
     "output_type": "stream",
     "text": [
      "shape of df4 is (210, 3541)\n",
      "Completed 224 out of 488 steps\n",
      "the main data is of shape (270, 2)\n",
      "shape of current_data2 is (270, 59)\n"
     ]
    },
    {
     "name": "stderr",
     "output_type": "stream",
     "text": [
      "C:\\Users\\abhij\\AppData\\Local\\Temp\\ipykernel_18656\\146205851.py:16: SettingWithCopyWarning: \n",
      "A value is trying to be set on a copy of a slice from a DataFrame.\n",
      "Try using .loc[row_indexer,col_indexer] = value instead\n",
      "\n",
      "See the caveats in the documentation: https://pandas.pydata.org/pandas-docs/stable/user_guide/indexing.html#returning-a-view-versus-a-copy\n",
      "  current_data['Date'] = current_data.index\n"
     ]
    },
    {
     "name": "stdout",
     "output_type": "stream",
     "text": [
      "shape of df4 is (210, 3541)\n",
      "Completed 225 out of 488 steps\n",
      "the main data is of shape (270, 2)\n",
      "shape of current_data2 is (270, 59)\n"
     ]
    },
    {
     "name": "stderr",
     "output_type": "stream",
     "text": [
      "C:\\Users\\abhij\\AppData\\Local\\Temp\\ipykernel_18656\\146205851.py:16: SettingWithCopyWarning: \n",
      "A value is trying to be set on a copy of a slice from a DataFrame.\n",
      "Try using .loc[row_indexer,col_indexer] = value instead\n",
      "\n",
      "See the caveats in the documentation: https://pandas.pydata.org/pandas-docs/stable/user_guide/indexing.html#returning-a-view-versus-a-copy\n",
      "  current_data['Date'] = current_data.index\n"
     ]
    },
    {
     "name": "stdout",
     "output_type": "stream",
     "text": [
      "shape of df4 is (210, 3541)\n",
      "Completed 226 out of 488 steps\n",
      "the main data is of shape (270, 2)\n",
      "shape of current_data2 is (270, 59)\n"
     ]
    },
    {
     "name": "stderr",
     "output_type": "stream",
     "text": [
      "C:\\Users\\abhij\\AppData\\Local\\Temp\\ipykernel_18656\\146205851.py:16: SettingWithCopyWarning: \n",
      "A value is trying to be set on a copy of a slice from a DataFrame.\n",
      "Try using .loc[row_indexer,col_indexer] = value instead\n",
      "\n",
      "See the caveats in the documentation: https://pandas.pydata.org/pandas-docs/stable/user_guide/indexing.html#returning-a-view-versus-a-copy\n",
      "  current_data['Date'] = current_data.index\n"
     ]
    },
    {
     "name": "stdout",
     "output_type": "stream",
     "text": [
      "shape of df4 is (210, 3541)\n",
      "Completed 227 out of 488 steps\n",
      "the main data is of shape (270, 2)\n",
      "shape of current_data2 is (270, 59)\n"
     ]
    },
    {
     "name": "stderr",
     "output_type": "stream",
     "text": [
      "C:\\Users\\abhij\\AppData\\Local\\Temp\\ipykernel_18656\\146205851.py:16: SettingWithCopyWarning: \n",
      "A value is trying to be set on a copy of a slice from a DataFrame.\n",
      "Try using .loc[row_indexer,col_indexer] = value instead\n",
      "\n",
      "See the caveats in the documentation: https://pandas.pydata.org/pandas-docs/stable/user_guide/indexing.html#returning-a-view-versus-a-copy\n",
      "  current_data['Date'] = current_data.index\n"
     ]
    },
    {
     "name": "stdout",
     "output_type": "stream",
     "text": [
      "shape of df4 is (210, 3541)\n",
      "Completed 228 out of 488 steps\n",
      "the main data is of shape (270, 2)\n",
      "shape of current_data2 is (270, 59)\n"
     ]
    },
    {
     "name": "stderr",
     "output_type": "stream",
     "text": [
      "C:\\Users\\abhij\\AppData\\Local\\Temp\\ipykernel_18656\\146205851.py:16: SettingWithCopyWarning: \n",
      "A value is trying to be set on a copy of a slice from a DataFrame.\n",
      "Try using .loc[row_indexer,col_indexer] = value instead\n",
      "\n",
      "See the caveats in the documentation: https://pandas.pydata.org/pandas-docs/stable/user_guide/indexing.html#returning-a-view-versus-a-copy\n",
      "  current_data['Date'] = current_data.index\n"
     ]
    },
    {
     "name": "stdout",
     "output_type": "stream",
     "text": [
      "shape of df4 is (210, 3541)\n",
      "Completed 229 out of 488 steps\n",
      "the main data is of shape (270, 2)\n",
      "shape of current_data2 is (270, 59)\n"
     ]
    },
    {
     "name": "stderr",
     "output_type": "stream",
     "text": [
      "C:\\Users\\abhij\\AppData\\Local\\Temp\\ipykernel_18656\\146205851.py:16: SettingWithCopyWarning: \n",
      "A value is trying to be set on a copy of a slice from a DataFrame.\n",
      "Try using .loc[row_indexer,col_indexer] = value instead\n",
      "\n",
      "See the caveats in the documentation: https://pandas.pydata.org/pandas-docs/stable/user_guide/indexing.html#returning-a-view-versus-a-copy\n",
      "  current_data['Date'] = current_data.index\n"
     ]
    },
    {
     "name": "stdout",
     "output_type": "stream",
     "text": [
      "shape of df4 is (210, 3541)\n",
      "Completed 230 out of 488 steps\n",
      "the main data is of shape (270, 2)\n",
      "shape of current_data2 is (270, 59)\n"
     ]
    },
    {
     "name": "stderr",
     "output_type": "stream",
     "text": [
      "C:\\Users\\abhij\\AppData\\Local\\Temp\\ipykernel_18656\\146205851.py:16: SettingWithCopyWarning: \n",
      "A value is trying to be set on a copy of a slice from a DataFrame.\n",
      "Try using .loc[row_indexer,col_indexer] = value instead\n",
      "\n",
      "See the caveats in the documentation: https://pandas.pydata.org/pandas-docs/stable/user_guide/indexing.html#returning-a-view-versus-a-copy\n",
      "  current_data['Date'] = current_data.index\n"
     ]
    },
    {
     "name": "stdout",
     "output_type": "stream",
     "text": [
      "shape of df4 is (210, 3541)\n",
      "Completed 231 out of 488 steps\n",
      "the main data is of shape (270, 2)\n",
      "shape of current_data2 is (270, 59)\n"
     ]
    },
    {
     "name": "stderr",
     "output_type": "stream",
     "text": [
      "C:\\Users\\abhij\\AppData\\Local\\Temp\\ipykernel_18656\\146205851.py:16: SettingWithCopyWarning: \n",
      "A value is trying to be set on a copy of a slice from a DataFrame.\n",
      "Try using .loc[row_indexer,col_indexer] = value instead\n",
      "\n",
      "See the caveats in the documentation: https://pandas.pydata.org/pandas-docs/stable/user_guide/indexing.html#returning-a-view-versus-a-copy\n",
      "  current_data['Date'] = current_data.index\n"
     ]
    },
    {
     "name": "stdout",
     "output_type": "stream",
     "text": [
      "shape of df4 is (210, 3541)\n",
      "Completed 232 out of 488 steps\n",
      "the main data is of shape (270, 2)\n",
      "shape of current_data2 is (270, 59)\n"
     ]
    },
    {
     "name": "stderr",
     "output_type": "stream",
     "text": [
      "C:\\Users\\abhij\\AppData\\Local\\Temp\\ipykernel_18656\\146205851.py:16: SettingWithCopyWarning: \n",
      "A value is trying to be set on a copy of a slice from a DataFrame.\n",
      "Try using .loc[row_indexer,col_indexer] = value instead\n",
      "\n",
      "See the caveats in the documentation: https://pandas.pydata.org/pandas-docs/stable/user_guide/indexing.html#returning-a-view-versus-a-copy\n",
      "  current_data['Date'] = current_data.index\n"
     ]
    },
    {
     "name": "stdout",
     "output_type": "stream",
     "text": [
      "shape of df4 is (210, 3541)\n",
      "Completed 233 out of 488 steps\n",
      "the main data is of shape (270, 2)\n",
      "shape of current_data2 is (270, 59)\n"
     ]
    },
    {
     "name": "stderr",
     "output_type": "stream",
     "text": [
      "C:\\Users\\abhij\\AppData\\Local\\Temp\\ipykernel_18656\\146205851.py:16: SettingWithCopyWarning: \n",
      "A value is trying to be set on a copy of a slice from a DataFrame.\n",
      "Try using .loc[row_indexer,col_indexer] = value instead\n",
      "\n",
      "See the caveats in the documentation: https://pandas.pydata.org/pandas-docs/stable/user_guide/indexing.html#returning-a-view-versus-a-copy\n",
      "  current_data['Date'] = current_data.index\n"
     ]
    },
    {
     "name": "stdout",
     "output_type": "stream",
     "text": [
      "shape of df4 is (210, 3541)\n",
      "Completed 234 out of 488 steps\n",
      "the main data is of shape (270, 2)\n",
      "shape of current_data2 is (270, 59)\n"
     ]
    },
    {
     "name": "stderr",
     "output_type": "stream",
     "text": [
      "C:\\Users\\abhij\\AppData\\Local\\Temp\\ipykernel_18656\\146205851.py:16: SettingWithCopyWarning: \n",
      "A value is trying to be set on a copy of a slice from a DataFrame.\n",
      "Try using .loc[row_indexer,col_indexer] = value instead\n",
      "\n",
      "See the caveats in the documentation: https://pandas.pydata.org/pandas-docs/stable/user_guide/indexing.html#returning-a-view-versus-a-copy\n",
      "  current_data['Date'] = current_data.index\n"
     ]
    },
    {
     "name": "stdout",
     "output_type": "stream",
     "text": [
      "shape of df4 is (210, 3541)\n",
      "Completed 235 out of 488 steps\n",
      "the main data is of shape (270, 2)\n",
      "shape of current_data2 is (270, 59)\n"
     ]
    },
    {
     "name": "stderr",
     "output_type": "stream",
     "text": [
      "C:\\Users\\abhij\\AppData\\Local\\Temp\\ipykernel_18656\\146205851.py:16: SettingWithCopyWarning: \n",
      "A value is trying to be set on a copy of a slice from a DataFrame.\n",
      "Try using .loc[row_indexer,col_indexer] = value instead\n",
      "\n",
      "See the caveats in the documentation: https://pandas.pydata.org/pandas-docs/stable/user_guide/indexing.html#returning-a-view-versus-a-copy\n",
      "  current_data['Date'] = current_data.index\n"
     ]
    },
    {
     "name": "stdout",
     "output_type": "stream",
     "text": [
      "shape of df4 is (210, 3541)\n",
      "Completed 236 out of 488 steps\n",
      "the main data is of shape (270, 2)\n",
      "shape of current_data2 is (270, 59)\n"
     ]
    },
    {
     "name": "stderr",
     "output_type": "stream",
     "text": [
      "C:\\Users\\abhij\\AppData\\Local\\Temp\\ipykernel_18656\\146205851.py:16: SettingWithCopyWarning: \n",
      "A value is trying to be set on a copy of a slice from a DataFrame.\n",
      "Try using .loc[row_indexer,col_indexer] = value instead\n",
      "\n",
      "See the caveats in the documentation: https://pandas.pydata.org/pandas-docs/stable/user_guide/indexing.html#returning-a-view-versus-a-copy\n",
      "  current_data['Date'] = current_data.index\n"
     ]
    },
    {
     "name": "stdout",
     "output_type": "stream",
     "text": [
      "shape of df4 is (210, 3541)\n",
      "Completed 237 out of 488 steps\n",
      "the main data is of shape (270, 2)\n",
      "shape of current_data2 is (270, 59)\n"
     ]
    },
    {
     "name": "stderr",
     "output_type": "stream",
     "text": [
      "C:\\Users\\abhij\\AppData\\Local\\Temp\\ipykernel_18656\\146205851.py:16: SettingWithCopyWarning: \n",
      "A value is trying to be set on a copy of a slice from a DataFrame.\n",
      "Try using .loc[row_indexer,col_indexer] = value instead\n",
      "\n",
      "See the caveats in the documentation: https://pandas.pydata.org/pandas-docs/stable/user_guide/indexing.html#returning-a-view-versus-a-copy\n",
      "  current_data['Date'] = current_data.index\n"
     ]
    },
    {
     "name": "stdout",
     "output_type": "stream",
     "text": [
      "shape of df4 is (210, 3541)\n",
      "Completed 238 out of 488 steps\n",
      "the main data is of shape (270, 2)\n",
      "shape of current_data2 is (270, 59)\n"
     ]
    },
    {
     "name": "stderr",
     "output_type": "stream",
     "text": [
      "C:\\Users\\abhij\\AppData\\Local\\Temp\\ipykernel_18656\\146205851.py:16: SettingWithCopyWarning: \n",
      "A value is trying to be set on a copy of a slice from a DataFrame.\n",
      "Try using .loc[row_indexer,col_indexer] = value instead\n",
      "\n",
      "See the caveats in the documentation: https://pandas.pydata.org/pandas-docs/stable/user_guide/indexing.html#returning-a-view-versus-a-copy\n",
      "  current_data['Date'] = current_data.index\n"
     ]
    },
    {
     "name": "stdout",
     "output_type": "stream",
     "text": [
      "shape of df4 is (210, 3541)\n",
      "Completed 239 out of 488 steps\n",
      "the main data is of shape (270, 2)\n",
      "shape of current_data2 is (270, 59)\n"
     ]
    },
    {
     "name": "stderr",
     "output_type": "stream",
     "text": [
      "C:\\Users\\abhij\\AppData\\Local\\Temp\\ipykernel_18656\\146205851.py:16: SettingWithCopyWarning: \n",
      "A value is trying to be set on a copy of a slice from a DataFrame.\n",
      "Try using .loc[row_indexer,col_indexer] = value instead\n",
      "\n",
      "See the caveats in the documentation: https://pandas.pydata.org/pandas-docs/stable/user_guide/indexing.html#returning-a-view-versus-a-copy\n",
      "  current_data['Date'] = current_data.index\n"
     ]
    },
    {
     "name": "stdout",
     "output_type": "stream",
     "text": [
      "shape of df4 is (210, 3541)\n",
      "Completed 240 out of 488 steps\n",
      "the main data is of shape (270, 2)\n",
      "shape of current_data2 is (270, 59)\n"
     ]
    },
    {
     "name": "stderr",
     "output_type": "stream",
     "text": [
      "C:\\Users\\abhij\\AppData\\Local\\Temp\\ipykernel_18656\\146205851.py:16: SettingWithCopyWarning: \n",
      "A value is trying to be set on a copy of a slice from a DataFrame.\n",
      "Try using .loc[row_indexer,col_indexer] = value instead\n",
      "\n",
      "See the caveats in the documentation: https://pandas.pydata.org/pandas-docs/stable/user_guide/indexing.html#returning-a-view-versus-a-copy\n",
      "  current_data['Date'] = current_data.index\n"
     ]
    },
    {
     "name": "stdout",
     "output_type": "stream",
     "text": [
      "shape of df4 is (210, 3541)\n",
      "Completed 241 out of 488 steps\n",
      "the main data is of shape (270, 2)\n",
      "shape of current_data2 is (270, 59)\n"
     ]
    },
    {
     "name": "stderr",
     "output_type": "stream",
     "text": [
      "C:\\Users\\abhij\\AppData\\Local\\Temp\\ipykernel_18656\\146205851.py:16: SettingWithCopyWarning: \n",
      "A value is trying to be set on a copy of a slice from a DataFrame.\n",
      "Try using .loc[row_indexer,col_indexer] = value instead\n",
      "\n",
      "See the caveats in the documentation: https://pandas.pydata.org/pandas-docs/stable/user_guide/indexing.html#returning-a-view-versus-a-copy\n",
      "  current_data['Date'] = current_data.index\n"
     ]
    },
    {
     "name": "stdout",
     "output_type": "stream",
     "text": [
      "shape of df4 is (210, 3541)\n",
      "Completed 242 out of 488 steps\n",
      "the main data is of shape (270, 2)\n",
      "shape of current_data2 is (270, 59)\n"
     ]
    },
    {
     "name": "stderr",
     "output_type": "stream",
     "text": [
      "C:\\Users\\abhij\\AppData\\Local\\Temp\\ipykernel_18656\\146205851.py:16: SettingWithCopyWarning: \n",
      "A value is trying to be set on a copy of a slice from a DataFrame.\n",
      "Try using .loc[row_indexer,col_indexer] = value instead\n",
      "\n",
      "See the caveats in the documentation: https://pandas.pydata.org/pandas-docs/stable/user_guide/indexing.html#returning-a-view-versus-a-copy\n",
      "  current_data['Date'] = current_data.index\n"
     ]
    },
    {
     "name": "stdout",
     "output_type": "stream",
     "text": [
      "shape of df4 is (210, 3541)\n",
      "Completed 243 out of 488 steps\n",
      "the main data is of shape (270, 2)\n",
      "shape of current_data2 is (270, 59)\n"
     ]
    },
    {
     "name": "stderr",
     "output_type": "stream",
     "text": [
      "C:\\Users\\abhij\\AppData\\Local\\Temp\\ipykernel_18656\\146205851.py:16: SettingWithCopyWarning: \n",
      "A value is trying to be set on a copy of a slice from a DataFrame.\n",
      "Try using .loc[row_indexer,col_indexer] = value instead\n",
      "\n",
      "See the caveats in the documentation: https://pandas.pydata.org/pandas-docs/stable/user_guide/indexing.html#returning-a-view-versus-a-copy\n",
      "  current_data['Date'] = current_data.index\n"
     ]
    },
    {
     "name": "stdout",
     "output_type": "stream",
     "text": [
      "shape of df4 is (210, 3541)\n",
      "Completed 244 out of 488 steps\n",
      "the main data is of shape (270, 2)\n",
      "shape of current_data2 is (270, 59)\n"
     ]
    },
    {
     "name": "stderr",
     "output_type": "stream",
     "text": [
      "C:\\Users\\abhij\\AppData\\Local\\Temp\\ipykernel_18656\\146205851.py:16: SettingWithCopyWarning: \n",
      "A value is trying to be set on a copy of a slice from a DataFrame.\n",
      "Try using .loc[row_indexer,col_indexer] = value instead\n",
      "\n",
      "See the caveats in the documentation: https://pandas.pydata.org/pandas-docs/stable/user_guide/indexing.html#returning-a-view-versus-a-copy\n",
      "  current_data['Date'] = current_data.index\n"
     ]
    },
    {
     "name": "stdout",
     "output_type": "stream",
     "text": [
      "shape of df4 is (210, 3541)\n",
      "Completed 245 out of 488 steps\n",
      "the main data is of shape (270, 2)\n",
      "shape of current_data2 is (270, 59)\n"
     ]
    },
    {
     "name": "stderr",
     "output_type": "stream",
     "text": [
      "C:\\Users\\abhij\\AppData\\Local\\Temp\\ipykernel_18656\\146205851.py:16: SettingWithCopyWarning: \n",
      "A value is trying to be set on a copy of a slice from a DataFrame.\n",
      "Try using .loc[row_indexer,col_indexer] = value instead\n",
      "\n",
      "See the caveats in the documentation: https://pandas.pydata.org/pandas-docs/stable/user_guide/indexing.html#returning-a-view-versus-a-copy\n",
      "  current_data['Date'] = current_data.index\n"
     ]
    },
    {
     "name": "stdout",
     "output_type": "stream",
     "text": [
      "shape of df4 is (210, 3541)\n",
      "Completed 246 out of 488 steps\n",
      "the main data is of shape (270, 2)\n",
      "shape of current_data2 is (270, 59)\n"
     ]
    },
    {
     "name": "stderr",
     "output_type": "stream",
     "text": [
      "C:\\Users\\abhij\\AppData\\Local\\Temp\\ipykernel_18656\\146205851.py:16: SettingWithCopyWarning: \n",
      "A value is trying to be set on a copy of a slice from a DataFrame.\n",
      "Try using .loc[row_indexer,col_indexer] = value instead\n",
      "\n",
      "See the caveats in the documentation: https://pandas.pydata.org/pandas-docs/stable/user_guide/indexing.html#returning-a-view-versus-a-copy\n",
      "  current_data['Date'] = current_data.index\n"
     ]
    },
    {
     "name": "stdout",
     "output_type": "stream",
     "text": [
      "shape of df4 is (210, 3541)\n",
      "Completed 247 out of 488 steps\n",
      "the main data is of shape (270, 2)\n",
      "shape of current_data2 is (270, 59)\n"
     ]
    },
    {
     "name": "stderr",
     "output_type": "stream",
     "text": [
      "C:\\Users\\abhij\\AppData\\Local\\Temp\\ipykernel_18656\\146205851.py:16: SettingWithCopyWarning: \n",
      "A value is trying to be set on a copy of a slice from a DataFrame.\n",
      "Try using .loc[row_indexer,col_indexer] = value instead\n",
      "\n",
      "See the caveats in the documentation: https://pandas.pydata.org/pandas-docs/stable/user_guide/indexing.html#returning-a-view-versus-a-copy\n",
      "  current_data['Date'] = current_data.index\n"
     ]
    },
    {
     "name": "stdout",
     "output_type": "stream",
     "text": [
      "shape of df4 is (210, 3541)\n",
      "Completed 248 out of 488 steps\n",
      "the main data is of shape (270, 2)\n",
      "shape of current_data2 is (270, 59)\n"
     ]
    },
    {
     "name": "stderr",
     "output_type": "stream",
     "text": [
      "C:\\Users\\abhij\\AppData\\Local\\Temp\\ipykernel_18656\\146205851.py:16: SettingWithCopyWarning: \n",
      "A value is trying to be set on a copy of a slice from a DataFrame.\n",
      "Try using .loc[row_indexer,col_indexer] = value instead\n",
      "\n",
      "See the caveats in the documentation: https://pandas.pydata.org/pandas-docs/stable/user_guide/indexing.html#returning-a-view-versus-a-copy\n",
      "  current_data['Date'] = current_data.index\n"
     ]
    },
    {
     "name": "stdout",
     "output_type": "stream",
     "text": [
      "shape of df4 is (210, 3541)\n",
      "Completed 249 out of 488 steps\n",
      "the main data is of shape (270, 2)\n",
      "shape of current_data2 is (270, 59)\n"
     ]
    },
    {
     "name": "stderr",
     "output_type": "stream",
     "text": [
      "C:\\Users\\abhij\\AppData\\Local\\Temp\\ipykernel_18656\\146205851.py:16: SettingWithCopyWarning: \n",
      "A value is trying to be set on a copy of a slice from a DataFrame.\n",
      "Try using .loc[row_indexer,col_indexer] = value instead\n",
      "\n",
      "See the caveats in the documentation: https://pandas.pydata.org/pandas-docs/stable/user_guide/indexing.html#returning-a-view-versus-a-copy\n",
      "  current_data['Date'] = current_data.index\n"
     ]
    },
    {
     "name": "stdout",
     "output_type": "stream",
     "text": [
      "shape of df4 is (210, 3541)\n",
      "Completed 250 out of 488 steps\n",
      "the main data is of shape (270, 2)\n",
      "shape of current_data2 is (270, 59)\n"
     ]
    },
    {
     "name": "stderr",
     "output_type": "stream",
     "text": [
      "C:\\Users\\abhij\\AppData\\Local\\Temp\\ipykernel_18656\\146205851.py:16: SettingWithCopyWarning: \n",
      "A value is trying to be set on a copy of a slice from a DataFrame.\n",
      "Try using .loc[row_indexer,col_indexer] = value instead\n",
      "\n",
      "See the caveats in the documentation: https://pandas.pydata.org/pandas-docs/stable/user_guide/indexing.html#returning-a-view-versus-a-copy\n",
      "  current_data['Date'] = current_data.index\n"
     ]
    },
    {
     "name": "stdout",
     "output_type": "stream",
     "text": [
      "shape of df4 is (210, 3541)\n",
      "Completed 251 out of 488 steps\n",
      "the main data is of shape (270, 2)\n",
      "shape of current_data2 is (270, 59)\n"
     ]
    },
    {
     "name": "stderr",
     "output_type": "stream",
     "text": [
      "C:\\Users\\abhij\\AppData\\Local\\Temp\\ipykernel_18656\\146205851.py:16: SettingWithCopyWarning: \n",
      "A value is trying to be set on a copy of a slice from a DataFrame.\n",
      "Try using .loc[row_indexer,col_indexer] = value instead\n",
      "\n",
      "See the caveats in the documentation: https://pandas.pydata.org/pandas-docs/stable/user_guide/indexing.html#returning-a-view-versus-a-copy\n",
      "  current_data['Date'] = current_data.index\n"
     ]
    },
    {
     "name": "stdout",
     "output_type": "stream",
     "text": [
      "shape of df4 is (210, 3541)\n",
      "Completed 252 out of 488 steps\n",
      "the main data is of shape (270, 2)\n",
      "shape of current_data2 is (270, 59)\n"
     ]
    },
    {
     "name": "stderr",
     "output_type": "stream",
     "text": [
      "C:\\Users\\abhij\\AppData\\Local\\Temp\\ipykernel_18656\\146205851.py:16: SettingWithCopyWarning: \n",
      "A value is trying to be set on a copy of a slice from a DataFrame.\n",
      "Try using .loc[row_indexer,col_indexer] = value instead\n",
      "\n",
      "See the caveats in the documentation: https://pandas.pydata.org/pandas-docs/stable/user_guide/indexing.html#returning-a-view-versus-a-copy\n",
      "  current_data['Date'] = current_data.index\n"
     ]
    },
    {
     "name": "stdout",
     "output_type": "stream",
     "text": [
      "shape of df4 is (210, 3541)\n",
      "Completed 253 out of 488 steps\n",
      "the main data is of shape (270, 2)\n",
      "shape of current_data2 is (270, 59)\n"
     ]
    },
    {
     "name": "stderr",
     "output_type": "stream",
     "text": [
      "C:\\Users\\abhij\\AppData\\Local\\Temp\\ipykernel_18656\\146205851.py:16: SettingWithCopyWarning: \n",
      "A value is trying to be set on a copy of a slice from a DataFrame.\n",
      "Try using .loc[row_indexer,col_indexer] = value instead\n",
      "\n",
      "See the caveats in the documentation: https://pandas.pydata.org/pandas-docs/stable/user_guide/indexing.html#returning-a-view-versus-a-copy\n",
      "  current_data['Date'] = current_data.index\n"
     ]
    },
    {
     "name": "stdout",
     "output_type": "stream",
     "text": [
      "shape of df4 is (210, 3541)\n",
      "Completed 254 out of 488 steps\n",
      "the main data is of shape (270, 2)\n",
      "shape of current_data2 is (270, 59)\n"
     ]
    },
    {
     "name": "stderr",
     "output_type": "stream",
     "text": [
      "C:\\Users\\abhij\\AppData\\Local\\Temp\\ipykernel_18656\\146205851.py:16: SettingWithCopyWarning: \n",
      "A value is trying to be set on a copy of a slice from a DataFrame.\n",
      "Try using .loc[row_indexer,col_indexer] = value instead\n",
      "\n",
      "See the caveats in the documentation: https://pandas.pydata.org/pandas-docs/stable/user_guide/indexing.html#returning-a-view-versus-a-copy\n",
      "  current_data['Date'] = current_data.index\n"
     ]
    },
    {
     "name": "stdout",
     "output_type": "stream",
     "text": [
      "shape of df4 is (210, 3541)\n",
      "Completed 255 out of 488 steps\n",
      "the main data is of shape (270, 2)\n",
      "shape of current_data2 is (270, 59)\n"
     ]
    },
    {
     "name": "stderr",
     "output_type": "stream",
     "text": [
      "C:\\Users\\abhij\\AppData\\Local\\Temp\\ipykernel_18656\\146205851.py:16: SettingWithCopyWarning: \n",
      "A value is trying to be set on a copy of a slice from a DataFrame.\n",
      "Try using .loc[row_indexer,col_indexer] = value instead\n",
      "\n",
      "See the caveats in the documentation: https://pandas.pydata.org/pandas-docs/stable/user_guide/indexing.html#returning-a-view-versus-a-copy\n",
      "  current_data['Date'] = current_data.index\n"
     ]
    },
    {
     "name": "stdout",
     "output_type": "stream",
     "text": [
      "shape of df4 is (210, 3541)\n",
      "Completed 256 out of 488 steps\n",
      "the main data is of shape (270, 2)\n",
      "shape of current_data2 is (270, 59)\n"
     ]
    },
    {
     "name": "stderr",
     "output_type": "stream",
     "text": [
      "C:\\Users\\abhij\\AppData\\Local\\Temp\\ipykernel_18656\\146205851.py:16: SettingWithCopyWarning: \n",
      "A value is trying to be set on a copy of a slice from a DataFrame.\n",
      "Try using .loc[row_indexer,col_indexer] = value instead\n",
      "\n",
      "See the caveats in the documentation: https://pandas.pydata.org/pandas-docs/stable/user_guide/indexing.html#returning-a-view-versus-a-copy\n",
      "  current_data['Date'] = current_data.index\n"
     ]
    },
    {
     "name": "stdout",
     "output_type": "stream",
     "text": [
      "shape of df4 is (210, 3541)\n",
      "Completed 257 out of 488 steps\n",
      "the main data is of shape (270, 2)\n",
      "shape of current_data2 is (270, 59)\n"
     ]
    },
    {
     "name": "stderr",
     "output_type": "stream",
     "text": [
      "C:\\Users\\abhij\\AppData\\Local\\Temp\\ipykernel_18656\\146205851.py:16: SettingWithCopyWarning: \n",
      "A value is trying to be set on a copy of a slice from a DataFrame.\n",
      "Try using .loc[row_indexer,col_indexer] = value instead\n",
      "\n",
      "See the caveats in the documentation: https://pandas.pydata.org/pandas-docs/stable/user_guide/indexing.html#returning-a-view-versus-a-copy\n",
      "  current_data['Date'] = current_data.index\n"
     ]
    },
    {
     "name": "stdout",
     "output_type": "stream",
     "text": [
      "shape of df4 is (210, 3541)\n",
      "Completed 258 out of 488 steps\n",
      "the main data is of shape (270, 2)\n",
      "shape of current_data2 is (270, 59)\n"
     ]
    },
    {
     "name": "stderr",
     "output_type": "stream",
     "text": [
      "C:\\Users\\abhij\\AppData\\Local\\Temp\\ipykernel_18656\\146205851.py:16: SettingWithCopyWarning: \n",
      "A value is trying to be set on a copy of a slice from a DataFrame.\n",
      "Try using .loc[row_indexer,col_indexer] = value instead\n",
      "\n",
      "See the caveats in the documentation: https://pandas.pydata.org/pandas-docs/stable/user_guide/indexing.html#returning-a-view-versus-a-copy\n",
      "  current_data['Date'] = current_data.index\n"
     ]
    },
    {
     "name": "stdout",
     "output_type": "stream",
     "text": [
      "shape of df4 is (210, 3541)\n",
      "Completed 259 out of 488 steps\n",
      "the main data is of shape (270, 2)\n",
      "shape of current_data2 is (270, 59)\n"
     ]
    },
    {
     "name": "stderr",
     "output_type": "stream",
     "text": [
      "C:\\Users\\abhij\\AppData\\Local\\Temp\\ipykernel_18656\\146205851.py:16: SettingWithCopyWarning: \n",
      "A value is trying to be set on a copy of a slice from a DataFrame.\n",
      "Try using .loc[row_indexer,col_indexer] = value instead\n",
      "\n",
      "See the caveats in the documentation: https://pandas.pydata.org/pandas-docs/stable/user_guide/indexing.html#returning-a-view-versus-a-copy\n",
      "  current_data['Date'] = current_data.index\n"
     ]
    },
    {
     "name": "stdout",
     "output_type": "stream",
     "text": [
      "shape of df4 is (210, 3541)\n",
      "Completed 260 out of 488 steps\n",
      "the main data is of shape (270, 2)\n",
      "shape of current_data2 is (270, 59)\n"
     ]
    },
    {
     "name": "stderr",
     "output_type": "stream",
     "text": [
      "C:\\Users\\abhij\\AppData\\Local\\Temp\\ipykernel_18656\\146205851.py:16: SettingWithCopyWarning: \n",
      "A value is trying to be set on a copy of a slice from a DataFrame.\n",
      "Try using .loc[row_indexer,col_indexer] = value instead\n",
      "\n",
      "See the caveats in the documentation: https://pandas.pydata.org/pandas-docs/stable/user_guide/indexing.html#returning-a-view-versus-a-copy\n",
      "  current_data['Date'] = current_data.index\n"
     ]
    },
    {
     "name": "stdout",
     "output_type": "stream",
     "text": [
      "shape of df4 is (210, 3541)\n",
      "Completed 261 out of 488 steps\n",
      "the main data is of shape (270, 2)\n",
      "shape of current_data2 is (270, 59)\n"
     ]
    },
    {
     "name": "stderr",
     "output_type": "stream",
     "text": [
      "C:\\Users\\abhij\\AppData\\Local\\Temp\\ipykernel_18656\\146205851.py:16: SettingWithCopyWarning: \n",
      "A value is trying to be set on a copy of a slice from a DataFrame.\n",
      "Try using .loc[row_indexer,col_indexer] = value instead\n",
      "\n",
      "See the caveats in the documentation: https://pandas.pydata.org/pandas-docs/stable/user_guide/indexing.html#returning-a-view-versus-a-copy\n",
      "  current_data['Date'] = current_data.index\n"
     ]
    },
    {
     "name": "stdout",
     "output_type": "stream",
     "text": [
      "shape of df4 is (210, 3541)\n",
      "Completed 262 out of 488 steps\n",
      "the main data is of shape (270, 2)\n",
      "shape of current_data2 is (270, 59)\n"
     ]
    },
    {
     "name": "stderr",
     "output_type": "stream",
     "text": [
      "C:\\Users\\abhij\\AppData\\Local\\Temp\\ipykernel_18656\\146205851.py:16: SettingWithCopyWarning: \n",
      "A value is trying to be set on a copy of a slice from a DataFrame.\n",
      "Try using .loc[row_indexer,col_indexer] = value instead\n",
      "\n",
      "See the caveats in the documentation: https://pandas.pydata.org/pandas-docs/stable/user_guide/indexing.html#returning-a-view-versus-a-copy\n",
      "  current_data['Date'] = current_data.index\n"
     ]
    },
    {
     "name": "stdout",
     "output_type": "stream",
     "text": [
      "shape of df4 is (210, 3541)\n",
      "Completed 263 out of 488 steps\n",
      "the main data is of shape (270, 2)\n",
      "shape of current_data2 is (270, 59)\n"
     ]
    },
    {
     "name": "stderr",
     "output_type": "stream",
     "text": [
      "C:\\Users\\abhij\\AppData\\Local\\Temp\\ipykernel_18656\\146205851.py:16: SettingWithCopyWarning: \n",
      "A value is trying to be set on a copy of a slice from a DataFrame.\n",
      "Try using .loc[row_indexer,col_indexer] = value instead\n",
      "\n",
      "See the caveats in the documentation: https://pandas.pydata.org/pandas-docs/stable/user_guide/indexing.html#returning-a-view-versus-a-copy\n",
      "  current_data['Date'] = current_data.index\n"
     ]
    },
    {
     "name": "stdout",
     "output_type": "stream",
     "text": [
      "shape of df4 is (210, 3541)\n",
      "Completed 264 out of 488 steps\n",
      "the main data is of shape (270, 2)\n",
      "shape of current_data2 is (270, 59)\n"
     ]
    },
    {
     "name": "stderr",
     "output_type": "stream",
     "text": [
      "C:\\Users\\abhij\\AppData\\Local\\Temp\\ipykernel_18656\\146205851.py:16: SettingWithCopyWarning: \n",
      "A value is trying to be set on a copy of a slice from a DataFrame.\n",
      "Try using .loc[row_indexer,col_indexer] = value instead\n",
      "\n",
      "See the caveats in the documentation: https://pandas.pydata.org/pandas-docs/stable/user_guide/indexing.html#returning-a-view-versus-a-copy\n",
      "  current_data['Date'] = current_data.index\n"
     ]
    },
    {
     "name": "stdout",
     "output_type": "stream",
     "text": [
      "shape of df4 is (210, 3541)\n",
      "Completed 265 out of 488 steps\n",
      "the main data is of shape (270, 2)\n",
      "shape of current_data2 is (270, 59)\n"
     ]
    },
    {
     "name": "stderr",
     "output_type": "stream",
     "text": [
      "C:\\Users\\abhij\\AppData\\Local\\Temp\\ipykernel_18656\\146205851.py:16: SettingWithCopyWarning: \n",
      "A value is trying to be set on a copy of a slice from a DataFrame.\n",
      "Try using .loc[row_indexer,col_indexer] = value instead\n",
      "\n",
      "See the caveats in the documentation: https://pandas.pydata.org/pandas-docs/stable/user_guide/indexing.html#returning-a-view-versus-a-copy\n",
      "  current_data['Date'] = current_data.index\n"
     ]
    },
    {
     "name": "stdout",
     "output_type": "stream",
     "text": [
      "shape of df4 is (210, 3541)\n",
      "Completed 266 out of 488 steps\n",
      "the main data is of shape (270, 2)\n",
      "shape of current_data2 is (270, 59)\n"
     ]
    },
    {
     "name": "stderr",
     "output_type": "stream",
     "text": [
      "C:\\Users\\abhij\\AppData\\Local\\Temp\\ipykernel_18656\\146205851.py:16: SettingWithCopyWarning: \n",
      "A value is trying to be set on a copy of a slice from a DataFrame.\n",
      "Try using .loc[row_indexer,col_indexer] = value instead\n",
      "\n",
      "See the caveats in the documentation: https://pandas.pydata.org/pandas-docs/stable/user_guide/indexing.html#returning-a-view-versus-a-copy\n",
      "  current_data['Date'] = current_data.index\n"
     ]
    },
    {
     "name": "stdout",
     "output_type": "stream",
     "text": [
      "shape of df4 is (210, 3541)\n",
      "Completed 267 out of 488 steps\n",
      "the main data is of shape (270, 2)\n",
      "shape of current_data2 is (270, 59)\n"
     ]
    },
    {
     "name": "stderr",
     "output_type": "stream",
     "text": [
      "C:\\Users\\abhij\\AppData\\Local\\Temp\\ipykernel_18656\\146205851.py:16: SettingWithCopyWarning: \n",
      "A value is trying to be set on a copy of a slice from a DataFrame.\n",
      "Try using .loc[row_indexer,col_indexer] = value instead\n",
      "\n",
      "See the caveats in the documentation: https://pandas.pydata.org/pandas-docs/stable/user_guide/indexing.html#returning-a-view-versus-a-copy\n",
      "  current_data['Date'] = current_data.index\n"
     ]
    },
    {
     "name": "stdout",
     "output_type": "stream",
     "text": [
      "shape of df4 is (210, 3541)\n",
      "Completed 268 out of 488 steps\n",
      "the main data is of shape (270, 2)\n",
      "shape of current_data2 is (270, 59)\n"
     ]
    },
    {
     "name": "stderr",
     "output_type": "stream",
     "text": [
      "C:\\Users\\abhij\\AppData\\Local\\Temp\\ipykernel_18656\\146205851.py:16: SettingWithCopyWarning: \n",
      "A value is trying to be set on a copy of a slice from a DataFrame.\n",
      "Try using .loc[row_indexer,col_indexer] = value instead\n",
      "\n",
      "See the caveats in the documentation: https://pandas.pydata.org/pandas-docs/stable/user_guide/indexing.html#returning-a-view-versus-a-copy\n",
      "  current_data['Date'] = current_data.index\n"
     ]
    },
    {
     "name": "stdout",
     "output_type": "stream",
     "text": [
      "shape of df4 is (210, 3541)\n",
      "Completed 269 out of 488 steps\n",
      "the main data is of shape (270, 2)\n",
      "shape of current_data2 is (270, 59)\n"
     ]
    },
    {
     "name": "stderr",
     "output_type": "stream",
     "text": [
      "C:\\Users\\abhij\\AppData\\Local\\Temp\\ipykernel_18656\\146205851.py:16: SettingWithCopyWarning: \n",
      "A value is trying to be set on a copy of a slice from a DataFrame.\n",
      "Try using .loc[row_indexer,col_indexer] = value instead\n",
      "\n",
      "See the caveats in the documentation: https://pandas.pydata.org/pandas-docs/stable/user_guide/indexing.html#returning-a-view-versus-a-copy\n",
      "  current_data['Date'] = current_data.index\n"
     ]
    },
    {
     "name": "stdout",
     "output_type": "stream",
     "text": [
      "shape of df4 is (210, 3541)\n",
      "Completed 270 out of 488 steps\n",
      "the main data is of shape (270, 2)\n"
     ]
    },
    {
     "name": "stderr",
     "output_type": "stream",
     "text": [
      "C:\\Users\\abhij\\AppData\\Local\\Temp\\ipykernel_18656\\146205851.py:16: SettingWithCopyWarning: \n",
      "A value is trying to be set on a copy of a slice from a DataFrame.\n",
      "Try using .loc[row_indexer,col_indexer] = value instead\n",
      "\n",
      "See the caveats in the documentation: https://pandas.pydata.org/pandas-docs/stable/user_guide/indexing.html#returning-a-view-versus-a-copy\n",
      "  current_data['Date'] = current_data.index\n"
     ]
    },
    {
     "name": "stdout",
     "output_type": "stream",
     "text": [
      "shape of current_data2 is (270, 59)\n",
      "shape of df4 is (210, 3541)\n",
      "Completed 271 out of 488 steps\n",
      "the main data is of shape (270, 2)\n",
      "shape of current_data2 is (270, 59)\n",
      "shape of df4 is (210, 3541)\n"
     ]
    },
    {
     "name": "stderr",
     "output_type": "stream",
     "text": [
      "C:\\Users\\abhij\\AppData\\Local\\Temp\\ipykernel_18656\\146205851.py:16: SettingWithCopyWarning: \n",
      "A value is trying to be set on a copy of a slice from a DataFrame.\n",
      "Try using .loc[row_indexer,col_indexer] = value instead\n",
      "\n",
      "See the caveats in the documentation: https://pandas.pydata.org/pandas-docs/stable/user_guide/indexing.html#returning-a-view-versus-a-copy\n",
      "  current_data['Date'] = current_data.index\n"
     ]
    },
    {
     "name": "stdout",
     "output_type": "stream",
     "text": [
      "Completed 272 out of 488 steps\n",
      "the main data is of shape (270, 2)\n",
      "shape of current_data2 is (270, 59)\n",
      "shape of df4 is (210, 3541)\n"
     ]
    },
    {
     "name": "stderr",
     "output_type": "stream",
     "text": [
      "C:\\Users\\abhij\\AppData\\Local\\Temp\\ipykernel_18656\\146205851.py:16: SettingWithCopyWarning: \n",
      "A value is trying to be set on a copy of a slice from a DataFrame.\n",
      "Try using .loc[row_indexer,col_indexer] = value instead\n",
      "\n",
      "See the caveats in the documentation: https://pandas.pydata.org/pandas-docs/stable/user_guide/indexing.html#returning-a-view-versus-a-copy\n",
      "  current_data['Date'] = current_data.index\n"
     ]
    },
    {
     "name": "stdout",
     "output_type": "stream",
     "text": [
      "Completed 273 out of 488 steps\n",
      "the main data is of shape (270, 2)\n",
      "shape of current_data2 is (270, 59)\n",
      "shape of df4 is (210, 3541)\n"
     ]
    },
    {
     "name": "stderr",
     "output_type": "stream",
     "text": [
      "C:\\Users\\abhij\\AppData\\Local\\Temp\\ipykernel_18656\\146205851.py:16: SettingWithCopyWarning: \n",
      "A value is trying to be set on a copy of a slice from a DataFrame.\n",
      "Try using .loc[row_indexer,col_indexer] = value instead\n",
      "\n",
      "See the caveats in the documentation: https://pandas.pydata.org/pandas-docs/stable/user_guide/indexing.html#returning-a-view-versus-a-copy\n",
      "  current_data['Date'] = current_data.index\n"
     ]
    },
    {
     "name": "stdout",
     "output_type": "stream",
     "text": [
      "Completed 274 out of 488 steps\n",
      "the main data is of shape (270, 2)\n",
      "shape of current_data2 is (270, 59)\n",
      "shape of df4 is (210, 3541)\n"
     ]
    },
    {
     "name": "stderr",
     "output_type": "stream",
     "text": [
      "C:\\Users\\abhij\\AppData\\Local\\Temp\\ipykernel_18656\\146205851.py:16: SettingWithCopyWarning: \n",
      "A value is trying to be set on a copy of a slice from a DataFrame.\n",
      "Try using .loc[row_indexer,col_indexer] = value instead\n",
      "\n",
      "See the caveats in the documentation: https://pandas.pydata.org/pandas-docs/stable/user_guide/indexing.html#returning-a-view-versus-a-copy\n",
      "  current_data['Date'] = current_data.index\n"
     ]
    },
    {
     "name": "stdout",
     "output_type": "stream",
     "text": [
      "Completed 275 out of 488 steps\n",
      "the main data is of shape (270, 2)\n",
      "shape of current_data2 is (270, 59)\n",
      "shape of df4 is (210, 3541)\n"
     ]
    },
    {
     "name": "stderr",
     "output_type": "stream",
     "text": [
      "C:\\Users\\abhij\\AppData\\Local\\Temp\\ipykernel_18656\\146205851.py:16: SettingWithCopyWarning: \n",
      "A value is trying to be set on a copy of a slice from a DataFrame.\n",
      "Try using .loc[row_indexer,col_indexer] = value instead\n",
      "\n",
      "See the caveats in the documentation: https://pandas.pydata.org/pandas-docs/stable/user_guide/indexing.html#returning-a-view-versus-a-copy\n",
      "  current_data['Date'] = current_data.index\n"
     ]
    },
    {
     "name": "stdout",
     "output_type": "stream",
     "text": [
      "Completed 276 out of 488 steps\n",
      "the main data is of shape (270, 2)\n",
      "shape of current_data2 is (270, 59)\n",
      "shape of df4 is (210, 3541)\n"
     ]
    },
    {
     "name": "stderr",
     "output_type": "stream",
     "text": [
      "C:\\Users\\abhij\\AppData\\Local\\Temp\\ipykernel_18656\\146205851.py:16: SettingWithCopyWarning: \n",
      "A value is trying to be set on a copy of a slice from a DataFrame.\n",
      "Try using .loc[row_indexer,col_indexer] = value instead\n",
      "\n",
      "See the caveats in the documentation: https://pandas.pydata.org/pandas-docs/stable/user_guide/indexing.html#returning-a-view-versus-a-copy\n",
      "  current_data['Date'] = current_data.index\n"
     ]
    },
    {
     "name": "stdout",
     "output_type": "stream",
     "text": [
      "Completed 277 out of 488 steps\n",
      "the main data is of shape (270, 2)\n",
      "shape of current_data2 is (270, 59)\n",
      "shape of df4 is (210, 3541)\n"
     ]
    },
    {
     "name": "stderr",
     "output_type": "stream",
     "text": [
      "C:\\Users\\abhij\\AppData\\Local\\Temp\\ipykernel_18656\\146205851.py:16: SettingWithCopyWarning: \n",
      "A value is trying to be set on a copy of a slice from a DataFrame.\n",
      "Try using .loc[row_indexer,col_indexer] = value instead\n",
      "\n",
      "See the caveats in the documentation: https://pandas.pydata.org/pandas-docs/stable/user_guide/indexing.html#returning-a-view-versus-a-copy\n",
      "  current_data['Date'] = current_data.index\n"
     ]
    },
    {
     "name": "stdout",
     "output_type": "stream",
     "text": [
      "Completed 278 out of 488 steps\n",
      "the main data is of shape (270, 2)\n",
      "shape of current_data2 is (270, 59)\n",
      "shape of df4 is (210, 3541)\n"
     ]
    },
    {
     "name": "stderr",
     "output_type": "stream",
     "text": [
      "C:\\Users\\abhij\\AppData\\Local\\Temp\\ipykernel_18656\\146205851.py:16: SettingWithCopyWarning: \n",
      "A value is trying to be set on a copy of a slice from a DataFrame.\n",
      "Try using .loc[row_indexer,col_indexer] = value instead\n",
      "\n",
      "See the caveats in the documentation: https://pandas.pydata.org/pandas-docs/stable/user_guide/indexing.html#returning-a-view-versus-a-copy\n",
      "  current_data['Date'] = current_data.index\n"
     ]
    },
    {
     "name": "stdout",
     "output_type": "stream",
     "text": [
      "Completed 279 out of 488 steps\n",
      "the main data is of shape (270, 2)\n",
      "shape of current_data2 is (270, 59)\n",
      "shape of df4 is (210, 3541)\n"
     ]
    },
    {
     "name": "stderr",
     "output_type": "stream",
     "text": [
      "C:\\Users\\abhij\\AppData\\Local\\Temp\\ipykernel_18656\\146205851.py:16: SettingWithCopyWarning: \n",
      "A value is trying to be set on a copy of a slice from a DataFrame.\n",
      "Try using .loc[row_indexer,col_indexer] = value instead\n",
      "\n",
      "See the caveats in the documentation: https://pandas.pydata.org/pandas-docs/stable/user_guide/indexing.html#returning-a-view-versus-a-copy\n",
      "  current_data['Date'] = current_data.index\n"
     ]
    },
    {
     "name": "stdout",
     "output_type": "stream",
     "text": [
      "Completed 280 out of 488 steps\n",
      "the main data is of shape (270, 2)\n",
      "shape of current_data2 is (270, 59)\n",
      "shape of df4 is (210, 3541)\n"
     ]
    },
    {
     "name": "stderr",
     "output_type": "stream",
     "text": [
      "C:\\Users\\abhij\\AppData\\Local\\Temp\\ipykernel_18656\\146205851.py:16: SettingWithCopyWarning: \n",
      "A value is trying to be set on a copy of a slice from a DataFrame.\n",
      "Try using .loc[row_indexer,col_indexer] = value instead\n",
      "\n",
      "See the caveats in the documentation: https://pandas.pydata.org/pandas-docs/stable/user_guide/indexing.html#returning-a-view-versus-a-copy\n",
      "  current_data['Date'] = current_data.index\n"
     ]
    },
    {
     "name": "stdout",
     "output_type": "stream",
     "text": [
      "Completed 281 out of 488 steps\n",
      "the main data is of shape (270, 2)\n",
      "shape of current_data2 is (270, 59)\n",
      "shape of df4 is (210, 3541)\n"
     ]
    },
    {
     "name": "stderr",
     "output_type": "stream",
     "text": [
      "C:\\Users\\abhij\\AppData\\Local\\Temp\\ipykernel_18656\\146205851.py:16: SettingWithCopyWarning: \n",
      "A value is trying to be set on a copy of a slice from a DataFrame.\n",
      "Try using .loc[row_indexer,col_indexer] = value instead\n",
      "\n",
      "See the caveats in the documentation: https://pandas.pydata.org/pandas-docs/stable/user_guide/indexing.html#returning-a-view-versus-a-copy\n",
      "  current_data['Date'] = current_data.index\n"
     ]
    },
    {
     "name": "stdout",
     "output_type": "stream",
     "text": [
      "Completed 282 out of 488 steps\n",
      "the main data is of shape (270, 2)\n",
      "shape of current_data2 is (270, 59)\n",
      "shape of df4 is (210, 3541)\n"
     ]
    },
    {
     "name": "stderr",
     "output_type": "stream",
     "text": [
      "C:\\Users\\abhij\\AppData\\Local\\Temp\\ipykernel_18656\\146205851.py:16: SettingWithCopyWarning: \n",
      "A value is trying to be set on a copy of a slice from a DataFrame.\n",
      "Try using .loc[row_indexer,col_indexer] = value instead\n",
      "\n",
      "See the caveats in the documentation: https://pandas.pydata.org/pandas-docs/stable/user_guide/indexing.html#returning-a-view-versus-a-copy\n",
      "  current_data['Date'] = current_data.index\n"
     ]
    },
    {
     "name": "stdout",
     "output_type": "stream",
     "text": [
      "Completed 283 out of 488 steps\n",
      "the main data is of shape (270, 2)\n",
      "shape of current_data2 is (270, 59)\n",
      "shape of df4 is (210, 3541)\n"
     ]
    },
    {
     "name": "stderr",
     "output_type": "stream",
     "text": [
      "C:\\Users\\abhij\\AppData\\Local\\Temp\\ipykernel_18656\\146205851.py:16: SettingWithCopyWarning: \n",
      "A value is trying to be set on a copy of a slice from a DataFrame.\n",
      "Try using .loc[row_indexer,col_indexer] = value instead\n",
      "\n",
      "See the caveats in the documentation: https://pandas.pydata.org/pandas-docs/stable/user_guide/indexing.html#returning-a-view-versus-a-copy\n",
      "  current_data['Date'] = current_data.index\n"
     ]
    },
    {
     "name": "stdout",
     "output_type": "stream",
     "text": [
      "Completed 284 out of 488 steps\n",
      "the main data is of shape (270, 2)\n",
      "shape of current_data2 is (270, 59)\n",
      "shape of df4 is (210, 3541)\n"
     ]
    },
    {
     "name": "stderr",
     "output_type": "stream",
     "text": [
      "C:\\Users\\abhij\\AppData\\Local\\Temp\\ipykernel_18656\\146205851.py:16: SettingWithCopyWarning: \n",
      "A value is trying to be set on a copy of a slice from a DataFrame.\n",
      "Try using .loc[row_indexer,col_indexer] = value instead\n",
      "\n",
      "See the caveats in the documentation: https://pandas.pydata.org/pandas-docs/stable/user_guide/indexing.html#returning-a-view-versus-a-copy\n",
      "  current_data['Date'] = current_data.index\n"
     ]
    },
    {
     "name": "stdout",
     "output_type": "stream",
     "text": [
      "Completed 285 out of 488 steps\n",
      "the main data is of shape (270, 2)\n",
      "shape of current_data2 is (270, 59)\n",
      "shape of df4 is (210, 3541)\n"
     ]
    },
    {
     "name": "stderr",
     "output_type": "stream",
     "text": [
      "C:\\Users\\abhij\\AppData\\Local\\Temp\\ipykernel_18656\\146205851.py:16: SettingWithCopyWarning: \n",
      "A value is trying to be set on a copy of a slice from a DataFrame.\n",
      "Try using .loc[row_indexer,col_indexer] = value instead\n",
      "\n",
      "See the caveats in the documentation: https://pandas.pydata.org/pandas-docs/stable/user_guide/indexing.html#returning-a-view-versus-a-copy\n",
      "  current_data['Date'] = current_data.index\n"
     ]
    },
    {
     "name": "stdout",
     "output_type": "stream",
     "text": [
      "Completed 286 out of 488 steps\n",
      "the main data is of shape (270, 2)\n",
      "shape of current_data2 is (270, 59)\n",
      "shape of df4 is (210, 3541)\n"
     ]
    },
    {
     "name": "stderr",
     "output_type": "stream",
     "text": [
      "C:\\Users\\abhij\\AppData\\Local\\Temp\\ipykernel_18656\\146205851.py:16: SettingWithCopyWarning: \n",
      "A value is trying to be set on a copy of a slice from a DataFrame.\n",
      "Try using .loc[row_indexer,col_indexer] = value instead\n",
      "\n",
      "See the caveats in the documentation: https://pandas.pydata.org/pandas-docs/stable/user_guide/indexing.html#returning-a-view-versus-a-copy\n",
      "  current_data['Date'] = current_data.index\n"
     ]
    },
    {
     "name": "stdout",
     "output_type": "stream",
     "text": [
      "Completed 287 out of 488 steps\n",
      "the main data is of shape (270, 2)\n",
      "shape of current_data2 is (270, 59)\n",
      "shape of df4 is (210, 3541)\n"
     ]
    },
    {
     "name": "stderr",
     "output_type": "stream",
     "text": [
      "C:\\Users\\abhij\\AppData\\Local\\Temp\\ipykernel_18656\\146205851.py:16: SettingWithCopyWarning: \n",
      "A value is trying to be set on a copy of a slice from a DataFrame.\n",
      "Try using .loc[row_indexer,col_indexer] = value instead\n",
      "\n",
      "See the caveats in the documentation: https://pandas.pydata.org/pandas-docs/stable/user_guide/indexing.html#returning-a-view-versus-a-copy\n",
      "  current_data['Date'] = current_data.index\n"
     ]
    },
    {
     "name": "stdout",
     "output_type": "stream",
     "text": [
      "Completed 288 out of 488 steps\n",
      "the main data is of shape (270, 2)\n",
      "shape of current_data2 is (270, 59)\n",
      "shape of df4 is (210, 3541)\n"
     ]
    },
    {
     "name": "stderr",
     "output_type": "stream",
     "text": [
      "C:\\Users\\abhij\\AppData\\Local\\Temp\\ipykernel_18656\\146205851.py:16: SettingWithCopyWarning: \n",
      "A value is trying to be set on a copy of a slice from a DataFrame.\n",
      "Try using .loc[row_indexer,col_indexer] = value instead\n",
      "\n",
      "See the caveats in the documentation: https://pandas.pydata.org/pandas-docs/stable/user_guide/indexing.html#returning-a-view-versus-a-copy\n",
      "  current_data['Date'] = current_data.index\n"
     ]
    },
    {
     "name": "stdout",
     "output_type": "stream",
     "text": [
      "Completed 289 out of 488 steps\n",
      "the main data is of shape (270, 2)\n",
      "shape of current_data2 is (270, 59)\n",
      "shape of df4 is (210, 3541)\n"
     ]
    },
    {
     "name": "stderr",
     "output_type": "stream",
     "text": [
      "C:\\Users\\abhij\\AppData\\Local\\Temp\\ipykernel_18656\\146205851.py:16: SettingWithCopyWarning: \n",
      "A value is trying to be set on a copy of a slice from a DataFrame.\n",
      "Try using .loc[row_indexer,col_indexer] = value instead\n",
      "\n",
      "See the caveats in the documentation: https://pandas.pydata.org/pandas-docs/stable/user_guide/indexing.html#returning-a-view-versus-a-copy\n",
      "  current_data['Date'] = current_data.index\n"
     ]
    },
    {
     "name": "stdout",
     "output_type": "stream",
     "text": [
      "Completed 290 out of 488 steps\n",
      "the main data is of shape (270, 2)\n",
      "shape of current_data2 is (270, 59)\n",
      "shape of df4 is (210, 3541)\n"
     ]
    },
    {
     "name": "stderr",
     "output_type": "stream",
     "text": [
      "C:\\Users\\abhij\\AppData\\Local\\Temp\\ipykernel_18656\\146205851.py:16: SettingWithCopyWarning: \n",
      "A value is trying to be set on a copy of a slice from a DataFrame.\n",
      "Try using .loc[row_indexer,col_indexer] = value instead\n",
      "\n",
      "See the caveats in the documentation: https://pandas.pydata.org/pandas-docs/stable/user_guide/indexing.html#returning-a-view-versus-a-copy\n",
      "  current_data['Date'] = current_data.index\n"
     ]
    },
    {
     "name": "stdout",
     "output_type": "stream",
     "text": [
      "Completed 291 out of 488 steps\n",
      "the main data is of shape (270, 2)\n",
      "shape of current_data2 is (270, 59)\n",
      "shape of df4 is (210, 3541)\n"
     ]
    },
    {
     "name": "stderr",
     "output_type": "stream",
     "text": [
      "C:\\Users\\abhij\\AppData\\Local\\Temp\\ipykernel_18656\\146205851.py:16: SettingWithCopyWarning: \n",
      "A value is trying to be set on a copy of a slice from a DataFrame.\n",
      "Try using .loc[row_indexer,col_indexer] = value instead\n",
      "\n",
      "See the caveats in the documentation: https://pandas.pydata.org/pandas-docs/stable/user_guide/indexing.html#returning-a-view-versus-a-copy\n",
      "  current_data['Date'] = current_data.index\n"
     ]
    },
    {
     "name": "stdout",
     "output_type": "stream",
     "text": [
      "Completed 292 out of 488 steps\n",
      "the main data is of shape (270, 2)\n",
      "shape of current_data2 is (270, 59)\n",
      "shape of df4 is (210, 3541)\n"
     ]
    },
    {
     "name": "stderr",
     "output_type": "stream",
     "text": [
      "C:\\Users\\abhij\\AppData\\Local\\Temp\\ipykernel_18656\\146205851.py:16: SettingWithCopyWarning: \n",
      "A value is trying to be set on a copy of a slice from a DataFrame.\n",
      "Try using .loc[row_indexer,col_indexer] = value instead\n",
      "\n",
      "See the caveats in the documentation: https://pandas.pydata.org/pandas-docs/stable/user_guide/indexing.html#returning-a-view-versus-a-copy\n",
      "  current_data['Date'] = current_data.index\n"
     ]
    },
    {
     "name": "stdout",
     "output_type": "stream",
     "text": [
      "Completed 293 out of 488 steps\n",
      "the main data is of shape (270, 2)\n",
      "shape of current_data2 is (270, 59)\n",
      "shape of df4 is (210, 3541)\n"
     ]
    },
    {
     "name": "stderr",
     "output_type": "stream",
     "text": [
      "C:\\Users\\abhij\\AppData\\Local\\Temp\\ipykernel_18656\\146205851.py:16: SettingWithCopyWarning: \n",
      "A value is trying to be set on a copy of a slice from a DataFrame.\n",
      "Try using .loc[row_indexer,col_indexer] = value instead\n",
      "\n",
      "See the caveats in the documentation: https://pandas.pydata.org/pandas-docs/stable/user_guide/indexing.html#returning-a-view-versus-a-copy\n",
      "  current_data['Date'] = current_data.index\n"
     ]
    },
    {
     "name": "stdout",
     "output_type": "stream",
     "text": [
      "Completed 294 out of 488 steps\n",
      "the main data is of shape (270, 2)\n",
      "shape of current_data2 is (270, 59)\n",
      "shape of df4 is (210, 3541)\n"
     ]
    },
    {
     "name": "stderr",
     "output_type": "stream",
     "text": [
      "C:\\Users\\abhij\\AppData\\Local\\Temp\\ipykernel_18656\\146205851.py:16: SettingWithCopyWarning: \n",
      "A value is trying to be set on a copy of a slice from a DataFrame.\n",
      "Try using .loc[row_indexer,col_indexer] = value instead\n",
      "\n",
      "See the caveats in the documentation: https://pandas.pydata.org/pandas-docs/stable/user_guide/indexing.html#returning-a-view-versus-a-copy\n",
      "  current_data['Date'] = current_data.index\n"
     ]
    },
    {
     "name": "stdout",
     "output_type": "stream",
     "text": [
      "Completed 295 out of 488 steps\n",
      "the main data is of shape (270, 2)\n",
      "shape of current_data2 is (270, 59)\n",
      "shape of df4 is (210, 3541)\n"
     ]
    },
    {
     "name": "stderr",
     "output_type": "stream",
     "text": [
      "C:\\Users\\abhij\\AppData\\Local\\Temp\\ipykernel_18656\\146205851.py:16: SettingWithCopyWarning: \n",
      "A value is trying to be set on a copy of a slice from a DataFrame.\n",
      "Try using .loc[row_indexer,col_indexer] = value instead\n",
      "\n",
      "See the caveats in the documentation: https://pandas.pydata.org/pandas-docs/stable/user_guide/indexing.html#returning-a-view-versus-a-copy\n",
      "  current_data['Date'] = current_data.index\n"
     ]
    },
    {
     "name": "stdout",
     "output_type": "stream",
     "text": [
      "Completed 296 out of 488 steps\n",
      "the main data is of shape (270, 2)\n",
      "shape of current_data2 is (270, 59)\n",
      "shape of df4 is (210, 3541)\n"
     ]
    },
    {
     "name": "stderr",
     "output_type": "stream",
     "text": [
      "C:\\Users\\abhij\\AppData\\Local\\Temp\\ipykernel_18656\\146205851.py:16: SettingWithCopyWarning: \n",
      "A value is trying to be set on a copy of a slice from a DataFrame.\n",
      "Try using .loc[row_indexer,col_indexer] = value instead\n",
      "\n",
      "See the caveats in the documentation: https://pandas.pydata.org/pandas-docs/stable/user_guide/indexing.html#returning-a-view-versus-a-copy\n",
      "  current_data['Date'] = current_data.index\n"
     ]
    },
    {
     "name": "stdout",
     "output_type": "stream",
     "text": [
      "Completed 297 out of 488 steps\n",
      "the main data is of shape (270, 2)\n",
      "shape of current_data2 is (270, 59)\n",
      "shape of df4 is (210, 3541)\n"
     ]
    },
    {
     "name": "stderr",
     "output_type": "stream",
     "text": [
      "C:\\Users\\abhij\\AppData\\Local\\Temp\\ipykernel_18656\\146205851.py:16: SettingWithCopyWarning: \n",
      "A value is trying to be set on a copy of a slice from a DataFrame.\n",
      "Try using .loc[row_indexer,col_indexer] = value instead\n",
      "\n",
      "See the caveats in the documentation: https://pandas.pydata.org/pandas-docs/stable/user_guide/indexing.html#returning-a-view-versus-a-copy\n",
      "  current_data['Date'] = current_data.index\n"
     ]
    },
    {
     "name": "stdout",
     "output_type": "stream",
     "text": [
      "Completed 298 out of 488 steps\n",
      "the main data is of shape (270, 2)\n",
      "shape of current_data2 is (270, 59)\n",
      "shape of df4 is (210, 3541)\n"
     ]
    },
    {
     "name": "stderr",
     "output_type": "stream",
     "text": [
      "C:\\Users\\abhij\\AppData\\Local\\Temp\\ipykernel_18656\\146205851.py:16: SettingWithCopyWarning: \n",
      "A value is trying to be set on a copy of a slice from a DataFrame.\n",
      "Try using .loc[row_indexer,col_indexer] = value instead\n",
      "\n",
      "See the caveats in the documentation: https://pandas.pydata.org/pandas-docs/stable/user_guide/indexing.html#returning-a-view-versus-a-copy\n",
      "  current_data['Date'] = current_data.index\n"
     ]
    },
    {
     "name": "stdout",
     "output_type": "stream",
     "text": [
      "Completed 299 out of 488 steps\n",
      "the main data is of shape (270, 2)\n",
      "shape of current_data2 is (270, 59)\n",
      "shape of df4 is (210, 3541)\n"
     ]
    },
    {
     "name": "stderr",
     "output_type": "stream",
     "text": [
      "C:\\Users\\abhij\\AppData\\Local\\Temp\\ipykernel_18656\\146205851.py:16: SettingWithCopyWarning: \n",
      "A value is trying to be set on a copy of a slice from a DataFrame.\n",
      "Try using .loc[row_indexer,col_indexer] = value instead\n",
      "\n",
      "See the caveats in the documentation: https://pandas.pydata.org/pandas-docs/stable/user_guide/indexing.html#returning-a-view-versus-a-copy\n",
      "  current_data['Date'] = current_data.index\n"
     ]
    },
    {
     "name": "stdout",
     "output_type": "stream",
     "text": [
      "Completed 300 out of 488 steps\n",
      "the main data is of shape (270, 2)\n",
      "shape of current_data2 is (270, 59)\n",
      "shape of df4 is (210, 3541)\n"
     ]
    },
    {
     "name": "stderr",
     "output_type": "stream",
     "text": [
      "C:\\Users\\abhij\\AppData\\Local\\Temp\\ipykernel_18656\\146205851.py:16: SettingWithCopyWarning: \n",
      "A value is trying to be set on a copy of a slice from a DataFrame.\n",
      "Try using .loc[row_indexer,col_indexer] = value instead\n",
      "\n",
      "See the caveats in the documentation: https://pandas.pydata.org/pandas-docs/stable/user_guide/indexing.html#returning-a-view-versus-a-copy\n",
      "  current_data['Date'] = current_data.index\n"
     ]
    },
    {
     "name": "stdout",
     "output_type": "stream",
     "text": [
      "Completed 301 out of 488 steps\n",
      "the main data is of shape (270, 2)\n",
      "shape of current_data2 is (270, 59)\n",
      "shape of df4 is (210, 3541)\n"
     ]
    },
    {
     "name": "stderr",
     "output_type": "stream",
     "text": [
      "C:\\Users\\abhij\\AppData\\Local\\Temp\\ipykernel_18656\\146205851.py:16: SettingWithCopyWarning: \n",
      "A value is trying to be set on a copy of a slice from a DataFrame.\n",
      "Try using .loc[row_indexer,col_indexer] = value instead\n",
      "\n",
      "See the caveats in the documentation: https://pandas.pydata.org/pandas-docs/stable/user_guide/indexing.html#returning-a-view-versus-a-copy\n",
      "  current_data['Date'] = current_data.index\n"
     ]
    },
    {
     "name": "stdout",
     "output_type": "stream",
     "text": [
      "Completed 302 out of 488 steps\n",
      "the main data is of shape (270, 2)\n",
      "shape of current_data2 is (270, 59)\n",
      "shape of df4 is (210, 3541)\n"
     ]
    },
    {
     "name": "stderr",
     "output_type": "stream",
     "text": [
      "C:\\Users\\abhij\\AppData\\Local\\Temp\\ipykernel_18656\\146205851.py:16: SettingWithCopyWarning: \n",
      "A value is trying to be set on a copy of a slice from a DataFrame.\n",
      "Try using .loc[row_indexer,col_indexer] = value instead\n",
      "\n",
      "See the caveats in the documentation: https://pandas.pydata.org/pandas-docs/stable/user_guide/indexing.html#returning-a-view-versus-a-copy\n",
      "  current_data['Date'] = current_data.index\n"
     ]
    },
    {
     "name": "stdout",
     "output_type": "stream",
     "text": [
      "Completed 303 out of 488 steps\n",
      "the main data is of shape (270, 2)\n",
      "shape of current_data2 is (270, 59)\n",
      "shape of df4 is (210, 3541)\n"
     ]
    },
    {
     "name": "stderr",
     "output_type": "stream",
     "text": [
      "C:\\Users\\abhij\\AppData\\Local\\Temp\\ipykernel_18656\\146205851.py:16: SettingWithCopyWarning: \n",
      "A value is trying to be set on a copy of a slice from a DataFrame.\n",
      "Try using .loc[row_indexer,col_indexer] = value instead\n",
      "\n",
      "See the caveats in the documentation: https://pandas.pydata.org/pandas-docs/stable/user_guide/indexing.html#returning-a-view-versus-a-copy\n",
      "  current_data['Date'] = current_data.index\n"
     ]
    },
    {
     "name": "stdout",
     "output_type": "stream",
     "text": [
      "Completed 304 out of 488 steps\n",
      "the main data is of shape (270, 2)\n",
      "shape of current_data2 is (270, 59)\n",
      "shape of df4 is (210, 3541)\n"
     ]
    },
    {
     "name": "stderr",
     "output_type": "stream",
     "text": [
      "C:\\Users\\abhij\\AppData\\Local\\Temp\\ipykernel_18656\\146205851.py:16: SettingWithCopyWarning: \n",
      "A value is trying to be set on a copy of a slice from a DataFrame.\n",
      "Try using .loc[row_indexer,col_indexer] = value instead\n",
      "\n",
      "See the caveats in the documentation: https://pandas.pydata.org/pandas-docs/stable/user_guide/indexing.html#returning-a-view-versus-a-copy\n",
      "  current_data['Date'] = current_data.index\n"
     ]
    },
    {
     "name": "stdout",
     "output_type": "stream",
     "text": [
      "Completed 305 out of 488 steps\n",
      "the main data is of shape (270, 2)\n",
      "shape of current_data2 is (270, 59)\n",
      "shape of df4 is (210, 3541)\n"
     ]
    },
    {
     "name": "stderr",
     "output_type": "stream",
     "text": [
      "C:\\Users\\abhij\\AppData\\Local\\Temp\\ipykernel_18656\\146205851.py:16: SettingWithCopyWarning: \n",
      "A value is trying to be set on a copy of a slice from a DataFrame.\n",
      "Try using .loc[row_indexer,col_indexer] = value instead\n",
      "\n",
      "See the caveats in the documentation: https://pandas.pydata.org/pandas-docs/stable/user_guide/indexing.html#returning-a-view-versus-a-copy\n",
      "  current_data['Date'] = current_data.index\n"
     ]
    },
    {
     "name": "stdout",
     "output_type": "stream",
     "text": [
      "Completed 306 out of 488 steps\n",
      "the main data is of shape (270, 2)\n",
      "shape of current_data2 is (270, 59)\n",
      "shape of df4 is (210, 3541)\n"
     ]
    },
    {
     "name": "stderr",
     "output_type": "stream",
     "text": [
      "C:\\Users\\abhij\\AppData\\Local\\Temp\\ipykernel_18656\\146205851.py:16: SettingWithCopyWarning: \n",
      "A value is trying to be set on a copy of a slice from a DataFrame.\n",
      "Try using .loc[row_indexer,col_indexer] = value instead\n",
      "\n",
      "See the caveats in the documentation: https://pandas.pydata.org/pandas-docs/stable/user_guide/indexing.html#returning-a-view-versus-a-copy\n",
      "  current_data['Date'] = current_data.index\n"
     ]
    },
    {
     "name": "stdout",
     "output_type": "stream",
     "text": [
      "Completed 307 out of 488 steps\n",
      "the main data is of shape (270, 2)\n",
      "shape of current_data2 is (270, 59)\n",
      "shape of df4 is (210, 3541)\n"
     ]
    },
    {
     "name": "stderr",
     "output_type": "stream",
     "text": [
      "C:\\Users\\abhij\\AppData\\Local\\Temp\\ipykernel_18656\\146205851.py:16: SettingWithCopyWarning: \n",
      "A value is trying to be set on a copy of a slice from a DataFrame.\n",
      "Try using .loc[row_indexer,col_indexer] = value instead\n",
      "\n",
      "See the caveats in the documentation: https://pandas.pydata.org/pandas-docs/stable/user_guide/indexing.html#returning-a-view-versus-a-copy\n",
      "  current_data['Date'] = current_data.index\n"
     ]
    },
    {
     "name": "stdout",
     "output_type": "stream",
     "text": [
      "Completed 308 out of 488 steps\n",
      "the main data is of shape (265, 2)\n",
      "shape of current_data2 is (265, 59)\n",
      "shape of df4 is (205, 3541)\n"
     ]
    },
    {
     "name": "stderr",
     "output_type": "stream",
     "text": [
      "C:\\Users\\abhij\\AppData\\Local\\Temp\\ipykernel_18656\\146205851.py:16: SettingWithCopyWarning: \n",
      "A value is trying to be set on a copy of a slice from a DataFrame.\n",
      "Try using .loc[row_indexer,col_indexer] = value instead\n",
      "\n",
      "See the caveats in the documentation: https://pandas.pydata.org/pandas-docs/stable/user_guide/indexing.html#returning-a-view-versus-a-copy\n",
      "  current_data['Date'] = current_data.index\n"
     ]
    },
    {
     "name": "stdout",
     "output_type": "stream",
     "text": [
      "Completed 309 out of 488 steps\n",
      "the main data is of shape (270, 2)\n",
      "shape of current_data2 is (270, 59)\n",
      "shape of df4 is (210, 3541)\n"
     ]
    },
    {
     "name": "stderr",
     "output_type": "stream",
     "text": [
      "C:\\Users\\abhij\\AppData\\Local\\Temp\\ipykernel_18656\\146205851.py:16: SettingWithCopyWarning: \n",
      "A value is trying to be set on a copy of a slice from a DataFrame.\n",
      "Try using .loc[row_indexer,col_indexer] = value instead\n",
      "\n",
      "See the caveats in the documentation: https://pandas.pydata.org/pandas-docs/stable/user_guide/indexing.html#returning-a-view-versus-a-copy\n",
      "  current_data['Date'] = current_data.index\n"
     ]
    },
    {
     "name": "stdout",
     "output_type": "stream",
     "text": [
      "Completed 310 out of 488 steps\n",
      "the main data is of shape (270, 2)\n",
      "shape of current_data2 is (270, 59)\n",
      "shape of df4 is (210, 3541)\n"
     ]
    },
    {
     "name": "stderr",
     "output_type": "stream",
     "text": [
      "C:\\Users\\abhij\\AppData\\Local\\Temp\\ipykernel_18656\\146205851.py:16: SettingWithCopyWarning: \n",
      "A value is trying to be set on a copy of a slice from a DataFrame.\n",
      "Try using .loc[row_indexer,col_indexer] = value instead\n",
      "\n",
      "See the caveats in the documentation: https://pandas.pydata.org/pandas-docs/stable/user_guide/indexing.html#returning-a-view-versus-a-copy\n",
      "  current_data['Date'] = current_data.index\n"
     ]
    },
    {
     "name": "stdout",
     "output_type": "stream",
     "text": [
      "Completed 311 out of 488 steps\n",
      "the main data is of shape (270, 2)\n",
      "shape of current_data2 is (270, 59)\n",
      "shape of df4 is (210, 3541)\n"
     ]
    },
    {
     "name": "stderr",
     "output_type": "stream",
     "text": [
      "C:\\Users\\abhij\\AppData\\Local\\Temp\\ipykernel_18656\\146205851.py:16: SettingWithCopyWarning: \n",
      "A value is trying to be set on a copy of a slice from a DataFrame.\n",
      "Try using .loc[row_indexer,col_indexer] = value instead\n",
      "\n",
      "See the caveats in the documentation: https://pandas.pydata.org/pandas-docs/stable/user_guide/indexing.html#returning-a-view-versus-a-copy\n",
      "  current_data['Date'] = current_data.index\n"
     ]
    },
    {
     "name": "stdout",
     "output_type": "stream",
     "text": [
      "Completed 312 out of 488 steps\n",
      "the main data is of shape (270, 2)\n",
      "shape of current_data2 is (270, 59)\n",
      "shape of df4 is (210, 3541)\n"
     ]
    },
    {
     "name": "stderr",
     "output_type": "stream",
     "text": [
      "C:\\Users\\abhij\\AppData\\Local\\Temp\\ipykernel_18656\\146205851.py:16: SettingWithCopyWarning: \n",
      "A value is trying to be set on a copy of a slice from a DataFrame.\n",
      "Try using .loc[row_indexer,col_indexer] = value instead\n",
      "\n",
      "See the caveats in the documentation: https://pandas.pydata.org/pandas-docs/stable/user_guide/indexing.html#returning-a-view-versus-a-copy\n",
      "  current_data['Date'] = current_data.index\n"
     ]
    },
    {
     "name": "stdout",
     "output_type": "stream",
     "text": [
      "Completed 313 out of 488 steps\n",
      "the main data is of shape (270, 2)\n",
      "shape of current_data2 is (270, 59)\n",
      "shape of df4 is (210, 3541)\n"
     ]
    },
    {
     "name": "stderr",
     "output_type": "stream",
     "text": [
      "C:\\Users\\abhij\\AppData\\Local\\Temp\\ipykernel_18656\\146205851.py:16: SettingWithCopyWarning: \n",
      "A value is trying to be set on a copy of a slice from a DataFrame.\n",
      "Try using .loc[row_indexer,col_indexer] = value instead\n",
      "\n",
      "See the caveats in the documentation: https://pandas.pydata.org/pandas-docs/stable/user_guide/indexing.html#returning-a-view-versus-a-copy\n",
      "  current_data['Date'] = current_data.index\n"
     ]
    },
    {
     "name": "stdout",
     "output_type": "stream",
     "text": [
      "Completed 314 out of 488 steps\n",
      "the main data is of shape (270, 2)\n",
      "shape of current_data2 is (270, 59)\n",
      "shape of df4 is (210, 3541)\n"
     ]
    },
    {
     "name": "stderr",
     "output_type": "stream",
     "text": [
      "C:\\Users\\abhij\\AppData\\Local\\Temp\\ipykernel_18656\\146205851.py:16: SettingWithCopyWarning: \n",
      "A value is trying to be set on a copy of a slice from a DataFrame.\n",
      "Try using .loc[row_indexer,col_indexer] = value instead\n",
      "\n",
      "See the caveats in the documentation: https://pandas.pydata.org/pandas-docs/stable/user_guide/indexing.html#returning-a-view-versus-a-copy\n",
      "  current_data['Date'] = current_data.index\n"
     ]
    },
    {
     "name": "stdout",
     "output_type": "stream",
     "text": [
      "Completed 315 out of 488 steps\n",
      "the main data is of shape (270, 2)\n",
      "shape of current_data2 is (270, 59)\n",
      "shape of df4 is (210, 3541)\n"
     ]
    },
    {
     "name": "stderr",
     "output_type": "stream",
     "text": [
      "C:\\Users\\abhij\\AppData\\Local\\Temp\\ipykernel_18656\\146205851.py:16: SettingWithCopyWarning: \n",
      "A value is trying to be set on a copy of a slice from a DataFrame.\n",
      "Try using .loc[row_indexer,col_indexer] = value instead\n",
      "\n",
      "See the caveats in the documentation: https://pandas.pydata.org/pandas-docs/stable/user_guide/indexing.html#returning-a-view-versus-a-copy\n",
      "  current_data['Date'] = current_data.index\n"
     ]
    },
    {
     "name": "stdout",
     "output_type": "stream",
     "text": [
      "Completed 316 out of 488 steps\n",
      "the main data is of shape (270, 2)\n",
      "shape of current_data2 is (270, 59)\n",
      "shape of df4 is (210, 3541)\n"
     ]
    },
    {
     "name": "stderr",
     "output_type": "stream",
     "text": [
      "C:\\Users\\abhij\\AppData\\Local\\Temp\\ipykernel_18656\\146205851.py:16: SettingWithCopyWarning: \n",
      "A value is trying to be set on a copy of a slice from a DataFrame.\n",
      "Try using .loc[row_indexer,col_indexer] = value instead\n",
      "\n",
      "See the caveats in the documentation: https://pandas.pydata.org/pandas-docs/stable/user_guide/indexing.html#returning-a-view-versus-a-copy\n",
      "  current_data['Date'] = current_data.index\n"
     ]
    },
    {
     "name": "stdout",
     "output_type": "stream",
     "text": [
      "Completed 317 out of 488 steps\n",
      "the main data is of shape (270, 2)\n",
      "shape of current_data2 is (270, 59)\n",
      "shape of df4 is (210, 3541)\n"
     ]
    },
    {
     "name": "stderr",
     "output_type": "stream",
     "text": [
      "C:\\Users\\abhij\\AppData\\Local\\Temp\\ipykernel_18656\\146205851.py:16: SettingWithCopyWarning: \n",
      "A value is trying to be set on a copy of a slice from a DataFrame.\n",
      "Try using .loc[row_indexer,col_indexer] = value instead\n",
      "\n",
      "See the caveats in the documentation: https://pandas.pydata.org/pandas-docs/stable/user_guide/indexing.html#returning-a-view-versus-a-copy\n",
      "  current_data['Date'] = current_data.index\n"
     ]
    },
    {
     "name": "stdout",
     "output_type": "stream",
     "text": [
      "Completed 318 out of 488 steps\n",
      "the main data is of shape (270, 2)\n",
      "shape of current_data2 is (270, 59)\n",
      "shape of df4 is (210, 3541)\n"
     ]
    },
    {
     "name": "stderr",
     "output_type": "stream",
     "text": [
      "C:\\Users\\abhij\\AppData\\Local\\Temp\\ipykernel_18656\\146205851.py:16: SettingWithCopyWarning: \n",
      "A value is trying to be set on a copy of a slice from a DataFrame.\n",
      "Try using .loc[row_indexer,col_indexer] = value instead\n",
      "\n",
      "See the caveats in the documentation: https://pandas.pydata.org/pandas-docs/stable/user_guide/indexing.html#returning-a-view-versus-a-copy\n",
      "  current_data['Date'] = current_data.index\n"
     ]
    },
    {
     "name": "stdout",
     "output_type": "stream",
     "text": [
      "Completed 319 out of 488 steps\n",
      "the main data is of shape (270, 2)\n",
      "shape of current_data2 is (270, 59)\n",
      "shape of df4 is (210, 3541)\n"
     ]
    },
    {
     "name": "stderr",
     "output_type": "stream",
     "text": [
      "C:\\Users\\abhij\\AppData\\Local\\Temp\\ipykernel_18656\\146205851.py:16: SettingWithCopyWarning: \n",
      "A value is trying to be set on a copy of a slice from a DataFrame.\n",
      "Try using .loc[row_indexer,col_indexer] = value instead\n",
      "\n",
      "See the caveats in the documentation: https://pandas.pydata.org/pandas-docs/stable/user_guide/indexing.html#returning-a-view-versus-a-copy\n",
      "  current_data['Date'] = current_data.index\n"
     ]
    },
    {
     "name": "stdout",
     "output_type": "stream",
     "text": [
      "Completed 320 out of 488 steps\n",
      "the main data is of shape (270, 2)\n",
      "shape of current_data2 is (270, 59)\n",
      "shape of df4 is (210, 3541)\n"
     ]
    },
    {
     "name": "stderr",
     "output_type": "stream",
     "text": [
      "C:\\Users\\abhij\\AppData\\Local\\Temp\\ipykernel_18656\\146205851.py:16: SettingWithCopyWarning: \n",
      "A value is trying to be set on a copy of a slice from a DataFrame.\n",
      "Try using .loc[row_indexer,col_indexer] = value instead\n",
      "\n",
      "See the caveats in the documentation: https://pandas.pydata.org/pandas-docs/stable/user_guide/indexing.html#returning-a-view-versus-a-copy\n",
      "  current_data['Date'] = current_data.index\n"
     ]
    },
    {
     "name": "stdout",
     "output_type": "stream",
     "text": [
      "Completed 321 out of 488 steps\n",
      "the main data is of shape (270, 2)\n",
      "shape of current_data2 is (270, 59)\n",
      "shape of df4 is (210, 3541)\n"
     ]
    },
    {
     "name": "stderr",
     "output_type": "stream",
     "text": [
      "C:\\Users\\abhij\\AppData\\Local\\Temp\\ipykernel_18656\\146205851.py:16: SettingWithCopyWarning: \n",
      "A value is trying to be set on a copy of a slice from a DataFrame.\n",
      "Try using .loc[row_indexer,col_indexer] = value instead\n",
      "\n",
      "See the caveats in the documentation: https://pandas.pydata.org/pandas-docs/stable/user_guide/indexing.html#returning-a-view-versus-a-copy\n",
      "  current_data['Date'] = current_data.index\n"
     ]
    },
    {
     "name": "stdout",
     "output_type": "stream",
     "text": [
      "Completed 322 out of 488 steps\n",
      "the main data is of shape (270, 2)\n",
      "shape of current_data2 is (270, 59)\n",
      "shape of df4 is (210, 3541)\n"
     ]
    },
    {
     "name": "stderr",
     "output_type": "stream",
     "text": [
      "C:\\Users\\abhij\\AppData\\Local\\Temp\\ipykernel_18656\\146205851.py:16: SettingWithCopyWarning: \n",
      "A value is trying to be set on a copy of a slice from a DataFrame.\n",
      "Try using .loc[row_indexer,col_indexer] = value instead\n",
      "\n",
      "See the caveats in the documentation: https://pandas.pydata.org/pandas-docs/stable/user_guide/indexing.html#returning-a-view-versus-a-copy\n",
      "  current_data['Date'] = current_data.index\n"
     ]
    },
    {
     "name": "stdout",
     "output_type": "stream",
     "text": [
      "Completed 323 out of 488 steps\n",
      "the main data is of shape (270, 2)\n",
      "shape of current_data2 is (270, 59)\n",
      "shape of df4 is (210, 3541)\n"
     ]
    },
    {
     "name": "stderr",
     "output_type": "stream",
     "text": [
      "C:\\Users\\abhij\\AppData\\Local\\Temp\\ipykernel_18656\\146205851.py:16: SettingWithCopyWarning: \n",
      "A value is trying to be set on a copy of a slice from a DataFrame.\n",
      "Try using .loc[row_indexer,col_indexer] = value instead\n",
      "\n",
      "See the caveats in the documentation: https://pandas.pydata.org/pandas-docs/stable/user_guide/indexing.html#returning-a-view-versus-a-copy\n",
      "  current_data['Date'] = current_data.index\n"
     ]
    },
    {
     "name": "stdout",
     "output_type": "stream",
     "text": [
      "Completed 324 out of 488 steps\n",
      "the main data is of shape (270, 2)\n",
      "shape of current_data2 is (270, 59)\n",
      "shape of df4 is (210, 3541)\n"
     ]
    },
    {
     "name": "stderr",
     "output_type": "stream",
     "text": [
      "C:\\Users\\abhij\\AppData\\Local\\Temp\\ipykernel_18656\\146205851.py:16: SettingWithCopyWarning: \n",
      "A value is trying to be set on a copy of a slice from a DataFrame.\n",
      "Try using .loc[row_indexer,col_indexer] = value instead\n",
      "\n",
      "See the caveats in the documentation: https://pandas.pydata.org/pandas-docs/stable/user_guide/indexing.html#returning-a-view-versus-a-copy\n",
      "  current_data['Date'] = current_data.index\n"
     ]
    },
    {
     "name": "stdout",
     "output_type": "stream",
     "text": [
      "Completed 325 out of 488 steps\n",
      "the main data is of shape (270, 2)\n",
      "shape of current_data2 is (270, 59)\n",
      "shape of df4 is (210, 3541)\n"
     ]
    },
    {
     "name": "stderr",
     "output_type": "stream",
     "text": [
      "C:\\Users\\abhij\\AppData\\Local\\Temp\\ipykernel_18656\\146205851.py:16: SettingWithCopyWarning: \n",
      "A value is trying to be set on a copy of a slice from a DataFrame.\n",
      "Try using .loc[row_indexer,col_indexer] = value instead\n",
      "\n",
      "See the caveats in the documentation: https://pandas.pydata.org/pandas-docs/stable/user_guide/indexing.html#returning-a-view-versus-a-copy\n",
      "  current_data['Date'] = current_data.index\n"
     ]
    },
    {
     "name": "stdout",
     "output_type": "stream",
     "text": [
      "Completed 326 out of 488 steps\n",
      "the main data is of shape (270, 2)\n",
      "shape of current_data2 is (270, 59)\n",
      "shape of df4 is (210, 3541)\n"
     ]
    },
    {
     "name": "stderr",
     "output_type": "stream",
     "text": [
      "C:\\Users\\abhij\\AppData\\Local\\Temp\\ipykernel_18656\\146205851.py:16: SettingWithCopyWarning: \n",
      "A value is trying to be set on a copy of a slice from a DataFrame.\n",
      "Try using .loc[row_indexer,col_indexer] = value instead\n",
      "\n",
      "See the caveats in the documentation: https://pandas.pydata.org/pandas-docs/stable/user_guide/indexing.html#returning-a-view-versus-a-copy\n",
      "  current_data['Date'] = current_data.index\n"
     ]
    },
    {
     "name": "stdout",
     "output_type": "stream",
     "text": [
      "Completed 327 out of 488 steps\n",
      "the main data is of shape (270, 2)\n",
      "shape of current_data2 is (270, 59)\n",
      "shape of df4 is (210, 3541)\n"
     ]
    },
    {
     "name": "stderr",
     "output_type": "stream",
     "text": [
      "C:\\Users\\abhij\\AppData\\Local\\Temp\\ipykernel_18656\\146205851.py:16: SettingWithCopyWarning: \n",
      "A value is trying to be set on a copy of a slice from a DataFrame.\n",
      "Try using .loc[row_indexer,col_indexer] = value instead\n",
      "\n",
      "See the caveats in the documentation: https://pandas.pydata.org/pandas-docs/stable/user_guide/indexing.html#returning-a-view-versus-a-copy\n",
      "  current_data['Date'] = current_data.index\n"
     ]
    },
    {
     "name": "stdout",
     "output_type": "stream",
     "text": [
      "Completed 328 out of 488 steps\n",
      "the main data is of shape (270, 2)\n",
      "shape of current_data2 is (270, 59)\n",
      "shape of df4 is (210, 3541)\n"
     ]
    },
    {
     "name": "stderr",
     "output_type": "stream",
     "text": [
      "C:\\Users\\abhij\\AppData\\Local\\Temp\\ipykernel_18656\\146205851.py:16: SettingWithCopyWarning: \n",
      "A value is trying to be set on a copy of a slice from a DataFrame.\n",
      "Try using .loc[row_indexer,col_indexer] = value instead\n",
      "\n",
      "See the caveats in the documentation: https://pandas.pydata.org/pandas-docs/stable/user_guide/indexing.html#returning-a-view-versus-a-copy\n",
      "  current_data['Date'] = current_data.index\n"
     ]
    },
    {
     "name": "stdout",
     "output_type": "stream",
     "text": [
      "Completed 329 out of 488 steps\n",
      "the main data is of shape (270, 2)\n",
      "shape of current_data2 is (270, 59)\n",
      "shape of df4 is (210, 3541)\n"
     ]
    },
    {
     "name": "stderr",
     "output_type": "stream",
     "text": [
      "C:\\Users\\abhij\\AppData\\Local\\Temp\\ipykernel_18656\\146205851.py:16: SettingWithCopyWarning: \n",
      "A value is trying to be set on a copy of a slice from a DataFrame.\n",
      "Try using .loc[row_indexer,col_indexer] = value instead\n",
      "\n",
      "See the caveats in the documentation: https://pandas.pydata.org/pandas-docs/stable/user_guide/indexing.html#returning-a-view-versus-a-copy\n",
      "  current_data['Date'] = current_data.index\n"
     ]
    },
    {
     "name": "stdout",
     "output_type": "stream",
     "text": [
      "Completed 330 out of 488 steps\n",
      "the main data is of shape (270, 2)\n",
      "shape of current_data2 is (270, 59)\n",
      "shape of df4 is (210, 3541)\n"
     ]
    },
    {
     "name": "stderr",
     "output_type": "stream",
     "text": [
      "C:\\Users\\abhij\\AppData\\Local\\Temp\\ipykernel_18656\\146205851.py:16: SettingWithCopyWarning: \n",
      "A value is trying to be set on a copy of a slice from a DataFrame.\n",
      "Try using .loc[row_indexer,col_indexer] = value instead\n",
      "\n",
      "See the caveats in the documentation: https://pandas.pydata.org/pandas-docs/stable/user_guide/indexing.html#returning-a-view-versus-a-copy\n",
      "  current_data['Date'] = current_data.index\n"
     ]
    },
    {
     "name": "stdout",
     "output_type": "stream",
     "text": [
      "Completed 331 out of 488 steps\n",
      "the main data is of shape (270, 2)\n",
      "shape of current_data2 is (270, 59)\n",
      "shape of df4 is (210, 3541)\n"
     ]
    },
    {
     "name": "stderr",
     "output_type": "stream",
     "text": [
      "C:\\Users\\abhij\\AppData\\Local\\Temp\\ipykernel_18656\\146205851.py:16: SettingWithCopyWarning: \n",
      "A value is trying to be set on a copy of a slice from a DataFrame.\n",
      "Try using .loc[row_indexer,col_indexer] = value instead\n",
      "\n",
      "See the caveats in the documentation: https://pandas.pydata.org/pandas-docs/stable/user_guide/indexing.html#returning-a-view-versus-a-copy\n",
      "  current_data['Date'] = current_data.index\n"
     ]
    },
    {
     "name": "stdout",
     "output_type": "stream",
     "text": [
      "Completed 332 out of 488 steps\n",
      "the main data is of shape (270, 2)\n",
      "shape of current_data2 is (270, 59)\n",
      "shape of df4 is (210, 3541)\n"
     ]
    },
    {
     "name": "stderr",
     "output_type": "stream",
     "text": [
      "C:\\Users\\abhij\\AppData\\Local\\Temp\\ipykernel_18656\\146205851.py:16: SettingWithCopyWarning: \n",
      "A value is trying to be set on a copy of a slice from a DataFrame.\n",
      "Try using .loc[row_indexer,col_indexer] = value instead\n",
      "\n",
      "See the caveats in the documentation: https://pandas.pydata.org/pandas-docs/stable/user_guide/indexing.html#returning-a-view-versus-a-copy\n",
      "  current_data['Date'] = current_data.index\n"
     ]
    },
    {
     "name": "stdout",
     "output_type": "stream",
     "text": [
      "Completed 333 out of 488 steps\n",
      "the main data is of shape (270, 2)\n",
      "shape of current_data2 is (270, 59)\n",
      "shape of df4 is (210, 3541)\n"
     ]
    },
    {
     "name": "stderr",
     "output_type": "stream",
     "text": [
      "C:\\Users\\abhij\\AppData\\Local\\Temp\\ipykernel_18656\\146205851.py:16: SettingWithCopyWarning: \n",
      "A value is trying to be set on a copy of a slice from a DataFrame.\n",
      "Try using .loc[row_indexer,col_indexer] = value instead\n",
      "\n",
      "See the caveats in the documentation: https://pandas.pydata.org/pandas-docs/stable/user_guide/indexing.html#returning-a-view-versus-a-copy\n",
      "  current_data['Date'] = current_data.index\n"
     ]
    },
    {
     "name": "stdout",
     "output_type": "stream",
     "text": [
      "Completed 334 out of 488 steps\n",
      "the main data is of shape (270, 2)\n",
      "shape of current_data2 is (270, 59)\n",
      "shape of df4 is (210, 3541)\n"
     ]
    },
    {
     "name": "stderr",
     "output_type": "stream",
     "text": [
      "C:\\Users\\abhij\\AppData\\Local\\Temp\\ipykernel_18656\\146205851.py:16: SettingWithCopyWarning: \n",
      "A value is trying to be set on a copy of a slice from a DataFrame.\n",
      "Try using .loc[row_indexer,col_indexer] = value instead\n",
      "\n",
      "See the caveats in the documentation: https://pandas.pydata.org/pandas-docs/stable/user_guide/indexing.html#returning-a-view-versus-a-copy\n",
      "  current_data['Date'] = current_data.index\n"
     ]
    },
    {
     "name": "stdout",
     "output_type": "stream",
     "text": [
      "Completed 335 out of 488 steps\n",
      "the main data is of shape (270, 2)\n",
      "shape of current_data2 is (270, 59)\n",
      "shape of df4 is (210, 3541)\n"
     ]
    },
    {
     "name": "stderr",
     "output_type": "stream",
     "text": [
      "C:\\Users\\abhij\\AppData\\Local\\Temp\\ipykernel_18656\\146205851.py:16: SettingWithCopyWarning: \n",
      "A value is trying to be set on a copy of a slice from a DataFrame.\n",
      "Try using .loc[row_indexer,col_indexer] = value instead\n",
      "\n",
      "See the caveats in the documentation: https://pandas.pydata.org/pandas-docs/stable/user_guide/indexing.html#returning-a-view-versus-a-copy\n",
      "  current_data['Date'] = current_data.index\n"
     ]
    },
    {
     "name": "stdout",
     "output_type": "stream",
     "text": [
      "Completed 336 out of 488 steps\n",
      "the main data is of shape (270, 2)\n",
      "shape of current_data2 is (270, 59)\n",
      "shape of df4 is (210, 3541)\n"
     ]
    },
    {
     "name": "stderr",
     "output_type": "stream",
     "text": [
      "C:\\Users\\abhij\\AppData\\Local\\Temp\\ipykernel_18656\\146205851.py:16: SettingWithCopyWarning: \n",
      "A value is trying to be set on a copy of a slice from a DataFrame.\n",
      "Try using .loc[row_indexer,col_indexer] = value instead\n",
      "\n",
      "See the caveats in the documentation: https://pandas.pydata.org/pandas-docs/stable/user_guide/indexing.html#returning-a-view-versus-a-copy\n",
      "  current_data['Date'] = current_data.index\n"
     ]
    },
    {
     "name": "stdout",
     "output_type": "stream",
     "text": [
      "Completed 337 out of 488 steps\n",
      "the main data is of shape (270, 2)\n",
      "shape of current_data2 is (270, 59)\n",
      "shape of df4 is (210, 3541)\n"
     ]
    },
    {
     "name": "stderr",
     "output_type": "stream",
     "text": [
      "C:\\Users\\abhij\\AppData\\Local\\Temp\\ipykernel_18656\\146205851.py:16: SettingWithCopyWarning: \n",
      "A value is trying to be set on a copy of a slice from a DataFrame.\n",
      "Try using .loc[row_indexer,col_indexer] = value instead\n",
      "\n",
      "See the caveats in the documentation: https://pandas.pydata.org/pandas-docs/stable/user_guide/indexing.html#returning-a-view-versus-a-copy\n",
      "  current_data['Date'] = current_data.index\n"
     ]
    },
    {
     "name": "stdout",
     "output_type": "stream",
     "text": [
      "Completed 338 out of 488 steps\n",
      "the main data is of shape (270, 2)\n",
      "shape of current_data2 is (270, 59)\n",
      "shape of df4 is (210, 3541)\n"
     ]
    },
    {
     "name": "stderr",
     "output_type": "stream",
     "text": [
      "C:\\Users\\abhij\\AppData\\Local\\Temp\\ipykernel_18656\\146205851.py:16: SettingWithCopyWarning: \n",
      "A value is trying to be set on a copy of a slice from a DataFrame.\n",
      "Try using .loc[row_indexer,col_indexer] = value instead\n",
      "\n",
      "See the caveats in the documentation: https://pandas.pydata.org/pandas-docs/stable/user_guide/indexing.html#returning-a-view-versus-a-copy\n",
      "  current_data['Date'] = current_data.index\n"
     ]
    },
    {
     "name": "stdout",
     "output_type": "stream",
     "text": [
      "Completed 339 out of 488 steps\n",
      "the main data is of shape (270, 2)\n",
      "shape of current_data2 is (270, 59)\n",
      "shape of df4 is (210, 3541)\n"
     ]
    },
    {
     "name": "stderr",
     "output_type": "stream",
     "text": [
      "C:\\Users\\abhij\\AppData\\Local\\Temp\\ipykernel_18656\\146205851.py:16: SettingWithCopyWarning: \n",
      "A value is trying to be set on a copy of a slice from a DataFrame.\n",
      "Try using .loc[row_indexer,col_indexer] = value instead\n",
      "\n",
      "See the caveats in the documentation: https://pandas.pydata.org/pandas-docs/stable/user_guide/indexing.html#returning-a-view-versus-a-copy\n",
      "  current_data['Date'] = current_data.index\n"
     ]
    },
    {
     "name": "stdout",
     "output_type": "stream",
     "text": [
      "Completed 340 out of 488 steps\n",
      "the main data is of shape (270, 2)\n",
      "shape of current_data2 is (270, 59)\n",
      "shape of df4 is (210, 3541)\n"
     ]
    },
    {
     "name": "stderr",
     "output_type": "stream",
     "text": [
      "C:\\Users\\abhij\\AppData\\Local\\Temp\\ipykernel_18656\\146205851.py:16: SettingWithCopyWarning: \n",
      "A value is trying to be set on a copy of a slice from a DataFrame.\n",
      "Try using .loc[row_indexer,col_indexer] = value instead\n",
      "\n",
      "See the caveats in the documentation: https://pandas.pydata.org/pandas-docs/stable/user_guide/indexing.html#returning-a-view-versus-a-copy\n",
      "  current_data['Date'] = current_data.index\n"
     ]
    },
    {
     "name": "stdout",
     "output_type": "stream",
     "text": [
      "Completed 341 out of 488 steps\n",
      "the main data is of shape (270, 2)\n",
      "shape of current_data2 is (270, 59)\n",
      "shape of df4 is (210, 3541)\n"
     ]
    },
    {
     "name": "stderr",
     "output_type": "stream",
     "text": [
      "C:\\Users\\abhij\\AppData\\Local\\Temp\\ipykernel_18656\\146205851.py:16: SettingWithCopyWarning: \n",
      "A value is trying to be set on a copy of a slice from a DataFrame.\n",
      "Try using .loc[row_indexer,col_indexer] = value instead\n",
      "\n",
      "See the caveats in the documentation: https://pandas.pydata.org/pandas-docs/stable/user_guide/indexing.html#returning-a-view-versus-a-copy\n",
      "  current_data['Date'] = current_data.index\n"
     ]
    },
    {
     "name": "stdout",
     "output_type": "stream",
     "text": [
      "Completed 342 out of 488 steps\n",
      "the main data is of shape (270, 2)\n",
      "shape of current_data2 is (270, 59)\n",
      "shape of df4 is (210, 3541)\n"
     ]
    },
    {
     "name": "stderr",
     "output_type": "stream",
     "text": [
      "C:\\Users\\abhij\\AppData\\Local\\Temp\\ipykernel_18656\\146205851.py:16: SettingWithCopyWarning: \n",
      "A value is trying to be set on a copy of a slice from a DataFrame.\n",
      "Try using .loc[row_indexer,col_indexer] = value instead\n",
      "\n",
      "See the caveats in the documentation: https://pandas.pydata.org/pandas-docs/stable/user_guide/indexing.html#returning-a-view-versus-a-copy\n",
      "  current_data['Date'] = current_data.index\n"
     ]
    },
    {
     "name": "stdout",
     "output_type": "stream",
     "text": [
      "Completed 343 out of 488 steps\n",
      "the main data is of shape (270, 2)\n",
      "shape of current_data2 is (270, 59)\n",
      "shape of df4 is (210, 3541)\n"
     ]
    },
    {
     "name": "stderr",
     "output_type": "stream",
     "text": [
      "C:\\Users\\abhij\\AppData\\Local\\Temp\\ipykernel_18656\\146205851.py:16: SettingWithCopyWarning: \n",
      "A value is trying to be set on a copy of a slice from a DataFrame.\n",
      "Try using .loc[row_indexer,col_indexer] = value instead\n",
      "\n",
      "See the caveats in the documentation: https://pandas.pydata.org/pandas-docs/stable/user_guide/indexing.html#returning-a-view-versus-a-copy\n",
      "  current_data['Date'] = current_data.index\n"
     ]
    },
    {
     "name": "stdout",
     "output_type": "stream",
     "text": [
      "Completed 344 out of 488 steps\n",
      "the main data is of shape (270, 2)\n",
      "shape of current_data2 is (270, 59)\n",
      "shape of df4 is (210, 3541)\n"
     ]
    },
    {
     "name": "stderr",
     "output_type": "stream",
     "text": [
      "C:\\Users\\abhij\\AppData\\Local\\Temp\\ipykernel_18656\\146205851.py:16: SettingWithCopyWarning: \n",
      "A value is trying to be set on a copy of a slice from a DataFrame.\n",
      "Try using .loc[row_indexer,col_indexer] = value instead\n",
      "\n",
      "See the caveats in the documentation: https://pandas.pydata.org/pandas-docs/stable/user_guide/indexing.html#returning-a-view-versus-a-copy\n",
      "  current_data['Date'] = current_data.index\n"
     ]
    },
    {
     "name": "stdout",
     "output_type": "stream",
     "text": [
      "Completed 345 out of 488 steps\n",
      "the main data is of shape (270, 2)\n",
      "shape of current_data2 is (270, 59)\n",
      "shape of df4 is (210, 3541)\n"
     ]
    },
    {
     "name": "stderr",
     "output_type": "stream",
     "text": [
      "C:\\Users\\abhij\\AppData\\Local\\Temp\\ipykernel_18656\\146205851.py:16: SettingWithCopyWarning: \n",
      "A value is trying to be set on a copy of a slice from a DataFrame.\n",
      "Try using .loc[row_indexer,col_indexer] = value instead\n",
      "\n",
      "See the caveats in the documentation: https://pandas.pydata.org/pandas-docs/stable/user_guide/indexing.html#returning-a-view-versus-a-copy\n",
      "  current_data['Date'] = current_data.index\n"
     ]
    },
    {
     "name": "stdout",
     "output_type": "stream",
     "text": [
      "Completed 346 out of 488 steps\n",
      "the main data is of shape (270, 2)\n",
      "shape of current_data2 is (270, 59)\n",
      "shape of df4 is (210, 3541)\n"
     ]
    },
    {
     "name": "stderr",
     "output_type": "stream",
     "text": [
      "C:\\Users\\abhij\\AppData\\Local\\Temp\\ipykernel_18656\\146205851.py:16: SettingWithCopyWarning: \n",
      "A value is trying to be set on a copy of a slice from a DataFrame.\n",
      "Try using .loc[row_indexer,col_indexer] = value instead\n",
      "\n",
      "See the caveats in the documentation: https://pandas.pydata.org/pandas-docs/stable/user_guide/indexing.html#returning-a-view-versus-a-copy\n",
      "  current_data['Date'] = current_data.index\n"
     ]
    },
    {
     "name": "stdout",
     "output_type": "stream",
     "text": [
      "Completed 347 out of 488 steps\n",
      "the main data is of shape (270, 2)\n",
      "shape of current_data2 is (270, 59)\n",
      "shape of df4 is (210, 3541)\n"
     ]
    },
    {
     "name": "stderr",
     "output_type": "stream",
     "text": [
      "C:\\Users\\abhij\\AppData\\Local\\Temp\\ipykernel_18656\\146205851.py:16: SettingWithCopyWarning: \n",
      "A value is trying to be set on a copy of a slice from a DataFrame.\n",
      "Try using .loc[row_indexer,col_indexer] = value instead\n",
      "\n",
      "See the caveats in the documentation: https://pandas.pydata.org/pandas-docs/stable/user_guide/indexing.html#returning-a-view-versus-a-copy\n",
      "  current_data['Date'] = current_data.index\n"
     ]
    },
    {
     "name": "stdout",
     "output_type": "stream",
     "text": [
      "Completed 348 out of 488 steps\n",
      "the main data is of shape (270, 2)\n",
      "shape of current_data2 is (270, 59)\n",
      "shape of df4 is (210, 3541)\n"
     ]
    },
    {
     "name": "stderr",
     "output_type": "stream",
     "text": [
      "C:\\Users\\abhij\\AppData\\Local\\Temp\\ipykernel_18656\\146205851.py:16: SettingWithCopyWarning: \n",
      "A value is trying to be set on a copy of a slice from a DataFrame.\n",
      "Try using .loc[row_indexer,col_indexer] = value instead\n",
      "\n",
      "See the caveats in the documentation: https://pandas.pydata.org/pandas-docs/stable/user_guide/indexing.html#returning-a-view-versus-a-copy\n",
      "  current_data['Date'] = current_data.index\n"
     ]
    },
    {
     "name": "stdout",
     "output_type": "stream",
     "text": [
      "Completed 349 out of 488 steps\n",
      "the main data is of shape (270, 2)\n",
      "shape of current_data2 is (270, 59)\n",
      "shape of df4 is (210, 3541)\n"
     ]
    },
    {
     "name": "stderr",
     "output_type": "stream",
     "text": [
      "C:\\Users\\abhij\\AppData\\Local\\Temp\\ipykernel_18656\\146205851.py:16: SettingWithCopyWarning: \n",
      "A value is trying to be set on a copy of a slice from a DataFrame.\n",
      "Try using .loc[row_indexer,col_indexer] = value instead\n",
      "\n",
      "See the caveats in the documentation: https://pandas.pydata.org/pandas-docs/stable/user_guide/indexing.html#returning-a-view-versus-a-copy\n",
      "  current_data['Date'] = current_data.index\n"
     ]
    },
    {
     "name": "stdout",
     "output_type": "stream",
     "text": [
      "Completed 350 out of 488 steps\n",
      "the main data is of shape (270, 2)\n",
      "shape of current_data2 is (270, 59)\n",
      "shape of df4 is (210, 3541)\n"
     ]
    },
    {
     "name": "stderr",
     "output_type": "stream",
     "text": [
      "C:\\Users\\abhij\\AppData\\Local\\Temp\\ipykernel_18656\\146205851.py:16: SettingWithCopyWarning: \n",
      "A value is trying to be set on a copy of a slice from a DataFrame.\n",
      "Try using .loc[row_indexer,col_indexer] = value instead\n",
      "\n",
      "See the caveats in the documentation: https://pandas.pydata.org/pandas-docs/stable/user_guide/indexing.html#returning-a-view-versus-a-copy\n",
      "  current_data['Date'] = current_data.index\n"
     ]
    },
    {
     "name": "stdout",
     "output_type": "stream",
     "text": [
      "Completed 351 out of 488 steps\n",
      "the main data is of shape (270, 2)\n",
      "shape of current_data2 is (270, 59)\n",
      "shape of df4 is (210, 3541)\n"
     ]
    },
    {
     "name": "stderr",
     "output_type": "stream",
     "text": [
      "C:\\Users\\abhij\\AppData\\Local\\Temp\\ipykernel_18656\\146205851.py:16: SettingWithCopyWarning: \n",
      "A value is trying to be set on a copy of a slice from a DataFrame.\n",
      "Try using .loc[row_indexer,col_indexer] = value instead\n",
      "\n",
      "See the caveats in the documentation: https://pandas.pydata.org/pandas-docs/stable/user_guide/indexing.html#returning-a-view-versus-a-copy\n",
      "  current_data['Date'] = current_data.index\n"
     ]
    },
    {
     "name": "stdout",
     "output_type": "stream",
     "text": [
      "Completed 352 out of 488 steps\n",
      "the main data is of shape (270, 2)\n",
      "shape of current_data2 is (270, 59)\n",
      "shape of df4 is (210, 3541)\n"
     ]
    },
    {
     "name": "stderr",
     "output_type": "stream",
     "text": [
      "C:\\Users\\abhij\\AppData\\Local\\Temp\\ipykernel_18656\\146205851.py:16: SettingWithCopyWarning: \n",
      "A value is trying to be set on a copy of a slice from a DataFrame.\n",
      "Try using .loc[row_indexer,col_indexer] = value instead\n",
      "\n",
      "See the caveats in the documentation: https://pandas.pydata.org/pandas-docs/stable/user_guide/indexing.html#returning-a-view-versus-a-copy\n",
      "  current_data['Date'] = current_data.index\n"
     ]
    },
    {
     "name": "stdout",
     "output_type": "stream",
     "text": [
      "Completed 353 out of 488 steps\n",
      "the main data is of shape (270, 2)\n",
      "shape of current_data2 is (270, 59)\n",
      "shape of df4 is (210, 3541)\n"
     ]
    },
    {
     "name": "stderr",
     "output_type": "stream",
     "text": [
      "C:\\Users\\abhij\\AppData\\Local\\Temp\\ipykernel_18656\\146205851.py:16: SettingWithCopyWarning: \n",
      "A value is trying to be set on a copy of a slice from a DataFrame.\n",
      "Try using .loc[row_indexer,col_indexer] = value instead\n",
      "\n",
      "See the caveats in the documentation: https://pandas.pydata.org/pandas-docs/stable/user_guide/indexing.html#returning-a-view-versus-a-copy\n",
      "  current_data['Date'] = current_data.index\n"
     ]
    },
    {
     "name": "stdout",
     "output_type": "stream",
     "text": [
      "Completed 354 out of 488 steps\n",
      "the main data is of shape (270, 2)\n",
      "shape of current_data2 is (270, 59)\n",
      "shape of df4 is (210, 3541)\n"
     ]
    },
    {
     "name": "stderr",
     "output_type": "stream",
     "text": [
      "C:\\Users\\abhij\\AppData\\Local\\Temp\\ipykernel_18656\\146205851.py:16: SettingWithCopyWarning: \n",
      "A value is trying to be set on a copy of a slice from a DataFrame.\n",
      "Try using .loc[row_indexer,col_indexer] = value instead\n",
      "\n",
      "See the caveats in the documentation: https://pandas.pydata.org/pandas-docs/stable/user_guide/indexing.html#returning-a-view-versus-a-copy\n",
      "  current_data['Date'] = current_data.index\n"
     ]
    },
    {
     "name": "stdout",
     "output_type": "stream",
     "text": [
      "Completed 355 out of 488 steps\n",
      "the main data is of shape (270, 2)\n",
      "shape of current_data2 is (270, 59)\n",
      "shape of df4 is (210, 3541)\n"
     ]
    },
    {
     "name": "stderr",
     "output_type": "stream",
     "text": [
      "C:\\Users\\abhij\\AppData\\Local\\Temp\\ipykernel_18656\\146205851.py:16: SettingWithCopyWarning: \n",
      "A value is trying to be set on a copy of a slice from a DataFrame.\n",
      "Try using .loc[row_indexer,col_indexer] = value instead\n",
      "\n",
      "See the caveats in the documentation: https://pandas.pydata.org/pandas-docs/stable/user_guide/indexing.html#returning-a-view-versus-a-copy\n",
      "  current_data['Date'] = current_data.index\n"
     ]
    },
    {
     "name": "stdout",
     "output_type": "stream",
     "text": [
      "Completed 356 out of 488 steps\n",
      "the main data is of shape (270, 2)\n",
      "shape of current_data2 is (270, 59)\n",
      "shape of df4 is (210, 3541)\n"
     ]
    },
    {
     "name": "stderr",
     "output_type": "stream",
     "text": [
      "C:\\Users\\abhij\\AppData\\Local\\Temp\\ipykernel_18656\\146205851.py:16: SettingWithCopyWarning: \n",
      "A value is trying to be set on a copy of a slice from a DataFrame.\n",
      "Try using .loc[row_indexer,col_indexer] = value instead\n",
      "\n",
      "See the caveats in the documentation: https://pandas.pydata.org/pandas-docs/stable/user_guide/indexing.html#returning-a-view-versus-a-copy\n",
      "  current_data['Date'] = current_data.index\n"
     ]
    },
    {
     "name": "stdout",
     "output_type": "stream",
     "text": [
      "Completed 357 out of 488 steps\n",
      "the main data is of shape (270, 2)\n",
      "shape of current_data2 is (270, 59)\n",
      "shape of df4 is (210, 3541)\n"
     ]
    },
    {
     "name": "stderr",
     "output_type": "stream",
     "text": [
      "C:\\Users\\abhij\\AppData\\Local\\Temp\\ipykernel_18656\\146205851.py:16: SettingWithCopyWarning: \n",
      "A value is trying to be set on a copy of a slice from a DataFrame.\n",
      "Try using .loc[row_indexer,col_indexer] = value instead\n",
      "\n",
      "See the caveats in the documentation: https://pandas.pydata.org/pandas-docs/stable/user_guide/indexing.html#returning-a-view-versus-a-copy\n",
      "  current_data['Date'] = current_data.index\n"
     ]
    },
    {
     "name": "stdout",
     "output_type": "stream",
     "text": [
      "Completed 358 out of 488 steps\n",
      "the main data is of shape (270, 2)\n",
      "shape of current_data2 is (270, 59)\n",
      "shape of df4 is (210, 3541)\n"
     ]
    },
    {
     "name": "stderr",
     "output_type": "stream",
     "text": [
      "C:\\Users\\abhij\\AppData\\Local\\Temp\\ipykernel_18656\\146205851.py:16: SettingWithCopyWarning: \n",
      "A value is trying to be set on a copy of a slice from a DataFrame.\n",
      "Try using .loc[row_indexer,col_indexer] = value instead\n",
      "\n",
      "See the caveats in the documentation: https://pandas.pydata.org/pandas-docs/stable/user_guide/indexing.html#returning-a-view-versus-a-copy\n",
      "  current_data['Date'] = current_data.index\n"
     ]
    },
    {
     "name": "stdout",
     "output_type": "stream",
     "text": [
      "Completed 359 out of 488 steps\n",
      "the main data is of shape (270, 2)\n",
      "shape of current_data2 is (270, 59)\n",
      "shape of df4 is (210, 3541)\n"
     ]
    },
    {
     "name": "stderr",
     "output_type": "stream",
     "text": [
      "C:\\Users\\abhij\\AppData\\Local\\Temp\\ipykernel_18656\\146205851.py:16: SettingWithCopyWarning: \n",
      "A value is trying to be set on a copy of a slice from a DataFrame.\n",
      "Try using .loc[row_indexer,col_indexer] = value instead\n",
      "\n",
      "See the caveats in the documentation: https://pandas.pydata.org/pandas-docs/stable/user_guide/indexing.html#returning-a-view-versus-a-copy\n",
      "  current_data['Date'] = current_data.index\n"
     ]
    },
    {
     "name": "stdout",
     "output_type": "stream",
     "text": [
      "Completed 360 out of 488 steps\n",
      "the main data is of shape (270, 2)\n",
      "shape of current_data2 is (270, 59)\n",
      "shape of df4 is (210, 3541)\n"
     ]
    },
    {
     "name": "stderr",
     "output_type": "stream",
     "text": [
      "C:\\Users\\abhij\\AppData\\Local\\Temp\\ipykernel_18656\\146205851.py:16: SettingWithCopyWarning: \n",
      "A value is trying to be set on a copy of a slice from a DataFrame.\n",
      "Try using .loc[row_indexer,col_indexer] = value instead\n",
      "\n",
      "See the caveats in the documentation: https://pandas.pydata.org/pandas-docs/stable/user_guide/indexing.html#returning-a-view-versus-a-copy\n",
      "  current_data['Date'] = current_data.index\n"
     ]
    },
    {
     "name": "stdout",
     "output_type": "stream",
     "text": [
      "Completed 361 out of 488 steps\n",
      "the main data is of shape (270, 2)\n",
      "shape of current_data2 is (270, 59)\n",
      "shape of df4 is (210, 3541)\n"
     ]
    },
    {
     "name": "stderr",
     "output_type": "stream",
     "text": [
      "C:\\Users\\abhij\\AppData\\Local\\Temp\\ipykernel_18656\\146205851.py:16: SettingWithCopyWarning: \n",
      "A value is trying to be set on a copy of a slice from a DataFrame.\n",
      "Try using .loc[row_indexer,col_indexer] = value instead\n",
      "\n",
      "See the caveats in the documentation: https://pandas.pydata.org/pandas-docs/stable/user_guide/indexing.html#returning-a-view-versus-a-copy\n",
      "  current_data['Date'] = current_data.index\n"
     ]
    },
    {
     "name": "stdout",
     "output_type": "stream",
     "text": [
      "Completed 362 out of 488 steps\n",
      "the main data is of shape (270, 2)\n",
      "shape of current_data2 is (270, 59)\n",
      "shape of df4 is (210, 3541)\n"
     ]
    },
    {
     "name": "stderr",
     "output_type": "stream",
     "text": [
      "C:\\Users\\abhij\\AppData\\Local\\Temp\\ipykernel_18656\\146205851.py:16: SettingWithCopyWarning: \n",
      "A value is trying to be set on a copy of a slice from a DataFrame.\n",
      "Try using .loc[row_indexer,col_indexer] = value instead\n",
      "\n",
      "See the caveats in the documentation: https://pandas.pydata.org/pandas-docs/stable/user_guide/indexing.html#returning-a-view-versus-a-copy\n",
      "  current_data['Date'] = current_data.index\n"
     ]
    },
    {
     "name": "stdout",
     "output_type": "stream",
     "text": [
      "Completed 363 out of 488 steps\n",
      "the main data is of shape (270, 2)\n",
      "shape of current_data2 is (270, 59)\n",
      "shape of df4 is (210, 3541)\n"
     ]
    },
    {
     "name": "stderr",
     "output_type": "stream",
     "text": [
      "C:\\Users\\abhij\\AppData\\Local\\Temp\\ipykernel_18656\\146205851.py:16: SettingWithCopyWarning: \n",
      "A value is trying to be set on a copy of a slice from a DataFrame.\n",
      "Try using .loc[row_indexer,col_indexer] = value instead\n",
      "\n",
      "See the caveats in the documentation: https://pandas.pydata.org/pandas-docs/stable/user_guide/indexing.html#returning-a-view-versus-a-copy\n",
      "  current_data['Date'] = current_data.index\n"
     ]
    },
    {
     "name": "stdout",
     "output_type": "stream",
     "text": [
      "Completed 364 out of 488 steps\n",
      "the main data is of shape (270, 2)\n",
      "shape of current_data2 is (270, 59)\n",
      "shape of df4 is (210, 3541)\n"
     ]
    },
    {
     "name": "stderr",
     "output_type": "stream",
     "text": [
      "C:\\Users\\abhij\\AppData\\Local\\Temp\\ipykernel_18656\\146205851.py:16: SettingWithCopyWarning: \n",
      "A value is trying to be set on a copy of a slice from a DataFrame.\n",
      "Try using .loc[row_indexer,col_indexer] = value instead\n",
      "\n",
      "See the caveats in the documentation: https://pandas.pydata.org/pandas-docs/stable/user_guide/indexing.html#returning-a-view-versus-a-copy\n",
      "  current_data['Date'] = current_data.index\n"
     ]
    },
    {
     "name": "stdout",
     "output_type": "stream",
     "text": [
      "Completed 365 out of 488 steps\n",
      "the main data is of shape (270, 2)\n",
      "shape of current_data2 is (270, 59)\n",
      "shape of df4 is (210, 3541)\n"
     ]
    },
    {
     "name": "stderr",
     "output_type": "stream",
     "text": [
      "C:\\Users\\abhij\\AppData\\Local\\Temp\\ipykernel_18656\\146205851.py:16: SettingWithCopyWarning: \n",
      "A value is trying to be set on a copy of a slice from a DataFrame.\n",
      "Try using .loc[row_indexer,col_indexer] = value instead\n",
      "\n",
      "See the caveats in the documentation: https://pandas.pydata.org/pandas-docs/stable/user_guide/indexing.html#returning-a-view-versus-a-copy\n",
      "  current_data['Date'] = current_data.index\n"
     ]
    },
    {
     "name": "stdout",
     "output_type": "stream",
     "text": [
      "Completed 366 out of 488 steps\n",
      "the main data is of shape (270, 2)\n",
      "shape of current_data2 is (270, 59)\n",
      "shape of df4 is (210, 3541)\n"
     ]
    },
    {
     "name": "stderr",
     "output_type": "stream",
     "text": [
      "C:\\Users\\abhij\\AppData\\Local\\Temp\\ipykernel_18656\\146205851.py:16: SettingWithCopyWarning: \n",
      "A value is trying to be set on a copy of a slice from a DataFrame.\n",
      "Try using .loc[row_indexer,col_indexer] = value instead\n",
      "\n",
      "See the caveats in the documentation: https://pandas.pydata.org/pandas-docs/stable/user_guide/indexing.html#returning-a-view-versus-a-copy\n",
      "  current_data['Date'] = current_data.index\n"
     ]
    },
    {
     "name": "stdout",
     "output_type": "stream",
     "text": [
      "Completed 367 out of 488 steps\n",
      "the main data is of shape (270, 2)\n",
      "shape of current_data2 is (270, 59)\n",
      "shape of df4 is (210, 3541)\n"
     ]
    },
    {
     "name": "stderr",
     "output_type": "stream",
     "text": [
      "C:\\Users\\abhij\\AppData\\Local\\Temp\\ipykernel_18656\\146205851.py:16: SettingWithCopyWarning: \n",
      "A value is trying to be set on a copy of a slice from a DataFrame.\n",
      "Try using .loc[row_indexer,col_indexer] = value instead\n",
      "\n",
      "See the caveats in the documentation: https://pandas.pydata.org/pandas-docs/stable/user_guide/indexing.html#returning-a-view-versus-a-copy\n",
      "  current_data['Date'] = current_data.index\n"
     ]
    },
    {
     "name": "stdout",
     "output_type": "stream",
     "text": [
      "Completed 368 out of 488 steps\n",
      "the main data is of shape (270, 2)\n",
      "shape of current_data2 is (270, 59)\n",
      "shape of df4 is (210, 3541)\n"
     ]
    },
    {
     "name": "stderr",
     "output_type": "stream",
     "text": [
      "C:\\Users\\abhij\\AppData\\Local\\Temp\\ipykernel_18656\\146205851.py:16: SettingWithCopyWarning: \n",
      "A value is trying to be set on a copy of a slice from a DataFrame.\n",
      "Try using .loc[row_indexer,col_indexer] = value instead\n",
      "\n",
      "See the caveats in the documentation: https://pandas.pydata.org/pandas-docs/stable/user_guide/indexing.html#returning-a-view-versus-a-copy\n",
      "  current_data['Date'] = current_data.index\n"
     ]
    },
    {
     "name": "stdout",
     "output_type": "stream",
     "text": [
      "Completed 369 out of 488 steps\n",
      "the main data is of shape (270, 2)\n",
      "shape of current_data2 is (270, 59)\n",
      "shape of df4 is (210, 3541)\n"
     ]
    },
    {
     "name": "stderr",
     "output_type": "stream",
     "text": [
      "C:\\Users\\abhij\\AppData\\Local\\Temp\\ipykernel_18656\\146205851.py:16: SettingWithCopyWarning: \n",
      "A value is trying to be set on a copy of a slice from a DataFrame.\n",
      "Try using .loc[row_indexer,col_indexer] = value instead\n",
      "\n",
      "See the caveats in the documentation: https://pandas.pydata.org/pandas-docs/stable/user_guide/indexing.html#returning-a-view-versus-a-copy\n",
      "  current_data['Date'] = current_data.index\n"
     ]
    },
    {
     "name": "stdout",
     "output_type": "stream",
     "text": [
      "Completed 370 out of 488 steps\n",
      "the main data is of shape (270, 2)\n",
      "shape of current_data2 is (270, 59)\n",
      "shape of df4 is (210, 3541)\n"
     ]
    },
    {
     "name": "stderr",
     "output_type": "stream",
     "text": [
      "C:\\Users\\abhij\\AppData\\Local\\Temp\\ipykernel_18656\\146205851.py:16: SettingWithCopyWarning: \n",
      "A value is trying to be set on a copy of a slice from a DataFrame.\n",
      "Try using .loc[row_indexer,col_indexer] = value instead\n",
      "\n",
      "See the caveats in the documentation: https://pandas.pydata.org/pandas-docs/stable/user_guide/indexing.html#returning-a-view-versus-a-copy\n",
      "  current_data['Date'] = current_data.index\n"
     ]
    },
    {
     "name": "stdout",
     "output_type": "stream",
     "text": [
      "Completed 371 out of 488 steps\n",
      "the main data is of shape (270, 2)\n",
      "shape of current_data2 is (270, 59)\n",
      "shape of df4 is (210, 3541)\n"
     ]
    },
    {
     "name": "stderr",
     "output_type": "stream",
     "text": [
      "C:\\Users\\abhij\\AppData\\Local\\Temp\\ipykernel_18656\\146205851.py:16: SettingWithCopyWarning: \n",
      "A value is trying to be set on a copy of a slice from a DataFrame.\n",
      "Try using .loc[row_indexer,col_indexer] = value instead\n",
      "\n",
      "See the caveats in the documentation: https://pandas.pydata.org/pandas-docs/stable/user_guide/indexing.html#returning-a-view-versus-a-copy\n",
      "  current_data['Date'] = current_data.index\n"
     ]
    },
    {
     "name": "stdout",
     "output_type": "stream",
     "text": [
      "Completed 372 out of 488 steps\n",
      "the main data is of shape (270, 2)\n",
      "shape of current_data2 is (270, 59)\n",
      "shape of df4 is (210, 3541)\n"
     ]
    },
    {
     "name": "stderr",
     "output_type": "stream",
     "text": [
      "C:\\Users\\abhij\\AppData\\Local\\Temp\\ipykernel_18656\\146205851.py:16: SettingWithCopyWarning: \n",
      "A value is trying to be set on a copy of a slice from a DataFrame.\n",
      "Try using .loc[row_indexer,col_indexer] = value instead\n",
      "\n",
      "See the caveats in the documentation: https://pandas.pydata.org/pandas-docs/stable/user_guide/indexing.html#returning-a-view-versus-a-copy\n",
      "  current_data['Date'] = current_data.index\n"
     ]
    },
    {
     "name": "stdout",
     "output_type": "stream",
     "text": [
      "Completed 373 out of 488 steps\n",
      "the main data is of shape (270, 2)\n",
      "shape of current_data2 is (270, 59)\n",
      "shape of df4 is (210, 3541)\n"
     ]
    },
    {
     "name": "stderr",
     "output_type": "stream",
     "text": [
      "C:\\Users\\abhij\\AppData\\Local\\Temp\\ipykernel_18656\\146205851.py:16: SettingWithCopyWarning: \n",
      "A value is trying to be set on a copy of a slice from a DataFrame.\n",
      "Try using .loc[row_indexer,col_indexer] = value instead\n",
      "\n",
      "See the caveats in the documentation: https://pandas.pydata.org/pandas-docs/stable/user_guide/indexing.html#returning-a-view-versus-a-copy\n",
      "  current_data['Date'] = current_data.index\n"
     ]
    },
    {
     "name": "stdout",
     "output_type": "stream",
     "text": [
      "Completed 374 out of 488 steps\n",
      "the main data is of shape (270, 2)\n",
      "shape of current_data2 is (270, 59)\n",
      "shape of df4 is (210, 3541)\n"
     ]
    },
    {
     "name": "stderr",
     "output_type": "stream",
     "text": [
      "C:\\Users\\abhij\\AppData\\Local\\Temp\\ipykernel_18656\\146205851.py:16: SettingWithCopyWarning: \n",
      "A value is trying to be set on a copy of a slice from a DataFrame.\n",
      "Try using .loc[row_indexer,col_indexer] = value instead\n",
      "\n",
      "See the caveats in the documentation: https://pandas.pydata.org/pandas-docs/stable/user_guide/indexing.html#returning-a-view-versus-a-copy\n",
      "  current_data['Date'] = current_data.index\n"
     ]
    },
    {
     "name": "stdout",
     "output_type": "stream",
     "text": [
      "Completed 375 out of 488 steps\n",
      "the main data is of shape (270, 2)\n",
      "shape of current_data2 is (270, 59)\n",
      "shape of df4 is (210, 3541)\n"
     ]
    },
    {
     "name": "stderr",
     "output_type": "stream",
     "text": [
      "C:\\Users\\abhij\\AppData\\Local\\Temp\\ipykernel_18656\\146205851.py:16: SettingWithCopyWarning: \n",
      "A value is trying to be set on a copy of a slice from a DataFrame.\n",
      "Try using .loc[row_indexer,col_indexer] = value instead\n",
      "\n",
      "See the caveats in the documentation: https://pandas.pydata.org/pandas-docs/stable/user_guide/indexing.html#returning-a-view-versus-a-copy\n",
      "  current_data['Date'] = current_data.index\n"
     ]
    },
    {
     "name": "stdout",
     "output_type": "stream",
     "text": [
      "Completed 376 out of 488 steps\n",
      "the main data is of shape (270, 2)\n",
      "shape of current_data2 is (270, 59)\n",
      "shape of df4 is (210, 3541)\n"
     ]
    },
    {
     "name": "stderr",
     "output_type": "stream",
     "text": [
      "C:\\Users\\abhij\\AppData\\Local\\Temp\\ipykernel_18656\\146205851.py:16: SettingWithCopyWarning: \n",
      "A value is trying to be set on a copy of a slice from a DataFrame.\n",
      "Try using .loc[row_indexer,col_indexer] = value instead\n",
      "\n",
      "See the caveats in the documentation: https://pandas.pydata.org/pandas-docs/stable/user_guide/indexing.html#returning-a-view-versus-a-copy\n",
      "  current_data['Date'] = current_data.index\n"
     ]
    },
    {
     "name": "stdout",
     "output_type": "stream",
     "text": [
      "Completed 377 out of 488 steps\n",
      "the main data is of shape (270, 2)\n",
      "shape of current_data2 is (270, 59)\n",
      "shape of df4 is (210, 3541)\n"
     ]
    },
    {
     "name": "stderr",
     "output_type": "stream",
     "text": [
      "C:\\Users\\abhij\\AppData\\Local\\Temp\\ipykernel_18656\\146205851.py:16: SettingWithCopyWarning: \n",
      "A value is trying to be set on a copy of a slice from a DataFrame.\n",
      "Try using .loc[row_indexer,col_indexer] = value instead\n",
      "\n",
      "See the caveats in the documentation: https://pandas.pydata.org/pandas-docs/stable/user_guide/indexing.html#returning-a-view-versus-a-copy\n",
      "  current_data['Date'] = current_data.index\n"
     ]
    },
    {
     "name": "stdout",
     "output_type": "stream",
     "text": [
      "Completed 378 out of 488 steps\n",
      "the main data is of shape (270, 2)\n",
      "shape of current_data2 is (270, 59)\n",
      "shape of df4 is (210, 3541)\n"
     ]
    },
    {
     "name": "stderr",
     "output_type": "stream",
     "text": [
      "C:\\Users\\abhij\\AppData\\Local\\Temp\\ipykernel_18656\\146205851.py:16: SettingWithCopyWarning: \n",
      "A value is trying to be set on a copy of a slice from a DataFrame.\n",
      "Try using .loc[row_indexer,col_indexer] = value instead\n",
      "\n",
      "See the caveats in the documentation: https://pandas.pydata.org/pandas-docs/stable/user_guide/indexing.html#returning-a-view-versus-a-copy\n",
      "  current_data['Date'] = current_data.index\n"
     ]
    },
    {
     "name": "stdout",
     "output_type": "stream",
     "text": [
      "Completed 379 out of 488 steps\n",
      "the main data is of shape (270, 2)\n",
      "shape of current_data2 is (270, 59)\n",
      "shape of df4 is (210, 3541)\n"
     ]
    },
    {
     "name": "stderr",
     "output_type": "stream",
     "text": [
      "C:\\Users\\abhij\\AppData\\Local\\Temp\\ipykernel_18656\\146205851.py:16: SettingWithCopyWarning: \n",
      "A value is trying to be set on a copy of a slice from a DataFrame.\n",
      "Try using .loc[row_indexer,col_indexer] = value instead\n",
      "\n",
      "See the caveats in the documentation: https://pandas.pydata.org/pandas-docs/stable/user_guide/indexing.html#returning-a-view-versus-a-copy\n",
      "  current_data['Date'] = current_data.index\n"
     ]
    },
    {
     "name": "stdout",
     "output_type": "stream",
     "text": [
      "Completed 380 out of 488 steps\n",
      "the main data is of shape (270, 2)\n",
      "shape of current_data2 is (270, 59)\n",
      "shape of df4 is (210, 3541)\n"
     ]
    },
    {
     "name": "stderr",
     "output_type": "stream",
     "text": [
      "C:\\Users\\abhij\\AppData\\Local\\Temp\\ipykernel_18656\\146205851.py:16: SettingWithCopyWarning: \n",
      "A value is trying to be set on a copy of a slice from a DataFrame.\n",
      "Try using .loc[row_indexer,col_indexer] = value instead\n",
      "\n",
      "See the caveats in the documentation: https://pandas.pydata.org/pandas-docs/stable/user_guide/indexing.html#returning-a-view-versus-a-copy\n",
      "  current_data['Date'] = current_data.index\n"
     ]
    },
    {
     "name": "stdout",
     "output_type": "stream",
     "text": [
      "Completed 381 out of 488 steps\n",
      "the main data is of shape (270, 2)\n",
      "shape of current_data2 is (270, 59)\n",
      "shape of df4 is (210, 3541)\n"
     ]
    },
    {
     "name": "stderr",
     "output_type": "stream",
     "text": [
      "C:\\Users\\abhij\\AppData\\Local\\Temp\\ipykernel_18656\\146205851.py:16: SettingWithCopyWarning: \n",
      "A value is trying to be set on a copy of a slice from a DataFrame.\n",
      "Try using .loc[row_indexer,col_indexer] = value instead\n",
      "\n",
      "See the caveats in the documentation: https://pandas.pydata.org/pandas-docs/stable/user_guide/indexing.html#returning-a-view-versus-a-copy\n",
      "  current_data['Date'] = current_data.index\n"
     ]
    },
    {
     "name": "stdout",
     "output_type": "stream",
     "text": [
      "Completed 382 out of 488 steps\n",
      "the main data is of shape (270, 2)\n",
      "shape of current_data2 is (270, 59)\n",
      "shape of df4 is (210, 3541)\n"
     ]
    },
    {
     "name": "stderr",
     "output_type": "stream",
     "text": [
      "C:\\Users\\abhij\\AppData\\Local\\Temp\\ipykernel_18656\\146205851.py:16: SettingWithCopyWarning: \n",
      "A value is trying to be set on a copy of a slice from a DataFrame.\n",
      "Try using .loc[row_indexer,col_indexer] = value instead\n",
      "\n",
      "See the caveats in the documentation: https://pandas.pydata.org/pandas-docs/stable/user_guide/indexing.html#returning-a-view-versus-a-copy\n",
      "  current_data['Date'] = current_data.index\n"
     ]
    },
    {
     "name": "stdout",
     "output_type": "stream",
     "text": [
      "Completed 383 out of 488 steps\n",
      "the main data is of shape (270, 2)\n",
      "shape of current_data2 is (270, 59)\n",
      "shape of df4 is (210, 3541)\n"
     ]
    },
    {
     "name": "stderr",
     "output_type": "stream",
     "text": [
      "C:\\Users\\abhij\\AppData\\Local\\Temp\\ipykernel_18656\\146205851.py:16: SettingWithCopyWarning: \n",
      "A value is trying to be set on a copy of a slice from a DataFrame.\n",
      "Try using .loc[row_indexer,col_indexer] = value instead\n",
      "\n",
      "See the caveats in the documentation: https://pandas.pydata.org/pandas-docs/stable/user_guide/indexing.html#returning-a-view-versus-a-copy\n",
      "  current_data['Date'] = current_data.index\n"
     ]
    },
    {
     "name": "stdout",
     "output_type": "stream",
     "text": [
      "Completed 384 out of 488 steps\n",
      "the main data is of shape (270, 2)\n",
      "shape of current_data2 is (270, 59)\n",
      "shape of df4 is (210, 3541)\n"
     ]
    },
    {
     "name": "stderr",
     "output_type": "stream",
     "text": [
      "C:\\Users\\abhij\\AppData\\Local\\Temp\\ipykernel_18656\\146205851.py:16: SettingWithCopyWarning: \n",
      "A value is trying to be set on a copy of a slice from a DataFrame.\n",
      "Try using .loc[row_indexer,col_indexer] = value instead\n",
      "\n",
      "See the caveats in the documentation: https://pandas.pydata.org/pandas-docs/stable/user_guide/indexing.html#returning-a-view-versus-a-copy\n",
      "  current_data['Date'] = current_data.index\n"
     ]
    },
    {
     "name": "stdout",
     "output_type": "stream",
     "text": [
      "Completed 385 out of 488 steps\n",
      "the main data is of shape (270, 2)\n",
      "shape of current_data2 is (270, 59)\n",
      "shape of df4 is (210, 3541)\n"
     ]
    },
    {
     "name": "stderr",
     "output_type": "stream",
     "text": [
      "C:\\Users\\abhij\\AppData\\Local\\Temp\\ipykernel_18656\\146205851.py:16: SettingWithCopyWarning: \n",
      "A value is trying to be set on a copy of a slice from a DataFrame.\n",
      "Try using .loc[row_indexer,col_indexer] = value instead\n",
      "\n",
      "See the caveats in the documentation: https://pandas.pydata.org/pandas-docs/stable/user_guide/indexing.html#returning-a-view-versus-a-copy\n",
      "  current_data['Date'] = current_data.index\n"
     ]
    },
    {
     "name": "stdout",
     "output_type": "stream",
     "text": [
      "Completed 386 out of 488 steps\n",
      "the main data is of shape (270, 2)\n",
      "shape of current_data2 is (270, 59)\n",
      "shape of df4 is (210, 3541)\n"
     ]
    },
    {
     "name": "stderr",
     "output_type": "stream",
     "text": [
      "C:\\Users\\abhij\\AppData\\Local\\Temp\\ipykernel_18656\\146205851.py:16: SettingWithCopyWarning: \n",
      "A value is trying to be set on a copy of a slice from a DataFrame.\n",
      "Try using .loc[row_indexer,col_indexer] = value instead\n",
      "\n",
      "See the caveats in the documentation: https://pandas.pydata.org/pandas-docs/stable/user_guide/indexing.html#returning-a-view-versus-a-copy\n",
      "  current_data['Date'] = current_data.index\n"
     ]
    },
    {
     "name": "stdout",
     "output_type": "stream",
     "text": [
      "Completed 387 out of 488 steps\n",
      "the main data is of shape (270, 2)\n",
      "shape of current_data2 is (270, 59)\n",
      "shape of df4 is (210, 3541)\n"
     ]
    },
    {
     "name": "stderr",
     "output_type": "stream",
     "text": [
      "C:\\Users\\abhij\\AppData\\Local\\Temp\\ipykernel_18656\\146205851.py:16: SettingWithCopyWarning: \n",
      "A value is trying to be set on a copy of a slice from a DataFrame.\n",
      "Try using .loc[row_indexer,col_indexer] = value instead\n",
      "\n",
      "See the caveats in the documentation: https://pandas.pydata.org/pandas-docs/stable/user_guide/indexing.html#returning-a-view-versus-a-copy\n",
      "  current_data['Date'] = current_data.index\n"
     ]
    },
    {
     "name": "stdout",
     "output_type": "stream",
     "text": [
      "Completed 388 out of 488 steps\n",
      "the main data is of shape (270, 2)\n",
      "shape of current_data2 is (270, 59)\n",
      "shape of df4 is (210, 3541)\n"
     ]
    },
    {
     "name": "stderr",
     "output_type": "stream",
     "text": [
      "C:\\Users\\abhij\\AppData\\Local\\Temp\\ipykernel_18656\\146205851.py:16: SettingWithCopyWarning: \n",
      "A value is trying to be set on a copy of a slice from a DataFrame.\n",
      "Try using .loc[row_indexer,col_indexer] = value instead\n",
      "\n",
      "See the caveats in the documentation: https://pandas.pydata.org/pandas-docs/stable/user_guide/indexing.html#returning-a-view-versus-a-copy\n",
      "  current_data['Date'] = current_data.index\n"
     ]
    },
    {
     "name": "stdout",
     "output_type": "stream",
     "text": [
      "Completed 389 out of 488 steps\n",
      "the main data is of shape (270, 2)\n",
      "shape of current_data2 is (270, 59)\n",
      "shape of df4 is (210, 3541)\n"
     ]
    },
    {
     "name": "stderr",
     "output_type": "stream",
     "text": [
      "C:\\Users\\abhij\\AppData\\Local\\Temp\\ipykernel_18656\\146205851.py:16: SettingWithCopyWarning: \n",
      "A value is trying to be set on a copy of a slice from a DataFrame.\n",
      "Try using .loc[row_indexer,col_indexer] = value instead\n",
      "\n",
      "See the caveats in the documentation: https://pandas.pydata.org/pandas-docs/stable/user_guide/indexing.html#returning-a-view-versus-a-copy\n",
      "  current_data['Date'] = current_data.index\n"
     ]
    },
    {
     "name": "stdout",
     "output_type": "stream",
     "text": [
      "Completed 390 out of 488 steps\n",
      "the main data is of shape (270, 2)\n",
      "shape of current_data2 is (270, 59)\n",
      "shape of df4 is (210, 3541)\n"
     ]
    },
    {
     "name": "stderr",
     "output_type": "stream",
     "text": [
      "C:\\Users\\abhij\\AppData\\Local\\Temp\\ipykernel_18656\\146205851.py:16: SettingWithCopyWarning: \n",
      "A value is trying to be set on a copy of a slice from a DataFrame.\n",
      "Try using .loc[row_indexer,col_indexer] = value instead\n",
      "\n",
      "See the caveats in the documentation: https://pandas.pydata.org/pandas-docs/stable/user_guide/indexing.html#returning-a-view-versus-a-copy\n",
      "  current_data['Date'] = current_data.index\n"
     ]
    },
    {
     "name": "stdout",
     "output_type": "stream",
     "text": [
      "Completed 391 out of 488 steps\n",
      "the main data is of shape (270, 2)\n",
      "shape of current_data2 is (270, 59)\n",
      "shape of df4 is (210, 3541)\n"
     ]
    },
    {
     "name": "stderr",
     "output_type": "stream",
     "text": [
      "C:\\Users\\abhij\\AppData\\Local\\Temp\\ipykernel_18656\\146205851.py:16: SettingWithCopyWarning: \n",
      "A value is trying to be set on a copy of a slice from a DataFrame.\n",
      "Try using .loc[row_indexer,col_indexer] = value instead\n",
      "\n",
      "See the caveats in the documentation: https://pandas.pydata.org/pandas-docs/stable/user_guide/indexing.html#returning-a-view-versus-a-copy\n",
      "  current_data['Date'] = current_data.index\n"
     ]
    },
    {
     "name": "stdout",
     "output_type": "stream",
     "text": [
      "Completed 392 out of 488 steps\n",
      "the main data is of shape (270, 2)\n",
      "shape of current_data2 is (270, 59)\n",
      "shape of df4 is (210, 3541)\n"
     ]
    },
    {
     "name": "stderr",
     "output_type": "stream",
     "text": [
      "C:\\Users\\abhij\\AppData\\Local\\Temp\\ipykernel_18656\\146205851.py:16: SettingWithCopyWarning: \n",
      "A value is trying to be set on a copy of a slice from a DataFrame.\n",
      "Try using .loc[row_indexer,col_indexer] = value instead\n",
      "\n",
      "See the caveats in the documentation: https://pandas.pydata.org/pandas-docs/stable/user_guide/indexing.html#returning-a-view-versus-a-copy\n",
      "  current_data['Date'] = current_data.index\n"
     ]
    },
    {
     "name": "stdout",
     "output_type": "stream",
     "text": [
      "Completed 393 out of 488 steps\n",
      "the main data is of shape (270, 2)\n",
      "shape of current_data2 is (270, 59)\n",
      "shape of df4 is (210, 3541)\n"
     ]
    },
    {
     "name": "stderr",
     "output_type": "stream",
     "text": [
      "C:\\Users\\abhij\\AppData\\Local\\Temp\\ipykernel_18656\\146205851.py:16: SettingWithCopyWarning: \n",
      "A value is trying to be set on a copy of a slice from a DataFrame.\n",
      "Try using .loc[row_indexer,col_indexer] = value instead\n",
      "\n",
      "See the caveats in the documentation: https://pandas.pydata.org/pandas-docs/stable/user_guide/indexing.html#returning-a-view-versus-a-copy\n",
      "  current_data['Date'] = current_data.index\n"
     ]
    },
    {
     "name": "stdout",
     "output_type": "stream",
     "text": [
      "Completed 394 out of 488 steps\n",
      "the main data is of shape (270, 2)\n",
      "shape of current_data2 is (270, 59)\n",
      "shape of df4 is (210, 3541)\n"
     ]
    },
    {
     "name": "stderr",
     "output_type": "stream",
     "text": [
      "C:\\Users\\abhij\\AppData\\Local\\Temp\\ipykernel_18656\\146205851.py:16: SettingWithCopyWarning: \n",
      "A value is trying to be set on a copy of a slice from a DataFrame.\n",
      "Try using .loc[row_indexer,col_indexer] = value instead\n",
      "\n",
      "See the caveats in the documentation: https://pandas.pydata.org/pandas-docs/stable/user_guide/indexing.html#returning-a-view-versus-a-copy\n",
      "  current_data['Date'] = current_data.index\n"
     ]
    },
    {
     "name": "stdout",
     "output_type": "stream",
     "text": [
      "Completed 395 out of 488 steps\n",
      "the main data is of shape (270, 2)\n",
      "shape of current_data2 is (270, 59)\n",
      "shape of df4 is (210, 3541)\n"
     ]
    },
    {
     "name": "stderr",
     "output_type": "stream",
     "text": [
      "C:\\Users\\abhij\\AppData\\Local\\Temp\\ipykernel_18656\\146205851.py:16: SettingWithCopyWarning: \n",
      "A value is trying to be set on a copy of a slice from a DataFrame.\n",
      "Try using .loc[row_indexer,col_indexer] = value instead\n",
      "\n",
      "See the caveats in the documentation: https://pandas.pydata.org/pandas-docs/stable/user_guide/indexing.html#returning-a-view-versus-a-copy\n",
      "  current_data['Date'] = current_data.index\n"
     ]
    },
    {
     "name": "stdout",
     "output_type": "stream",
     "text": [
      "Completed 396 out of 488 steps\n",
      "the main data is of shape (270, 2)\n",
      "shape of current_data2 is (270, 59)\n",
      "shape of df4 is (210, 3541)\n"
     ]
    },
    {
     "name": "stderr",
     "output_type": "stream",
     "text": [
      "C:\\Users\\abhij\\AppData\\Local\\Temp\\ipykernel_18656\\146205851.py:16: SettingWithCopyWarning: \n",
      "A value is trying to be set on a copy of a slice from a DataFrame.\n",
      "Try using .loc[row_indexer,col_indexer] = value instead\n",
      "\n",
      "See the caveats in the documentation: https://pandas.pydata.org/pandas-docs/stable/user_guide/indexing.html#returning-a-view-versus-a-copy\n",
      "  current_data['Date'] = current_data.index\n"
     ]
    },
    {
     "name": "stdout",
     "output_type": "stream",
     "text": [
      "Completed 397 out of 488 steps\n",
      "the main data is of shape (270, 2)\n",
      "shape of current_data2 is (270, 59)\n",
      "shape of df4 is (210, 3541)\n"
     ]
    },
    {
     "name": "stderr",
     "output_type": "stream",
     "text": [
      "C:\\Users\\abhij\\AppData\\Local\\Temp\\ipykernel_18656\\146205851.py:16: SettingWithCopyWarning: \n",
      "A value is trying to be set on a copy of a slice from a DataFrame.\n",
      "Try using .loc[row_indexer,col_indexer] = value instead\n",
      "\n",
      "See the caveats in the documentation: https://pandas.pydata.org/pandas-docs/stable/user_guide/indexing.html#returning-a-view-versus-a-copy\n",
      "  current_data['Date'] = current_data.index\n"
     ]
    },
    {
     "name": "stdout",
     "output_type": "stream",
     "text": [
      "Completed 398 out of 488 steps\n",
      "the main data is of shape (270, 2)\n",
      "shape of current_data2 is (270, 59)\n",
      "shape of df4 is (210, 3541)\n"
     ]
    },
    {
     "name": "stderr",
     "output_type": "stream",
     "text": [
      "C:\\Users\\abhij\\AppData\\Local\\Temp\\ipykernel_18656\\146205851.py:16: SettingWithCopyWarning: \n",
      "A value is trying to be set on a copy of a slice from a DataFrame.\n",
      "Try using .loc[row_indexer,col_indexer] = value instead\n",
      "\n",
      "See the caveats in the documentation: https://pandas.pydata.org/pandas-docs/stable/user_guide/indexing.html#returning-a-view-versus-a-copy\n",
      "  current_data['Date'] = current_data.index\n"
     ]
    },
    {
     "name": "stdout",
     "output_type": "stream",
     "text": [
      "Completed 399 out of 488 steps\n",
      "the main data is of shape (270, 2)\n",
      "shape of current_data2 is (270, 59)\n",
      "shape of df4 is (210, 3541)\n"
     ]
    },
    {
     "name": "stderr",
     "output_type": "stream",
     "text": [
      "C:\\Users\\abhij\\AppData\\Local\\Temp\\ipykernel_18656\\146205851.py:16: SettingWithCopyWarning: \n",
      "A value is trying to be set on a copy of a slice from a DataFrame.\n",
      "Try using .loc[row_indexer,col_indexer] = value instead\n",
      "\n",
      "See the caveats in the documentation: https://pandas.pydata.org/pandas-docs/stable/user_guide/indexing.html#returning-a-view-versus-a-copy\n",
      "  current_data['Date'] = current_data.index\n"
     ]
    },
    {
     "name": "stdout",
     "output_type": "stream",
     "text": [
      "Completed 400 out of 488 steps\n",
      "the main data is of shape (270, 2)\n",
      "shape of current_data2 is (270, 59)\n",
      "shape of df4 is (210, 3541)\n"
     ]
    },
    {
     "name": "stderr",
     "output_type": "stream",
     "text": [
      "C:\\Users\\abhij\\AppData\\Local\\Temp\\ipykernel_18656\\146205851.py:16: SettingWithCopyWarning: \n",
      "A value is trying to be set on a copy of a slice from a DataFrame.\n",
      "Try using .loc[row_indexer,col_indexer] = value instead\n",
      "\n",
      "See the caveats in the documentation: https://pandas.pydata.org/pandas-docs/stable/user_guide/indexing.html#returning-a-view-versus-a-copy\n",
      "  current_data['Date'] = current_data.index\n"
     ]
    },
    {
     "name": "stdout",
     "output_type": "stream",
     "text": [
      "Completed 401 out of 488 steps\n",
      "the main data is of shape (270, 2)\n",
      "shape of current_data2 is (270, 59)\n",
      "shape of df4 is (210, 3541)\n"
     ]
    },
    {
     "name": "stderr",
     "output_type": "stream",
     "text": [
      "C:\\Users\\abhij\\AppData\\Local\\Temp\\ipykernel_18656\\146205851.py:16: SettingWithCopyWarning: \n",
      "A value is trying to be set on a copy of a slice from a DataFrame.\n",
      "Try using .loc[row_indexer,col_indexer] = value instead\n",
      "\n",
      "See the caveats in the documentation: https://pandas.pydata.org/pandas-docs/stable/user_guide/indexing.html#returning-a-view-versus-a-copy\n",
      "  current_data['Date'] = current_data.index\n"
     ]
    },
    {
     "name": "stdout",
     "output_type": "stream",
     "text": [
      "Completed 402 out of 488 steps\n",
      "the main data is of shape (270, 2)\n",
      "shape of current_data2 is (270, 59)\n",
      "shape of df4 is (210, 3541)\n"
     ]
    },
    {
     "name": "stderr",
     "output_type": "stream",
     "text": [
      "C:\\Users\\abhij\\AppData\\Local\\Temp\\ipykernel_18656\\146205851.py:16: SettingWithCopyWarning: \n",
      "A value is trying to be set on a copy of a slice from a DataFrame.\n",
      "Try using .loc[row_indexer,col_indexer] = value instead\n",
      "\n",
      "See the caveats in the documentation: https://pandas.pydata.org/pandas-docs/stable/user_guide/indexing.html#returning-a-view-versus-a-copy\n",
      "  current_data['Date'] = current_data.index\n"
     ]
    },
    {
     "name": "stdout",
     "output_type": "stream",
     "text": [
      "Completed 403 out of 488 steps\n",
      "the main data is of shape (270, 2)\n",
      "shape of current_data2 is (270, 59)\n",
      "shape of df4 is (210, 3541)\n"
     ]
    },
    {
     "name": "stderr",
     "output_type": "stream",
     "text": [
      "C:\\Users\\abhij\\AppData\\Local\\Temp\\ipykernel_18656\\146205851.py:16: SettingWithCopyWarning: \n",
      "A value is trying to be set on a copy of a slice from a DataFrame.\n",
      "Try using .loc[row_indexer,col_indexer] = value instead\n",
      "\n",
      "See the caveats in the documentation: https://pandas.pydata.org/pandas-docs/stable/user_guide/indexing.html#returning-a-view-versus-a-copy\n",
      "  current_data['Date'] = current_data.index\n"
     ]
    },
    {
     "name": "stdout",
     "output_type": "stream",
     "text": [
      "Completed 404 out of 488 steps\n",
      "the main data is of shape (270, 2)\n",
      "shape of current_data2 is (270, 59)\n",
      "shape of df4 is (210, 3541)\n"
     ]
    },
    {
     "name": "stderr",
     "output_type": "stream",
     "text": [
      "C:\\Users\\abhij\\AppData\\Local\\Temp\\ipykernel_18656\\146205851.py:16: SettingWithCopyWarning: \n",
      "A value is trying to be set on a copy of a slice from a DataFrame.\n",
      "Try using .loc[row_indexer,col_indexer] = value instead\n",
      "\n",
      "See the caveats in the documentation: https://pandas.pydata.org/pandas-docs/stable/user_guide/indexing.html#returning-a-view-versus-a-copy\n",
      "  current_data['Date'] = current_data.index\n"
     ]
    },
    {
     "name": "stdout",
     "output_type": "stream",
     "text": [
      "Completed 405 out of 488 steps\n",
      "the main data is of shape (270, 2)\n",
      "shape of current_data2 is (270, 59)\n",
      "shape of df4 is (210, 3541)\n"
     ]
    },
    {
     "name": "stderr",
     "output_type": "stream",
     "text": [
      "C:\\Users\\abhij\\AppData\\Local\\Temp\\ipykernel_18656\\146205851.py:16: SettingWithCopyWarning: \n",
      "A value is trying to be set on a copy of a slice from a DataFrame.\n",
      "Try using .loc[row_indexer,col_indexer] = value instead\n",
      "\n",
      "See the caveats in the documentation: https://pandas.pydata.org/pandas-docs/stable/user_guide/indexing.html#returning-a-view-versus-a-copy\n",
      "  current_data['Date'] = current_data.index\n"
     ]
    },
    {
     "name": "stdout",
     "output_type": "stream",
     "text": [
      "Completed 406 out of 488 steps\n",
      "the main data is of shape (270, 2)\n",
      "shape of current_data2 is (270, 59)\n",
      "shape of df4 is (210, 3541)\n"
     ]
    },
    {
     "name": "stderr",
     "output_type": "stream",
     "text": [
      "C:\\Users\\abhij\\AppData\\Local\\Temp\\ipykernel_18656\\146205851.py:16: SettingWithCopyWarning: \n",
      "A value is trying to be set on a copy of a slice from a DataFrame.\n",
      "Try using .loc[row_indexer,col_indexer] = value instead\n",
      "\n",
      "See the caveats in the documentation: https://pandas.pydata.org/pandas-docs/stable/user_guide/indexing.html#returning-a-view-versus-a-copy\n",
      "  current_data['Date'] = current_data.index\n"
     ]
    },
    {
     "name": "stdout",
     "output_type": "stream",
     "text": [
      "Completed 407 out of 488 steps\n",
      "the main data is of shape (270, 2)\n",
      "shape of current_data2 is (270, 59)\n",
      "shape of df4 is (210, 3541)\n"
     ]
    },
    {
     "name": "stderr",
     "output_type": "stream",
     "text": [
      "C:\\Users\\abhij\\AppData\\Local\\Temp\\ipykernel_18656\\146205851.py:16: SettingWithCopyWarning: \n",
      "A value is trying to be set on a copy of a slice from a DataFrame.\n",
      "Try using .loc[row_indexer,col_indexer] = value instead\n",
      "\n",
      "See the caveats in the documentation: https://pandas.pydata.org/pandas-docs/stable/user_guide/indexing.html#returning-a-view-versus-a-copy\n",
      "  current_data['Date'] = current_data.index\n"
     ]
    },
    {
     "name": "stdout",
     "output_type": "stream",
     "text": [
      "Completed 408 out of 488 steps\n",
      "the main data is of shape (270, 2)\n",
      "shape of current_data2 is (270, 59)\n",
      "shape of df4 is (210, 3541)\n"
     ]
    },
    {
     "name": "stderr",
     "output_type": "stream",
     "text": [
      "C:\\Users\\abhij\\AppData\\Local\\Temp\\ipykernel_18656\\146205851.py:16: SettingWithCopyWarning: \n",
      "A value is trying to be set on a copy of a slice from a DataFrame.\n",
      "Try using .loc[row_indexer,col_indexer] = value instead\n",
      "\n",
      "See the caveats in the documentation: https://pandas.pydata.org/pandas-docs/stable/user_guide/indexing.html#returning-a-view-versus-a-copy\n",
      "  current_data['Date'] = current_data.index\n"
     ]
    },
    {
     "name": "stdout",
     "output_type": "stream",
     "text": [
      "Completed 409 out of 488 steps\n",
      "the main data is of shape (270, 2)\n",
      "shape of current_data2 is (270, 59)\n",
      "shape of df4 is (210, 3541)\n"
     ]
    },
    {
     "name": "stderr",
     "output_type": "stream",
     "text": [
      "C:\\Users\\abhij\\AppData\\Local\\Temp\\ipykernel_18656\\146205851.py:16: SettingWithCopyWarning: \n",
      "A value is trying to be set on a copy of a slice from a DataFrame.\n",
      "Try using .loc[row_indexer,col_indexer] = value instead\n",
      "\n",
      "See the caveats in the documentation: https://pandas.pydata.org/pandas-docs/stable/user_guide/indexing.html#returning-a-view-versus-a-copy\n",
      "  current_data['Date'] = current_data.index\n"
     ]
    },
    {
     "name": "stdout",
     "output_type": "stream",
     "text": [
      "Completed 410 out of 488 steps\n",
      "the main data is of shape (270, 2)\n",
      "shape of current_data2 is (270, 59)\n",
      "shape of df4 is (210, 3541)\n"
     ]
    },
    {
     "name": "stderr",
     "output_type": "stream",
     "text": [
      "C:\\Users\\abhij\\AppData\\Local\\Temp\\ipykernel_18656\\146205851.py:16: SettingWithCopyWarning: \n",
      "A value is trying to be set on a copy of a slice from a DataFrame.\n",
      "Try using .loc[row_indexer,col_indexer] = value instead\n",
      "\n",
      "See the caveats in the documentation: https://pandas.pydata.org/pandas-docs/stable/user_guide/indexing.html#returning-a-view-versus-a-copy\n",
      "  current_data['Date'] = current_data.index\n"
     ]
    },
    {
     "name": "stdout",
     "output_type": "stream",
     "text": [
      "Completed 411 out of 488 steps\n",
      "the main data is of shape (270, 2)\n",
      "shape of current_data2 is (270, 59)\n",
      "shape of df4 is (210, 3541)\n"
     ]
    },
    {
     "name": "stderr",
     "output_type": "stream",
     "text": [
      "C:\\Users\\abhij\\AppData\\Local\\Temp\\ipykernel_18656\\146205851.py:16: SettingWithCopyWarning: \n",
      "A value is trying to be set on a copy of a slice from a DataFrame.\n",
      "Try using .loc[row_indexer,col_indexer] = value instead\n",
      "\n",
      "See the caveats in the documentation: https://pandas.pydata.org/pandas-docs/stable/user_guide/indexing.html#returning-a-view-versus-a-copy\n",
      "  current_data['Date'] = current_data.index\n"
     ]
    },
    {
     "name": "stdout",
     "output_type": "stream",
     "text": [
      "Completed 412 out of 488 steps\n",
      "the main data is of shape (270, 2)\n",
      "shape of current_data2 is (270, 59)\n",
      "shape of df4 is (210, 3541)\n"
     ]
    },
    {
     "name": "stderr",
     "output_type": "stream",
     "text": [
      "C:\\Users\\abhij\\AppData\\Local\\Temp\\ipykernel_18656\\146205851.py:16: SettingWithCopyWarning: \n",
      "A value is trying to be set on a copy of a slice from a DataFrame.\n",
      "Try using .loc[row_indexer,col_indexer] = value instead\n",
      "\n",
      "See the caveats in the documentation: https://pandas.pydata.org/pandas-docs/stable/user_guide/indexing.html#returning-a-view-versus-a-copy\n",
      "  current_data['Date'] = current_data.index\n"
     ]
    },
    {
     "name": "stdout",
     "output_type": "stream",
     "text": [
      "Completed 413 out of 488 steps\n",
      "the main data is of shape (270, 2)\n",
      "shape of current_data2 is (270, 59)\n",
      "shape of df4 is (210, 3541)\n"
     ]
    },
    {
     "name": "stderr",
     "output_type": "stream",
     "text": [
      "C:\\Users\\abhij\\AppData\\Local\\Temp\\ipykernel_18656\\146205851.py:16: SettingWithCopyWarning: \n",
      "A value is trying to be set on a copy of a slice from a DataFrame.\n",
      "Try using .loc[row_indexer,col_indexer] = value instead\n",
      "\n",
      "See the caveats in the documentation: https://pandas.pydata.org/pandas-docs/stable/user_guide/indexing.html#returning-a-view-versus-a-copy\n",
      "  current_data['Date'] = current_data.index\n"
     ]
    },
    {
     "name": "stdout",
     "output_type": "stream",
     "text": [
      "Completed 414 out of 488 steps\n",
      "the main data is of shape (270, 2)\n",
      "shape of current_data2 is (270, 59)\n",
      "shape of df4 is (210, 3541)\n"
     ]
    },
    {
     "name": "stderr",
     "output_type": "stream",
     "text": [
      "C:\\Users\\abhij\\AppData\\Local\\Temp\\ipykernel_18656\\146205851.py:16: SettingWithCopyWarning: \n",
      "A value is trying to be set on a copy of a slice from a DataFrame.\n",
      "Try using .loc[row_indexer,col_indexer] = value instead\n",
      "\n",
      "See the caveats in the documentation: https://pandas.pydata.org/pandas-docs/stable/user_guide/indexing.html#returning-a-view-versus-a-copy\n",
      "  current_data['Date'] = current_data.index\n"
     ]
    },
    {
     "name": "stdout",
     "output_type": "stream",
     "text": [
      "Completed 415 out of 488 steps\n",
      "the main data is of shape (270, 2)\n",
      "shape of current_data2 is (270, 59)\n",
      "shape of df4 is (210, 3541)\n"
     ]
    },
    {
     "name": "stderr",
     "output_type": "stream",
     "text": [
      "C:\\Users\\abhij\\AppData\\Local\\Temp\\ipykernel_18656\\146205851.py:16: SettingWithCopyWarning: \n",
      "A value is trying to be set on a copy of a slice from a DataFrame.\n",
      "Try using .loc[row_indexer,col_indexer] = value instead\n",
      "\n",
      "See the caveats in the documentation: https://pandas.pydata.org/pandas-docs/stable/user_guide/indexing.html#returning-a-view-versus-a-copy\n",
      "  current_data['Date'] = current_data.index\n"
     ]
    },
    {
     "name": "stdout",
     "output_type": "stream",
     "text": [
      "Completed 416 out of 488 steps\n",
      "the main data is of shape (270, 2)\n",
      "shape of current_data2 is (270, 59)\n",
      "shape of df4 is (210, 3541)\n"
     ]
    },
    {
     "name": "stderr",
     "output_type": "stream",
     "text": [
      "C:\\Users\\abhij\\AppData\\Local\\Temp\\ipykernel_18656\\146205851.py:16: SettingWithCopyWarning: \n",
      "A value is trying to be set on a copy of a slice from a DataFrame.\n",
      "Try using .loc[row_indexer,col_indexer] = value instead\n",
      "\n",
      "See the caveats in the documentation: https://pandas.pydata.org/pandas-docs/stable/user_guide/indexing.html#returning-a-view-versus-a-copy\n",
      "  current_data['Date'] = current_data.index\n"
     ]
    },
    {
     "name": "stdout",
     "output_type": "stream",
     "text": [
      "Completed 417 out of 488 steps\n",
      "the main data is of shape (270, 2)\n",
      "shape of current_data2 is (270, 59)\n",
      "shape of df4 is (210, 3541)\n"
     ]
    },
    {
     "name": "stderr",
     "output_type": "stream",
     "text": [
      "C:\\Users\\abhij\\AppData\\Local\\Temp\\ipykernel_18656\\146205851.py:16: SettingWithCopyWarning: \n",
      "A value is trying to be set on a copy of a slice from a DataFrame.\n",
      "Try using .loc[row_indexer,col_indexer] = value instead\n",
      "\n",
      "See the caveats in the documentation: https://pandas.pydata.org/pandas-docs/stable/user_guide/indexing.html#returning-a-view-versus-a-copy\n",
      "  current_data['Date'] = current_data.index\n"
     ]
    },
    {
     "name": "stdout",
     "output_type": "stream",
     "text": [
      "Completed 418 out of 488 steps\n",
      "the main data is of shape (270, 2)\n",
      "shape of current_data2 is (270, 59)\n",
      "shape of df4 is (210, 3541)\n"
     ]
    },
    {
     "name": "stderr",
     "output_type": "stream",
     "text": [
      "C:\\Users\\abhij\\AppData\\Local\\Temp\\ipykernel_18656\\146205851.py:16: SettingWithCopyWarning: \n",
      "A value is trying to be set on a copy of a slice from a DataFrame.\n",
      "Try using .loc[row_indexer,col_indexer] = value instead\n",
      "\n",
      "See the caveats in the documentation: https://pandas.pydata.org/pandas-docs/stable/user_guide/indexing.html#returning-a-view-versus-a-copy\n",
      "  current_data['Date'] = current_data.index\n"
     ]
    },
    {
     "name": "stdout",
     "output_type": "stream",
     "text": [
      "Completed 419 out of 488 steps\n",
      "the main data is of shape (270, 2)\n",
      "shape of current_data2 is (270, 59)\n",
      "shape of df4 is (210, 3541)\n"
     ]
    },
    {
     "name": "stderr",
     "output_type": "stream",
     "text": [
      "C:\\Users\\abhij\\AppData\\Local\\Temp\\ipykernel_18656\\146205851.py:16: SettingWithCopyWarning: \n",
      "A value is trying to be set on a copy of a slice from a DataFrame.\n",
      "Try using .loc[row_indexer,col_indexer] = value instead\n",
      "\n",
      "See the caveats in the documentation: https://pandas.pydata.org/pandas-docs/stable/user_guide/indexing.html#returning-a-view-versus-a-copy\n",
      "  current_data['Date'] = current_data.index\n"
     ]
    },
    {
     "name": "stdout",
     "output_type": "stream",
     "text": [
      "Completed 420 out of 488 steps\n",
      "the main data is of shape (270, 2)\n",
      "shape of current_data2 is (270, 59)\n",
      "shape of df4 is (210, 3541)\n"
     ]
    },
    {
     "name": "stderr",
     "output_type": "stream",
     "text": [
      "C:\\Users\\abhij\\AppData\\Local\\Temp\\ipykernel_18656\\146205851.py:16: SettingWithCopyWarning: \n",
      "A value is trying to be set on a copy of a slice from a DataFrame.\n",
      "Try using .loc[row_indexer,col_indexer] = value instead\n",
      "\n",
      "See the caveats in the documentation: https://pandas.pydata.org/pandas-docs/stable/user_guide/indexing.html#returning-a-view-versus-a-copy\n",
      "  current_data['Date'] = current_data.index\n"
     ]
    },
    {
     "name": "stdout",
     "output_type": "stream",
     "text": [
      "Completed 421 out of 488 steps\n",
      "the main data is of shape (270, 2)\n",
      "shape of current_data2 is (270, 59)\n",
      "shape of df4 is (210, 3541)\n"
     ]
    },
    {
     "name": "stderr",
     "output_type": "stream",
     "text": [
      "C:\\Users\\abhij\\AppData\\Local\\Temp\\ipykernel_18656\\146205851.py:16: SettingWithCopyWarning: \n",
      "A value is trying to be set on a copy of a slice from a DataFrame.\n",
      "Try using .loc[row_indexer,col_indexer] = value instead\n",
      "\n",
      "See the caveats in the documentation: https://pandas.pydata.org/pandas-docs/stable/user_guide/indexing.html#returning-a-view-versus-a-copy\n",
      "  current_data['Date'] = current_data.index\n"
     ]
    },
    {
     "name": "stdout",
     "output_type": "stream",
     "text": [
      "Completed 422 out of 488 steps\n",
      "the main data is of shape (270, 2)\n",
      "shape of current_data2 is (270, 59)\n",
      "shape of df4 is (210, 3541)\n"
     ]
    },
    {
     "name": "stderr",
     "output_type": "stream",
     "text": [
      "C:\\Users\\abhij\\AppData\\Local\\Temp\\ipykernel_18656\\146205851.py:16: SettingWithCopyWarning: \n",
      "A value is trying to be set on a copy of a slice from a DataFrame.\n",
      "Try using .loc[row_indexer,col_indexer] = value instead\n",
      "\n",
      "See the caveats in the documentation: https://pandas.pydata.org/pandas-docs/stable/user_guide/indexing.html#returning-a-view-versus-a-copy\n",
      "  current_data['Date'] = current_data.index\n"
     ]
    },
    {
     "name": "stdout",
     "output_type": "stream",
     "text": [
      "Completed 423 out of 488 steps\n",
      "the main data is of shape (270, 2)\n",
      "shape of current_data2 is (270, 59)\n",
      "shape of df4 is (210, 3541)\n"
     ]
    },
    {
     "name": "stderr",
     "output_type": "stream",
     "text": [
      "C:\\Users\\abhij\\AppData\\Local\\Temp\\ipykernel_18656\\146205851.py:16: SettingWithCopyWarning: \n",
      "A value is trying to be set on a copy of a slice from a DataFrame.\n",
      "Try using .loc[row_indexer,col_indexer] = value instead\n",
      "\n",
      "See the caveats in the documentation: https://pandas.pydata.org/pandas-docs/stable/user_guide/indexing.html#returning-a-view-versus-a-copy\n",
      "  current_data['Date'] = current_data.index\n"
     ]
    },
    {
     "name": "stdout",
     "output_type": "stream",
     "text": [
      "Completed 424 out of 488 steps\n",
      "the main data is of shape (270, 2)\n",
      "shape of current_data2 is (270, 59)\n",
      "shape of df4 is (210, 3541)\n"
     ]
    },
    {
     "name": "stderr",
     "output_type": "stream",
     "text": [
      "C:\\Users\\abhij\\AppData\\Local\\Temp\\ipykernel_18656\\146205851.py:16: SettingWithCopyWarning: \n",
      "A value is trying to be set on a copy of a slice from a DataFrame.\n",
      "Try using .loc[row_indexer,col_indexer] = value instead\n",
      "\n",
      "See the caveats in the documentation: https://pandas.pydata.org/pandas-docs/stable/user_guide/indexing.html#returning-a-view-versus-a-copy\n",
      "  current_data['Date'] = current_data.index\n"
     ]
    },
    {
     "name": "stdout",
     "output_type": "stream",
     "text": [
      "Completed 425 out of 488 steps\n",
      "the main data is of shape (270, 2)\n",
      "shape of current_data2 is (270, 59)\n",
      "shape of df4 is (210, 3541)\n"
     ]
    },
    {
     "name": "stderr",
     "output_type": "stream",
     "text": [
      "C:\\Users\\abhij\\AppData\\Local\\Temp\\ipykernel_18656\\146205851.py:16: SettingWithCopyWarning: \n",
      "A value is trying to be set on a copy of a slice from a DataFrame.\n",
      "Try using .loc[row_indexer,col_indexer] = value instead\n",
      "\n",
      "See the caveats in the documentation: https://pandas.pydata.org/pandas-docs/stable/user_guide/indexing.html#returning-a-view-versus-a-copy\n",
      "  current_data['Date'] = current_data.index\n"
     ]
    },
    {
     "name": "stdout",
     "output_type": "stream",
     "text": [
      "Completed 426 out of 488 steps\n",
      "the main data is of shape (270, 2)\n",
      "shape of current_data2 is (270, 59)\n",
      "shape of df4 is (210, 3541)\n"
     ]
    },
    {
     "name": "stderr",
     "output_type": "stream",
     "text": [
      "C:\\Users\\abhij\\AppData\\Local\\Temp\\ipykernel_18656\\146205851.py:16: SettingWithCopyWarning: \n",
      "A value is trying to be set on a copy of a slice from a DataFrame.\n",
      "Try using .loc[row_indexer,col_indexer] = value instead\n",
      "\n",
      "See the caveats in the documentation: https://pandas.pydata.org/pandas-docs/stable/user_guide/indexing.html#returning-a-view-versus-a-copy\n",
      "  current_data['Date'] = current_data.index\n"
     ]
    },
    {
     "name": "stdout",
     "output_type": "stream",
     "text": [
      "Completed 427 out of 488 steps\n",
      "the main data is of shape (270, 2)\n",
      "shape of current_data2 is (270, 59)\n",
      "shape of df4 is (210, 3541)\n"
     ]
    },
    {
     "name": "stderr",
     "output_type": "stream",
     "text": [
      "C:\\Users\\abhij\\AppData\\Local\\Temp\\ipykernel_18656\\146205851.py:16: SettingWithCopyWarning: \n",
      "A value is trying to be set on a copy of a slice from a DataFrame.\n",
      "Try using .loc[row_indexer,col_indexer] = value instead\n",
      "\n",
      "See the caveats in the documentation: https://pandas.pydata.org/pandas-docs/stable/user_guide/indexing.html#returning-a-view-versus-a-copy\n",
      "  current_data['Date'] = current_data.index\n"
     ]
    },
    {
     "name": "stdout",
     "output_type": "stream",
     "text": [
      "Completed 428 out of 488 steps\n",
      "the main data is of shape (270, 2)\n",
      "shape of current_data2 is (270, 59)\n",
      "shape of df4 is (210, 3541)\n"
     ]
    },
    {
     "name": "stderr",
     "output_type": "stream",
     "text": [
      "C:\\Users\\abhij\\AppData\\Local\\Temp\\ipykernel_18656\\146205851.py:16: SettingWithCopyWarning: \n",
      "A value is trying to be set on a copy of a slice from a DataFrame.\n",
      "Try using .loc[row_indexer,col_indexer] = value instead\n",
      "\n",
      "See the caveats in the documentation: https://pandas.pydata.org/pandas-docs/stable/user_guide/indexing.html#returning-a-view-versus-a-copy\n",
      "  current_data['Date'] = current_data.index\n"
     ]
    },
    {
     "name": "stdout",
     "output_type": "stream",
     "text": [
      "Completed 429 out of 488 steps\n",
      "the main data is of shape (270, 2)\n",
      "shape of current_data2 is (270, 59)\n",
      "shape of df4 is (210, 3541)\n"
     ]
    },
    {
     "name": "stderr",
     "output_type": "stream",
     "text": [
      "C:\\Users\\abhij\\AppData\\Local\\Temp\\ipykernel_18656\\146205851.py:16: SettingWithCopyWarning: \n",
      "A value is trying to be set on a copy of a slice from a DataFrame.\n",
      "Try using .loc[row_indexer,col_indexer] = value instead\n",
      "\n",
      "See the caveats in the documentation: https://pandas.pydata.org/pandas-docs/stable/user_guide/indexing.html#returning-a-view-versus-a-copy\n",
      "  current_data['Date'] = current_data.index\n"
     ]
    },
    {
     "name": "stdout",
     "output_type": "stream",
     "text": [
      "Completed 430 out of 488 steps\n",
      "the main data is of shape (270, 2)\n",
      "shape of current_data2 is (270, 59)\n",
      "shape of df4 is (210, 3541)\n"
     ]
    },
    {
     "name": "stderr",
     "output_type": "stream",
     "text": [
      "C:\\Users\\abhij\\AppData\\Local\\Temp\\ipykernel_18656\\146205851.py:16: SettingWithCopyWarning: \n",
      "A value is trying to be set on a copy of a slice from a DataFrame.\n",
      "Try using .loc[row_indexer,col_indexer] = value instead\n",
      "\n",
      "See the caveats in the documentation: https://pandas.pydata.org/pandas-docs/stable/user_guide/indexing.html#returning-a-view-versus-a-copy\n",
      "  current_data['Date'] = current_data.index\n"
     ]
    },
    {
     "name": "stdout",
     "output_type": "stream",
     "text": [
      "Completed 431 out of 488 steps\n",
      "the main data is of shape (270, 2)\n",
      "shape of current_data2 is (270, 59)\n",
      "shape of df4 is (210, 3541)\n"
     ]
    },
    {
     "name": "stderr",
     "output_type": "stream",
     "text": [
      "C:\\Users\\abhij\\AppData\\Local\\Temp\\ipykernel_18656\\146205851.py:16: SettingWithCopyWarning: \n",
      "A value is trying to be set on a copy of a slice from a DataFrame.\n",
      "Try using .loc[row_indexer,col_indexer] = value instead\n",
      "\n",
      "See the caveats in the documentation: https://pandas.pydata.org/pandas-docs/stable/user_guide/indexing.html#returning-a-view-versus-a-copy\n",
      "  current_data['Date'] = current_data.index\n"
     ]
    },
    {
     "name": "stdout",
     "output_type": "stream",
     "text": [
      "Completed 432 out of 488 steps\n",
      "the main data is of shape (270, 2)\n",
      "shape of current_data2 is (270, 59)\n",
      "shape of df4 is (210, 3541)\n"
     ]
    },
    {
     "name": "stderr",
     "output_type": "stream",
     "text": [
      "C:\\Users\\abhij\\AppData\\Local\\Temp\\ipykernel_18656\\146205851.py:16: SettingWithCopyWarning: \n",
      "A value is trying to be set on a copy of a slice from a DataFrame.\n",
      "Try using .loc[row_indexer,col_indexer] = value instead\n",
      "\n",
      "See the caveats in the documentation: https://pandas.pydata.org/pandas-docs/stable/user_guide/indexing.html#returning-a-view-versus-a-copy\n",
      "  current_data['Date'] = current_data.index\n"
     ]
    },
    {
     "name": "stdout",
     "output_type": "stream",
     "text": [
      "Completed 433 out of 488 steps\n",
      "the main data is of shape (270, 2)\n",
      "shape of current_data2 is (270, 59)\n",
      "shape of df4 is (210, 3541)\n"
     ]
    },
    {
     "name": "stderr",
     "output_type": "stream",
     "text": [
      "C:\\Users\\abhij\\AppData\\Local\\Temp\\ipykernel_18656\\146205851.py:16: SettingWithCopyWarning: \n",
      "A value is trying to be set on a copy of a slice from a DataFrame.\n",
      "Try using .loc[row_indexer,col_indexer] = value instead\n",
      "\n",
      "See the caveats in the documentation: https://pandas.pydata.org/pandas-docs/stable/user_guide/indexing.html#returning-a-view-versus-a-copy\n",
      "  current_data['Date'] = current_data.index\n"
     ]
    },
    {
     "name": "stdout",
     "output_type": "stream",
     "text": [
      "Completed 434 out of 488 steps\n",
      "the main data is of shape (270, 2)\n",
      "shape of current_data2 is (270, 59)\n",
      "shape of df4 is (210, 3541)\n"
     ]
    },
    {
     "name": "stderr",
     "output_type": "stream",
     "text": [
      "C:\\Users\\abhij\\AppData\\Local\\Temp\\ipykernel_18656\\146205851.py:16: SettingWithCopyWarning: \n",
      "A value is trying to be set on a copy of a slice from a DataFrame.\n",
      "Try using .loc[row_indexer,col_indexer] = value instead\n",
      "\n",
      "See the caveats in the documentation: https://pandas.pydata.org/pandas-docs/stable/user_guide/indexing.html#returning-a-view-versus-a-copy\n",
      "  current_data['Date'] = current_data.index\n"
     ]
    },
    {
     "name": "stdout",
     "output_type": "stream",
     "text": [
      "Completed 435 out of 488 steps\n",
      "the main data is of shape (270, 2)\n",
      "shape of current_data2 is (270, 59)\n",
      "shape of df4 is (210, 3541)\n"
     ]
    },
    {
     "name": "stderr",
     "output_type": "stream",
     "text": [
      "C:\\Users\\abhij\\AppData\\Local\\Temp\\ipykernel_18656\\146205851.py:16: SettingWithCopyWarning: \n",
      "A value is trying to be set on a copy of a slice from a DataFrame.\n",
      "Try using .loc[row_indexer,col_indexer] = value instead\n",
      "\n",
      "See the caveats in the documentation: https://pandas.pydata.org/pandas-docs/stable/user_guide/indexing.html#returning-a-view-versus-a-copy\n",
      "  current_data['Date'] = current_data.index\n"
     ]
    },
    {
     "name": "stdout",
     "output_type": "stream",
     "text": [
      "Completed 436 out of 488 steps\n",
      "the main data is of shape (270, 2)\n",
      "shape of current_data2 is (270, 59)\n",
      "shape of df4 is (210, 3541)\n"
     ]
    },
    {
     "name": "stderr",
     "output_type": "stream",
     "text": [
      "C:\\Users\\abhij\\AppData\\Local\\Temp\\ipykernel_18656\\146205851.py:16: SettingWithCopyWarning: \n",
      "A value is trying to be set on a copy of a slice from a DataFrame.\n",
      "Try using .loc[row_indexer,col_indexer] = value instead\n",
      "\n",
      "See the caveats in the documentation: https://pandas.pydata.org/pandas-docs/stable/user_guide/indexing.html#returning-a-view-versus-a-copy\n",
      "  current_data['Date'] = current_data.index\n"
     ]
    },
    {
     "name": "stdout",
     "output_type": "stream",
     "text": [
      "Completed 437 out of 488 steps\n",
      "the main data is of shape (270, 2)\n",
      "shape of current_data2 is (270, 59)\n",
      "shape of df4 is (210, 3541)\n"
     ]
    },
    {
     "name": "stderr",
     "output_type": "stream",
     "text": [
      "C:\\Users\\abhij\\AppData\\Local\\Temp\\ipykernel_18656\\146205851.py:16: SettingWithCopyWarning: \n",
      "A value is trying to be set on a copy of a slice from a DataFrame.\n",
      "Try using .loc[row_indexer,col_indexer] = value instead\n",
      "\n",
      "See the caveats in the documentation: https://pandas.pydata.org/pandas-docs/stable/user_guide/indexing.html#returning-a-view-versus-a-copy\n",
      "  current_data['Date'] = current_data.index\n"
     ]
    },
    {
     "name": "stdout",
     "output_type": "stream",
     "text": [
      "Completed 438 out of 488 steps\n",
      "the main data is of shape (270, 2)\n",
      "shape of current_data2 is (270, 59)\n",
      "shape of df4 is (210, 3541)\n"
     ]
    },
    {
     "name": "stderr",
     "output_type": "stream",
     "text": [
      "C:\\Users\\abhij\\AppData\\Local\\Temp\\ipykernel_18656\\146205851.py:16: SettingWithCopyWarning: \n",
      "A value is trying to be set on a copy of a slice from a DataFrame.\n",
      "Try using .loc[row_indexer,col_indexer] = value instead\n",
      "\n",
      "See the caveats in the documentation: https://pandas.pydata.org/pandas-docs/stable/user_guide/indexing.html#returning-a-view-versus-a-copy\n",
      "  current_data['Date'] = current_data.index\n"
     ]
    },
    {
     "name": "stdout",
     "output_type": "stream",
     "text": [
      "Completed 439 out of 488 steps\n",
      "the main data is of shape (270, 2)\n",
      "shape of current_data2 is (270, 59)\n",
      "shape of df4 is (210, 3541)\n"
     ]
    },
    {
     "name": "stderr",
     "output_type": "stream",
     "text": [
      "C:\\Users\\abhij\\AppData\\Local\\Temp\\ipykernel_18656\\146205851.py:16: SettingWithCopyWarning: \n",
      "A value is trying to be set on a copy of a slice from a DataFrame.\n",
      "Try using .loc[row_indexer,col_indexer] = value instead\n",
      "\n",
      "See the caveats in the documentation: https://pandas.pydata.org/pandas-docs/stable/user_guide/indexing.html#returning-a-view-versus-a-copy\n",
      "  current_data['Date'] = current_data.index\n"
     ]
    },
    {
     "name": "stdout",
     "output_type": "stream",
     "text": [
      "Completed 440 out of 488 steps\n",
      "the main data is of shape (270, 2)\n",
      "shape of current_data2 is (270, 59)\n",
      "shape of df4 is (210, 3541)\n"
     ]
    },
    {
     "name": "stderr",
     "output_type": "stream",
     "text": [
      "C:\\Users\\abhij\\AppData\\Local\\Temp\\ipykernel_18656\\146205851.py:16: SettingWithCopyWarning: \n",
      "A value is trying to be set on a copy of a slice from a DataFrame.\n",
      "Try using .loc[row_indexer,col_indexer] = value instead\n",
      "\n",
      "See the caveats in the documentation: https://pandas.pydata.org/pandas-docs/stable/user_guide/indexing.html#returning-a-view-versus-a-copy\n",
      "  current_data['Date'] = current_data.index\n"
     ]
    },
    {
     "name": "stdout",
     "output_type": "stream",
     "text": [
      "Completed 441 out of 488 steps\n",
      "the main data is of shape (270, 2)\n",
      "shape of current_data2 is (270, 59)\n",
      "shape of df4 is (210, 3541)\n"
     ]
    },
    {
     "name": "stderr",
     "output_type": "stream",
     "text": [
      "C:\\Users\\abhij\\AppData\\Local\\Temp\\ipykernel_18656\\146205851.py:16: SettingWithCopyWarning: \n",
      "A value is trying to be set on a copy of a slice from a DataFrame.\n",
      "Try using .loc[row_indexer,col_indexer] = value instead\n",
      "\n",
      "See the caveats in the documentation: https://pandas.pydata.org/pandas-docs/stable/user_guide/indexing.html#returning-a-view-versus-a-copy\n",
      "  current_data['Date'] = current_data.index\n"
     ]
    },
    {
     "name": "stdout",
     "output_type": "stream",
     "text": [
      "Completed 442 out of 488 steps\n",
      "the main data is of shape (270, 2)\n",
      "shape of current_data2 is (270, 59)\n",
      "shape of df4 is (210, 3541)\n"
     ]
    },
    {
     "name": "stderr",
     "output_type": "stream",
     "text": [
      "C:\\Users\\abhij\\AppData\\Local\\Temp\\ipykernel_18656\\146205851.py:16: SettingWithCopyWarning: \n",
      "A value is trying to be set on a copy of a slice from a DataFrame.\n",
      "Try using .loc[row_indexer,col_indexer] = value instead\n",
      "\n",
      "See the caveats in the documentation: https://pandas.pydata.org/pandas-docs/stable/user_guide/indexing.html#returning-a-view-versus-a-copy\n",
      "  current_data['Date'] = current_data.index\n"
     ]
    },
    {
     "name": "stdout",
     "output_type": "stream",
     "text": [
      "Completed 443 out of 488 steps\n",
      "the main data is of shape (270, 2)\n",
      "shape of current_data2 is (270, 59)\n",
      "shape of df4 is (210, 3541)\n"
     ]
    },
    {
     "name": "stderr",
     "output_type": "stream",
     "text": [
      "C:\\Users\\abhij\\AppData\\Local\\Temp\\ipykernel_18656\\146205851.py:16: SettingWithCopyWarning: \n",
      "A value is trying to be set on a copy of a slice from a DataFrame.\n",
      "Try using .loc[row_indexer,col_indexer] = value instead\n",
      "\n",
      "See the caveats in the documentation: https://pandas.pydata.org/pandas-docs/stable/user_guide/indexing.html#returning-a-view-versus-a-copy\n",
      "  current_data['Date'] = current_data.index\n"
     ]
    },
    {
     "name": "stdout",
     "output_type": "stream",
     "text": [
      "Completed 444 out of 488 steps\n",
      "the main data is of shape (270, 2)\n",
      "shape of current_data2 is (270, 59)\n",
      "shape of df4 is (210, 3541)\n"
     ]
    },
    {
     "name": "stderr",
     "output_type": "stream",
     "text": [
      "C:\\Users\\abhij\\AppData\\Local\\Temp\\ipykernel_18656\\146205851.py:16: SettingWithCopyWarning: \n",
      "A value is trying to be set on a copy of a slice from a DataFrame.\n",
      "Try using .loc[row_indexer,col_indexer] = value instead\n",
      "\n",
      "See the caveats in the documentation: https://pandas.pydata.org/pandas-docs/stable/user_guide/indexing.html#returning-a-view-versus-a-copy\n",
      "  current_data['Date'] = current_data.index\n"
     ]
    },
    {
     "name": "stdout",
     "output_type": "stream",
     "text": [
      "Completed 445 out of 488 steps\n",
      "the main data is of shape (270, 2)\n",
      "shape of current_data2 is (270, 59)\n",
      "shape of df4 is (210, 3541)\n"
     ]
    },
    {
     "name": "stderr",
     "output_type": "stream",
     "text": [
      "C:\\Users\\abhij\\AppData\\Local\\Temp\\ipykernel_18656\\146205851.py:16: SettingWithCopyWarning: \n",
      "A value is trying to be set on a copy of a slice from a DataFrame.\n",
      "Try using .loc[row_indexer,col_indexer] = value instead\n",
      "\n",
      "See the caveats in the documentation: https://pandas.pydata.org/pandas-docs/stable/user_guide/indexing.html#returning-a-view-versus-a-copy\n",
      "  current_data['Date'] = current_data.index\n"
     ]
    },
    {
     "name": "stdout",
     "output_type": "stream",
     "text": [
      "Completed 446 out of 488 steps\n",
      "the main data is of shape (270, 2)\n",
      "shape of current_data2 is (270, 59)\n",
      "shape of df4 is (210, 3541)\n"
     ]
    },
    {
     "name": "stderr",
     "output_type": "stream",
     "text": [
      "C:\\Users\\abhij\\AppData\\Local\\Temp\\ipykernel_18656\\146205851.py:16: SettingWithCopyWarning: \n",
      "A value is trying to be set on a copy of a slice from a DataFrame.\n",
      "Try using .loc[row_indexer,col_indexer] = value instead\n",
      "\n",
      "See the caveats in the documentation: https://pandas.pydata.org/pandas-docs/stable/user_guide/indexing.html#returning-a-view-versus-a-copy\n",
      "  current_data['Date'] = current_data.index\n"
     ]
    },
    {
     "name": "stdout",
     "output_type": "stream",
     "text": [
      "Completed 447 out of 488 steps\n",
      "the main data is of shape (270, 2)\n",
      "shape of current_data2 is (270, 59)\n",
      "shape of df4 is (210, 3541)\n"
     ]
    },
    {
     "name": "stderr",
     "output_type": "stream",
     "text": [
      "C:\\Users\\abhij\\AppData\\Local\\Temp\\ipykernel_18656\\146205851.py:16: SettingWithCopyWarning: \n",
      "A value is trying to be set on a copy of a slice from a DataFrame.\n",
      "Try using .loc[row_indexer,col_indexer] = value instead\n",
      "\n",
      "See the caveats in the documentation: https://pandas.pydata.org/pandas-docs/stable/user_guide/indexing.html#returning-a-view-versus-a-copy\n",
      "  current_data['Date'] = current_data.index\n"
     ]
    },
    {
     "name": "stdout",
     "output_type": "stream",
     "text": [
      "Completed 448 out of 488 steps\n",
      "the main data is of shape (270, 2)\n",
      "shape of current_data2 is (270, 59)\n",
      "shape of df4 is (210, 3541)\n"
     ]
    },
    {
     "name": "stderr",
     "output_type": "stream",
     "text": [
      "C:\\Users\\abhij\\AppData\\Local\\Temp\\ipykernel_18656\\146205851.py:16: SettingWithCopyWarning: \n",
      "A value is trying to be set on a copy of a slice from a DataFrame.\n",
      "Try using .loc[row_indexer,col_indexer] = value instead\n",
      "\n",
      "See the caveats in the documentation: https://pandas.pydata.org/pandas-docs/stable/user_guide/indexing.html#returning-a-view-versus-a-copy\n",
      "  current_data['Date'] = current_data.index\n"
     ]
    },
    {
     "name": "stdout",
     "output_type": "stream",
     "text": [
      "Completed 449 out of 488 steps\n",
      "the main data is of shape (270, 2)\n",
      "shape of current_data2 is (270, 59)\n",
      "shape of df4 is (210, 3541)\n"
     ]
    },
    {
     "name": "stderr",
     "output_type": "stream",
     "text": [
      "C:\\Users\\abhij\\AppData\\Local\\Temp\\ipykernel_18656\\146205851.py:16: SettingWithCopyWarning: \n",
      "A value is trying to be set on a copy of a slice from a DataFrame.\n",
      "Try using .loc[row_indexer,col_indexer] = value instead\n",
      "\n",
      "See the caveats in the documentation: https://pandas.pydata.org/pandas-docs/stable/user_guide/indexing.html#returning-a-view-versus-a-copy\n",
      "  current_data['Date'] = current_data.index\n"
     ]
    },
    {
     "name": "stdout",
     "output_type": "stream",
     "text": [
      "Completed 450 out of 488 steps\n",
      "the main data is of shape (270, 2)\n",
      "shape of current_data2 is (270, 59)\n",
      "shape of df4 is (210, 3541)\n"
     ]
    },
    {
     "name": "stderr",
     "output_type": "stream",
     "text": [
      "C:\\Users\\abhij\\AppData\\Local\\Temp\\ipykernel_18656\\146205851.py:16: SettingWithCopyWarning: \n",
      "A value is trying to be set on a copy of a slice from a DataFrame.\n",
      "Try using .loc[row_indexer,col_indexer] = value instead\n",
      "\n",
      "See the caveats in the documentation: https://pandas.pydata.org/pandas-docs/stable/user_guide/indexing.html#returning-a-view-versus-a-copy\n",
      "  current_data['Date'] = current_data.index\n"
     ]
    },
    {
     "name": "stdout",
     "output_type": "stream",
     "text": [
      "Completed 451 out of 488 steps\n",
      "the main data is of shape (270, 2)\n",
      "shape of current_data2 is (270, 59)\n",
      "shape of df4 is (210, 3541)\n"
     ]
    },
    {
     "name": "stderr",
     "output_type": "stream",
     "text": [
      "C:\\Users\\abhij\\AppData\\Local\\Temp\\ipykernel_18656\\146205851.py:16: SettingWithCopyWarning: \n",
      "A value is trying to be set on a copy of a slice from a DataFrame.\n",
      "Try using .loc[row_indexer,col_indexer] = value instead\n",
      "\n",
      "See the caveats in the documentation: https://pandas.pydata.org/pandas-docs/stable/user_guide/indexing.html#returning-a-view-versus-a-copy\n",
      "  current_data['Date'] = current_data.index\n"
     ]
    },
    {
     "name": "stdout",
     "output_type": "stream",
     "text": [
      "Completed 452 out of 488 steps\n",
      "the main data is of shape (270, 2)\n",
      "shape of current_data2 is (270, 59)\n",
      "shape of df4 is (210, 3541)\n"
     ]
    },
    {
     "name": "stderr",
     "output_type": "stream",
     "text": [
      "C:\\Users\\abhij\\AppData\\Local\\Temp\\ipykernel_18656\\146205851.py:16: SettingWithCopyWarning: \n",
      "A value is trying to be set on a copy of a slice from a DataFrame.\n",
      "Try using .loc[row_indexer,col_indexer] = value instead\n",
      "\n",
      "See the caveats in the documentation: https://pandas.pydata.org/pandas-docs/stable/user_guide/indexing.html#returning-a-view-versus-a-copy\n",
      "  current_data['Date'] = current_data.index\n"
     ]
    },
    {
     "name": "stdout",
     "output_type": "stream",
     "text": [
      "Completed 453 out of 488 steps\n",
      "the main data is of shape (270, 2)\n",
      "shape of current_data2 is (270, 59)\n",
      "shape of df4 is (210, 3541)\n"
     ]
    },
    {
     "name": "stderr",
     "output_type": "stream",
     "text": [
      "C:\\Users\\abhij\\AppData\\Local\\Temp\\ipykernel_18656\\146205851.py:16: SettingWithCopyWarning: \n",
      "A value is trying to be set on a copy of a slice from a DataFrame.\n",
      "Try using .loc[row_indexer,col_indexer] = value instead\n",
      "\n",
      "See the caveats in the documentation: https://pandas.pydata.org/pandas-docs/stable/user_guide/indexing.html#returning-a-view-versus-a-copy\n",
      "  current_data['Date'] = current_data.index\n"
     ]
    },
    {
     "name": "stdout",
     "output_type": "stream",
     "text": [
      "Completed 454 out of 488 steps\n",
      "the main data is of shape (270, 2)\n",
      "shape of current_data2 is (270, 59)\n",
      "shape of df4 is (210, 3541)\n"
     ]
    },
    {
     "name": "stderr",
     "output_type": "stream",
     "text": [
      "C:\\Users\\abhij\\AppData\\Local\\Temp\\ipykernel_18656\\146205851.py:16: SettingWithCopyWarning: \n",
      "A value is trying to be set on a copy of a slice from a DataFrame.\n",
      "Try using .loc[row_indexer,col_indexer] = value instead\n",
      "\n",
      "See the caveats in the documentation: https://pandas.pydata.org/pandas-docs/stable/user_guide/indexing.html#returning-a-view-versus-a-copy\n",
      "  current_data['Date'] = current_data.index\n"
     ]
    },
    {
     "name": "stdout",
     "output_type": "stream",
     "text": [
      "Completed 455 out of 488 steps\n",
      "the main data is of shape (270, 2)\n",
      "shape of current_data2 is (270, 59)\n",
      "shape of df4 is (210, 3541)\n"
     ]
    },
    {
     "name": "stderr",
     "output_type": "stream",
     "text": [
      "C:\\Users\\abhij\\AppData\\Local\\Temp\\ipykernel_18656\\146205851.py:16: SettingWithCopyWarning: \n",
      "A value is trying to be set on a copy of a slice from a DataFrame.\n",
      "Try using .loc[row_indexer,col_indexer] = value instead\n",
      "\n",
      "See the caveats in the documentation: https://pandas.pydata.org/pandas-docs/stable/user_guide/indexing.html#returning-a-view-versus-a-copy\n",
      "  current_data['Date'] = current_data.index\n"
     ]
    },
    {
     "name": "stdout",
     "output_type": "stream",
     "text": [
      "Completed 456 out of 488 steps\n",
      "the main data is of shape (270, 2)\n",
      "shape of current_data2 is (270, 59)\n",
      "shape of df4 is (210, 3541)\n"
     ]
    },
    {
     "name": "stderr",
     "output_type": "stream",
     "text": [
      "C:\\Users\\abhij\\AppData\\Local\\Temp\\ipykernel_18656\\146205851.py:16: SettingWithCopyWarning: \n",
      "A value is trying to be set on a copy of a slice from a DataFrame.\n",
      "Try using .loc[row_indexer,col_indexer] = value instead\n",
      "\n",
      "See the caveats in the documentation: https://pandas.pydata.org/pandas-docs/stable/user_guide/indexing.html#returning-a-view-versus-a-copy\n",
      "  current_data['Date'] = current_data.index\n"
     ]
    },
    {
     "name": "stdout",
     "output_type": "stream",
     "text": [
      "Completed 457 out of 488 steps\n",
      "the main data is of shape (270, 2)\n",
      "shape of current_data2 is (270, 59)\n",
      "shape of df4 is (210, 3541)\n"
     ]
    },
    {
     "name": "stderr",
     "output_type": "stream",
     "text": [
      "C:\\Users\\abhij\\AppData\\Local\\Temp\\ipykernel_18656\\146205851.py:16: SettingWithCopyWarning: \n",
      "A value is trying to be set on a copy of a slice from a DataFrame.\n",
      "Try using .loc[row_indexer,col_indexer] = value instead\n",
      "\n",
      "See the caveats in the documentation: https://pandas.pydata.org/pandas-docs/stable/user_guide/indexing.html#returning-a-view-versus-a-copy\n",
      "  current_data['Date'] = current_data.index\n"
     ]
    },
    {
     "name": "stdout",
     "output_type": "stream",
     "text": [
      "Completed 458 out of 488 steps\n",
      "the main data is of shape (270, 2)\n",
      "shape of current_data2 is (270, 59)\n",
      "shape of df4 is (210, 3541)\n"
     ]
    },
    {
     "name": "stderr",
     "output_type": "stream",
     "text": [
      "C:\\Users\\abhij\\AppData\\Local\\Temp\\ipykernel_18656\\146205851.py:16: SettingWithCopyWarning: \n",
      "A value is trying to be set on a copy of a slice from a DataFrame.\n",
      "Try using .loc[row_indexer,col_indexer] = value instead\n",
      "\n",
      "See the caveats in the documentation: https://pandas.pydata.org/pandas-docs/stable/user_guide/indexing.html#returning-a-view-versus-a-copy\n",
      "  current_data['Date'] = current_data.index\n"
     ]
    },
    {
     "name": "stdout",
     "output_type": "stream",
     "text": [
      "Completed 459 out of 488 steps\n",
      "the main data is of shape (270, 2)\n",
      "shape of current_data2 is (270, 59)\n",
      "shape of df4 is (210, 3541)\n"
     ]
    },
    {
     "name": "stderr",
     "output_type": "stream",
     "text": [
      "C:\\Users\\abhij\\AppData\\Local\\Temp\\ipykernel_18656\\146205851.py:16: SettingWithCopyWarning: \n",
      "A value is trying to be set on a copy of a slice from a DataFrame.\n",
      "Try using .loc[row_indexer,col_indexer] = value instead\n",
      "\n",
      "See the caveats in the documentation: https://pandas.pydata.org/pandas-docs/stable/user_guide/indexing.html#returning-a-view-versus-a-copy\n",
      "  current_data['Date'] = current_data.index\n"
     ]
    },
    {
     "name": "stdout",
     "output_type": "stream",
     "text": [
      "Completed 460 out of 488 steps\n",
      "the main data is of shape (270, 2)\n",
      "shape of current_data2 is (270, 59)\n",
      "shape of df4 is (210, 3541)\n"
     ]
    },
    {
     "name": "stderr",
     "output_type": "stream",
     "text": [
      "C:\\Users\\abhij\\AppData\\Local\\Temp\\ipykernel_18656\\146205851.py:16: SettingWithCopyWarning: \n",
      "A value is trying to be set on a copy of a slice from a DataFrame.\n",
      "Try using .loc[row_indexer,col_indexer] = value instead\n",
      "\n",
      "See the caveats in the documentation: https://pandas.pydata.org/pandas-docs/stable/user_guide/indexing.html#returning-a-view-versus-a-copy\n",
      "  current_data['Date'] = current_data.index\n"
     ]
    },
    {
     "name": "stdout",
     "output_type": "stream",
     "text": [
      "Completed 461 out of 488 steps\n",
      "the main data is of shape (270, 2)\n",
      "shape of current_data2 is (270, 59)\n",
      "shape of df4 is (210, 3541)\n"
     ]
    },
    {
     "name": "stderr",
     "output_type": "stream",
     "text": [
      "C:\\Users\\abhij\\AppData\\Local\\Temp\\ipykernel_18656\\146205851.py:16: SettingWithCopyWarning: \n",
      "A value is trying to be set on a copy of a slice from a DataFrame.\n",
      "Try using .loc[row_indexer,col_indexer] = value instead\n",
      "\n",
      "See the caveats in the documentation: https://pandas.pydata.org/pandas-docs/stable/user_guide/indexing.html#returning-a-view-versus-a-copy\n",
      "  current_data['Date'] = current_data.index\n"
     ]
    },
    {
     "name": "stdout",
     "output_type": "stream",
     "text": [
      "Completed 462 out of 488 steps\n",
      "the main data is of shape (270, 2)\n",
      "shape of current_data2 is (270, 59)\n",
      "shape of df4 is (210, 3541)\n"
     ]
    },
    {
     "name": "stderr",
     "output_type": "stream",
     "text": [
      "C:\\Users\\abhij\\AppData\\Local\\Temp\\ipykernel_18656\\146205851.py:16: SettingWithCopyWarning: \n",
      "A value is trying to be set on a copy of a slice from a DataFrame.\n",
      "Try using .loc[row_indexer,col_indexer] = value instead\n",
      "\n",
      "See the caveats in the documentation: https://pandas.pydata.org/pandas-docs/stable/user_guide/indexing.html#returning-a-view-versus-a-copy\n",
      "  current_data['Date'] = current_data.index\n"
     ]
    },
    {
     "name": "stdout",
     "output_type": "stream",
     "text": [
      "Completed 463 out of 488 steps\n",
      "the main data is of shape (270, 2)\n",
      "shape of current_data2 is (270, 59)\n",
      "shape of df4 is (210, 3541)\n"
     ]
    },
    {
     "name": "stderr",
     "output_type": "stream",
     "text": [
      "C:\\Users\\abhij\\AppData\\Local\\Temp\\ipykernel_18656\\146205851.py:16: SettingWithCopyWarning: \n",
      "A value is trying to be set on a copy of a slice from a DataFrame.\n",
      "Try using .loc[row_indexer,col_indexer] = value instead\n",
      "\n",
      "See the caveats in the documentation: https://pandas.pydata.org/pandas-docs/stable/user_guide/indexing.html#returning-a-view-versus-a-copy\n",
      "  current_data['Date'] = current_data.index\n"
     ]
    },
    {
     "name": "stdout",
     "output_type": "stream",
     "text": [
      "Completed 464 out of 488 steps\n",
      "the main data is of shape (270, 2)\n",
      "shape of current_data2 is (270, 59)\n",
      "shape of df4 is (210, 3541)\n"
     ]
    },
    {
     "name": "stderr",
     "output_type": "stream",
     "text": [
      "C:\\Users\\abhij\\AppData\\Local\\Temp\\ipykernel_18656\\146205851.py:16: SettingWithCopyWarning: \n",
      "A value is trying to be set on a copy of a slice from a DataFrame.\n",
      "Try using .loc[row_indexer,col_indexer] = value instead\n",
      "\n",
      "See the caveats in the documentation: https://pandas.pydata.org/pandas-docs/stable/user_guide/indexing.html#returning-a-view-versus-a-copy\n",
      "  current_data['Date'] = current_data.index\n"
     ]
    },
    {
     "name": "stdout",
     "output_type": "stream",
     "text": [
      "Completed 465 out of 488 steps\n",
      "the main data is of shape (270, 2)\n",
      "shape of current_data2 is (270, 59)\n",
      "shape of df4 is (210, 3541)\n"
     ]
    },
    {
     "name": "stderr",
     "output_type": "stream",
     "text": [
      "C:\\Users\\abhij\\AppData\\Local\\Temp\\ipykernel_18656\\146205851.py:16: SettingWithCopyWarning: \n",
      "A value is trying to be set on a copy of a slice from a DataFrame.\n",
      "Try using .loc[row_indexer,col_indexer] = value instead\n",
      "\n",
      "See the caveats in the documentation: https://pandas.pydata.org/pandas-docs/stable/user_guide/indexing.html#returning-a-view-versus-a-copy\n",
      "  current_data['Date'] = current_data.index\n"
     ]
    },
    {
     "name": "stdout",
     "output_type": "stream",
     "text": [
      "Completed 466 out of 488 steps\n",
      "the main data is of shape (270, 2)\n",
      "shape of current_data2 is (270, 59)\n",
      "shape of df4 is (210, 3541)\n"
     ]
    },
    {
     "name": "stderr",
     "output_type": "stream",
     "text": [
      "C:\\Users\\abhij\\AppData\\Local\\Temp\\ipykernel_18656\\146205851.py:16: SettingWithCopyWarning: \n",
      "A value is trying to be set on a copy of a slice from a DataFrame.\n",
      "Try using .loc[row_indexer,col_indexer] = value instead\n",
      "\n",
      "See the caveats in the documentation: https://pandas.pydata.org/pandas-docs/stable/user_guide/indexing.html#returning-a-view-versus-a-copy\n",
      "  current_data['Date'] = current_data.index\n"
     ]
    },
    {
     "name": "stdout",
     "output_type": "stream",
     "text": [
      "Completed 467 out of 488 steps\n",
      "the main data is of shape (270, 2)\n",
      "shape of current_data2 is (270, 59)\n",
      "shape of df4 is (210, 3541)\n"
     ]
    },
    {
     "name": "stderr",
     "output_type": "stream",
     "text": [
      "C:\\Users\\abhij\\AppData\\Local\\Temp\\ipykernel_18656\\146205851.py:16: SettingWithCopyWarning: \n",
      "A value is trying to be set on a copy of a slice from a DataFrame.\n",
      "Try using .loc[row_indexer,col_indexer] = value instead\n",
      "\n",
      "See the caveats in the documentation: https://pandas.pydata.org/pandas-docs/stable/user_guide/indexing.html#returning-a-view-versus-a-copy\n",
      "  current_data['Date'] = current_data.index\n"
     ]
    },
    {
     "name": "stdout",
     "output_type": "stream",
     "text": [
      "Completed 468 out of 488 steps\n",
      "the main data is of shape (270, 2)\n",
      "shape of current_data2 is (270, 59)\n",
      "shape of df4 is (210, 3541)\n"
     ]
    },
    {
     "name": "stderr",
     "output_type": "stream",
     "text": [
      "C:\\Users\\abhij\\AppData\\Local\\Temp\\ipykernel_18656\\146205851.py:16: SettingWithCopyWarning: \n",
      "A value is trying to be set on a copy of a slice from a DataFrame.\n",
      "Try using .loc[row_indexer,col_indexer] = value instead\n",
      "\n",
      "See the caveats in the documentation: https://pandas.pydata.org/pandas-docs/stable/user_guide/indexing.html#returning-a-view-versus-a-copy\n",
      "  current_data['Date'] = current_data.index\n"
     ]
    },
    {
     "name": "stdout",
     "output_type": "stream",
     "text": [
      "Completed 469 out of 488 steps\n",
      "the main data is of shape (270, 2)\n",
      "shape of current_data2 is (270, 59)\n",
      "shape of df4 is (210, 3541)\n"
     ]
    },
    {
     "name": "stderr",
     "output_type": "stream",
     "text": [
      "C:\\Users\\abhij\\AppData\\Local\\Temp\\ipykernel_18656\\146205851.py:16: SettingWithCopyWarning: \n",
      "A value is trying to be set on a copy of a slice from a DataFrame.\n",
      "Try using .loc[row_indexer,col_indexer] = value instead\n",
      "\n",
      "See the caveats in the documentation: https://pandas.pydata.org/pandas-docs/stable/user_guide/indexing.html#returning-a-view-versus-a-copy\n",
      "  current_data['Date'] = current_data.index\n"
     ]
    },
    {
     "name": "stdout",
     "output_type": "stream",
     "text": [
      "Completed 470 out of 488 steps\n",
      "the main data is of shape (270, 2)\n",
      "shape of current_data2 is (270, 59)\n",
      "shape of df4 is (210, 3541)\n"
     ]
    },
    {
     "name": "stderr",
     "output_type": "stream",
     "text": [
      "C:\\Users\\abhij\\AppData\\Local\\Temp\\ipykernel_18656\\146205851.py:16: SettingWithCopyWarning: \n",
      "A value is trying to be set on a copy of a slice from a DataFrame.\n",
      "Try using .loc[row_indexer,col_indexer] = value instead\n",
      "\n",
      "See the caveats in the documentation: https://pandas.pydata.org/pandas-docs/stable/user_guide/indexing.html#returning-a-view-versus-a-copy\n",
      "  current_data['Date'] = current_data.index\n"
     ]
    },
    {
     "name": "stdout",
     "output_type": "stream",
     "text": [
      "Completed 471 out of 488 steps\n",
      "the main data is of shape (270, 2)\n",
      "shape of current_data2 is (270, 59)\n",
      "shape of df4 is (210, 3541)\n"
     ]
    },
    {
     "name": "stderr",
     "output_type": "stream",
     "text": [
      "C:\\Users\\abhij\\AppData\\Local\\Temp\\ipykernel_18656\\146205851.py:16: SettingWithCopyWarning: \n",
      "A value is trying to be set on a copy of a slice from a DataFrame.\n",
      "Try using .loc[row_indexer,col_indexer] = value instead\n",
      "\n",
      "See the caveats in the documentation: https://pandas.pydata.org/pandas-docs/stable/user_guide/indexing.html#returning-a-view-versus-a-copy\n",
      "  current_data['Date'] = current_data.index\n"
     ]
    },
    {
     "name": "stdout",
     "output_type": "stream",
     "text": [
      "Completed 472 out of 488 steps\n",
      "the main data is of shape (270, 2)\n",
      "shape of current_data2 is (270, 59)\n",
      "shape of df4 is (210, 3541)\n"
     ]
    },
    {
     "name": "stderr",
     "output_type": "stream",
     "text": [
      "C:\\Users\\abhij\\AppData\\Local\\Temp\\ipykernel_18656\\146205851.py:16: SettingWithCopyWarning: \n",
      "A value is trying to be set on a copy of a slice from a DataFrame.\n",
      "Try using .loc[row_indexer,col_indexer] = value instead\n",
      "\n",
      "See the caveats in the documentation: https://pandas.pydata.org/pandas-docs/stable/user_guide/indexing.html#returning-a-view-versus-a-copy\n",
      "  current_data['Date'] = current_data.index\n"
     ]
    },
    {
     "name": "stdout",
     "output_type": "stream",
     "text": [
      "Completed 473 out of 488 steps\n",
      "the main data is of shape (270, 2)\n",
      "shape of current_data2 is (270, 59)\n",
      "shape of df4 is (210, 3541)\n"
     ]
    },
    {
     "name": "stderr",
     "output_type": "stream",
     "text": [
      "C:\\Users\\abhij\\AppData\\Local\\Temp\\ipykernel_18656\\146205851.py:16: SettingWithCopyWarning: \n",
      "A value is trying to be set on a copy of a slice from a DataFrame.\n",
      "Try using .loc[row_indexer,col_indexer] = value instead\n",
      "\n",
      "See the caveats in the documentation: https://pandas.pydata.org/pandas-docs/stable/user_guide/indexing.html#returning-a-view-versus-a-copy\n",
      "  current_data['Date'] = current_data.index\n"
     ]
    },
    {
     "name": "stdout",
     "output_type": "stream",
     "text": [
      "Completed 474 out of 488 steps\n",
      "the main data is of shape (270, 2)\n",
      "shape of current_data2 is (270, 59)\n",
      "shape of df4 is (210, 3541)\n"
     ]
    },
    {
     "name": "stderr",
     "output_type": "stream",
     "text": [
      "C:\\Users\\abhij\\AppData\\Local\\Temp\\ipykernel_18656\\146205851.py:16: SettingWithCopyWarning: \n",
      "A value is trying to be set on a copy of a slice from a DataFrame.\n",
      "Try using .loc[row_indexer,col_indexer] = value instead\n",
      "\n",
      "See the caveats in the documentation: https://pandas.pydata.org/pandas-docs/stable/user_guide/indexing.html#returning-a-view-versus-a-copy\n",
      "  current_data['Date'] = current_data.index\n"
     ]
    },
    {
     "name": "stdout",
     "output_type": "stream",
     "text": [
      "Completed 475 out of 488 steps\n",
      "the main data is of shape (270, 2)\n",
      "shape of current_data2 is (270, 59)\n",
      "shape of df4 is (210, 3541)\n"
     ]
    },
    {
     "name": "stderr",
     "output_type": "stream",
     "text": [
      "C:\\Users\\abhij\\AppData\\Local\\Temp\\ipykernel_18656\\146205851.py:16: SettingWithCopyWarning: \n",
      "A value is trying to be set on a copy of a slice from a DataFrame.\n",
      "Try using .loc[row_indexer,col_indexer] = value instead\n",
      "\n",
      "See the caveats in the documentation: https://pandas.pydata.org/pandas-docs/stable/user_guide/indexing.html#returning-a-view-versus-a-copy\n",
      "  current_data['Date'] = current_data.index\n"
     ]
    },
    {
     "name": "stdout",
     "output_type": "stream",
     "text": [
      "Completed 476 out of 488 steps\n",
      "the main data is of shape (270, 2)\n",
      "shape of current_data2 is (270, 59)\n",
      "shape of df4 is (210, 3541)\n"
     ]
    },
    {
     "name": "stderr",
     "output_type": "stream",
     "text": [
      "C:\\Users\\abhij\\AppData\\Local\\Temp\\ipykernel_18656\\146205851.py:16: SettingWithCopyWarning: \n",
      "A value is trying to be set on a copy of a slice from a DataFrame.\n",
      "Try using .loc[row_indexer,col_indexer] = value instead\n",
      "\n",
      "See the caveats in the documentation: https://pandas.pydata.org/pandas-docs/stable/user_guide/indexing.html#returning-a-view-versus-a-copy\n",
      "  current_data['Date'] = current_data.index\n"
     ]
    },
    {
     "name": "stdout",
     "output_type": "stream",
     "text": [
      "Completed 477 out of 488 steps\n",
      "the main data is of shape (270, 2)\n",
      "shape of current_data2 is (270, 59)\n",
      "shape of df4 is (210, 3541)\n"
     ]
    },
    {
     "name": "stderr",
     "output_type": "stream",
     "text": [
      "C:\\Users\\abhij\\AppData\\Local\\Temp\\ipykernel_18656\\146205851.py:16: SettingWithCopyWarning: \n",
      "A value is trying to be set on a copy of a slice from a DataFrame.\n",
      "Try using .loc[row_indexer,col_indexer] = value instead\n",
      "\n",
      "See the caveats in the documentation: https://pandas.pydata.org/pandas-docs/stable/user_guide/indexing.html#returning-a-view-versus-a-copy\n",
      "  current_data['Date'] = current_data.index\n"
     ]
    },
    {
     "name": "stdout",
     "output_type": "stream",
     "text": [
      "Completed 478 out of 488 steps\n",
      "the main data is of shape (270, 2)\n",
      "shape of current_data2 is (270, 59)\n",
      "shape of df4 is (210, 3541)\n"
     ]
    },
    {
     "name": "stderr",
     "output_type": "stream",
     "text": [
      "C:\\Users\\abhij\\AppData\\Local\\Temp\\ipykernel_18656\\146205851.py:16: SettingWithCopyWarning: \n",
      "A value is trying to be set on a copy of a slice from a DataFrame.\n",
      "Try using .loc[row_indexer,col_indexer] = value instead\n",
      "\n",
      "See the caveats in the documentation: https://pandas.pydata.org/pandas-docs/stable/user_guide/indexing.html#returning-a-view-versus-a-copy\n",
      "  current_data['Date'] = current_data.index\n"
     ]
    },
    {
     "name": "stdout",
     "output_type": "stream",
     "text": [
      "Completed 479 out of 488 steps\n",
      "the main data is of shape (270, 2)\n",
      "shape of current_data2 is (270, 59)\n",
      "shape of df4 is (210, 3541)\n"
     ]
    },
    {
     "name": "stderr",
     "output_type": "stream",
     "text": [
      "C:\\Users\\abhij\\AppData\\Local\\Temp\\ipykernel_18656\\146205851.py:16: SettingWithCopyWarning: \n",
      "A value is trying to be set on a copy of a slice from a DataFrame.\n",
      "Try using .loc[row_indexer,col_indexer] = value instead\n",
      "\n",
      "See the caveats in the documentation: https://pandas.pydata.org/pandas-docs/stable/user_guide/indexing.html#returning-a-view-versus-a-copy\n",
      "  current_data['Date'] = current_data.index\n"
     ]
    },
    {
     "name": "stdout",
     "output_type": "stream",
     "text": [
      "Completed 480 out of 488 steps\n",
      "the main data is of shape (270, 2)\n",
      "shape of current_data2 is (270, 59)\n",
      "shape of df4 is (210, 3541)\n"
     ]
    },
    {
     "name": "stderr",
     "output_type": "stream",
     "text": [
      "C:\\Users\\abhij\\AppData\\Local\\Temp\\ipykernel_18656\\146205851.py:16: SettingWithCopyWarning: \n",
      "A value is trying to be set on a copy of a slice from a DataFrame.\n",
      "Try using .loc[row_indexer,col_indexer] = value instead\n",
      "\n",
      "See the caveats in the documentation: https://pandas.pydata.org/pandas-docs/stable/user_guide/indexing.html#returning-a-view-versus-a-copy\n",
      "  current_data['Date'] = current_data.index\n"
     ]
    },
    {
     "name": "stdout",
     "output_type": "stream",
     "text": [
      "Completed 481 out of 488 steps\n",
      "the main data is of shape (270, 2)\n",
      "shape of current_data2 is (270, 59)\n",
      "shape of df4 is (210, 3541)\n"
     ]
    },
    {
     "name": "stderr",
     "output_type": "stream",
     "text": [
      "C:\\Users\\abhij\\AppData\\Local\\Temp\\ipykernel_18656\\146205851.py:16: SettingWithCopyWarning: \n",
      "A value is trying to be set on a copy of a slice from a DataFrame.\n",
      "Try using .loc[row_indexer,col_indexer] = value instead\n",
      "\n",
      "See the caveats in the documentation: https://pandas.pydata.org/pandas-docs/stable/user_guide/indexing.html#returning-a-view-versus-a-copy\n",
      "  current_data['Date'] = current_data.index\n"
     ]
    },
    {
     "name": "stdout",
     "output_type": "stream",
     "text": [
      "Completed 482 out of 488 steps\n",
      "the main data is of shape (270, 2)\n",
      "shape of current_data2 is (270, 59)\n",
      "shape of df4 is (210, 3541)\n"
     ]
    },
    {
     "name": "stderr",
     "output_type": "stream",
     "text": [
      "C:\\Users\\abhij\\AppData\\Local\\Temp\\ipykernel_18656\\146205851.py:16: SettingWithCopyWarning: \n",
      "A value is trying to be set on a copy of a slice from a DataFrame.\n",
      "Try using .loc[row_indexer,col_indexer] = value instead\n",
      "\n",
      "See the caveats in the documentation: https://pandas.pydata.org/pandas-docs/stable/user_guide/indexing.html#returning-a-view-versus-a-copy\n",
      "  current_data['Date'] = current_data.index\n"
     ]
    },
    {
     "name": "stdout",
     "output_type": "stream",
     "text": [
      "Completed 483 out of 488 steps\n",
      "the main data is of shape (270, 2)\n",
      "shape of current_data2 is (270, 59)\n",
      "shape of df4 is (210, 3541)\n"
     ]
    },
    {
     "name": "stderr",
     "output_type": "stream",
     "text": [
      "C:\\Users\\abhij\\AppData\\Local\\Temp\\ipykernel_18656\\146205851.py:16: SettingWithCopyWarning: \n",
      "A value is trying to be set on a copy of a slice from a DataFrame.\n",
      "Try using .loc[row_indexer,col_indexer] = value instead\n",
      "\n",
      "See the caveats in the documentation: https://pandas.pydata.org/pandas-docs/stable/user_guide/indexing.html#returning-a-view-versus-a-copy\n",
      "  current_data['Date'] = current_data.index\n"
     ]
    },
    {
     "name": "stdout",
     "output_type": "stream",
     "text": [
      "Completed 484 out of 488 steps\n",
      "the main data is of shape (270, 2)\n",
      "shape of current_data2 is (270, 59)\n",
      "shape of df4 is (210, 3541)\n"
     ]
    },
    {
     "name": "stderr",
     "output_type": "stream",
     "text": [
      "C:\\Users\\abhij\\AppData\\Local\\Temp\\ipykernel_18656\\146205851.py:16: SettingWithCopyWarning: \n",
      "A value is trying to be set on a copy of a slice from a DataFrame.\n",
      "Try using .loc[row_indexer,col_indexer] = value instead\n",
      "\n",
      "See the caveats in the documentation: https://pandas.pydata.org/pandas-docs/stable/user_guide/indexing.html#returning-a-view-versus-a-copy\n",
      "  current_data['Date'] = current_data.index\n"
     ]
    },
    {
     "name": "stdout",
     "output_type": "stream",
     "text": [
      "Completed 485 out of 488 steps\n",
      "the main data is of shape (270, 2)\n",
      "shape of current_data2 is (270, 59)\n",
      "shape of df4 is (210, 3541)\n"
     ]
    },
    {
     "name": "stderr",
     "output_type": "stream",
     "text": [
      "C:\\Users\\abhij\\AppData\\Local\\Temp\\ipykernel_18656\\146205851.py:16: SettingWithCopyWarning: \n",
      "A value is trying to be set on a copy of a slice from a DataFrame.\n",
      "Try using .loc[row_indexer,col_indexer] = value instead\n",
      "\n",
      "See the caveats in the documentation: https://pandas.pydata.org/pandas-docs/stable/user_guide/indexing.html#returning-a-view-versus-a-copy\n",
      "  current_data['Date'] = current_data.index\n"
     ]
    },
    {
     "name": "stdout",
     "output_type": "stream",
     "text": [
      "Completed 486 out of 488 steps\n",
      "the main data is of shape (270, 2)\n",
      "shape of current_data2 is (270, 59)\n",
      "shape of df4 is (210, 3541)\n"
     ]
    },
    {
     "name": "stderr",
     "output_type": "stream",
     "text": [
      "C:\\Users\\abhij\\AppData\\Local\\Temp\\ipykernel_18656\\146205851.py:16: SettingWithCopyWarning: \n",
      "A value is trying to be set on a copy of a slice from a DataFrame.\n",
      "Try using .loc[row_indexer,col_indexer] = value instead\n",
      "\n",
      "See the caveats in the documentation: https://pandas.pydata.org/pandas-docs/stable/user_guide/indexing.html#returning-a-view-versus-a-copy\n",
      "  current_data['Date'] = current_data.index\n"
     ]
    },
    {
     "name": "stdout",
     "output_type": "stream",
     "text": [
      "Completed 487 out of 488 steps\n",
      "the main data is of shape (270, 2)\n",
      "shape of current_data2 is (270, 59)\n",
      "shape of df4 is (210, 3541)\n"
     ]
    },
    {
     "name": "stderr",
     "output_type": "stream",
     "text": [
      "C:\\Users\\abhij\\AppData\\Local\\Temp\\ipykernel_18656\\146205851.py:16: SettingWithCopyWarning: \n",
      "A value is trying to be set on a copy of a slice from a DataFrame.\n",
      "Try using .loc[row_indexer,col_indexer] = value instead\n",
      "\n",
      "See the caveats in the documentation: https://pandas.pydata.org/pandas-docs/stable/user_guide/indexing.html#returning-a-view-versus-a-copy\n",
      "  current_data['Date'] = current_data.index\n"
     ]
    }
   ],
   "source": [
    "y_all =[]\n",
    "count = 0 \n",
    "days_shape = 60\n",
    "pred_days = 15\n",
    "reward = 10\n",
    "#X_big =[]\n",
    "\n",
    "for company in nse_companies:\n",
    "    \n",
    "    print('Completed',count,'out of',len(nse_companies),'steps')\n",
    "    count = count+1\n",
    "    \n",
    "    current_data = data[company]\n",
    "    current_data = current_data.iloc[::-1]  #reversing rows to get current date first\n",
    "    \n",
    "    current_data['Date'] = current_data.index\n",
    "    current_data = current_data.reset_index(drop=True)\n",
    "    current_data = current_data[['Date','Close']]\n",
    "    print('the main data is of shape',current_data.shape) \n",
    "    \n",
    "    current_data_05 = current_data\n",
    "    current_data_05['Xth'] = current_data['Close']\n",
    "    \n",
    "    c1 = []\n",
    "    for i in range(1,days_shape):\n",
    "        current_data_05['temp'] = current_data_05.loc[:,'Xth'] - current_data_05.loc[:,'Xth'].shift(-1*i)\n",
    "        current_data_05['temp'] = current_data_05.loc[:,'temp']/current_data_05.loc[:,'Xth']*100\n",
    "        c1.append(current_data_05['temp'].to_numpy())\n",
    "    #print('the lenth of concatenated stuff is',len(c1[0]))\n",
    "    \n",
    "    current_data1 = pd.DataFrame(c1)\n",
    "    current_data2 = current_data1.transpose()    \n",
    "    print('shape of current_data2 is',current_data2.shape )   \n",
    "\n",
    "    \n",
    "    c2 =current_data2.to_numpy()\n",
    "    \n",
    "    c3 =[]\n",
    "\n",
    "    for i in range(int(len(c2)-days_shape)):\n",
    "        c6 = np.concatenate((c2[i:i+days_shape]))\n",
    "        c3.append(c6)\n",
    "\n",
    "    aes = current_data.shape[0]\n",
    "    \n",
    "    df4 = pd.DataFrame(c3)\n",
    "    df4['Xth'] = current_data_05.iloc[:aes]['Xth']\n",
    "    print('shape of df4 is',df4.shape )\n",
    "    #### y value % is what i am coding next\n",
    "    df4['Pred_Xth_%'] = df4['Xth'].shift(-1*pred_days)\n",
    "    df4['Pred_Xth_%']  = (df4['Pred_Xth_%']-df4['Xth']) /df4['Xth']*100\n",
    "    \n",
    "     \n",
    "    df5 = df4.dropna()\n",
    "    \n",
    "    df6 = df5.copy()\n",
    "    \n",
    "\n",
    " ####################################################           \n",
    "            \n",
    "    df7 = df6.drop('Xth',axis=1)     \n",
    "\n",
    "    \n",
    "    X1 = df7\n",
    "\n",
    "    import numpy as np\n",
    "     \n",
    "        \n",
    "    X_1 = np.asarray(X1).astype(np.float32)\n",
    "    \n",
    "    if count == 1:\n",
    "        X_big = X_1\n",
    "        #print(X_big)\n",
    "    else:\n",
    "        X_big = np.concatenate((X_big, X_1), 0)\n",
    "        \n",
    "    #X_big.append(X_1)\n"
   ]
  },
  {
   "cell_type": "code",
   "execution_count": 6,
   "id": "190b9ef8",
   "metadata": {
    "scrolled": true
   },
   "outputs": [
    {
     "data": {
      "text/plain": [
       "74171"
      ]
     },
     "execution_count": 6,
     "metadata": {},
     "output_type": "execute_result"
    }
   ],
   "source": [
    "len(X_big)"
   ]
  },
  {
   "cell_type": "code",
   "execution_count": 7,
   "id": "71fe271e",
   "metadata": {},
   "outputs": [],
   "source": [
    "X_big_one = pd.DataFrame(X_big)"
   ]
  },
  {
   "cell_type": "code",
   "execution_count": 8,
   "id": "f8f667d9",
   "metadata": {},
   "outputs": [
    {
     "data": {
      "text/html": [
       "<div>\n",
       "<style scoped>\n",
       "    .dataframe tbody tr th:only-of-type {\n",
       "        vertical-align: middle;\n",
       "    }\n",
       "\n",
       "    .dataframe tbody tr th {\n",
       "        vertical-align: top;\n",
       "    }\n",
       "\n",
       "    .dataframe thead th {\n",
       "        text-align: right;\n",
       "    }\n",
       "</style>\n",
       "<table border=\"1\" class=\"dataframe\">\n",
       "  <thead>\n",
       "    <tr style=\"text-align: right;\">\n",
       "      <th></th>\n",
       "      <th>0</th>\n",
       "      <th>1</th>\n",
       "      <th>2</th>\n",
       "      <th>3</th>\n",
       "      <th>4</th>\n",
       "      <th>5</th>\n",
       "      <th>6</th>\n",
       "      <th>7</th>\n",
       "      <th>8</th>\n",
       "      <th>9</th>\n",
       "      <th>...</th>\n",
       "      <th>3531</th>\n",
       "      <th>3532</th>\n",
       "      <th>3533</th>\n",
       "      <th>3534</th>\n",
       "      <th>3535</th>\n",
       "      <th>3536</th>\n",
       "      <th>3537</th>\n",
       "      <th>3538</th>\n",
       "      <th>3539</th>\n",
       "      <th>3540</th>\n",
       "    </tr>\n",
       "  </thead>\n",
       "  <tbody>\n",
       "    <tr>\n",
       "      <th>0</th>\n",
       "      <td>-0.700247</td>\n",
       "      <td>-1.990173</td>\n",
       "      <td>-0.122850</td>\n",
       "      <td>0.884522</td>\n",
       "      <td>-5.196558</td>\n",
       "      <td>-5.024573</td>\n",
       "      <td>-4.570026</td>\n",
       "      <td>-6.191649</td>\n",
       "      <td>-8.058965</td>\n",
       "      <td>-5.270273</td>\n",
       "      <td>...</td>\n",
       "      <td>7.153076</td>\n",
       "      <td>7.798154</td>\n",
       "      <td>4.536348</td>\n",
       "      <td>5.423332</td>\n",
       "      <td>3.951097</td>\n",
       "      <td>4.258029</td>\n",
       "      <td>6.541813</td>\n",
       "      <td>7.847573</td>\n",
       "      <td>6.141243</td>\n",
       "      <td>5.319409</td>\n",
       "    </tr>\n",
       "    <tr>\n",
       "      <th>1</th>\n",
       "      <td>-1.280956</td>\n",
       "      <td>0.573382</td>\n",
       "      <td>1.573749</td>\n",
       "      <td>-4.465045</td>\n",
       "      <td>-4.294255</td>\n",
       "      <td>-3.842869</td>\n",
       "      <td>-5.453216</td>\n",
       "      <td>-7.307547</td>\n",
       "      <td>-4.538247</td>\n",
       "      <td>-2.964498</td>\n",
       "      <td>...</td>\n",
       "      <td>8.646461</td>\n",
       "      <td>5.414666</td>\n",
       "      <td>6.293489</td>\n",
       "      <td>4.834799</td>\n",
       "      <td>5.138908</td>\n",
       "      <td>7.401679</td>\n",
       "      <td>8.695426</td>\n",
       "      <td>7.004795</td>\n",
       "      <td>7.455802</td>\n",
       "      <td>4.696840</td>\n",
       "    </tr>\n",
       "    <tr>\n",
       "      <th>2</th>\n",
       "      <td>1.830886</td>\n",
       "      <td>2.818601</td>\n",
       "      <td>-3.143818</td>\n",
       "      <td>-2.975188</td>\n",
       "      <td>-2.529511</td>\n",
       "      <td>-4.119491</td>\n",
       "      <td>-5.950369</td>\n",
       "      <td>-3.216094</td>\n",
       "      <td>-1.662249</td>\n",
       "      <td>-3.758132</td>\n",
       "      <td>...</td>\n",
       "      <td>1.640178</td>\n",
       "      <td>2.554071</td>\n",
       "      <td>1.037171</td>\n",
       "      <td>1.353416</td>\n",
       "      <td>3.706484</td>\n",
       "      <td>5.051858</td>\n",
       "      <td>3.293762</td>\n",
       "      <td>3.762768</td>\n",
       "      <td>5.636106</td>\n",
       "      <td>3.493134</td>\n",
       "    </tr>\n",
       "    <tr>\n",
       "      <th>3</th>\n",
       "      <td>1.006136</td>\n",
       "      <td>-5.067483</td>\n",
       "      <td>-4.895709</td>\n",
       "      <td>-4.441719</td>\n",
       "      <td>-6.061353</td>\n",
       "      <td>-7.926377</td>\n",
       "      <td>-5.141107</td>\n",
       "      <td>-3.558282</td>\n",
       "      <td>-5.693254</td>\n",
       "      <td>-7.631903</td>\n",
       "      <td>...</td>\n",
       "      <td>1.198340</td>\n",
       "      <td>-0.339665</td>\n",
       "      <td>-0.019020</td>\n",
       "      <td>2.366786</td>\n",
       "      <td>3.730878</td>\n",
       "      <td>1.948322</td>\n",
       "      <td>2.423852</td>\n",
       "      <td>4.323255</td>\n",
       "      <td>4.141196</td>\n",
       "      <td>5.202457</td>\n",
       "    </tr>\n",
       "    <tr>\n",
       "      <th>4</th>\n",
       "      <td>-6.135350</td>\n",
       "      <td>-5.961829</td>\n",
       "      <td>-5.503226</td>\n",
       "      <td>-7.139320</td>\n",
       "      <td>-9.023300</td>\n",
       "      <td>-6.209722</td>\n",
       "      <td>-4.610810</td>\n",
       "      <td>-6.767481</td>\n",
       "      <td>-8.725834</td>\n",
       "      <td>-8.068919</td>\n",
       "      <td>...</td>\n",
       "      <td>-0.816342</td>\n",
       "      <td>-0.494174</td>\n",
       "      <td>1.902966</td>\n",
       "      <td>3.273539</td>\n",
       "      <td>1.482514</td>\n",
       "      <td>1.960304</td>\n",
       "      <td>3.868729</td>\n",
       "      <td>3.685806</td>\n",
       "      <td>4.491222</td>\n",
       "      <td>-0.483387</td>\n",
       "    </tr>\n",
       "    <tr>\n",
       "      <th>...</th>\n",
       "      <td>...</td>\n",
       "      <td>...</td>\n",
       "      <td>...</td>\n",
       "      <td>...</td>\n",
       "      <td>...</td>\n",
       "      <td>...</td>\n",
       "      <td>...</td>\n",
       "      <td>...</td>\n",
       "      <td>...</td>\n",
       "      <td>...</td>\n",
       "      <td>...</td>\n",
       "      <td>...</td>\n",
       "      <td>...</td>\n",
       "      <td>...</td>\n",
       "      <td>...</td>\n",
       "      <td>...</td>\n",
       "      <td>...</td>\n",
       "      <td>...</td>\n",
       "      <td>...</td>\n",
       "      <td>...</td>\n",
       "      <td>...</td>\n",
       "    </tr>\n",
       "    <tr>\n",
       "      <th>74166</th>\n",
       "      <td>-0.260485</td>\n",
       "      <td>-0.297385</td>\n",
       "      <td>3.141005</td>\n",
       "      <td>3.305978</td>\n",
       "      <td>3.820437</td>\n",
       "      <td>5.565686</td>\n",
       "      <td>6.787788</td>\n",
       "      <td>6.260309</td>\n",
       "      <td>6.603284</td>\n",
       "      <td>7.883996</td>\n",
       "      <td>...</td>\n",
       "      <td>-32.737923</td>\n",
       "      <td>-28.654337</td>\n",
       "      <td>-26.985228</td>\n",
       "      <td>-25.491821</td>\n",
       "      <td>-26.245184</td>\n",
       "      <td>-24.003727</td>\n",
       "      <td>-22.970858</td>\n",
       "      <td>-19.680555</td>\n",
       "      <td>-22.465065</td>\n",
       "      <td>-2.264040</td>\n",
       "    </tr>\n",
       "    <tr>\n",
       "      <th>74167</th>\n",
       "      <td>-0.036805</td>\n",
       "      <td>3.392653</td>\n",
       "      <td>3.557197</td>\n",
       "      <td>4.070319</td>\n",
       "      <td>5.811034</td>\n",
       "      <td>7.029961</td>\n",
       "      <td>6.503852</td>\n",
       "      <td>6.845936</td>\n",
       "      <td>8.123322</td>\n",
       "      <td>8.803152</td>\n",
       "      <td>...</td>\n",
       "      <td>-28.438923</td>\n",
       "      <td>-26.772610</td>\n",
       "      <td>-25.281702</td>\n",
       "      <td>-26.033802</td>\n",
       "      <td>-23.796099</td>\n",
       "      <td>-22.764961</td>\n",
       "      <td>-19.480167</td>\n",
       "      <td>-22.260014</td>\n",
       "      <td>-24.896347</td>\n",
       "      <td>-3.422964</td>\n",
       "    </tr>\n",
       "    <tr>\n",
       "      <th>74168</th>\n",
       "      <td>3.428196</td>\n",
       "      <td>3.592680</td>\n",
       "      <td>4.105613</td>\n",
       "      <td>5.845687</td>\n",
       "      <td>7.064166</td>\n",
       "      <td>6.538250</td>\n",
       "      <td>6.880208</td>\n",
       "      <td>8.157124</td>\n",
       "      <td>8.836704</td>\n",
       "      <td>6.979764</td>\n",
       "      <td>...</td>\n",
       "      <td>-26.779358</td>\n",
       "      <td>-25.288372</td>\n",
       "      <td>-26.040512</td>\n",
       "      <td>-23.802691</td>\n",
       "      <td>-22.771496</td>\n",
       "      <td>-19.486528</td>\n",
       "      <td>-22.266523</td>\n",
       "      <td>-24.902996</td>\n",
       "      <td>-25.450493</td>\n",
       "      <td>-3.462823</td>\n",
       "    </tr>\n",
       "    <tr>\n",
       "      <th>74169</th>\n",
       "      <td>0.170323</td>\n",
       "      <td>0.701465</td>\n",
       "      <td>2.503310</td>\n",
       "      <td>3.765043</td>\n",
       "      <td>3.220458</td>\n",
       "      <td>3.574555</td>\n",
       "      <td>4.896800</td>\n",
       "      <td>5.600505</td>\n",
       "      <td>3.677645</td>\n",
       "      <td>1.402929</td>\n",
       "      <td>...</td>\n",
       "      <td>-22.951935</td>\n",
       "      <td>-23.690050</td>\n",
       "      <td>-21.493958</td>\n",
       "      <td>-20.481995</td>\n",
       "      <td>-17.258286</td>\n",
       "      <td>-19.986439</td>\n",
       "      <td>-22.573746</td>\n",
       "      <td>-23.111032</td>\n",
       "      <td>-23.447481</td>\n",
       "      <td>1.055553</td>\n",
       "    </tr>\n",
       "    <tr>\n",
       "      <th>74170</th>\n",
       "      <td>0.532048</td>\n",
       "      <td>2.336967</td>\n",
       "      <td>3.600853</td>\n",
       "      <td>3.055339</td>\n",
       "      <td>3.410041</td>\n",
       "      <td>4.734541</td>\n",
       "      <td>5.439447</td>\n",
       "      <td>3.513307</td>\n",
       "      <td>1.234709</td>\n",
       "      <td>1.050629</td>\n",
       "      <td>...</td>\n",
       "      <td>-14.247176</td>\n",
       "      <td>-12.218741</td>\n",
       "      <td>-11.284035</td>\n",
       "      <td>-8.306434</td>\n",
       "      <td>-10.826311</td>\n",
       "      <td>-13.216095</td>\n",
       "      <td>-13.712363</td>\n",
       "      <td>-14.023127</td>\n",
       "      <td>-11.129848</td>\n",
       "      <td>1.176339</td>\n",
       "    </tr>\n",
       "  </tbody>\n",
       "</table>\n",
       "<p>74171 rows × 3541 columns</p>\n",
       "</div>"
      ],
      "text/plain": [
       "           0         1         2         3         4         5         6     \\\n",
       "0     -0.700247 -1.990173 -0.122850  0.884522 -5.196558 -5.024573 -4.570026   \n",
       "1     -1.280956  0.573382  1.573749 -4.465045 -4.294255 -3.842869 -5.453216   \n",
       "2      1.830886  2.818601 -3.143818 -2.975188 -2.529511 -4.119491 -5.950369   \n",
       "3      1.006136 -5.067483 -4.895709 -4.441719 -6.061353 -7.926377 -5.141107   \n",
       "4     -6.135350 -5.961829 -5.503226 -7.139320 -9.023300 -6.209722 -4.610810   \n",
       "...         ...       ...       ...       ...       ...       ...       ...   \n",
       "74166 -0.260485 -0.297385  3.141005  3.305978  3.820437  5.565686  6.787788   \n",
       "74167 -0.036805  3.392653  3.557197  4.070319  5.811034  7.029961  6.503852   \n",
       "74168  3.428196  3.592680  4.105613  5.845687  7.064166  6.538250  6.880208   \n",
       "74169  0.170323  0.701465  2.503310  3.765043  3.220458  3.574555  4.896800   \n",
       "74170  0.532048  2.336967  3.600853  3.055339  3.410041  4.734541  5.439447   \n",
       "\n",
       "           7         8         9     ...       3531       3532       3533  \\\n",
       "0     -6.191649 -8.058965 -5.270273  ...   7.153076   7.798154   4.536348   \n",
       "1     -7.307547 -4.538247 -2.964498  ...   8.646461   5.414666   6.293489   \n",
       "2     -3.216094 -1.662249 -3.758132  ...   1.640178   2.554071   1.037171   \n",
       "3     -3.558282 -5.693254 -7.631903  ...   1.198340  -0.339665  -0.019020   \n",
       "4     -6.767481 -8.725834 -8.068919  ...  -0.816342  -0.494174   1.902966   \n",
       "...         ...       ...       ...  ...        ...        ...        ...   \n",
       "74166  6.260309  6.603284  7.883996  ... -32.737923 -28.654337 -26.985228   \n",
       "74167  6.845936  8.123322  8.803152  ... -28.438923 -26.772610 -25.281702   \n",
       "74168  8.157124  8.836704  6.979764  ... -26.779358 -25.288372 -26.040512   \n",
       "74169  5.600505  3.677645  1.402929  ... -22.951935 -23.690050 -21.493958   \n",
       "74170  3.513307  1.234709  1.050629  ... -14.247176 -12.218741 -11.284035   \n",
       "\n",
       "            3534       3535       3536       3537       3538       3539  \\\n",
       "0       5.423332   3.951097   4.258029   6.541813   7.847573   6.141243   \n",
       "1       4.834799   5.138908   7.401679   8.695426   7.004795   7.455802   \n",
       "2       1.353416   3.706484   5.051858   3.293762   3.762768   5.636106   \n",
       "3       2.366786   3.730878   1.948322   2.423852   4.323255   4.141196   \n",
       "4       3.273539   1.482514   1.960304   3.868729   3.685806   4.491222   \n",
       "...          ...        ...        ...        ...        ...        ...   \n",
       "74166 -25.491821 -26.245184 -24.003727 -22.970858 -19.680555 -22.465065   \n",
       "74167 -26.033802 -23.796099 -22.764961 -19.480167 -22.260014 -24.896347   \n",
       "74168 -23.802691 -22.771496 -19.486528 -22.266523 -24.902996 -25.450493   \n",
       "74169 -20.481995 -17.258286 -19.986439 -22.573746 -23.111032 -23.447481   \n",
       "74170  -8.306434 -10.826311 -13.216095 -13.712363 -14.023127 -11.129848   \n",
       "\n",
       "           3540  \n",
       "0      5.319409  \n",
       "1      4.696840  \n",
       "2      3.493134  \n",
       "3      5.202457  \n",
       "4     -0.483387  \n",
       "...         ...  \n",
       "74166 -2.264040  \n",
       "74167 -3.422964  \n",
       "74168 -3.462823  \n",
       "74169  1.055553  \n",
       "74170  1.176339  \n",
       "\n",
       "[74171 rows x 3541 columns]"
      ]
     },
     "execution_count": 8,
     "metadata": {},
     "output_type": "execute_result"
    }
   ],
   "source": [
    "X_big_one"
   ]
  },
  {
   "cell_type": "code",
   "execution_count": 9,
   "id": "aed3e6e3",
   "metadata": {
    "scrolled": true
   },
   "outputs": [
    {
     "data": {
      "text/plain": [
       "0        5.319409\n",
       "1        4.696840\n",
       "2        3.493134\n",
       "3        5.202457\n",
       "4       -0.483387\n",
       "           ...   \n",
       "74166   -2.264040\n",
       "74167   -3.422964\n",
       "74168   -3.462823\n",
       "74169    1.055553\n",
       "74170    1.176339\n",
       "Name: 3540, Length: 74171, dtype: float32"
      ]
     },
     "execution_count": 9,
     "metadata": {},
     "output_type": "execute_result"
    }
   ],
   "source": [
    "reward = 10\n",
    "X_big_one[3540]"
   ]
  },
  {
   "cell_type": "code",
   "execution_count": 10,
   "id": "6d32a8c7",
   "metadata": {
    "scrolled": true
   },
   "outputs": [
    {
     "data": {
      "text/plain": [
       "False    67481\n",
       "True      6690\n",
       "Name: result, dtype: int64"
      ]
     },
     "execution_count": 10,
     "metadata": {},
     "output_type": "execute_result"
    }
   ],
   "source": [
    "X_big_one = X_big_one.assign(result = lambda x: (x[3540]>reward))\n",
    "    \n",
    "X_big_one['result'].value_counts()  "
   ]
  },
  {
   "cell_type": "code",
   "execution_count": 11,
   "id": "5d4792cb",
   "metadata": {},
   "outputs": [],
   "source": [
    "X_big_one03 = X_big_one.copy()\n",
    "X_big_one03 = X_big_one03.drop(3540,axis=1)\n"
   ]
  },
  {
   "cell_type": "code",
   "execution_count": 12,
   "id": "941c6b25",
   "metadata": {
    "scrolled": true
   },
   "outputs": [
    {
     "data": {
      "text/html": [
       "<div>\n",
       "<style scoped>\n",
       "    .dataframe tbody tr th:only-of-type {\n",
       "        vertical-align: middle;\n",
       "    }\n",
       "\n",
       "    .dataframe tbody tr th {\n",
       "        vertical-align: top;\n",
       "    }\n",
       "\n",
       "    .dataframe thead th {\n",
       "        text-align: right;\n",
       "    }\n",
       "</style>\n",
       "<table border=\"1\" class=\"dataframe\">\n",
       "  <thead>\n",
       "    <tr style=\"text-align: right;\">\n",
       "      <th></th>\n",
       "      <th>0</th>\n",
       "      <th>1</th>\n",
       "      <th>2</th>\n",
       "      <th>3</th>\n",
       "      <th>4</th>\n",
       "      <th>5</th>\n",
       "      <th>6</th>\n",
       "      <th>7</th>\n",
       "      <th>8</th>\n",
       "      <th>9</th>\n",
       "      <th>...</th>\n",
       "      <th>3531</th>\n",
       "      <th>3532</th>\n",
       "      <th>3533</th>\n",
       "      <th>3534</th>\n",
       "      <th>3535</th>\n",
       "      <th>3536</th>\n",
       "      <th>3537</th>\n",
       "      <th>3538</th>\n",
       "      <th>3539</th>\n",
       "      <th>result</th>\n",
       "    </tr>\n",
       "  </thead>\n",
       "  <tbody>\n",
       "    <tr>\n",
       "      <th>0</th>\n",
       "      <td>-0.700247</td>\n",
       "      <td>-1.990173</td>\n",
       "      <td>-0.122850</td>\n",
       "      <td>0.884522</td>\n",
       "      <td>-5.196558</td>\n",
       "      <td>-5.024573</td>\n",
       "      <td>-4.570026</td>\n",
       "      <td>-6.191649</td>\n",
       "      <td>-8.058965</td>\n",
       "      <td>-5.270273</td>\n",
       "      <td>...</td>\n",
       "      <td>7.153076</td>\n",
       "      <td>7.798154</td>\n",
       "      <td>4.536348</td>\n",
       "      <td>5.423332</td>\n",
       "      <td>3.951097</td>\n",
       "      <td>4.258029</td>\n",
       "      <td>6.541813</td>\n",
       "      <td>7.847573</td>\n",
       "      <td>6.141243</td>\n",
       "      <td>False</td>\n",
       "    </tr>\n",
       "    <tr>\n",
       "      <th>1</th>\n",
       "      <td>-1.280956</td>\n",
       "      <td>0.573382</td>\n",
       "      <td>1.573749</td>\n",
       "      <td>-4.465045</td>\n",
       "      <td>-4.294255</td>\n",
       "      <td>-3.842869</td>\n",
       "      <td>-5.453216</td>\n",
       "      <td>-7.307547</td>\n",
       "      <td>-4.538247</td>\n",
       "      <td>-2.964498</td>\n",
       "      <td>...</td>\n",
       "      <td>8.646461</td>\n",
       "      <td>5.414666</td>\n",
       "      <td>6.293489</td>\n",
       "      <td>4.834799</td>\n",
       "      <td>5.138908</td>\n",
       "      <td>7.401679</td>\n",
       "      <td>8.695426</td>\n",
       "      <td>7.004795</td>\n",
       "      <td>7.455802</td>\n",
       "      <td>False</td>\n",
       "    </tr>\n",
       "    <tr>\n",
       "      <th>2</th>\n",
       "      <td>1.830886</td>\n",
       "      <td>2.818601</td>\n",
       "      <td>-3.143818</td>\n",
       "      <td>-2.975188</td>\n",
       "      <td>-2.529511</td>\n",
       "      <td>-4.119491</td>\n",
       "      <td>-5.950369</td>\n",
       "      <td>-3.216094</td>\n",
       "      <td>-1.662249</td>\n",
       "      <td>-3.758132</td>\n",
       "      <td>...</td>\n",
       "      <td>1.640178</td>\n",
       "      <td>2.554071</td>\n",
       "      <td>1.037171</td>\n",
       "      <td>1.353416</td>\n",
       "      <td>3.706484</td>\n",
       "      <td>5.051858</td>\n",
       "      <td>3.293762</td>\n",
       "      <td>3.762768</td>\n",
       "      <td>5.636106</td>\n",
       "      <td>False</td>\n",
       "    </tr>\n",
       "    <tr>\n",
       "      <th>3</th>\n",
       "      <td>1.006136</td>\n",
       "      <td>-5.067483</td>\n",
       "      <td>-4.895709</td>\n",
       "      <td>-4.441719</td>\n",
       "      <td>-6.061353</td>\n",
       "      <td>-7.926377</td>\n",
       "      <td>-5.141107</td>\n",
       "      <td>-3.558282</td>\n",
       "      <td>-5.693254</td>\n",
       "      <td>-7.631903</td>\n",
       "      <td>...</td>\n",
       "      <td>1.198340</td>\n",
       "      <td>-0.339665</td>\n",
       "      <td>-0.019020</td>\n",
       "      <td>2.366786</td>\n",
       "      <td>3.730878</td>\n",
       "      <td>1.948322</td>\n",
       "      <td>2.423852</td>\n",
       "      <td>4.323255</td>\n",
       "      <td>4.141196</td>\n",
       "      <td>False</td>\n",
       "    </tr>\n",
       "    <tr>\n",
       "      <th>4</th>\n",
       "      <td>-6.135350</td>\n",
       "      <td>-5.961829</td>\n",
       "      <td>-5.503226</td>\n",
       "      <td>-7.139320</td>\n",
       "      <td>-9.023300</td>\n",
       "      <td>-6.209722</td>\n",
       "      <td>-4.610810</td>\n",
       "      <td>-6.767481</td>\n",
       "      <td>-8.725834</td>\n",
       "      <td>-8.068919</td>\n",
       "      <td>...</td>\n",
       "      <td>-0.816342</td>\n",
       "      <td>-0.494174</td>\n",
       "      <td>1.902966</td>\n",
       "      <td>3.273539</td>\n",
       "      <td>1.482514</td>\n",
       "      <td>1.960304</td>\n",
       "      <td>3.868729</td>\n",
       "      <td>3.685806</td>\n",
       "      <td>4.491222</td>\n",
       "      <td>False</td>\n",
       "    </tr>\n",
       "    <tr>\n",
       "      <th>...</th>\n",
       "      <td>...</td>\n",
       "      <td>...</td>\n",
       "      <td>...</td>\n",
       "      <td>...</td>\n",
       "      <td>...</td>\n",
       "      <td>...</td>\n",
       "      <td>...</td>\n",
       "      <td>...</td>\n",
       "      <td>...</td>\n",
       "      <td>...</td>\n",
       "      <td>...</td>\n",
       "      <td>...</td>\n",
       "      <td>...</td>\n",
       "      <td>...</td>\n",
       "      <td>...</td>\n",
       "      <td>...</td>\n",
       "      <td>...</td>\n",
       "      <td>...</td>\n",
       "      <td>...</td>\n",
       "      <td>...</td>\n",
       "      <td>...</td>\n",
       "    </tr>\n",
       "    <tr>\n",
       "      <th>74166</th>\n",
       "      <td>-0.260485</td>\n",
       "      <td>-0.297385</td>\n",
       "      <td>3.141005</td>\n",
       "      <td>3.305978</td>\n",
       "      <td>3.820437</td>\n",
       "      <td>5.565686</td>\n",
       "      <td>6.787788</td>\n",
       "      <td>6.260309</td>\n",
       "      <td>6.603284</td>\n",
       "      <td>7.883996</td>\n",
       "      <td>...</td>\n",
       "      <td>-32.737923</td>\n",
       "      <td>-28.654337</td>\n",
       "      <td>-26.985228</td>\n",
       "      <td>-25.491821</td>\n",
       "      <td>-26.245184</td>\n",
       "      <td>-24.003727</td>\n",
       "      <td>-22.970858</td>\n",
       "      <td>-19.680555</td>\n",
       "      <td>-22.465065</td>\n",
       "      <td>False</td>\n",
       "    </tr>\n",
       "    <tr>\n",
       "      <th>74167</th>\n",
       "      <td>-0.036805</td>\n",
       "      <td>3.392653</td>\n",
       "      <td>3.557197</td>\n",
       "      <td>4.070319</td>\n",
       "      <td>5.811034</td>\n",
       "      <td>7.029961</td>\n",
       "      <td>6.503852</td>\n",
       "      <td>6.845936</td>\n",
       "      <td>8.123322</td>\n",
       "      <td>8.803152</td>\n",
       "      <td>...</td>\n",
       "      <td>-28.438923</td>\n",
       "      <td>-26.772610</td>\n",
       "      <td>-25.281702</td>\n",
       "      <td>-26.033802</td>\n",
       "      <td>-23.796099</td>\n",
       "      <td>-22.764961</td>\n",
       "      <td>-19.480167</td>\n",
       "      <td>-22.260014</td>\n",
       "      <td>-24.896347</td>\n",
       "      <td>False</td>\n",
       "    </tr>\n",
       "    <tr>\n",
       "      <th>74168</th>\n",
       "      <td>3.428196</td>\n",
       "      <td>3.592680</td>\n",
       "      <td>4.105613</td>\n",
       "      <td>5.845687</td>\n",
       "      <td>7.064166</td>\n",
       "      <td>6.538250</td>\n",
       "      <td>6.880208</td>\n",
       "      <td>8.157124</td>\n",
       "      <td>8.836704</td>\n",
       "      <td>6.979764</td>\n",
       "      <td>...</td>\n",
       "      <td>-26.779358</td>\n",
       "      <td>-25.288372</td>\n",
       "      <td>-26.040512</td>\n",
       "      <td>-23.802691</td>\n",
       "      <td>-22.771496</td>\n",
       "      <td>-19.486528</td>\n",
       "      <td>-22.266523</td>\n",
       "      <td>-24.902996</td>\n",
       "      <td>-25.450493</td>\n",
       "      <td>False</td>\n",
       "    </tr>\n",
       "    <tr>\n",
       "      <th>74169</th>\n",
       "      <td>0.170323</td>\n",
       "      <td>0.701465</td>\n",
       "      <td>2.503310</td>\n",
       "      <td>3.765043</td>\n",
       "      <td>3.220458</td>\n",
       "      <td>3.574555</td>\n",
       "      <td>4.896800</td>\n",
       "      <td>5.600505</td>\n",
       "      <td>3.677645</td>\n",
       "      <td>1.402929</td>\n",
       "      <td>...</td>\n",
       "      <td>-22.951935</td>\n",
       "      <td>-23.690050</td>\n",
       "      <td>-21.493958</td>\n",
       "      <td>-20.481995</td>\n",
       "      <td>-17.258286</td>\n",
       "      <td>-19.986439</td>\n",
       "      <td>-22.573746</td>\n",
       "      <td>-23.111032</td>\n",
       "      <td>-23.447481</td>\n",
       "      <td>False</td>\n",
       "    </tr>\n",
       "    <tr>\n",
       "      <th>74170</th>\n",
       "      <td>0.532048</td>\n",
       "      <td>2.336967</td>\n",
       "      <td>3.600853</td>\n",
       "      <td>3.055339</td>\n",
       "      <td>3.410041</td>\n",
       "      <td>4.734541</td>\n",
       "      <td>5.439447</td>\n",
       "      <td>3.513307</td>\n",
       "      <td>1.234709</td>\n",
       "      <td>1.050629</td>\n",
       "      <td>...</td>\n",
       "      <td>-14.247176</td>\n",
       "      <td>-12.218741</td>\n",
       "      <td>-11.284035</td>\n",
       "      <td>-8.306434</td>\n",
       "      <td>-10.826311</td>\n",
       "      <td>-13.216095</td>\n",
       "      <td>-13.712363</td>\n",
       "      <td>-14.023127</td>\n",
       "      <td>-11.129848</td>\n",
       "      <td>False</td>\n",
       "    </tr>\n",
       "  </tbody>\n",
       "</table>\n",
       "<p>74171 rows × 3541 columns</p>\n",
       "</div>"
      ],
      "text/plain": [
       "              0         1         2         3         4         5         6  \\\n",
       "0     -0.700247 -1.990173 -0.122850  0.884522 -5.196558 -5.024573 -4.570026   \n",
       "1     -1.280956  0.573382  1.573749 -4.465045 -4.294255 -3.842869 -5.453216   \n",
       "2      1.830886  2.818601 -3.143818 -2.975188 -2.529511 -4.119491 -5.950369   \n",
       "3      1.006136 -5.067483 -4.895709 -4.441719 -6.061353 -7.926377 -5.141107   \n",
       "4     -6.135350 -5.961829 -5.503226 -7.139320 -9.023300 -6.209722 -4.610810   \n",
       "...         ...       ...       ...       ...       ...       ...       ...   \n",
       "74166 -0.260485 -0.297385  3.141005  3.305978  3.820437  5.565686  6.787788   \n",
       "74167 -0.036805  3.392653  3.557197  4.070319  5.811034  7.029961  6.503852   \n",
       "74168  3.428196  3.592680  4.105613  5.845687  7.064166  6.538250  6.880208   \n",
       "74169  0.170323  0.701465  2.503310  3.765043  3.220458  3.574555  4.896800   \n",
       "74170  0.532048  2.336967  3.600853  3.055339  3.410041  4.734541  5.439447   \n",
       "\n",
       "              7         8         9  ...       3531       3532       3533  \\\n",
       "0     -6.191649 -8.058965 -5.270273  ...   7.153076   7.798154   4.536348   \n",
       "1     -7.307547 -4.538247 -2.964498  ...   8.646461   5.414666   6.293489   \n",
       "2     -3.216094 -1.662249 -3.758132  ...   1.640178   2.554071   1.037171   \n",
       "3     -3.558282 -5.693254 -7.631903  ...   1.198340  -0.339665  -0.019020   \n",
       "4     -6.767481 -8.725834 -8.068919  ...  -0.816342  -0.494174   1.902966   \n",
       "...         ...       ...       ...  ...        ...        ...        ...   \n",
       "74166  6.260309  6.603284  7.883996  ... -32.737923 -28.654337 -26.985228   \n",
       "74167  6.845936  8.123322  8.803152  ... -28.438923 -26.772610 -25.281702   \n",
       "74168  8.157124  8.836704  6.979764  ... -26.779358 -25.288372 -26.040512   \n",
       "74169  5.600505  3.677645  1.402929  ... -22.951935 -23.690050 -21.493958   \n",
       "74170  3.513307  1.234709  1.050629  ... -14.247176 -12.218741 -11.284035   \n",
       "\n",
       "            3534       3535       3536       3537       3538       3539  \\\n",
       "0       5.423332   3.951097   4.258029   6.541813   7.847573   6.141243   \n",
       "1       4.834799   5.138908   7.401679   8.695426   7.004795   7.455802   \n",
       "2       1.353416   3.706484   5.051858   3.293762   3.762768   5.636106   \n",
       "3       2.366786   3.730878   1.948322   2.423852   4.323255   4.141196   \n",
       "4       3.273539   1.482514   1.960304   3.868729   3.685806   4.491222   \n",
       "...          ...        ...        ...        ...        ...        ...   \n",
       "74166 -25.491821 -26.245184 -24.003727 -22.970858 -19.680555 -22.465065   \n",
       "74167 -26.033802 -23.796099 -22.764961 -19.480167 -22.260014 -24.896347   \n",
       "74168 -23.802691 -22.771496 -19.486528 -22.266523 -24.902996 -25.450493   \n",
       "74169 -20.481995 -17.258286 -19.986439 -22.573746 -23.111032 -23.447481   \n",
       "74170  -8.306434 -10.826311 -13.216095 -13.712363 -14.023127 -11.129848   \n",
       "\n",
       "       result  \n",
       "0       False  \n",
       "1       False  \n",
       "2       False  \n",
       "3       False  \n",
       "4       False  \n",
       "...       ...  \n",
       "74166   False  \n",
       "74167   False  \n",
       "74168   False  \n",
       "74169   False  \n",
       "74170   False  \n",
       "\n",
       "[74171 rows x 3541 columns]"
      ]
     },
     "execution_count": 12,
     "metadata": {},
     "output_type": "execute_result"
    }
   ],
   "source": [
    "X_big_one03"
   ]
  },
  {
   "cell_type": "code",
   "execution_count": 13,
   "id": "a39e466e",
   "metadata": {},
   "outputs": [
    {
     "name": "stderr",
     "output_type": "stream",
     "text": [
      "C:\\Users\\abhij\\AppData\\Local\\Temp\\ipykernel_18656\\3911959229.py:3: SettingWithCopyWarning: \n",
      "A value is trying to be set on a copy of a slice from a DataFrame\n",
      "\n",
      "See the caveats in the documentation: https://pandas.pydata.org/pandas-docs/stable/user_guide/indexing.html#returning-a-view-versus-a-copy\n",
      "  X_big_one03['result'][i] = 0\n"
     ]
    }
   ],
   "source": [
    "for i in range(len(X_big_one03.result)):\n",
    "    if X_big_one03['result'][i] == False:\n",
    "       X_big_one03['result'][i] = 0\n",
    "    else:\n",
    "       X_big_one03['result'][i] = 1\n",
    "        "
   ]
  },
  {
   "cell_type": "code",
   "execution_count": 14,
   "id": "3f02a374",
   "metadata": {
    "scrolled": true
   },
   "outputs": [
    {
     "data": {
      "text/html": [
       "<div>\n",
       "<style scoped>\n",
       "    .dataframe tbody tr th:only-of-type {\n",
       "        vertical-align: middle;\n",
       "    }\n",
       "\n",
       "    .dataframe tbody tr th {\n",
       "        vertical-align: top;\n",
       "    }\n",
       "\n",
       "    .dataframe thead th {\n",
       "        text-align: right;\n",
       "    }\n",
       "</style>\n",
       "<table border=\"1\" class=\"dataframe\">\n",
       "  <thead>\n",
       "    <tr style=\"text-align: right;\">\n",
       "      <th></th>\n",
       "      <th>0</th>\n",
       "      <th>1</th>\n",
       "      <th>2</th>\n",
       "      <th>3</th>\n",
       "      <th>4</th>\n",
       "      <th>5</th>\n",
       "      <th>6</th>\n",
       "      <th>7</th>\n",
       "      <th>8</th>\n",
       "      <th>9</th>\n",
       "      <th>...</th>\n",
       "      <th>3531</th>\n",
       "      <th>3532</th>\n",
       "      <th>3533</th>\n",
       "      <th>3534</th>\n",
       "      <th>3535</th>\n",
       "      <th>3536</th>\n",
       "      <th>3537</th>\n",
       "      <th>3538</th>\n",
       "      <th>3539</th>\n",
       "      <th>result</th>\n",
       "    </tr>\n",
       "  </thead>\n",
       "  <tbody>\n",
       "    <tr>\n",
       "      <th>0</th>\n",
       "      <td>-0.700247</td>\n",
       "      <td>-1.990173</td>\n",
       "      <td>-0.122850</td>\n",
       "      <td>0.884522</td>\n",
       "      <td>-5.196558</td>\n",
       "      <td>-5.024573</td>\n",
       "      <td>-4.570026</td>\n",
       "      <td>-6.191649</td>\n",
       "      <td>-8.058965</td>\n",
       "      <td>-5.270273</td>\n",
       "      <td>...</td>\n",
       "      <td>7.153076</td>\n",
       "      <td>7.798154</td>\n",
       "      <td>4.536348</td>\n",
       "      <td>5.423332</td>\n",
       "      <td>3.951097</td>\n",
       "      <td>4.258029</td>\n",
       "      <td>6.541813</td>\n",
       "      <td>7.847573</td>\n",
       "      <td>6.141243</td>\n",
       "      <td>0</td>\n",
       "    </tr>\n",
       "    <tr>\n",
       "      <th>1</th>\n",
       "      <td>-1.280956</td>\n",
       "      <td>0.573382</td>\n",
       "      <td>1.573749</td>\n",
       "      <td>-4.465045</td>\n",
       "      <td>-4.294255</td>\n",
       "      <td>-3.842869</td>\n",
       "      <td>-5.453216</td>\n",
       "      <td>-7.307547</td>\n",
       "      <td>-4.538247</td>\n",
       "      <td>-2.964498</td>\n",
       "      <td>...</td>\n",
       "      <td>8.646461</td>\n",
       "      <td>5.414666</td>\n",
       "      <td>6.293489</td>\n",
       "      <td>4.834799</td>\n",
       "      <td>5.138908</td>\n",
       "      <td>7.401679</td>\n",
       "      <td>8.695426</td>\n",
       "      <td>7.004795</td>\n",
       "      <td>7.455802</td>\n",
       "      <td>0</td>\n",
       "    </tr>\n",
       "    <tr>\n",
       "      <th>2</th>\n",
       "      <td>1.830886</td>\n",
       "      <td>2.818601</td>\n",
       "      <td>-3.143818</td>\n",
       "      <td>-2.975188</td>\n",
       "      <td>-2.529511</td>\n",
       "      <td>-4.119491</td>\n",
       "      <td>-5.950369</td>\n",
       "      <td>-3.216094</td>\n",
       "      <td>-1.662249</td>\n",
       "      <td>-3.758132</td>\n",
       "      <td>...</td>\n",
       "      <td>1.640178</td>\n",
       "      <td>2.554071</td>\n",
       "      <td>1.037171</td>\n",
       "      <td>1.353416</td>\n",
       "      <td>3.706484</td>\n",
       "      <td>5.051858</td>\n",
       "      <td>3.293762</td>\n",
       "      <td>3.762768</td>\n",
       "      <td>5.636106</td>\n",
       "      <td>0</td>\n",
       "    </tr>\n",
       "    <tr>\n",
       "      <th>3</th>\n",
       "      <td>1.006136</td>\n",
       "      <td>-5.067483</td>\n",
       "      <td>-4.895709</td>\n",
       "      <td>-4.441719</td>\n",
       "      <td>-6.061353</td>\n",
       "      <td>-7.926377</td>\n",
       "      <td>-5.141107</td>\n",
       "      <td>-3.558282</td>\n",
       "      <td>-5.693254</td>\n",
       "      <td>-7.631903</td>\n",
       "      <td>...</td>\n",
       "      <td>1.198340</td>\n",
       "      <td>-0.339665</td>\n",
       "      <td>-0.019020</td>\n",
       "      <td>2.366786</td>\n",
       "      <td>3.730878</td>\n",
       "      <td>1.948322</td>\n",
       "      <td>2.423852</td>\n",
       "      <td>4.323255</td>\n",
       "      <td>4.141196</td>\n",
       "      <td>0</td>\n",
       "    </tr>\n",
       "    <tr>\n",
       "      <th>4</th>\n",
       "      <td>-6.135350</td>\n",
       "      <td>-5.961829</td>\n",
       "      <td>-5.503226</td>\n",
       "      <td>-7.139320</td>\n",
       "      <td>-9.023300</td>\n",
       "      <td>-6.209722</td>\n",
       "      <td>-4.610810</td>\n",
       "      <td>-6.767481</td>\n",
       "      <td>-8.725834</td>\n",
       "      <td>-8.068919</td>\n",
       "      <td>...</td>\n",
       "      <td>-0.816342</td>\n",
       "      <td>-0.494174</td>\n",
       "      <td>1.902966</td>\n",
       "      <td>3.273539</td>\n",
       "      <td>1.482514</td>\n",
       "      <td>1.960304</td>\n",
       "      <td>3.868729</td>\n",
       "      <td>3.685806</td>\n",
       "      <td>4.491222</td>\n",
       "      <td>0</td>\n",
       "    </tr>\n",
       "    <tr>\n",
       "      <th>...</th>\n",
       "      <td>...</td>\n",
       "      <td>...</td>\n",
       "      <td>...</td>\n",
       "      <td>...</td>\n",
       "      <td>...</td>\n",
       "      <td>...</td>\n",
       "      <td>...</td>\n",
       "      <td>...</td>\n",
       "      <td>...</td>\n",
       "      <td>...</td>\n",
       "      <td>...</td>\n",
       "      <td>...</td>\n",
       "      <td>...</td>\n",
       "      <td>...</td>\n",
       "      <td>...</td>\n",
       "      <td>...</td>\n",
       "      <td>...</td>\n",
       "      <td>...</td>\n",
       "      <td>...</td>\n",
       "      <td>...</td>\n",
       "      <td>...</td>\n",
       "    </tr>\n",
       "    <tr>\n",
       "      <th>74166</th>\n",
       "      <td>-0.260485</td>\n",
       "      <td>-0.297385</td>\n",
       "      <td>3.141005</td>\n",
       "      <td>3.305978</td>\n",
       "      <td>3.820437</td>\n",
       "      <td>5.565686</td>\n",
       "      <td>6.787788</td>\n",
       "      <td>6.260309</td>\n",
       "      <td>6.603284</td>\n",
       "      <td>7.883996</td>\n",
       "      <td>...</td>\n",
       "      <td>-32.737923</td>\n",
       "      <td>-28.654337</td>\n",
       "      <td>-26.985228</td>\n",
       "      <td>-25.491821</td>\n",
       "      <td>-26.245184</td>\n",
       "      <td>-24.003727</td>\n",
       "      <td>-22.970858</td>\n",
       "      <td>-19.680555</td>\n",
       "      <td>-22.465065</td>\n",
       "      <td>0</td>\n",
       "    </tr>\n",
       "    <tr>\n",
       "      <th>74167</th>\n",
       "      <td>-0.036805</td>\n",
       "      <td>3.392653</td>\n",
       "      <td>3.557197</td>\n",
       "      <td>4.070319</td>\n",
       "      <td>5.811034</td>\n",
       "      <td>7.029961</td>\n",
       "      <td>6.503852</td>\n",
       "      <td>6.845936</td>\n",
       "      <td>8.123322</td>\n",
       "      <td>8.803152</td>\n",
       "      <td>...</td>\n",
       "      <td>-28.438923</td>\n",
       "      <td>-26.772610</td>\n",
       "      <td>-25.281702</td>\n",
       "      <td>-26.033802</td>\n",
       "      <td>-23.796099</td>\n",
       "      <td>-22.764961</td>\n",
       "      <td>-19.480167</td>\n",
       "      <td>-22.260014</td>\n",
       "      <td>-24.896347</td>\n",
       "      <td>0</td>\n",
       "    </tr>\n",
       "    <tr>\n",
       "      <th>74168</th>\n",
       "      <td>3.428196</td>\n",
       "      <td>3.592680</td>\n",
       "      <td>4.105613</td>\n",
       "      <td>5.845687</td>\n",
       "      <td>7.064166</td>\n",
       "      <td>6.538250</td>\n",
       "      <td>6.880208</td>\n",
       "      <td>8.157124</td>\n",
       "      <td>8.836704</td>\n",
       "      <td>6.979764</td>\n",
       "      <td>...</td>\n",
       "      <td>-26.779358</td>\n",
       "      <td>-25.288372</td>\n",
       "      <td>-26.040512</td>\n",
       "      <td>-23.802691</td>\n",
       "      <td>-22.771496</td>\n",
       "      <td>-19.486528</td>\n",
       "      <td>-22.266523</td>\n",
       "      <td>-24.902996</td>\n",
       "      <td>-25.450493</td>\n",
       "      <td>0</td>\n",
       "    </tr>\n",
       "    <tr>\n",
       "      <th>74169</th>\n",
       "      <td>0.170323</td>\n",
       "      <td>0.701465</td>\n",
       "      <td>2.503310</td>\n",
       "      <td>3.765043</td>\n",
       "      <td>3.220458</td>\n",
       "      <td>3.574555</td>\n",
       "      <td>4.896800</td>\n",
       "      <td>5.600505</td>\n",
       "      <td>3.677645</td>\n",
       "      <td>1.402929</td>\n",
       "      <td>...</td>\n",
       "      <td>-22.951935</td>\n",
       "      <td>-23.690050</td>\n",
       "      <td>-21.493958</td>\n",
       "      <td>-20.481995</td>\n",
       "      <td>-17.258286</td>\n",
       "      <td>-19.986439</td>\n",
       "      <td>-22.573746</td>\n",
       "      <td>-23.111032</td>\n",
       "      <td>-23.447481</td>\n",
       "      <td>0</td>\n",
       "    </tr>\n",
       "    <tr>\n",
       "      <th>74170</th>\n",
       "      <td>0.532048</td>\n",
       "      <td>2.336967</td>\n",
       "      <td>3.600853</td>\n",
       "      <td>3.055339</td>\n",
       "      <td>3.410041</td>\n",
       "      <td>4.734541</td>\n",
       "      <td>5.439447</td>\n",
       "      <td>3.513307</td>\n",
       "      <td>1.234709</td>\n",
       "      <td>1.050629</td>\n",
       "      <td>...</td>\n",
       "      <td>-14.247176</td>\n",
       "      <td>-12.218741</td>\n",
       "      <td>-11.284035</td>\n",
       "      <td>-8.306434</td>\n",
       "      <td>-10.826311</td>\n",
       "      <td>-13.216095</td>\n",
       "      <td>-13.712363</td>\n",
       "      <td>-14.023127</td>\n",
       "      <td>-11.129848</td>\n",
       "      <td>0</td>\n",
       "    </tr>\n",
       "  </tbody>\n",
       "</table>\n",
       "<p>74171 rows × 3541 columns</p>\n",
       "</div>"
      ],
      "text/plain": [
       "              0         1         2         3         4         5         6  \\\n",
       "0     -0.700247 -1.990173 -0.122850  0.884522 -5.196558 -5.024573 -4.570026   \n",
       "1     -1.280956  0.573382  1.573749 -4.465045 -4.294255 -3.842869 -5.453216   \n",
       "2      1.830886  2.818601 -3.143818 -2.975188 -2.529511 -4.119491 -5.950369   \n",
       "3      1.006136 -5.067483 -4.895709 -4.441719 -6.061353 -7.926377 -5.141107   \n",
       "4     -6.135350 -5.961829 -5.503226 -7.139320 -9.023300 -6.209722 -4.610810   \n",
       "...         ...       ...       ...       ...       ...       ...       ...   \n",
       "74166 -0.260485 -0.297385  3.141005  3.305978  3.820437  5.565686  6.787788   \n",
       "74167 -0.036805  3.392653  3.557197  4.070319  5.811034  7.029961  6.503852   \n",
       "74168  3.428196  3.592680  4.105613  5.845687  7.064166  6.538250  6.880208   \n",
       "74169  0.170323  0.701465  2.503310  3.765043  3.220458  3.574555  4.896800   \n",
       "74170  0.532048  2.336967  3.600853  3.055339  3.410041  4.734541  5.439447   \n",
       "\n",
       "              7         8         9  ...       3531       3532       3533  \\\n",
       "0     -6.191649 -8.058965 -5.270273  ...   7.153076   7.798154   4.536348   \n",
       "1     -7.307547 -4.538247 -2.964498  ...   8.646461   5.414666   6.293489   \n",
       "2     -3.216094 -1.662249 -3.758132  ...   1.640178   2.554071   1.037171   \n",
       "3     -3.558282 -5.693254 -7.631903  ...   1.198340  -0.339665  -0.019020   \n",
       "4     -6.767481 -8.725834 -8.068919  ...  -0.816342  -0.494174   1.902966   \n",
       "...         ...       ...       ...  ...        ...        ...        ...   \n",
       "74166  6.260309  6.603284  7.883996  ... -32.737923 -28.654337 -26.985228   \n",
       "74167  6.845936  8.123322  8.803152  ... -28.438923 -26.772610 -25.281702   \n",
       "74168  8.157124  8.836704  6.979764  ... -26.779358 -25.288372 -26.040512   \n",
       "74169  5.600505  3.677645  1.402929  ... -22.951935 -23.690050 -21.493958   \n",
       "74170  3.513307  1.234709  1.050629  ... -14.247176 -12.218741 -11.284035   \n",
       "\n",
       "            3534       3535       3536       3537       3538       3539  \\\n",
       "0       5.423332   3.951097   4.258029   6.541813   7.847573   6.141243   \n",
       "1       4.834799   5.138908   7.401679   8.695426   7.004795   7.455802   \n",
       "2       1.353416   3.706484   5.051858   3.293762   3.762768   5.636106   \n",
       "3       2.366786   3.730878   1.948322   2.423852   4.323255   4.141196   \n",
       "4       3.273539   1.482514   1.960304   3.868729   3.685806   4.491222   \n",
       "...          ...        ...        ...        ...        ...        ...   \n",
       "74166 -25.491821 -26.245184 -24.003727 -22.970858 -19.680555 -22.465065   \n",
       "74167 -26.033802 -23.796099 -22.764961 -19.480167 -22.260014 -24.896347   \n",
       "74168 -23.802691 -22.771496 -19.486528 -22.266523 -24.902996 -25.450493   \n",
       "74169 -20.481995 -17.258286 -19.986439 -22.573746 -23.111032 -23.447481   \n",
       "74170  -8.306434 -10.826311 -13.216095 -13.712363 -14.023127 -11.129848   \n",
       "\n",
       "       result  \n",
       "0           0  \n",
       "1           0  \n",
       "2           0  \n",
       "3           0  \n",
       "4           0  \n",
       "...       ...  \n",
       "74166       0  \n",
       "74167       0  \n",
       "74168       0  \n",
       "74169       0  \n",
       "74170       0  \n",
       "\n",
       "[74171 rows x 3541 columns]"
      ]
     },
     "execution_count": 14,
     "metadata": {},
     "output_type": "execute_result"
    }
   ],
   "source": [
    "X_big_one03"
   ]
  },
  {
   "cell_type": "code",
   "execution_count": 15,
   "id": "eafd4a3b",
   "metadata": {
    "scrolled": true
   },
   "outputs": [
    {
     "data": {
      "text/plain": [
       "0    67481\n",
       "1     6690\n",
       "Name: result, dtype: int64"
      ]
     },
     "execution_count": 15,
     "metadata": {},
     "output_type": "execute_result"
    }
   ],
   "source": [
    "X_big_one03['result'].value_counts()  "
   ]
  },
  {
   "cell_type": "code",
   "execution_count": 16,
   "id": "73c75608",
   "metadata": {},
   "outputs": [],
   "source": [
    "X_big_ones_04 = X_big_one03[X_big_one03['result'] ==1]\n",
    "X_big_ones_05 = X_big_one03.iloc[0:10000,:]\n",
    "\n",
    "X_big_ones_06  = pd.concat([X_big_ones_04,X_big_ones_05])"
   ]
  },
  {
   "cell_type": "code",
   "execution_count": 18,
   "id": "e34dd905",
   "metadata": {
    "scrolled": true
   },
   "outputs": [
    {
     "data": {
      "text/html": [
       "<div>\n",
       "<style scoped>\n",
       "    .dataframe tbody tr th:only-of-type {\n",
       "        vertical-align: middle;\n",
       "    }\n",
       "\n",
       "    .dataframe tbody tr th {\n",
       "        vertical-align: top;\n",
       "    }\n",
       "\n",
       "    .dataframe thead th {\n",
       "        text-align: right;\n",
       "    }\n",
       "</style>\n",
       "<table border=\"1\" class=\"dataframe\">\n",
       "  <thead>\n",
       "    <tr style=\"text-align: right;\">\n",
       "      <th></th>\n",
       "      <th>0</th>\n",
       "      <th>1</th>\n",
       "      <th>2</th>\n",
       "      <th>3</th>\n",
       "      <th>4</th>\n",
       "      <th>5</th>\n",
       "      <th>6</th>\n",
       "      <th>7</th>\n",
       "      <th>8</th>\n",
       "      <th>9</th>\n",
       "      <th>...</th>\n",
       "      <th>3531</th>\n",
       "      <th>3532</th>\n",
       "      <th>3533</th>\n",
       "      <th>3534</th>\n",
       "      <th>3535</th>\n",
       "      <th>3536</th>\n",
       "      <th>3537</th>\n",
       "      <th>3538</th>\n",
       "      <th>3539</th>\n",
       "      <th>result</th>\n",
       "    </tr>\n",
       "  </thead>\n",
       "  <tbody>\n",
       "    <tr>\n",
       "      <th>19</th>\n",
       "      <td>-4.110101</td>\n",
       "      <td>-5.716772</td>\n",
       "      <td>-7.883919</td>\n",
       "      <td>-7.684637</td>\n",
       "      <td>-5.529949</td>\n",
       "      <td>-7.161539</td>\n",
       "      <td>-10.200519</td>\n",
       "      <td>-9.627598</td>\n",
       "      <td>-10.175607</td>\n",
       "      <td>-11.246729</td>\n",
       "      <td>...</td>\n",
       "      <td>-2.727971</td>\n",
       "      <td>-3.186905</td>\n",
       "      <td>-1.619105</td>\n",
       "      <td>-4.364182</td>\n",
       "      <td>-3.189758</td>\n",
       "      <td>-5.253551</td>\n",
       "      <td>-6.881215</td>\n",
       "      <td>-4.917192</td>\n",
       "      <td>-0.356318</td>\n",
       "      <td>1</td>\n",
       "    </tr>\n",
       "    <tr>\n",
       "      <th>375</th>\n",
       "      <td>0.584062</td>\n",
       "      <td>0.933388</td>\n",
       "      <td>0.820640</td>\n",
       "      <td>0.776283</td>\n",
       "      <td>-0.707901</td>\n",
       "      <td>-1.384369</td>\n",
       "      <td>-0.718984</td>\n",
       "      <td>0.903813</td>\n",
       "      <td>-3.607870</td>\n",
       "      <td>-5.019963</td>\n",
       "      <td>...</td>\n",
       "      <td>15.128013</td>\n",
       "      <td>16.707594</td>\n",
       "      <td>15.659753</td>\n",
       "      <td>13.271611</td>\n",
       "      <td>18.720383</td>\n",
       "      <td>18.959671</td>\n",
       "      <td>19.095728</td>\n",
       "      <td>19.943388</td>\n",
       "      <td>20.290579</td>\n",
       "      <td>1</td>\n",
       "    </tr>\n",
       "    <tr>\n",
       "      <th>376</th>\n",
       "      <td>0.351378</td>\n",
       "      <td>0.237968</td>\n",
       "      <td>0.193350</td>\n",
       "      <td>-1.299554</td>\n",
       "      <td>-1.979996</td>\n",
       "      <td>-1.310701</td>\n",
       "      <td>0.321629</td>\n",
       "      <td>-4.216559</td>\n",
       "      <td>-5.636949</td>\n",
       "      <td>-8.754748</td>\n",
       "      <td>...</td>\n",
       "      <td>17.571316</td>\n",
       "      <td>16.534340</td>\n",
       "      <td>14.170963</td>\n",
       "      <td>19.563232</td>\n",
       "      <td>19.800037</td>\n",
       "      <td>19.934687</td>\n",
       "      <td>20.773556</td>\n",
       "      <td>21.117146</td>\n",
       "      <td>21.230133</td>\n",
       "      <td>1</td>\n",
       "    </tr>\n",
       "    <tr>\n",
       "      <th>377</th>\n",
       "      <td>-0.113810</td>\n",
       "      <td>-0.158585</td>\n",
       "      <td>-1.656753</td>\n",
       "      <td>-2.339594</td>\n",
       "      <td>-1.667940</td>\n",
       "      <td>-0.029853</td>\n",
       "      <td>-4.584044</td>\n",
       "      <td>-6.009442</td>\n",
       "      <td>-9.138236</td>\n",
       "      <td>-8.108362</td>\n",
       "      <td>...</td>\n",
       "      <td>18.194235</td>\n",
       "      <td>15.877858</td>\n",
       "      <td>21.162889</td>\n",
       "      <td>21.394987</td>\n",
       "      <td>21.526957</td>\n",
       "      <td>22.349144</td>\n",
       "      <td>22.685902</td>\n",
       "      <td>22.796642</td>\n",
       "      <td>22.914961</td>\n",
       "      <td>1</td>\n",
       "    </tr>\n",
       "    <tr>\n",
       "      <th>378</th>\n",
       "      <td>-0.044724</td>\n",
       "      <td>-1.541189</td>\n",
       "      <td>-2.223254</td>\n",
       "      <td>-1.552363</td>\n",
       "      <td>0.083861</td>\n",
       "      <td>-4.465153</td>\n",
       "      <td>-5.888930</td>\n",
       "      <td>-9.014167</td>\n",
       "      <td>-7.985464</td>\n",
       "      <td>-5.795751</td>\n",
       "      <td>...</td>\n",
       "      <td>13.048594</td>\n",
       "      <td>18.511377</td>\n",
       "      <td>18.751280</td>\n",
       "      <td>18.887688</td>\n",
       "      <td>19.737528</td>\n",
       "      <td>20.085609</td>\n",
       "      <td>20.200075</td>\n",
       "      <td>20.322374</td>\n",
       "      <td>18.125656</td>\n",
       "      <td>1</td>\n",
       "    </tr>\n",
       "    <tr>\n",
       "      <th>...</th>\n",
       "      <td>...</td>\n",
       "      <td>...</td>\n",
       "      <td>...</td>\n",
       "      <td>...</td>\n",
       "      <td>...</td>\n",
       "      <td>...</td>\n",
       "      <td>...</td>\n",
       "      <td>...</td>\n",
       "      <td>...</td>\n",
       "      <td>...</td>\n",
       "      <td>...</td>\n",
       "      <td>...</td>\n",
       "      <td>...</td>\n",
       "      <td>...</td>\n",
       "      <td>...</td>\n",
       "      <td>...</td>\n",
       "      <td>...</td>\n",
       "      <td>...</td>\n",
       "      <td>...</td>\n",
       "      <td>...</td>\n",
       "      <td>...</td>\n",
       "    </tr>\n",
       "    <tr>\n",
       "      <th>9995</th>\n",
       "      <td>-1.307191</td>\n",
       "      <td>0.233427</td>\n",
       "      <td>1.633987</td>\n",
       "      <td>-0.700280</td>\n",
       "      <td>1.914095</td>\n",
       "      <td>2.147521</td>\n",
       "      <td>3.314655</td>\n",
       "      <td>-0.840338</td>\n",
       "      <td>1.120445</td>\n",
       "      <td>1.073764</td>\n",
       "      <td>...</td>\n",
       "      <td>20.341373</td>\n",
       "      <td>18.476156</td>\n",
       "      <td>18.564140</td>\n",
       "      <td>17.314800</td>\n",
       "      <td>19.936651</td>\n",
       "      <td>17.965866</td>\n",
       "      <td>18.089035</td>\n",
       "      <td>20.165403</td>\n",
       "      <td>23.016016</td>\n",
       "      <td>0</td>\n",
       "    </tr>\n",
       "    <tr>\n",
       "      <th>9996</th>\n",
       "      <td>1.520739</td>\n",
       "      <td>2.903227</td>\n",
       "      <td>0.599080</td>\n",
       "      <td>3.179721</td>\n",
       "      <td>3.410136</td>\n",
       "      <td>4.562209</td>\n",
       "      <td>0.460829</td>\n",
       "      <td>2.396312</td>\n",
       "      <td>2.350233</td>\n",
       "      <td>6.175112</td>\n",
       "      <td>...</td>\n",
       "      <td>16.326530</td>\n",
       "      <td>16.416834</td>\n",
       "      <td>15.134550</td>\n",
       "      <td>17.825535</td>\n",
       "      <td>15.802784</td>\n",
       "      <td>15.929200</td>\n",
       "      <td>18.060318</td>\n",
       "      <td>20.986095</td>\n",
       "      <td>21.148640</td>\n",
       "      <td>0</td>\n",
       "    </tr>\n",
       "    <tr>\n",
       "      <th>9997</th>\n",
       "      <td>1.403837</td>\n",
       "      <td>-0.935891</td>\n",
       "      <td>1.684600</td>\n",
       "      <td>1.918573</td>\n",
       "      <td>3.088438</td>\n",
       "      <td>-1.076277</td>\n",
       "      <td>0.889094</td>\n",
       "      <td>0.842304</td>\n",
       "      <td>4.726247</td>\n",
       "      <td>5.662139</td>\n",
       "      <td>...</td>\n",
       "      <td>17.943264</td>\n",
       "      <td>16.684399</td>\n",
       "      <td>19.326239</td>\n",
       "      <td>17.340429</td>\n",
       "      <td>17.464537</td>\n",
       "      <td>19.556736</td>\n",
       "      <td>22.429081</td>\n",
       "      <td>22.588657</td>\n",
       "      <td>22.340425</td>\n",
       "      <td>0</td>\n",
       "    </tr>\n",
       "    <tr>\n",
       "      <th>9998</th>\n",
       "      <td>-2.373042</td>\n",
       "      <td>0.284761</td>\n",
       "      <td>0.522065</td>\n",
       "      <td>1.708586</td>\n",
       "      <td>-2.515426</td>\n",
       "      <td>-0.522072</td>\n",
       "      <td>-0.569529</td>\n",
       "      <td>3.369716</td>\n",
       "      <td>4.318933</td>\n",
       "      <td>3.749404</td>\n",
       "      <td>...</td>\n",
       "      <td>17.329344</td>\n",
       "      <td>19.950733</td>\n",
       "      <td>17.980295</td>\n",
       "      <td>18.103443</td>\n",
       "      <td>20.179445</td>\n",
       "      <td>23.029556</td>\n",
       "      <td>23.187897</td>\n",
       "      <td>22.941587</td>\n",
       "      <td>21.569311</td>\n",
       "      <td>0</td>\n",
       "    </tr>\n",
       "    <tr>\n",
       "      <th>9999</th>\n",
       "      <td>2.596194</td>\n",
       "      <td>2.827998</td>\n",
       "      <td>3.987015</td>\n",
       "      <td>-0.139083</td>\n",
       "      <td>1.808064</td>\n",
       "      <td>1.761708</td>\n",
       "      <td>5.609639</td>\n",
       "      <td>6.536852</td>\n",
       "      <td>5.980526</td>\n",
       "      <td>4.265182</td>\n",
       "      <td>...</td>\n",
       "      <td>17.332844</td>\n",
       "      <td>15.297965</td>\n",
       "      <td>15.425139</td>\n",
       "      <td>17.569035</td>\n",
       "      <td>20.512354</td>\n",
       "      <td>20.675873</td>\n",
       "      <td>20.421509</td>\n",
       "      <td>19.004354</td>\n",
       "      <td>18.059593</td>\n",
       "      <td>0</td>\n",
       "    </tr>\n",
       "  </tbody>\n",
       "</table>\n",
       "<p>16690 rows × 3541 columns</p>\n",
       "</div>"
      ],
      "text/plain": [
       "             0         1         2         3         4         5          6  \\\n",
       "19   -4.110101 -5.716772 -7.883919 -7.684637 -5.529949 -7.161539 -10.200519   \n",
       "375   0.584062  0.933388  0.820640  0.776283 -0.707901 -1.384369  -0.718984   \n",
       "376   0.351378  0.237968  0.193350 -1.299554 -1.979996 -1.310701   0.321629   \n",
       "377  -0.113810 -0.158585 -1.656753 -2.339594 -1.667940 -0.029853  -4.584044   \n",
       "378  -0.044724 -1.541189 -2.223254 -1.552363  0.083861 -4.465153  -5.888930   \n",
       "...        ...       ...       ...       ...       ...       ...        ...   \n",
       "9995 -1.307191  0.233427  1.633987 -0.700280  1.914095  2.147521   3.314655   \n",
       "9996  1.520739  2.903227  0.599080  3.179721  3.410136  4.562209   0.460829   \n",
       "9997  1.403837 -0.935891  1.684600  1.918573  3.088438 -1.076277   0.889094   \n",
       "9998 -2.373042  0.284761  0.522065  1.708586 -2.515426 -0.522072  -0.569529   \n",
       "9999  2.596194  2.827998  3.987015 -0.139083  1.808064  1.761708   5.609639   \n",
       "\n",
       "             7          8          9  ...       3531       3532       3533  \\\n",
       "19   -9.627598 -10.175607 -11.246729  ...  -2.727971  -3.186905  -1.619105   \n",
       "375   0.903813  -3.607870  -5.019963  ...  15.128013  16.707594  15.659753   \n",
       "376  -4.216559  -5.636949  -8.754748  ...  17.571316  16.534340  14.170963   \n",
       "377  -6.009442  -9.138236  -8.108362  ...  18.194235  15.877858  21.162889   \n",
       "378  -9.014167  -7.985464  -5.795751  ...  13.048594  18.511377  18.751280   \n",
       "...        ...        ...        ...  ...        ...        ...        ...   \n",
       "9995 -0.840338   1.120445   1.073764  ...  20.341373  18.476156  18.564140   \n",
       "9996  2.396312   2.350233   6.175112  ...  16.326530  16.416834  15.134550   \n",
       "9997  0.842304   4.726247   5.662139  ...  17.943264  16.684399  19.326239   \n",
       "9998  3.369716   4.318933   3.749404  ...  17.329344  19.950733  17.980295   \n",
       "9999  6.536852   5.980526   4.265182  ...  17.332844  15.297965  15.425139   \n",
       "\n",
       "           3534       3535       3536       3537       3538       3539  result  \n",
       "19    -4.364182  -3.189758  -5.253551  -6.881215  -4.917192  -0.356318       1  \n",
       "375   13.271611  18.720383  18.959671  19.095728  19.943388  20.290579       1  \n",
       "376   19.563232  19.800037  19.934687  20.773556  21.117146  21.230133       1  \n",
       "377   21.394987  21.526957  22.349144  22.685902  22.796642  22.914961       1  \n",
       "378   18.887688  19.737528  20.085609  20.200075  20.322374  18.125656       1  \n",
       "...         ...        ...        ...        ...        ...        ...     ...  \n",
       "9995  17.314800  19.936651  17.965866  18.089035  20.165403  23.016016       0  \n",
       "9996  17.825535  15.802784  15.929200  18.060318  20.986095  21.148640       0  \n",
       "9997  17.340429  17.464537  19.556736  22.429081  22.588657  22.340425       0  \n",
       "9998  18.103443  20.179445  23.029556  23.187897  22.941587  21.569311       0  \n",
       "9999  17.569035  20.512354  20.675873  20.421509  19.004354  18.059593       0  \n",
       "\n",
       "[16690 rows x 3541 columns]"
      ]
     },
     "execution_count": 18,
     "metadata": {},
     "output_type": "execute_result"
    }
   ],
   "source": [
    "X_big_ones_06\n",
    "#X_big_one06.to_csv('X_big_one06.csv')"
   ]
  },
  {
   "cell_type": "code",
   "execution_count": 19,
   "id": "152affde",
   "metadata": {
    "scrolled": true
   },
   "outputs": [
    {
     "data": {
      "text/plain": [
       "0    8953\n",
       "1    7737\n",
       "Name: result, dtype: int64"
      ]
     },
     "execution_count": 19,
     "metadata": {},
     "output_type": "execute_result"
    }
   ],
   "source": [
    "X_big_ones_06['result'].value_counts()"
   ]
  },
  {
   "cell_type": "code",
   "execution_count": 22,
   "id": "584078cd",
   "metadata": {},
   "outputs": [],
   "source": [
    "X_big_ones_06.to_csv('X_big_ones_06.csv')"
   ]
  }
 ],
 "metadata": {
  "kernelspec": {
   "display_name": "tensorflow",
   "language": "python",
   "name": "tensorflow"
  },
  "language_info": {
   "codemirror_mode": {
    "name": "ipython",
    "version": 3
   },
   "file_extension": ".py",
   "mimetype": "text/x-python",
   "name": "python",
   "nbconvert_exporter": "python",
   "pygments_lexer": "ipython3",
   "version": "3.10.0"
  }
 },
 "nbformat": 4,
 "nbformat_minor": 5
}
