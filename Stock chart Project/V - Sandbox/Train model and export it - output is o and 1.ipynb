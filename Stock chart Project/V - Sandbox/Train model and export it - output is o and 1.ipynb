{
 "cells": [
  {
   "cell_type": "code",
   "execution_count": 1,
   "id": "2839481b",
   "metadata": {
    "id": "2839481b"
   },
   "outputs": [],
   "source": [
    "import pandas as pd\n",
    "import numpy as np"
   ]
  },
  {
   "cell_type": "code",
   "execution_count": 2,
   "id": "730c9f55",
   "metadata": {
    "colab": {
     "base_uri": "https://localhost:8080/",
     "height": 354
    },
    "id": "730c9f55",
    "outputId": "f8b896f1-83a1-4368-d248-ad2849ea1c1a"
   },
   "outputs": [
    {
     "data": {
      "text/html": [
       "<div>\n",
       "<style scoped>\n",
       "    .dataframe tbody tr th:only-of-type {\n",
       "        vertical-align: middle;\n",
       "    }\n",
       "\n",
       "    .dataframe tbody tr th {\n",
       "        vertical-align: top;\n",
       "    }\n",
       "\n",
       "    .dataframe thead th {\n",
       "        text-align: right;\n",
       "    }\n",
       "</style>\n",
       "<table border=\"1\" class=\"dataframe\">\n",
       "  <thead>\n",
       "    <tr style=\"text-align: right;\">\n",
       "      <th></th>\n",
       "      <th>Date</th>\n",
       "      <th>Symbol</th>\n",
       "      <th>Series</th>\n",
       "      <th>Prev Close</th>\n",
       "      <th>Open</th>\n",
       "      <th>High</th>\n",
       "      <th>Low</th>\n",
       "      <th>Last</th>\n",
       "      <th>Close</th>\n",
       "      <th>VWAP</th>\n",
       "      <th>Volume</th>\n",
       "      <th>Turnover</th>\n",
       "      <th>Trades</th>\n",
       "      <th>Deliverable Volume</th>\n",
       "      <th>%Deliverble</th>\n",
       "    </tr>\n",
       "  </thead>\n",
       "  <tbody>\n",
       "    <tr>\n",
       "      <th>0</th>\n",
       "      <td>2021-07-01</td>\n",
       "      <td>INFY</td>\n",
       "      <td>EQ</td>\n",
       "      <td>1580.80</td>\n",
       "      <td>1576.85</td>\n",
       "      <td>1576.85</td>\n",
       "      <td>1559.05</td>\n",
       "      <td>1561.95</td>\n",
       "      <td>1560.40</td>\n",
       "      <td>1565.56</td>\n",
       "      <td>4814317</td>\n",
       "      <td>7.537112e+14</td>\n",
       "      <td>150925.0</td>\n",
       "      <td>2996603.0</td>\n",
       "      <td>0.6224</td>\n",
       "    </tr>\n",
       "    <tr>\n",
       "      <th>1</th>\n",
       "      <td>2021-06-30</td>\n",
       "      <td>INFY</td>\n",
       "      <td>EQ</td>\n",
       "      <td>1563.05</td>\n",
       "      <td>1572.05</td>\n",
       "      <td>1591.00</td>\n",
       "      <td>1572.05</td>\n",
       "      <td>1580.00</td>\n",
       "      <td>1580.80</td>\n",
       "      <td>1582.44</td>\n",
       "      <td>6058722</td>\n",
       "      <td>9.587563e+14</td>\n",
       "      <td>167938.0</td>\n",
       "      <td>3226132.0</td>\n",
       "      <td>0.5325</td>\n",
       "    </tr>\n",
       "    <tr>\n",
       "      <th>2</th>\n",
       "      <td>2021-06-29</td>\n",
       "      <td>INFY</td>\n",
       "      <td>EQ</td>\n",
       "      <td>1571.80</td>\n",
       "      <td>1561.00</td>\n",
       "      <td>1573.65</td>\n",
       "      <td>1559.20</td>\n",
       "      <td>1562.00</td>\n",
       "      <td>1563.05</td>\n",
       "      <td>1564.66</td>\n",
       "      <td>5913567</td>\n",
       "      <td>9.252700e+14</td>\n",
       "      <td>197132.0</td>\n",
       "      <td>3844762.0</td>\n",
       "      <td>0.6502</td>\n",
       "    </tr>\n",
       "    <tr>\n",
       "      <th>3</th>\n",
       "      <td>2021-06-28</td>\n",
       "      <td>INFY</td>\n",
       "      <td>EQ</td>\n",
       "      <td>1574.20</td>\n",
       "      <td>1572.90</td>\n",
       "      <td>1580.15</td>\n",
       "      <td>1560.60</td>\n",
       "      <td>1569.10</td>\n",
       "      <td>1571.80</td>\n",
       "      <td>1570.82</td>\n",
       "      <td>5019178</td>\n",
       "      <td>7.884238e+14</td>\n",
       "      <td>136591.0</td>\n",
       "      <td>3354874.0</td>\n",
       "      <td>0.6684</td>\n",
       "    </tr>\n",
       "    <tr>\n",
       "      <th>4</th>\n",
       "      <td>2021-06-25</td>\n",
       "      <td>INFY</td>\n",
       "      <td>EQ</td>\n",
       "      <td>1559.20</td>\n",
       "      <td>1572.00</td>\n",
       "      <td>1578.00</td>\n",
       "      <td>1543.00</td>\n",
       "      <td>1574.00</td>\n",
       "      <td>1574.20</td>\n",
       "      <td>1565.12</td>\n",
       "      <td>9780240</td>\n",
       "      <td>1.530725e+15</td>\n",
       "      <td>192643.0</td>\n",
       "      <td>5825533.0</td>\n",
       "      <td>0.5956</td>\n",
       "    </tr>\n",
       "  </tbody>\n",
       "</table>\n",
       "</div>"
      ],
      "text/plain": [
       "         Date Symbol Series  Prev Close     Open     High      Low     Last  \\\n",
       "0  2021-07-01   INFY     EQ     1580.80  1576.85  1576.85  1559.05  1561.95   \n",
       "1  2021-06-30   INFY     EQ     1563.05  1572.05  1591.00  1572.05  1580.00   \n",
       "2  2021-06-29   INFY     EQ     1571.80  1561.00  1573.65  1559.20  1562.00   \n",
       "3  2021-06-28   INFY     EQ     1574.20  1572.90  1580.15  1560.60  1569.10   \n",
       "4  2021-06-25   INFY     EQ     1559.20  1572.00  1578.00  1543.00  1574.00   \n",
       "\n",
       "     Close     VWAP   Volume      Turnover    Trades  Deliverable Volume  \\\n",
       "0  1560.40  1565.56  4814317  7.537112e+14  150925.0           2996603.0   \n",
       "1  1580.80  1582.44  6058722  9.587563e+14  167938.0           3226132.0   \n",
       "2  1563.05  1564.66  5913567  9.252700e+14  197132.0           3844762.0   \n",
       "3  1571.80  1570.82  5019178  7.884238e+14  136591.0           3354874.0   \n",
       "4  1574.20  1565.12  9780240  1.530725e+15  192643.0           5825533.0   \n",
       "\n",
       "   %Deliverble  \n",
       "0       0.6224  \n",
       "1       0.5325  \n",
       "2       0.6502  \n",
       "3       0.6684  \n",
       "4       0.5956  "
      ]
     },
     "execution_count": 2,
     "metadata": {},
     "output_type": "execute_result"
    }
   ],
   "source": [
    "df = pd.read_csv(\"INFY.csv\")\n",
    "df = df.iloc[::-1]  #reversing rows to get current date first\n",
    "df = df.reset_index(drop=True)\n",
    "df.head(5)"
   ]
  },
  {
   "cell_type": "code",
   "execution_count": 3,
   "id": "f6129a7c-8e06-4219-89b4-c8d514fdbe46",
   "metadata": {
    "colab": {
     "base_uri": "https://localhost:8080/"
    },
    "id": "f6129a7c-8e06-4219-89b4-c8d514fdbe46",
    "outputId": "0d482e73-4877-40a2-f33f-a30ca2d3af73"
   },
   "outputs": [
    {
     "data": {
      "text/plain": [
       "Index(['Date', 'Symbol', 'Series', 'Prev Close', 'Open', 'High', 'Low', 'Last',\n",
       "       'Close', 'VWAP', 'Volume', 'Turnover', 'Trades', 'Deliverable Volume',\n",
       "       '%Deliverble'],\n",
       "      dtype='object')"
      ]
     },
     "execution_count": 3,
     "metadata": {},
     "output_type": "execute_result"
    }
   ],
   "source": [
    "df.columns"
   ]
  },
  {
   "cell_type": "code",
   "execution_count": 4,
   "id": "971b0ab3-ba91-4e75-9fdc-c0b6e1d1e532",
   "metadata": {
    "colab": {
     "base_uri": "https://localhost:8080/"
    },
    "id": "971b0ab3-ba91-4e75-9fdc-c0b6e1d1e532",
    "outputId": "07235476-7c93-40ef-e2ec-def456cc1c47"
   },
   "outputs": [
    {
     "data": {
      "text/plain": [
       "Date                   object\n",
       "Symbol                 object\n",
       "Series                 object\n",
       "Prev Close            float64\n",
       "Open                  float64\n",
       "High                  float64\n",
       "Low                   float64\n",
       "Last                  float64\n",
       "Close                 float64\n",
       "VWAP                  float64\n",
       "Volume                  int64\n",
       "Turnover              float64\n",
       "Trades                float64\n",
       "Deliverable Volume    float64\n",
       "%Deliverble           float64\n",
       "dtype: object"
      ]
     },
     "execution_count": 4,
     "metadata": {},
     "output_type": "execute_result"
    }
   ],
   "source": [
    "df.dtypes"
   ]
  },
  {
   "cell_type": "code",
   "execution_count": 5,
   "id": "d9eda3ec-8ecd-4369-a585-986138415993",
   "metadata": {
    "colab": {
     "base_uri": "https://localhost:8080/"
    },
    "id": "d9eda3ec-8ecd-4369-a585-986138415993",
    "outputId": "f2d90bdc-fefb-4e45-bd2b-29eba3d75142"
   },
   "outputs": [
    {
     "name": "stdout",
     "output_type": "stream",
     "text": [
      "<class 'pandas.core.frame.DataFrame'>\n",
      "RangeIndex: 6348 entries, 0 to 6347\n",
      "Data columns (total 15 columns):\n",
      " #   Column              Non-Null Count  Dtype  \n",
      "---  ------              --------------  -----  \n",
      " 0   Date                6348 non-null   object \n",
      " 1   Symbol              6348 non-null   object \n",
      " 2   Series              6348 non-null   object \n",
      " 3   Prev Close          6348 non-null   float64\n",
      " 4   Open                6348 non-null   float64\n",
      " 5   High                6348 non-null   float64\n",
      " 6   Low                 6348 non-null   float64\n",
      " 7   Last                5802 non-null   float64\n",
      " 8   Close               6348 non-null   float64\n",
      " 9   VWAP                6348 non-null   float64\n",
      " 10  Volume              6348 non-null   int64  \n",
      " 11  Turnover            6348 non-null   float64\n",
      " 12  Trades              2501 non-null   float64\n",
      " 13  Deliverable Volume  4843 non-null   float64\n",
      " 14  %Deliverble         4843 non-null   float64\n",
      "dtypes: float64(11), int64(1), object(3)\n",
      "memory usage: 744.0+ KB\n"
     ]
    }
   ],
   "source": [
    "df.info()"
   ]
  },
  {
   "cell_type": "code",
   "execution_count": 6,
   "id": "ea23ece4-5c28-4ec8-a223-a29261977f1f",
   "metadata": {
    "colab": {
     "base_uri": "https://localhost:8080/"
    },
    "id": "ea23ece4-5c28-4ec8-a223-a29261977f1f",
    "outputId": "06ea08b0-8dde-462d-e417-c611a9419b06"
   },
   "outputs": [
    {
     "data": {
      "text/plain": [
       "(6348, 2)"
      ]
     },
     "execution_count": 6,
     "metadata": {},
     "output_type": "execute_result"
    }
   ],
   "source": [
    "df1 = df[['Date','Close']]\n",
    "df1.shape"
   ]
  },
  {
   "cell_type": "code",
   "execution_count": 7,
   "id": "3397d33e",
   "metadata": {},
   "outputs": [
    {
     "data": {
      "text/html": [
       "<div>\n",
       "<style scoped>\n",
       "    .dataframe tbody tr th:only-of-type {\n",
       "        vertical-align: middle;\n",
       "    }\n",
       "\n",
       "    .dataframe tbody tr th {\n",
       "        vertical-align: top;\n",
       "    }\n",
       "\n",
       "    .dataframe thead th {\n",
       "        text-align: right;\n",
       "    }\n",
       "</style>\n",
       "<table border=\"1\" class=\"dataframe\">\n",
       "  <thead>\n",
       "    <tr style=\"text-align: right;\">\n",
       "      <th></th>\n",
       "      <th>Date</th>\n",
       "      <th>Close</th>\n",
       "    </tr>\n",
       "  </thead>\n",
       "  <tbody>\n",
       "    <tr>\n",
       "      <th>0</th>\n",
       "      <td>2021-07-01</td>\n",
       "      <td>1560.40</td>\n",
       "    </tr>\n",
       "    <tr>\n",
       "      <th>1</th>\n",
       "      <td>2021-06-30</td>\n",
       "      <td>1580.80</td>\n",
       "    </tr>\n",
       "    <tr>\n",
       "      <th>2</th>\n",
       "      <td>2021-06-29</td>\n",
       "      <td>1563.05</td>\n",
       "    </tr>\n",
       "    <tr>\n",
       "      <th>3</th>\n",
       "      <td>2021-06-28</td>\n",
       "      <td>1571.80</td>\n",
       "    </tr>\n",
       "    <tr>\n",
       "      <th>4</th>\n",
       "      <td>2021-06-25</td>\n",
       "      <td>1574.20</td>\n",
       "    </tr>\n",
       "  </tbody>\n",
       "</table>\n",
       "</div>"
      ],
      "text/plain": [
       "         Date    Close\n",
       "0  2021-07-01  1560.40\n",
       "1  2021-06-30  1580.80\n",
       "2  2021-06-29  1563.05\n",
       "3  2021-06-28  1571.80\n",
       "4  2021-06-25  1574.20"
      ]
     },
     "execution_count": 7,
     "metadata": {},
     "output_type": "execute_result"
    }
   ],
   "source": [
    "df1.head()"
   ]
  },
  {
   "cell_type": "code",
   "execution_count": 8,
   "id": "0ecfac7d-8fa0-4b47-97a0-d78a531d58de",
   "metadata": {
    "colab": {
     "base_uri": "https://localhost:8080/"
    },
    "id": "0ecfac7d-8fa0-4b47-97a0-d78a531d58de",
    "outputId": "f629f426-9932-4f7f-d692-47137b9a19a2"
   },
   "outputs": [
    {
     "name": "stdout",
     "output_type": "stream",
     "text": [
      "6348\n"
     ]
    },
    {
     "name": "stderr",
     "output_type": "stream",
     "text": [
      "C:\\Users\\abhij\\AppData\\Local\\Temp\\ipykernel_30204\\2148908288.py:8: SettingWithCopyWarning: \n",
      "A value is trying to be set on a copy of a slice from a DataFrame.\n",
      "Try using .loc[row_indexer,col_indexer] = value instead\n",
      "\n",
      "See the caveats in the documentation: https://pandas.pydata.org/pandas-docs/stable/user_guide/indexing.html#returning-a-view-versus-a-copy\n",
      "  df1['Xth'] = df1['Close'].shift(-1* pred_days)\n",
      "C:\\Users\\abhij\\AppData\\Local\\Temp\\ipykernel_30204\\2148908288.py:9: SettingWithCopyWarning: \n",
      "A value is trying to be set on a copy of a slice from a DataFrame.\n",
      "Try using .loc[row_indexer,col_indexer] = value instead\n",
      "\n",
      "See the caveats in the documentation: https://pandas.pydata.org/pandas-docs/stable/user_guide/indexing.html#returning-a-view-versus-a-copy\n",
      "  df1['Date_Xth'] = df1['Date'].shift(-1* pred_days)\n"
     ]
    }
   ],
   "source": [
    "pred_days = 15\n",
    "reward = 15\n",
    "risk =1\n",
    "days_shape = 60\n",
    "eps = 1\n",
    "\n",
    "\n",
    "df1['Xth'] = df1['Close'].shift(-1* pred_days)\n",
    "df1['Date_Xth'] = df1['Date'].shift(-1* pred_days)\n",
    "print(len(df1.Close))"
   ]
  },
  {
   "cell_type": "code",
   "execution_count": 9,
   "id": "ff1b1cd7",
   "metadata": {},
   "outputs": [
    {
     "data": {
      "text/html": [
       "<div>\n",
       "<style scoped>\n",
       "    .dataframe tbody tr th:only-of-type {\n",
       "        vertical-align: middle;\n",
       "    }\n",
       "\n",
       "    .dataframe tbody tr th {\n",
       "        vertical-align: top;\n",
       "    }\n",
       "\n",
       "    .dataframe thead th {\n",
       "        text-align: right;\n",
       "    }\n",
       "</style>\n",
       "<table border=\"1\" class=\"dataframe\">\n",
       "  <thead>\n",
       "    <tr style=\"text-align: right;\">\n",
       "      <th></th>\n",
       "      <th>Date</th>\n",
       "      <th>Close</th>\n",
       "      <th>Xth</th>\n",
       "      <th>Date_Xth</th>\n",
       "    </tr>\n",
       "  </thead>\n",
       "  <tbody>\n",
       "    <tr>\n",
       "      <th>0</th>\n",
       "      <td>2021-07-01</td>\n",
       "      <td>1560.40</td>\n",
       "      <td>1424.30</td>\n",
       "      <td>2021-06-10</td>\n",
       "    </tr>\n",
       "    <tr>\n",
       "      <th>1</th>\n",
       "      <td>2021-06-30</td>\n",
       "      <td>1580.80</td>\n",
       "      <td>1415.30</td>\n",
       "      <td>2021-06-09</td>\n",
       "    </tr>\n",
       "    <tr>\n",
       "      <th>2</th>\n",
       "      <td>2021-06-29</td>\n",
       "      <td>1563.05</td>\n",
       "      <td>1412.95</td>\n",
       "      <td>2021-06-08</td>\n",
       "    </tr>\n",
       "    <tr>\n",
       "      <th>3</th>\n",
       "      <td>2021-06-28</td>\n",
       "      <td>1571.80</td>\n",
       "      <td>1389.65</td>\n",
       "      <td>2021-06-07</td>\n",
       "    </tr>\n",
       "    <tr>\n",
       "      <th>4</th>\n",
       "      <td>2021-06-25</td>\n",
       "      <td>1574.20</td>\n",
       "      <td>1385.65</td>\n",
       "      <td>2021-06-04</td>\n",
       "    </tr>\n",
       "  </tbody>\n",
       "</table>\n",
       "</div>"
      ],
      "text/plain": [
       "         Date    Close      Xth    Date_Xth\n",
       "0  2021-07-01  1560.40  1424.30  2021-06-10\n",
       "1  2021-06-30  1580.80  1415.30  2021-06-09\n",
       "2  2021-06-29  1563.05  1412.95  2021-06-08\n",
       "3  2021-06-28  1571.80  1389.65  2021-06-07\n",
       "4  2021-06-25  1574.20  1385.65  2021-06-04"
      ]
     },
     "execution_count": 9,
     "metadata": {},
     "output_type": "execute_result"
    }
   ],
   "source": [
    "df1.head()"
   ]
  },
  {
   "cell_type": "markdown",
   "id": "4710816b",
   "metadata": {},
   "source": [
    "to do 8888888888888888888\n",
    "Note that when I label this Xth I should have correcponding date and not the T+pred_day date\n",
    "\n",
    "update: this is done"
   ]
  },
  {
   "cell_type": "code",
   "execution_count": 10,
   "id": "7bc9583c-a755-4b0c-a166-2ed557e8ad38",
   "metadata": {
    "colab": {
     "base_uri": "https://localhost:8080/",
     "height": 1000
    },
    "id": "7bc9583c-a755-4b0c-a166-2ed557e8ad38",
    "outputId": "1239918d-8fb3-4862-e5b6-133fb6d40cf5",
    "scrolled": true
   },
   "outputs": [
    {
     "name": "stdout",
     "output_type": "stream",
     "text": [
      "60\n"
     ]
    },
    {
     "name": "stderr",
     "output_type": "stream",
     "text": [
      "C:\\Users\\abhij\\AppData\\Local\\Temp\\ipykernel_30204\\4132079558.py:3: SettingWithCopyWarning: \n",
      "A value is trying to be set on a copy of a slice from a DataFrame.\n",
      "Try using .loc[row_indexer,col_indexer] = value instead\n",
      "\n",
      "See the caveats in the documentation: https://pandas.pydata.org/pandas-docs/stable/user_guide/indexing.html#returning-a-view-versus-a-copy\n",
      "  df1['temp'] = df1['Xth'] - df1['Xth'].shift(-1*i)\n",
      "C:\\Users\\abhij\\AppData\\Local\\Temp\\ipykernel_30204\\4132079558.py:4: SettingWithCopyWarning: \n",
      "A value is trying to be set on a copy of a slice from a DataFrame.\n",
      "Try using .loc[row_indexer,col_indexer] = value instead\n",
      "\n",
      "See the caveats in the documentation: https://pandas.pydata.org/pandas-docs/stable/user_guide/indexing.html#returning-a-view-versus-a-copy\n",
      "  df1['temp'] = df1['temp']/df1['Xth']*100\n"
     ]
    },
    {
     "name": "stdout",
     "output_type": "stream",
     "text": [
      "6348\n"
     ]
    },
    {
     "data": {
      "text/html": [
       "<div>\n",
       "<style scoped>\n",
       "    .dataframe tbody tr th:only-of-type {\n",
       "        vertical-align: middle;\n",
       "    }\n",
       "\n",
       "    .dataframe tbody tr th {\n",
       "        vertical-align: top;\n",
       "    }\n",
       "\n",
       "    .dataframe thead th {\n",
       "        text-align: right;\n",
       "    }\n",
       "</style>\n",
       "<table border=\"1\" class=\"dataframe\">\n",
       "  <thead>\n",
       "    <tr style=\"text-align: right;\">\n",
       "      <th></th>\n",
       "      <th>0</th>\n",
       "      <th>1</th>\n",
       "      <th>2</th>\n",
       "      <th>3</th>\n",
       "      <th>4</th>\n",
       "      <th>5</th>\n",
       "      <th>6</th>\n",
       "      <th>7</th>\n",
       "      <th>8</th>\n",
       "      <th>9</th>\n",
       "      <th>...</th>\n",
       "      <th>50</th>\n",
       "      <th>51</th>\n",
       "      <th>52</th>\n",
       "      <th>53</th>\n",
       "      <th>54</th>\n",
       "      <th>55</th>\n",
       "      <th>56</th>\n",
       "      <th>57</th>\n",
       "      <th>58</th>\n",
       "      <th>59</th>\n",
       "    </tr>\n",
       "  </thead>\n",
       "  <tbody>\n",
       "    <tr>\n",
       "      <th>0</th>\n",
       "      <td>0.631889</td>\n",
       "      <td>0.796883</td>\n",
       "      <td>2.432774</td>\n",
       "      <td>2.713614</td>\n",
       "      <td>2.432774</td>\n",
       "      <td>3.205083</td>\n",
       "      <td>2.604788</td>\n",
       "      <td>2.144913</td>\n",
       "      <td>1.351541</td>\n",
       "      <td>1.548129</td>\n",
       "      <td>...</td>\n",
       "      <td>4.953310</td>\n",
       "      <td>3.703574</td>\n",
       "      <td>3.756231</td>\n",
       "      <td>5.606263</td>\n",
       "      <td>6.122306</td>\n",
       "      <td>2.618830</td>\n",
       "      <td>2.829460</td>\n",
       "      <td>3.559643</td>\n",
       "      <td>3.471881</td>\n",
       "      <td>3.942287</td>\n",
       "    </tr>\n",
       "    <tr>\n",
       "      <th>1</th>\n",
       "      <td>0.166043</td>\n",
       "      <td>1.812337</td>\n",
       "      <td>2.094962</td>\n",
       "      <td>1.812337</td>\n",
       "      <td>2.589557</td>\n",
       "      <td>1.985445</td>\n",
       "      <td>1.522645</td>\n",
       "      <td>0.724228</td>\n",
       "      <td>0.922066</td>\n",
       "      <td>1.275348</td>\n",
       "      <td>...</td>\n",
       "      <td>3.091217</td>\n",
       "      <td>3.144210</td>\n",
       "      <td>5.006006</td>\n",
       "      <td>5.525330</td>\n",
       "      <td>1.999576</td>\n",
       "      <td>2.211545</td>\n",
       "      <td>2.946372</td>\n",
       "      <td>2.858051</td>\n",
       "      <td>3.331449</td>\n",
       "      <td>4.928284</td>\n",
       "    </tr>\n",
       "    <tr>\n",
       "      <th>2</th>\n",
       "      <td>1.649032</td>\n",
       "      <td>1.932128</td>\n",
       "      <td>1.649032</td>\n",
       "      <td>2.427545</td>\n",
       "      <td>1.822428</td>\n",
       "      <td>1.358859</td>\n",
       "      <td>0.559114</td>\n",
       "      <td>0.757281</td>\n",
       "      <td>1.111150</td>\n",
       "      <td>3.634240</td>\n",
       "      <td>...</td>\n",
       "      <td>2.983120</td>\n",
       "      <td>4.848013</td>\n",
       "      <td>5.368201</td>\n",
       "      <td>1.836583</td>\n",
       "      <td>2.048905</td>\n",
       "      <td>2.784953</td>\n",
       "      <td>2.696486</td>\n",
       "      <td>3.170671</td>\n",
       "      <td>4.770162</td>\n",
       "      <td>5.463746</td>\n",
       "    </tr>\n",
       "    <tr>\n",
       "      <th>3</th>\n",
       "      <td>0.287842</td>\n",
       "      <td>0.000000</td>\n",
       "      <td>0.791566</td>\n",
       "      <td>0.176303</td>\n",
       "      <td>-0.295038</td>\n",
       "      <td>-1.108193</td>\n",
       "      <td>-0.906703</td>\n",
       "      <td>-0.546900</td>\n",
       "      <td>2.018494</td>\n",
       "      <td>2.993560</td>\n",
       "      <td>...</td>\n",
       "      <td>3.252618</td>\n",
       "      <td>3.781528</td>\n",
       "      <td>0.190695</td>\n",
       "      <td>0.406577</td>\n",
       "      <td>1.154967</td>\n",
       "      <td>1.065016</td>\n",
       "      <td>1.547152</td>\n",
       "      <td>3.173461</td>\n",
       "      <td>3.878674</td>\n",
       "      <td>5.249523</td>\n",
       "    </tr>\n",
       "    <tr>\n",
       "      <th>4</th>\n",
       "      <td>-0.288673</td>\n",
       "      <td>0.505178</td>\n",
       "      <td>-0.111861</td>\n",
       "      <td>-0.584563</td>\n",
       "      <td>-1.400065</td>\n",
       "      <td>-1.197994</td>\n",
       "      <td>-0.837152</td>\n",
       "      <td>1.735648</td>\n",
       "      <td>2.713528</td>\n",
       "      <td>2.248042</td>\n",
       "      <td>...</td>\n",
       "      <td>3.503771</td>\n",
       "      <td>-0.097427</td>\n",
       "      <td>0.119078</td>\n",
       "      <td>0.869628</td>\n",
       "      <td>0.779418</td>\n",
       "      <td>1.262945</td>\n",
       "      <td>2.893949</td>\n",
       "      <td>3.601198</td>\n",
       "      <td>4.976004</td>\n",
       "      <td>3.990907</td>\n",
       "    </tr>\n",
       "    <tr>\n",
       "      <th>5</th>\n",
       "      <td>0.791566</td>\n",
       "      <td>0.176303</td>\n",
       "      <td>-0.295038</td>\n",
       "      <td>-1.108193</td>\n",
       "      <td>-0.906703</td>\n",
       "      <td>-0.546900</td>\n",
       "      <td>2.018494</td>\n",
       "      <td>2.993560</td>\n",
       "      <td>2.529414</td>\n",
       "      <td>3.623214</td>\n",
       "      <td>...</td>\n",
       "      <td>0.190695</td>\n",
       "      <td>0.406577</td>\n",
       "      <td>1.154967</td>\n",
       "      <td>1.065016</td>\n",
       "      <td>1.547152</td>\n",
       "      <td>3.173461</td>\n",
       "      <td>3.878674</td>\n",
       "      <td>5.249523</td>\n",
       "      <td>4.267262</td>\n",
       "      <td>3.317382</td>\n",
       "    </tr>\n",
       "    <tr>\n",
       "      <th>6</th>\n",
       "      <td>-0.620172</td>\n",
       "      <td>-1.095274</td>\n",
       "      <td>-1.914917</td>\n",
       "      <td>-1.711820</td>\n",
       "      <td>-1.349146</td>\n",
       "      <td>1.236717</td>\n",
       "      <td>2.219563</td>\n",
       "      <td>1.751714</td>\n",
       "      <td>2.854241</td>\n",
       "      <td>3.021071</td>\n",
       "      <td>...</td>\n",
       "      <td>-0.388061</td>\n",
       "      <td>0.366300</td>\n",
       "      <td>0.275632</td>\n",
       "      <td>0.761615</td>\n",
       "      <td>2.400899</td>\n",
       "      <td>3.111740</td>\n",
       "      <td>4.493526</td>\n",
       "      <td>3.503427</td>\n",
       "      <td>2.545969</td>\n",
       "      <td>5.378450</td>\n",
       "    </tr>\n",
       "    <tr>\n",
       "      <th>7</th>\n",
       "      <td>-0.472174</td>\n",
       "      <td>-1.286765</td>\n",
       "      <td>-1.084919</td>\n",
       "      <td>-0.724481</td>\n",
       "      <td>1.845444</td>\n",
       "      <td>2.822232</td>\n",
       "      <td>2.357266</td>\n",
       "      <td>3.452999</td>\n",
       "      <td>3.618800</td>\n",
       "      <td>3.402537</td>\n",
       "      <td>...</td>\n",
       "      <td>0.980392</td>\n",
       "      <td>0.890283</td>\n",
       "      <td>1.373270</td>\n",
       "      <td>3.002451</td>\n",
       "      <td>3.708910</td>\n",
       "      <td>5.082180</td>\n",
       "      <td>4.098183</td>\n",
       "      <td>3.146626</td>\n",
       "      <td>5.961649</td>\n",
       "      <td>8.664937</td>\n",
       "    </tr>\n",
       "    <tr>\n",
       "      <th>8</th>\n",
       "      <td>-0.810762</td>\n",
       "      <td>-0.609865</td>\n",
       "      <td>-0.251121</td>\n",
       "      <td>2.306726</td>\n",
       "      <td>3.278924</td>\n",
       "      <td>2.816143</td>\n",
       "      <td>3.906726</td>\n",
       "      <td>4.071749</td>\n",
       "      <td>3.856502</td>\n",
       "      <td>4.617040</td>\n",
       "      <td>...</td>\n",
       "      <td>1.356054</td>\n",
       "      <td>1.836771</td>\n",
       "      <td>3.458296</td>\n",
       "      <td>4.161435</td>\n",
       "      <td>5.528251</td>\n",
       "      <td>4.548879</td>\n",
       "      <td>3.601794</td>\n",
       "      <td>6.403587</td>\n",
       "      <td>9.094170</td>\n",
       "      <td>10.077130</td>\n",
       "    </tr>\n",
       "    <tr>\n",
       "      <th>9</th>\n",
       "      <td>0.199281</td>\n",
       "      <td>0.555140</td>\n",
       "      <td>3.092417</td>\n",
       "      <td>4.056795</td>\n",
       "      <td>3.597737</td>\n",
       "      <td>4.679549</td>\n",
       "      <td>4.843244</td>\n",
       "      <td>4.629728</td>\n",
       "      <td>5.384150</td>\n",
       "      <td>6.309384</td>\n",
       "      <td>...</td>\n",
       "      <td>2.626241</td>\n",
       "      <td>4.234725</td>\n",
       "      <td>4.932209</td>\n",
       "      <td>6.288032</td>\n",
       "      <td>5.316537</td>\n",
       "      <td>4.377068</td>\n",
       "      <td>7.156329</td>\n",
       "      <td>9.825273</td>\n",
       "      <td>10.800327</td>\n",
       "      <td>9.287926</td>\n",
       "    </tr>\n",
       "  </tbody>\n",
       "</table>\n",
       "<p>10 rows × 60 columns</p>\n",
       "</div>"
      ],
      "text/plain": [
       "         0         1         2         3         4         5         6   \\\n",
       "0  0.631889  0.796883  2.432774  2.713614  2.432774  3.205083  2.604788   \n",
       "1  0.166043  1.812337  2.094962  1.812337  2.589557  1.985445  1.522645   \n",
       "2  1.649032  1.932128  1.649032  2.427545  1.822428  1.358859  0.559114   \n",
       "3  0.287842  0.000000  0.791566  0.176303 -0.295038 -1.108193 -0.906703   \n",
       "4 -0.288673  0.505178 -0.111861 -0.584563 -1.400065 -1.197994 -0.837152   \n",
       "5  0.791566  0.176303 -0.295038 -1.108193 -0.906703 -0.546900  2.018494   \n",
       "6 -0.620172 -1.095274 -1.914917 -1.711820 -1.349146  1.236717  2.219563   \n",
       "7 -0.472174 -1.286765 -1.084919 -0.724481  1.845444  2.822232  2.357266   \n",
       "8 -0.810762 -0.609865 -0.251121  2.306726  3.278924  2.816143  3.906726   \n",
       "9  0.199281  0.555140  3.092417  4.056795  3.597737  4.679549  4.843244   \n",
       "\n",
       "         7         8         9   ...        50        51        52        53  \\\n",
       "0  2.144913  1.351541  1.548129  ...  4.953310  3.703574  3.756231  5.606263   \n",
       "1  0.724228  0.922066  1.275348  ...  3.091217  3.144210  5.006006  5.525330   \n",
       "2  0.757281  1.111150  3.634240  ...  2.983120  4.848013  5.368201  1.836583   \n",
       "3 -0.546900  2.018494  2.993560  ...  3.252618  3.781528  0.190695  0.406577   \n",
       "4  1.735648  2.713528  2.248042  ...  3.503771 -0.097427  0.119078  0.869628   \n",
       "5  2.993560  2.529414  3.623214  ...  0.190695  0.406577  1.154967  1.065016   \n",
       "6  1.751714  2.854241  3.021071  ... -0.388061  0.366300  0.275632  0.761615   \n",
       "7  3.452999  3.618800  3.402537  ...  0.980392  0.890283  1.373270  3.002451   \n",
       "8  4.071749  3.856502  4.617040  ...  1.356054  1.836771  3.458296  4.161435   \n",
       "9  4.629728  5.384150  6.309384  ...  2.626241  4.234725  4.932209  6.288032   \n",
       "\n",
       "         54        55        56        57         58         59  \n",
       "0  6.122306  2.618830  2.829460  3.559643   3.471881   3.942287  \n",
       "1  1.999576  2.211545  2.946372  2.858051   3.331449   4.928284  \n",
       "2  2.048905  2.784953  2.696486  3.170671   4.770162   5.463746  \n",
       "3  1.154967  1.065016  1.547152  3.173461   3.878674   5.249523  \n",
       "4  0.779418  1.262945  2.893949  3.601198   4.976004   3.990907  \n",
       "5  1.547152  3.173461  3.878674  5.249523   4.267262   3.317382  \n",
       "6  2.400899  3.111740  4.493526  3.503427   2.545969   5.378450  \n",
       "7  3.708910  5.082180  4.098183  3.146626   5.961649   8.664937  \n",
       "8  5.528251  4.548879  3.601794  6.403587   9.094170  10.077130  \n",
       "9  5.316537  4.377068  7.156329  9.825273  10.800327   9.287926  \n",
       "\n",
       "[10 rows x 60 columns]"
      ]
     },
     "execution_count": 10,
     "metadata": {},
     "output_type": "execute_result"
    }
   ],
   "source": [
    "\n",
    "\n",
    "c1 = []\n",
    "for i in range(1,days_shape+1):\n",
    "    df1['temp'] = df1['Xth'] - df1['Xth'].shift(-1*i)\n",
    "    df1['temp'] = df1['temp']/df1['Xth']*100\n",
    "    c1.append(df1['temp'].to_numpy())\n",
    "\n",
    "print(len(c1))    \n",
    "df2 = pd.DataFrame(c1)\n",
    "df3 = df2.transpose()\n",
    "print(len(df3[0]))\n",
    "\n",
    "df3.head(10)\n"
   ]
  },
  {
   "cell_type": "code",
   "execution_count": 11,
   "id": "c9f40cf7-dd88-407e-b8e4-46d3d9347d38",
   "metadata": {
    "colab": {
     "base_uri": "https://localhost:8080/"
    },
    "id": "c9f40cf7-dd88-407e-b8e4-46d3d9347d38",
    "outputId": "c1375cf0-f6b7-47d6-f6f2-35987bc4632a",
    "scrolled": true
   },
   "outputs": [
    {
     "data": {
      "text/plain": [
       "(6348, 60)"
      ]
     },
     "execution_count": 11,
     "metadata": {},
     "output_type": "execute_result"
    }
   ],
   "source": [
    "df3.shape\n"
   ]
  },
  {
   "cell_type": "code",
   "execution_count": 13,
   "id": "fa913eaa-d634-4a7e-bf4b-d8a235d30bf1",
   "metadata": {
    "colab": {
     "base_uri": "https://localhost:8080/"
    },
    "id": "fa913eaa-d634-4a7e-bf4b-d8a235d30bf1",
    "outputId": "1a074627-6ace-4fe6-e627-094a387348b1"
   },
   "outputs": [
    {
     "data": {
      "text/plain": [
       "array([[0.63188935, 0.79688268, 2.43277399, ..., 3.55964333, 3.47188092,\n",
       "        3.94228744],\n",
       "       [0.16604254, 1.81233661, 2.0949622 , ..., 2.8580513 , 3.33144916,\n",
       "        4.92828376],\n",
       "       [1.64903217, 1.93212782, 1.64903217, ..., 3.17067129, 4.77016172,\n",
       "        5.46374606],\n",
       "       ...,\n",
       "       [       nan,        nan,        nan, ...,        nan,        nan,\n",
       "               nan],\n",
       "       [       nan,        nan,        nan, ...,        nan,        nan,\n",
       "               nan],\n",
       "       [       nan,        nan,        nan, ...,        nan,        nan,\n",
       "               nan]])"
      ]
     },
     "execution_count": 13,
     "metadata": {},
     "output_type": "execute_result"
    }
   ],
   "source": [
    "c2 =df3.to_numpy()\n",
    "c2"
   ]
  },
  {
   "cell_type": "code",
   "execution_count": 14,
   "id": "880304ee-74c8-4bb5-82a1-ca7a0472b028",
   "metadata": {
    "colab": {
     "base_uri": "https://localhost:8080/"
    },
    "id": "880304ee-74c8-4bb5-82a1-ca7a0472b028",
    "outputId": "73b71715-819e-4c42-d28a-57e573368bdd"
   },
   "outputs": [
    {
     "data": {
      "text/plain": [
       "6348"
      ]
     },
     "execution_count": 14,
     "metadata": {},
     "output_type": "execute_result"
    }
   ],
   "source": [
    "len(c2)\n"
   ]
  },
  {
   "cell_type": "code",
   "execution_count": 15,
   "id": "829fed7d-8de6-4b65-b88c-ebb9fe12337d",
   "metadata": {
    "id": "829fed7d-8de6-4b65-b88c-ebb9fe12337d"
   },
   "outputs": [],
   "source": [
    "c3 =[]\n",
    "\n",
    "for i in range(int(len(c2)-days_shape)):\n",
    "      \n",
    "    c6 = np.concatenate((c2[i:i+days_shape]))\n",
    "    \n",
    "    c3.append(c6)\n",
    "    \n",
    "                "
   ]
  },
  {
   "cell_type": "code",
   "execution_count": 16,
   "id": "ff0b48d2-7d70-44cc-b835-d6ec671befd8",
   "metadata": {
    "colab": {
     "base_uri": "https://localhost:8080/"
    },
    "id": "ff0b48d2-7d70-44cc-b835-d6ec671befd8",
    "outputId": "6155793c-8028-409e-a3fb-7a75989ac987"
   },
   "outputs": [
    {
     "data": {
      "text/plain": [
       "[array([ 0.16604254,  1.81233661,  2.0949622 , ..., 14.79735409,\n",
       "        15.60866864, 14.8814092 ]),\n",
       " array([ 1.64903217,  1.93212782,  1.64903217, ..., 14.19122292,\n",
       "        13.45174836, 13.55207908])]"
      ]
     },
     "execution_count": 16,
     "metadata": {},
     "output_type": "execute_result"
    }
   ],
   "source": [
    "c3[1:3]"
   ]
  },
  {
   "cell_type": "code",
   "execution_count": 17,
   "id": "c90c7224",
   "metadata": {},
   "outputs": [
    {
     "data": {
      "text/plain": [
       "6288"
      ]
     },
     "execution_count": 17,
     "metadata": {},
     "output_type": "execute_result"
    }
   ],
   "source": [
    "len(c3)"
   ]
  },
  {
   "cell_type": "code",
   "execution_count": 21,
   "id": "d02ef96d",
   "metadata": {},
   "outputs": [
    {
     "data": {
      "text/plain": [
       "3600"
      ]
     },
     "execution_count": 21,
     "metadata": {},
     "output_type": "execute_result"
    }
   ],
   "source": [
    "len(c3[0])"
   ]
  },
  {
   "cell_type": "code",
   "execution_count": 18,
   "id": "80e6c0b3-2c32-4bbe-96a1-018ad6741f2c",
   "metadata": {
    "colab": {
     "base_uri": "https://localhost:8080/",
     "height": 456
    },
    "id": "80e6c0b3-2c32-4bbe-96a1-018ad6741f2c",
    "outputId": "2f5f8ca0-2b72-4f93-8a78-750aca710a5a",
    "scrolled": true
   },
   "outputs": [
    {
     "data": {
      "text/html": [
       "<div>\n",
       "<style scoped>\n",
       "    .dataframe tbody tr th:only-of-type {\n",
       "        vertical-align: middle;\n",
       "    }\n",
       "\n",
       "    .dataframe tbody tr th {\n",
       "        vertical-align: top;\n",
       "    }\n",
       "\n",
       "    .dataframe thead th {\n",
       "        text-align: right;\n",
       "    }\n",
       "</style>\n",
       "<table border=\"1\" class=\"dataframe\">\n",
       "  <thead>\n",
       "    <tr style=\"text-align: right;\">\n",
       "      <th></th>\n",
       "      <th>0</th>\n",
       "      <th>1</th>\n",
       "      <th>2</th>\n",
       "      <th>3</th>\n",
       "      <th>4</th>\n",
       "      <th>5</th>\n",
       "      <th>6</th>\n",
       "      <th>7</th>\n",
       "      <th>8</th>\n",
       "      <th>9</th>\n",
       "      <th>...</th>\n",
       "      <th>3590</th>\n",
       "      <th>3591</th>\n",
       "      <th>3592</th>\n",
       "      <th>3593</th>\n",
       "      <th>3594</th>\n",
       "      <th>3595</th>\n",
       "      <th>3596</th>\n",
       "      <th>3597</th>\n",
       "      <th>3598</th>\n",
       "      <th>3599</th>\n",
       "    </tr>\n",
       "  </thead>\n",
       "  <tbody>\n",
       "    <tr>\n",
       "      <th>0</th>\n",
       "      <td>0.631889</td>\n",
       "      <td>0.796883</td>\n",
       "      <td>2.432774</td>\n",
       "      <td>2.713614</td>\n",
       "      <td>2.432774</td>\n",
       "      <td>3.205083</td>\n",
       "      <td>2.604788</td>\n",
       "      <td>2.144913</td>\n",
       "      <td>1.351541</td>\n",
       "      <td>1.548129</td>\n",
       "      <td>...</td>\n",
       "      <td>9.059170</td>\n",
       "      <td>9.786522</td>\n",
       "      <td>10.095647</td>\n",
       "      <td>8.859148</td>\n",
       "      <td>11.226679</td>\n",
       "      <td>14.368840</td>\n",
       "      <td>13.459650</td>\n",
       "      <td>15.685347</td>\n",
       "      <td>15.212569</td>\n",
       "      <td>16.019929</td>\n",
       "    </tr>\n",
       "    <tr>\n",
       "      <th>1</th>\n",
       "      <td>0.166043</td>\n",
       "      <td>1.812337</td>\n",
       "      <td>2.094962</td>\n",
       "      <td>1.812337</td>\n",
       "      <td>2.589557</td>\n",
       "      <td>1.985445</td>\n",
       "      <td>1.522645</td>\n",
       "      <td>0.724228</td>\n",
       "      <td>0.922066</td>\n",
       "      <td>1.275348</td>\n",
       "      <td>...</td>\n",
       "      <td>9.344736</td>\n",
       "      <td>9.655374</td>\n",
       "      <td>8.412820</td>\n",
       "      <td>10.791945</td>\n",
       "      <td>13.949494</td>\n",
       "      <td>13.035851</td>\n",
       "      <td>15.272448</td>\n",
       "      <td>14.797354</td>\n",
       "      <td>15.608669</td>\n",
       "      <td>14.881409</td>\n",
       "    </tr>\n",
       "    <tr>\n",
       "      <th>2</th>\n",
       "      <td>1.649032</td>\n",
       "      <td>1.932128</td>\n",
       "      <td>1.649032</td>\n",
       "      <td>2.427545</td>\n",
       "      <td>1.822428</td>\n",
       "      <td>1.358859</td>\n",
       "      <td>0.559114</td>\n",
       "      <td>0.757281</td>\n",
       "      <td>1.111150</td>\n",
       "      <td>3.634240</td>\n",
       "      <td>...</td>\n",
       "      <td>8.137936</td>\n",
       "      <td>6.874512</td>\n",
       "      <td>9.293597</td>\n",
       "      <td>12.504180</td>\n",
       "      <td>11.575192</td>\n",
       "      <td>13.849355</td>\n",
       "      <td>13.366281</td>\n",
       "      <td>14.191223</td>\n",
       "      <td>13.451748</td>\n",
       "      <td>13.552079</td>\n",
       "    </tr>\n",
       "    <tr>\n",
       "      <th>3</th>\n",
       "      <td>0.287842</td>\n",
       "      <td>0.000000</td>\n",
       "      <td>0.791566</td>\n",
       "      <td>0.176303</td>\n",
       "      <td>-0.295038</td>\n",
       "      <td>-1.108193</td>\n",
       "      <td>-0.906703</td>\n",
       "      <td>-0.546900</td>\n",
       "      <td>2.018494</td>\n",
       "      <td>2.993560</td>\n",
       "      <td>...</td>\n",
       "      <td>6.191278</td>\n",
       "      <td>8.628112</td>\n",
       "      <td>11.862250</td>\n",
       "      <td>10.926446</td>\n",
       "      <td>13.217294</td>\n",
       "      <td>12.730676</td>\n",
       "      <td>13.561669</td>\n",
       "      <td>12.816770</td>\n",
       "      <td>12.917836</td>\n",
       "      <td>12.577204</td>\n",
       "    </tr>\n",
       "    <tr>\n",
       "      <th>4</th>\n",
       "      <td>-0.288673</td>\n",
       "      <td>0.505178</td>\n",
       "      <td>-0.111861</td>\n",
       "      <td>-0.584563</td>\n",
       "      <td>-1.400065</td>\n",
       "      <td>-1.197994</td>\n",
       "      <td>-0.837152</td>\n",
       "      <td>1.735648</td>\n",
       "      <td>2.713528</td>\n",
       "      <td>2.248042</td>\n",
       "      <td>...</td>\n",
       "      <td>7.306144</td>\n",
       "      <td>10.587074</td>\n",
       "      <td>9.637731</td>\n",
       "      <td>11.961722</td>\n",
       "      <td>11.468064</td>\n",
       "      <td>12.311081</td>\n",
       "      <td>11.555404</td>\n",
       "      <td>11.657933</td>\n",
       "      <td>11.312372</td>\n",
       "      <td>10.746563</td>\n",
       "    </tr>\n",
       "    <tr>\n",
       "      <th>5</th>\n",
       "      <td>0.791566</td>\n",
       "      <td>0.176303</td>\n",
       "      <td>-0.295038</td>\n",
       "      <td>-1.108193</td>\n",
       "      <td>-0.906703</td>\n",
       "      <td>-0.546900</td>\n",
       "      <td>2.018494</td>\n",
       "      <td>2.993560</td>\n",
       "      <td>2.529414</td>\n",
       "      <td>3.623214</td>\n",
       "      <td>...</td>\n",
       "      <td>11.504491</td>\n",
       "      <td>10.564889</td>\n",
       "      <td>12.865036</td>\n",
       "      <td>12.376442</td>\n",
       "      <td>13.210809</td>\n",
       "      <td>12.462886</td>\n",
       "      <td>12.564363</td>\n",
       "      <td>12.222348</td>\n",
       "      <td>11.662344</td>\n",
       "      <td>13.304769</td>\n",
       "    </tr>\n",
       "    <tr>\n",
       "      <th>6</th>\n",
       "      <td>-0.620172</td>\n",
       "      <td>-1.095274</td>\n",
       "      <td>-1.914917</td>\n",
       "      <td>-1.711820</td>\n",
       "      <td>-1.349146</td>\n",
       "      <td>1.236717</td>\n",
       "      <td>2.219563</td>\n",
       "      <td>1.751714</td>\n",
       "      <td>2.854241</td>\n",
       "      <td>3.021071</td>\n",
       "      <td>...</td>\n",
       "      <td>11.443564</td>\n",
       "      <td>13.721112</td>\n",
       "      <td>13.237319</td>\n",
       "      <td>14.063489</td>\n",
       "      <td>13.322913</td>\n",
       "      <td>13.423393</td>\n",
       "      <td>13.084738</td>\n",
       "      <td>12.530237</td>\n",
       "      <td>14.156526</td>\n",
       "      <td>14.889658</td>\n",
       "    </tr>\n",
       "    <tr>\n",
       "      <th>7</th>\n",
       "      <td>-0.472174</td>\n",
       "      <td>-1.286765</td>\n",
       "      <td>-1.084919</td>\n",
       "      <td>-0.724481</td>\n",
       "      <td>1.845444</td>\n",
       "      <td>2.822232</td>\n",
       "      <td>2.357266</td>\n",
       "      <td>3.452999</td>\n",
       "      <td>3.618800</td>\n",
       "      <td>3.402537</td>\n",
       "      <td>...</td>\n",
       "      <td>11.138367</td>\n",
       "      <td>10.640092</td>\n",
       "      <td>11.490993</td>\n",
       "      <td>10.728248</td>\n",
       "      <td>10.831736</td>\n",
       "      <td>10.482944</td>\n",
       "      <td>9.911844</td>\n",
       "      <td>11.586815</td>\n",
       "      <td>12.341893</td>\n",
       "      <td>13.020314</td>\n",
       "    </tr>\n",
       "    <tr>\n",
       "      <th>8</th>\n",
       "      <td>-0.810762</td>\n",
       "      <td>-0.609865</td>\n",
       "      <td>-0.251121</td>\n",
       "      <td>2.306726</td>\n",
       "      <td>3.278924</td>\n",
       "      <td>2.816143</td>\n",
       "      <td>3.906726</td>\n",
       "      <td>4.071749</td>\n",
       "      <td>3.856502</td>\n",
       "      <td>4.617040</td>\n",
       "      <td>...</td>\n",
       "      <td>7.995264</td>\n",
       "      <td>8.871350</td>\n",
       "      <td>8.086030</td>\n",
       "      <td>8.192581</td>\n",
       "      <td>7.833465</td>\n",
       "      <td>7.245462</td>\n",
       "      <td>8.970008</td>\n",
       "      <td>9.747435</td>\n",
       "      <td>10.445935</td>\n",
       "      <td>11.093133</td>\n",
       "    </tr>\n",
       "    <tr>\n",
       "      <th>9</th>\n",
       "      <td>0.199281</td>\n",
       "      <td>0.555140</td>\n",
       "      <td>3.092417</td>\n",
       "      <td>4.056795</td>\n",
       "      <td>3.597737</td>\n",
       "      <td>4.679549</td>\n",
       "      <td>4.843244</td>\n",
       "      <td>4.629728</td>\n",
       "      <td>5.384150</td>\n",
       "      <td>6.309384</td>\n",
       "      <td>...</td>\n",
       "      <td>7.875209</td>\n",
       "      <td>7.081305</td>\n",
       "      <td>7.189021</td>\n",
       "      <td>6.825979</td>\n",
       "      <td>6.231549</td>\n",
       "      <td>7.974946</td>\n",
       "      <td>8.760871</td>\n",
       "      <td>9.467007</td>\n",
       "      <td>10.121280</td>\n",
       "      <td>8.968324</td>\n",
       "    </tr>\n",
       "  </tbody>\n",
       "</table>\n",
       "<p>10 rows × 3600 columns</p>\n",
       "</div>"
      ],
      "text/plain": [
       "       0         1         2         3         4         5         6     \\\n",
       "0  0.631889  0.796883  2.432774  2.713614  2.432774  3.205083  2.604788   \n",
       "1  0.166043  1.812337  2.094962  1.812337  2.589557  1.985445  1.522645   \n",
       "2  1.649032  1.932128  1.649032  2.427545  1.822428  1.358859  0.559114   \n",
       "3  0.287842  0.000000  0.791566  0.176303 -0.295038 -1.108193 -0.906703   \n",
       "4 -0.288673  0.505178 -0.111861 -0.584563 -1.400065 -1.197994 -0.837152   \n",
       "5  0.791566  0.176303 -0.295038 -1.108193 -0.906703 -0.546900  2.018494   \n",
       "6 -0.620172 -1.095274 -1.914917 -1.711820 -1.349146  1.236717  2.219563   \n",
       "7 -0.472174 -1.286765 -1.084919 -0.724481  1.845444  2.822232  2.357266   \n",
       "8 -0.810762 -0.609865 -0.251121  2.306726  3.278924  2.816143  3.906726   \n",
       "9  0.199281  0.555140  3.092417  4.056795  3.597737  4.679549  4.843244   \n",
       "\n",
       "       7         8         9     ...       3590       3591       3592  \\\n",
       "0  2.144913  1.351541  1.548129  ...   9.059170   9.786522  10.095647   \n",
       "1  0.724228  0.922066  1.275348  ...   9.344736   9.655374   8.412820   \n",
       "2  0.757281  1.111150  3.634240  ...   8.137936   6.874512   9.293597   \n",
       "3 -0.546900  2.018494  2.993560  ...   6.191278   8.628112  11.862250   \n",
       "4  1.735648  2.713528  2.248042  ...   7.306144  10.587074   9.637731   \n",
       "5  2.993560  2.529414  3.623214  ...  11.504491  10.564889  12.865036   \n",
       "6  1.751714  2.854241  3.021071  ...  11.443564  13.721112  13.237319   \n",
       "7  3.452999  3.618800  3.402537  ...  11.138367  10.640092  11.490993   \n",
       "8  4.071749  3.856502  4.617040  ...   7.995264   8.871350   8.086030   \n",
       "9  4.629728  5.384150  6.309384  ...   7.875209   7.081305   7.189021   \n",
       "\n",
       "        3593       3594       3595       3596       3597       3598       3599  \n",
       "0   8.859148  11.226679  14.368840  13.459650  15.685347  15.212569  16.019929  \n",
       "1  10.791945  13.949494  13.035851  15.272448  14.797354  15.608669  14.881409  \n",
       "2  12.504180  11.575192  13.849355  13.366281  14.191223  13.451748  13.552079  \n",
       "3  10.926446  13.217294  12.730676  13.561669  12.816770  12.917836  12.577204  \n",
       "4  11.961722  11.468064  12.311081  11.555404  11.657933  11.312372  10.746563  \n",
       "5  12.376442  13.210809  12.462886  12.564363  12.222348  11.662344  13.304769  \n",
       "6  14.063489  13.322913  13.423393  13.084738  12.530237  14.156526  14.889658  \n",
       "7  10.728248  10.831736  10.482944   9.911844  11.586815  12.341893  13.020314  \n",
       "8   8.192581   7.833465   7.245462   8.970008   9.747435  10.445935  11.093133  \n",
       "9   6.825979   6.231549   7.974946   8.760871   9.467007  10.121280   8.968324  \n",
       "\n",
       "[10 rows x 3600 columns]"
      ]
     },
     "execution_count": 18,
     "metadata": {},
     "output_type": "execute_result"
    }
   ],
   "source": [
    "df4 = pd.DataFrame(c3)\n",
    "df4.head(10)"
   ]
  },
  {
   "cell_type": "code",
   "execution_count": 19,
   "id": "079e25aa",
   "metadata": {
    "colab": {
     "base_uri": "https://localhost:8080/"
    },
    "id": "079e25aa",
    "outputId": "de5df3bf-5eeb-43ea-ba2a-519d1f20b14c",
    "scrolled": false
   },
   "outputs": [
    {
     "data": {
      "text/plain": [
       "(6288, 3600)"
      ]
     },
     "execution_count": 19,
     "metadata": {},
     "output_type": "execute_result"
    }
   ],
   "source": [
    "df4.shape"
   ]
  },
  {
   "cell_type": "code",
   "execution_count": 22,
   "id": "a1e62f24",
   "metadata": {},
   "outputs": [],
   "source": [
    "\n",
    "df4_with_labels = df4\n",
    "df4_with_labels['Xth'] = df1.loc[:df4.shape[0]-1,'Xth']\n",
    "df4_with_labels['Date_Xth'] = df1.loc[:df4.shape[0]-1,'Date_Xth']\n",
    "df4_with_labels['Close'] = df1.loc[:df4.shape[0]-1,'Close']"
   ]
  },
  {
   "cell_type": "code",
   "execution_count": 23,
   "id": "82d42b4a",
   "metadata": {},
   "outputs": [
    {
     "data": {
      "text/plain": [
       "(6288, 3603)"
      ]
     },
     "execution_count": 23,
     "metadata": {},
     "output_type": "execute_result"
    }
   ],
   "source": [
    "df4_with_labels.shape"
   ]
  },
  {
   "cell_type": "markdown",
   "id": "c30e81e5",
   "metadata": {},
   "source": [
    "This is the mail data set \n",
    "df4_with_labels\n"
   ]
  },
  {
   "cell_type": "code",
   "execution_count": 32,
   "id": "f2b44ecd",
   "metadata": {
    "scrolled": true
   },
   "outputs": [
    {
     "data": {
      "text/html": [
       "<div>\n",
       "<style scoped>\n",
       "    .dataframe tbody tr th:only-of-type {\n",
       "        vertical-align: middle;\n",
       "    }\n",
       "\n",
       "    .dataframe tbody tr th {\n",
       "        vertical-align: top;\n",
       "    }\n",
       "\n",
       "    .dataframe thead th {\n",
       "        text-align: right;\n",
       "    }\n",
       "</style>\n",
       "<table border=\"1\" class=\"dataframe\">\n",
       "  <thead>\n",
       "    <tr style=\"text-align: right;\">\n",
       "      <th></th>\n",
       "      <th>0</th>\n",
       "      <th>1</th>\n",
       "      <th>2</th>\n",
       "      <th>3</th>\n",
       "      <th>4</th>\n",
       "      <th>5</th>\n",
       "      <th>6</th>\n",
       "      <th>7</th>\n",
       "      <th>8</th>\n",
       "      <th>9</th>\n",
       "      <th>...</th>\n",
       "      <th>3593</th>\n",
       "      <th>3594</th>\n",
       "      <th>3595</th>\n",
       "      <th>3596</th>\n",
       "      <th>3597</th>\n",
       "      <th>3598</th>\n",
       "      <th>3599</th>\n",
       "      <th>Xth</th>\n",
       "      <th>Date_Xth</th>\n",
       "      <th>Close</th>\n",
       "    </tr>\n",
       "  </thead>\n",
       "  <tbody>\n",
       "    <tr>\n",
       "      <th>0</th>\n",
       "      <td>0.631889</td>\n",
       "      <td>0.796883</td>\n",
       "      <td>2.432774</td>\n",
       "      <td>2.713614</td>\n",
       "      <td>2.432774</td>\n",
       "      <td>3.205083</td>\n",
       "      <td>2.604788</td>\n",
       "      <td>2.144913</td>\n",
       "      <td>1.351541</td>\n",
       "      <td>1.548129</td>\n",
       "      <td>...</td>\n",
       "      <td>8.859148</td>\n",
       "      <td>11.226679</td>\n",
       "      <td>14.368840</td>\n",
       "      <td>13.459650</td>\n",
       "      <td>15.685347</td>\n",
       "      <td>15.212569</td>\n",
       "      <td>16.019929</td>\n",
       "      <td>1424.30</td>\n",
       "      <td>2021-06-10</td>\n",
       "      <td>1560.40</td>\n",
       "    </tr>\n",
       "    <tr>\n",
       "      <th>1</th>\n",
       "      <td>0.166043</td>\n",
       "      <td>1.812337</td>\n",
       "      <td>2.094962</td>\n",
       "      <td>1.812337</td>\n",
       "      <td>2.589557</td>\n",
       "      <td>1.985445</td>\n",
       "      <td>1.522645</td>\n",
       "      <td>0.724228</td>\n",
       "      <td>0.922066</td>\n",
       "      <td>1.275348</td>\n",
       "      <td>...</td>\n",
       "      <td>10.791945</td>\n",
       "      <td>13.949494</td>\n",
       "      <td>13.035851</td>\n",
       "      <td>15.272448</td>\n",
       "      <td>14.797354</td>\n",
       "      <td>15.608669</td>\n",
       "      <td>14.881409</td>\n",
       "      <td>1415.30</td>\n",
       "      <td>2021-06-09</td>\n",
       "      <td>1580.80</td>\n",
       "    </tr>\n",
       "    <tr>\n",
       "      <th>2</th>\n",
       "      <td>1.649032</td>\n",
       "      <td>1.932128</td>\n",
       "      <td>1.649032</td>\n",
       "      <td>2.427545</td>\n",
       "      <td>1.822428</td>\n",
       "      <td>1.358859</td>\n",
       "      <td>0.559114</td>\n",
       "      <td>0.757281</td>\n",
       "      <td>1.111150</td>\n",
       "      <td>3.634240</td>\n",
       "      <td>...</td>\n",
       "      <td>12.504180</td>\n",
       "      <td>11.575192</td>\n",
       "      <td>13.849355</td>\n",
       "      <td>13.366281</td>\n",
       "      <td>14.191223</td>\n",
       "      <td>13.451748</td>\n",
       "      <td>13.552079</td>\n",
       "      <td>1412.95</td>\n",
       "      <td>2021-06-08</td>\n",
       "      <td>1563.05</td>\n",
       "    </tr>\n",
       "    <tr>\n",
       "      <th>3</th>\n",
       "      <td>0.287842</td>\n",
       "      <td>0.000000</td>\n",
       "      <td>0.791566</td>\n",
       "      <td>0.176303</td>\n",
       "      <td>-0.295038</td>\n",
       "      <td>-1.108193</td>\n",
       "      <td>-0.906703</td>\n",
       "      <td>-0.546900</td>\n",
       "      <td>2.018494</td>\n",
       "      <td>2.993560</td>\n",
       "      <td>...</td>\n",
       "      <td>10.926446</td>\n",
       "      <td>13.217294</td>\n",
       "      <td>12.730676</td>\n",
       "      <td>13.561669</td>\n",
       "      <td>12.816770</td>\n",
       "      <td>12.917836</td>\n",
       "      <td>12.577204</td>\n",
       "      <td>1389.65</td>\n",
       "      <td>2021-06-07</td>\n",
       "      <td>1571.80</td>\n",
       "    </tr>\n",
       "    <tr>\n",
       "      <th>4</th>\n",
       "      <td>-0.288673</td>\n",
       "      <td>0.505178</td>\n",
       "      <td>-0.111861</td>\n",
       "      <td>-0.584563</td>\n",
       "      <td>-1.400065</td>\n",
       "      <td>-1.197994</td>\n",
       "      <td>-0.837152</td>\n",
       "      <td>1.735648</td>\n",
       "      <td>2.713528</td>\n",
       "      <td>2.248042</td>\n",
       "      <td>...</td>\n",
       "      <td>11.961722</td>\n",
       "      <td>11.468064</td>\n",
       "      <td>12.311081</td>\n",
       "      <td>11.555404</td>\n",
       "      <td>11.657933</td>\n",
       "      <td>11.312372</td>\n",
       "      <td>10.746563</td>\n",
       "      <td>1385.65</td>\n",
       "      <td>2021-06-04</td>\n",
       "      <td>1574.20</td>\n",
       "    </tr>\n",
       "  </tbody>\n",
       "</table>\n",
       "<p>5 rows × 3603 columns</p>\n",
       "</div>"
      ],
      "text/plain": [
       "          0         1         2         3         4         5         6  \\\n",
       "0  0.631889  0.796883  2.432774  2.713614  2.432774  3.205083  2.604788   \n",
       "1  0.166043  1.812337  2.094962  1.812337  2.589557  1.985445  1.522645   \n",
       "2  1.649032  1.932128  1.649032  2.427545  1.822428  1.358859  0.559114   \n",
       "3  0.287842  0.000000  0.791566  0.176303 -0.295038 -1.108193 -0.906703   \n",
       "4 -0.288673  0.505178 -0.111861 -0.584563 -1.400065 -1.197994 -0.837152   \n",
       "\n",
       "          7         8         9  ...       3593       3594       3595  \\\n",
       "0  2.144913  1.351541  1.548129  ...   8.859148  11.226679  14.368840   \n",
       "1  0.724228  0.922066  1.275348  ...  10.791945  13.949494  13.035851   \n",
       "2  0.757281  1.111150  3.634240  ...  12.504180  11.575192  13.849355   \n",
       "3 -0.546900  2.018494  2.993560  ...  10.926446  13.217294  12.730676   \n",
       "4  1.735648  2.713528  2.248042  ...  11.961722  11.468064  12.311081   \n",
       "\n",
       "        3596       3597       3598       3599      Xth    Date_Xth    Close  \n",
       "0  13.459650  15.685347  15.212569  16.019929  1424.30  2021-06-10  1560.40  \n",
       "1  15.272448  14.797354  15.608669  14.881409  1415.30  2021-06-09  1580.80  \n",
       "2  13.366281  14.191223  13.451748  13.552079  1412.95  2021-06-08  1563.05  \n",
       "3  13.561669  12.816770  12.917836  12.577204  1389.65  2021-06-07  1571.80  \n",
       "4  11.555404  11.657933  11.312372  10.746563  1385.65  2021-06-04  1574.20  \n",
       "\n",
       "[5 rows x 3603 columns]"
      ]
     },
     "execution_count": 32,
     "metadata": {},
     "output_type": "execute_result"
    }
   ],
   "source": [
    "df4_with_labels.head()"
   ]
  },
  {
   "cell_type": "code",
   "execution_count": 20,
   "id": "8e10c159",
   "metadata": {
    "colab": {
     "base_uri": "https://localhost:8080/"
    },
    "id": "8e10c159",
    "outputId": "867af6c5-9b49-4543-bb30-35684f534f91"
   },
   "outputs": [
    {
     "data": {
      "text/plain": [
       "(6348, 5)"
      ]
     },
     "execution_count": 20,
     "metadata": {},
     "output_type": "execute_result"
    }
   ],
   "source": [
    "#df1.shape"
   ]
  },
  {
   "cell_type": "code",
   "execution_count": null,
   "id": "0eZjVvVrXTT6",
   "metadata": {
    "id": "0eZjVvVrXTT6"
   },
   "outputs": [],
   "source": [
    "#aes = df1.shape[0]"
   ]
  },
  {
   "cell_type": "code",
   "execution_count": null,
   "id": "03fda546",
   "metadata": {
    "colab": {
     "base_uri": "https://localhost:8080/"
    },
    "id": "03fda546",
    "outputId": "45128f1e-6e0c-41fa-ca52-f892599cf426"
   },
   "outputs": [],
   "source": [
    "#df4['Close'] = df1.iloc[:aes]['Close']\n",
    "\n",
    "#df4['Xth'] = df1.iloc[:aes]['Xth']\n",
    "#df4.shape"
   ]
  },
  {
   "cell_type": "code",
   "execution_count": null,
   "id": "a77df552-f1e7-468e-b7b3-1e4de33ddf96",
   "metadata": {
    "colab": {
     "base_uri": "https://localhost:8080/",
     "height": 299
    },
    "id": "a77df552-f1e7-468e-b7b3-1e4de33ddf96",
    "outputId": "a9d23c5c-3236-4446-fa75-e10ec0689964"
   },
   "outputs": [],
   "source": [
    "#df3.head(5)"
   ]
  },
  {
   "cell_type": "code",
   "execution_count": null,
   "id": "db71c2a8-3753-4466-9b4d-2fee0f741c70",
   "metadata": {
    "colab": {
     "base_uri": "https://localhost:8080/"
    },
    "id": "db71c2a8-3753-4466-9b4d-2fee0f741c70",
    "outputId": "b9750366-f531-4514-a4b0-c6cfa6b40b1e"
   },
   "outputs": [],
   "source": [
    "#df4.shape"
   ]
  },
  {
   "cell_type": "code",
   "execution_count": 33,
   "id": "92d00432-3400-4f75-afc9-50fa4c44d3a7",
   "metadata": {
    "id": "92d00432-3400-4f75-afc9-50fa4c44d3a7"
   },
   "outputs": [],
   "source": [
    "df5 = df4_with_labels.dropna()\n"
   ]
  },
  {
   "cell_type": "code",
   "execution_count": 34,
   "id": "f397ea72-2124-4b30-b27e-e69b6ecbd722",
   "metadata": {
    "colab": {
     "base_uri": "https://localhost:8080/"
    },
    "id": "f397ea72-2124-4b30-b27e-e69b6ecbd722",
    "outputId": "3e945a34-cb52-4377-81e7-127cbf1201af"
   },
   "outputs": [
    {
     "data": {
      "text/plain": [
       "(6214, 3603)"
      ]
     },
     "execution_count": 34,
     "metadata": {},
     "output_type": "execute_result"
    }
   ],
   "source": [
    "df5.shape\n",
    "        "
   ]
  },
  {
   "cell_type": "code",
   "execution_count": 37,
   "id": "8ea8a02f",
   "metadata": {
    "colab": {
     "base_uri": "https://localhost:8080/"
    },
    "id": "8ea8a02f",
    "outputId": "cb7e946a-c9e5-43a3-bde8-2f89e78a9f60"
   },
   "outputs": [
    {
     "data": {
      "text/plain": [
       "False    5773\n",
       "True      441\n",
       "Name: result, dtype: int64"
      ]
     },
     "execution_count": 37,
     "metadata": {},
     "output_type": "execute_result"
    }
   ],
   "source": [
    "df6 = df5\n",
    "df6 = df6.assign(result = lambda x: (((x['Close'] - x['Xth'])/x['Xth'])*100)>reward)\n",
    "    \n",
    "df6['result'].value_counts()  "
   ]
  },
  {
   "cell_type": "code",
   "execution_count": null,
   "id": "d220015a",
   "metadata": {
    "id": "d220015a"
   },
   "outputs": [],
   "source": []
  },
  {
   "cell_type": "code",
   "execution_count": 38,
   "id": "f7255de8",
   "metadata": {
    "colab": {
     "base_uri": "https://localhost:8080/"
    },
    "id": "f7255de8",
    "outputId": "50d28c0b-54d2-4f96-d4db-94ff3ccfb706"
   },
   "outputs": [
    {
     "name": "stderr",
     "output_type": "stream",
     "text": [
      "C:\\Users\\abhij\\AppData\\Local\\Temp\\ipykernel_30204\\4073025108.py:3: SettingWithCopyWarning: \n",
      "A value is trying to be set on a copy of a slice from a DataFrame\n",
      "\n",
      "See the caveats in the documentation: https://pandas.pydata.org/pandas-docs/stable/user_guide/indexing.html#returning-a-view-versus-a-copy\n",
      "  df6['result'][i] = 0\n"
     ]
    }
   ],
   "source": [
    "for i in range(len(df6.result)):\n",
    "    if df6['result'][i] == False:\n",
    "       df6['result'][i] = 0\n",
    "    else:\n",
    "       df6['result'][i] = 1\n",
    "        "
   ]
  },
  {
   "cell_type": "code",
   "execution_count": 39,
   "id": "ac826d73",
   "metadata": {
    "colab": {
     "base_uri": "https://localhost:8080/"
    },
    "id": "ac826d73",
    "outputId": "87a14330-4c52-4047-b0f5-8f29b9e534a9"
   },
   "outputs": [
    {
     "data": {
      "text/plain": [
       "count     6214\n",
       "unique       2\n",
       "top          0\n",
       "freq      5773\n",
       "Name: result, dtype: int64"
      ]
     },
     "execution_count": 39,
     "metadata": {},
     "output_type": "execute_result"
    }
   ],
   "source": [
    "df6.result.describe()"
   ]
  },
  {
   "cell_type": "code",
   "execution_count": 40,
   "id": "0032577c",
   "metadata": {
    "colab": {
     "base_uri": "https://localhost:8080/",
     "height": 299
    },
    "id": "0032577c",
    "outputId": "94251d5f-62d3-42a3-b92e-0f2e2d400642"
   },
   "outputs": [
    {
     "data": {
      "text/html": [
       "<div>\n",
       "<style scoped>\n",
       "    .dataframe tbody tr th:only-of-type {\n",
       "        vertical-align: middle;\n",
       "    }\n",
       "\n",
       "    .dataframe tbody tr th {\n",
       "        vertical-align: top;\n",
       "    }\n",
       "\n",
       "    .dataframe thead th {\n",
       "        text-align: right;\n",
       "    }\n",
       "</style>\n",
       "<table border=\"1\" class=\"dataframe\">\n",
       "  <thead>\n",
       "    <tr style=\"text-align: right;\">\n",
       "      <th></th>\n",
       "      <th>0</th>\n",
       "      <th>1</th>\n",
       "      <th>2</th>\n",
       "      <th>3</th>\n",
       "      <th>4</th>\n",
       "      <th>5</th>\n",
       "      <th>6</th>\n",
       "      <th>7</th>\n",
       "      <th>8</th>\n",
       "      <th>9</th>\n",
       "      <th>...</th>\n",
       "      <th>3594</th>\n",
       "      <th>3595</th>\n",
       "      <th>3596</th>\n",
       "      <th>3597</th>\n",
       "      <th>3598</th>\n",
       "      <th>3599</th>\n",
       "      <th>Xth</th>\n",
       "      <th>Date_Xth</th>\n",
       "      <th>Close</th>\n",
       "      <th>result</th>\n",
       "    </tr>\n",
       "  </thead>\n",
       "  <tbody>\n",
       "    <tr>\n",
       "      <th>0</th>\n",
       "      <td>0.631889</td>\n",
       "      <td>0.796883</td>\n",
       "      <td>2.432774</td>\n",
       "      <td>2.713614</td>\n",
       "      <td>2.432774</td>\n",
       "      <td>3.205083</td>\n",
       "      <td>2.604788</td>\n",
       "      <td>2.144913</td>\n",
       "      <td>1.351541</td>\n",
       "      <td>1.548129</td>\n",
       "      <td>...</td>\n",
       "      <td>11.226679</td>\n",
       "      <td>14.368840</td>\n",
       "      <td>13.459650</td>\n",
       "      <td>15.685347</td>\n",
       "      <td>15.212569</td>\n",
       "      <td>16.019929</td>\n",
       "      <td>1424.30</td>\n",
       "      <td>2021-06-10</td>\n",
       "      <td>1560.40</td>\n",
       "      <td>0</td>\n",
       "    </tr>\n",
       "    <tr>\n",
       "      <th>1</th>\n",
       "      <td>0.166043</td>\n",
       "      <td>1.812337</td>\n",
       "      <td>2.094962</td>\n",
       "      <td>1.812337</td>\n",
       "      <td>2.589557</td>\n",
       "      <td>1.985445</td>\n",
       "      <td>1.522645</td>\n",
       "      <td>0.724228</td>\n",
       "      <td>0.922066</td>\n",
       "      <td>1.275348</td>\n",
       "      <td>...</td>\n",
       "      <td>13.949494</td>\n",
       "      <td>13.035851</td>\n",
       "      <td>15.272448</td>\n",
       "      <td>14.797354</td>\n",
       "      <td>15.608669</td>\n",
       "      <td>14.881409</td>\n",
       "      <td>1415.30</td>\n",
       "      <td>2021-06-09</td>\n",
       "      <td>1580.80</td>\n",
       "      <td>0</td>\n",
       "    </tr>\n",
       "    <tr>\n",
       "      <th>2</th>\n",
       "      <td>1.649032</td>\n",
       "      <td>1.932128</td>\n",
       "      <td>1.649032</td>\n",
       "      <td>2.427545</td>\n",
       "      <td>1.822428</td>\n",
       "      <td>1.358859</td>\n",
       "      <td>0.559114</td>\n",
       "      <td>0.757281</td>\n",
       "      <td>1.111150</td>\n",
       "      <td>3.634240</td>\n",
       "      <td>...</td>\n",
       "      <td>11.575192</td>\n",
       "      <td>13.849355</td>\n",
       "      <td>13.366281</td>\n",
       "      <td>14.191223</td>\n",
       "      <td>13.451748</td>\n",
       "      <td>13.552079</td>\n",
       "      <td>1412.95</td>\n",
       "      <td>2021-06-08</td>\n",
       "      <td>1563.05</td>\n",
       "      <td>0</td>\n",
       "    </tr>\n",
       "    <tr>\n",
       "      <th>3</th>\n",
       "      <td>0.287842</td>\n",
       "      <td>0.000000</td>\n",
       "      <td>0.791566</td>\n",
       "      <td>0.176303</td>\n",
       "      <td>-0.295038</td>\n",
       "      <td>-1.108193</td>\n",
       "      <td>-0.906703</td>\n",
       "      <td>-0.546900</td>\n",
       "      <td>2.018494</td>\n",
       "      <td>2.993560</td>\n",
       "      <td>...</td>\n",
       "      <td>13.217294</td>\n",
       "      <td>12.730676</td>\n",
       "      <td>13.561669</td>\n",
       "      <td>12.816770</td>\n",
       "      <td>12.917836</td>\n",
       "      <td>12.577204</td>\n",
       "      <td>1389.65</td>\n",
       "      <td>2021-06-07</td>\n",
       "      <td>1571.80</td>\n",
       "      <td>0</td>\n",
       "    </tr>\n",
       "    <tr>\n",
       "      <th>4</th>\n",
       "      <td>-0.288673</td>\n",
       "      <td>0.505178</td>\n",
       "      <td>-0.111861</td>\n",
       "      <td>-0.584563</td>\n",
       "      <td>-1.400065</td>\n",
       "      <td>-1.197994</td>\n",
       "      <td>-0.837152</td>\n",
       "      <td>1.735648</td>\n",
       "      <td>2.713528</td>\n",
       "      <td>2.248042</td>\n",
       "      <td>...</td>\n",
       "      <td>11.468064</td>\n",
       "      <td>12.311081</td>\n",
       "      <td>11.555404</td>\n",
       "      <td>11.657933</td>\n",
       "      <td>11.312372</td>\n",
       "      <td>10.746563</td>\n",
       "      <td>1385.65</td>\n",
       "      <td>2021-06-04</td>\n",
       "      <td>1574.20</td>\n",
       "      <td>0</td>\n",
       "    </tr>\n",
       "  </tbody>\n",
       "</table>\n",
       "<p>5 rows × 3604 columns</p>\n",
       "</div>"
      ],
      "text/plain": [
       "          0         1         2         3         4         5         6  \\\n",
       "0  0.631889  0.796883  2.432774  2.713614  2.432774  3.205083  2.604788   \n",
       "1  0.166043  1.812337  2.094962  1.812337  2.589557  1.985445  1.522645   \n",
       "2  1.649032  1.932128  1.649032  2.427545  1.822428  1.358859  0.559114   \n",
       "3  0.287842  0.000000  0.791566  0.176303 -0.295038 -1.108193 -0.906703   \n",
       "4 -0.288673  0.505178 -0.111861 -0.584563 -1.400065 -1.197994 -0.837152   \n",
       "\n",
       "          7         8         9  ...       3594       3595       3596  \\\n",
       "0  2.144913  1.351541  1.548129  ...  11.226679  14.368840  13.459650   \n",
       "1  0.724228  0.922066  1.275348  ...  13.949494  13.035851  15.272448   \n",
       "2  0.757281  1.111150  3.634240  ...  11.575192  13.849355  13.366281   \n",
       "3 -0.546900  2.018494  2.993560  ...  13.217294  12.730676  13.561669   \n",
       "4  1.735648  2.713528  2.248042  ...  11.468064  12.311081  11.555404   \n",
       "\n",
       "        3597       3598       3599      Xth    Date_Xth    Close  result  \n",
       "0  15.685347  15.212569  16.019929  1424.30  2021-06-10  1560.40       0  \n",
       "1  14.797354  15.608669  14.881409  1415.30  2021-06-09  1580.80       0  \n",
       "2  14.191223  13.451748  13.552079  1412.95  2021-06-08  1563.05       0  \n",
       "3  12.816770  12.917836  12.577204  1389.65  2021-06-07  1571.80       0  \n",
       "4  11.657933  11.312372  10.746563  1385.65  2021-06-04  1574.20       0  \n",
       "\n",
       "[5 rows x 3604 columns]"
      ]
     },
     "execution_count": 40,
     "metadata": {},
     "output_type": "execute_result"
    }
   ],
   "source": [
    "df6.head()"
   ]
  },
  {
   "cell_type": "code",
   "execution_count": 49,
   "id": "e326d2d9",
   "metadata": {
    "colab": {
     "base_uri": "https://localhost:8080/",
     "height": 299
    },
    "id": "e326d2d9",
    "outputId": "0bf59cc3-5a3a-4ab8-a839-fba1cd654cc7"
   },
   "outputs": [
    {
     "data": {
      "text/html": [
       "<div>\n",
       "<style scoped>\n",
       "    .dataframe tbody tr th:only-of-type {\n",
       "        vertical-align: middle;\n",
       "    }\n",
       "\n",
       "    .dataframe tbody tr th {\n",
       "        vertical-align: top;\n",
       "    }\n",
       "\n",
       "    .dataframe thead th {\n",
       "        text-align: right;\n",
       "    }\n",
       "</style>\n",
       "<table border=\"1\" class=\"dataframe\">\n",
       "  <thead>\n",
       "    <tr style=\"text-align: right;\">\n",
       "      <th></th>\n",
       "      <th>0</th>\n",
       "      <th>1</th>\n",
       "      <th>2</th>\n",
       "      <th>3</th>\n",
       "      <th>4</th>\n",
       "      <th>5</th>\n",
       "      <th>6</th>\n",
       "      <th>7</th>\n",
       "      <th>8</th>\n",
       "      <th>9</th>\n",
       "      <th>...</th>\n",
       "      <th>3591</th>\n",
       "      <th>3592</th>\n",
       "      <th>3593</th>\n",
       "      <th>3594</th>\n",
       "      <th>3595</th>\n",
       "      <th>3596</th>\n",
       "      <th>3597</th>\n",
       "      <th>3598</th>\n",
       "      <th>3599</th>\n",
       "      <th>result</th>\n",
       "    </tr>\n",
       "  </thead>\n",
       "  <tbody>\n",
       "    <tr>\n",
       "      <th>0</th>\n",
       "      <td>0.631889</td>\n",
       "      <td>0.796883</td>\n",
       "      <td>2.432774</td>\n",
       "      <td>2.713614</td>\n",
       "      <td>2.432774</td>\n",
       "      <td>3.205083</td>\n",
       "      <td>2.604788</td>\n",
       "      <td>2.144913</td>\n",
       "      <td>1.351541</td>\n",
       "      <td>1.548129</td>\n",
       "      <td>...</td>\n",
       "      <td>9.786522</td>\n",
       "      <td>10.095647</td>\n",
       "      <td>8.859148</td>\n",
       "      <td>11.226679</td>\n",
       "      <td>14.368840</td>\n",
       "      <td>13.459650</td>\n",
       "      <td>15.685347</td>\n",
       "      <td>15.212569</td>\n",
       "      <td>16.019929</td>\n",
       "      <td>0</td>\n",
       "    </tr>\n",
       "    <tr>\n",
       "      <th>1</th>\n",
       "      <td>0.166043</td>\n",
       "      <td>1.812337</td>\n",
       "      <td>2.094962</td>\n",
       "      <td>1.812337</td>\n",
       "      <td>2.589557</td>\n",
       "      <td>1.985445</td>\n",
       "      <td>1.522645</td>\n",
       "      <td>0.724228</td>\n",
       "      <td>0.922066</td>\n",
       "      <td>1.275348</td>\n",
       "      <td>...</td>\n",
       "      <td>9.655374</td>\n",
       "      <td>8.412820</td>\n",
       "      <td>10.791945</td>\n",
       "      <td>13.949494</td>\n",
       "      <td>13.035851</td>\n",
       "      <td>15.272448</td>\n",
       "      <td>14.797354</td>\n",
       "      <td>15.608669</td>\n",
       "      <td>14.881409</td>\n",
       "      <td>0</td>\n",
       "    </tr>\n",
       "    <tr>\n",
       "      <th>2</th>\n",
       "      <td>1.649032</td>\n",
       "      <td>1.932128</td>\n",
       "      <td>1.649032</td>\n",
       "      <td>2.427545</td>\n",
       "      <td>1.822428</td>\n",
       "      <td>1.358859</td>\n",
       "      <td>0.559114</td>\n",
       "      <td>0.757281</td>\n",
       "      <td>1.111150</td>\n",
       "      <td>3.634240</td>\n",
       "      <td>...</td>\n",
       "      <td>6.874512</td>\n",
       "      <td>9.293597</td>\n",
       "      <td>12.504180</td>\n",
       "      <td>11.575192</td>\n",
       "      <td>13.849355</td>\n",
       "      <td>13.366281</td>\n",
       "      <td>14.191223</td>\n",
       "      <td>13.451748</td>\n",
       "      <td>13.552079</td>\n",
       "      <td>0</td>\n",
       "    </tr>\n",
       "    <tr>\n",
       "      <th>3</th>\n",
       "      <td>0.287842</td>\n",
       "      <td>0.000000</td>\n",
       "      <td>0.791566</td>\n",
       "      <td>0.176303</td>\n",
       "      <td>-0.295038</td>\n",
       "      <td>-1.108193</td>\n",
       "      <td>-0.906703</td>\n",
       "      <td>-0.546900</td>\n",
       "      <td>2.018494</td>\n",
       "      <td>2.993560</td>\n",
       "      <td>...</td>\n",
       "      <td>8.628112</td>\n",
       "      <td>11.862250</td>\n",
       "      <td>10.926446</td>\n",
       "      <td>13.217294</td>\n",
       "      <td>12.730676</td>\n",
       "      <td>13.561669</td>\n",
       "      <td>12.816770</td>\n",
       "      <td>12.917836</td>\n",
       "      <td>12.577204</td>\n",
       "      <td>0</td>\n",
       "    </tr>\n",
       "    <tr>\n",
       "      <th>4</th>\n",
       "      <td>-0.288673</td>\n",
       "      <td>0.505178</td>\n",
       "      <td>-0.111861</td>\n",
       "      <td>-0.584563</td>\n",
       "      <td>-1.400065</td>\n",
       "      <td>-1.197994</td>\n",
       "      <td>-0.837152</td>\n",
       "      <td>1.735648</td>\n",
       "      <td>2.713528</td>\n",
       "      <td>2.248042</td>\n",
       "      <td>...</td>\n",
       "      <td>10.587074</td>\n",
       "      <td>9.637731</td>\n",
       "      <td>11.961722</td>\n",
       "      <td>11.468064</td>\n",
       "      <td>12.311081</td>\n",
       "      <td>11.555404</td>\n",
       "      <td>11.657933</td>\n",
       "      <td>11.312372</td>\n",
       "      <td>10.746563</td>\n",
       "      <td>0</td>\n",
       "    </tr>\n",
       "  </tbody>\n",
       "</table>\n",
       "<p>5 rows × 3601 columns</p>\n",
       "</div>"
      ],
      "text/plain": [
       "          0         1         2         3         4         5         6  \\\n",
       "0  0.631889  0.796883  2.432774  2.713614  2.432774  3.205083  2.604788   \n",
       "1  0.166043  1.812337  2.094962  1.812337  2.589557  1.985445  1.522645   \n",
       "2  1.649032  1.932128  1.649032  2.427545  1.822428  1.358859  0.559114   \n",
       "3  0.287842  0.000000  0.791566  0.176303 -0.295038 -1.108193 -0.906703   \n",
       "4 -0.288673  0.505178 -0.111861 -0.584563 -1.400065 -1.197994 -0.837152   \n",
       "\n",
       "          7         8         9  ...       3591       3592       3593  \\\n",
       "0  2.144913  1.351541  1.548129  ...   9.786522  10.095647   8.859148   \n",
       "1  0.724228  0.922066  1.275348  ...   9.655374   8.412820  10.791945   \n",
       "2  0.757281  1.111150  3.634240  ...   6.874512   9.293597  12.504180   \n",
       "3 -0.546900  2.018494  2.993560  ...   8.628112  11.862250  10.926446   \n",
       "4  1.735648  2.713528  2.248042  ...  10.587074   9.637731  11.961722   \n",
       "\n",
       "        3594       3595       3596       3597       3598       3599  result  \n",
       "0  11.226679  14.368840  13.459650  15.685347  15.212569  16.019929       0  \n",
       "1  13.949494  13.035851  15.272448  14.797354  15.608669  14.881409       0  \n",
       "2  11.575192  13.849355  13.366281  14.191223  13.451748  13.552079       0  \n",
       "3  13.217294  12.730676  13.561669  12.816770  12.917836  12.577204       0  \n",
       "4  11.468064  12.311081  11.555404  11.657933  11.312372  10.746563       0  \n",
       "\n",
       "[5 rows x 3601 columns]"
      ]
     },
     "execution_count": 49,
     "metadata": {},
     "output_type": "execute_result"
    }
   ],
   "source": [
    "df7 = df6.drop(['Close','Xth','Date_Xth'],axis=1)\n",
    "df7.head()"
   ]
  },
  {
   "cell_type": "code",
   "execution_count": 50,
   "id": "0069ff48",
   "metadata": {
    "id": "0069ff48"
   },
   "outputs": [],
   "source": [
    "import pandas as pd\n",
    "from matplotlib import pyplot as plt\n",
    "import numpy as np\n",
    "%matplotlib inline"
   ]
  },
  {
   "cell_type": "code",
   "execution_count": 51,
   "id": "3bee952a",
   "metadata": {
    "id": "3bee952a"
   },
   "outputs": [],
   "source": [
    "X = df7.drop('result',axis='columns')\n",
    "y = df7[\"result\"]\n",
    "\n",
    "from sklearn.model_selection import train_test_split\n",
    "X_train, X_test, y_train, y_test = train_test_split(X,y,test_size=0.2,random_state=5)"
   ]
  },
  {
   "cell_type": "code",
   "execution_count": 52,
   "id": "98a31311",
   "metadata": {
    "colab": {
     "base_uri": "https://localhost:8080/"
    },
    "id": "98a31311",
    "outputId": "3f34572d-8d8a-491d-e6ae-0947ffc38a0e"
   },
   "outputs": [
    {
     "data": {
      "text/plain": [
       "(4971, 3600)"
      ]
     },
     "execution_count": 52,
     "metadata": {},
     "output_type": "execute_result"
    }
   ],
   "source": [
    "X_train.shape"
   ]
  },
  {
   "cell_type": "code",
   "execution_count": 53,
   "id": "338f935c",
   "metadata": {
    "colab": {
     "base_uri": "https://localhost:8080/"
    },
    "id": "338f935c",
    "outputId": "188b129a-7c02-4f86-c67a-ebabbd806989"
   },
   "outputs": [
    {
     "data": {
      "text/plain": [
       "(1243, 3600)"
      ]
     },
     "execution_count": 53,
     "metadata": {},
     "output_type": "execute_result"
    }
   ],
   "source": [
    "X_test.shape"
   ]
  },
  {
   "cell_type": "code",
   "execution_count": 54,
   "id": "ed063454",
   "metadata": {},
   "outputs": [
    {
     "data": {
      "text/plain": [
       "(3600,)"
      ]
     },
     "execution_count": 54,
     "metadata": {},
     "output_type": "execute_result"
    }
   ],
   "source": [
    "X_test.iloc[0].shape"
   ]
  },
  {
   "cell_type": "code",
   "execution_count": 55,
   "id": "LTzxOZpGcERP",
   "metadata": {
    "id": "LTzxOZpGcERP"
   },
   "outputs": [],
   "source": [
    "aess = X_test.shape[1]"
   ]
  },
  {
   "cell_type": "code",
   "execution_count": 56,
   "id": "222e8eff",
   "metadata": {
    "id": "222e8eff"
   },
   "outputs": [],
   "source": [
    "import numpy as np\n",
    "\n",
    "X_train1 = np.asarray(X_train).astype(np.float32)\n",
    "X_test1 = np.asarray(X_test).astype(np.float32)\n",
    "y_train1 = np.asarray(y_train).astype(np.float32)\n",
    "y_test1 = np.asarray(y_test).astype(np.float32)"
   ]
  },
  {
   "cell_type": "code",
   "execution_count": 57,
   "id": "71dfd58f",
   "metadata": {
    "colab": {
     "base_uri": "https://localhost:8080/"
    },
    "id": "71dfd58f",
    "outputId": "f00ac31b-a311-468b-80bf-069d97e12fb6"
   },
   "outputs": [
    {
     "name": "stdout",
     "output_type": "stream",
     "text": [
      "156/156 [==============================] - 29s 156ms/step - loss: 0.2783 - accuracy: 0.9312\n"
     ]
    },
    {
     "data": {
      "text/plain": [
       "<keras.callbacks.History at 0x18b273383d0>"
      ]
     },
     "execution_count": 57,
     "metadata": {},
     "output_type": "execute_result"
    }
   ],
   "source": [
    "import tensorflow as tf\n",
    "from tensorflow import keras\n",
    "\n",
    "\n",
    "model = keras.Sequential([\n",
    "    keras.layers.Dense(aess, input_shape=(aess,), activation='sigmoid'),\n",
    "    keras.layers.Dense(800, activation='relu'),\n",
    "    keras.layers.Dense(240, activation='relu'),\n",
    "    keras.layers.Dense(65, activation='relu'),\n",
    "    keras.layers.Dense(15, activation='relu'),\n",
    "    keras.layers.Dense(1, activation='sigmoid')\n",
    "])\n",
    "\n",
    "# opt = keras.optimizers.Adam(learning_rate=0.01)\n",
    "\n",
    "model.compile(optimizer='adam',\n",
    "              loss='binary_crossentropy',\n",
    "              metrics=['accuracy'])\n",
    "\n",
    "model.fit(X_train1, y_train1, epochs=eps)"
   ]
  },
  {
   "cell_type": "code",
   "execution_count": 58,
   "id": "JnEWToraP2KN",
   "metadata": {
    "colab": {
     "base_uri": "https://localhost:8080/"
    },
    "id": "JnEWToraP2KN",
    "outputId": "c3755ada-40d6-4d9f-d434-0112bb3f7ef9"
   },
   "outputs": [
    {
     "name": "stdout",
     "output_type": "stream",
     "text": [
      "39/39 [==============================] - 1s 24ms/step - loss: 0.2788 - accuracy: 0.9204\n"
     ]
    },
    {
     "data": {
      "text/plain": [
       "[0.2788057327270508, 0.9203540086746216]"
      ]
     },
     "execution_count": 58,
     "metadata": {},
     "output_type": "execute_result"
    }
   ],
   "source": [
    "model.evaluate(X_test1, y_test1)"
   ]
  },
  {
   "cell_type": "code",
   "execution_count": 59,
   "id": "kQTxKoplQpru",
   "metadata": {
    "colab": {
     "base_uri": "https://localhost:8080/"
    },
    "id": "kQTxKoplQpru",
    "outputId": "81c4c0fb-83c0-4245-d07e-1a642154489d"
   },
   "outputs": [
    {
     "name": "stdout",
     "output_type": "stream",
     "text": [
      "39/39 [==============================] - 1s 22ms/step\n"
     ]
    },
    {
     "data": {
      "text/plain": [
       "array([[0.08254546],\n",
       "       [0.12751646],\n",
       "       [0.11009111],\n",
       "       [0.15485305],\n",
       "       [0.07245205]], dtype=float32)"
      ]
     },
     "execution_count": 59,
     "metadata": {},
     "output_type": "execute_result"
    }
   ],
   "source": [
    "yp = model.predict(X_test)\n",
    "yp[:5]"
   ]
  },
  {
   "cell_type": "code",
   "execution_count": 60,
   "id": "dTNySgZmQiJn",
   "metadata": {
    "id": "dTNySgZmQiJn"
   },
   "outputs": [],
   "source": [
    "y_pred = []\n",
    "for element in yp:\n",
    "    if element > 0.5:\n",
    "        y_pred.append(1)\n",
    "    else:\n",
    "        y_pred.append(0)"
   ]
  },
  {
   "cell_type": "code",
   "execution_count": 61,
   "id": "_Pv0vQW_QboG",
   "metadata": {
    "colab": {
     "base_uri": "https://localhost:8080/"
    },
    "id": "_Pv0vQW_QboG",
    "outputId": "b0e60373-32fa-43b8-d28c-a5b6b5692042"
   },
   "outputs": [
    {
     "name": "stdout",
     "output_type": "stream",
     "text": [
      "              precision    recall  f1-score   support\n",
      "\n",
      "         0.0       0.92      1.00      0.96      1144\n",
      "         1.0       0.00      0.00      0.00        99\n",
      "\n",
      "    accuracy                           0.92      1243\n",
      "   macro avg       0.46      0.50      0.48      1243\n",
      "weighted avg       0.85      0.92      0.88      1243\n",
      "\n"
     ]
    },
    {
     "name": "stderr",
     "output_type": "stream",
     "text": [
      "C:\\Users\\abhij\\anaconda3\\lib\\site-packages\\sklearn\\metrics\\_classification.py:1344: UndefinedMetricWarning: Precision and F-score are ill-defined and being set to 0.0 in labels with no predicted samples. Use `zero_division` parameter to control this behavior.\n",
      "  _warn_prf(average, modifier, msg_start, len(result))\n",
      "C:\\Users\\abhij\\anaconda3\\lib\\site-packages\\sklearn\\metrics\\_classification.py:1344: UndefinedMetricWarning: Precision and F-score are ill-defined and being set to 0.0 in labels with no predicted samples. Use `zero_division` parameter to control this behavior.\n",
      "  _warn_prf(average, modifier, msg_start, len(result))\n",
      "C:\\Users\\abhij\\anaconda3\\lib\\site-packages\\sklearn\\metrics\\_classification.py:1344: UndefinedMetricWarning: Precision and F-score are ill-defined and being set to 0.0 in labels with no predicted samples. Use `zero_division` parameter to control this behavior.\n",
      "  _warn_prf(average, modifier, msg_start, len(result))\n"
     ]
    }
   ],
   "source": [
    "from sklearn.metrics import confusion_matrix , classification_report\n",
    "\n",
    "print(classification_report(y_test1,y_pred))"
   ]
  },
  {
   "cell_type": "code",
   "execution_count": 62,
   "id": "KdNpNDi1QweS",
   "metadata": {
    "colab": {
     "base_uri": "https://localhost:8080/",
     "height": 459
    },
    "id": "KdNpNDi1QweS",
    "outputId": "1532d126-8738-43bd-e0c3-cc0c6b096b70",
    "scrolled": true
   },
   "outputs": [
    {
     "data": {
      "text/plain": [
       "Text(95.72222222222221, 0.5, 'Truth')"
      ]
     },
     "execution_count": 62,
     "metadata": {},
     "output_type": "execute_result"
    },
    {
     "data": {
      "image/png": "[encoded data removed]",
      "text/plain": [
       "<Figure size 1000x700 with 2 Axes>"
      ]
     },
     "metadata": {},
     "output_type": "display_data"
    }
   ],
   "source": [
    "import seaborn as sn\n",
    "cm = tf.math.confusion_matrix(labels=y_test1,predictions=y_pred)\n",
    "\n",
    "plt.figure(figsize = (10,7))\n",
    "sn.heatmap(cm, annot=True, fmt='d')\n",
    "plt.xlabel('Predicted')\n",
    "plt.ylabel('Truth')"
   ]
  },
  {
   "cell_type": "code",
   "execution_count": 63,
   "id": "7c45bb3b",
   "metadata": {},
   "outputs": [],
   "source": [
    "import joblib"
   ]
  },
  {
   "cell_type": "code",
   "execution_count": null,
   "id": "ee1ccdb9",
   "metadata": {},
   "outputs": [],
   "source": [
    "#joblib.dump(model, 'model33.pkl')"
   ]
  }
 ],
 "metadata": {
  "colab": {
   "provenance": []
  },
  "kernelspec": {
   "display_name": "Python 3 (ipykernel)",
   "language": "python",
   "name": "python3"
  },
  "language_info": {
   "codemirror_mode": {
    "name": "ipython",
    "version": 3
   },
   "file_extension": ".py",
   "mimetype": "text/x-python",
   "name": "python",
   "nbconvert_exporter": "python",
   "pygments_lexer": "ipython3",
   "version": "3.9.13"
  }
 },
 "nbformat": 4,
 "nbformat_minor": 5
}
