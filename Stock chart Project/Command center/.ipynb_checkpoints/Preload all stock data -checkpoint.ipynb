{
 "cells": [
  {
   "cell_type": "code",
   "execution_count": null,
   "id": "d32a5bcd",
   "metadata": {},
   "outputs": [],
   "source": [
    "from datetime import date, timedelta\n",
    "from nsepy import get_history\n",
    "import pandas as pd\n",
    "import numpy as np\n",
    "\n",
    "# Define the start and end dates\n",
    "end_date = date.today()\n",
    "start_date = end_date - timedelta(days=5)\n",
    "\n",
    "# Get the list of all stocks in Nifty 500\n",
    "nifty_500 = pd.read_csv('https://www1.nseindia.com/content/indices/ind_nifty500list.csv')\n",
    "stocks = nifty_500['Symbol'].values.tolist()\n"
   ]
  },
  {
   "cell_type": "code",
   "execution_count": null,
   "id": "a1e7da2c",
   "metadata": {},
   "outputs": [],
   "source": [
    "\n",
    "# Fetch the stock data for all stocks\n",
    "all_stocks_data = {}\n",
    "for stock in stocks:\n",
    "    try:\n",
    "        stock_data = get_history(symbol=stock,\n",
    "                                 start=start_date,\n",
    "                                 end=end_date)\n",
    "        stock_data['Date'] = stock_data.index\n",
    "        stock_data.index = np.arange(1, len(stock_data.index) + 1)\n",
    "        stock_data = stock_data[['Date','Symbol','Close']]\n",
    "        all_stocks_data[stock] = stock_data\n",
    "        print(f\"Fetched data for {stock}\")\n",
    "    except:\n",
    "        print(f\"Failed to fetch data for {stock}\")\n",
    "\n",
    "# Concatenate all the dataframes into a single dataframe\n",
    "all_stocks_df = pd.concat(all_stocks_data.values(), keys=all_stocks_data.keys())\n",
    "\n",
    "# Print the fetched data\n",
    "print(all_stocks_df)"
   ]
  },
  {
   "cell_type": "code",
   "execution_count": null,
   "id": "1a515a00",
   "metadata": {},
   "outputs": [],
   "source": []
  },
  {
   "cell_type": "code",
   "execution_count": null,
   "id": "f235f5c7",
   "metadata": {},
   "outputs": [],
   "source": []
  },
  {
   "cell_type": "code",
   "execution_count": null,
   "id": "691d5c3e",
   "metadata": {},
   "outputs": [],
   "source": []
  },
  {
   "cell_type": "code",
   "execution_count": null,
   "id": "4f187157",
   "metadata": {},
   "outputs": [],
   "source": [
    "all_stocks_df"
   ]
  },
  {
   "cell_type": "code",
   "execution_count": null,
   "id": "0c73d564",
   "metadata": {},
   "outputs": [],
   "source": [
    "df.to_csv('all_stocks_df.csv', index=False)"
   ]
  }
 ],
 "metadata": {
  "kernelspec": {
   "display_name": "Python 3 (ipykernel)",
   "language": "python",
   "name": "python3"
  },
  "language_info": {
   "codemirror_mode": {
    "name": "ipython",
    "version": 3
   },
   "file_extension": ".py",
   "mimetype": "text/x-python",
   "name": "python",
   "nbconvert_exporter": "python",
   "pygments_lexer": "ipython3",
   "version": "3.9.13"
  }
 },
 "nbformat": 4,
 "nbformat_minor": 5
}
